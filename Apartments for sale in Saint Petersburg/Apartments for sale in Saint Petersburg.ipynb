{
 "cells": [
  {
   "cell_type": "markdown",
   "metadata": {},
   "source": [
    "# Исследование объявлений о продаже квартир\n",
    "\n",
    "В вашем распоряжении данные сервиса Яндекс.Недвижимость — архив объявлений о продаже квартир в Санкт-Петербурге и соседних населённых пунктов за несколько лет. Нужно научиться определять рыночную стоимость объектов недвижимости. Ваша задача — установить параметры. Это позволит построить автоматизированную систему: она отследит аномалии и мошенническую деятельность. \n",
    "\n",
    "По каждой квартире на продажу доступны два вида данных. Первые вписаны пользователем, вторые — получены автоматически на основе картографических данных. Например, расстояние до центра, аэропорта, ближайшего парка и водоёма. "
   ]
  },
  {
   "cell_type": "markdown",
   "metadata": {},
   "source": [
    "### Откройте файл с данными и изучите общую информацию. "
   ]
  },
  {
   "cell_type": "markdown",
   "metadata": {},
   "source": [
    "Загружаю данные, и выгружаю первые 5 строк для начального ознакомления"
   ]
  },
  {
   "cell_type": "code",
   "execution_count": 1,
   "metadata": {
    "scrolled": false
   },
   "outputs": [
    {
     "name": "stdout",
     "output_type": "stream",
     "text": [
      "   total_images  last_price  total_area first_day_exposition  rooms  \\\n",
      "0            20  13000000.0       108.0  2019-03-07T00:00:00      3   \n",
      "1             7   3350000.0        40.4  2018-12-04T00:00:00      1   \n",
      "2            10   5196000.0        56.0  2015-08-20T00:00:00      2   \n",
      "3             0  64900000.0       159.0  2015-07-24T00:00:00      3   \n",
      "4             2  10000000.0       100.0  2018-06-19T00:00:00      2   \n",
      "\n",
      "   ceiling_height  floors_total  living_area  floor is_apartment  ...  \\\n",
      "0            2.70          16.0         51.0      8          NaN  ...   \n",
      "1             NaN          11.0         18.6      1          NaN  ...   \n",
      "2             NaN           5.0         34.3      4          NaN  ...   \n",
      "3             NaN          14.0          NaN      9          NaN  ...   \n",
      "4            3.03          14.0         32.0     13          NaN  ...   \n",
      "\n",
      "   kitchen_area  balcony    locality_name  airports_nearest  \\\n",
      "0          25.0      NaN  Санкт-Петербург           18863.0   \n",
      "1          11.0      2.0   посёлок Шушары           12817.0   \n",
      "2           8.3      0.0  Санкт-Петербург           21741.0   \n",
      "3           NaN      0.0  Санкт-Петербург           28098.0   \n",
      "4          41.0      NaN  Санкт-Петербург           31856.0   \n",
      "\n",
      "  cityCenters_nearest  parks_around3000  parks_nearest  ponds_around3000  \\\n",
      "0             16028.0               1.0          482.0               2.0   \n",
      "1             18603.0               0.0            NaN               0.0   \n",
      "2             13933.0               1.0           90.0               2.0   \n",
      "3              6800.0               2.0           84.0               3.0   \n",
      "4              8098.0               2.0          112.0               1.0   \n",
      "\n",
      "   ponds_nearest  days_exposition  \n",
      "0          755.0              NaN  \n",
      "1            NaN             81.0  \n",
      "2          574.0            558.0  \n",
      "3          234.0            424.0  \n",
      "4           48.0            121.0  \n",
      "\n",
      "[5 rows x 22 columns]\n"
     ]
    }
   ],
   "source": [
    "import pandas as pd\n",
    "import matplotlib.pyplot as plt\n",
    "data=pd.read_csv('/datasets/real_estate_data.csv', sep='\\t')\n",
    "print(data.head())"
   ]
  },
  {
   "cell_type": "markdown",
   "metadata": {},
   "source": [
    "Изучаю общую информацию и строю гистограмму для каждого столбца в таблице"
   ]
  },
  {
   "cell_type": "code",
   "execution_count": 2,
   "metadata": {},
   "outputs": [
    {
     "name": "stdout",
     "output_type": "stream",
     "text": [
      "<class 'pandas.core.frame.DataFrame'>\n",
      "RangeIndex: 23699 entries, 0 to 23698\n",
      "Data columns (total 22 columns):\n",
      " #   Column                Non-Null Count  Dtype  \n",
      "---  ------                --------------  -----  \n",
      " 0   total_images          23699 non-null  int64  \n",
      " 1   last_price            23699 non-null  float64\n",
      " 2   total_area            23699 non-null  float64\n",
      " 3   first_day_exposition  23699 non-null  object \n",
      " 4   rooms                 23699 non-null  int64  \n",
      " 5   ceiling_height        14504 non-null  float64\n",
      " 6   floors_total          23613 non-null  float64\n",
      " 7   living_area           21796 non-null  float64\n",
      " 8   floor                 23699 non-null  int64  \n",
      " 9   is_apartment          2775 non-null   object \n",
      " 10  studio                23699 non-null  bool   \n",
      " 11  open_plan             23699 non-null  bool   \n",
      " 12  kitchen_area          21421 non-null  float64\n",
      " 13  balcony               12180 non-null  float64\n",
      " 14  locality_name         23650 non-null  object \n",
      " 15  airports_nearest      18157 non-null  float64\n",
      " 16  cityCenters_nearest   18180 non-null  float64\n",
      " 17  parks_around3000      18181 non-null  float64\n",
      " 18  parks_nearest         8079 non-null   float64\n",
      " 19  ponds_around3000      18181 non-null  float64\n",
      " 20  ponds_nearest         9110 non-null   float64\n",
      " 21  days_exposition       20518 non-null  float64\n",
      "dtypes: bool(2), float64(14), int64(3), object(3)\n",
      "memory usage: 3.7+ MB\n"
     ]
    },
    {
     "data": {
      "text/plain": [
       "array([[<AxesSubplot:title={'center':'total_images'}>,\n",
       "        <AxesSubplot:title={'center':'last_price'}>,\n",
       "        <AxesSubplot:title={'center':'total_area'}>,\n",
       "        <AxesSubplot:title={'center':'rooms'}>],\n",
       "       [<AxesSubplot:title={'center':'ceiling_height'}>,\n",
       "        <AxesSubplot:title={'center':'floors_total'}>,\n",
       "        <AxesSubplot:title={'center':'living_area'}>,\n",
       "        <AxesSubplot:title={'center':'floor'}>],\n",
       "       [<AxesSubplot:title={'center':'kitchen_area'}>,\n",
       "        <AxesSubplot:title={'center':'balcony'}>,\n",
       "        <AxesSubplot:title={'center':'airports_nearest'}>,\n",
       "        <AxesSubplot:title={'center':'cityCenters_nearest'}>],\n",
       "       [<AxesSubplot:title={'center':'parks_around3000'}>,\n",
       "        <AxesSubplot:title={'center':'parks_nearest'}>,\n",
       "        <AxesSubplot:title={'center':'ponds_around3000'}>,\n",
       "        <AxesSubplot:title={'center':'ponds_nearest'}>],\n",
       "       [<AxesSubplot:title={'center':'days_exposition'}>, <AxesSubplot:>,\n",
       "        <AxesSubplot:>, <AxesSubplot:>]], dtype=object)"
      ]
     },
     "execution_count": 2,
     "metadata": {},
     "output_type": "execute_result"
    },
    {
     "data": {
      "image/png": "[encoded data removed]",
      "text/plain": [
       "<Figure size 1080x1440 with 20 Axes>"
      ]
     },
     "metadata": {
      "needs_background": "light"
     },
     "output_type": "display_data"
    }
   ],
   "source": [
    "data.info()\n",
    "data.hist(figsize=(15,20))"
   ]
  },
  {
   "cell_type": "markdown",
   "metadata": {},
   "source": [
    "### Предобработка данных"
   ]
  },
  {
   "cell_type": "code",
   "execution_count": 3,
   "metadata": {},
   "outputs": [
    {
     "data": {
      "text/plain": [
       "total_images                0\n",
       "last_price                  0\n",
       "total_area                  0\n",
       "first_day_exposition        0\n",
       "rooms                       0\n",
       "ceiling_height           9195\n",
       "floors_total               86\n",
       "living_area              1903\n",
       "floor                       0\n",
       "is_apartment            20924\n",
       "studio                      0\n",
       "open_plan                   0\n",
       "kitchen_area             2278\n",
       "balcony                 11519\n",
       "locality_name              49\n",
       "airports_nearest         5542\n",
       "cityCenters_nearest      5519\n",
       "parks_around3000         5518\n",
       "parks_nearest           15620\n",
       "ponds_around3000         5518\n",
       "ponds_nearest           14589\n",
       "days_exposition          3181\n",
       "dtype: int64"
      ]
     },
     "execution_count": 3,
     "metadata": {},
     "output_type": "execute_result"
    }
   ],
   "source": [
    "data.isna().sum()"
   ]
  },
  {
   "cell_type": "markdown",
   "metadata": {},
   "source": [
    "##### Обрабатываем данные, добавленные пользователем"
   ]
  },
  {
   "cell_type": "markdown",
   "metadata": {},
   "source": [
    "1. Если пользователь не добавил, балкон скорее всего его нет в квартире, заменяю пропуск на 0\n",
    "2. Высоту потолков заменила на медианное значение, как правило это значение от 2х до 3х метров\n",
    "3. Площадь кухни и площадь жилой площаде также заменила на медианное значение\n",
    "4. Апартаменты заменилв  на значение и пропуски заменила на False, скорей всего ежилая недвижимостьсли пользователь не указал что это аппартаменты, значит это "
   ]
  },
  {
   "cell_type": "code",
   "execution_count": 4,
   "metadata": {},
   "outputs": [],
   "source": [
    "data['balcony']=data['balcony'].fillna(0) \n",
    "data['ceiling_height']=data['ceiling_height'].fillna(data['ceiling_height'].median())\n",
    "data['living_area']=data['living_area'].fillna(data['living_area'].median())\n",
    "data['kitchen_area']=data['kitchen_area'].fillna(data['kitchen_area'].median())\n",
    "data['is_apartment']=data['is_apartment'].fillna(False)\n",
    "data['locality_name']=data['locality_name'].fillna('unknown')\n",
    "data['cityCenters_nearest']=data['cityCenters_nearest'].fillna(0)"
   ]
  },
  {
   "cell_type": "markdown",
   "metadata": {},
   "source": [
    "##### Обрабатываем картографические данные"
   ]
  },
  {
   "cell_type": "markdown",
   "metadata": {},
   "source": [
    "1. Для столбца с пропущенными данными до аэропорта сгруппирую по названию населённого пункта и составлю функцию где в пропущенные значения буду добавлять медианные данные. Осталось 5394 пропуска, оставлю остальные не заполненные, так как, по другим параметрам нельзя определить расстояние\n",
    "2. Расстояние до центра города не заполняла поскольку по имеющимся данным мы это оценить не можем\n",
    "3. Число парков и водоёмов в радиусе 3 км заполнила 0, поскольку если эти данные пропущены скорей всего их просто нет\n",
    "4. Пропуски в parks_nearest ponds_nearest оставила, хотя их много, но оценить расстояние до водоёмов и парков по имеющимся данным нельзя\n",
    "5. Пропуски в days_exposition также оставила, так как скорей всего, если объявление не снято значит квартира еще не продана\n"
   ]
  },
  {
   "cell_type": "code",
   "execution_count": 5,
   "metadata": {},
   "outputs": [
    {
     "name": "stdout",
     "output_type": "stream",
     "text": [
      "5386\n"
     ]
    }
   ],
   "source": [
    "airport_median=data.groupby('locality_name')['airports_nearest'].median()\n",
    "for name in data['locality_name'].unique():\n",
    "    data.loc[(data['airports_nearest'].isna())&(data['locality_name']==name), 'airports_nearest']=airport_median[name]\n",
    "print(data['airports_nearest'].isna().sum())"
   ]
  },
  {
   "cell_type": "code",
   "execution_count": 6,
   "metadata": {},
   "outputs": [],
   "source": [
    "data['parks_around3000']=data['parks_around3000'].fillna(0)\n",
    "data['ponds_around3000']=data['ponds_around3000'].fillna(0)\n"
   ]
  },
  {
   "cell_type": "code",
   "execution_count": 7,
   "metadata": {},
   "outputs": [
    {
     "data": {
      "text/plain": [
       "<AxesSubplot:>"
      ]
     },
     "execution_count": 7,
     "metadata": {},
     "output_type": "execute_result"
    },
    {
     "data": {
      "image/png": "[encoded data removed]",
      "text/plain": [
       "<Figure size 432x288 with 1 Axes>"
      ]
     },
     "metadata": {
      "needs_background": "light"
     },
     "output_type": "display_data"
    }
   ],
   "source": [
    "data['first_day_exposition']=pd.to_datetime(data['first_day_exposition'], format='%Y-%m-%dT%H:%M:%S')\n",
    "data['year_exposition']=data['first_day_exposition'].dt.year#добавляем год\n",
    "data.query('days_exposition.isna()')['year_exposition'].hist(bins=100)"
   ]
  },
  {
   "cell_type": "markdown",
   "metadata": {},
   "source": [
    "##### Меняем тип данных где это возможно"
   ]
  },
  {
   "cell_type": "markdown",
   "metadata": {},
   "source": [
    "Поменяла тип данных в столбцах balcony и last_price на вещественный, столбец с датой в дату и время. В остальных столбцах есть пропуски поменять тип не получится. Тип данных поменяли, чтобы потом легче было с ними работать"
   ]
  },
  {
   "cell_type": "code",
   "execution_count": 8,
   "metadata": {},
   "outputs": [],
   "source": [
    "data['balcony']=data['balcony'].astype('int')\n",
    "data['last_price']=data['last_price'].astype('int')\n",
    "data['first_day_exposition']=pd.to_datetime(data['first_day_exposition'], format='%Y-%m-%dT%H:%M:%S')"
   ]
  },
  {
   "cell_type": "markdown",
   "metadata": {},
   "source": [
    "##### Изучаем уникальные значения в названиях городов и приводим всё к одному виду"
   ]
  },
  {
   "cell_type": "code",
   "execution_count": 9,
   "metadata": {},
   "outputs": [],
   "source": [
    "data['locality_name'].duplicated().sum()\n",
    "data['locality_name'].unique()\n",
    "data['locality_name']=data['locality_name'].str.replace('посёлок', 'поселок')\n",
    "data['locality_name']=data['locality_name'].str.replace('городской поселок', 'поселок городского типа')"
   ]
  },
  {
   "cell_type": "markdown",
   "metadata": {},
   "source": [
    "##### Аномалии в столбцах"
   ]
  },
  {
   "cell_type": "code",
   "execution_count": 43,
   "metadata": {},
   "outputs": [
    {
     "data": {
      "text/html": [
       "<div>\n",
       "<style scoped>\n",
       "    .dataframe tbody tr th:only-of-type {\n",
       "        vertical-align: middle;\n",
       "    }\n",
       "\n",
       "    .dataframe tbody tr th {\n",
       "        vertical-align: top;\n",
       "    }\n",
       "\n",
       "    .dataframe thead th {\n",
       "        text-align: right;\n",
       "    }\n",
       "</style>\n",
       "<table border=\"1\" class=\"dataframe\">\n",
       "  <thead>\n",
       "    <tr style=\"text-align: right;\">\n",
       "      <th></th>\n",
       "      <th>total_images</th>\n",
       "      <th>last_price</th>\n",
       "      <th>total_area</th>\n",
       "      <th>first_day_exposition</th>\n",
       "      <th>rooms</th>\n",
       "      <th>ceiling_height</th>\n",
       "      <th>floors_total</th>\n",
       "      <th>living_area</th>\n",
       "      <th>floor</th>\n",
       "      <th>is_apartment</th>\n",
       "      <th>...</th>\n",
       "      <th>year_exposition</th>\n",
       "      <th>square_meter_price</th>\n",
       "      <th>day_of_the_week</th>\n",
       "      <th>month_exposition</th>\n",
       "      <th>type_floor</th>\n",
       "      <th>city_center</th>\n",
       "      <th>month</th>\n",
       "      <th>day</th>\n",
       "      <th>week_day</th>\n",
       "      <th>year</th>\n",
       "    </tr>\n",
       "  </thead>\n",
       "  <tbody>\n",
       "    <tr>\n",
       "      <th>5698</th>\n",
       "      <td>7</td>\n",
       "      <td>450000.0</td>\n",
       "      <td>42.0</td>\n",
       "      <td>2017-07-31</td>\n",
       "      <td>2</td>\n",
       "      <td>2.65</td>\n",
       "      <td>1.0</td>\n",
       "      <td>23.0</td>\n",
       "      <td>1</td>\n",
       "      <td>False</td>\n",
       "      <td>...</td>\n",
       "      <td>2017</td>\n",
       "      <td>10714.285714</td>\n",
       "      <td>0</td>\n",
       "      <td>7</td>\n",
       "      <td>первый</td>\n",
       "      <td>0</td>\n",
       "      <td>7</td>\n",
       "      <td>31</td>\n",
       "      <td>0</td>\n",
       "      <td>2017</td>\n",
       "    </tr>\n",
       "    <tr>\n",
       "      <th>6859</th>\n",
       "      <td>6</td>\n",
       "      <td>490000.0</td>\n",
       "      <td>40.0</td>\n",
       "      <td>2017-12-11</td>\n",
       "      <td>1</td>\n",
       "      <td>2.65</td>\n",
       "      <td>5.0</td>\n",
       "      <td>30.0</td>\n",
       "      <td>3</td>\n",
       "      <td>False</td>\n",
       "      <td>...</td>\n",
       "      <td>2017</td>\n",
       "      <td>12250.000000</td>\n",
       "      <td>0</td>\n",
       "      <td>12</td>\n",
       "      <td>другой</td>\n",
       "      <td>0</td>\n",
       "      <td>12</td>\n",
       "      <td>11</td>\n",
       "      <td>0</td>\n",
       "      <td>2017</td>\n",
       "    </tr>\n",
       "    <tr>\n",
       "      <th>9581</th>\n",
       "      <td>7</td>\n",
       "      <td>450000.0</td>\n",
       "      <td>43.4</td>\n",
       "      <td>2018-08-31</td>\n",
       "      <td>2</td>\n",
       "      <td>2.65</td>\n",
       "      <td>5.0</td>\n",
       "      <td>30.3</td>\n",
       "      <td>3</td>\n",
       "      <td>False</td>\n",
       "      <td>...</td>\n",
       "      <td>2018</td>\n",
       "      <td>10368.663594</td>\n",
       "      <td>4</td>\n",
       "      <td>8</td>\n",
       "      <td>другой</td>\n",
       "      <td>0</td>\n",
       "      <td>8</td>\n",
       "      <td>31</td>\n",
       "      <td>4</td>\n",
       "      <td>2018</td>\n",
       "    </tr>\n",
       "    <tr>\n",
       "      <th>10782</th>\n",
       "      <td>3</td>\n",
       "      <td>490000.0</td>\n",
       "      <td>29.1</td>\n",
       "      <td>2016-05-05</td>\n",
       "      <td>1</td>\n",
       "      <td>2.50</td>\n",
       "      <td>5.0</td>\n",
       "      <td>17.0</td>\n",
       "      <td>5</td>\n",
       "      <td>False</td>\n",
       "      <td>...</td>\n",
       "      <td>2016</td>\n",
       "      <td>16838.487973</td>\n",
       "      <td>3</td>\n",
       "      <td>5</td>\n",
       "      <td>последний</td>\n",
       "      <td>0</td>\n",
       "      <td>5</td>\n",
       "      <td>5</td>\n",
       "      <td>3</td>\n",
       "      <td>2016</td>\n",
       "    </tr>\n",
       "    <tr>\n",
       "      <th>14911</th>\n",
       "      <td>5</td>\n",
       "      <td>430000.0</td>\n",
       "      <td>54.0</td>\n",
       "      <td>2018-06-26</td>\n",
       "      <td>2</td>\n",
       "      <td>2.65</td>\n",
       "      <td>3.0</td>\n",
       "      <td>30.0</td>\n",
       "      <td>3</td>\n",
       "      <td>False</td>\n",
       "      <td>...</td>\n",
       "      <td>2018</td>\n",
       "      <td>7962.962963</td>\n",
       "      <td>1</td>\n",
       "      <td>6</td>\n",
       "      <td>последний</td>\n",
       "      <td>0</td>\n",
       "      <td>6</td>\n",
       "      <td>26</td>\n",
       "      <td>1</td>\n",
       "      <td>2018</td>\n",
       "    </tr>\n",
       "    <tr>\n",
       "      <th>16032</th>\n",
       "      <td>8</td>\n",
       "      <td>480000.0</td>\n",
       "      <td>32.0</td>\n",
       "      <td>2019-01-06</td>\n",
       "      <td>1</td>\n",
       "      <td>2.65</td>\n",
       "      <td>2.0</td>\n",
       "      <td>16.0</td>\n",
       "      <td>1</td>\n",
       "      <td>False</td>\n",
       "      <td>...</td>\n",
       "      <td>2019</td>\n",
       "      <td>15000.000000</td>\n",
       "      <td>6</td>\n",
       "      <td>1</td>\n",
       "      <td>первый</td>\n",
       "      <td>0</td>\n",
       "      <td>1</td>\n",
       "      <td>6</td>\n",
       "      <td>6</td>\n",
       "      <td>2019</td>\n",
       "    </tr>\n",
       "    <tr>\n",
       "      <th>16219</th>\n",
       "      <td>14</td>\n",
       "      <td>450000.0</td>\n",
       "      <td>38.5</td>\n",
       "      <td>2018-07-11</td>\n",
       "      <td>2</td>\n",
       "      <td>2.65</td>\n",
       "      <td>2.0</td>\n",
       "      <td>30.0</td>\n",
       "      <td>1</td>\n",
       "      <td>False</td>\n",
       "      <td>...</td>\n",
       "      <td>2018</td>\n",
       "      <td>11688.311688</td>\n",
       "      <td>2</td>\n",
       "      <td>7</td>\n",
       "      <td>первый</td>\n",
       "      <td>0</td>\n",
       "      <td>7</td>\n",
       "      <td>11</td>\n",
       "      <td>2</td>\n",
       "      <td>2018</td>\n",
       "    </tr>\n",
       "    <tr>\n",
       "      <th>16274</th>\n",
       "      <td>18</td>\n",
       "      <td>440000.0</td>\n",
       "      <td>40.0</td>\n",
       "      <td>2018-07-10</td>\n",
       "      <td>1</td>\n",
       "      <td>2.65</td>\n",
       "      <td>5.0</td>\n",
       "      <td>30.0</td>\n",
       "      <td>1</td>\n",
       "      <td>False</td>\n",
       "      <td>...</td>\n",
       "      <td>2018</td>\n",
       "      <td>11000.000000</td>\n",
       "      <td>1</td>\n",
       "      <td>7</td>\n",
       "      <td>первый</td>\n",
       "      <td>0</td>\n",
       "      <td>7</td>\n",
       "      <td>10</td>\n",
       "      <td>1</td>\n",
       "      <td>2018</td>\n",
       "    </tr>\n",
       "    <tr>\n",
       "      <th>17456</th>\n",
       "      <td>7</td>\n",
       "      <td>430000.0</td>\n",
       "      <td>30.4</td>\n",
       "      <td>2019-04-22</td>\n",
       "      <td>1</td>\n",
       "      <td>2.65</td>\n",
       "      <td>2.0</td>\n",
       "      <td>16.0</td>\n",
       "      <td>1</td>\n",
       "      <td>False</td>\n",
       "      <td>...</td>\n",
       "      <td>2019</td>\n",
       "      <td>14144.736842</td>\n",
       "      <td>0</td>\n",
       "      <td>4</td>\n",
       "      <td>первый</td>\n",
       "      <td>0</td>\n",
       "      <td>4</td>\n",
       "      <td>22</td>\n",
       "      <td>0</td>\n",
       "      <td>2019</td>\n",
       "    </tr>\n",
       "    <tr>\n",
       "      <th>17676</th>\n",
       "      <td>0</td>\n",
       "      <td>450000.0</td>\n",
       "      <td>36.5</td>\n",
       "      <td>2018-02-01</td>\n",
       "      <td>1</td>\n",
       "      <td>2.65</td>\n",
       "      <td>5.0</td>\n",
       "      <td>17.3</td>\n",
       "      <td>4</td>\n",
       "      <td>False</td>\n",
       "      <td>...</td>\n",
       "      <td>2018</td>\n",
       "      <td>12328.767123</td>\n",
       "      <td>3</td>\n",
       "      <td>2</td>\n",
       "      <td>другой</td>\n",
       "      <td>0</td>\n",
       "      <td>2</td>\n",
       "      <td>1</td>\n",
       "      <td>3</td>\n",
       "      <td>2018</td>\n",
       "    </tr>\n",
       "    <tr>\n",
       "      <th>18867</th>\n",
       "      <td>1</td>\n",
       "      <td>470000.0</td>\n",
       "      <td>41.0</td>\n",
       "      <td>2018-02-11</td>\n",
       "      <td>1</td>\n",
       "      <td>2.65</td>\n",
       "      <td>5.0</td>\n",
       "      <td>32.0</td>\n",
       "      <td>3</td>\n",
       "      <td>False</td>\n",
       "      <td>...</td>\n",
       "      <td>2018</td>\n",
       "      <td>11463.414634</td>\n",
       "      <td>6</td>\n",
       "      <td>2</td>\n",
       "      <td>другой</td>\n",
       "      <td>0</td>\n",
       "      <td>2</td>\n",
       "      <td>11</td>\n",
       "      <td>6</td>\n",
       "      <td>2018</td>\n",
       "    </tr>\n",
       "    <tr>\n",
       "      <th>21912</th>\n",
       "      <td>0</td>\n",
       "      <td>470000.0</td>\n",
       "      <td>37.0</td>\n",
       "      <td>2018-02-18</td>\n",
       "      <td>1</td>\n",
       "      <td>2.65</td>\n",
       "      <td>3.0</td>\n",
       "      <td>30.0</td>\n",
       "      <td>3</td>\n",
       "      <td>False</td>\n",
       "      <td>...</td>\n",
       "      <td>2018</td>\n",
       "      <td>12702.702703</td>\n",
       "      <td>6</td>\n",
       "      <td>2</td>\n",
       "      <td>последний</td>\n",
       "      <td>0</td>\n",
       "      <td>2</td>\n",
       "      <td>18</td>\n",
       "      <td>6</td>\n",
       "      <td>2018</td>\n",
       "    </tr>\n",
       "    <tr>\n",
       "      <th>23484</th>\n",
       "      <td>11</td>\n",
       "      <td>470000.0</td>\n",
       "      <td>44.5</td>\n",
       "      <td>2018-07-02</td>\n",
       "      <td>2</td>\n",
       "      <td>2.65</td>\n",
       "      <td>2.0</td>\n",
       "      <td>28.0</td>\n",
       "      <td>2</td>\n",
       "      <td>False</td>\n",
       "      <td>...</td>\n",
       "      <td>2018</td>\n",
       "      <td>10561.797753</td>\n",
       "      <td>0</td>\n",
       "      <td>7</td>\n",
       "      <td>последний</td>\n",
       "      <td>0</td>\n",
       "      <td>7</td>\n",
       "      <td>2</td>\n",
       "      <td>0</td>\n",
       "      <td>2018</td>\n",
       "    </tr>\n",
       "  </tbody>\n",
       "</table>\n",
       "<p>13 rows × 32 columns</p>\n",
       "</div>"
      ],
      "text/plain": [
       "       total_images  last_price  total_area first_day_exposition  rooms  \\\n",
       "5698              7    450000.0        42.0           2017-07-31      2   \n",
       "6859              6    490000.0        40.0           2017-12-11      1   \n",
       "9581              7    450000.0        43.4           2018-08-31      2   \n",
       "10782             3    490000.0        29.1           2016-05-05      1   \n",
       "14911             5    430000.0        54.0           2018-06-26      2   \n",
       "16032             8    480000.0        32.0           2019-01-06      1   \n",
       "16219            14    450000.0        38.5           2018-07-11      2   \n",
       "16274            18    440000.0        40.0           2018-07-10      1   \n",
       "17456             7    430000.0        30.4           2019-04-22      1   \n",
       "17676             0    450000.0        36.5           2018-02-01      1   \n",
       "18867             1    470000.0        41.0           2018-02-11      1   \n",
       "21912             0    470000.0        37.0           2018-02-18      1   \n",
       "23484            11    470000.0        44.5           2018-07-02      2   \n",
       "\n",
       "       ceiling_height  floors_total  living_area  floor  is_apartment  ...  \\\n",
       "5698             2.65           1.0         23.0      1         False  ...   \n",
       "6859             2.65           5.0         30.0      3         False  ...   \n",
       "9581             2.65           5.0         30.3      3         False  ...   \n",
       "10782            2.50           5.0         17.0      5         False  ...   \n",
       "14911            2.65           3.0         30.0      3         False  ...   \n",
       "16032            2.65           2.0         16.0      1         False  ...   \n",
       "16219            2.65           2.0         30.0      1         False  ...   \n",
       "16274            2.65           5.0         30.0      1         False  ...   \n",
       "17456            2.65           2.0         16.0      1         False  ...   \n",
       "17676            2.65           5.0         17.3      4         False  ...   \n",
       "18867            2.65           5.0         32.0      3         False  ...   \n",
       "21912            2.65           3.0         30.0      3         False  ...   \n",
       "23484            2.65           2.0         28.0      2         False  ...   \n",
       "\n",
       "       year_exposition  square_meter_price  day_of_the_week  month_exposition  \\\n",
       "5698              2017        10714.285714                0                 7   \n",
       "6859              2017        12250.000000                0                12   \n",
       "9581              2018        10368.663594                4                 8   \n",
       "10782             2016        16838.487973                3                 5   \n",
       "14911             2018         7962.962963                1                 6   \n",
       "16032             2019        15000.000000                6                 1   \n",
       "16219             2018        11688.311688                2                 7   \n",
       "16274             2018        11000.000000                1                 7   \n",
       "17456             2019        14144.736842                0                 4   \n",
       "17676             2018        12328.767123                3                 2   \n",
       "18867             2018        11463.414634                6                 2   \n",
       "21912             2018        12702.702703                6                 2   \n",
       "23484             2018        10561.797753                0                 7   \n",
       "\n",
       "      type_floor  city_center  month  day  week_day  year  \n",
       "5698      первый            0      7   31         0  2017  \n",
       "6859      другой            0     12   11         0  2017  \n",
       "9581      другой            0      8   31         4  2018  \n",
       "10782  последний            0      5    5         3  2016  \n",
       "14911  последний            0      6   26         1  2018  \n",
       "16032     первый            0      1    6         6  2019  \n",
       "16219     первый            0      7   11         2  2018  \n",
       "16274     первый            0      7   10         1  2018  \n",
       "17456     первый            0      4   22         0  2019  \n",
       "17676     другой            0      2    1         3  2018  \n",
       "18867     другой            0      2   11         6  2018  \n",
       "21912  последний            0      2   18         6  2018  \n",
       "23484  последний            0      7    2         0  2018  \n",
       "\n",
       "[13 rows x 32 columns]"
      ]
     },
     "execution_count": 43,
     "metadata": {},
     "output_type": "execute_result"
    }
   ],
   "source": [
    "data.loc[data['ceiling_height']>=20, 'ceiling_height']=data['ceiling_height']/10\n",
    "data.loc[(data['ceiling_height']>=1)&(data['ceiling_height']<2), 'ceiling_height']=2\n",
    "data.loc[data['last_price']==763000000, 'last_price']=data['last_price']/10\n",
    "data.query('last_price<500000')\n",
    "data.loc[data['last_price']==12190, 'last_price']=data['last_price']*1000"
   ]
  },
  {
   "cell_type": "markdown",
   "metadata": {},
   "source": [
    "Видимые аномалии обработала в столбцах высота потолка и число комнат. Аномальную высоту потолков (больше 20 метров) разделила на 10, так как скорее всего ошиблись при введении данных. Также высота потолка не может быть 1 метр, все эти значения заменила на 2м. Стоимость квартиры 760 000 000 рублей маловероятна(учитывая что квартира с максимальной площадью в 900 кв м стоит практически в два раза дешевле), скорей всего добавили лишний ноль к цене."
   ]
  },
  {
   "cell_type": "markdown",
   "metadata": {},
   "source": [
    "ВЫВОД: Всего у нас 23699 записи. В ходе предобработки данных были выявлены пропущенные значения, часть данных есть возможность заполнить логическими данными(например, число балконов, высоту потолков, жилая площадь, площадь кухни и т.д.). Там где данные нельзя оценить, оставила пропуски, либо заменила на 0(как правило, это картографические данные. Проверила уникальные значения в названиях городов, привела данные к общему виду. Также заменила аномальные значения, где они действительно явные и невозможны в практике. Поменяла тип данных в некоторых столбцах, чтобы привести данные к более корректному виду, и чтобы в дальнейшем было легче их анализировать."
   ]
  },
  {
   "cell_type": "markdown",
   "metadata": {},
   "source": [
    "### Посчитайте и добавьте в таблицу новые столбцы"
   ]
  },
  {
   "cell_type": "code",
   "execution_count": 11,
   "metadata": {},
   "outputs": [],
   "source": [
    "data['square_meter_price']=data['last_price']/data['total_area']\n",
    "data['day_of_the_week']=data['first_day_exposition'].dt.weekday\n",
    "data['month_exposition']=data['first_day_exposition'].dt.month\n",
    "data['year_exposition']=data['first_day_exposition'].dt.year"
   ]
  },
  {
   "cell_type": "code",
   "execution_count": 12,
   "metadata": {},
   "outputs": [],
   "source": [
    "def type_floors(row): \n",
    "    floor=row['floor']\n",
    "    floors_total=row['floors_total']\n",
    "    if floor==1:\n",
    "        return 'первый'\n",
    "    if floor==floors_total:\n",
    "        return 'последний'\n",
    "    return 'другой'\n",
    "data['type_floor']=data.apply(type_floors, axis=1)"
   ]
  },
  {
   "cell_type": "code",
   "execution_count": 13,
   "metadata": {},
   "outputs": [],
   "source": [
    "data['city_center']=data['cityCenters_nearest']/1000 \n",
    "data['city_center']=data['city_center'].astype('int')"
   ]
  },
  {
   "cell_type": "markdown",
   "metadata": {},
   "source": [
    "### Проведите исследовательский анализ данных"
   ]
  },
  {
   "cell_type": "markdown",
   "metadata": {},
   "source": [
    "#### Изучаем данные и строим гистограммы"
   ]
  },
  {
   "cell_type": "code",
   "execution_count": 14,
   "metadata": {},
   "outputs": [
    {
     "data": {
      "image/png": "[encoded data removed]",
      "text/plain": [
       "<Figure size 432x288 with 1 Axes>"
      ]
     },
     "metadata": {
      "needs_background": "light"
     },
     "output_type": "display_data"
    }
   ],
   "source": [
    "data['total_area'].hist(bins=30, legend=True, range=(10, 200))"
   ]
  },
  {
   "cell_type": "markdown",
   "metadata": {},
   "source": [
    "Судя по гистограмме, наибольшее число квартир с полощадью от 30 до 50 метром"
   ]
  },
  {
   "cell_type": "code",
   "execution_count": 15,
   "metadata": {
    "scrolled": true
   },
   "outputs": [
    {
     "data": {
      "image/png": "[encoded data removed]",
      "text/plain": [
       "<Figure size 432x288 with 1 Axes>"
      ]
     },
     "metadata": {
      "needs_background": "light"
     },
     "output_type": "display_data"
    }
   ],
   "source": [
    "data['living_area'].hist(bins=50,legend=True, range=(5, 100))\n",
    "plt.show()"
   ]
  },
  {
   "cell_type": "markdown",
   "metadata": {},
   "source": [
    "Наибольшее значение жилой площади около 30 кв м"
   ]
  },
  {
   "cell_type": "code",
   "execution_count": 16,
   "metadata": {},
   "outputs": [
    {
     "data": {
      "image/png": "[encoded data removed]",
      "text/plain": [
       "<Figure size 432x288 with 1 Axes>"
      ]
     },
     "metadata": {
      "needs_background": "light"
     },
     "output_type": "display_data"
    }
   ],
   "source": [
    "data['kitchen_area'].hist(bins=80,legend=True, range=(3, 60))\n",
    "plt.show()"
   ]
  },
  {
   "cell_type": "markdown",
   "metadata": {},
   "source": [
    "Большинство квартир с площадью кухни около 9 метров"
   ]
  },
  {
   "cell_type": "code",
   "execution_count": 17,
   "metadata": {},
   "outputs": [
    {
     "data": {
      "image/png": "[encoded data removed]",
      "text/plain": [
       "<Figure size 432x288 with 1 Axes>"
      ]
     },
     "metadata": {
      "needs_background": "light"
     },
     "output_type": "display_data"
    }
   ],
   "source": [
    "data['last_price'].hist(bins=30,legend=True, range=(0, 20000000))\n",
    "plt.show()"
   ]
  },
  {
   "cell_type": "markdown",
   "metadata": {},
   "source": [
    "Большинство квартир стоят до 10 млн"
   ]
  },
  {
   "cell_type": "code",
   "execution_count": 18,
   "metadata": {},
   "outputs": [
    {
     "data": {
      "image/png": "[encoded data removed]",
      "text/plain": [
       "<Figure size 432x288 with 1 Axes>"
      ]
     },
     "metadata": {
      "needs_background": "light"
     },
     "output_type": "display_data"
    }
   ],
   "source": [
    "data['rooms'].hist(bins=20,legend=True, range=(0,10))\n",
    "plt.show()"
   ]
  },
  {
   "cell_type": "markdown",
   "metadata": {},
   "source": [
    "Большинство однокомнатных квартир, на втором месте двухкомнатные"
   ]
  },
  {
   "cell_type": "code",
   "execution_count": 19,
   "metadata": {},
   "outputs": [
    {
     "data": {
      "image/png": "[encoded data removed]",
      "text/plain": [
       "<Figure size 432x288 with 1 Axes>"
      ]
     },
     "metadata": {
      "needs_background": "light"
     },
     "output_type": "display_data"
    }
   ],
   "source": [
    "data['ceiling_height'].hist(bins=30, range=(2,4) ,legend=True)\n",
    "plt.show()"
   ]
  },
  {
   "cell_type": "markdown",
   "metadata": {},
   "source": [
    "Большинство квартир с ввысотой потолков 2.6 м"
   ]
  },
  {
   "cell_type": "code",
   "execution_count": 20,
   "metadata": {},
   "outputs": [
    {
     "data": {
      "image/png": "[encoded data removed]",
      "text/plain": [
       "<Figure size 432x288 with 1 Axes>"
      ]
     },
     "metadata": {
      "needs_background": "light"
     },
     "output_type": "display_data"
    }
   ],
   "source": [
    "data['floor'].hist(bins=20, legend=True, range=(1,30))\n",
    "plt.show()"
   ]
  },
  {
   "cell_type": "markdown",
   "metadata": {},
   "source": [
    "Большинство квартир расположены с первого по пятый этаж"
   ]
  },
  {
   "cell_type": "code",
   "execution_count": 21,
   "metadata": {},
   "outputs": [
    {
     "data": {
      "image/png": "[encoded data removed]",
      "text/plain": [
       "<Figure size 432x288 with 1 Axes>"
      ]
     },
     "metadata": {
      "needs_background": "light"
     },
     "output_type": "display_data"
    }
   ],
   "source": [
    "data['type_floor'].hist(legend=True)\n",
    "plt.show()"
   ]
  },
  {
   "cell_type": "markdown",
   "metadata": {},
   "source": [
    "Большинство квартир входят в категорию \"другой\", то есть находятся ни на первом ни на последнем этаже"
   ]
  },
  {
   "cell_type": "code",
   "execution_count": 22,
   "metadata": {},
   "outputs": [
    {
     "data": {
      "image/png": "[encoded data removed]",
      "text/plain": [
       "<Figure size 432x288 with 1 Axes>"
      ]
     },
     "metadata": {
      "needs_background": "light"
     },
     "output_type": "display_data"
    }
   ],
   "source": [
    "data['floors_total'].hist(legend=True, range=(1,40), bins=30)\n",
    "plt.show()"
   ]
  },
  {
   "cell_type": "markdown",
   "metadata": {},
   "source": [
    "Большинство квартир продаются в пятиэтажках"
   ]
  },
  {
   "cell_type": "code",
   "execution_count": 23,
   "metadata": {},
   "outputs": [
    {
     "data": {
      "image/png": "[encoded data removed]",
      "text/plain": [
       "<Figure size 432x288 with 1 Axes>"
      ]
     },
     "metadata": {
      "needs_background": "light"
     },
     "output_type": "display_data"
    }
   ],
   "source": [
    "data['cityCenters_nearest'].hist(legend=True, bins=30, range=(0, 20000))\n",
    "plt.show()"
   ]
  },
  {
   "cell_type": "markdown",
   "metadata": {},
   "source": [
    "Большинство квартир находятся недалеко от центра города"
   ]
  },
  {
   "cell_type": "code",
   "execution_count": 24,
   "metadata": {},
   "outputs": [
    {
     "data": {
      "image/png": "[encoded data removed]",
      "text/plain": [
       "<Figure size 432x288 with 1 Axes>"
      ]
     },
     "metadata": {
      "needs_background": "light"
     },
     "output_type": "display_data"
    }
   ],
   "source": [
    "data['airports_nearest'].hist(legend=True, bins=30, range=(0,60000))\n",
    "plt.show()"
   ]
  },
  {
   "cell_type": "markdown",
   "metadata": {},
   "source": [
    "Большинство квартир находятся на расстоянии 25 км от аэропорта"
   ]
  },
  {
   "cell_type": "code",
   "execution_count": 25,
   "metadata": {},
   "outputs": [
    {
     "data": {
      "image/png": "[encoded data removed]",
      "text/plain": [
       "<Figure size 432x288 with 1 Axes>"
      ]
     },
     "metadata": {
      "needs_background": "light"
     },
     "output_type": "display_data"
    }
   ],
   "source": [
    "data['parks_nearest'].hist(legend=True, bins=30, range=(0, 1000))\n",
    "plt.show()"
   ]
  },
  {
   "cell_type": "markdown",
   "metadata": {},
   "source": [
    "У большинства квартир парк находится в радиусе 500 метров"
   ]
  },
  {
   "cell_type": "code",
   "execution_count": 26,
   "metadata": {},
   "outputs": [
    {
     "data": {
      "image/png": "[encoded data removed]",
      "text/plain": [
       "<Figure size 432x288 with 1 Axes>"
      ]
     },
     "metadata": {
      "needs_background": "light"
     },
     "output_type": "display_data"
    }
   ],
   "source": [
    "data['month'] = data['first_day_exposition'].dt.month\n",
    "data['month'].hist(legend=True, bins=30, range=(1,12))\n",
    "plt.show()"
   ]
  },
  {
   "cell_type": "markdown",
   "metadata": {},
   "source": [
    "Большинство публикаций о продаже в февралеб марте и ноябреб в летние месяце количество публикаций снижается"
   ]
  },
  {
   "cell_type": "code",
   "execution_count": 27,
   "metadata": {},
   "outputs": [
    {
     "data": {
      "image/png": "[encoded data removed]",
      "text/plain": [
       "<Figure size 432x288 with 1 Axes>"
      ]
     },
     "metadata": {
      "needs_background": "light"
     },
     "output_type": "display_data"
    }
   ],
   "source": [
    "data['day']=data['first_day_exposition'].dt.day\n",
    "data['day'].hist(legend=True, range=(1,31), bins=100)\n",
    "plt.show()"
   ]
  },
  {
   "cell_type": "markdown",
   "metadata": {},
   "source": [
    "Большинство публикаций 1го и 10 числа месяца, в остальные дни распределяется в целом равномерно"
   ]
  },
  {
   "cell_type": "markdown",
   "metadata": {},
   "source": [
    "#### Изучаем как быстро продавались квартиры"
   ]
  },
  {
   "cell_type": "code",
   "execution_count": 28,
   "metadata": {},
   "outputs": [
    {
     "data": {
      "image/png": "[encoded data removed]",
      "text/plain": [
       "<Figure size 432x288 with 1 Axes>"
      ]
     },
     "metadata": {
      "needs_background": "light"
     },
     "output_type": "display_data"
    },
    {
     "name": "stdout",
     "output_type": "stream",
     "text": [
      "Среднее по количеству дней продажи: 180.88863436982163\n",
      "Медиана по количеству дней продажи: 95.0\n"
     ]
    }
   ],
   "source": [
    "data['days_exposition'].hist(bins=100, legend=True)\n",
    "plt.show()\n",
    "print('Среднее по количеству дней продажи:' ,data['days_exposition'].mean())\n",
    "print('Медиана по количеству дней продажи:',data['days_exposition'].median())"
   ]
  },
  {
   "cell_type": "markdown",
   "metadata": {},
   "source": [
    "Среднее значение достаточно сильно отличается от медианы, это говорит о том что есть выбросы. Судя по гистограмме, достаточно быстро продаются квартиры в первые 30 дней, а необычно долго квартиры продаются более 1000 дней."
   ]
  },
  {
   "cell_type": "markdown",
   "metadata": {},
   "source": [
    "#### Изучим от чего зависит цена"
   ]
  },
  {
   "cell_type": "code",
   "execution_count": 29,
   "metadata": {
    "scrolled": true
   },
   "outputs": [
    {
     "data": {
      "image/png": "[encoded data removed]",
      "text/plain": [
       "<Figure size 1080x360 with 1 Axes>"
      ]
     },
     "metadata": {
      "needs_background": "light"
     },
     "output_type": "display_data"
    },
    {
     "name": "stdout",
     "output_type": "stream",
     "text": [
      "Корреляция цены от площади: 0.7033616090441033\n"
     ]
    }
   ],
   "source": [
    "(\n",
    "    data.query('total_area<100').\n",
    "    pivot_table(index='total_area', values='last_price').\n",
    "    plot(grid=True, figsize=(15,5), style='o')#зависимость ценыот общей площади\n",
    ")\n",
    "plt.show()\n",
    "print('Корреляция цены от площади:', data['last_price'].corr(data['total_area']))"
   ]
  },
  {
   "cell_type": "code",
   "execution_count": 30,
   "metadata": {},
   "outputs": [
    {
     "data": {
      "image/png": "[encoded data removed]",
      "text/plain": [
       "<Figure size 1080x360 with 1 Axes>"
      ]
     },
     "metadata": {
      "needs_background": "light"
     },
     "output_type": "display_data"
    },
    {
     "name": "stdout",
     "output_type": "stream",
     "text": [
      "Корреляция цены от площади: 0.5748336653570923\n"
     ]
    }
   ],
   "source": [
    "(\n",
    "    data.query('living_area<100').\n",
    "    pivot_table(index='living_area', values='last_price').\n",
    "    plot(grid=True, figsize=(15,5), style='o')\n",
    ")\n",
    "plt.show()\n",
    "print('Корреляция цены от площади:', data['last_price'].corr(data['living_area']))"
   ]
  },
  {
   "cell_type": "code",
   "execution_count": 31,
   "metadata": {},
   "outputs": [
    {
     "data": {
      "image/png": "[encoded data removed]",
      "text/plain": [
       "<Figure size 1080x360 with 1 Axes>"
      ]
     },
     "metadata": {
      "needs_background": "light"
     },
     "output_type": "display_data"
    },
    {
     "name": "stdout",
     "output_type": "stream",
     "text": [
      "Корреляция цены от площади кухни: 0.49360667294147453\n"
     ]
    }
   ],
   "source": [
    "(\n",
    "    data.query('kitchen_area<40').\n",
    "    pivot_table(index='kitchen_area', values='last_price').\n",
    "    plot(grid=True, figsize=(15,5), style='o')\n",
    ")\n",
    "plt.show()\n",
    "print('Корреляция цены от площади кухни:', data['last_price'].corr(data['kitchen_area']))"
   ]
  },
  {
   "cell_type": "code",
   "execution_count": 32,
   "metadata": {},
   "outputs": [
    {
     "data": {
      "image/png": "[encoded data removed]",
      "text/plain": [
       "<Figure size 1080x360 with 1 Axes>"
      ]
     },
     "metadata": {
      "needs_background": "light"
     },
     "output_type": "display_data"
    },
    {
     "name": "stdout",
     "output_type": "stream",
     "text": [
      "Корреляция цены от количества комнат: 0.3931186317944764\n"
     ]
    }
   ],
   "source": [
    "(\n",
    "    data.pivot_table(index='rooms', values='last_price', aggfunc='median').\n",
    "    plot(grid=True, figsize=(15,5), style='o-')\n",
    ")\n",
    "plt.show()\n",
    "print('Корреляция цены от количества комнат:', data['last_price'].corr(data['rooms']))"
   ]
  },
  {
   "cell_type": "code",
   "execution_count": 33,
   "metadata": {},
   "outputs": [
    {
     "data": {
      "image/png": "[encoded data removed]",
      "text/plain": [
       "<Figure size 1080x360 with 1 Axes>"
      ]
     },
     "metadata": {
      "needs_background": "light"
     },
     "output_type": "display_data"
    }
   ],
   "source": [
    "(\n",
    "    data.pivot_table(index='type_floor', values='last_price', aggfunc='median').\n",
    "    plot(grid=True, figsize=(15,5), style='o-')\n",
    ")\n",
    "plt.show()"
   ]
  },
  {
   "cell_type": "code",
   "execution_count": 34,
   "metadata": {},
   "outputs": [
    {
     "data": {
      "image/png": "[encoded data removed]",
      "text/plain": [
       "<Figure size 1080x360 with 1 Axes>"
      ]
     },
     "metadata": {
      "needs_background": "light"
     },
     "output_type": "display_data"
    },
    {
     "name": "stdout",
     "output_type": "stream",
     "text": [
      "Корреляция цены от дня недели размещения объявления: 0.005261583666448787\n"
     ]
    }
   ],
   "source": [
    "data['week_day']=data['first_day_exposition'].dt.weekday\n",
    "(\n",
    "    data.pivot_table(index='week_day', values='last_price', aggfunc='median').\n",
    "    plot(grid=True, figsize=(15,5), style='o-')\n",
    ")\n",
    "plt.show()\n",
    "print('Корреляция цены от дня недели размещения объявления:', data['last_price'].corr(data['day']))"
   ]
  },
  {
   "cell_type": "code",
   "execution_count": 35,
   "metadata": {},
   "outputs": [
    {
     "data": {
      "image/png": "[encoded data removed]",
      "text/plain": [
       "<Figure size 1080x360 with 1 Axes>"
      ]
     },
     "metadata": {
      "needs_background": "light"
     },
     "output_type": "display_data"
    },
    {
     "name": "stdout",
     "output_type": "stream",
     "text": [
      "Корреляция цены от месяца публикации: 0.0008924353778632499\n"
     ]
    }
   ],
   "source": [
    "\n",
    "(\n",
    "    data.pivot_table(index='month', values='last_price', aggfunc='median').\n",
    "    plot(grid=True, figsize=(15,5), style='o-')\n",
    ")\n",
    "plt.show()\n",
    "print('Корреляция цены от месяца публикации:', data['last_price'].corr(data['month']))"
   ]
  },
  {
   "cell_type": "code",
   "execution_count": 36,
   "metadata": {},
   "outputs": [
    {
     "data": {
      "image/png": "[encoded data removed]",
      "text/plain": [
       "<Figure size 1080x360 with 1 Axes>"
      ]
     },
     "metadata": {
      "needs_background": "light"
     },
     "output_type": "display_data"
    },
    {
     "name": "stdout",
     "output_type": "stream",
     "text": [
      "Корреляция цены от года публикации: -0.047183205985824296\n"
     ]
    }
   ],
   "source": [
    "data['year']=data['first_day_exposition'].dt.year\n",
    "(\n",
    "    data.pivot_table(index='year', values='last_price', aggfunc='median').\n",
    "    plot(grid=True, figsize=(15,5), style='o-')\n",
    ")\n",
    "plt.show()\n",
    "print('Корреляция цены от года публикации:', data['last_price'].corr(data['year']))"
   ]
  },
  {
   "cell_type": "markdown",
   "metadata": {},
   "source": [
    "ВЫВОД: Больше всего на цену влияет общая площадб квартиры(тем больше площадь-выше цена), влияют на цену также площадь кухни и жилая площадь, но меньше чем общая. Количество комнат также влияют на цену квартиры. В мае и июне цена снижается,в июне самые низкие цены в разресе всего года. Также с середины недели цена начинает падать к выходным.Интересная зависимость от года- с 2014 года цена стала падать влоть до 2018 года"
   ]
  },
  {
   "cell_type": "markdown",
   "metadata": {},
   "source": [
    "#### Среднее стоимость квадратного метра в 10 населённых пунктах с наибольшим количеством объявлений"
   ]
  },
  {
   "cell_type": "code",
   "execution_count": 37,
   "metadata": {},
   "outputs": [
    {
     "data": {
      "text/html": [
       "<div>\n",
       "<style scoped>\n",
       "    .dataframe tbody tr th:only-of-type {\n",
       "        vertical-align: middle;\n",
       "    }\n",
       "\n",
       "    .dataframe tbody tr th {\n",
       "        vertical-align: top;\n",
       "    }\n",
       "\n",
       "    .dataframe thead th {\n",
       "        text-align: right;\n",
       "    }\n",
       "</style>\n",
       "<table border=\"1\" class=\"dataframe\">\n",
       "  <thead>\n",
       "    <tr style=\"text-align: right;\">\n",
       "      <th></th>\n",
       "      <th>Количество</th>\n",
       "      <th>Стоимость одного квадратного метра</th>\n",
       "    </tr>\n",
       "    <tr>\n",
       "      <th>locality_name</th>\n",
       "      <th></th>\n",
       "      <th></th>\n",
       "    </tr>\n",
       "  </thead>\n",
       "  <tbody>\n",
       "    <tr>\n",
       "      <th>Всеволожск</th>\n",
       "      <td>398</td>\n",
       "      <td>68654.473986</td>\n",
       "    </tr>\n",
       "    <tr>\n",
       "      <th>Выборг</th>\n",
       "      <td>237</td>\n",
       "      <td>58141.909153</td>\n",
       "    </tr>\n",
       "    <tr>\n",
       "      <th>Гатчина</th>\n",
       "      <td>307</td>\n",
       "      <td>68746.146763</td>\n",
       "    </tr>\n",
       "    <tr>\n",
       "      <th>Колпино</th>\n",
       "      <td>338</td>\n",
       "      <td>75424.579098</td>\n",
       "    </tr>\n",
       "    <tr>\n",
       "      <th>Пушкин</th>\n",
       "      <td>369</td>\n",
       "      <td>103125.819291</td>\n",
       "    </tr>\n",
       "    <tr>\n",
       "      <th>Санкт-Петербург</th>\n",
       "      <td>15721</td>\n",
       "      <td>114739.807725</td>\n",
       "    </tr>\n",
       "    <tr>\n",
       "      <th>деревня Кудрово</th>\n",
       "      <td>299</td>\n",
       "      <td>92473.547576</td>\n",
       "    </tr>\n",
       "    <tr>\n",
       "      <th>поселок Мурино</th>\n",
       "      <td>556</td>\n",
       "      <td>85681.762601</td>\n",
       "    </tr>\n",
       "    <tr>\n",
       "      <th>поселок Парголово</th>\n",
       "      <td>327</td>\n",
       "      <td>90175.913458</td>\n",
       "    </tr>\n",
       "    <tr>\n",
       "      <th>поселок Шушары</th>\n",
       "      <td>440</td>\n",
       "      <td>78677.364217</td>\n",
       "    </tr>\n",
       "  </tbody>\n",
       "</table>\n",
       "</div>"
      ],
      "text/plain": [
       "                   Количество  Стоимость одного квадратного метра\n",
       "locality_name                                                    \n",
       "Всеволожск                398                        68654.473986\n",
       "Выборг                    237                        58141.909153\n",
       "Гатчина                   307                        68746.146763\n",
       "Колпино                   338                        75424.579098\n",
       "Пушкин                    369                       103125.819291\n",
       "Санкт-Петербург         15721                       114739.807725\n",
       "деревня Кудрово           299                        92473.547576\n",
       "поселок Мурино            556                        85681.762601\n",
       "поселок Парголово         327                        90175.913458\n",
       "поселок Шушары            440                        78677.364217"
      ]
     },
     "execution_count": 37,
     "metadata": {},
     "output_type": "execute_result"
    }
   ],
   "source": [
    "locality_name_pivot=data.pivot_table(index='locality_name', values='square_meter_price', aggfunc=['count', 'mean'])\n",
    "locality_name_pivot.columns=['Количество', 'Стоимость одного квадратного метра']\n",
    "locality_name_pivot.query('Количество>201')"
   ]
  },
  {
   "cell_type": "markdown",
   "metadata": {},
   "source": [
    "Самая высокая стоимость квадратного метра в Санкт-Петербурге, самая низкая в Выборге"
   ]
  },
  {
   "cell_type": "markdown",
   "metadata": {},
   "source": [
    "#### Вычисляем среднюю цену каждого километра"
   ]
  },
  {
   "cell_type": "code",
   "execution_count": 38,
   "metadata": {},
   "outputs": [
    {
     "data": {
      "image/png": "[encoded data removed]",
      "text/plain": [
       "<Figure size 1080x360 with 1 Axes>"
      ]
     },
     "metadata": {
      "needs_background": "light"
     },
     "output_type": "display_data"
    }
   ],
   "source": [
    "(\n",
    "    data.query('locality_name==\"Санкт-Петербург\"').\n",
    "    pivot_table(index='city_center', values='last_price').\n",
    "    plot(grid=True,style='o-', figsize=(15,5))\n",
    ")\n",
    "plt.show()"
   ]
  },
  {
   "cell_type": "markdown",
   "metadata": {},
   "source": [
    "В центре города самые дорогие квартиры, на расстоянии 5 км от центра, цены резко начинают падать"
   ]
  },
  {
   "cell_type": "markdown",
   "metadata": {},
   "source": [
    "Чем дальше от центра, тем ниже стоимость квартиры"
   ]
  },
  {
   "cell_type": "markdown",
   "metadata": {},
   "source": [
    "### Общий вывод"
   ]
  },
  {
   "cell_type": "markdown",
   "metadata": {},
   "source": [
    "1. В среднем квартира продаётся за 95 дней, самые дорогие квартиры в Санкт-Петербурге(причем цена зависит от удаленности от центра, чем дальше-дешевле), самые дешевые квартиры в Выборге.\n",
    "2. На цену квартиры в первую очередь влияет площадь квартиры, чуть меньше на цену влияет площадь кухни и жилая площадь. Квартиры на первом и последнем этажах гораздо дешевле, чем на остальных этажах. Дороже выкладываются объявления в зимние месяцы(исключение-январь), в летние месяцы цены падают. \n",
    "3. С 2014 года цены стали резко падать до 2017 года, затем цены стали опять расти\n",
    "4. Что касаетсяСанкт-Петербурга, то ожидаемо, что самые дорогие квартиры в центре города, за 5 км от центра цены стали резко падать"
   ]
  }
 ],
 "metadata": {
  "ExecuteTimeLog": [
   {
    "duration": 663,
    "start_time": "2022-09-27T11:50:41.895Z"
   },
   {
    "duration": 44,
    "start_time": "2022-09-27T11:50:58.449Z"
   },
   {
    "duration": 141,
    "start_time": "2022-09-27T11:51:17.704Z"
   },
   {
    "duration": 127,
    "start_time": "2022-09-27T11:51:30.500Z"
   },
   {
    "duration": 2638,
    "start_time": "2022-09-27T11:55:06.778Z"
   },
   {
    "duration": 2338,
    "start_time": "2022-09-27T11:56:45.164Z"
   },
   {
    "duration": 2157,
    "start_time": "2022-09-27T11:57:12.167Z"
   },
   {
    "duration": 27,
    "start_time": "2022-09-27T12:18:17.900Z"
   },
   {
    "duration": 10,
    "start_time": "2022-09-27T12:18:33.004Z"
   },
   {
    "duration": 52,
    "start_time": "2022-09-28T15:35:57.922Z"
   },
   {
    "duration": 6,
    "start_time": "2022-09-28T15:36:26.083Z"
   },
   {
    "duration": 3334,
    "start_time": "2022-09-28T15:36:38.229Z"
   },
   {
    "duration": 13,
    "start_time": "2022-09-28T15:36:41.566Z"
   },
   {
    "duration": 10,
    "start_time": "2022-09-28T15:37:29.891Z"
   },
   {
    "duration": 38,
    "start_time": "2022-09-28T15:39:04.944Z"
   },
   {
    "duration": 10,
    "start_time": "2022-09-28T15:39:26.896Z"
   },
   {
    "duration": 10,
    "start_time": "2022-09-28T15:39:34.743Z"
   },
   {
    "duration": 11,
    "start_time": "2022-09-28T15:59:41.974Z"
   },
   {
    "duration": 41,
    "start_time": "2022-09-28T15:59:45.241Z"
   },
   {
    "duration": 11,
    "start_time": "2022-09-28T16:04:45.570Z"
   },
   {
    "duration": 2449,
    "start_time": "2022-09-28T16:05:08.634Z"
   },
   {
    "duration": 14,
    "start_time": "2022-09-28T16:05:11.085Z"
   },
   {
    "duration": 10,
    "start_time": "2022-09-28T16:05:47.485Z"
   },
   {
    "duration": 20,
    "start_time": "2022-09-28T16:07:58.397Z"
   },
   {
    "duration": 9,
    "start_time": "2022-09-28T16:08:34.242Z"
   },
   {
    "duration": 11,
    "start_time": "2022-09-28T16:08:38.950Z"
   },
   {
    "duration": 14,
    "start_time": "2022-09-28T16:09:00.859Z"
   },
   {
    "duration": 16,
    "start_time": "2022-09-28T16:57:50.900Z"
   },
   {
    "duration": 18,
    "start_time": "2022-09-28T16:58:03.913Z"
   },
   {
    "duration": 22,
    "start_time": "2022-09-28T16:58:18.862Z"
   },
   {
    "duration": 13,
    "start_time": "2022-09-28T17:02:31.477Z"
   },
   {
    "duration": 674,
    "start_time": "2022-10-01T16:11:11.973Z"
   },
   {
    "duration": 2287,
    "start_time": "2022-10-01T16:12:55.972Z"
   },
   {
    "duration": 12,
    "start_time": "2022-10-01T16:26:57.733Z"
   },
   {
    "duration": 10,
    "start_time": "2022-10-01T16:27:13.923Z"
   },
   {
    "duration": 100,
    "start_time": "2022-10-01T16:27:22.537Z"
   },
   {
    "duration": 1792,
    "start_time": "2022-10-01T16:27:22.639Z"
   },
   {
    "duration": 14,
    "start_time": "2022-10-01T16:27:24.432Z"
   },
   {
    "duration": 10,
    "start_time": "2022-10-01T16:28:18.513Z"
   },
   {
    "duration": 10,
    "start_time": "2022-10-01T16:28:33.211Z"
   },
   {
    "duration": 45,
    "start_time": "2022-10-01T19:37:40.576Z"
   },
   {
    "duration": 658,
    "start_time": "2022-10-01T19:37:54.958Z"
   },
   {
    "duration": 2105,
    "start_time": "2022-10-01T19:37:55.618Z"
   },
   {
    "duration": 40,
    "start_time": "2022-10-01T19:37:57.725Z"
   },
   {
    "duration": 16,
    "start_time": "2022-10-01T19:39:37.084Z"
   },
   {
    "duration": 15,
    "start_time": "2022-10-01T19:43:45.288Z"
   },
   {
    "duration": 12,
    "start_time": "2022-10-01T19:52:40.652Z"
   },
   {
    "duration": 12,
    "start_time": "2022-10-01T19:53:15.881Z"
   },
   {
    "duration": 12,
    "start_time": "2022-10-01T19:53:36.645Z"
   },
   {
    "duration": 13,
    "start_time": "2022-10-01T19:54:21.114Z"
   },
   {
    "duration": 15,
    "start_time": "2022-10-01T19:55:55.288Z"
   },
   {
    "duration": 19,
    "start_time": "2022-10-01T20:00:00.141Z"
   },
   {
    "duration": 45,
    "start_time": "2022-10-01T20:00:47.319Z"
   },
   {
    "duration": 16,
    "start_time": "2022-10-01T20:01:00.132Z"
   },
   {
    "duration": 24,
    "start_time": "2022-10-01T20:06:16.717Z"
   },
   {
    "duration": 13,
    "start_time": "2022-10-01T20:07:18.913Z"
   },
   {
    "duration": 13,
    "start_time": "2022-10-01T20:07:37.488Z"
   },
   {
    "duration": 13,
    "start_time": "2022-10-01T20:07:49.446Z"
   },
   {
    "duration": 16,
    "start_time": "2022-10-01T20:08:47.076Z"
   },
   {
    "duration": 101,
    "start_time": "2022-10-01T20:15:38.285Z"
   },
   {
    "duration": 1851,
    "start_time": "2022-10-01T20:15:38.388Z"
   },
   {
    "duration": 14,
    "start_time": "2022-10-01T20:15:40.241Z"
   },
   {
    "duration": 15,
    "start_time": "2022-10-01T20:17:08.768Z"
   },
   {
    "duration": 13,
    "start_time": "2022-10-01T20:17:19.960Z"
   },
   {
    "duration": 12,
    "start_time": "2022-10-01T20:17:47.696Z"
   },
   {
    "duration": 99,
    "start_time": "2022-10-01T20:17:52.666Z"
   },
   {
    "duration": 2009,
    "start_time": "2022-10-01T20:17:52.767Z"
   },
   {
    "duration": 34,
    "start_time": "2022-10-01T20:17:54.778Z"
   },
   {
    "duration": 13,
    "start_time": "2022-10-01T20:18:34.754Z"
   },
   {
    "duration": 12,
    "start_time": "2022-10-01T20:18:46.334Z"
   },
   {
    "duration": 89,
    "start_time": "2022-10-01T20:34:14.615Z"
   },
   {
    "duration": 1714,
    "start_time": "2022-10-01T20:34:14.706Z"
   },
   {
    "duration": 14,
    "start_time": "2022-10-01T20:34:16.422Z"
   },
   {
    "duration": 87,
    "start_time": "2022-10-01T20:36:03.579Z"
   },
   {
    "duration": 1974,
    "start_time": "2022-10-01T20:36:03.668Z"
   },
   {
    "duration": 15,
    "start_time": "2022-10-01T20:36:05.643Z"
   },
   {
    "duration": 12,
    "start_time": "2022-10-01T20:36:35.659Z"
   },
   {
    "duration": 13,
    "start_time": "2022-10-01T20:36:55.759Z"
   },
   {
    "duration": 12,
    "start_time": "2022-10-01T20:37:00.902Z"
   },
   {
    "duration": 14,
    "start_time": "2022-10-01T20:37:34.097Z"
   },
   {
    "duration": 99,
    "start_time": "2022-10-01T20:37:51.585Z"
   },
   {
    "duration": 1905,
    "start_time": "2022-10-01T20:37:51.687Z"
   },
   {
    "duration": 18,
    "start_time": "2022-10-01T20:37:53.594Z"
   },
   {
    "duration": 12,
    "start_time": "2022-10-01T20:48:12.219Z"
   },
   {
    "duration": 12,
    "start_time": "2022-10-01T20:48:28.878Z"
   },
   {
    "duration": 14,
    "start_time": "2022-10-01T20:48:46.409Z"
   },
   {
    "duration": 94,
    "start_time": "2022-10-01T20:48:53.497Z"
   },
   {
    "duration": 1771,
    "start_time": "2022-10-01T20:48:53.593Z"
   },
   {
    "duration": 15,
    "start_time": "2022-10-01T20:48:55.365Z"
   },
   {
    "duration": 13,
    "start_time": "2022-10-01T20:49:45.921Z"
   },
   {
    "duration": 12,
    "start_time": "2022-10-01T20:50:16.619Z"
   },
   {
    "duration": 88,
    "start_time": "2022-10-01T20:50:22.230Z"
   },
   {
    "duration": 1932,
    "start_time": "2022-10-01T20:50:22.320Z"
   },
   {
    "duration": 15,
    "start_time": "2022-10-01T20:50:24.254Z"
   },
   {
    "duration": 13,
    "start_time": "2022-10-01T20:51:04.008Z"
   },
   {
    "duration": 97,
    "start_time": "2022-10-01T20:52:59.262Z"
   },
   {
    "duration": 1716,
    "start_time": "2022-10-01T20:52:59.361Z"
   },
   {
    "duration": 22,
    "start_time": "2022-10-01T20:53:01.078Z"
   },
   {
    "duration": 10,
    "start_time": "2022-10-01T21:00:37.077Z"
   },
   {
    "duration": 88,
    "start_time": "2022-10-01T21:02:12.813Z"
   },
   {
    "duration": 1994,
    "start_time": "2022-10-01T21:02:12.902Z"
   },
   {
    "duration": 10,
    "start_time": "2022-10-01T21:02:14.899Z"
   },
   {
    "duration": 11,
    "start_time": "2022-10-01T21:02:14.911Z"
   },
   {
    "duration": 93,
    "start_time": "2022-10-01T21:02:52.549Z"
   },
   {
    "duration": 1750,
    "start_time": "2022-10-01T21:02:52.644Z"
   },
   {
    "duration": 9,
    "start_time": "2022-10-01T21:02:54.401Z"
   },
   {
    "duration": 21,
    "start_time": "2022-10-01T21:02:54.412Z"
   },
   {
    "duration": 95,
    "start_time": "2022-10-01T21:08:10.289Z"
   },
   {
    "duration": 2058,
    "start_time": "2022-10-01T21:08:10.386Z"
   },
   {
    "duration": 8,
    "start_time": "2022-10-01T21:08:12.446Z"
   },
   {
    "duration": 51,
    "start_time": "2022-10-01T21:08:12.456Z"
   },
   {
    "duration": 0,
    "start_time": "2022-10-01T21:08:12.508Z"
   },
   {
    "duration": 86,
    "start_time": "2022-10-01T21:08:37.023Z"
   },
   {
    "duration": 1723,
    "start_time": "2022-10-01T21:08:37.111Z"
   },
   {
    "duration": 9,
    "start_time": "2022-10-01T21:08:38.835Z"
   },
   {
    "duration": 11,
    "start_time": "2022-10-01T21:08:38.846Z"
   },
   {
    "duration": 90,
    "start_time": "2022-10-01T21:24:19.468Z"
   },
   {
    "duration": 1650,
    "start_time": "2022-10-01T21:24:19.560Z"
   },
   {
    "duration": 8,
    "start_time": "2022-10-01T21:24:21.211Z"
   },
   {
    "duration": 11,
    "start_time": "2022-10-01T21:24:21.220Z"
   },
   {
    "duration": 10,
    "start_time": "2022-10-01T21:24:21.232Z"
   },
   {
    "duration": 12,
    "start_time": "2022-10-01T21:25:13.202Z"
   },
   {
    "duration": 972,
    "start_time": "2022-10-01T21:26:22.628Z"
   },
   {
    "duration": 625,
    "start_time": "2022-10-01T21:28:18.626Z"
   },
   {
    "duration": 634,
    "start_time": "2022-10-01T21:28:50.192Z"
   },
   {
    "duration": 94,
    "start_time": "2022-10-01T21:57:29.842Z"
   },
   {
    "duration": 2096,
    "start_time": "2022-10-01T21:57:29.938Z"
   },
   {
    "duration": 10,
    "start_time": "2022-10-01T21:57:32.036Z"
   },
   {
    "duration": 16,
    "start_time": "2022-10-01T21:57:32.048Z"
   },
   {
    "duration": 680,
    "start_time": "2022-10-01T21:57:32.067Z"
   },
   {
    "duration": 87,
    "start_time": "2022-10-01T21:58:10.036Z"
   },
   {
    "duration": 1664,
    "start_time": "2022-10-01T21:58:10.125Z"
   },
   {
    "duration": 14,
    "start_time": "2022-10-01T21:58:11.790Z"
   },
   {
    "duration": 11,
    "start_time": "2022-10-01T21:58:11.806Z"
   },
   {
    "duration": 596,
    "start_time": "2022-10-01T21:58:11.819Z"
   },
   {
    "duration": 86,
    "start_time": "2022-10-01T21:58:19.868Z"
   },
   {
    "duration": 1675,
    "start_time": "2022-10-01T21:58:19.956Z"
   },
   {
    "duration": 9,
    "start_time": "2022-10-01T21:58:21.632Z"
   },
   {
    "duration": 12,
    "start_time": "2022-10-01T21:58:21.642Z"
   },
   {
    "duration": 623,
    "start_time": "2022-10-01T21:58:21.655Z"
   },
   {
    "duration": 629,
    "start_time": "2022-10-01T21:59:00.892Z"
   },
   {
    "duration": 738,
    "start_time": "2022-10-04T15:33:36.337Z"
   },
   {
    "duration": 2443,
    "start_time": "2022-10-04T15:33:37.077Z"
   },
   {
    "duration": 11,
    "start_time": "2022-10-04T15:33:39.521Z"
   },
   {
    "duration": 17,
    "start_time": "2022-10-04T15:33:39.533Z"
   },
   {
    "duration": 699,
    "start_time": "2022-10-04T15:33:39.552Z"
   },
   {
    "duration": 987,
    "start_time": "2022-10-04T15:33:40.253Z"
   },
   {
    "duration": 11,
    "start_time": "2022-10-04T15:33:56.230Z"
   },
   {
    "duration": 5,
    "start_time": "2022-10-04T15:43:17.551Z"
   },
   {
    "duration": 26,
    "start_time": "2022-10-04T16:06:10.941Z"
   },
   {
    "duration": 15,
    "start_time": "2022-10-04T16:06:43.482Z"
   },
   {
    "duration": 4,
    "start_time": "2022-10-04T16:07:09.243Z"
   },
   {
    "duration": 23,
    "start_time": "2022-10-04T16:07:17.451Z"
   },
   {
    "duration": 20,
    "start_time": "2022-10-04T16:07:45.022Z"
   },
   {
    "duration": 173,
    "start_time": "2022-10-04T16:19:23.993Z"
   },
   {
    "duration": 56,
    "start_time": "2022-10-04T16:19:50.853Z"
   },
   {
    "duration": 151,
    "start_time": "2022-10-04T16:20:37.132Z"
   },
   {
    "duration": 65,
    "start_time": "2022-10-04T16:21:03.090Z"
   },
   {
    "duration": 47,
    "start_time": "2022-10-04T16:21:45.430Z"
   },
   {
    "duration": 27,
    "start_time": "2022-10-04T16:26:29.870Z"
   },
   {
    "duration": 13,
    "start_time": "2022-10-04T16:32:02.616Z"
   },
   {
    "duration": 6,
    "start_time": "2022-10-04T16:37:05.993Z"
   },
   {
    "duration": 21,
    "start_time": "2022-10-04T16:42:31.823Z"
   },
   {
    "duration": 6,
    "start_time": "2022-10-04T16:42:55.297Z"
   },
   {
    "duration": 8,
    "start_time": "2022-10-04T16:43:24.761Z"
   },
   {
    "duration": 18,
    "start_time": "2022-10-04T16:54:02.081Z"
   },
   {
    "duration": 8,
    "start_time": "2022-10-04T16:54:28.353Z"
   },
   {
    "duration": 23,
    "start_time": "2022-10-04T17:08:20.012Z"
   },
   {
    "duration": 39,
    "start_time": "2022-10-04T17:19:19.103Z"
   },
   {
    "duration": 31,
    "start_time": "2022-10-04T17:26:26.748Z"
   },
   {
    "duration": 10,
    "start_time": "2022-10-04T17:28:12.546Z"
   },
   {
    "duration": 5,
    "start_time": "2022-10-04T17:28:41.311Z"
   },
   {
    "duration": 7,
    "start_time": "2022-10-04T17:28:45.803Z"
   },
   {
    "duration": 6,
    "start_time": "2022-10-04T17:29:00.504Z"
   },
   {
    "duration": 10,
    "start_time": "2022-10-04T17:39:14.139Z"
   },
   {
    "duration": 9,
    "start_time": "2022-10-04T17:39:30.017Z"
   },
   {
    "duration": 7,
    "start_time": "2022-10-04T17:42:25.977Z"
   },
   {
    "duration": 12,
    "start_time": "2022-10-04T17:43:06.828Z"
   },
   {
    "duration": 9,
    "start_time": "2022-10-04T17:43:19.984Z"
   },
   {
    "duration": 7,
    "start_time": "2022-10-04T17:44:23.011Z"
   },
   {
    "duration": 7,
    "start_time": "2022-10-04T17:45:44.578Z"
   },
   {
    "duration": 12,
    "start_time": "2022-10-04T17:46:31.035Z"
   },
   {
    "duration": 4,
    "start_time": "2022-10-04T17:49:03.167Z"
   },
   {
    "duration": 7,
    "start_time": "2022-10-04T17:50:31.616Z"
   },
   {
    "duration": 4,
    "start_time": "2022-10-04T17:54:17.602Z"
   },
   {
    "duration": 1336,
    "start_time": "2022-10-04T18:37:33.015Z"
   },
   {
    "duration": 21,
    "start_time": "2022-10-04T18:37:48.801Z"
   },
   {
    "duration": 26,
    "start_time": "2022-10-04T18:43:45.850Z"
   },
   {
    "duration": 808,
    "start_time": "2022-10-04T18:45:48.165Z"
   },
   {
    "duration": 20,
    "start_time": "2022-10-04T18:46:14.444Z"
   },
   {
    "duration": 24,
    "start_time": "2022-10-04T18:49:05.021Z"
   },
   {
    "duration": 17,
    "start_time": "2022-10-04T19:08:51.733Z"
   },
   {
    "duration": 94,
    "start_time": "2022-10-04T19:21:39.874Z"
   },
   {
    "duration": 343,
    "start_time": "2022-10-04T19:22:06.104Z"
   },
   {
    "duration": 284,
    "start_time": "2022-10-04T19:22:10.120Z"
   },
   {
    "duration": 277,
    "start_time": "2022-10-04T19:22:26.673Z"
   },
   {
    "duration": 48,
    "start_time": "2022-10-04T19:33:56.525Z"
   },
   {
    "duration": 7,
    "start_time": "2022-10-04T19:34:49.247Z"
   },
   {
    "duration": 17,
    "start_time": "2022-10-04T19:37:55.345Z"
   },
   {
    "duration": 9,
    "start_time": "2022-10-04T19:41:19.340Z"
   },
   {
    "duration": 8,
    "start_time": "2022-10-04T19:41:40.234Z"
   },
   {
    "duration": 184,
    "start_time": "2022-10-04T19:41:50.188Z"
   },
   {
    "duration": 14,
    "start_time": "2022-10-04T19:45:26.105Z"
   },
   {
    "duration": 96,
    "start_time": "2022-10-04T19:47:44.154Z"
   },
   {
    "duration": 1923,
    "start_time": "2022-10-04T19:47:44.252Z"
   },
   {
    "duration": 11,
    "start_time": "2022-10-04T19:47:46.176Z"
   },
   {
    "duration": 13,
    "start_time": "2022-10-04T19:47:46.189Z"
   },
   {
    "duration": 736,
    "start_time": "2022-10-04T19:47:46.203Z"
   },
   {
    "duration": 4,
    "start_time": "2022-10-04T19:47:46.941Z"
   },
   {
    "duration": 14,
    "start_time": "2022-10-04T19:47:46.947Z"
   },
   {
    "duration": 30,
    "start_time": "2022-10-04T19:47:46.963Z"
   },
   {
    "duration": 5,
    "start_time": "2022-10-04T19:47:46.995Z"
   },
   {
    "duration": 39,
    "start_time": "2022-10-04T19:47:47.001Z"
   },
   {
    "duration": 343,
    "start_time": "2022-10-04T19:47:47.042Z"
   },
   {
    "duration": 8,
    "start_time": "2022-10-04T19:47:47.388Z"
   },
   {
    "duration": 8,
    "start_time": "2022-10-04T19:49:24.384Z"
   },
   {
    "duration": 5,
    "start_time": "2022-10-04T19:51:29.438Z"
   },
   {
    "duration": 116,
    "start_time": "2022-10-04T19:56:00.385Z"
   },
   {
    "duration": 143,
    "start_time": "2022-10-04T19:56:47.535Z"
   },
   {
    "duration": 55,
    "start_time": "2022-10-04T19:57:49.331Z"
   },
   {
    "duration": 280,
    "start_time": "2022-10-04T19:58:12.396Z"
   },
   {
    "duration": 2628,
    "start_time": "2022-10-04T19:58:38.177Z"
   },
   {
    "duration": 1183,
    "start_time": "2022-10-05T15:38:02.060Z"
   },
   {
    "duration": 2090,
    "start_time": "2022-10-05T15:38:03.245Z"
   },
   {
    "duration": 10,
    "start_time": "2022-10-05T15:38:05.337Z"
   },
   {
    "duration": 38,
    "start_time": "2022-10-05T15:38:05.348Z"
   },
   {
    "duration": 720,
    "start_time": "2022-10-05T15:38:05.388Z"
   },
   {
    "duration": 10,
    "start_time": "2022-10-05T15:38:06.110Z"
   },
   {
    "duration": 28,
    "start_time": "2022-10-05T15:38:06.122Z"
   },
   {
    "duration": 36,
    "start_time": "2022-10-05T15:38:06.152Z"
   },
   {
    "duration": 19,
    "start_time": "2022-10-05T15:38:06.190Z"
   },
   {
    "duration": 41,
    "start_time": "2022-10-05T15:38:06.210Z"
   },
   {
    "duration": 300,
    "start_time": "2022-10-05T15:38:06.253Z"
   },
   {
    "duration": 5,
    "start_time": "2022-10-05T15:38:06.555Z"
   },
   {
    "duration": 2871,
    "start_time": "2022-10-05T15:38:06.562Z"
   },
   {
    "duration": 93,
    "start_time": "2022-10-05T15:41:42.208Z"
   },
   {
    "duration": 204,
    "start_time": "2022-10-05T15:41:51.501Z"
   },
   {
    "duration": 127,
    "start_time": "2022-10-05T15:42:27.286Z"
   },
   {
    "duration": 241,
    "start_time": "2022-10-05T15:43:06.274Z"
   },
   {
    "duration": 286,
    "start_time": "2022-10-05T15:44:50.866Z"
   },
   {
    "duration": 271,
    "start_time": "2022-10-05T15:45:04.470Z"
   },
   {
    "duration": 412,
    "start_time": "2022-10-05T15:46:34.426Z"
   },
   {
    "duration": 411,
    "start_time": "2022-10-05T15:46:45.251Z"
   },
   {
    "duration": 240,
    "start_time": "2022-10-05T15:47:38.828Z"
   },
   {
    "duration": 126,
    "start_time": "2022-10-05T16:01:15.327Z"
   },
   {
    "duration": 409,
    "start_time": "2022-10-05T16:02:14.635Z"
   },
   {
    "duration": 583,
    "start_time": "2022-10-05T16:05:22.594Z"
   },
   {
    "duration": 466,
    "start_time": "2022-10-05T16:06:44.859Z"
   },
   {
    "duration": 515,
    "start_time": "2022-10-05T16:07:44.735Z"
   },
   {
    "duration": 598,
    "start_time": "2022-10-05T16:09:52.036Z"
   },
   {
    "duration": 528,
    "start_time": "2022-10-05T16:10:04.520Z"
   },
   {
    "duration": 758,
    "start_time": "2022-10-05T16:10:17.523Z"
   },
   {
    "duration": 485,
    "start_time": "2022-10-05T16:10:34.487Z"
   },
   {
    "duration": 483,
    "start_time": "2022-10-05T16:11:44.612Z"
   },
   {
    "duration": 532,
    "start_time": "2022-10-05T16:11:52.608Z"
   },
   {
    "duration": 566,
    "start_time": "2022-10-05T16:12:25.640Z"
   },
   {
    "duration": 575,
    "start_time": "2022-10-05T16:13:42.162Z"
   },
   {
    "duration": 863,
    "start_time": "2022-10-05T16:13:56.704Z"
   },
   {
    "duration": 718,
    "start_time": "2022-10-05T16:14:16.170Z"
   },
   {
    "duration": 721,
    "start_time": "2022-10-05T16:15:07.801Z"
   },
   {
    "duration": 1551,
    "start_time": "2022-10-05T16:22:55.997Z"
   },
   {
    "duration": 1466,
    "start_time": "2022-10-05T16:24:49.753Z"
   },
   {
    "duration": 294,
    "start_time": "2022-10-05T16:26:01.289Z"
   },
   {
    "duration": 51,
    "start_time": "2022-10-05T16:27:05.181Z"
   },
   {
    "duration": 55,
    "start_time": "2022-10-05T16:27:54.376Z"
   },
   {
    "duration": 441,
    "start_time": "2022-10-05T16:28:01.335Z"
   },
   {
    "duration": 303,
    "start_time": "2022-10-05T16:29:07.971Z"
   },
   {
    "duration": 1562,
    "start_time": "2022-10-05T16:32:11.016Z"
   },
   {
    "duration": 1410,
    "start_time": "2022-10-05T16:36:10.186Z"
   },
   {
    "duration": 1144,
    "start_time": "2022-10-05T16:37:15.157Z"
   },
   {
    "duration": 1444,
    "start_time": "2022-10-05T16:37:31.044Z"
   },
   {
    "duration": 1265,
    "start_time": "2022-10-05T16:37:46.858Z"
   },
   {
    "duration": 1427,
    "start_time": "2022-10-05T16:45:13.540Z"
   },
   {
    "duration": 2092,
    "start_time": "2022-10-05T16:52:49.935Z"
   },
   {
    "duration": 2214,
    "start_time": "2022-10-05T16:53:53.545Z"
   },
   {
    "duration": 159,
    "start_time": "2022-10-05T17:14:30.881Z"
   },
   {
    "duration": 167,
    "start_time": "2022-10-05T17:14:54.921Z"
   },
   {
    "duration": 193,
    "start_time": "2022-10-05T17:15:23.913Z"
   },
   {
    "duration": 214,
    "start_time": "2022-10-05T17:21:25.118Z"
   },
   {
    "duration": 202,
    "start_time": "2022-10-05T17:23:15.066Z"
   },
   {
    "duration": 109,
    "start_time": "2022-10-05T17:23:45.123Z"
   },
   {
    "duration": 200,
    "start_time": "2022-10-05T17:24:46.714Z"
   },
   {
    "duration": 366,
    "start_time": "2022-10-05T17:25:27.455Z"
   },
   {
    "duration": 307,
    "start_time": "2022-10-05T17:25:51.782Z"
   },
   {
    "duration": 193,
    "start_time": "2022-10-05T17:43:45.968Z"
   },
   {
    "duration": 189,
    "start_time": "2022-10-05T17:44:14.420Z"
   },
   {
    "duration": 787,
    "start_time": "2022-10-05T17:47:10.705Z"
   },
   {
    "duration": 104,
    "start_time": "2022-10-05T17:51:05.376Z"
   },
   {
    "duration": 2135,
    "start_time": "2022-10-05T17:51:05.482Z"
   },
   {
    "duration": 10,
    "start_time": "2022-10-05T17:51:07.618Z"
   },
   {
    "duration": 24,
    "start_time": "2022-10-05T17:51:07.629Z"
   },
   {
    "duration": 727,
    "start_time": "2022-10-05T17:51:07.656Z"
   },
   {
    "duration": 4,
    "start_time": "2022-10-05T17:51:08.385Z"
   },
   {
    "duration": 41,
    "start_time": "2022-10-05T17:51:08.390Z"
   },
   {
    "duration": 30,
    "start_time": "2022-10-05T17:51:08.433Z"
   },
   {
    "duration": 5,
    "start_time": "2022-10-05T17:51:08.464Z"
   },
   {
    "duration": 31,
    "start_time": "2022-10-05T17:51:08.471Z"
   },
   {
    "duration": 316,
    "start_time": "2022-10-05T17:51:08.504Z"
   },
   {
    "duration": 5,
    "start_time": "2022-10-05T17:51:08.822Z"
   },
   {
    "duration": 2319,
    "start_time": "2022-10-05T17:51:08.829Z"
   },
   {
    "duration": 302,
    "start_time": "2022-10-05T17:51:11.151Z"
   },
   {
    "duration": 869,
    "start_time": "2022-10-05T17:51:11.455Z"
   },
   {
    "duration": 191,
    "start_time": "2022-10-05T17:58:23.997Z"
   },
   {
    "duration": 184,
    "start_time": "2022-10-05T17:58:47.732Z"
   },
   {
    "duration": 191,
    "start_time": "2022-10-05T18:01:56.050Z"
   },
   {
    "duration": 180,
    "start_time": "2022-10-05T18:06:49.196Z"
   },
   {
    "duration": 194,
    "start_time": "2022-10-05T18:08:51.938Z"
   },
   {
    "duration": 211,
    "start_time": "2022-10-05T18:09:07.167Z"
   },
   {
    "duration": 18,
    "start_time": "2022-10-05T18:11:51.671Z"
   },
   {
    "duration": 258,
    "start_time": "2022-10-05T18:14:19.267Z"
   },
   {
    "duration": 13,
    "start_time": "2022-10-05T18:36:17.823Z"
   },
   {
    "duration": 29,
    "start_time": "2022-10-05T18:36:53.937Z"
   },
   {
    "duration": 45,
    "start_time": "2022-10-05T18:37:12.367Z"
   },
   {
    "duration": 32,
    "start_time": "2022-10-05T18:38:20.373Z"
   },
   {
    "duration": 41,
    "start_time": "2022-10-05T18:38:37.055Z"
   },
   {
    "duration": 23,
    "start_time": "2022-10-05T18:39:17.395Z"
   },
   {
    "duration": 26,
    "start_time": "2022-10-05T18:39:39.170Z"
   },
   {
    "duration": 24,
    "start_time": "2022-10-05T18:40:51.901Z"
   },
   {
    "duration": 88,
    "start_time": "2022-10-05T19:16:17.458Z"
   },
   {
    "duration": 734,
    "start_time": "2022-10-05T19:16:33.638Z"
   },
   {
    "duration": 50,
    "start_time": "2022-10-06T09:44:50.838Z"
   },
   {
    "duration": 1129,
    "start_time": "2022-10-06T09:44:56.753Z"
   },
   {
    "duration": 1983,
    "start_time": "2022-10-06T09:44:57.884Z"
   },
   {
    "duration": 9,
    "start_time": "2022-10-06T09:44:59.869Z"
   },
   {
    "duration": 15,
    "start_time": "2022-10-06T09:44:59.880Z"
   },
   {
    "duration": 748,
    "start_time": "2022-10-06T09:44:59.897Z"
   },
   {
    "duration": 5,
    "start_time": "2022-10-06T09:45:00.647Z"
   },
   {
    "duration": 25,
    "start_time": "2022-10-06T09:45:00.653Z"
   },
   {
    "duration": 24,
    "start_time": "2022-10-06T09:45:00.680Z"
   },
   {
    "duration": 31,
    "start_time": "2022-10-06T09:45:00.706Z"
   },
   {
    "duration": 6,
    "start_time": "2022-10-06T09:45:00.738Z"
   },
   {
    "duration": 18,
    "start_time": "2022-10-06T09:45:00.745Z"
   },
   {
    "duration": 276,
    "start_time": "2022-10-06T09:45:00.764Z"
   },
   {
    "duration": 6,
    "start_time": "2022-10-06T09:45:01.041Z"
   },
   {
    "duration": 2089,
    "start_time": "2022-10-06T09:45:01.049Z"
   },
   {
    "duration": 364,
    "start_time": "2022-10-06T09:45:03.140Z"
   },
   {
    "duration": 219,
    "start_time": "2022-10-06T09:45:03.505Z"
   },
   {
    "duration": 194,
    "start_time": "2022-10-06T09:45:03.725Z"
   },
   {
    "duration": 181,
    "start_time": "2022-10-06T09:45:03.920Z"
   },
   {
    "duration": 180,
    "start_time": "2022-10-06T09:45:04.103Z"
   },
   {
    "duration": 244,
    "start_time": "2022-10-06T09:45:04.285Z"
   },
   {
    "duration": 25,
    "start_time": "2022-10-06T09:45:04.538Z"
   },
   {
    "duration": 656,
    "start_time": "2022-10-06T09:45:04.564Z"
   },
   {
    "duration": 69,
    "start_time": "2022-10-06T10:02:56.281Z"
   },
   {
    "duration": 139,
    "start_time": "2022-10-06T10:03:26.886Z"
   },
   {
    "duration": 79,
    "start_time": "2022-10-06T10:04:36.121Z"
   },
   {
    "duration": 102,
    "start_time": "2022-10-06T10:04:42.046Z"
   },
   {
    "duration": 1918,
    "start_time": "2022-10-06T10:04:42.150Z"
   },
   {
    "duration": 10,
    "start_time": "2022-10-06T10:04:44.069Z"
   },
   {
    "duration": 30,
    "start_time": "2022-10-06T10:04:44.081Z"
   },
   {
    "duration": 757,
    "start_time": "2022-10-06T10:04:44.113Z"
   },
   {
    "duration": 5,
    "start_time": "2022-10-06T10:04:44.871Z"
   },
   {
    "duration": 16,
    "start_time": "2022-10-06T10:04:44.877Z"
   },
   {
    "duration": 44,
    "start_time": "2022-10-06T10:04:44.895Z"
   },
   {
    "duration": 67,
    "start_time": "2022-10-06T10:04:44.940Z"
   },
   {
    "duration": 30,
    "start_time": "2022-10-06T10:04:45.009Z"
   },
   {
    "duration": 273,
    "start_time": "2022-10-06T10:04:45.041Z"
   },
   {
    "duration": 5,
    "start_time": "2022-10-06T10:04:45.316Z"
   },
   {
    "duration": 2027,
    "start_time": "2022-10-06T10:04:45.322Z"
   },
   {
    "duration": 301,
    "start_time": "2022-10-06T10:04:47.351Z"
   },
   {
    "duration": 304,
    "start_time": "2022-10-06T10:04:47.653Z"
   },
   {
    "duration": 187,
    "start_time": "2022-10-06T10:04:47.959Z"
   },
   {
    "duration": 173,
    "start_time": "2022-10-06T10:04:48.148Z"
   },
   {
    "duration": 190,
    "start_time": "2022-10-06T10:04:48.323Z"
   },
   {
    "duration": 288,
    "start_time": "2022-10-06T10:04:48.515Z"
   },
   {
    "duration": 39,
    "start_time": "2022-10-06T10:04:48.805Z"
   },
   {
    "duration": 644,
    "start_time": "2022-10-06T10:04:48.845Z"
   },
   {
    "duration": 71,
    "start_time": "2022-10-06T10:35:17.925Z"
   },
   {
    "duration": 66,
    "start_time": "2022-10-06T10:35:45.202Z"
   },
   {
    "duration": 100,
    "start_time": "2022-10-06T10:37:36.113Z"
   },
   {
    "duration": 71,
    "start_time": "2022-10-06T10:38:15.940Z"
   },
   {
    "duration": 47,
    "start_time": "2022-10-06T10:38:33.009Z"
   },
   {
    "duration": 65,
    "start_time": "2022-10-06T10:38:40.943Z"
   },
   {
    "duration": 76,
    "start_time": "2022-10-06T10:39:58.831Z"
   },
   {
    "duration": 66,
    "start_time": "2022-10-06T10:40:02.785Z"
   },
   {
    "duration": 136,
    "start_time": "2022-10-06T10:40:10.121Z"
   },
   {
    "duration": 161,
    "start_time": "2022-10-06T10:43:07.265Z"
   },
   {
    "duration": 152,
    "start_time": "2022-10-06T10:53:21.350Z"
   },
   {
    "duration": 105,
    "start_time": "2022-10-06T10:53:33.134Z"
   },
   {
    "duration": 1974,
    "start_time": "2022-10-06T10:53:33.241Z"
   },
   {
    "duration": 21,
    "start_time": "2022-10-06T10:53:35.217Z"
   },
   {
    "duration": 13,
    "start_time": "2022-10-06T10:53:35.241Z"
   },
   {
    "duration": 696,
    "start_time": "2022-10-06T10:53:35.255Z"
   },
   {
    "duration": 5,
    "start_time": "2022-10-06T10:53:35.952Z"
   },
   {
    "duration": 13,
    "start_time": "2022-10-06T10:53:35.958Z"
   },
   {
    "duration": 31,
    "start_time": "2022-10-06T10:53:35.973Z"
   },
   {
    "duration": 137,
    "start_time": "2022-10-06T10:53:36.006Z"
   },
   {
    "duration": 13,
    "start_time": "2022-10-06T10:53:36.145Z"
   },
   {
    "duration": 280,
    "start_time": "2022-10-06T10:53:36.159Z"
   },
   {
    "duration": 5,
    "start_time": "2022-10-06T10:53:36.441Z"
   },
   {
    "duration": 2190,
    "start_time": "2022-10-06T10:53:36.448Z"
   },
   {
    "duration": 294,
    "start_time": "2022-10-06T10:53:38.640Z"
   },
   {
    "duration": 172,
    "start_time": "2022-10-06T10:53:38.939Z"
   },
   {
    "duration": 181,
    "start_time": "2022-10-06T10:53:39.113Z"
   },
   {
    "duration": 183,
    "start_time": "2022-10-06T10:53:39.296Z"
   },
   {
    "duration": 185,
    "start_time": "2022-10-06T10:53:39.480Z"
   },
   {
    "duration": 253,
    "start_time": "2022-10-06T10:53:39.666Z"
   },
   {
    "duration": 35,
    "start_time": "2022-10-06T10:53:39.921Z"
   },
   {
    "duration": 683,
    "start_time": "2022-10-06T10:53:39.958Z"
   },
   {
    "duration": 149,
    "start_time": "2022-10-06T10:57:10.953Z"
   },
   {
    "duration": 147,
    "start_time": "2022-10-06T11:00:27.007Z"
   },
   {
    "duration": 10,
    "start_time": "2022-10-06T11:11:06.230Z"
   },
   {
    "duration": 16,
    "start_time": "2022-10-06T11:13:21.063Z"
   },
   {
    "duration": 20,
    "start_time": "2022-10-06T11:24:01.121Z"
   },
   {
    "duration": 21,
    "start_time": "2022-10-06T11:24:39.522Z"
   },
   {
    "duration": 19,
    "start_time": "2022-10-06T11:32:04.442Z"
   },
   {
    "duration": 14,
    "start_time": "2022-10-06T11:32:19.462Z"
   },
   {
    "duration": 18,
    "start_time": "2022-10-06T11:32:38.297Z"
   },
   {
    "duration": 13,
    "start_time": "2022-10-06T11:33:31.865Z"
   },
   {
    "duration": 22,
    "start_time": "2022-10-06T11:34:21.060Z"
   },
   {
    "duration": 53,
    "start_time": "2022-10-06T11:35:56.309Z"
   },
   {
    "duration": 14,
    "start_time": "2022-10-06T11:36:04.661Z"
   },
   {
    "duration": 11,
    "start_time": "2022-10-06T11:37:15.169Z"
   },
   {
    "duration": 103,
    "start_time": "2022-10-06T11:51:12.824Z"
   },
   {
    "duration": 1996,
    "start_time": "2022-10-06T11:51:12.929Z"
   },
   {
    "duration": 19,
    "start_time": "2022-10-06T11:51:14.927Z"
   },
   {
    "duration": 14,
    "start_time": "2022-10-06T11:51:14.947Z"
   },
   {
    "duration": 715,
    "start_time": "2022-10-06T11:51:14.963Z"
   },
   {
    "duration": 4,
    "start_time": "2022-10-06T11:51:15.680Z"
   },
   {
    "duration": 12,
    "start_time": "2022-10-06T11:51:15.686Z"
   },
   {
    "duration": 0,
    "start_time": "2022-10-06T11:51:15.700Z"
   },
   {
    "duration": 0,
    "start_time": "2022-10-06T11:51:15.700Z"
   },
   {
    "duration": 0,
    "start_time": "2022-10-06T11:51:15.702Z"
   },
   {
    "duration": 0,
    "start_time": "2022-10-06T11:51:15.703Z"
   },
   {
    "duration": 0,
    "start_time": "2022-10-06T11:51:15.704Z"
   },
   {
    "duration": 0,
    "start_time": "2022-10-06T11:51:15.705Z"
   },
   {
    "duration": 0,
    "start_time": "2022-10-06T11:51:15.705Z"
   },
   {
    "duration": 0,
    "start_time": "2022-10-06T11:51:15.707Z"
   },
   {
    "duration": 0,
    "start_time": "2022-10-06T11:51:15.708Z"
   },
   {
    "duration": 0,
    "start_time": "2022-10-06T11:51:15.709Z"
   },
   {
    "duration": 0,
    "start_time": "2022-10-06T11:51:15.710Z"
   },
   {
    "duration": 0,
    "start_time": "2022-10-06T11:51:15.739Z"
   },
   {
    "duration": 0,
    "start_time": "2022-10-06T11:51:15.740Z"
   },
   {
    "duration": 0,
    "start_time": "2022-10-06T11:51:15.741Z"
   },
   {
    "duration": 0,
    "start_time": "2022-10-06T11:51:15.742Z"
   },
   {
    "duration": 109,
    "start_time": "2022-10-06T11:51:18.468Z"
   },
   {
    "duration": 2010,
    "start_time": "2022-10-06T11:51:18.581Z"
   },
   {
    "duration": 10,
    "start_time": "2022-10-06T11:51:20.593Z"
   },
   {
    "duration": 35,
    "start_time": "2022-10-06T11:51:20.604Z"
   },
   {
    "duration": 756,
    "start_time": "2022-10-06T11:51:20.641Z"
   },
   {
    "duration": 4,
    "start_time": "2022-10-06T11:51:21.398Z"
   },
   {
    "duration": 14,
    "start_time": "2022-10-06T11:51:21.404Z"
   },
   {
    "duration": 0,
    "start_time": "2022-10-06T11:51:21.419Z"
   },
   {
    "duration": 0,
    "start_time": "2022-10-06T11:51:21.420Z"
   },
   {
    "duration": 0,
    "start_time": "2022-10-06T11:51:21.421Z"
   },
   {
    "duration": 0,
    "start_time": "2022-10-06T11:51:21.439Z"
   },
   {
    "duration": 0,
    "start_time": "2022-10-06T11:51:21.440Z"
   },
   {
    "duration": 0,
    "start_time": "2022-10-06T11:51:21.441Z"
   },
   {
    "duration": 0,
    "start_time": "2022-10-06T11:51:21.442Z"
   },
   {
    "duration": 0,
    "start_time": "2022-10-06T11:51:21.443Z"
   },
   {
    "duration": 0,
    "start_time": "2022-10-06T11:51:21.444Z"
   },
   {
    "duration": 0,
    "start_time": "2022-10-06T11:51:21.445Z"
   },
   {
    "duration": 0,
    "start_time": "2022-10-06T11:51:21.446Z"
   },
   {
    "duration": 0,
    "start_time": "2022-10-06T11:51:21.447Z"
   },
   {
    "duration": 0,
    "start_time": "2022-10-06T11:51:21.448Z"
   },
   {
    "duration": 0,
    "start_time": "2022-10-06T11:51:21.449Z"
   },
   {
    "duration": 0,
    "start_time": "2022-10-06T11:51:21.450Z"
   },
   {
    "duration": 10,
    "start_time": "2022-10-06T11:52:10.491Z"
   },
   {
    "duration": 12,
    "start_time": "2022-10-06T11:52:25.623Z"
   },
   {
    "duration": 104,
    "start_time": "2022-10-06T11:52:53.783Z"
   },
   {
    "duration": 2036,
    "start_time": "2022-10-06T11:52:53.889Z"
   },
   {
    "duration": 17,
    "start_time": "2022-10-06T11:52:55.927Z"
   },
   {
    "duration": 14,
    "start_time": "2022-10-06T11:52:55.946Z"
   },
   {
    "duration": 715,
    "start_time": "2022-10-06T11:52:55.962Z"
   },
   {
    "duration": 5,
    "start_time": "2022-10-06T11:52:56.678Z"
   },
   {
    "duration": 12,
    "start_time": "2022-10-06T11:52:56.684Z"
   },
   {
    "duration": 46,
    "start_time": "2022-10-06T11:52:56.697Z"
   },
   {
    "duration": 130,
    "start_time": "2022-10-06T11:52:56.745Z"
   },
   {
    "duration": 16,
    "start_time": "2022-10-06T11:52:56.877Z"
   },
   {
    "duration": 280,
    "start_time": "2022-10-06T11:52:56.894Z"
   },
   {
    "duration": 6,
    "start_time": "2022-10-06T11:52:57.177Z"
   },
   {
    "duration": 2177,
    "start_time": "2022-10-06T11:52:57.184Z"
   },
   {
    "duration": 297,
    "start_time": "2022-10-06T11:52:59.363Z"
   },
   {
    "duration": 196,
    "start_time": "2022-10-06T11:52:59.661Z"
   },
   {
    "duration": 205,
    "start_time": "2022-10-06T11:52:59.859Z"
   },
   {
    "duration": 189,
    "start_time": "2022-10-06T11:53:00.066Z"
   },
   {
    "duration": 196,
    "start_time": "2022-10-06T11:53:00.257Z"
   },
   {
    "duration": 261,
    "start_time": "2022-10-06T11:53:00.455Z"
   },
   {
    "duration": 39,
    "start_time": "2022-10-06T11:53:00.717Z"
   },
   {
    "duration": 688,
    "start_time": "2022-10-06T11:53:00.757Z"
   },
   {
    "duration": 2287,
    "start_time": "2022-10-06T11:59:29.217Z"
   },
   {
    "duration": 2022,
    "start_time": "2022-10-06T12:00:03.086Z"
   },
   {
    "duration": 2304,
    "start_time": "2022-10-06T12:00:42.135Z"
   },
   {
    "duration": 185,
    "start_time": "2022-10-06T12:02:07.411Z"
   },
   {
    "duration": 109,
    "start_time": "2022-10-06T12:03:32.713Z"
   },
   {
    "duration": 2202,
    "start_time": "2022-10-06T12:08:14.837Z"
   },
   {
    "duration": 170,
    "start_time": "2022-10-06T12:09:35.146Z"
   },
   {
    "duration": 219,
    "start_time": "2022-10-06T12:12:22.948Z"
   },
   {
    "duration": 205,
    "start_time": "2022-10-06T12:13:01.363Z"
   },
   {
    "duration": 742,
    "start_time": "2022-10-06T12:19:00.712Z"
   },
   {
    "duration": 238,
    "start_time": "2022-10-06T12:19:18.463Z"
   },
   {
    "duration": 154,
    "start_time": "2022-10-06T12:19:44.998Z"
   },
   {
    "duration": 224,
    "start_time": "2022-10-06T12:19:54.816Z"
   },
   {
    "duration": 221,
    "start_time": "2022-10-06T12:24:54.757Z"
   },
   {
    "duration": 214,
    "start_time": "2022-10-06T12:25:38.763Z"
   },
   {
    "duration": 213,
    "start_time": "2022-10-06T12:26:40.865Z"
   },
   {
    "duration": 254,
    "start_time": "2022-10-06T12:30:51.324Z"
   },
   {
    "duration": 283,
    "start_time": "2022-10-06T12:31:12.688Z"
   },
   {
    "duration": 262,
    "start_time": "2022-10-06T12:31:58.813Z"
   },
   {
    "duration": 214,
    "start_time": "2022-10-06T12:32:05.652Z"
   },
   {
    "duration": 183,
    "start_time": "2022-10-06T12:33:21.885Z"
   },
   {
    "duration": 184,
    "start_time": "2022-10-06T12:33:52.144Z"
   },
   {
    "duration": 163,
    "start_time": "2022-10-06T12:34:09.197Z"
   },
   {
    "duration": 249,
    "start_time": "2022-10-06T12:34:23.020Z"
   },
   {
    "duration": 143,
    "start_time": "2022-10-06T12:36:10.960Z"
   },
   {
    "duration": 145,
    "start_time": "2022-10-06T12:37:24.180Z"
   },
   {
    "duration": 168,
    "start_time": "2022-10-06T12:37:35.621Z"
   },
   {
    "duration": 185,
    "start_time": "2022-10-06T12:38:46.369Z"
   },
   {
    "duration": 483,
    "start_time": "2022-10-06T12:40:12.246Z"
   },
   {
    "duration": 173,
    "start_time": "2022-10-06T12:40:39.811Z"
   },
   {
    "duration": 128,
    "start_time": "2022-10-06T12:42:06.086Z"
   },
   {
    "duration": 49,
    "start_time": "2022-10-06T12:42:41.220Z"
   },
   {
    "duration": 189,
    "start_time": "2022-10-06T12:42:48.783Z"
   },
   {
    "duration": 187,
    "start_time": "2022-10-06T12:43:05.792Z"
   },
   {
    "duration": 146,
    "start_time": "2022-10-06T12:45:33.476Z"
   },
   {
    "duration": 191,
    "start_time": "2022-10-06T12:46:48.578Z"
   },
   {
    "duration": 147,
    "start_time": "2022-10-06T12:47:04.757Z"
   },
   {
    "duration": 126,
    "start_time": "2022-10-06T12:48:29.511Z"
   },
   {
    "duration": 134,
    "start_time": "2022-10-06T12:50:21.312Z"
   },
   {
    "duration": 191,
    "start_time": "2022-10-06T12:51:06.249Z"
   },
   {
    "duration": 143,
    "start_time": "2022-10-06T12:52:02.742Z"
   },
   {
    "duration": 186,
    "start_time": "2022-10-06T12:55:00.637Z"
   },
   {
    "duration": 134,
    "start_time": "2022-10-06T12:57:25.018Z"
   },
   {
    "duration": 166,
    "start_time": "2022-10-06T12:58:16.911Z"
   },
   {
    "duration": 156,
    "start_time": "2022-10-06T13:00:09.836Z"
   },
   {
    "duration": 155,
    "start_time": "2022-10-06T13:00:40.475Z"
   },
   {
    "duration": 190,
    "start_time": "2022-10-06T13:02:46.120Z"
   },
   {
    "duration": 17,
    "start_time": "2022-10-06T13:16:03.863Z"
   },
   {
    "duration": 19,
    "start_time": "2022-10-06T13:16:57.804Z"
   },
   {
    "duration": 18,
    "start_time": "2022-10-06T13:17:29.955Z"
   },
   {
    "duration": 1424,
    "start_time": "2022-10-06T13:23:24.673Z"
   },
   {
    "duration": 146,
    "start_time": "2022-10-06T13:26:22.979Z"
   },
   {
    "duration": 172,
    "start_time": "2022-10-06T13:26:59.649Z"
   },
   {
    "duration": 9,
    "start_time": "2022-10-06T13:33:36.946Z"
   },
   {
    "duration": 176,
    "start_time": "2022-10-06T13:33:51.001Z"
   },
   {
    "duration": 257,
    "start_time": "2022-10-06T13:34:02.837Z"
   },
   {
    "duration": 18,
    "start_time": "2022-10-06T13:45:16.943Z"
   },
   {
    "duration": 1039,
    "start_time": "2022-10-06T13:46:31.606Z"
   },
   {
    "duration": 139,
    "start_time": "2022-10-06T13:50:16.635Z"
   },
   {
    "duration": 142,
    "start_time": "2022-10-06T13:51:03.491Z"
   },
   {
    "duration": 124,
    "start_time": "2022-10-06T13:53:20.881Z"
   },
   {
    "duration": 421,
    "start_time": "2022-10-06T13:53:54.891Z"
   },
   {
    "duration": 132,
    "start_time": "2022-10-06T13:54:36.664Z"
   },
   {
    "duration": 134,
    "start_time": "2022-10-06T13:55:30.550Z"
   },
   {
    "duration": 140,
    "start_time": "2022-10-06T13:56:07.425Z"
   },
   {
    "duration": 63,
    "start_time": "2022-10-06T13:59:13.810Z"
   },
   {
    "duration": 17,
    "start_time": "2022-10-06T13:59:25.237Z"
   },
   {
    "duration": 161,
    "start_time": "2022-10-06T14:01:31.008Z"
   },
   {
    "duration": 155,
    "start_time": "2022-10-06T14:02:11.108Z"
   },
   {
    "duration": 153,
    "start_time": "2022-10-06T14:02:31.235Z"
   },
   {
    "duration": 881,
    "start_time": "2022-10-06T14:02:33.782Z"
   },
   {
    "duration": 200,
    "start_time": "2022-10-06T14:03:10.336Z"
   },
   {
    "duration": 195,
    "start_time": "2022-10-06T14:09:10.282Z"
   },
   {
    "duration": 115,
    "start_time": "2022-10-06T14:11:05.004Z"
   },
   {
    "duration": 177,
    "start_time": "2022-10-06T14:11:22.101Z"
   },
   {
    "duration": 168,
    "start_time": "2022-10-06T14:14:31.226Z"
   },
   {
    "duration": 49,
    "start_time": "2022-10-06T14:15:53.000Z"
   },
   {
    "duration": 161,
    "start_time": "2022-10-06T14:16:06.106Z"
   },
   {
    "duration": 1210,
    "start_time": "2022-10-06T14:17:10.849Z"
   },
   {
    "duration": 963,
    "start_time": "2022-10-06T14:17:31.146Z"
   },
   {
    "duration": 182,
    "start_time": "2022-10-06T14:17:54.752Z"
   },
   {
    "duration": 128,
    "start_time": "2022-10-06T14:21:37.925Z"
   },
   {
    "duration": 158,
    "start_time": "2022-10-06T14:21:57.510Z"
   },
   {
    "duration": 171,
    "start_time": "2022-10-06T14:23:57.560Z"
   },
   {
    "duration": 166,
    "start_time": "2022-10-06T14:24:37.025Z"
   },
   {
    "duration": 467,
    "start_time": "2022-10-06T14:26:10.996Z"
   },
   {
    "duration": 182,
    "start_time": "2022-10-06T14:26:37.143Z"
   },
   {
    "duration": 196,
    "start_time": "2022-10-06T14:29:37.488Z"
   },
   {
    "duration": 166,
    "start_time": "2022-10-06T14:30:36.460Z"
   },
   {
    "duration": 22,
    "start_time": "2022-10-06T14:31:23.123Z"
   },
   {
    "duration": 172,
    "start_time": "2022-10-06T14:32:21.938Z"
   },
   {
    "duration": 164,
    "start_time": "2022-10-06T14:32:51.665Z"
   },
   {
    "duration": 895,
    "start_time": "2022-10-06T15:47:24.325Z"
   },
   {
    "duration": 106,
    "start_time": "2022-10-06T15:47:55.573Z"
   },
   {
    "duration": 117,
    "start_time": "2022-10-06T15:49:04.245Z"
   },
   {
    "duration": 113,
    "start_time": "2022-10-06T15:49:18.047Z"
   },
   {
    "duration": 2376,
    "start_time": "2022-10-06T15:49:18.162Z"
   },
   {
    "duration": 10,
    "start_time": "2022-10-06T15:49:20.540Z"
   },
   {
    "duration": 18,
    "start_time": "2022-10-06T15:49:20.551Z"
   },
   {
    "duration": 806,
    "start_time": "2022-10-06T15:49:20.572Z"
   },
   {
    "duration": 5,
    "start_time": "2022-10-06T15:49:21.381Z"
   },
   {
    "duration": 22,
    "start_time": "2022-10-06T15:49:21.388Z"
   },
   {
    "duration": 47,
    "start_time": "2022-10-06T15:49:21.412Z"
   },
   {
    "duration": 149,
    "start_time": "2022-10-06T15:49:21.461Z"
   },
   {
    "duration": 14,
    "start_time": "2022-10-06T15:49:21.612Z"
   },
   {
    "duration": 276,
    "start_time": "2022-10-06T15:49:21.639Z"
   },
   {
    "duration": 5,
    "start_time": "2022-10-06T15:49:21.917Z"
   },
   {
    "duration": 198,
    "start_time": "2022-10-06T15:49:21.924Z"
   },
   {
    "duration": 223,
    "start_time": "2022-10-06T15:49:22.125Z"
   },
   {
    "duration": 277,
    "start_time": "2022-10-06T15:49:22.350Z"
   },
   {
    "duration": 215,
    "start_time": "2022-10-06T15:49:22.629Z"
   },
   {
    "duration": 184,
    "start_time": "2022-10-06T15:49:22.846Z"
   },
   {
    "duration": 206,
    "start_time": "2022-10-06T15:49:23.032Z"
   },
   {
    "duration": 173,
    "start_time": "2022-10-06T15:49:23.240Z"
   },
   {
    "duration": 154,
    "start_time": "2022-10-06T15:49:23.415Z"
   },
   {
    "duration": 220,
    "start_time": "2022-10-06T15:49:23.571Z"
   },
   {
    "duration": 228,
    "start_time": "2022-10-06T15:49:23.793Z"
   },
   {
    "duration": 198,
    "start_time": "2022-10-06T15:49:24.022Z"
   },
   {
    "duration": 189,
    "start_time": "2022-10-06T15:49:24.222Z"
   },
   {
    "duration": 176,
    "start_time": "2022-10-06T15:49:24.413Z"
   },
   {
    "duration": 591,
    "start_time": "2022-10-06T15:49:24.591Z"
   },
   {
    "duration": 311,
    "start_time": "2022-10-06T15:49:25.184Z"
   },
   {
    "duration": 198,
    "start_time": "2022-10-06T15:49:25.497Z"
   },
   {
    "duration": 177,
    "start_time": "2022-10-06T15:49:25.697Z"
   },
   {
    "duration": 197,
    "start_time": "2022-10-06T15:49:25.876Z"
   },
   {
    "duration": 180,
    "start_time": "2022-10-06T15:49:26.075Z"
   },
   {
    "duration": 195,
    "start_time": "2022-10-06T15:49:26.256Z"
   },
   {
    "duration": 181,
    "start_time": "2022-10-06T15:49:26.453Z"
   },
   {
    "duration": 180,
    "start_time": "2022-10-06T15:49:26.639Z"
   },
   {
    "duration": 188,
    "start_time": "2022-10-06T15:49:26.822Z"
   },
   {
    "duration": 43,
    "start_time": "2022-10-06T15:49:27.012Z"
   },
   {
    "duration": 120,
    "start_time": "2022-10-06T15:49:27.057Z"
   },
   {
    "duration": 173,
    "start_time": "2022-10-06T15:54:23.424Z"
   },
   {
    "duration": 179,
    "start_time": "2022-10-06T15:55:22.598Z"
   },
   {
    "duration": 191,
    "start_time": "2022-10-06T15:55:30.628Z"
   },
   {
    "duration": 922,
    "start_time": "2022-10-07T08:27:12.850Z"
   },
   {
    "duration": 2135,
    "start_time": "2022-10-07T08:27:15.518Z"
   },
   {
    "duration": 12,
    "start_time": "2022-10-07T08:27:18.081Z"
   },
   {
    "duration": 14,
    "start_time": "2022-10-07T08:27:22.484Z"
   },
   {
    "duration": 774,
    "start_time": "2022-10-07T08:28:16.762Z"
   },
   {
    "duration": 4,
    "start_time": "2022-10-07T08:28:20.496Z"
   },
   {
    "duration": 89,
    "start_time": "2022-10-07T08:30:01.820Z"
   },
   {
    "duration": 12658,
    "start_time": "2022-10-07T08:30:11.304Z"
   },
   {
    "duration": 12154,
    "start_time": "2022-10-07T08:30:36.795Z"
   },
   {
    "duration": 13689,
    "start_time": "2022-10-07T08:32:30.325Z"
   },
   {
    "duration": 347,
    "start_time": "2022-10-07T08:34:58.234Z"
   },
   {
    "duration": 49,
    "start_time": "2022-10-07T19:39:05.874Z"
   },
   {
    "duration": 9,
    "start_time": "2022-10-07T19:39:15.220Z"
   },
   {
    "duration": 1129,
    "start_time": "2022-10-07T19:39:19.974Z"
   },
   {
    "duration": 2015,
    "start_time": "2022-10-07T19:39:21.105Z"
   },
   {
    "duration": 11,
    "start_time": "2022-10-07T19:39:23.122Z"
   },
   {
    "duration": 15,
    "start_time": "2022-10-07T19:39:23.135Z"
   },
   {
    "duration": 705,
    "start_time": "2022-10-07T19:39:23.152Z"
   },
   {
    "duration": 4,
    "start_time": "2022-10-07T19:39:23.859Z"
   },
   {
    "duration": 271,
    "start_time": "2022-10-07T19:39:23.865Z"
   },
   {
    "duration": 16,
    "start_time": "2022-10-07T19:39:24.138Z"
   },
   {
    "duration": 42,
    "start_time": "2022-10-07T19:39:24.156Z"
   },
   {
    "duration": 136,
    "start_time": "2022-10-07T19:39:24.200Z"
   },
   {
    "duration": 15,
    "start_time": "2022-10-07T19:39:24.338Z"
   },
   {
    "duration": 366,
    "start_time": "2022-10-07T19:39:24.355Z"
   },
   {
    "duration": 5,
    "start_time": "2022-10-07T19:39:24.723Z"
   },
   {
    "duration": 217,
    "start_time": "2022-10-07T19:39:24.731Z"
   },
   {
    "duration": 241,
    "start_time": "2022-10-07T19:39:24.951Z"
   },
   {
    "duration": 320,
    "start_time": "2022-10-07T19:39:25.194Z"
   },
   {
    "duration": 247,
    "start_time": "2022-10-07T19:39:25.515Z"
   },
   {
    "duration": 186,
    "start_time": "2022-10-07T19:39:25.763Z"
   },
   {
    "duration": 195,
    "start_time": "2022-10-07T19:39:25.951Z"
   },
   {
    "duration": 174,
    "start_time": "2022-10-07T19:39:26.149Z"
   },
   {
    "duration": 166,
    "start_time": "2022-10-07T19:39:26.324Z"
   },
   {
    "duration": 208,
    "start_time": "2022-10-07T19:39:26.492Z"
   },
   {
    "duration": 321,
    "start_time": "2022-10-07T19:39:26.702Z"
   },
   {
    "duration": 194,
    "start_time": "2022-10-07T19:39:27.025Z"
   },
   {
    "duration": 170,
    "start_time": "2022-10-07T19:39:27.221Z"
   },
   {
    "duration": 168,
    "start_time": "2022-10-07T19:39:27.393Z"
   },
   {
    "duration": 274,
    "start_time": "2022-10-07T19:39:27.563Z"
   },
   {
    "duration": 284,
    "start_time": "2022-10-07T19:39:27.839Z"
   },
   {
    "duration": 193,
    "start_time": "2022-10-07T19:39:28.124Z"
   },
   {
    "duration": 164,
    "start_time": "2022-10-07T19:39:28.319Z"
   },
   {
    "duration": 194,
    "start_time": "2022-10-07T19:39:28.484Z"
   },
   {
    "duration": 261,
    "start_time": "2022-10-07T19:39:28.679Z"
   },
   {
    "duration": 151,
    "start_time": "2022-10-07T19:39:28.941Z"
   },
   {
    "duration": 172,
    "start_time": "2022-10-07T19:39:29.094Z"
   },
   {
    "duration": 174,
    "start_time": "2022-10-07T19:39:29.276Z"
   },
   {
    "duration": 173,
    "start_time": "2022-10-07T19:39:29.451Z"
   },
   {
    "duration": 23,
    "start_time": "2022-10-07T19:39:29.626Z"
   },
   {
    "duration": 183,
    "start_time": "2022-10-07T19:39:29.651Z"
   },
   {
    "duration": 82,
    "start_time": "2022-10-07T19:43:02.646Z"
   },
   {
    "duration": 103,
    "start_time": "2022-10-07T19:43:40.982Z"
   },
   {
    "duration": 200,
    "start_time": "2022-10-07T19:49:51.093Z"
   },
   {
    "duration": 207,
    "start_time": "2022-10-07T19:50:25.762Z"
   },
   {
    "duration": 84,
    "start_time": "2022-10-07T20:06:48.579Z"
   },
   {
    "duration": 83,
    "start_time": "2022-10-07T20:07:28.956Z"
   },
   {
    "duration": 95,
    "start_time": "2022-10-07T20:08:53.631Z"
   },
   {
    "duration": 81,
    "start_time": "2022-10-07T20:11:57.505Z"
   },
   {
    "duration": 95,
    "start_time": "2022-10-07T20:16:32.783Z"
   },
   {
    "duration": 103,
    "start_time": "2022-10-07T20:17:42.697Z"
   },
   {
    "duration": 2028,
    "start_time": "2022-10-07T20:17:42.803Z"
   },
   {
    "duration": 10,
    "start_time": "2022-10-07T20:17:44.832Z"
   },
   {
    "duration": 12,
    "start_time": "2022-10-07T20:17:44.844Z"
   },
   {
    "duration": 776,
    "start_time": "2022-10-07T20:17:44.858Z"
   },
   {
    "duration": 4,
    "start_time": "2022-10-07T20:17:45.636Z"
   },
   {
    "duration": 273,
    "start_time": "2022-10-07T20:17:45.641Z"
   },
   {
    "duration": 14,
    "start_time": "2022-10-07T20:17:45.915Z"
   },
   {
    "duration": 29,
    "start_time": "2022-10-07T20:17:45.931Z"
   },
   {
    "duration": 86,
    "start_time": "2022-10-07T20:17:45.963Z"
   },
   {
    "duration": 0,
    "start_time": "2022-10-07T20:17:46.051Z"
   },
   {
    "duration": 0,
    "start_time": "2022-10-07T20:17:46.052Z"
   },
   {
    "duration": 0,
    "start_time": "2022-10-07T20:17:46.053Z"
   },
   {
    "duration": 0,
    "start_time": "2022-10-07T20:17:46.054Z"
   },
   {
    "duration": 0,
    "start_time": "2022-10-07T20:17:46.055Z"
   },
   {
    "duration": 0,
    "start_time": "2022-10-07T20:17:46.056Z"
   },
   {
    "duration": 0,
    "start_time": "2022-10-07T20:17:46.057Z"
   },
   {
    "duration": 0,
    "start_time": "2022-10-07T20:17:46.058Z"
   },
   {
    "duration": 0,
    "start_time": "2022-10-07T20:17:46.078Z"
   },
   {
    "duration": 0,
    "start_time": "2022-10-07T20:17:46.079Z"
   },
   {
    "duration": 0,
    "start_time": "2022-10-07T20:17:46.079Z"
   },
   {
    "duration": 0,
    "start_time": "2022-10-07T20:17:46.080Z"
   },
   {
    "duration": 0,
    "start_time": "2022-10-07T20:17:46.081Z"
   },
   {
    "duration": 0,
    "start_time": "2022-10-07T20:17:46.082Z"
   },
   {
    "duration": 0,
    "start_time": "2022-10-07T20:17:46.083Z"
   },
   {
    "duration": 0,
    "start_time": "2022-10-07T20:17:46.084Z"
   },
   {
    "duration": 0,
    "start_time": "2022-10-07T20:17:46.084Z"
   },
   {
    "duration": 0,
    "start_time": "2022-10-07T20:17:46.085Z"
   },
   {
    "duration": 0,
    "start_time": "2022-10-07T20:17:46.086Z"
   },
   {
    "duration": 0,
    "start_time": "2022-10-07T20:17:46.087Z"
   },
   {
    "duration": 0,
    "start_time": "2022-10-07T20:17:46.088Z"
   },
   {
    "duration": 0,
    "start_time": "2022-10-07T20:17:46.089Z"
   },
   {
    "duration": 0,
    "start_time": "2022-10-07T20:17:46.092Z"
   },
   {
    "duration": 0,
    "start_time": "2022-10-07T20:17:46.093Z"
   },
   {
    "duration": 0,
    "start_time": "2022-10-07T20:17:46.094Z"
   },
   {
    "duration": 0,
    "start_time": "2022-10-07T20:17:46.096Z"
   },
   {
    "duration": 0,
    "start_time": "2022-10-07T20:17:46.097Z"
   },
   {
    "duration": 0,
    "start_time": "2022-10-07T20:17:46.098Z"
   },
   {
    "duration": 76,
    "start_time": "2022-10-07T20:18:08.348Z"
   },
   {
    "duration": 13,
    "start_time": "2022-10-07T20:18:24.946Z"
   },
   {
    "duration": 78,
    "start_time": "2022-10-07T20:18:58.870Z"
   },
   {
    "duration": 64,
    "start_time": "2022-10-07T20:23:50.237Z"
   },
   {
    "duration": 51,
    "start_time": "2022-10-07T20:24:19.892Z"
   },
   {
    "duration": 101,
    "start_time": "2022-10-07T20:24:28.538Z"
   },
   {
    "duration": 63,
    "start_time": "2022-10-07T20:26:21.037Z"
   },
   {
    "duration": 69,
    "start_time": "2022-10-07T20:26:42.937Z"
   },
   {
    "duration": 88,
    "start_time": "2022-10-07T20:27:19.553Z"
   },
   {
    "duration": 118,
    "start_time": "2022-10-07T20:27:57.549Z"
   },
   {
    "duration": 212,
    "start_time": "2022-10-07T20:28:24.653Z"
   },
   {
    "duration": 87,
    "start_time": "2022-10-07T20:29:26.034Z"
   },
   {
    "duration": 132,
    "start_time": "2022-10-07T20:30:17.002Z"
   },
   {
    "duration": 93,
    "start_time": "2022-10-07T20:30:37.637Z"
   },
   {
    "duration": 71,
    "start_time": "2022-10-07T20:35:51.794Z"
   },
   {
    "duration": 92,
    "start_time": "2022-10-07T20:38:26.160Z"
   },
   {
    "duration": 1848,
    "start_time": "2022-10-07T20:38:26.254Z"
   },
   {
    "duration": 9,
    "start_time": "2022-10-07T20:38:28.103Z"
   },
   {
    "duration": 13,
    "start_time": "2022-10-07T20:38:28.114Z"
   },
   {
    "duration": 675,
    "start_time": "2022-10-07T20:38:28.129Z"
   },
   {
    "duration": 6,
    "start_time": "2022-10-07T20:38:28.806Z"
   },
   {
    "duration": 250,
    "start_time": "2022-10-07T20:38:28.813Z"
   },
   {
    "duration": 128,
    "start_time": "2022-10-07T20:38:29.065Z"
   },
   {
    "duration": 29,
    "start_time": "2022-10-07T20:38:29.195Z"
   },
   {
    "duration": 88,
    "start_time": "2022-10-07T20:38:29.226Z"
   },
   {
    "duration": 12,
    "start_time": "2022-10-07T20:38:29.316Z"
   },
   {
    "duration": 284,
    "start_time": "2022-10-07T20:38:29.330Z"
   },
   {
    "duration": 4,
    "start_time": "2022-10-07T20:38:29.616Z"
   },
   {
    "duration": 178,
    "start_time": "2022-10-07T20:38:29.622Z"
   },
   {
    "duration": 200,
    "start_time": "2022-10-07T20:38:29.802Z"
   },
   {
    "duration": 249,
    "start_time": "2022-10-07T20:38:30.004Z"
   },
   {
    "duration": 193,
    "start_time": "2022-10-07T20:38:30.255Z"
   },
   {
    "duration": 183,
    "start_time": "2022-10-07T20:38:30.450Z"
   },
   {
    "duration": 190,
    "start_time": "2022-10-07T20:38:30.635Z"
   },
   {
    "duration": 168,
    "start_time": "2022-10-07T20:38:30.827Z"
   },
   {
    "duration": 134,
    "start_time": "2022-10-07T20:38:30.997Z"
   },
   {
    "duration": 319,
    "start_time": "2022-10-07T20:38:31.133Z"
   },
   {
    "duration": 169,
    "start_time": "2022-10-07T20:38:31.453Z"
   },
   {
    "duration": 170,
    "start_time": "2022-10-07T20:38:31.623Z"
   },
   {
    "duration": 168,
    "start_time": "2022-10-07T20:38:31.795Z"
   },
   {
    "duration": 185,
    "start_time": "2022-10-07T20:38:31.964Z"
   },
   {
    "duration": 261,
    "start_time": "2022-10-07T20:38:32.151Z"
   },
   {
    "duration": 285,
    "start_time": "2022-10-07T20:38:32.416Z"
   },
   {
    "duration": 179,
    "start_time": "2022-10-07T20:38:32.702Z"
   },
   {
    "duration": 165,
    "start_time": "2022-10-07T20:38:32.883Z"
   },
   {
    "duration": 178,
    "start_time": "2022-10-07T20:38:33.050Z"
   },
   {
    "duration": 160,
    "start_time": "2022-10-07T20:38:33.229Z"
   },
   {
    "duration": 157,
    "start_time": "2022-10-07T20:38:33.391Z"
   },
   {
    "duration": 170,
    "start_time": "2022-10-07T20:38:33.550Z"
   },
   {
    "duration": 181,
    "start_time": "2022-10-07T20:38:33.721Z"
   },
   {
    "duration": 174,
    "start_time": "2022-10-07T20:38:33.904Z"
   },
   {
    "duration": 27,
    "start_time": "2022-10-07T20:38:34.080Z"
   },
   {
    "duration": 183,
    "start_time": "2022-10-07T20:38:34.109Z"
   },
   {
    "duration": 16,
    "start_time": "2022-10-07T20:42:50.043Z"
   },
   {
    "duration": 48,
    "start_time": "2022-10-07T20:46:12.454Z"
   },
   {
    "duration": 8,
    "start_time": "2022-10-07T20:46:20.742Z"
   },
   {
    "duration": 325,
    "start_time": "2022-10-07T20:47:35.527Z"
   },
   {
    "duration": 156,
    "start_time": "2022-10-07T20:48:58.409Z"
   },
   {
    "duration": 9,
    "start_time": "2022-10-07T20:49:48.497Z"
   },
   {
    "duration": 190,
    "start_time": "2022-10-07T20:50:16.027Z"
   },
   {
    "duration": 168,
    "start_time": "2022-10-07T20:54:06.044Z"
   },
   {
    "duration": 1105,
    "start_time": "2022-10-09T18:40:04.458Z"
   },
   {
    "duration": 1935,
    "start_time": "2022-10-09T18:40:05.565Z"
   },
   {
    "duration": 9,
    "start_time": "2022-10-09T18:40:07.502Z"
   },
   {
    "duration": 13,
    "start_time": "2022-10-09T18:40:07.513Z"
   },
   {
    "duration": 664,
    "start_time": "2022-10-09T18:40:07.528Z"
   },
   {
    "duration": 3,
    "start_time": "2022-10-09T18:40:08.195Z"
   },
   {
    "duration": 253,
    "start_time": "2022-10-09T18:40:08.200Z"
   },
   {
    "duration": 16,
    "start_time": "2022-10-09T18:40:08.455Z"
   },
   {
    "duration": 38,
    "start_time": "2022-10-09T18:40:08.472Z"
   },
   {
    "duration": 9,
    "start_time": "2022-10-09T18:40:08.512Z"
   },
   {
    "duration": 13,
    "start_time": "2022-10-09T18:40:08.522Z"
   },
   {
    "duration": 282,
    "start_time": "2022-10-09T18:40:08.536Z"
   },
   {
    "duration": 6,
    "start_time": "2022-10-09T18:40:08.819Z"
   },
   {
    "duration": 249,
    "start_time": "2022-10-09T18:40:08.829Z"
   },
   {
    "duration": 203,
    "start_time": "2022-10-09T18:40:09.079Z"
   },
   {
    "duration": 250,
    "start_time": "2022-10-09T18:40:09.283Z"
   },
   {
    "duration": 197,
    "start_time": "2022-10-09T18:40:09.534Z"
   },
   {
    "duration": 171,
    "start_time": "2022-10-09T18:40:09.733Z"
   },
   {
    "duration": 193,
    "start_time": "2022-10-09T18:40:09.906Z"
   },
   {
    "duration": 160,
    "start_time": "2022-10-09T18:40:10.101Z"
   },
   {
    "duration": 143,
    "start_time": "2022-10-09T18:40:10.263Z"
   },
   {
    "duration": 191,
    "start_time": "2022-10-09T18:40:10.408Z"
   },
   {
    "duration": 287,
    "start_time": "2022-10-09T18:40:10.601Z"
   },
   {
    "duration": 182,
    "start_time": "2022-10-09T18:40:10.890Z"
   },
   {
    "duration": 173,
    "start_time": "2022-10-09T18:40:11.074Z"
   },
   {
    "duration": 172,
    "start_time": "2022-10-09T18:40:11.249Z"
   },
   {
    "duration": 313,
    "start_time": "2022-10-09T18:40:11.423Z"
   },
   {
    "duration": 280,
    "start_time": "2022-10-09T18:40:11.738Z"
   },
   {
    "duration": 182,
    "start_time": "2022-10-09T18:40:12.020Z"
   },
   {
    "duration": 169,
    "start_time": "2022-10-09T18:40:12.204Z"
   },
   {
    "duration": 192,
    "start_time": "2022-10-09T18:40:12.375Z"
   },
   {
    "duration": 272,
    "start_time": "2022-10-09T18:40:12.568Z"
   },
   {
    "duration": 168,
    "start_time": "2022-10-09T18:40:12.842Z"
   },
   {
    "duration": 183,
    "start_time": "2022-10-09T18:40:13.012Z"
   },
   {
    "duration": 176,
    "start_time": "2022-10-09T18:40:13.196Z"
   },
   {
    "duration": 175,
    "start_time": "2022-10-09T18:40:13.374Z"
   },
   {
    "duration": 25,
    "start_time": "2022-10-09T18:40:13.551Z"
   },
   {
    "duration": 191,
    "start_time": "2022-10-09T18:40:13.577Z"
   },
   {
    "duration": 97,
    "start_time": "2022-10-09T18:41:16.965Z"
   },
   {
    "duration": 35,
    "start_time": "2022-10-09T18:41:23.244Z"
   },
   {
    "duration": 28,
    "start_time": "2022-10-09T18:42:18.461Z"
   },
   {
    "duration": 12,
    "start_time": "2022-10-09T18:45:57.309Z"
   },
   {
    "duration": 35,
    "start_time": "2022-10-09T18:46:03.338Z"
   }
  ],
  "kernelspec": {
   "display_name": "Python 3 (ipykernel)",
   "language": "python",
   "name": "python3"
  },
  "language_info": {
   "codemirror_mode": {
    "name": "ipython",
    "version": 3
   },
   "file_extension": ".py",
   "mimetype": "text/x-python",
   "name": "python",
   "nbconvert_exporter": "python",
   "pygments_lexer": "ipython3",
   "version": "3.9.13"
  },
  "toc": {
   "base_numbering": 1,
   "nav_menu": {},
   "number_sections": true,
   "sideBar": true,
   "skip_h1_title": true,
   "title_cell": "Table of Contents",
   "title_sidebar": "Contents",
   "toc_cell": false,
   "toc_position": {},
   "toc_section_display": true,
   "toc_window_display": false
  }
 },
 "nbformat": 4,
 "nbformat_minor": 2
}
