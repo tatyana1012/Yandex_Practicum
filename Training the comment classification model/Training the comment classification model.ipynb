{
 "cells": [
  {
   "cell_type": "markdown",
   "metadata": {},
   "source": [
    "# Проект для «Викишоп»"
   ]
  },
  {
   "cell_type": "markdown",
   "metadata": {},
   "source": [
    "Интернет-магазин запускает новый сервис. Теперь пользователи могут редактировать и дополнять описания товаров, как в вики-сообществах. То есть клиенты предлагают свои правки и комментируют изменения других. Магазину нужен инструмент, который будет искать токсичные комментарии и отправлять их на модерацию. \n",
    "\n",
    "Обучите модель классифицировать комментарии на позитивные и негативные. В вашем распоряжении набор данных с разметкой о токсичности правок.\n",
    "\n",
    "Постройте модель со значением метрики качества *F1* не меньше 0.75. \n"
   ]
  },
  {
   "cell_type": "markdown",
   "metadata": {},
   "source": [
    "## Подготовка"
   ]
  },
  {
   "cell_type": "code",
   "execution_count": 1,
   "metadata": {},
   "outputs": [
    {
     "name": "stderr",
     "output_type": "stream",
     "text": [
      "[nltk_data] Downloading package averaged_perceptron_tagger to\n",
      "[nltk_data]     /home/jovyan/nltk_data...\n",
      "[nltk_data]   Package averaged_perceptron_tagger is already up-to-\n",
      "[nltk_data]       date!\n"
     ]
    }
   ],
   "source": [
    "import pandas as pd \n",
    "import re\n",
    "import matplotlib.pyplot as plt\n",
    "import seaborn as sns\n",
    "import numpy as np\n",
    "import time\n",
    "import nltk\n",
    "nltk.download('averaged_perceptron_tagger')\n",
    "from nltk.corpus import wordnet\n",
    "from pymystem3 import Mystem\n",
    "from nltk.stem import WordNetLemmatizer\n",
    "from sklearn.feature_extraction.text import TfidfVectorizer\n",
    "from sklearn.model_selection import train_test_split\n",
    "from sklearn.pipeline import Pipeline\n",
    "from sklearn.model_selection import GridSearchCV\n",
    "from sklearn.tree import DecisionTreeRegressor\n",
    "from sklearn.linear_model import LogisticRegression\n",
    "from catboost import CatBoostClassifier\n",
    "from lightgbm import LGBMClassifier\n",
    "from sklearn.metrics import f1_score\n",
    "from tqdm.notebook import tqdm\n",
    "tqdm.pandas()"
   ]
  },
  {
   "cell_type": "code",
   "execution_count": 2,
   "metadata": {},
   "outputs": [
    {
     "data": {
      "text/html": [
       "<div>\n",
       "<style scoped>\n",
       "    .dataframe tbody tr th:only-of-type {\n",
       "        vertical-align: middle;\n",
       "    }\n",
       "\n",
       "    .dataframe tbody tr th {\n",
       "        vertical-align: top;\n",
       "    }\n",
       "\n",
       "    .dataframe thead th {\n",
       "        text-align: right;\n",
       "    }\n",
       "</style>\n",
       "<table border=\"1\" class=\"dataframe\">\n",
       "  <thead>\n",
       "    <tr style=\"text-align: right;\">\n",
       "      <th></th>\n",
       "      <th>Unnamed: 0</th>\n",
       "      <th>text</th>\n",
       "      <th>toxic</th>\n",
       "    </tr>\n",
       "  </thead>\n",
       "  <tbody>\n",
       "    <tr>\n",
       "      <th>0</th>\n",
       "      <td>0</td>\n",
       "      <td>Explanation\\nWhy the edits made under my usern...</td>\n",
       "      <td>0</td>\n",
       "    </tr>\n",
       "    <tr>\n",
       "      <th>1</th>\n",
       "      <td>1</td>\n",
       "      <td>D'aww! He matches this background colour I'm s...</td>\n",
       "      <td>0</td>\n",
       "    </tr>\n",
       "    <tr>\n",
       "      <th>2</th>\n",
       "      <td>2</td>\n",
       "      <td>Hey man, I'm really not trying to edit war. It...</td>\n",
       "      <td>0</td>\n",
       "    </tr>\n",
       "    <tr>\n",
       "      <th>3</th>\n",
       "      <td>3</td>\n",
       "      <td>\"\\nMore\\nI can't make any real suggestions on ...</td>\n",
       "      <td>0</td>\n",
       "    </tr>\n",
       "    <tr>\n",
       "      <th>4</th>\n",
       "      <td>4</td>\n",
       "      <td>You, sir, are my hero. Any chance you remember...</td>\n",
       "      <td>0</td>\n",
       "    </tr>\n",
       "    <tr>\n",
       "      <th>...</th>\n",
       "      <td>...</td>\n",
       "      <td>...</td>\n",
       "      <td>...</td>\n",
       "    </tr>\n",
       "    <tr>\n",
       "      <th>159287</th>\n",
       "      <td>159446</td>\n",
       "      <td>\":::::And for the second time of asking, when ...</td>\n",
       "      <td>0</td>\n",
       "    </tr>\n",
       "    <tr>\n",
       "      <th>159288</th>\n",
       "      <td>159447</td>\n",
       "      <td>You should be ashamed of yourself \\n\\nThat is ...</td>\n",
       "      <td>0</td>\n",
       "    </tr>\n",
       "    <tr>\n",
       "      <th>159289</th>\n",
       "      <td>159448</td>\n",
       "      <td>Spitzer \\n\\nUmm, theres no actual article for ...</td>\n",
       "      <td>0</td>\n",
       "    </tr>\n",
       "    <tr>\n",
       "      <th>159290</th>\n",
       "      <td>159449</td>\n",
       "      <td>And it looks like it was actually you who put ...</td>\n",
       "      <td>0</td>\n",
       "    </tr>\n",
       "    <tr>\n",
       "      <th>159291</th>\n",
       "      <td>159450</td>\n",
       "      <td>\"\\nAnd ... I really don't think you understand...</td>\n",
       "      <td>0</td>\n",
       "    </tr>\n",
       "  </tbody>\n",
       "</table>\n",
       "<p>159292 rows × 3 columns</p>\n",
       "</div>"
      ],
      "text/plain": [
       "        Unnamed: 0                                               text  toxic\n",
       "0                0  Explanation\\nWhy the edits made under my usern...      0\n",
       "1                1  D'aww! He matches this background colour I'm s...      0\n",
       "2                2  Hey man, I'm really not trying to edit war. It...      0\n",
       "3                3  \"\\nMore\\nI can't make any real suggestions on ...      0\n",
       "4                4  You, sir, are my hero. Any chance you remember...      0\n",
       "...            ...                                                ...    ...\n",
       "159287      159446  \":::::And for the second time of asking, when ...      0\n",
       "159288      159447  You should be ashamed of yourself \\n\\nThat is ...      0\n",
       "159289      159448  Spitzer \\n\\nUmm, theres no actual article for ...      0\n",
       "159290      159449  And it looks like it was actually you who put ...      0\n",
       "159291      159450  \"\\nAnd ... I really don't think you understand...      0\n",
       "\n",
       "[159292 rows x 3 columns]"
      ]
     },
     "execution_count": 2,
     "metadata": {},
     "output_type": "execute_result"
    }
   ],
   "source": [
    "data = pd.read_csv('/datasets/toxic_comments.csv')\n",
    "data"
   ]
  },
  {
   "cell_type": "code",
   "execution_count": 3,
   "metadata": {},
   "outputs": [
    {
     "name": "stdout",
     "output_type": "stream",
     "text": [
      "<class 'pandas.core.frame.DataFrame'>\n",
      "RangeIndex: 159292 entries, 0 to 159291\n",
      "Data columns (total 3 columns):\n",
      " #   Column      Non-Null Count   Dtype \n",
      "---  ------      --------------   ----- \n",
      " 0   Unnamed: 0  159292 non-null  int64 \n",
      " 1   text        159292 non-null  object\n",
      " 2   toxic       159292 non-null  int64 \n",
      "dtypes: int64(2), object(1)\n",
      "memory usage: 3.6+ MB\n"
     ]
    }
   ],
   "source": [
    "data.info()"
   ]
  },
  {
   "cell_type": "code",
   "execution_count": 4,
   "metadata": {},
   "outputs": [
    {
     "data": {
      "text/plain": [
       "Unnamed: 0    0\n",
       "text          0\n",
       "toxic         0\n",
       "dtype: int64"
      ]
     },
     "execution_count": 4,
     "metadata": {},
     "output_type": "execute_result"
    }
   ],
   "source": [
    "data.isna().sum()"
   ]
  },
  {
   "cell_type": "code",
   "execution_count": 5,
   "metadata": {},
   "outputs": [
    {
     "data": {
      "text/plain": [
       "0"
      ]
     },
     "execution_count": 5,
     "metadata": {},
     "output_type": "execute_result"
    }
   ],
   "source": [
    "data.duplicated().sum()"
   ]
  },
  {
   "cell_type": "code",
   "execution_count": 6,
   "metadata": {},
   "outputs": [
    {
     "data": {
      "text/plain": [
       "0    143106\n",
       "1     16186\n",
       "Name: toxic, dtype: int64"
      ]
     },
     "execution_count": 6,
     "metadata": {},
     "output_type": "execute_result"
    }
   ],
   "source": [
    "data['toxic'].value_counts()"
   ]
  },
  {
   "cell_type": "code",
   "execution_count": 7,
   "metadata": {},
   "outputs": [
    {
     "data": {
      "text/plain": [
       "89.83878663084147"
      ]
     },
     "execution_count": 7,
     "metadata": {},
     "output_type": "execute_result"
    }
   ],
   "source": [
    "data['toxic'].value_counts().loc[0] / len(data) * 100"
   ]
  },
  {
   "cell_type": "markdown",
   "metadata": {},
   "source": [
    "При первоначальном изучении данных видно, что в данных 159 292 комментария, пропусков и дубликатов нет. Проверила целевой признак, если предположить, что 0-это нормальный комментарий, а 1-токсичный, то изначально токсичных комментариев ориентировочно 10% от общих."
   ]
  },
  {
   "cell_type": "code",
   "execution_count": 8,
   "metadata": {},
   "outputs": [],
   "source": [
    "data['text'] = data['text'].str.lower() "
   ]
  },
  {
   "cell_type": "code",
   "execution_count": 9,
   "metadata": {},
   "outputs": [
    {
     "data": {
      "application/vnd.jupyter.widget-view+json": {
       "model_id": "c58bd3b1cb9e48f0a95d90d589cd0a63",
       "version_major": 2,
       "version_minor": 0
      },
      "text/plain": [
       "  0%|          | 0/159292 [00:00<?, ?it/s]"
      ]
     },
     "metadata": {},
     "output_type": "display_data"
    },
    {
     "name": "stdout",
     "output_type": "stream",
     "text": [
      "CPU times: user 7min 58s, sys: 6.01 s, total: 8min 4s\n",
      "Wall time: 8min 18s\n"
     ]
    },
    {
     "data": {
      "text/html": [
       "<div>\n",
       "<style scoped>\n",
       "    .dataframe tbody tr th:only-of-type {\n",
       "        vertical-align: middle;\n",
       "    }\n",
       "\n",
       "    .dataframe tbody tr th {\n",
       "        vertical-align: top;\n",
       "    }\n",
       "\n",
       "    .dataframe thead th {\n",
       "        text-align: right;\n",
       "    }\n",
       "</style>\n",
       "<table border=\"1\" class=\"dataframe\">\n",
       "  <thead>\n",
       "    <tr style=\"text-align: right;\">\n",
       "      <th></th>\n",
       "      <th>Unnamed: 0</th>\n",
       "      <th>text</th>\n",
       "      <th>toxic</th>\n",
       "    </tr>\n",
       "  </thead>\n",
       "  <tbody>\n",
       "    <tr>\n",
       "      <th>0</th>\n",
       "      <td>0</td>\n",
       "      <td>explanation why the edits make under my userna...</td>\n",
       "      <td>0</td>\n",
       "    </tr>\n",
       "    <tr>\n",
       "      <th>1</th>\n",
       "      <td>1</td>\n",
       "      <td>d'aww! he match this background colour i'm see...</td>\n",
       "      <td>0</td>\n",
       "    </tr>\n",
       "    <tr>\n",
       "      <th>2</th>\n",
       "      <td>2</td>\n",
       "      <td>hey man, i'm really not try to edit war. it's ...</td>\n",
       "      <td>0</td>\n",
       "    </tr>\n",
       "    <tr>\n",
       "      <th>3</th>\n",
       "      <td>3</td>\n",
       "      <td>\" more i can't make any real suggestion on imp...</td>\n",
       "      <td>0</td>\n",
       "    </tr>\n",
       "    <tr>\n",
       "      <th>4</th>\n",
       "      <td>4</td>\n",
       "      <td>you, sir, be my hero. any chance you remember ...</td>\n",
       "      <td>0</td>\n",
       "    </tr>\n",
       "  </tbody>\n",
       "</table>\n",
       "</div>"
      ],
      "text/plain": [
       "   Unnamed: 0                                               text  toxic\n",
       "0           0  explanation why the edits make under my userna...      0\n",
       "1           1  d'aww! he match this background colour i'm see...      0\n",
       "2           2  hey man, i'm really not try to edit war. it's ...      0\n",
       "3           3  \" more i can't make any real suggestion on imp...      0\n",
       "4           4  you, sir, be my hero. any chance you remember ...      0"
      ]
     },
     "execution_count": 9,
     "metadata": {},
     "output_type": "execute_result"
    }
   ],
   "source": [
    "%%time\n",
    "lemmatizer = WordNetLemmatizer()\n",
    "wordnet_map = {\"N\":wordnet.NOUN, \"V\":wordnet.VERB, \"J\":wordnet.ADJ, \"R\":wordnet.ADV}\n",
    "def lemmatize_words(text):\n",
    "    pos_tagged_text = nltk.pos_tag(text.split())\n",
    "    return \" \".join(\n",
    "    [\n",
    "        lemmatizer.lemmatize(word, wordnet_map.get(pos[0], wordnet.NOUN))\n",
    "        for word, pos in pos_tagged_text\n",
    "    ]\n",
    "    )\n",
    "\n",
    "data[\"text\"] = data[\"text\"].progress_apply(lambda text: lemmatize_words(text))\n",
    "data.head()"
   ]
  },
  {
   "cell_type": "code",
   "execution_count": 10,
   "metadata": {},
   "outputs": [],
   "source": [
    "def clear_text(text):\n",
    "    clear_text = re.sub(r'[^a-zA-Z]', ' ', text)\n",
    "    clear_text = \" \".join(clear_text.split())\n",
    "    \n",
    "    return clear_text"
   ]
  },
  {
   "cell_type": "code",
   "execution_count": 11,
   "metadata": {},
   "outputs": [
    {
     "name": "stdout",
     "output_type": "stream",
     "text": [
      "CPU times: user 4 s, sys: 24 ms, total: 4.03 s\n",
      "Wall time: 4.04 s\n"
     ]
    }
   ],
   "source": [
    "%%time\n",
    "data['text'] = data['text'].apply(clear_text)"
   ]
  },
  {
   "cell_type": "code",
   "execution_count": 12,
   "metadata": {},
   "outputs": [
    {
     "data": {
      "text/html": [
       "<div>\n",
       "<style scoped>\n",
       "    .dataframe tbody tr th:only-of-type {\n",
       "        vertical-align: middle;\n",
       "    }\n",
       "\n",
       "    .dataframe tbody tr th {\n",
       "        vertical-align: top;\n",
       "    }\n",
       "\n",
       "    .dataframe thead th {\n",
       "        text-align: right;\n",
       "    }\n",
       "</style>\n",
       "<table border=\"1\" class=\"dataframe\">\n",
       "  <thead>\n",
       "    <tr style=\"text-align: right;\">\n",
       "      <th></th>\n",
       "      <th>Unnamed: 0</th>\n",
       "      <th>text</th>\n",
       "      <th>toxic</th>\n",
       "    </tr>\n",
       "  </thead>\n",
       "  <tbody>\n",
       "    <tr>\n",
       "      <th>0</th>\n",
       "      <td>0</td>\n",
       "      <td>explanation why the edits make under my userna...</td>\n",
       "      <td>0</td>\n",
       "    </tr>\n",
       "    <tr>\n",
       "      <th>1</th>\n",
       "      <td>1</td>\n",
       "      <td>d aww he match this background colour i m seem...</td>\n",
       "      <td>0</td>\n",
       "    </tr>\n",
       "    <tr>\n",
       "      <th>2</th>\n",
       "      <td>2</td>\n",
       "      <td>hey man i m really not try to edit war it s ju...</td>\n",
       "      <td>0</td>\n",
       "    </tr>\n",
       "    <tr>\n",
       "      <th>3</th>\n",
       "      <td>3</td>\n",
       "      <td>more i can t make any real suggestion on impro...</td>\n",
       "      <td>0</td>\n",
       "    </tr>\n",
       "    <tr>\n",
       "      <th>4</th>\n",
       "      <td>4</td>\n",
       "      <td>you sir be my hero any chance you remember wha...</td>\n",
       "      <td>0</td>\n",
       "    </tr>\n",
       "  </tbody>\n",
       "</table>\n",
       "</div>"
      ],
      "text/plain": [
       "   Unnamed: 0                                               text  toxic\n",
       "0           0  explanation why the edits make under my userna...      0\n",
       "1           1  d aww he match this background colour i m seem...      0\n",
       "2           2  hey man i m really not try to edit war it s ju...      0\n",
       "3           3  more i can t make any real suggestion on impro...      0\n",
       "4           4  you sir be my hero any chance you remember wha...      0"
      ]
     },
     "execution_count": 12,
     "metadata": {},
     "output_type": "execute_result"
    }
   ],
   "source": [
    "data.head()"
   ]
  },
  {
   "cell_type": "code",
   "execution_count": 13,
   "metadata": {},
   "outputs": [
    {
     "name": "stdout",
     "output_type": "stream",
     "text": [
      "(143362, 3)\n",
      "(15930, 3)\n"
     ]
    }
   ],
   "source": [
    "data_train, data_test=train_test_split(data, test_size=0.1, random_state=12345) \n",
    "print(data_train.shape)\n",
    "print(data_test.shape)"
   ]
  },
  {
   "cell_type": "code",
   "execution_count": 14,
   "metadata": {},
   "outputs": [],
   "source": [
    "features_train = data_train.drop(['toxic'], axis=1)\n",
    "target_train = data_train['toxic']\n",
    "features_test=data_test.drop(['toxic'], axis=1)\n",
    "target_test=data_test['toxic']"
   ]
  },
  {
   "cell_type": "markdown",
   "metadata": {},
   "source": [
    "Провела предобработку данных, лемматизировала текст и очистила текст от символов. Далее я разделила датасет на 2 выборки для дальнейшего обучения моделей (так как планирую в при обучении использовать кросс-валидацию) в соотношении 90/10"
   ]
  },
  {
   "cell_type": "markdown",
   "metadata": {},
   "source": [
    "## Обучение"
   ]
  },
  {
   "cell_type": "code",
   "execution_count": 15,
   "metadata": {},
   "outputs": [
    {
     "name": "stderr",
     "output_type": "stream",
     "text": [
      "/opt/conda/lib/python3.9/site-packages/sklearn/linear_model/_logistic.py:763: ConvergenceWarning: lbfgs failed to converge (status=1):\n",
      "STOP: TOTAL NO. of ITERATIONS REACHED LIMIT.\n",
      "\n",
      "Increase the number of iterations (max_iter) or scale the data as shown in:\n",
      "    https://scikit-learn.org/stable/modules/preprocessing.html\n",
      "Please also refer to the documentation for alternative solver options:\n",
      "    https://scikit-learn.org/stable/modules/linear_model.html#logistic-regression\n",
      "  n_iter_i = _check_optimize_result(\n",
      "/opt/conda/lib/python3.9/site-packages/sklearn/linear_model/_logistic.py:763: ConvergenceWarning: lbfgs failed to converge (status=1):\n",
      "STOP: TOTAL NO. of ITERATIONS REACHED LIMIT.\n",
      "\n",
      "Increase the number of iterations (max_iter) or scale the data as shown in:\n",
      "    https://scikit-learn.org/stable/modules/preprocessing.html\n",
      "Please also refer to the documentation for alternative solver options:\n",
      "    https://scikit-learn.org/stable/modules/linear_model.html#logistic-regression\n",
      "  n_iter_i = _check_optimize_result(\n",
      "/opt/conda/lib/python3.9/site-packages/sklearn/linear_model/_logistic.py:763: ConvergenceWarning: lbfgs failed to converge (status=1):\n",
      "STOP: TOTAL NO. of ITERATIONS REACHED LIMIT.\n",
      "\n",
      "Increase the number of iterations (max_iter) or scale the data as shown in:\n",
      "    https://scikit-learn.org/stable/modules/preprocessing.html\n",
      "Please also refer to the documentation for alternative solver options:\n",
      "    https://scikit-learn.org/stable/modules/linear_model.html#logistic-regression\n",
      "  n_iter_i = _check_optimize_result(\n",
      "/opt/conda/lib/python3.9/site-packages/sklearn/linear_model/_logistic.py:763: ConvergenceWarning: lbfgs failed to converge (status=1):\n",
      "STOP: TOTAL NO. of ITERATIONS REACHED LIMIT.\n",
      "\n",
      "Increase the number of iterations (max_iter) or scale the data as shown in:\n",
      "    https://scikit-learn.org/stable/modules/preprocessing.html\n",
      "Please also refer to the documentation for alternative solver options:\n",
      "    https://scikit-learn.org/stable/modules/linear_model.html#logistic-regression\n",
      "  n_iter_i = _check_optimize_result(\n",
      "/opt/conda/lib/python3.9/site-packages/sklearn/linear_model/_logistic.py:763: ConvergenceWarning: lbfgs failed to converge (status=1):\n",
      "STOP: TOTAL NO. of ITERATIONS REACHED LIMIT.\n",
      "\n",
      "Increase the number of iterations (max_iter) or scale the data as shown in:\n",
      "    https://scikit-learn.org/stable/modules/preprocessing.html\n",
      "Please also refer to the documentation for alternative solver options:\n",
      "    https://scikit-learn.org/stable/modules/linear_model.html#logistic-regression\n",
      "  n_iter_i = _check_optimize_result(\n",
      "/opt/conda/lib/python3.9/site-packages/sklearn/linear_model/_logistic.py:763: ConvergenceWarning: lbfgs failed to converge (status=1):\n",
      "STOP: TOTAL NO. of ITERATIONS REACHED LIMIT.\n",
      "\n",
      "Increase the number of iterations (max_iter) or scale the data as shown in:\n",
      "    https://scikit-learn.org/stable/modules/preprocessing.html\n",
      "Please also refer to the documentation for alternative solver options:\n",
      "    https://scikit-learn.org/stable/modules/linear_model.html#logistic-regression\n",
      "  n_iter_i = _check_optimize_result(\n",
      "/opt/conda/lib/python3.9/site-packages/sklearn/linear_model/_logistic.py:763: ConvergenceWarning: lbfgs failed to converge (status=1):\n",
      "STOP: TOTAL NO. of ITERATIONS REACHED LIMIT.\n",
      "\n",
      "Increase the number of iterations (max_iter) or scale the data as shown in:\n",
      "    https://scikit-learn.org/stable/modules/preprocessing.html\n",
      "Please also refer to the documentation for alternative solver options:\n",
      "    https://scikit-learn.org/stable/modules/linear_model.html#logistic-regression\n",
      "  n_iter_i = _check_optimize_result(\n"
     ]
    },
    {
     "name": "stdout",
     "output_type": "stream",
     "text": [
      "Лучшие параметры для логистической регрессии {'clf__C': 10, 'clf__class_weight': 'balanced', 'clf__solver': 'liblinear'}\n",
      "Лучшая оценка для логистической регрессии 0.76\n",
      "CPU times: user 7min, sys: 5min 37s, total: 12min 38s\n",
      "Wall time: 12min 39s\n"
     ]
    }
   ],
   "source": [
    "%%time\n",
    "lr_pipeline = Pipeline([('tfidf', TfidfVectorizer(stop_words='english', sublinear_tf=True)), \n",
    "                     ('clf', LogisticRegression())])\n",
    "    \n",
    "parameters = {'clf__solver': ['liblinear','lbfgs'],\n",
    "              'clf__C': [1, 10, 100],\n",
    "              'clf__class_weight': (['balanced'])\n",
    "             }\n",
    "\n",
    "lr_grid = GridSearchCV(estimator=lr_pipeline, scoring='f1', cv=3, n_jobs=-1, param_grid = parameters)\n",
    "lr_grid.fit(features_train['text'], target_train)\n",
    "lr_best_parameters = lr_grid.best_params_\n",
    "print('Лучшие параметры для логистической регрессии', lr_best_parameters)\n",
    "print('Лучшая оценка для логистической регрессии', lr_grid.best_score_.round(2))"
   ]
  },
  {
   "cell_type": "code",
   "execution_count": 16,
   "metadata": {},
   "outputs": [
    {
     "name": "stdout",
     "output_type": "stream",
     "text": [
      "Fitting 3 folds for each of 6 candidates, totalling 18 fits\n",
      "[CV 1/3; 1/6] START cat__max_depth=5, cat__n_estimators=50......................\n",
      "Learning rate set to 0.5\n",
      "0:\tlearn: 0.3575457\ttotal: 1.48s\tremaining: 1m 12s\n",
      "1:\tlearn: 0.2726031\ttotal: 2.74s\tremaining: 1m 5s\n",
      "2:\tlearn: 0.2443653\ttotal: 3.98s\tremaining: 1m 2s\n",
      "3:\tlearn: 0.2314736\ttotal: 5.25s\tremaining: 1m\n",
      "4:\tlearn: 0.2227647\ttotal: 6.44s\tremaining: 58s\n",
      "5:\tlearn: 0.2130087\ttotal: 7.64s\tremaining: 56s\n",
      "6:\tlearn: 0.2059945\ttotal: 8.84s\tremaining: 54.3s\n",
      "7:\tlearn: 0.2018987\ttotal: 10s\tremaining: 52.6s\n",
      "8:\tlearn: 0.1981358\ttotal: 11.2s\tremaining: 51s\n",
      "9:\tlearn: 0.1951909\ttotal: 12.3s\tremaining: 49.4s\n",
      "10:\tlearn: 0.1919790\ttotal: 13.5s\tremaining: 48s\n",
      "11:\tlearn: 0.1890610\ttotal: 14.8s\tremaining: 46.9s\n",
      "12:\tlearn: 0.1859762\ttotal: 16s\tremaining: 45.6s\n",
      "13:\tlearn: 0.1832799\ttotal: 17.2s\tremaining: 44.1s\n",
      "14:\tlearn: 0.1808463\ttotal: 18.3s\tremaining: 42.8s\n",
      "15:\tlearn: 0.1789310\ttotal: 19.5s\tremaining: 41.4s\n",
      "16:\tlearn: 0.1769437\ttotal: 20.6s\tremaining: 40s\n",
      "17:\tlearn: 0.1747073\ttotal: 21.8s\tremaining: 38.7s\n",
      "18:\tlearn: 0.1726861\ttotal: 23s\tremaining: 37.5s\n",
      "19:\tlearn: 0.1713254\ttotal: 24.1s\tremaining: 36.2s\n",
      "20:\tlearn: 0.1699565\ttotal: 25.3s\tremaining: 35s\n",
      "21:\tlearn: 0.1687995\ttotal: 26.4s\tremaining: 33.6s\n",
      "22:\tlearn: 0.1674537\ttotal: 27.6s\tremaining: 32.3s\n",
      "23:\tlearn: 0.1661033\ttotal: 28.7s\tremaining: 31.1s\n",
      "24:\tlearn: 0.1650424\ttotal: 29.8s\tremaining: 29.8s\n",
      "25:\tlearn: 0.1639425\ttotal: 31s\tremaining: 28.6s\n",
      "26:\tlearn: 0.1629197\ttotal: 32.1s\tremaining: 27.3s\n",
      "27:\tlearn: 0.1618928\ttotal: 33.3s\tremaining: 26.1s\n",
      "28:\tlearn: 0.1606514\ttotal: 34.4s\tremaining: 24.9s\n",
      "29:\tlearn: 0.1591065\ttotal: 35.6s\tremaining: 23.7s\n",
      "30:\tlearn: 0.1581235\ttotal: 36.7s\tremaining: 22.5s\n",
      "31:\tlearn: 0.1571861\ttotal: 37.9s\tremaining: 21.3s\n",
      "32:\tlearn: 0.1563689\ttotal: 39s\tremaining: 20.1s\n",
      "33:\tlearn: 0.1545967\ttotal: 40.2s\tremaining: 18.9s\n",
      "34:\tlearn: 0.1537013\ttotal: 41.3s\tremaining: 17.7s\n",
      "35:\tlearn: 0.1529622\ttotal: 42.4s\tremaining: 16.5s\n",
      "36:\tlearn: 0.1522980\ttotal: 43.5s\tremaining: 15.3s\n",
      "37:\tlearn: 0.1512244\ttotal: 44.7s\tremaining: 14.1s\n",
      "38:\tlearn: 0.1505617\ttotal: 45.8s\tremaining: 12.9s\n",
      "39:\tlearn: 0.1496491\ttotal: 47s\tremaining: 11.7s\n",
      "40:\tlearn: 0.1490238\ttotal: 48.1s\tremaining: 10.6s\n",
      "41:\tlearn: 0.1482541\ttotal: 49.3s\tremaining: 9.39s\n",
      "42:\tlearn: 0.1476380\ttotal: 50.4s\tremaining: 8.21s\n",
      "43:\tlearn: 0.1466260\ttotal: 51.6s\tremaining: 7.04s\n",
      "44:\tlearn: 0.1460233\ttotal: 52.7s\tremaining: 5.86s\n",
      "45:\tlearn: 0.1452999\ttotal: 54.1s\tremaining: 4.7s\n",
      "46:\tlearn: 0.1446780\ttotal: 55.3s\tremaining: 3.53s\n",
      "47:\tlearn: 0.1441061\ttotal: 56.5s\tremaining: 2.35s\n",
      "48:\tlearn: 0.1436766\ttotal: 57.7s\tremaining: 1.18s\n",
      "49:\tlearn: 0.1427772\ttotal: 58.9s\tremaining: 0us\n",
      "[CV 1/3; 1/6] END ....cat__max_depth=5, cat__n_estimators=50; total time= 1.5min\n",
      "[CV 2/3; 1/6] START cat__max_depth=5, cat__n_estimators=50......................\n",
      "Learning rate set to 0.5\n",
      "0:\tlearn: 0.3501955\ttotal: 1.5s\tremaining: 1m 13s\n",
      "1:\tlearn: 0.2695096\ttotal: 2.8s\tremaining: 1m 7s\n",
      "2:\tlearn: 0.2430097\ttotal: 4.09s\tremaining: 1m 4s\n",
      "3:\tlearn: 0.2300205\ttotal: 5.37s\tremaining: 1m 1s\n",
      "4:\tlearn: 0.2213192\ttotal: 6.59s\tremaining: 59.4s\n",
      "5:\tlearn: 0.2118185\ttotal: 7.83s\tremaining: 57.4s\n",
      "6:\tlearn: 0.2073780\ttotal: 9.05s\tremaining: 55.6s\n",
      "7:\tlearn: 0.2043735\ttotal: 10.3s\tremaining: 53.9s\n",
      "8:\tlearn: 0.2000374\ttotal: 11.6s\tremaining: 52.6s\n",
      "9:\tlearn: 0.1956493\ttotal: 12.8s\tremaining: 51.3s\n",
      "10:\tlearn: 0.1926877\ttotal: 14.1s\tremaining: 49.8s\n",
      "11:\tlearn: 0.1897445\ttotal: 15.3s\tremaining: 48.3s\n",
      "12:\tlearn: 0.1873890\ttotal: 16.5s\tremaining: 46.8s\n",
      "13:\tlearn: 0.1853263\ttotal: 17.6s\tremaining: 45.3s\n",
      "14:\tlearn: 0.1833348\ttotal: 18.8s\tremaining: 43.8s\n",
      "15:\tlearn: 0.1805926\ttotal: 20s\tremaining: 42.5s\n",
      "16:\tlearn: 0.1788846\ttotal: 21.2s\tremaining: 41.2s\n",
      "17:\tlearn: 0.1768353\ttotal: 22.5s\tremaining: 40s\n",
      "18:\tlearn: 0.1753062\ttotal: 23.7s\tremaining: 38.6s\n",
      "19:\tlearn: 0.1734907\ttotal: 24.8s\tremaining: 37.3s\n",
      "20:\tlearn: 0.1720524\ttotal: 26s\tremaining: 35.9s\n",
      "21:\tlearn: 0.1705470\ttotal: 27.2s\tremaining: 34.6s\n",
      "22:\tlearn: 0.1692119\ttotal: 28.4s\tremaining: 33.3s\n",
      "23:\tlearn: 0.1678251\ttotal: 29.5s\tremaining: 32s\n",
      "24:\tlearn: 0.1657514\ttotal: 30.7s\tremaining: 30.7s\n",
      "25:\tlearn: 0.1647562\ttotal: 31.9s\tremaining: 29.5s\n",
      "26:\tlearn: 0.1636342\ttotal: 33s\tremaining: 28.1s\n",
      "27:\tlearn: 0.1618786\ttotal: 34.2s\tremaining: 26.9s\n",
      "28:\tlearn: 0.1608350\ttotal: 35.4s\tremaining: 25.6s\n",
      "29:\tlearn: 0.1592423\ttotal: 36.6s\tremaining: 24.4s\n",
      "30:\tlearn: 0.1580289\ttotal: 37.7s\tremaining: 23.1s\n",
      "31:\tlearn: 0.1571006\ttotal: 38.9s\tremaining: 21.9s\n",
      "32:\tlearn: 0.1558530\ttotal: 40.1s\tremaining: 20.6s\n",
      "33:\tlearn: 0.1551192\ttotal: 41.2s\tremaining: 19.4s\n",
      "34:\tlearn: 0.1544338\ttotal: 42.4s\tremaining: 18.2s\n",
      "35:\tlearn: 0.1534348\ttotal: 43.6s\tremaining: 17s\n",
      "36:\tlearn: 0.1526409\ttotal: 44.7s\tremaining: 15.7s\n",
      "37:\tlearn: 0.1518801\ttotal: 45.9s\tremaining: 14.5s\n",
      "38:\tlearn: 0.1509457\ttotal: 47s\tremaining: 13.3s\n",
      "39:\tlearn: 0.1502934\ttotal: 48.2s\tremaining: 12s\n",
      "40:\tlearn: 0.1496627\ttotal: 49.3s\tremaining: 10.8s\n",
      "41:\tlearn: 0.1481413\ttotal: 50.4s\tremaining: 9.6s\n",
      "42:\tlearn: 0.1473176\ttotal: 51.5s\tremaining: 8.39s\n",
      "43:\tlearn: 0.1466945\ttotal: 52.7s\tremaining: 7.18s\n",
      "44:\tlearn: 0.1461089\ttotal: 53.8s\tremaining: 5.98s\n",
      "45:\tlearn: 0.1452617\ttotal: 54.9s\tremaining: 4.78s\n",
      "46:\tlearn: 0.1446778\ttotal: 56.1s\tremaining: 3.58s\n",
      "47:\tlearn: 0.1440407\ttotal: 57.3s\tremaining: 2.39s\n",
      "48:\tlearn: 0.1433387\ttotal: 58.4s\tremaining: 1.19s\n",
      "49:\tlearn: 0.1429198\ttotal: 59.6s\tremaining: 0us\n",
      "[CV 2/3; 1/6] END ....cat__max_depth=5, cat__n_estimators=50; total time= 1.6min\n",
      "[CV 3/3; 1/6] START cat__max_depth=5, cat__n_estimators=50......................\n",
      "Learning rate set to 0.5\n",
      "0:\tlearn: 0.3418003\ttotal: 1.49s\tremaining: 1m 13s\n",
      "1:\tlearn: 0.2604330\ttotal: 2.74s\tremaining: 1m 5s\n",
      "2:\tlearn: 0.2365749\ttotal: 4.01s\tremaining: 1m 2s\n",
      "3:\tlearn: 0.2257981\ttotal: 5.21s\tremaining: 59.9s\n",
      "4:\tlearn: 0.2144815\ttotal: 6.48s\tremaining: 58.3s\n",
      "5:\tlearn: 0.2083260\ttotal: 7.69s\tremaining: 56.4s\n",
      "6:\tlearn: 0.2042267\ttotal: 8.94s\tremaining: 54.9s\n",
      "7:\tlearn: 0.1994737\ttotal: 10.2s\tremaining: 53.5s\n",
      "8:\tlearn: 0.1960420\ttotal: 11.4s\tremaining: 51.7s\n",
      "9:\tlearn: 0.1928853\ttotal: 12.5s\tremaining: 50.2s\n",
      "10:\tlearn: 0.1906781\ttotal: 13.8s\tremaining: 48.9s\n",
      "11:\tlearn: 0.1877545\ttotal: 15s\tremaining: 47.5s\n",
      "12:\tlearn: 0.1852505\ttotal: 16.2s\tremaining: 46s\n",
      "13:\tlearn: 0.1833567\ttotal: 17.3s\tremaining: 44.6s\n",
      "14:\tlearn: 0.1808897\ttotal: 18.6s\tremaining: 43.4s\n",
      "15:\tlearn: 0.1782912\ttotal: 19.8s\tremaining: 42.1s\n",
      "16:\tlearn: 0.1763295\ttotal: 21s\tremaining: 40.7s\n",
      "17:\tlearn: 0.1744359\ttotal: 22.1s\tremaining: 39.3s\n",
      "18:\tlearn: 0.1724131\ttotal: 23.3s\tremaining: 38.1s\n",
      "19:\tlearn: 0.1710366\ttotal: 24.5s\tremaining: 36.8s\n",
      "20:\tlearn: 0.1691939\ttotal: 25.7s\tremaining: 35.5s\n",
      "21:\tlearn: 0.1679668\ttotal: 26.9s\tremaining: 34.2s\n",
      "22:\tlearn: 0.1668263\ttotal: 28s\tremaining: 32.9s\n",
      "23:\tlearn: 0.1657692\ttotal: 29.3s\tremaining: 31.7s\n",
      "24:\tlearn: 0.1646533\ttotal: 30.5s\tremaining: 30.5s\n",
      "25:\tlearn: 0.1631273\ttotal: 31.6s\tremaining: 29.2s\n",
      "26:\tlearn: 0.1618398\ttotal: 32.8s\tremaining: 27.9s\n",
      "27:\tlearn: 0.1609193\ttotal: 33.8s\tremaining: 26.6s\n",
      "28:\tlearn: 0.1596699\ttotal: 35s\tremaining: 25.4s\n",
      "29:\tlearn: 0.1587591\ttotal: 36.2s\tremaining: 24.1s\n",
      "30:\tlearn: 0.1578775\ttotal: 37.4s\tremaining: 22.9s\n",
      "31:\tlearn: 0.1571637\ttotal: 38.5s\tremaining: 21.6s\n",
      "32:\tlearn: 0.1562753\ttotal: 39.7s\tremaining: 20.4s\n",
      "33:\tlearn: 0.1549364\ttotal: 40.8s\tremaining: 19.2s\n",
      "34:\tlearn: 0.1542621\ttotal: 41.9s\tremaining: 18s\n",
      "35:\tlearn: 0.1528270\ttotal: 43.1s\tremaining: 16.8s\n",
      "36:\tlearn: 0.1518782\ttotal: 44.3s\tremaining: 15.6s\n",
      "37:\tlearn: 0.1512216\ttotal: 45.4s\tremaining: 14.3s\n",
      "38:\tlearn: 0.1502915\ttotal: 46.5s\tremaining: 13.1s\n",
      "39:\tlearn: 0.1495625\ttotal: 47.7s\tremaining: 11.9s\n",
      "40:\tlearn: 0.1485667\ttotal: 48.9s\tremaining: 10.7s\n",
      "41:\tlearn: 0.1478695\ttotal: 50s\tremaining: 9.52s\n",
      "42:\tlearn: 0.1472019\ttotal: 51.1s\tremaining: 8.32s\n",
      "43:\tlearn: 0.1463749\ttotal: 52.3s\tremaining: 7.13s\n",
      "44:\tlearn: 0.1457506\ttotal: 53.4s\tremaining: 5.93s\n",
      "45:\tlearn: 0.1452911\ttotal: 54.5s\tremaining: 4.74s\n",
      "46:\tlearn: 0.1447203\ttotal: 55.7s\tremaining: 3.55s\n",
      "47:\tlearn: 0.1441776\ttotal: 56.8s\tremaining: 2.37s\n",
      "48:\tlearn: 0.1436151\ttotal: 57.9s\tremaining: 1.18s\n",
      "49:\tlearn: 0.1432012\ttotal: 59s\tremaining: 0us\n",
      "[CV 3/3; 1/6] END ....cat__max_depth=5, cat__n_estimators=50; total time= 1.5min\n",
      "[CV 1/3; 2/6] START cat__max_depth=5, cat__n_estimators=100.....................\n",
      "Learning rate set to 0.5\n",
      "0:\tlearn: 0.3575457\ttotal: 1.47s\tremaining: 2m 25s\n",
      "1:\tlearn: 0.2726031\ttotal: 2.71s\tremaining: 2m 12s\n",
      "2:\tlearn: 0.2443653\ttotal: 3.98s\tremaining: 2m 8s\n",
      "3:\tlearn: 0.2314736\ttotal: 5.26s\tremaining: 2m 6s\n",
      "4:\tlearn: 0.2227647\ttotal: 6.57s\tremaining: 2m 4s\n",
      "5:\tlearn: 0.2130087\ttotal: 7.83s\tremaining: 2m 2s\n",
      "6:\tlearn: 0.2059945\ttotal: 9.05s\tremaining: 2m\n",
      "7:\tlearn: 0.2018987\ttotal: 10.3s\tremaining: 1m 58s\n",
      "8:\tlearn: 0.1981358\ttotal: 11.4s\tremaining: 1m 55s\n",
      "9:\tlearn: 0.1951909\ttotal: 12.6s\tremaining: 1m 53s\n",
      "10:\tlearn: 0.1919790\ttotal: 13.8s\tremaining: 1m 51s\n",
      "11:\tlearn: 0.1890610\ttotal: 14.9s\tremaining: 1m 49s\n",
      "12:\tlearn: 0.1859762\ttotal: 16.1s\tremaining: 1m 47s\n",
      "13:\tlearn: 0.1832799\ttotal: 17.3s\tremaining: 1m 46s\n",
      "14:\tlearn: 0.1808463\ttotal: 18.5s\tremaining: 1m 44s\n",
      "15:\tlearn: 0.1789310\ttotal: 19.7s\tremaining: 1m 43s\n",
      "16:\tlearn: 0.1769437\ttotal: 20.8s\tremaining: 1m 41s\n",
      "17:\tlearn: 0.1747073\ttotal: 22.1s\tremaining: 1m 40s\n",
      "18:\tlearn: 0.1726861\ttotal: 23.3s\tremaining: 1m 39s\n",
      "19:\tlearn: 0.1713254\ttotal: 24.4s\tremaining: 1m 37s\n",
      "20:\tlearn: 0.1699565\ttotal: 25.6s\tremaining: 1m 36s\n",
      "21:\tlearn: 0.1687995\ttotal: 26.8s\tremaining: 1m 35s\n",
      "22:\tlearn: 0.1674537\ttotal: 28s\tremaining: 1m 33s\n",
      "23:\tlearn: 0.1661033\ttotal: 29.1s\tremaining: 1m 32s\n",
      "24:\tlearn: 0.1650424\ttotal: 30.2s\tremaining: 1m 30s\n",
      "25:\tlearn: 0.1639425\ttotal: 31.3s\tremaining: 1m 29s\n",
      "26:\tlearn: 0.1629197\ttotal: 32.4s\tremaining: 1m 27s\n",
      "27:\tlearn: 0.1618928\ttotal: 33.6s\tremaining: 1m 26s\n",
      "28:\tlearn: 0.1606514\ttotal: 34.8s\tremaining: 1m 25s\n",
      "29:\tlearn: 0.1591065\ttotal: 36.1s\tremaining: 1m 24s\n",
      "30:\tlearn: 0.1581235\ttotal: 37.4s\tremaining: 1m 23s\n",
      "31:\tlearn: 0.1571861\ttotal: 38.5s\tremaining: 1m 21s\n",
      "32:\tlearn: 0.1563689\ttotal: 39.7s\tremaining: 1m 20s\n",
      "33:\tlearn: 0.1545967\ttotal: 40.9s\tremaining: 1m 19s\n",
      "34:\tlearn: 0.1537013\ttotal: 42s\tremaining: 1m 18s\n",
      "35:\tlearn: 0.1529622\ttotal: 43.2s\tremaining: 1m 16s\n",
      "36:\tlearn: 0.1522980\ttotal: 44.3s\tremaining: 1m 15s\n",
      "37:\tlearn: 0.1512244\ttotal: 45.5s\tremaining: 1m 14s\n",
      "38:\tlearn: 0.1505617\ttotal: 46.8s\tremaining: 1m 13s\n",
      "39:\tlearn: 0.1496491\ttotal: 48s\tremaining: 1m 11s\n",
      "40:\tlearn: 0.1490238\ttotal: 49.1s\tremaining: 1m 10s\n",
      "41:\tlearn: 0.1482541\ttotal: 50.3s\tremaining: 1m 9s\n",
      "42:\tlearn: 0.1476380\ttotal: 51.4s\tremaining: 1m 8s\n",
      "43:\tlearn: 0.1466260\ttotal: 52.6s\tremaining: 1m 6s\n",
      "44:\tlearn: 0.1460233\ttotal: 53.8s\tremaining: 1m 5s\n",
      "45:\tlearn: 0.1452999\ttotal: 55.1s\tremaining: 1m 4s\n",
      "46:\tlearn: 0.1446780\ttotal: 56.3s\tremaining: 1m 3s\n",
      "47:\tlearn: 0.1441061\ttotal: 57.5s\tremaining: 1m 2s\n",
      "48:\tlearn: 0.1436766\ttotal: 58.6s\tremaining: 1m\n",
      "49:\tlearn: 0.1427772\ttotal: 59.7s\tremaining: 59.7s\n",
      "50:\tlearn: 0.1421362\ttotal: 1m\tremaining: 58.5s\n",
      "51:\tlearn: 0.1416885\ttotal: 1m 2s\tremaining: 57.3s\n",
      "52:\tlearn: 0.1413179\ttotal: 1m 3s\tremaining: 56s\n",
      "53:\tlearn: 0.1405000\ttotal: 1m 4s\tremaining: 54.8s\n",
      "54:\tlearn: 0.1400753\ttotal: 1m 5s\tremaining: 53.7s\n",
      "55:\tlearn: 0.1395106\ttotal: 1m 6s\tremaining: 52.5s\n",
      "56:\tlearn: 0.1389660\ttotal: 1m 8s\tremaining: 51.4s\n",
      "57:\tlearn: 0.1384379\ttotal: 1m 9s\tremaining: 50.2s\n",
      "58:\tlearn: 0.1380871\ttotal: 1m 10s\tremaining: 49s\n",
      "59:\tlearn: 0.1377122\ttotal: 1m 11s\tremaining: 47.8s\n",
      "60:\tlearn: 0.1374175\ttotal: 1m 12s\tremaining: 46.5s\n",
      "61:\tlearn: 0.1370880\ttotal: 1m 13s\tremaining: 45.3s\n",
      "62:\tlearn: 0.1367719\ttotal: 1m 15s\tremaining: 44.1s\n",
      "63:\tlearn: 0.1362883\ttotal: 1m 16s\tremaining: 42.9s\n",
      "64:\tlearn: 0.1357952\ttotal: 1m 17s\tremaining: 41.7s\n",
      "65:\tlearn: 0.1350130\ttotal: 1m 18s\tremaining: 40.6s\n",
      "66:\tlearn: 0.1346173\ttotal: 1m 20s\tremaining: 39.4s\n",
      "67:\tlearn: 0.1343061\ttotal: 1m 21s\tremaining: 38.2s\n",
      "68:\tlearn: 0.1337621\ttotal: 1m 22s\tremaining: 37s\n",
      "69:\tlearn: 0.1334234\ttotal: 1m 23s\tremaining: 35.8s\n",
      "70:\tlearn: 0.1331243\ttotal: 1m 24s\tremaining: 34.6s\n",
      "71:\tlearn: 0.1327174\ttotal: 1m 25s\tremaining: 33.4s\n",
      "72:\tlearn: 0.1324247\ttotal: 1m 26s\tremaining: 32.2s\n",
      "73:\tlearn: 0.1316173\ttotal: 1m 28s\tremaining: 31s\n",
      "74:\tlearn: 0.1313898\ttotal: 1m 29s\tremaining: 29.8s\n",
      "75:\tlearn: 0.1307723\ttotal: 1m 30s\tremaining: 28.6s\n",
      "76:\tlearn: 0.1304421\ttotal: 1m 31s\tremaining: 27.4s\n",
      "77:\tlearn: 0.1301938\ttotal: 1m 32s\tremaining: 26.2s\n",
      "78:\tlearn: 0.1295115\ttotal: 1m 33s\tremaining: 25s\n",
      "79:\tlearn: 0.1292831\ttotal: 1m 35s\tremaining: 23.8s\n",
      "80:\tlearn: 0.1290228\ttotal: 1m 36s\tremaining: 22.6s\n",
      "81:\tlearn: 0.1287382\ttotal: 1m 37s\tremaining: 21.4s\n",
      "82:\tlearn: 0.1284521\ttotal: 1m 38s\tremaining: 20.2s\n",
      "83:\tlearn: 0.1282450\ttotal: 1m 39s\tremaining: 19s\n",
      "84:\tlearn: 0.1279539\ttotal: 1m 41s\tremaining: 17.8s\n",
      "85:\tlearn: 0.1274029\ttotal: 1m 42s\tremaining: 16.6s\n",
      "86:\tlearn: 0.1272038\ttotal: 1m 43s\tremaining: 15.4s\n",
      "87:\tlearn: 0.1269953\ttotal: 1m 44s\tremaining: 14.2s\n",
      "88:\tlearn: 0.1267954\ttotal: 1m 45s\tremaining: 13s\n",
      "89:\tlearn: 0.1264325\ttotal: 1m 46s\tremaining: 11.9s\n",
      "90:\tlearn: 0.1259790\ttotal: 1m 47s\tremaining: 10.7s\n",
      "91:\tlearn: 0.1257964\ttotal: 1m 49s\tremaining: 9.48s\n",
      "92:\tlearn: 0.1255947\ttotal: 1m 50s\tremaining: 8.3s\n",
      "93:\tlearn: 0.1252590\ttotal: 1m 51s\tremaining: 7.11s\n",
      "94:\tlearn: 0.1248992\ttotal: 1m 52s\tremaining: 5.92s\n",
      "95:\tlearn: 0.1246612\ttotal: 1m 53s\tremaining: 4.74s\n",
      "96:\tlearn: 0.1244956\ttotal: 1m 54s\tremaining: 3.55s\n",
      "97:\tlearn: 0.1240233\ttotal: 1m 55s\tremaining: 2.37s\n",
      "98:\tlearn: 0.1238241\ttotal: 1m 57s\tremaining: 1.18s\n",
      "99:\tlearn: 0.1233475\ttotal: 1m 58s\tremaining: 0us\n",
      "[CV 1/3; 2/6] END ...cat__max_depth=5, cat__n_estimators=100; total time= 2.5min\n",
      "[CV 2/3; 2/6] START cat__max_depth=5, cat__n_estimators=100.....................\n",
      "Learning rate set to 0.5\n",
      "0:\tlearn: 0.3501955\ttotal: 1.44s\tremaining: 2m 22s\n",
      "1:\tlearn: 0.2695096\ttotal: 2.73s\tremaining: 2m 13s\n",
      "2:\tlearn: 0.2430097\ttotal: 4.04s\tremaining: 2m 10s\n",
      "3:\tlearn: 0.2300205\ttotal: 5.45s\tremaining: 2m 10s\n",
      "4:\tlearn: 0.2213192\ttotal: 6.69s\tremaining: 2m 7s\n",
      "5:\tlearn: 0.2118185\ttotal: 7.91s\tremaining: 2m 3s\n",
      "6:\tlearn: 0.2073780\ttotal: 9.12s\tremaining: 2m 1s\n",
      "7:\tlearn: 0.2043735\ttotal: 10.3s\tremaining: 1m 58s\n",
      "8:\tlearn: 0.2000374\ttotal: 11.5s\tremaining: 1m 56s\n",
      "9:\tlearn: 0.1956493\ttotal: 12.7s\tremaining: 1m 54s\n",
      "10:\tlearn: 0.1926877\ttotal: 13.9s\tremaining: 1m 52s\n",
      "11:\tlearn: 0.1897445\ttotal: 15.1s\tremaining: 1m 50s\n",
      "12:\tlearn: 0.1873890\ttotal: 16.3s\tremaining: 1m 49s\n",
      "13:\tlearn: 0.1853263\ttotal: 17.4s\tremaining: 1m 47s\n",
      "14:\tlearn: 0.1833348\ttotal: 18.6s\tremaining: 1m 45s\n",
      "15:\tlearn: 0.1805926\ttotal: 19.9s\tremaining: 1m 44s\n",
      "16:\tlearn: 0.1788846\ttotal: 21.2s\tremaining: 1m 43s\n",
      "17:\tlearn: 0.1768353\ttotal: 22.6s\tremaining: 1m 43s\n",
      "18:\tlearn: 0.1753062\ttotal: 23.8s\tremaining: 1m 41s\n",
      "19:\tlearn: 0.1734907\ttotal: 25.1s\tremaining: 1m 40s\n",
      "20:\tlearn: 0.1720524\ttotal: 26.4s\tremaining: 1m 39s\n",
      "21:\tlearn: 0.1705470\ttotal: 27.6s\tremaining: 1m 37s\n",
      "22:\tlearn: 0.1692119\ttotal: 28.8s\tremaining: 1m 36s\n",
      "23:\tlearn: 0.1678251\ttotal: 30s\tremaining: 1m 34s\n",
      "24:\tlearn: 0.1657514\ttotal: 31.1s\tremaining: 1m 33s\n",
      "25:\tlearn: 0.1647562\ttotal: 32.4s\tremaining: 1m 32s\n",
      "26:\tlearn: 0.1636342\ttotal: 33.6s\tremaining: 1m 30s\n",
      "27:\tlearn: 0.1618786\ttotal: 34.9s\tremaining: 1m 29s\n",
      "28:\tlearn: 0.1608350\ttotal: 36s\tremaining: 1m 28s\n",
      "29:\tlearn: 0.1592423\ttotal: 37.2s\tremaining: 1m 26s\n",
      "30:\tlearn: 0.1580289\ttotal: 38.4s\tremaining: 1m 25s\n",
      "31:\tlearn: 0.1571006\ttotal: 39.5s\tremaining: 1m 23s\n",
      "32:\tlearn: 0.1558530\ttotal: 40.7s\tremaining: 1m 22s\n",
      "33:\tlearn: 0.1551192\ttotal: 41.8s\tremaining: 1m 21s\n",
      "34:\tlearn: 0.1544338\ttotal: 42.9s\tremaining: 1m 19s\n",
      "35:\tlearn: 0.1534348\ttotal: 44.1s\tremaining: 1m 18s\n",
      "36:\tlearn: 0.1526409\ttotal: 45.3s\tremaining: 1m 17s\n",
      "37:\tlearn: 0.1518801\ttotal: 46.5s\tremaining: 1m 15s\n",
      "38:\tlearn: 0.1509457\ttotal: 47.6s\tremaining: 1m 14s\n",
      "39:\tlearn: 0.1502934\ttotal: 48.8s\tremaining: 1m 13s\n",
      "40:\tlearn: 0.1496627\ttotal: 49.9s\tremaining: 1m 11s\n",
      "41:\tlearn: 0.1481413\ttotal: 51.1s\tremaining: 1m 10s\n",
      "42:\tlearn: 0.1473176\ttotal: 52.3s\tremaining: 1m 9s\n",
      "43:\tlearn: 0.1466945\ttotal: 53.4s\tremaining: 1m 7s\n",
      "44:\tlearn: 0.1461089\ttotal: 54.5s\tremaining: 1m 6s\n",
      "45:\tlearn: 0.1452617\ttotal: 55.7s\tremaining: 1m 5s\n",
      "46:\tlearn: 0.1446778\ttotal: 56.8s\tremaining: 1m 4s\n",
      "47:\tlearn: 0.1440407\ttotal: 58s\tremaining: 1m 2s\n",
      "48:\tlearn: 0.1433387\ttotal: 59.1s\tremaining: 1m 1s\n",
      "49:\tlearn: 0.1429198\ttotal: 1m\tremaining: 1m\n",
      "50:\tlearn: 0.1424343\ttotal: 1m 1s\tremaining: 58.9s\n",
      "51:\tlearn: 0.1419473\ttotal: 1m 2s\tremaining: 57.6s\n",
      "52:\tlearn: 0.1410883\ttotal: 1m 3s\tremaining: 56.4s\n",
      "53:\tlearn: 0.1403139\ttotal: 1m 4s\tremaining: 55.2s\n",
      "54:\tlearn: 0.1396514\ttotal: 1m 5s\tremaining: 54s\n",
      "55:\tlearn: 0.1390838\ttotal: 1m 7s\tremaining: 52.8s\n",
      "56:\tlearn: 0.1387597\ttotal: 1m 8s\tremaining: 51.5s\n",
      "57:\tlearn: 0.1384645\ttotal: 1m 9s\tremaining: 50.2s\n",
      "58:\tlearn: 0.1377974\ttotal: 1m 10s\tremaining: 49s\n",
      "59:\tlearn: 0.1374690\ttotal: 1m 11s\tremaining: 47.8s\n",
      "60:\tlearn: 0.1367344\ttotal: 1m 12s\tremaining: 46.6s\n",
      "61:\tlearn: 0.1363261\ttotal: 1m 13s\tremaining: 45.3s\n",
      "62:\tlearn: 0.1359752\ttotal: 1m 15s\tremaining: 44.1s\n",
      "63:\tlearn: 0.1356822\ttotal: 1m 16s\tremaining: 42.8s\n",
      "64:\tlearn: 0.1352329\ttotal: 1m 17s\tremaining: 41.6s\n",
      "65:\tlearn: 0.1347847\ttotal: 1m 18s\tremaining: 40.4s\n",
      "66:\tlearn: 0.1343280\ttotal: 1m 19s\tremaining: 39.2s\n",
      "67:\tlearn: 0.1339982\ttotal: 1m 20s\tremaining: 38s\n",
      "68:\tlearn: 0.1337349\ttotal: 1m 21s\tremaining: 36.8s\n",
      "69:\tlearn: 0.1334707\ttotal: 1m 23s\tremaining: 35.6s\n",
      "70:\tlearn: 0.1331195\ttotal: 1m 24s\tremaining: 34.4s\n",
      "71:\tlearn: 0.1328524\ttotal: 1m 25s\tremaining: 33.2s\n",
      "72:\tlearn: 0.1325780\ttotal: 1m 26s\tremaining: 32s\n",
      "73:\tlearn: 0.1318341\ttotal: 1m 27s\tremaining: 30.8s\n",
      "74:\tlearn: 0.1315602\ttotal: 1m 28s\tremaining: 29.6s\n",
      "75:\tlearn: 0.1310814\ttotal: 1m 29s\tremaining: 28.4s\n",
      "76:\tlearn: 0.1308214\ttotal: 1m 31s\tremaining: 27.2s\n",
      "77:\tlearn: 0.1305772\ttotal: 1m 32s\tremaining: 26s\n",
      "78:\tlearn: 0.1299589\ttotal: 1m 33s\tremaining: 24.9s\n",
      "79:\tlearn: 0.1292330\ttotal: 1m 34s\tremaining: 23.7s\n",
      "80:\tlearn: 0.1290025\ttotal: 1m 35s\tremaining: 22.5s\n",
      "81:\tlearn: 0.1285741\ttotal: 1m 37s\tremaining: 21.3s\n",
      "82:\tlearn: 0.1280093\ttotal: 1m 38s\tremaining: 20.1s\n",
      "83:\tlearn: 0.1278285\ttotal: 1m 39s\tremaining: 18.9s\n",
      "84:\tlearn: 0.1275225\ttotal: 1m 40s\tremaining: 17.7s\n",
      "85:\tlearn: 0.1272919\ttotal: 1m 41s\tremaining: 16.5s\n",
      "86:\tlearn: 0.1269448\ttotal: 1m 42s\tremaining: 15.3s\n",
      "87:\tlearn: 0.1265940\ttotal: 1m 43s\tremaining: 14.2s\n",
      "88:\tlearn: 0.1263953\ttotal: 1m 45s\tremaining: 13s\n",
      "89:\tlearn: 0.1261989\ttotal: 1m 46s\tremaining: 11.8s\n",
      "90:\tlearn: 0.1258644\ttotal: 1m 47s\tremaining: 10.6s\n",
      "91:\tlearn: 0.1256015\ttotal: 1m 48s\tremaining: 9.43s\n",
      "92:\tlearn: 0.1251645\ttotal: 1m 49s\tremaining: 8.25s\n",
      "93:\tlearn: 0.1247790\ttotal: 1m 50s\tremaining: 7.07s\n",
      "94:\tlearn: 0.1244198\ttotal: 1m 51s\tremaining: 5.89s\n",
      "95:\tlearn: 0.1240698\ttotal: 1m 53s\tremaining: 4.71s\n",
      "96:\tlearn: 0.1236734\ttotal: 1m 54s\tremaining: 3.53s\n",
      "97:\tlearn: 0.1234273\ttotal: 1m 55s\tremaining: 2.35s\n",
      "98:\tlearn: 0.1232157\ttotal: 1m 56s\tremaining: 1.18s\n",
      "99:\tlearn: 0.1230648\ttotal: 1m 57s\tremaining: 0us\n",
      "[CV 2/3; 2/6] END ...cat__max_depth=5, cat__n_estimators=100; total time= 2.5min\n",
      "[CV 3/3; 2/6] START cat__max_depth=5, cat__n_estimators=100.....................\n",
      "Learning rate set to 0.5\n",
      "0:\tlearn: 0.3418003\ttotal: 1.56s\tremaining: 2m 34s\n",
      "1:\tlearn: 0.2604330\ttotal: 2.82s\tremaining: 2m 18s\n",
      "2:\tlearn: 0.2365749\ttotal: 4.14s\tremaining: 2m 13s\n",
      "3:\tlearn: 0.2257981\ttotal: 5.37s\tremaining: 2m 8s\n",
      "4:\tlearn: 0.2144815\ttotal: 6.61s\tremaining: 2m 5s\n",
      "5:\tlearn: 0.2083260\ttotal: 7.81s\tremaining: 2m 2s\n",
      "6:\tlearn: 0.2042267\ttotal: 9.03s\tremaining: 1m 59s\n",
      "7:\tlearn: 0.1994737\ttotal: 10.2s\tremaining: 1m 57s\n",
      "8:\tlearn: 0.1960420\ttotal: 11.5s\tremaining: 1m 56s\n",
      "9:\tlearn: 0.1928853\ttotal: 12.7s\tremaining: 1m 54s\n",
      "10:\tlearn: 0.1906781\ttotal: 14s\tremaining: 1m 52s\n",
      "11:\tlearn: 0.1877545\ttotal: 15.2s\tremaining: 1m 51s\n",
      "12:\tlearn: 0.1852505\ttotal: 16.3s\tremaining: 1m 49s\n",
      "13:\tlearn: 0.1833567\ttotal: 17.5s\tremaining: 1m 47s\n",
      "14:\tlearn: 0.1808897\ttotal: 18.7s\tremaining: 1m 45s\n",
      "15:\tlearn: 0.1782912\ttotal: 20s\tremaining: 1m 44s\n",
      "16:\tlearn: 0.1763295\ttotal: 21.3s\tremaining: 1m 43s\n",
      "17:\tlearn: 0.1744359\ttotal: 22.5s\tremaining: 1m 42s\n",
      "18:\tlearn: 0.1724131\ttotal: 23.7s\tremaining: 1m 41s\n",
      "19:\tlearn: 0.1710366\ttotal: 24.9s\tremaining: 1m 39s\n",
      "20:\tlearn: 0.1691939\ttotal: 26.1s\tremaining: 1m 38s\n",
      "21:\tlearn: 0.1679668\ttotal: 27.3s\tremaining: 1m 36s\n",
      "22:\tlearn: 0.1668263\ttotal: 28.4s\tremaining: 1m 35s\n",
      "23:\tlearn: 0.1657692\ttotal: 29.6s\tremaining: 1m 33s\n",
      "24:\tlearn: 0.1646533\ttotal: 30.8s\tremaining: 1m 32s\n",
      "25:\tlearn: 0.1631273\ttotal: 31.9s\tremaining: 1m 30s\n",
      "26:\tlearn: 0.1618398\ttotal: 33.1s\tremaining: 1m 29s\n",
      "27:\tlearn: 0.1609193\ttotal: 34.3s\tremaining: 1m 28s\n",
      "28:\tlearn: 0.1596699\ttotal: 35.5s\tremaining: 1m 26s\n",
      "29:\tlearn: 0.1587591\ttotal: 36.6s\tremaining: 1m 25s\n",
      "30:\tlearn: 0.1578775\ttotal: 37.8s\tremaining: 1m 24s\n",
      "31:\tlearn: 0.1571637\ttotal: 38.9s\tremaining: 1m 22s\n",
      "32:\tlearn: 0.1562753\ttotal: 40.2s\tremaining: 1m 21s\n",
      "33:\tlearn: 0.1549364\ttotal: 41.5s\tremaining: 1m 20s\n",
      "34:\tlearn: 0.1542621\ttotal: 42.7s\tremaining: 1m 19s\n",
      "35:\tlearn: 0.1528270\ttotal: 43.9s\tremaining: 1m 18s\n",
      "36:\tlearn: 0.1518782\ttotal: 45.1s\tremaining: 1m 16s\n",
      "37:\tlearn: 0.1512216\ttotal: 46.2s\tremaining: 1m 15s\n",
      "38:\tlearn: 0.1502915\ttotal: 47.4s\tremaining: 1m 14s\n",
      "39:\tlearn: 0.1495625\ttotal: 48.6s\tremaining: 1m 12s\n",
      "40:\tlearn: 0.1485667\ttotal: 49.8s\tremaining: 1m 11s\n",
      "41:\tlearn: 0.1478695\ttotal: 51s\tremaining: 1m 10s\n",
      "42:\tlearn: 0.1472019\ttotal: 52.1s\tremaining: 1m 9s\n",
      "43:\tlearn: 0.1463749\ttotal: 53.3s\tremaining: 1m 7s\n",
      "44:\tlearn: 0.1457506\ttotal: 54.5s\tremaining: 1m 6s\n",
      "45:\tlearn: 0.1452911\ttotal: 55.7s\tremaining: 1m 5s\n",
      "46:\tlearn: 0.1447203\ttotal: 56.9s\tremaining: 1m 4s\n",
      "47:\tlearn: 0.1441776\ttotal: 58.1s\tremaining: 1m 2s\n",
      "48:\tlearn: 0.1436151\ttotal: 59.3s\tremaining: 1m 1s\n",
      "49:\tlearn: 0.1432012\ttotal: 1m\tremaining: 1m\n",
      "50:\tlearn: 0.1427988\ttotal: 1m 1s\tremaining: 59.2s\n",
      "51:\tlearn: 0.1422619\ttotal: 1m 2s\tremaining: 58s\n",
      "52:\tlearn: 0.1418347\ttotal: 1m 4s\tremaining: 56.9s\n",
      "53:\tlearn: 0.1408005\ttotal: 1m 5s\tremaining: 55.8s\n",
      "54:\tlearn: 0.1402832\ttotal: 1m 6s\tremaining: 54.5s\n",
      "55:\tlearn: 0.1398917\ttotal: 1m 7s\tremaining: 53.3s\n",
      "56:\tlearn: 0.1394899\ttotal: 1m 8s\tremaining: 52s\n",
      "57:\tlearn: 0.1390721\ttotal: 1m 10s\tremaining: 50.8s\n",
      "58:\tlearn: 0.1385985\ttotal: 1m 11s\tremaining: 49.6s\n",
      "59:\tlearn: 0.1381549\ttotal: 1m 12s\tremaining: 48.3s\n",
      "60:\tlearn: 0.1375528\ttotal: 1m 13s\tremaining: 47.1s\n",
      "61:\tlearn: 0.1371309\ttotal: 1m 14s\tremaining: 45.9s\n",
      "62:\tlearn: 0.1368192\ttotal: 1m 16s\tremaining: 44.6s\n",
      "63:\tlearn: 0.1365379\ttotal: 1m 17s\tremaining: 43.4s\n",
      "64:\tlearn: 0.1358997\ttotal: 1m 18s\tremaining: 42.2s\n",
      "65:\tlearn: 0.1356399\ttotal: 1m 19s\tremaining: 41s\n",
      "66:\tlearn: 0.1353316\ttotal: 1m 20s\tremaining: 39.8s\n",
      "67:\tlearn: 0.1350358\ttotal: 1m 21s\tremaining: 38.5s\n",
      "68:\tlearn: 0.1344771\ttotal: 1m 23s\tremaining: 37.3s\n",
      "69:\tlearn: 0.1340587\ttotal: 1m 24s\tremaining: 36.1s\n",
      "70:\tlearn: 0.1338254\ttotal: 1m 25s\tremaining: 34.9s\n",
      "71:\tlearn: 0.1335398\ttotal: 1m 26s\tremaining: 33.6s\n",
      "72:\tlearn: 0.1333210\ttotal: 1m 27s\tremaining: 32.4s\n",
      "73:\tlearn: 0.1326789\ttotal: 1m 28s\tremaining: 31.2s\n",
      "74:\tlearn: 0.1324464\ttotal: 1m 29s\tremaining: 30s\n",
      "75:\tlearn: 0.1320890\ttotal: 1m 31s\tremaining: 28.8s\n",
      "76:\tlearn: 0.1317082\ttotal: 1m 32s\tremaining: 27.6s\n",
      "77:\tlearn: 0.1314883\ttotal: 1m 33s\tremaining: 26.4s\n",
      "78:\tlearn: 0.1307170\ttotal: 1m 34s\tremaining: 25.2s\n",
      "79:\tlearn: 0.1303952\ttotal: 1m 35s\tremaining: 24s\n",
      "80:\tlearn: 0.1299596\ttotal: 1m 37s\tremaining: 22.8s\n",
      "81:\tlearn: 0.1296641\ttotal: 1m 38s\tremaining: 21.6s\n",
      "82:\tlearn: 0.1293898\ttotal: 1m 39s\tremaining: 20.4s\n",
      "83:\tlearn: 0.1289878\ttotal: 1m 40s\tremaining: 19.2s\n",
      "84:\tlearn: 0.1287926\ttotal: 1m 41s\tremaining: 18s\n",
      "85:\tlearn: 0.1283994\ttotal: 1m 42s\tremaining: 16.8s\n",
      "86:\tlearn: 0.1280031\ttotal: 1m 44s\tremaining: 15.6s\n",
      "87:\tlearn: 0.1278073\ttotal: 1m 45s\tremaining: 14.4s\n",
      "88:\tlearn: 0.1273778\ttotal: 1m 46s\tremaining: 13.2s\n",
      "89:\tlearn: 0.1271542\ttotal: 1m 47s\tremaining: 11.9s\n",
      "90:\tlearn: 0.1267151\ttotal: 1m 48s\tremaining: 10.8s\n",
      "91:\tlearn: 0.1265076\ttotal: 1m 49s\tremaining: 9.55s\n",
      "92:\tlearn: 0.1261187\ttotal: 1m 51s\tremaining: 8.36s\n",
      "93:\tlearn: 0.1258969\ttotal: 1m 52s\tremaining: 7.16s\n",
      "94:\tlearn: 0.1254644\ttotal: 1m 53s\tremaining: 5.96s\n",
      "95:\tlearn: 0.1250653\ttotal: 1m 54s\tremaining: 4.77s\n",
      "96:\tlearn: 0.1248675\ttotal: 1m 55s\tremaining: 3.58s\n",
      "97:\tlearn: 0.1245009\ttotal: 1m 56s\tremaining: 2.38s\n",
      "98:\tlearn: 0.1243282\ttotal: 1m 57s\tremaining: 1.19s\n",
      "99:\tlearn: 0.1241354\ttotal: 1m 59s\tremaining: 0us\n",
      "[CV 3/3; 2/6] END ...cat__max_depth=5, cat__n_estimators=100; total time= 2.5min\n",
      "[CV 1/3; 3/6] START cat__max_depth=7, cat__n_estimators=50......................\n",
      "Learning rate set to 0.5\n",
      "0:\tlearn: 0.3458019\ttotal: 4s\tremaining: 3m 15s\n",
      "1:\tlearn: 0.2587715\ttotal: 6.79s\tremaining: 2m 43s\n",
      "2:\tlearn: 0.2324592\ttotal: 9.61s\tremaining: 2m 30s\n",
      "3:\tlearn: 0.2158299\ttotal: 12.5s\tremaining: 2m 23s\n",
      "4:\tlearn: 0.2078269\ttotal: 15.3s\tremaining: 2m 17s\n",
      "5:\tlearn: 0.2022363\ttotal: 18.1s\tremaining: 2m 12s\n",
      "6:\tlearn: 0.1959393\ttotal: 20.9s\tremaining: 2m 8s\n",
      "7:\tlearn: 0.1912402\ttotal: 23.6s\tremaining: 2m 3s\n",
      "8:\tlearn: 0.1873815\ttotal: 26.3s\tremaining: 1m 59s\n",
      "9:\tlearn: 0.1841048\ttotal: 29s\tremaining: 1m 55s\n",
      "10:\tlearn: 0.1805655\ttotal: 31.7s\tremaining: 1m 52s\n",
      "11:\tlearn: 0.1777641\ttotal: 34.4s\tremaining: 1m 48s\n",
      "12:\tlearn: 0.1755607\ttotal: 37.2s\tremaining: 1m 45s\n",
      "13:\tlearn: 0.1726486\ttotal: 40s\tremaining: 1m 42s\n",
      "14:\tlearn: 0.1711497\ttotal: 42.8s\tremaining: 1m 39s\n",
      "15:\tlearn: 0.1690199\ttotal: 45.7s\tremaining: 1m 37s\n",
      "16:\tlearn: 0.1672419\ttotal: 48.6s\tremaining: 1m 34s\n",
      "17:\tlearn: 0.1646916\ttotal: 51.4s\tremaining: 1m 31s\n",
      "18:\tlearn: 0.1633464\ttotal: 54.1s\tremaining: 1m 28s\n",
      "19:\tlearn: 0.1615486\ttotal: 56.9s\tremaining: 1m 25s\n",
      "20:\tlearn: 0.1602033\ttotal: 59.6s\tremaining: 1m 22s\n",
      "21:\tlearn: 0.1589152\ttotal: 1m 2s\tremaining: 1m 19s\n",
      "22:\tlearn: 0.1569803\ttotal: 1m 5s\tremaining: 1m 16s\n",
      "23:\tlearn: 0.1557814\ttotal: 1m 8s\tremaining: 1m 13s\n",
      "24:\tlearn: 0.1547792\ttotal: 1m 10s\tremaining: 1m 10s\n",
      "25:\tlearn: 0.1535366\ttotal: 1m 13s\tremaining: 1m 7s\n",
      "26:\tlearn: 0.1520234\ttotal: 1m 16s\tremaining: 1m 5s\n",
      "27:\tlearn: 0.1509597\ttotal: 1m 19s\tremaining: 1m 2s\n",
      "28:\tlearn: 0.1500617\ttotal: 1m 21s\tremaining: 59.2s\n",
      "29:\tlearn: 0.1490249\ttotal: 1m 24s\tremaining: 56.3s\n",
      "30:\tlearn: 0.1483070\ttotal: 1m 27s\tremaining: 53.3s\n",
      "31:\tlearn: 0.1469357\ttotal: 1m 29s\tremaining: 50.5s\n",
      "32:\tlearn: 0.1459577\ttotal: 1m 32s\tremaining: 47.7s\n",
      "33:\tlearn: 0.1449589\ttotal: 1m 35s\tremaining: 44.9s\n",
      "34:\tlearn: 0.1442070\ttotal: 1m 38s\tremaining: 42s\n",
      "35:\tlearn: 0.1433148\ttotal: 1m 40s\tremaining: 39.2s\n",
      "36:\tlearn: 0.1427164\ttotal: 1m 43s\tremaining: 36.4s\n",
      "37:\tlearn: 0.1416952\ttotal: 1m 46s\tremaining: 33.6s\n",
      "38:\tlearn: 0.1410719\ttotal: 1m 49s\tremaining: 30.8s\n",
      "39:\tlearn: 0.1401995\ttotal: 1m 52s\tremaining: 28s\n",
      "40:\tlearn: 0.1392265\ttotal: 1m 54s\tremaining: 25.2s\n",
      "41:\tlearn: 0.1386523\ttotal: 1m 57s\tremaining: 22.4s\n",
      "42:\tlearn: 0.1381902\ttotal: 2m\tremaining: 19.6s\n",
      "43:\tlearn: 0.1375023\ttotal: 2m 3s\tremaining: 16.8s\n",
      "44:\tlearn: 0.1368570\ttotal: 2m 6s\tremaining: 14s\n",
      "45:\tlearn: 0.1360008\ttotal: 2m 8s\tremaining: 11.2s\n",
      "46:\tlearn: 0.1349640\ttotal: 2m 11s\tremaining: 8.41s\n",
      "47:\tlearn: 0.1343327\ttotal: 2m 14s\tremaining: 5.61s\n",
      "48:\tlearn: 0.1338152\ttotal: 2m 17s\tremaining: 2.8s\n",
      "49:\tlearn: 0.1334081\ttotal: 2m 19s\tremaining: 0us\n",
      "[CV 1/3; 3/6] END ....cat__max_depth=7, cat__n_estimators=50; total time= 2.9min\n",
      "[CV 2/3; 3/6] START cat__max_depth=7, cat__n_estimators=50......................\n",
      "Learning rate set to 0.5\n",
      "0:\tlearn: 0.3449723\ttotal: 3.79s\tremaining: 3m 5s\n",
      "1:\tlearn: 0.2601422\ttotal: 6.56s\tremaining: 2m 37s\n",
      "2:\tlearn: 0.2314345\ttotal: 9.5s\tremaining: 2m 28s\n",
      "3:\tlearn: 0.2180342\ttotal: 12.3s\tremaining: 2m 21s\n",
      "4:\tlearn: 0.2101457\ttotal: 15.1s\tremaining: 2m 15s\n",
      "5:\tlearn: 0.2038119\ttotal: 17.9s\tremaining: 2m 11s\n",
      "6:\tlearn: 0.1971887\ttotal: 20.7s\tremaining: 2m 7s\n",
      "7:\tlearn: 0.1930250\ttotal: 23.5s\tremaining: 2m 3s\n",
      "8:\tlearn: 0.1895601\ttotal: 26.2s\tremaining: 1m 59s\n",
      "9:\tlearn: 0.1867790\ttotal: 29s\tremaining: 1m 55s\n",
      "10:\tlearn: 0.1836021\ttotal: 31.8s\tremaining: 1m 52s\n",
      "11:\tlearn: 0.1809728\ttotal: 34.5s\tremaining: 1m 49s\n",
      "12:\tlearn: 0.1778340\ttotal: 37.2s\tremaining: 1m 45s\n",
      "13:\tlearn: 0.1754640\ttotal: 40s\tremaining: 1m 42s\n",
      "14:\tlearn: 0.1729270\ttotal: 42.7s\tremaining: 1m 39s\n",
      "15:\tlearn: 0.1709245\ttotal: 45.3s\tremaining: 1m 36s\n",
      "16:\tlearn: 0.1691620\ttotal: 48s\tremaining: 1m 33s\n",
      "17:\tlearn: 0.1674316\ttotal: 50.8s\tremaining: 1m 30s\n",
      "18:\tlearn: 0.1657876\ttotal: 53.4s\tremaining: 1m 27s\n",
      "19:\tlearn: 0.1636116\ttotal: 56.1s\tremaining: 1m 24s\n",
      "20:\tlearn: 0.1618650\ttotal: 58.9s\tremaining: 1m 21s\n",
      "21:\tlearn: 0.1605084\ttotal: 1m 1s\tremaining: 1m 18s\n",
      "22:\tlearn: 0.1586909\ttotal: 1m 4s\tremaining: 1m 15s\n",
      "23:\tlearn: 0.1574416\ttotal: 1m 6s\tremaining: 1m 12s\n",
      "24:\tlearn: 0.1562990\ttotal: 1m 9s\tremaining: 1m 9s\n",
      "25:\tlearn: 0.1550451\ttotal: 1m 12s\tremaining: 1m 6s\n",
      "26:\tlearn: 0.1540802\ttotal: 1m 14s\tremaining: 1m 3s\n",
      "27:\tlearn: 0.1527951\ttotal: 1m 17s\tremaining: 1m 1s\n",
      "28:\tlearn: 0.1513155\ttotal: 1m 20s\tremaining: 58.2s\n",
      "29:\tlearn: 0.1500257\ttotal: 1m 23s\tremaining: 55.4s\n",
      "30:\tlearn: 0.1491132\ttotal: 1m 25s\tremaining: 52.6s\n",
      "31:\tlearn: 0.1481743\ttotal: 1m 28s\tremaining: 49.8s\n",
      "32:\tlearn: 0.1468564\ttotal: 1m 31s\tremaining: 46.9s\n",
      "33:\tlearn: 0.1459783\ttotal: 1m 33s\tremaining: 44.1s\n",
      "34:\tlearn: 0.1449995\ttotal: 1m 36s\tremaining: 41.4s\n",
      "35:\tlearn: 0.1436752\ttotal: 1m 39s\tremaining: 38.6s\n",
      "36:\tlearn: 0.1428199\ttotal: 1m 41s\tremaining: 35.8s\n",
      "37:\tlearn: 0.1417543\ttotal: 1m 44s\tremaining: 33.1s\n",
      "38:\tlearn: 0.1410937\ttotal: 1m 47s\tremaining: 30.3s\n",
      "39:\tlearn: 0.1403226\ttotal: 1m 50s\tremaining: 27.6s\n",
      "40:\tlearn: 0.1398124\ttotal: 1m 53s\tremaining: 24.9s\n",
      "41:\tlearn: 0.1389299\ttotal: 1m 56s\tremaining: 22.1s\n",
      "42:\tlearn: 0.1377502\ttotal: 1m 58s\tremaining: 19.4s\n",
      "43:\tlearn: 0.1371365\ttotal: 2m 1s\tremaining: 16.6s\n",
      "44:\tlearn: 0.1366649\ttotal: 2m 4s\tremaining: 13.8s\n",
      "45:\tlearn: 0.1360487\ttotal: 2m 6s\tremaining: 11s\n",
      "46:\tlearn: 0.1356223\ttotal: 2m 9s\tremaining: 8.26s\n",
      "47:\tlearn: 0.1351046\ttotal: 2m 12s\tremaining: 5.5s\n",
      "48:\tlearn: 0.1342759\ttotal: 2m 14s\tremaining: 2.75s\n",
      "49:\tlearn: 0.1339167\ttotal: 2m 17s\tremaining: 0us\n",
      "[CV 2/3; 3/6] END ....cat__max_depth=7, cat__n_estimators=50; total time= 2.9min\n",
      "[CV 3/3; 3/6] START cat__max_depth=7, cat__n_estimators=50......................\n",
      "Learning rate set to 0.5\n",
      "0:\tlearn: 0.3407536\ttotal: 4.17s\tremaining: 3m 24s\n",
      "1:\tlearn: 0.2555044\ttotal: 7.16s\tremaining: 2m 51s\n",
      "2:\tlearn: 0.2298286\ttotal: 9.94s\tremaining: 2m 35s\n",
      "3:\tlearn: 0.2144739\ttotal: 12.7s\tremaining: 2m 26s\n",
      "4:\tlearn: 0.2054322\ttotal: 15.7s\tremaining: 2m 21s\n",
      "5:\tlearn: 0.2001789\ttotal: 18.6s\tremaining: 2m 16s\n",
      "6:\tlearn: 0.1961519\ttotal: 21.4s\tremaining: 2m 11s\n",
      "7:\tlearn: 0.1910981\ttotal: 24.2s\tremaining: 2m 6s\n",
      "8:\tlearn: 0.1863434\ttotal: 27s\tremaining: 2m 3s\n",
      "9:\tlearn: 0.1828540\ttotal: 29.7s\tremaining: 1m 58s\n",
      "10:\tlearn: 0.1801748\ttotal: 32.4s\tremaining: 1m 54s\n",
      "11:\tlearn: 0.1774561\ttotal: 35.2s\tremaining: 1m 51s\n",
      "12:\tlearn: 0.1748101\ttotal: 38s\tremaining: 1m 48s\n",
      "13:\tlearn: 0.1726781\ttotal: 40.7s\tremaining: 1m 44s\n",
      "14:\tlearn: 0.1706192\ttotal: 43.4s\tremaining: 1m 41s\n",
      "15:\tlearn: 0.1689395\ttotal: 46.1s\tremaining: 1m 37s\n",
      "16:\tlearn: 0.1675172\ttotal: 48.9s\tremaining: 1m 34s\n",
      "17:\tlearn: 0.1655495\ttotal: 51.6s\tremaining: 1m 31s\n",
      "18:\tlearn: 0.1642360\ttotal: 54.2s\tremaining: 1m 28s\n",
      "19:\tlearn: 0.1624420\ttotal: 56.9s\tremaining: 1m 25s\n",
      "20:\tlearn: 0.1613023\ttotal: 59.6s\tremaining: 1m 22s\n",
      "21:\tlearn: 0.1596253\ttotal: 1m 2s\tremaining: 1m 19s\n",
      "22:\tlearn: 0.1583764\ttotal: 1m 5s\tremaining: 1m 16s\n",
      "23:\tlearn: 0.1569766\ttotal: 1m 7s\tremaining: 1m 13s\n",
      "24:\tlearn: 0.1555856\ttotal: 1m 10s\tremaining: 1m 10s\n",
      "25:\tlearn: 0.1541721\ttotal: 1m 13s\tremaining: 1m 7s\n",
      "26:\tlearn: 0.1526906\ttotal: 1m 15s\tremaining: 1m 4s\n",
      "27:\tlearn: 0.1518608\ttotal: 1m 18s\tremaining: 1m 1s\n",
      "28:\tlearn: 0.1502488\ttotal: 1m 21s\tremaining: 58.8s\n",
      "29:\tlearn: 0.1493775\ttotal: 1m 23s\tremaining: 55.9s\n",
      "30:\tlearn: 0.1481854\ttotal: 1m 26s\tremaining: 53.2s\n",
      "31:\tlearn: 0.1473402\ttotal: 1m 29s\tremaining: 50.3s\n",
      "32:\tlearn: 0.1466445\ttotal: 1m 32s\tremaining: 47.4s\n",
      "33:\tlearn: 0.1457779\ttotal: 1m 34s\tremaining: 44.7s\n",
      "34:\tlearn: 0.1451443\ttotal: 1m 37s\tremaining: 41.9s\n",
      "35:\tlearn: 0.1442811\ttotal: 1m 40s\tremaining: 39.1s\n",
      "36:\tlearn: 0.1430516\ttotal: 1m 43s\tremaining: 36.4s\n",
      "37:\tlearn: 0.1413761\ttotal: 1m 46s\tremaining: 33.6s\n",
      "38:\tlearn: 0.1408084\ttotal: 1m 49s\tremaining: 30.8s\n",
      "39:\tlearn: 0.1399750\ttotal: 1m 51s\tremaining: 27.9s\n",
      "40:\tlearn: 0.1393000\ttotal: 1m 54s\tremaining: 25.1s\n",
      "41:\tlearn: 0.1384002\ttotal: 1m 57s\tremaining: 22.3s\n",
      "42:\tlearn: 0.1378178\ttotal: 1m 59s\tremaining: 19.5s\n",
      "43:\tlearn: 0.1370124\ttotal: 2m 2s\tremaining: 16.7s\n",
      "44:\tlearn: 0.1361856\ttotal: 2m 5s\tremaining: 13.9s\n",
      "45:\tlearn: 0.1357603\ttotal: 2m 8s\tremaining: 11.2s\n",
      "46:\tlearn: 0.1348756\ttotal: 2m 11s\tremaining: 8.37s\n",
      "47:\tlearn: 0.1341148\ttotal: 2m 13s\tremaining: 5.58s\n",
      "48:\tlearn: 0.1335875\ttotal: 2m 16s\tremaining: 2.79s\n",
      "49:\tlearn: 0.1332128\ttotal: 2m 19s\tremaining: 0us\n",
      "[CV 3/3; 3/6] END ....cat__max_depth=7, cat__n_estimators=50; total time= 2.9min\n",
      "[CV 1/3; 4/6] START cat__max_depth=7, cat__n_estimators=100.....................\n",
      "Learning rate set to 0.5\n",
      "0:\tlearn: 0.3458019\ttotal: 3.97s\tremaining: 6m 33s\n",
      "1:\tlearn: 0.2587715\ttotal: 6.76s\tremaining: 5m 31s\n",
      "2:\tlearn: 0.2324592\ttotal: 9.69s\tremaining: 5m 13s\n",
      "3:\tlearn: 0.2158299\ttotal: 12.5s\tremaining: 5m\n",
      "4:\tlearn: 0.2078269\ttotal: 15.3s\tremaining: 4m 50s\n",
      "5:\tlearn: 0.2022363\ttotal: 18s\tremaining: 4m 41s\n",
      "6:\tlearn: 0.1959393\ttotal: 20.7s\tremaining: 4m 35s\n",
      "7:\tlearn: 0.1912402\ttotal: 23.4s\tremaining: 4m 29s\n",
      "8:\tlearn: 0.1873815\ttotal: 26.1s\tremaining: 4m 23s\n",
      "9:\tlearn: 0.1841048\ttotal: 28.8s\tremaining: 4m 18s\n",
      "10:\tlearn: 0.1805655\ttotal: 31.4s\tremaining: 4m 14s\n",
      "11:\tlearn: 0.1777641\ttotal: 34.2s\tremaining: 4m 10s\n",
      "12:\tlearn: 0.1755607\ttotal: 36.9s\tremaining: 4m 6s\n",
      "13:\tlearn: 0.1726486\ttotal: 39.6s\tremaining: 4m 3s\n",
      "14:\tlearn: 0.1711497\ttotal: 42.3s\tremaining: 3m 59s\n",
      "15:\tlearn: 0.1690199\ttotal: 45s\tremaining: 3m 56s\n",
      "16:\tlearn: 0.1672419\ttotal: 47.7s\tremaining: 3m 53s\n",
      "17:\tlearn: 0.1646916\ttotal: 50.4s\tremaining: 3m 49s\n",
      "18:\tlearn: 0.1633464\ttotal: 53.1s\tremaining: 3m 46s\n",
      "19:\tlearn: 0.1615486\ttotal: 55.9s\tremaining: 3m 43s\n",
      "20:\tlearn: 0.1602033\ttotal: 58.6s\tremaining: 3m 40s\n",
      "21:\tlearn: 0.1589152\ttotal: 1m 1s\tremaining: 3m 37s\n",
      "22:\tlearn: 0.1569803\ttotal: 1m 4s\tremaining: 3m 34s\n",
      "23:\tlearn: 0.1557814\ttotal: 1m 6s\tremaining: 3m 31s\n",
      "24:\tlearn: 0.1547792\ttotal: 1m 9s\tremaining: 3m 28s\n",
      "25:\tlearn: 0.1535366\ttotal: 1m 12s\tremaining: 3m 25s\n",
      "26:\tlearn: 0.1520234\ttotal: 1m 14s\tremaining: 3m 22s\n",
      "27:\tlearn: 0.1509597\ttotal: 1m 17s\tremaining: 3m 19s\n",
      "28:\tlearn: 0.1500617\ttotal: 1m 20s\tremaining: 3m 16s\n",
      "29:\tlearn: 0.1490249\ttotal: 1m 22s\tremaining: 3m 13s\n",
      "30:\tlearn: 0.1483070\ttotal: 1m 25s\tremaining: 3m 10s\n",
      "31:\tlearn: 0.1469357\ttotal: 1m 28s\tremaining: 3m 7s\n",
      "32:\tlearn: 0.1459577\ttotal: 1m 30s\tremaining: 3m 4s\n",
      "33:\tlearn: 0.1449589\ttotal: 1m 33s\tremaining: 3m 1s\n",
      "34:\tlearn: 0.1442070\ttotal: 1m 36s\tremaining: 2m 59s\n",
      "35:\tlearn: 0.1433148\ttotal: 1m 39s\tremaining: 2m 56s\n",
      "36:\tlearn: 0.1427164\ttotal: 1m 41s\tremaining: 2m 53s\n",
      "37:\tlearn: 0.1416952\ttotal: 1m 44s\tremaining: 2m 50s\n",
      "38:\tlearn: 0.1410719\ttotal: 1m 47s\tremaining: 2m 48s\n",
      "39:\tlearn: 0.1401995\ttotal: 1m 50s\tremaining: 2m 45s\n",
      "40:\tlearn: 0.1392265\ttotal: 1m 52s\tremaining: 2m 42s\n",
      "41:\tlearn: 0.1386523\ttotal: 1m 55s\tremaining: 2m 39s\n",
      "42:\tlearn: 0.1381902\ttotal: 1m 58s\tremaining: 2m 36s\n",
      "43:\tlearn: 0.1375023\ttotal: 2m 1s\tremaining: 2m 34s\n",
      "44:\tlearn: 0.1368570\ttotal: 2m 3s\tremaining: 2m 31s\n",
      "45:\tlearn: 0.1360008\ttotal: 2m 6s\tremaining: 2m 29s\n",
      "46:\tlearn: 0.1349640\ttotal: 2m 9s\tremaining: 2m 26s\n",
      "47:\tlearn: 0.1343327\ttotal: 2m 12s\tremaining: 2m 23s\n",
      "48:\tlearn: 0.1338152\ttotal: 2m 15s\tremaining: 2m 20s\n",
      "49:\tlearn: 0.1334081\ttotal: 2m 17s\tremaining: 2m 17s\n",
      "50:\tlearn: 0.1330023\ttotal: 2m 20s\tremaining: 2m 14s\n",
      "51:\tlearn: 0.1326264\ttotal: 2m 23s\tremaining: 2m 12s\n",
      "52:\tlearn: 0.1322370\ttotal: 2m 25s\tremaining: 2m 9s\n",
      "53:\tlearn: 0.1313096\ttotal: 2m 28s\tremaining: 2m 6s\n",
      "54:\tlearn: 0.1309542\ttotal: 2m 31s\tremaining: 2m 3s\n",
      "55:\tlearn: 0.1303985\ttotal: 2m 33s\tremaining: 2m\n",
      "56:\tlearn: 0.1297302\ttotal: 2m 36s\tremaining: 1m 57s\n",
      "57:\tlearn: 0.1292088\ttotal: 2m 38s\tremaining: 1m 55s\n",
      "58:\tlearn: 0.1289121\ttotal: 2m 41s\tremaining: 1m 52s\n",
      "59:\tlearn: 0.1283630\ttotal: 2m 44s\tremaining: 1m 49s\n",
      "60:\tlearn: 0.1273995\ttotal: 2m 47s\tremaining: 1m 46s\n",
      "61:\tlearn: 0.1270264\ttotal: 2m 49s\tremaining: 1m 43s\n",
      "62:\tlearn: 0.1264054\ttotal: 2m 52s\tremaining: 1m 41s\n",
      "63:\tlearn: 0.1259613\ttotal: 2m 54s\tremaining: 1m 38s\n",
      "64:\tlearn: 0.1256781\ttotal: 2m 57s\tremaining: 1m 35s\n",
      "65:\tlearn: 0.1253633\ttotal: 3m\tremaining: 1m 32s\n",
      "66:\tlearn: 0.1248846\ttotal: 3m 2s\tremaining: 1m 29s\n",
      "67:\tlearn: 0.1245163\ttotal: 3m 5s\tremaining: 1m 27s\n",
      "68:\tlearn: 0.1242627\ttotal: 3m 7s\tremaining: 1m 24s\n",
      "69:\tlearn: 0.1240233\ttotal: 3m 10s\tremaining: 1m 21s\n",
      "70:\tlearn: 0.1233590\ttotal: 3m 13s\tremaining: 1m 18s\n",
      "71:\tlearn: 0.1229607\ttotal: 3m 15s\tremaining: 1m 16s\n",
      "72:\tlearn: 0.1226623\ttotal: 3m 18s\tremaining: 1m 13s\n",
      "73:\tlearn: 0.1223387\ttotal: 3m 20s\tremaining: 1m 10s\n",
      "74:\tlearn: 0.1217391\ttotal: 3m 23s\tremaining: 1m 7s\n",
      "75:\tlearn: 0.1214981\ttotal: 3m 26s\tremaining: 1m 5s\n",
      "76:\tlearn: 0.1211060\ttotal: 3m 28s\tremaining: 1m 2s\n",
      "77:\tlearn: 0.1208616\ttotal: 3m 31s\tremaining: 59.6s\n",
      "78:\tlearn: 0.1204973\ttotal: 3m 33s\tremaining: 56.9s\n",
      "79:\tlearn: 0.1202386\ttotal: 3m 36s\tremaining: 54.1s\n",
      "80:\tlearn: 0.1199946\ttotal: 3m 39s\tremaining: 51.4s\n",
      "81:\tlearn: 0.1192311\ttotal: 3m 41s\tremaining: 48.7s\n",
      "82:\tlearn: 0.1190273\ttotal: 3m 44s\tremaining: 46s\n",
      "83:\tlearn: 0.1185981\ttotal: 3m 47s\tremaining: 43.3s\n",
      "84:\tlearn: 0.1183696\ttotal: 3m 49s\tremaining: 40.5s\n",
      "85:\tlearn: 0.1181631\ttotal: 3m 52s\tremaining: 37.8s\n",
      "86:\tlearn: 0.1179586\ttotal: 3m 54s\tremaining: 35.1s\n",
      "87:\tlearn: 0.1177534\ttotal: 3m 57s\tremaining: 32.4s\n",
      "88:\tlearn: 0.1172726\ttotal: 4m\tremaining: 29.7s\n",
      "89:\tlearn: 0.1170683\ttotal: 4m 2s\tremaining: 27s\n",
      "90:\tlearn: 0.1168575\ttotal: 4m 5s\tremaining: 24.3s\n",
      "91:\tlearn: 0.1166625\ttotal: 4m 7s\tremaining: 21.6s\n",
      "92:\tlearn: 0.1164578\ttotal: 4m 10s\tremaining: 18.9s\n",
      "93:\tlearn: 0.1158549\ttotal: 4m 13s\tremaining: 16.2s\n",
      "94:\tlearn: 0.1154151\ttotal: 4m 15s\tremaining: 13.5s\n",
      "95:\tlearn: 0.1146983\ttotal: 4m 18s\tremaining: 10.8s\n",
      "96:\tlearn: 0.1145171\ttotal: 4m 20s\tremaining: 8.07s\n",
      "97:\tlearn: 0.1143435\ttotal: 4m 23s\tremaining: 5.37s\n",
      "98:\tlearn: 0.1137652\ttotal: 4m 25s\tremaining: 2.69s\n",
      "99:\tlearn: 0.1134613\ttotal: 4m 28s\tremaining: 0us\n",
      "[CV 1/3; 4/6] END ...cat__max_depth=7, cat__n_estimators=100; total time= 5.0min\n",
      "[CV 2/3; 4/6] START cat__max_depth=7, cat__n_estimators=100.....................\n",
      "Learning rate set to 0.5\n",
      "0:\tlearn: 0.3449723\ttotal: 3.96s\tremaining: 6m 32s\n",
      "1:\tlearn: 0.2601422\ttotal: 6.77s\tremaining: 5m 31s\n",
      "2:\tlearn: 0.2314345\ttotal: 9.66s\tremaining: 5m 12s\n",
      "3:\tlearn: 0.2180342\ttotal: 12.5s\tremaining: 5m\n",
      "4:\tlearn: 0.2101457\ttotal: 15.2s\tremaining: 4m 49s\n",
      "5:\tlearn: 0.2038119\ttotal: 18s\tremaining: 4m 41s\n",
      "6:\tlearn: 0.1971887\ttotal: 20.9s\tremaining: 4m 37s\n",
      "7:\tlearn: 0.1930250\ttotal: 23.8s\tremaining: 4m 33s\n",
      "8:\tlearn: 0.1895601\ttotal: 26.5s\tremaining: 4m 27s\n",
      "9:\tlearn: 0.1867790\ttotal: 29.2s\tremaining: 4m 22s\n",
      "10:\tlearn: 0.1836021\ttotal: 32s\tremaining: 4m 18s\n",
      "11:\tlearn: 0.1809728\ttotal: 34.7s\tremaining: 4m 14s\n",
      "12:\tlearn: 0.1778340\ttotal: 37.4s\tremaining: 4m 10s\n",
      "13:\tlearn: 0.1754640\ttotal: 40.1s\tremaining: 4m 6s\n",
      "14:\tlearn: 0.1729270\ttotal: 42.9s\tremaining: 4m 3s\n",
      "15:\tlearn: 0.1709245\ttotal: 45.6s\tremaining: 3m 59s\n",
      "16:\tlearn: 0.1691620\ttotal: 48.2s\tremaining: 3m 55s\n",
      "17:\tlearn: 0.1674316\ttotal: 50.9s\tremaining: 3m 52s\n",
      "18:\tlearn: 0.1657876\ttotal: 53.7s\tremaining: 3m 48s\n",
      "19:\tlearn: 0.1636116\ttotal: 56.3s\tremaining: 3m 45s\n",
      "20:\tlearn: 0.1618650\ttotal: 59s\tremaining: 3m 42s\n",
      "21:\tlearn: 0.1605084\ttotal: 1m 1s\tremaining: 3m 38s\n",
      "22:\tlearn: 0.1586909\ttotal: 1m 4s\tremaining: 3m 35s\n",
      "23:\tlearn: 0.1574416\ttotal: 1m 7s\tremaining: 3m 32s\n",
      "24:\tlearn: 0.1562990\ttotal: 1m 9s\tremaining: 3m 29s\n",
      "25:\tlearn: 0.1550451\ttotal: 1m 12s\tremaining: 3m 26s\n",
      "26:\tlearn: 0.1540802\ttotal: 1m 15s\tremaining: 3m 23s\n",
      "27:\tlearn: 0.1527951\ttotal: 1m 17s\tremaining: 3m 20s\n",
      "28:\tlearn: 0.1513155\ttotal: 1m 20s\tremaining: 3m 17s\n",
      "29:\tlearn: 0.1500257\ttotal: 1m 23s\tremaining: 3m 14s\n",
      "30:\tlearn: 0.1491132\ttotal: 1m 26s\tremaining: 3m 11s\n",
      "31:\tlearn: 0.1481743\ttotal: 1m 28s\tremaining: 3m 8s\n",
      "32:\tlearn: 0.1468564\ttotal: 1m 31s\tremaining: 3m 6s\n",
      "33:\tlearn: 0.1459783\ttotal: 1m 34s\tremaining: 3m 3s\n",
      "34:\tlearn: 0.1449995\ttotal: 1m 37s\tremaining: 3m\n",
      "35:\tlearn: 0.1436752\ttotal: 1m 39s\tremaining: 2m 57s\n",
      "36:\tlearn: 0.1428199\ttotal: 1m 42s\tremaining: 2m 54s\n",
      "37:\tlearn: 0.1417543\ttotal: 1m 45s\tremaining: 2m 51s\n",
      "38:\tlearn: 0.1410937\ttotal: 1m 47s\tremaining: 2m 48s\n",
      "39:\tlearn: 0.1403226\ttotal: 1m 50s\tremaining: 2m 45s\n",
      "40:\tlearn: 0.1398124\ttotal: 1m 53s\tremaining: 2m 42s\n",
      "41:\tlearn: 0.1389299\ttotal: 1m 55s\tremaining: 2m 40s\n",
      "42:\tlearn: 0.1377502\ttotal: 1m 58s\tremaining: 2m 37s\n",
      "43:\tlearn: 0.1371365\ttotal: 2m 1s\tremaining: 2m 34s\n",
      "44:\tlearn: 0.1366649\ttotal: 2m 4s\tremaining: 2m 31s\n",
      "45:\tlearn: 0.1360487\ttotal: 2m 6s\tremaining: 2m 28s\n",
      "46:\tlearn: 0.1356223\ttotal: 2m 9s\tremaining: 2m 25s\n",
      "47:\tlearn: 0.1351046\ttotal: 2m 12s\tremaining: 2m 23s\n",
      "48:\tlearn: 0.1342759\ttotal: 2m 14s\tremaining: 2m 20s\n",
      "49:\tlearn: 0.1339167\ttotal: 2m 17s\tremaining: 2m 17s\n",
      "50:\tlearn: 0.1335445\ttotal: 2m 20s\tremaining: 2m 14s\n",
      "51:\tlearn: 0.1331599\ttotal: 2m 22s\tremaining: 2m 11s\n",
      "52:\tlearn: 0.1325898\ttotal: 2m 25s\tremaining: 2m 9s\n",
      "53:\tlearn: 0.1317585\ttotal: 2m 28s\tremaining: 2m 6s\n",
      "54:\tlearn: 0.1313800\ttotal: 2m 31s\tremaining: 2m 3s\n",
      "55:\tlearn: 0.1307784\ttotal: 2m 33s\tremaining: 2m\n",
      "56:\tlearn: 0.1300369\ttotal: 2m 36s\tremaining: 1m 58s\n",
      "57:\tlearn: 0.1293814\ttotal: 2m 39s\tremaining: 1m 55s\n",
      "58:\tlearn: 0.1290728\ttotal: 2m 42s\tremaining: 1m 52s\n",
      "59:\tlearn: 0.1287752\ttotal: 2m 45s\tremaining: 1m 50s\n",
      "60:\tlearn: 0.1282407\ttotal: 2m 47s\tremaining: 1m 47s\n",
      "61:\tlearn: 0.1274369\ttotal: 2m 50s\tremaining: 1m 44s\n",
      "62:\tlearn: 0.1271264\ttotal: 2m 53s\tremaining: 1m 41s\n",
      "63:\tlearn: 0.1267736\ttotal: 2m 56s\tremaining: 1m 39s\n",
      "64:\tlearn: 0.1258214\ttotal: 2m 58s\tremaining: 1m 36s\n",
      "65:\tlearn: 0.1253394\ttotal: 3m 1s\tremaining: 1m 33s\n",
      "66:\tlearn: 0.1249286\ttotal: 3m 4s\tremaining: 1m 30s\n",
      "67:\tlearn: 0.1246496\ttotal: 3m 6s\tremaining: 1m 27s\n",
      "68:\tlearn: 0.1243876\ttotal: 3m 9s\tremaining: 1m 25s\n",
      "69:\tlearn: 0.1241320\ttotal: 3m 12s\tremaining: 1m 22s\n",
      "70:\tlearn: 0.1238307\ttotal: 3m 14s\tremaining: 1m 19s\n",
      "71:\tlearn: 0.1232888\ttotal: 3m 17s\tremaining: 1m 16s\n",
      "72:\tlearn: 0.1226616\ttotal: 3m 20s\tremaining: 1m 14s\n",
      "73:\tlearn: 0.1221112\ttotal: 3m 22s\tremaining: 1m 11s\n",
      "74:\tlearn: 0.1216162\ttotal: 3m 25s\tremaining: 1m 8s\n",
      "75:\tlearn: 0.1211619\ttotal: 3m 28s\tremaining: 1m 5s\n",
      "76:\tlearn: 0.1209080\ttotal: 3m 30s\tremaining: 1m 3s\n",
      "77:\tlearn: 0.1206551\ttotal: 3m 33s\tremaining: 1m\n",
      "78:\tlearn: 0.1204070\ttotal: 3m 36s\tremaining: 57.5s\n",
      "79:\tlearn: 0.1200930\ttotal: 3m 38s\tremaining: 54.7s\n",
      "80:\tlearn: 0.1195657\ttotal: 3m 41s\tremaining: 52s\n",
      "81:\tlearn: 0.1190621\ttotal: 3m 44s\tremaining: 49.3s\n",
      "82:\tlearn: 0.1188130\ttotal: 3m 47s\tremaining: 46.5s\n",
      "83:\tlearn: 0.1185800\ttotal: 3m 49s\tremaining: 43.8s\n",
      "84:\tlearn: 0.1183642\ttotal: 3m 52s\tremaining: 41s\n",
      "85:\tlearn: 0.1181676\ttotal: 3m 54s\tremaining: 38.2s\n",
      "86:\tlearn: 0.1179797\ttotal: 3m 57s\tremaining: 35.5s\n",
      "87:\tlearn: 0.1177527\ttotal: 4m\tremaining: 32.7s\n",
      "88:\tlearn: 0.1172858\ttotal: 4m 2s\tremaining: 30s\n",
      "89:\tlearn: 0.1170308\ttotal: 4m 5s\tremaining: 27.3s\n",
      "90:\tlearn: 0.1165792\ttotal: 4m 8s\tremaining: 24.6s\n",
      "91:\tlearn: 0.1163988\ttotal: 4m 10s\tremaining: 21.8s\n",
      "92:\tlearn: 0.1158980\ttotal: 4m 13s\tremaining: 19.1s\n",
      "93:\tlearn: 0.1156148\ttotal: 4m 16s\tremaining: 16.3s\n",
      "94:\tlearn: 0.1154256\ttotal: 4m 18s\tremaining: 13.6s\n",
      "95:\tlearn: 0.1152396\ttotal: 4m 21s\tremaining: 10.9s\n",
      "96:\tlearn: 0.1150455\ttotal: 4m 24s\tremaining: 8.16s\n",
      "97:\tlearn: 0.1148607\ttotal: 4m 26s\tremaining: 5.44s\n",
      "98:\tlearn: 0.1146725\ttotal: 4m 29s\tremaining: 2.72s\n",
      "99:\tlearn: 0.1144882\ttotal: 4m 31s\tremaining: 0us\n",
      "[CV 2/3; 4/6] END ...cat__max_depth=7, cat__n_estimators=100; total time= 5.1min\n",
      "[CV 3/3; 4/6] START cat__max_depth=7, cat__n_estimators=100.....................\n",
      "Learning rate set to 0.5\n",
      "0:\tlearn: 0.3407536\ttotal: 4.01s\tremaining: 6m 36s\n",
      "1:\tlearn: 0.2555044\ttotal: 6.81s\tremaining: 5m 33s\n",
      "2:\tlearn: 0.2298286\ttotal: 9.67s\tremaining: 5m 12s\n",
      "3:\tlearn: 0.2144739\ttotal: 12.5s\tremaining: 4m 58s\n",
      "4:\tlearn: 0.2054322\ttotal: 15.3s\tremaining: 4m 49s\n",
      "5:\tlearn: 0.2001789\ttotal: 18.1s\tremaining: 4m 42s\n",
      "6:\tlearn: 0.1961519\ttotal: 20.8s\tremaining: 4m 36s\n",
      "7:\tlearn: 0.1910981\ttotal: 23.6s\tremaining: 4m 31s\n",
      "8:\tlearn: 0.1863434\ttotal: 26.3s\tremaining: 4m 26s\n",
      "9:\tlearn: 0.1828540\ttotal: 29s\tremaining: 4m 21s\n",
      "10:\tlearn: 0.1801748\ttotal: 31.7s\tremaining: 4m 16s\n",
      "11:\tlearn: 0.1774561\ttotal: 34.5s\tremaining: 4m 13s\n",
      "12:\tlearn: 0.1748101\ttotal: 37.4s\tremaining: 4m 10s\n",
      "13:\tlearn: 0.1726781\ttotal: 40.1s\tremaining: 4m 6s\n",
      "14:\tlearn: 0.1706192\ttotal: 42.7s\tremaining: 4m 2s\n",
      "15:\tlearn: 0.1689395\ttotal: 45.4s\tremaining: 3m 58s\n",
      "16:\tlearn: 0.1675172\ttotal: 48.2s\tremaining: 3m 55s\n",
      "17:\tlearn: 0.1655495\ttotal: 50.9s\tremaining: 3m 51s\n",
      "18:\tlearn: 0.1642360\ttotal: 53.6s\tremaining: 3m 48s\n",
      "19:\tlearn: 0.1624420\ttotal: 56.3s\tremaining: 3m 45s\n",
      "20:\tlearn: 0.1613023\ttotal: 59.1s\tremaining: 3m 42s\n",
      "21:\tlearn: 0.1596253\ttotal: 1m 1s\tremaining: 3m 39s\n",
      "22:\tlearn: 0.1583764\ttotal: 1m 4s\tremaining: 3m 36s\n",
      "23:\tlearn: 0.1569766\ttotal: 1m 7s\tremaining: 3m 32s\n",
      "24:\tlearn: 0.1555856\ttotal: 1m 9s\tremaining: 3m 29s\n",
      "25:\tlearn: 0.1541721\ttotal: 1m 12s\tremaining: 3m 26s\n",
      "26:\tlearn: 0.1526906\ttotal: 1m 15s\tremaining: 3m 23s\n",
      "27:\tlearn: 0.1518608\ttotal: 1m 18s\tremaining: 3m 20s\n",
      "28:\tlearn: 0.1502488\ttotal: 1m 20s\tremaining: 3m 17s\n",
      "29:\tlearn: 0.1493775\ttotal: 1m 23s\tremaining: 3m 14s\n",
      "30:\tlearn: 0.1481854\ttotal: 1m 26s\tremaining: 3m 11s\n",
      "31:\tlearn: 0.1473402\ttotal: 1m 28s\tremaining: 3m 8s\n",
      "32:\tlearn: 0.1466445\ttotal: 1m 31s\tremaining: 3m 5s\n",
      "33:\tlearn: 0.1457779\ttotal: 1m 34s\tremaining: 3m 2s\n",
      "34:\tlearn: 0.1451443\ttotal: 1m 36s\tremaining: 2m 59s\n",
      "35:\tlearn: 0.1442811\ttotal: 1m 39s\tremaining: 2m 56s\n",
      "36:\tlearn: 0.1430516\ttotal: 1m 42s\tremaining: 2m 53s\n",
      "37:\tlearn: 0.1413761\ttotal: 1m 44s\tremaining: 2m 51s\n",
      "38:\tlearn: 0.1408084\ttotal: 1m 47s\tremaining: 2m 48s\n",
      "39:\tlearn: 0.1399750\ttotal: 1m 50s\tremaining: 2m 45s\n",
      "40:\tlearn: 0.1393000\ttotal: 1m 52s\tremaining: 2m 42s\n",
      "41:\tlearn: 0.1384002\ttotal: 1m 55s\tremaining: 2m 39s\n",
      "42:\tlearn: 0.1378178\ttotal: 1m 58s\tremaining: 2m 36s\n",
      "43:\tlearn: 0.1370124\ttotal: 2m\tremaining: 2m 33s\n",
      "44:\tlearn: 0.1361856\ttotal: 2m 3s\tremaining: 2m 31s\n",
      "45:\tlearn: 0.1357603\ttotal: 2m 6s\tremaining: 2m 28s\n",
      "46:\tlearn: 0.1348756\ttotal: 2m 9s\tremaining: 2m 25s\n",
      "47:\tlearn: 0.1341148\ttotal: 2m 11s\tremaining: 2m 22s\n",
      "48:\tlearn: 0.1335875\ttotal: 2m 14s\tremaining: 2m 20s\n",
      "49:\tlearn: 0.1332128\ttotal: 2m 17s\tremaining: 2m 17s\n",
      "50:\tlearn: 0.1326836\ttotal: 2m 20s\tremaining: 2m 14s\n",
      "51:\tlearn: 0.1323209\ttotal: 2m 22s\tremaining: 2m 11s\n",
      "52:\tlearn: 0.1319959\ttotal: 2m 25s\tremaining: 2m 8s\n",
      "53:\tlearn: 0.1314564\ttotal: 2m 27s\tremaining: 2m 6s\n",
      "54:\tlearn: 0.1309987\ttotal: 2m 30s\tremaining: 2m 3s\n",
      "55:\tlearn: 0.1304250\ttotal: 2m 33s\tremaining: 2m\n",
      "56:\tlearn: 0.1300893\ttotal: 2m 35s\tremaining: 1m 57s\n",
      "57:\tlearn: 0.1297955\ttotal: 2m 38s\tremaining: 1m 54s\n",
      "58:\tlearn: 0.1293183\ttotal: 2m 41s\tremaining: 1m 51s\n",
      "59:\tlearn: 0.1287413\ttotal: 2m 43s\tremaining: 1m 49s\n",
      "60:\tlearn: 0.1281135\ttotal: 2m 46s\tremaining: 1m 46s\n",
      "61:\tlearn: 0.1274703\ttotal: 2m 49s\tremaining: 1m 43s\n",
      "62:\tlearn: 0.1271572\ttotal: 2m 51s\tremaining: 1m 40s\n",
      "63:\tlearn: 0.1265061\ttotal: 2m 54s\tremaining: 1m 38s\n",
      "64:\tlearn: 0.1262360\ttotal: 2m 56s\tremaining: 1m 35s\n",
      "65:\tlearn: 0.1257044\ttotal: 2m 59s\tremaining: 1m 32s\n",
      "66:\tlearn: 0.1252717\ttotal: 3m 2s\tremaining: 1m 29s\n",
      "67:\tlearn: 0.1250060\ttotal: 3m 4s\tremaining: 1m 27s\n",
      "68:\tlearn: 0.1243472\ttotal: 3m 7s\tremaining: 1m 24s\n",
      "69:\tlearn: 0.1240812\ttotal: 3m 10s\tremaining: 1m 21s\n",
      "70:\tlearn: 0.1238308\ttotal: 3m 12s\tremaining: 1m 18s\n",
      "71:\tlearn: 0.1234788\ttotal: 3m 15s\tremaining: 1m 15s\n",
      "72:\tlearn: 0.1228497\ttotal: 3m 18s\tremaining: 1m 13s\n",
      "73:\tlearn: 0.1224481\ttotal: 3m 20s\tremaining: 1m 10s\n",
      "74:\tlearn: 0.1220919\ttotal: 3m 23s\tremaining: 1m 7s\n",
      "75:\tlearn: 0.1216072\ttotal: 3m 25s\tremaining: 1m 5s\n",
      "76:\tlearn: 0.1210455\ttotal: 3m 28s\tremaining: 1m 2s\n",
      "77:\tlearn: 0.1207916\ttotal: 3m 31s\tremaining: 59.5s\n",
      "78:\tlearn: 0.1205022\ttotal: 3m 33s\tremaining: 56.8s\n",
      "79:\tlearn: 0.1202462\ttotal: 3m 36s\tremaining: 54s\n",
      "80:\tlearn: 0.1200077\ttotal: 3m 38s\tremaining: 51.3s\n",
      "81:\tlearn: 0.1195516\ttotal: 3m 41s\tremaining: 48.6s\n",
      "82:\tlearn: 0.1193278\ttotal: 3m 44s\tremaining: 45.9s\n",
      "83:\tlearn: 0.1190910\ttotal: 3m 46s\tremaining: 43.2s\n",
      "84:\tlearn: 0.1188564\ttotal: 3m 49s\tremaining: 40.5s\n",
      "85:\tlearn: 0.1186282\ttotal: 3m 51s\tremaining: 37.8s\n",
      "86:\tlearn: 0.1181102\ttotal: 3m 54s\tremaining: 35s\n",
      "87:\tlearn: 0.1179167\ttotal: 3m 57s\tremaining: 32.3s\n",
      "88:\tlearn: 0.1176980\ttotal: 3m 59s\tremaining: 29.6s\n",
      "89:\tlearn: 0.1174943\ttotal: 4m 2s\tremaining: 26.9s\n",
      "90:\tlearn: 0.1172914\ttotal: 4m 4s\tremaining: 24.2s\n",
      "91:\tlearn: 0.1168825\ttotal: 4m 7s\tremaining: 21.5s\n",
      "92:\tlearn: 0.1166150\ttotal: 4m 10s\tremaining: 18.8s\n",
      "93:\tlearn: 0.1164346\ttotal: 4m 12s\tremaining: 16.1s\n",
      "94:\tlearn: 0.1162019\ttotal: 4m 15s\tremaining: 13.4s\n",
      "95:\tlearn: 0.1160146\ttotal: 4m 18s\tremaining: 10.8s\n",
      "96:\tlearn: 0.1158428\ttotal: 4m 20s\tremaining: 8.06s\n",
      "97:\tlearn: 0.1153187\ttotal: 4m 23s\tremaining: 5.37s\n",
      "98:\tlearn: 0.1151501\ttotal: 4m 25s\tremaining: 2.69s\n",
      "99:\tlearn: 0.1149820\ttotal: 4m 28s\tremaining: 0us\n",
      "[CV 3/3; 4/6] END ...cat__max_depth=7, cat__n_estimators=100; total time= 5.0min\n",
      "[CV 1/3; 5/6] START cat__max_depth=10, cat__n_estimators=50.....................\n",
      "Learning rate set to 0.5\n",
      "0:\tlearn: 0.3394225\ttotal: 15.2s\tremaining: 12m 23s\n",
      "1:\tlearn: 0.2527481\ttotal: 30.7s\tremaining: 12m 15s\n",
      "2:\tlearn: 0.2235812\ttotal: 46.1s\tremaining: 12m 2s\n",
      "3:\tlearn: 0.2069239\ttotal: 1m 1s\tremaining: 11m 49s\n",
      "4:\tlearn: 0.1992786\ttotal: 1m 16s\tremaining: 11m 32s\n",
      "5:\tlearn: 0.1916435\ttotal: 1m 32s\tremaining: 11m 15s\n",
      "6:\tlearn: 0.1859869\ttotal: 1m 47s\tremaining: 11m 3s\n",
      "7:\tlearn: 0.1817991\ttotal: 2m 3s\tremaining: 10m 49s\n",
      "8:\tlearn: 0.1779893\ttotal: 2m 19s\tremaining: 10m 37s\n",
      "9:\tlearn: 0.1738611\ttotal: 2m 35s\tremaining: 10m 23s\n",
      "10:\tlearn: 0.1702498\ttotal: 2m 51s\tremaining: 10m 7s\n",
      "11:\tlearn: 0.1682940\ttotal: 3m 6s\tremaining: 9m 51s\n",
      "12:\tlearn: 0.1657525\ttotal: 3m 22s\tremaining: 9m 35s\n",
      "13:\tlearn: 0.1632726\ttotal: 3m 37s\tremaining: 9m 20s\n",
      "14:\tlearn: 0.1608611\ttotal: 3m 53s\tremaining: 9m 4s\n",
      "15:\tlearn: 0.1588221\ttotal: 4m 8s\tremaining: 8m 48s\n",
      "16:\tlearn: 0.1563476\ttotal: 4m 24s\tremaining: 8m 33s\n",
      "17:\tlearn: 0.1548216\ttotal: 4m 39s\tremaining: 8m 17s\n",
      "18:\tlearn: 0.1535646\ttotal: 4m 55s\tremaining: 8m 2s\n",
      "19:\tlearn: 0.1520294\ttotal: 5m 10s\tremaining: 7m 46s\n",
      "20:\tlearn: 0.1501242\ttotal: 5m 26s\tremaining: 7m 30s\n",
      "21:\tlearn: 0.1490613\ttotal: 5m 42s\tremaining: 7m 15s\n",
      "22:\tlearn: 0.1477914\ttotal: 5m 57s\tremaining: 7m\n",
      "23:\tlearn: 0.1465408\ttotal: 6m 13s\tremaining: 6m 44s\n",
      "24:\tlearn: 0.1452492\ttotal: 6m 28s\tremaining: 6m 28s\n",
      "25:\tlearn: 0.1440896\ttotal: 6m 44s\tremaining: 6m 12s\n",
      "26:\tlearn: 0.1428223\ttotal: 6m 59s\tremaining: 5m 57s\n",
      "27:\tlearn: 0.1407393\ttotal: 7m 14s\tremaining: 5m 41s\n",
      "28:\tlearn: 0.1399707\ttotal: 7m 30s\tremaining: 5m 26s\n",
      "29:\tlearn: 0.1388074\ttotal: 7m 45s\tremaining: 5m 10s\n",
      "30:\tlearn: 0.1378595\ttotal: 8m 1s\tremaining: 4m 55s\n",
      "31:\tlearn: 0.1367803\ttotal: 8m 16s\tremaining: 4m 39s\n",
      "32:\tlearn: 0.1352512\ttotal: 8m 32s\tremaining: 4m 23s\n",
      "33:\tlearn: 0.1345587\ttotal: 8m 47s\tremaining: 4m 8s\n",
      "34:\tlearn: 0.1337514\ttotal: 9m 3s\tremaining: 3m 52s\n",
      "35:\tlearn: 0.1329505\ttotal: 9m 18s\tremaining: 3m 37s\n",
      "36:\tlearn: 0.1323586\ttotal: 9m 34s\tremaining: 3m 21s\n",
      "37:\tlearn: 0.1313231\ttotal: 9m 49s\tremaining: 3m 6s\n",
      "38:\tlearn: 0.1307728\ttotal: 10m 5s\tremaining: 2m 50s\n",
      "39:\tlearn: 0.1298683\ttotal: 10m 20s\tremaining: 2m 35s\n",
      "40:\tlearn: 0.1290148\ttotal: 10m 35s\tremaining: 2m 19s\n",
      "41:\tlearn: 0.1284971\ttotal: 10m 52s\tremaining: 2m 4s\n",
      "42:\tlearn: 0.1276281\ttotal: 11m 8s\tremaining: 1m 48s\n",
      "43:\tlearn: 0.1263806\ttotal: 11m 25s\tremaining: 1m 33s\n",
      "44:\tlearn: 0.1258698\ttotal: 11m 42s\tremaining: 1m 18s\n",
      "45:\tlearn: 0.1252382\ttotal: 11m 59s\tremaining: 1m 2s\n",
      "46:\tlearn: 0.1243578\ttotal: 12m 15s\tremaining: 46.9s\n",
      "47:\tlearn: 0.1238903\ttotal: 12m 31s\tremaining: 31.3s\n",
      "48:\tlearn: 0.1234539\ttotal: 12m 46s\tremaining: 15.7s\n",
      "49:\tlearn: 0.1221496\ttotal: 13m 2s\tremaining: 0us\n",
      "[CV 1/3; 5/6] END ...cat__max_depth=10, cat__n_estimators=50; total time=13.6min\n",
      "[CV 2/3; 5/6] START cat__max_depth=10, cat__n_estimators=50.....................\n",
      "Learning rate set to 0.5\n",
      "0:\tlearn: 0.3387797\ttotal: 16.5s\tremaining: 13m 28s\n",
      "1:\tlearn: 0.2532528\ttotal: 33.2s\tremaining: 13m 15s\n",
      "2:\tlearn: 0.2223393\ttotal: 49.9s\tremaining: 13m 1s\n",
      "3:\tlearn: 0.2081561\ttotal: 1m 6s\tremaining: 12m 39s\n",
      "4:\tlearn: 0.1998800\ttotal: 1m 21s\tremaining: 12m 15s\n",
      "5:\tlearn: 0.1925975\ttotal: 1m 36s\tremaining: 11m 51s\n",
      "6:\tlearn: 0.1880184\ttotal: 1m 52s\tremaining: 11m 31s\n",
      "7:\tlearn: 0.1836919\ttotal: 2m 8s\tremaining: 11m 13s\n",
      "8:\tlearn: 0.1790755\ttotal: 2m 23s\tremaining: 10m 55s\n",
      "9:\tlearn: 0.1759623\ttotal: 2m 39s\tremaining: 10m 38s\n",
      "10:\tlearn: 0.1724124\ttotal: 2m 55s\tremaining: 10m 21s\n",
      "11:\tlearn: 0.1689585\ttotal: 3m 11s\tremaining: 10m 4s\n",
      "12:\tlearn: 0.1667328\ttotal: 3m 26s\tremaining: 9m 49s\n",
      "13:\tlearn: 0.1645116\ttotal: 3m 43s\tremaining: 9m 33s\n",
      "14:\tlearn: 0.1622672\ttotal: 3m 58s\tremaining: 9m 17s\n",
      "15:\tlearn: 0.1600956\ttotal: 4m 14s\tremaining: 9m\n",
      "16:\tlearn: 0.1579603\ttotal: 4m 30s\tremaining: 8m 45s\n",
      "17:\tlearn: 0.1563926\ttotal: 4m 46s\tremaining: 8m 29s\n",
      "18:\tlearn: 0.1545051\ttotal: 5m 2s\tremaining: 8m 13s\n",
      "19:\tlearn: 0.1531275\ttotal: 5m 18s\tremaining: 7m 57s\n",
      "20:\tlearn: 0.1515405\ttotal: 5m 33s\tremaining: 7m 40s\n",
      "21:\tlearn: 0.1496130\ttotal: 5m 49s\tremaining: 7m 24s\n",
      "22:\tlearn: 0.1482474\ttotal: 6m 5s\tremaining: 7m 8s\n",
      "23:\tlearn: 0.1464798\ttotal: 6m 21s\tremaining: 6m 52s\n",
      "24:\tlearn: 0.1452690\ttotal: 6m 36s\tremaining: 6m 36s\n",
      "25:\tlearn: 0.1434517\ttotal: 6m 52s\tremaining: 6m 20s\n",
      "26:\tlearn: 0.1418989\ttotal: 7m 7s\tremaining: 6m 4s\n",
      "27:\tlearn: 0.1405171\ttotal: 7m 23s\tremaining: 5m 48s\n",
      "28:\tlearn: 0.1394046\ttotal: 7m 39s\tremaining: 5m 32s\n",
      "29:\tlearn: 0.1382191\ttotal: 7m 55s\tremaining: 5m 16s\n",
      "30:\tlearn: 0.1367108\ttotal: 8m 10s\tremaining: 5m\n",
      "31:\tlearn: 0.1360613\ttotal: 8m 26s\tremaining: 4m 44s\n",
      "32:\tlearn: 0.1348827\ttotal: 8m 42s\tremaining: 4m 29s\n",
      "33:\tlearn: 0.1338319\ttotal: 8m 57s\tremaining: 4m 13s\n",
      "34:\tlearn: 0.1330078\ttotal: 9m 13s\tremaining: 3m 57s\n",
      "35:\tlearn: 0.1319910\ttotal: 9m 28s\tremaining: 3m 41s\n",
      "36:\tlearn: 0.1309691\ttotal: 9m 44s\tremaining: 3m 25s\n",
      "37:\tlearn: 0.1303818\ttotal: 9m 59s\tremaining: 3m 9s\n",
      "38:\tlearn: 0.1297000\ttotal: 10m 15s\tremaining: 2m 53s\n",
      "39:\tlearn: 0.1291809\ttotal: 10m 31s\tremaining: 2m 37s\n",
      "40:\tlearn: 0.1279405\ttotal: 10m 46s\tremaining: 2m 21s\n",
      "41:\tlearn: 0.1271959\ttotal: 11m 2s\tremaining: 2m 6s\n",
      "42:\tlearn: 0.1267066\ttotal: 11m 17s\tremaining: 1m 50s\n",
      "43:\tlearn: 0.1258479\ttotal: 11m 33s\tremaining: 1m 34s\n",
      "44:\tlearn: 0.1253509\ttotal: 11m 48s\tremaining: 1m 18s\n",
      "45:\tlearn: 0.1248888\ttotal: 12m 4s\tremaining: 1m 3s\n",
      "46:\tlearn: 0.1240237\ttotal: 12m 20s\tremaining: 47.2s\n",
      "47:\tlearn: 0.1235324\ttotal: 12m 35s\tremaining: 31.5s\n",
      "48:\tlearn: 0.1226873\ttotal: 12m 51s\tremaining: 15.7s\n",
      "49:\tlearn: 0.1218609\ttotal: 13m 6s\tremaining: 0us\n",
      "[CV 2/3; 5/6] END ...cat__max_depth=10, cat__n_estimators=50; total time=13.7min\n",
      "[CV 3/3; 5/6] START cat__max_depth=10, cat__n_estimators=50.....................\n",
      "Learning rate set to 0.5\n",
      "0:\tlearn: 0.3383980\ttotal: 15s\tremaining: 12m 15s\n",
      "1:\tlearn: 0.2475465\ttotal: 29.9s\tremaining: 11m 57s\n",
      "2:\tlearn: 0.2180753\ttotal: 45s\tremaining: 11m 45s\n",
      "3:\tlearn: 0.2053354\ttotal: 1m\tremaining: 11m 30s\n",
      "4:\tlearn: 0.1979248\ttotal: 1m 15s\tremaining: 11m 16s\n",
      "5:\tlearn: 0.1907863\ttotal: 1m 30s\tremaining: 11m\n",
      "6:\tlearn: 0.1857131\ttotal: 1m 45s\tremaining: 10m 49s\n",
      "7:\tlearn: 0.1808837\ttotal: 2m 1s\tremaining: 10m 36s\n",
      "8:\tlearn: 0.1768057\ttotal: 2m 16s\tremaining: 10m 21s\n",
      "9:\tlearn: 0.1728847\ttotal: 2m 31s\tremaining: 10m 6s\n",
      "10:\tlearn: 0.1698201\ttotal: 2m 47s\tremaining: 9m 53s\n",
      "11:\tlearn: 0.1669413\ttotal: 3m 2s\tremaining: 9m 38s\n",
      "12:\tlearn: 0.1649408\ttotal: 3m 18s\tremaining: 9m 24s\n",
      "13:\tlearn: 0.1621231\ttotal: 3m 34s\tremaining: 9m 10s\n",
      "14:\tlearn: 0.1603155\ttotal: 3m 50s\tremaining: 8m 57s\n",
      "15:\tlearn: 0.1583568\ttotal: 4m 5s\tremaining: 8m 42s\n",
      "16:\tlearn: 0.1563160\ttotal: 4m 21s\tremaining: 8m 27s\n",
      "17:\tlearn: 0.1548941\ttotal: 4m 37s\tremaining: 8m 12s\n",
      "18:\tlearn: 0.1533001\ttotal: 4m 52s\tremaining: 7m 57s\n",
      "19:\tlearn: 0.1517840\ttotal: 5m 8s\tremaining: 7m 42s\n",
      "20:\tlearn: 0.1501966\ttotal: 5m 23s\tremaining: 7m 26s\n",
      "21:\tlearn: 0.1488487\ttotal: 5m 38s\tremaining: 7m 11s\n",
      "22:\tlearn: 0.1474810\ttotal: 5m 53s\tremaining: 6m 55s\n",
      "23:\tlearn: 0.1464346\ttotal: 6m 9s\tremaining: 6m 39s\n",
      "24:\tlearn: 0.1452654\ttotal: 6m 24s\tremaining: 6m 24s\n",
      "25:\tlearn: 0.1441124\ttotal: 6m 40s\tremaining: 6m 9s\n",
      "26:\tlearn: 0.1430825\ttotal: 6m 56s\tremaining: 5m 54s\n",
      "27:\tlearn: 0.1418852\ttotal: 7m 11s\tremaining: 5m 39s\n",
      "28:\tlearn: 0.1408261\ttotal: 7m 27s\tremaining: 5m 23s\n",
      "29:\tlearn: 0.1395279\ttotal: 7m 42s\tremaining: 5m 8s\n",
      "30:\tlearn: 0.1384582\ttotal: 7m 58s\tremaining: 4m 53s\n",
      "31:\tlearn: 0.1375031\ttotal: 8m 13s\tremaining: 4m 37s\n",
      "32:\tlearn: 0.1366864\ttotal: 8m 29s\tremaining: 4m 22s\n",
      "33:\tlearn: 0.1356196\ttotal: 8m 45s\tremaining: 4m 7s\n",
      "34:\tlearn: 0.1345527\ttotal: 9m 1s\tremaining: 3m 52s\n",
      "35:\tlearn: 0.1335709\ttotal: 9m 17s\tremaining: 3m 36s\n",
      "36:\tlearn: 0.1326944\ttotal: 9m 32s\tremaining: 3m 21s\n",
      "37:\tlearn: 0.1320681\ttotal: 9m 48s\tremaining: 3m 5s\n",
      "38:\tlearn: 0.1314936\ttotal: 10m 4s\tremaining: 2m 50s\n",
      "39:\tlearn: 0.1306816\ttotal: 10m 19s\tremaining: 2m 34s\n",
      "40:\tlearn: 0.1301613\ttotal: 10m 35s\tremaining: 2m 19s\n",
      "41:\tlearn: 0.1294603\ttotal: 10m 51s\tremaining: 2m 4s\n",
      "42:\tlearn: 0.1287435\ttotal: 11m 7s\tremaining: 1m 48s\n",
      "43:\tlearn: 0.1272593\ttotal: 11m 23s\tremaining: 1m 33s\n",
      "44:\tlearn: 0.1267777\ttotal: 11m 39s\tremaining: 1m 17s\n",
      "45:\tlearn: 0.1258016\ttotal: 11m 54s\tremaining: 1m 2s\n",
      "46:\tlearn: 0.1252012\ttotal: 12m 10s\tremaining: 46.6s\n",
      "47:\tlearn: 0.1242004\ttotal: 12m 25s\tremaining: 31.1s\n",
      "48:\tlearn: 0.1233483\ttotal: 12m 42s\tremaining: 15.6s\n",
      "49:\tlearn: 0.1227547\ttotal: 12m 58s\tremaining: 0us\n",
      "[CV 3/3; 5/6] END ...cat__max_depth=10, cat__n_estimators=50; total time=13.5min\n",
      "[CV 1/3; 6/6] START cat__max_depth=10, cat__n_estimators=100....................\n",
      "Learning rate set to 0.5\n",
      "0:\tlearn: 0.3394225\ttotal: 15.9s\tremaining: 26m 17s\n",
      "1:\tlearn: 0.2527481\ttotal: 31.9s\tremaining: 26m 2s\n",
      "2:\tlearn: 0.2235812\ttotal: 48.5s\tremaining: 26m 9s\n",
      "3:\tlearn: 0.2069239\ttotal: 1m 4s\tremaining: 25m 54s\n",
      "4:\tlearn: 0.1992786\ttotal: 1m 21s\tremaining: 25m 40s\n",
      "5:\tlearn: 0.1916435\ttotal: 1m 37s\tremaining: 25m 33s\n",
      "6:\tlearn: 0.1859869\ttotal: 1m 54s\tremaining: 25m 16s\n",
      "7:\tlearn: 0.1817991\ttotal: 2m 11s\tremaining: 25m 8s\n",
      "8:\tlearn: 0.1779893\ttotal: 2m 28s\tremaining: 25m\n",
      "9:\tlearn: 0.1738611\ttotal: 2m 45s\tremaining: 24m 45s\n",
      "10:\tlearn: 0.1702498\ttotal: 3m 1s\tremaining: 24m 28s\n",
      "11:\tlearn: 0.1682940\ttotal: 3m 16s\tremaining: 24m 4s\n",
      "12:\tlearn: 0.1657525\ttotal: 3m 32s\tremaining: 23m 42s\n",
      "13:\tlearn: 0.1632726\ttotal: 3m 47s\tremaining: 23m 20s\n",
      "14:\tlearn: 0.1608611\ttotal: 4m 3s\tremaining: 23m 2s\n",
      "15:\tlearn: 0.1588221\ttotal: 4m 20s\tremaining: 22m 45s\n",
      "16:\tlearn: 0.1563476\ttotal: 4m 35s\tremaining: 22m 26s\n",
      "17:\tlearn: 0.1548216\ttotal: 4m 51s\tremaining: 22m 8s\n",
      "18:\tlearn: 0.1535646\ttotal: 5m 7s\tremaining: 21m 50s\n",
      "19:\tlearn: 0.1520294\ttotal: 5m 23s\tremaining: 21m 32s\n",
      "20:\tlearn: 0.1501242\ttotal: 5m 39s\tremaining: 21m 15s\n",
      "21:\tlearn: 0.1490613\ttotal: 5m 54s\tremaining: 20m 58s\n",
      "22:\tlearn: 0.1477914\ttotal: 6m 10s\tremaining: 20m 40s\n",
      "23:\tlearn: 0.1465408\ttotal: 6m 26s\tremaining: 20m 22s\n",
      "24:\tlearn: 0.1452492\ttotal: 6m 41s\tremaining: 20m 4s\n",
      "25:\tlearn: 0.1440896\ttotal: 6m 57s\tremaining: 19m 48s\n",
      "26:\tlearn: 0.1428223\ttotal: 7m 13s\tremaining: 19m 31s\n",
      "27:\tlearn: 0.1407393\ttotal: 7m 29s\tremaining: 19m 15s\n",
      "28:\tlearn: 0.1399707\ttotal: 7m 45s\tremaining: 18m 59s\n",
      "29:\tlearn: 0.1388074\ttotal: 8m 1s\tremaining: 18m 43s\n",
      "30:\tlearn: 0.1378595\ttotal: 8m 17s\tremaining: 18m 27s\n",
      "31:\tlearn: 0.1367803\ttotal: 8m 33s\tremaining: 18m 11s\n",
      "32:\tlearn: 0.1352512\ttotal: 8m 49s\tremaining: 17m 55s\n",
      "33:\tlearn: 0.1345587\ttotal: 9m 5s\tremaining: 17m 39s\n",
      "34:\tlearn: 0.1337514\ttotal: 9m 21s\tremaining: 17m 22s\n",
      "35:\tlearn: 0.1329505\ttotal: 9m 37s\tremaining: 17m 6s\n",
      "36:\tlearn: 0.1323586\ttotal: 9m 53s\tremaining: 16m 50s\n",
      "37:\tlearn: 0.1313231\ttotal: 10m 9s\tremaining: 16m 33s\n",
      "38:\tlearn: 0.1307728\ttotal: 10m 25s\tremaining: 16m 17s\n",
      "39:\tlearn: 0.1298683\ttotal: 10m 41s\tremaining: 16m 1s\n",
      "40:\tlearn: 0.1290148\ttotal: 10m 57s\tremaining: 15m 45s\n",
      "41:\tlearn: 0.1284971\ttotal: 11m 13s\tremaining: 15m 29s\n",
      "42:\tlearn: 0.1276281\ttotal: 11m 29s\tremaining: 15m 14s\n",
      "43:\tlearn: 0.1263806\ttotal: 11m 45s\tremaining: 14m 58s\n",
      "44:\tlearn: 0.1258698\ttotal: 12m 2s\tremaining: 14m 42s\n",
      "45:\tlearn: 0.1252382\ttotal: 12m 18s\tremaining: 14m 27s\n",
      "46:\tlearn: 0.1243578\ttotal: 12m 34s\tremaining: 14m 11s\n",
      "47:\tlearn: 0.1238903\ttotal: 12m 50s\tremaining: 13m 54s\n",
      "48:\tlearn: 0.1234539\ttotal: 13m 6s\tremaining: 13m 38s\n",
      "49:\tlearn: 0.1221496\ttotal: 13m 22s\tremaining: 13m 22s\n",
      "50:\tlearn: 0.1214361\ttotal: 13m 38s\tremaining: 13m 6s\n",
      "51:\tlearn: 0.1202376\ttotal: 13m 54s\tremaining: 12m 50s\n",
      "52:\tlearn: 0.1198414\ttotal: 14m 10s\tremaining: 12m 34s\n",
      "53:\tlearn: 0.1193312\ttotal: 14m 26s\tremaining: 12m 18s\n",
      "54:\tlearn: 0.1183417\ttotal: 14m 43s\tremaining: 12m 2s\n",
      "55:\tlearn: 0.1175470\ttotal: 14m 59s\tremaining: 11m 47s\n",
      "56:\tlearn: 0.1171926\ttotal: 15m 16s\tremaining: 11m 31s\n",
      "57:\tlearn: 0.1168455\ttotal: 15m 32s\tremaining: 11m 15s\n",
      "58:\tlearn: 0.1164930\ttotal: 15m 49s\tremaining: 10m 59s\n",
      "59:\tlearn: 0.1159631\ttotal: 16m 6s\tremaining: 10m 44s\n",
      "60:\tlearn: 0.1155957\ttotal: 16m 23s\tremaining: 10m 28s\n",
      "61:\tlearn: 0.1152870\ttotal: 16m 40s\tremaining: 10m 12s\n",
      "62:\tlearn: 0.1145859\ttotal: 16m 56s\tremaining: 9m 57s\n",
      "63:\tlearn: 0.1142839\ttotal: 17m 13s\tremaining: 9m 41s\n",
      "64:\tlearn: 0.1140064\ttotal: 17m 30s\tremaining: 9m 25s\n",
      "65:\tlearn: 0.1134697\ttotal: 17m 47s\tremaining: 9m 9s\n",
      "66:\tlearn: 0.1128593\ttotal: 18m 3s\tremaining: 8m 53s\n",
      "67:\tlearn: 0.1125305\ttotal: 18m 20s\tremaining: 8m 37s\n",
      "68:\tlearn: 0.1122686\ttotal: 18m 36s\tremaining: 8m 21s\n",
      "69:\tlearn: 0.1120341\ttotal: 18m 52s\tremaining: 8m 5s\n",
      "70:\tlearn: 0.1117559\ttotal: 19m 9s\tremaining: 7m 49s\n",
      "71:\tlearn: 0.1115207\ttotal: 19m 25s\tremaining: 7m 33s\n",
      "72:\tlearn: 0.1109103\ttotal: 19m 41s\tremaining: 7m 17s\n",
      "73:\tlearn: 0.1106419\ttotal: 19m 58s\tremaining: 7m\n",
      "74:\tlearn: 0.1102967\ttotal: 20m 14s\tremaining: 6m 44s\n",
      "75:\tlearn: 0.1100700\ttotal: 20m 31s\tremaining: 6m 28s\n",
      "76:\tlearn: 0.1094394\ttotal: 20m 49s\tremaining: 6m 13s\n",
      "77:\tlearn: 0.1089823\ttotal: 21m 6s\tremaining: 5m 57s\n",
      "78:\tlearn: 0.1087247\ttotal: 21m 25s\tremaining: 5m 41s\n",
      "79:\tlearn: 0.1081962\ttotal: 21m 43s\tremaining: 5m 25s\n",
      "80:\tlearn: 0.1079852\ttotal: 21m 59s\tremaining: 5m 9s\n",
      "81:\tlearn: 0.1075297\ttotal: 22m 16s\tremaining: 4m 53s\n",
      "82:\tlearn: 0.1073368\ttotal: 22m 32s\tremaining: 4m 37s\n",
      "83:\tlearn: 0.1070182\ttotal: 22m 49s\tremaining: 4m 20s\n",
      "84:\tlearn: 0.1067699\ttotal: 23m 5s\tremaining: 4m 4s\n",
      "85:\tlearn: 0.1063490\ttotal: 23m 22s\tremaining: 3m 48s\n",
      "86:\tlearn: 0.1061579\ttotal: 23m 39s\tremaining: 3m 32s\n",
      "87:\tlearn: 0.1055397\ttotal: 23m 55s\tremaining: 3m 15s\n",
      "88:\tlearn: 0.1053637\ttotal: 24m 11s\tremaining: 2m 59s\n",
      "89:\tlearn: 0.1050592\ttotal: 24m 27s\tremaining: 2m 43s\n",
      "90:\tlearn: 0.1048155\ttotal: 24m 44s\tremaining: 2m 26s\n",
      "91:\tlearn: 0.1042525\ttotal: 25m\tremaining: 2m 10s\n",
      "92:\tlearn: 0.1036008\ttotal: 25m 17s\tremaining: 1m 54s\n",
      "93:\tlearn: 0.1033969\ttotal: 25m 33s\tremaining: 1m 37s\n",
      "94:\tlearn: 0.1029479\ttotal: 25m 50s\tremaining: 1m 21s\n",
      "95:\tlearn: 0.1027748\ttotal: 26m 8s\tremaining: 1m 5s\n",
      "96:\tlearn: 0.1022770\ttotal: 26m 26s\tremaining: 49.1s\n",
      "97:\tlearn: 0.1017608\ttotal: 26m 45s\tremaining: 32.8s\n",
      "98:\tlearn: 0.1012512\ttotal: 27m 3s\tremaining: 16.4s\n",
      "99:\tlearn: 0.1009355\ttotal: 27m 22s\tremaining: 0us\n",
      "[CV 1/3; 6/6] END ..cat__max_depth=10, cat__n_estimators=100; total time=27.9min\n",
      "[CV 2/3; 6/6] START cat__max_depth=10, cat__n_estimators=100....................\n",
      "Learning rate set to 0.5\n",
      "0:\tlearn: 0.3387797\ttotal: 17.2s\tremaining: 28m 22s\n",
      "1:\tlearn: 0.2532528\ttotal: 33.5s\tremaining: 27m 23s\n",
      "2:\tlearn: 0.2223393\ttotal: 49.9s\tremaining: 26m 53s\n",
      "3:\tlearn: 0.2081561\ttotal: 1m 7s\tremaining: 27m 11s\n",
      "4:\tlearn: 0.1998800\ttotal: 1m 25s\tremaining: 27m\n",
      "5:\tlearn: 0.1925975\ttotal: 1m 42s\tremaining: 26m 52s\n",
      "6:\tlearn: 0.1880184\ttotal: 2m\tremaining: 26m 42s\n",
      "7:\tlearn: 0.1836919\ttotal: 2m 17s\tremaining: 26m 26s\n",
      "8:\tlearn: 0.1790755\ttotal: 2m 35s\tremaining: 26m 8s\n",
      "9:\tlearn: 0.1759623\ttotal: 2m 51s\tremaining: 25m 42s\n",
      "10:\tlearn: 0.1724124\ttotal: 3m 6s\tremaining: 25m 12s\n",
      "11:\tlearn: 0.1689585\ttotal: 3m 22s\tremaining: 24m 45s\n",
      "12:\tlearn: 0.1667328\ttotal: 3m 38s\tremaining: 24m 19s\n",
      "13:\tlearn: 0.1645116\ttotal: 3m 54s\tremaining: 23m 59s\n",
      "14:\tlearn: 0.1622672\ttotal: 4m 12s\tremaining: 23m 48s\n",
      "15:\tlearn: 0.1600956\ttotal: 4m 28s\tremaining: 23m 31s\n",
      "16:\tlearn: 0.1579603\ttotal: 4m 45s\tremaining: 23m 15s\n",
      "17:\tlearn: 0.1563926\ttotal: 5m 2s\tremaining: 22m 58s\n",
      "18:\tlearn: 0.1545051\ttotal: 5m 19s\tremaining: 22m 43s\n",
      "19:\tlearn: 0.1531275\ttotal: 5m 36s\tremaining: 22m 26s\n",
      "20:\tlearn: 0.1515405\ttotal: 5m 52s\tremaining: 22m 7s\n",
      "21:\tlearn: 0.1496130\ttotal: 6m 9s\tremaining: 21m 49s\n",
      "22:\tlearn: 0.1482474\ttotal: 6m 26s\tremaining: 21m 35s\n",
      "23:\tlearn: 0.1464798\ttotal: 6m 44s\tremaining: 21m 20s\n",
      "24:\tlearn: 0.1452690\ttotal: 7m 1s\tremaining: 21m 5s\n",
      "25:\tlearn: 0.1434517\ttotal: 7m 19s\tremaining: 20m 49s\n",
      "26:\tlearn: 0.1418989\ttotal: 7m 36s\tremaining: 20m 33s\n",
      "27:\tlearn: 0.1405171\ttotal: 7m 53s\tremaining: 20m 16s\n",
      "28:\tlearn: 0.1394046\ttotal: 8m 9s\tremaining: 19m 58s\n",
      "29:\tlearn: 0.1382191\ttotal: 8m 26s\tremaining: 19m 40s\n",
      "30:\tlearn: 0.1367108\ttotal: 8m 41s\tremaining: 19m 21s\n",
      "31:\tlearn: 0.1360613\ttotal: 8m 57s\tremaining: 19m 2s\n",
      "32:\tlearn: 0.1348827\ttotal: 9m 14s\tremaining: 18m 46s\n",
      "33:\tlearn: 0.1338319\ttotal: 9m 32s\tremaining: 18m 30s\n",
      "34:\tlearn: 0.1330078\ttotal: 9m 49s\tremaining: 18m 14s\n",
      "35:\tlearn: 0.1319910\ttotal: 10m 6s\tremaining: 17m 58s\n",
      "36:\tlearn: 0.1309691\ttotal: 10m 23s\tremaining: 17m 40s\n",
      "37:\tlearn: 0.1303818\ttotal: 10m 39s\tremaining: 17m 24s\n",
      "38:\tlearn: 0.1297000\ttotal: 10m 56s\tremaining: 17m 7s\n",
      "39:\tlearn: 0.1291809\ttotal: 11m 13s\tremaining: 16m 49s\n",
      "40:\tlearn: 0.1279405\ttotal: 11m 29s\tremaining: 16m 32s\n",
      "41:\tlearn: 0.1271959\ttotal: 11m 45s\tremaining: 16m 14s\n",
      "42:\tlearn: 0.1267066\ttotal: 12m 1s\tremaining: 15m 56s\n",
      "43:\tlearn: 0.1258479\ttotal: 12m 17s\tremaining: 15m 38s\n",
      "44:\tlearn: 0.1253509\ttotal: 12m 32s\tremaining: 15m 20s\n",
      "45:\tlearn: 0.1248888\ttotal: 12m 48s\tremaining: 15m 2s\n",
      "46:\tlearn: 0.1240237\ttotal: 13m 5s\tremaining: 14m 45s\n",
      "47:\tlearn: 0.1235324\ttotal: 13m 21s\tremaining: 14m 28s\n",
      "48:\tlearn: 0.1226873\ttotal: 13m 39s\tremaining: 14m 12s\n",
      "49:\tlearn: 0.1218609\ttotal: 13m 55s\tremaining: 13m 55s\n",
      "50:\tlearn: 0.1214214\ttotal: 14m 13s\tremaining: 13m 39s\n",
      "51:\tlearn: 0.1207366\ttotal: 14m 30s\tremaining: 13m 23s\n",
      "52:\tlearn: 0.1198391\ttotal: 14m 47s\tremaining: 13m 6s\n",
      "53:\tlearn: 0.1194551\ttotal: 15m 3s\tremaining: 12m 49s\n",
      "54:\tlearn: 0.1190687\ttotal: 15m 19s\tremaining: 12m 32s\n",
      "55:\tlearn: 0.1186951\ttotal: 15m 35s\tremaining: 12m 15s\n",
      "56:\tlearn: 0.1181951\ttotal: 15m 51s\tremaining: 11m 57s\n",
      "57:\tlearn: 0.1174474\ttotal: 16m 6s\tremaining: 11m 39s\n",
      "58:\tlearn: 0.1167502\ttotal: 16m 22s\tremaining: 11m 22s\n",
      "59:\tlearn: 0.1164139\ttotal: 16m 37s\tremaining: 11m 5s\n",
      "60:\tlearn: 0.1160624\ttotal: 16m 53s\tremaining: 10m 48s\n",
      "61:\tlearn: 0.1155295\ttotal: 17m 9s\tremaining: 10m 30s\n",
      "62:\tlearn: 0.1150765\ttotal: 17m 24s\tremaining: 10m 13s\n",
      "63:\tlearn: 0.1147640\ttotal: 17m 40s\tremaining: 9m 56s\n",
      "64:\tlearn: 0.1144798\ttotal: 17m 55s\tremaining: 9m 39s\n",
      "65:\tlearn: 0.1142054\ttotal: 18m 11s\tremaining: 9m 22s\n",
      "66:\tlearn: 0.1139209\ttotal: 18m 27s\tremaining: 9m 5s\n",
      "67:\tlearn: 0.1136514\ttotal: 18m 43s\tremaining: 8m 48s\n",
      "68:\tlearn: 0.1129376\ttotal: 18m 59s\tremaining: 8m 31s\n",
      "69:\tlearn: 0.1124533\ttotal: 19m 15s\tremaining: 8m 15s\n",
      "70:\tlearn: 0.1117357\ttotal: 19m 30s\tremaining: 7m 58s\n",
      "71:\tlearn: 0.1114714\ttotal: 19m 46s\tremaining: 7m 41s\n",
      "72:\tlearn: 0.1112234\ttotal: 20m 2s\tremaining: 7m 24s\n",
      "73:\tlearn: 0.1105170\ttotal: 20m 18s\tremaining: 7m 8s\n",
      "74:\tlearn: 0.1098343\ttotal: 20m 33s\tremaining: 6m 51s\n",
      "75:\tlearn: 0.1095328\ttotal: 20m 49s\tremaining: 6m 34s\n",
      "76:\tlearn: 0.1089564\ttotal: 21m 4s\tremaining: 6m 17s\n",
      "77:\tlearn: 0.1081818\ttotal: 21m 20s\tremaining: 6m 1s\n",
      "78:\tlearn: 0.1076914\ttotal: 21m 36s\tremaining: 5m 44s\n",
      "79:\tlearn: 0.1072813\ttotal: 21m 51s\tremaining: 5m 27s\n",
      "80:\tlearn: 0.1066474\ttotal: 22m 7s\tremaining: 5m 11s\n",
      "81:\tlearn: 0.1064224\ttotal: 22m 23s\tremaining: 4m 54s\n",
      "82:\tlearn: 0.1061725\ttotal: 22m 39s\tremaining: 4m 38s\n",
      "83:\tlearn: 0.1053571\ttotal: 22m 55s\tremaining: 4m 21s\n",
      "84:\tlearn: 0.1051605\ttotal: 23m 10s\tremaining: 4m 5s\n",
      "85:\tlearn: 0.1048060\ttotal: 23m 26s\tremaining: 3m 48s\n",
      "86:\tlearn: 0.1042376\ttotal: 23m 41s\tremaining: 3m 32s\n",
      "87:\tlearn: 0.1040390\ttotal: 23m 56s\tremaining: 3m 15s\n",
      "88:\tlearn: 0.1037506\ttotal: 24m 12s\tremaining: 2m 59s\n",
      "89:\tlearn: 0.1032647\ttotal: 24m 27s\tremaining: 2m 43s\n",
      "90:\tlearn: 0.1027416\ttotal: 24m 43s\tremaining: 2m 26s\n",
      "91:\tlearn: 0.1024691\ttotal: 24m 58s\tremaining: 2m 10s\n",
      "92:\tlearn: 0.1022898\ttotal: 25m 15s\tremaining: 1m 54s\n",
      "93:\tlearn: 0.1020373\ttotal: 25m 31s\tremaining: 1m 37s\n",
      "94:\tlearn: 0.1013886\ttotal: 25m 47s\tremaining: 1m 21s\n",
      "95:\tlearn: 0.1009279\ttotal: 26m 3s\tremaining: 1m 5s\n",
      "96:\tlearn: 0.1004334\ttotal: 26m 18s\tremaining: 48.8s\n",
      "97:\tlearn: 0.1001869\ttotal: 26m 34s\tremaining: 32.5s\n",
      "98:\tlearn: 0.0999940\ttotal: 26m 50s\tremaining: 16.3s\n",
      "99:\tlearn: 0.0996400\ttotal: 27m 6s\tremaining: 0us\n",
      "[CV 2/3; 6/6] END ..cat__max_depth=10, cat__n_estimators=100; total time=27.7min\n",
      "[CV 3/3; 6/6] START cat__max_depth=10, cat__n_estimators=100....................\n",
      "Learning rate set to 0.5\n",
      "0:\tlearn: 0.3383980\ttotal: 16s\tremaining: 26m 20s\n",
      "1:\tlearn: 0.2475465\ttotal: 32.4s\tremaining: 26m 29s\n",
      "2:\tlearn: 0.2180753\ttotal: 48.7s\tremaining: 26m 16s\n",
      "3:\tlearn: 0.2053354\ttotal: 1m 4s\tremaining: 25m 52s\n",
      "4:\tlearn: 0.1979248\ttotal: 1m 20s\tremaining: 25m 32s\n",
      "5:\tlearn: 0.1907863\ttotal: 1m 36s\tremaining: 25m 9s\n",
      "6:\tlearn: 0.1857131\ttotal: 1m 52s\tremaining: 24m 52s\n",
      "7:\tlearn: 0.1808837\ttotal: 2m 8s\tremaining: 24m 35s\n",
      "8:\tlearn: 0.1768057\ttotal: 2m 23s\tremaining: 24m 15s\n",
      "9:\tlearn: 0.1728847\ttotal: 2m 40s\tremaining: 24m 1s\n",
      "10:\tlearn: 0.1698201\ttotal: 2m 56s\tremaining: 23m 46s\n",
      "11:\tlearn: 0.1669413\ttotal: 3m 12s\tremaining: 23m 33s\n",
      "12:\tlearn: 0.1649408\ttotal: 3m 30s\tremaining: 23m 29s\n",
      "13:\tlearn: 0.1621231\ttotal: 3m 47s\tremaining: 23m 14s\n",
      "14:\tlearn: 0.1603155\ttotal: 4m 3s\tremaining: 22m 59s\n",
      "15:\tlearn: 0.1583568\ttotal: 4m 19s\tremaining: 22m 43s\n",
      "16:\tlearn: 0.1563160\ttotal: 4m 35s\tremaining: 22m 26s\n",
      "17:\tlearn: 0.1548941\ttotal: 4m 51s\tremaining: 22m 8s\n",
      "18:\tlearn: 0.1533001\ttotal: 5m 7s\tremaining: 21m 53s\n",
      "19:\tlearn: 0.1517840\ttotal: 5m 23s\tremaining: 21m 35s\n",
      "20:\tlearn: 0.1501966\ttotal: 5m 40s\tremaining: 21m 20s\n",
      "21:\tlearn: 0.1488487\ttotal: 5m 57s\tremaining: 21m 6s\n",
      "22:\tlearn: 0.1474810\ttotal: 6m 13s\tremaining: 20m 49s\n",
      "23:\tlearn: 0.1464346\ttotal: 6m 29s\tremaining: 20m 33s\n",
      "24:\tlearn: 0.1452654\ttotal: 6m 45s\tremaining: 20m 15s\n",
      "25:\tlearn: 0.1441124\ttotal: 7m\tremaining: 19m 58s\n",
      "26:\tlearn: 0.1430825\ttotal: 7m 16s\tremaining: 19m 40s\n",
      "27:\tlearn: 0.1418852\ttotal: 7m 32s\tremaining: 19m 23s\n",
      "28:\tlearn: 0.1408261\ttotal: 7m 48s\tremaining: 19m 6s\n",
      "29:\tlearn: 0.1395279\ttotal: 8m 4s\tremaining: 18m 49s\n",
      "30:\tlearn: 0.1384582\ttotal: 8m 19s\tremaining: 18m 32s\n",
      "31:\tlearn: 0.1375031\ttotal: 8m 35s\tremaining: 18m 15s\n",
      "32:\tlearn: 0.1366864\ttotal: 8m 51s\tremaining: 17m 59s\n",
      "33:\tlearn: 0.1356196\ttotal: 9m 7s\tremaining: 17m 43s\n",
      "34:\tlearn: 0.1345527\ttotal: 9m 23s\tremaining: 17m 25s\n",
      "35:\tlearn: 0.1335709\ttotal: 9m 39s\tremaining: 17m 9s\n",
      "36:\tlearn: 0.1326944\ttotal: 9m 54s\tremaining: 16m 52s\n",
      "37:\tlearn: 0.1320681\ttotal: 10m 10s\tremaining: 16m 36s\n",
      "38:\tlearn: 0.1314936\ttotal: 10m 26s\tremaining: 16m 19s\n",
      "39:\tlearn: 0.1306816\ttotal: 10m 42s\tremaining: 16m 4s\n",
      "40:\tlearn: 0.1301613\ttotal: 10m 58s\tremaining: 15m 48s\n",
      "41:\tlearn: 0.1294603\ttotal: 11m 14s\tremaining: 15m 31s\n",
      "42:\tlearn: 0.1287435\ttotal: 11m 30s\tremaining: 15m 15s\n",
      "43:\tlearn: 0.1272593\ttotal: 11m 46s\tremaining: 14m 58s\n",
      "44:\tlearn: 0.1267777\ttotal: 12m 2s\tremaining: 14m 42s\n",
      "45:\tlearn: 0.1258016\ttotal: 12m 18s\tremaining: 14m 26s\n",
      "46:\tlearn: 0.1252012\ttotal: 12m 33s\tremaining: 14m 10s\n",
      "47:\tlearn: 0.1242004\ttotal: 12m 49s\tremaining: 13m 53s\n",
      "48:\tlearn: 0.1233483\ttotal: 13m 5s\tremaining: 13m 38s\n",
      "49:\tlearn: 0.1227547\ttotal: 13m 21s\tremaining: 13m 21s\n",
      "50:\tlearn: 0.1223213\ttotal: 13m 38s\tremaining: 13m 5s\n",
      "51:\tlearn: 0.1219420\ttotal: 13m 53s\tremaining: 12m 49s\n",
      "52:\tlearn: 0.1215519\ttotal: 14m 10s\tremaining: 12m 33s\n",
      "53:\tlearn: 0.1208325\ttotal: 14m 25s\tremaining: 12m 17s\n",
      "54:\tlearn: 0.1201926\ttotal: 14m 41s\tremaining: 12m 1s\n",
      "55:\tlearn: 0.1194465\ttotal: 14m 57s\tremaining: 11m 45s\n",
      "56:\tlearn: 0.1188177\ttotal: 15m 13s\tremaining: 11m 29s\n",
      "57:\tlearn: 0.1184447\ttotal: 15m 29s\tremaining: 11m 13s\n",
      "58:\tlearn: 0.1180870\ttotal: 15m 46s\tremaining: 10m 57s\n",
      "59:\tlearn: 0.1177604\ttotal: 16m 2s\tremaining: 10m 41s\n",
      "60:\tlearn: 0.1169890\ttotal: 16m 18s\tremaining: 10m 25s\n",
      "61:\tlearn: 0.1166982\ttotal: 16m 34s\tremaining: 10m 9s\n",
      "62:\tlearn: 0.1164215\ttotal: 16m 50s\tremaining: 9m 53s\n",
      "63:\tlearn: 0.1161678\ttotal: 17m 6s\tremaining: 9m 37s\n",
      "64:\tlearn: 0.1157318\ttotal: 17m 22s\tremaining: 9m 21s\n",
      "65:\tlearn: 0.1154478\ttotal: 17m 38s\tremaining: 9m 5s\n",
      "66:\tlearn: 0.1152067\ttotal: 17m 54s\tremaining: 8m 49s\n",
      "67:\tlearn: 0.1145032\ttotal: 18m 10s\tremaining: 8m 33s\n",
      "68:\tlearn: 0.1139645\ttotal: 18m 26s\tremaining: 8m 17s\n",
      "69:\tlearn: 0.1132727\ttotal: 18m 43s\tremaining: 8m 1s\n",
      "70:\tlearn: 0.1128310\ttotal: 18m 59s\tremaining: 7m 45s\n",
      "71:\tlearn: 0.1125441\ttotal: 19m 15s\tremaining: 7m 29s\n",
      "72:\tlearn: 0.1119814\ttotal: 19m 31s\tremaining: 7m 13s\n",
      "73:\tlearn: 0.1117522\ttotal: 19m 47s\tremaining: 6m 57s\n",
      "74:\tlearn: 0.1115257\ttotal: 20m 4s\tremaining: 6m 41s\n",
      "75:\tlearn: 0.1112242\ttotal: 20m 20s\tremaining: 6m 25s\n",
      "76:\tlearn: 0.1107201\ttotal: 20m 37s\tremaining: 6m 9s\n",
      "77:\tlearn: 0.1101705\ttotal: 20m 53s\tremaining: 5m 53s\n",
      "78:\tlearn: 0.1099552\ttotal: 21m 10s\tremaining: 5m 37s\n",
      "79:\tlearn: 0.1095413\ttotal: 21m 26s\tremaining: 5m 21s\n",
      "80:\tlearn: 0.1092448\ttotal: 21m 43s\tremaining: 5m 5s\n",
      "81:\tlearn: 0.1089302\ttotal: 21m 59s\tremaining: 4m 49s\n",
      "82:\tlearn: 0.1087229\ttotal: 22m 16s\tremaining: 4m 33s\n",
      "83:\tlearn: 0.1079930\ttotal: 22m 33s\tremaining: 4m 17s\n",
      "84:\tlearn: 0.1075113\ttotal: 22m 49s\tremaining: 4m 1s\n",
      "85:\tlearn: 0.1073088\ttotal: 23m 6s\tremaining: 3m 45s\n",
      "86:\tlearn: 0.1068004\ttotal: 23m 22s\tremaining: 3m 29s\n",
      "87:\tlearn: 0.1065400\ttotal: 23m 38s\tremaining: 3m 13s\n",
      "88:\tlearn: 0.1059541\ttotal: 23m 54s\tremaining: 2m 57s\n",
      "89:\tlearn: 0.1057001\ttotal: 24m 12s\tremaining: 2m 41s\n",
      "90:\tlearn: 0.1052251\ttotal: 24m 29s\tremaining: 2m 25s\n",
      "91:\tlearn: 0.1049837\ttotal: 24m 46s\tremaining: 2m 9s\n",
      "92:\tlearn: 0.1048015\ttotal: 25m 5s\tremaining: 1m 53s\n",
      "93:\tlearn: 0.1042604\ttotal: 25m 22s\tremaining: 1m 37s\n",
      "94:\tlearn: 0.1038571\ttotal: 25m 39s\tremaining: 1m 21s\n",
      "95:\tlearn: 0.1035433\ttotal: 25m 56s\tremaining: 1m 4s\n",
      "96:\tlearn: 0.1030680\ttotal: 26m 11s\tremaining: 48.6s\n",
      "97:\tlearn: 0.1028661\ttotal: 26m 28s\tremaining: 32.4s\n",
      "98:\tlearn: 0.1025992\ttotal: 26m 44s\tremaining: 16.2s\n",
      "99:\tlearn: 0.1024389\ttotal: 27m 2s\tremaining: 0us\n",
      "[CV 3/3; 6/6] END ..cat__max_depth=10, cat__n_estimators=100; total time=27.6min\n",
      "Learning rate set to 0.5\n",
      "0:\tlearn: 0.3241576\ttotal: 23.6s\tremaining: 38m 58s\n",
      "1:\tlearn: 0.2434679\ttotal: 46.9s\tremaining: 38m 16s\n",
      "2:\tlearn: 0.2148450\ttotal: 1m 9s\tremaining: 37m 39s\n",
      "3:\tlearn: 0.2041285\ttotal: 1m 34s\tremaining: 37m 42s\n",
      "4:\tlearn: 0.1971569\ttotal: 1m 58s\tremaining: 37m 31s\n",
      "5:\tlearn: 0.1897113\ttotal: 2m 21s\tremaining: 36m 58s\n",
      "6:\tlearn: 0.1851817\ttotal: 2m 44s\tremaining: 36m 22s\n",
      "7:\tlearn: 0.1808673\ttotal: 3m 6s\tremaining: 35m 48s\n",
      "8:\tlearn: 0.1777159\ttotal: 3m 29s\tremaining: 35m 16s\n",
      "9:\tlearn: 0.1739652\ttotal: 3m 51s\tremaining: 34m 44s\n",
      "10:\tlearn: 0.1701764\ttotal: 4m 13s\tremaining: 34m 14s\n",
      "11:\tlearn: 0.1678702\ttotal: 4m 37s\tremaining: 33m 52s\n",
      "12:\tlearn: 0.1656722\ttotal: 5m 1s\tremaining: 33m 35s\n",
      "13:\tlearn: 0.1636627\ttotal: 5m 25s\tremaining: 33m 17s\n",
      "14:\tlearn: 0.1615141\ttotal: 5m 49s\tremaining: 32m 58s\n",
      "15:\tlearn: 0.1593130\ttotal: 6m 12s\tremaining: 32m 35s\n",
      "16:\tlearn: 0.1577977\ttotal: 6m 36s\tremaining: 32m 14s\n",
      "17:\tlearn: 0.1562003\ttotal: 7m\tremaining: 31m 53s\n",
      "18:\tlearn: 0.1544727\ttotal: 7m 23s\tremaining: 31m 31s\n",
      "19:\tlearn: 0.1529107\ttotal: 7m 47s\tremaining: 31m 9s\n",
      "20:\tlearn: 0.1514299\ttotal: 8m 9s\tremaining: 30m 42s\n",
      "21:\tlearn: 0.1501726\ttotal: 8m 32s\tremaining: 30m 15s\n",
      "22:\tlearn: 0.1484806\ttotal: 8m 53s\tremaining: 29m 47s\n",
      "23:\tlearn: 0.1469612\ttotal: 9m 17s\tremaining: 29m 24s\n",
      "24:\tlearn: 0.1456850\ttotal: 9m 40s\tremaining: 29m 1s\n",
      "25:\tlearn: 0.1447019\ttotal: 10m 4s\tremaining: 28m 40s\n",
      "26:\tlearn: 0.1433435\ttotal: 10m 28s\tremaining: 28m 19s\n",
      "27:\tlearn: 0.1421106\ttotal: 10m 52s\tremaining: 27m 57s\n",
      "28:\tlearn: 0.1410889\ttotal: 11m 14s\tremaining: 27m 31s\n",
      "29:\tlearn: 0.1401392\ttotal: 11m 37s\tremaining: 27m 8s\n",
      "30:\tlearn: 0.1394304\ttotal: 12m 3s\tremaining: 26m 50s\n",
      "31:\tlearn: 0.1385448\ttotal: 12m 27s\tremaining: 26m 29s\n",
      "32:\tlearn: 0.1373458\ttotal: 12m 51s\tremaining: 26m 6s\n",
      "33:\tlearn: 0.1367320\ttotal: 13m 15s\tremaining: 25m 44s\n",
      "34:\tlearn: 0.1361733\ttotal: 13m 37s\tremaining: 25m 18s\n",
      "35:\tlearn: 0.1350656\ttotal: 14m\tremaining: 24m 55s\n",
      "36:\tlearn: 0.1339869\ttotal: 14m 25s\tremaining: 24m 33s\n",
      "37:\tlearn: 0.1333557\ttotal: 14m 49s\tremaining: 24m 11s\n",
      "38:\tlearn: 0.1325387\ttotal: 15m 14s\tremaining: 23m 50s\n",
      "39:\tlearn: 0.1316545\ttotal: 15m 38s\tremaining: 23m 28s\n",
      "40:\tlearn: 0.1310704\ttotal: 16m 1s\tremaining: 23m 3s\n",
      "41:\tlearn: 0.1302481\ttotal: 16m 23s\tremaining: 22m 38s\n",
      "42:\tlearn: 0.1298027\ttotal: 16m 45s\tremaining: 22m 12s\n",
      "43:\tlearn: 0.1290726\ttotal: 17m 7s\tremaining: 21m 47s\n",
      "44:\tlearn: 0.1284686\ttotal: 17m 28s\tremaining: 21m 21s\n",
      "45:\tlearn: 0.1280666\ttotal: 17m 49s\tremaining: 20m 56s\n",
      "46:\tlearn: 0.1276337\ttotal: 18m 11s\tremaining: 20m 31s\n",
      "47:\tlearn: 0.1272532\ttotal: 18m 33s\tremaining: 20m 6s\n",
      "48:\tlearn: 0.1264417\ttotal: 18m 57s\tremaining: 19m 43s\n",
      "49:\tlearn: 0.1256843\ttotal: 19m 23s\tremaining: 19m 23s\n",
      "50:\tlearn: 0.1252485\ttotal: 19m 48s\tremaining: 19m 1s\n",
      "51:\tlearn: 0.1245959\ttotal: 20m 12s\tremaining: 18m 39s\n",
      "52:\tlearn: 0.1241778\ttotal: 20m 37s\tremaining: 18m 17s\n",
      "53:\tlearn: 0.1238553\ttotal: 21m\tremaining: 17m 54s\n",
      "54:\tlearn: 0.1232273\ttotal: 21m 23s\tremaining: 17m 30s\n",
      "55:\tlearn: 0.1227192\ttotal: 21m 46s\tremaining: 17m 6s\n",
      "56:\tlearn: 0.1222717\ttotal: 22m 8s\tremaining: 16m 41s\n",
      "57:\tlearn: 0.1219616\ttotal: 22m 31s\tremaining: 16m 18s\n",
      "58:\tlearn: 0.1212009\ttotal: 22m 53s\tremaining: 15m 54s\n",
      "59:\tlearn: 0.1209027\ttotal: 23m 14s\tremaining: 15m 29s\n",
      "60:\tlearn: 0.1203177\ttotal: 23m 37s\tremaining: 15m 6s\n",
      "61:\tlearn: 0.1195410\ttotal: 23m 59s\tremaining: 14m 42s\n",
      "62:\tlearn: 0.1192211\ttotal: 24m 20s\tremaining: 14m 18s\n",
      "63:\tlearn: 0.1185262\ttotal: 24m 43s\tremaining: 13m 54s\n",
      "64:\tlearn: 0.1179694\ttotal: 25m 4s\tremaining: 13m 30s\n",
      "65:\tlearn: 0.1173740\ttotal: 25m 28s\tremaining: 13m 7s\n",
      "66:\tlearn: 0.1167297\ttotal: 25m 52s\tremaining: 12m 44s\n",
      "67:\tlearn: 0.1163394\ttotal: 26m 16s\tremaining: 12m 21s\n",
      "68:\tlearn: 0.1160622\ttotal: 26m 39s\tremaining: 11m 58s\n",
      "69:\tlearn: 0.1158218\ttotal: 27m 3s\tremaining: 11m 35s\n",
      "70:\tlearn: 0.1152635\ttotal: 27m 25s\tremaining: 11m 12s\n",
      "71:\tlearn: 0.1148092\ttotal: 27m 48s\tremaining: 10m 48s\n",
      "72:\tlearn: 0.1145641\ttotal: 28m 10s\tremaining: 10m 25s\n",
      "73:\tlearn: 0.1139499\ttotal: 28m 32s\tremaining: 10m 1s\n",
      "74:\tlearn: 0.1137130\ttotal: 28m 54s\tremaining: 9m 38s\n",
      "75:\tlearn: 0.1131110\ttotal: 29m 16s\tremaining: 9m 14s\n",
      "76:\tlearn: 0.1126274\ttotal: 29m 38s\tremaining: 8m 51s\n",
      "77:\tlearn: 0.1124032\ttotal: 30m\tremaining: 8m 27s\n",
      "78:\tlearn: 0.1121748\ttotal: 30m 23s\tremaining: 8m 4s\n",
      "79:\tlearn: 0.1119522\ttotal: 30m 47s\tremaining: 7m 41s\n",
      "80:\tlearn: 0.1117546\ttotal: 31m 12s\tremaining: 7m 19s\n",
      "81:\tlearn: 0.1113811\ttotal: 31m 36s\tremaining: 6m 56s\n",
      "82:\tlearn: 0.1111777\ttotal: 32m\tremaining: 6m 33s\n",
      "83:\tlearn: 0.1109983\ttotal: 32m 24s\tremaining: 6m 10s\n",
      "84:\tlearn: 0.1104545\ttotal: 32m 48s\tremaining: 5m 47s\n",
      "85:\tlearn: 0.1102755\ttotal: 33m 12s\tremaining: 5m 24s\n",
      "86:\tlearn: 0.1100806\ttotal: 33m 36s\tremaining: 5m 1s\n",
      "87:\tlearn: 0.1099182\ttotal: 34m\tremaining: 4m 38s\n",
      "88:\tlearn: 0.1093295\ttotal: 34m 23s\tremaining: 4m 15s\n",
      "89:\tlearn: 0.1090898\ttotal: 34m 45s\tremaining: 3m 51s\n",
      "90:\tlearn: 0.1087427\ttotal: 35m 8s\tremaining: 3m 28s\n",
      "91:\tlearn: 0.1081723\ttotal: 35m 31s\tremaining: 3m 5s\n",
      "92:\tlearn: 0.1079258\ttotal: 35m 54s\tremaining: 2m 42s\n",
      "93:\tlearn: 0.1077612\ttotal: 36m 16s\tremaining: 2m 18s\n",
      "94:\tlearn: 0.1075824\ttotal: 36m 39s\tremaining: 1m 55s\n",
      "95:\tlearn: 0.1074277\ttotal: 37m 2s\tremaining: 1m 32s\n",
      "96:\tlearn: 0.1068471\ttotal: 37m 24s\tremaining: 1m 9s\n",
      "97:\tlearn: 0.1065976\ttotal: 37m 47s\tremaining: 46.3s\n",
      "98:\tlearn: 0.1063906\ttotal: 38m 10s\tremaining: 23.1s\n",
      "99:\tlearn: 0.1062559\ttotal: 38m 33s\tremaining: 0us\n",
      "Лучшие параметры для Catboost {'cat__max_depth': 10, 'cat__n_estimators': 100}\n",
      "Лучшая оценка для Catboos 0.75\n",
      "CPU times: user 3h 18min 26s, sys: 49.9 s, total: 3h 19min 16s\n",
      "Wall time: 3h 19min 38s\n"
     ]
    }
   ],
   "source": [
    "%%time\n",
    "cat_pipeline = Pipeline([('tfidf', TfidfVectorizer(stop_words='english')), #обучим Catboost\n",
    "                     ('cat', CatBoostClassifier())]) \n",
    "\n",
    "parameters = {\n",
    "            'cat__n_estimators' : [50, 100],\n",
    "            'cat__max_depth' : [5, 7, 10]\n",
    "             }\n",
    "model_cat= GridSearchCV(cat_pipeline,\n",
    "                        parameters,\n",
    "                        scoring='f1',\n",
    "                        cv=3,\n",
    "                        n_jobs=-1,\n",
    "                        verbose=10)\n",
    "model_cat.fit(features_train['text'], target_train)\n",
    "print('Лучшие параметры для Catboost', model_cat.best_params_)\n",
    "print('Лучшая оценка для Catboos', model_cat.best_score_.round(2))"
   ]
  },
  {
   "cell_type": "code",
   "execution_count": 17,
   "metadata": {},
   "outputs": [
    {
     "name": "stdout",
     "output_type": "stream",
     "text": [
      "Fitting 3 folds for each of 6 candidates, totalling 18 fits\n",
      "[CV 1/3; 1/6] START lgbm__max_depth=5, lgbm__n_estimators=50....................\n",
      "[CV 1/3; 1/6] END ..lgbm__max_depth=5, lgbm__n_estimators=50; total time= 3.4min\n",
      "[CV 2/3; 1/6] START lgbm__max_depth=5, lgbm__n_estimators=50....................\n",
      "[CV 2/3; 1/6] END ..lgbm__max_depth=5, lgbm__n_estimators=50; total time= 5.1min\n",
      "[CV 3/3; 1/6] START lgbm__max_depth=5, lgbm__n_estimators=50....................\n",
      "[CV 3/3; 1/6] END ..lgbm__max_depth=5, lgbm__n_estimators=50; total time= 3.4min\n",
      "[CV 1/3; 2/6] START lgbm__max_depth=5, lgbm__n_estimators=100...................\n",
      "[CV 1/3; 2/6] END .lgbm__max_depth=5, lgbm__n_estimators=100; total time= 5.0min\n",
      "[CV 2/3; 2/6] START lgbm__max_depth=5, lgbm__n_estimators=100...................\n",
      "[CV 2/3; 2/6] END .lgbm__max_depth=5, lgbm__n_estimators=100; total time= 2.8min\n",
      "[CV 3/3; 2/6] START lgbm__max_depth=5, lgbm__n_estimators=100...................\n",
      "[CV 3/3; 2/6] END .lgbm__max_depth=5, lgbm__n_estimators=100; total time= 4.3min\n",
      "[CV 1/3; 3/6] START lgbm__max_depth=7, lgbm__n_estimators=50....................\n",
      "[CV 1/3; 3/6] END ..lgbm__max_depth=7, lgbm__n_estimators=50; total time= 2.9min\n",
      "[CV 2/3; 3/6] START lgbm__max_depth=7, lgbm__n_estimators=50....................\n",
      "[CV 2/3; 3/6] END ..lgbm__max_depth=7, lgbm__n_estimators=50; total time= 3.4min\n",
      "[CV 3/3; 3/6] START lgbm__max_depth=7, lgbm__n_estimators=50....................\n",
      "[CV 3/3; 3/6] END ..lgbm__max_depth=7, lgbm__n_estimators=50; total time= 3.2min\n",
      "[CV 1/3; 4/6] START lgbm__max_depth=7, lgbm__n_estimators=100...................\n",
      "[CV 1/3; 4/6] END .lgbm__max_depth=7, lgbm__n_estimators=100; total time= 3.6min\n",
      "[CV 2/3; 4/6] START lgbm__max_depth=7, lgbm__n_estimators=100...................\n",
      "[CV 2/3; 4/6] END .lgbm__max_depth=7, lgbm__n_estimators=100; total time= 1.6min\n",
      "[CV 3/3; 4/6] START lgbm__max_depth=7, lgbm__n_estimators=100...................\n",
      "[CV 3/3; 4/6] END .lgbm__max_depth=7, lgbm__n_estimators=100; total time= 1.6min\n",
      "[CV 1/3; 5/6] START lgbm__max_depth=10, lgbm__n_estimators=50...................\n",
      "[CV 1/3; 5/6] END .lgbm__max_depth=10, lgbm__n_estimators=50; total time= 1.3min\n",
      "[CV 2/3; 5/6] START lgbm__max_depth=10, lgbm__n_estimators=50...................\n",
      "[CV 2/3; 5/6] END .lgbm__max_depth=10, lgbm__n_estimators=50; total time= 1.4min\n",
      "[CV 3/3; 5/6] START lgbm__max_depth=10, lgbm__n_estimators=50...................\n",
      "[CV 3/3; 5/6] END .lgbm__max_depth=10, lgbm__n_estimators=50; total time= 1.4min\n",
      "[CV 1/3; 6/6] START lgbm__max_depth=10, lgbm__n_estimators=100..................\n",
      "[CV 1/3; 6/6] END lgbm__max_depth=10, lgbm__n_estimators=100; total time= 1.9min\n",
      "[CV 2/3; 6/6] START lgbm__max_depth=10, lgbm__n_estimators=100..................\n",
      "[CV 2/3; 6/6] END lgbm__max_depth=10, lgbm__n_estimators=100; total time= 1.9min\n",
      "[CV 3/3; 6/6] START lgbm__max_depth=10, lgbm__n_estimators=100..................\n",
      "[CV 3/3; 6/6] END lgbm__max_depth=10, lgbm__n_estimators=100; total time= 1.9min\n",
      "Лучшие параметры для LGBM {'lgbm__max_depth': 10, 'lgbm__n_estimators': 100}\n",
      "Лучшая оценка для LGBM 0.68\n",
      "CPU times: user 52min 31s, sys: 16.2 s, total: 52min 47s\n",
      "Wall time: 53min 10s\n"
     ]
    }
   ],
   "source": [
    "%%time\n",
    "from lightgbm import LGBMRegressor\n",
    "LGBM_pipeline = Pipeline([('tfidf', TfidfVectorizer(stop_words='english')), \n",
    "                     ('lgbm', LGBMClassifier(random_state=12345))])  \n",
    "parameters={'lgbm__n_estimators' : [50, 100],\n",
    "            'lgbm__max_depth' : [5, 7, 10]\n",
    "            }\n",
    "model_LGBM= GridSearchCV(LGBM_pipeline,\n",
    "                        parameters,\n",
    "                        scoring='f1',\n",
    "                        cv=3,\n",
    "                        n_jobs=-1,\n",
    "                        verbose=10\n",
    "                        )\n",
    "model_LGBM.fit(features_train['text'], target_train)\n",
    "print('Лучшие параметры для LGBM', model_LGBM.best_params_)\n",
    "print('Лучшая оценка для LGBM', model_LGBM.best_score_.round(2))"
   ]
  },
  {
   "cell_type": "markdown",
   "metadata": {},
   "source": [
    "## Выводы"
   ]
  },
  {
   "cell_type": "markdown",
   "metadata": {},
   "source": [
    "В процессе работы я изучила данные, преобразовала их, лемматизировала, убрала лишние символы. Далее обучила три модели:линейную регрессию, LGBM и Catboost. Наивысшая метрика f1 получилась линейной регрессии= 0.76, catboost хуже = 0.75 Lgbm чуть меньше = 0.68. Проверим линейную регрессию на тесте."
   ]
  },
  {
   "cell_type": "code",
   "execution_count": 20,
   "metadata": {},
   "outputs": [
    {
     "name": "stdout",
     "output_type": "stream",
     "text": [
      "F1 для линейной регрессии на тестовой выборке 0.77\n"
     ]
    }
   ],
   "source": [
    "predictions_test=lr_grid.predict(features_test['text']).round()\n",
    "model_lr_grid_score=f1_score(target_test, predictions_test)\n",
    "print('F1 для линейной регрессии на тестовой выборке', model_lr_grid_score.round(2))"
   ]
  },
  {
   "cell_type": "code",
   "execution_count": 21,
   "metadata": {},
   "outputs": [
    {
     "data": {
      "text/html": [
       "<div>\n",
       "<style scoped>\n",
       "    .dataframe tbody tr th:only-of-type {\n",
       "        vertical-align: middle;\n",
       "    }\n",
       "\n",
       "    .dataframe tbody tr th {\n",
       "        vertical-align: top;\n",
       "    }\n",
       "\n",
       "    .dataframe thead th {\n",
       "        text-align: right;\n",
       "    }\n",
       "</style>\n",
       "<table border=\"1\" class=\"dataframe\">\n",
       "  <thead>\n",
       "    <tr style=\"text-align: right;\">\n",
       "      <th></th>\n",
       "      <th>Model</th>\n",
       "      <th>Лучшая оценка</th>\n",
       "      <th>Тестирование лучшей модели</th>\n",
       "    </tr>\n",
       "  </thead>\n",
       "  <tbody>\n",
       "    <tr>\n",
       "      <th>0</th>\n",
       "      <td>LogisticRegression</td>\n",
       "      <td>0.76</td>\n",
       "      <td>0.77</td>\n",
       "    </tr>\n",
       "    <tr>\n",
       "      <th>1</th>\n",
       "      <td>LGBMRegressor</td>\n",
       "      <td>0.68</td>\n",
       "      <td>0.00</td>\n",
       "    </tr>\n",
       "    <tr>\n",
       "      <th>2</th>\n",
       "      <td>CatBoostRegressor</td>\n",
       "      <td>0.75</td>\n",
       "      <td>0.00</td>\n",
       "    </tr>\n",
       "  </tbody>\n",
       "</table>\n",
       "</div>"
      ],
      "text/plain": [
       "                Model  Лучшая оценка  Тестирование лучшей модели\n",
       "0  LogisticRegression           0.76                        0.77\n",
       "1       LGBMRegressor           0.68                        0.00\n",
       "2   CatBoostRegressor           0.75                        0.00"
      ]
     },
     "metadata": {},
     "output_type": "display_data"
    }
   ],
   "source": [
    "result = {\n",
    "    'Model' : ['LogisticRegression', 'LGBMRegressor', 'CatBoostRegressor'],\n",
    "    'Лучшая оценка' :pd.Series([0.76, 0.68, 0.75]),\n",
    "    'Тестирование лучшей модели':pd.Series ([0.77, 0, 0])\n",
    "    }\n",
    "display(pd.DataFrame(result))"
   ]
  },
  {
   "cell_type": "markdown",
   "metadata": {},
   "source": [
    "Метрика качества линейной регресси получилась 0.77 , а значит поставленной цели удалось добиться"
   ]
  }
 ],
 "metadata": {
  "ExecuteTimeLog": [
   {
    "duration": 490,
    "start_time": "2023-02-16T09:47:04.792Z"
   },
   {
    "duration": 152,
    "start_time": "2023-02-16T09:50:02.541Z"
   },
   {
    "duration": 2438,
    "start_time": "2023-02-16T09:50:29.553Z"
   },
   {
    "duration": 5,
    "start_time": "2023-02-16T09:51:21.932Z"
   },
   {
    "duration": 38,
    "start_time": "2023-02-16T09:52:14.529Z"
   },
   {
    "duration": 5,
    "start_time": "2023-02-16T09:55:41.666Z"
   },
   {
    "duration": 7,
    "start_time": "2023-02-16T09:58:21.291Z"
   },
   {
    "duration": 2114,
    "start_time": "2023-02-16T09:59:33.700Z"
   },
   {
    "duration": 957,
    "start_time": "2023-02-16T09:59:55.644Z"
   },
   {
    "duration": 5,
    "start_time": "2023-02-16T10:13:24.464Z"
   },
   {
    "duration": 13,
    "start_time": "2023-02-16T10:13:32.779Z"
   },
   {
    "duration": 3,
    "start_time": "2023-02-16T10:14:04.291Z"
   },
   {
    "duration": 948,
    "start_time": "2023-02-16T10:14:04.296Z"
   },
   {
    "duration": 32,
    "start_time": "2023-02-16T10:14:05.246Z"
   },
   {
    "duration": 7,
    "start_time": "2023-02-16T10:14:05.280Z"
   },
   {
    "duration": 409,
    "start_time": "2023-02-16T10:14:18.361Z"
   },
   {
    "duration": 2539,
    "start_time": "2023-02-16T10:14:18.773Z"
   },
   {
    "duration": 34,
    "start_time": "2023-02-16T10:14:21.314Z"
   },
   {
    "duration": 7,
    "start_time": "2023-02-16T10:14:21.349Z"
   },
   {
    "duration": 2008,
    "start_time": "2023-02-16T10:14:21.358Z"
   },
   {
    "duration": 953,
    "start_time": "2023-02-16T10:14:23.368Z"
   },
   {
    "duration": 4,
    "start_time": "2023-02-16T10:14:24.323Z"
   },
   {
    "duration": 9,
    "start_time": "2023-02-16T10:14:24.329Z"
   },
   {
    "duration": 4,
    "start_time": "2023-02-16T10:15:34.173Z"
   },
   {
    "duration": 3,
    "start_time": "2023-02-16T10:36:36.678Z"
   },
   {
    "duration": 881,
    "start_time": "2023-02-16T10:36:36.683Z"
   },
   {
    "duration": 32,
    "start_time": "2023-02-16T10:36:37.565Z"
   },
   {
    "duration": 6,
    "start_time": "2023-02-16T10:36:37.600Z"
   },
   {
    "duration": 188,
    "start_time": "2023-02-16T10:36:37.622Z"
   },
   {
    "duration": 774,
    "start_time": "2023-02-16T10:36:37.812Z"
   },
   {
    "duration": 4,
    "start_time": "2023-02-16T10:36:38.588Z"
   },
   {
    "duration": 8,
    "start_time": "2023-02-16T10:36:38.594Z"
   },
   {
    "duration": 7,
    "start_time": "2023-02-16T10:46:16.257Z"
   },
   {
    "duration": 4,
    "start_time": "2023-02-16T10:46:37.383Z"
   },
   {
    "duration": 7,
    "start_time": "2023-02-16T10:47:15.378Z"
   },
   {
    "duration": 897,
    "start_time": "2023-02-16T10:47:40.239Z"
   },
   {
    "duration": 60,
    "start_time": "2023-02-16T10:47:47.611Z"
   },
   {
    "duration": 6,
    "start_time": "2023-02-16T10:47:57.232Z"
   },
   {
    "duration": 9,
    "start_time": "2023-02-16T10:48:15.327Z"
   },
   {
    "duration": 47,
    "start_time": "2023-02-16T10:51:11.076Z"
   },
   {
    "duration": 234,
    "start_time": "2023-02-16T10:51:33.531Z"
   },
   {
    "duration": 199,
    "start_time": "2023-02-16T10:51:43.951Z"
   },
   {
    "duration": 17,
    "start_time": "2023-02-16T10:56:12.082Z"
   },
   {
    "duration": 1022,
    "start_time": "2023-02-16T10:56:36.944Z"
   },
   {
    "duration": 856,
    "start_time": "2023-02-16T10:56:37.968Z"
   },
   {
    "duration": 32,
    "start_time": "2023-02-16T10:56:38.827Z"
   },
   {
    "duration": 65,
    "start_time": "2023-02-16T10:56:38.861Z"
   },
   {
    "duration": 251,
    "start_time": "2023-02-16T10:56:38.928Z"
   },
   {
    "duration": 7,
    "start_time": "2023-02-16T10:56:39.182Z"
   },
   {
    "duration": 0,
    "start_time": "2023-02-16T11:01:56.536Z"
   },
   {
    "duration": 0,
    "start_time": "2023-02-16T11:01:56.537Z"
   },
   {
    "duration": 0,
    "start_time": "2023-02-16T11:01:56.539Z"
   },
   {
    "duration": 0,
    "start_time": "2023-02-16T11:01:56.540Z"
   },
   {
    "duration": 0,
    "start_time": "2023-02-16T11:01:56.544Z"
   },
   {
    "duration": 823,
    "start_time": "2023-02-16T11:07:09.623Z"
   },
   {
    "duration": 8,
    "start_time": "2023-02-16T11:07:34.123Z"
   },
   {
    "duration": 8,
    "start_time": "2023-02-16T11:08:04.843Z"
   },
   {
    "duration": 9,
    "start_time": "2023-02-16T11:08:20.951Z"
   },
   {
    "duration": 50,
    "start_time": "2023-02-16T11:15:59.961Z"
   },
   {
    "duration": 813,
    "start_time": "2023-02-16T11:16:00.650Z"
   },
   {
    "duration": 4,
    "start_time": "2023-02-16T11:16:01.466Z"
   },
   {
    "duration": 3,
    "start_time": "2023-02-16T11:16:10.486Z"
   },
   {
    "duration": 14,
    "start_time": "2023-02-16T11:19:33.844Z"
   },
   {
    "duration": 3,
    "start_time": "2023-02-16T11:19:37.363Z"
   },
   {
    "duration": 9,
    "start_time": "2023-02-16T11:19:37.937Z"
   },
   {
    "duration": 3,
    "start_time": "2023-02-16T11:19:52.164Z"
   },
   {
    "duration": 9,
    "start_time": "2023-02-16T11:19:53.244Z"
   },
   {
    "duration": 3,
    "start_time": "2023-02-16T11:21:19.887Z"
   },
   {
    "duration": 10,
    "start_time": "2023-02-16T11:21:20.556Z"
   },
   {
    "duration": 3,
    "start_time": "2023-02-16T11:28:52.781Z"
   },
   {
    "duration": 9,
    "start_time": "2023-02-16T11:28:53.665Z"
   },
   {
    "duration": 7880,
    "start_time": "2023-02-16T11:29:54.291Z"
   },
   {
    "duration": 10,
    "start_time": "2023-02-16T11:30:30.331Z"
   },
   {
    "duration": 11,
    "start_time": "2023-02-16T11:31:02.074Z"
   },
   {
    "duration": 50,
    "start_time": "2023-02-16T14:43:22.061Z"
   },
   {
    "duration": 1371,
    "start_time": "2023-02-16T14:43:28.715Z"
   },
   {
    "duration": 2490,
    "start_time": "2023-02-16T14:43:30.088Z"
   },
   {
    "duration": 39,
    "start_time": "2023-02-16T14:43:32.581Z"
   },
   {
    "duration": 47,
    "start_time": "2023-02-16T14:43:32.623Z"
   },
   {
    "duration": 287,
    "start_time": "2023-02-16T14:43:32.673Z"
   },
   {
    "duration": 6,
    "start_time": "2023-02-16T14:43:32.962Z"
   },
   {
    "duration": 17,
    "start_time": "2023-02-16T14:43:32.970Z"
   },
   {
    "duration": 20,
    "start_time": "2023-02-16T14:43:32.988Z"
   },
   {
    "duration": 91,
    "start_time": "2023-02-16T14:43:33.009Z"
   },
   {
    "duration": 0,
    "start_time": "2023-02-16T14:43:33.101Z"
   },
   {
    "duration": 7463,
    "start_time": "2023-02-16T14:43:53.374Z"
   },
   {
    "duration": 11,
    "start_time": "2023-02-16T14:44:04.941Z"
   },
   {
    "duration": 3,
    "start_time": "2023-02-16T14:48:07.084Z"
   },
   {
    "duration": 134,
    "start_time": "2023-02-16T14:48:08.968Z"
   },
   {
    "duration": 11,
    "start_time": "2023-02-16T14:48:10.550Z"
   },
   {
    "duration": 4,
    "start_time": "2023-02-16T14:50:04.483Z"
   },
   {
    "duration": 225,
    "start_time": "2023-02-16T14:50:06.284Z"
   },
   {
    "duration": 3,
    "start_time": "2023-02-16T14:50:39.052Z"
   },
   {
    "duration": 130,
    "start_time": "2023-02-16T14:50:39.989Z"
   },
   {
    "duration": 11,
    "start_time": "2023-02-16T14:50:42.097Z"
   },
   {
    "duration": 4,
    "start_time": "2023-02-16T14:51:08.261Z"
   },
   {
    "duration": 121,
    "start_time": "2023-02-16T14:51:08.961Z"
   },
   {
    "duration": 11,
    "start_time": "2023-02-16T14:51:10.047Z"
   },
   {
    "duration": 3,
    "start_time": "2023-02-16T14:53:16.621Z"
   },
   {
    "duration": 234,
    "start_time": "2023-02-16T14:53:50.983Z"
   },
   {
    "duration": 21,
    "start_time": "2023-02-16T15:00:40.669Z"
   },
   {
    "duration": 0,
    "start_time": "2023-02-16T15:00:40.692Z"
   },
   {
    "duration": 0,
    "start_time": "2023-02-16T15:00:40.693Z"
   },
   {
    "duration": 0,
    "start_time": "2023-02-16T15:00:40.694Z"
   },
   {
    "duration": 0,
    "start_time": "2023-02-16T15:00:40.696Z"
   },
   {
    "duration": 0,
    "start_time": "2023-02-16T15:00:40.697Z"
   },
   {
    "duration": 0,
    "start_time": "2023-02-16T15:00:40.699Z"
   },
   {
    "duration": 0,
    "start_time": "2023-02-16T15:00:40.700Z"
   },
   {
    "duration": 0,
    "start_time": "2023-02-16T15:00:40.701Z"
   },
   {
    "duration": 0,
    "start_time": "2023-02-16T15:00:40.702Z"
   },
   {
    "duration": 0,
    "start_time": "2023-02-16T15:00:40.703Z"
   },
   {
    "duration": 43,
    "start_time": "2023-02-16T15:01:20.792Z"
   },
   {
    "duration": 465,
    "start_time": "2023-02-16T15:11:39.994Z"
   },
   {
    "duration": 151,
    "start_time": "2023-02-16T15:16:34.350Z"
   },
   {
    "duration": 83,
    "start_time": "2023-02-16T15:16:45.982Z"
   },
   {
    "duration": 3,
    "start_time": "2023-02-16T15:16:53.704Z"
   },
   {
    "duration": 872,
    "start_time": "2023-02-16T15:16:53.709Z"
   },
   {
    "duration": 32,
    "start_time": "2023-02-16T15:16:54.583Z"
   },
   {
    "duration": 74,
    "start_time": "2023-02-16T15:16:54.617Z"
   },
   {
    "duration": 258,
    "start_time": "2023-02-16T15:16:54.693Z"
   },
   {
    "duration": 6,
    "start_time": "2023-02-16T15:16:54.953Z"
   },
   {
    "duration": 27,
    "start_time": "2023-02-16T15:16:54.960Z"
   },
   {
    "duration": 33,
    "start_time": "2023-02-16T15:16:54.989Z"
   },
   {
    "duration": 32916,
    "start_time": "2023-02-16T15:16:55.024Z"
   },
   {
    "duration": 4,
    "start_time": "2023-02-16T15:20:11.721Z"
   },
   {
    "duration": 7555,
    "start_time": "2023-02-16T15:20:46.954Z"
   },
   {
    "duration": 14,
    "start_time": "2023-02-16T15:21:13.448Z"
   },
   {
    "duration": 31356,
    "start_time": "2023-02-16T15:30:37.830Z"
   },
   {
    "duration": 4,
    "start_time": "2023-02-16T15:31:23.180Z"
   },
   {
    "duration": 853,
    "start_time": "2023-02-16T15:31:23.186Z"
   },
   {
    "duration": 32,
    "start_time": "2023-02-16T15:31:24.040Z"
   },
   {
    "duration": 34,
    "start_time": "2023-02-16T15:31:24.074Z"
   },
   {
    "duration": 247,
    "start_time": "2023-02-16T15:31:24.111Z"
   },
   {
    "duration": 5,
    "start_time": "2023-02-16T15:31:24.360Z"
   },
   {
    "duration": 11,
    "start_time": "2023-02-16T15:31:24.367Z"
   },
   {
    "duration": 30448,
    "start_time": "2023-02-16T15:31:24.380Z"
   },
   {
    "duration": 8,
    "start_time": "2023-02-16T15:31:54.830Z"
   },
   {
    "duration": 807,
    "start_time": "2023-02-16T15:31:54.840Z"
   },
   {
    "duration": 0,
    "start_time": "2023-02-16T15:31:55.648Z"
   },
   {
    "duration": 8194,
    "start_time": "2023-02-16T15:33:04.640Z"
   },
   {
    "duration": 3,
    "start_time": "2023-02-16T15:33:36.665Z"
   },
   {
    "duration": 4303,
    "start_time": "2023-02-16T15:33:39.473Z"
   },
   {
    "duration": 8,
    "start_time": "2023-02-16T15:33:44.788Z"
   },
   {
    "duration": 4209,
    "start_time": "2023-02-16T15:34:12.432Z"
   },
   {
    "duration": 8,
    "start_time": "2023-02-16T15:34:17.638Z"
   },
   {
    "duration": 3,
    "start_time": "2023-02-16T15:34:25.094Z"
   },
   {
    "duration": 837,
    "start_time": "2023-02-16T15:34:25.099Z"
   },
   {
    "duration": 31,
    "start_time": "2023-02-16T15:34:25.938Z"
   },
   {
    "duration": 27,
    "start_time": "2023-02-16T15:34:25.971Z"
   },
   {
    "duration": 266,
    "start_time": "2023-02-16T15:34:26.000Z"
   },
   {
    "duration": 6,
    "start_time": "2023-02-16T15:34:26.268Z"
   },
   {
    "duration": 13,
    "start_time": "2023-02-16T15:34:26.275Z"
   },
   {
    "duration": 30954,
    "start_time": "2023-02-16T15:34:26.290Z"
   },
   {
    "duration": 3,
    "start_time": "2023-02-16T15:34:57.245Z"
   },
   {
    "duration": 4036,
    "start_time": "2023-02-16T15:34:57.250Z"
   },
   {
    "duration": 7,
    "start_time": "2023-02-16T15:35:01.288Z"
   },
   {
    "duration": 12,
    "start_time": "2023-02-16T15:42:38.736Z"
   },
   {
    "duration": 11,
    "start_time": "2023-02-16T15:44:10.035Z"
   },
   {
    "duration": 4,
    "start_time": "2023-02-16T15:46:17.852Z"
   },
   {
    "duration": 838,
    "start_time": "2023-02-16T15:46:17.859Z"
   },
   {
    "duration": 39,
    "start_time": "2023-02-16T15:46:18.699Z"
   },
   {
    "duration": 40,
    "start_time": "2023-02-16T15:46:18.740Z"
   },
   {
    "duration": 257,
    "start_time": "2023-02-16T15:46:18.782Z"
   },
   {
    "duration": 6,
    "start_time": "2023-02-16T15:46:19.040Z"
   },
   {
    "duration": 10,
    "start_time": "2023-02-16T15:46:19.048Z"
   },
   {
    "duration": 30353,
    "start_time": "2023-02-16T15:46:19.060Z"
   },
   {
    "duration": 3,
    "start_time": "2023-02-16T15:46:49.415Z"
   },
   {
    "duration": 4421,
    "start_time": "2023-02-16T15:46:49.419Z"
   },
   {
    "duration": 8,
    "start_time": "2023-02-16T15:46:53.842Z"
   },
   {
    "duration": 30,
    "start_time": "2023-02-16T15:46:53.852Z"
   },
   {
    "duration": 43,
    "start_time": "2023-02-16T15:46:53.884Z"
   },
   {
    "duration": 12,
    "start_time": "2023-02-16T16:02:13.693Z"
   },
   {
    "duration": 12,
    "start_time": "2023-02-16T16:02:25.053Z"
   },
   {
    "duration": 3,
    "start_time": "2023-02-16T16:03:43.283Z"
   },
   {
    "duration": 3427,
    "start_time": "2023-02-16T16:03:44.556Z"
   },
   {
    "duration": 6,
    "start_time": "2023-02-16T16:03:49.623Z"
   },
   {
    "duration": 4,
    "start_time": "2023-02-16T16:03:54.432Z"
   },
   {
    "duration": 795,
    "start_time": "2023-02-16T16:03:54.437Z"
   },
   {
    "duration": 33,
    "start_time": "2023-02-16T16:03:55.234Z"
   },
   {
    "duration": 26,
    "start_time": "2023-02-16T16:03:55.269Z"
   },
   {
    "duration": 230,
    "start_time": "2023-02-16T16:03:55.297Z"
   },
   {
    "duration": 12,
    "start_time": "2023-02-16T16:03:55.529Z"
   },
   {
    "duration": 10,
    "start_time": "2023-02-16T16:03:55.542Z"
   },
   {
    "duration": 28661,
    "start_time": "2023-02-16T16:03:55.553Z"
   },
   {
    "duration": 4,
    "start_time": "2023-02-16T16:04:24.216Z"
   },
   {
    "duration": 4345,
    "start_time": "2023-02-16T16:04:24.223Z"
   },
   {
    "duration": 6,
    "start_time": "2023-02-16T16:04:28.570Z"
   },
   {
    "duration": 19,
    "start_time": "2023-02-16T16:04:28.578Z"
   },
   {
    "duration": 69,
    "start_time": "2023-02-16T16:04:28.598Z"
   },
   {
    "duration": 4,
    "start_time": "2023-02-16T16:07:04.984Z"
   },
   {
    "duration": 818,
    "start_time": "2023-02-16T16:07:04.990Z"
   },
   {
    "duration": 37,
    "start_time": "2023-02-16T16:07:05.811Z"
   },
   {
    "duration": 31,
    "start_time": "2023-02-16T16:07:05.849Z"
   },
   {
    "duration": 224,
    "start_time": "2023-02-16T16:07:05.883Z"
   },
   {
    "duration": 7,
    "start_time": "2023-02-16T16:07:06.109Z"
   },
   {
    "duration": 24,
    "start_time": "2023-02-16T16:07:06.117Z"
   },
   {
    "duration": 287,
    "start_time": "2023-02-16T16:07:06.143Z"
   },
   {
    "duration": 30179,
    "start_time": "2023-02-16T16:07:06.432Z"
   },
   {
    "duration": 3,
    "start_time": "2023-02-16T16:07:36.613Z"
   },
   {
    "duration": 4089,
    "start_time": "2023-02-16T16:07:36.617Z"
   },
   {
    "duration": 7,
    "start_time": "2023-02-16T16:07:40.709Z"
   },
   {
    "duration": 26,
    "start_time": "2023-02-16T16:07:40.717Z"
   },
   {
    "duration": 49,
    "start_time": "2023-02-16T16:07:40.746Z"
   },
   {
    "duration": 3,
    "start_time": "2023-02-16T16:19:25.946Z"
   },
   {
    "duration": 760,
    "start_time": "2023-02-16T16:19:25.951Z"
   },
   {
    "duration": 39,
    "start_time": "2023-02-16T16:19:26.713Z"
   },
   {
    "duration": 27,
    "start_time": "2023-02-16T16:19:26.753Z"
   },
   {
    "duration": 228,
    "start_time": "2023-02-16T16:19:26.782Z"
   },
   {
    "duration": 6,
    "start_time": "2023-02-16T16:19:27.012Z"
   },
   {
    "duration": 19,
    "start_time": "2023-02-16T16:19:27.019Z"
   },
   {
    "duration": 294,
    "start_time": "2023-02-16T16:19:27.040Z"
   },
   {
    "duration": 64,
    "start_time": "2023-02-16T16:19:27.338Z"
   },
   {
    "duration": 4,
    "start_time": "2023-02-16T16:19:27.404Z"
   },
   {
    "duration": 3964,
    "start_time": "2023-02-16T16:19:27.409Z"
   },
   {
    "duration": 7,
    "start_time": "2023-02-16T16:19:31.375Z"
   },
   {
    "duration": 51,
    "start_time": "2023-02-16T16:19:31.383Z"
   },
   {
    "duration": 71,
    "start_time": "2023-02-16T16:19:31.436Z"
   },
   {
    "duration": 4,
    "start_time": "2023-02-16T16:20:02.989Z"
   },
   {
    "duration": 868,
    "start_time": "2023-02-16T16:20:02.996Z"
   },
   {
    "duration": 31,
    "start_time": "2023-02-16T16:20:03.866Z"
   },
   {
    "duration": 55,
    "start_time": "2023-02-16T16:20:03.899Z"
   },
   {
    "duration": 235,
    "start_time": "2023-02-16T16:20:03.955Z"
   },
   {
    "duration": 6,
    "start_time": "2023-02-16T16:20:04.192Z"
   },
   {
    "duration": 18,
    "start_time": "2023-02-16T16:20:04.200Z"
   },
   {
    "duration": 318,
    "start_time": "2023-02-16T16:20:04.220Z"
   },
   {
    "duration": 501,
    "start_time": "2023-02-16T16:20:04.540Z"
   },
   {
    "duration": 3,
    "start_time": "2023-02-16T16:20:05.044Z"
   },
   {
    "duration": 4281,
    "start_time": "2023-02-16T16:20:05.049Z"
   },
   {
    "duration": 11,
    "start_time": "2023-02-16T16:20:09.332Z"
   },
   {
    "duration": 48,
    "start_time": "2023-02-16T16:20:09.345Z"
   },
   {
    "duration": 72,
    "start_time": "2023-02-16T16:20:09.396Z"
   },
   {
    "duration": 4,
    "start_time": "2023-02-16T16:20:52.972Z"
   },
   {
    "duration": 869,
    "start_time": "2023-02-16T16:20:52.978Z"
   },
   {
    "duration": 32,
    "start_time": "2023-02-16T16:20:53.848Z"
   },
   {
    "duration": 55,
    "start_time": "2023-02-16T16:20:53.881Z"
   },
   {
    "duration": 258,
    "start_time": "2023-02-16T16:20:53.939Z"
   },
   {
    "duration": 7,
    "start_time": "2023-02-16T16:20:54.198Z"
   },
   {
    "duration": 37,
    "start_time": "2023-02-16T16:20:54.207Z"
   },
   {
    "duration": 305,
    "start_time": "2023-02-16T16:20:54.246Z"
   },
   {
    "duration": 369,
    "start_time": "2023-02-16T16:20:54.553Z"
   },
   {
    "duration": 4,
    "start_time": "2023-02-16T16:20:54.924Z"
   },
   {
    "duration": 4302,
    "start_time": "2023-02-16T16:20:54.929Z"
   },
   {
    "duration": 9,
    "start_time": "2023-02-16T16:20:59.233Z"
   },
   {
    "duration": 23,
    "start_time": "2023-02-16T16:20:59.243Z"
   },
   {
    "duration": 63,
    "start_time": "2023-02-16T16:20:59.269Z"
   },
   {
    "duration": 0,
    "start_time": "2023-02-16T16:23:50.133Z"
   },
   {
    "duration": 0,
    "start_time": "2023-02-16T16:23:50.137Z"
   },
   {
    "duration": 0,
    "start_time": "2023-02-16T16:23:50.138Z"
   },
   {
    "duration": 0,
    "start_time": "2023-02-16T16:23:50.140Z"
   },
   {
    "duration": 0,
    "start_time": "2023-02-16T16:23:50.141Z"
   },
   {
    "duration": 0,
    "start_time": "2023-02-16T16:23:50.142Z"
   },
   {
    "duration": 0,
    "start_time": "2023-02-16T16:23:50.144Z"
   },
   {
    "duration": 0,
    "start_time": "2023-02-16T16:23:50.145Z"
   },
   {
    "duration": 0,
    "start_time": "2023-02-16T16:23:50.147Z"
   },
   {
    "duration": 0,
    "start_time": "2023-02-16T16:23:50.148Z"
   },
   {
    "duration": 0,
    "start_time": "2023-02-16T16:23:50.149Z"
   },
   {
    "duration": 0,
    "start_time": "2023-02-16T16:23:50.150Z"
   },
   {
    "duration": 0,
    "start_time": "2023-02-16T16:23:50.152Z"
   },
   {
    "duration": 1,
    "start_time": "2023-02-16T16:23:50.152Z"
   },
   {
    "duration": 4,
    "start_time": "2023-02-16T16:23:58.748Z"
   },
   {
    "duration": 819,
    "start_time": "2023-02-16T16:23:58.754Z"
   },
   {
    "duration": 32,
    "start_time": "2023-02-16T16:23:59.575Z"
   },
   {
    "duration": 46,
    "start_time": "2023-02-16T16:23:59.608Z"
   },
   {
    "duration": 240,
    "start_time": "2023-02-16T16:23:59.656Z"
   },
   {
    "duration": 6,
    "start_time": "2023-02-16T16:23:59.898Z"
   },
   {
    "duration": 31,
    "start_time": "2023-02-16T16:23:59.905Z"
   },
   {
    "duration": 307,
    "start_time": "2023-02-16T16:23:59.937Z"
   },
   {
    "duration": 343,
    "start_time": "2023-02-16T16:24:00.245Z"
   },
   {
    "duration": 3,
    "start_time": "2023-02-16T16:24:00.590Z"
   },
   {
    "duration": 4239,
    "start_time": "2023-02-16T16:24:00.595Z"
   },
   {
    "duration": 8,
    "start_time": "2023-02-16T16:24:04.838Z"
   },
   {
    "duration": 37,
    "start_time": "2023-02-16T16:24:04.849Z"
   },
   {
    "duration": 52,
    "start_time": "2023-02-16T16:24:04.889Z"
   },
   {
    "duration": 586,
    "start_time": "2023-02-16T16:24:38.016Z"
   },
   {
    "duration": 824,
    "start_time": "2023-02-16T16:24:38.604Z"
   },
   {
    "duration": 37,
    "start_time": "2023-02-16T16:24:39.430Z"
   },
   {
    "duration": 30,
    "start_time": "2023-02-16T16:24:39.469Z"
   },
   {
    "duration": 253,
    "start_time": "2023-02-16T16:24:39.500Z"
   },
   {
    "duration": 7,
    "start_time": "2023-02-16T16:24:39.755Z"
   },
   {
    "duration": 11,
    "start_time": "2023-02-16T16:24:39.764Z"
   },
   {
    "duration": 310,
    "start_time": "2023-02-16T16:24:39.776Z"
   },
   {
    "duration": 461525,
    "start_time": "2023-02-16T16:24:40.088Z"
   },
   {
    "duration": 3,
    "start_time": "2023-02-16T16:32:21.616Z"
   },
   {
    "duration": 4202,
    "start_time": "2023-02-16T16:32:21.621Z"
   },
   {
    "duration": 14,
    "start_time": "2023-02-16T16:32:25.825Z"
   },
   {
    "duration": 48,
    "start_time": "2023-02-16T16:32:25.840Z"
   },
   {
    "duration": 63,
    "start_time": "2023-02-16T16:32:25.890Z"
   },
   {
    "duration": 28,
    "start_time": "2023-02-16T16:59:49.525Z"
   },
   {
    "duration": 6,
    "start_time": "2023-02-16T17:01:05.421Z"
   },
   {
    "duration": 68,
    "start_time": "2023-02-16T17:21:06.262Z"
   },
   {
    "duration": 950,
    "start_time": "2023-02-16T17:21:06.333Z"
   },
   {
    "duration": 33,
    "start_time": "2023-02-16T17:21:07.285Z"
   },
   {
    "duration": 43,
    "start_time": "2023-02-16T17:21:07.320Z"
   },
   {
    "duration": 237,
    "start_time": "2023-02-16T17:21:07.365Z"
   },
   {
    "duration": 6,
    "start_time": "2023-02-16T17:21:07.604Z"
   },
   {
    "duration": 8,
    "start_time": "2023-02-16T17:21:07.611Z"
   },
   {
    "duration": 298,
    "start_time": "2023-02-16T17:21:07.638Z"
   },
   {
    "duration": 456889,
    "start_time": "2023-02-16T17:21:07.938Z"
   },
   {
    "duration": 3,
    "start_time": "2023-02-16T17:28:44.837Z"
   },
   {
    "duration": 4124,
    "start_time": "2023-02-16T17:28:44.841Z"
   },
   {
    "duration": 8,
    "start_time": "2023-02-16T17:28:48.968Z"
   },
   {
    "duration": 19,
    "start_time": "2023-02-16T17:28:48.978Z"
   },
   {
    "duration": 63,
    "start_time": "2023-02-16T17:28:49.001Z"
   },
   {
    "duration": 15,
    "start_time": "2023-02-16T17:57:40.212Z"
   },
   {
    "duration": 54,
    "start_time": "2023-02-16T18:10:33.435Z"
   },
   {
    "duration": 16,
    "start_time": "2023-02-16T18:10:50.828Z"
   },
   {
    "duration": 12,
    "start_time": "2023-02-16T18:11:53.949Z"
   },
   {
    "duration": 280,
    "start_time": "2023-02-16T18:12:14.765Z"
   },
   {
    "duration": 297,
    "start_time": "2023-02-16T18:12:51.490Z"
   },
   {
    "duration": 284,
    "start_time": "2023-02-16T18:32:44.519Z"
   },
   {
    "duration": 12,
    "start_time": "2023-02-16T18:39:49.779Z"
   },
   {
    "duration": 38,
    "start_time": "2023-02-16T18:40:39.050Z"
   },
   {
    "duration": 37,
    "start_time": "2023-02-16T18:52:21.244Z"
   },
   {
    "duration": 53,
    "start_time": "2023-02-16T18:53:21.540Z"
   },
   {
    "duration": 38,
    "start_time": "2023-02-16T18:55:48.719Z"
   },
   {
    "duration": 48,
    "start_time": "2023-02-16T18:59:12.557Z"
   },
   {
    "duration": 15,
    "start_time": "2023-02-16T19:14:40.412Z"
   },
   {
    "duration": 51,
    "start_time": "2023-02-16T19:17:16.254Z"
   },
   {
    "duration": 13,
    "start_time": "2023-02-16T19:18:21.770Z"
   },
   {
    "duration": 38,
    "start_time": "2023-02-16T19:18:50.198Z"
   },
   {
    "duration": 39,
    "start_time": "2023-02-16T19:19:56.379Z"
   },
   {
    "duration": 51,
    "start_time": "2023-02-16T19:21:12.391Z"
   },
   {
    "duration": 38,
    "start_time": "2023-02-16T19:23:53.917Z"
   },
   {
    "duration": 37,
    "start_time": "2023-02-16T19:27:11.815Z"
   },
   {
    "duration": 12,
    "start_time": "2023-02-16T19:32:54.665Z"
   },
   {
    "duration": 40,
    "start_time": "2023-02-16T19:33:18.939Z"
   },
   {
    "duration": 35,
    "start_time": "2023-02-16T19:36:09.996Z"
   },
   {
    "duration": 264,
    "start_time": "2023-02-16T19:42:19.651Z"
   },
   {
    "duration": 830,
    "start_time": "2023-02-16T19:42:19.916Z"
   },
   {
    "duration": 33,
    "start_time": "2023-02-16T19:42:20.748Z"
   },
   {
    "duration": 32,
    "start_time": "2023-02-16T19:42:20.783Z"
   },
   {
    "duration": 259,
    "start_time": "2023-02-16T19:42:20.817Z"
   },
   {
    "duration": 6,
    "start_time": "2023-02-16T19:42:21.078Z"
   },
   {
    "duration": 16,
    "start_time": "2023-02-16T19:42:21.086Z"
   },
   {
    "duration": 334,
    "start_time": "2023-02-16T19:42:21.104Z"
   },
   {
    "duration": 486979,
    "start_time": "2023-02-16T19:42:21.440Z"
   },
   {
    "duration": 3,
    "start_time": "2023-02-16T19:50:28.422Z"
   },
   {
    "duration": 4545,
    "start_time": "2023-02-16T19:50:28.426Z"
   },
   {
    "duration": 8,
    "start_time": "2023-02-16T19:50:32.973Z"
   },
   {
    "duration": 57,
    "start_time": "2023-02-16T19:50:32.982Z"
   },
   {
    "duration": 22,
    "start_time": "2023-02-16T19:50:33.044Z"
   },
   {
    "duration": 46,
    "start_time": "2023-02-16T19:50:33.068Z"
   },
   {
    "duration": 0,
    "start_time": "2023-02-16T19:50:33.117Z"
   },
   {
    "duration": 36,
    "start_time": "2023-02-16T19:54:02.031Z"
   },
   {
    "duration": 2599,
    "start_time": "2023-02-17T16:03:15.837Z"
   },
   {
    "duration": 3269,
    "start_time": "2023-02-17T16:03:18.438Z"
   },
   {
    "duration": 30,
    "start_time": "2023-02-17T16:03:21.709Z"
   },
   {
    "duration": 26,
    "start_time": "2023-02-17T16:03:21.742Z"
   },
   {
    "duration": 249,
    "start_time": "2023-02-17T16:03:21.769Z"
   },
   {
    "duration": 6,
    "start_time": "2023-02-17T16:03:22.020Z"
   },
   {
    "duration": 6,
    "start_time": "2023-02-17T16:03:22.037Z"
   },
   {
    "duration": 290,
    "start_time": "2023-02-17T16:03:22.044Z"
   },
   {
    "duration": 413665,
    "start_time": "2023-02-17T16:03:22.336Z"
   },
   {
    "duration": 3,
    "start_time": "2023-02-17T16:10:16.003Z"
   },
   {
    "duration": 3521,
    "start_time": "2023-02-17T16:10:16.008Z"
   },
   {
    "duration": 9,
    "start_time": "2023-02-17T16:10:19.530Z"
   },
   {
    "duration": 36,
    "start_time": "2023-02-17T16:10:19.540Z"
   },
   {
    "duration": 22,
    "start_time": "2023-02-17T16:10:19.577Z"
   },
   {
    "duration": 136,
    "start_time": "2023-02-17T16:10:19.601Z"
   },
   {
    "duration": 0,
    "start_time": "2023-02-17T16:10:19.738Z"
   },
   {
    "duration": 101055,
    "start_time": "2023-02-17T16:48:52.947Z"
   },
   {
    "duration": 7,
    "start_time": "2023-02-17T16:50:55.446Z"
   },
   {
    "duration": 494614,
    "start_time": "2023-02-17T16:51:20.131Z"
   },
   {
    "duration": 20,
    "start_time": "2023-02-17T17:00:10.224Z"
   },
   {
    "duration": 1152,
    "start_time": "2023-02-17T17:02:56.921Z"
   },
   {
    "duration": 96,
    "start_time": "2023-02-17T17:11:49.255Z"
   },
   {
    "duration": 100,
    "start_time": "2023-02-17T17:13:40.175Z"
   },
   {
    "duration": 96,
    "start_time": "2023-02-17T17:14:26.740Z"
   },
   {
    "duration": 114,
    "start_time": "2023-02-17T17:15:32.279Z"
   },
   {
    "duration": 2701641,
    "start_time": "2023-02-17T17:16:56.162Z"
   },
   {
    "duration": 170388,
    "start_time": "2023-02-17T18:02:08.714Z"
   },
   {
    "duration": 16555,
    "start_time": "2023-02-17T18:05:01.049Z"
   },
   {
    "duration": 16,
    "start_time": "2023-02-17T18:05:17.606Z"
   },
   {
    "duration": 31015,
    "start_time": "2023-02-17T18:05:23.734Z"
   },
   {
    "duration": 24,
    "start_time": "2023-02-17T18:05:54.751Z"
   },
   {
    "duration": 6280530,
    "start_time": "2023-02-17T18:09:53.169Z"
   },
   {
    "duration": 1454,
    "start_time": "2023-02-17T19:54:54.309Z"
   },
   {
    "duration": 1417,
    "start_time": "2023-02-17T19:57:00.475Z"
   },
   {
    "duration": 1484,
    "start_time": "2023-02-17T19:59:19.321Z"
   },
   {
    "duration": 3,
    "start_time": "2023-02-17T19:59:48.750Z"
   },
   {
    "duration": 3,
    "start_time": "2023-02-17T20:00:04.308Z"
   },
   {
    "duration": 73,
    "start_time": "2023-02-17T20:00:09.617Z"
   },
   {
    "duration": 239,
    "start_time": "2023-02-17T20:01:09.886Z"
   },
   {
    "duration": 1877,
    "start_time": "2023-02-17T20:06:25.737Z"
   },
   {
    "duration": 743,
    "start_time": "2023-02-17T20:06:27.617Z"
   },
   {
    "duration": 36,
    "start_time": "2023-02-17T20:06:28.362Z"
   },
   {
    "duration": 27,
    "start_time": "2023-02-17T20:06:28.400Z"
   },
   {
    "duration": 234,
    "start_time": "2023-02-17T20:06:28.437Z"
   },
   {
    "duration": 8,
    "start_time": "2023-02-17T20:06:28.673Z"
   },
   {
    "duration": 9,
    "start_time": "2023-02-17T20:06:28.683Z"
   },
   {
    "duration": 334,
    "start_time": "2023-02-17T20:06:28.696Z"
   },
   {
    "duration": 436610,
    "start_time": "2023-02-17T20:06:29.032Z"
   },
   {
    "duration": 4,
    "start_time": "2023-02-17T20:13:45.644Z"
   },
   {
    "duration": 3447,
    "start_time": "2023-02-17T20:13:45.650Z"
   },
   {
    "duration": 7,
    "start_time": "2023-02-17T20:13:49.098Z"
   },
   {
    "duration": 48,
    "start_time": "2023-02-17T20:13:49.106Z"
   },
   {
    "duration": 15,
    "start_time": "2023-02-17T20:13:49.155Z"
   },
   {
    "duration": 533067,
    "start_time": "2023-02-17T20:13:49.172Z"
   },
   {
    "duration": 1384,
    "start_time": "2023-02-17T20:22:42.241Z"
   },
   {
    "duration": 2308,
    "start_time": "2023-02-18T06:29:53.140Z"
   },
   {
    "duration": 3323,
    "start_time": "2023-02-18T06:29:55.450Z"
   },
   {
    "duration": 31,
    "start_time": "2023-02-18T06:29:58.774Z"
   },
   {
    "duration": 63,
    "start_time": "2023-02-18T06:29:58.807Z"
   },
   {
    "duration": 224,
    "start_time": "2023-02-18T06:29:58.872Z"
   },
   {
    "duration": 9,
    "start_time": "2023-02-18T06:29:59.098Z"
   },
   {
    "duration": 13,
    "start_time": "2023-02-18T06:29:59.109Z"
   },
   {
    "duration": 304,
    "start_time": "2023-02-18T06:29:59.124Z"
   },
   {
    "duration": 454305,
    "start_time": "2023-02-18T06:29:59.430Z"
   },
   {
    "duration": 3,
    "start_time": "2023-02-18T06:37:33.738Z"
   },
   {
    "duration": 4140,
    "start_time": "2023-02-18T06:37:33.742Z"
   },
   {
    "duration": 8,
    "start_time": "2023-02-18T06:37:37.883Z"
   },
   {
    "duration": 44,
    "start_time": "2023-02-18T06:37:37.902Z"
   },
   {
    "duration": 14,
    "start_time": "2023-02-18T06:37:37.948Z"
   },
   {
    "duration": 551958,
    "start_time": "2023-02-18T06:37:37.964Z"
   },
   {
    "duration": 1281,
    "start_time": "2023-02-18T06:46:50.004Z"
   },
   {
    "duration": 7208064,
    "start_time": "2023-02-18T06:46:51.287Z"
   },
   {
    "duration": 1764,
    "start_time": "2023-02-18T08:46:59.353Z"
   },
   {
    "duration": 0,
    "start_time": "2023-02-18T08:47:01.119Z"
   },
   {
    "duration": 1741,
    "start_time": "2023-02-18T08:51:33.732Z"
   },
   {
    "duration": 1603,
    "start_time": "2023-02-18T09:01:17.525Z"
   },
   {
    "duration": 1822,
    "start_time": "2023-02-18T09:02:25.904Z"
   },
   {
    "duration": 1677,
    "start_time": "2023-02-18T09:03:57.823Z"
   },
   {
    "duration": 131,
    "start_time": "2023-02-18T09:05:34.373Z"
   },
   {
    "duration": 1568,
    "start_time": "2023-02-18T09:05:50.000Z"
   },
   {
    "duration": 1595,
    "start_time": "2023-02-18T09:07:35.989Z"
   },
   {
    "duration": 1564,
    "start_time": "2023-02-18T09:08:02.032Z"
   },
   {
    "duration": 1596,
    "start_time": "2023-02-18T09:09:58.755Z"
   },
   {
    "duration": 1725,
    "start_time": "2023-02-18T09:12:18.272Z"
   },
   {
    "duration": 1693,
    "start_time": "2023-02-18T09:14:00.300Z"
   },
   {
    "duration": 2556733,
    "start_time": "2023-02-18T09:14:10.489Z"
   },
   {
    "duration": 1759,
    "start_time": "2023-02-18T10:03:08.568Z"
   },
   {
    "duration": 1764,
    "start_time": "2023-02-18T10:03:38.040Z"
   },
   {
    "duration": 24,
    "start_time": "2023-02-18T10:10:16.116Z"
   },
   {
    "duration": 28,
    "start_time": "2023-02-18T10:12:17.252Z"
   },
   {
    "duration": 20,
    "start_time": "2023-02-18T10:13:52.560Z"
   },
   {
    "duration": 19,
    "start_time": "2023-02-18T10:20:32.151Z"
   },
   {
    "duration": 15,
    "start_time": "2023-02-18T10:22:15.814Z"
   },
   {
    "duration": 12,
    "start_time": "2023-02-18T10:22:45.028Z"
   },
   {
    "duration": 13,
    "start_time": "2023-02-18T10:23:06.837Z"
   },
   {
    "duration": 19,
    "start_time": "2023-02-18T10:26:06.645Z"
   },
   {
    "duration": 20,
    "start_time": "2023-02-18T10:26:54.853Z"
   },
   {
    "duration": 22,
    "start_time": "2023-02-18T10:27:45.664Z"
   },
   {
    "duration": 81,
    "start_time": "2023-02-18T10:31:22.261Z"
   },
   {
    "duration": 19,
    "start_time": "2023-02-18T10:31:43.917Z"
   },
   {
    "duration": 16,
    "start_time": "2023-02-18T10:37:12.091Z"
   },
   {
    "duration": 11,
    "start_time": "2023-02-18T10:37:25.237Z"
   },
   {
    "duration": 2856,
    "start_time": "2023-02-18T15:00:15.569Z"
   },
   {
    "duration": 1855,
    "start_time": "2023-02-18T15:37:27.753Z"
   },
   {
    "duration": 3438,
    "start_time": "2023-02-18T15:37:29.610Z"
   },
   {
    "duration": 30,
    "start_time": "2023-02-18T15:37:33.050Z"
   },
   {
    "duration": 26,
    "start_time": "2023-02-18T15:37:33.083Z"
   },
   {
    "duration": 247,
    "start_time": "2023-02-18T15:37:33.111Z"
   },
   {
    "duration": 6,
    "start_time": "2023-02-18T15:37:33.360Z"
   },
   {
    "duration": 16,
    "start_time": "2023-02-18T15:37:33.368Z"
   },
   {
    "duration": 293,
    "start_time": "2023-02-18T15:37:33.386Z"
   },
   {
    "duration": 66427,
    "start_time": "2023-02-18T15:37:33.680Z"
   },
   {
    "duration": 3,
    "start_time": "2023-02-18T15:38:40.110Z"
   },
   {
    "duration": 4074,
    "start_time": "2023-02-18T15:38:40.115Z"
   },
   {
    "duration": 7,
    "start_time": "2023-02-18T15:38:44.191Z"
   },
   {
    "duration": 73,
    "start_time": "2023-02-18T15:38:44.199Z"
   },
   {
    "duration": 0,
    "start_time": "2023-02-18T15:38:44.273Z"
   },
   {
    "duration": 0,
    "start_time": "2023-02-18T15:38:44.275Z"
   },
   {
    "duration": 0,
    "start_time": "2023-02-18T15:38:44.276Z"
   },
   {
    "duration": 0,
    "start_time": "2023-02-18T15:38:44.277Z"
   },
   {
    "duration": 0,
    "start_time": "2023-02-18T15:38:44.278Z"
   },
   {
    "duration": 0,
    "start_time": "2023-02-18T15:38:44.279Z"
   },
   {
    "duration": 0,
    "start_time": "2023-02-18T15:38:44.280Z"
   },
   {
    "duration": 0,
    "start_time": "2023-02-18T15:38:44.281Z"
   },
   {
    "duration": 0,
    "start_time": "2023-02-18T15:38:44.282Z"
   },
   {
    "duration": 2007,
    "start_time": "2023-02-18T15:39:15.953Z"
   },
   {
    "duration": 874,
    "start_time": "2023-02-18T15:39:17.963Z"
   },
   {
    "duration": 37,
    "start_time": "2023-02-18T15:39:18.838Z"
   },
   {
    "duration": 27,
    "start_time": "2023-02-18T15:39:18.877Z"
   },
   {
    "duration": 253,
    "start_time": "2023-02-18T15:39:18.906Z"
   },
   {
    "duration": 6,
    "start_time": "2023-02-18T15:39:19.160Z"
   },
   {
    "duration": 6,
    "start_time": "2023-02-18T15:39:19.167Z"
   },
   {
    "duration": 296,
    "start_time": "2023-02-18T15:39:19.175Z"
   },
   {
    "duration": 27688,
    "start_time": "2023-02-18T15:39:19.473Z"
   },
   {
    "duration": 4,
    "start_time": "2023-02-18T15:39:47.162Z"
   },
   {
    "duration": 4069,
    "start_time": "2023-02-18T15:39:47.167Z"
   },
   {
    "duration": 7,
    "start_time": "2023-02-18T15:39:51.238Z"
   },
   {
    "duration": 73,
    "start_time": "2023-02-18T15:39:51.253Z"
   },
   {
    "duration": 0,
    "start_time": "2023-02-18T15:39:51.328Z"
   },
   {
    "duration": 0,
    "start_time": "2023-02-18T15:39:51.329Z"
   },
   {
    "duration": 0,
    "start_time": "2023-02-18T15:39:51.330Z"
   },
   {
    "duration": 0,
    "start_time": "2023-02-18T15:39:51.331Z"
   },
   {
    "duration": 0,
    "start_time": "2023-02-18T15:39:51.332Z"
   },
   {
    "duration": 0,
    "start_time": "2023-02-18T15:39:51.333Z"
   },
   {
    "duration": 0,
    "start_time": "2023-02-18T15:39:51.334Z"
   },
   {
    "duration": 0,
    "start_time": "2023-02-18T15:39:51.335Z"
   },
   {
    "duration": 0,
    "start_time": "2023-02-18T15:39:51.336Z"
   },
   {
    "duration": 1886,
    "start_time": "2023-02-18T15:40:17.599Z"
   },
   {
    "duration": 859,
    "start_time": "2023-02-18T15:40:19.487Z"
   },
   {
    "duration": 36,
    "start_time": "2023-02-18T15:40:20.348Z"
   },
   {
    "duration": 29,
    "start_time": "2023-02-18T15:40:20.386Z"
   },
   {
    "duration": 256,
    "start_time": "2023-02-18T15:40:20.416Z"
   },
   {
    "duration": 6,
    "start_time": "2023-02-18T15:40:20.674Z"
   },
   {
    "duration": 6,
    "start_time": "2023-02-18T15:40:20.681Z"
   },
   {
    "duration": 317,
    "start_time": "2023-02-18T15:40:20.688Z"
   },
   {
    "duration": 494283,
    "start_time": "2023-02-18T15:40:21.007Z"
   },
   {
    "duration": 4,
    "start_time": "2023-02-18T15:48:35.293Z"
   },
   {
    "duration": 4175,
    "start_time": "2023-02-18T15:48:35.299Z"
   },
   {
    "duration": 8,
    "start_time": "2023-02-18T15:48:39.475Z"
   },
   {
    "duration": 89,
    "start_time": "2023-02-18T15:48:39.486Z"
   },
   {
    "duration": 0,
    "start_time": "2023-02-18T15:48:39.576Z"
   },
   {
    "duration": 0,
    "start_time": "2023-02-18T15:48:39.578Z"
   },
   {
    "duration": 0,
    "start_time": "2023-02-18T15:48:39.580Z"
   },
   {
    "duration": 0,
    "start_time": "2023-02-18T15:48:39.581Z"
   },
   {
    "duration": 0,
    "start_time": "2023-02-18T15:48:39.583Z"
   },
   {
    "duration": 0,
    "start_time": "2023-02-18T15:48:39.585Z"
   },
   {
    "duration": 0,
    "start_time": "2023-02-18T15:48:39.586Z"
   },
   {
    "duration": 0,
    "start_time": "2023-02-18T15:48:39.588Z"
   },
   {
    "duration": 0,
    "start_time": "2023-02-18T15:48:39.590Z"
   },
   {
    "duration": 26,
    "start_time": "2023-02-18T15:49:20.977Z"
   },
   {
    "duration": 28,
    "start_time": "2023-02-18T15:49:44.317Z"
   },
   {
    "duration": 15,
    "start_time": "2023-02-18T15:50:10.827Z"
   },
   {
    "duration": 742686,
    "start_time": "2023-02-18T15:50:14.486Z"
   },
   {
    "duration": 748812,
    "start_time": "2023-02-18T16:09:05.168Z"
   },
   {
    "duration": 673,
    "start_time": "2023-02-18T16:22:11.833Z"
   },
   {
    "duration": 9868291,
    "start_time": "2023-02-18T16:22:31.411Z"
   },
   {
    "duration": 10464125,
    "start_time": "2023-02-18T19:08:22.116Z"
   },
   {
    "duration": 976,
    "start_time": "2023-02-18T22:03:09.221Z"
   },
   {
    "duration": 2443,
    "start_time": "2023-02-19T06:52:49.269Z"
   },
   {
    "duration": 2568,
    "start_time": "2023-02-19T06:52:51.715Z"
   },
   {
    "duration": 33,
    "start_time": "2023-02-19T06:52:54.289Z"
   },
   {
    "duration": 34,
    "start_time": "2023-02-19T06:52:54.324Z"
   },
   {
    "duration": 266,
    "start_time": "2023-02-19T06:52:54.360Z"
   },
   {
    "duration": 11,
    "start_time": "2023-02-19T06:52:54.628Z"
   },
   {
    "duration": 7,
    "start_time": "2023-02-19T06:52:54.640Z"
   },
   {
    "duration": 316,
    "start_time": "2023-02-19T06:52:54.649Z"
   },
   {
    "duration": 533400,
    "start_time": "2023-02-19T06:52:54.968Z"
   },
   {
    "duration": 5,
    "start_time": "2023-02-19T07:01:48.370Z"
   },
   {
    "duration": 4408,
    "start_time": "2023-02-19T07:01:48.376Z"
   },
   {
    "duration": 8,
    "start_time": "2023-02-19T07:01:52.785Z"
   },
   {
    "duration": 43,
    "start_time": "2023-02-19T07:01:52.795Z"
   },
   {
    "duration": 15,
    "start_time": "2023-02-19T07:01:52.840Z"
   },
   {
    "duration": 739100,
    "start_time": "2023-02-19T07:01:52.857Z"
   },
   {
    "duration": 753,
    "start_time": "2023-02-19T07:14:11.959Z"
   },
   {
    "duration": 9979465,
    "start_time": "2023-02-19T07:14:12.714Z"
   },
   {
    "duration": 999,
    "start_time": "2023-02-19T10:00:32.180Z"
   },
   {
    "duration": 1752788,
    "start_time": "2023-02-19T10:00:33.181Z"
   },
   {
    "duration": 985,
    "start_time": "2023-02-19T10:29:45.971Z"
   },
   {
    "duration": 183,
    "start_time": "2023-02-19T10:29:46.959Z"
   },
   {
    "duration": 0,
    "start_time": "2023-02-19T10:29:47.144Z"
   },
   {
    "duration": 9,
    "start_time": "2023-02-19T10:40:46.957Z"
   },
   {
    "duration": 2265,
    "start_time": "2023-02-20T06:33:58.150Z"
   },
   {
    "duration": 2327,
    "start_time": "2023-02-20T06:34:00.417Z"
   },
   {
    "duration": 31,
    "start_time": "2023-02-20T06:34:02.746Z"
   },
   {
    "duration": 29,
    "start_time": "2023-02-20T06:34:02.779Z"
   },
   {
    "duration": 239,
    "start_time": "2023-02-20T06:34:02.810Z"
   },
   {
    "duration": 8,
    "start_time": "2023-02-20T06:34:03.051Z"
   },
   {
    "duration": 5,
    "start_time": "2023-02-20T06:34:03.068Z"
   },
   {
    "duration": 303,
    "start_time": "2023-02-20T06:34:03.075Z"
   },
   {
    "duration": 445622,
    "start_time": "2023-02-20T06:34:03.380Z"
   },
   {
    "duration": 3,
    "start_time": "2023-02-20T06:41:29.004Z"
   },
   {
    "duration": 3998,
    "start_time": "2023-02-20T06:41:29.009Z"
   },
   {
    "duration": 7,
    "start_time": "2023-02-20T06:41:33.009Z"
   },
   {
    "duration": 35,
    "start_time": "2023-02-20T06:41:33.018Z"
   },
   {
    "duration": 20,
    "start_time": "2023-02-20T06:41:33.076Z"
   },
   {
    "duration": 719988,
    "start_time": "2023-02-20T06:41:33.097Z"
   },
   {
    "duration": 13047163,
    "start_time": "2023-02-20T06:53:33.087Z"
   },
   {
    "duration": 13629587,
    "start_time": "2023-02-20T10:31:00.252Z"
   },
   {
    "duration": 1031,
    "start_time": "2023-02-20T14:18:09.875Z"
   },
   {
    "duration": 9,
    "start_time": "2023-02-20T14:18:10.908Z"
   },
   {
    "duration": 706,
    "start_time": "2023-02-20T18:31:00.545Z"
   },
   {
    "duration": 46,
    "start_time": "2023-02-21T19:21:58.537Z"
   },
   {
    "duration": 1113,
    "start_time": "2023-02-21T20:00:08.427Z"
   },
   {
    "duration": 52,
    "start_time": "2023-02-21T20:01:14.663Z"
   },
   {
    "duration": 3166,
    "start_time": "2023-02-21T20:03:35.158Z"
   },
   {
    "duration": 2485,
    "start_time": "2023-02-21T20:03:38.326Z"
   },
   {
    "duration": 34,
    "start_time": "2023-02-21T20:03:40.813Z"
   },
   {
    "duration": 29,
    "start_time": "2023-02-21T20:03:40.849Z"
   },
   {
    "duration": 258,
    "start_time": "2023-02-21T20:03:40.879Z"
   },
   {
    "duration": 7,
    "start_time": "2023-02-21T20:03:41.139Z"
   },
   {
    "duration": 6,
    "start_time": "2023-02-21T20:03:41.148Z"
   },
   {
    "duration": 348,
    "start_time": "2023-02-21T20:03:41.156Z"
   },
   {
    "duration": 488034,
    "start_time": "2023-02-21T20:03:41.506Z"
   },
   {
    "duration": 3,
    "start_time": "2023-02-21T20:11:49.542Z"
   },
   {
    "duration": 4136,
    "start_time": "2023-02-21T20:11:49.548Z"
   },
   {
    "duration": 8,
    "start_time": "2023-02-21T20:11:53.685Z"
   },
   {
    "duration": 31,
    "start_time": "2023-02-21T20:11:53.695Z"
   },
   {
    "duration": 16,
    "start_time": "2023-02-21T20:11:53.738Z"
   },
   {
    "duration": 591907,
    "start_time": "2023-02-21T20:11:53.756Z"
   },
   {
    "duration": 1771,
    "start_time": "2023-02-21T20:23:19.149Z"
   },
   {
    "duration": 849,
    "start_time": "2023-02-21T20:23:20.921Z"
   },
   {
    "duration": 33,
    "start_time": "2023-02-21T20:23:21.772Z"
   },
   {
    "duration": 39,
    "start_time": "2023-02-21T20:23:21.807Z"
   },
   {
    "duration": 247,
    "start_time": "2023-02-21T20:23:21.847Z"
   },
   {
    "duration": 6,
    "start_time": "2023-02-21T20:23:22.096Z"
   },
   {
    "duration": 8,
    "start_time": "2023-02-21T20:23:22.103Z"
   },
   {
    "duration": 320,
    "start_time": "2023-02-21T20:23:22.112Z"
   },
   {
    "duration": 488059,
    "start_time": "2023-02-21T20:23:22.435Z"
   },
   {
    "duration": 2,
    "start_time": "2023-02-21T20:31:30.497Z"
   },
   {
    "duration": 4127,
    "start_time": "2023-02-21T20:31:30.501Z"
   },
   {
    "duration": 10,
    "start_time": "2023-02-21T20:31:34.630Z"
   },
   {
    "duration": 33,
    "start_time": "2023-02-21T20:31:34.641Z"
   },
   {
    "duration": 15,
    "start_time": "2023-02-21T20:31:34.676Z"
   },
   {
    "duration": 732272,
    "start_time": "2023-02-21T20:31:34.693Z"
   },
   {
    "duration": 12088294,
    "start_time": "2023-02-21T20:43:46.967Z"
   },
   {
    "duration": 35,
    "start_time": "2023-02-22T00:05:15.262Z"
   },
   {
    "duration": 0,
    "start_time": "2023-02-22T00:05:15.298Z"
   },
   {
    "duration": 0,
    "start_time": "2023-02-22T00:05:15.299Z"
   },
   {
    "duration": 2197,
    "start_time": "2023-02-22T07:32:43.151Z"
   },
   {
    "duration": 3132,
    "start_time": "2023-02-22T07:32:45.350Z"
   },
   {
    "duration": 29,
    "start_time": "2023-02-22T07:32:48.484Z"
   },
   {
    "duration": 26,
    "start_time": "2023-02-22T07:32:48.515Z"
   },
   {
    "duration": 225,
    "start_time": "2023-02-22T07:32:48.543Z"
   },
   {
    "duration": 7,
    "start_time": "2023-02-22T07:32:48.770Z"
   },
   {
    "duration": 7,
    "start_time": "2023-02-22T07:32:48.779Z"
   },
   {
    "duration": 310,
    "start_time": "2023-02-22T07:32:48.787Z"
   },
   {
    "duration": 448798,
    "start_time": "2023-02-22T07:32:49.099Z"
   },
   {
    "duration": 4,
    "start_time": "2023-02-22T07:40:17.917Z"
   },
   {
    "duration": 3652,
    "start_time": "2023-02-22T07:40:17.923Z"
   },
   {
    "duration": 7,
    "start_time": "2023-02-22T07:40:21.576Z"
   },
   {
    "duration": 40,
    "start_time": "2023-02-22T07:40:21.585Z"
   },
   {
    "duration": 18,
    "start_time": "2023-02-22T07:40:21.628Z"
   },
   {
    "duration": 652716,
    "start_time": "2023-02-22T07:40:21.648Z"
   },
   {
    "duration": 12090389,
    "start_time": "2023-02-22T07:51:14.367Z"
   },
   {
    "duration": 49,
    "start_time": "2023-02-22T11:12:44.757Z"
   },
   {
    "duration": 0,
    "start_time": "2023-02-22T11:12:44.808Z"
   },
   {
    "duration": 0,
    "start_time": "2023-02-22T11:12:44.809Z"
   },
   {
    "duration": 1238,
    "start_time": "2023-02-22T16:41:17.882Z"
   },
   {
    "duration": 2588,
    "start_time": "2023-02-22T16:41:36.102Z"
   },
   {
    "duration": 2346,
    "start_time": "2023-02-22T16:41:38.693Z"
   },
   {
    "duration": 28,
    "start_time": "2023-02-22T16:41:41.040Z"
   },
   {
    "duration": 32,
    "start_time": "2023-02-22T16:41:41.070Z"
   },
   {
    "duration": 234,
    "start_time": "2023-02-22T16:41:41.104Z"
   },
   {
    "duration": 12,
    "start_time": "2023-02-22T16:41:41.340Z"
   },
   {
    "duration": 6,
    "start_time": "2023-02-22T16:41:41.354Z"
   },
   {
    "duration": 292,
    "start_time": "2023-02-22T16:41:41.362Z"
   },
   {
    "duration": 474508,
    "start_time": "2023-02-22T16:41:41.656Z"
   },
   {
    "duration": 4,
    "start_time": "2023-02-22T16:49:36.168Z"
   },
   {
    "duration": 4047,
    "start_time": "2023-02-22T16:49:36.174Z"
   },
   {
    "duration": 8,
    "start_time": "2023-02-22T16:49:40.224Z"
   },
   {
    "duration": 35,
    "start_time": "2023-02-22T16:49:40.234Z"
   },
   {
    "duration": 12,
    "start_time": "2023-02-22T16:49:40.271Z"
   },
   {
    "duration": 763377,
    "start_time": "2023-02-22T16:49:40.286Z"
   },
   {
    "duration": 2801762,
    "start_time": "2023-02-22T17:02:23.665Z"
   },
   {
    "duration": 1998,
    "start_time": "2023-02-22T19:06:56.120Z"
   },
   {
    "duration": 840,
    "start_time": "2023-02-22T19:06:58.120Z"
   },
   {
    "duration": 36,
    "start_time": "2023-02-22T19:06:58.961Z"
   },
   {
    "duration": 52,
    "start_time": "2023-02-22T19:06:58.999Z"
   },
   {
    "duration": 256,
    "start_time": "2023-02-22T19:06:59.052Z"
   },
   {
    "duration": 7,
    "start_time": "2023-02-22T19:06:59.309Z"
   },
   {
    "duration": 7,
    "start_time": "2023-02-22T19:06:59.317Z"
   },
   {
    "duration": 315,
    "start_time": "2023-02-22T19:06:59.326Z"
   },
   {
    "duration": 498016,
    "start_time": "2023-02-22T19:06:59.643Z"
   },
   {
    "duration": 2,
    "start_time": "2023-02-22T19:15:17.663Z"
   },
   {
    "duration": 4047,
    "start_time": "2023-02-22T19:15:17.667Z"
   },
   {
    "duration": 7,
    "start_time": "2023-02-22T19:15:21.716Z"
   },
   {
    "duration": 37,
    "start_time": "2023-02-22T19:15:21.725Z"
   },
   {
    "duration": 14,
    "start_time": "2023-02-22T19:15:21.764Z"
   },
   {
    "duration": 759110,
    "start_time": "2023-02-22T19:15:21.780Z"
   },
   {
    "duration": 11978110,
    "start_time": "2023-02-22T19:28:00.892Z"
   },
   {
    "duration": 3190970,
    "start_time": "2023-02-22T22:47:39.003Z"
   },
   {
    "duration": 666,
    "start_time": "2023-02-22T23:40:49.975Z"
   },
   {
    "duration": 12,
    "start_time": "2023-02-22T23:40:50.642Z"
   },
   {
    "duration": 725,
    "start_time": "2023-02-22T23:43:01.256Z"
   },
   {
    "duration": 9,
    "start_time": "2023-02-22T23:44:34.195Z"
   }
  ],
  "kernelspec": {
   "display_name": "Python 3 (ipykernel)",
   "language": "python",
   "name": "python3"
  },
  "language_info": {
   "codemirror_mode": {
    "name": "ipython",
    "version": 3
   },
   "file_extension": ".py",
   "mimetype": "text/x-python",
   "name": "python",
   "nbconvert_exporter": "python",
   "pygments_lexer": "ipython3",
   "version": "3.9.13"
  },
  "toc": {
   "base_numbering": 1,
   "nav_menu": {},
   "number_sections": true,
   "sideBar": true,
   "skip_h1_title": true,
   "title_cell": "Содержание",
   "title_sidebar": "Contents",
   "toc_cell": true,
   "toc_position": {
    "height": "calc(100% - 180px)",
    "left": "10px",
    "top": "150px",
    "width": "302.391px"
   },
   "toc_section_display": true,
   "toc_window_display": false
  }
 },
 "nbformat": 4,
 "nbformat_minor": 2
}
