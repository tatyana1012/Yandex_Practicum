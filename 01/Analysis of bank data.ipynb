{
 "cells": [
  {
   "cell_type": "markdown",
   "id": "be58b229",
   "metadata": {
    "deletable": false,
    "editable": false,
    "id": "c81daeeb"
   },
   "source": [
    "# Исследование надежности заемщиков\n"
   ]
  },
  {
   "cell_type": "markdown",
   "id": "aef2d25e",
   "metadata": {
    "deletable": false,
    "editable": false,
    "id": "827c20bf"
   },
   "source": [
    "Во второй части проекта вы выполните шаги 3 и 4. Их вручную проверит ревьюер.\n",
    "Чтобы вам не пришлось писать код заново для шагов 1 и 2, мы добавили авторские решения в ячейки с кодом. \n",
    "\n"
   ]
  },
  {
   "cell_type": "markdown",
   "id": "8dc2e7b0",
   "metadata": {
    "deletable": false,
    "editable": false,
    "id": "744d7639"
   },
   "source": [
    "## Откройте таблицу и изучите общую информацию о данных"
   ]
  },
  {
   "cell_type": "markdown",
   "id": "a940b2bd",
   "metadata": {
    "deletable": false,
    "editable": false,
    "id": "e7a14c31"
   },
   "source": [
    "**Задание 1. Импортируйте библиотеку pandas. Считайте данные из csv-файла в датафрейм и сохраните в переменную `data`. Путь к файлу:**\n",
    "\n",
    "`/datasets/data.csv`"
   ]
  },
  {
   "cell_type": "code",
   "execution_count": 111,
   "id": "7bd752ed",
   "metadata": {
    "deletable": false,
    "id": "7bcf75c9"
   },
   "outputs": [],
   "source": [
    "import pandas as pd\n",
    "\n",
    "try:\n",
    "    data = pd.read_csv('/datasets/data.csv')\n",
    "except:\n",
    "    data = pd.read_csv('https://code.s3.yandex.net/datasets/data.csv')"
   ]
  },
  {
   "cell_type": "markdown",
   "id": "96b60e00",
   "metadata": {
    "deletable": false,
    "editable": false,
    "id": "b8038fe3"
   },
   "source": [
    "**Задание 2. Выведите первые 20 строчек датафрейма `data` на экран.**"
   ]
  },
  {
   "cell_type": "code",
   "execution_count": 112,
   "id": "872556f2",
   "metadata": {
    "deletable": false,
    "id": "2a7cab99",
    "outputId": "1a8f3ef2-d323-4ec2-ddf7-89670b5944c4"
   },
   "outputs": [
    {
     "data": {
      "text/html": [
       "<div>\n",
       "<style scoped>\n",
       "    .dataframe tbody tr th:only-of-type {\n",
       "        vertical-align: middle;\n",
       "    }\n",
       "\n",
       "    .dataframe tbody tr th {\n",
       "        vertical-align: top;\n",
       "    }\n",
       "\n",
       "    .dataframe thead th {\n",
       "        text-align: right;\n",
       "    }\n",
       "</style>\n",
       "<table border=\"1\" class=\"dataframe\">\n",
       "  <thead>\n",
       "    <tr style=\"text-align: right;\">\n",
       "      <th></th>\n",
       "      <th>children</th>\n",
       "      <th>days_employed</th>\n",
       "      <th>dob_years</th>\n",
       "      <th>education</th>\n",
       "      <th>education_id</th>\n",
       "      <th>family_status</th>\n",
       "      <th>family_status_id</th>\n",
       "      <th>gender</th>\n",
       "      <th>income_type</th>\n",
       "      <th>debt</th>\n",
       "      <th>total_income</th>\n",
       "      <th>purpose</th>\n",
       "    </tr>\n",
       "  </thead>\n",
       "  <tbody>\n",
       "    <tr>\n",
       "      <th>0</th>\n",
       "      <td>1</td>\n",
       "      <td>-8437.673028</td>\n",
       "      <td>42</td>\n",
       "      <td>высшее</td>\n",
       "      <td>0</td>\n",
       "      <td>женат / замужем</td>\n",
       "      <td>0</td>\n",
       "      <td>F</td>\n",
       "      <td>сотрудник</td>\n",
       "      <td>0</td>\n",
       "      <td>253875.639453</td>\n",
       "      <td>покупка жилья</td>\n",
       "    </tr>\n",
       "    <tr>\n",
       "      <th>1</th>\n",
       "      <td>1</td>\n",
       "      <td>-4024.803754</td>\n",
       "      <td>36</td>\n",
       "      <td>среднее</td>\n",
       "      <td>1</td>\n",
       "      <td>женат / замужем</td>\n",
       "      <td>0</td>\n",
       "      <td>F</td>\n",
       "      <td>сотрудник</td>\n",
       "      <td>0</td>\n",
       "      <td>112080.014102</td>\n",
       "      <td>приобретение автомобиля</td>\n",
       "    </tr>\n",
       "    <tr>\n",
       "      <th>2</th>\n",
       "      <td>0</td>\n",
       "      <td>-5623.422610</td>\n",
       "      <td>33</td>\n",
       "      <td>Среднее</td>\n",
       "      <td>1</td>\n",
       "      <td>женат / замужем</td>\n",
       "      <td>0</td>\n",
       "      <td>M</td>\n",
       "      <td>сотрудник</td>\n",
       "      <td>0</td>\n",
       "      <td>145885.952297</td>\n",
       "      <td>покупка жилья</td>\n",
       "    </tr>\n",
       "    <tr>\n",
       "      <th>3</th>\n",
       "      <td>3</td>\n",
       "      <td>-4124.747207</td>\n",
       "      <td>32</td>\n",
       "      <td>среднее</td>\n",
       "      <td>1</td>\n",
       "      <td>женат / замужем</td>\n",
       "      <td>0</td>\n",
       "      <td>M</td>\n",
       "      <td>сотрудник</td>\n",
       "      <td>0</td>\n",
       "      <td>267628.550329</td>\n",
       "      <td>дополнительное образование</td>\n",
       "    </tr>\n",
       "    <tr>\n",
       "      <th>4</th>\n",
       "      <td>0</td>\n",
       "      <td>340266.072047</td>\n",
       "      <td>53</td>\n",
       "      <td>среднее</td>\n",
       "      <td>1</td>\n",
       "      <td>гражданский брак</td>\n",
       "      <td>1</td>\n",
       "      <td>F</td>\n",
       "      <td>пенсионер</td>\n",
       "      <td>0</td>\n",
       "      <td>158616.077870</td>\n",
       "      <td>сыграть свадьбу</td>\n",
       "    </tr>\n",
       "    <tr>\n",
       "      <th>5</th>\n",
       "      <td>0</td>\n",
       "      <td>-926.185831</td>\n",
       "      <td>27</td>\n",
       "      <td>высшее</td>\n",
       "      <td>0</td>\n",
       "      <td>гражданский брак</td>\n",
       "      <td>1</td>\n",
       "      <td>M</td>\n",
       "      <td>компаньон</td>\n",
       "      <td>0</td>\n",
       "      <td>255763.565419</td>\n",
       "      <td>покупка жилья</td>\n",
       "    </tr>\n",
       "    <tr>\n",
       "      <th>6</th>\n",
       "      <td>0</td>\n",
       "      <td>-2879.202052</td>\n",
       "      <td>43</td>\n",
       "      <td>высшее</td>\n",
       "      <td>0</td>\n",
       "      <td>женат / замужем</td>\n",
       "      <td>0</td>\n",
       "      <td>F</td>\n",
       "      <td>компаньон</td>\n",
       "      <td>0</td>\n",
       "      <td>240525.971920</td>\n",
       "      <td>операции с жильем</td>\n",
       "    </tr>\n",
       "    <tr>\n",
       "      <th>7</th>\n",
       "      <td>0</td>\n",
       "      <td>-152.779569</td>\n",
       "      <td>50</td>\n",
       "      <td>СРЕДНЕЕ</td>\n",
       "      <td>1</td>\n",
       "      <td>женат / замужем</td>\n",
       "      <td>0</td>\n",
       "      <td>M</td>\n",
       "      <td>сотрудник</td>\n",
       "      <td>0</td>\n",
       "      <td>135823.934197</td>\n",
       "      <td>образование</td>\n",
       "    </tr>\n",
       "    <tr>\n",
       "      <th>8</th>\n",
       "      <td>2</td>\n",
       "      <td>-6929.865299</td>\n",
       "      <td>35</td>\n",
       "      <td>ВЫСШЕЕ</td>\n",
       "      <td>0</td>\n",
       "      <td>гражданский брак</td>\n",
       "      <td>1</td>\n",
       "      <td>F</td>\n",
       "      <td>сотрудник</td>\n",
       "      <td>0</td>\n",
       "      <td>95856.832424</td>\n",
       "      <td>на проведение свадьбы</td>\n",
       "    </tr>\n",
       "    <tr>\n",
       "      <th>9</th>\n",
       "      <td>0</td>\n",
       "      <td>-2188.756445</td>\n",
       "      <td>41</td>\n",
       "      <td>среднее</td>\n",
       "      <td>1</td>\n",
       "      <td>женат / замужем</td>\n",
       "      <td>0</td>\n",
       "      <td>M</td>\n",
       "      <td>сотрудник</td>\n",
       "      <td>0</td>\n",
       "      <td>144425.938277</td>\n",
       "      <td>покупка жилья для семьи</td>\n",
       "    </tr>\n",
       "    <tr>\n",
       "      <th>10</th>\n",
       "      <td>2</td>\n",
       "      <td>-4171.483647</td>\n",
       "      <td>36</td>\n",
       "      <td>высшее</td>\n",
       "      <td>0</td>\n",
       "      <td>женат / замужем</td>\n",
       "      <td>0</td>\n",
       "      <td>M</td>\n",
       "      <td>компаньон</td>\n",
       "      <td>0</td>\n",
       "      <td>113943.491460</td>\n",
       "      <td>покупка недвижимости</td>\n",
       "    </tr>\n",
       "    <tr>\n",
       "      <th>11</th>\n",
       "      <td>0</td>\n",
       "      <td>-792.701887</td>\n",
       "      <td>40</td>\n",
       "      <td>среднее</td>\n",
       "      <td>1</td>\n",
       "      <td>женат / замужем</td>\n",
       "      <td>0</td>\n",
       "      <td>F</td>\n",
       "      <td>сотрудник</td>\n",
       "      <td>0</td>\n",
       "      <td>77069.234271</td>\n",
       "      <td>покупка коммерческой недвижимости</td>\n",
       "    </tr>\n",
       "    <tr>\n",
       "      <th>12</th>\n",
       "      <td>0</td>\n",
       "      <td>NaN</td>\n",
       "      <td>65</td>\n",
       "      <td>среднее</td>\n",
       "      <td>1</td>\n",
       "      <td>гражданский брак</td>\n",
       "      <td>1</td>\n",
       "      <td>M</td>\n",
       "      <td>пенсионер</td>\n",
       "      <td>0</td>\n",
       "      <td>NaN</td>\n",
       "      <td>сыграть свадьбу</td>\n",
       "    </tr>\n",
       "    <tr>\n",
       "      <th>13</th>\n",
       "      <td>0</td>\n",
       "      <td>-1846.641941</td>\n",
       "      <td>54</td>\n",
       "      <td>неоконченное высшее</td>\n",
       "      <td>2</td>\n",
       "      <td>женат / замужем</td>\n",
       "      <td>0</td>\n",
       "      <td>F</td>\n",
       "      <td>сотрудник</td>\n",
       "      <td>0</td>\n",
       "      <td>130458.228857</td>\n",
       "      <td>приобретение автомобиля</td>\n",
       "    </tr>\n",
       "    <tr>\n",
       "      <th>14</th>\n",
       "      <td>0</td>\n",
       "      <td>-1844.956182</td>\n",
       "      <td>56</td>\n",
       "      <td>высшее</td>\n",
       "      <td>0</td>\n",
       "      <td>гражданский брак</td>\n",
       "      <td>1</td>\n",
       "      <td>F</td>\n",
       "      <td>компаньон</td>\n",
       "      <td>1</td>\n",
       "      <td>165127.911772</td>\n",
       "      <td>покупка жилой недвижимости</td>\n",
       "    </tr>\n",
       "    <tr>\n",
       "      <th>15</th>\n",
       "      <td>1</td>\n",
       "      <td>-972.364419</td>\n",
       "      <td>26</td>\n",
       "      <td>среднее</td>\n",
       "      <td>1</td>\n",
       "      <td>женат / замужем</td>\n",
       "      <td>0</td>\n",
       "      <td>F</td>\n",
       "      <td>сотрудник</td>\n",
       "      <td>0</td>\n",
       "      <td>116820.904450</td>\n",
       "      <td>строительство собственной недвижимости</td>\n",
       "    </tr>\n",
       "    <tr>\n",
       "      <th>16</th>\n",
       "      <td>0</td>\n",
       "      <td>-1719.934226</td>\n",
       "      <td>35</td>\n",
       "      <td>среднее</td>\n",
       "      <td>1</td>\n",
       "      <td>женат / замужем</td>\n",
       "      <td>0</td>\n",
       "      <td>F</td>\n",
       "      <td>сотрудник</td>\n",
       "      <td>0</td>\n",
       "      <td>289202.704229</td>\n",
       "      <td>недвижимость</td>\n",
       "    </tr>\n",
       "    <tr>\n",
       "      <th>17</th>\n",
       "      <td>0</td>\n",
       "      <td>-2369.999720</td>\n",
       "      <td>33</td>\n",
       "      <td>высшее</td>\n",
       "      <td>0</td>\n",
       "      <td>гражданский брак</td>\n",
       "      <td>1</td>\n",
       "      <td>M</td>\n",
       "      <td>сотрудник</td>\n",
       "      <td>0</td>\n",
       "      <td>90410.586745</td>\n",
       "      <td>строительство недвижимости</td>\n",
       "    </tr>\n",
       "    <tr>\n",
       "      <th>18</th>\n",
       "      <td>0</td>\n",
       "      <td>400281.136913</td>\n",
       "      <td>53</td>\n",
       "      <td>среднее</td>\n",
       "      <td>1</td>\n",
       "      <td>вдовец / вдова</td>\n",
       "      <td>2</td>\n",
       "      <td>F</td>\n",
       "      <td>пенсионер</td>\n",
       "      <td>0</td>\n",
       "      <td>56823.777243</td>\n",
       "      <td>на покупку подержанного автомобиля</td>\n",
       "    </tr>\n",
       "    <tr>\n",
       "      <th>19</th>\n",
       "      <td>0</td>\n",
       "      <td>-10038.818549</td>\n",
       "      <td>48</td>\n",
       "      <td>СРЕДНЕЕ</td>\n",
       "      <td>1</td>\n",
       "      <td>в разводе</td>\n",
       "      <td>3</td>\n",
       "      <td>F</td>\n",
       "      <td>сотрудник</td>\n",
       "      <td>0</td>\n",
       "      <td>242831.107982</td>\n",
       "      <td>на покупку своего автомобиля</td>\n",
       "    </tr>\n",
       "  </tbody>\n",
       "</table>\n",
       "</div>"
      ],
      "text/plain": [
       "    children  days_employed  dob_years            education  education_id  \\\n",
       "0          1   -8437.673028         42               высшее             0   \n",
       "1          1   -4024.803754         36              среднее             1   \n",
       "2          0   -5623.422610         33              Среднее             1   \n",
       "3          3   -4124.747207         32              среднее             1   \n",
       "4          0  340266.072047         53              среднее             1   \n",
       "5          0    -926.185831         27               высшее             0   \n",
       "6          0   -2879.202052         43               высшее             0   \n",
       "7          0    -152.779569         50              СРЕДНЕЕ             1   \n",
       "8          2   -6929.865299         35               ВЫСШЕЕ             0   \n",
       "9          0   -2188.756445         41              среднее             1   \n",
       "10         2   -4171.483647         36               высшее             0   \n",
       "11         0    -792.701887         40              среднее             1   \n",
       "12         0            NaN         65              среднее             1   \n",
       "13         0   -1846.641941         54  неоконченное высшее             2   \n",
       "14         0   -1844.956182         56               высшее             0   \n",
       "15         1    -972.364419         26              среднее             1   \n",
       "16         0   -1719.934226         35              среднее             1   \n",
       "17         0   -2369.999720         33               высшее             0   \n",
       "18         0  400281.136913         53              среднее             1   \n",
       "19         0  -10038.818549         48              СРЕДНЕЕ             1   \n",
       "\n",
       "       family_status  family_status_id gender income_type  debt  \\\n",
       "0    женат / замужем                 0      F   сотрудник     0   \n",
       "1    женат / замужем                 0      F   сотрудник     0   \n",
       "2    женат / замужем                 0      M   сотрудник     0   \n",
       "3    женат / замужем                 0      M   сотрудник     0   \n",
       "4   гражданский брак                 1      F   пенсионер     0   \n",
       "5   гражданский брак                 1      M   компаньон     0   \n",
       "6    женат / замужем                 0      F   компаньон     0   \n",
       "7    женат / замужем                 0      M   сотрудник     0   \n",
       "8   гражданский брак                 1      F   сотрудник     0   \n",
       "9    женат / замужем                 0      M   сотрудник     0   \n",
       "10   женат / замужем                 0      M   компаньон     0   \n",
       "11   женат / замужем                 0      F   сотрудник     0   \n",
       "12  гражданский брак                 1      M   пенсионер     0   \n",
       "13   женат / замужем                 0      F   сотрудник     0   \n",
       "14  гражданский брак                 1      F   компаньон     1   \n",
       "15   женат / замужем                 0      F   сотрудник     0   \n",
       "16   женат / замужем                 0      F   сотрудник     0   \n",
       "17  гражданский брак                 1      M   сотрудник     0   \n",
       "18    вдовец / вдова                 2      F   пенсионер     0   \n",
       "19         в разводе                 3      F   сотрудник     0   \n",
       "\n",
       "     total_income                                 purpose  \n",
       "0   253875.639453                           покупка жилья  \n",
       "1   112080.014102                 приобретение автомобиля  \n",
       "2   145885.952297                           покупка жилья  \n",
       "3   267628.550329              дополнительное образование  \n",
       "4   158616.077870                         сыграть свадьбу  \n",
       "5   255763.565419                           покупка жилья  \n",
       "6   240525.971920                       операции с жильем  \n",
       "7   135823.934197                             образование  \n",
       "8    95856.832424                   на проведение свадьбы  \n",
       "9   144425.938277                 покупка жилья для семьи  \n",
       "10  113943.491460                    покупка недвижимости  \n",
       "11   77069.234271       покупка коммерческой недвижимости  \n",
       "12            NaN                         сыграть свадьбу  \n",
       "13  130458.228857                 приобретение автомобиля  \n",
       "14  165127.911772              покупка жилой недвижимости  \n",
       "15  116820.904450  строительство собственной недвижимости  \n",
       "16  289202.704229                            недвижимость  \n",
       "17   90410.586745              строительство недвижимости  \n",
       "18   56823.777243      на покупку подержанного автомобиля  \n",
       "19  242831.107982            на покупку своего автомобиля  "
      ]
     },
     "execution_count": 112,
     "metadata": {},
     "output_type": "execute_result"
    }
   ],
   "source": [
    "data.head(20)"
   ]
  },
  {
   "cell_type": "markdown",
   "id": "dfc01263",
   "metadata": {
    "deletable": false,
    "editable": false,
    "id": "1c12e233"
   },
   "source": [
    "**Задание 3. Выведите основную информацию о датафрейме с помощью метода `info()`.**"
   ]
  },
  {
   "cell_type": "code",
   "execution_count": 113,
   "id": "fa15285a",
   "metadata": {
    "deletable": false,
    "id": "2b757bca",
    "outputId": "15376089-8dad-46c9-b520-c05248d43158"
   },
   "outputs": [
    {
     "name": "stdout",
     "output_type": "stream",
     "text": [
      "<class 'pandas.core.frame.DataFrame'>\n",
      "RangeIndex: 21525 entries, 0 to 21524\n",
      "Data columns (total 12 columns):\n",
      " #   Column            Non-Null Count  Dtype  \n",
      "---  ------            --------------  -----  \n",
      " 0   children          21525 non-null  int64  \n",
      " 1   days_employed     19351 non-null  float64\n",
      " 2   dob_years         21525 non-null  int64  \n",
      " 3   education         21525 non-null  object \n",
      " 4   education_id      21525 non-null  int64  \n",
      " 5   family_status     21525 non-null  object \n",
      " 6   family_status_id  21525 non-null  int64  \n",
      " 7   gender            21525 non-null  object \n",
      " 8   income_type       21525 non-null  object \n",
      " 9   debt              21525 non-null  int64  \n",
      " 10  total_income      19351 non-null  float64\n",
      " 11  purpose           21525 non-null  object \n",
      "dtypes: float64(2), int64(5), object(5)\n",
      "memory usage: 2.0+ MB\n"
     ]
    }
   ],
   "source": [
    "data.info()"
   ]
  },
  {
   "cell_type": "markdown",
   "id": "b035f6a8",
   "metadata": {
    "deletable": false,
    "editable": false,
    "id": "333ec665"
   },
   "source": [
    "## Предобработка данных"
   ]
  },
  {
   "cell_type": "markdown",
   "id": "c5079299",
   "metadata": {
    "deletable": false,
    "editable": false,
    "id": "02d92d53"
   },
   "source": [
    "### Удаление пропусков"
   ]
  },
  {
   "cell_type": "markdown",
   "id": "d5a7f022",
   "metadata": {
    "deletable": false,
    "editable": false,
    "id": "cd84967c"
   },
   "source": [
    "**Задание 4. Выведите количество пропущенных значений для каждого столбца. Используйте комбинацию двух методов.**"
   ]
  },
  {
   "cell_type": "code",
   "execution_count": 114,
   "id": "91bc123c",
   "metadata": {
    "deletable": false,
    "id": "7f9b2309",
    "outputId": "81f4d817-781c-465c-ed15-91ce4446810d"
   },
   "outputs": [
    {
     "data": {
      "text/plain": [
       "children               0\n",
       "days_employed       2174\n",
       "dob_years              0\n",
       "education              0\n",
       "education_id           0\n",
       "family_status          0\n",
       "family_status_id       0\n",
       "gender                 0\n",
       "income_type            0\n",
       "debt                   0\n",
       "total_income        2174\n",
       "purpose                0\n",
       "dtype: int64"
      ]
     },
     "execution_count": 114,
     "metadata": {},
     "output_type": "execute_result"
    }
   ],
   "source": [
    "data.isna().sum()"
   ]
  },
  {
   "cell_type": "markdown",
   "id": "bd66efd9",
   "metadata": {
    "deletable": false,
    "editable": false,
    "id": "db86e27b"
   },
   "source": [
    "**Задание 5. В двух столбцах есть пропущенные значения. Один из них — `days_employed`. Пропуски в этом столбце вы обработаете на следующем этапе. Другой столбец с пропущенными значениями — `total_income` — хранит данные о доходах. На сумму дохода сильнее всего влияет тип занятости, поэтому заполнить пропуски в этом столбце нужно медианным значением по каждому типу из столбца `income_type`. Например, у человека с типом занятости `сотрудник` пропуск в столбце `total_income` должен быть заполнен медианным доходом среди всех записей с тем же типом.**"
   ]
  },
  {
   "cell_type": "code",
   "execution_count": 115,
   "id": "83d7969b",
   "metadata": {
    "deletable": false,
    "id": "42006a93"
   },
   "outputs": [],
   "source": [
    "for t in data['income_type'].unique():\n",
    "    data.loc[(data['income_type'] == t) & (data['total_income'].isna()), 'total_income'] = \\\n",
    "    data.loc[(data['income_type'] == t), 'total_income'].median()"
   ]
  },
  {
   "cell_type": "markdown",
   "id": "6be6e19d",
   "metadata": {
    "deletable": false,
    "editable": false,
    "id": "89da5ece"
   },
   "source": [
    "### Обработка аномальных значений"
   ]
  },
  {
   "cell_type": "markdown",
   "id": "4a7fcdad",
   "metadata": {
    "deletable": false,
    "editable": false,
    "id": "57964554"
   },
   "source": [
    "**Задание 6. В данных могут встречаться артефакты (аномалии) — значения, которые не отражают действительность и появились по какой-то ошибке. таким артефактом будет отрицательное количество дней трудового стажа в столбце `days_employed`. Для реальных данных это нормально. Обработайте значения в этом столбце: замените все отрицательные значения положительными с помощью метода `abs()`.**"
   ]
  },
  {
   "cell_type": "code",
   "execution_count": 116,
   "id": "57f5783f",
   "metadata": {
    "deletable": false,
    "id": "f6f055bf"
   },
   "outputs": [],
   "source": [
    "data['days_employed'] = data['days_employed'].abs()"
   ]
  },
  {
   "cell_type": "markdown",
   "id": "5933ada5",
   "metadata": {
    "deletable": false,
    "editable": false,
    "id": "6107dd2f"
   },
   "source": [
    "**Задание 7. Для каждого типа занятости выведите медианное значение трудового стажа `days_employed` в днях.**"
   ]
  },
  {
   "cell_type": "code",
   "execution_count": 117,
   "id": "6b2d4d4f",
   "metadata": {
    "deletable": false,
    "id": "85a5faf6",
    "outputId": "801ef80e-522b-4668-f34e-565af7432bcf"
   },
   "outputs": [
    {
     "data": {
      "text/plain": [
       "income_type\n",
       "безработный        366413.652744\n",
       "в декрете            3296.759962\n",
       "госслужащий          2689.368353\n",
       "компаньон            1547.382223\n",
       "пенсионер          365213.306266\n",
       "предприниматель       520.848083\n",
       "сотрудник            1574.202821\n",
       "студент               578.751554\n",
       "Name: days_employed, dtype: float64"
      ]
     },
     "execution_count": 117,
     "metadata": {},
     "output_type": "execute_result"
    }
   ],
   "source": [
    "data.groupby('income_type')['days_employed'].agg('median')"
   ]
  },
  {
   "cell_type": "markdown",
   "id": "bed2f074",
   "metadata": {
    "deletable": false,
    "editable": false,
    "id": "38d1a030"
   },
   "source": [
    "У двух типов (безработные и пенсионеры) получатся аномально большие значения. Исправить такие значения сложно, поэтому оставьте их как есть. Тем более этот столбец не понадобится вам для исследования."
   ]
  },
  {
   "cell_type": "markdown",
   "id": "48f9f034",
   "metadata": {
    "deletable": false,
    "editable": false,
    "id": "d8a9f147"
   },
   "source": [
    "**Задание 8. Выведите перечень уникальных значений столбца `children`.**"
   ]
  },
  {
   "cell_type": "code",
   "execution_count": 118,
   "id": "8902376b",
   "metadata": {
    "deletable": false,
    "id": "ef5056eb",
    "outputId": "6975b15c-7f95-4697-d16d-a0c79b657b03"
   },
   "outputs": [
    {
     "data": {
      "text/plain": [
       "array([ 1,  0,  3,  2, -1,  4, 20,  5])"
      ]
     },
     "execution_count": 118,
     "metadata": {},
     "output_type": "execute_result"
    }
   ],
   "source": [
    "data['children'].unique()"
   ]
  },
  {
   "cell_type": "markdown",
   "id": "18a6f0da",
   "metadata": {
    "deletable": false,
    "editable": false,
    "id": "40b9ebf2"
   },
   "source": [
    "**Задание 9. В столбце `children` есть два аномальных значения. Удалите строки, в которых встречаются такие аномальные значения из датафрейма `data`.**"
   ]
  },
  {
   "cell_type": "code",
   "execution_count": 119,
   "id": "d73aba4d",
   "metadata": {
    "deletable": false,
    "id": "3ff9801d"
   },
   "outputs": [],
   "source": [
    "data = data[(data['children'] != -1) & (data['children'] != 20)]"
   ]
  },
  {
   "cell_type": "markdown",
   "id": "ec5f7b27",
   "metadata": {
    "deletable": false,
    "editable": false,
    "id": "bbc4d0ce"
   },
   "source": [
    "**Задание 10. Ещё раз выведите перечень уникальных значений столбца `children`, чтобы убедиться, что артефакты удалены.**"
   ]
  },
  {
   "cell_type": "code",
   "execution_count": 120,
   "id": "2ad63ae8",
   "metadata": {
    "deletable": false,
    "id": "ad4fa8b7",
    "outputId": "b2097101-d49d-44d9-901b-32a65c9463d1"
   },
   "outputs": [
    {
     "data": {
      "text/plain": [
       "array([1, 0, 3, 2, 4, 5])"
      ]
     },
     "execution_count": 120,
     "metadata": {},
     "output_type": "execute_result"
    }
   ],
   "source": [
    "data['children'].unique()"
   ]
  },
  {
   "cell_type": "markdown",
   "id": "4093af33",
   "metadata": {
    "deletable": false,
    "editable": false,
    "id": "75440b63"
   },
   "source": [
    "### Удаление пропусков (продолжение)"
   ]
  },
  {
   "cell_type": "markdown",
   "id": "b25e0407",
   "metadata": {
    "deletable": false,
    "editable": false,
    "id": "f4ea573f"
   },
   "source": [
    "**Задание 11. Заполните пропуски в столбце `days_employed` медианными значениями по каждого типа занятости `income_type`.**"
   ]
  },
  {
   "cell_type": "code",
   "execution_count": 121,
   "id": "31c9e6ca",
   "metadata": {
    "deletable": false,
    "id": "af6b1a7e"
   },
   "outputs": [],
   "source": [
    "for t in data['income_type'].unique():\n",
    "    data.loc[(data['income_type'] == t) & (data['days_employed'].isna()), 'days_employed'] = \\\n",
    "    data.loc[(data['income_type'] == t), 'days_employed'].median()"
   ]
  },
  {
   "cell_type": "markdown",
   "id": "8b9b9ad4",
   "metadata": {
    "deletable": false,
    "editable": false,
    "id": "2753f40d"
   },
   "source": [
    "**Задание 12. Убедитесь, что все пропуски заполнены. Проверьте себя и ещё раз выведите количество пропущенных значений для каждого столбца с помощью двух методов.**"
   ]
  },
  {
   "cell_type": "code",
   "execution_count": 122,
   "id": "235a7afb",
   "metadata": {
    "deletable": false,
    "id": "55f78bc2",
    "outputId": "8da1e4e1-358e-4e87-98c9-f261bce0a7b2"
   },
   "outputs": [
    {
     "data": {
      "text/plain": [
       "children            0\n",
       "days_employed       0\n",
       "dob_years           0\n",
       "education           0\n",
       "education_id        0\n",
       "family_status       0\n",
       "family_status_id    0\n",
       "gender              0\n",
       "income_type         0\n",
       "debt                0\n",
       "total_income        0\n",
       "purpose             0\n",
       "dtype: int64"
      ]
     },
     "execution_count": 122,
     "metadata": {},
     "output_type": "execute_result"
    }
   ],
   "source": [
    "data.isna().sum()"
   ]
  },
  {
   "cell_type": "markdown",
   "id": "8f6d509e",
   "metadata": {
    "deletable": false,
    "editable": false,
    "id": "ddc81e43"
   },
   "source": [
    "### Изменение типов данных"
   ]
  },
  {
   "cell_type": "markdown",
   "id": "c96f44e9",
   "metadata": {
    "deletable": false,
    "editable": false,
    "id": "42d19d24"
   },
   "source": [
    "**Задание 13. Замените вещественный тип данных в столбце `total_income` на целочисленный с помощью метода `astype()`.**"
   ]
  },
  {
   "cell_type": "code",
   "execution_count": 123,
   "id": "92f1de4a",
   "metadata": {
    "deletable": false,
    "id": "920b65ad"
   },
   "outputs": [],
   "source": [
    "data['total_income'] = data['total_income'].astype(int)"
   ]
  },
  {
   "cell_type": "markdown",
   "id": "685b1e19",
   "metadata": {
    "deletable": false,
    "editable": false,
    "id": "80c420ba"
   },
   "source": [
    "### Обработка дубликатов"
   ]
  },
  {
   "cell_type": "markdown",
   "id": "5ab8c0aa",
   "metadata": {
    "deletable": false,
    "editable": false
   },
   "source": [
    "**Задание 14. Обработайте неявные дубликаты в столбце `education`. В этом столбце есть одни и те же значения, но записанные по-разному: с использованием заглавных и строчных букв. Приведите их к нижнему регистру. Проверьте остальные столбцы.**"
   ]
  },
  {
   "cell_type": "code",
   "execution_count": 124,
   "id": "ab720d96",
   "metadata": {
    "deletable": false
   },
   "outputs": [],
   "source": [
    "data['education'] = data['education'].str.lower()"
   ]
  },
  {
   "cell_type": "markdown",
   "id": "0f978add",
   "metadata": {
    "deletable": false,
    "editable": false,
    "id": "dc587695"
   },
   "source": [
    "**Задание 15. Выведите на экран количество строк-дубликатов в данных. Если такие строки присутствуют, удалите их.**"
   ]
  },
  {
   "cell_type": "code",
   "execution_count": 125,
   "id": "26be6f85",
   "metadata": {
    "deletable": false,
    "id": "3ee445e4",
    "outputId": "9684deba-1934-42d1-99e1-cda61740f822"
   },
   "outputs": [
    {
     "data": {
      "text/plain": [
       "71"
      ]
     },
     "execution_count": 125,
     "metadata": {},
     "output_type": "execute_result"
    }
   ],
   "source": [
    "data.duplicated().sum()"
   ]
  },
  {
   "cell_type": "code",
   "execution_count": 126,
   "id": "4def1b1f",
   "metadata": {
    "deletable": false,
    "id": "8575fe05"
   },
   "outputs": [],
   "source": [
    "data = data.drop_duplicates()"
   ]
  },
  {
   "cell_type": "markdown",
   "id": "180dd61c",
   "metadata": {
    "deletable": false,
    "editable": false,
    "id": "9904cf55"
   },
   "source": [
    "### Категоризация данных"
   ]
  },
  {
   "cell_type": "markdown",
   "id": "9f245b3d",
   "metadata": {
    "deletable": false,
    "editable": false,
    "id": "72fcc8a2"
   },
   "source": [
    "**Задание 16. На основании диапазонов, указанных ниже, создайте в датафрейме `data` столбец `total_income_category` с категориями:**\n",
    "\n",
    "- 0–30000 — `'E'`;\n",
    "- 30001–50000 — `'D'`;\n",
    "- 50001–200000 — `'C'`;\n",
    "- 200001–1000000 — `'B'`;\n",
    "- 1000001 и выше — `'A'`.\n",
    "\n",
    "\n",
    "**Например, кредитополучателю с доходом 25000 нужно назначить категорию `'E'`, а клиенту, получающему 235000, — `'B'`. Используйте собственную функцию с именем `categorize_income()` и метод `apply()`.**"
   ]
  },
  {
   "cell_type": "code",
   "execution_count": 127,
   "id": "ad550954",
   "metadata": {
    "deletable": false,
    "id": "e1771346"
   },
   "outputs": [],
   "source": [
    "def categorize_income(income):\n",
    "    try:\n",
    "        if 0 <= income <= 30000:\n",
    "            return 'E'\n",
    "        elif 30001 <= income <= 50000:\n",
    "            return 'D'\n",
    "        elif 50001 <= income <= 200000:\n",
    "            return 'C'\n",
    "        elif 200001 <= income <= 1000000:\n",
    "            return 'B'\n",
    "        elif income >= 1000001:\n",
    "            return 'A'\n",
    "    except:\n",
    "        pass"
   ]
  },
  {
   "cell_type": "code",
   "execution_count": 128,
   "id": "1d0a47f7",
   "metadata": {
    "deletable": false,
    "id": "d5f3586d"
   },
   "outputs": [],
   "source": [
    "data['total_income_category'] = data['total_income'].apply(categorize_income)"
   ]
  },
  {
   "cell_type": "markdown",
   "id": "61d9e105",
   "metadata": {
    "deletable": false,
    "editable": false,
    "id": "dde49b5c"
   },
   "source": [
    "**Задание 17. Выведите на экран перечень уникальных целей взятия кредита из столбца `purpose`.**"
   ]
  },
  {
   "cell_type": "code",
   "execution_count": 129,
   "id": "a3518f60",
   "metadata": {
    "deletable": false,
    "id": "f67ce9b3",
    "outputId": "673c12d9-7d7e-4ae0-9812-c622c89dd244"
   },
   "outputs": [
    {
     "data": {
      "text/plain": [
       "array(['покупка жилья', 'приобретение автомобиля',\n",
       "       'дополнительное образование', 'сыграть свадьбу',\n",
       "       'операции с жильем', 'образование', 'на проведение свадьбы',\n",
       "       'покупка жилья для семьи', 'покупка недвижимости',\n",
       "       'покупка коммерческой недвижимости', 'покупка жилой недвижимости',\n",
       "       'строительство собственной недвижимости', 'недвижимость',\n",
       "       'строительство недвижимости', 'на покупку подержанного автомобиля',\n",
       "       'на покупку своего автомобиля',\n",
       "       'операции с коммерческой недвижимостью',\n",
       "       'строительство жилой недвижимости', 'жилье',\n",
       "       'операции со своей недвижимостью', 'автомобили',\n",
       "       'заняться образованием', 'сделка с подержанным автомобилем',\n",
       "       'получение образования', 'автомобиль', 'свадьба',\n",
       "       'получение дополнительного образования', 'покупка своего жилья',\n",
       "       'операции с недвижимостью', 'получение высшего образования',\n",
       "       'свой автомобиль', 'сделка с автомобилем',\n",
       "       'профильное образование', 'высшее образование',\n",
       "       'покупка жилья для сдачи', 'на покупку автомобиля', 'ремонт жилью',\n",
       "       'заняться высшим образованием'], dtype=object)"
      ]
     },
     "execution_count": 129,
     "metadata": {},
     "output_type": "execute_result"
    }
   ],
   "source": [
    "data['purpose'].unique()"
   ]
  },
  {
   "cell_type": "markdown",
   "id": "6764e81c",
   "metadata": {
    "deletable": false,
    "editable": false,
    "id": "85d0aef0"
   },
   "source": [
    "**Задание 18. Создайте функцию, которая на основании данных из столбца `purpose` сформирует новый столбец `purpose_category`, в который войдут следующие категории:**\n",
    "\n",
    "- `'операции с автомобилем'`,\n",
    "- `'операции с недвижимостью'`,\n",
    "- `'проведение свадьбы'`,\n",
    "- `'получение образования'`.\n",
    "\n",
    "**Например, если в столбце `purpose` находится подстрока `'на покупку автомобиля'`, то в столбце `purpose_category` должна появиться строка `'операции с автомобилем'`.**\n",
    "\n",
    "**Используйте собственную функцию с именем `categorize_purpose()` и метод `apply()`. Изучите данные в столбце `purpose` и определите, какие подстроки помогут вам правильно определить категорию.**"
   ]
  },
  {
   "cell_type": "code",
   "execution_count": 130,
   "id": "1fa6676b",
   "metadata": {
    "deletable": false,
    "id": "e149fab4"
   },
   "outputs": [],
   "source": [
    "def categorize_purpose(row):\n",
    "    try:\n",
    "        if 'автом' in row:\n",
    "            return 'операции с автомобилем'\n",
    "        elif 'жил' in row or 'недвиж' in row:\n",
    "            return 'операции с недвижимостью'\n",
    "        elif 'свад' in row:\n",
    "            return 'проведение свадьбы'\n",
    "        elif 'образов' in row:\n",
    "            return 'получение образования'\n",
    "    except:\n",
    "        return 'нет категории'"
   ]
  },
  {
   "cell_type": "code",
   "execution_count": 131,
   "id": "bc1ff16f",
   "metadata": {
    "deletable": false,
    "id": "bf36e69b"
   },
   "outputs": [],
   "source": [
    "data['purpose_category'] = data['purpose'].apply(categorize_purpose)"
   ]
  },
  {
   "cell_type": "markdown",
   "id": "a4d04e1c",
   "metadata": {
    "deletable": false,
    "editable": false,
    "id": "09b242bf"
   },
   "source": [
    "### Шаг 3. Исследуйте данные и ответьте на вопросы"
   ]
  },
  {
   "cell_type": "markdown",
   "id": "525fe318",
   "metadata": {
    "deletable": false,
    "editable": false,
    "id": "c5d66278"
   },
   "source": [
    "#### 3.1 Есть ли зависимость между количеством детей и возвратом кредита в срок?"
   ]
  },
  {
   "cell_type": "code",
   "execution_count": 132,
   "id": "4b4b1aec",
   "metadata": {
    "deletable": false,
    "id": "2cacfc4a"
   },
   "outputs": [
    {
     "name": "stdout",
     "output_type": "stream",
     "text": [
      "          count   sum      mean\n",
      "           debt  debt      debt\n",
      "children                       \n",
      "4            41     4  0.097561\n",
      "2          2052   194  0.094542\n",
      "1          4808   444  0.092346\n",
      "3           330    27  0.081818\n",
      "0         14091  1063  0.075438\n",
      "5             9     0  0.000000\n"
     ]
    },
    {
     "data": {
      "image/png": "[encoded data removed]",
      "text/plain": [
       "<Figure size 360x720 with 1 Axes>"
      ]
     },
     "metadata": {
      "needs_background": "light"
     },
     "output_type": "display_data"
    }
   ],
   "source": [
    "data_pivot=data.pivot_table(index = 'children', values = 'debt', aggfunc = ['count', 'sum', 'mean'])\\\n",
    "    .sort_values(by = ('mean', 'debt'), ascending = False)\n",
    "print(data_pivot)\n",
    "import seaborn as sns\n",
    "f, ax=plt.subplots(figsize=(5,10))\n",
    "ax = sns.barplot(x='children', y='debt', palette='hls', data=data)\n",
    "# Ваш код будет здесь. Вы можете создавать новые ячейки."
   ]
  },
  {
   "cell_type": "markdown",
   "id": "d4f7a97f",
   "metadata": {
    "deletable": false,
    "id": "3a6b99ec"
   },
   "source": [
    "**Вывод:** Заёмщики без детей чаще всех берут кредит и возвращают его в срок в 92,5% случаев, напротив заёмщики с 4мя детьми берут кредит не так часто, но возвращают в срок в 90,3% случаев. Заёмщики с 5ми детьми практически не берут кредитов и возвращают все в срок"
   ]
  },
  {
   "cell_type": "markdown",
   "id": "b863b246",
   "metadata": {
    "deletable": false,
    "editable": false,
    "id": "97be82ca"
   },
   "source": [
    "#### 3.2 Есть ли зависимость между семейным положением и возвратом кредита в срок?"
   ]
  },
  {
   "cell_type": "code",
   "execution_count": 133,
   "id": "cd4ef910",
   "metadata": {
    "deletable": false,
    "id": "dc3f7ee8"
   },
   "outputs": [
    {
     "name": "stdout",
     "output_type": "stream",
     "text": [
      "                       count  sum      mean\n",
      "                        debt debt      debt\n",
      "family_status                              \n",
      "Не женат / не замужем   2796  273  0.097639\n",
      "гражданский брак        4134  385  0.093130\n",
      "женат / замужем        12261  927  0.075606\n",
      "в разводе               1189   84  0.070648\n",
      "вдовец / вдова           951   63  0.066246\n"
     ]
    },
    {
     "data": {
      "image/png": "[encoded data removed]",
      "text/plain": [
       "<Figure size 1440x720 with 1 Axes>"
      ]
     },
     "metadata": {
      "needs_background": "light"
     },
     "output_type": "display_data"
    }
   ],
   "source": [
    "data_family_pivot=data.pivot_table(index = 'family_status', values = 'debt', aggfunc = ['count', 'sum', 'mean'])\\\n",
    "    .sort_values(by = ('mean', 'debt'), ascending = False)\n",
    "print(data_family_pivot)\n",
    "import seaborn as sns\n",
    "f, ax=plt.subplots(figsize=(20,10))\n",
    "ax = sns.barplot(x='family_status', y='debt', data=data)"
   ]
  },
  {
   "cell_type": "markdown",
   "id": "52e6f4f5",
   "metadata": {
    "deletable": false,
    "id": "1cef7837"
   },
   "source": [
    "**Вывод:** Самый плохой показатель по возврату у у заёмщиков не в браке, в 9,7% случае они задерживают платежи по кредиту. У вдовцов этот показатель составляет 6,6%"
   ]
  },
  {
   "cell_type": "markdown",
   "id": "597cfc37",
   "metadata": {
    "deletable": false,
    "editable": false,
    "id": "1e8b2fca"
   },
   "source": [
    "#### 3.3 Есть ли зависимость между уровнем дохода и возвратом кредита в срок?"
   ]
  },
  {
   "cell_type": "code",
   "execution_count": 134,
   "id": "ee505f1e",
   "metadata": {
    "deletable": false,
    "id": "cd7e3720"
   },
   "outputs": [
    {
     "name": "stdout",
     "output_type": "stream",
     "text": [
      "                       count   sum      mean\n",
      "                        debt  debt      debt\n",
      "total_income_category                       \n",
      "E                         22     2  0.090909\n",
      "C                      15921  1353  0.084982\n",
      "A                         25     2  0.080000\n",
      "B                       5014   354  0.070602\n",
      "D                        349    21  0.060172\n"
     ]
    },
    {
     "data": {
      "image/png": "[encoded data removed]",
      "text/plain": [
       "<Figure size 1440x720 with 1 Axes>"
      ]
     },
     "metadata": {
      "needs_background": "light"
     },
     "output_type": "display_data"
    }
   ],
   "source": [
    "data_income_pivot=data.pivot_table(index = 'total_income_category', values = 'debt', aggfunc = ['count', 'sum', 'mean'])\\\n",
    "    .sort_values(by = ('mean', 'debt'), ascending = False)\n",
    "print(data_income_pivot)\n",
    "import seaborn as sns\n",
    "f, ax=plt.subplots(figsize=(20,10))\n",
    "ax = sns.barplot(x='total_income_category', y='debt', palette='hls', data=data)\n",
    "# Ваш код будет здесь. Вы можете создавать новые ячейки."
   ]
  },
  {
   "cell_type": "markdown",
   "id": "d6fbe856",
   "metadata": {
    "deletable": false,
    "id": "e8593def"
   },
   "source": [
    "**Вывод:** Заёмщики с доходом ниже 30 000 рублей, не возвращают кредит в срок в 9% случаев. Чаще всего кредит берут люди с доходом от 200 000 рублей и просрочки составляют 8,4%"
   ]
  },
  {
   "cell_type": "markdown",
   "id": "ba73b56d",
   "metadata": {
    "deletable": false,
    "editable": false,
    "id": "99ecbd1f"
   },
   "source": [
    "#### 3.4 Как разные цели кредита влияют на его возврат в срок?"
   ]
  },
  {
   "cell_type": "code",
   "execution_count": 135,
   "id": "c4788ea5",
   "metadata": {
    "deletable": false,
    "id": "2b687290"
   },
   "outputs": [
    {
     "name": "stdout",
     "output_type": "stream",
     "text": [
      "                          count  sum      mean\n",
      "                           debt debt      debt\n",
      "purpose_category                              \n",
      "операции с автомобилем     4279  400  0.093480\n",
      "получение образования      3988  369  0.092528\n",
      "проведение свадьбы         2313  183  0.079118\n",
      "операции с недвижимостью  10751  780  0.072551\n"
     ]
    },
    {
     "data": {
      "image/png": "[encoded data removed]",
      "text/plain": [
       "<Figure size 1440x720 with 1 Axes>"
      ]
     },
     "metadata": {
      "needs_background": "light"
     },
     "output_type": "display_data"
    }
   ],
   "source": [
    "data_purpose_pivot=data.pivot_table(index = 'purpose_category', values = 'debt', aggfunc = ['count', 'sum', 'mean'])\\\n",
    "    .sort_values(by = ('mean', 'debt'), ascending = False)\n",
    "print(data_purpose_pivot)\n",
    "import seaborn as sns\n",
    "f, ax=plt.subplots(figsize=(20,10))\n",
    "ax = sns.barplot(x='purpose_category', y='debt', palette='hls', data=data)\n",
    "# Ваш код будет здесь. Вы можете создавать новые ячейки."
   ]
  },
  {
   "cell_type": "markdown",
   "id": "964266ae",
   "metadata": {
    "deletable": false,
    "id": "b4bb2ce6"
   },
   "source": [
    "**Вывод:** Чаще всего не возращают кредит в срок, заёмщики, которые брали кредит на автомобиль и образование. У заёмщиков, кто брал кредит на жильё чаще всего возвращают кредит в срок, пргоцент просрочки составляет всего 7,2%"
   ]
  },
  {
   "cell_type": "markdown",
   "id": "6cfeca2f",
   "metadata": {
    "deletable": false,
    "editable": false,
    "id": "09c3ac4c"
   },
   "source": [
    "#### 3.5 Приведите возможные причины появления пропусков в исходных данных."
   ]
  },
  {
   "cell_type": "markdown",
   "id": "d2d473c9",
   "metadata": {
    "deletable": false,
    "id": "9da2ceda"
   },
   "source": [
    "*Ответ:* Возможно заёмщик не захотел указывать стаж и доход/ Также возможна техническая ошибка(но это мловероятно, так как пропуски только по двум столбцам)"
   ]
  },
  {
   "cell_type": "markdown",
   "id": "7b45dc90",
   "metadata": {
    "deletable": false,
    "editable": false,
    "id": "7b0487d6"
   },
   "source": [
    "#### 3.6 Объясните, почему заполнить пропуски медианным значением — лучшее решение для количественных переменных."
   ]
  },
  {
   "cell_type": "markdown",
   "id": "8059896f",
   "metadata": {
    "deletable": false,
    "id": "7ecf2b8e"
   },
   "source": [
    "*Ответ:* Если бы мы взяли среднее значение, то результат мог бы быть некорректным, так как возможно доход в какой то категории типа занятости или стажа, был бы много больше(меньше), чем средний доход"
   ]
  },
  {
   "cell_type": "markdown",
   "id": "c0ac9fcf",
   "metadata": {
    "deletable": false,
    "editable": false,
    "id": "6db5255a"
   },
   "source": [
    "### Шаг 4: общий вывод."
   ]
  },
  {
   "cell_type": "markdown",
   "id": "c4c49b74",
   "metadata": {
    "deletable": false,
    "id": "bad65432"
   },
   "source": [
    "Напишите ваш общий вывод. Заёмщики с детьми чаще имеют просрочки по кредиту, чем бездетные заёмщики, хотя люди без детей гораздо чаще берут кредиты. Люди со статусом 'не в браке' чаще чем 'в браке' невозвращают кредит вовремя. Таким образом желаемый клиент для банка:Вдовец, без детей, с доходом от 30 000 до 50 000 руб, взявший ипотеку. Нежелаемый клиент:Холостой человек, с 4мя детьми, с доходом до 30 000 руб, взявший кредит на автомобиль"
   ]
  },
  {
   "cell_type": "markdown",
   "id": "47ea3fc6",
   "metadata": {},
   "source": []
  }
 ],
 "metadata": {
  "ExecuteTimeLog": [
   {
    "duration": 47,
    "start_time": "2022-09-13T09:57:27.552Z"
   },
   {
    "duration": 467,
    "start_time": "2022-09-13T09:57:44.117Z"
   },
   {
    "duration": 22,
    "start_time": "2022-09-13T09:57:44.586Z"
   },
   {
    "duration": 14,
    "start_time": "2022-09-13T09:57:44.609Z"
   },
   {
    "duration": 9,
    "start_time": "2022-09-13T09:57:44.625Z"
   },
   {
    "duration": 32,
    "start_time": "2022-09-13T09:57:44.636Z"
   },
   {
    "duration": 4,
    "start_time": "2022-09-13T09:57:44.669Z"
   },
   {
    "duration": 10,
    "start_time": "2022-09-13T09:57:44.674Z"
   },
   {
    "duration": 4,
    "start_time": "2022-09-13T09:57:44.686Z"
   },
   {
    "duration": 31,
    "start_time": "2022-09-13T09:57:44.692Z"
   },
   {
    "duration": 4,
    "start_time": "2022-09-13T09:57:44.725Z"
   },
   {
    "duration": 32,
    "start_time": "2022-09-13T09:57:44.731Z"
   },
   {
    "duration": 8,
    "start_time": "2022-09-13T09:57:44.765Z"
   },
   {
    "duration": 4,
    "start_time": "2022-09-13T09:57:44.774Z"
   },
   {
    "duration": 13,
    "start_time": "2022-09-13T09:57:44.779Z"
   },
   {
    "duration": 46,
    "start_time": "2022-09-13T09:57:44.793Z"
   },
   {
    "duration": 16,
    "start_time": "2022-09-13T09:57:44.841Z"
   },
   {
    "duration": 3,
    "start_time": "2022-09-13T09:57:44.859Z"
   },
   {
    "duration": 14,
    "start_time": "2022-09-13T09:57:44.864Z"
   },
   {
    "duration": 9,
    "start_time": "2022-09-13T09:57:44.880Z"
   },
   {
    "duration": 31,
    "start_time": "2022-09-13T09:57:44.891Z"
   },
   {
    "duration": 12,
    "start_time": "2022-09-13T09:57:44.923Z"
   },
   {
    "duration": 24,
    "start_time": "2022-09-13T09:57:44.937Z"
   },
   {
    "duration": 0,
    "start_time": "2022-09-13T09:57:44.963Z"
   },
   {
    "duration": 0,
    "start_time": "2022-09-13T09:57:44.964Z"
   },
   {
    "duration": 0,
    "start_time": "2022-09-13T09:57:44.964Z"
   },
   {
    "duration": 19,
    "start_time": "2022-09-13T09:59:27.221Z"
   },
   {
    "duration": 21,
    "start_time": "2022-09-13T09:59:50.582Z"
   },
   {
    "duration": 11,
    "start_time": "2022-09-13T10:35:58.485Z"
   },
   {
    "duration": 15,
    "start_time": "2022-09-13T10:37:26.188Z"
   },
   {
    "duration": 12,
    "start_time": "2022-09-13T10:38:14.514Z"
   },
   {
    "duration": 14,
    "start_time": "2022-09-13T10:39:50.754Z"
   },
   {
    "duration": 85,
    "start_time": "2022-09-13T10:43:01.103Z"
   },
   {
    "duration": 10,
    "start_time": "2022-09-13T10:43:24.642Z"
   },
   {
    "duration": 11,
    "start_time": "2022-09-13T10:45:07.806Z"
   },
   {
    "duration": 66,
    "start_time": "2022-09-13T10:45:18.514Z"
   },
   {
    "duration": 15,
    "start_time": "2022-09-13T10:45:18.582Z"
   },
   {
    "duration": 18,
    "start_time": "2022-09-13T10:45:18.599Z"
   },
   {
    "duration": 12,
    "start_time": "2022-09-13T10:45:18.619Z"
   },
   {
    "duration": 28,
    "start_time": "2022-09-13T10:45:18.633Z"
   },
   {
    "duration": 3,
    "start_time": "2022-09-13T10:45:18.663Z"
   },
   {
    "duration": 9,
    "start_time": "2022-09-13T10:45:18.667Z"
   },
   {
    "duration": 5,
    "start_time": "2022-09-13T10:45:18.678Z"
   },
   {
    "duration": 6,
    "start_time": "2022-09-13T10:45:18.684Z"
   },
   {
    "duration": 4,
    "start_time": "2022-09-13T10:45:18.693Z"
   },
   {
    "duration": 31,
    "start_time": "2022-09-13T10:45:18.721Z"
   },
   {
    "duration": 8,
    "start_time": "2022-09-13T10:45:18.753Z"
   },
   {
    "duration": 4,
    "start_time": "2022-09-13T10:45:18.762Z"
   },
   {
    "duration": 14,
    "start_time": "2022-09-13T10:45:18.767Z"
   },
   {
    "duration": 17,
    "start_time": "2022-09-13T10:45:18.782Z"
   },
   {
    "duration": 33,
    "start_time": "2022-09-13T10:45:18.801Z"
   },
   {
    "duration": 3,
    "start_time": "2022-09-13T10:45:18.835Z"
   },
   {
    "duration": 12,
    "start_time": "2022-09-13T10:45:18.840Z"
   },
   {
    "duration": 4,
    "start_time": "2022-09-13T10:45:18.854Z"
   },
   {
    "duration": 4,
    "start_time": "2022-09-13T10:45:18.859Z"
   },
   {
    "duration": 9,
    "start_time": "2022-09-13T10:45:18.864Z"
   },
   {
    "duration": 12,
    "start_time": "2022-09-13T10:45:18.874Z"
   },
   {
    "duration": 37,
    "start_time": "2022-09-13T10:45:18.887Z"
   },
   {
    "duration": 7,
    "start_time": "2022-09-13T10:45:18.926Z"
   },
   {
    "duration": 0,
    "start_time": "2022-09-13T10:45:18.934Z"
   },
   {
    "duration": 11,
    "start_time": "2022-09-13T10:54:56.466Z"
   },
   {
    "duration": 12,
    "start_time": "2022-09-13T10:58:04.743Z"
   },
   {
    "duration": 7,
    "start_time": "2022-09-13T11:03:13.054Z"
   },
   {
    "duration": 10,
    "start_time": "2022-09-13T11:03:49.059Z"
   },
   {
    "duration": 12,
    "start_time": "2022-09-13T11:06:05.960Z"
   },
   {
    "duration": 10,
    "start_time": "2022-09-13T11:06:34.314Z"
   },
   {
    "duration": 13,
    "start_time": "2022-09-13T11:14:40.881Z"
   },
   {
    "duration": 64,
    "start_time": "2022-09-13T11:15:56.649Z"
   },
   {
    "duration": 13,
    "start_time": "2022-09-13T11:15:56.715Z"
   },
   {
    "duration": 39,
    "start_time": "2022-09-13T11:15:56.729Z"
   },
   {
    "duration": 12,
    "start_time": "2022-09-13T11:15:56.769Z"
   },
   {
    "duration": 67,
    "start_time": "2022-09-13T11:15:56.783Z"
   },
   {
    "duration": 4,
    "start_time": "2022-09-13T11:15:56.851Z"
   },
   {
    "duration": 17,
    "start_time": "2022-09-13T11:15:56.856Z"
   },
   {
    "duration": 25,
    "start_time": "2022-09-13T11:15:56.874Z"
   },
   {
    "duration": 30,
    "start_time": "2022-09-13T11:15:56.900Z"
   },
   {
    "duration": 10,
    "start_time": "2022-09-13T11:15:56.931Z"
   },
   {
    "duration": 57,
    "start_time": "2022-09-13T11:15:56.942Z"
   },
   {
    "duration": 10,
    "start_time": "2022-09-13T11:15:57.001Z"
   },
   {
    "duration": 13,
    "start_time": "2022-09-13T11:15:57.012Z"
   },
   {
    "duration": 34,
    "start_time": "2022-09-13T11:15:57.027Z"
   },
   {
    "duration": 25,
    "start_time": "2022-09-13T11:15:57.063Z"
   },
   {
    "duration": 19,
    "start_time": "2022-09-13T11:15:57.089Z"
   },
   {
    "duration": 3,
    "start_time": "2022-09-13T11:15:57.110Z"
   },
   {
    "duration": 34,
    "start_time": "2022-09-13T11:15:57.114Z"
   },
   {
    "duration": 30,
    "start_time": "2022-09-13T11:15:57.150Z"
   },
   {
    "duration": 22,
    "start_time": "2022-09-13T11:15:57.182Z"
   },
   {
    "duration": 28,
    "start_time": "2022-09-13T11:15:57.205Z"
   },
   {
    "duration": 26,
    "start_time": "2022-09-13T11:15:57.234Z"
   },
   {
    "duration": 12,
    "start_time": "2022-09-13T11:15:57.261Z"
   },
   {
    "duration": 28,
    "start_time": "2022-09-13T11:15:57.274Z"
   },
   {
    "duration": 49,
    "start_time": "2022-09-13T11:15:57.304Z"
   },
   {
    "duration": 111,
    "start_time": "2022-09-13T17:28:16.478Z"
   },
   {
    "duration": 487,
    "start_time": "2022-09-13T17:28:27.733Z"
   },
   {
    "duration": 478,
    "start_time": "2022-09-13T17:28:35.398Z"
   },
   {
    "duration": 22,
    "start_time": "2022-09-13T17:28:35.877Z"
   },
   {
    "duration": 14,
    "start_time": "2022-09-13T17:28:35.901Z"
   },
   {
    "duration": 9,
    "start_time": "2022-09-13T17:28:35.917Z"
   },
   {
    "duration": 51,
    "start_time": "2022-09-13T17:28:35.927Z"
   },
   {
    "duration": 3,
    "start_time": "2022-09-13T17:28:35.980Z"
   },
   {
    "duration": 10,
    "start_time": "2022-09-13T17:28:35.985Z"
   },
   {
    "duration": 5,
    "start_time": "2022-09-13T17:28:35.996Z"
   },
   {
    "duration": 7,
    "start_time": "2022-09-13T17:28:36.002Z"
   },
   {
    "duration": 4,
    "start_time": "2022-09-13T17:28:36.013Z"
   },
   {
    "duration": 29,
    "start_time": "2022-09-13T17:28:36.018Z"
   },
   {
    "duration": 8,
    "start_time": "2022-09-13T17:28:36.077Z"
   },
   {
    "duration": 3,
    "start_time": "2022-09-13T17:28:36.087Z"
   },
   {
    "duration": 11,
    "start_time": "2022-09-13T17:28:36.092Z"
   },
   {
    "duration": 17,
    "start_time": "2022-09-13T17:28:36.104Z"
   },
   {
    "duration": 14,
    "start_time": "2022-09-13T17:28:36.123Z"
   },
   {
    "duration": 3,
    "start_time": "2022-09-13T17:28:36.138Z"
   },
   {
    "duration": 37,
    "start_time": "2022-09-13T17:28:36.142Z"
   },
   {
    "duration": 5,
    "start_time": "2022-09-13T17:28:36.180Z"
   },
   {
    "duration": 3,
    "start_time": "2022-09-13T17:28:36.186Z"
   },
   {
    "duration": 10,
    "start_time": "2022-09-13T17:28:36.191Z"
   },
   {
    "duration": 13,
    "start_time": "2022-09-13T17:28:36.202Z"
   },
   {
    "duration": 10,
    "start_time": "2022-09-13T17:28:36.216Z"
   },
   {
    "duration": 9,
    "start_time": "2022-09-13T17:28:36.228Z"
   },
   {
    "duration": 38,
    "start_time": "2022-09-13T17:28:36.239Z"
   },
   {
    "duration": 305,
    "start_time": "2022-09-13T17:28:36.278Z"
   },
   {
    "duration": 974,
    "start_time": "2022-09-13T17:30:11.953Z"
   },
   {
    "duration": 53,
    "start_time": "2022-09-14T11:27:59.675Z"
   },
   {
    "duration": 7,
    "start_time": "2022-09-14T11:32:11.634Z"
   },
   {
    "duration": 715,
    "start_time": "2022-09-14T11:32:17.632Z"
   },
   {
    "duration": 20,
    "start_time": "2022-09-14T11:32:18.349Z"
   },
   {
    "duration": 14,
    "start_time": "2022-09-14T11:32:18.371Z"
   },
   {
    "duration": 8,
    "start_time": "2022-09-14T11:32:18.386Z"
   },
   {
    "duration": 39,
    "start_time": "2022-09-14T11:32:18.396Z"
   },
   {
    "duration": 3,
    "start_time": "2022-09-14T11:32:18.439Z"
   },
   {
    "duration": 9,
    "start_time": "2022-09-14T11:32:18.444Z"
   },
   {
    "duration": 4,
    "start_time": "2022-09-14T11:32:18.454Z"
   },
   {
    "duration": 7,
    "start_time": "2022-09-14T11:32:18.459Z"
   },
   {
    "duration": 4,
    "start_time": "2022-09-14T11:32:18.467Z"
   },
   {
    "duration": 61,
    "start_time": "2022-09-14T11:32:18.472Z"
   },
   {
    "duration": 10,
    "start_time": "2022-09-14T11:32:18.535Z"
   },
   {
    "duration": 3,
    "start_time": "2022-09-14T11:32:18.547Z"
   },
   {
    "duration": 16,
    "start_time": "2022-09-14T11:32:18.552Z"
   },
   {
    "duration": 18,
    "start_time": "2022-09-14T11:32:18.570Z"
   },
   {
    "duration": 33,
    "start_time": "2022-09-14T11:32:18.590Z"
   },
   {
    "duration": 3,
    "start_time": "2022-09-14T11:32:18.625Z"
   },
   {
    "duration": 16,
    "start_time": "2022-09-14T11:32:18.629Z"
   },
   {
    "duration": 8,
    "start_time": "2022-09-14T11:32:18.646Z"
   },
   {
    "duration": 3,
    "start_time": "2022-09-14T11:32:18.655Z"
   },
   {
    "duration": 13,
    "start_time": "2022-09-14T11:32:18.660Z"
   },
   {
    "duration": 50,
    "start_time": "2022-09-14T11:32:18.674Z"
   },
   {
    "duration": 12,
    "start_time": "2022-09-14T11:32:18.732Z"
   },
   {
    "duration": 9,
    "start_time": "2022-09-14T11:32:18.746Z"
   },
   {
    "duration": 10,
    "start_time": "2022-09-14T11:32:18.757Z"
   },
   {
    "duration": 36,
    "start_time": "2022-09-14T11:32:53.428Z"
   },
   {
    "duration": 21,
    "start_time": "2022-09-14T11:33:08.831Z"
   },
   {
    "duration": 22,
    "start_time": "2022-09-14T11:33:16.435Z"
   },
   {
    "duration": 13,
    "start_time": "2022-09-14T11:34:19.332Z"
   },
   {
    "duration": 13,
    "start_time": "2022-09-14T11:34:43.570Z"
   },
   {
    "duration": 17,
    "start_time": "2022-09-14T11:37:11.200Z"
   },
   {
    "duration": 119,
    "start_time": "2022-09-14T11:38:12.622Z"
   },
   {
    "duration": 18,
    "start_time": "2022-09-14T12:00:54.310Z"
   },
   {
    "duration": 8,
    "start_time": "2022-09-14T12:01:30.685Z"
   },
   {
    "duration": 12,
    "start_time": "2022-09-14T12:02:27.321Z"
   },
   {
    "duration": 13,
    "start_time": "2022-09-14T12:02:40.883Z"
   },
   {
    "duration": 12,
    "start_time": "2022-09-14T12:12:02.783Z"
   },
   {
    "duration": 14,
    "start_time": "2022-09-14T12:12:23.981Z"
   },
   {
    "duration": 14,
    "start_time": "2022-09-14T12:16:33.033Z"
   },
   {
    "duration": 13,
    "start_time": "2022-09-14T12:34:36.431Z"
   },
   {
    "duration": 131,
    "start_time": "2022-09-14T12:35:03.913Z"
   },
   {
    "duration": 52,
    "start_time": "2022-09-14T12:35:25.159Z"
   },
   {
    "duration": 5,
    "start_time": "2022-09-14T12:35:32.744Z"
   },
   {
    "duration": 5,
    "start_time": "2022-09-14T12:36:09.336Z"
   },
   {
    "duration": 9,
    "start_time": "2022-09-14T12:36:46.532Z"
   },
   {
    "duration": 5,
    "start_time": "2022-09-14T12:37:56.237Z"
   },
   {
    "duration": 5,
    "start_time": "2022-09-14T12:38:04.854Z"
   },
   {
    "duration": 403,
    "start_time": "2022-09-14T13:32:57.250Z"
   },
   {
    "duration": 20,
    "start_time": "2022-09-14T13:32:57.655Z"
   },
   {
    "duration": 18,
    "start_time": "2022-09-14T13:32:57.676Z"
   },
   {
    "duration": 23,
    "start_time": "2022-09-14T13:32:57.695Z"
   },
   {
    "duration": 40,
    "start_time": "2022-09-14T13:32:57.720Z"
   },
   {
    "duration": 3,
    "start_time": "2022-09-14T13:32:57.762Z"
   },
   {
    "duration": 10,
    "start_time": "2022-09-14T13:32:57.766Z"
   },
   {
    "duration": 8,
    "start_time": "2022-09-14T13:32:57.778Z"
   },
   {
    "duration": 8,
    "start_time": "2022-09-14T13:32:57.787Z"
   },
   {
    "duration": 16,
    "start_time": "2022-09-14T13:32:57.796Z"
   },
   {
    "duration": 31,
    "start_time": "2022-09-14T13:32:57.814Z"
   },
   {
    "duration": 8,
    "start_time": "2022-09-14T13:32:57.846Z"
   },
   {
    "duration": 21,
    "start_time": "2022-09-14T13:32:57.855Z"
   },
   {
    "duration": 12,
    "start_time": "2022-09-14T13:32:57.878Z"
   },
   {
    "duration": 26,
    "start_time": "2022-09-14T13:32:57.891Z"
   },
   {
    "duration": 15,
    "start_time": "2022-09-14T13:32:57.919Z"
   },
   {
    "duration": 3,
    "start_time": "2022-09-14T13:32:57.935Z"
   },
   {
    "duration": 12,
    "start_time": "2022-09-14T13:32:57.939Z"
   },
   {
    "duration": 5,
    "start_time": "2022-09-14T13:32:57.953Z"
   },
   {
    "duration": 4,
    "start_time": "2022-09-14T13:32:57.959Z"
   },
   {
    "duration": 11,
    "start_time": "2022-09-14T13:32:57.964Z"
   },
   {
    "duration": 81,
    "start_time": "2022-09-14T13:32:57.977Z"
   },
   {
    "duration": 0,
    "start_time": "2022-09-14T13:32:58.059Z"
   },
   {
    "duration": 0,
    "start_time": "2022-09-14T13:32:58.060Z"
   },
   {
    "duration": 0,
    "start_time": "2022-09-14T13:32:58.062Z"
   },
   {
    "duration": 0,
    "start_time": "2022-09-14T13:32:58.063Z"
   },
   {
    "duration": 5,
    "start_time": "2022-09-14T13:33:13.370Z"
   },
   {
    "duration": 6,
    "start_time": "2022-09-14T13:33:17.848Z"
   },
   {
    "duration": 15,
    "start_time": "2022-09-14T13:33:17.857Z"
   },
   {
    "duration": 19,
    "start_time": "2022-09-14T13:33:17.875Z"
   },
   {
    "duration": 19,
    "start_time": "2022-09-14T13:33:17.896Z"
   },
   {
    "duration": 30,
    "start_time": "2022-09-14T13:33:17.929Z"
   },
   {
    "duration": 21,
    "start_time": "2022-09-14T14:22:31.932Z"
   },
   {
    "duration": 34,
    "start_time": "2022-09-14T14:28:29.385Z"
   },
   {
    "duration": 26,
    "start_time": "2022-09-14T14:31:34.595Z"
   },
   {
    "duration": 26,
    "start_time": "2022-09-14T14:33:20.045Z"
   },
   {
    "duration": 1460,
    "start_time": "2022-09-14T14:49:29.296Z"
   },
   {
    "duration": 142,
    "start_time": "2022-09-14T14:49:51.721Z"
   },
   {
    "duration": 75,
    "start_time": "2022-09-14T14:49:57.360Z"
   },
   {
    "duration": 14,
    "start_time": "2022-09-14T14:49:57.437Z"
   },
   {
    "duration": 14,
    "start_time": "2022-09-14T14:49:57.452Z"
   },
   {
    "duration": 8,
    "start_time": "2022-09-14T14:49:57.468Z"
   },
   {
    "duration": 48,
    "start_time": "2022-09-14T14:49:57.477Z"
   },
   {
    "duration": 3,
    "start_time": "2022-09-14T14:49:57.526Z"
   },
   {
    "duration": 11,
    "start_time": "2022-09-14T14:49:57.531Z"
   },
   {
    "duration": 4,
    "start_time": "2022-09-14T14:49:57.543Z"
   },
   {
    "duration": 8,
    "start_time": "2022-09-14T14:49:57.548Z"
   },
   {
    "duration": 6,
    "start_time": "2022-09-14T14:49:57.558Z"
   },
   {
    "duration": 55,
    "start_time": "2022-09-14T14:49:57.565Z"
   },
   {
    "duration": 10,
    "start_time": "2022-09-14T14:49:57.622Z"
   },
   {
    "duration": 4,
    "start_time": "2022-09-14T14:49:57.633Z"
   },
   {
    "duration": 11,
    "start_time": "2022-09-14T14:49:57.638Z"
   },
   {
    "duration": 17,
    "start_time": "2022-09-14T14:49:57.650Z"
   },
   {
    "duration": 52,
    "start_time": "2022-09-14T14:49:57.668Z"
   },
   {
    "duration": 3,
    "start_time": "2022-09-14T14:49:57.723Z"
   },
   {
    "duration": 16,
    "start_time": "2022-09-14T14:49:57.728Z"
   },
   {
    "duration": 5,
    "start_time": "2022-09-14T14:49:57.746Z"
   },
   {
    "duration": 3,
    "start_time": "2022-09-14T14:49:57.753Z"
   },
   {
    "duration": 10,
    "start_time": "2022-09-14T14:49:57.758Z"
   },
   {
    "duration": 145,
    "start_time": "2022-09-14T14:49:57.769Z"
   },
   {
    "duration": 0,
    "start_time": "2022-09-14T14:49:57.921Z"
   },
   {
    "duration": 0,
    "start_time": "2022-09-14T14:49:57.922Z"
   },
   {
    "duration": 0,
    "start_time": "2022-09-14T14:49:57.923Z"
   },
   {
    "duration": 852,
    "start_time": "2022-09-14T14:51:39.925Z"
   },
   {
    "duration": 395,
    "start_time": "2022-09-14T14:52:49.469Z"
   },
   {
    "duration": 406,
    "start_time": "2022-09-14T14:54:50.520Z"
   },
   {
    "duration": 439,
    "start_time": "2022-09-14T15:04:59.400Z"
   },
   {
    "duration": 477,
    "start_time": "2022-09-14T15:05:53.666Z"
   },
   {
    "duration": 401,
    "start_time": "2022-09-14T15:07:00.004Z"
   },
   {
    "duration": 451,
    "start_time": "2022-09-14T15:07:36.329Z"
   },
   {
    "duration": 450,
    "start_time": "2022-09-14T15:07:53.994Z"
   },
   {
    "duration": 101,
    "start_time": "2022-09-14T15:27:50.660Z"
   },
   {
    "duration": 21,
    "start_time": "2022-09-14T15:27:50.764Z"
   },
   {
    "duration": 45,
    "start_time": "2022-09-14T15:27:50.787Z"
   },
   {
    "duration": 40,
    "start_time": "2022-09-14T15:27:50.839Z"
   },
   {
    "duration": 55,
    "start_time": "2022-09-14T15:27:50.881Z"
   },
   {
    "duration": 3,
    "start_time": "2022-09-14T15:27:50.938Z"
   },
   {
    "duration": 25,
    "start_time": "2022-09-14T15:27:50.942Z"
   },
   {
    "duration": 8,
    "start_time": "2022-09-14T15:27:50.970Z"
   },
   {
    "duration": 21,
    "start_time": "2022-09-14T15:27:50.980Z"
   },
   {
    "duration": 46,
    "start_time": "2022-09-14T15:27:51.004Z"
   },
   {
    "duration": 72,
    "start_time": "2022-09-14T15:27:51.052Z"
   },
   {
    "duration": 12,
    "start_time": "2022-09-14T15:27:51.126Z"
   },
   {
    "duration": 32,
    "start_time": "2022-09-14T15:27:51.140Z"
   },
   {
    "duration": 23,
    "start_time": "2022-09-14T15:27:51.174Z"
   },
   {
    "duration": 60,
    "start_time": "2022-09-14T15:27:51.199Z"
   },
   {
    "duration": 24,
    "start_time": "2022-09-14T15:27:51.260Z"
   },
   {
    "duration": 5,
    "start_time": "2022-09-14T15:27:51.285Z"
   },
   {
    "duration": 44,
    "start_time": "2022-09-14T15:27:51.291Z"
   },
   {
    "duration": 33,
    "start_time": "2022-09-14T15:27:51.337Z"
   },
   {
    "duration": 18,
    "start_time": "2022-09-14T15:27:51.372Z"
   },
   {
    "duration": 61,
    "start_time": "2022-09-14T15:27:51.392Z"
   },
   {
    "duration": 488,
    "start_time": "2022-09-14T15:27:51.455Z"
   },
   {
    "duration": 468,
    "start_time": "2022-09-14T15:27:51.949Z"
   },
   {
    "duration": 517,
    "start_time": "2022-09-14T15:27:52.418Z"
   },
   {
    "duration": 506,
    "start_time": "2022-09-14T15:27:52.937Z"
   },
   {
    "duration": 79,
    "start_time": "2022-09-14T15:41:32.103Z"
   },
   {
    "duration": 14,
    "start_time": "2022-09-14T15:41:32.184Z"
   },
   {
    "duration": 22,
    "start_time": "2022-09-14T15:41:32.200Z"
   },
   {
    "duration": 9,
    "start_time": "2022-09-14T15:41:32.225Z"
   },
   {
    "duration": 30,
    "start_time": "2022-09-14T15:41:32.236Z"
   },
   {
    "duration": 4,
    "start_time": "2022-09-14T15:41:32.267Z"
   },
   {
    "duration": 12,
    "start_time": "2022-09-14T15:41:32.272Z"
   },
   {
    "duration": 3,
    "start_time": "2022-09-14T15:41:32.286Z"
   },
   {
    "duration": 6,
    "start_time": "2022-09-14T15:41:32.308Z"
   },
   {
    "duration": 19,
    "start_time": "2022-09-14T15:41:32.316Z"
   },
   {
    "duration": 32,
    "start_time": "2022-09-14T15:41:32.336Z"
   },
   {
    "duration": 10,
    "start_time": "2022-09-14T15:41:32.369Z"
   },
   {
    "duration": 3,
    "start_time": "2022-09-14T15:41:32.380Z"
   },
   {
    "duration": 11,
    "start_time": "2022-09-14T15:41:32.385Z"
   },
   {
    "duration": 34,
    "start_time": "2022-09-14T15:41:32.397Z"
   },
   {
    "duration": 15,
    "start_time": "2022-09-14T15:41:32.433Z"
   },
   {
    "duration": 3,
    "start_time": "2022-09-14T15:41:32.449Z"
   },
   {
    "duration": 13,
    "start_time": "2022-09-14T15:41:32.453Z"
   },
   {
    "duration": 5,
    "start_time": "2022-09-14T15:41:32.467Z"
   },
   {
    "duration": 3,
    "start_time": "2022-09-14T15:41:32.474Z"
   },
   {
    "duration": 36,
    "start_time": "2022-09-14T15:41:32.479Z"
   },
   {
    "duration": 453,
    "start_time": "2022-09-14T15:41:32.521Z"
   },
   {
    "duration": 435,
    "start_time": "2022-09-14T15:41:32.976Z"
   },
   {
    "duration": 415,
    "start_time": "2022-09-14T15:41:33.421Z"
   },
   {
    "duration": 395,
    "start_time": "2022-09-14T15:41:33.837Z"
   }
  ],
  "colab": {
   "name": "dpp_template_part2.ipynb",
   "provenance": []
  },
  "kernelspec": {
   "display_name": "Python 3 (ipykernel)",
   "language": "python",
   "name": "python3"
  },
  "language_info": {
   "codemirror_mode": {
    "name": "ipython",
    "version": 3
   },
   "file_extension": ".py",
   "mimetype": "text/x-python",
   "name": "python",
   "nbconvert_exporter": "python",
   "pygments_lexer": "ipython3",
   "version": "3.9.13"
  },
  "toc": {
   "base_numbering": 1,
   "nav_menu": {},
   "number_sections": true,
   "sideBar": true,
   "skip_h1_title": true,
   "title_cell": "Table of Contents",
   "title_sidebar": "Contents",
   "toc_cell": false,
   "toc_position": {},
   "toc_section_display": true,
   "toc_window_display": false
  }
 },
 "nbformat": 4,
 "nbformat_minor": 5
}
