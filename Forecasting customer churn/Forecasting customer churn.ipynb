{
 "cells": [
  {
   "cell_type": "markdown",
   "metadata": {},
   "source": [
    "# Отток клиентов"
   ]
  },
  {
   "cell_type": "markdown",
   "metadata": {},
   "source": [
    "Из «Бета-Банка» стали уходить клиенты. Каждый месяц. Немного, но заметно. Банковские маркетологи посчитали: сохранять текущих клиентов дешевле, чем привлекать новых.\n",
    "\n",
    "Нужно спрогнозировать, уйдёт клиент из банка в ближайшее время или нет. Вам предоставлены исторические данные о поведении клиентов и расторжении договоров с банком. \n",
    "\n",
    "Постройте модель с предельно большим значением *F1*-меры. Чтобы сдать проект успешно, нужно довести метрику до 0.59. \n"
   ]
  },
  {
   "cell_type": "markdown",
   "metadata": {},
   "source": [
    "## Подготовка данных"
   ]
  },
  {
   "cell_type": "code",
   "execution_count": 292,
   "metadata": {},
   "outputs": [
    {
     "name": "stdout",
     "output_type": "stream",
     "text": [
      "Requirement already satisfied: phik in /opt/conda/lib/python3.9/site-packages (0.12.2)\n",
      "Requirement already satisfied: joblib>=0.14.1 in /opt/conda/lib/python3.9/site-packages (from phik) (1.1.0)\n",
      "Requirement already satisfied: pandas>=0.25.1 in /opt/conda/lib/python3.9/site-packages (from phik) (1.2.4)\n",
      "Requirement already satisfied: matplotlib>=2.2.3 in /opt/conda/lib/python3.9/site-packages (from phik) (3.3.4)\n",
      "Requirement already satisfied: numpy>=1.18.0 in /opt/conda/lib/python3.9/site-packages (from phik) (1.21.1)\n",
      "Requirement already satisfied: scipy>=1.5.2 in /opt/conda/lib/python3.9/site-packages (from phik) (1.9.1)\n",
      "Requirement already satisfied: pyparsing!=2.0.4,!=2.1.2,!=2.1.6,>=2.0.3 in /opt/conda/lib/python3.9/site-packages (from matplotlib>=2.2.3->phik) (2.4.7)\n",
      "Requirement already satisfied: python-dateutil>=2.1 in /opt/conda/lib/python3.9/site-packages (from matplotlib>=2.2.3->phik) (2.8.1)\n",
      "Requirement already satisfied: cycler>=0.10 in /opt/conda/lib/python3.9/site-packages (from matplotlib>=2.2.3->phik) (0.11.0)\n",
      "Requirement already satisfied: kiwisolver>=1.0.1 in /opt/conda/lib/python3.9/site-packages (from matplotlib>=2.2.3->phik) (1.4.4)\n",
      "Requirement already satisfied: pillow>=6.2.0 in /opt/conda/lib/python3.9/site-packages (from matplotlib>=2.2.3->phik) (8.4.0)\n",
      "Requirement already satisfied: pytz>=2017.3 in /opt/conda/lib/python3.9/site-packages (from pandas>=0.25.1->phik) (2021.1)\n",
      "Requirement already satisfied: six>=1.5 in /opt/conda/lib/python3.9/site-packages (from python-dateutil>=2.1->matplotlib>=2.2.3->phik) (1.16.0)\n",
      "Note: you may need to restart the kernel to use updated packages.\n"
     ]
    }
   ],
   "source": [
    "pip install phik"
   ]
  },
  {
   "cell_type": "code",
   "execution_count": 293,
   "metadata": {},
   "outputs": [],
   "source": [
    "import pandas as pd\n",
    "import numpy as np\n",
    "import phik \n",
    "from sklearn.tree import DecisionTreeClassifier\n",
    "from sklearn.ensemble import RandomForestClassifier\n",
    "from sklearn.linear_model import LogisticRegression\n",
    "from sklearn.preprocessing import StandardScaler\n",
    "from sklearn.model_selection import train_test_split\n",
    "from sklearn.metrics import roc_auc_score\n",
    "from sklearn.metrics import roc_curve\n",
    "from sklearn.metrics import f1_score\n",
    "from sklearn.metrics import precision_score, recall_score\n",
    "from sklearn.utils import shuffle\n",
    "from sklearn.dummy import DummyClassifier\n",
    "from sklearn.tree import plot_tree\n",
    "import matplotlib.pyplot as plt"
   ]
  },
  {
   "cell_type": "code",
   "execution_count": 294,
   "metadata": {},
   "outputs": [
    {
     "data": {
      "text/html": [
       "<div>\n",
       "<style scoped>\n",
       "    .dataframe tbody tr th:only-of-type {\n",
       "        vertical-align: middle;\n",
       "    }\n",
       "\n",
       "    .dataframe tbody tr th {\n",
       "        vertical-align: top;\n",
       "    }\n",
       "\n",
       "    .dataframe thead th {\n",
       "        text-align: right;\n",
       "    }\n",
       "</style>\n",
       "<table border=\"1\" class=\"dataframe\">\n",
       "  <thead>\n",
       "    <tr style=\"text-align: right;\">\n",
       "      <th></th>\n",
       "      <th>RowNumber</th>\n",
       "      <th>CustomerId</th>\n",
       "      <th>Surname</th>\n",
       "      <th>CreditScore</th>\n",
       "      <th>Geography</th>\n",
       "      <th>Gender</th>\n",
       "      <th>Age</th>\n",
       "      <th>Tenure</th>\n",
       "      <th>Balance</th>\n",
       "      <th>NumOfProducts</th>\n",
       "      <th>HasCrCard</th>\n",
       "      <th>IsActiveMember</th>\n",
       "      <th>EstimatedSalary</th>\n",
       "      <th>Exited</th>\n",
       "    </tr>\n",
       "  </thead>\n",
       "  <tbody>\n",
       "    <tr>\n",
       "      <th>0</th>\n",
       "      <td>1</td>\n",
       "      <td>15634602</td>\n",
       "      <td>Hargrave</td>\n",
       "      <td>619</td>\n",
       "      <td>France</td>\n",
       "      <td>Female</td>\n",
       "      <td>42</td>\n",
       "      <td>2.0</td>\n",
       "      <td>0.00</td>\n",
       "      <td>1</td>\n",
       "      <td>1</td>\n",
       "      <td>1</td>\n",
       "      <td>101348.88</td>\n",
       "      <td>1</td>\n",
       "    </tr>\n",
       "    <tr>\n",
       "      <th>1</th>\n",
       "      <td>2</td>\n",
       "      <td>15647311</td>\n",
       "      <td>Hill</td>\n",
       "      <td>608</td>\n",
       "      <td>Spain</td>\n",
       "      <td>Female</td>\n",
       "      <td>41</td>\n",
       "      <td>1.0</td>\n",
       "      <td>83807.86</td>\n",
       "      <td>1</td>\n",
       "      <td>0</td>\n",
       "      <td>1</td>\n",
       "      <td>112542.58</td>\n",
       "      <td>0</td>\n",
       "    </tr>\n",
       "    <tr>\n",
       "      <th>2</th>\n",
       "      <td>3</td>\n",
       "      <td>15619304</td>\n",
       "      <td>Onio</td>\n",
       "      <td>502</td>\n",
       "      <td>France</td>\n",
       "      <td>Female</td>\n",
       "      <td>42</td>\n",
       "      <td>8.0</td>\n",
       "      <td>159660.80</td>\n",
       "      <td>3</td>\n",
       "      <td>1</td>\n",
       "      <td>0</td>\n",
       "      <td>113931.57</td>\n",
       "      <td>1</td>\n",
       "    </tr>\n",
       "    <tr>\n",
       "      <th>3</th>\n",
       "      <td>4</td>\n",
       "      <td>15701354</td>\n",
       "      <td>Boni</td>\n",
       "      <td>699</td>\n",
       "      <td>France</td>\n",
       "      <td>Female</td>\n",
       "      <td>39</td>\n",
       "      <td>1.0</td>\n",
       "      <td>0.00</td>\n",
       "      <td>2</td>\n",
       "      <td>0</td>\n",
       "      <td>0</td>\n",
       "      <td>93826.63</td>\n",
       "      <td>0</td>\n",
       "    </tr>\n",
       "    <tr>\n",
       "      <th>4</th>\n",
       "      <td>5</td>\n",
       "      <td>15737888</td>\n",
       "      <td>Mitchell</td>\n",
       "      <td>850</td>\n",
       "      <td>Spain</td>\n",
       "      <td>Female</td>\n",
       "      <td>43</td>\n",
       "      <td>2.0</td>\n",
       "      <td>125510.82</td>\n",
       "      <td>1</td>\n",
       "      <td>1</td>\n",
       "      <td>1</td>\n",
       "      <td>79084.10</td>\n",
       "      <td>0</td>\n",
       "    </tr>\n",
       "  </tbody>\n",
       "</table>\n",
       "</div>"
      ],
      "text/plain": [
       "   RowNumber  CustomerId   Surname  CreditScore Geography  Gender  Age  \\\n",
       "0          1    15634602  Hargrave          619    France  Female   42   \n",
       "1          2    15647311      Hill          608     Spain  Female   41   \n",
       "2          3    15619304      Onio          502    France  Female   42   \n",
       "3          4    15701354      Boni          699    France  Female   39   \n",
       "4          5    15737888  Mitchell          850     Spain  Female   43   \n",
       "\n",
       "   Tenure    Balance  NumOfProducts  HasCrCard  IsActiveMember  \\\n",
       "0     2.0       0.00              1          1               1   \n",
       "1     1.0   83807.86              1          0               1   \n",
       "2     8.0  159660.80              3          1               0   \n",
       "3     1.0       0.00              2          0               0   \n",
       "4     2.0  125510.82              1          1               1   \n",
       "\n",
       "   EstimatedSalary  Exited  \n",
       "0        101348.88       1  \n",
       "1        112542.58       0  \n",
       "2        113931.57       1  \n",
       "3         93826.63       0  \n",
       "4         79084.10       0  "
      ]
     },
     "execution_count": 294,
     "metadata": {},
     "output_type": "execute_result"
    }
   ],
   "source": [
    "data=pd.read_csv('/datasets/Churn.csv')\n",
    "data.head(5)"
   ]
  },
  {
   "cell_type": "code",
   "execution_count": 295,
   "metadata": {},
   "outputs": [
    {
     "name": "stdout",
     "output_type": "stream",
     "text": [
      "<class 'pandas.core.frame.DataFrame'>\n",
      "RangeIndex: 10000 entries, 0 to 9999\n",
      "Data columns (total 14 columns):\n",
      " #   Column           Non-Null Count  Dtype  \n",
      "---  ------           --------------  -----  \n",
      " 0   RowNumber        10000 non-null  int64  \n",
      " 1   CustomerId       10000 non-null  int64  \n",
      " 2   Surname          10000 non-null  object \n",
      " 3   CreditScore      10000 non-null  int64  \n",
      " 4   Geography        10000 non-null  object \n",
      " 5   Gender           10000 non-null  object \n",
      " 6   Age              10000 non-null  int64  \n",
      " 7   Tenure           9091 non-null   float64\n",
      " 8   Balance          10000 non-null  float64\n",
      " 9   NumOfProducts    10000 non-null  int64  \n",
      " 10  HasCrCard        10000 non-null  int64  \n",
      " 11  IsActiveMember   10000 non-null  int64  \n",
      " 12  EstimatedSalary  10000 non-null  float64\n",
      " 13  Exited           10000 non-null  int64  \n",
      "dtypes: float64(3), int64(8), object(3)\n",
      "memory usage: 1.1+ MB\n"
     ]
    }
   ],
   "source": [
    "data.info()"
   ]
  },
  {
   "cell_type": "code",
   "execution_count": 296,
   "metadata": {},
   "outputs": [
    {
     "data": {
      "text/plain": [
       "0    7963\n",
       "1    2037\n",
       "Name: Exited, dtype: int64"
      ]
     },
     "execution_count": 296,
     "metadata": {},
     "output_type": "execute_result"
    }
   ],
   "source": [
    "data['Exited'].value_counts() "
   ]
  },
  {
   "cell_type": "code",
   "execution_count": 297,
   "metadata": {},
   "outputs": [
    {
     "data": {
      "text/plain": [
       "RowNumber            0\n",
       "CustomerId           0\n",
       "Surname              0\n",
       "CreditScore          0\n",
       "Geography            0\n",
       "Gender               0\n",
       "Age                  0\n",
       "Tenure             909\n",
       "Balance              0\n",
       "NumOfProducts        0\n",
       "HasCrCard            0\n",
       "IsActiveMember       0\n",
       "EstimatedSalary      0\n",
       "Exited               0\n",
       "dtype: int64"
      ]
     },
     "execution_count": 297,
     "metadata": {},
     "output_type": "execute_result"
    }
   ],
   "source": [
    "data.isna().sum() "
   ]
  },
  {
   "cell_type": "code",
   "execution_count": 298,
   "metadata": {},
   "outputs": [
    {
     "name": "stdout",
     "output_type": "stream",
     "text": [
      "interval columns not set, guessing: ['RowNumber', 'CustomerId', 'CreditScore', 'Age', 'Tenure', 'Balance', 'NumOfProducts', 'HasCrCard', 'IsActiveMember', 'EstimatedSalary', 'Exited']\n"
     ]
    },
    {
     "name": "stderr",
     "output_type": "stream",
     "text": [
      "/opt/conda/lib/python3.9/site-packages/phik/data_quality.py:59: UserWarning: The number of unique values of variable Surname is large: 2932. Are you sure this is not an interval variable? Analysis for pairs of variables including Surname can be slow.\n",
      "  warnings.warn(\n"
     ]
    },
    {
     "data": {
      "text/html": [
       "<div>\n",
       "<style scoped>\n",
       "    .dataframe tbody tr th:only-of-type {\n",
       "        vertical-align: middle;\n",
       "    }\n",
       "\n",
       "    .dataframe tbody tr th {\n",
       "        vertical-align: top;\n",
       "    }\n",
       "\n",
       "    .dataframe thead th {\n",
       "        text-align: right;\n",
       "    }\n",
       "</style>\n",
       "<table border=\"1\" class=\"dataframe\">\n",
       "  <thead>\n",
       "    <tr style=\"text-align: right;\">\n",
       "      <th></th>\n",
       "      <th>RowNumber</th>\n",
       "      <th>CustomerId</th>\n",
       "      <th>Surname</th>\n",
       "      <th>CreditScore</th>\n",
       "      <th>Geography</th>\n",
       "      <th>Gender</th>\n",
       "      <th>Age</th>\n",
       "      <th>Tenure</th>\n",
       "      <th>Balance</th>\n",
       "      <th>NumOfProducts</th>\n",
       "      <th>HasCrCard</th>\n",
       "      <th>IsActiveMember</th>\n",
       "      <th>EstimatedSalary</th>\n",
       "      <th>Exited</th>\n",
       "    </tr>\n",
       "  </thead>\n",
       "  <tbody>\n",
       "    <tr>\n",
       "      <th>RowNumber</th>\n",
       "      <td>1.000000</td>\n",
       "      <td>0.000000</td>\n",
       "      <td>0.000000</td>\n",
       "      <td>0.041080</td>\n",
       "      <td>0.030864</td>\n",
       "      <td>0.000000</td>\n",
       "      <td>0.033746</td>\n",
       "      <td>0.000000</td>\n",
       "      <td>0.000000</td>\n",
       "      <td>0.014601</td>\n",
       "      <td>0.010813</td>\n",
       "      <td>0.000000</td>\n",
       "      <td>0.000000</td>\n",
       "      <td>0.000000</td>\n",
       "    </tr>\n",
       "    <tr>\n",
       "      <th>CustomerId</th>\n",
       "      <td>0.000000</td>\n",
       "      <td>1.000000</td>\n",
       "      <td>0.000000</td>\n",
       "      <td>0.018946</td>\n",
       "      <td>0.000000</td>\n",
       "      <td>0.000000</td>\n",
       "      <td>0.042049</td>\n",
       "      <td>0.009340</td>\n",
       "      <td>0.000000</td>\n",
       "      <td>0.009637</td>\n",
       "      <td>0.000000</td>\n",
       "      <td>0.014253</td>\n",
       "      <td>0.000000</td>\n",
       "      <td>0.029595</td>\n",
       "    </tr>\n",
       "    <tr>\n",
       "      <th>Surname</th>\n",
       "      <td>0.000000</td>\n",
       "      <td>0.000000</td>\n",
       "      <td>1.000000</td>\n",
       "      <td>0.242957</td>\n",
       "      <td>0.001476</td>\n",
       "      <td>0.040711</td>\n",
       "      <td>0.333753</td>\n",
       "      <td>0.020624</td>\n",
       "      <td>0.483668</td>\n",
       "      <td>0.201225</td>\n",
       "      <td>0.000000</td>\n",
       "      <td>0.000000</td>\n",
       "      <td>0.083242</td>\n",
       "      <td>0.000000</td>\n",
       "    </tr>\n",
       "    <tr>\n",
       "      <th>CreditScore</th>\n",
       "      <td>0.041080</td>\n",
       "      <td>0.018946</td>\n",
       "      <td>0.242957</td>\n",
       "      <td>1.000000</td>\n",
       "      <td>0.035375</td>\n",
       "      <td>0.000000</td>\n",
       "      <td>0.000000</td>\n",
       "      <td>0.000000</td>\n",
       "      <td>0.000000</td>\n",
       "      <td>0.034645</td>\n",
       "      <td>0.000000</td>\n",
       "      <td>0.038064</td>\n",
       "      <td>0.034215</td>\n",
       "      <td>0.096525</td>\n",
       "    </tr>\n",
       "    <tr>\n",
       "      <th>Geography</th>\n",
       "      <td>0.030864</td>\n",
       "      <td>0.000000</td>\n",
       "      <td>0.001476</td>\n",
       "      <td>0.035375</td>\n",
       "      <td>1.000000</td>\n",
       "      <td>0.013354</td>\n",
       "      <td>0.085025</td>\n",
       "      <td>0.003879</td>\n",
       "      <td>0.463811</td>\n",
       "      <td>0.049418</td>\n",
       "      <td>0.002919</td>\n",
       "      <td>0.010947</td>\n",
       "      <td>0.028372</td>\n",
       "      <td>0.104511</td>\n",
       "    </tr>\n",
       "    <tr>\n",
       "      <th>Gender</th>\n",
       "      <td>0.000000</td>\n",
       "      <td>0.000000</td>\n",
       "      <td>0.040711</td>\n",
       "      <td>0.000000</td>\n",
       "      <td>0.013354</td>\n",
       "      <td>1.000000</td>\n",
       "      <td>0.033815</td>\n",
       "      <td>0.031054</td>\n",
       "      <td>0.000000</td>\n",
       "      <td>0.063174</td>\n",
       "      <td>0.000000</td>\n",
       "      <td>0.031384</td>\n",
       "      <td>0.028019</td>\n",
       "      <td>0.165422</td>\n",
       "    </tr>\n",
       "    <tr>\n",
       "      <th>Age</th>\n",
       "      <td>0.033746</td>\n",
       "      <td>0.042049</td>\n",
       "      <td>0.333753</td>\n",
       "      <td>0.000000</td>\n",
       "      <td>0.085025</td>\n",
       "      <td>0.033815</td>\n",
       "      <td>1.000000</td>\n",
       "      <td>0.046402</td>\n",
       "      <td>0.035357</td>\n",
       "      <td>0.145566</td>\n",
       "      <td>0.016433</td>\n",
       "      <td>0.187434</td>\n",
       "      <td>0.051545</td>\n",
       "      <td>0.487524</td>\n",
       "    </tr>\n",
       "    <tr>\n",
       "      <th>Tenure</th>\n",
       "      <td>0.000000</td>\n",
       "      <td>0.009340</td>\n",
       "      <td>0.020624</td>\n",
       "      <td>0.000000</td>\n",
       "      <td>0.003879</td>\n",
       "      <td>0.031054</td>\n",
       "      <td>0.046402</td>\n",
       "      <td>1.000000</td>\n",
       "      <td>0.063973</td>\n",
       "      <td>0.060387</td>\n",
       "      <td>0.031409</td>\n",
       "      <td>0.027321</td>\n",
       "      <td>0.000000</td>\n",
       "      <td>0.020845</td>\n",
       "    </tr>\n",
       "    <tr>\n",
       "      <th>Balance</th>\n",
       "      <td>0.000000</td>\n",
       "      <td>0.000000</td>\n",
       "      <td>0.483668</td>\n",
       "      <td>0.000000</td>\n",
       "      <td>0.463811</td>\n",
       "      <td>0.000000</td>\n",
       "      <td>0.035357</td>\n",
       "      <td>0.063973</td>\n",
       "      <td>1.000000</td>\n",
       "      <td>0.371385</td>\n",
       "      <td>0.050671</td>\n",
       "      <td>0.018236</td>\n",
       "      <td>0.000000</td>\n",
       "      <td>0.183365</td>\n",
       "    </tr>\n",
       "    <tr>\n",
       "      <th>NumOfProducts</th>\n",
       "      <td>0.014601</td>\n",
       "      <td>0.009637</td>\n",
       "      <td>0.201225</td>\n",
       "      <td>0.034645</td>\n",
       "      <td>0.049418</td>\n",
       "      <td>0.063174</td>\n",
       "      <td>0.145566</td>\n",
       "      <td>0.060387</td>\n",
       "      <td>0.371385</td>\n",
       "      <td>1.000000</td>\n",
       "      <td>0.000000</td>\n",
       "      <td>0.056918</td>\n",
       "      <td>0.031562</td>\n",
       "      <td>0.565084</td>\n",
       "    </tr>\n",
       "    <tr>\n",
       "      <th>HasCrCard</th>\n",
       "      <td>0.010813</td>\n",
       "      <td>0.000000</td>\n",
       "      <td>0.000000</td>\n",
       "      <td>0.000000</td>\n",
       "      <td>0.002919</td>\n",
       "      <td>0.000000</td>\n",
       "      <td>0.016433</td>\n",
       "      <td>0.031409</td>\n",
       "      <td>0.050671</td>\n",
       "      <td>0.000000</td>\n",
       "      <td>1.000000</td>\n",
       "      <td>0.009377</td>\n",
       "      <td>0.000000</td>\n",
       "      <td>0.000000</td>\n",
       "    </tr>\n",
       "    <tr>\n",
       "      <th>IsActiveMember</th>\n",
       "      <td>0.000000</td>\n",
       "      <td>0.014253</td>\n",
       "      <td>0.000000</td>\n",
       "      <td>0.038064</td>\n",
       "      <td>0.010947</td>\n",
       "      <td>0.031384</td>\n",
       "      <td>0.187434</td>\n",
       "      <td>0.027321</td>\n",
       "      <td>0.018236</td>\n",
       "      <td>0.056918</td>\n",
       "      <td>0.009377</td>\n",
       "      <td>1.000000</td>\n",
       "      <td>0.032847</td>\n",
       "      <td>0.241939</td>\n",
       "    </tr>\n",
       "    <tr>\n",
       "      <th>EstimatedSalary</th>\n",
       "      <td>0.000000</td>\n",
       "      <td>0.000000</td>\n",
       "      <td>0.083242</td>\n",
       "      <td>0.034215</td>\n",
       "      <td>0.028372</td>\n",
       "      <td>0.028019</td>\n",
       "      <td>0.051545</td>\n",
       "      <td>0.000000</td>\n",
       "      <td>0.000000</td>\n",
       "      <td>0.031562</td>\n",
       "      <td>0.000000</td>\n",
       "      <td>0.032847</td>\n",
       "      <td>1.000000</td>\n",
       "      <td>0.000000</td>\n",
       "    </tr>\n",
       "    <tr>\n",
       "      <th>Exited</th>\n",
       "      <td>0.000000</td>\n",
       "      <td>0.029595</td>\n",
       "      <td>0.000000</td>\n",
       "      <td>0.096525</td>\n",
       "      <td>0.104511</td>\n",
       "      <td>0.165422</td>\n",
       "      <td>0.487524</td>\n",
       "      <td>0.020845</td>\n",
       "      <td>0.183365</td>\n",
       "      <td>0.565084</td>\n",
       "      <td>0.000000</td>\n",
       "      <td>0.241939</td>\n",
       "      <td>0.000000</td>\n",
       "      <td>1.000000</td>\n",
       "    </tr>\n",
       "  </tbody>\n",
       "</table>\n",
       "</div>"
      ],
      "text/plain": [
       "                 RowNumber  CustomerId   Surname  CreditScore  Geography  \\\n",
       "RowNumber         1.000000    0.000000  0.000000     0.041080   0.030864   \n",
       "CustomerId        0.000000    1.000000  0.000000     0.018946   0.000000   \n",
       "Surname           0.000000    0.000000  1.000000     0.242957   0.001476   \n",
       "CreditScore       0.041080    0.018946  0.242957     1.000000   0.035375   \n",
       "Geography         0.030864    0.000000  0.001476     0.035375   1.000000   \n",
       "Gender            0.000000    0.000000  0.040711     0.000000   0.013354   \n",
       "Age               0.033746    0.042049  0.333753     0.000000   0.085025   \n",
       "Tenure            0.000000    0.009340  0.020624     0.000000   0.003879   \n",
       "Balance           0.000000    0.000000  0.483668     0.000000   0.463811   \n",
       "NumOfProducts     0.014601    0.009637  0.201225     0.034645   0.049418   \n",
       "HasCrCard         0.010813    0.000000  0.000000     0.000000   0.002919   \n",
       "IsActiveMember    0.000000    0.014253  0.000000     0.038064   0.010947   \n",
       "EstimatedSalary   0.000000    0.000000  0.083242     0.034215   0.028372   \n",
       "Exited            0.000000    0.029595  0.000000     0.096525   0.104511   \n",
       "\n",
       "                   Gender       Age    Tenure   Balance  NumOfProducts  \\\n",
       "RowNumber        0.000000  0.033746  0.000000  0.000000       0.014601   \n",
       "CustomerId       0.000000  0.042049  0.009340  0.000000       0.009637   \n",
       "Surname          0.040711  0.333753  0.020624  0.483668       0.201225   \n",
       "CreditScore      0.000000  0.000000  0.000000  0.000000       0.034645   \n",
       "Geography        0.013354  0.085025  0.003879  0.463811       0.049418   \n",
       "Gender           1.000000  0.033815  0.031054  0.000000       0.063174   \n",
       "Age              0.033815  1.000000  0.046402  0.035357       0.145566   \n",
       "Tenure           0.031054  0.046402  1.000000  0.063973       0.060387   \n",
       "Balance          0.000000  0.035357  0.063973  1.000000       0.371385   \n",
       "NumOfProducts    0.063174  0.145566  0.060387  0.371385       1.000000   \n",
       "HasCrCard        0.000000  0.016433  0.031409  0.050671       0.000000   \n",
       "IsActiveMember   0.031384  0.187434  0.027321  0.018236       0.056918   \n",
       "EstimatedSalary  0.028019  0.051545  0.000000  0.000000       0.031562   \n",
       "Exited           0.165422  0.487524  0.020845  0.183365       0.565084   \n",
       "\n",
       "                 HasCrCard  IsActiveMember  EstimatedSalary    Exited  \n",
       "RowNumber         0.010813        0.000000         0.000000  0.000000  \n",
       "CustomerId        0.000000        0.014253         0.000000  0.029595  \n",
       "Surname           0.000000        0.000000         0.083242  0.000000  \n",
       "CreditScore       0.000000        0.038064         0.034215  0.096525  \n",
       "Geography         0.002919        0.010947         0.028372  0.104511  \n",
       "Gender            0.000000        0.031384         0.028019  0.165422  \n",
       "Age               0.016433        0.187434         0.051545  0.487524  \n",
       "Tenure            0.031409        0.027321         0.000000  0.020845  \n",
       "Balance           0.050671        0.018236         0.000000  0.183365  \n",
       "NumOfProducts     0.000000        0.056918         0.031562  0.565084  \n",
       "HasCrCard         1.000000        0.009377         0.000000  0.000000  \n",
       "IsActiveMember    0.009377        1.000000         0.032847  0.241939  \n",
       "EstimatedSalary   0.000000        0.032847         1.000000  0.000000  \n",
       "Exited            0.000000        0.241939         0.000000  1.000000  "
      ]
     },
     "execution_count": 298,
     "metadata": {},
     "output_type": "execute_result"
    }
   ],
   "source": [
    "data.phik_matrix() "
   ]
  },
  {
   "cell_type": "code",
   "execution_count": 299,
   "metadata": {},
   "outputs": [
    {
     "data": {
      "text/plain": [
       "array([ 2.,  1.,  8.,  7.,  4.,  6.,  3., 10.,  5.,  9.,  0., nan])"
      ]
     },
     "execution_count": 299,
     "metadata": {},
     "output_type": "execute_result"
    }
   ],
   "source": [
    "data['Tenure'].unique()"
   ]
  },
  {
   "cell_type": "code",
   "execution_count": 300,
   "metadata": {},
   "outputs": [
    {
     "data": {
      "text/html": [
       "<div>\n",
       "<style scoped>\n",
       "    .dataframe tbody tr th:only-of-type {\n",
       "        vertical-align: middle;\n",
       "    }\n",
       "\n",
       "    .dataframe tbody tr th {\n",
       "        vertical-align: top;\n",
       "    }\n",
       "\n",
       "    .dataframe thead th {\n",
       "        text-align: right;\n",
       "    }\n",
       "</style>\n",
       "<table border=\"1\" class=\"dataframe\">\n",
       "  <thead>\n",
       "    <tr style=\"text-align: right;\">\n",
       "      <th></th>\n",
       "      <th>RowNumber</th>\n",
       "      <th>CustomerId</th>\n",
       "      <th>Surname</th>\n",
       "      <th>CreditScore</th>\n",
       "      <th>Geography</th>\n",
       "      <th>Gender</th>\n",
       "      <th>Age</th>\n",
       "      <th>Tenure</th>\n",
       "      <th>Balance</th>\n",
       "      <th>NumOfProducts</th>\n",
       "      <th>HasCrCard</th>\n",
       "      <th>IsActiveMember</th>\n",
       "      <th>EstimatedSalary</th>\n",
       "      <th>Exited</th>\n",
       "    </tr>\n",
       "  </thead>\n",
       "  <tbody>\n",
       "    <tr>\n",
       "      <th>0</th>\n",
       "      <td>1</td>\n",
       "      <td>15634602</td>\n",
       "      <td>Hargrave</td>\n",
       "      <td>619</td>\n",
       "      <td>France</td>\n",
       "      <td>Female</td>\n",
       "      <td>42</td>\n",
       "      <td>2.0</td>\n",
       "      <td>0.00</td>\n",
       "      <td>1</td>\n",
       "      <td>1</td>\n",
       "      <td>1</td>\n",
       "      <td>101348.88</td>\n",
       "      <td>1</td>\n",
       "    </tr>\n",
       "    <tr>\n",
       "      <th>1</th>\n",
       "      <td>2</td>\n",
       "      <td>15647311</td>\n",
       "      <td>Hill</td>\n",
       "      <td>608</td>\n",
       "      <td>Spain</td>\n",
       "      <td>Female</td>\n",
       "      <td>41</td>\n",
       "      <td>1.0</td>\n",
       "      <td>83807.86</td>\n",
       "      <td>1</td>\n",
       "      <td>0</td>\n",
       "      <td>1</td>\n",
       "      <td>112542.58</td>\n",
       "      <td>0</td>\n",
       "    </tr>\n",
       "    <tr>\n",
       "      <th>2</th>\n",
       "      <td>3</td>\n",
       "      <td>15619304</td>\n",
       "      <td>Onio</td>\n",
       "      <td>502</td>\n",
       "      <td>France</td>\n",
       "      <td>Female</td>\n",
       "      <td>42</td>\n",
       "      <td>8.0</td>\n",
       "      <td>159660.80</td>\n",
       "      <td>3</td>\n",
       "      <td>1</td>\n",
       "      <td>0</td>\n",
       "      <td>113931.57</td>\n",
       "      <td>1</td>\n",
       "    </tr>\n",
       "  </tbody>\n",
       "</table>\n",
       "</div>"
      ],
      "text/plain": [
       "   RowNumber  CustomerId   Surname  CreditScore Geography  Gender  Age  \\\n",
       "0          1    15634602  Hargrave          619    France  Female   42   \n",
       "1          2    15647311      Hill          608     Spain  Female   41   \n",
       "2          3    15619304      Onio          502    France  Female   42   \n",
       "\n",
       "   Tenure    Balance  NumOfProducts  HasCrCard  IsActiveMember  \\\n",
       "0     2.0       0.00              1          1               1   \n",
       "1     1.0   83807.86              1          0               1   \n",
       "2     8.0  159660.80              3          1               0   \n",
       "\n",
       "   EstimatedSalary  Exited  \n",
       "0        101348.88       1  \n",
       "1        112542.58       0  \n",
       "2        113931.57       1  "
      ]
     },
     "execution_count": 300,
     "metadata": {},
     "output_type": "execute_result"
    }
   ],
   "source": [
    "data.head(3)"
   ]
  },
  {
   "cell_type": "code",
   "execution_count": 301,
   "metadata": {},
   "outputs": [],
   "source": [
    "not_informative = ['RowNumber', 'CustomerId', 'Surname', 'Tenure', 'HasCrCard', 'EstimatedSalary']\n",
    "data = data.drop(columns=not_informative)"
   ]
  },
  {
   "cell_type": "code",
   "execution_count": 302,
   "metadata": {},
   "outputs": [
    {
     "name": "stdout",
     "output_type": "stream",
     "text": [
      "   CreditScore  Age    Balance  NumOfProducts  Exited  Geography_Germany  \\\n",
      "0          619   42       0.00              1       1                  0   \n",
      "1          608   41   83807.86              1       0                  0   \n",
      "2          502   42  159660.80              3       1                  0   \n",
      "\n",
      "   Geography_Spain  Gender_Male  IsActiveMember_1  \n",
      "0                0            0                 1  \n",
      "1                1            0                 1  \n",
      "2                0            0                 0  \n"
     ]
    }
   ],
   "source": [
    "categorical = ['Geography', 'Gender', 'IsActiveMember']\n",
    "data=pd.get_dummies(data, columns=categorical, drop_first=True) \n",
    "print(data.head(3))"
   ]
  },
  {
   "cell_type": "code",
   "execution_count": 303,
   "metadata": {},
   "outputs": [
    {
     "name": "stdout",
     "output_type": "stream",
     "text": [
      "(6000, 9)\n",
      "(2000, 9)\n",
      "(2000, 9)\n"
     ]
    }
   ],
   "source": [
    "data_train, data_valid=train_test_split(data, test_size=0.4, random_state=12345, stratify=data['Exited']) \n",
    "data_valid, data_test=train_test_split(data_valid, test_size=0.5, random_state=12345, stratify=data_valid['Exited'])\n",
    "print(data_train.shape)\n",
    "print(data_valid.shape)\n",
    "print(data_test.shape)"
   ]
  },
  {
   "cell_type": "code",
   "execution_count": 304,
   "metadata": {},
   "outputs": [
    {
     "name": "stdout",
     "output_type": "stream",
     "text": [
      "(6000, 8)\n",
      "(6000,)\n",
      "(2000, 8)\n",
      "(2000,)\n",
      "(2000, 8)\n",
      "(2000,)\n"
     ]
    }
   ],
   "source": [
    "features_train = data_train.drop(['Exited'], axis=1) \n",
    "target_train = data_train['Exited']\n",
    "features_valid = data_valid.drop(['Exited'], axis=1)\n",
    "target_valid = data_valid['Exited']\n",
    "features_test=data_test.drop(['Exited'], axis=1)\n",
    "target_test=data_test['Exited']\n",
    "print(features_train.shape)\n",
    "print(target_train.shape)\n",
    "print(features_valid.shape)\n",
    "print(target_valid.shape)\n",
    "print(features_test.shape)\n",
    "print(target_test.shape)"
   ]
  },
  {
   "cell_type": "code",
   "execution_count": 305,
   "metadata": {},
   "outputs": [],
   "source": [
    "numeric = ['Age', 'Balance', 'NumOfProducts', 'CreditScore']  "
   ]
  },
  {
   "cell_type": "code",
   "execution_count": 306,
   "metadata": {},
   "outputs": [],
   "source": [
    "scaler = StandardScaler()\n",
    "scaler.fit(features_train[numeric])\n",
    "features_train[numeric] = scaler.transform(features_train[numeric])\n",
    "features_valid[numeric] = scaler.transform(features_valid[numeric])\n",
    "features_test[numeric] = scaler.transform(features_test[numeric])"
   ]
  },
  {
   "cell_type": "markdown",
   "metadata": {},
   "source": [
    "    Для начала загрузим датасет с данными по клиентам и изучим эти данные. В данныых есть признаки, которые не нужны нам для обучения модели (индекс строки, id клиента и фамилия), эти столбцы я удалю, так как по этим данным никак нельзя спрогнозировать уйдёт клиент или нет. Также в таблице есть пропуски в столбце Tenure, этот признак я оставляю, потому что важно, сколько лет человек являлся клиентом банка, заполню пропуски нулём, так как предположу, что это новые клиенты, которые явдяются клиентами банка меньше года. Далее я закодировала категориальные признаки, отдельно вынесла числовые признаки и масштабировала их. Разбила наш датасет на 3 выборки: обучающую, валидационную и тестовую, в соотношении (60/20/20).Проверила, всё корректно. Также проверим наш таргет на дисбаланс: ушло-2037, осталось-7963 клиента. Получается ушло из банка практически 1/5."
   ]
  },
  {
   "cell_type": "markdown",
   "metadata": {},
   "source": [
    "## Исследование задачи"
   ]
  },
  {
   "cell_type": "code",
   "execution_count": 307,
   "metadata": {},
   "outputs": [
    {
     "name": "stdout",
     "output_type": "stream",
     "text": [
      "auc_roc_l: 0.7872096388806779\n",
      "F1: 0.3107861060329068\n",
      "CPU times: user 8.02 ms, sys: 92.1 ms, total: 100 ms\n",
      "Wall time: 42.7 ms\n"
     ]
    }
   ],
   "source": [
    "%%time\n",
    "model_l = LogisticRegression(random_state=12345, solver='liblinear')\n",
    "model_l.fit(features_train, target_train)\n",
    "predicted_valid = model_l.predict(features_valid)\n",
    "probabilities_valid = model_l.predict_proba(features_valid)\n",
    "probabilities_one_valid = probabilities_valid[:, 1]\n",
    "print(\"auc_roc_l:\", roc_auc_score(target_valid, probabilities_one_valid))\n",
    "print(\"F1:\", f1_score(target_valid, predicted_valid))"
   ]
  },
  {
   "cell_type": "code",
   "execution_count": 308,
   "metadata": {},
   "outputs": [
    {
     "name": "stderr",
     "output_type": "stream",
     "text": [
      "/opt/conda/lib/python3.9/site-packages/sklearn/linear_model/_logistic.py:763: ConvergenceWarning: lbfgs failed to converge (status=1):\n",
      "STOP: TOTAL NO. of ITERATIONS REACHED LIMIT.\n",
      "\n",
      "Increase the number of iterations (max_iter) or scale the data as shown in:\n",
      "    https://scikit-learn.org/stable/modules/preprocessing.html\n",
      "Please also refer to the documentation for alternative solver options:\n",
      "    https://scikit-learn.org/stable/modules/linear_model.html#logistic-regression\n",
      "  n_iter_i = _check_optimize_result(\n",
      "/opt/conda/lib/python3.9/site-packages/sklearn/linear_model/_logistic.py:763: ConvergenceWarning: lbfgs failed to converge (status=1):\n",
      "STOP: TOTAL NO. of ITERATIONS REACHED LIMIT.\n",
      "\n",
      "Increase the number of iterations (max_iter) or scale the data as shown in:\n",
      "    https://scikit-learn.org/stable/modules/preprocessing.html\n",
      "Please also refer to the documentation for alternative solver options:\n",
      "    https://scikit-learn.org/stable/modules/linear_model.html#logistic-regression\n",
      "  n_iter_i = _check_optimize_result(\n",
      "/opt/conda/lib/python3.9/site-packages/sklearn/linear_model/_logistic.py:763: ConvergenceWarning: lbfgs failed to converge (status=1):\n",
      "STOP: TOTAL NO. of ITERATIONS REACHED LIMIT.\n",
      "\n",
      "Increase the number of iterations (max_iter) or scale the data as shown in:\n",
      "    https://scikit-learn.org/stable/modules/preprocessing.html\n",
      "Please also refer to the documentation for alternative solver options:\n",
      "    https://scikit-learn.org/stable/modules/linear_model.html#logistic-regression\n",
      "  n_iter_i = _check_optimize_result(\n",
      "/opt/conda/lib/python3.9/site-packages/sklearn/linear_model/_logistic.py:763: ConvergenceWarning: lbfgs failed to converge (status=1):\n",
      "STOP: TOTAL NO. of ITERATIONS REACHED LIMIT.\n",
      "\n",
      "Increase the number of iterations (max_iter) or scale the data as shown in:\n",
      "    https://scikit-learn.org/stable/modules/preprocessing.html\n",
      "Please also refer to the documentation for alternative solver options:\n",
      "    https://scikit-learn.org/stable/modules/linear_model.html#logistic-regression\n",
      "  n_iter_i = _check_optimize_result(\n",
      "/opt/conda/lib/python3.9/site-packages/sklearn/linear_model/_logistic.py:763: ConvergenceWarning: lbfgs failed to converge (status=1):\n",
      "STOP: TOTAL NO. of ITERATIONS REACHED LIMIT.\n",
      "\n",
      "Increase the number of iterations (max_iter) or scale the data as shown in:\n",
      "    https://scikit-learn.org/stable/modules/preprocessing.html\n",
      "Please also refer to the documentation for alternative solver options:\n",
      "    https://scikit-learn.org/stable/modules/linear_model.html#logistic-regression\n",
      "  n_iter_i = _check_optimize_result(\n",
      "/opt/conda/lib/python3.9/site-packages/sklearn/linear_model/_logistic.py:763: ConvergenceWarning: lbfgs failed to converge (status=1):\n",
      "STOP: TOTAL NO. of ITERATIONS REACHED LIMIT.\n",
      "\n",
      "Increase the number of iterations (max_iter) or scale the data as shown in:\n",
      "    https://scikit-learn.org/stable/modules/preprocessing.html\n",
      "Please also refer to the documentation for alternative solver options:\n",
      "    https://scikit-learn.org/stable/modules/linear_model.html#logistic-regression\n",
      "  n_iter_i = _check_optimize_result(\n",
      "/opt/conda/lib/python3.9/site-packages/sklearn/linear_model/_logistic.py:763: ConvergenceWarning: lbfgs failed to converge (status=1):\n",
      "STOP: TOTAL NO. of ITERATIONS REACHED LIMIT.\n",
      "\n",
      "Increase the number of iterations (max_iter) or scale the data as shown in:\n",
      "    https://scikit-learn.org/stable/modules/preprocessing.html\n",
      "Please also refer to the documentation for alternative solver options:\n",
      "    https://scikit-learn.org/stable/modules/linear_model.html#logistic-regression\n",
      "  n_iter_i = _check_optimize_result(\n",
      "/opt/conda/lib/python3.9/site-packages/sklearn/linear_model/_logistic.py:763: ConvergenceWarning: lbfgs failed to converge (status=1):\n",
      "STOP: TOTAL NO. of ITERATIONS REACHED LIMIT.\n",
      "\n",
      "Increase the number of iterations (max_iter) or scale the data as shown in:\n",
      "    https://scikit-learn.org/stable/modules/preprocessing.html\n",
      "Please also refer to the documentation for alternative solver options:\n",
      "    https://scikit-learn.org/stable/modules/linear_model.html#logistic-regression\n",
      "  n_iter_i = _check_optimize_result(\n",
      "/opt/conda/lib/python3.9/site-packages/sklearn/linear_model/_logistic.py:763: ConvergenceWarning: lbfgs failed to converge (status=1):\n",
      "STOP: TOTAL NO. of ITERATIONS REACHED LIMIT.\n",
      "\n",
      "Increase the number of iterations (max_iter) or scale the data as shown in:\n",
      "    https://scikit-learn.org/stable/modules/preprocessing.html\n",
      "Please also refer to the documentation for alternative solver options:\n",
      "    https://scikit-learn.org/stable/modules/linear_model.html#logistic-regression\n",
      "  n_iter_i = _check_optimize_result(\n",
      "/opt/conda/lib/python3.9/site-packages/sklearn/linear_model/_logistic.py:763: ConvergenceWarning: lbfgs failed to converge (status=1):\n",
      "STOP: TOTAL NO. of ITERATIONS REACHED LIMIT.\n",
      "\n",
      "Increase the number of iterations (max_iter) or scale the data as shown in:\n",
      "    https://scikit-learn.org/stable/modules/preprocessing.html\n",
      "Please also refer to the documentation for alternative solver options:\n",
      "    https://scikit-learn.org/stable/modules/linear_model.html#logistic-regression\n",
      "  n_iter_i = _check_optimize_result(\n",
      "/opt/conda/lib/python3.9/site-packages/sklearn/linear_model/_logistic.py:763: ConvergenceWarning: lbfgs failed to converge (status=1):\n",
      "STOP: TOTAL NO. of ITERATIONS REACHED LIMIT.\n",
      "\n",
      "Increase the number of iterations (max_iter) or scale the data as shown in:\n",
      "    https://scikit-learn.org/stable/modules/preprocessing.html\n",
      "Please also refer to the documentation for alternative solver options:\n",
      "    https://scikit-learn.org/stable/modules/linear_model.html#logistic-regression\n",
      "  n_iter_i = _check_optimize_result(\n",
      "/opt/conda/lib/python3.9/site-packages/sklearn/linear_model/_logistic.py:763: ConvergenceWarning: lbfgs failed to converge (status=1):\n",
      "STOP: TOTAL NO. of ITERATIONS REACHED LIMIT.\n",
      "\n",
      "Increase the number of iterations (max_iter) or scale the data as shown in:\n",
      "    https://scikit-learn.org/stable/modules/preprocessing.html\n",
      "Please also refer to the documentation for alternative solver options:\n",
      "    https://scikit-learn.org/stable/modules/linear_model.html#logistic-regression\n",
      "  n_iter_i = _check_optimize_result(\n",
      "/opt/conda/lib/python3.9/site-packages/sklearn/linear_model/_logistic.py:763: ConvergenceWarning: lbfgs failed to converge (status=1):\n",
      "STOP: TOTAL NO. of ITERATIONS REACHED LIMIT.\n",
      "\n",
      "Increase the number of iterations (max_iter) or scale the data as shown in:\n",
      "    https://scikit-learn.org/stable/modules/preprocessing.html\n",
      "Please also refer to the documentation for alternative solver options:\n",
      "    https://scikit-learn.org/stable/modules/linear_model.html#logistic-regression\n",
      "  n_iter_i = _check_optimize_result(\n",
      "/opt/conda/lib/python3.9/site-packages/sklearn/linear_model/_logistic.py:763: ConvergenceWarning: lbfgs failed to converge (status=1):\n",
      "STOP: TOTAL NO. of ITERATIONS REACHED LIMIT.\n",
      "\n",
      "Increase the number of iterations (max_iter) or scale the data as shown in:\n",
      "    https://scikit-learn.org/stable/modules/preprocessing.html\n",
      "Please also refer to the documentation for alternative solver options:\n",
      "    https://scikit-learn.org/stable/modules/linear_model.html#logistic-regression\n",
      "  n_iter_i = _check_optimize_result(\n",
      "/opt/conda/lib/python3.9/site-packages/sklearn/linear_model/_logistic.py:763: ConvergenceWarning: lbfgs failed to converge (status=1):\n",
      "STOP: TOTAL NO. of ITERATIONS REACHED LIMIT.\n",
      "\n",
      "Increase the number of iterations (max_iter) or scale the data as shown in:\n",
      "    https://scikit-learn.org/stable/modules/preprocessing.html\n",
      "Please also refer to the documentation for alternative solver options:\n",
      "    https://scikit-learn.org/stable/modules/linear_model.html#logistic-regression\n",
      "  n_iter_i = _check_optimize_result(\n",
      "/opt/conda/lib/python3.9/site-packages/sklearn/linear_model/_logistic.py:763: ConvergenceWarning: lbfgs failed to converge (status=1):\n",
      "STOP: TOTAL NO. of ITERATIONS REACHED LIMIT.\n",
      "\n",
      "Increase the number of iterations (max_iter) or scale the data as shown in:\n",
      "    https://scikit-learn.org/stable/modules/preprocessing.html\n",
      "Please also refer to the documentation for alternative solver options:\n",
      "    https://scikit-learn.org/stable/modules/linear_model.html#logistic-regression\n",
      "  n_iter_i = _check_optimize_result(\n",
      "/opt/conda/lib/python3.9/site-packages/sklearn/linear_model/_logistic.py:763: ConvergenceWarning: lbfgs failed to converge (status=1):\n",
      "STOP: TOTAL NO. of ITERATIONS REACHED LIMIT.\n",
      "\n",
      "Increase the number of iterations (max_iter) or scale the data as shown in:\n",
      "    https://scikit-learn.org/stable/modules/preprocessing.html\n",
      "Please also refer to the documentation for alternative solver options:\n",
      "    https://scikit-learn.org/stable/modules/linear_model.html#logistic-regression\n",
      "  n_iter_i = _check_optimize_result(\n",
      "/opt/conda/lib/python3.9/site-packages/sklearn/linear_model/_logistic.py:763: ConvergenceWarning: lbfgs failed to converge (status=1):\n",
      "STOP: TOTAL NO. of ITERATIONS REACHED LIMIT.\n",
      "\n",
      "Increase the number of iterations (max_iter) or scale the data as shown in:\n",
      "    https://scikit-learn.org/stable/modules/preprocessing.html\n",
      "Please also refer to the documentation for alternative solver options:\n",
      "    https://scikit-learn.org/stable/modules/linear_model.html#logistic-regression\n",
      "  n_iter_i = _check_optimize_result(\n",
      "/opt/conda/lib/python3.9/site-packages/sklearn/linear_model/_logistic.py:763: ConvergenceWarning: lbfgs failed to converge (status=1):\n",
      "STOP: TOTAL NO. of ITERATIONS REACHED LIMIT.\n",
      "\n",
      "Increase the number of iterations (max_iter) or scale the data as shown in:\n",
      "    https://scikit-learn.org/stable/modules/preprocessing.html\n",
      "Please also refer to the documentation for alternative solver options:\n",
      "    https://scikit-learn.org/stable/modules/linear_model.html#logistic-regression\n",
      "  n_iter_i = _check_optimize_result(\n",
      "/opt/conda/lib/python3.9/site-packages/sklearn/linear_model/_logistic.py:763: ConvergenceWarning: lbfgs failed to converge (status=1):\n",
      "STOP: TOTAL NO. of ITERATIONS REACHED LIMIT.\n",
      "\n",
      "Increase the number of iterations (max_iter) or scale the data as shown in:\n",
      "    https://scikit-learn.org/stable/modules/preprocessing.html\n",
      "Please also refer to the documentation for alternative solver options:\n",
      "    https://scikit-learn.org/stable/modules/linear_model.html#logistic-regression\n",
      "  n_iter_i = _check_optimize_result(\n",
      "/opt/conda/lib/python3.9/site-packages/sklearn/linear_model/_logistic.py:763: ConvergenceWarning: lbfgs failed to converge (status=1):\n",
      "STOP: TOTAL NO. of ITERATIONS REACHED LIMIT.\n",
      "\n",
      "Increase the number of iterations (max_iter) or scale the data as shown in:\n",
      "    https://scikit-learn.org/stable/modules/preprocessing.html\n",
      "Please also refer to the documentation for alternative solver options:\n",
      "    https://scikit-learn.org/stable/modules/linear_model.html#logistic-regression\n",
      "  n_iter_i = _check_optimize_result(\n",
      "/opt/conda/lib/python3.9/site-packages/sklearn/linear_model/_logistic.py:763: ConvergenceWarning: lbfgs failed to converge (status=1):\n",
      "STOP: TOTAL NO. of ITERATIONS REACHED LIMIT.\n",
      "\n",
      "Increase the number of iterations (max_iter) or scale the data as shown in:\n",
      "    https://scikit-learn.org/stable/modules/preprocessing.html\n",
      "Please also refer to the documentation for alternative solver options:\n",
      "    https://scikit-learn.org/stable/modules/linear_model.html#logistic-regression\n",
      "  n_iter_i = _check_optimize_result(\n",
      "/opt/conda/lib/python3.9/site-packages/sklearn/linear_model/_logistic.py:763: ConvergenceWarning: lbfgs failed to converge (status=1):\n",
      "STOP: TOTAL NO. of ITERATIONS REACHED LIMIT.\n",
      "\n",
      "Increase the number of iterations (max_iter) or scale the data as shown in:\n",
      "    https://scikit-learn.org/stable/modules/preprocessing.html\n",
      "Please also refer to the documentation for alternative solver options:\n",
      "    https://scikit-learn.org/stable/modules/linear_model.html#logistic-regression\n",
      "  n_iter_i = _check_optimize_result(\n",
      "/opt/conda/lib/python3.9/site-packages/sklearn/linear_model/_logistic.py:763: ConvergenceWarning: lbfgs failed to converge (status=1):\n",
      "STOP: TOTAL NO. of ITERATIONS REACHED LIMIT.\n",
      "\n",
      "Increase the number of iterations (max_iter) or scale the data as shown in:\n",
      "    https://scikit-learn.org/stable/modules/preprocessing.html\n",
      "Please also refer to the documentation for alternative solver options:\n",
      "    https://scikit-learn.org/stable/modules/linear_model.html#logistic-regression\n",
      "  n_iter_i = _check_optimize_result(\n",
      "/opt/conda/lib/python3.9/site-packages/sklearn/linear_model/_logistic.py:763: ConvergenceWarning: lbfgs failed to converge (status=1):\n",
      "STOP: TOTAL NO. of ITERATIONS REACHED LIMIT.\n",
      "\n",
      "Increase the number of iterations (max_iter) or scale the data as shown in:\n",
      "    https://scikit-learn.org/stable/modules/preprocessing.html\n",
      "Please also refer to the documentation for alternative solver options:\n",
      "    https://scikit-learn.org/stable/modules/linear_model.html#logistic-regression\n",
      "  n_iter_i = _check_optimize_result(\n",
      "/opt/conda/lib/python3.9/site-packages/sklearn/linear_model/_logistic.py:763: ConvergenceWarning: lbfgs failed to converge (status=1):\n",
      "STOP: TOTAL NO. of ITERATIONS REACHED LIMIT.\n",
      "\n",
      "Increase the number of iterations (max_iter) or scale the data as shown in:\n",
      "    https://scikit-learn.org/stable/modules/preprocessing.html\n",
      "Please also refer to the documentation for alternative solver options:\n",
      "    https://scikit-learn.org/stable/modules/linear_model.html#logistic-regression\n",
      "  n_iter_i = _check_optimize_result(\n",
      "/opt/conda/lib/python3.9/site-packages/sklearn/linear_model/_logistic.py:763: ConvergenceWarning: lbfgs failed to converge (status=1):\n",
      "STOP: TOTAL NO. of ITERATIONS REACHED LIMIT.\n",
      "\n",
      "Increase the number of iterations (max_iter) or scale the data as shown in:\n",
      "    https://scikit-learn.org/stable/modules/preprocessing.html\n",
      "Please also refer to the documentation for alternative solver options:\n",
      "    https://scikit-learn.org/stable/modules/linear_model.html#logistic-regression\n",
      "  n_iter_i = _check_optimize_result(\n",
      "/opt/conda/lib/python3.9/site-packages/sklearn/linear_model/_logistic.py:763: ConvergenceWarning: lbfgs failed to converge (status=1):\n",
      "STOP: TOTAL NO. of ITERATIONS REACHED LIMIT.\n",
      "\n",
      "Increase the number of iterations (max_iter) or scale the data as shown in:\n",
      "    https://scikit-learn.org/stable/modules/preprocessing.html\n",
      "Please also refer to the documentation for alternative solver options:\n",
      "    https://scikit-learn.org/stable/modules/linear_model.html#logistic-regression\n",
      "  n_iter_i = _check_optimize_result(\n",
      "/opt/conda/lib/python3.9/site-packages/sklearn/linear_model/_logistic.py:763: ConvergenceWarning: lbfgs failed to converge (status=1):\n",
      "STOP: TOTAL NO. of ITERATIONS REACHED LIMIT.\n",
      "\n",
      "Increase the number of iterations (max_iter) or scale the data as shown in:\n",
      "    https://scikit-learn.org/stable/modules/preprocessing.html\n",
      "Please also refer to the documentation for alternative solver options:\n",
      "    https://scikit-learn.org/stable/modules/linear_model.html#logistic-regression\n",
      "  n_iter_i = _check_optimize_result(\n",
      "/opt/conda/lib/python3.9/site-packages/sklearn/linear_model/_logistic.py:763: ConvergenceWarning: lbfgs failed to converge (status=1):\n",
      "STOP: TOTAL NO. of ITERATIONS REACHED LIMIT.\n",
      "\n",
      "Increase the number of iterations (max_iter) or scale the data as shown in:\n",
      "    https://scikit-learn.org/stable/modules/preprocessing.html\n",
      "Please also refer to the documentation for alternative solver options:\n",
      "    https://scikit-learn.org/stable/modules/linear_model.html#logistic-regression\n",
      "  n_iter_i = _check_optimize_result(\n",
      "/opt/conda/lib/python3.9/site-packages/sklearn/linear_model/_logistic.py:763: ConvergenceWarning: lbfgs failed to converge (status=1):\n",
      "STOP: TOTAL NO. of ITERATIONS REACHED LIMIT.\n",
      "\n",
      "Increase the number of iterations (max_iter) or scale the data as shown in:\n",
      "    https://scikit-learn.org/stable/modules/preprocessing.html\n",
      "Please also refer to the documentation for alternative solver options:\n",
      "    https://scikit-learn.org/stable/modules/linear_model.html#logistic-regression\n",
      "  n_iter_i = _check_optimize_result(\n",
      "/opt/conda/lib/python3.9/site-packages/sklearn/linear_model/_logistic.py:763: ConvergenceWarning: lbfgs failed to converge (status=1):\n",
      "STOP: TOTAL NO. of ITERATIONS REACHED LIMIT.\n",
      "\n",
      "Increase the number of iterations (max_iter) or scale the data as shown in:\n",
      "    https://scikit-learn.org/stable/modules/preprocessing.html\n",
      "Please also refer to the documentation for alternative solver options:\n",
      "    https://scikit-learn.org/stable/modules/linear_model.html#logistic-regression\n",
      "  n_iter_i = _check_optimize_result(\n",
      "/opt/conda/lib/python3.9/site-packages/sklearn/linear_model/_logistic.py:763: ConvergenceWarning: lbfgs failed to converge (status=1):\n",
      "STOP: TOTAL NO. of ITERATIONS REACHED LIMIT.\n",
      "\n",
      "Increase the number of iterations (max_iter) or scale the data as shown in:\n",
      "    https://scikit-learn.org/stable/modules/preprocessing.html\n",
      "Please also refer to the documentation for alternative solver options:\n",
      "    https://scikit-learn.org/stable/modules/linear_model.html#logistic-regression\n",
      "  n_iter_i = _check_optimize_result(\n",
      "/opt/conda/lib/python3.9/site-packages/sklearn/linear_model/_logistic.py:763: ConvergenceWarning: lbfgs failed to converge (status=1):\n",
      "STOP: TOTAL NO. of ITERATIONS REACHED LIMIT.\n",
      "\n",
      "Increase the number of iterations (max_iter) or scale the data as shown in:\n",
      "    https://scikit-learn.org/stable/modules/preprocessing.html\n",
      "Please also refer to the documentation for alternative solver options:\n",
      "    https://scikit-learn.org/stable/modules/linear_model.html#logistic-regression\n",
      "  n_iter_i = _check_optimize_result(\n",
      "/opt/conda/lib/python3.9/site-packages/sklearn/linear_model/_logistic.py:763: ConvergenceWarning: lbfgs failed to converge (status=1):\n",
      "STOP: TOTAL NO. of ITERATIONS REACHED LIMIT.\n",
      "\n",
      "Increase the number of iterations (max_iter) or scale the data as shown in:\n",
      "    https://scikit-learn.org/stable/modules/preprocessing.html\n",
      "Please also refer to the documentation for alternative solver options:\n",
      "    https://scikit-learn.org/stable/modules/linear_model.html#logistic-regression\n",
      "  n_iter_i = _check_optimize_result(\n",
      "/opt/conda/lib/python3.9/site-packages/sklearn/linear_model/_logistic.py:763: ConvergenceWarning: lbfgs failed to converge (status=1):\n",
      "STOP: TOTAL NO. of ITERATIONS REACHED LIMIT.\n",
      "\n",
      "Increase the number of iterations (max_iter) or scale the data as shown in:\n",
      "    https://scikit-learn.org/stable/modules/preprocessing.html\n",
      "Please also refer to the documentation for alternative solver options:\n",
      "    https://scikit-learn.org/stable/modules/linear_model.html#logistic-regression\n",
      "  n_iter_i = _check_optimize_result(\n",
      "/opt/conda/lib/python3.9/site-packages/sklearn/linear_model/_logistic.py:763: ConvergenceWarning: lbfgs failed to converge (status=1):\n",
      "STOP: TOTAL NO. of ITERATIONS REACHED LIMIT.\n",
      "\n",
      "Increase the number of iterations (max_iter) or scale the data as shown in:\n",
      "    https://scikit-learn.org/stable/modules/preprocessing.html\n",
      "Please also refer to the documentation for alternative solver options:\n",
      "    https://scikit-learn.org/stable/modules/linear_model.html#logistic-regression\n",
      "  n_iter_i = _check_optimize_result(\n",
      "/opt/conda/lib/python3.9/site-packages/sklearn/linear_model/_logistic.py:763: ConvergenceWarning: lbfgs failed to converge (status=1):\n",
      "STOP: TOTAL NO. of ITERATIONS REACHED LIMIT.\n",
      "\n",
      "Increase the number of iterations (max_iter) or scale the data as shown in:\n",
      "    https://scikit-learn.org/stable/modules/preprocessing.html\n",
      "Please also refer to the documentation for alternative solver options:\n",
      "    https://scikit-learn.org/stable/modules/linear_model.html#logistic-regression\n",
      "  n_iter_i = _check_optimize_result(\n",
      "/opt/conda/lib/python3.9/site-packages/sklearn/linear_model/_logistic.py:763: ConvergenceWarning: lbfgs failed to converge (status=1):\n",
      "STOP: TOTAL NO. of ITERATIONS REACHED LIMIT.\n",
      "\n",
      "Increase the number of iterations (max_iter) or scale the data as shown in:\n",
      "    https://scikit-learn.org/stable/modules/preprocessing.html\n",
      "Please also refer to the documentation for alternative solver options:\n",
      "    https://scikit-learn.org/stable/modules/linear_model.html#logistic-regression\n",
      "  n_iter_i = _check_optimize_result(\n",
      "/opt/conda/lib/python3.9/site-packages/sklearn/linear_model/_logistic.py:763: ConvergenceWarning: lbfgs failed to converge (status=1):\n",
      "STOP: TOTAL NO. of ITERATIONS REACHED LIMIT.\n",
      "\n",
      "Increase the number of iterations (max_iter) or scale the data as shown in:\n",
      "    https://scikit-learn.org/stable/modules/preprocessing.html\n",
      "Please also refer to the documentation for alternative solver options:\n",
      "    https://scikit-learn.org/stable/modules/linear_model.html#logistic-regression\n",
      "  n_iter_i = _check_optimize_result(\n",
      "/opt/conda/lib/python3.9/site-packages/sklearn/linear_model/_logistic.py:763: ConvergenceWarning: lbfgs failed to converge (status=1):\n",
      "STOP: TOTAL NO. of ITERATIONS REACHED LIMIT.\n",
      "\n",
      "Increase the number of iterations (max_iter) or scale the data as shown in:\n",
      "    https://scikit-learn.org/stable/modules/preprocessing.html\n",
      "Please also refer to the documentation for alternative solver options:\n",
      "    https://scikit-learn.org/stable/modules/linear_model.html#logistic-regression\n",
      "  n_iter_i = _check_optimize_result(\n",
      "/opt/conda/lib/python3.9/site-packages/sklearn/linear_model/_logistic.py:763: ConvergenceWarning: lbfgs failed to converge (status=1):\n",
      "STOP: TOTAL NO. of ITERATIONS REACHED LIMIT.\n",
      "\n",
      "Increase the number of iterations (max_iter) or scale the data as shown in:\n",
      "    https://scikit-learn.org/stable/modules/preprocessing.html\n",
      "Please also refer to the documentation for alternative solver options:\n",
      "    https://scikit-learn.org/stable/modules/linear_model.html#logistic-regression\n",
      "  n_iter_i = _check_optimize_result(\n",
      "/opt/conda/lib/python3.9/site-packages/sklearn/linear_model/_logistic.py:763: ConvergenceWarning: lbfgs failed to converge (status=1):\n",
      "STOP: TOTAL NO. of ITERATIONS REACHED LIMIT.\n",
      "\n",
      "Increase the number of iterations (max_iter) or scale the data as shown in:\n",
      "    https://scikit-learn.org/stable/modules/preprocessing.html\n",
      "Please also refer to the documentation for alternative solver options:\n",
      "    https://scikit-learn.org/stable/modules/linear_model.html#logistic-regression\n",
      "  n_iter_i = _check_optimize_result(\n",
      "/opt/conda/lib/python3.9/site-packages/sklearn/linear_model/_logistic.py:763: ConvergenceWarning: lbfgs failed to converge (status=1):\n",
      "STOP: TOTAL NO. of ITERATIONS REACHED LIMIT.\n",
      "\n",
      "Increase the number of iterations (max_iter) or scale the data as shown in:\n",
      "    https://scikit-learn.org/stable/modules/preprocessing.html\n",
      "Please also refer to the documentation for alternative solver options:\n",
      "    https://scikit-learn.org/stable/modules/linear_model.html#logistic-regression\n",
      "  n_iter_i = _check_optimize_result(\n",
      "/opt/conda/lib/python3.9/site-packages/sklearn/linear_model/_logistic.py:763: ConvergenceWarning: lbfgs failed to converge (status=1):\n",
      "STOP: TOTAL NO. of ITERATIONS REACHED LIMIT.\n",
      "\n",
      "Increase the number of iterations (max_iter) or scale the data as shown in:\n",
      "    https://scikit-learn.org/stable/modules/preprocessing.html\n",
      "Please also refer to the documentation for alternative solver options:\n",
      "    https://scikit-learn.org/stable/modules/linear_model.html#logistic-regression\n",
      "  n_iter_i = _check_optimize_result(\n",
      "/opt/conda/lib/python3.9/site-packages/sklearn/linear_model/_logistic.py:763: ConvergenceWarning: lbfgs failed to converge (status=1):\n",
      "STOP: TOTAL NO. of ITERATIONS REACHED LIMIT.\n",
      "\n",
      "Increase the number of iterations (max_iter) or scale the data as shown in:\n",
      "    https://scikit-learn.org/stable/modules/preprocessing.html\n",
      "Please also refer to the documentation for alternative solver options:\n",
      "    https://scikit-learn.org/stable/modules/linear_model.html#logistic-regression\n",
      "  n_iter_i = _check_optimize_result(\n",
      "/opt/conda/lib/python3.9/site-packages/sklearn/linear_model/_logistic.py:763: ConvergenceWarning: lbfgs failed to converge (status=1):\n",
      "STOP: TOTAL NO. of ITERATIONS REACHED LIMIT.\n",
      "\n",
      "Increase the number of iterations (max_iter) or scale the data as shown in:\n",
      "    https://scikit-learn.org/stable/modules/preprocessing.html\n",
      "Please also refer to the documentation for alternative solver options:\n",
      "    https://scikit-learn.org/stable/modules/linear_model.html#logistic-regression\n",
      "  n_iter_i = _check_optimize_result(\n",
      "/opt/conda/lib/python3.9/site-packages/sklearn/linear_model/_logistic.py:763: ConvergenceWarning: lbfgs failed to converge (status=1):\n",
      "STOP: TOTAL NO. of ITERATIONS REACHED LIMIT.\n",
      "\n",
      "Increase the number of iterations (max_iter) or scale the data as shown in:\n",
      "    https://scikit-learn.org/stable/modules/preprocessing.html\n",
      "Please also refer to the documentation for alternative solver options:\n",
      "    https://scikit-learn.org/stable/modules/linear_model.html#logistic-regression\n",
      "  n_iter_i = _check_optimize_result(\n",
      "/opt/conda/lib/python3.9/site-packages/sklearn/linear_model/_logistic.py:763: ConvergenceWarning: lbfgs failed to converge (status=1):\n",
      "STOP: TOTAL NO. of ITERATIONS REACHED LIMIT.\n",
      "\n",
      "Increase the number of iterations (max_iter) or scale the data as shown in:\n",
      "    https://scikit-learn.org/stable/modules/preprocessing.html\n",
      "Please also refer to the documentation for alternative solver options:\n",
      "    https://scikit-learn.org/stable/modules/linear_model.html#logistic-regression\n",
      "  n_iter_i = _check_optimize_result(\n",
      "/opt/conda/lib/python3.9/site-packages/sklearn/linear_model/_logistic.py:763: ConvergenceWarning: lbfgs failed to converge (status=1):\n",
      "STOP: TOTAL NO. of ITERATIONS REACHED LIMIT.\n",
      "\n",
      "Increase the number of iterations (max_iter) or scale the data as shown in:\n",
      "    https://scikit-learn.org/stable/modules/preprocessing.html\n",
      "Please also refer to the documentation for alternative solver options:\n",
      "    https://scikit-learn.org/stable/modules/linear_model.html#logistic-regression\n",
      "  n_iter_i = _check_optimize_result(\n",
      "/opt/conda/lib/python3.9/site-packages/sklearn/linear_model/_logistic.py:763: ConvergenceWarning: lbfgs failed to converge (status=1):\n",
      "STOP: TOTAL NO. of ITERATIONS REACHED LIMIT.\n",
      "\n",
      "Increase the number of iterations (max_iter) or scale the data as shown in:\n",
      "    https://scikit-learn.org/stable/modules/preprocessing.html\n",
      "Please also refer to the documentation for alternative solver options:\n",
      "    https://scikit-learn.org/stable/modules/linear_model.html#logistic-regression\n",
      "  n_iter_i = _check_optimize_result(\n",
      "/opt/conda/lib/python3.9/site-packages/sklearn/linear_model/_logistic.py:763: ConvergenceWarning: lbfgs failed to converge (status=1):\n",
      "STOP: TOTAL NO. of ITERATIONS REACHED LIMIT.\n",
      "\n",
      "Increase the number of iterations (max_iter) or scale the data as shown in:\n",
      "    https://scikit-learn.org/stable/modules/preprocessing.html\n",
      "Please also refer to the documentation for alternative solver options:\n",
      "    https://scikit-learn.org/stable/modules/linear_model.html#logistic-regression\n",
      "  n_iter_i = _check_optimize_result(\n",
      "/opt/conda/lib/python3.9/site-packages/sklearn/linear_model/_logistic.py:763: ConvergenceWarning: lbfgs failed to converge (status=1):\n",
      "STOP: TOTAL NO. of ITERATIONS REACHED LIMIT.\n",
      "\n",
      "Increase the number of iterations (max_iter) or scale the data as shown in:\n",
      "    https://scikit-learn.org/stable/modules/preprocessing.html\n",
      "Please also refer to the documentation for alternative solver options:\n",
      "    https://scikit-learn.org/stable/modules/linear_model.html#logistic-regression\n",
      "  n_iter_i = _check_optimize_result(\n",
      "/opt/conda/lib/python3.9/site-packages/sklearn/linear_model/_logistic.py:763: ConvergenceWarning: lbfgs failed to converge (status=1):\n",
      "STOP: TOTAL NO. of ITERATIONS REACHED LIMIT.\n",
      "\n",
      "Increase the number of iterations (max_iter) or scale the data as shown in:\n",
      "    https://scikit-learn.org/stable/modules/preprocessing.html\n",
      "Please also refer to the documentation for alternative solver options:\n",
      "    https://scikit-learn.org/stable/modules/linear_model.html#logistic-regression\n",
      "  n_iter_i = _check_optimize_result(\n",
      "/opt/conda/lib/python3.9/site-packages/sklearn/linear_model/_logistic.py:763: ConvergenceWarning: lbfgs failed to converge (status=1):\n",
      "STOP: TOTAL NO. of ITERATIONS REACHED LIMIT.\n",
      "\n",
      "Increase the number of iterations (max_iter) or scale the data as shown in:\n",
      "    https://scikit-learn.org/stable/modules/preprocessing.html\n",
      "Please also refer to the documentation for alternative solver options:\n",
      "    https://scikit-learn.org/stable/modules/linear_model.html#logistic-regression\n",
      "  n_iter_i = _check_optimize_result(\n",
      "/opt/conda/lib/python3.9/site-packages/sklearn/linear_model/_logistic.py:763: ConvergenceWarning: lbfgs failed to converge (status=1):\n",
      "STOP: TOTAL NO. of ITERATIONS REACHED LIMIT.\n",
      "\n",
      "Increase the number of iterations (max_iter) or scale the data as shown in:\n",
      "    https://scikit-learn.org/stable/modules/preprocessing.html\n",
      "Please also refer to the documentation for alternative solver options:\n",
      "    https://scikit-learn.org/stable/modules/linear_model.html#logistic-regression\n",
      "  n_iter_i = _check_optimize_result(\n",
      "/opt/conda/lib/python3.9/site-packages/sklearn/linear_model/_logistic.py:763: ConvergenceWarning: lbfgs failed to converge (status=1):\n",
      "STOP: TOTAL NO. of ITERATIONS REACHED LIMIT.\n",
      "\n",
      "Increase the number of iterations (max_iter) or scale the data as shown in:\n",
      "    https://scikit-learn.org/stable/modules/preprocessing.html\n",
      "Please also refer to the documentation for alternative solver options:\n",
      "    https://scikit-learn.org/stable/modules/linear_model.html#logistic-regression\n",
      "  n_iter_i = _check_optimize_result(\n",
      "/opt/conda/lib/python3.9/site-packages/sklearn/linear_model/_logistic.py:763: ConvergenceWarning: lbfgs failed to converge (status=1):\n",
      "STOP: TOTAL NO. of ITERATIONS REACHED LIMIT.\n",
      "\n",
      "Increase the number of iterations (max_iter) or scale the data as shown in:\n",
      "    https://scikit-learn.org/stable/modules/preprocessing.html\n",
      "Please also refer to the documentation for alternative solver options:\n",
      "    https://scikit-learn.org/stable/modules/linear_model.html#logistic-regression\n",
      "  n_iter_i = _check_optimize_result(\n",
      "/opt/conda/lib/python3.9/site-packages/sklearn/linear_model/_logistic.py:763: ConvergenceWarning: lbfgs failed to converge (status=1):\n",
      "STOP: TOTAL NO. of ITERATIONS REACHED LIMIT.\n",
      "\n",
      "Increase the number of iterations (max_iter) or scale the data as shown in:\n",
      "    https://scikit-learn.org/stable/modules/preprocessing.html\n",
      "Please also refer to the documentation for alternative solver options:\n",
      "    https://scikit-learn.org/stable/modules/linear_model.html#logistic-regression\n",
      "  n_iter_i = _check_optimize_result(\n",
      "/opt/conda/lib/python3.9/site-packages/sklearn/linear_model/_logistic.py:763: ConvergenceWarning: lbfgs failed to converge (status=1):\n",
      "STOP: TOTAL NO. of ITERATIONS REACHED LIMIT.\n",
      "\n",
      "Increase the number of iterations (max_iter) or scale the data as shown in:\n",
      "    https://scikit-learn.org/stable/modules/preprocessing.html\n",
      "Please also refer to the documentation for alternative solver options:\n",
      "    https://scikit-learn.org/stable/modules/linear_model.html#logistic-regression\n",
      "  n_iter_i = _check_optimize_result(\n",
      "/opt/conda/lib/python3.9/site-packages/sklearn/linear_model/_logistic.py:763: ConvergenceWarning: lbfgs failed to converge (status=1):\n",
      "STOP: TOTAL NO. of ITERATIONS REACHED LIMIT.\n",
      "\n",
      "Increase the number of iterations (max_iter) or scale the data as shown in:\n",
      "    https://scikit-learn.org/stable/modules/preprocessing.html\n",
      "Please also refer to the documentation for alternative solver options:\n",
      "    https://scikit-learn.org/stable/modules/linear_model.html#logistic-regression\n",
      "  n_iter_i = _check_optimize_result(\n",
      "/opt/conda/lib/python3.9/site-packages/sklearn/linear_model/_logistic.py:763: ConvergenceWarning: lbfgs failed to converge (status=1):\n",
      "STOP: TOTAL NO. of ITERATIONS REACHED LIMIT.\n",
      "\n",
      "Increase the number of iterations (max_iter) or scale the data as shown in:\n",
      "    https://scikit-learn.org/stable/modules/preprocessing.html\n",
      "Please also refer to the documentation for alternative solver options:\n",
      "    https://scikit-learn.org/stable/modules/linear_model.html#logistic-regression\n",
      "  n_iter_i = _check_optimize_result(\n",
      "/opt/conda/lib/python3.9/site-packages/sklearn/linear_model/_logistic.py:763: ConvergenceWarning: lbfgs failed to converge (status=1):\n",
      "STOP: TOTAL NO. of ITERATIONS REACHED LIMIT.\n",
      "\n",
      "Increase the number of iterations (max_iter) or scale the data as shown in:\n",
      "    https://scikit-learn.org/stable/modules/preprocessing.html\n",
      "Please also refer to the documentation for alternative solver options:\n",
      "    https://scikit-learn.org/stable/modules/linear_model.html#logistic-regression\n",
      "  n_iter_i = _check_optimize_result(\n",
      "/opt/conda/lib/python3.9/site-packages/sklearn/linear_model/_logistic.py:763: ConvergenceWarning: lbfgs failed to converge (status=1):\n",
      "STOP: TOTAL NO. of ITERATIONS REACHED LIMIT.\n",
      "\n",
      "Increase the number of iterations (max_iter) or scale the data as shown in:\n",
      "    https://scikit-learn.org/stable/modules/preprocessing.html\n",
      "Please also refer to the documentation for alternative solver options:\n",
      "    https://scikit-learn.org/stable/modules/linear_model.html#logistic-regression\n",
      "  n_iter_i = _check_optimize_result(\n",
      "/opt/conda/lib/python3.9/site-packages/sklearn/linear_model/_logistic.py:763: ConvergenceWarning: lbfgs failed to converge (status=1):\n",
      "STOP: TOTAL NO. of ITERATIONS REACHED LIMIT.\n",
      "\n",
      "Increase the number of iterations (max_iter) or scale the data as shown in:\n",
      "    https://scikit-learn.org/stable/modules/preprocessing.html\n",
      "Please also refer to the documentation for alternative solver options:\n",
      "    https://scikit-learn.org/stable/modules/linear_model.html#logistic-regression\n",
      "  n_iter_i = _check_optimize_result(\n",
      "/opt/conda/lib/python3.9/site-packages/sklearn/linear_model/_logistic.py:763: ConvergenceWarning: lbfgs failed to converge (status=1):\n",
      "STOP: TOTAL NO. of ITERATIONS REACHED LIMIT.\n",
      "\n",
      "Increase the number of iterations (max_iter) or scale the data as shown in:\n",
      "    https://scikit-learn.org/stable/modules/preprocessing.html\n",
      "Please also refer to the documentation for alternative solver options:\n",
      "    https://scikit-learn.org/stable/modules/linear_model.html#logistic-regression\n",
      "  n_iter_i = _check_optimize_result(\n",
      "/opt/conda/lib/python3.9/site-packages/sklearn/linear_model/_logistic.py:763: ConvergenceWarning: lbfgs failed to converge (status=1):\n",
      "STOP: TOTAL NO. of ITERATIONS REACHED LIMIT.\n",
      "\n",
      "Increase the number of iterations (max_iter) or scale the data as shown in:\n",
      "    https://scikit-learn.org/stable/modules/preprocessing.html\n",
      "Please also refer to the documentation for alternative solver options:\n",
      "    https://scikit-learn.org/stable/modules/linear_model.html#logistic-regression\n",
      "  n_iter_i = _check_optimize_result(\n",
      "/opt/conda/lib/python3.9/site-packages/sklearn/linear_model/_logistic.py:763: ConvergenceWarning: lbfgs failed to converge (status=1):\n",
      "STOP: TOTAL NO. of ITERATIONS REACHED LIMIT.\n",
      "\n",
      "Increase the number of iterations (max_iter) or scale the data as shown in:\n",
      "    https://scikit-learn.org/stable/modules/preprocessing.html\n",
      "Please also refer to the documentation for alternative solver options:\n",
      "    https://scikit-learn.org/stable/modules/linear_model.html#logistic-regression\n",
      "  n_iter_i = _check_optimize_result(\n",
      "/opt/conda/lib/python3.9/site-packages/sklearn/linear_model/_logistic.py:763: ConvergenceWarning: lbfgs failed to converge (status=1):\n",
      "STOP: TOTAL NO. of ITERATIONS REACHED LIMIT.\n",
      "\n",
      "Increase the number of iterations (max_iter) or scale the data as shown in:\n",
      "    https://scikit-learn.org/stable/modules/preprocessing.html\n",
      "Please also refer to the documentation for alternative solver options:\n",
      "    https://scikit-learn.org/stable/modules/linear_model.html#logistic-regression\n",
      "  n_iter_i = _check_optimize_result(\n",
      "/opt/conda/lib/python3.9/site-packages/sklearn/linear_model/_logistic.py:763: ConvergenceWarning: lbfgs failed to converge (status=1):\n",
      "STOP: TOTAL NO. of ITERATIONS REACHED LIMIT.\n",
      "\n",
      "Increase the number of iterations (max_iter) or scale the data as shown in:\n",
      "    https://scikit-learn.org/stable/modules/preprocessing.html\n",
      "Please also refer to the documentation for alternative solver options:\n",
      "    https://scikit-learn.org/stable/modules/linear_model.html#logistic-regression\n",
      "  n_iter_i = _check_optimize_result(\n",
      "/opt/conda/lib/python3.9/site-packages/sklearn/linear_model/_logistic.py:763: ConvergenceWarning: lbfgs failed to converge (status=1):\n",
      "STOP: TOTAL NO. of ITERATIONS REACHED LIMIT.\n",
      "\n",
      "Increase the number of iterations (max_iter) or scale the data as shown in:\n",
      "    https://scikit-learn.org/stable/modules/preprocessing.html\n",
      "Please also refer to the documentation for alternative solver options:\n",
      "    https://scikit-learn.org/stable/modules/linear_model.html#logistic-regression\n",
      "  n_iter_i = _check_optimize_result(\n",
      "/opt/conda/lib/python3.9/site-packages/sklearn/linear_model/_logistic.py:763: ConvergenceWarning: lbfgs failed to converge (status=1):\n",
      "STOP: TOTAL NO. of ITERATIONS REACHED LIMIT.\n",
      "\n",
      "Increase the number of iterations (max_iter) or scale the data as shown in:\n",
      "    https://scikit-learn.org/stable/modules/preprocessing.html\n",
      "Please also refer to the documentation for alternative solver options:\n",
      "    https://scikit-learn.org/stable/modules/linear_model.html#logistic-regression\n",
      "  n_iter_i = _check_optimize_result(\n",
      "/opt/conda/lib/python3.9/site-packages/sklearn/linear_model/_logistic.py:763: ConvergenceWarning: lbfgs failed to converge (status=1):\n",
      "STOP: TOTAL NO. of ITERATIONS REACHED LIMIT.\n",
      "\n",
      "Increase the number of iterations (max_iter) or scale the data as shown in:\n",
      "    https://scikit-learn.org/stable/modules/preprocessing.html\n",
      "Please also refer to the documentation for alternative solver options:\n",
      "    https://scikit-learn.org/stable/modules/linear_model.html#logistic-regression\n",
      "  n_iter_i = _check_optimize_result(\n",
      "/opt/conda/lib/python3.9/site-packages/sklearn/linear_model/_logistic.py:763: ConvergenceWarning: lbfgs failed to converge (status=1):\n",
      "STOP: TOTAL NO. of ITERATIONS REACHED LIMIT.\n",
      "\n",
      "Increase the number of iterations (max_iter) or scale the data as shown in:\n",
      "    https://scikit-learn.org/stable/modules/preprocessing.html\n",
      "Please also refer to the documentation for alternative solver options:\n",
      "    https://scikit-learn.org/stable/modules/linear_model.html#logistic-regression\n",
      "  n_iter_i = _check_optimize_result(\n",
      "/opt/conda/lib/python3.9/site-packages/sklearn/linear_model/_logistic.py:763: ConvergenceWarning: lbfgs failed to converge (status=1):\n",
      "STOP: TOTAL NO. of ITERATIONS REACHED LIMIT.\n",
      "\n",
      "Increase the number of iterations (max_iter) or scale the data as shown in:\n",
      "    https://scikit-learn.org/stable/modules/preprocessing.html\n",
      "Please also refer to the documentation for alternative solver options:\n",
      "    https://scikit-learn.org/stable/modules/linear_model.html#logistic-regression\n",
      "  n_iter_i = _check_optimize_result(\n",
      "/opt/conda/lib/python3.9/site-packages/sklearn/linear_model/_logistic.py:763: ConvergenceWarning: lbfgs failed to converge (status=1):\n",
      "STOP: TOTAL NO. of ITERATIONS REACHED LIMIT.\n",
      "\n",
      "Increase the number of iterations (max_iter) or scale the data as shown in:\n",
      "    https://scikit-learn.org/stable/modules/preprocessing.html\n",
      "Please also refer to the documentation for alternative solver options:\n",
      "    https://scikit-learn.org/stable/modules/linear_model.html#logistic-regression\n",
      "  n_iter_i = _check_optimize_result(\n",
      "/opt/conda/lib/python3.9/site-packages/sklearn/linear_model/_logistic.py:763: ConvergenceWarning: lbfgs failed to converge (status=1):\n",
      "STOP: TOTAL NO. of ITERATIONS REACHED LIMIT.\n",
      "\n",
      "Increase the number of iterations (max_iter) or scale the data as shown in:\n",
      "    https://scikit-learn.org/stable/modules/preprocessing.html\n",
      "Please also refer to the documentation for alternative solver options:\n",
      "    https://scikit-learn.org/stable/modules/linear_model.html#logistic-regression\n",
      "  n_iter_i = _check_optimize_result(\n",
      "/opt/conda/lib/python3.9/site-packages/sklearn/linear_model/_logistic.py:763: ConvergenceWarning: lbfgs failed to converge (status=1):\n",
      "STOP: TOTAL NO. of ITERATIONS REACHED LIMIT.\n",
      "\n",
      "Increase the number of iterations (max_iter) or scale the data as shown in:\n",
      "    https://scikit-learn.org/stable/modules/preprocessing.html\n",
      "Please also refer to the documentation for alternative solver options:\n",
      "    https://scikit-learn.org/stable/modules/linear_model.html#logistic-regression\n",
      "  n_iter_i = _check_optimize_result(\n",
      "/opt/conda/lib/python3.9/site-packages/sklearn/linear_model/_logistic.py:763: ConvergenceWarning: lbfgs failed to converge (status=1):\n",
      "STOP: TOTAL NO. of ITERATIONS REACHED LIMIT.\n",
      "\n",
      "Increase the number of iterations (max_iter) or scale the data as shown in:\n",
      "    https://scikit-learn.org/stable/modules/preprocessing.html\n",
      "Please also refer to the documentation for alternative solver options:\n",
      "    https://scikit-learn.org/stable/modules/linear_model.html#logistic-regression\n",
      "  n_iter_i = _check_optimize_result(\n",
      "/opt/conda/lib/python3.9/site-packages/sklearn/linear_model/_logistic.py:763: ConvergenceWarning: lbfgs failed to converge (status=1):\n",
      "STOP: TOTAL NO. of ITERATIONS REACHED LIMIT.\n",
      "\n",
      "Increase the number of iterations (max_iter) or scale the data as shown in:\n",
      "    https://scikit-learn.org/stable/modules/preprocessing.html\n",
      "Please also refer to the documentation for alternative solver options:\n",
      "    https://scikit-learn.org/stable/modules/linear_model.html#logistic-regression\n",
      "  n_iter_i = _check_optimize_result(\n",
      "/opt/conda/lib/python3.9/site-packages/sklearn/linear_model/_logistic.py:763: ConvergenceWarning: lbfgs failed to converge (status=1):\n",
      "STOP: TOTAL NO. of ITERATIONS REACHED LIMIT.\n",
      "\n",
      "Increase the number of iterations (max_iter) or scale the data as shown in:\n",
      "    https://scikit-learn.org/stable/modules/preprocessing.html\n",
      "Please also refer to the documentation for alternative solver options:\n",
      "    https://scikit-learn.org/stable/modules/linear_model.html#logistic-regression\n",
      "  n_iter_i = _check_optimize_result(\n",
      "/opt/conda/lib/python3.9/site-packages/sklearn/linear_model/_logistic.py:763: ConvergenceWarning: lbfgs failed to converge (status=1):\n",
      "STOP: TOTAL NO. of ITERATIONS REACHED LIMIT.\n",
      "\n",
      "Increase the number of iterations (max_iter) or scale the data as shown in:\n",
      "    https://scikit-learn.org/stable/modules/preprocessing.html\n",
      "Please also refer to the documentation for alternative solver options:\n",
      "    https://scikit-learn.org/stable/modules/linear_model.html#logistic-regression\n",
      "  n_iter_i = _check_optimize_result(\n",
      "/opt/conda/lib/python3.9/site-packages/sklearn/linear_model/_logistic.py:763: ConvergenceWarning: lbfgs failed to converge (status=1):\n",
      "STOP: TOTAL NO. of ITERATIONS REACHED LIMIT.\n",
      "\n",
      "Increase the number of iterations (max_iter) or scale the data as shown in:\n",
      "    https://scikit-learn.org/stable/modules/preprocessing.html\n",
      "Please also refer to the documentation for alternative solver options:\n",
      "    https://scikit-learn.org/stable/modules/linear_model.html#logistic-regression\n",
      "  n_iter_i = _check_optimize_result(\n",
      "/opt/conda/lib/python3.9/site-packages/sklearn/linear_model/_logistic.py:763: ConvergenceWarning: lbfgs failed to converge (status=1):\n",
      "STOP: TOTAL NO. of ITERATIONS REACHED LIMIT.\n",
      "\n",
      "Increase the number of iterations (max_iter) or scale the data as shown in:\n",
      "    https://scikit-learn.org/stable/modules/preprocessing.html\n",
      "Please also refer to the documentation for alternative solver options:\n",
      "    https://scikit-learn.org/stable/modules/linear_model.html#logistic-regression\n",
      "  n_iter_i = _check_optimize_result(\n",
      "/opt/conda/lib/python3.9/site-packages/sklearn/linear_model/_logistic.py:763: ConvergenceWarning: lbfgs failed to converge (status=1):\n",
      "STOP: TOTAL NO. of ITERATIONS REACHED LIMIT.\n",
      "\n",
      "Increase the number of iterations (max_iter) or scale the data as shown in:\n",
      "    https://scikit-learn.org/stable/modules/preprocessing.html\n",
      "Please also refer to the documentation for alternative solver options:\n",
      "    https://scikit-learn.org/stable/modules/linear_model.html#logistic-regression\n",
      "  n_iter_i = _check_optimize_result(\n",
      "/opt/conda/lib/python3.9/site-packages/sklearn/linear_model/_logistic.py:763: ConvergenceWarning: lbfgs failed to converge (status=1):\n",
      "STOP: TOTAL NO. of ITERATIONS REACHED LIMIT.\n",
      "\n",
      "Increase the number of iterations (max_iter) or scale the data as shown in:\n",
      "    https://scikit-learn.org/stable/modules/preprocessing.html\n",
      "Please also refer to the documentation for alternative solver options:\n",
      "    https://scikit-learn.org/stable/modules/linear_model.html#logistic-regression\n",
      "  n_iter_i = _check_optimize_result(\n",
      "/opt/conda/lib/python3.9/site-packages/sklearn/linear_model/_logistic.py:763: ConvergenceWarning: lbfgs failed to converge (status=1):\n",
      "STOP: TOTAL NO. of ITERATIONS REACHED LIMIT.\n",
      "\n",
      "Increase the number of iterations (max_iter) or scale the data as shown in:\n",
      "    https://scikit-learn.org/stable/modules/preprocessing.html\n",
      "Please also refer to the documentation for alternative solver options:\n",
      "    https://scikit-learn.org/stable/modules/linear_model.html#logistic-regression\n",
      "  n_iter_i = _check_optimize_result(\n",
      "/opt/conda/lib/python3.9/site-packages/sklearn/linear_model/_logistic.py:763: ConvergenceWarning: lbfgs failed to converge (status=1):\n",
      "STOP: TOTAL NO. of ITERATIONS REACHED LIMIT.\n",
      "\n",
      "Increase the number of iterations (max_iter) or scale the data as shown in:\n",
      "    https://scikit-learn.org/stable/modules/preprocessing.html\n",
      "Please also refer to the documentation for alternative solver options:\n",
      "    https://scikit-learn.org/stable/modules/linear_model.html#logistic-regression\n",
      "  n_iter_i = _check_optimize_result(\n",
      "/opt/conda/lib/python3.9/site-packages/sklearn/linear_model/_logistic.py:763: ConvergenceWarning: lbfgs failed to converge (status=1):\n",
      "STOP: TOTAL NO. of ITERATIONS REACHED LIMIT.\n",
      "\n",
      "Increase the number of iterations (max_iter) or scale the data as shown in:\n",
      "    https://scikit-learn.org/stable/modules/preprocessing.html\n",
      "Please also refer to the documentation for alternative solver options:\n",
      "    https://scikit-learn.org/stable/modules/linear_model.html#logistic-regression\n",
      "  n_iter_i = _check_optimize_result(\n",
      "/opt/conda/lib/python3.9/site-packages/sklearn/linear_model/_logistic.py:763: ConvergenceWarning: lbfgs failed to converge (status=1):\n",
      "STOP: TOTAL NO. of ITERATIONS REACHED LIMIT.\n",
      "\n",
      "Increase the number of iterations (max_iter) or scale the data as shown in:\n",
      "    https://scikit-learn.org/stable/modules/preprocessing.html\n",
      "Please also refer to the documentation for alternative solver options:\n",
      "    https://scikit-learn.org/stable/modules/linear_model.html#logistic-regression\n",
      "  n_iter_i = _check_optimize_result(\n",
      "/opt/conda/lib/python3.9/site-packages/sklearn/linear_model/_logistic.py:763: ConvergenceWarning: lbfgs failed to converge (status=1):\n",
      "STOP: TOTAL NO. of ITERATIONS REACHED LIMIT.\n",
      "\n",
      "Increase the number of iterations (max_iter) or scale the data as shown in:\n",
      "    https://scikit-learn.org/stable/modules/preprocessing.html\n",
      "Please also refer to the documentation for alternative solver options:\n",
      "    https://scikit-learn.org/stable/modules/linear_model.html#logistic-regression\n",
      "  n_iter_i = _check_optimize_result(\n",
      "/opt/conda/lib/python3.9/site-packages/sklearn/linear_model/_logistic.py:763: ConvergenceWarning: lbfgs failed to converge (status=1):\n",
      "STOP: TOTAL NO. of ITERATIONS REACHED LIMIT.\n",
      "\n",
      "Increase the number of iterations (max_iter) or scale the data as shown in:\n",
      "    https://scikit-learn.org/stable/modules/preprocessing.html\n",
      "Please also refer to the documentation for alternative solver options:\n",
      "    https://scikit-learn.org/stable/modules/linear_model.html#logistic-regression\n",
      "  n_iter_i = _check_optimize_result(\n",
      "/opt/conda/lib/python3.9/site-packages/sklearn/linear_model/_logistic.py:763: ConvergenceWarning: lbfgs failed to converge (status=1):\n",
      "STOP: TOTAL NO. of ITERATIONS REACHED LIMIT.\n",
      "\n",
      "Increase the number of iterations (max_iter) or scale the data as shown in:\n",
      "    https://scikit-learn.org/stable/modules/preprocessing.html\n",
      "Please also refer to the documentation for alternative solver options:\n",
      "    https://scikit-learn.org/stable/modules/linear_model.html#logistic-regression\n",
      "  n_iter_i = _check_optimize_result(\n",
      "/opt/conda/lib/python3.9/site-packages/sklearn/linear_model/_logistic.py:763: ConvergenceWarning: lbfgs failed to converge (status=1):\n",
      "STOP: TOTAL NO. of ITERATIONS REACHED LIMIT.\n",
      "\n",
      "Increase the number of iterations (max_iter) or scale the data as shown in:\n",
      "    https://scikit-learn.org/stable/modules/preprocessing.html\n",
      "Please also refer to the documentation for alternative solver options:\n",
      "    https://scikit-learn.org/stable/modules/linear_model.html#logistic-regression\n",
      "  n_iter_i = _check_optimize_result(\n",
      "/opt/conda/lib/python3.9/site-packages/sklearn/linear_model/_logistic.py:763: ConvergenceWarning: lbfgs failed to converge (status=1):\n",
      "STOP: TOTAL NO. of ITERATIONS REACHED LIMIT.\n",
      "\n",
      "Increase the number of iterations (max_iter) or scale the data as shown in:\n",
      "    https://scikit-learn.org/stable/modules/preprocessing.html\n",
      "Please also refer to the documentation for alternative solver options:\n",
      "    https://scikit-learn.org/stable/modules/linear_model.html#logistic-regression\n",
      "  n_iter_i = _check_optimize_result(\n",
      "/opt/conda/lib/python3.9/site-packages/sklearn/linear_model/_logistic.py:763: ConvergenceWarning: lbfgs failed to converge (status=1):\n",
      "STOP: TOTAL NO. of ITERATIONS REACHED LIMIT.\n",
      "\n",
      "Increase the number of iterations (max_iter) or scale the data as shown in:\n",
      "    https://scikit-learn.org/stable/modules/preprocessing.html\n",
      "Please also refer to the documentation for alternative solver options:\n",
      "    https://scikit-learn.org/stable/modules/linear_model.html#logistic-regression\n",
      "  n_iter_i = _check_optimize_result(\n",
      "/opt/conda/lib/python3.9/site-packages/sklearn/linear_model/_logistic.py:763: ConvergenceWarning: lbfgs failed to converge (status=1):\n",
      "STOP: TOTAL NO. of ITERATIONS REACHED LIMIT.\n",
      "\n",
      "Increase the number of iterations (max_iter) or scale the data as shown in:\n",
      "    https://scikit-learn.org/stable/modules/preprocessing.html\n",
      "Please also refer to the documentation for alternative solver options:\n",
      "    https://scikit-learn.org/stable/modules/linear_model.html#logistic-regression\n",
      "  n_iter_i = _check_optimize_result(\n",
      "/opt/conda/lib/python3.9/site-packages/sklearn/linear_model/_logistic.py:763: ConvergenceWarning: lbfgs failed to converge (status=1):\n",
      "STOP: TOTAL NO. of ITERATIONS REACHED LIMIT.\n",
      "\n",
      "Increase the number of iterations (max_iter) or scale the data as shown in:\n",
      "    https://scikit-learn.org/stable/modules/preprocessing.html\n",
      "Please also refer to the documentation for alternative solver options:\n",
      "    https://scikit-learn.org/stable/modules/linear_model.html#logistic-regression\n",
      "  n_iter_i = _check_optimize_result(\n",
      "/opt/conda/lib/python3.9/site-packages/sklearn/linear_model/_logistic.py:763: ConvergenceWarning: lbfgs failed to converge (status=1):\n",
      "STOP: TOTAL NO. of ITERATIONS REACHED LIMIT.\n",
      "\n",
      "Increase the number of iterations (max_iter) or scale the data as shown in:\n",
      "    https://scikit-learn.org/stable/modules/preprocessing.html\n",
      "Please also refer to the documentation for alternative solver options:\n",
      "    https://scikit-learn.org/stable/modules/linear_model.html#logistic-regression\n",
      "  n_iter_i = _check_optimize_result(\n",
      "/opt/conda/lib/python3.9/site-packages/sklearn/linear_model/_logistic.py:763: ConvergenceWarning: lbfgs failed to converge (status=1):\n",
      "STOP: TOTAL NO. of ITERATIONS REACHED LIMIT.\n",
      "\n",
      "Increase the number of iterations (max_iter) or scale the data as shown in:\n",
      "    https://scikit-learn.org/stable/modules/preprocessing.html\n",
      "Please also refer to the documentation for alternative solver options:\n",
      "    https://scikit-learn.org/stable/modules/linear_model.html#logistic-regression\n",
      "  n_iter_i = _check_optimize_result(\n",
      "/opt/conda/lib/python3.9/site-packages/sklearn/linear_model/_logistic.py:763: ConvergenceWarning: lbfgs failed to converge (status=1):\n",
      "STOP: TOTAL NO. of ITERATIONS REACHED LIMIT.\n",
      "\n",
      "Increase the number of iterations (max_iter) or scale the data as shown in:\n",
      "    https://scikit-learn.org/stable/modules/preprocessing.html\n",
      "Please also refer to the documentation for alternative solver options:\n",
      "    https://scikit-learn.org/stable/modules/linear_model.html#logistic-regression\n",
      "  n_iter_i = _check_optimize_result(\n",
      "/opt/conda/lib/python3.9/site-packages/sklearn/linear_model/_logistic.py:763: ConvergenceWarning: lbfgs failed to converge (status=1):\n",
      "STOP: TOTAL NO. of ITERATIONS REACHED LIMIT.\n",
      "\n",
      "Increase the number of iterations (max_iter) or scale the data as shown in:\n",
      "    https://scikit-learn.org/stable/modules/preprocessing.html\n",
      "Please also refer to the documentation for alternative solver options:\n",
      "    https://scikit-learn.org/stable/modules/linear_model.html#logistic-regression\n",
      "  n_iter_i = _check_optimize_result(\n",
      "/opt/conda/lib/python3.9/site-packages/sklearn/linear_model/_logistic.py:763: ConvergenceWarning: lbfgs failed to converge (status=1):\n",
      "STOP: TOTAL NO. of ITERATIONS REACHED LIMIT.\n",
      "\n",
      "Increase the number of iterations (max_iter) or scale the data as shown in:\n",
      "    https://scikit-learn.org/stable/modules/preprocessing.html\n",
      "Please also refer to the documentation for alternative solver options:\n",
      "    https://scikit-learn.org/stable/modules/linear_model.html#logistic-regression\n",
      "  n_iter_i = _check_optimize_result(\n",
      "/opt/conda/lib/python3.9/site-packages/sklearn/linear_model/_logistic.py:763: ConvergenceWarning: lbfgs failed to converge (status=1):\n",
      "STOP: TOTAL NO. of ITERATIONS REACHED LIMIT.\n",
      "\n",
      "Increase the number of iterations (max_iter) or scale the data as shown in:\n",
      "    https://scikit-learn.org/stable/modules/preprocessing.html\n",
      "Please also refer to the documentation for alternative solver options:\n",
      "    https://scikit-learn.org/stable/modules/linear_model.html#logistic-regression\n",
      "  n_iter_i = _check_optimize_result(\n",
      "/opt/conda/lib/python3.9/site-packages/sklearn/linear_model/_logistic.py:763: ConvergenceWarning: lbfgs failed to converge (status=1):\n",
      "STOP: TOTAL NO. of ITERATIONS REACHED LIMIT.\n",
      "\n",
      "Increase the number of iterations (max_iter) or scale the data as shown in:\n",
      "    https://scikit-learn.org/stable/modules/preprocessing.html\n",
      "Please also refer to the documentation for alternative solver options:\n",
      "    https://scikit-learn.org/stable/modules/linear_model.html#logistic-regression\n",
      "  n_iter_i = _check_optimize_result(\n",
      "/opt/conda/lib/python3.9/site-packages/sklearn/linear_model/_logistic.py:763: ConvergenceWarning: lbfgs failed to converge (status=1):\n",
      "STOP: TOTAL NO. of ITERATIONS REACHED LIMIT.\n",
      "\n",
      "Increase the number of iterations (max_iter) or scale the data as shown in:\n",
      "    https://scikit-learn.org/stable/modules/preprocessing.html\n",
      "Please also refer to the documentation for alternative solver options:\n",
      "    https://scikit-learn.org/stable/modules/linear_model.html#logistic-regression\n",
      "  n_iter_i = _check_optimize_result(\n",
      "/opt/conda/lib/python3.9/site-packages/sklearn/linear_model/_logistic.py:763: ConvergenceWarning: lbfgs failed to converge (status=1):\n",
      "STOP: TOTAL NO. of ITERATIONS REACHED LIMIT.\n",
      "\n",
      "Increase the number of iterations (max_iter) or scale the data as shown in:\n",
      "    https://scikit-learn.org/stable/modules/preprocessing.html\n",
      "Please also refer to the documentation for alternative solver options:\n",
      "    https://scikit-learn.org/stable/modules/linear_model.html#logistic-regression\n",
      "  n_iter_i = _check_optimize_result(\n",
      "/opt/conda/lib/python3.9/site-packages/sklearn/linear_model/_logistic.py:763: ConvergenceWarning: lbfgs failed to converge (status=1):\n",
      "STOP: TOTAL NO. of ITERATIONS REACHED LIMIT.\n",
      "\n",
      "Increase the number of iterations (max_iter) or scale the data as shown in:\n",
      "    https://scikit-learn.org/stable/modules/preprocessing.html\n",
      "Please also refer to the documentation for alternative solver options:\n",
      "    https://scikit-learn.org/stable/modules/linear_model.html#logistic-regression\n",
      "  n_iter_i = _check_optimize_result(\n",
      "/opt/conda/lib/python3.9/site-packages/sklearn/linear_model/_logistic.py:763: ConvergenceWarning: lbfgs failed to converge (status=1):\n",
      "STOP: TOTAL NO. of ITERATIONS REACHED LIMIT.\n",
      "\n",
      "Increase the number of iterations (max_iter) or scale the data as shown in:\n",
      "    https://scikit-learn.org/stable/modules/preprocessing.html\n",
      "Please also refer to the documentation for alternative solver options:\n",
      "    https://scikit-learn.org/stable/modules/linear_model.html#logistic-regression\n",
      "  n_iter_i = _check_optimize_result(\n",
      "/opt/conda/lib/python3.9/site-packages/sklearn/linear_model/_logistic.py:763: ConvergenceWarning: lbfgs failed to converge (status=1):\n",
      "STOP: TOTAL NO. of ITERATIONS REACHED LIMIT.\n",
      "\n",
      "Increase the number of iterations (max_iter) or scale the data as shown in:\n",
      "    https://scikit-learn.org/stable/modules/preprocessing.html\n",
      "Please also refer to the documentation for alternative solver options:\n",
      "    https://scikit-learn.org/stable/modules/linear_model.html#logistic-regression\n",
      "  n_iter_i = _check_optimize_result(\n",
      "/opt/conda/lib/python3.9/site-packages/sklearn/linear_model/_logistic.py:763: ConvergenceWarning: lbfgs failed to converge (status=1):\n",
      "STOP: TOTAL NO. of ITERATIONS REACHED LIMIT.\n",
      "\n",
      "Increase the number of iterations (max_iter) or scale the data as shown in:\n",
      "    https://scikit-learn.org/stable/modules/preprocessing.html\n",
      "Please also refer to the documentation for alternative solver options:\n",
      "    https://scikit-learn.org/stable/modules/linear_model.html#logistic-regression\n",
      "  n_iter_i = _check_optimize_result(\n",
      "/opt/conda/lib/python3.9/site-packages/sklearn/linear_model/_logistic.py:763: ConvergenceWarning: lbfgs failed to converge (status=1):\n",
      "STOP: TOTAL NO. of ITERATIONS REACHED LIMIT.\n",
      "\n",
      "Increase the number of iterations (max_iter) or scale the data as shown in:\n",
      "    https://scikit-learn.org/stable/modules/preprocessing.html\n",
      "Please also refer to the documentation for alternative solver options:\n",
      "    https://scikit-learn.org/stable/modules/linear_model.html#logistic-regression\n",
      "  n_iter_i = _check_optimize_result(\n",
      "/opt/conda/lib/python3.9/site-packages/sklearn/linear_model/_logistic.py:763: ConvergenceWarning: lbfgs failed to converge (status=1):\n",
      "STOP: TOTAL NO. of ITERATIONS REACHED LIMIT.\n",
      "\n",
      "Increase the number of iterations (max_iter) or scale the data as shown in:\n",
      "    https://scikit-learn.org/stable/modules/preprocessing.html\n",
      "Please also refer to the documentation for alternative solver options:\n",
      "    https://scikit-learn.org/stable/modules/linear_model.html#logistic-regression\n",
      "  n_iter_i = _check_optimize_result(\n",
      "/opt/conda/lib/python3.9/site-packages/sklearn/linear_model/_logistic.py:763: ConvergenceWarning: lbfgs failed to converge (status=1):\n",
      "STOP: TOTAL NO. of ITERATIONS REACHED LIMIT.\n",
      "\n",
      "Increase the number of iterations (max_iter) or scale the data as shown in:\n",
      "    https://scikit-learn.org/stable/modules/preprocessing.html\n",
      "Please also refer to the documentation for alternative solver options:\n",
      "    https://scikit-learn.org/stable/modules/linear_model.html#logistic-regression\n",
      "  n_iter_i = _check_optimize_result(\n",
      "/opt/conda/lib/python3.9/site-packages/sklearn/linear_model/_logistic.py:763: ConvergenceWarning: lbfgs failed to converge (status=1):\n",
      "STOP: TOTAL NO. of ITERATIONS REACHED LIMIT.\n",
      "\n",
      "Increase the number of iterations (max_iter) or scale the data as shown in:\n",
      "    https://scikit-learn.org/stable/modules/preprocessing.html\n",
      "Please also refer to the documentation for alternative solver options:\n",
      "    https://scikit-learn.org/stable/modules/linear_model.html#logistic-regression\n",
      "  n_iter_i = _check_optimize_result(\n",
      "/opt/conda/lib/python3.9/site-packages/sklearn/linear_model/_logistic.py:763: ConvergenceWarning: lbfgs failed to converge (status=1):\n",
      "STOP: TOTAL NO. of ITERATIONS REACHED LIMIT.\n",
      "\n",
      "Increase the number of iterations (max_iter) or scale the data as shown in:\n",
      "    https://scikit-learn.org/stable/modules/preprocessing.html\n",
      "Please also refer to the documentation for alternative solver options:\n",
      "    https://scikit-learn.org/stable/modules/linear_model.html#logistic-regression\n",
      "  n_iter_i = _check_optimize_result(\n",
      "/opt/conda/lib/python3.9/site-packages/sklearn/linear_model/_logistic.py:763: ConvergenceWarning: lbfgs failed to converge (status=1):\n",
      "STOP: TOTAL NO. of ITERATIONS REACHED LIMIT.\n",
      "\n",
      "Increase the number of iterations (max_iter) or scale the data as shown in:\n",
      "    https://scikit-learn.org/stable/modules/preprocessing.html\n",
      "Please also refer to the documentation for alternative solver options:\n",
      "    https://scikit-learn.org/stable/modules/linear_model.html#logistic-regression\n",
      "  n_iter_i = _check_optimize_result(\n",
      "/opt/conda/lib/python3.9/site-packages/sklearn/linear_model/_logistic.py:763: ConvergenceWarning: lbfgs failed to converge (status=1):\n",
      "STOP: TOTAL NO. of ITERATIONS REACHED LIMIT.\n",
      "\n",
      "Increase the number of iterations (max_iter) or scale the data as shown in:\n",
      "    https://scikit-learn.org/stable/modules/preprocessing.html\n",
      "Please also refer to the documentation for alternative solver options:\n",
      "    https://scikit-learn.org/stable/modules/linear_model.html#logistic-regression\n",
      "  n_iter_i = _check_optimize_result(\n",
      "/opt/conda/lib/python3.9/site-packages/sklearn/linear_model/_logistic.py:763: ConvergenceWarning: lbfgs failed to converge (status=1):\n",
      "STOP: TOTAL NO. of ITERATIONS REACHED LIMIT.\n",
      "\n",
      "Increase the number of iterations (max_iter) or scale the data as shown in:\n",
      "    https://scikit-learn.org/stable/modules/preprocessing.html\n",
      "Please also refer to the documentation for alternative solver options:\n",
      "    https://scikit-learn.org/stable/modules/linear_model.html#logistic-regression\n",
      "  n_iter_i = _check_optimize_result(\n",
      "/opt/conda/lib/python3.9/site-packages/sklearn/linear_model/_logistic.py:763: ConvergenceWarning: lbfgs failed to converge (status=1):\n",
      "STOP: TOTAL NO. of ITERATIONS REACHED LIMIT.\n",
      "\n",
      "Increase the number of iterations (max_iter) or scale the data as shown in:\n",
      "    https://scikit-learn.org/stable/modules/preprocessing.html\n",
      "Please also refer to the documentation for alternative solver options:\n",
      "    https://scikit-learn.org/stable/modules/linear_model.html#logistic-regression\n",
      "  n_iter_i = _check_optimize_result(\n",
      "/opt/conda/lib/python3.9/site-packages/sklearn/linear_model/_logistic.py:763: ConvergenceWarning: lbfgs failed to converge (status=1):\n",
      "STOP: TOTAL NO. of ITERATIONS REACHED LIMIT.\n",
      "\n",
      "Increase the number of iterations (max_iter) or scale the data as shown in:\n",
      "    https://scikit-learn.org/stable/modules/preprocessing.html\n",
      "Please also refer to the documentation for alternative solver options:\n",
      "    https://scikit-learn.org/stable/modules/linear_model.html#logistic-regression\n",
      "  n_iter_i = _check_optimize_result(\n",
      "/opt/conda/lib/python3.9/site-packages/sklearn/linear_model/_logistic.py:763: ConvergenceWarning: lbfgs failed to converge (status=1):\n",
      "STOP: TOTAL NO. of ITERATIONS REACHED LIMIT.\n",
      "\n",
      "Increase the number of iterations (max_iter) or scale the data as shown in:\n",
      "    https://scikit-learn.org/stable/modules/preprocessing.html\n",
      "Please also refer to the documentation for alternative solver options:\n",
      "    https://scikit-learn.org/stable/modules/linear_model.html#logistic-regression\n",
      "  n_iter_i = _check_optimize_result(\n",
      "/opt/conda/lib/python3.9/site-packages/sklearn/linear_model/_logistic.py:763: ConvergenceWarning: lbfgs failed to converge (status=1):\n",
      "STOP: TOTAL NO. of ITERATIONS REACHED LIMIT.\n",
      "\n",
      "Increase the number of iterations (max_iter) or scale the data as shown in:\n",
      "    https://scikit-learn.org/stable/modules/preprocessing.html\n",
      "Please also refer to the documentation for alternative solver options:\n",
      "    https://scikit-learn.org/stable/modules/linear_model.html#logistic-regression\n",
      "  n_iter_i = _check_optimize_result(\n",
      "/opt/conda/lib/python3.9/site-packages/sklearn/linear_model/_logistic.py:763: ConvergenceWarning: lbfgs failed to converge (status=1):\n",
      "STOP: TOTAL NO. of ITERATIONS REACHED LIMIT.\n",
      "\n",
      "Increase the number of iterations (max_iter) or scale the data as shown in:\n",
      "    https://scikit-learn.org/stable/modules/preprocessing.html\n",
      "Please also refer to the documentation for alternative solver options:\n",
      "    https://scikit-learn.org/stable/modules/linear_model.html#logistic-regression\n",
      "  n_iter_i = _check_optimize_result(\n",
      "/opt/conda/lib/python3.9/site-packages/sklearn/linear_model/_logistic.py:763: ConvergenceWarning: lbfgs failed to converge (status=1):\n",
      "STOP: TOTAL NO. of ITERATIONS REACHED LIMIT.\n",
      "\n",
      "Increase the number of iterations (max_iter) or scale the data as shown in:\n",
      "    https://scikit-learn.org/stable/modules/preprocessing.html\n",
      "Please also refer to the documentation for alternative solver options:\n",
      "    https://scikit-learn.org/stable/modules/linear_model.html#logistic-regression\n",
      "  n_iter_i = _check_optimize_result(\n",
      "/opt/conda/lib/python3.9/site-packages/sklearn/linear_model/_logistic.py:763: ConvergenceWarning: lbfgs failed to converge (status=1):\n",
      "STOP: TOTAL NO. of ITERATIONS REACHED LIMIT.\n",
      "\n",
      "Increase the number of iterations (max_iter) or scale the data as shown in:\n",
      "    https://scikit-learn.org/stable/modules/preprocessing.html\n",
      "Please also refer to the documentation for alternative solver options:\n",
      "    https://scikit-learn.org/stable/modules/linear_model.html#logistic-regression\n",
      "  n_iter_i = _check_optimize_result(\n",
      "/opt/conda/lib/python3.9/site-packages/sklearn/linear_model/_logistic.py:763: ConvergenceWarning: lbfgs failed to converge (status=1):\n",
      "STOP: TOTAL NO. of ITERATIONS REACHED LIMIT.\n",
      "\n",
      "Increase the number of iterations (max_iter) or scale the data as shown in:\n",
      "    https://scikit-learn.org/stable/modules/preprocessing.html\n",
      "Please also refer to the documentation for alternative solver options:\n",
      "    https://scikit-learn.org/stable/modules/linear_model.html#logistic-regression\n",
      "  n_iter_i = _check_optimize_result(\n",
      "/opt/conda/lib/python3.9/site-packages/sklearn/linear_model/_logistic.py:763: ConvergenceWarning: lbfgs failed to converge (status=1):\n",
      "STOP: TOTAL NO. of ITERATIONS REACHED LIMIT.\n",
      "\n",
      "Increase the number of iterations (max_iter) or scale the data as shown in:\n",
      "    https://scikit-learn.org/stable/modules/preprocessing.html\n",
      "Please also refer to the documentation for alternative solver options:\n",
      "    https://scikit-learn.org/stable/modules/linear_model.html#logistic-regression\n",
      "  n_iter_i = _check_optimize_result(\n",
      "/opt/conda/lib/python3.9/site-packages/sklearn/linear_model/_logistic.py:763: ConvergenceWarning: lbfgs failed to converge (status=1):\n",
      "STOP: TOTAL NO. of ITERATIONS REACHED LIMIT.\n",
      "\n",
      "Increase the number of iterations (max_iter) or scale the data as shown in:\n",
      "    https://scikit-learn.org/stable/modules/preprocessing.html\n",
      "Please also refer to the documentation for alternative solver options:\n",
      "    https://scikit-learn.org/stable/modules/linear_model.html#logistic-regression\n",
      "  n_iter_i = _check_optimize_result(\n",
      "/opt/conda/lib/python3.9/site-packages/sklearn/linear_model/_logistic.py:763: ConvergenceWarning: lbfgs failed to converge (status=1):\n",
      "STOP: TOTAL NO. of ITERATIONS REACHED LIMIT.\n",
      "\n",
      "Increase the number of iterations (max_iter) or scale the data as shown in:\n",
      "    https://scikit-learn.org/stable/modules/preprocessing.html\n",
      "Please also refer to the documentation for alternative solver options:\n",
      "    https://scikit-learn.org/stable/modules/linear_model.html#logistic-regression\n",
      "  n_iter_i = _check_optimize_result(\n",
      "/opt/conda/lib/python3.9/site-packages/sklearn/linear_model/_logistic.py:763: ConvergenceWarning: lbfgs failed to converge (status=1):\n",
      "STOP: TOTAL NO. of ITERATIONS REACHED LIMIT.\n",
      "\n",
      "Increase the number of iterations (max_iter) or scale the data as shown in:\n",
      "    https://scikit-learn.org/stable/modules/preprocessing.html\n",
      "Please also refer to the documentation for alternative solver options:\n",
      "    https://scikit-learn.org/stable/modules/linear_model.html#logistic-regression\n",
      "  n_iter_i = _check_optimize_result(\n",
      "/opt/conda/lib/python3.9/site-packages/sklearn/linear_model/_logistic.py:763: ConvergenceWarning: lbfgs failed to converge (status=1):\n",
      "STOP: TOTAL NO. of ITERATIONS REACHED LIMIT.\n",
      "\n",
      "Increase the number of iterations (max_iter) or scale the data as shown in:\n",
      "    https://scikit-learn.org/stable/modules/preprocessing.html\n",
      "Please also refer to the documentation for alternative solver options:\n",
      "    https://scikit-learn.org/stable/modules/linear_model.html#logistic-regression\n",
      "  n_iter_i = _check_optimize_result(\n",
      "/opt/conda/lib/python3.9/site-packages/sklearn/linear_model/_logistic.py:763: ConvergenceWarning: lbfgs failed to converge (status=1):\n",
      "STOP: TOTAL NO. of ITERATIONS REACHED LIMIT.\n",
      "\n",
      "Increase the number of iterations (max_iter) or scale the data as shown in:\n",
      "    https://scikit-learn.org/stable/modules/preprocessing.html\n",
      "Please also refer to the documentation for alternative solver options:\n",
      "    https://scikit-learn.org/stable/modules/linear_model.html#logistic-regression\n",
      "  n_iter_i = _check_optimize_result(\n",
      "/opt/conda/lib/python3.9/site-packages/sklearn/linear_model/_logistic.py:763: ConvergenceWarning: lbfgs failed to converge (status=1):\n",
      "STOP: TOTAL NO. of ITERATIONS REACHED LIMIT.\n",
      "\n",
      "Increase the number of iterations (max_iter) or scale the data as shown in:\n",
      "    https://scikit-learn.org/stable/modules/preprocessing.html\n",
      "Please also refer to the documentation for alternative solver options:\n",
      "    https://scikit-learn.org/stable/modules/linear_model.html#logistic-regression\n",
      "  n_iter_i = _check_optimize_result(\n",
      "/opt/conda/lib/python3.9/site-packages/sklearn/linear_model/_logistic.py:763: ConvergenceWarning: lbfgs failed to converge (status=1):\n",
      "STOP: TOTAL NO. of ITERATIONS REACHED LIMIT.\n",
      "\n",
      "Increase the number of iterations (max_iter) or scale the data as shown in:\n",
      "    https://scikit-learn.org/stable/modules/preprocessing.html\n",
      "Please also refer to the documentation for alternative solver options:\n",
      "    https://scikit-learn.org/stable/modules/linear_model.html#logistic-regression\n",
      "  n_iter_i = _check_optimize_result(\n",
      "/opt/conda/lib/python3.9/site-packages/sklearn/linear_model/_logistic.py:763: ConvergenceWarning: lbfgs failed to converge (status=1):\n",
      "STOP: TOTAL NO. of ITERATIONS REACHED LIMIT.\n",
      "\n",
      "Increase the number of iterations (max_iter) or scale the data as shown in:\n",
      "    https://scikit-learn.org/stable/modules/preprocessing.html\n",
      "Please also refer to the documentation for alternative solver options:\n",
      "    https://scikit-learn.org/stable/modules/linear_model.html#logistic-regression\n",
      "  n_iter_i = _check_optimize_result(\n",
      "/opt/conda/lib/python3.9/site-packages/sklearn/linear_model/_logistic.py:763: ConvergenceWarning: lbfgs failed to converge (status=1):\n",
      "STOP: TOTAL NO. of ITERATIONS REACHED LIMIT.\n",
      "\n",
      "Increase the number of iterations (max_iter) or scale the data as shown in:\n",
      "    https://scikit-learn.org/stable/modules/preprocessing.html\n",
      "Please also refer to the documentation for alternative solver options:\n",
      "    https://scikit-learn.org/stable/modules/linear_model.html#logistic-regression\n",
      "  n_iter_i = _check_optimize_result(\n",
      "/opt/conda/lib/python3.9/site-packages/sklearn/linear_model/_logistic.py:763: ConvergenceWarning: lbfgs failed to converge (status=1):\n",
      "STOP: TOTAL NO. of ITERATIONS REACHED LIMIT.\n",
      "\n",
      "Increase the number of iterations (max_iter) or scale the data as shown in:\n",
      "    https://scikit-learn.org/stable/modules/preprocessing.html\n",
      "Please also refer to the documentation for alternative solver options:\n",
      "    https://scikit-learn.org/stable/modules/linear_model.html#logistic-regression\n",
      "  n_iter_i = _check_optimize_result(\n",
      "/opt/conda/lib/python3.9/site-packages/sklearn/linear_model/_logistic.py:763: ConvergenceWarning: lbfgs failed to converge (status=1):\n",
      "STOP: TOTAL NO. of ITERATIONS REACHED LIMIT.\n",
      "\n",
      "Increase the number of iterations (max_iter) or scale the data as shown in:\n",
      "    https://scikit-learn.org/stable/modules/preprocessing.html\n",
      "Please also refer to the documentation for alternative solver options:\n",
      "    https://scikit-learn.org/stable/modules/linear_model.html#logistic-regression\n",
      "  n_iter_i = _check_optimize_result(\n",
      "/opt/conda/lib/python3.9/site-packages/sklearn/linear_model/_logistic.py:763: ConvergenceWarning: lbfgs failed to converge (status=1):\n",
      "STOP: TOTAL NO. of ITERATIONS REACHED LIMIT.\n",
      "\n",
      "Increase the number of iterations (max_iter) or scale the data as shown in:\n",
      "    https://scikit-learn.org/stable/modules/preprocessing.html\n",
      "Please also refer to the documentation for alternative solver options:\n",
      "    https://scikit-learn.org/stable/modules/linear_model.html#logistic-regression\n",
      "  n_iter_i = _check_optimize_result(\n",
      "/opt/conda/lib/python3.9/site-packages/sklearn/linear_model/_logistic.py:763: ConvergenceWarning: lbfgs failed to converge (status=1):\n",
      "STOP: TOTAL NO. of ITERATIONS REACHED LIMIT.\n",
      "\n",
      "Increase the number of iterations (max_iter) or scale the data as shown in:\n",
      "    https://scikit-learn.org/stable/modules/preprocessing.html\n",
      "Please also refer to the documentation for alternative solver options:\n",
      "    https://scikit-learn.org/stable/modules/linear_model.html#logistic-regression\n",
      "  n_iter_i = _check_optimize_result(\n",
      "/opt/conda/lib/python3.9/site-packages/sklearn/linear_model/_logistic.py:763: ConvergenceWarning: lbfgs failed to converge (status=1):\n",
      "STOP: TOTAL NO. of ITERATIONS REACHED LIMIT.\n",
      "\n",
      "Increase the number of iterations (max_iter) or scale the data as shown in:\n",
      "    https://scikit-learn.org/stable/modules/preprocessing.html\n",
      "Please also refer to the documentation for alternative solver options:\n",
      "    https://scikit-learn.org/stable/modules/linear_model.html#logistic-regression\n",
      "  n_iter_i = _check_optimize_result(\n",
      "/opt/conda/lib/python3.9/site-packages/sklearn/linear_model/_logistic.py:763: ConvergenceWarning: lbfgs failed to converge (status=1):\n",
      "STOP: TOTAL NO. of ITERATIONS REACHED LIMIT.\n",
      "\n",
      "Increase the number of iterations (max_iter) or scale the data as shown in:\n",
      "    https://scikit-learn.org/stable/modules/preprocessing.html\n",
      "Please also refer to the documentation for alternative solver options:\n",
      "    https://scikit-learn.org/stable/modules/linear_model.html#logistic-regression\n",
      "  n_iter_i = _check_optimize_result(\n",
      "/opt/conda/lib/python3.9/site-packages/sklearn/linear_model/_logistic.py:763: ConvergenceWarning: lbfgs failed to converge (status=1):\n",
      "STOP: TOTAL NO. of ITERATIONS REACHED LIMIT.\n",
      "\n",
      "Increase the number of iterations (max_iter) or scale the data as shown in:\n",
      "    https://scikit-learn.org/stable/modules/preprocessing.html\n",
      "Please also refer to the documentation for alternative solver options:\n",
      "    https://scikit-learn.org/stable/modules/linear_model.html#logistic-regression\n",
      "  n_iter_i = _check_optimize_result(\n",
      "/opt/conda/lib/python3.9/site-packages/sklearn/linear_model/_logistic.py:763: ConvergenceWarning: lbfgs failed to converge (status=1):\n",
      "STOP: TOTAL NO. of ITERATIONS REACHED LIMIT.\n",
      "\n",
      "Increase the number of iterations (max_iter) or scale the data as shown in:\n",
      "    https://scikit-learn.org/stable/modules/preprocessing.html\n",
      "Please also refer to the documentation for alternative solver options:\n",
      "    https://scikit-learn.org/stable/modules/linear_model.html#logistic-regression\n",
      "  n_iter_i = _check_optimize_result(\n",
      "/opt/conda/lib/python3.9/site-packages/sklearn/linear_model/_logistic.py:763: ConvergenceWarning: lbfgs failed to converge (status=1):\n",
      "STOP: TOTAL NO. of ITERATIONS REACHED LIMIT.\n",
      "\n",
      "Increase the number of iterations (max_iter) or scale the data as shown in:\n",
      "    https://scikit-learn.org/stable/modules/preprocessing.html\n",
      "Please also refer to the documentation for alternative solver options:\n",
      "    https://scikit-learn.org/stable/modules/linear_model.html#logistic-regression\n",
      "  n_iter_i = _check_optimize_result(\n",
      "/opt/conda/lib/python3.9/site-packages/sklearn/linear_model/_logistic.py:763: ConvergenceWarning: lbfgs failed to converge (status=1):\n",
      "STOP: TOTAL NO. of ITERATIONS REACHED LIMIT.\n",
      "\n",
      "Increase the number of iterations (max_iter) or scale the data as shown in:\n",
      "    https://scikit-learn.org/stable/modules/preprocessing.html\n",
      "Please also refer to the documentation for alternative solver options:\n",
      "    https://scikit-learn.org/stable/modules/linear_model.html#logistic-regression\n",
      "  n_iter_i = _check_optimize_result(\n",
      "/opt/conda/lib/python3.9/site-packages/sklearn/linear_model/_logistic.py:763: ConvergenceWarning: lbfgs failed to converge (status=1):\n",
      "STOP: TOTAL NO. of ITERATIONS REACHED LIMIT.\n",
      "\n",
      "Increase the number of iterations (max_iter) or scale the data as shown in:\n",
      "    https://scikit-learn.org/stable/modules/preprocessing.html\n",
      "Please also refer to the documentation for alternative solver options:\n",
      "    https://scikit-learn.org/stable/modules/linear_model.html#logistic-regression\n",
      "  n_iter_i = _check_optimize_result(\n",
      "/opt/conda/lib/python3.9/site-packages/sklearn/linear_model/_logistic.py:763: ConvergenceWarning: lbfgs failed to converge (status=1):\n",
      "STOP: TOTAL NO. of ITERATIONS REACHED LIMIT.\n",
      "\n",
      "Increase the number of iterations (max_iter) or scale the data as shown in:\n",
      "    https://scikit-learn.org/stable/modules/preprocessing.html\n",
      "Please also refer to the documentation for alternative solver options:\n",
      "    https://scikit-learn.org/stable/modules/linear_model.html#logistic-regression\n",
      "  n_iter_i = _check_optimize_result(\n",
      "/opt/conda/lib/python3.9/site-packages/sklearn/linear_model/_logistic.py:763: ConvergenceWarning: lbfgs failed to converge (status=1):\n",
      "STOP: TOTAL NO. of ITERATIONS REACHED LIMIT.\n",
      "\n",
      "Increase the number of iterations (max_iter) or scale the data as shown in:\n",
      "    https://scikit-learn.org/stable/modules/preprocessing.html\n",
      "Please also refer to the documentation for alternative solver options:\n",
      "    https://scikit-learn.org/stable/modules/linear_model.html#logistic-regression\n",
      "  n_iter_i = _check_optimize_result(\n",
      "/opt/conda/lib/python3.9/site-packages/sklearn/linear_model/_logistic.py:763: ConvergenceWarning: lbfgs failed to converge (status=1):\n",
      "STOP: TOTAL NO. of ITERATIONS REACHED LIMIT.\n",
      "\n",
      "Increase the number of iterations (max_iter) or scale the data as shown in:\n",
      "    https://scikit-learn.org/stable/modules/preprocessing.html\n",
      "Please also refer to the documentation for alternative solver options:\n",
      "    https://scikit-learn.org/stable/modules/linear_model.html#logistic-regression\n",
      "  n_iter_i = _check_optimize_result(\n",
      "/opt/conda/lib/python3.9/site-packages/sklearn/linear_model/_logistic.py:763: ConvergenceWarning: lbfgs failed to converge (status=1):\n",
      "STOP: TOTAL NO. of ITERATIONS REACHED LIMIT.\n",
      "\n",
      "Increase the number of iterations (max_iter) or scale the data as shown in:\n",
      "    https://scikit-learn.org/stable/modules/preprocessing.html\n",
      "Please also refer to the documentation for alternative solver options:\n",
      "    https://scikit-learn.org/stable/modules/linear_model.html#logistic-regression\n",
      "  n_iter_i = _check_optimize_result(\n",
      "/opt/conda/lib/python3.9/site-packages/sklearn/linear_model/_logistic.py:763: ConvergenceWarning: lbfgs failed to converge (status=1):\n",
      "STOP: TOTAL NO. of ITERATIONS REACHED LIMIT.\n",
      "\n",
      "Increase the number of iterations (max_iter) or scale the data as shown in:\n",
      "    https://scikit-learn.org/stable/modules/preprocessing.html\n",
      "Please also refer to the documentation for alternative solver options:\n",
      "    https://scikit-learn.org/stable/modules/linear_model.html#logistic-regression\n",
      "  n_iter_i = _check_optimize_result(\n",
      "/opt/conda/lib/python3.9/site-packages/sklearn/linear_model/_logistic.py:763: ConvergenceWarning: lbfgs failed to converge (status=1):\n",
      "STOP: TOTAL NO. of ITERATIONS REACHED LIMIT.\n",
      "\n",
      "Increase the number of iterations (max_iter) or scale the data as shown in:\n",
      "    https://scikit-learn.org/stable/modules/preprocessing.html\n",
      "Please also refer to the documentation for alternative solver options:\n",
      "    https://scikit-learn.org/stable/modules/linear_model.html#logistic-regression\n",
      "  n_iter_i = _check_optimize_result(\n",
      "/opt/conda/lib/python3.9/site-packages/sklearn/linear_model/_logistic.py:763: ConvergenceWarning: lbfgs failed to converge (status=1):\n",
      "STOP: TOTAL NO. of ITERATIONS REACHED LIMIT.\n",
      "\n",
      "Increase the number of iterations (max_iter) or scale the data as shown in:\n",
      "    https://scikit-learn.org/stable/modules/preprocessing.html\n",
      "Please also refer to the documentation for alternative solver options:\n",
      "    https://scikit-learn.org/stable/modules/linear_model.html#logistic-regression\n",
      "  n_iter_i = _check_optimize_result(\n",
      "/opt/conda/lib/python3.9/site-packages/sklearn/linear_model/_logistic.py:763: ConvergenceWarning: lbfgs failed to converge (status=1):\n",
      "STOP: TOTAL NO. of ITERATIONS REACHED LIMIT.\n",
      "\n",
      "Increase the number of iterations (max_iter) or scale the data as shown in:\n",
      "    https://scikit-learn.org/stable/modules/preprocessing.html\n",
      "Please also refer to the documentation for alternative solver options:\n",
      "    https://scikit-learn.org/stable/modules/linear_model.html#logistic-regression\n",
      "  n_iter_i = _check_optimize_result(\n",
      "/opt/conda/lib/python3.9/site-packages/sklearn/linear_model/_logistic.py:763: ConvergenceWarning: lbfgs failed to converge (status=1):\n",
      "STOP: TOTAL NO. of ITERATIONS REACHED LIMIT.\n",
      "\n",
      "Increase the number of iterations (max_iter) or scale the data as shown in:\n",
      "    https://scikit-learn.org/stable/modules/preprocessing.html\n",
      "Please also refer to the documentation for alternative solver options:\n",
      "    https://scikit-learn.org/stable/modules/linear_model.html#logistic-regression\n",
      "  n_iter_i = _check_optimize_result(\n",
      "/opt/conda/lib/python3.9/site-packages/sklearn/linear_model/_logistic.py:763: ConvergenceWarning: lbfgs failed to converge (status=1):\n",
      "STOP: TOTAL NO. of ITERATIONS REACHED LIMIT.\n",
      "\n",
      "Increase the number of iterations (max_iter) or scale the data as shown in:\n",
      "    https://scikit-learn.org/stable/modules/preprocessing.html\n",
      "Please also refer to the documentation for alternative solver options:\n",
      "    https://scikit-learn.org/stable/modules/linear_model.html#logistic-regression\n",
      "  n_iter_i = _check_optimize_result(\n",
      "/opt/conda/lib/python3.9/site-packages/sklearn/linear_model/_logistic.py:763: ConvergenceWarning: lbfgs failed to converge (status=1):\n",
      "STOP: TOTAL NO. of ITERATIONS REACHED LIMIT.\n",
      "\n",
      "Increase the number of iterations (max_iter) or scale the data as shown in:\n",
      "    https://scikit-learn.org/stable/modules/preprocessing.html\n",
      "Please also refer to the documentation for alternative solver options:\n",
      "    https://scikit-learn.org/stable/modules/linear_model.html#logistic-regression\n",
      "  n_iter_i = _check_optimize_result(\n",
      "/opt/conda/lib/python3.9/site-packages/sklearn/linear_model/_logistic.py:763: ConvergenceWarning: lbfgs failed to converge (status=1):\n",
      "STOP: TOTAL NO. of ITERATIONS REACHED LIMIT.\n",
      "\n",
      "Increase the number of iterations (max_iter) or scale the data as shown in:\n",
      "    https://scikit-learn.org/stable/modules/preprocessing.html\n",
      "Please also refer to the documentation for alternative solver options:\n",
      "    https://scikit-learn.org/stable/modules/linear_model.html#logistic-regression\n",
      "  n_iter_i = _check_optimize_result(\n",
      "/opt/conda/lib/python3.9/site-packages/sklearn/linear_model/_logistic.py:763: ConvergenceWarning: lbfgs failed to converge (status=1):\n",
      "STOP: TOTAL NO. of ITERATIONS REACHED LIMIT.\n",
      "\n",
      "Increase the number of iterations (max_iter) or scale the data as shown in:\n",
      "    https://scikit-learn.org/stable/modules/preprocessing.html\n",
      "Please also refer to the documentation for alternative solver options:\n",
      "    https://scikit-learn.org/stable/modules/linear_model.html#logistic-regression\n",
      "  n_iter_i = _check_optimize_result(\n",
      "/opt/conda/lib/python3.9/site-packages/sklearn/linear_model/_logistic.py:763: ConvergenceWarning: lbfgs failed to converge (status=1):\n",
      "STOP: TOTAL NO. of ITERATIONS REACHED LIMIT.\n",
      "\n",
      "Increase the number of iterations (max_iter) or scale the data as shown in:\n",
      "    https://scikit-learn.org/stable/modules/preprocessing.html\n",
      "Please also refer to the documentation for alternative solver options:\n",
      "    https://scikit-learn.org/stable/modules/linear_model.html#logistic-regression\n",
      "  n_iter_i = _check_optimize_result(\n",
      "/opt/conda/lib/python3.9/site-packages/sklearn/linear_model/_logistic.py:763: ConvergenceWarning: lbfgs failed to converge (status=1):\n",
      "STOP: TOTAL NO. of ITERATIONS REACHED LIMIT.\n",
      "\n",
      "Increase the number of iterations (max_iter) or scale the data as shown in:\n",
      "    https://scikit-learn.org/stable/modules/preprocessing.html\n",
      "Please also refer to the documentation for alternative solver options:\n",
      "    https://scikit-learn.org/stable/modules/linear_model.html#logistic-regression\n",
      "  n_iter_i = _check_optimize_result(\n",
      "/opt/conda/lib/python3.9/site-packages/sklearn/linear_model/_logistic.py:763: ConvergenceWarning: lbfgs failed to converge (status=1):\n",
      "STOP: TOTAL NO. of ITERATIONS REACHED LIMIT.\n",
      "\n",
      "Increase the number of iterations (max_iter) or scale the data as shown in:\n",
      "    https://scikit-learn.org/stable/modules/preprocessing.html\n",
      "Please also refer to the documentation for alternative solver options:\n",
      "    https://scikit-learn.org/stable/modules/linear_model.html#logistic-regression\n",
      "  n_iter_i = _check_optimize_result(\n",
      "/opt/conda/lib/python3.9/site-packages/sklearn/linear_model/_logistic.py:763: ConvergenceWarning: lbfgs failed to converge (status=1):\n",
      "STOP: TOTAL NO. of ITERATIONS REACHED LIMIT.\n",
      "\n",
      "Increase the number of iterations (max_iter) or scale the data as shown in:\n",
      "    https://scikit-learn.org/stable/modules/preprocessing.html\n",
      "Please also refer to the documentation for alternative solver options:\n",
      "    https://scikit-learn.org/stable/modules/linear_model.html#logistic-regression\n",
      "  n_iter_i = _check_optimize_result(\n",
      "/opt/conda/lib/python3.9/site-packages/sklearn/linear_model/_logistic.py:763: ConvergenceWarning: lbfgs failed to converge (status=1):\n",
      "STOP: TOTAL NO. of ITERATIONS REACHED LIMIT.\n",
      "\n",
      "Increase the number of iterations (max_iter) or scale the data as shown in:\n",
      "    https://scikit-learn.org/stable/modules/preprocessing.html\n",
      "Please also refer to the documentation for alternative solver options:\n",
      "    https://scikit-learn.org/stable/modules/linear_model.html#logistic-regression\n",
      "  n_iter_i = _check_optimize_result(\n",
      "/opt/conda/lib/python3.9/site-packages/sklearn/linear_model/_logistic.py:763: ConvergenceWarning: lbfgs failed to converge (status=1):\n",
      "STOP: TOTAL NO. of ITERATIONS REACHED LIMIT.\n",
      "\n",
      "Increase the number of iterations (max_iter) or scale the data as shown in:\n",
      "    https://scikit-learn.org/stable/modules/preprocessing.html\n",
      "Please also refer to the documentation for alternative solver options:\n",
      "    https://scikit-learn.org/stable/modules/linear_model.html#logistic-regression\n",
      "  n_iter_i = _check_optimize_result(\n",
      "/opt/conda/lib/python3.9/site-packages/sklearn/linear_model/_logistic.py:763: ConvergenceWarning: lbfgs failed to converge (status=1):\n",
      "STOP: TOTAL NO. of ITERATIONS REACHED LIMIT.\n",
      "\n",
      "Increase the number of iterations (max_iter) or scale the data as shown in:\n",
      "    https://scikit-learn.org/stable/modules/preprocessing.html\n",
      "Please also refer to the documentation for alternative solver options:\n",
      "    https://scikit-learn.org/stable/modules/linear_model.html#logistic-regression\n",
      "  n_iter_i = _check_optimize_result(\n",
      "/opt/conda/lib/python3.9/site-packages/sklearn/linear_model/_logistic.py:763: ConvergenceWarning: lbfgs failed to converge (status=1):\n",
      "STOP: TOTAL NO. of ITERATIONS REACHED LIMIT.\n",
      "\n",
      "Increase the number of iterations (max_iter) or scale the data as shown in:\n",
      "    https://scikit-learn.org/stable/modules/preprocessing.html\n",
      "Please also refer to the documentation for alternative solver options:\n",
      "    https://scikit-learn.org/stable/modules/linear_model.html#logistic-regression\n",
      "  n_iter_i = _check_optimize_result(\n",
      "/opt/conda/lib/python3.9/site-packages/sklearn/linear_model/_logistic.py:763: ConvergenceWarning: lbfgs failed to converge (status=1):\n",
      "STOP: TOTAL NO. of ITERATIONS REACHED LIMIT.\n",
      "\n",
      "Increase the number of iterations (max_iter) or scale the data as shown in:\n",
      "    https://scikit-learn.org/stable/modules/preprocessing.html\n",
      "Please also refer to the documentation for alternative solver options:\n",
      "    https://scikit-learn.org/stable/modules/linear_model.html#logistic-regression\n",
      "  n_iter_i = _check_optimize_result(\n",
      "/opt/conda/lib/python3.9/site-packages/sklearn/linear_model/_logistic.py:763: ConvergenceWarning: lbfgs failed to converge (status=1):\n",
      "STOP: TOTAL NO. of ITERATIONS REACHED LIMIT.\n",
      "\n",
      "Increase the number of iterations (max_iter) or scale the data as shown in:\n",
      "    https://scikit-learn.org/stable/modules/preprocessing.html\n",
      "Please also refer to the documentation for alternative solver options:\n",
      "    https://scikit-learn.org/stable/modules/linear_model.html#logistic-regression\n",
      "  n_iter_i = _check_optimize_result(\n",
      "/opt/conda/lib/python3.9/site-packages/sklearn/linear_model/_logistic.py:763: ConvergenceWarning: lbfgs failed to converge (status=1):\n",
      "STOP: TOTAL NO. of ITERATIONS REACHED LIMIT.\n",
      "\n",
      "Increase the number of iterations (max_iter) or scale the data as shown in:\n",
      "    https://scikit-learn.org/stable/modules/preprocessing.html\n",
      "Please also refer to the documentation for alternative solver options:\n",
      "    https://scikit-learn.org/stable/modules/linear_model.html#logistic-regression\n",
      "  n_iter_i = _check_optimize_result(\n",
      "/opt/conda/lib/python3.9/site-packages/sklearn/linear_model/_logistic.py:763: ConvergenceWarning: lbfgs failed to converge (status=1):\n",
      "STOP: TOTAL NO. of ITERATIONS REACHED LIMIT.\n",
      "\n",
      "Increase the number of iterations (max_iter) or scale the data as shown in:\n",
      "    https://scikit-learn.org/stable/modules/preprocessing.html\n",
      "Please also refer to the documentation for alternative solver options:\n",
      "    https://scikit-learn.org/stable/modules/linear_model.html#logistic-regression\n",
      "  n_iter_i = _check_optimize_result(\n",
      "/opt/conda/lib/python3.9/site-packages/sklearn/linear_model/_logistic.py:763: ConvergenceWarning: lbfgs failed to converge (status=1):\n",
      "STOP: TOTAL NO. of ITERATIONS REACHED LIMIT.\n",
      "\n",
      "Increase the number of iterations (max_iter) or scale the data as shown in:\n",
      "    https://scikit-learn.org/stable/modules/preprocessing.html\n",
      "Please also refer to the documentation for alternative solver options:\n",
      "    https://scikit-learn.org/stable/modules/linear_model.html#logistic-regression\n",
      "  n_iter_i = _check_optimize_result(\n",
      "/opt/conda/lib/python3.9/site-packages/sklearn/linear_model/_logistic.py:763: ConvergenceWarning: lbfgs failed to converge (status=1):\n",
      "STOP: TOTAL NO. of ITERATIONS REACHED LIMIT.\n",
      "\n",
      "Increase the number of iterations (max_iter) or scale the data as shown in:\n",
      "    https://scikit-learn.org/stable/modules/preprocessing.html\n",
      "Please also refer to the documentation for alternative solver options:\n",
      "    https://scikit-learn.org/stable/modules/linear_model.html#logistic-regression\n",
      "  n_iter_i = _check_optimize_result(\n",
      "/opt/conda/lib/python3.9/site-packages/sklearn/linear_model/_logistic.py:763: ConvergenceWarning: lbfgs failed to converge (status=1):\n",
      "STOP: TOTAL NO. of ITERATIONS REACHED LIMIT.\n",
      "\n",
      "Increase the number of iterations (max_iter) or scale the data as shown in:\n",
      "    https://scikit-learn.org/stable/modules/preprocessing.html\n",
      "Please also refer to the documentation for alternative solver options:\n",
      "    https://scikit-learn.org/stable/modules/linear_model.html#logistic-regression\n",
      "  n_iter_i = _check_optimize_result(\n",
      "/opt/conda/lib/python3.9/site-packages/sklearn/linear_model/_logistic.py:763: ConvergenceWarning: lbfgs failed to converge (status=1):\n",
      "STOP: TOTAL NO. of ITERATIONS REACHED LIMIT.\n",
      "\n",
      "Increase the number of iterations (max_iter) or scale the data as shown in:\n",
      "    https://scikit-learn.org/stable/modules/preprocessing.html\n",
      "Please also refer to the documentation for alternative solver options:\n",
      "    https://scikit-learn.org/stable/modules/linear_model.html#logistic-regression\n",
      "  n_iter_i = _check_optimize_result(\n",
      "/opt/conda/lib/python3.9/site-packages/sklearn/linear_model/_logistic.py:763: ConvergenceWarning: lbfgs failed to converge (status=1):\n",
      "STOP: TOTAL NO. of ITERATIONS REACHED LIMIT.\n",
      "\n",
      "Increase the number of iterations (max_iter) or scale the data as shown in:\n",
      "    https://scikit-learn.org/stable/modules/preprocessing.html\n",
      "Please also refer to the documentation for alternative solver options:\n",
      "    https://scikit-learn.org/stable/modules/linear_model.html#logistic-regression\n",
      "  n_iter_i = _check_optimize_result(\n",
      "/opt/conda/lib/python3.9/site-packages/sklearn/linear_model/_logistic.py:763: ConvergenceWarning: lbfgs failed to converge (status=1):\n",
      "STOP: TOTAL NO. of ITERATIONS REACHED LIMIT.\n",
      "\n",
      "Increase the number of iterations (max_iter) or scale the data as shown in:\n",
      "    https://scikit-learn.org/stable/modules/preprocessing.html\n",
      "Please also refer to the documentation for alternative solver options:\n",
      "    https://scikit-learn.org/stable/modules/linear_model.html#logistic-regression\n",
      "  n_iter_i = _check_optimize_result(\n",
      "/opt/conda/lib/python3.9/site-packages/sklearn/linear_model/_logistic.py:763: ConvergenceWarning: lbfgs failed to converge (status=1):\n",
      "STOP: TOTAL NO. of ITERATIONS REACHED LIMIT.\n",
      "\n",
      "Increase the number of iterations (max_iter) or scale the data as shown in:\n",
      "    https://scikit-learn.org/stable/modules/preprocessing.html\n",
      "Please also refer to the documentation for alternative solver options:\n",
      "    https://scikit-learn.org/stable/modules/linear_model.html#logistic-regression\n",
      "  n_iter_i = _check_optimize_result(\n",
      "/opt/conda/lib/python3.9/site-packages/sklearn/linear_model/_logistic.py:763: ConvergenceWarning: lbfgs failed to converge (status=1):\n",
      "STOP: TOTAL NO. of ITERATIONS REACHED LIMIT.\n",
      "\n",
      "Increase the number of iterations (max_iter) or scale the data as shown in:\n",
      "    https://scikit-learn.org/stable/modules/preprocessing.html\n",
      "Please also refer to the documentation for alternative solver options:\n",
      "    https://scikit-learn.org/stable/modules/linear_model.html#logistic-regression\n",
      "  n_iter_i = _check_optimize_result(\n",
      "/opt/conda/lib/python3.9/site-packages/sklearn/linear_model/_logistic.py:763: ConvergenceWarning: lbfgs failed to converge (status=1):\n",
      "STOP: TOTAL NO. of ITERATIONS REACHED LIMIT.\n",
      "\n",
      "Increase the number of iterations (max_iter) or scale the data as shown in:\n",
      "    https://scikit-learn.org/stable/modules/preprocessing.html\n",
      "Please also refer to the documentation for alternative solver options:\n",
      "    https://scikit-learn.org/stable/modules/linear_model.html#logistic-regression\n",
      "  n_iter_i = _check_optimize_result(\n",
      "/opt/conda/lib/python3.9/site-packages/sklearn/linear_model/_logistic.py:763: ConvergenceWarning: lbfgs failed to converge (status=1):\n",
      "STOP: TOTAL NO. of ITERATIONS REACHED LIMIT.\n",
      "\n",
      "Increase the number of iterations (max_iter) or scale the data as shown in:\n",
      "    https://scikit-learn.org/stable/modules/preprocessing.html\n",
      "Please also refer to the documentation for alternative solver options:\n",
      "    https://scikit-learn.org/stable/modules/linear_model.html#logistic-regression\n",
      "  n_iter_i = _check_optimize_result(\n",
      "/opt/conda/lib/python3.9/site-packages/sklearn/linear_model/_logistic.py:763: ConvergenceWarning: lbfgs failed to converge (status=1):\n",
      "STOP: TOTAL NO. of ITERATIONS REACHED LIMIT.\n",
      "\n",
      "Increase the number of iterations (max_iter) or scale the data as shown in:\n",
      "    https://scikit-learn.org/stable/modules/preprocessing.html\n",
      "Please also refer to the documentation for alternative solver options:\n",
      "    https://scikit-learn.org/stable/modules/linear_model.html#logistic-regression\n",
      "  n_iter_i = _check_optimize_result(\n",
      "/opt/conda/lib/python3.9/site-packages/sklearn/linear_model/_logistic.py:763: ConvergenceWarning: lbfgs failed to converge (status=1):\n",
      "STOP: TOTAL NO. of ITERATIONS REACHED LIMIT.\n",
      "\n",
      "Increase the number of iterations (max_iter) or scale the data as shown in:\n",
      "    https://scikit-learn.org/stable/modules/preprocessing.html\n",
      "Please also refer to the documentation for alternative solver options:\n",
      "    https://scikit-learn.org/stable/modules/linear_model.html#logistic-regression\n",
      "  n_iter_i = _check_optimize_result(\n",
      "/opt/conda/lib/python3.9/site-packages/sklearn/linear_model/_logistic.py:763: ConvergenceWarning: lbfgs failed to converge (status=1):\n",
      "STOP: TOTAL NO. of ITERATIONS REACHED LIMIT.\n",
      "\n",
      "Increase the number of iterations (max_iter) or scale the data as shown in:\n",
      "    https://scikit-learn.org/stable/modules/preprocessing.html\n",
      "Please also refer to the documentation for alternative solver options:\n",
      "    https://scikit-learn.org/stable/modules/linear_model.html#logistic-regression\n",
      "  n_iter_i = _check_optimize_result(\n",
      "/opt/conda/lib/python3.9/site-packages/sklearn/linear_model/_logistic.py:763: ConvergenceWarning: lbfgs failed to converge (status=1):\n",
      "STOP: TOTAL NO. of ITERATIONS REACHED LIMIT.\n",
      "\n",
      "Increase the number of iterations (max_iter) or scale the data as shown in:\n",
      "    https://scikit-learn.org/stable/modules/preprocessing.html\n",
      "Please also refer to the documentation for alternative solver options:\n",
      "    https://scikit-learn.org/stable/modules/linear_model.html#logistic-regression\n",
      "  n_iter_i = _check_optimize_result(\n",
      "/opt/conda/lib/python3.9/site-packages/sklearn/linear_model/_logistic.py:763: ConvergenceWarning: lbfgs failed to converge (status=1):\n",
      "STOP: TOTAL NO. of ITERATIONS REACHED LIMIT.\n",
      "\n",
      "Increase the number of iterations (max_iter) or scale the data as shown in:\n",
      "    https://scikit-learn.org/stable/modules/preprocessing.html\n",
      "Please also refer to the documentation for alternative solver options:\n",
      "    https://scikit-learn.org/stable/modules/linear_model.html#logistic-regression\n",
      "  n_iter_i = _check_optimize_result(\n",
      "/opt/conda/lib/python3.9/site-packages/sklearn/linear_model/_logistic.py:763: ConvergenceWarning: lbfgs failed to converge (status=1):\n",
      "STOP: TOTAL NO. of ITERATIONS REACHED LIMIT.\n",
      "\n",
      "Increase the number of iterations (max_iter) or scale the data as shown in:\n",
      "    https://scikit-learn.org/stable/modules/preprocessing.html\n",
      "Please also refer to the documentation for alternative solver options:\n",
      "    https://scikit-learn.org/stable/modules/linear_model.html#logistic-regression\n",
      "  n_iter_i = _check_optimize_result(\n",
      "/opt/conda/lib/python3.9/site-packages/sklearn/linear_model/_logistic.py:763: ConvergenceWarning: lbfgs failed to converge (status=1):\n",
      "STOP: TOTAL NO. of ITERATIONS REACHED LIMIT.\n",
      "\n",
      "Increase the number of iterations (max_iter) or scale the data as shown in:\n",
      "    https://scikit-learn.org/stable/modules/preprocessing.html\n",
      "Please also refer to the documentation for alternative solver options:\n",
      "    https://scikit-learn.org/stable/modules/linear_model.html#logistic-regression\n",
      "  n_iter_i = _check_optimize_result(\n",
      "/opt/conda/lib/python3.9/site-packages/sklearn/linear_model/_logistic.py:763: ConvergenceWarning: lbfgs failed to converge (status=1):\n",
      "STOP: TOTAL NO. of ITERATIONS REACHED LIMIT.\n",
      "\n",
      "Increase the number of iterations (max_iter) or scale the data as shown in:\n",
      "    https://scikit-learn.org/stable/modules/preprocessing.html\n",
      "Please also refer to the documentation for alternative solver options:\n",
      "    https://scikit-learn.org/stable/modules/linear_model.html#logistic-regression\n",
      "  n_iter_i = _check_optimize_result(\n",
      "/opt/conda/lib/python3.9/site-packages/sklearn/linear_model/_logistic.py:763: ConvergenceWarning: lbfgs failed to converge (status=1):\n",
      "STOP: TOTAL NO. of ITERATIONS REACHED LIMIT.\n",
      "\n",
      "Increase the number of iterations (max_iter) or scale the data as shown in:\n",
      "    https://scikit-learn.org/stable/modules/preprocessing.html\n",
      "Please also refer to the documentation for alternative solver options:\n",
      "    https://scikit-learn.org/stable/modules/linear_model.html#logistic-regression\n",
      "  n_iter_i = _check_optimize_result(\n",
      "/opt/conda/lib/python3.9/site-packages/sklearn/linear_model/_logistic.py:763: ConvergenceWarning: lbfgs failed to converge (status=1):\n",
      "STOP: TOTAL NO. of ITERATIONS REACHED LIMIT.\n",
      "\n",
      "Increase the number of iterations (max_iter) or scale the data as shown in:\n",
      "    https://scikit-learn.org/stable/modules/preprocessing.html\n",
      "Please also refer to the documentation for alternative solver options:\n",
      "    https://scikit-learn.org/stable/modules/linear_model.html#logistic-regression\n",
      "  n_iter_i = _check_optimize_result(\n",
      "/opt/conda/lib/python3.9/site-packages/sklearn/linear_model/_logistic.py:763: ConvergenceWarning: lbfgs failed to converge (status=1):\n",
      "STOP: TOTAL NO. of ITERATIONS REACHED LIMIT.\n",
      "\n",
      "Increase the number of iterations (max_iter) or scale the data as shown in:\n",
      "    https://scikit-learn.org/stable/modules/preprocessing.html\n",
      "Please also refer to the documentation for alternative solver options:\n",
      "    https://scikit-learn.org/stable/modules/linear_model.html#logistic-regression\n",
      "  n_iter_i = _check_optimize_result(\n",
      "/opt/conda/lib/python3.9/site-packages/sklearn/linear_model/_logistic.py:763: ConvergenceWarning: lbfgs failed to converge (status=1):\n",
      "STOP: TOTAL NO. of ITERATIONS REACHED LIMIT.\n",
      "\n",
      "Increase the number of iterations (max_iter) or scale the data as shown in:\n",
      "    https://scikit-learn.org/stable/modules/preprocessing.html\n",
      "Please also refer to the documentation for alternative solver options:\n",
      "    https://scikit-learn.org/stable/modules/linear_model.html#logistic-regression\n",
      "  n_iter_i = _check_optimize_result(\n",
      "/opt/conda/lib/python3.9/site-packages/sklearn/linear_model/_logistic.py:763: ConvergenceWarning: lbfgs failed to converge (status=1):\n",
      "STOP: TOTAL NO. of ITERATIONS REACHED LIMIT.\n",
      "\n",
      "Increase the number of iterations (max_iter) or scale the data as shown in:\n",
      "    https://scikit-learn.org/stable/modules/preprocessing.html\n",
      "Please also refer to the documentation for alternative solver options:\n",
      "    https://scikit-learn.org/stable/modules/linear_model.html#logistic-regression\n",
      "  n_iter_i = _check_optimize_result(\n",
      "/opt/conda/lib/python3.9/site-packages/sklearn/linear_model/_logistic.py:763: ConvergenceWarning: lbfgs failed to converge (status=1):\n",
      "STOP: TOTAL NO. of ITERATIONS REACHED LIMIT.\n",
      "\n",
      "Increase the number of iterations (max_iter) or scale the data as shown in:\n",
      "    https://scikit-learn.org/stable/modules/preprocessing.html\n",
      "Please also refer to the documentation for alternative solver options:\n",
      "    https://scikit-learn.org/stable/modules/linear_model.html#logistic-regression\n",
      "  n_iter_i = _check_optimize_result(\n",
      "/opt/conda/lib/python3.9/site-packages/sklearn/linear_model/_logistic.py:763: ConvergenceWarning: lbfgs failed to converge (status=1):\n",
      "STOP: TOTAL NO. of ITERATIONS REACHED LIMIT.\n",
      "\n",
      "Increase the number of iterations (max_iter) or scale the data as shown in:\n",
      "    https://scikit-learn.org/stable/modules/preprocessing.html\n",
      "Please also refer to the documentation for alternative solver options:\n",
      "    https://scikit-learn.org/stable/modules/linear_model.html#logistic-regression\n",
      "  n_iter_i = _check_optimize_result(\n",
      "/opt/conda/lib/python3.9/site-packages/sklearn/linear_model/_logistic.py:763: ConvergenceWarning: lbfgs failed to converge (status=1):\n",
      "STOP: TOTAL NO. of ITERATIONS REACHED LIMIT.\n",
      "\n",
      "Increase the number of iterations (max_iter) or scale the data as shown in:\n",
      "    https://scikit-learn.org/stable/modules/preprocessing.html\n",
      "Please also refer to the documentation for alternative solver options:\n",
      "    https://scikit-learn.org/stable/modules/linear_model.html#logistic-regression\n",
      "  n_iter_i = _check_optimize_result(\n",
      "/opt/conda/lib/python3.9/site-packages/sklearn/linear_model/_logistic.py:763: ConvergenceWarning: lbfgs failed to converge (status=1):\n",
      "STOP: TOTAL NO. of ITERATIONS REACHED LIMIT.\n",
      "\n",
      "Increase the number of iterations (max_iter) or scale the data as shown in:\n",
      "    https://scikit-learn.org/stable/modules/preprocessing.html\n",
      "Please also refer to the documentation for alternative solver options:\n",
      "    https://scikit-learn.org/stable/modules/linear_model.html#logistic-regression\n",
      "  n_iter_i = _check_optimize_result(\n",
      "/opt/conda/lib/python3.9/site-packages/sklearn/linear_model/_logistic.py:763: ConvergenceWarning: lbfgs failed to converge (status=1):\n",
      "STOP: TOTAL NO. of ITERATIONS REACHED LIMIT.\n",
      "\n",
      "Increase the number of iterations (max_iter) or scale the data as shown in:\n",
      "    https://scikit-learn.org/stable/modules/preprocessing.html\n",
      "Please also refer to the documentation for alternative solver options:\n",
      "    https://scikit-learn.org/stable/modules/linear_model.html#logistic-regression\n",
      "  n_iter_i = _check_optimize_result(\n",
      "/opt/conda/lib/python3.9/site-packages/sklearn/linear_model/_logistic.py:763: ConvergenceWarning: lbfgs failed to converge (status=1):\n",
      "STOP: TOTAL NO. of ITERATIONS REACHED LIMIT.\n",
      "\n",
      "Increase the number of iterations (max_iter) or scale the data as shown in:\n",
      "    https://scikit-learn.org/stable/modules/preprocessing.html\n",
      "Please also refer to the documentation for alternative solver options:\n",
      "    https://scikit-learn.org/stable/modules/linear_model.html#logistic-regression\n",
      "  n_iter_i = _check_optimize_result(\n",
      "/opt/conda/lib/python3.9/site-packages/sklearn/linear_model/_logistic.py:763: ConvergenceWarning: lbfgs failed to converge (status=1):\n",
      "STOP: TOTAL NO. of ITERATIONS REACHED LIMIT.\n",
      "\n",
      "Increase the number of iterations (max_iter) or scale the data as shown in:\n",
      "    https://scikit-learn.org/stable/modules/preprocessing.html\n",
      "Please also refer to the documentation for alternative solver options:\n",
      "    https://scikit-learn.org/stable/modules/linear_model.html#logistic-regression\n",
      "  n_iter_i = _check_optimize_result(\n",
      "/opt/conda/lib/python3.9/site-packages/sklearn/linear_model/_logistic.py:763: ConvergenceWarning: lbfgs failed to converge (status=1):\n",
      "STOP: TOTAL NO. of ITERATIONS REACHED LIMIT.\n",
      "\n",
      "Increase the number of iterations (max_iter) or scale the data as shown in:\n",
      "    https://scikit-learn.org/stable/modules/preprocessing.html\n",
      "Please also refer to the documentation for alternative solver options:\n",
      "    https://scikit-learn.org/stable/modules/linear_model.html#logistic-regression\n",
      "  n_iter_i = _check_optimize_result(\n",
      "/opt/conda/lib/python3.9/site-packages/sklearn/linear_model/_logistic.py:763: ConvergenceWarning: lbfgs failed to converge (status=1):\n",
      "STOP: TOTAL NO. of ITERATIONS REACHED LIMIT.\n",
      "\n",
      "Increase the number of iterations (max_iter) or scale the data as shown in:\n",
      "    https://scikit-learn.org/stable/modules/preprocessing.html\n",
      "Please also refer to the documentation for alternative solver options:\n",
      "    https://scikit-learn.org/stable/modules/linear_model.html#logistic-regression\n",
      "  n_iter_i = _check_optimize_result(\n",
      "/opt/conda/lib/python3.9/site-packages/sklearn/linear_model/_logistic.py:763: ConvergenceWarning: lbfgs failed to converge (status=1):\n",
      "STOP: TOTAL NO. of ITERATIONS REACHED LIMIT.\n",
      "\n",
      "Increase the number of iterations (max_iter) or scale the data as shown in:\n",
      "    https://scikit-learn.org/stable/modules/preprocessing.html\n",
      "Please also refer to the documentation for alternative solver options:\n",
      "    https://scikit-learn.org/stable/modules/linear_model.html#logistic-regression\n",
      "  n_iter_i = _check_optimize_result(\n",
      "/opt/conda/lib/python3.9/site-packages/sklearn/linear_model/_logistic.py:763: ConvergenceWarning: lbfgs failed to converge (status=1):\n",
      "STOP: TOTAL NO. of ITERATIONS REACHED LIMIT.\n",
      "\n",
      "Increase the number of iterations (max_iter) or scale the data as shown in:\n",
      "    https://scikit-learn.org/stable/modules/preprocessing.html\n",
      "Please also refer to the documentation for alternative solver options:\n",
      "    https://scikit-learn.org/stable/modules/linear_model.html#logistic-regression\n",
      "  n_iter_i = _check_optimize_result(\n",
      "/opt/conda/lib/python3.9/site-packages/sklearn/linear_model/_logistic.py:763: ConvergenceWarning: lbfgs failed to converge (status=1):\n",
      "STOP: TOTAL NO. of ITERATIONS REACHED LIMIT.\n",
      "\n",
      "Increase the number of iterations (max_iter) or scale the data as shown in:\n",
      "    https://scikit-learn.org/stable/modules/preprocessing.html\n",
      "Please also refer to the documentation for alternative solver options:\n",
      "    https://scikit-learn.org/stable/modules/linear_model.html#logistic-regression\n",
      "  n_iter_i = _check_optimize_result(\n",
      "/opt/conda/lib/python3.9/site-packages/sklearn/linear_model/_logistic.py:763: ConvergenceWarning: lbfgs failed to converge (status=1):\n",
      "STOP: TOTAL NO. of ITERATIONS REACHED LIMIT.\n",
      "\n",
      "Increase the number of iterations (max_iter) or scale the data as shown in:\n",
      "    https://scikit-learn.org/stable/modules/preprocessing.html\n",
      "Please also refer to the documentation for alternative solver options:\n",
      "    https://scikit-learn.org/stable/modules/linear_model.html#logistic-regression\n",
      "  n_iter_i = _check_optimize_result(\n",
      "/opt/conda/lib/python3.9/site-packages/sklearn/linear_model/_logistic.py:763: ConvergenceWarning: lbfgs failed to converge (status=1):\n",
      "STOP: TOTAL NO. of ITERATIONS REACHED LIMIT.\n",
      "\n",
      "Increase the number of iterations (max_iter) or scale the data as shown in:\n",
      "    https://scikit-learn.org/stable/modules/preprocessing.html\n",
      "Please also refer to the documentation for alternative solver options:\n",
      "    https://scikit-learn.org/stable/modules/linear_model.html#logistic-regression\n",
      "  n_iter_i = _check_optimize_result(\n",
      "/opt/conda/lib/python3.9/site-packages/sklearn/linear_model/_logistic.py:763: ConvergenceWarning: lbfgs failed to converge (status=1):\n",
      "STOP: TOTAL NO. of ITERATIONS REACHED LIMIT.\n",
      "\n",
      "Increase the number of iterations (max_iter) or scale the data as shown in:\n",
      "    https://scikit-learn.org/stable/modules/preprocessing.html\n",
      "Please also refer to the documentation for alternative solver options:\n",
      "    https://scikit-learn.org/stable/modules/linear_model.html#logistic-regression\n",
      "  n_iter_i = _check_optimize_result(\n",
      "/opt/conda/lib/python3.9/site-packages/sklearn/linear_model/_logistic.py:763: ConvergenceWarning: lbfgs failed to converge (status=1):\n",
      "STOP: TOTAL NO. of ITERATIONS REACHED LIMIT.\n",
      "\n",
      "Increase the number of iterations (max_iter) or scale the data as shown in:\n",
      "    https://scikit-learn.org/stable/modules/preprocessing.html\n",
      "Please also refer to the documentation for alternative solver options:\n",
      "    https://scikit-learn.org/stable/modules/linear_model.html#logistic-regression\n",
      "  n_iter_i = _check_optimize_result(\n",
      "/opt/conda/lib/python3.9/site-packages/sklearn/linear_model/_logistic.py:763: ConvergenceWarning: lbfgs failed to converge (status=1):\n",
      "STOP: TOTAL NO. of ITERATIONS REACHED LIMIT.\n",
      "\n",
      "Increase the number of iterations (max_iter) or scale the data as shown in:\n",
      "    https://scikit-learn.org/stable/modules/preprocessing.html\n",
      "Please also refer to the documentation for alternative solver options:\n",
      "    https://scikit-learn.org/stable/modules/linear_model.html#logistic-regression\n",
      "  n_iter_i = _check_optimize_result(\n",
      "/opt/conda/lib/python3.9/site-packages/sklearn/linear_model/_logistic.py:763: ConvergenceWarning: lbfgs failed to converge (status=1):\n",
      "STOP: TOTAL NO. of ITERATIONS REACHED LIMIT.\n",
      "\n",
      "Increase the number of iterations (max_iter) or scale the data as shown in:\n",
      "    https://scikit-learn.org/stable/modules/preprocessing.html\n",
      "Please also refer to the documentation for alternative solver options:\n",
      "    https://scikit-learn.org/stable/modules/linear_model.html#logistic-regression\n",
      "  n_iter_i = _check_optimize_result(\n",
      "/opt/conda/lib/python3.9/site-packages/sklearn/linear_model/_logistic.py:763: ConvergenceWarning: lbfgs failed to converge (status=1):\n",
      "STOP: TOTAL NO. of ITERATIONS REACHED LIMIT.\n",
      "\n",
      "Increase the number of iterations (max_iter) or scale the data as shown in:\n",
      "    https://scikit-learn.org/stable/modules/preprocessing.html\n",
      "Please also refer to the documentation for alternative solver options:\n",
      "    https://scikit-learn.org/stable/modules/linear_model.html#logistic-regression\n",
      "  n_iter_i = _check_optimize_result(\n",
      "/opt/conda/lib/python3.9/site-packages/sklearn/linear_model/_logistic.py:763: ConvergenceWarning: lbfgs failed to converge (status=1):\n",
      "STOP: TOTAL NO. of ITERATIONS REACHED LIMIT.\n",
      "\n",
      "Increase the number of iterations (max_iter) or scale the data as shown in:\n",
      "    https://scikit-learn.org/stable/modules/preprocessing.html\n",
      "Please also refer to the documentation for alternative solver options:\n",
      "    https://scikit-learn.org/stable/modules/linear_model.html#logistic-regression\n",
      "  n_iter_i = _check_optimize_result(\n",
      "/opt/conda/lib/python3.9/site-packages/sklearn/linear_model/_logistic.py:763: ConvergenceWarning: lbfgs failed to converge (status=1):\n",
      "STOP: TOTAL NO. of ITERATIONS REACHED LIMIT.\n",
      "\n",
      "Increase the number of iterations (max_iter) or scale the data as shown in:\n",
      "    https://scikit-learn.org/stable/modules/preprocessing.html\n",
      "Please also refer to the documentation for alternative solver options:\n",
      "    https://scikit-learn.org/stable/modules/linear_model.html#logistic-regression\n",
      "  n_iter_i = _check_optimize_result(\n",
      "/opt/conda/lib/python3.9/site-packages/sklearn/linear_model/_logistic.py:763: ConvergenceWarning: lbfgs failed to converge (status=1):\n",
      "STOP: TOTAL NO. of ITERATIONS REACHED LIMIT.\n",
      "\n",
      "Increase the number of iterations (max_iter) or scale the data as shown in:\n",
      "    https://scikit-learn.org/stable/modules/preprocessing.html\n",
      "Please also refer to the documentation for alternative solver options:\n",
      "    https://scikit-learn.org/stable/modules/linear_model.html#logistic-regression\n",
      "  n_iter_i = _check_optimize_result(\n",
      "/opt/conda/lib/python3.9/site-packages/sklearn/linear_model/_logistic.py:763: ConvergenceWarning: lbfgs failed to converge (status=1):\n",
      "STOP: TOTAL NO. of ITERATIONS REACHED LIMIT.\n",
      "\n",
      "Increase the number of iterations (max_iter) or scale the data as shown in:\n",
      "    https://scikit-learn.org/stable/modules/preprocessing.html\n",
      "Please also refer to the documentation for alternative solver options:\n",
      "    https://scikit-learn.org/stable/modules/linear_model.html#logistic-regression\n",
      "  n_iter_i = _check_optimize_result(\n",
      "/opt/conda/lib/python3.9/site-packages/sklearn/linear_model/_logistic.py:763: ConvergenceWarning: lbfgs failed to converge (status=1):\n",
      "STOP: TOTAL NO. of ITERATIONS REACHED LIMIT.\n",
      "\n",
      "Increase the number of iterations (max_iter) or scale the data as shown in:\n",
      "    https://scikit-learn.org/stable/modules/preprocessing.html\n",
      "Please also refer to the documentation for alternative solver options:\n",
      "    https://scikit-learn.org/stable/modules/linear_model.html#logistic-regression\n",
      "  n_iter_i = _check_optimize_result(\n",
      "/opt/conda/lib/python3.9/site-packages/sklearn/linear_model/_logistic.py:763: ConvergenceWarning: lbfgs failed to converge (status=1):\n",
      "STOP: TOTAL NO. of ITERATIONS REACHED LIMIT.\n",
      "\n",
      "Increase the number of iterations (max_iter) or scale the data as shown in:\n",
      "    https://scikit-learn.org/stable/modules/preprocessing.html\n",
      "Please also refer to the documentation for alternative solver options:\n",
      "    https://scikit-learn.org/stable/modules/linear_model.html#logistic-regression\n",
      "  n_iter_i = _check_optimize_result(\n",
      "/opt/conda/lib/python3.9/site-packages/sklearn/linear_model/_logistic.py:763: ConvergenceWarning: lbfgs failed to converge (status=1):\n",
      "STOP: TOTAL NO. of ITERATIONS REACHED LIMIT.\n",
      "\n",
      "Increase the number of iterations (max_iter) or scale the data as shown in:\n",
      "    https://scikit-learn.org/stable/modules/preprocessing.html\n",
      "Please also refer to the documentation for alternative solver options:\n",
      "    https://scikit-learn.org/stable/modules/linear_model.html#logistic-regression\n",
      "  n_iter_i = _check_optimize_result(\n",
      "/opt/conda/lib/python3.9/site-packages/sklearn/linear_model/_logistic.py:763: ConvergenceWarning: lbfgs failed to converge (status=1):\n",
      "STOP: TOTAL NO. of ITERATIONS REACHED LIMIT.\n",
      "\n",
      "Increase the number of iterations (max_iter) or scale the data as shown in:\n",
      "    https://scikit-learn.org/stable/modules/preprocessing.html\n",
      "Please also refer to the documentation for alternative solver options:\n",
      "    https://scikit-learn.org/stable/modules/linear_model.html#logistic-regression\n",
      "  n_iter_i = _check_optimize_result(\n",
      "/opt/conda/lib/python3.9/site-packages/sklearn/linear_model/_logistic.py:763: ConvergenceWarning: lbfgs failed to converge (status=1):\n",
      "STOP: TOTAL NO. of ITERATIONS REACHED LIMIT.\n",
      "\n",
      "Increase the number of iterations (max_iter) or scale the data as shown in:\n",
      "    https://scikit-learn.org/stable/modules/preprocessing.html\n",
      "Please also refer to the documentation for alternative solver options:\n",
      "    https://scikit-learn.org/stable/modules/linear_model.html#logistic-regression\n",
      "  n_iter_i = _check_optimize_result(\n",
      "/opt/conda/lib/python3.9/site-packages/sklearn/linear_model/_logistic.py:763: ConvergenceWarning: lbfgs failed to converge (status=1):\n",
      "STOP: TOTAL NO. of ITERATIONS REACHED LIMIT.\n",
      "\n",
      "Increase the number of iterations (max_iter) or scale the data as shown in:\n",
      "    https://scikit-learn.org/stable/modules/preprocessing.html\n",
      "Please also refer to the documentation for alternative solver options:\n",
      "    https://scikit-learn.org/stable/modules/linear_model.html#logistic-regression\n",
      "  n_iter_i = _check_optimize_result(\n",
      "/opt/conda/lib/python3.9/site-packages/sklearn/linear_model/_logistic.py:763: ConvergenceWarning: lbfgs failed to converge (status=1):\n",
      "STOP: TOTAL NO. of ITERATIONS REACHED LIMIT.\n",
      "\n",
      "Increase the number of iterations (max_iter) or scale the data as shown in:\n",
      "    https://scikit-learn.org/stable/modules/preprocessing.html\n",
      "Please also refer to the documentation for alternative solver options:\n",
      "    https://scikit-learn.org/stable/modules/linear_model.html#logistic-regression\n",
      "  n_iter_i = _check_optimize_result(\n",
      "/opt/conda/lib/python3.9/site-packages/sklearn/linear_model/_logistic.py:763: ConvergenceWarning: lbfgs failed to converge (status=1):\n",
      "STOP: TOTAL NO. of ITERATIONS REACHED LIMIT.\n",
      "\n",
      "Increase the number of iterations (max_iter) or scale the data as shown in:\n",
      "    https://scikit-learn.org/stable/modules/preprocessing.html\n",
      "Please also refer to the documentation for alternative solver options:\n",
      "    https://scikit-learn.org/stable/modules/linear_model.html#logistic-regression\n",
      "  n_iter_i = _check_optimize_result(\n",
      "/opt/conda/lib/python3.9/site-packages/sklearn/linear_model/_logistic.py:763: ConvergenceWarning: lbfgs failed to converge (status=1):\n",
      "STOP: TOTAL NO. of ITERATIONS REACHED LIMIT.\n",
      "\n",
      "Increase the number of iterations (max_iter) or scale the data as shown in:\n",
      "    https://scikit-learn.org/stable/modules/preprocessing.html\n",
      "Please also refer to the documentation for alternative solver options:\n",
      "    https://scikit-learn.org/stable/modules/linear_model.html#logistic-regression\n",
      "  n_iter_i = _check_optimize_result(\n",
      "/opt/conda/lib/python3.9/site-packages/sklearn/linear_model/_logistic.py:763: ConvergenceWarning: lbfgs failed to converge (status=1):\n",
      "STOP: TOTAL NO. of ITERATIONS REACHED LIMIT.\n",
      "\n",
      "Increase the number of iterations (max_iter) or scale the data as shown in:\n",
      "    https://scikit-learn.org/stable/modules/preprocessing.html\n",
      "Please also refer to the documentation for alternative solver options:\n",
      "    https://scikit-learn.org/stable/modules/linear_model.html#logistic-regression\n",
      "  n_iter_i = _check_optimize_result(\n",
      "/opt/conda/lib/python3.9/site-packages/sklearn/linear_model/_logistic.py:763: ConvergenceWarning: lbfgs failed to converge (status=1):\n",
      "STOP: TOTAL NO. of ITERATIONS REACHED LIMIT.\n",
      "\n",
      "Increase the number of iterations (max_iter) or scale the data as shown in:\n",
      "    https://scikit-learn.org/stable/modules/preprocessing.html\n",
      "Please also refer to the documentation for alternative solver options:\n",
      "    https://scikit-learn.org/stable/modules/linear_model.html#logistic-regression\n",
      "  n_iter_i = _check_optimize_result(\n",
      "/opt/conda/lib/python3.9/site-packages/sklearn/linear_model/_logistic.py:763: ConvergenceWarning: lbfgs failed to converge (status=1):\n",
      "STOP: TOTAL NO. of ITERATIONS REACHED LIMIT.\n",
      "\n",
      "Increase the number of iterations (max_iter) or scale the data as shown in:\n",
      "    https://scikit-learn.org/stable/modules/preprocessing.html\n",
      "Please also refer to the documentation for alternative solver options:\n",
      "    https://scikit-learn.org/stable/modules/linear_model.html#logistic-regression\n",
      "  n_iter_i = _check_optimize_result(\n",
      "/opt/conda/lib/python3.9/site-packages/sklearn/linear_model/_logistic.py:763: ConvergenceWarning: lbfgs failed to converge (status=1):\n",
      "STOP: TOTAL NO. of ITERATIONS REACHED LIMIT.\n",
      "\n",
      "Increase the number of iterations (max_iter) or scale the data as shown in:\n",
      "    https://scikit-learn.org/stable/modules/preprocessing.html\n",
      "Please also refer to the documentation for alternative solver options:\n",
      "    https://scikit-learn.org/stable/modules/linear_model.html#logistic-regression\n",
      "  n_iter_i = _check_optimize_result(\n",
      "/opt/conda/lib/python3.9/site-packages/sklearn/linear_model/_logistic.py:763: ConvergenceWarning: lbfgs failed to converge (status=1):\n",
      "STOP: TOTAL NO. of ITERATIONS REACHED LIMIT.\n",
      "\n",
      "Increase the number of iterations (max_iter) or scale the data as shown in:\n",
      "    https://scikit-learn.org/stable/modules/preprocessing.html\n",
      "Please also refer to the documentation for alternative solver options:\n",
      "    https://scikit-learn.org/stable/modules/linear_model.html#logistic-regression\n",
      "  n_iter_i = _check_optimize_result(\n",
      "/opt/conda/lib/python3.9/site-packages/sklearn/linear_model/_logistic.py:763: ConvergenceWarning: lbfgs failed to converge (status=1):\n",
      "STOP: TOTAL NO. of ITERATIONS REACHED LIMIT.\n",
      "\n",
      "Increase the number of iterations (max_iter) or scale the data as shown in:\n",
      "    https://scikit-learn.org/stable/modules/preprocessing.html\n",
      "Please also refer to the documentation for alternative solver options:\n",
      "    https://scikit-learn.org/stable/modules/linear_model.html#logistic-regression\n",
      "  n_iter_i = _check_optimize_result(\n",
      "/opt/conda/lib/python3.9/site-packages/sklearn/linear_model/_logistic.py:763: ConvergenceWarning: lbfgs failed to converge (status=1):\n",
      "STOP: TOTAL NO. of ITERATIONS REACHED LIMIT.\n",
      "\n",
      "Increase the number of iterations (max_iter) or scale the data as shown in:\n",
      "    https://scikit-learn.org/stable/modules/preprocessing.html\n",
      "Please also refer to the documentation for alternative solver options:\n",
      "    https://scikit-learn.org/stable/modules/linear_model.html#logistic-regression\n",
      "  n_iter_i = _check_optimize_result(\n",
      "/opt/conda/lib/python3.9/site-packages/sklearn/linear_model/_logistic.py:763: ConvergenceWarning: lbfgs failed to converge (status=1):\n",
      "STOP: TOTAL NO. of ITERATIONS REACHED LIMIT.\n",
      "\n",
      "Increase the number of iterations (max_iter) or scale the data as shown in:\n",
      "    https://scikit-learn.org/stable/modules/preprocessing.html\n",
      "Please also refer to the documentation for alternative solver options:\n",
      "    https://scikit-learn.org/stable/modules/linear_model.html#logistic-regression\n",
      "  n_iter_i = _check_optimize_result(\n",
      "/opt/conda/lib/python3.9/site-packages/sklearn/linear_model/_logistic.py:763: ConvergenceWarning: lbfgs failed to converge (status=1):\n",
      "STOP: TOTAL NO. of ITERATIONS REACHED LIMIT.\n",
      "\n",
      "Increase the number of iterations (max_iter) or scale the data as shown in:\n",
      "    https://scikit-learn.org/stable/modules/preprocessing.html\n",
      "Please also refer to the documentation for alternative solver options:\n",
      "    https://scikit-learn.org/stable/modules/linear_model.html#logistic-regression\n",
      "  n_iter_i = _check_optimize_result(\n",
      "/opt/conda/lib/python3.9/site-packages/sklearn/linear_model/_logistic.py:763: ConvergenceWarning: lbfgs failed to converge (status=1):\n",
      "STOP: TOTAL NO. of ITERATIONS REACHED LIMIT.\n",
      "\n",
      "Increase the number of iterations (max_iter) or scale the data as shown in:\n",
      "    https://scikit-learn.org/stable/modules/preprocessing.html\n",
      "Please also refer to the documentation for alternative solver options:\n",
      "    https://scikit-learn.org/stable/modules/linear_model.html#logistic-regression\n",
      "  n_iter_i = _check_optimize_result(\n",
      "/opt/conda/lib/python3.9/site-packages/sklearn/linear_model/_logistic.py:763: ConvergenceWarning: lbfgs failed to converge (status=1):\n",
      "STOP: TOTAL NO. of ITERATIONS REACHED LIMIT.\n",
      "\n",
      "Increase the number of iterations (max_iter) or scale the data as shown in:\n",
      "    https://scikit-learn.org/stable/modules/preprocessing.html\n",
      "Please also refer to the documentation for alternative solver options:\n",
      "    https://scikit-learn.org/stable/modules/linear_model.html#logistic-regression\n",
      "  n_iter_i = _check_optimize_result(\n",
      "/opt/conda/lib/python3.9/site-packages/sklearn/linear_model/_logistic.py:763: ConvergenceWarning: lbfgs failed to converge (status=1):\n",
      "STOP: TOTAL NO. of ITERATIONS REACHED LIMIT.\n",
      "\n",
      "Increase the number of iterations (max_iter) or scale the data as shown in:\n",
      "    https://scikit-learn.org/stable/modules/preprocessing.html\n",
      "Please also refer to the documentation for alternative solver options:\n",
      "    https://scikit-learn.org/stable/modules/linear_model.html#logistic-regression\n",
      "  n_iter_i = _check_optimize_result(\n",
      "/opt/conda/lib/python3.9/site-packages/sklearn/linear_model/_logistic.py:763: ConvergenceWarning: lbfgs failed to converge (status=1):\n",
      "STOP: TOTAL NO. of ITERATIONS REACHED LIMIT.\n",
      "\n",
      "Increase the number of iterations (max_iter) or scale the data as shown in:\n",
      "    https://scikit-learn.org/stable/modules/preprocessing.html\n",
      "Please also refer to the documentation for alternative solver options:\n",
      "    https://scikit-learn.org/stable/modules/linear_model.html#logistic-regression\n",
      "  n_iter_i = _check_optimize_result(\n",
      "/opt/conda/lib/python3.9/site-packages/sklearn/linear_model/_logistic.py:763: ConvergenceWarning: lbfgs failed to converge (status=1):\n",
      "STOP: TOTAL NO. of ITERATIONS REACHED LIMIT.\n",
      "\n",
      "Increase the number of iterations (max_iter) or scale the data as shown in:\n",
      "    https://scikit-learn.org/stable/modules/preprocessing.html\n",
      "Please also refer to the documentation for alternative solver options:\n",
      "    https://scikit-learn.org/stable/modules/linear_model.html#logistic-regression\n",
      "  n_iter_i = _check_optimize_result(\n",
      "/opt/conda/lib/python3.9/site-packages/sklearn/linear_model/_logistic.py:763: ConvergenceWarning: lbfgs failed to converge (status=1):\n",
      "STOP: TOTAL NO. of ITERATIONS REACHED LIMIT.\n",
      "\n",
      "Increase the number of iterations (max_iter) or scale the data as shown in:\n",
      "    https://scikit-learn.org/stable/modules/preprocessing.html\n",
      "Please also refer to the documentation for alternative solver options:\n",
      "    https://scikit-learn.org/stable/modules/linear_model.html#logistic-regression\n",
      "  n_iter_i = _check_optimize_result(\n",
      "/opt/conda/lib/python3.9/site-packages/sklearn/linear_model/_logistic.py:763: ConvergenceWarning: lbfgs failed to converge (status=1):\n",
      "STOP: TOTAL NO. of ITERATIONS REACHED LIMIT.\n",
      "\n",
      "Increase the number of iterations (max_iter) or scale the data as shown in:\n",
      "    https://scikit-learn.org/stable/modules/preprocessing.html\n",
      "Please also refer to the documentation for alternative solver options:\n",
      "    https://scikit-learn.org/stable/modules/linear_model.html#logistic-regression\n",
      "  n_iter_i = _check_optimize_result(\n",
      "/opt/conda/lib/python3.9/site-packages/sklearn/linear_model/_logistic.py:763: ConvergenceWarning: lbfgs failed to converge (status=1):\n",
      "STOP: TOTAL NO. of ITERATIONS REACHED LIMIT.\n",
      "\n",
      "Increase the number of iterations (max_iter) or scale the data as shown in:\n",
      "    https://scikit-learn.org/stable/modules/preprocessing.html\n",
      "Please also refer to the documentation for alternative solver options:\n",
      "    https://scikit-learn.org/stable/modules/linear_model.html#logistic-regression\n",
      "  n_iter_i = _check_optimize_result(\n",
      "/opt/conda/lib/python3.9/site-packages/sklearn/linear_model/_logistic.py:763: ConvergenceWarning: lbfgs failed to converge (status=1):\n",
      "STOP: TOTAL NO. of ITERATIONS REACHED LIMIT.\n",
      "\n",
      "Increase the number of iterations (max_iter) or scale the data as shown in:\n",
      "    https://scikit-learn.org/stable/modules/preprocessing.html\n",
      "Please also refer to the documentation for alternative solver options:\n",
      "    https://scikit-learn.org/stable/modules/linear_model.html#logistic-regression\n",
      "  n_iter_i = _check_optimize_result(\n",
      "/opt/conda/lib/python3.9/site-packages/sklearn/linear_model/_logistic.py:763: ConvergenceWarning: lbfgs failed to converge (status=1):\n",
      "STOP: TOTAL NO. of ITERATIONS REACHED LIMIT.\n",
      "\n",
      "Increase the number of iterations (max_iter) or scale the data as shown in:\n",
      "    https://scikit-learn.org/stable/modules/preprocessing.html\n",
      "Please also refer to the documentation for alternative solver options:\n",
      "    https://scikit-learn.org/stable/modules/linear_model.html#logistic-regression\n",
      "  n_iter_i = _check_optimize_result(\n",
      "/opt/conda/lib/python3.9/site-packages/sklearn/linear_model/_logistic.py:763: ConvergenceWarning: lbfgs failed to converge (status=1):\n",
      "STOP: TOTAL NO. of ITERATIONS REACHED LIMIT.\n",
      "\n",
      "Increase the number of iterations (max_iter) or scale the data as shown in:\n",
      "    https://scikit-learn.org/stable/modules/preprocessing.html\n",
      "Please also refer to the documentation for alternative solver options:\n",
      "    https://scikit-learn.org/stable/modules/linear_model.html#logistic-regression\n",
      "  n_iter_i = _check_optimize_result(\n",
      "/opt/conda/lib/python3.9/site-packages/sklearn/linear_model/_logistic.py:763: ConvergenceWarning: lbfgs failed to converge (status=1):\n",
      "STOP: TOTAL NO. of ITERATIONS REACHED LIMIT.\n",
      "\n",
      "Increase the number of iterations (max_iter) or scale the data as shown in:\n",
      "    https://scikit-learn.org/stable/modules/preprocessing.html\n",
      "Please also refer to the documentation for alternative solver options:\n",
      "    https://scikit-learn.org/stable/modules/linear_model.html#logistic-regression\n",
      "  n_iter_i = _check_optimize_result(\n",
      "/opt/conda/lib/python3.9/site-packages/sklearn/linear_model/_logistic.py:763: ConvergenceWarning: lbfgs failed to converge (status=1):\n",
      "STOP: TOTAL NO. of ITERATIONS REACHED LIMIT.\n",
      "\n",
      "Increase the number of iterations (max_iter) or scale the data as shown in:\n",
      "    https://scikit-learn.org/stable/modules/preprocessing.html\n",
      "Please also refer to the documentation for alternative solver options:\n",
      "    https://scikit-learn.org/stable/modules/linear_model.html#logistic-regression\n",
      "  n_iter_i = _check_optimize_result(\n",
      "/opt/conda/lib/python3.9/site-packages/sklearn/linear_model/_logistic.py:763: ConvergenceWarning: lbfgs failed to converge (status=1):\n",
      "STOP: TOTAL NO. of ITERATIONS REACHED LIMIT.\n",
      "\n",
      "Increase the number of iterations (max_iter) or scale the data as shown in:\n",
      "    https://scikit-learn.org/stable/modules/preprocessing.html\n",
      "Please also refer to the documentation for alternative solver options:\n",
      "    https://scikit-learn.org/stable/modules/linear_model.html#logistic-regression\n",
      "  n_iter_i = _check_optimize_result(\n",
      "/opt/conda/lib/python3.9/site-packages/sklearn/linear_model/_logistic.py:763: ConvergenceWarning: lbfgs failed to converge (status=1):\n",
      "STOP: TOTAL NO. of ITERATIONS REACHED LIMIT.\n",
      "\n",
      "Increase the number of iterations (max_iter) or scale the data as shown in:\n",
      "    https://scikit-learn.org/stable/modules/preprocessing.html\n",
      "Please also refer to the documentation for alternative solver options:\n",
      "    https://scikit-learn.org/stable/modules/linear_model.html#logistic-regression\n",
      "  n_iter_i = _check_optimize_result(\n",
      "/opt/conda/lib/python3.9/site-packages/sklearn/linear_model/_logistic.py:763: ConvergenceWarning: lbfgs failed to converge (status=1):\n",
      "STOP: TOTAL NO. of ITERATIONS REACHED LIMIT.\n",
      "\n",
      "Increase the number of iterations (max_iter) or scale the data as shown in:\n",
      "    https://scikit-learn.org/stable/modules/preprocessing.html\n",
      "Please also refer to the documentation for alternative solver options:\n",
      "    https://scikit-learn.org/stable/modules/linear_model.html#logistic-regression\n",
      "  n_iter_i = _check_optimize_result(\n",
      "/opt/conda/lib/python3.9/site-packages/sklearn/linear_model/_logistic.py:763: ConvergenceWarning: lbfgs failed to converge (status=1):\n",
      "STOP: TOTAL NO. of ITERATIONS REACHED LIMIT.\n",
      "\n",
      "Increase the number of iterations (max_iter) or scale the data as shown in:\n",
      "    https://scikit-learn.org/stable/modules/preprocessing.html\n",
      "Please also refer to the documentation for alternative solver options:\n",
      "    https://scikit-learn.org/stable/modules/linear_model.html#logistic-regression\n",
      "  n_iter_i = _check_optimize_result(\n",
      "/opt/conda/lib/python3.9/site-packages/sklearn/linear_model/_logistic.py:763: ConvergenceWarning: lbfgs failed to converge (status=1):\n",
      "STOP: TOTAL NO. of ITERATIONS REACHED LIMIT.\n",
      "\n",
      "Increase the number of iterations (max_iter) or scale the data as shown in:\n",
      "    https://scikit-learn.org/stable/modules/preprocessing.html\n",
      "Please also refer to the documentation for alternative solver options:\n",
      "    https://scikit-learn.org/stable/modules/linear_model.html#logistic-regression\n",
      "  n_iter_i = _check_optimize_result(\n",
      "/opt/conda/lib/python3.9/site-packages/sklearn/linear_model/_logistic.py:763: ConvergenceWarning: lbfgs failed to converge (status=1):\n",
      "STOP: TOTAL NO. of ITERATIONS REACHED LIMIT.\n",
      "\n",
      "Increase the number of iterations (max_iter) or scale the data as shown in:\n",
      "    https://scikit-learn.org/stable/modules/preprocessing.html\n",
      "Please also refer to the documentation for alternative solver options:\n",
      "    https://scikit-learn.org/stable/modules/linear_model.html#logistic-regression\n",
      "  n_iter_i = _check_optimize_result(\n",
      "/opt/conda/lib/python3.9/site-packages/sklearn/linear_model/_logistic.py:763: ConvergenceWarning: lbfgs failed to converge (status=1):\n",
      "STOP: TOTAL NO. of ITERATIONS REACHED LIMIT.\n",
      "\n",
      "Increase the number of iterations (max_iter) or scale the data as shown in:\n",
      "    https://scikit-learn.org/stable/modules/preprocessing.html\n",
      "Please also refer to the documentation for alternative solver options:\n",
      "    https://scikit-learn.org/stable/modules/linear_model.html#logistic-regression\n",
      "  n_iter_i = _check_optimize_result(\n",
      "/opt/conda/lib/python3.9/site-packages/sklearn/linear_model/_logistic.py:763: ConvergenceWarning: lbfgs failed to converge (status=1):\n",
      "STOP: TOTAL NO. of ITERATIONS REACHED LIMIT.\n",
      "\n",
      "Increase the number of iterations (max_iter) or scale the data as shown in:\n",
      "    https://scikit-learn.org/stable/modules/preprocessing.html\n",
      "Please also refer to the documentation for alternative solver options:\n",
      "    https://scikit-learn.org/stable/modules/linear_model.html#logistic-regression\n",
      "  n_iter_i = _check_optimize_result(\n",
      "/opt/conda/lib/python3.9/site-packages/sklearn/linear_model/_logistic.py:763: ConvergenceWarning: lbfgs failed to converge (status=1):\n",
      "STOP: TOTAL NO. of ITERATIONS REACHED LIMIT.\n",
      "\n",
      "Increase the number of iterations (max_iter) or scale the data as shown in:\n",
      "    https://scikit-learn.org/stable/modules/preprocessing.html\n",
      "Please also refer to the documentation for alternative solver options:\n",
      "    https://scikit-learn.org/stable/modules/linear_model.html#logistic-regression\n",
      "  n_iter_i = _check_optimize_result(\n",
      "/opt/conda/lib/python3.9/site-packages/sklearn/linear_model/_logistic.py:763: ConvergenceWarning: lbfgs failed to converge (status=1):\n",
      "STOP: TOTAL NO. of ITERATIONS REACHED LIMIT.\n",
      "\n",
      "Increase the number of iterations (max_iter) or scale the data as shown in:\n",
      "    https://scikit-learn.org/stable/modules/preprocessing.html\n",
      "Please also refer to the documentation for alternative solver options:\n",
      "    https://scikit-learn.org/stable/modules/linear_model.html#logistic-regression\n",
      "  n_iter_i = _check_optimize_result(\n",
      "/opt/conda/lib/python3.9/site-packages/sklearn/linear_model/_logistic.py:763: ConvergenceWarning: lbfgs failed to converge (status=1):\n",
      "STOP: TOTAL NO. of ITERATIONS REACHED LIMIT.\n",
      "\n",
      "Increase the number of iterations (max_iter) or scale the data as shown in:\n",
      "    https://scikit-learn.org/stable/modules/preprocessing.html\n",
      "Please also refer to the documentation for alternative solver options:\n",
      "    https://scikit-learn.org/stable/modules/linear_model.html#logistic-regression\n",
      "  n_iter_i = _check_optimize_result(\n",
      "/opt/conda/lib/python3.9/site-packages/sklearn/linear_model/_logistic.py:763: ConvergenceWarning: lbfgs failed to converge (status=1):\n",
      "STOP: TOTAL NO. of ITERATIONS REACHED LIMIT.\n",
      "\n",
      "Increase the number of iterations (max_iter) or scale the data as shown in:\n",
      "    https://scikit-learn.org/stable/modules/preprocessing.html\n",
      "Please also refer to the documentation for alternative solver options:\n",
      "    https://scikit-learn.org/stable/modules/linear_model.html#logistic-regression\n",
      "  n_iter_i = _check_optimize_result(\n",
      "/opt/conda/lib/python3.9/site-packages/sklearn/linear_model/_logistic.py:763: ConvergenceWarning: lbfgs failed to converge (status=1):\n",
      "STOP: TOTAL NO. of ITERATIONS REACHED LIMIT.\n",
      "\n",
      "Increase the number of iterations (max_iter) or scale the data as shown in:\n",
      "    https://scikit-learn.org/stable/modules/preprocessing.html\n",
      "Please also refer to the documentation for alternative solver options:\n",
      "    https://scikit-learn.org/stable/modules/linear_model.html#logistic-regression\n",
      "  n_iter_i = _check_optimize_result(\n",
      "/opt/conda/lib/python3.9/site-packages/sklearn/linear_model/_logistic.py:763: ConvergenceWarning: lbfgs failed to converge (status=1):\n",
      "STOP: TOTAL NO. of ITERATIONS REACHED LIMIT.\n",
      "\n",
      "Increase the number of iterations (max_iter) or scale the data as shown in:\n",
      "    https://scikit-learn.org/stable/modules/preprocessing.html\n",
      "Please also refer to the documentation for alternative solver options:\n",
      "    https://scikit-learn.org/stable/modules/linear_model.html#logistic-regression\n",
      "  n_iter_i = _check_optimize_result(\n",
      "/opt/conda/lib/python3.9/site-packages/sklearn/linear_model/_logistic.py:763: ConvergenceWarning: lbfgs failed to converge (status=1):\n",
      "STOP: TOTAL NO. of ITERATIONS REACHED LIMIT.\n",
      "\n",
      "Increase the number of iterations (max_iter) or scale the data as shown in:\n",
      "    https://scikit-learn.org/stable/modules/preprocessing.html\n",
      "Please also refer to the documentation for alternative solver options:\n",
      "    https://scikit-learn.org/stable/modules/linear_model.html#logistic-regression\n",
      "  n_iter_i = _check_optimize_result(\n",
      "/opt/conda/lib/python3.9/site-packages/sklearn/linear_model/_logistic.py:763: ConvergenceWarning: lbfgs failed to converge (status=1):\n",
      "STOP: TOTAL NO. of ITERATIONS REACHED LIMIT.\n",
      "\n",
      "Increase the number of iterations (max_iter) or scale the data as shown in:\n",
      "    https://scikit-learn.org/stable/modules/preprocessing.html\n",
      "Please also refer to the documentation for alternative solver options:\n",
      "    https://scikit-learn.org/stable/modules/linear_model.html#logistic-regression\n",
      "  n_iter_i = _check_optimize_result(\n",
      "/opt/conda/lib/python3.9/site-packages/sklearn/linear_model/_logistic.py:763: ConvergenceWarning: lbfgs failed to converge (status=1):\n",
      "STOP: TOTAL NO. of ITERATIONS REACHED LIMIT.\n",
      "\n",
      "Increase the number of iterations (max_iter) or scale the data as shown in:\n",
      "    https://scikit-learn.org/stable/modules/preprocessing.html\n",
      "Please also refer to the documentation for alternative solver options:\n",
      "    https://scikit-learn.org/stable/modules/linear_model.html#logistic-regression\n",
      "  n_iter_i = _check_optimize_result(\n",
      "/opt/conda/lib/python3.9/site-packages/sklearn/linear_model/_logistic.py:763: ConvergenceWarning: lbfgs failed to converge (status=1):\n",
      "STOP: TOTAL NO. of ITERATIONS REACHED LIMIT.\n",
      "\n",
      "Increase the number of iterations (max_iter) or scale the data as shown in:\n",
      "    https://scikit-learn.org/stable/modules/preprocessing.html\n",
      "Please also refer to the documentation for alternative solver options:\n",
      "    https://scikit-learn.org/stable/modules/linear_model.html#logistic-regression\n",
      "  n_iter_i = _check_optimize_result(\n",
      "/opt/conda/lib/python3.9/site-packages/sklearn/linear_model/_logistic.py:763: ConvergenceWarning: lbfgs failed to converge (status=1):\n",
      "STOP: TOTAL NO. of ITERATIONS REACHED LIMIT.\n",
      "\n",
      "Increase the number of iterations (max_iter) or scale the data as shown in:\n",
      "    https://scikit-learn.org/stable/modules/preprocessing.html\n",
      "Please also refer to the documentation for alternative solver options:\n",
      "    https://scikit-learn.org/stable/modules/linear_model.html#logistic-regression\n",
      "  n_iter_i = _check_optimize_result(\n",
      "/opt/conda/lib/python3.9/site-packages/sklearn/linear_model/_logistic.py:763: ConvergenceWarning: lbfgs failed to converge (status=1):\n",
      "STOP: TOTAL NO. of ITERATIONS REACHED LIMIT.\n",
      "\n",
      "Increase the number of iterations (max_iter) or scale the data as shown in:\n",
      "    https://scikit-learn.org/stable/modules/preprocessing.html\n",
      "Please also refer to the documentation for alternative solver options:\n",
      "    https://scikit-learn.org/stable/modules/linear_model.html#logistic-regression\n",
      "  n_iter_i = _check_optimize_result(\n",
      "/opt/conda/lib/python3.9/site-packages/sklearn/linear_model/_logistic.py:763: ConvergenceWarning: lbfgs failed to converge (status=1):\n",
      "STOP: TOTAL NO. of ITERATIONS REACHED LIMIT.\n",
      "\n",
      "Increase the number of iterations (max_iter) or scale the data as shown in:\n",
      "    https://scikit-learn.org/stable/modules/preprocessing.html\n",
      "Please also refer to the documentation for alternative solver options:\n",
      "    https://scikit-learn.org/stable/modules/linear_model.html#logistic-regression\n",
      "  n_iter_i = _check_optimize_result(\n",
      "/opt/conda/lib/python3.9/site-packages/sklearn/linear_model/_logistic.py:763: ConvergenceWarning: lbfgs failed to converge (status=1):\n",
      "STOP: TOTAL NO. of ITERATIONS REACHED LIMIT.\n",
      "\n",
      "Increase the number of iterations (max_iter) or scale the data as shown in:\n",
      "    https://scikit-learn.org/stable/modules/preprocessing.html\n",
      "Please also refer to the documentation for alternative solver options:\n",
      "    https://scikit-learn.org/stable/modules/linear_model.html#logistic-regression\n",
      "  n_iter_i = _check_optimize_result(\n",
      "/opt/conda/lib/python3.9/site-packages/sklearn/linear_model/_logistic.py:763: ConvergenceWarning: lbfgs failed to converge (status=1):\n",
      "STOP: TOTAL NO. of ITERATIONS REACHED LIMIT.\n",
      "\n",
      "Increase the number of iterations (max_iter) or scale the data as shown in:\n",
      "    https://scikit-learn.org/stable/modules/preprocessing.html\n",
      "Please also refer to the documentation for alternative solver options:\n",
      "    https://scikit-learn.org/stable/modules/linear_model.html#logistic-regression\n",
      "  n_iter_i = _check_optimize_result(\n",
      "/opt/conda/lib/python3.9/site-packages/sklearn/linear_model/_logistic.py:763: ConvergenceWarning: lbfgs failed to converge (status=1):\n",
      "STOP: TOTAL NO. of ITERATIONS REACHED LIMIT.\n",
      "\n",
      "Increase the number of iterations (max_iter) or scale the data as shown in:\n",
      "    https://scikit-learn.org/stable/modules/preprocessing.html\n",
      "Please also refer to the documentation for alternative solver options:\n",
      "    https://scikit-learn.org/stable/modules/linear_model.html#logistic-regression\n",
      "  n_iter_i = _check_optimize_result(\n",
      "/opt/conda/lib/python3.9/site-packages/sklearn/linear_model/_logistic.py:763: ConvergenceWarning: lbfgs failed to converge (status=1):\n",
      "STOP: TOTAL NO. of ITERATIONS REACHED LIMIT.\n",
      "\n",
      "Increase the number of iterations (max_iter) or scale the data as shown in:\n",
      "    https://scikit-learn.org/stable/modules/preprocessing.html\n",
      "Please also refer to the documentation for alternative solver options:\n",
      "    https://scikit-learn.org/stable/modules/linear_model.html#logistic-regression\n",
      "  n_iter_i = _check_optimize_result(\n",
      "/opt/conda/lib/python3.9/site-packages/sklearn/linear_model/_logistic.py:763: ConvergenceWarning: lbfgs failed to converge (status=1):\n",
      "STOP: TOTAL NO. of ITERATIONS REACHED LIMIT.\n",
      "\n",
      "Increase the number of iterations (max_iter) or scale the data as shown in:\n",
      "    https://scikit-learn.org/stable/modules/preprocessing.html\n",
      "Please also refer to the documentation for alternative solver options:\n",
      "    https://scikit-learn.org/stable/modules/linear_model.html#logistic-regression\n",
      "  n_iter_i = _check_optimize_result(\n",
      "/opt/conda/lib/python3.9/site-packages/sklearn/linear_model/_logistic.py:763: ConvergenceWarning: lbfgs failed to converge (status=1):\n",
      "STOP: TOTAL NO. of ITERATIONS REACHED LIMIT.\n",
      "\n",
      "Increase the number of iterations (max_iter) or scale the data as shown in:\n",
      "    https://scikit-learn.org/stable/modules/preprocessing.html\n",
      "Please also refer to the documentation for alternative solver options:\n",
      "    https://scikit-learn.org/stable/modules/linear_model.html#logistic-regression\n",
      "  n_iter_i = _check_optimize_result(\n",
      "/opt/conda/lib/python3.9/site-packages/sklearn/linear_model/_logistic.py:763: ConvergenceWarning: lbfgs failed to converge (status=1):\n",
      "STOP: TOTAL NO. of ITERATIONS REACHED LIMIT.\n",
      "\n",
      "Increase the number of iterations (max_iter) or scale the data as shown in:\n",
      "    https://scikit-learn.org/stable/modules/preprocessing.html\n",
      "Please also refer to the documentation for alternative solver options:\n",
      "    https://scikit-learn.org/stable/modules/linear_model.html#logistic-regression\n",
      "  n_iter_i = _check_optimize_result(\n",
      "/opt/conda/lib/python3.9/site-packages/sklearn/linear_model/_logistic.py:763: ConvergenceWarning: lbfgs failed to converge (status=1):\n",
      "STOP: TOTAL NO. of ITERATIONS REACHED LIMIT.\n",
      "\n",
      "Increase the number of iterations (max_iter) or scale the data as shown in:\n",
      "    https://scikit-learn.org/stable/modules/preprocessing.html\n",
      "Please also refer to the documentation for alternative solver options:\n",
      "    https://scikit-learn.org/stable/modules/linear_model.html#logistic-regression\n",
      "  n_iter_i = _check_optimize_result(\n",
      "/opt/conda/lib/python3.9/site-packages/sklearn/linear_model/_logistic.py:763: ConvergenceWarning: lbfgs failed to converge (status=1):\n",
      "STOP: TOTAL NO. of ITERATIONS REACHED LIMIT.\n",
      "\n",
      "Increase the number of iterations (max_iter) or scale the data as shown in:\n",
      "    https://scikit-learn.org/stable/modules/preprocessing.html\n",
      "Please also refer to the documentation for alternative solver options:\n",
      "    https://scikit-learn.org/stable/modules/linear_model.html#logistic-regression\n",
      "  n_iter_i = _check_optimize_result(\n",
      "/opt/conda/lib/python3.9/site-packages/sklearn/linear_model/_logistic.py:763: ConvergenceWarning: lbfgs failed to converge (status=1):\n",
      "STOP: TOTAL NO. of ITERATIONS REACHED LIMIT.\n",
      "\n",
      "Increase the number of iterations (max_iter) or scale the data as shown in:\n",
      "    https://scikit-learn.org/stable/modules/preprocessing.html\n",
      "Please also refer to the documentation for alternative solver options:\n",
      "    https://scikit-learn.org/stable/modules/linear_model.html#logistic-regression\n",
      "  n_iter_i = _check_optimize_result(\n",
      "/opt/conda/lib/python3.9/site-packages/sklearn/linear_model/_logistic.py:763: ConvergenceWarning: lbfgs failed to converge (status=1):\n",
      "STOP: TOTAL NO. of ITERATIONS REACHED LIMIT.\n",
      "\n",
      "Increase the number of iterations (max_iter) or scale the data as shown in:\n",
      "    https://scikit-learn.org/stable/modules/preprocessing.html\n",
      "Please also refer to the documentation for alternative solver options:\n",
      "    https://scikit-learn.org/stable/modules/linear_model.html#logistic-regression\n",
      "  n_iter_i = _check_optimize_result(\n",
      "/opt/conda/lib/python3.9/site-packages/sklearn/linear_model/_logistic.py:763: ConvergenceWarning: lbfgs failed to converge (status=1):\n",
      "STOP: TOTAL NO. of ITERATIONS REACHED LIMIT.\n",
      "\n",
      "Increase the number of iterations (max_iter) or scale the data as shown in:\n",
      "    https://scikit-learn.org/stable/modules/preprocessing.html\n",
      "Please also refer to the documentation for alternative solver options:\n",
      "    https://scikit-learn.org/stable/modules/linear_model.html#logistic-regression\n",
      "  n_iter_i = _check_optimize_result(\n",
      "/opt/conda/lib/python3.9/site-packages/sklearn/linear_model/_logistic.py:763: ConvergenceWarning: lbfgs failed to converge (status=1):\n",
      "STOP: TOTAL NO. of ITERATIONS REACHED LIMIT.\n",
      "\n",
      "Increase the number of iterations (max_iter) or scale the data as shown in:\n",
      "    https://scikit-learn.org/stable/modules/preprocessing.html\n",
      "Please also refer to the documentation for alternative solver options:\n",
      "    https://scikit-learn.org/stable/modules/linear_model.html#logistic-regression\n",
      "  n_iter_i = _check_optimize_result(\n",
      "/opt/conda/lib/python3.9/site-packages/sklearn/linear_model/_logistic.py:763: ConvergenceWarning: lbfgs failed to converge (status=1):\n",
      "STOP: TOTAL NO. of ITERATIONS REACHED LIMIT.\n",
      "\n",
      "Increase the number of iterations (max_iter) or scale the data as shown in:\n",
      "    https://scikit-learn.org/stable/modules/preprocessing.html\n",
      "Please also refer to the documentation for alternative solver options:\n",
      "    https://scikit-learn.org/stable/modules/linear_model.html#logistic-regression\n",
      "  n_iter_i = _check_optimize_result(\n",
      "/opt/conda/lib/python3.9/site-packages/sklearn/linear_model/_logistic.py:763: ConvergenceWarning: lbfgs failed to converge (status=1):\n",
      "STOP: TOTAL NO. of ITERATIONS REACHED LIMIT.\n",
      "\n",
      "Increase the number of iterations (max_iter) or scale the data as shown in:\n",
      "    https://scikit-learn.org/stable/modules/preprocessing.html\n",
      "Please also refer to the documentation for alternative solver options:\n",
      "    https://scikit-learn.org/stable/modules/linear_model.html#logistic-regression\n",
      "  n_iter_i = _check_optimize_result(\n",
      "/opt/conda/lib/python3.9/site-packages/sklearn/linear_model/_logistic.py:763: ConvergenceWarning: lbfgs failed to converge (status=1):\n",
      "STOP: TOTAL NO. of ITERATIONS REACHED LIMIT.\n",
      "\n",
      "Increase the number of iterations (max_iter) or scale the data as shown in:\n",
      "    https://scikit-learn.org/stable/modules/preprocessing.html\n",
      "Please also refer to the documentation for alternative solver options:\n",
      "    https://scikit-learn.org/stable/modules/linear_model.html#logistic-regression\n",
      "  n_iter_i = _check_optimize_result(\n",
      "/opt/conda/lib/python3.9/site-packages/sklearn/linear_model/_logistic.py:763: ConvergenceWarning: lbfgs failed to converge (status=1):\n",
      "STOP: TOTAL NO. of ITERATIONS REACHED LIMIT.\n",
      "\n",
      "Increase the number of iterations (max_iter) or scale the data as shown in:\n",
      "    https://scikit-learn.org/stable/modules/preprocessing.html\n",
      "Please also refer to the documentation for alternative solver options:\n",
      "    https://scikit-learn.org/stable/modules/linear_model.html#logistic-regression\n",
      "  n_iter_i = _check_optimize_result(\n",
      "/opt/conda/lib/python3.9/site-packages/sklearn/linear_model/_logistic.py:763: ConvergenceWarning: lbfgs failed to converge (status=1):\n",
      "STOP: TOTAL NO. of ITERATIONS REACHED LIMIT.\n",
      "\n",
      "Increase the number of iterations (max_iter) or scale the data as shown in:\n",
      "    https://scikit-learn.org/stable/modules/preprocessing.html\n",
      "Please also refer to the documentation for alternative solver options:\n",
      "    https://scikit-learn.org/stable/modules/linear_model.html#logistic-regression\n",
      "  n_iter_i = _check_optimize_result(\n",
      "/opt/conda/lib/python3.9/site-packages/sklearn/linear_model/_logistic.py:763: ConvergenceWarning: lbfgs failed to converge (status=1):\n",
      "STOP: TOTAL NO. of ITERATIONS REACHED LIMIT.\n",
      "\n",
      "Increase the number of iterations (max_iter) or scale the data as shown in:\n",
      "    https://scikit-learn.org/stable/modules/preprocessing.html\n",
      "Please also refer to the documentation for alternative solver options:\n",
      "    https://scikit-learn.org/stable/modules/linear_model.html#logistic-regression\n",
      "  n_iter_i = _check_optimize_result(\n",
      "/opt/conda/lib/python3.9/site-packages/sklearn/linear_model/_logistic.py:763: ConvergenceWarning: lbfgs failed to converge (status=1):\n",
      "STOP: TOTAL NO. of ITERATIONS REACHED LIMIT.\n",
      "\n",
      "Increase the number of iterations (max_iter) or scale the data as shown in:\n",
      "    https://scikit-learn.org/stable/modules/preprocessing.html\n",
      "Please also refer to the documentation for alternative solver options:\n",
      "    https://scikit-learn.org/stable/modules/linear_model.html#logistic-regression\n",
      "  n_iter_i = _check_optimize_result(\n",
      "/opt/conda/lib/python3.9/site-packages/sklearn/linear_model/_logistic.py:763: ConvergenceWarning: lbfgs failed to converge (status=1):\n",
      "STOP: TOTAL NO. of ITERATIONS REACHED LIMIT.\n",
      "\n",
      "Increase the number of iterations (max_iter) or scale the data as shown in:\n",
      "    https://scikit-learn.org/stable/modules/preprocessing.html\n",
      "Please also refer to the documentation for alternative solver options:\n",
      "    https://scikit-learn.org/stable/modules/linear_model.html#logistic-regression\n",
      "  n_iter_i = _check_optimize_result(\n",
      "/opt/conda/lib/python3.9/site-packages/sklearn/linear_model/_logistic.py:763: ConvergenceWarning: lbfgs failed to converge (status=1):\n",
      "STOP: TOTAL NO. of ITERATIONS REACHED LIMIT.\n",
      "\n",
      "Increase the number of iterations (max_iter) or scale the data as shown in:\n",
      "    https://scikit-learn.org/stable/modules/preprocessing.html\n",
      "Please also refer to the documentation for alternative solver options:\n",
      "    https://scikit-learn.org/stable/modules/linear_model.html#logistic-regression\n",
      "  n_iter_i = _check_optimize_result(\n",
      "/opt/conda/lib/python3.9/site-packages/sklearn/linear_model/_logistic.py:763: ConvergenceWarning: lbfgs failed to converge (status=1):\n",
      "STOP: TOTAL NO. of ITERATIONS REACHED LIMIT.\n",
      "\n",
      "Increase the number of iterations (max_iter) or scale the data as shown in:\n",
      "    https://scikit-learn.org/stable/modules/preprocessing.html\n",
      "Please also refer to the documentation for alternative solver options:\n",
      "    https://scikit-learn.org/stable/modules/linear_model.html#logistic-regression\n",
      "  n_iter_i = _check_optimize_result(\n",
      "/opt/conda/lib/python3.9/site-packages/sklearn/linear_model/_logistic.py:763: ConvergenceWarning: lbfgs failed to converge (status=1):\n",
      "STOP: TOTAL NO. of ITERATIONS REACHED LIMIT.\n",
      "\n",
      "Increase the number of iterations (max_iter) or scale the data as shown in:\n",
      "    https://scikit-learn.org/stable/modules/preprocessing.html\n",
      "Please also refer to the documentation for alternative solver options:\n",
      "    https://scikit-learn.org/stable/modules/linear_model.html#logistic-regression\n",
      "  n_iter_i = _check_optimize_result(\n",
      "/opt/conda/lib/python3.9/site-packages/sklearn/linear_model/_logistic.py:763: ConvergenceWarning: lbfgs failed to converge (status=1):\n",
      "STOP: TOTAL NO. of ITERATIONS REACHED LIMIT.\n",
      "\n",
      "Increase the number of iterations (max_iter) or scale the data as shown in:\n",
      "    https://scikit-learn.org/stable/modules/preprocessing.html\n",
      "Please also refer to the documentation for alternative solver options:\n",
      "    https://scikit-learn.org/stable/modules/linear_model.html#logistic-regression\n",
      "  n_iter_i = _check_optimize_result(\n",
      "/opt/conda/lib/python3.9/site-packages/sklearn/linear_model/_logistic.py:763: ConvergenceWarning: lbfgs failed to converge (status=1):\n",
      "STOP: TOTAL NO. of ITERATIONS REACHED LIMIT.\n",
      "\n",
      "Increase the number of iterations (max_iter) or scale the data as shown in:\n",
      "    https://scikit-learn.org/stable/modules/preprocessing.html\n",
      "Please also refer to the documentation for alternative solver options:\n",
      "    https://scikit-learn.org/stable/modules/linear_model.html#logistic-regression\n",
      "  n_iter_i = _check_optimize_result(\n",
      "/opt/conda/lib/python3.9/site-packages/sklearn/linear_model/_logistic.py:763: ConvergenceWarning: lbfgs failed to converge (status=1):\n",
      "STOP: TOTAL NO. of ITERATIONS REACHED LIMIT.\n",
      "\n",
      "Increase the number of iterations (max_iter) or scale the data as shown in:\n",
      "    https://scikit-learn.org/stable/modules/preprocessing.html\n",
      "Please also refer to the documentation for alternative solver options:\n",
      "    https://scikit-learn.org/stable/modules/linear_model.html#logistic-regression\n",
      "  n_iter_i = _check_optimize_result(\n",
      "/opt/conda/lib/python3.9/site-packages/sklearn/linear_model/_logistic.py:763: ConvergenceWarning: lbfgs failed to converge (status=1):\n",
      "STOP: TOTAL NO. of ITERATIONS REACHED LIMIT.\n",
      "\n",
      "Increase the number of iterations (max_iter) or scale the data as shown in:\n",
      "    https://scikit-learn.org/stable/modules/preprocessing.html\n",
      "Please also refer to the documentation for alternative solver options:\n",
      "    https://scikit-learn.org/stable/modules/linear_model.html#logistic-regression\n",
      "  n_iter_i = _check_optimize_result(\n",
      "/opt/conda/lib/python3.9/site-packages/sklearn/linear_model/_logistic.py:763: ConvergenceWarning: lbfgs failed to converge (status=1):\n",
      "STOP: TOTAL NO. of ITERATIONS REACHED LIMIT.\n",
      "\n",
      "Increase the number of iterations (max_iter) or scale the data as shown in:\n",
      "    https://scikit-learn.org/stable/modules/preprocessing.html\n",
      "Please also refer to the documentation for alternative solver options:\n",
      "    https://scikit-learn.org/stable/modules/linear_model.html#logistic-regression\n",
      "  n_iter_i = _check_optimize_result(\n",
      "/opt/conda/lib/python3.9/site-packages/sklearn/linear_model/_logistic.py:763: ConvergenceWarning: lbfgs failed to converge (status=1):\n",
      "STOP: TOTAL NO. of ITERATIONS REACHED LIMIT.\n",
      "\n",
      "Increase the number of iterations (max_iter) or scale the data as shown in:\n",
      "    https://scikit-learn.org/stable/modules/preprocessing.html\n",
      "Please also refer to the documentation for alternative solver options:\n",
      "    https://scikit-learn.org/stable/modules/linear_model.html#logistic-regression\n",
      "  n_iter_i = _check_optimize_result(\n",
      "/opt/conda/lib/python3.9/site-packages/sklearn/linear_model/_logistic.py:763: ConvergenceWarning: lbfgs failed to converge (status=1):\n",
      "STOP: TOTAL NO. of ITERATIONS REACHED LIMIT.\n",
      "\n",
      "Increase the number of iterations (max_iter) or scale the data as shown in:\n",
      "    https://scikit-learn.org/stable/modules/preprocessing.html\n",
      "Please also refer to the documentation for alternative solver options:\n",
      "    https://scikit-learn.org/stable/modules/linear_model.html#logistic-regression\n",
      "  n_iter_i = _check_optimize_result(\n",
      "/opt/conda/lib/python3.9/site-packages/sklearn/linear_model/_logistic.py:763: ConvergenceWarning: lbfgs failed to converge (status=1):\n",
      "STOP: TOTAL NO. of ITERATIONS REACHED LIMIT.\n",
      "\n",
      "Increase the number of iterations (max_iter) or scale the data as shown in:\n",
      "    https://scikit-learn.org/stable/modules/preprocessing.html\n",
      "Please also refer to the documentation for alternative solver options:\n",
      "    https://scikit-learn.org/stable/modules/linear_model.html#logistic-regression\n",
      "  n_iter_i = _check_optimize_result(\n",
      "/opt/conda/lib/python3.9/site-packages/sklearn/linear_model/_logistic.py:763: ConvergenceWarning: lbfgs failed to converge (status=1):\n",
      "STOP: TOTAL NO. of ITERATIONS REACHED LIMIT.\n",
      "\n",
      "Increase the number of iterations (max_iter) or scale the data as shown in:\n",
      "    https://scikit-learn.org/stable/modules/preprocessing.html\n",
      "Please also refer to the documentation for alternative solver options:\n",
      "    https://scikit-learn.org/stable/modules/linear_model.html#logistic-regression\n",
      "  n_iter_i = _check_optimize_result(\n",
      "/opt/conda/lib/python3.9/site-packages/sklearn/linear_model/_logistic.py:763: ConvergenceWarning: lbfgs failed to converge (status=1):\n",
      "STOP: TOTAL NO. of ITERATIONS REACHED LIMIT.\n",
      "\n",
      "Increase the number of iterations (max_iter) or scale the data as shown in:\n",
      "    https://scikit-learn.org/stable/modules/preprocessing.html\n",
      "Please also refer to the documentation for alternative solver options:\n",
      "    https://scikit-learn.org/stable/modules/linear_model.html#logistic-regression\n",
      "  n_iter_i = _check_optimize_result(\n",
      "/opt/conda/lib/python3.9/site-packages/sklearn/linear_model/_logistic.py:763: ConvergenceWarning: lbfgs failed to converge (status=1):\n",
      "STOP: TOTAL NO. of ITERATIONS REACHED LIMIT.\n",
      "\n",
      "Increase the number of iterations (max_iter) or scale the data as shown in:\n",
      "    https://scikit-learn.org/stable/modules/preprocessing.html\n",
      "Please also refer to the documentation for alternative solver options:\n",
      "    https://scikit-learn.org/stable/modules/linear_model.html#logistic-regression\n",
      "  n_iter_i = _check_optimize_result(\n",
      "/opt/conda/lib/python3.9/site-packages/sklearn/linear_model/_logistic.py:763: ConvergenceWarning: lbfgs failed to converge (status=1):\n",
      "STOP: TOTAL NO. of ITERATIONS REACHED LIMIT.\n",
      "\n",
      "Increase the number of iterations (max_iter) or scale the data as shown in:\n",
      "    https://scikit-learn.org/stable/modules/preprocessing.html\n",
      "Please also refer to the documentation for alternative solver options:\n",
      "    https://scikit-learn.org/stable/modules/linear_model.html#logistic-regression\n",
      "  n_iter_i = _check_optimize_result(\n",
      "/opt/conda/lib/python3.9/site-packages/sklearn/linear_model/_logistic.py:763: ConvergenceWarning: lbfgs failed to converge (status=1):\n",
      "STOP: TOTAL NO. of ITERATIONS REACHED LIMIT.\n",
      "\n",
      "Increase the number of iterations (max_iter) or scale the data as shown in:\n",
      "    https://scikit-learn.org/stable/modules/preprocessing.html\n",
      "Please also refer to the documentation for alternative solver options:\n",
      "    https://scikit-learn.org/stable/modules/linear_model.html#logistic-regression\n",
      "  n_iter_i = _check_optimize_result(\n",
      "/opt/conda/lib/python3.9/site-packages/sklearn/linear_model/_logistic.py:763: ConvergenceWarning: lbfgs failed to converge (status=1):\n",
      "STOP: TOTAL NO. of ITERATIONS REACHED LIMIT.\n",
      "\n",
      "Increase the number of iterations (max_iter) or scale the data as shown in:\n",
      "    https://scikit-learn.org/stable/modules/preprocessing.html\n",
      "Please also refer to the documentation for alternative solver options:\n",
      "    https://scikit-learn.org/stable/modules/linear_model.html#logistic-regression\n",
      "  n_iter_i = _check_optimize_result(\n",
      "/opt/conda/lib/python3.9/site-packages/sklearn/linear_model/_logistic.py:763: ConvergenceWarning: lbfgs failed to converge (status=1):\n",
      "STOP: TOTAL NO. of ITERATIONS REACHED LIMIT.\n",
      "\n",
      "Increase the number of iterations (max_iter) or scale the data as shown in:\n",
      "    https://scikit-learn.org/stable/modules/preprocessing.html\n",
      "Please also refer to the documentation for alternative solver options:\n",
      "    https://scikit-learn.org/stable/modules/linear_model.html#logistic-regression\n",
      "  n_iter_i = _check_optimize_result(\n",
      "/opt/conda/lib/python3.9/site-packages/sklearn/linear_model/_logistic.py:763: ConvergenceWarning: lbfgs failed to converge (status=1):\n",
      "STOP: TOTAL NO. of ITERATIONS REACHED LIMIT.\n",
      "\n",
      "Increase the number of iterations (max_iter) or scale the data as shown in:\n",
      "    https://scikit-learn.org/stable/modules/preprocessing.html\n",
      "Please also refer to the documentation for alternative solver options:\n",
      "    https://scikit-learn.org/stable/modules/linear_model.html#logistic-regression\n",
      "  n_iter_i = _check_optimize_result(\n",
      "/opt/conda/lib/python3.9/site-packages/sklearn/linear_model/_logistic.py:763: ConvergenceWarning: lbfgs failed to converge (status=1):\n",
      "STOP: TOTAL NO. of ITERATIONS REACHED LIMIT.\n",
      "\n",
      "Increase the number of iterations (max_iter) or scale the data as shown in:\n",
      "    https://scikit-learn.org/stable/modules/preprocessing.html\n",
      "Please also refer to the documentation for alternative solver options:\n",
      "    https://scikit-learn.org/stable/modules/linear_model.html#logistic-regression\n",
      "  n_iter_i = _check_optimize_result(\n",
      "/opt/conda/lib/python3.9/site-packages/sklearn/linear_model/_logistic.py:763: ConvergenceWarning: lbfgs failed to converge (status=1):\n",
      "STOP: TOTAL NO. of ITERATIONS REACHED LIMIT.\n",
      "\n",
      "Increase the number of iterations (max_iter) or scale the data as shown in:\n",
      "    https://scikit-learn.org/stable/modules/preprocessing.html\n",
      "Please also refer to the documentation for alternative solver options:\n",
      "    https://scikit-learn.org/stable/modules/linear_model.html#logistic-regression\n",
      "  n_iter_i = _check_optimize_result(\n",
      "/opt/conda/lib/python3.9/site-packages/sklearn/linear_model/_logistic.py:763: ConvergenceWarning: lbfgs failed to converge (status=1):\n",
      "STOP: TOTAL NO. of ITERATIONS REACHED LIMIT.\n",
      "\n",
      "Increase the number of iterations (max_iter) or scale the data as shown in:\n",
      "    https://scikit-learn.org/stable/modules/preprocessing.html\n",
      "Please also refer to the documentation for alternative solver options:\n",
      "    https://scikit-learn.org/stable/modules/linear_model.html#logistic-regression\n",
      "  n_iter_i = _check_optimize_result(\n",
      "/opt/conda/lib/python3.9/site-packages/sklearn/linear_model/_logistic.py:763: ConvergenceWarning: lbfgs failed to converge (status=1):\n",
      "STOP: TOTAL NO. of ITERATIONS REACHED LIMIT.\n",
      "\n",
      "Increase the number of iterations (max_iter) or scale the data as shown in:\n",
      "    https://scikit-learn.org/stable/modules/preprocessing.html\n",
      "Please also refer to the documentation for alternative solver options:\n",
      "    https://scikit-learn.org/stable/modules/linear_model.html#logistic-regression\n",
      "  n_iter_i = _check_optimize_result(\n",
      "/opt/conda/lib/python3.9/site-packages/sklearn/linear_model/_logistic.py:763: ConvergenceWarning: lbfgs failed to converge (status=1):\n",
      "STOP: TOTAL NO. of ITERATIONS REACHED LIMIT.\n",
      "\n",
      "Increase the number of iterations (max_iter) or scale the data as shown in:\n",
      "    https://scikit-learn.org/stable/modules/preprocessing.html\n",
      "Please also refer to the documentation for alternative solver options:\n",
      "    https://scikit-learn.org/stable/modules/linear_model.html#logistic-regression\n",
      "  n_iter_i = _check_optimize_result(\n",
      "/opt/conda/lib/python3.9/site-packages/sklearn/linear_model/_logistic.py:763: ConvergenceWarning: lbfgs failed to converge (status=1):\n",
      "STOP: TOTAL NO. of ITERATIONS REACHED LIMIT.\n",
      "\n",
      "Increase the number of iterations (max_iter) or scale the data as shown in:\n",
      "    https://scikit-learn.org/stable/modules/preprocessing.html\n",
      "Please also refer to the documentation for alternative solver options:\n",
      "    https://scikit-learn.org/stable/modules/linear_model.html#logistic-regression\n",
      "  n_iter_i = _check_optimize_result(\n",
      "/opt/conda/lib/python3.9/site-packages/sklearn/linear_model/_logistic.py:763: ConvergenceWarning: lbfgs failed to converge (status=1):\n",
      "STOP: TOTAL NO. of ITERATIONS REACHED LIMIT.\n",
      "\n",
      "Increase the number of iterations (max_iter) or scale the data as shown in:\n",
      "    https://scikit-learn.org/stable/modules/preprocessing.html\n",
      "Please also refer to the documentation for alternative solver options:\n",
      "    https://scikit-learn.org/stable/modules/linear_model.html#logistic-regression\n",
      "  n_iter_i = _check_optimize_result(\n",
      "/opt/conda/lib/python3.9/site-packages/sklearn/linear_model/_logistic.py:763: ConvergenceWarning: lbfgs failed to converge (status=1):\n",
      "STOP: TOTAL NO. of ITERATIONS REACHED LIMIT.\n",
      "\n",
      "Increase the number of iterations (max_iter) or scale the data as shown in:\n",
      "    https://scikit-learn.org/stable/modules/preprocessing.html\n",
      "Please also refer to the documentation for alternative solver options:\n",
      "    https://scikit-learn.org/stable/modules/linear_model.html#logistic-regression\n",
      "  n_iter_i = _check_optimize_result(\n",
      "/opt/conda/lib/python3.9/site-packages/sklearn/linear_model/_logistic.py:763: ConvergenceWarning: lbfgs failed to converge (status=1):\n",
      "STOP: TOTAL NO. of ITERATIONS REACHED LIMIT.\n",
      "\n",
      "Increase the number of iterations (max_iter) or scale the data as shown in:\n",
      "    https://scikit-learn.org/stable/modules/preprocessing.html\n",
      "Please also refer to the documentation for alternative solver options:\n",
      "    https://scikit-learn.org/stable/modules/linear_model.html#logistic-regression\n",
      "  n_iter_i = _check_optimize_result(\n",
      "/opt/conda/lib/python3.9/site-packages/sklearn/linear_model/_logistic.py:763: ConvergenceWarning: lbfgs failed to converge (status=1):\n",
      "STOP: TOTAL NO. of ITERATIONS REACHED LIMIT.\n",
      "\n",
      "Increase the number of iterations (max_iter) or scale the data as shown in:\n",
      "    https://scikit-learn.org/stable/modules/preprocessing.html\n",
      "Please also refer to the documentation for alternative solver options:\n",
      "    https://scikit-learn.org/stable/modules/linear_model.html#logistic-regression\n",
      "  n_iter_i = _check_optimize_result(\n",
      "/opt/conda/lib/python3.9/site-packages/sklearn/linear_model/_logistic.py:763: ConvergenceWarning: lbfgs failed to converge (status=1):\n",
      "STOP: TOTAL NO. of ITERATIONS REACHED LIMIT.\n",
      "\n",
      "Increase the number of iterations (max_iter) or scale the data as shown in:\n",
      "    https://scikit-learn.org/stable/modules/preprocessing.html\n",
      "Please also refer to the documentation for alternative solver options:\n",
      "    https://scikit-learn.org/stable/modules/linear_model.html#logistic-regression\n",
      "  n_iter_i = _check_optimize_result(\n",
      "/opt/conda/lib/python3.9/site-packages/sklearn/linear_model/_logistic.py:763: ConvergenceWarning: lbfgs failed to converge (status=1):\n",
      "STOP: TOTAL NO. of ITERATIONS REACHED LIMIT.\n",
      "\n",
      "Increase the number of iterations (max_iter) or scale the data as shown in:\n",
      "    https://scikit-learn.org/stable/modules/preprocessing.html\n",
      "Please also refer to the documentation for alternative solver options:\n",
      "    https://scikit-learn.org/stable/modules/linear_model.html#logistic-regression\n",
      "  n_iter_i = _check_optimize_result(\n"
     ]
    },
    {
     "data": {
      "text/plain": [
       "0.3194192377495463"
      ]
     },
     "metadata": {},
     "output_type": "display_data"
    },
    {
     "data": {
      "text/plain": [
       "None"
      ]
     },
     "metadata": {},
     "output_type": "display_data"
    },
    {
     "name": "stdout",
     "output_type": "stream",
     "text": [
      "CPU times: user 17.5 s, sys: 46.6 s, total: 1min 4s\n",
      "Wall time: 1min 4s\n"
     ]
    }
   ],
   "source": [
    "%%time\n",
    "\n",
    "C_ = [0.2, 0.5, 1.0, 2.0]\n",
    "max_iter_ = [100, 300, 500]\n",
    "\n",
    "best_model_l=None \n",
    "best_result=0\n",
    "#for c in range(1,20):\n",
    "#    for max_it in range(1,20):\n",
    "for c in range(1,20):\n",
    "    for max_it in range(1,20):\n",
    "        model_l=LogisticRegression(random_state=12345, C=c, max_iter=max_it)\n",
    "        model_l.fit(features_train, target_train)\n",
    "        predictions_valid=model_l.predict(features_valid)\n",
    "        result=f1_score(target_valid, predictions_valid)\n",
    "        if result>best_result:\n",
    "            best_model_t=model_l\n",
    "            best_result=result\n",
    "display(best_result, best_model_l)"
   ]
  },
  {
   "cell_type": "code",
   "execution_count": 309,
   "metadata": {},
   "outputs": [
    {
     "name": "stdout",
     "output_type": "stream",
     "text": [
      "auc_roc_t: 0.7177923933392453\n",
      "F1: 0.5463182897862233\n"
     ]
    }
   ],
   "source": [
    "model_t = DecisionTreeClassifier(random_state=12345) #обучим дерево\n",
    "model_t.fit(features_train, target_train)\n",
    "predicted_valid = model_t.predict(features_valid)\n",
    "probabilities_valid = model_t.predict_proba(features_valid)\n",
    "probabilities_two_valid = probabilities_valid[:, 1]\n",
    "print(\"auc_roc_t:\", roc_auc_score(target_valid, probabilities_two_valid))\n",
    "print(\"F1:\", f1_score(target_valid, predicted_valid))"
   ]
  },
  {
   "cell_type": "code",
   "execution_count": 310,
   "metadata": {},
   "outputs": [
    {
     "data": {
      "text/plain": [
       "0.608089260808926"
      ]
     },
     "metadata": {},
     "output_type": "display_data"
    },
    {
     "data": {
      "text/plain": [
       "DecisionTreeClassifier(max_depth=13, min_samples_leaf=12, random_state=12345)"
      ]
     },
     "metadata": {},
     "output_type": "display_data"
    }
   ],
   "source": [
    "best_model_t=None \n",
    "best_result=0\n",
    "for depth in range(1,20):\n",
    "    for min_sample in range(1,20):\n",
    "        model_t=DecisionTreeClassifier(random_state=12345, max_depth=depth, min_samples_leaf=min_sample)\n",
    "        model_t.fit(features_train, target_train)\n",
    "        predictions_valid=model_t.predict(features_valid)\n",
    "        result=f1_score(target_valid, predictions_valid)\n",
    "        if result>best_result:\n",
    "            best_model_t=model_t\n",
    "            best_result=result\n",
    "display(best_result, best_model_t)"
   ]
  },
  {
   "cell_type": "code",
   "execution_count": 311,
   "metadata": {},
   "outputs": [
    {
     "name": "stdout",
     "output_type": "stream",
     "text": [
      "auc_roc_f: 0.7872096388806779\n",
      "F1: 0.5968882602545968\n"
     ]
    }
   ],
   "source": [
    "model_f = RandomForestClassifier(random_state=12345)\n",
    "model_f.fit(features_train, target_train)\n",
    "predicted_valid = model_f.predict(features_valid)\n",
    "probabilities_valid = model_f.predict_proba(features_valid)\n",
    "probabilities_three_valid = probabilities_valid[:, 1]\n",
    "print(\"auc_roc_f:\", roc_auc_score(target_valid, probabilities_one_valid))\n",
    "print(\"F1:\", f1_score(target_valid, predicted_valid))"
   ]
  },
  {
   "cell_type": "code",
   "execution_count": 312,
   "metadata": {},
   "outputs": [
    {
     "data": {
      "text/plain": [
       "0.6102189781021896"
      ]
     },
     "metadata": {},
     "output_type": "display_data"
    },
    {
     "data": {
      "text/plain": [
       "RandomForestClassifier(max_depth=13, n_estimators=150, random_state=12345)"
      ]
     },
     "metadata": {},
     "output_type": "display_data"
    },
    {
     "name": "stdout",
     "output_type": "stream",
     "text": [
      "CPU times: user 1min 13s, sys: 684 ms, total: 1min 14s\n",
      "Wall time: 1min 14s\n"
     ]
    }
   ],
   "source": [
    "%%time\n",
    "best_model_f = None \n",
    "best_result = 0\n",
    "for est in range(50, 300, 10):\n",
    "    for depth in range(1,15,3):\n",
    "        model_f= RandomForestClassifier(random_state=12345, n_estimators=est, max_depth=depth)\n",
    "        model_f.fit(features_train, target_train)\n",
    "        predicted_valid=model_f.predict(features_valid)\n",
    "        result = f1_score(target_valid, predicted_valid)\n",
    "        if result > best_result:\n",
    "            best_model_f=model_f\n",
    "            best_result = result\n",
    "display(best_result, best_model_f)"
   ]
  },
  {
   "cell_type": "markdown",
   "metadata": {},
   "source": [
    "    Обучила три модели:случайный лес, решающее дерево и логистическая регрессия, лучший результат f1 получила при случайном дереве, также посмотрела, как меняется метрика при изменении глубины дерева. Лучшее значение при глубине 16, f1= 0,609."
   ]
  },
  {
   "cell_type": "markdown",
   "metadata": {},
   "source": [
    "## Борьба с дисбалансом"
   ]
  },
  {
   "cell_type": "code",
   "execution_count": 313,
   "metadata": {
    "scrolled": true
   },
   "outputs": [
    {
     "data": {
      "text/plain": [
       "0.6499999999999999"
      ]
     },
     "metadata": {},
     "output_type": "display_data"
    },
    {
     "data": {
      "text/plain": [
       "RandomForestClassifier(max_depth=10, n_estimators=200, random_state=12345)"
      ]
     },
     "metadata": {},
     "output_type": "display_data"
    },
    {
     "name": "stdout",
     "output_type": "stream",
     "text": [
      "F1_f: 0.6278240190249703\n",
      "F1_l: 0.5258620689655172\n",
      "F1_t: 0.5834109972041006\n",
      "Порог = 0.00 | Точность = 0.204, Полнота = 1.000\n",
      "Порог = 0.02 | Точность = 0.204, Полнота = 1.000\n",
      "Порог = 0.04 | Точность = 0.208, Полнота = 1.000\n",
      "Порог = 0.06 | Точность = 0.219, Полнота = 0.993\n",
      "Порог = 0.08 | Точность = 0.231, Полнота = 0.990\n",
      "Порог = 0.10 | Точность = 0.240, Полнота = 0.988\n",
      "Порог = 0.12 | Точность = 0.253, Полнота = 0.980\n",
      "Порог = 0.14 | Точность = 0.264, Полнота = 0.966\n",
      "Порог = 0.16 | Точность = 0.277, Полнота = 0.958\n",
      "Порог = 0.18 | Точность = 0.290, Полнота = 0.949\n",
      "Порог = 0.20 | Точность = 0.303, Полнота = 0.936\n",
      "Порог = 0.22 | Точность = 0.321, Полнота = 0.924\n",
      "Порог = 0.24 | Точность = 0.339, Полнота = 0.919\n",
      "Порог = 0.26 | Точность = 0.357, Полнота = 0.912\n",
      "Порог = 0.28 | Точность = 0.376, Полнота = 0.904\n"
     ]
    }
   ],
   "source": [
    "def upsample(features, target, repeat): \n",
    "    features_zeros = features[target == 0]\n",
    "    features_ones = features[target == 1]\n",
    "    target_zeros = target[target == 0]\n",
    "    target_ones = target[target == 1]\n",
    "\n",
    "    features_upsampled = pd.concat([features_zeros] + [features_ones] * repeat)\n",
    "    target_upsampled = pd.concat([target_zeros] + [target_ones] * repeat)\n",
    "    \n",
    "    features_upsampled, target_upsampled = shuffle(\n",
    "        features_upsampled, target_upsampled, random_state=12345)\n",
    "    \n",
    "    return features_upsampled, target_upsampled\n",
    "\n",
    "features_upsampled, target_upsampled = upsample(features_train, target_train, 4)\n",
    "\n",
    "model_f_best=RandomForestClassifier(random_state=12345, max_depth=10, n_estimators=190)\n",
    "model_f_best.fit(features_upsampled, target_upsampled)\n",
    "predicted_valid=model_f_best.predict(features_valid)\n",
    "probabilities_valid = model_f_best.predict_proba(features_valid)\n",
    "probabilities_one_valid = probabilities_valid[:, 1]\n",
    "\n",
    "best_model_f1 = None \n",
    "best_result1 = 0\n",
    "for est in range(50, 300, 10):\n",
    "    for depth in range(1,15,3):\n",
    "        model_f_best= RandomForestClassifier(random_state=12345, n_estimators=est, max_depth=depth)\n",
    "        model_f_best.fit(features_upsampled, target_upsampled)\n",
    "        predicted_valid=model_f_best.predict(features_valid)\n",
    "        result = f1_score(target_valid, predicted_valid)\n",
    "        if result > best_result1:\n",
    "            best_model_f1=model_f_best\n",
    "            best_result1 = result\n",
    "display(best_result1, best_model_f1)\n",
    "\n",
    "print(\"F1_f:\", f1_score(target_valid, predicted_valid))\n",
    "\n",
    "model_l_best= LogisticRegression(random_state=12345, solver='liblinear')\n",
    "model_l_best.fit(features_upsampled, target_upsampled)\n",
    "predicted_valid = model_l_best.predict(features_valid)\n",
    "print(\"F1_l:\", f1_score(target_valid, predicted_valid))\n",
    "probabilities_valid = model_l_best.predict_proba(features_valid)\n",
    "probabilities_two_valid = probabilities_valid[:, 1]\n",
    "\n",
    "model_t_best = DecisionTreeClassifier(max_depth=7, random_state=12345) \n",
    "model_t_best.fit(features_upsampled, target_upsampled)\n",
    "predicted_valid = model_t_best.predict(features_valid)\n",
    "print(\"F1_t:\", f1_score(target_valid, predicted_valid))\n",
    "probabilities_valid = model_t_best.predict_proba(features_valid)\n",
    "probabilities_three_valid = probabilities_valid[:, 1]\n",
    "\n",
    "for threshold in np.arange(0, 0.3, 0.02):\n",
    "    predicted_valid =probabilities_one_valid>threshold \n",
    "    precision = precision_score(target_valid, predicted_valid)\n",
    "    recall =recall_score(target_valid, predicted_valid)\n",
    "    f1=f1_score(target_valid, predicted_valid)\n",
    "\n",
    "    print(\"Порог = {:.2f} | Точность = {:.3f}, Полнота = {:.3f}\".format(\n",
    "        threshold, precision, recall))"
   ]
  },
  {
   "cell_type": "code",
   "execution_count": 314,
   "metadata": {},
   "outputs": [
    {
     "data": {
      "text/plain": [
       "0.8740285372943147"
      ]
     },
     "execution_count": 314,
     "metadata": {},
     "output_type": "execute_result"
    }
   ],
   "source": [
    "auc_roc_f=roc_auc_score(target_valid, probabilities_one_valid) \n",
    "auc_roc_f"
   ]
  },
  {
   "cell_type": "code",
   "execution_count": 315,
   "metadata": {},
   "outputs": [
    {
     "data": {
      "text/plain": [
       "0.7937558503300818"
      ]
     },
     "execution_count": 315,
     "metadata": {},
     "output_type": "execute_result"
    }
   ],
   "source": [
    "auc_roc_l=roc_auc_score(target_valid, probabilities_two_valid) "
   ]
  },
  {
   "cell_type": "code",
   "execution_count": 316,
   "metadata": {},
   "outputs": [
    {
     "data": {
      "text/plain": [
       "0.8357096450389202"
      ]
     },
     "execution_count": 316,
     "metadata": {},
     "output_type": "execute_result"
    }
   ],
   "source": [
    "auc_roc_t=roc_auc_score(target_valid, probabilities_three_valid) #\n",
    "auc_roc_t"
   ]
  },
  {
   "cell_type": "code",
   "execution_count": 317,
   "metadata": {},
   "outputs": [
    {
     "data": {
      "text/plain": [
       "Text(0.5, 1.0, 'ROC-кривая')"
      ]
     },
     "execution_count": 317,
     "metadata": {},
     "output_type": "execute_result"
    },
    {
     "data": {
      "image/png": "[encoded data removed]",
      "text/plain": [
       "<Figure size 432x288 with 1 Axes>"
      ]
     },
     "metadata": {
      "needs_background": "light"
     },
     "output_type": "display_data"
    }
   ],
   "source": [
    "fpr, tpr, thresholds = roc_curve(target_valid, probabilities_one_valid) \n",
    "plt.figure()\n",
    "plt.plot(fpr, tpr)\n",
    "plt.plot([0, 1], [0, 1], linestyle='--')\n",
    "plt.xlim([0.0, 1.0])\n",
    "plt.ylim([0.0, 1.0])\n",
    "plt.xlabel('False Positive Rate')\n",
    "plt.ylabel('True Positive Rate')\n",
    "plt.title('ROC-кривая')"
   ]
  },
  {
   "cell_type": "code",
   "execution_count": 318,
   "metadata": {},
   "outputs": [
    {
     "name": "stdout",
     "output_type": "stream",
     "text": [
      "F1_f: 0.4904163912756113\n",
      "F1_l: 0.4235423542354236\n",
      "F1_t: 0.4691525423728813\n",
      "Порог = 0.00 | Точность = 0.204, Полнота = 1.000\n",
      "Порог = 0.02 | Точность = 0.204, Полнота = 1.000\n",
      "Порог = 0.04 | Точность = 0.205, Полнота = 1.000\n",
      "Порог = 0.06 | Точность = 0.207, Полнота = 1.000\n",
      "Порог = 0.08 | Точность = 0.209, Полнота = 0.998\n",
      "Порог = 0.10 | Точность = 0.212, Полнота = 0.995\n",
      "Порог = 0.12 | Точность = 0.215, Полнота = 0.995\n",
      "Порог = 0.14 | Точность = 0.219, Полнота = 0.995\n",
      "Порог = 0.16 | Точность = 0.223, Полнота = 0.995\n",
      "Порог = 0.18 | Точность = 0.227, Полнота = 0.993\n",
      "Порог = 0.20 | Точность = 0.230, Полнота = 0.990\n",
      "Порог = 0.22 | Точность = 0.234, Полнота = 0.990\n",
      "Порог = 0.24 | Точность = 0.238, Полнота = 0.990\n",
      "Порог = 0.26 | Точность = 0.241, Полнота = 0.985\n",
      "Порог = 0.28 | Точность = 0.245, Полнота = 0.980\n"
     ]
    }
   ],
   "source": [
    "def downsample(features, target, fraction): \n",
    "    features_zeros = features[target == 0]\n",
    "    features_ones = features[target == 1]\n",
    "    target_zeros = target[target == 0]\n",
    "    target_ones = target[target == 1]\n",
    "\n",
    "    features_downsampled = pd.concat(\n",
    "        [features_zeros.sample(frac=fraction, random_state=12345)] + [features_ones])\n",
    "    target_downsampled = pd.concat(\n",
    "        [target_zeros.sample(frac=fraction, random_state=12345)] + [target_ones])\n",
    "    \n",
    "    features_downsampled, target_downsampled = shuffle(\n",
    "        features_downsampled, target_downsampled, random_state=12345)\n",
    "    \n",
    "    return features_downsampled, target_downsampled\n",
    "\n",
    "features_downsampled, target_downsampled = downsample(features_train, target_train, 0.1)\n",
    "\n",
    "\n",
    "model_f_best2=RandomForestClassifier(max_depth=12, n_estimators=310, random_state=29)\n",
    "model_f_best2.fit(features_downsampled, target_downsampled)\n",
    "predicted_valid=model_f_best2.predict(features_valid)\n",
    "probabilities_valid = model_f_best2.predict_proba(features_valid)\n",
    "probabilities_one_valid = probabilities_valid[:, 1]\n",
    "\n",
    "print(\"F1_f:\", f1_score(target_valid, predicted_valid))\n",
    "\n",
    "model_l_best2= LogisticRegression(random_state=12345, solver='liblinear')\n",
    "model_l_best2.fit(features_downsampled, target_downsampled)\n",
    "predicted_valid = model_l_best2.predict(features_valid)\n",
    "print(\"F1_l:\", f1_score(target_valid, predicted_valid))\n",
    "probabilities_valid = model_l_best2.predict_proba(features_valid)\n",
    "probabilities_two_valid = probabilities_valid[:, 1]\n",
    "\n",
    "model_t_best2 = DecisionTreeClassifier(max_depth=7, random_state=12345) \n",
    "model_t_best2.fit(features_downsampled, target_downsampled)\n",
    "predicted_valid = model_t_best2.predict(features_valid)\n",
    "print(\"F1_t:\", f1_score(target_valid, predicted_valid))\n",
    "probabilities_valid = model_t_best2.predict_proba(features_valid)\n",
    "probabilities_three_valid = probabilities_valid[:, 1]\n",
    "\n",
    "for threshold in np.arange(0, 0.3, 0.02):\n",
    "    predicted_valid =probabilities_one_valid>threshold \n",
    "    precision = precision_score(target_valid, predicted_valid)\n",
    "    recall =recall_score(target_valid, predicted_valid)\n",
    "    f1=f1_score(target_valid, predicted_valid)\n",
    "\n",
    "    print(\"Порог = {:.2f} | Точность = {:.3f}, Полнота = {:.3f}\".format(\n",
    "        threshold, precision, recall))"
   ]
  },
  {
   "cell_type": "code",
   "execution_count": 319,
   "metadata": {},
   "outputs": [
    {
     "data": {
      "text/plain": [
       "0.8545346216375997"
      ]
     },
     "execution_count": 319,
     "metadata": {},
     "output_type": "execute_result"
    }
   ],
   "source": [
    "auc_roc_f=roc_auc_score(target_valid, probabilities_one_valid)\n",
    "auc_roc_f"
   ]
  },
  {
   "cell_type": "code",
   "execution_count": 320,
   "metadata": {},
   "outputs": [
    {
     "data": {
      "text/plain": [
       "0.7989965144349197"
      ]
     },
     "execution_count": 320,
     "metadata": {},
     "output_type": "execute_result"
    }
   ],
   "source": [
    "auc_roc_l=roc_auc_score(target_valid, probabilities_two_valid)\n",
    "auc_roc_l"
   ]
  },
  {
   "cell_type": "code",
   "execution_count": 321,
   "metadata": {},
   "outputs": [
    {
     "data": {
      "text/plain": [
       "0.7883512230268992"
      ]
     },
     "execution_count": 321,
     "metadata": {},
     "output_type": "execute_result"
    }
   ],
   "source": [
    "auc_roc_t=roc_auc_score(target_valid, probabilities_three_valid)\n",
    "auc_roc_t"
   ]
  },
  {
   "cell_type": "markdown",
   "metadata": {},
   "source": [
    "    Увеличила и уменьшила обучающие выборки, при уменьшении выборки, показатель f1 падает, при увеличении значение F1 остаётся неизменным. AUC_ROC= 0,86"
   ]
  },
  {
   "cell_type": "markdown",
   "metadata": {},
   "source": [
    "## Тестирование модели"
   ]
  },
  {
   "cell_type": "code",
   "execution_count": 322,
   "metadata": {},
   "outputs": [],
   "source": [
    "features_train_plus=pd.concat([features_train, features_valid])\n",
    "target_train_plus=pd.concat([target_train, target_valid])"
   ]
  },
  {
   "cell_type": "code",
   "execution_count": 323,
   "metadata": {},
   "outputs": [],
   "source": [
    "model_f_plus=RandomForestClassifier(random_state=12345, max_depth=10, n_estimators=200)\n",
    "model_f_plus.fit(features_upsampled, target_upsampled)\n",
    "predicted_valid_plus=model_f_plus.predict(features_train_plus)\n",
    "probabilities_valid_plus = model_f_plus.predict_proba(features_train_plus)\n",
    "probabilities_one_valid_plus = probabilities_valid_plus[:, 1]"
   ]
  },
  {
   "cell_type": "code",
   "execution_count": 324,
   "metadata": {},
   "outputs": [
    {
     "name": "stdout",
     "output_type": "stream",
     "text": [
      "Тестовая выборка F1: 0.5923497267759563\n",
      "Тестовая выборка AUC_ROC: 0.851594275323089\n"
     ]
    }
   ],
   "source": [
    "predictions_test=model_f_plus.predict(features_test)\n",
    "probabilities_test = model_f_plus.predict_proba(features_test)\n",
    "probabilities_one_test = probabilities_test[:, 1]\n",
    "print(\"Тестовая выборка F1:\", f1_score(target_test, predictions_test))\n",
    "print('Тестовая выборка AUC_ROC:', roc_auc_score(target_test, probabilities_one_test))"
   ]
  },
  {
   "cell_type": "markdown",
   "metadata": {},
   "source": [
    "<div class=\"alert alert-warning\"> <b>ВЫВОД:</b> \"Бэта-банк\" банк нам предоставил исторические данные по поведении клиентов, некоторые из которых ушли из банка. Стояла задача постороить модель, которая максимально точно спрогнозирует уйдёт ли клиент из банка или нет. В ходе изучения данных стало понятно, что некоторая информация неинформативна, такая как: Фамилия клиента, индес строки и Id клиента, решила их удалить, чтобы не перезагружать модель. Также присутствовал один столбец с пропусками (скольео лет человек является клиентом банка), я проверила как он коррелирует с целевым признаком и тоже решила удалить, так как корреляция слабо отрицательная. Затем я определила категориальные данные и обработала их методом OHE, так же масштабировала численные данные. Разделила наш датасет на три выборки: обучающую, валидационную и тестовую. Далее я создала три модели обучения, и путем подбора гиперпараметров определилась с лучшей моделью. Лучшие F1 0.619 результаты получились в модели случайного леса. Также поскольку наблюдался дисбаланс в таргете для увеличения качества модели проверила увеличение и уменьшение выборки. При увеличении выборки также лучший результат дал случайный лес F1 0.624 и AUC_ROC, при этом я изменила гиперпараметры max_depth=23, n_estimators=29 для улучшения модели. При тестировании модели результаты упали до F1 0.58 и AUC_ROC 0.83"
   ]
  }
 ],
 "metadata": {
  "ExecuteTimeLog": [
   {
    "duration": 47,
    "start_time": "2022-11-23T11:20:27.774Z"
   },
   {
    "duration": 1514,
    "start_time": "2022-11-23T11:20:54.890Z"
   },
   {
    "duration": 88,
    "start_time": "2022-11-23T11:20:56.406Z"
   },
   {
    "duration": 55,
    "start_time": "2022-11-23T11:21:20.388Z"
   },
   {
    "duration": 14,
    "start_time": "2022-11-23T11:21:45.671Z"
   },
   {
    "duration": 72,
    "start_time": "2022-11-23T11:44:53.394Z"
   },
   {
    "duration": 5,
    "start_time": "2022-11-23T11:45:02.689Z"
   },
   {
    "duration": 8,
    "start_time": "2022-11-23T11:51:23.398Z"
   },
   {
    "duration": 5,
    "start_time": "2022-11-23T11:55:56.310Z"
   },
   {
    "duration": 4,
    "start_time": "2022-11-23T11:57:56.680Z"
   },
   {
    "duration": 4,
    "start_time": "2022-11-23T12:00:16.882Z"
   },
   {
    "duration": 4,
    "start_time": "2022-11-23T12:00:19.716Z"
   },
   {
    "duration": 4,
    "start_time": "2022-11-23T12:00:34.200Z"
   },
   {
    "duration": 78,
    "start_time": "2022-11-23T12:00:34.205Z"
   },
   {
    "duration": 12,
    "start_time": "2022-11-23T12:00:34.284Z"
   },
   {
    "duration": 21,
    "start_time": "2022-11-23T12:00:34.297Z"
   },
   {
    "duration": 42,
    "start_time": "2022-11-23T12:00:34.320Z"
   },
   {
    "duration": 33,
    "start_time": "2022-11-23T12:00:34.364Z"
   },
   {
    "duration": 47,
    "start_time": "2022-11-23T12:00:34.399Z"
   },
   {
    "duration": 5,
    "start_time": "2022-11-23T12:01:10.250Z"
   },
   {
    "duration": 10,
    "start_time": "2022-11-23T12:01:38.432Z"
   },
   {
    "duration": 46,
    "start_time": "2022-11-23T15:53:06.070Z"
   },
   {
    "duration": 1479,
    "start_time": "2022-11-23T15:53:11.071Z"
   },
   {
    "duration": 164,
    "start_time": "2022-11-23T15:53:12.552Z"
   },
   {
    "duration": 13,
    "start_time": "2022-11-23T15:53:12.718Z"
   },
   {
    "duration": 4,
    "start_time": "2022-11-23T15:53:12.732Z"
   },
   {
    "duration": 11,
    "start_time": "2022-11-23T15:53:12.738Z"
   },
   {
    "duration": 6,
    "start_time": "2022-11-23T15:53:12.750Z"
   },
   {
    "duration": 4,
    "start_time": "2022-11-23T15:53:12.758Z"
   },
   {
    "duration": 15,
    "start_time": "2022-11-23T15:53:12.764Z"
   },
   {
    "duration": 2,
    "start_time": "2022-11-23T15:53:12.781Z"
   },
   {
    "duration": 74,
    "start_time": "2022-11-23T16:04:33.744Z"
   },
   {
    "duration": 20,
    "start_time": "2022-11-23T16:04:58.747Z"
   },
   {
    "duration": 12,
    "start_time": "2022-11-23T16:07:38.846Z"
   },
   {
    "duration": 12,
    "start_time": "2022-11-23T16:08:04.226Z"
   },
   {
    "duration": 3,
    "start_time": "2022-11-23T16:08:11.716Z"
   },
   {
    "duration": 55,
    "start_time": "2022-11-23T16:08:11.721Z"
   },
   {
    "duration": 11,
    "start_time": "2022-11-23T16:08:11.778Z"
   },
   {
    "duration": 4,
    "start_time": "2022-11-23T16:08:11.791Z"
   },
   {
    "duration": 12,
    "start_time": "2022-11-23T16:08:11.797Z"
   },
   {
    "duration": 5,
    "start_time": "2022-11-23T16:08:11.810Z"
   },
   {
    "duration": 7,
    "start_time": "2022-11-23T16:08:11.816Z"
   },
   {
    "duration": 10,
    "start_time": "2022-11-23T16:08:11.825Z"
   },
   {
    "duration": 4,
    "start_time": "2022-11-23T16:08:11.836Z"
   },
   {
    "duration": 14,
    "start_time": "2022-11-23T16:20:54.059Z"
   },
   {
    "duration": 5,
    "start_time": "2022-11-23T16:24:56.606Z"
   },
   {
    "duration": 60,
    "start_time": "2022-11-23T16:24:56.614Z"
   },
   {
    "duration": 14,
    "start_time": "2022-11-23T16:24:56.676Z"
   },
   {
    "duration": 6,
    "start_time": "2022-11-23T16:24:56.692Z"
   },
   {
    "duration": 13,
    "start_time": "2022-11-23T16:24:56.700Z"
   },
   {
    "duration": 5,
    "start_time": "2022-11-23T16:24:56.715Z"
   },
   {
    "duration": 6,
    "start_time": "2022-11-23T16:24:56.721Z"
   },
   {
    "duration": 14,
    "start_time": "2022-11-23T16:24:56.729Z"
   },
   {
    "duration": 34,
    "start_time": "2022-11-23T16:24:56.745Z"
   },
   {
    "duration": 14,
    "start_time": "2022-11-23T16:24:56.781Z"
   },
   {
    "duration": 12,
    "start_time": "2022-11-23T16:24:56.796Z"
   },
   {
    "duration": 9,
    "start_time": "2022-11-23T16:26:38.112Z"
   },
   {
    "duration": 1561,
    "start_time": "2022-11-24T11:19:40.589Z"
   },
   {
    "duration": 97,
    "start_time": "2022-11-24T11:19:42.152Z"
   },
   {
    "duration": 14,
    "start_time": "2022-11-24T11:19:42.251Z"
   },
   {
    "duration": 5,
    "start_time": "2022-11-24T11:19:42.267Z"
   },
   {
    "duration": 19,
    "start_time": "2022-11-24T11:19:42.273Z"
   },
   {
    "duration": 17,
    "start_time": "2022-11-24T11:19:42.293Z"
   },
   {
    "duration": 17,
    "start_time": "2022-11-24T11:19:42.312Z"
   },
   {
    "duration": 25,
    "start_time": "2022-11-24T11:19:42.330Z"
   },
   {
    "duration": 27,
    "start_time": "2022-11-24T11:19:42.357Z"
   },
   {
    "duration": 8,
    "start_time": "2022-11-24T11:19:42.386Z"
   },
   {
    "duration": 15,
    "start_time": "2022-11-24T11:32:15.275Z"
   },
   {
    "duration": 3,
    "start_time": "2022-11-24T11:43:20.295Z"
   },
   {
    "duration": 54,
    "start_time": "2022-11-24T11:43:20.300Z"
   },
   {
    "duration": 12,
    "start_time": "2022-11-24T11:43:20.355Z"
   },
   {
    "duration": 13,
    "start_time": "2022-11-24T11:43:20.368Z"
   },
   {
    "duration": 10,
    "start_time": "2022-11-24T11:43:20.383Z"
   },
   {
    "duration": 8,
    "start_time": "2022-11-24T11:43:20.394Z"
   },
   {
    "duration": 6,
    "start_time": "2022-11-24T11:43:20.404Z"
   },
   {
    "duration": 5,
    "start_time": "2022-11-24T11:43:20.412Z"
   },
   {
    "duration": 14,
    "start_time": "2022-11-24T11:43:20.419Z"
   },
   {
    "duration": 9,
    "start_time": "2022-11-24T11:43:20.435Z"
   },
   {
    "duration": 25,
    "start_time": "2022-11-24T11:43:20.445Z"
   },
   {
    "duration": 4,
    "start_time": "2022-11-24T11:54:44.756Z"
   },
   {
    "duration": 53,
    "start_time": "2022-11-24T11:54:44.762Z"
   },
   {
    "duration": 13,
    "start_time": "2022-11-24T11:54:44.817Z"
   },
   {
    "duration": 5,
    "start_time": "2022-11-24T11:54:44.831Z"
   },
   {
    "duration": 17,
    "start_time": "2022-11-24T11:54:44.838Z"
   },
   {
    "duration": 5,
    "start_time": "2022-11-24T11:54:44.856Z"
   },
   {
    "duration": 7,
    "start_time": "2022-11-24T11:54:44.863Z"
   },
   {
    "duration": 6,
    "start_time": "2022-11-24T11:54:44.871Z"
   },
   {
    "duration": 38,
    "start_time": "2022-11-24T11:54:44.878Z"
   },
   {
    "duration": 13,
    "start_time": "2022-11-24T11:54:44.918Z"
   },
   {
    "duration": 8,
    "start_time": "2022-11-24T11:54:44.933Z"
   },
   {
    "duration": 3,
    "start_time": "2022-11-24T12:03:52.440Z"
   },
   {
    "duration": 20,
    "start_time": "2022-11-24T12:05:41.891Z"
   },
   {
    "duration": 19,
    "start_time": "2022-11-24T12:05:51.428Z"
   },
   {
    "duration": 3,
    "start_time": "2022-11-24T12:23:59.976Z"
   },
   {
    "duration": 63,
    "start_time": "2022-11-24T12:23:59.981Z"
   },
   {
    "duration": 13,
    "start_time": "2022-11-24T12:24:00.046Z"
   },
   {
    "duration": 29,
    "start_time": "2022-11-24T12:24:00.061Z"
   },
   {
    "duration": 32,
    "start_time": "2022-11-24T12:24:00.092Z"
   },
   {
    "duration": 34,
    "start_time": "2022-11-24T12:24:00.126Z"
   },
   {
    "duration": 18,
    "start_time": "2022-11-24T12:24:00.163Z"
   },
   {
    "duration": 35,
    "start_time": "2022-11-24T12:24:00.183Z"
   },
   {
    "duration": 25,
    "start_time": "2022-11-24T12:24:00.220Z"
   },
   {
    "duration": 35,
    "start_time": "2022-11-24T12:24:00.246Z"
   },
   {
    "duration": 54,
    "start_time": "2022-11-24T12:24:00.283Z"
   },
   {
    "duration": 31,
    "start_time": "2022-11-24T12:24:00.339Z"
   },
   {
    "duration": 42,
    "start_time": "2022-11-24T12:24:00.372Z"
   },
   {
    "duration": 31,
    "start_time": "2022-11-24T12:25:06.477Z"
   },
   {
    "duration": 18,
    "start_time": "2022-11-24T12:25:26.098Z"
   },
   {
    "duration": 4,
    "start_time": "2022-11-24T12:32:13.424Z"
   },
   {
    "duration": 53,
    "start_time": "2022-11-24T12:32:13.430Z"
   },
   {
    "duration": 12,
    "start_time": "2022-11-24T12:32:13.484Z"
   },
   {
    "duration": 5,
    "start_time": "2022-11-24T12:32:13.499Z"
   },
   {
    "duration": 7,
    "start_time": "2022-11-24T12:32:13.506Z"
   },
   {
    "duration": 6,
    "start_time": "2022-11-24T12:32:13.515Z"
   },
   {
    "duration": 5,
    "start_time": "2022-11-24T12:32:13.523Z"
   },
   {
    "duration": 8,
    "start_time": "2022-11-24T12:32:13.529Z"
   },
   {
    "duration": 17,
    "start_time": "2022-11-24T12:32:13.538Z"
   },
   {
    "duration": 11,
    "start_time": "2022-11-24T12:32:13.557Z"
   },
   {
    "duration": 8,
    "start_time": "2022-11-24T12:32:13.569Z"
   },
   {
    "duration": 5,
    "start_time": "2022-11-24T12:32:13.579Z"
   },
   {
    "duration": 49,
    "start_time": "2022-11-24T12:32:13.585Z"
   },
   {
    "duration": 4,
    "start_time": "2022-11-24T12:33:16.235Z"
   },
   {
    "duration": 84,
    "start_time": "2022-11-24T12:33:16.242Z"
   },
   {
    "duration": 14,
    "start_time": "2022-11-24T12:33:16.328Z"
   },
   {
    "duration": 33,
    "start_time": "2022-11-24T12:33:16.344Z"
   },
   {
    "duration": 25,
    "start_time": "2022-11-24T12:33:16.379Z"
   },
   {
    "duration": 19,
    "start_time": "2022-11-24T12:33:16.406Z"
   },
   {
    "duration": 21,
    "start_time": "2022-11-24T12:33:16.427Z"
   },
   {
    "duration": 31,
    "start_time": "2022-11-24T12:33:16.450Z"
   },
   {
    "duration": 36,
    "start_time": "2022-11-24T12:33:16.484Z"
   },
   {
    "duration": 47,
    "start_time": "2022-11-24T12:33:16.522Z"
   },
   {
    "duration": 36,
    "start_time": "2022-11-24T12:33:16.571Z"
   },
   {
    "duration": 42,
    "start_time": "2022-11-24T12:33:16.609Z"
   },
   {
    "duration": 46,
    "start_time": "2022-11-24T12:33:16.652Z"
   },
   {
    "duration": 169,
    "start_time": "2022-11-24T13:07:47.137Z"
   },
   {
    "duration": 113,
    "start_time": "2022-11-24T13:09:01.951Z"
   },
   {
    "duration": 33,
    "start_time": "2022-11-24T13:28:01.143Z"
   },
   {
    "duration": 37,
    "start_time": "2022-11-24T13:29:14.080Z"
   },
   {
    "duration": 2735,
    "start_time": "2022-11-24T13:41:18.208Z"
   },
   {
    "duration": 4,
    "start_time": "2022-11-24T14:42:31.768Z"
   },
   {
    "duration": 64,
    "start_time": "2022-11-24T14:42:31.774Z"
   },
   {
    "duration": 11,
    "start_time": "2022-11-24T14:42:31.839Z"
   },
   {
    "duration": 15,
    "start_time": "2022-11-24T14:42:31.851Z"
   },
   {
    "duration": 15,
    "start_time": "2022-11-24T14:42:31.868Z"
   },
   {
    "duration": 17,
    "start_time": "2022-11-24T14:42:31.885Z"
   },
   {
    "duration": 17,
    "start_time": "2022-11-24T14:42:31.903Z"
   },
   {
    "duration": 10,
    "start_time": "2022-11-24T14:42:31.922Z"
   },
   {
    "duration": 38,
    "start_time": "2022-11-24T14:42:31.934Z"
   },
   {
    "duration": 12,
    "start_time": "2022-11-24T14:42:31.974Z"
   },
   {
    "duration": 7,
    "start_time": "2022-11-24T14:42:31.988Z"
   },
   {
    "duration": 6,
    "start_time": "2022-11-24T14:42:31.997Z"
   },
   {
    "duration": 22,
    "start_time": "2022-11-24T14:42:32.004Z"
   },
   {
    "duration": 86,
    "start_time": "2022-11-24T14:42:32.029Z"
   },
   {
    "duration": 2656,
    "start_time": "2022-11-24T14:44:02.961Z"
   },
   {
    "duration": 52,
    "start_time": "2022-11-24T14:54:57.409Z"
   },
   {
    "duration": 5,
    "start_time": "2022-11-24T14:55:22.424Z"
   },
   {
    "duration": 95,
    "start_time": "2022-11-24T14:55:22.431Z"
   },
   {
    "duration": 13,
    "start_time": "2022-11-24T14:55:22.528Z"
   },
   {
    "duration": 76,
    "start_time": "2022-11-24T14:55:22.543Z"
   },
   {
    "duration": 36,
    "start_time": "2022-11-24T14:55:22.622Z"
   },
   {
    "duration": 35,
    "start_time": "2022-11-24T14:55:22.660Z"
   },
   {
    "duration": 40,
    "start_time": "2022-11-24T14:55:22.697Z"
   },
   {
    "duration": 31,
    "start_time": "2022-11-24T14:55:22.738Z"
   },
   {
    "duration": 50,
    "start_time": "2022-11-24T14:55:22.770Z"
   },
   {
    "duration": 40,
    "start_time": "2022-11-24T14:55:22.822Z"
   },
   {
    "duration": 36,
    "start_time": "2022-11-24T14:55:22.864Z"
   },
   {
    "duration": 32,
    "start_time": "2022-11-24T14:55:22.902Z"
   },
   {
    "duration": 76,
    "start_time": "2022-11-24T14:55:22.935Z"
   },
   {
    "duration": 40,
    "start_time": "2022-11-24T14:55:23.013Z"
   },
   {
    "duration": 35,
    "start_time": "2022-11-24T14:57:04.027Z"
   },
   {
    "duration": 9,
    "start_time": "2022-11-24T14:58:32.376Z"
   },
   {
    "duration": 9,
    "start_time": "2022-11-24T14:58:50.985Z"
   },
   {
    "duration": 688,
    "start_time": "2022-11-24T14:59:00.972Z"
   },
   {
    "duration": 33,
    "start_time": "2022-11-24T15:00:18.514Z"
   },
   {
    "duration": 687,
    "start_time": "2022-11-24T15:00:35.503Z"
   },
   {
    "duration": 37,
    "start_time": "2022-11-24T15:02:23.302Z"
   },
   {
    "duration": 665,
    "start_time": "2022-11-24T15:02:38.550Z"
   },
   {
    "duration": 21,
    "start_time": "2022-11-24T15:06:00.947Z"
   },
   {
    "duration": 4,
    "start_time": "2022-11-24T15:06:41.686Z"
   },
   {
    "duration": 4,
    "start_time": "2022-11-24T15:06:51.247Z"
   },
   {
    "duration": 68,
    "start_time": "2022-11-24T15:06:51.252Z"
   },
   {
    "duration": 12,
    "start_time": "2022-11-24T15:06:51.322Z"
   },
   {
    "duration": 5,
    "start_time": "2022-11-24T15:06:51.335Z"
   },
   {
    "duration": 7,
    "start_time": "2022-11-24T15:06:51.342Z"
   },
   {
    "duration": 3,
    "start_time": "2022-11-24T15:06:51.351Z"
   },
   {
    "duration": 5,
    "start_time": "2022-11-24T15:06:51.356Z"
   },
   {
    "duration": 7,
    "start_time": "2022-11-24T15:06:51.363Z"
   },
   {
    "duration": 18,
    "start_time": "2022-11-24T15:06:51.372Z"
   },
   {
    "duration": 38,
    "start_time": "2022-11-24T15:06:51.392Z"
   },
   {
    "duration": 8,
    "start_time": "2022-11-24T15:06:51.431Z"
   },
   {
    "duration": 6,
    "start_time": "2022-11-24T15:06:51.441Z"
   },
   {
    "duration": 34,
    "start_time": "2022-11-24T15:06:51.448Z"
   },
   {
    "duration": 34,
    "start_time": "2022-11-24T15:06:51.484Z"
   },
   {
    "duration": 214,
    "start_time": "2022-11-24T15:06:51.520Z"
   },
   {
    "duration": 698,
    "start_time": "2022-11-24T15:06:51.736Z"
   },
   {
    "duration": 79,
    "start_time": "2022-11-24T15:06:52.436Z"
   },
   {
    "duration": 1301,
    "start_time": "2022-11-24T15:07:42.266Z"
   },
   {
    "duration": 309,
    "start_time": "2022-11-24T15:08:57.091Z"
   },
   {
    "duration": 10,
    "start_time": "2022-11-24T15:09:47.273Z"
   },
   {
    "duration": 1248,
    "start_time": "2022-11-24T15:10:27.003Z"
   },
   {
    "duration": 24,
    "start_time": "2022-11-24T15:13:51.308Z"
   },
   {
    "duration": 35,
    "start_time": "2022-11-24T15:13:54.568Z"
   },
   {
    "duration": 674,
    "start_time": "2022-11-24T15:13:57.207Z"
   },
   {
    "duration": 663,
    "start_time": "2022-11-24T15:15:22.609Z"
   },
   {
    "duration": 4839,
    "start_time": "2022-11-24T15:16:33.565Z"
   },
   {
    "duration": 4,
    "start_time": "2022-11-24T15:16:51.184Z"
   },
   {
    "duration": 54,
    "start_time": "2022-11-24T15:16:51.191Z"
   },
   {
    "duration": 12,
    "start_time": "2022-11-24T15:16:51.247Z"
   },
   {
    "duration": 5,
    "start_time": "2022-11-24T15:16:51.261Z"
   },
   {
    "duration": 17,
    "start_time": "2022-11-24T15:16:51.268Z"
   },
   {
    "duration": 4,
    "start_time": "2022-11-24T15:16:51.286Z"
   },
   {
    "duration": 5,
    "start_time": "2022-11-24T15:16:51.292Z"
   },
   {
    "duration": 17,
    "start_time": "2022-11-24T15:16:51.299Z"
   },
   {
    "duration": 20,
    "start_time": "2022-11-24T15:16:51.318Z"
   },
   {
    "duration": 17,
    "start_time": "2022-11-24T15:16:51.342Z"
   },
   {
    "duration": 10,
    "start_time": "2022-11-24T15:16:51.362Z"
   },
   {
    "duration": 8,
    "start_time": "2022-11-24T15:16:51.373Z"
   },
   {
    "duration": 48,
    "start_time": "2022-11-24T15:16:51.382Z"
   },
   {
    "duration": 90,
    "start_time": "2022-11-24T15:16:51.431Z"
   },
   {
    "duration": 137,
    "start_time": "2022-11-24T15:16:51.524Z"
   },
   {
    "duration": 797,
    "start_time": "2022-11-24T15:16:51.663Z"
   },
   {
    "duration": 5180,
    "start_time": "2022-11-24T15:16:52.461Z"
   },
   {
    "duration": 1400,
    "start_time": "2022-11-24T15:16:57.643Z"
   },
   {
    "duration": 311,
    "start_time": "2022-11-24T15:16:59.045Z"
   },
   {
    "duration": 10,
    "start_time": "2022-11-24T15:16:59.358Z"
   },
   {
    "duration": 4904,
    "start_time": "2022-11-24T15:17:24.044Z"
   },
   {
    "duration": 1350,
    "start_time": "2022-11-24T15:20:30.871Z"
   },
   {
    "duration": 1276,
    "start_time": "2022-11-24T15:23:07.667Z"
   },
   {
    "duration": 35,
    "start_time": "2022-11-24T15:24:06.805Z"
   },
   {
    "duration": 1266,
    "start_time": "2022-11-24T15:25:17.118Z"
   },
   {
    "duration": 300,
    "start_time": "2022-11-24T15:25:18.386Z"
   },
   {
    "duration": 32,
    "start_time": "2022-11-24T15:25:34.847Z"
   },
   {
    "duration": 3,
    "start_time": "2022-11-24T15:33:21.458Z"
   },
   {
    "duration": 62,
    "start_time": "2022-11-24T15:33:21.463Z"
   },
   {
    "duration": 16,
    "start_time": "2022-11-24T15:33:21.527Z"
   },
   {
    "duration": 6,
    "start_time": "2022-11-24T15:33:21.546Z"
   },
   {
    "duration": 9,
    "start_time": "2022-11-24T15:33:21.554Z"
   },
   {
    "duration": 8,
    "start_time": "2022-11-24T15:33:21.564Z"
   },
   {
    "duration": 5,
    "start_time": "2022-11-24T15:33:21.574Z"
   },
   {
    "duration": 6,
    "start_time": "2022-11-24T15:33:21.580Z"
   },
   {
    "duration": 35,
    "start_time": "2022-11-24T15:33:21.587Z"
   },
   {
    "duration": 12,
    "start_time": "2022-11-24T15:33:21.624Z"
   },
   {
    "duration": 8,
    "start_time": "2022-11-24T15:33:21.637Z"
   },
   {
    "duration": 3,
    "start_time": "2022-11-24T15:33:21.646Z"
   },
   {
    "duration": 27,
    "start_time": "2022-11-24T15:33:21.650Z"
   },
   {
    "duration": 48,
    "start_time": "2022-11-24T15:33:21.678Z"
   },
   {
    "duration": 205,
    "start_time": "2022-11-24T15:33:21.728Z"
   },
   {
    "duration": 723,
    "start_time": "2022-11-24T15:33:21.934Z"
   },
   {
    "duration": 5096,
    "start_time": "2022-11-24T15:33:22.659Z"
   },
   {
    "duration": 1312,
    "start_time": "2022-11-24T15:33:27.757Z"
   },
   {
    "duration": 308,
    "start_time": "2022-11-24T15:33:29.070Z"
   },
   {
    "duration": 61,
    "start_time": "2022-11-24T15:33:29.380Z"
   },
   {
    "duration": 1423,
    "start_time": "2022-11-24T15:45:36.059Z"
   },
   {
    "duration": 4,
    "start_time": "2022-11-24T15:46:21.535Z"
   },
   {
    "duration": 57,
    "start_time": "2022-11-24T15:46:21.541Z"
   },
   {
    "duration": 12,
    "start_time": "2022-11-24T15:46:21.600Z"
   },
   {
    "duration": 6,
    "start_time": "2022-11-24T15:46:21.613Z"
   },
   {
    "duration": 7,
    "start_time": "2022-11-24T15:46:21.622Z"
   },
   {
    "duration": 4,
    "start_time": "2022-11-24T15:46:21.631Z"
   },
   {
    "duration": 6,
    "start_time": "2022-11-24T15:46:21.637Z"
   },
   {
    "duration": 7,
    "start_time": "2022-11-24T15:46:21.644Z"
   },
   {
    "duration": 15,
    "start_time": "2022-11-24T15:46:21.652Z"
   },
   {
    "duration": 12,
    "start_time": "2022-11-24T15:46:21.668Z"
   },
   {
    "duration": 7,
    "start_time": "2022-11-24T15:46:21.682Z"
   },
   {
    "duration": 3,
    "start_time": "2022-11-24T15:46:21.716Z"
   },
   {
    "duration": 33,
    "start_time": "2022-11-24T15:46:21.720Z"
   },
   {
    "duration": 66,
    "start_time": "2022-11-24T15:46:21.756Z"
   },
   {
    "duration": 126,
    "start_time": "2022-11-24T15:46:21.824Z"
   },
   {
    "duration": 733,
    "start_time": "2022-11-24T15:46:21.951Z"
   },
   {
    "duration": 4900,
    "start_time": "2022-11-24T15:46:22.686Z"
   },
   {
    "duration": 1348,
    "start_time": "2022-11-24T15:46:27.588Z"
   },
   {
    "duration": 0,
    "start_time": "2022-11-24T15:46:28.937Z"
   },
   {
    "duration": 0,
    "start_time": "2022-11-24T15:46:28.939Z"
   },
   {
    "duration": 4,
    "start_time": "2022-11-24T15:48:56.622Z"
   },
   {
    "duration": 87,
    "start_time": "2022-11-24T15:48:56.628Z"
   },
   {
    "duration": 11,
    "start_time": "2022-11-24T15:48:56.717Z"
   },
   {
    "duration": 10,
    "start_time": "2022-11-24T15:48:56.730Z"
   },
   {
    "duration": 34,
    "start_time": "2022-11-24T15:48:56.741Z"
   },
   {
    "duration": 24,
    "start_time": "2022-11-24T15:48:56.776Z"
   },
   {
    "duration": 27,
    "start_time": "2022-11-24T15:48:56.802Z"
   },
   {
    "duration": 27,
    "start_time": "2022-11-24T15:48:56.831Z"
   },
   {
    "duration": 35,
    "start_time": "2022-11-24T15:48:56.860Z"
   },
   {
    "duration": 26,
    "start_time": "2022-11-24T15:48:56.896Z"
   },
   {
    "duration": 31,
    "start_time": "2022-11-24T15:48:56.923Z"
   },
   {
    "duration": 15,
    "start_time": "2022-11-24T15:48:56.956Z"
   },
   {
    "duration": 37,
    "start_time": "2022-11-24T15:48:56.972Z"
   },
   {
    "duration": 35,
    "start_time": "2022-11-24T15:48:57.012Z"
   },
   {
    "duration": 129,
    "start_time": "2022-11-24T15:48:57.116Z"
   },
   {
    "duration": 681,
    "start_time": "2022-11-24T15:48:57.247Z"
   },
   {
    "duration": 4881,
    "start_time": "2022-11-24T15:48:57.930Z"
   },
   {
    "duration": 1362,
    "start_time": "2022-11-24T15:49:02.819Z"
   },
   {
    "duration": 294,
    "start_time": "2022-11-24T15:49:04.182Z"
   },
   {
    "duration": 65,
    "start_time": "2022-11-24T15:49:04.478Z"
   },
   {
    "duration": 1422,
    "start_time": "2022-11-24T15:52:05.823Z"
   },
   {
    "duration": 7,
    "start_time": "2022-11-24T15:55:15.993Z"
   },
   {
    "duration": 6,
    "start_time": "2022-11-24T15:55:26.122Z"
   },
   {
    "duration": 5,
    "start_time": "2022-11-24T16:00:55.664Z"
   },
   {
    "duration": 68,
    "start_time": "2022-11-24T16:00:55.671Z"
   },
   {
    "duration": 11,
    "start_time": "2022-11-24T16:00:55.741Z"
   },
   {
    "duration": 5,
    "start_time": "2022-11-24T16:00:55.754Z"
   },
   {
    "duration": 17,
    "start_time": "2022-11-24T16:00:55.761Z"
   },
   {
    "duration": 7,
    "start_time": "2022-11-24T16:00:55.779Z"
   },
   {
    "duration": 7,
    "start_time": "2022-11-24T16:00:55.788Z"
   },
   {
    "duration": 19,
    "start_time": "2022-11-24T16:00:55.815Z"
   },
   {
    "duration": 20,
    "start_time": "2022-11-24T16:00:55.836Z"
   },
   {
    "duration": 16,
    "start_time": "2022-11-24T16:00:55.858Z"
   },
   {
    "duration": 14,
    "start_time": "2022-11-24T16:00:55.877Z"
   },
   {
    "duration": 21,
    "start_time": "2022-11-24T16:00:55.893Z"
   },
   {
    "duration": 27,
    "start_time": "2022-11-24T16:00:55.916Z"
   },
   {
    "duration": 173,
    "start_time": "2022-11-24T16:00:55.944Z"
   },
   {
    "duration": 42,
    "start_time": "2022-11-24T16:00:56.118Z"
   },
   {
    "duration": 789,
    "start_time": "2022-11-24T16:00:56.163Z"
   },
   {
    "duration": 5065,
    "start_time": "2022-11-24T16:00:56.953Z"
   },
   {
    "duration": 1420,
    "start_time": "2022-11-24T16:01:02.020Z"
   },
   {
    "duration": 5,
    "start_time": "2022-11-24T16:01:03.442Z"
   },
   {
    "duration": 35,
    "start_time": "2022-11-24T16:01:03.449Z"
   },
   {
    "duration": 0,
    "start_time": "2022-11-24T16:01:03.486Z"
   },
   {
    "duration": 0,
    "start_time": "2022-11-24T16:01:03.487Z"
   },
   {
    "duration": 117,
    "start_time": "2022-11-24T16:02:10.896Z"
   },
   {
    "duration": 290,
    "start_time": "2022-11-24T16:02:46.973Z"
   },
   {
    "duration": 57,
    "start_time": "2022-11-24T16:02:49.814Z"
   },
   {
    "duration": 1547,
    "start_time": "2022-11-25T19:53:59.040Z"
   },
   {
    "duration": 376,
    "start_time": "2022-11-25T19:54:00.590Z"
   },
   {
    "duration": 15,
    "start_time": "2022-11-25T19:54:00.967Z"
   },
   {
    "duration": 23,
    "start_time": "2022-11-25T19:54:00.984Z"
   },
   {
    "duration": 29,
    "start_time": "2022-11-25T19:54:01.008Z"
   },
   {
    "duration": 6,
    "start_time": "2022-11-25T19:54:01.039Z"
   },
   {
    "duration": 36,
    "start_time": "2022-11-25T19:54:01.047Z"
   },
   {
    "duration": 12,
    "start_time": "2022-11-25T19:54:01.086Z"
   },
   {
    "duration": 143,
    "start_time": "2022-11-25T19:54:01.100Z"
   },
   {
    "duration": 0,
    "start_time": "2022-11-25T19:54:01.246Z"
   },
   {
    "duration": 1,
    "start_time": "2022-11-25T19:54:01.247Z"
   },
   {
    "duration": 0,
    "start_time": "2022-11-25T19:54:01.249Z"
   },
   {
    "duration": 0,
    "start_time": "2022-11-25T19:54:01.252Z"
   },
   {
    "duration": 0,
    "start_time": "2022-11-25T19:54:01.254Z"
   },
   {
    "duration": 0,
    "start_time": "2022-11-25T19:54:01.255Z"
   },
   {
    "duration": 0,
    "start_time": "2022-11-25T19:54:01.256Z"
   },
   {
    "duration": 0,
    "start_time": "2022-11-25T19:54:01.258Z"
   },
   {
    "duration": 0,
    "start_time": "2022-11-25T19:54:01.259Z"
   },
   {
    "duration": 0,
    "start_time": "2022-11-25T19:54:01.260Z"
   },
   {
    "duration": 0,
    "start_time": "2022-11-25T19:54:01.262Z"
   },
   {
    "duration": 0,
    "start_time": "2022-11-25T19:54:01.263Z"
   },
   {
    "duration": 6,
    "start_time": "2022-11-25T19:55:17.221Z"
   },
   {
    "duration": 12,
    "start_time": "2022-11-25T20:02:19.579Z"
   },
   {
    "duration": 6,
    "start_time": "2022-11-25T20:03:32.611Z"
   },
   {
    "duration": 5,
    "start_time": "2022-11-25T20:03:41.954Z"
   },
   {
    "duration": 63,
    "start_time": "2022-11-25T20:03:41.961Z"
   },
   {
    "duration": 12,
    "start_time": "2022-11-25T20:03:42.026Z"
   },
   {
    "duration": 5,
    "start_time": "2022-11-25T20:03:42.040Z"
   },
   {
    "duration": 9,
    "start_time": "2022-11-25T20:03:42.052Z"
   },
   {
    "duration": 6,
    "start_time": "2022-11-25T20:03:42.063Z"
   },
   {
    "duration": 9,
    "start_time": "2022-11-25T20:03:42.070Z"
   },
   {
    "duration": 11,
    "start_time": "2022-11-25T20:03:42.080Z"
   },
   {
    "duration": 8,
    "start_time": "2022-11-25T20:03:42.093Z"
   },
   {
    "duration": 21,
    "start_time": "2022-11-25T20:03:42.104Z"
   },
   {
    "duration": 41,
    "start_time": "2022-11-25T20:03:42.127Z"
   },
   {
    "duration": 9,
    "start_time": "2022-11-25T20:03:42.170Z"
   },
   {
    "duration": 6,
    "start_time": "2022-11-25T20:03:42.181Z"
   },
   {
    "duration": 21,
    "start_time": "2022-11-25T20:03:42.189Z"
   },
   {
    "duration": 0,
    "start_time": "2022-11-25T20:03:42.212Z"
   },
   {
    "duration": 0,
    "start_time": "2022-11-25T20:03:42.213Z"
   },
   {
    "duration": 0,
    "start_time": "2022-11-25T20:03:42.215Z"
   },
   {
    "duration": 0,
    "start_time": "2022-11-25T20:03:42.220Z"
   },
   {
    "duration": 0,
    "start_time": "2022-11-25T20:03:42.252Z"
   },
   {
    "duration": 0,
    "start_time": "2022-11-25T20:03:42.254Z"
   },
   {
    "duration": 0,
    "start_time": "2022-11-25T20:03:42.256Z"
   },
   {
    "duration": 0,
    "start_time": "2022-11-25T20:03:42.257Z"
   },
   {
    "duration": 5,
    "start_time": "2022-11-25T20:04:26.425Z"
   },
   {
    "duration": 53,
    "start_time": "2022-11-25T20:04:26.431Z"
   },
   {
    "duration": 12,
    "start_time": "2022-11-25T20:04:26.486Z"
   },
   {
    "duration": 5,
    "start_time": "2022-11-25T20:04:26.499Z"
   },
   {
    "duration": 8,
    "start_time": "2022-11-25T20:04:26.506Z"
   },
   {
    "duration": 4,
    "start_time": "2022-11-25T20:04:26.516Z"
   },
   {
    "duration": 7,
    "start_time": "2022-11-25T20:04:26.521Z"
   },
   {
    "duration": 25,
    "start_time": "2022-11-25T20:04:26.530Z"
   },
   {
    "duration": 8,
    "start_time": "2022-11-25T20:04:26.556Z"
   },
   {
    "duration": 14,
    "start_time": "2022-11-25T20:04:26.566Z"
   },
   {
    "duration": 12,
    "start_time": "2022-11-25T20:04:26.582Z"
   },
   {
    "duration": 11,
    "start_time": "2022-11-25T20:04:26.596Z"
   },
   {
    "duration": 4,
    "start_time": "2022-11-25T20:04:26.609Z"
   },
   {
    "duration": 51,
    "start_time": "2022-11-25T20:04:26.615Z"
   },
   {
    "duration": 90,
    "start_time": "2022-11-25T20:04:26.668Z"
   },
   {
    "duration": 122,
    "start_time": "2022-11-25T20:04:26.760Z"
   },
   {
    "duration": 668,
    "start_time": "2022-11-25T20:04:26.884Z"
   },
   {
    "duration": 0,
    "start_time": "2022-11-25T20:04:27.554Z"
   },
   {
    "duration": 0,
    "start_time": "2022-11-25T20:04:27.556Z"
   },
   {
    "duration": 0,
    "start_time": "2022-11-25T20:04:27.558Z"
   },
   {
    "duration": 0,
    "start_time": "2022-11-25T20:04:27.559Z"
   },
   {
    "duration": 0,
    "start_time": "2022-11-25T20:04:27.560Z"
   },
   {
    "duration": 1568,
    "start_time": "2022-11-26T13:28:28.497Z"
   },
   {
    "duration": 103,
    "start_time": "2022-11-26T13:28:30.067Z"
   },
   {
    "duration": 14,
    "start_time": "2022-11-26T13:28:30.172Z"
   },
   {
    "duration": 6,
    "start_time": "2022-11-26T13:28:30.188Z"
   },
   {
    "duration": 29,
    "start_time": "2022-11-26T13:28:30.196Z"
   },
   {
    "duration": 11,
    "start_time": "2022-11-26T13:28:30.227Z"
   },
   {
    "duration": 23,
    "start_time": "2022-11-26T13:28:30.240Z"
   },
   {
    "duration": 15,
    "start_time": "2022-11-26T13:28:30.266Z"
   },
   {
    "duration": 982,
    "start_time": "2022-11-26T13:28:30.284Z"
   },
   {
    "duration": 442,
    "start_time": "2022-11-26T13:28:31.270Z"
   },
   {
    "duration": 129,
    "start_time": "2022-11-26T13:28:31.714Z"
   },
   {
    "duration": 3,
    "start_time": "2022-11-26T13:28:31.845Z"
   },
   {
    "duration": 37,
    "start_time": "2022-11-26T13:28:31.850Z"
   },
   {
    "duration": 3303,
    "start_time": "2022-11-26T13:28:31.898Z"
   },
   {
    "duration": 1866,
    "start_time": "2022-11-26T13:28:35.203Z"
   },
   {
    "duration": 21578,
    "start_time": "2022-11-26T13:28:37.071Z"
   },
   {
    "duration": 0,
    "start_time": "2022-11-26T13:28:58.651Z"
   },
   {
    "duration": 0,
    "start_time": "2022-11-26T13:28:58.652Z"
   },
   {
    "duration": 0,
    "start_time": "2022-11-26T13:28:58.654Z"
   },
   {
    "duration": 0,
    "start_time": "2022-11-26T13:28:58.655Z"
   },
   {
    "duration": 0,
    "start_time": "2022-11-26T13:28:58.657Z"
   },
   {
    "duration": 1002,
    "start_time": "2022-11-26T13:29:00.428Z"
   },
   {
    "duration": 6,
    "start_time": "2022-11-26T13:29:16.762Z"
   },
   {
    "duration": 81,
    "start_time": "2022-11-26T13:29:16.771Z"
   },
   {
    "duration": 17,
    "start_time": "2022-11-26T13:29:16.854Z"
   },
   {
    "duration": 14,
    "start_time": "2022-11-26T13:29:16.875Z"
   },
   {
    "duration": 37,
    "start_time": "2022-11-26T13:29:16.891Z"
   },
   {
    "duration": 30,
    "start_time": "2022-11-26T13:29:16.930Z"
   },
   {
    "duration": 30,
    "start_time": "2022-11-26T13:29:16.962Z"
   },
   {
    "duration": 19,
    "start_time": "2022-11-26T13:29:16.994Z"
   },
   {
    "duration": 28,
    "start_time": "2022-11-26T13:29:17.014Z"
   },
   {
    "duration": 975,
    "start_time": "2022-11-26T13:29:17.045Z"
   },
   {
    "duration": 446,
    "start_time": "2022-11-26T13:29:18.021Z"
   },
   {
    "duration": 117,
    "start_time": "2022-11-26T13:29:18.468Z"
   },
   {
    "duration": 16,
    "start_time": "2022-11-26T13:29:18.587Z"
   },
   {
    "duration": 45,
    "start_time": "2022-11-26T13:29:18.604Z"
   },
   {
    "duration": 3246,
    "start_time": "2022-11-26T13:29:18.651Z"
   },
   {
    "duration": 1770,
    "start_time": "2022-11-26T13:29:21.899Z"
   },
   {
    "duration": 21896,
    "start_time": "2022-11-26T13:29:23.671Z"
   },
   {
    "duration": 0,
    "start_time": "2022-11-26T13:29:45.569Z"
   },
   {
    "duration": 0,
    "start_time": "2022-11-26T13:29:45.570Z"
   },
   {
    "duration": 0,
    "start_time": "2022-11-26T13:29:45.571Z"
   },
   {
    "duration": 0,
    "start_time": "2022-11-26T13:29:45.572Z"
   },
   {
    "duration": 0,
    "start_time": "2022-11-26T13:29:45.573Z"
   },
   {
    "duration": 784,
    "start_time": "2022-11-26T13:32:55.590Z"
   },
   {
    "duration": 4,
    "start_time": "2022-11-26T13:33:04.891Z"
   },
   {
    "duration": 64,
    "start_time": "2022-11-26T13:33:04.898Z"
   },
   {
    "duration": 14,
    "start_time": "2022-11-26T13:33:04.963Z"
   },
   {
    "duration": 12,
    "start_time": "2022-11-26T13:33:04.979Z"
   },
   {
    "duration": 17,
    "start_time": "2022-11-26T13:33:04.992Z"
   },
   {
    "duration": 7,
    "start_time": "2022-11-26T13:33:05.011Z"
   },
   {
    "duration": 10,
    "start_time": "2022-11-26T13:33:05.019Z"
   },
   {
    "duration": 10,
    "start_time": "2022-11-26T13:33:05.031Z"
   },
   {
    "duration": 13,
    "start_time": "2022-11-26T13:33:05.043Z"
   },
   {
    "duration": 24,
    "start_time": "2022-11-26T13:33:05.058Z"
   },
   {
    "duration": 20,
    "start_time": "2022-11-26T13:33:05.084Z"
   },
   {
    "duration": 11,
    "start_time": "2022-11-26T13:33:05.110Z"
   },
   {
    "duration": 6,
    "start_time": "2022-11-26T13:33:05.123Z"
   },
   {
    "duration": 29,
    "start_time": "2022-11-26T13:33:05.131Z"
   },
   {
    "duration": 42,
    "start_time": "2022-11-26T13:33:05.161Z"
   },
   {
    "duration": 43,
    "start_time": "2022-11-26T13:33:05.297Z"
   },
   {
    "duration": 771,
    "start_time": "2022-11-26T13:33:05.342Z"
   },
   {
    "duration": 0,
    "start_time": "2022-11-26T13:33:06.115Z"
   },
   {
    "duration": 0,
    "start_time": "2022-11-26T13:33:06.116Z"
   },
   {
    "duration": 0,
    "start_time": "2022-11-26T13:33:06.117Z"
   },
   {
    "duration": 0,
    "start_time": "2022-11-26T13:33:06.118Z"
   },
   {
    "duration": 0,
    "start_time": "2022-11-26T13:33:06.121Z"
   },
   {
    "duration": 9,
    "start_time": "2022-11-26T13:45:12.883Z"
   },
   {
    "duration": 20,
    "start_time": "2022-11-26T13:45:27.275Z"
   },
   {
    "duration": 4,
    "start_time": "2022-11-26T13:46:14.087Z"
   },
   {
    "duration": 82,
    "start_time": "2022-11-26T13:46:14.092Z"
   },
   {
    "duration": 11,
    "start_time": "2022-11-26T13:46:14.175Z"
   },
   {
    "duration": 6,
    "start_time": "2022-11-26T13:46:14.188Z"
   },
   {
    "duration": 19,
    "start_time": "2022-11-26T13:46:14.195Z"
   },
   {
    "duration": 6,
    "start_time": "2022-11-26T13:46:14.216Z"
   },
   {
    "duration": 7,
    "start_time": "2022-11-26T13:46:14.223Z"
   },
   {
    "duration": 6,
    "start_time": "2022-11-26T13:46:14.231Z"
   },
   {
    "duration": 4,
    "start_time": "2022-11-26T13:46:14.239Z"
   },
   {
    "duration": 17,
    "start_time": "2022-11-26T13:46:14.244Z"
   },
   {
    "duration": 13,
    "start_time": "2022-11-26T13:46:14.262Z"
   },
   {
    "duration": 37,
    "start_time": "2022-11-26T13:46:14.276Z"
   },
   {
    "duration": 5,
    "start_time": "2022-11-26T13:46:14.314Z"
   },
   {
    "duration": 27,
    "start_time": "2022-11-26T13:46:14.320Z"
   },
   {
    "duration": 151,
    "start_time": "2022-11-26T13:46:14.349Z"
   },
   {
    "duration": 38,
    "start_time": "2022-11-26T13:46:14.501Z"
   },
   {
    "duration": 705,
    "start_time": "2022-11-26T13:46:14.541Z"
   },
   {
    "duration": 0,
    "start_time": "2022-11-26T13:46:15.247Z"
   },
   {
    "duration": 0,
    "start_time": "2022-11-26T13:46:15.248Z"
   },
   {
    "duration": 0,
    "start_time": "2022-11-26T13:46:15.249Z"
   },
   {
    "duration": 0,
    "start_time": "2022-11-26T13:46:15.250Z"
   },
   {
    "duration": 0,
    "start_time": "2022-11-26T13:46:15.251Z"
   },
   {
    "duration": 64,
    "start_time": "2022-11-26T13:48:27.735Z"
   },
   {
    "duration": 729,
    "start_time": "2022-11-26T13:49:46.886Z"
   },
   {
    "duration": 5420,
    "start_time": "2022-11-26T13:59:19.556Z"
   },
   {
    "duration": 5,
    "start_time": "2022-11-26T15:28:03.678Z"
   },
   {
    "duration": 48,
    "start_time": "2022-11-26T15:28:03.685Z"
   },
   {
    "duration": 12,
    "start_time": "2022-11-26T15:28:03.735Z"
   },
   {
    "duration": 6,
    "start_time": "2022-11-26T15:28:03.750Z"
   },
   {
    "duration": 11,
    "start_time": "2022-11-26T15:28:03.758Z"
   },
   {
    "duration": 8,
    "start_time": "2022-11-26T15:28:03.770Z"
   },
   {
    "duration": 16,
    "start_time": "2022-11-26T15:28:03.780Z"
   },
   {
    "duration": 6,
    "start_time": "2022-11-26T15:28:03.798Z"
   },
   {
    "duration": 9,
    "start_time": "2022-11-26T15:28:03.806Z"
   },
   {
    "duration": 24,
    "start_time": "2022-11-26T15:28:03.818Z"
   },
   {
    "duration": 13,
    "start_time": "2022-11-26T15:28:03.844Z"
   },
   {
    "duration": 9,
    "start_time": "2022-11-26T15:28:03.858Z"
   },
   {
    "duration": 8,
    "start_time": "2022-11-26T15:28:03.868Z"
   },
   {
    "duration": 42,
    "start_time": "2022-11-26T15:28:03.878Z"
   },
   {
    "duration": 77,
    "start_time": "2022-11-26T15:28:03.921Z"
   },
   {
    "duration": 131,
    "start_time": "2022-11-26T15:28:04.000Z"
   },
   {
    "duration": 49,
    "start_time": "2022-11-26T15:28:04.134Z"
   },
   {
    "duration": 0,
    "start_time": "2022-11-26T15:28:04.185Z"
   },
   {
    "duration": 0,
    "start_time": "2022-11-26T15:28:04.187Z"
   },
   {
    "duration": 0,
    "start_time": "2022-11-26T15:28:04.188Z"
   },
   {
    "duration": 0,
    "start_time": "2022-11-26T15:28:04.189Z"
   },
   {
    "duration": 0,
    "start_time": "2022-11-26T15:28:04.190Z"
   },
   {
    "duration": 0,
    "start_time": "2022-11-26T15:28:04.192Z"
   },
   {
    "duration": 66,
    "start_time": "2022-11-26T15:28:43.828Z"
   },
   {
    "duration": 63,
    "start_time": "2022-11-26T15:29:06.335Z"
   },
   {
    "duration": 64,
    "start_time": "2022-11-26T15:29:38.096Z"
   },
   {
    "duration": 18,
    "start_time": "2022-11-26T15:32:01.109Z"
   },
   {
    "duration": 65,
    "start_time": "2022-11-26T15:32:57.908Z"
   },
   {
    "duration": 729,
    "start_time": "2022-11-26T15:33:04.613Z"
   },
   {
    "duration": 5132,
    "start_time": "2022-11-26T15:34:25.570Z"
   },
   {
    "duration": 41,
    "start_time": "2022-11-26T15:38:38.894Z"
   },
   {
    "duration": 26,
    "start_time": "2022-11-26T15:39:36.145Z"
   },
   {
    "duration": 20,
    "start_time": "2022-11-26T15:43:49.576Z"
   },
   {
    "duration": 18,
    "start_time": "2022-11-26T16:19:44.483Z"
   },
   {
    "duration": 172,
    "start_time": "2022-11-26T16:20:09.916Z"
   },
   {
    "duration": 57,
    "start_time": "2022-11-26T16:21:58.842Z"
   },
   {
    "duration": 63,
    "start_time": "2022-11-26T16:22:55.538Z"
   },
   {
    "duration": 2670,
    "start_time": "2022-11-26T16:24:58.192Z"
   },
   {
    "duration": 64,
    "start_time": "2022-11-26T16:29:41.954Z"
   },
   {
    "duration": 24,
    "start_time": "2022-11-26T16:30:36.471Z"
   },
   {
    "duration": 436,
    "start_time": "2022-11-26T16:35:51.031Z"
   },
   {
    "duration": 48,
    "start_time": "2022-11-26T16:38:27.418Z"
   },
   {
    "duration": 60,
    "start_time": "2022-11-26T16:38:51.777Z"
   },
   {
    "duration": 7418,
    "start_time": "2022-11-26T16:39:06.800Z"
   },
   {
    "duration": 529,
    "start_time": "2022-11-26T16:40:26.136Z"
   },
   {
    "duration": 7236,
    "start_time": "2022-11-26T16:41:22.891Z"
   },
   {
    "duration": 4,
    "start_time": "2022-11-26T16:42:52.399Z"
   },
   {
    "duration": 50,
    "start_time": "2022-11-26T16:42:52.405Z"
   },
   {
    "duration": 12,
    "start_time": "2022-11-26T16:42:52.457Z"
   },
   {
    "duration": 5,
    "start_time": "2022-11-26T16:42:52.470Z"
   },
   {
    "duration": 7,
    "start_time": "2022-11-26T16:42:52.477Z"
   },
   {
    "duration": 13,
    "start_time": "2022-11-26T16:42:52.485Z"
   },
   {
    "duration": 7,
    "start_time": "2022-11-26T16:42:52.500Z"
   },
   {
    "duration": 4,
    "start_time": "2022-11-26T16:42:52.509Z"
   },
   {
    "duration": 5,
    "start_time": "2022-11-26T16:42:52.515Z"
   },
   {
    "duration": 15,
    "start_time": "2022-11-26T16:42:52.522Z"
   },
   {
    "duration": 13,
    "start_time": "2022-11-26T16:42:52.538Z"
   },
   {
    "duration": 8,
    "start_time": "2022-11-26T16:42:52.553Z"
   },
   {
    "duration": 35,
    "start_time": "2022-11-26T16:42:52.562Z"
   },
   {
    "duration": 29,
    "start_time": "2022-11-26T16:42:52.599Z"
   },
   {
    "duration": 68,
    "start_time": "2022-11-26T16:42:52.630Z"
   },
   {
    "duration": 125,
    "start_time": "2022-11-26T16:42:52.700Z"
   },
   {
    "duration": 7334,
    "start_time": "2022-11-26T16:42:52.827Z"
   },
   {
    "duration": 757,
    "start_time": "2022-11-26T16:43:00.162Z"
   },
   {
    "duration": 65,
    "start_time": "2022-11-26T16:43:00.921Z"
   },
   {
    "duration": 19,
    "start_time": "2022-11-26T16:43:00.988Z"
   },
   {
    "duration": 0,
    "start_time": "2022-11-26T16:43:01.009Z"
   },
   {
    "duration": 1,
    "start_time": "2022-11-26T16:43:01.010Z"
   },
   {
    "duration": 0,
    "start_time": "2022-11-26T16:43:01.011Z"
   },
   {
    "duration": 0,
    "start_time": "2022-11-26T16:43:01.013Z"
   },
   {
    "duration": 7270,
    "start_time": "2022-11-26T16:43:49.996Z"
   },
   {
    "duration": 65,
    "start_time": "2022-11-26T16:47:43.376Z"
   },
   {
    "duration": 2571,
    "start_time": "2022-11-26T16:52:06.523Z"
   },
   {
    "duration": 2735,
    "start_time": "2022-11-26T16:53:22.250Z"
   },
   {
    "duration": 20477,
    "start_time": "2022-11-26T16:53:43.889Z"
   },
   {
    "duration": 4,
    "start_time": "2022-11-26T16:54:26.769Z"
   },
   {
    "duration": 47,
    "start_time": "2022-11-26T16:54:26.775Z"
   },
   {
    "duration": 11,
    "start_time": "2022-11-26T16:54:26.824Z"
   },
   {
    "duration": 6,
    "start_time": "2022-11-26T16:54:26.837Z"
   },
   {
    "duration": 7,
    "start_time": "2022-11-26T16:54:26.845Z"
   },
   {
    "duration": 6,
    "start_time": "2022-11-26T16:54:26.854Z"
   },
   {
    "duration": 5,
    "start_time": "2022-11-26T16:54:26.861Z"
   },
   {
    "duration": 29,
    "start_time": "2022-11-26T16:54:26.868Z"
   },
   {
    "duration": 4,
    "start_time": "2022-11-26T16:54:26.899Z"
   },
   {
    "duration": 17,
    "start_time": "2022-11-26T16:54:26.905Z"
   },
   {
    "duration": 14,
    "start_time": "2022-11-26T16:54:26.924Z"
   },
   {
    "duration": 9,
    "start_time": "2022-11-26T16:54:26.940Z"
   },
   {
    "duration": 5,
    "start_time": "2022-11-26T16:54:26.950Z"
   },
   {
    "duration": 58,
    "start_time": "2022-11-26T16:54:26.958Z"
   },
   {
    "duration": 21,
    "start_time": "2022-11-26T16:54:27.018Z"
   },
   {
    "duration": 122,
    "start_time": "2022-11-26T16:54:27.097Z"
   },
   {
    "duration": 18,
    "start_time": "2022-11-26T16:54:27.221Z"
   },
   {
    "duration": 0,
    "start_time": "2022-11-26T16:54:27.241Z"
   },
   {
    "duration": 0,
    "start_time": "2022-11-26T16:54:27.242Z"
   },
   {
    "duration": 0,
    "start_time": "2022-11-26T16:54:27.243Z"
   },
   {
    "duration": 0,
    "start_time": "2022-11-26T16:54:27.244Z"
   },
   {
    "duration": 0,
    "start_time": "2022-11-26T16:54:27.244Z"
   },
   {
    "duration": 0,
    "start_time": "2022-11-26T16:54:27.245Z"
   },
   {
    "duration": 7315,
    "start_time": "2022-11-26T16:55:14.631Z"
   },
   {
    "duration": 697,
    "start_time": "2022-11-26T16:55:29.152Z"
   },
   {
    "duration": 20636,
    "start_time": "2022-11-26T16:55:35.855Z"
   },
   {
    "duration": 78371,
    "start_time": "2022-11-26T16:56:24.135Z"
   },
   {
    "duration": 82056,
    "start_time": "2022-11-26T17:04:05.887Z"
   },
   {
    "duration": 11,
    "start_time": "2022-11-26T17:15:17.168Z"
   },
   {
    "duration": 62928,
    "start_time": "2022-11-26T17:16:04.774Z"
   },
   {
    "duration": 1589,
    "start_time": "2022-11-26T17:28:25.771Z"
   },
   {
    "duration": 482,
    "start_time": "2022-11-26T17:29:34.014Z"
   },
   {
    "duration": 6,
    "start_time": "2022-11-26T17:30:44.755Z"
   },
   {
    "duration": 56,
    "start_time": "2022-11-26T17:30:44.763Z"
   },
   {
    "duration": 12,
    "start_time": "2022-11-26T17:30:44.821Z"
   },
   {
    "duration": 5,
    "start_time": "2022-11-26T17:30:44.835Z"
   },
   {
    "duration": 15,
    "start_time": "2022-11-26T17:30:44.842Z"
   },
   {
    "duration": 10,
    "start_time": "2022-11-26T17:30:44.859Z"
   },
   {
    "duration": 8,
    "start_time": "2022-11-26T17:30:44.870Z"
   },
   {
    "duration": 5,
    "start_time": "2022-11-26T17:30:44.896Z"
   },
   {
    "duration": 7,
    "start_time": "2022-11-26T17:30:44.903Z"
   },
   {
    "duration": 19,
    "start_time": "2022-11-26T17:30:44.911Z"
   },
   {
    "duration": 13,
    "start_time": "2022-11-26T17:30:44.932Z"
   },
   {
    "duration": 9,
    "start_time": "2022-11-26T17:30:44.946Z"
   },
   {
    "duration": 7,
    "start_time": "2022-11-26T17:30:44.959Z"
   },
   {
    "duration": 28,
    "start_time": "2022-11-26T17:30:44.996Z"
   },
   {
    "duration": 74,
    "start_time": "2022-11-26T17:30:45.026Z"
   },
   {
    "duration": 193100,
    "start_time": "2022-11-26T17:30:45.103Z"
   },
   {
    "duration": 116,
    "start_time": "2022-11-26T17:33:58.205Z"
   },
   {
    "duration": 7591,
    "start_time": "2022-11-26T17:33:58.323Z"
   },
   {
    "duration": 771,
    "start_time": "2022-11-26T17:34:05.916Z"
   },
   {
    "duration": 78607,
    "start_time": "2022-11-26T17:34:06.696Z"
   },
   {
    "duration": 493,
    "start_time": "2022-11-26T17:35:25.305Z"
   },
   {
    "duration": 6,
    "start_time": "2022-11-26T17:35:25.800Z"
   },
   {
    "duration": 376,
    "start_time": "2022-11-26T17:35:25.807Z"
   },
   {
    "duration": 30,
    "start_time": "2022-11-26T17:35:26.185Z"
   },
   {
    "duration": 656,
    "start_time": "2022-11-26T17:39:48.368Z"
   },
   {
    "duration": 406,
    "start_time": "2022-11-26T17:39:55.362Z"
   },
   {
    "duration": 352,
    "start_time": "2022-11-26T17:40:05.305Z"
   },
   {
    "duration": 378,
    "start_time": "2022-11-26T17:40:12.232Z"
   },
   {
    "duration": 409,
    "start_time": "2022-11-26T17:40:19.458Z"
   },
   {
    "duration": 396,
    "start_time": "2022-11-26T17:40:25.321Z"
   },
   {
    "duration": 407,
    "start_time": "2022-11-26T17:40:55.961Z"
   },
   {
    "duration": 350,
    "start_time": "2022-11-26T17:41:04.801Z"
   },
   {
    "duration": 396,
    "start_time": "2022-11-26T17:41:10.966Z"
   },
   {
    "duration": 577,
    "start_time": "2022-11-26T17:49:30.194Z"
   },
   {
    "duration": 638,
    "start_time": "2022-11-26T17:51:00.126Z"
   },
   {
    "duration": 726,
    "start_time": "2022-11-26T17:52:47.613Z"
   },
   {
    "duration": 10,
    "start_time": "2022-11-26T17:55:29.994Z"
   },
   {
    "duration": 717,
    "start_time": "2022-11-26T17:55:36.827Z"
   },
   {
    "duration": 9,
    "start_time": "2022-11-26T17:55:40.067Z"
   },
   {
    "duration": 9,
    "start_time": "2022-11-26T17:56:20.338Z"
   },
   {
    "duration": 7,
    "start_time": "2022-11-26T17:56:48.993Z"
   },
   {
    "duration": 572,
    "start_time": "2022-11-26T17:57:19.593Z"
   },
   {
    "duration": 1542,
    "start_time": "2022-11-27T07:37:03.851Z"
   },
   {
    "duration": 169,
    "start_time": "2022-11-27T07:37:05.394Z"
   },
   {
    "duration": 23,
    "start_time": "2022-11-27T07:37:05.565Z"
   },
   {
    "duration": 7,
    "start_time": "2022-11-27T07:37:05.591Z"
   },
   {
    "duration": 10,
    "start_time": "2022-11-27T07:37:05.599Z"
   },
   {
    "duration": 32,
    "start_time": "2022-11-27T07:37:05.610Z"
   },
   {
    "duration": 13,
    "start_time": "2022-11-27T07:37:05.644Z"
   },
   {
    "duration": 6,
    "start_time": "2022-11-27T07:37:05.659Z"
   },
   {
    "duration": 5,
    "start_time": "2022-11-27T07:37:05.666Z"
   },
   {
    "duration": 16,
    "start_time": "2022-11-27T07:37:05.673Z"
   },
   {
    "duration": 13,
    "start_time": "2022-11-27T07:37:05.691Z"
   },
   {
    "duration": 31,
    "start_time": "2022-11-27T07:37:05.706Z"
   },
   {
    "duration": 2,
    "start_time": "2022-11-27T07:37:05.739Z"
   },
   {
    "duration": 30,
    "start_time": "2022-11-27T07:37:05.743Z"
   },
   {
    "duration": 81,
    "start_time": "2022-11-27T07:37:05.774Z"
   },
   {
    "duration": 83106,
    "start_time": "2022-11-27T07:37:05.937Z"
   },
   {
    "duration": 124,
    "start_time": "2022-11-27T07:38:29.045Z"
   },
   {
    "duration": 7276,
    "start_time": "2022-11-27T07:38:29.171Z"
   },
   {
    "duration": 698,
    "start_time": "2022-11-27T07:38:36.449Z"
   },
   {
    "duration": 75092,
    "start_time": "2022-11-27T07:38:37.149Z"
   },
   {
    "duration": 658,
    "start_time": "2022-11-27T07:39:52.243Z"
   },
   {
    "duration": 6,
    "start_time": "2022-11-27T07:39:52.902Z"
   },
   {
    "duration": 30,
    "start_time": "2022-11-27T07:39:52.909Z"
   },
   {
    "duration": 6,
    "start_time": "2022-11-27T07:39:52.941Z"
   },
   {
    "duration": 297,
    "start_time": "2022-11-27T07:39:52.948Z"
   },
   {
    "duration": 22,
    "start_time": "2022-11-27T07:39:53.246Z"
   },
   {
    "duration": 15,
    "start_time": "2022-11-27T07:42:32.643Z"
   },
   {
    "duration": 703,
    "start_time": "2022-11-27T07:42:49.438Z"
   },
   {
    "duration": 729,
    "start_time": "2022-11-27T07:45:03.681Z"
   },
   {
    "duration": 703,
    "start_time": "2022-11-27T07:46:46.008Z"
   },
   {
    "duration": 328,
    "start_time": "2022-11-27T07:47:09.367Z"
   },
   {
    "duration": 6,
    "start_time": "2022-11-27T07:48:48.677Z"
   },
   {
    "duration": 6,
    "start_time": "2022-11-27T07:48:56.973Z"
   },
   {
    "duration": 9,
    "start_time": "2022-11-27T07:48:57.941Z"
   },
   {
    "duration": 126,
    "start_time": "2022-11-27T07:51:49.273Z"
   },
   {
    "duration": 30,
    "start_time": "2022-11-27T08:05:44.929Z"
   },
   {
    "duration": 25,
    "start_time": "2022-11-27T08:07:30.546Z"
   },
   {
    "duration": 21,
    "start_time": "2022-11-27T08:07:41.105Z"
   },
   {
    "duration": 816,
    "start_time": "2022-11-27T08:12:37.126Z"
   },
   {
    "duration": 716,
    "start_time": "2022-11-27T08:12:44.021Z"
   },
   {
    "duration": 644,
    "start_time": "2022-11-27T08:12:49.965Z"
   },
   {
    "duration": 637,
    "start_time": "2022-11-27T08:12:55.285Z"
   },
   {
    "duration": 626,
    "start_time": "2022-11-27T08:13:00.189Z"
   },
   {
    "duration": 640,
    "start_time": "2022-11-27T08:13:07.197Z"
   },
   {
    "duration": 603,
    "start_time": "2022-11-27T08:13:14.525Z"
   },
   {
    "duration": 7,
    "start_time": "2022-11-27T08:15:13.961Z"
   },
   {
    "duration": 9,
    "start_time": "2022-11-27T08:15:19.105Z"
   },
   {
    "duration": 22,
    "start_time": "2022-11-27T08:15:25.170Z"
   },
   {
    "duration": 22,
    "start_time": "2022-11-27T08:19:32.590Z"
   },
   {
    "duration": 21,
    "start_time": "2022-11-27T08:19:40.262Z"
   },
   {
    "duration": 26,
    "start_time": "2022-11-27T08:19:59.021Z"
   },
   {
    "duration": 5,
    "start_time": "2022-11-27T08:24:12.881Z"
   },
   {
    "duration": 5,
    "start_time": "2022-11-27T08:24:37.168Z"
   },
   {
    "duration": 18,
    "start_time": "2022-11-27T08:24:49.641Z"
   },
   {
    "duration": 10,
    "start_time": "2022-11-27T08:24:57.299Z"
   },
   {
    "duration": 4,
    "start_time": "2022-11-27T08:25:03.905Z"
   },
   {
    "duration": 72,
    "start_time": "2022-11-27T08:25:03.911Z"
   },
   {
    "duration": 11,
    "start_time": "2022-11-27T08:25:03.985Z"
   },
   {
    "duration": 4,
    "start_time": "2022-11-27T08:25:03.998Z"
   },
   {
    "duration": 9,
    "start_time": "2022-11-27T08:25:04.004Z"
   },
   {
    "duration": 5,
    "start_time": "2022-11-27T08:25:04.014Z"
   },
   {
    "duration": 9,
    "start_time": "2022-11-27T08:25:04.039Z"
   },
   {
    "duration": 25,
    "start_time": "2022-11-27T08:25:04.051Z"
   },
   {
    "duration": 5,
    "start_time": "2022-11-27T08:25:04.078Z"
   },
   {
    "duration": 20,
    "start_time": "2022-11-27T08:25:04.085Z"
   },
   {
    "duration": 11,
    "start_time": "2022-11-27T08:25:04.107Z"
   },
   {
    "duration": 29,
    "start_time": "2022-11-27T08:25:04.119Z"
   },
   {
    "duration": 21,
    "start_time": "2022-11-27T08:25:04.152Z"
   },
   {
    "duration": 134,
    "start_time": "2022-11-27T08:25:04.175Z"
   },
   {
    "duration": 0,
    "start_time": "2022-11-27T08:25:04.311Z"
   },
   {
    "duration": 0,
    "start_time": "2022-11-27T08:25:04.311Z"
   },
   {
    "duration": 0,
    "start_time": "2022-11-27T08:25:04.313Z"
   },
   {
    "duration": 0,
    "start_time": "2022-11-27T08:25:04.314Z"
   },
   {
    "duration": 1,
    "start_time": "2022-11-27T08:25:04.314Z"
   },
   {
    "duration": 0,
    "start_time": "2022-11-27T08:25:04.315Z"
   },
   {
    "duration": 0,
    "start_time": "2022-11-27T08:25:04.316Z"
   },
   {
    "duration": 0,
    "start_time": "2022-11-27T08:25:04.317Z"
   },
   {
    "duration": 0,
    "start_time": "2022-11-27T08:25:04.318Z"
   },
   {
    "duration": 0,
    "start_time": "2022-11-27T08:25:04.319Z"
   },
   {
    "duration": 0,
    "start_time": "2022-11-27T08:25:04.320Z"
   },
   {
    "duration": 0,
    "start_time": "2022-11-27T08:25:04.339Z"
   },
   {
    "duration": 0,
    "start_time": "2022-11-27T08:25:04.342Z"
   },
   {
    "duration": 1,
    "start_time": "2022-11-27T08:25:04.343Z"
   },
   {
    "duration": 0,
    "start_time": "2022-11-27T08:25:04.346Z"
   },
   {
    "duration": 0,
    "start_time": "2022-11-27T08:25:04.348Z"
   },
   {
    "duration": 5,
    "start_time": "2022-11-27T08:25:39.858Z"
   },
   {
    "duration": 52,
    "start_time": "2022-11-27T08:25:39.866Z"
   },
   {
    "duration": 11,
    "start_time": "2022-11-27T08:25:39.919Z"
   },
   {
    "duration": 7,
    "start_time": "2022-11-27T08:25:39.932Z"
   },
   {
    "duration": 22,
    "start_time": "2022-11-27T08:25:39.948Z"
   },
   {
    "duration": 5,
    "start_time": "2022-11-27T08:25:39.972Z"
   },
   {
    "duration": 16,
    "start_time": "2022-11-27T08:25:39.979Z"
   },
   {
    "duration": 17,
    "start_time": "2022-11-27T08:25:39.996Z"
   },
   {
    "duration": 7,
    "start_time": "2022-11-27T08:25:40.015Z"
   },
   {
    "duration": 23,
    "start_time": "2022-11-27T08:25:40.026Z"
   },
   {
    "duration": 20,
    "start_time": "2022-11-27T08:25:40.057Z"
   },
   {
    "duration": 9,
    "start_time": "2022-11-27T08:25:40.079Z"
   },
   {
    "duration": 6,
    "start_time": "2022-11-27T08:25:40.089Z"
   },
   {
    "duration": 23,
    "start_time": "2022-11-27T08:25:40.097Z"
   },
   {
    "duration": 128,
    "start_time": "2022-11-27T08:25:40.121Z"
   },
   {
    "duration": 150688,
    "start_time": "2022-11-27T08:25:40.251Z"
   },
   {
    "duration": 130,
    "start_time": "2022-11-27T08:28:10.948Z"
   },
   {
    "duration": 7586,
    "start_time": "2022-11-27T08:28:11.080Z"
   },
   {
    "duration": 925,
    "start_time": "2022-11-27T08:28:18.668Z"
   },
   {
    "duration": 86933,
    "start_time": "2022-11-27T08:28:19.594Z"
   },
   {
    "duration": 722,
    "start_time": "2022-11-27T08:29:46.529Z"
   },
   {
    "duration": 9,
    "start_time": "2022-11-27T08:29:47.253Z"
   },
   {
    "duration": 16,
    "start_time": "2022-11-27T08:29:47.264Z"
   },
   {
    "duration": 9,
    "start_time": "2022-11-27T08:29:47.281Z"
   },
   {
    "duration": 157,
    "start_time": "2022-11-27T08:29:47.292Z"
   },
   {
    "duration": 386,
    "start_time": "2022-11-27T08:29:47.452Z"
   },
   {
    "duration": 9,
    "start_time": "2022-11-27T08:29:47.841Z"
   },
   {
    "duration": 35,
    "start_time": "2022-11-27T08:29:47.853Z"
   },
   {
    "duration": 9,
    "start_time": "2022-11-27T08:29:47.889Z"
   },
   {
    "duration": 22,
    "start_time": "2022-11-27T08:29:47.900Z"
   },
   {
    "duration": 549,
    "start_time": "2022-11-27T08:35:02.460Z"
   },
   {
    "duration": 6,
    "start_time": "2022-11-27T08:35:09.359Z"
   },
   {
    "duration": 64,
    "start_time": "2022-11-27T08:35:09.367Z"
   },
   {
    "duration": 34,
    "start_time": "2022-11-27T08:35:09.434Z"
   },
   {
    "duration": 11,
    "start_time": "2022-11-27T08:35:09.471Z"
   },
   {
    "duration": 8,
    "start_time": "2022-11-27T08:35:09.484Z"
   },
   {
    "duration": 5,
    "start_time": "2022-11-27T08:35:09.494Z"
   },
   {
    "duration": 6,
    "start_time": "2022-11-27T08:35:09.500Z"
   },
   {
    "duration": 27,
    "start_time": "2022-11-27T08:35:09.508Z"
   },
   {
    "duration": 33,
    "start_time": "2022-11-27T08:35:09.537Z"
   },
   {
    "duration": 22,
    "start_time": "2022-11-27T08:35:09.572Z"
   },
   {
    "duration": 14,
    "start_time": "2022-11-27T08:35:09.595Z"
   },
   {
    "duration": 9,
    "start_time": "2022-11-27T08:35:09.611Z"
   },
   {
    "duration": 13,
    "start_time": "2022-11-27T08:35:09.622Z"
   },
   {
    "duration": 57,
    "start_time": "2022-11-27T08:35:09.644Z"
   },
   {
    "duration": 154,
    "start_time": "2022-11-27T08:35:09.703Z"
   },
   {
    "duration": 148882,
    "start_time": "2022-11-27T08:35:09.862Z"
   },
   {
    "duration": 43,
    "start_time": "2022-11-27T08:37:38.751Z"
   },
   {
    "duration": 7446,
    "start_time": "2022-11-27T08:37:38.796Z"
   },
   {
    "duration": 724,
    "start_time": "2022-11-27T08:37:46.244Z"
   },
   {
    "duration": 86573,
    "start_time": "2022-11-27T08:37:46.970Z"
   },
   {
    "duration": 580,
    "start_time": "2022-11-27T08:39:13.546Z"
   },
   {
    "duration": 11,
    "start_time": "2022-11-27T08:39:14.140Z"
   },
   {
    "duration": 12,
    "start_time": "2022-11-27T08:39:14.155Z"
   },
   {
    "duration": 8,
    "start_time": "2022-11-27T08:39:14.169Z"
   },
   {
    "duration": 149,
    "start_time": "2022-11-27T08:39:14.178Z"
   },
   {
    "duration": 368,
    "start_time": "2022-11-27T08:39:14.329Z"
   },
   {
    "duration": 6,
    "start_time": "2022-11-27T08:39:14.699Z"
   },
   {
    "duration": 8,
    "start_time": "2022-11-27T08:39:14.706Z"
   },
   {
    "duration": 32,
    "start_time": "2022-11-27T08:39:14.715Z"
   },
   {
    "duration": 33,
    "start_time": "2022-11-27T08:39:14.750Z"
   },
   {
    "duration": 26,
    "start_time": "2022-11-27T08:40:40.087Z"
   },
   {
    "duration": 20,
    "start_time": "2022-11-27T08:40:46.886Z"
   },
   {
    "duration": 5,
    "start_time": "2022-11-27T08:43:26.787Z"
   },
   {
    "duration": 62,
    "start_time": "2022-11-27T08:43:26.794Z"
   },
   {
    "duration": 13,
    "start_time": "2022-11-27T08:43:26.859Z"
   },
   {
    "duration": 5,
    "start_time": "2022-11-27T08:43:26.874Z"
   },
   {
    "duration": 14,
    "start_time": "2022-11-27T08:43:26.880Z"
   },
   {
    "duration": 10,
    "start_time": "2022-11-27T08:43:26.895Z"
   },
   {
    "duration": 32,
    "start_time": "2022-11-27T08:43:26.906Z"
   },
   {
    "duration": 21,
    "start_time": "2022-11-27T08:43:26.941Z"
   },
   {
    "duration": 6,
    "start_time": "2022-11-27T08:43:26.965Z"
   },
   {
    "duration": 16,
    "start_time": "2022-11-27T08:43:26.973Z"
   },
   {
    "duration": 14,
    "start_time": "2022-11-27T08:43:26.991Z"
   },
   {
    "duration": 35,
    "start_time": "2022-11-27T08:43:27.006Z"
   },
   {
    "duration": 9,
    "start_time": "2022-11-27T08:43:27.043Z"
   },
   {
    "duration": 31,
    "start_time": "2022-11-27T08:43:27.055Z"
   },
   {
    "duration": 66,
    "start_time": "2022-11-27T08:43:27.088Z"
   },
   {
    "duration": 167295,
    "start_time": "2022-11-27T08:43:27.157Z"
   },
   {
    "duration": 114,
    "start_time": "2022-11-27T08:46:14.460Z"
   },
   {
    "duration": 7791,
    "start_time": "2022-11-27T08:46:14.576Z"
   },
   {
    "duration": 769,
    "start_time": "2022-11-27T08:46:22.368Z"
   },
   {
    "duration": 82231,
    "start_time": "2022-11-27T08:46:23.139Z"
   },
   {
    "duration": 636,
    "start_time": "2022-11-27T08:47:45.371Z"
   },
   {
    "duration": 8,
    "start_time": "2022-11-27T08:47:46.009Z"
   },
   {
    "duration": 9,
    "start_time": "2022-11-27T08:47:46.037Z"
   },
   {
    "duration": 18,
    "start_time": "2022-11-27T08:47:46.049Z"
   },
   {
    "duration": 146,
    "start_time": "2022-11-27T08:47:46.069Z"
   },
   {
    "duration": 377,
    "start_time": "2022-11-27T08:47:46.217Z"
   },
   {
    "duration": 6,
    "start_time": "2022-11-27T08:47:46.595Z"
   },
   {
    "duration": 8,
    "start_time": "2022-11-27T08:47:46.603Z"
   },
   {
    "duration": 32,
    "start_time": "2022-11-27T08:47:46.612Z"
   },
   {
    "duration": 42,
    "start_time": "2022-11-27T08:47:46.647Z"
   },
   {
    "duration": 13,
    "start_time": "2022-11-27T08:54:12.205Z"
   },
   {
    "duration": 19,
    "start_time": "2022-11-27T08:54:25.249Z"
   },
   {
    "duration": 6,
    "start_time": "2022-11-27T08:56:37.483Z"
   },
   {
    "duration": 13,
    "start_time": "2022-11-27T08:57:41.014Z"
   },
   {
    "duration": 4,
    "start_time": "2022-11-27T08:57:55.389Z"
   },
   {
    "duration": 4,
    "start_time": "2022-11-27T08:58:22.387Z"
   },
   {
    "duration": 52,
    "start_time": "2022-11-27T08:58:22.393Z"
   },
   {
    "duration": 12,
    "start_time": "2022-11-27T08:58:22.447Z"
   },
   {
    "duration": 5,
    "start_time": "2022-11-27T08:58:22.461Z"
   },
   {
    "duration": 9,
    "start_time": "2022-11-27T08:58:22.468Z"
   },
   {
    "duration": 6,
    "start_time": "2022-11-27T08:58:22.478Z"
   },
   {
    "duration": 6,
    "start_time": "2022-11-27T08:58:22.486Z"
   },
   {
    "duration": 6,
    "start_time": "2022-11-27T08:58:22.494Z"
   },
   {
    "duration": 42,
    "start_time": "2022-11-27T08:58:22.502Z"
   },
   {
    "duration": 7,
    "start_time": "2022-11-27T08:58:22.546Z"
   },
   {
    "duration": 21,
    "start_time": "2022-11-27T08:58:22.554Z"
   },
   {
    "duration": 11,
    "start_time": "2022-11-27T08:58:22.577Z"
   },
   {
    "duration": 8,
    "start_time": "2022-11-27T08:58:22.590Z"
   },
   {
    "duration": 6,
    "start_time": "2022-11-27T08:58:22.600Z"
   },
   {
    "duration": 49,
    "start_time": "2022-11-27T08:58:22.607Z"
   },
   {
    "duration": 80,
    "start_time": "2022-11-27T08:58:22.658Z"
   },
   {
    "duration": 78006,
    "start_time": "2022-11-27T08:58:22.740Z"
   },
   {
    "duration": 34,
    "start_time": "2022-11-27T08:59:40.838Z"
   },
   {
    "duration": 6728,
    "start_time": "2022-11-27T08:59:40.873Z"
   },
   {
    "duration": 693,
    "start_time": "2022-11-27T08:59:47.602Z"
   },
   {
    "duration": 76616,
    "start_time": "2022-11-27T08:59:48.296Z"
   },
   {
    "duration": 601,
    "start_time": "2022-11-27T09:01:04.913Z"
   },
   {
    "duration": 6,
    "start_time": "2022-11-27T09:01:05.515Z"
   },
   {
    "duration": 6,
    "start_time": "2022-11-27T09:01:05.537Z"
   },
   {
    "duration": 6,
    "start_time": "2022-11-27T09:01:05.545Z"
   },
   {
    "duration": 129,
    "start_time": "2022-11-27T09:01:05.552Z"
   },
   {
    "duration": 408,
    "start_time": "2022-11-27T09:01:05.683Z"
   },
   {
    "duration": 6,
    "start_time": "2022-11-27T09:01:06.093Z"
   },
   {
    "duration": 6,
    "start_time": "2022-11-27T09:01:06.100Z"
   },
   {
    "duration": 31,
    "start_time": "2022-11-27T09:01:06.108Z"
   },
   {
    "duration": 25,
    "start_time": "2022-11-27T09:01:06.141Z"
   },
   {
    "duration": 763,
    "start_time": "2022-11-27T09:04:19.703Z"
   },
   {
    "duration": 701,
    "start_time": "2022-11-27T09:04:28.249Z"
   },
   {
    "duration": 1206,
    "start_time": "2022-11-27T09:05:43.125Z"
   },
   {
    "duration": 21,
    "start_time": "2022-11-27T09:06:32.645Z"
   },
   {
    "duration": 16,
    "start_time": "2022-11-27T09:07:31.830Z"
   },
   {
    "duration": 13,
    "start_time": "2022-11-27T09:07:41.571Z"
   },
   {
    "duration": 9,
    "start_time": "2022-11-27T09:08:06.550Z"
   },
   {
    "duration": 14,
    "start_time": "2022-11-27T09:08:12.683Z"
   },
   {
    "duration": 5,
    "start_time": "2022-11-27T09:09:09.304Z"
   },
   {
    "duration": 57,
    "start_time": "2022-11-27T09:09:09.311Z"
   },
   {
    "duration": 12,
    "start_time": "2022-11-27T09:09:09.370Z"
   },
   {
    "duration": 4,
    "start_time": "2022-11-27T09:09:09.384Z"
   },
   {
    "duration": 9,
    "start_time": "2022-11-27T09:09:09.390Z"
   },
   {
    "duration": 4,
    "start_time": "2022-11-27T09:09:09.400Z"
   },
   {
    "duration": 35,
    "start_time": "2022-11-27T09:09:09.406Z"
   },
   {
    "duration": 6,
    "start_time": "2022-11-27T09:09:09.442Z"
   },
   {
    "duration": 21,
    "start_time": "2022-11-27T09:09:09.452Z"
   },
   {
    "duration": 7,
    "start_time": "2022-11-27T09:09:09.475Z"
   },
   {
    "duration": 17,
    "start_time": "2022-11-27T09:09:09.483Z"
   },
   {
    "duration": 12,
    "start_time": "2022-11-27T09:09:09.502Z"
   },
   {
    "duration": 25,
    "start_time": "2022-11-27T09:09:09.516Z"
   },
   {
    "duration": 4,
    "start_time": "2022-11-27T09:09:09.543Z"
   },
   {
    "duration": 24,
    "start_time": "2022-11-27T09:09:09.549Z"
   },
   {
    "duration": 162,
    "start_time": "2022-11-27T09:09:09.575Z"
   },
   {
    "duration": 83207,
    "start_time": "2022-11-27T09:09:09.739Z"
   },
   {
    "duration": 34,
    "start_time": "2022-11-27T09:10:33.037Z"
   },
   {
    "duration": 6886,
    "start_time": "2022-11-27T09:10:33.073Z"
   },
   {
    "duration": 678,
    "start_time": "2022-11-27T09:10:39.960Z"
   },
   {
    "duration": 76074,
    "start_time": "2022-11-27T09:10:40.639Z"
   },
   {
    "duration": 602,
    "start_time": "2022-11-27T09:11:56.714Z"
   },
   {
    "duration": 23,
    "start_time": "2022-11-27T09:11:57.317Z"
   },
   {
    "duration": 6,
    "start_time": "2022-11-27T09:11:57.343Z"
   },
   {
    "duration": 6,
    "start_time": "2022-11-27T09:11:57.350Z"
   },
   {
    "duration": 131,
    "start_time": "2022-11-27T09:11:57.357Z"
   },
   {
    "duration": 414,
    "start_time": "2022-11-27T09:11:57.490Z"
   },
   {
    "duration": 7,
    "start_time": "2022-11-27T09:11:57.906Z"
   },
   {
    "duration": 23,
    "start_time": "2022-11-27T09:11:57.915Z"
   },
   {
    "duration": 8,
    "start_time": "2022-11-27T09:11:57.940Z"
   },
   {
    "duration": 25,
    "start_time": "2022-11-27T09:11:57.949Z"
   },
   {
    "duration": 661,
    "start_time": "2022-11-27T09:13:15.550Z"
   },
   {
    "duration": 437,
    "start_time": "2022-11-27T09:13:34.677Z"
   },
   {
    "duration": 567,
    "start_time": "2022-11-27T09:13:46.653Z"
   },
   {
    "duration": 5,
    "start_time": "2022-11-27T09:15:47.290Z"
   },
   {
    "duration": 5,
    "start_time": "2022-11-27T09:16:42.738Z"
   },
   {
    "duration": 18,
    "start_time": "2022-11-27T09:17:19.011Z"
   },
   {
    "duration": 3,
    "start_time": "2022-11-27T09:17:42.857Z"
   },
   {
    "duration": 3,
    "start_time": "2022-11-27T09:17:55.312Z"
   },
   {
    "duration": 4,
    "start_time": "2022-11-27T09:17:58.598Z"
   },
   {
    "duration": 59,
    "start_time": "2022-11-27T09:17:58.604Z"
   },
   {
    "duration": 13,
    "start_time": "2022-11-27T09:17:58.664Z"
   },
   {
    "duration": 5,
    "start_time": "2022-11-27T09:17:58.679Z"
   },
   {
    "duration": 12,
    "start_time": "2022-11-27T09:17:58.686Z"
   },
   {
    "duration": 37,
    "start_time": "2022-11-27T09:17:58.700Z"
   },
   {
    "duration": 6,
    "start_time": "2022-11-27T09:17:58.740Z"
   },
   {
    "duration": 6,
    "start_time": "2022-11-27T09:17:58.748Z"
   },
   {
    "duration": 16,
    "start_time": "2022-11-27T09:17:58.756Z"
   },
   {
    "duration": 8,
    "start_time": "2022-11-27T09:17:58.774Z"
   },
   {
    "duration": 6,
    "start_time": "2022-11-27T09:17:58.784Z"
   },
   {
    "duration": 19,
    "start_time": "2022-11-27T09:17:58.791Z"
   },
   {
    "duration": 33,
    "start_time": "2022-11-27T09:17:58.813Z"
   },
   {
    "duration": 17,
    "start_time": "2022-11-27T09:17:58.848Z"
   },
   {
    "duration": 12,
    "start_time": "2022-11-27T09:17:58.867Z"
   },
   {
    "duration": 16,
    "start_time": "2022-11-27T09:17:58.881Z"
   },
   {
    "duration": 45,
    "start_time": "2022-11-27T09:17:58.899Z"
   },
   {
    "duration": 99,
    "start_time": "2022-11-27T09:17:58.946Z"
   },
   {
    "duration": 86991,
    "start_time": "2022-11-27T09:17:59.047Z"
   },
   {
    "duration": 118,
    "start_time": "2022-11-27T09:19:26.040Z"
   },
   {
    "duration": 5835,
    "start_time": "2022-11-27T09:19:26.159Z"
   },
   {
    "duration": 622,
    "start_time": "2022-11-27T09:19:31.996Z"
   },
   {
    "duration": 71103,
    "start_time": "2022-11-27T09:19:32.620Z"
   },
   {
    "duration": 577,
    "start_time": "2022-11-27T09:20:43.726Z"
   },
   {
    "duration": 6,
    "start_time": "2022-11-27T09:20:44.304Z"
   },
   {
    "duration": 27,
    "start_time": "2022-11-27T09:20:44.311Z"
   },
   {
    "duration": 7,
    "start_time": "2022-11-27T09:20:44.340Z"
   },
   {
    "duration": 127,
    "start_time": "2022-11-27T09:20:44.349Z"
   },
   {
    "duration": 413,
    "start_time": "2022-11-27T09:20:44.478Z"
   },
   {
    "duration": 7,
    "start_time": "2022-11-27T09:20:44.892Z"
   },
   {
    "duration": 7,
    "start_time": "2022-11-27T09:20:44.900Z"
   },
   {
    "duration": 32,
    "start_time": "2022-11-27T09:20:44.909Z"
   },
   {
    "duration": 24,
    "start_time": "2022-11-27T09:20:44.942Z"
   },
   {
    "duration": 1218,
    "start_time": "2022-11-27T09:23:31.744Z"
   },
   {
    "duration": 1288,
    "start_time": "2022-11-27T09:23:57.726Z"
   },
   {
    "duration": 29,
    "start_time": "2022-11-27T09:26:10.488Z"
   },
   {
    "duration": 40,
    "start_time": "2022-11-27T09:27:52.511Z"
   },
   {
    "duration": 5,
    "start_time": "2022-11-27T09:28:08.220Z"
   },
   {
    "duration": 63,
    "start_time": "2022-11-27T09:28:08.227Z"
   },
   {
    "duration": 12,
    "start_time": "2022-11-27T09:28:08.291Z"
   },
   {
    "duration": 20,
    "start_time": "2022-11-27T09:28:08.305Z"
   },
   {
    "duration": 20,
    "start_time": "2022-11-27T09:28:08.326Z"
   },
   {
    "duration": 10,
    "start_time": "2022-11-27T09:28:08.347Z"
   },
   {
    "duration": 29,
    "start_time": "2022-11-27T09:28:08.359Z"
   },
   {
    "duration": 22,
    "start_time": "2022-11-27T09:28:08.389Z"
   },
   {
    "duration": 14,
    "start_time": "2022-11-27T09:28:08.413Z"
   },
   {
    "duration": 22,
    "start_time": "2022-11-27T09:28:08.429Z"
   },
   {
    "duration": 30,
    "start_time": "2022-11-27T09:28:08.452Z"
   },
   {
    "duration": 26,
    "start_time": "2022-11-27T09:28:08.484Z"
   },
   {
    "duration": 18,
    "start_time": "2022-11-27T09:28:08.511Z"
   },
   {
    "duration": 29,
    "start_time": "2022-11-27T09:28:08.530Z"
   },
   {
    "duration": 28,
    "start_time": "2022-11-27T09:28:08.560Z"
   },
   {
    "duration": 51,
    "start_time": "2022-11-27T09:28:08.589Z"
   },
   {
    "duration": 84395,
    "start_time": "2022-11-27T09:28:08.643Z"
   },
   {
    "duration": 119,
    "start_time": "2022-11-27T09:29:33.040Z"
   },
   {
    "duration": 6979,
    "start_time": "2022-11-27T09:29:33.161Z"
   },
   {
    "duration": 718,
    "start_time": "2022-11-27T09:29:40.141Z"
   },
   {
    "duration": 77636,
    "start_time": "2022-11-27T09:29:40.861Z"
   },
   {
    "duration": 620,
    "start_time": "2022-11-27T09:30:58.499Z"
   },
   {
    "duration": 22,
    "start_time": "2022-11-27T09:30:59.120Z"
   },
   {
    "duration": 7,
    "start_time": "2022-11-27T09:30:59.145Z"
   },
   {
    "duration": 6,
    "start_time": "2022-11-27T09:30:59.154Z"
   },
   {
    "duration": 141,
    "start_time": "2022-11-27T09:30:59.161Z"
   },
   {
    "duration": 383,
    "start_time": "2022-11-27T09:30:59.304Z"
   },
   {
    "duration": 6,
    "start_time": "2022-11-27T09:30:59.688Z"
   },
   {
    "duration": 6,
    "start_time": "2022-11-27T09:30:59.696Z"
   },
   {
    "duration": 5,
    "start_time": "2022-11-27T09:30:59.704Z"
   },
   {
    "duration": 41,
    "start_time": "2022-11-27T09:30:59.737Z"
   },
   {
    "duration": 3256,
    "start_time": "2022-11-27T14:56:48.328Z"
   },
   {
    "duration": 112,
    "start_time": "2022-11-27T14:56:51.586Z"
   },
   {
    "duration": 73,
    "start_time": "2022-11-27T14:56:51.701Z"
   },
   {
    "duration": 17,
    "start_time": "2022-11-27T14:56:51.777Z"
   },
   {
    "duration": 59,
    "start_time": "2022-11-27T14:56:51.796Z"
   },
   {
    "duration": 9,
    "start_time": "2022-11-27T14:56:51.859Z"
   },
   {
    "duration": 40,
    "start_time": "2022-11-27T14:56:51.870Z"
   },
   {
    "duration": 40,
    "start_time": "2022-11-27T14:56:51.912Z"
   },
   {
    "duration": 52,
    "start_time": "2022-11-27T14:56:51.954Z"
   },
   {
    "duration": 51,
    "start_time": "2022-11-27T14:56:52.009Z"
   },
   {
    "duration": 41,
    "start_time": "2022-11-27T14:56:52.067Z"
   },
   {
    "duration": 62,
    "start_time": "2022-11-27T14:56:52.111Z"
   },
   {
    "duration": 38,
    "start_time": "2022-11-27T14:56:52.176Z"
   },
   {
    "duration": 35,
    "start_time": "2022-11-27T14:56:52.217Z"
   },
   {
    "duration": 99,
    "start_time": "2022-11-27T14:56:56.588Z"
   },
   {
    "duration": 36,
    "start_time": "2022-11-27T14:57:17.632Z"
   },
   {
    "duration": 158,
    "start_time": "2022-11-27T14:57:33.998Z"
   },
   {
    "duration": 47095,
    "start_time": "2022-11-27T14:57:53.091Z"
   },
   {
    "duration": 4684,
    "start_time": "2022-11-27T14:59:15.077Z"
   },
   {
    "duration": 18935,
    "start_time": "2022-11-27T14:59:41.959Z"
   },
   {
    "duration": 321061,
    "start_time": "2022-11-27T15:00:25.198Z"
   },
   {
    "duration": 15499,
    "start_time": "2022-11-27T15:13:13.552Z"
   },
   {
    "duration": 9,
    "start_time": "2022-11-27T15:15:08.694Z"
   },
   {
    "duration": 8,
    "start_time": "2022-11-27T15:15:09.198Z"
   },
   {
    "duration": 9,
    "start_time": "2022-11-27T15:15:09.780Z"
   },
   {
    "duration": 438,
    "start_time": "2022-11-27T15:15:12.029Z"
   },
   {
    "duration": 271,
    "start_time": "2022-11-27T15:15:39.897Z"
   },
   {
    "duration": 3147,
    "start_time": "2022-11-27T15:15:48.710Z"
   },
   {
    "duration": 19,
    "start_time": "2022-11-27T15:15:51.859Z"
   },
   {
    "duration": 8,
    "start_time": "2022-11-27T15:15:51.880Z"
   },
   {
    "duration": 8,
    "start_time": "2022-11-27T15:15:52.083Z"
   },
   {
    "duration": 25,
    "start_time": "2022-11-27T15:16:30.551Z"
   },
   {
    "duration": 8788,
    "start_time": "2022-11-27T15:17:18.696Z"
   },
   {
    "duration": 889,
    "start_time": "2022-11-27T15:17:54.702Z"
   },
   {
    "duration": 9179,
    "start_time": "2022-11-27T15:18:36.831Z"
   },
   {
    "duration": 905,
    "start_time": "2022-11-27T15:19:08.502Z"
   },
   {
    "duration": 445209,
    "start_time": "2022-11-27T15:21:18.396Z"
   },
   {
    "duration": 756,
    "start_time": "2022-11-27T15:29:04.833Z"
   },
   {
    "duration": 1538,
    "start_time": "2022-11-28T07:53:13.695Z"
   },
   {
    "duration": 99,
    "start_time": "2022-11-28T07:53:15.235Z"
   },
   {
    "duration": 15,
    "start_time": "2022-11-28T07:53:15.336Z"
   },
   {
    "duration": 6,
    "start_time": "2022-11-28T07:53:15.355Z"
   },
   {
    "duration": 12,
    "start_time": "2022-11-28T07:53:15.363Z"
   },
   {
    "duration": 6,
    "start_time": "2022-11-28T07:53:15.377Z"
   },
   {
    "duration": 9,
    "start_time": "2022-11-28T07:53:15.385Z"
   },
   {
    "duration": 8,
    "start_time": "2022-11-28T07:53:15.422Z"
   },
   {
    "duration": 13,
    "start_time": "2022-11-28T07:53:15.432Z"
   },
   {
    "duration": 5,
    "start_time": "2022-11-28T07:53:15.448Z"
   },
   {
    "duration": 8,
    "start_time": "2022-11-28T07:53:15.454Z"
   },
   {
    "duration": 14,
    "start_time": "2022-11-28T07:53:15.464Z"
   },
   {
    "duration": 11,
    "start_time": "2022-11-28T07:53:32.528Z"
   },
   {
    "duration": 7,
    "start_time": "2022-11-28T07:53:33.816Z"
   },
   {
    "duration": 2,
    "start_time": "2022-11-28T07:53:44.286Z"
   },
   {
    "duration": 22,
    "start_time": "2022-11-28T07:53:46.003Z"
   },
   {
    "duration": 460,
    "start_time": "2022-11-28T07:58:42.272Z"
   },
   {
    "duration": 1836,
    "start_time": "2022-11-28T07:59:00.894Z"
   },
   {
    "duration": 10,
    "start_time": "2022-11-28T08:00:54.031Z"
   },
   {
    "duration": 2591,
    "start_time": "2022-11-28T08:01:45.029Z"
   },
   {
    "duration": 623,
    "start_time": "2022-11-28T08:02:15.005Z"
   },
   {
    "duration": 13887,
    "start_time": "2022-11-28T08:02:33.238Z"
   },
   {
    "duration": 4,
    "start_time": "2022-11-28T08:02:56.101Z"
   },
   {
    "duration": 11927,
    "start_time": "2022-11-28T08:03:27.995Z"
   },
   {
    "duration": 6422,
    "start_time": "2022-11-28T08:04:12.911Z"
   },
   {
    "duration": 2,
    "start_time": "2022-11-28T08:04:35.093Z"
   },
   {
    "duration": 87478,
    "start_time": "2022-11-28T08:05:44.802Z"
   },
   {
    "duration": 13,
    "start_time": "2022-11-28T08:07:45.766Z"
   },
   {
    "duration": 124950,
    "start_time": "2022-11-28T08:09:19.855Z"
   },
   {
    "duration": 65,
    "start_time": "2022-11-28T08:13:18.508Z"
   },
   {
    "duration": 13,
    "start_time": "2022-11-28T08:14:30.053Z"
   },
   {
    "duration": 684,
    "start_time": "2022-11-28T08:14:59.896Z"
   },
   {
    "duration": 713,
    "start_time": "2022-11-28T08:17:00.946Z"
   },
   {
    "duration": 670,
    "start_time": "2022-11-28T08:17:12.197Z"
   },
   {
    "duration": 11,
    "start_time": "2022-11-28T08:17:49.258Z"
   },
   {
    "duration": 66,
    "start_time": "2022-11-28T08:18:53.410Z"
   },
   {
    "duration": 11,
    "start_time": "2022-11-28T08:19:15.755Z"
   },
   {
    "duration": 962,
    "start_time": "2022-11-28T08:19:33.694Z"
   },
   {
    "duration": 13,
    "start_time": "2022-11-28T08:19:51.280Z"
   },
   {
    "duration": 2,
    "start_time": "2022-11-28T08:19:53.756Z"
   },
   {
    "duration": 3,
    "start_time": "2022-11-28T08:19:54.298Z"
   },
   {
    "duration": 2,
    "start_time": "2022-11-28T08:20:01.420Z"
   },
   {
    "duration": 25,
    "start_time": "2022-11-28T08:20:01.875Z"
   },
   {
    "duration": 22,
    "start_time": "2022-11-28T08:20:14.628Z"
   },
   {
    "duration": 13597,
    "start_time": "2022-11-28T08:20:53.726Z"
   },
   {
    "duration": 33,
    "start_time": "2022-11-28T08:21:17.479Z"
   },
   {
    "duration": 6528,
    "start_time": "2022-11-28T08:21:19.951Z"
   },
   {
    "duration": 642,
    "start_time": "2022-11-28T08:21:30.694Z"
   },
   {
    "duration": 87268,
    "start_time": "2022-11-28T08:21:38.313Z"
   },
   {
    "duration": 147741,
    "start_time": "2022-11-28T08:23:23.218Z"
   },
   {
    "duration": 12,
    "start_time": "2022-11-28T08:26:13.854Z"
   },
   {
    "duration": 125274,
    "start_time": "2022-11-28T08:26:18.254Z"
   },
   {
    "duration": 11,
    "start_time": "2022-11-28T08:28:54.633Z"
   },
   {
    "duration": 667,
    "start_time": "2022-11-28T08:28:57.226Z"
   },
   {
    "duration": 4,
    "start_time": "2022-11-28T08:30:47.711Z"
   },
   {
    "duration": 49,
    "start_time": "2022-11-28T08:30:47.717Z"
   },
   {
    "duration": 11,
    "start_time": "2022-11-28T08:30:47.768Z"
   },
   {
    "duration": 12,
    "start_time": "2022-11-28T08:30:47.780Z"
   },
   {
    "duration": 7,
    "start_time": "2022-11-28T08:30:47.794Z"
   },
   {
    "duration": 5,
    "start_time": "2022-11-28T08:30:47.802Z"
   },
   {
    "duration": 7,
    "start_time": "2022-11-28T08:30:47.808Z"
   },
   {
    "duration": 6,
    "start_time": "2022-11-28T08:30:47.816Z"
   },
   {
    "duration": 4,
    "start_time": "2022-11-28T08:30:51.447Z"
   },
   {
    "duration": 4,
    "start_time": "2022-11-28T08:30:54.897Z"
   },
   {
    "duration": 12,
    "start_time": "2022-11-28T08:31:02.225Z"
   },
   {
    "duration": 12,
    "start_time": "2022-11-28T08:31:08.640Z"
   },
   {
    "duration": 3,
    "start_time": "2022-11-28T08:31:12.033Z"
   },
   {
    "duration": 24,
    "start_time": "2022-11-28T08:31:14.196Z"
   },
   {
    "duration": 21589,
    "start_time": "2022-11-28T08:31:22.333Z"
   },
   {
    "duration": 33,
    "start_time": "2022-11-28T08:33:17.542Z"
   },
   {
    "duration": 6876,
    "start_time": "2022-11-28T08:33:18.897Z"
   },
   {
    "duration": 668,
    "start_time": "2022-11-28T08:33:25.775Z"
   },
   {
    "duration": 87550,
    "start_time": "2022-11-28T08:33:33.328Z"
   },
   {
    "duration": 12,
    "start_time": "2022-11-28T08:35:09.867Z"
   },
   {
    "duration": 125132,
    "start_time": "2022-11-28T08:35:16.071Z"
   },
   {
    "duration": 12,
    "start_time": "2022-11-28T08:37:29.546Z"
   },
   {
    "duration": 663,
    "start_time": "2022-11-28T08:37:31.495Z"
   },
   {
    "duration": 1328,
    "start_time": "2022-11-28T08:38:42.725Z"
   },
   {
    "duration": 51,
    "start_time": "2022-11-28T08:38:44.055Z"
   },
   {
    "duration": 12,
    "start_time": "2022-11-28T08:38:44.108Z"
   },
   {
    "duration": 5,
    "start_time": "2022-11-28T08:38:44.122Z"
   },
   {
    "duration": 9,
    "start_time": "2022-11-28T08:38:44.129Z"
   },
   {
    "duration": 5,
    "start_time": "2022-11-28T08:38:44.139Z"
   },
   {
    "duration": 105,
    "start_time": "2022-11-28T08:39:49.526Z"
   },
   {
    "duration": 53,
    "start_time": "2022-11-28T08:40:12.995Z"
   },
   {
    "duration": 953,
    "start_time": "2022-11-28T08:40:16.301Z"
   },
   {
    "duration": 1158,
    "start_time": "2022-11-28T08:41:09.169Z"
   },
   {
    "duration": 12,
    "start_time": "2022-11-28T08:41:27.148Z"
   },
   {
    "duration": 11,
    "start_time": "2022-11-28T08:41:37.931Z"
   },
   {
    "duration": 14,
    "start_time": "2022-11-28T08:41:43.931Z"
   },
   {
    "duration": 5,
    "start_time": "2022-11-28T08:41:56.046Z"
   },
   {
    "duration": 6,
    "start_time": "2022-11-28T08:42:22.589Z"
   },
   {
    "duration": 10,
    "start_time": "2022-11-28T08:42:24.403Z"
   },
   {
    "duration": 11,
    "start_time": "2022-11-28T08:43:27.372Z"
   },
   {
    "duration": 2904,
    "start_time": "2022-11-28T08:43:39.018Z"
   },
   {
    "duration": 3,
    "start_time": "2022-11-28T08:43:43.886Z"
   },
   {
    "duration": 21,
    "start_time": "2022-11-28T08:43:45.533Z"
   },
   {
    "duration": 8464,
    "start_time": "2022-11-28T08:46:24.987Z"
   },
   {
    "duration": 3,
    "start_time": "2022-11-28T08:46:58.933Z"
   },
   {
    "duration": 1438,
    "start_time": "2022-11-28T08:46:58.938Z"
   },
   {
    "duration": 53,
    "start_time": "2022-11-28T08:47:00.377Z"
   },
   {
    "duration": 12,
    "start_time": "2022-11-28T08:47:00.432Z"
   },
   {
    "duration": 10,
    "start_time": "2022-11-28T08:47:00.446Z"
   },
   {
    "duration": 31,
    "start_time": "2022-11-28T08:47:00.458Z"
   },
   {
    "duration": 13,
    "start_time": "2022-11-28T08:47:00.491Z"
   },
   {
    "duration": 984,
    "start_time": "2022-11-28T08:47:00.505Z"
   },
   {
    "duration": 12313,
    "start_time": "2022-11-28T08:47:01.492Z"
   },
   {
    "duration": 14,
    "start_time": "2022-11-28T08:47:13.807Z"
   },
   {
    "duration": 4,
    "start_time": "2022-11-28T08:47:40.452Z"
   },
   {
    "duration": 1640,
    "start_time": "2022-11-28T08:47:44.187Z"
   },
   {
    "duration": 4,
    "start_time": "2022-11-28T08:48:19.463Z"
   },
   {
    "duration": 9,
    "start_time": "2022-11-28T08:48:21.311Z"
   },
   {
    "duration": 11,
    "start_time": "2022-11-28T08:48:29.842Z"
   },
   {
    "duration": 12,
    "start_time": "2022-11-28T08:48:36.330Z"
   },
   {
    "duration": 3,
    "start_time": "2022-11-28T08:48:40.187Z"
   },
   {
    "duration": 112,
    "start_time": "2022-11-28T08:48:40.954Z"
   },
   {
    "duration": 2,
    "start_time": "2022-11-28T08:49:13.587Z"
   },
   {
    "duration": 27,
    "start_time": "2022-11-28T08:49:14.214Z"
   },
   {
    "duration": 3,
    "start_time": "2022-11-28T08:49:26.853Z"
   },
   {
    "duration": 1351,
    "start_time": "2022-11-28T08:49:26.858Z"
   },
   {
    "duration": 50,
    "start_time": "2022-11-28T08:49:28.210Z"
   },
   {
    "duration": 11,
    "start_time": "2022-11-28T08:49:28.262Z"
   },
   {
    "duration": 5,
    "start_time": "2022-11-28T08:49:28.274Z"
   },
   {
    "duration": 9,
    "start_time": "2022-11-28T08:49:28.280Z"
   },
   {
    "duration": 6,
    "start_time": "2022-11-28T08:49:28.291Z"
   },
   {
    "duration": 996,
    "start_time": "2022-11-28T08:49:28.299Z"
   },
   {
    "duration": 12432,
    "start_time": "2022-11-28T08:49:29.297Z"
   },
   {
    "duration": 5,
    "start_time": "2022-11-28T08:49:41.731Z"
   },
   {
    "duration": 10,
    "start_time": "2022-11-28T08:49:41.737Z"
   },
   {
    "duration": 15,
    "start_time": "2022-11-28T08:49:41.748Z"
   },
   {
    "duration": 12,
    "start_time": "2022-11-28T08:49:41.765Z"
   },
   {
    "duration": 6,
    "start_time": "2022-11-28T08:49:41.779Z"
   },
   {
    "duration": 16,
    "start_time": "2022-11-28T08:49:41.786Z"
   },
   {
    "duration": 18,
    "start_time": "2022-11-28T08:49:41.803Z"
   },
   {
    "duration": 2,
    "start_time": "2022-11-28T08:49:41.822Z"
   },
   {
    "duration": 15,
    "start_time": "2022-11-28T08:49:41.826Z"
   },
   {
    "duration": 7,
    "start_time": "2022-11-28T08:49:41.842Z"
   },
   {
    "duration": 28,
    "start_time": "2022-11-28T08:49:41.850Z"
   },
   {
    "duration": 10,
    "start_time": "2022-11-28T08:50:28.540Z"
   },
   {
    "duration": 13863,
    "start_time": "2022-11-28T08:50:37.257Z"
   },
   {
    "duration": 24,
    "start_time": "2022-11-28T08:50:54.599Z"
   },
   {
    "duration": 4733,
    "start_time": "2022-11-28T08:50:54.991Z"
   },
   {
    "duration": 494,
    "start_time": "2022-11-28T08:51:00.518Z"
   },
   {
    "duration": 67386,
    "start_time": "2022-11-28T08:51:03.053Z"
   },
   {
    "duration": 12,
    "start_time": "2022-11-28T08:52:10.441Z"
   },
   {
    "duration": 96029,
    "start_time": "2022-11-28T08:52:10.455Z"
   },
   {
    "duration": 10,
    "start_time": "2022-11-28T08:53:56.600Z"
   },
   {
    "duration": 110085,
    "start_time": "2022-11-28T08:55:10.195Z"
   },
   {
    "duration": 10,
    "start_time": "2022-11-28T08:58:38.809Z"
   },
   {
    "duration": 2,
    "start_time": "2022-11-28T08:58:39.641Z"
   },
   {
    "duration": 2232,
    "start_time": "2022-11-28T08:58:41.807Z"
   },
   {
    "duration": 112,
    "start_time": "2022-11-28T08:59:35.445Z"
   },
   {
    "duration": 1338,
    "start_time": "2022-11-28T08:59:45.750Z"
   },
   {
    "duration": 5,
    "start_time": "2022-11-28T09:00:57.172Z"
   },
   {
    "duration": 301390,
    "start_time": "2022-11-28T09:01:10.882Z"
   },
   {
    "duration": 88,
    "start_time": "2022-11-28T09:06:12.274Z"
   },
   {
    "duration": 127,
    "start_time": "2022-11-28T09:06:32.784Z"
   },
   {
    "duration": 12,
    "start_time": "2022-11-28T09:06:50.404Z"
   },
   {
    "duration": 127,
    "start_time": "2022-11-28T09:06:54.061Z"
   },
   {
    "duration": 3,
    "start_time": "2022-11-28T09:09:32.428Z"
   },
   {
    "duration": 1355,
    "start_time": "2022-11-28T09:09:32.433Z"
   },
   {
    "duration": 50,
    "start_time": "2022-11-28T09:09:33.789Z"
   },
   {
    "duration": 12,
    "start_time": "2022-11-28T09:09:33.841Z"
   },
   {
    "duration": 5,
    "start_time": "2022-11-28T09:09:33.854Z"
   },
   {
    "duration": 12,
    "start_time": "2022-11-28T09:09:33.860Z"
   },
   {
    "duration": 4,
    "start_time": "2022-11-28T09:09:33.874Z"
   },
   {
    "duration": 997,
    "start_time": "2022-11-28T09:09:33.879Z"
   },
   {
    "duration": 12497,
    "start_time": "2022-11-28T09:09:34.878Z"
   },
   {
    "duration": 5,
    "start_time": "2022-11-28T09:09:47.376Z"
   },
   {
    "duration": 11,
    "start_time": "2022-11-28T09:09:47.382Z"
   },
   {
    "duration": 15,
    "start_time": "2022-11-28T09:09:47.394Z"
   },
   {
    "duration": 5,
    "start_time": "2022-11-28T09:09:47.420Z"
   },
   {
    "duration": 4,
    "start_time": "2022-11-28T09:09:47.427Z"
   },
   {
    "duration": 14,
    "start_time": "2022-11-28T09:09:47.433Z"
   },
   {
    "duration": 11,
    "start_time": "2022-11-28T09:09:47.449Z"
   },
   {
    "duration": 2,
    "start_time": "2022-11-28T09:09:47.461Z"
   },
   {
    "duration": 7,
    "start_time": "2022-11-28T09:09:47.465Z"
   },
   {
    "duration": 11,
    "start_time": "2022-11-28T09:09:47.474Z"
   },
   {
    "duration": 36,
    "start_time": "2022-11-28T09:09:47.486Z"
   },
   {
    "duration": 9,
    "start_time": "2022-11-28T09:09:47.524Z"
   },
   {
    "duration": 143,
    "start_time": "2022-11-28T09:10:28.509Z"
   },
   {
    "duration": 112,
    "start_time": "2022-11-28T09:10:45.273Z"
   },
   {
    "duration": 11,
    "start_time": "2022-11-28T09:11:37.448Z"
   },
   {
    "duration": 91804,
    "start_time": "2022-11-28T09:12:02.333Z"
   },
   {
    "duration": 106,
    "start_time": "2022-11-28T09:14:08.728Z"
   },
   {
    "duration": 865,
    "start_time": "2022-11-28T09:14:24.020Z"
   },
   {
    "duration": 11,
    "start_time": "2022-11-28T09:14:49.454Z"
   },
   {
    "duration": 1405,
    "start_time": "2022-11-28T09:14:51.420Z"
   },
   {
    "duration": 3,
    "start_time": "2022-11-28T09:20:45.535Z"
   },
   {
    "duration": 14,
    "start_time": "2022-11-28T09:21:22.413Z"
   },
   {
    "duration": 2,
    "start_time": "2022-11-28T09:21:38.516Z"
   },
   {
    "duration": 20,
    "start_time": "2022-11-28T09:21:39.027Z"
   },
   {
    "duration": 1400,
    "start_time": "2022-11-28T09:27:03.471Z"
   },
   {
    "duration": 3,
    "start_time": "2022-11-28T09:27:13.273Z"
   },
   {
    "duration": 5,
    "start_time": "2022-11-28T09:27:13.279Z"
   },
   {
    "duration": 54,
    "start_time": "2022-11-28T09:27:13.286Z"
   },
   {
    "duration": 12,
    "start_time": "2022-11-28T09:27:13.341Z"
   },
   {
    "duration": 5,
    "start_time": "2022-11-28T09:27:13.356Z"
   },
   {
    "duration": 8,
    "start_time": "2022-11-28T09:27:13.362Z"
   },
   {
    "duration": 5,
    "start_time": "2022-11-28T09:27:13.371Z"
   },
   {
    "duration": 9,
    "start_time": "2022-11-28T09:27:13.378Z"
   },
   {
    "duration": 32,
    "start_time": "2022-11-28T09:27:13.389Z"
   },
   {
    "duration": 53,
    "start_time": "2022-11-28T09:27:13.423Z"
   },
   {
    "duration": 8,
    "start_time": "2022-11-28T09:27:13.479Z"
   },
   {
    "duration": 8,
    "start_time": "2022-11-28T09:27:13.489Z"
   },
   {
    "duration": 21,
    "start_time": "2022-11-28T09:27:13.499Z"
   },
   {
    "duration": 15,
    "start_time": "2022-11-28T09:27:13.521Z"
   },
   {
    "duration": 10,
    "start_time": "2022-11-28T09:27:13.538Z"
   },
   {
    "duration": 10,
    "start_time": "2022-11-28T09:27:13.550Z"
   },
   {
    "duration": 21,
    "start_time": "2022-11-28T09:27:15.901Z"
   },
   {
    "duration": 3,
    "start_time": "2022-11-28T09:29:17.433Z"
   },
   {
    "duration": 1373,
    "start_time": "2022-11-28T09:29:17.437Z"
   },
   {
    "duration": 50,
    "start_time": "2022-11-28T09:29:18.812Z"
   },
   {
    "duration": 11,
    "start_time": "2022-11-28T09:29:18.864Z"
   },
   {
    "duration": 6,
    "start_time": "2022-11-28T09:29:18.876Z"
   },
   {
    "duration": 11,
    "start_time": "2022-11-28T09:29:18.883Z"
   },
   {
    "duration": 6,
    "start_time": "2022-11-28T09:29:18.895Z"
   },
   {
    "duration": 4,
    "start_time": "2022-11-28T09:29:18.903Z"
   },
   {
    "duration": 13,
    "start_time": "2022-11-28T09:29:18.909Z"
   },
   {
    "duration": 11,
    "start_time": "2022-11-28T09:29:18.923Z"
   },
   {
    "duration": 7,
    "start_time": "2022-11-28T09:29:18.935Z"
   },
   {
    "duration": 6,
    "start_time": "2022-11-28T09:29:18.943Z"
   },
   {
    "duration": 18,
    "start_time": "2022-11-28T09:29:18.951Z"
   },
   {
    "duration": 13,
    "start_time": "2022-11-28T09:29:25.173Z"
   },
   {
    "duration": 10,
    "start_time": "2022-11-28T09:29:25.762Z"
   },
   {
    "duration": 16,
    "start_time": "2022-11-28T09:29:54.389Z"
   },
   {
    "duration": 1865,
    "start_time": "2022-11-28T09:30:06.391Z"
   },
   {
    "duration": 3,
    "start_time": "2022-11-28T09:30:36.159Z"
   },
   {
    "duration": 1342,
    "start_time": "2022-11-28T09:30:36.165Z"
   },
   {
    "duration": 50,
    "start_time": "2022-11-28T09:30:37.509Z"
   },
   {
    "duration": 12,
    "start_time": "2022-11-28T09:30:37.560Z"
   },
   {
    "duration": 6,
    "start_time": "2022-11-28T09:30:37.574Z"
   },
   {
    "duration": 7,
    "start_time": "2022-11-28T09:30:37.582Z"
   },
   {
    "duration": 6,
    "start_time": "2022-11-28T09:30:37.591Z"
   },
   {
    "duration": 7,
    "start_time": "2022-11-28T09:30:37.598Z"
   },
   {
    "duration": 2,
    "start_time": "2022-11-28T09:30:37.607Z"
   },
   {
    "duration": 13,
    "start_time": "2022-11-28T09:30:37.610Z"
   },
   {
    "duration": 7,
    "start_time": "2022-11-28T09:30:37.624Z"
   },
   {
    "duration": 5,
    "start_time": "2022-11-28T09:30:37.632Z"
   },
   {
    "duration": 18,
    "start_time": "2022-11-28T09:30:37.638Z"
   },
   {
    "duration": 11,
    "start_time": "2022-11-28T09:30:37.657Z"
   },
   {
    "duration": 6,
    "start_time": "2022-11-28T09:30:37.669Z"
   },
   {
    "duration": 16,
    "start_time": "2022-11-28T09:30:43.307Z"
   },
   {
    "duration": 2039,
    "start_time": "2022-11-28T09:30:48.506Z"
   },
   {
    "duration": 1298,
    "start_time": "2022-11-28T09:31:16.833Z"
   },
   {
    "duration": 4,
    "start_time": "2022-11-28T09:31:30.814Z"
   },
   {
    "duration": 1427,
    "start_time": "2022-11-28T09:31:30.820Z"
   },
   {
    "duration": 55,
    "start_time": "2022-11-28T09:31:32.249Z"
   },
   {
    "duration": 11,
    "start_time": "2022-11-28T09:31:32.306Z"
   },
   {
    "duration": 6,
    "start_time": "2022-11-28T09:31:32.318Z"
   },
   {
    "duration": 8,
    "start_time": "2022-11-28T09:31:32.325Z"
   },
   {
    "duration": 5,
    "start_time": "2022-11-28T09:31:32.335Z"
   },
   {
    "duration": 7,
    "start_time": "2022-11-28T09:31:32.341Z"
   },
   {
    "duration": 4,
    "start_time": "2022-11-28T09:31:32.350Z"
   },
   {
    "duration": 16,
    "start_time": "2022-11-28T09:31:32.356Z"
   },
   {
    "duration": 12,
    "start_time": "2022-11-28T09:31:32.373Z"
   },
   {
    "duration": 5,
    "start_time": "2022-11-28T09:31:32.387Z"
   },
   {
    "duration": 35,
    "start_time": "2022-11-28T09:31:32.394Z"
   },
   {
    "duration": 14,
    "start_time": "2022-11-28T09:31:32.431Z"
   },
   {
    "duration": 8,
    "start_time": "2022-11-28T09:31:32.447Z"
   },
   {
    "duration": 13,
    "start_time": "2022-11-28T09:31:33.873Z"
   },
   {
    "duration": 1985,
    "start_time": "2022-11-28T09:31:38.304Z"
   },
   {
    "duration": 4,
    "start_time": "2022-11-28T09:32:21.809Z"
   },
   {
    "duration": 1445,
    "start_time": "2022-11-28T09:32:21.814Z"
   },
   {
    "duration": 53,
    "start_time": "2022-11-28T09:32:23.260Z"
   },
   {
    "duration": 17,
    "start_time": "2022-11-28T09:32:23.315Z"
   },
   {
    "duration": 12,
    "start_time": "2022-11-28T09:32:23.333Z"
   },
   {
    "duration": 22,
    "start_time": "2022-11-28T09:32:23.346Z"
   },
   {
    "duration": 28,
    "start_time": "2022-11-28T09:32:23.370Z"
   },
   {
    "duration": 23,
    "start_time": "2022-11-28T09:32:23.399Z"
   },
   {
    "duration": 37,
    "start_time": "2022-11-28T09:32:23.424Z"
   },
   {
    "duration": 33,
    "start_time": "2022-11-28T09:32:23.464Z"
   },
   {
    "duration": 23,
    "start_time": "2022-11-28T09:32:23.499Z"
   },
   {
    "duration": 25,
    "start_time": "2022-11-28T09:32:23.524Z"
   },
   {
    "duration": 33,
    "start_time": "2022-11-28T09:32:23.551Z"
   },
   {
    "duration": 19,
    "start_time": "2022-11-28T09:32:23.586Z"
   },
   {
    "duration": 6,
    "start_time": "2022-11-28T09:32:23.607Z"
   },
   {
    "duration": 6,
    "start_time": "2022-11-28T09:32:43.570Z"
   },
   {
    "duration": 1326,
    "start_time": "2022-11-28T09:32:43.579Z"
   },
   {
    "duration": 50,
    "start_time": "2022-11-28T09:32:44.907Z"
   },
   {
    "duration": 11,
    "start_time": "2022-11-28T09:32:44.958Z"
   },
   {
    "duration": 5,
    "start_time": "2022-11-28T09:32:44.971Z"
   },
   {
    "duration": 10,
    "start_time": "2022-11-28T09:32:44.977Z"
   },
   {
    "duration": 5,
    "start_time": "2022-11-28T09:32:44.989Z"
   },
   {
    "duration": 11,
    "start_time": "2022-11-28T09:32:44.995Z"
   },
   {
    "duration": 16,
    "start_time": "2022-11-28T09:32:45.007Z"
   },
   {
    "duration": 13,
    "start_time": "2022-11-28T09:32:45.025Z"
   },
   {
    "duration": 10,
    "start_time": "2022-11-28T09:32:45.039Z"
   },
   {
    "duration": 5,
    "start_time": "2022-11-28T09:32:45.051Z"
   },
   {
    "duration": 19,
    "start_time": "2022-11-28T09:32:45.058Z"
   },
   {
    "duration": 105,
    "start_time": "2022-11-28T09:32:50.578Z"
   },
   {
    "duration": 3,
    "start_time": "2022-11-28T09:33:46.704Z"
   },
   {
    "duration": 1384,
    "start_time": "2022-11-28T09:33:46.709Z"
   },
   {
    "duration": 50,
    "start_time": "2022-11-28T09:33:48.095Z"
   },
   {
    "duration": 12,
    "start_time": "2022-11-28T09:33:48.146Z"
   },
   {
    "duration": 5,
    "start_time": "2022-11-28T09:33:48.159Z"
   },
   {
    "duration": 9,
    "start_time": "2022-11-28T09:33:48.165Z"
   },
   {
    "duration": 5,
    "start_time": "2022-11-28T09:33:48.175Z"
   },
   {
    "duration": 9,
    "start_time": "2022-11-28T09:33:48.181Z"
   },
   {
    "duration": 4,
    "start_time": "2022-11-28T09:33:48.191Z"
   },
   {
    "duration": 30,
    "start_time": "2022-11-28T09:33:48.196Z"
   },
   {
    "duration": 15,
    "start_time": "2022-11-28T09:33:48.227Z"
   },
   {
    "duration": 6,
    "start_time": "2022-11-28T09:33:48.243Z"
   },
   {
    "duration": 13,
    "start_time": "2022-11-28T09:33:50.268Z"
   },
   {
    "duration": 1636,
    "start_time": "2022-11-28T09:34:07.243Z"
   },
   {
    "duration": 106,
    "start_time": "2022-11-28T09:34:56.712Z"
   },
   {
    "duration": 113,
    "start_time": "2022-11-28T09:35:24.004Z"
   },
   {
    "duration": 20,
    "start_time": "2022-11-28T09:35:32.426Z"
   },
   {
    "duration": 4,
    "start_time": "2022-11-28T09:35:47.615Z"
   },
   {
    "duration": 1379,
    "start_time": "2022-11-28T09:35:47.620Z"
   },
   {
    "duration": 52,
    "start_time": "2022-11-28T09:35:49.000Z"
   },
   {
    "duration": 15,
    "start_time": "2022-11-28T09:35:49.054Z"
   },
   {
    "duration": 5,
    "start_time": "2022-11-28T09:35:49.071Z"
   },
   {
    "duration": 31,
    "start_time": "2022-11-28T09:35:49.078Z"
   },
   {
    "duration": 7,
    "start_time": "2022-11-28T09:35:49.110Z"
   },
   {
    "duration": 11,
    "start_time": "2022-11-28T09:35:49.119Z"
   },
   {
    "duration": 8,
    "start_time": "2022-11-28T09:35:49.131Z"
   },
   {
    "duration": 18,
    "start_time": "2022-11-28T09:35:49.141Z"
   },
   {
    "duration": 14,
    "start_time": "2022-11-28T09:35:49.160Z"
   },
   {
    "duration": 19,
    "start_time": "2022-11-28T09:35:49.176Z"
   },
   {
    "duration": 17,
    "start_time": "2022-11-28T09:35:49.197Z"
   },
   {
    "duration": 11,
    "start_time": "2022-11-28T09:35:49.216Z"
   },
   {
    "duration": 10,
    "start_time": "2022-11-28T09:35:49.229Z"
   },
   {
    "duration": 1715,
    "start_time": "2022-11-28T09:35:49.241Z"
   },
   {
    "duration": 36,
    "start_time": "2022-11-28T09:35:50.958Z"
   },
   {
    "duration": 13,
    "start_time": "2022-11-28T09:35:57.531Z"
   },
   {
    "duration": 92473,
    "start_time": "2022-11-28T09:36:08.465Z"
   },
   {
    "duration": 24,
    "start_time": "2022-11-28T09:45:50.297Z"
   },
   {
    "duration": 2959,
    "start_time": "2022-11-28T09:45:51.366Z"
   },
   {
    "duration": 1545,
    "start_time": "2022-11-28T11:02:38.105Z"
   },
   {
    "duration": 178,
    "start_time": "2022-11-28T11:02:39.652Z"
   },
   {
    "duration": 14,
    "start_time": "2022-11-28T11:02:39.832Z"
   },
   {
    "duration": 7,
    "start_time": "2022-11-28T11:02:39.848Z"
   },
   {
    "duration": 19,
    "start_time": "2022-11-28T11:02:39.857Z"
   },
   {
    "duration": 11,
    "start_time": "2022-11-28T11:02:39.878Z"
   },
   {
    "duration": 12,
    "start_time": "2022-11-28T11:02:39.890Z"
   },
   {
    "duration": 20,
    "start_time": "2022-11-28T11:02:39.903Z"
   },
   {
    "duration": 12,
    "start_time": "2022-11-28T11:02:39.924Z"
   },
   {
    "duration": 7,
    "start_time": "2022-11-28T11:02:39.939Z"
   },
   {
    "duration": 23,
    "start_time": "2022-11-28T11:02:39.947Z"
   },
   {
    "duration": 14,
    "start_time": "2022-11-28T11:02:39.971Z"
   },
   {
    "duration": 33,
    "start_time": "2022-11-28T11:02:39.986Z"
   },
   {
    "duration": 11,
    "start_time": "2022-11-28T11:02:40.021Z"
   },
   {
    "duration": 26,
    "start_time": "2022-11-28T11:02:40.034Z"
   },
   {
    "duration": 180,
    "start_time": "2022-11-28T11:02:40.061Z"
   },
   {
    "duration": 84,
    "start_time": "2022-11-28T11:02:40.243Z"
   },
   {
    "duration": 17,
    "start_time": "2022-11-28T11:02:40.329Z"
   },
   {
    "duration": 0,
    "start_time": "2022-11-28T11:02:40.348Z"
   },
   {
    "duration": 0,
    "start_time": "2022-11-28T11:02:40.349Z"
   },
   {
    "duration": 0,
    "start_time": "2022-11-28T11:02:40.351Z"
   },
   {
    "duration": 0,
    "start_time": "2022-11-28T11:02:40.352Z"
   },
   {
    "duration": 0,
    "start_time": "2022-11-28T11:02:40.353Z"
   },
   {
    "duration": 0,
    "start_time": "2022-11-28T11:02:40.355Z"
   },
   {
    "duration": 0,
    "start_time": "2022-11-28T11:02:40.356Z"
   },
   {
    "duration": 0,
    "start_time": "2022-11-28T11:02:40.358Z"
   },
   {
    "duration": 0,
    "start_time": "2022-11-28T11:02:40.360Z"
   },
   {
    "duration": 0,
    "start_time": "2022-11-28T11:02:40.361Z"
   },
   {
    "duration": 0,
    "start_time": "2022-11-28T11:02:40.363Z"
   },
   {
    "duration": 0,
    "start_time": "2022-11-28T11:02:40.364Z"
   },
   {
    "duration": 0,
    "start_time": "2022-11-28T11:02:40.365Z"
   },
   {
    "duration": 4,
    "start_time": "2022-11-28T11:04:10.929Z"
   },
   {
    "duration": 51,
    "start_time": "2022-11-28T11:04:10.935Z"
   },
   {
    "duration": 12,
    "start_time": "2022-11-28T11:04:10.988Z"
   },
   {
    "duration": 6,
    "start_time": "2022-11-28T11:04:11.002Z"
   },
   {
    "duration": 18,
    "start_time": "2022-11-28T11:04:11.011Z"
   },
   {
    "duration": 5,
    "start_time": "2022-11-28T11:04:11.030Z"
   },
   {
    "duration": 5,
    "start_time": "2022-11-28T11:04:11.037Z"
   },
   {
    "duration": 6,
    "start_time": "2022-11-28T11:04:11.044Z"
   },
   {
    "duration": 16,
    "start_time": "2022-11-28T11:04:11.052Z"
   },
   {
    "duration": 6,
    "start_time": "2022-11-28T11:04:11.070Z"
   },
   {
    "duration": 47,
    "start_time": "2022-11-28T11:04:11.080Z"
   },
   {
    "duration": 17,
    "start_time": "2022-11-28T11:04:11.129Z"
   },
   {
    "duration": 9,
    "start_time": "2022-11-28T11:04:11.148Z"
   },
   {
    "duration": 3,
    "start_time": "2022-11-28T11:04:11.159Z"
   },
   {
    "duration": 30,
    "start_time": "2022-11-28T11:04:11.164Z"
   },
   {
    "duration": 149,
    "start_time": "2022-11-28T11:04:11.223Z"
   },
   {
    "duration": 96,
    "start_time": "2022-11-28T11:04:11.374Z"
   },
   {
    "duration": 19,
    "start_time": "2022-11-28T11:04:11.472Z"
   },
   {
    "duration": 0,
    "start_time": "2022-11-28T11:04:11.493Z"
   },
   {
    "duration": 0,
    "start_time": "2022-11-28T11:04:11.494Z"
   },
   {
    "duration": 0,
    "start_time": "2022-11-28T11:04:11.495Z"
   },
   {
    "duration": 0,
    "start_time": "2022-11-28T11:04:11.496Z"
   },
   {
    "duration": 0,
    "start_time": "2022-11-28T11:04:11.497Z"
   },
   {
    "duration": 0,
    "start_time": "2022-11-28T11:04:11.498Z"
   },
   {
    "duration": 0,
    "start_time": "2022-11-28T11:04:11.500Z"
   },
   {
    "duration": 0,
    "start_time": "2022-11-28T11:04:11.501Z"
   },
   {
    "duration": 0,
    "start_time": "2022-11-28T11:04:11.502Z"
   },
   {
    "duration": 0,
    "start_time": "2022-11-28T11:04:11.503Z"
   },
   {
    "duration": 0,
    "start_time": "2022-11-28T11:04:11.505Z"
   },
   {
    "duration": 0,
    "start_time": "2022-11-28T11:04:11.506Z"
   },
   {
    "duration": 0,
    "start_time": "2022-11-28T11:04:11.507Z"
   },
   {
    "duration": 4,
    "start_time": "2022-11-28T11:05:55.432Z"
   },
   {
    "duration": 53,
    "start_time": "2022-11-28T11:05:55.438Z"
   },
   {
    "duration": 13,
    "start_time": "2022-11-28T11:05:55.492Z"
   },
   {
    "duration": 10,
    "start_time": "2022-11-28T11:05:55.507Z"
   },
   {
    "duration": 9,
    "start_time": "2022-11-28T11:05:55.520Z"
   },
   {
    "duration": 6,
    "start_time": "2022-11-28T11:05:55.530Z"
   },
   {
    "duration": 7,
    "start_time": "2022-11-28T11:05:55.537Z"
   },
   {
    "duration": 6,
    "start_time": "2022-11-28T11:05:55.545Z"
   },
   {
    "duration": 13,
    "start_time": "2022-11-28T11:05:55.553Z"
   },
   {
    "duration": 7,
    "start_time": "2022-11-28T11:05:55.568Z"
   },
   {
    "duration": 54,
    "start_time": "2022-11-28T11:05:55.577Z"
   },
   {
    "duration": 12,
    "start_time": "2022-11-28T11:05:55.633Z"
   },
   {
    "duration": 9,
    "start_time": "2022-11-28T11:05:55.647Z"
   },
   {
    "duration": 5,
    "start_time": "2022-11-28T11:05:55.657Z"
   },
   {
    "duration": 27,
    "start_time": "2022-11-28T11:05:55.664Z"
   },
   {
    "duration": 231,
    "start_time": "2022-11-28T11:05:55.692Z"
   },
   {
    "duration": 3906,
    "start_time": "2022-11-28T11:05:55.925Z"
   },
   {
    "duration": 130,
    "start_time": "2022-11-28T11:05:59.833Z"
   },
   {
    "duration": 7078,
    "start_time": "2022-11-28T11:05:59.964Z"
   },
   {
    "duration": 771,
    "start_time": "2022-11-28T11:06:07.044Z"
   },
   {
    "duration": 77960,
    "start_time": "2022-11-28T11:06:07.817Z"
   },
   {
    "duration": 719,
    "start_time": "2022-11-28T11:07:25.778Z"
   },
   {
    "duration": 7,
    "start_time": "2022-11-28T11:07:26.499Z"
   },
   {
    "duration": 28,
    "start_time": "2022-11-28T11:07:26.508Z"
   },
   {
    "duration": 11,
    "start_time": "2022-11-28T11:07:26.538Z"
   },
   {
    "duration": 158,
    "start_time": "2022-11-28T11:07:26.551Z"
   },
   {
    "duration": 1250,
    "start_time": "2022-11-28T11:07:26.712Z"
   },
   {
    "duration": 6,
    "start_time": "2022-11-28T11:07:27.964Z"
   },
   {
    "duration": 6,
    "start_time": "2022-11-28T11:07:27.973Z"
   },
   {
    "duration": 6,
    "start_time": "2022-11-28T11:07:27.981Z"
   },
   {
    "duration": 43,
    "start_time": "2022-11-28T11:07:28.023Z"
   },
   {
    "duration": 4,
    "start_time": "2022-11-28T11:11:38.523Z"
   },
   {
    "duration": 58,
    "start_time": "2022-11-28T11:11:38.529Z"
   },
   {
    "duration": 12,
    "start_time": "2022-11-28T11:11:38.589Z"
   },
   {
    "duration": 5,
    "start_time": "2022-11-28T11:11:38.603Z"
   },
   {
    "duration": 18,
    "start_time": "2022-11-28T11:11:38.610Z"
   },
   {
    "duration": 12,
    "start_time": "2022-11-28T11:11:38.629Z"
   },
   {
    "duration": 12,
    "start_time": "2022-11-28T11:11:38.644Z"
   },
   {
    "duration": 16,
    "start_time": "2022-11-28T11:11:38.657Z"
   },
   {
    "duration": 30,
    "start_time": "2022-11-28T11:11:38.675Z"
   },
   {
    "duration": 6,
    "start_time": "2022-11-28T11:11:38.709Z"
   },
   {
    "duration": 19,
    "start_time": "2022-11-28T11:11:38.717Z"
   },
   {
    "duration": 12,
    "start_time": "2022-11-28T11:11:38.737Z"
   },
   {
    "duration": 18,
    "start_time": "2022-11-28T11:11:38.750Z"
   },
   {
    "duration": 11,
    "start_time": "2022-11-28T11:11:38.770Z"
   },
   {
    "duration": 28,
    "start_time": "2022-11-28T11:11:38.783Z"
   },
   {
    "duration": 208,
    "start_time": "2022-11-28T11:11:38.813Z"
   },
   {
    "duration": 62205,
    "start_time": "2022-11-28T11:11:39.023Z"
   },
   {
    "duration": 124,
    "start_time": "2022-11-28T11:12:41.233Z"
   },
   {
    "duration": 7030,
    "start_time": "2022-11-28T11:12:41.359Z"
   },
   {
    "duration": 809,
    "start_time": "2022-11-28T11:12:48.391Z"
   },
   {
    "duration": 79851,
    "start_time": "2022-11-28T11:12:49.202Z"
   },
   {
    "duration": 630,
    "start_time": "2022-11-28T11:14:09.055Z"
   },
   {
    "duration": 6,
    "start_time": "2022-11-28T11:14:09.687Z"
   },
   {
    "duration": 6,
    "start_time": "2022-11-28T11:14:09.695Z"
   },
   {
    "duration": 8,
    "start_time": "2022-11-28T11:14:09.722Z"
   },
   {
    "duration": 141,
    "start_time": "2022-11-28T11:14:09.731Z"
   },
   {
    "duration": 1206,
    "start_time": "2022-11-28T11:14:09.874Z"
   },
   {
    "duration": 7,
    "start_time": "2022-11-28T11:14:11.083Z"
   },
   {
    "duration": 5,
    "start_time": "2022-11-28T11:14:11.092Z"
   },
   {
    "duration": 27,
    "start_time": "2022-11-28T11:14:11.099Z"
   },
   {
    "duration": 42,
    "start_time": "2022-11-28T11:14:11.127Z"
   },
   {
    "duration": 12,
    "start_time": "2022-11-28T11:18:51.275Z"
   },
   {
    "duration": 12,
    "start_time": "2022-11-28T11:21:22.094Z"
   },
   {
    "duration": 13,
    "start_time": "2022-11-28T11:21:53.386Z"
   },
   {
    "duration": 13,
    "start_time": "2022-11-28T11:26:37.519Z"
   },
   {
    "duration": 3038,
    "start_time": "2022-11-28T11:31:40.094Z"
   },
   {
    "duration": 20,
    "start_time": "2022-11-28T11:31:51.827Z"
   },
   {
    "duration": 408,
    "start_time": "2022-11-28T11:32:03.163Z"
   },
   {
    "duration": 2160,
    "start_time": "2022-11-28T11:38:58.599Z"
   },
   {
    "duration": 5,
    "start_time": "2022-11-28T11:39:00.761Z"
   },
   {
    "duration": 69,
    "start_time": "2022-11-28T11:39:00.768Z"
   },
   {
    "duration": 15,
    "start_time": "2022-11-28T11:39:00.838Z"
   },
   {
    "duration": 23,
    "start_time": "2022-11-28T11:39:00.855Z"
   },
   {
    "duration": 20,
    "start_time": "2022-11-28T11:39:00.880Z"
   },
   {
    "duration": 11865,
    "start_time": "2022-11-28T11:39:00.901Z"
   },
   {
    "duration": 5,
    "start_time": "2022-11-28T11:39:12.768Z"
   },
   {
    "duration": 9,
    "start_time": "2022-11-28T11:39:12.774Z"
   },
   {
    "duration": 148,
    "start_time": "2022-11-28T11:39:12.785Z"
   },
   {
    "duration": 0,
    "start_time": "2022-11-28T11:39:12.936Z"
   },
   {
    "duration": 0,
    "start_time": "2022-11-28T11:39:12.937Z"
   },
   {
    "duration": 0,
    "start_time": "2022-11-28T11:39:12.940Z"
   },
   {
    "duration": 0,
    "start_time": "2022-11-28T11:39:12.941Z"
   },
   {
    "duration": 0,
    "start_time": "2022-11-28T11:39:12.942Z"
   },
   {
    "duration": 0,
    "start_time": "2022-11-28T11:39:12.943Z"
   },
   {
    "duration": 0,
    "start_time": "2022-11-28T11:39:12.944Z"
   },
   {
    "duration": 0,
    "start_time": "2022-11-28T11:39:12.945Z"
   },
   {
    "duration": 0,
    "start_time": "2022-11-28T11:39:12.946Z"
   },
   {
    "duration": 0,
    "start_time": "2022-11-28T11:39:12.947Z"
   },
   {
    "duration": 0,
    "start_time": "2022-11-28T11:39:12.948Z"
   },
   {
    "duration": 0,
    "start_time": "2022-11-28T11:39:12.950Z"
   },
   {
    "duration": 0,
    "start_time": "2022-11-28T11:39:12.952Z"
   },
   {
    "duration": 0,
    "start_time": "2022-11-28T11:39:12.953Z"
   },
   {
    "duration": 0,
    "start_time": "2022-11-28T11:39:12.954Z"
   },
   {
    "duration": 0,
    "start_time": "2022-11-28T11:39:12.956Z"
   },
   {
    "duration": 0,
    "start_time": "2022-11-28T11:39:12.957Z"
   },
   {
    "duration": 0,
    "start_time": "2022-11-28T11:39:12.958Z"
   },
   {
    "duration": 0,
    "start_time": "2022-11-28T11:39:12.959Z"
   },
   {
    "duration": 0,
    "start_time": "2022-11-28T11:39:12.960Z"
   },
   {
    "duration": 0,
    "start_time": "2022-11-28T11:39:12.962Z"
   },
   {
    "duration": 0,
    "start_time": "2022-11-28T11:39:12.963Z"
   },
   {
    "duration": 0,
    "start_time": "2022-11-28T11:39:12.964Z"
   },
   {
    "duration": 2073,
    "start_time": "2022-11-28T11:39:48.840Z"
   },
   {
    "duration": 5,
    "start_time": "2022-11-28T11:39:50.916Z"
   },
   {
    "duration": 57,
    "start_time": "2022-11-28T11:39:50.923Z"
   },
   {
    "duration": 12,
    "start_time": "2022-11-28T11:39:50.982Z"
   },
   {
    "duration": 5,
    "start_time": "2022-11-28T11:39:50.996Z"
   },
   {
    "duration": 18,
    "start_time": "2022-11-28T11:39:51.003Z"
   },
   {
    "duration": 12022,
    "start_time": "2022-11-28T11:39:51.023Z"
   },
   {
    "duration": 5,
    "start_time": "2022-11-28T11:40:03.047Z"
   },
   {
    "duration": 7,
    "start_time": "2022-11-28T11:40:03.054Z"
   },
   {
    "duration": 67,
    "start_time": "2022-11-28T11:40:03.063Z"
   },
   {
    "duration": 0,
    "start_time": "2022-11-28T11:40:03.132Z"
   },
   {
    "duration": 0,
    "start_time": "2022-11-28T11:40:03.133Z"
   },
   {
    "duration": 0,
    "start_time": "2022-11-28T11:40:03.134Z"
   },
   {
    "duration": 0,
    "start_time": "2022-11-28T11:40:03.135Z"
   },
   {
    "duration": 0,
    "start_time": "2022-11-28T11:40:03.136Z"
   },
   {
    "duration": 0,
    "start_time": "2022-11-28T11:40:03.137Z"
   },
   {
    "duration": 0,
    "start_time": "2022-11-28T11:40:03.139Z"
   },
   {
    "duration": 0,
    "start_time": "2022-11-28T11:40:03.140Z"
   },
   {
    "duration": 0,
    "start_time": "2022-11-28T11:40:03.141Z"
   },
   {
    "duration": 0,
    "start_time": "2022-11-28T11:40:03.142Z"
   },
   {
    "duration": 0,
    "start_time": "2022-11-28T11:40:03.143Z"
   },
   {
    "duration": 0,
    "start_time": "2022-11-28T11:40:03.145Z"
   },
   {
    "duration": 0,
    "start_time": "2022-11-28T11:40:03.145Z"
   },
   {
    "duration": 0,
    "start_time": "2022-11-28T11:40:03.147Z"
   },
   {
    "duration": 0,
    "start_time": "2022-11-28T11:40:03.148Z"
   },
   {
    "duration": 0,
    "start_time": "2022-11-28T11:40:03.149Z"
   },
   {
    "duration": 0,
    "start_time": "2022-11-28T11:40:03.150Z"
   },
   {
    "duration": 0,
    "start_time": "2022-11-28T11:40:03.151Z"
   },
   {
    "duration": 0,
    "start_time": "2022-11-28T11:40:03.152Z"
   },
   {
    "duration": 0,
    "start_time": "2022-11-28T11:40:03.153Z"
   },
   {
    "duration": 0,
    "start_time": "2022-11-28T11:40:03.154Z"
   },
   {
    "duration": 0,
    "start_time": "2022-11-28T11:40:03.155Z"
   },
   {
    "duration": 0,
    "start_time": "2022-11-28T11:40:03.156Z"
   },
   {
    "duration": 2168,
    "start_time": "2022-11-28T11:41:18.385Z"
   },
   {
    "duration": 6,
    "start_time": "2022-11-28T11:41:20.556Z"
   },
   {
    "duration": 58,
    "start_time": "2022-11-28T11:41:20.563Z"
   },
   {
    "duration": 13,
    "start_time": "2022-11-28T11:41:20.623Z"
   },
   {
    "duration": 7,
    "start_time": "2022-11-28T11:41:20.638Z"
   },
   {
    "duration": 9,
    "start_time": "2022-11-28T11:41:20.648Z"
   },
   {
    "duration": 12044,
    "start_time": "2022-11-28T11:41:20.659Z"
   },
   {
    "duration": 5,
    "start_time": "2022-11-28T11:41:32.705Z"
   },
   {
    "duration": 14,
    "start_time": "2022-11-28T11:41:32.723Z"
   },
   {
    "duration": 15,
    "start_time": "2022-11-28T11:41:32.740Z"
   },
   {
    "duration": 18,
    "start_time": "2022-11-28T11:41:32.758Z"
   },
   {
    "duration": 13,
    "start_time": "2022-11-28T11:41:32.778Z"
   },
   {
    "duration": 30,
    "start_time": "2022-11-28T11:41:32.793Z"
   },
   {
    "duration": 4,
    "start_time": "2022-11-28T11:41:32.827Z"
   },
   {
    "duration": 26,
    "start_time": "2022-11-28T11:41:32.832Z"
   },
   {
    "duration": 162,
    "start_time": "2022-11-28T11:41:32.860Z"
   },
   {
    "duration": 60502,
    "start_time": "2022-11-28T11:41:33.024Z"
   },
   {
    "duration": 122,
    "start_time": "2022-11-28T11:42:33.529Z"
   },
   {
    "duration": 4185,
    "start_time": "2022-11-28T11:42:33.653Z"
   },
   {
    "duration": 526,
    "start_time": "2022-11-28T11:42:37.839Z"
   },
   {
    "duration": 54062,
    "start_time": "2022-11-28T11:42:38.367Z"
   },
   {
    "duration": 568,
    "start_time": "2022-11-28T11:43:32.431Z"
   },
   {
    "duration": 22,
    "start_time": "2022-11-28T11:43:33.001Z"
   },
   {
    "duration": 7,
    "start_time": "2022-11-28T11:43:33.025Z"
   },
   {
    "duration": 19,
    "start_time": "2022-11-28T11:43:33.033Z"
   },
   {
    "duration": 139,
    "start_time": "2022-11-28T11:43:33.054Z"
   },
   {
    "duration": 1186,
    "start_time": "2022-11-28T11:43:33.195Z"
   },
   {
    "duration": 8,
    "start_time": "2022-11-28T11:43:34.383Z"
   },
   {
    "duration": 32,
    "start_time": "2022-11-28T11:43:34.392Z"
   },
   {
    "duration": 11,
    "start_time": "2022-11-28T11:43:34.426Z"
   },
   {
    "duration": 57,
    "start_time": "2022-11-28T11:43:34.438Z"
   },
   {
    "duration": 70279,
    "start_time": "2022-11-28T11:47:49.077Z"
   },
   {
    "duration": 2081,
    "start_time": "2022-11-28T11:49:58.259Z"
   },
   {
    "duration": 7,
    "start_time": "2022-11-28T11:50:00.343Z"
   },
   {
    "duration": 86,
    "start_time": "2022-11-28T11:50:00.352Z"
   },
   {
    "duration": 13,
    "start_time": "2022-11-28T11:50:00.440Z"
   },
   {
    "duration": 8,
    "start_time": "2022-11-28T11:50:00.454Z"
   },
   {
    "duration": 27,
    "start_time": "2022-11-28T11:50:00.464Z"
   },
   {
    "duration": 11844,
    "start_time": "2022-11-28T11:50:00.492Z"
   },
   {
    "duration": 5,
    "start_time": "2022-11-28T11:50:12.338Z"
   },
   {
    "duration": 15,
    "start_time": "2022-11-28T11:50:12.344Z"
   },
   {
    "duration": 5,
    "start_time": "2022-11-28T11:50:12.362Z"
   },
   {
    "duration": 18,
    "start_time": "2022-11-28T11:50:12.368Z"
   },
   {
    "duration": 37,
    "start_time": "2022-11-28T11:50:12.387Z"
   },
   {
    "duration": 10,
    "start_time": "2022-11-28T11:50:12.425Z"
   },
   {
    "duration": 4,
    "start_time": "2022-11-28T11:50:12.437Z"
   },
   {
    "duration": 23,
    "start_time": "2022-11-28T11:50:12.443Z"
   },
   {
    "duration": 155,
    "start_time": "2022-11-28T11:50:12.469Z"
   },
   {
    "duration": 61898,
    "start_time": "2022-11-28T11:50:12.626Z"
   },
   {
    "duration": 113,
    "start_time": "2022-11-28T11:51:14.525Z"
   },
   {
    "duration": 4057,
    "start_time": "2022-11-28T11:51:14.639Z"
   },
   {
    "duration": 547,
    "start_time": "2022-11-28T11:51:18.698Z"
   },
   {
    "duration": 67951,
    "start_time": "2022-11-28T11:51:19.247Z"
   },
   {
    "duration": 2183,
    "start_time": "2022-11-28T11:52:27.199Z"
   },
   {
    "duration": 6,
    "start_time": "2022-11-28T11:52:29.385Z"
   },
   {
    "duration": 39,
    "start_time": "2022-11-28T11:52:29.393Z"
   },
   {
    "duration": 7,
    "start_time": "2022-11-28T11:52:29.434Z"
   },
   {
    "duration": 125,
    "start_time": "2022-11-28T11:52:29.442Z"
   },
   {
    "duration": 1118,
    "start_time": "2022-11-28T11:52:29.569Z"
   },
   {
    "duration": 9,
    "start_time": "2022-11-28T11:52:30.691Z"
   },
   {
    "duration": 28,
    "start_time": "2022-11-28T11:52:30.702Z"
   },
   {
    "duration": 14,
    "start_time": "2022-11-28T11:52:30.732Z"
   },
   {
    "duration": 322,
    "start_time": "2022-11-28T11:52:30.748Z"
   },
   {
    "duration": 2213,
    "start_time": "2022-11-28T11:56:55.972Z"
   },
   {
    "duration": 6,
    "start_time": "2022-11-28T11:56:58.187Z"
   },
   {
    "duration": 60,
    "start_time": "2022-11-28T11:56:58.195Z"
   },
   {
    "duration": 14,
    "start_time": "2022-11-28T11:56:58.257Z"
   },
   {
    "duration": 6,
    "start_time": "2022-11-28T11:56:58.274Z"
   },
   {
    "duration": 12,
    "start_time": "2022-11-28T11:56:58.281Z"
   },
   {
    "duration": 12860,
    "start_time": "2022-11-28T11:56:58.296Z"
   },
   {
    "duration": 6,
    "start_time": "2022-11-28T11:57:11.157Z"
   },
   {
    "duration": 15,
    "start_time": "2022-11-28T11:57:11.164Z"
   },
   {
    "duration": 7,
    "start_time": "2022-11-28T11:57:11.181Z"
   },
   {
    "duration": 15,
    "start_time": "2022-11-28T11:57:11.190Z"
   },
   {
    "duration": 14,
    "start_time": "2022-11-28T11:57:11.223Z"
   },
   {
    "duration": 8,
    "start_time": "2022-11-28T11:57:11.239Z"
   },
   {
    "duration": 4,
    "start_time": "2022-11-28T11:57:11.250Z"
   },
   {
    "duration": 25,
    "start_time": "2022-11-28T11:57:11.256Z"
   },
   {
    "duration": 143,
    "start_time": "2022-11-28T11:57:11.283Z"
   },
   {
    "duration": 91704,
    "start_time": "2022-11-28T11:57:11.428Z"
   },
   {
    "duration": 192,
    "start_time": "2022-11-28T11:58:43.137Z"
   },
   {
    "duration": 4412,
    "start_time": "2022-11-28T11:58:43.331Z"
   },
   {
    "duration": 612,
    "start_time": "2022-11-28T11:58:47.745Z"
   },
   {
    "duration": 74987,
    "start_time": "2022-11-28T11:58:48.359Z"
   },
   {
    "duration": 98426,
    "start_time": "2022-11-28T12:00:03.348Z"
   },
   {
    "duration": 6,
    "start_time": "2022-11-28T12:01:41.776Z"
   },
   {
    "duration": 9,
    "start_time": "2022-11-28T12:01:41.784Z"
   },
   {
    "duration": 48,
    "start_time": "2022-11-28T12:01:41.795Z"
   },
   {
    "duration": 152,
    "start_time": "2022-11-28T12:01:41.845Z"
   },
   {
    "duration": 1171,
    "start_time": "2022-11-28T12:01:41.999Z"
   },
   {
    "duration": 6,
    "start_time": "2022-11-28T12:01:43.173Z"
   },
   {
    "duration": 24,
    "start_time": "2022-11-28T12:01:43.181Z"
   },
   {
    "duration": 20,
    "start_time": "2022-11-28T12:01:43.207Z"
   },
   {
    "duration": 318,
    "start_time": "2022-11-28T12:01:43.229Z"
   },
   {
    "duration": 93686,
    "start_time": "2022-11-28T12:27:06.188Z"
   },
   {
    "duration": 93142,
    "start_time": "2022-11-28T12:33:43.145Z"
   },
   {
    "duration": 91985,
    "start_time": "2022-11-28T12:37:24.904Z"
   },
   {
    "duration": 2198,
    "start_time": "2022-11-28T12:39:43.871Z"
   },
   {
    "duration": 5,
    "start_time": "2022-11-28T12:39:46.072Z"
   },
   {
    "duration": 57,
    "start_time": "2022-11-28T12:39:46.079Z"
   },
   {
    "duration": 12,
    "start_time": "2022-11-28T12:39:46.138Z"
   },
   {
    "duration": 5,
    "start_time": "2022-11-28T12:39:46.151Z"
   },
   {
    "duration": 11,
    "start_time": "2022-11-28T12:39:46.158Z"
   },
   {
    "duration": 12496,
    "start_time": "2022-11-28T12:39:46.171Z"
   },
   {
    "duration": 4,
    "start_time": "2022-11-28T12:39:58.669Z"
   },
   {
    "duration": 41,
    "start_time": "2022-11-28T12:39:58.675Z"
   },
   {
    "duration": 10,
    "start_time": "2022-11-28T12:39:58.719Z"
   },
   {
    "duration": 28,
    "start_time": "2022-11-28T12:39:58.731Z"
   },
   {
    "duration": 25,
    "start_time": "2022-11-28T12:39:58.761Z"
   },
   {
    "duration": 12,
    "start_time": "2022-11-28T12:39:58.788Z"
   },
   {
    "duration": 19,
    "start_time": "2022-11-28T12:39:58.802Z"
   },
   {
    "duration": 31,
    "start_time": "2022-11-28T12:39:58.823Z"
   },
   {
    "duration": 69,
    "start_time": "2022-11-28T12:39:58.856Z"
   },
   {
    "duration": 64103,
    "start_time": "2022-11-28T12:39:58.927Z"
   },
   {
    "duration": 202,
    "start_time": "2022-11-28T12:41:03.032Z"
   },
   {
    "duration": 3981,
    "start_time": "2022-11-28T12:41:03.236Z"
   },
   {
    "duration": 508,
    "start_time": "2022-11-28T12:41:07.222Z"
   },
   {
    "duration": 68564,
    "start_time": "2022-11-28T12:41:07.731Z"
   },
   {
    "duration": 89992,
    "start_time": "2022-11-28T12:42:16.296Z"
   },
   {
    "duration": 7,
    "start_time": "2022-11-28T12:43:46.290Z"
   },
   {
    "duration": 24,
    "start_time": "2022-11-28T12:43:46.299Z"
   },
   {
    "duration": 8,
    "start_time": "2022-11-28T12:43:46.324Z"
   },
   {
    "duration": 144,
    "start_time": "2022-11-28T12:43:46.333Z"
   },
   {
    "duration": 1099,
    "start_time": "2022-11-28T12:43:46.479Z"
   },
   {
    "duration": 6,
    "start_time": "2022-11-28T12:43:47.581Z"
   },
   {
    "duration": 6,
    "start_time": "2022-11-28T12:43:47.589Z"
   },
   {
    "duration": 6,
    "start_time": "2022-11-28T12:43:47.623Z"
   },
   {
    "duration": 287,
    "start_time": "2022-11-28T12:43:47.630Z"
   },
   {
    "duration": 12,
    "start_time": "2022-11-28T12:58:07.068Z"
   },
   {
    "duration": 5,
    "start_time": "2022-11-28T12:59:04.394Z"
   },
   {
    "duration": 1082,
    "start_time": "2022-11-28T13:02:16.243Z"
   },
   {
    "duration": 1296,
    "start_time": "2022-11-28T13:02:27.453Z"
   },
   {
    "duration": 165,
    "start_time": "2022-11-28T13:03:06.839Z"
   },
   {
    "duration": 2054,
    "start_time": "2022-11-28T13:07:20.199Z"
   },
   {
    "duration": 5,
    "start_time": "2022-11-28T13:07:22.256Z"
   },
   {
    "duration": 92,
    "start_time": "2022-11-28T13:07:22.263Z"
   },
   {
    "duration": 13,
    "start_time": "2022-11-28T13:07:22.356Z"
   },
   {
    "duration": 26,
    "start_time": "2022-11-28T13:07:22.371Z"
   },
   {
    "duration": 22,
    "start_time": "2022-11-28T13:07:22.399Z"
   },
   {
    "duration": 12300,
    "start_time": "2022-11-28T13:07:22.423Z"
   },
   {
    "duration": 5,
    "start_time": "2022-11-28T13:07:34.724Z"
   },
   {
    "duration": 17,
    "start_time": "2022-11-28T13:07:34.731Z"
   },
   {
    "duration": 6,
    "start_time": "2022-11-28T13:07:34.749Z"
   },
   {
    "duration": 15,
    "start_time": "2022-11-28T13:07:34.756Z"
   },
   {
    "duration": 14,
    "start_time": "2022-11-28T13:07:34.773Z"
   },
   {
    "duration": 41,
    "start_time": "2022-11-28T13:07:34.788Z"
   },
   {
    "duration": 7,
    "start_time": "2022-11-28T13:07:34.832Z"
   },
   {
    "duration": 35,
    "start_time": "2022-11-28T13:07:34.840Z"
   },
   {
    "duration": 55,
    "start_time": "2022-11-28T13:07:34.877Z"
   },
   {
    "duration": 68387,
    "start_time": "2022-11-28T13:07:34.934Z"
   },
   {
    "duration": 115,
    "start_time": "2022-11-28T13:08:43.324Z"
   },
   {
    "duration": 5201,
    "start_time": "2022-11-28T13:08:43.441Z"
   },
   {
    "duration": 614,
    "start_time": "2022-11-28T13:08:48.643Z"
   },
   {
    "duration": 73622,
    "start_time": "2022-11-28T13:08:49.258Z"
   },
   {
    "duration": 99100,
    "start_time": "2022-11-28T13:10:02.882Z"
   },
   {
    "duration": 6,
    "start_time": "2022-11-28T13:11:41.984Z"
   },
   {
    "duration": 10,
    "start_time": "2022-11-28T13:11:41.991Z"
   },
   {
    "duration": 6,
    "start_time": "2022-11-28T13:11:42.022Z"
   },
   {
    "duration": 134,
    "start_time": "2022-11-28T13:11:42.030Z"
   },
   {
    "duration": 1210,
    "start_time": "2022-11-28T13:11:42.166Z"
   },
   {
    "duration": 9,
    "start_time": "2022-11-28T13:11:43.379Z"
   },
   {
    "duration": 8,
    "start_time": "2022-11-28T13:11:43.390Z"
   },
   {
    "duration": 7,
    "start_time": "2022-11-28T13:11:43.422Z"
   },
   {
    "duration": 7,
    "start_time": "2022-11-28T13:11:43.431Z"
   },
   {
    "duration": 1442,
    "start_time": "2022-11-28T13:11:43.439Z"
   },
   {
    "duration": 163,
    "start_time": "2022-11-28T13:11:44.882Z"
   },
   {
    "duration": 2076,
    "start_time": "2022-11-28T13:13:18.008Z"
   },
   {
    "duration": 5,
    "start_time": "2022-11-28T13:13:20.087Z"
   },
   {
    "duration": 59,
    "start_time": "2022-11-28T13:13:20.093Z"
   },
   {
    "duration": 12,
    "start_time": "2022-11-28T13:13:20.155Z"
   },
   {
    "duration": 5,
    "start_time": "2022-11-28T13:13:20.169Z"
   },
   {
    "duration": 12,
    "start_time": "2022-11-28T13:13:20.176Z"
   },
   {
    "duration": 12335,
    "start_time": "2022-11-28T13:13:20.189Z"
   },
   {
    "duration": 4,
    "start_time": "2022-11-28T13:13:32.526Z"
   },
   {
    "duration": 23,
    "start_time": "2022-11-28T13:13:32.532Z"
   },
   {
    "duration": 20,
    "start_time": "2022-11-28T13:13:32.558Z"
   },
   {
    "duration": 29,
    "start_time": "2022-11-28T13:13:32.580Z"
   },
   {
    "duration": 13,
    "start_time": "2022-11-28T13:13:32.611Z"
   },
   {
    "duration": 9,
    "start_time": "2022-11-28T13:13:32.626Z"
   },
   {
    "duration": 14,
    "start_time": "2022-11-28T13:13:32.637Z"
   },
   {
    "duration": 31,
    "start_time": "2022-11-28T13:13:32.653Z"
   },
   {
    "duration": 47,
    "start_time": "2022-11-28T13:13:32.685Z"
   },
   {
    "duration": 64701,
    "start_time": "2022-11-28T13:13:32.823Z"
   },
   {
    "duration": 115,
    "start_time": "2022-11-28T13:14:37.530Z"
   },
   {
    "duration": 5087,
    "start_time": "2022-11-28T13:14:37.647Z"
   },
   {
    "duration": 587,
    "start_time": "2022-11-28T13:14:42.735Z"
   },
   {
    "duration": 74740,
    "start_time": "2022-11-28T13:14:43.323Z"
   },
   {
    "duration": 99920,
    "start_time": "2022-11-28T13:15:58.065Z"
   },
   {
    "duration": 6,
    "start_time": "2022-11-28T13:17:37.987Z"
   },
   {
    "duration": 29,
    "start_time": "2022-11-28T13:17:37.995Z"
   },
   {
    "duration": 8,
    "start_time": "2022-11-28T13:17:38.025Z"
   },
   {
    "duration": 136,
    "start_time": "2022-11-28T13:17:38.035Z"
   },
   {
    "duration": 1098,
    "start_time": "2022-11-28T13:17:38.173Z"
   },
   {
    "duration": 7,
    "start_time": "2022-11-28T13:17:39.273Z"
   },
   {
    "duration": 8,
    "start_time": "2022-11-28T13:17:39.281Z"
   },
   {
    "duration": 33,
    "start_time": "2022-11-28T13:17:39.290Z"
   },
   {
    "duration": 10,
    "start_time": "2022-11-28T13:17:39.324Z"
   },
   {
    "duration": 1469,
    "start_time": "2022-11-28T13:17:39.335Z"
   },
   {
    "duration": 170,
    "start_time": "2022-11-28T13:17:40.806Z"
   }
  ],
  "kernelspec": {
   "display_name": "Python 3 (ipykernel)",
   "language": "python",
   "name": "python3"
  },
  "language_info": {
   "codemirror_mode": {
    "name": "ipython",
    "version": 3
   },
   "file_extension": ".py",
   "mimetype": "text/x-python",
   "name": "python",
   "nbconvert_exporter": "python",
   "pygments_lexer": "ipython3",
   "version": "3.9.13"
  },
  "toc": {
   "base_numbering": 1,
   "nav_menu": {},
   "number_sections": true,
   "sideBar": true,
   "skip_h1_title": true,
   "title_cell": "Содержание",
   "title_sidebar": "Contents",
   "toc_cell": true,
   "toc_position": {
    "height": "calc(100% - 180px)",
    "left": "10px",
    "top": "150px",
    "width": "165px"
   },
   "toc_section_display": true,
   "toc_window_display": true
  }
 },
 "nbformat": 4,
 "nbformat_minor": 2
}
