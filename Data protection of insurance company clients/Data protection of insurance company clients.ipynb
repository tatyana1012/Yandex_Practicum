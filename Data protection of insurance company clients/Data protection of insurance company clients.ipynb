{
 "cells": [
  {
   "cell_type": "markdown",
   "metadata": {},
   "source": [
    "# Защита персональных данных клиентов"
   ]
  },
  {
   "cell_type": "markdown",
   "metadata": {},
   "source": [
    "Необходимо защитить данные клиентов страховой компании. Разработайте такой метод преобразования данных, чтобы по ним было сложно восстановить персональную информацию. Обоснуйте корректность его работы.\n",
    "\n",
    "Нужно защитить данные, чтобы при преобразовании качество моделей машинного обучения не ухудшилось. Подбирать наилучшую модель не требуется."
   ]
  },
  {
   "cell_type": "markdown",
   "metadata": {},
   "source": [
    "## Загрузка данных"
   ]
  },
  {
   "cell_type": "code",
   "execution_count": 1,
   "metadata": {},
   "outputs": [],
   "source": [
    "import pandas as pd \n",
    "import numpy as np\n",
    "from sklearn.metrics import r2_score"
   ]
  },
  {
   "cell_type": "code",
   "execution_count": 2,
   "metadata": {},
   "outputs": [
    {
     "data": {
      "text/html": [
       "<div>\n",
       "<style scoped>\n",
       "    .dataframe tbody tr th:only-of-type {\n",
       "        vertical-align: middle;\n",
       "    }\n",
       "\n",
       "    .dataframe tbody tr th {\n",
       "        vertical-align: top;\n",
       "    }\n",
       "\n",
       "    .dataframe thead th {\n",
       "        text-align: right;\n",
       "    }\n",
       "</style>\n",
       "<table border=\"1\" class=\"dataframe\">\n",
       "  <thead>\n",
       "    <tr style=\"text-align: right;\">\n",
       "      <th></th>\n",
       "      <th>Пол</th>\n",
       "      <th>Возраст</th>\n",
       "      <th>Зарплата</th>\n",
       "      <th>Члены семьи</th>\n",
       "      <th>Страховые выплаты</th>\n",
       "    </tr>\n",
       "  </thead>\n",
       "  <tbody>\n",
       "    <tr>\n",
       "      <th>0</th>\n",
       "      <td>1</td>\n",
       "      <td>41.0</td>\n",
       "      <td>49600.0</td>\n",
       "      <td>1</td>\n",
       "      <td>0</td>\n",
       "    </tr>\n",
       "    <tr>\n",
       "      <th>1</th>\n",
       "      <td>0</td>\n",
       "      <td>46.0</td>\n",
       "      <td>38000.0</td>\n",
       "      <td>1</td>\n",
       "      <td>1</td>\n",
       "    </tr>\n",
       "    <tr>\n",
       "      <th>2</th>\n",
       "      <td>0</td>\n",
       "      <td>29.0</td>\n",
       "      <td>21000.0</td>\n",
       "      <td>0</td>\n",
       "      <td>0</td>\n",
       "    </tr>\n",
       "    <tr>\n",
       "      <th>3</th>\n",
       "      <td>0</td>\n",
       "      <td>21.0</td>\n",
       "      <td>41700.0</td>\n",
       "      <td>2</td>\n",
       "      <td>0</td>\n",
       "    </tr>\n",
       "    <tr>\n",
       "      <th>4</th>\n",
       "      <td>1</td>\n",
       "      <td>28.0</td>\n",
       "      <td>26100.0</td>\n",
       "      <td>0</td>\n",
       "      <td>0</td>\n",
       "    </tr>\n",
       "  </tbody>\n",
       "</table>\n",
       "</div>"
      ],
      "text/plain": [
       "   Пол  Возраст  Зарплата  Члены семьи  Страховые выплаты\n",
       "0    1     41.0   49600.0            1                  0\n",
       "1    0     46.0   38000.0            1                  1\n",
       "2    0     29.0   21000.0            0                  0\n",
       "3    0     21.0   41700.0            2                  0\n",
       "4    1     28.0   26100.0            0                  0"
      ]
     },
     "execution_count": 2,
     "metadata": {},
     "output_type": "execute_result"
    }
   ],
   "source": [
    "data=pd.read_csv('/datasets/insurance.csv') \n",
    "data.head()"
   ]
  },
  {
   "cell_type": "code",
   "execution_count": 3,
   "metadata": {},
   "outputs": [
    {
     "name": "stdout",
     "output_type": "stream",
     "text": [
      "<class 'pandas.core.frame.DataFrame'>\n",
      "RangeIndex: 5000 entries, 0 to 4999\n",
      "Data columns (total 5 columns):\n",
      " #   Column             Non-Null Count  Dtype  \n",
      "---  ------             --------------  -----  \n",
      " 0   Пол                5000 non-null   int64  \n",
      " 1   Возраст            5000 non-null   float64\n",
      " 2   Зарплата           5000 non-null   float64\n",
      " 3   Члены семьи        5000 non-null   int64  \n",
      " 4   Страховые выплаты  5000 non-null   int64  \n",
      "dtypes: float64(2), int64(3)\n",
      "memory usage: 195.4 KB\n"
     ]
    }
   ],
   "source": [
    "data.info()"
   ]
  },
  {
   "cell_type": "code",
   "execution_count": 4,
   "metadata": {},
   "outputs": [
    {
     "data": {
      "text/plain": [
       "Пол                  0\n",
       "Возраст              0\n",
       "Зарплата             0\n",
       "Члены семьи          0\n",
       "Страховые выплаты    0\n",
       "dtype: int64"
      ]
     },
     "execution_count": 4,
     "metadata": {},
     "output_type": "execute_result"
    }
   ],
   "source": [
    "data.isna().sum() "
   ]
  },
  {
   "cell_type": "markdown",
   "metadata": {},
   "source": [
    "*Вывод: В первую очередь необходимо загрузизть и изучить данные. В датасете  5 000 строк, пропусков нет. Были обнаружены дубликаты, но так как на решение задачи они не влияют, решила не обрабатывать. Признаками являются: пол, возраст и зарплата застрахованного, количество членов его семьи. Целевой признак: количество страховых выплат клиенту за последние 5 лет.*"
   ]
  },
  {
   "cell_type": "markdown",
   "metadata": {},
   "source": [
    "## Умножение матриц"
   ]
  },
  {
   "cell_type": "markdown",
   "metadata": {},
   "source": [
    "В этом задании вы можете записывать формулы в *Jupyter Notebook.*\n",
    "\n",
    "Чтобы записать формулу внутри текста, окружите её символами доллара \\\\$; если снаружи —  двойными символами \\\\$\\\\$. Эти формулы записываются на языке вёрстки *LaTeX.* \n",
    "\n",
    "Для примера мы записали формулы линейной регрессии. Можете их скопировать и отредактировать, чтобы решить задачу.\n",
    "\n",
    "Работать в *LaTeX* необязательно."
   ]
  },
  {
   "cell_type": "markdown",
   "metadata": {},
   "source": [
    "Обозначения:\n",
    "\n",
    "- $X$ — матрица признаков (нулевой столбец состоит из единиц)\n",
    "\n",
    "- $y$ — вектор целевого признака\n",
    "\n",
    "- $P$ — матрица, на которую умножаются признаки\n",
    "\n",
    "- $w$ — вектор весов линейной регрессии (нулевой элемент равен сдвигу)"
   ]
  },
  {
   "cell_type": "markdown",
   "metadata": {},
   "source": [
    "Предсказания:\n",
    "\n",
    "$$\n",
    "a = Xw\n",
    "$$\n",
    "\n",
    "Задача обучения:\n",
    "\n",
    "$$\n",
    "w = \\arg\\min_w MSE(Xw, y)\n",
    "$$\n",
    "\n",
    "Формула обучения:\n",
    "\n",
    "$$\n",
    "w = (X^T X)^{-1} X^T y\n",
    "$$"
   ]
  },
  {
   "cell_type": "markdown",
   "metadata": {},
   "source": [
    "**Ответ:** \n",
    "Качество линейной регрессии не изменится\n",
    "\n",
    "**Обоснование:** \n",
    "\n",
    "Возьмем формулу для весов w, подставим в неё новую матрицу и получим связь новых весов w' и старых весов w.\n",
    "\n",
    "Представим новую матрицу признаков как произведение старой матрицы признаков X на обратимую матрицу P.\n",
    "$$\n",
    "X'=XP\n",
    "$$\n",
    "\n",
    "Подставим новую матрицу признаков в формулу новых весов w'.\n",
    "\n",
    "$$\n",
    "w' = ((XP)^T XP)^{-1} (XP)^T y\n",
    "$$\n",
    "\n",
    "Для вывода формулы связи новых и старых весов мне понадобятся следующие свойства матриц:\n",
    "\n",
    "$$\n",
    "AA^{-1} = E\n",
    "$$\n",
    "$$\n",
    "(AB)^T = B^TA^T\n",
    "$$\n",
    "$$\n",
    "(AB)^{-1} = B^{-1}A^{-1}\n",
    "$$\n",
    "$$\n",
    "AB(C)=(AB)C\n",
    "$$\n",
    "\n",
    "Применим эти свойства для нашей формулы новых весов w':\n",
    "\n",
    "$$\n",
    "w' = (X^TP^T XP)^{-1} X^TP^T y\n",
    "$$\n",
    "$$\n",
    "w' = (P^T(X^TX)P)^{-1} X^TP^T y\n",
    "$$\n",
    "$$\n",
    "w' = (P^T)^{-1}(X^TX)^{-1}P^{-1} X^TP^T y\n",
    "$$\n",
    "$$\n",
    "(P^T)^{-1}P^T=E\n",
    "$$\n",
    "$$\n",
    "w'=(X^TX)^{-1}P^{-1}X^Ty\n",
    "$$\n",
    "$$\n",
    "(X^T X)^{-1} X^T y = w\n",
    "$$\n",
    "$$\n",
    "w'=P^{-1}w\n",
    "$$\n",
    "\n",
    "Подставим эту формулу для предсказания a'\n",
    "$$\n",
    "a'=X'w'=XPP^{-1}w=Xw\n",
    "$$\n",
    "$$\n",
    "a'=a\n",
    "$$\n",
    "Видим что при умножении на обратимую матрицу предсказания не меняются, а значит качество линейной регрессии не меняется. Параметры линейной регрессии в исходной задаче и в преобразованной связаны таким образом $ w'=P^{-1}w $"
   ]
  },
  {
   "cell_type": "markdown",
   "metadata": {},
   "source": [
    "## Алгоритм преобразования"
   ]
  },
  {
   "cell_type": "markdown",
   "metadata": {},
   "source": [
    "**Алгоритм**\n",
    "\n",
    "С помощью функции numpy.random.normal() сгенерируем случайную матрицу и затем создадим обратимую к ней. Затем эту матрицу умножим на матрицу исходных признаков. Посчитаем r_2 в полученной матрице и r_2 исходной."
   ]
  },
  {
   "cell_type": "markdown",
   "metadata": {},
   "source": [
    "**Обоснование**\n",
    "\n",
    "В пункте 2 мы математически доказали, что предсказания на исходных данных и предсказания при умножении на обратимую матрицу одинаковы а значит и метрика r2 не должнаразличаться "
   ]
  },
  {
   "cell_type": "code",
   "execution_count": 5,
   "metadata": {},
   "outputs": [],
   "source": [
    "features = data.drop('Страховые выплаты', axis=1) "
   ]
  },
  {
   "cell_type": "code",
   "execution_count": 6,
   "metadata": {},
   "outputs": [
    {
     "data": {
      "text/html": [
       "<div>\n",
       "<style scoped>\n",
       "    .dataframe tbody tr th:only-of-type {\n",
       "        vertical-align: middle;\n",
       "    }\n",
       "\n",
       "    .dataframe tbody tr th {\n",
       "        vertical-align: top;\n",
       "    }\n",
       "\n",
       "    .dataframe thead th {\n",
       "        text-align: right;\n",
       "    }\n",
       "</style>\n",
       "<table border=\"1\" class=\"dataframe\">\n",
       "  <thead>\n",
       "    <tr style=\"text-align: right;\">\n",
       "      <th></th>\n",
       "      <th>Пол</th>\n",
       "      <th>Возраст</th>\n",
       "      <th>Зарплата</th>\n",
       "      <th>Члены семьи</th>\n",
       "    </tr>\n",
       "  </thead>\n",
       "  <tbody>\n",
       "    <tr>\n",
       "      <th>0</th>\n",
       "      <td>45582.783855</td>\n",
       "      <td>-24237.111645</td>\n",
       "      <td>108699.454891</td>\n",
       "      <td>330393.589948</td>\n",
       "    </tr>\n",
       "    <tr>\n",
       "      <th>1</th>\n",
       "      <td>34987.194334</td>\n",
       "      <td>-18608.899459</td>\n",
       "      <td>83382.247443</td>\n",
       "      <td>253404.720606</td>\n",
       "    </tr>\n",
       "    <tr>\n",
       "      <th>2</th>\n",
       "      <td>19350.796415</td>\n",
       "      <td>-10293.811533</td>\n",
       "      <td>46105.531775</td>\n",
       "      <td>140108.267300</td>\n",
       "    </tr>\n",
       "    <tr>\n",
       "      <th>3</th>\n",
       "      <td>38262.100999</td>\n",
       "      <td>-20339.249405</td>\n",
       "      <td>91287.514343</td>\n",
       "      <td>277506.980328</td>\n",
       "    </tr>\n",
       "    <tr>\n",
       "      <th>4</th>\n",
       "      <td>24015.047182</td>\n",
       "      <td>-12771.710959</td>\n",
       "      <td>57246.022166</td>\n",
       "      <td>173982.288683</td>\n",
       "    </tr>\n",
       "    <tr>\n",
       "      <th>...</th>\n",
       "      <td>...</td>\n",
       "      <td>...</td>\n",
       "      <td>...</td>\n",
       "      <td>...</td>\n",
       "    </tr>\n",
       "    <tr>\n",
       "      <th>4995</th>\n",
       "      <td>32801.852862</td>\n",
       "      <td>-17440.411063</td>\n",
       "      <td>78225.285930</td>\n",
       "      <td>237772.894281</td>\n",
       "    </tr>\n",
       "    <tr>\n",
       "      <th>4996</th>\n",
       "      <td>48113.316107</td>\n",
       "      <td>-25579.378978</td>\n",
       "      <td>114766.382833</td>\n",
       "      <td>348859.742771</td>\n",
       "    </tr>\n",
       "    <tr>\n",
       "      <th>4997</th>\n",
       "      <td>31118.483615</td>\n",
       "      <td>-16542.842531</td>\n",
       "      <td>74233.419340</td>\n",
       "      <td>225656.527197</td>\n",
       "    </tr>\n",
       "    <tr>\n",
       "      <th>4998</th>\n",
       "      <td>30030.476513</td>\n",
       "      <td>-15964.841019</td>\n",
       "      <td>71627.169053</td>\n",
       "      <td>217726.523712</td>\n",
       "    </tr>\n",
       "    <tr>\n",
       "      <th>4999</th>\n",
       "      <td>37287.022744</td>\n",
       "      <td>-19823.898666</td>\n",
       "      <td>88935.799940</td>\n",
       "      <td>270336.092574</td>\n",
       "    </tr>\n",
       "  </tbody>\n",
       "</table>\n",
       "<p>5000 rows × 4 columns</p>\n",
       "</div>"
      ],
      "text/plain": [
       "               Пол       Возраст       Зарплата    Члены семьи\n",
       "0     45582.783855 -24237.111645  108699.454891  330393.589948\n",
       "1     34987.194334 -18608.899459   83382.247443  253404.720606\n",
       "2     19350.796415 -10293.811533   46105.531775  140108.267300\n",
       "3     38262.100999 -20339.249405   91287.514343  277506.980328\n",
       "4     24015.047182 -12771.710959   57246.022166  173982.288683\n",
       "...            ...           ...            ...            ...\n",
       "4995  32801.852862 -17440.411063   78225.285930  237772.894281\n",
       "4996  48113.316107 -25579.378978  114766.382833  348859.742771\n",
       "4997  31118.483615 -16542.842531   74233.419340  225656.527197\n",
       "4998  30030.476513 -15964.841019   71627.169053  217726.523712\n",
       "4999  37287.022744 -19823.898666   88935.799940  270336.092574\n",
       "\n",
       "[5000 rows x 4 columns]"
      ]
     },
     "execution_count": 6,
     "metadata": {},
     "output_type": "execute_result"
    }
   ],
   "source": [
    "matrix_random = np.random.normal(size=(4, 4))\n",
    "matrix_random_inv = np.linalg.inv(matrix_random)\n",
    "matrix = features.values \n",
    "matrix_1 = matrix@matrix_random_inv \n",
    "features_new = pd.DataFrame (matrix_1, columns = features.columns)\n",
    "features_new "
   ]
  },
  {
   "cell_type": "code",
   "execution_count": 7,
   "metadata": {},
   "outputs": [],
   "source": [
    "class LinearRegression:\n",
    "    def fit(self, train_features, train_target):\n",
    "        X = np.concatenate((np.ones((train_features.shape[0], 1)), train_features), axis=1)\n",
    "        y = train_target\n",
    "        w = np.linalg.inv(X.T.dot(X)).dot(X.T).dot(y)\n",
    "        self.w = w[1:]\n",
    "        self.w0 = w[0]\n",
    "\n",
    "    def predict(self, test_features):\n",
    "        return test_features.dot(self.w) + self.w0"
   ]
  },
  {
   "cell_type": "markdown",
   "metadata": {},
   "source": [
    "## Проверка алгоритма"
   ]
  },
  {
   "cell_type": "code",
   "execution_count": 8,
   "metadata": {},
   "outputs": [
    {
     "name": "stdout",
     "output_type": "stream",
     "text": [
      "Метрика R2 на исходных данных: 0.42494550286668\n"
     ]
    }
   ],
   "source": [
    "model = LinearRegression() \n",
    "model.fit(features, target)\n",
    "predictions = model.predict(features)\n",
    "print('Метрика R2 на исходных данных:', r2_score(target, predictions))"
   ]
  },
  {
   "cell_type": "code",
   "execution_count": 9,
   "metadata": {},
   "outputs": [
    {
     "name": "stdout",
     "output_type": "stream",
     "text": [
      "Метрика R2 на преобразованных данных: 0.424945502852491\n"
     ]
    }
   ],
   "source": [
    "model = LinearRegression() \n",
    "model.fit(features_new, target)\n",
    "predictions = model.predict(features_new)\n",
    "print('Метрика R2 на преобразованных данных:', r2_score(target, predictions))"
   ]
  },
  {
   "cell_type": "markdown",
   "metadata": {},
   "source": [
    "**ВЫВОД:** После математического преобразования данных видим что качество линейной регрессии не отличается после до и после преобразований, то есть метрики R2 равны."
   ]
  },
  {
   "cell_type": "markdown",
   "metadata": {},
   "source": [
    "<div class=\"alert alert-info\">\n",
    "ВЫВОД: \n",
    "Основная задача стоит перед нами это - защитить данные клиентов страховой компании «Хоть потоп». Для этого требовалось разработать такой метод преобразования данных, чтобы по ним было сложно восстановить персональную информацию. Требовалось  защитить данные таким образом, чтобы при преобразовании качество моделей машинного обучения не ухудшилось.\n",
    "    Изначально я изучила данные, в датасете 5 000 строк, по каждому страхователю известна следующая информация:пол, возраст, зарплата, количество членов семьи (при построении модели -это признаки) и количество страховых выплат за последние 5 лет (целевой признак).\n",
    "    Затем я преобразовала данные: сгенерировала случайную матрицу, такой же размерностью, как исходная. Далее проверила эту матрицу на обратимость функцией np.linalg.inv. Умножила эту матрицу на исходную, результатом получиласт новая матрица с новыми признаками. Далее применив метрику R2 я проверила, что качество линейной регрессии из sklearn не отличается до и после преобразования. А значит, поставленная цель выполнена."
   ]
  }
 ],
 "metadata": {
  "ExecuteTimeLog": [
   {
    "duration": 407,
    "start_time": "2023-01-05T15:03:11.803Z"
   },
   {
    "duration": 90,
    "start_time": "2023-01-05T15:04:16.835Z"
   },
   {
    "duration": 12,
    "start_time": "2023-01-05T15:04:39.863Z"
   },
   {
    "duration": 6,
    "start_time": "2023-01-05T15:05:20.334Z"
   },
   {
    "duration": 5,
    "start_time": "2023-01-05T15:06:11.313Z"
   },
   {
    "duration": 44,
    "start_time": "2023-01-06T08:55:53.187Z"
   },
   {
    "duration": 389,
    "start_time": "2023-01-06T08:55:57.900Z"
   },
   {
    "duration": 89,
    "start_time": "2023-01-06T08:55:58.290Z"
   },
   {
    "duration": 10,
    "start_time": "2023-01-06T08:55:58.381Z"
   },
   {
    "duration": 13,
    "start_time": "2023-01-06T08:55:58.393Z"
   },
   {
    "duration": 8,
    "start_time": "2023-01-06T08:55:58.407Z"
   },
   {
    "duration": 1006,
    "start_time": "2023-01-13T09:27:57.165Z"
   },
   {
    "duration": 133,
    "start_time": "2023-01-13T09:27:58.173Z"
   },
   {
    "duration": 15,
    "start_time": "2023-01-13T09:27:58.307Z"
   },
   {
    "duration": 27,
    "start_time": "2023-01-13T09:27:58.324Z"
   },
   {
    "duration": 4,
    "start_time": "2023-01-13T11:46:24.531Z"
   },
   {
    "duration": 6,
    "start_time": "2023-01-13T12:00:33.888Z"
   },
   {
    "duration": 8,
    "start_time": "2023-01-13T12:00:59.033Z"
   },
   {
    "duration": 8,
    "start_time": "2023-01-13T12:02:11.757Z"
   },
   {
    "duration": 4,
    "start_time": "2023-01-13T12:02:35.931Z"
   },
   {
    "duration": 5,
    "start_time": "2023-01-13T12:05:00.064Z"
   },
   {
    "duration": 81,
    "start_time": "2023-01-13T12:05:05.839Z"
   },
   {
    "duration": 53,
    "start_time": "2023-01-13T12:12:22.060Z"
   },
   {
    "duration": 18,
    "start_time": "2023-01-13T12:14:20.436Z"
   },
   {
    "duration": 11,
    "start_time": "2023-01-13T12:14:29.439Z"
   },
   {
    "duration": 5,
    "start_time": "2023-01-13T12:16:36.118Z"
   },
   {
    "duration": 5,
    "start_time": "2023-01-13T12:16:36.793Z"
   },
   {
    "duration": 8,
    "start_time": "2023-01-13T12:17:01.987Z"
   },
   {
    "duration": 3,
    "start_time": "2023-01-13T12:20:53.264Z"
   },
   {
    "duration": 48,
    "start_time": "2023-01-13T12:20:53.269Z"
   },
   {
    "duration": 10,
    "start_time": "2023-01-13T12:20:53.319Z"
   },
   {
    "duration": 17,
    "start_time": "2023-01-13T12:20:53.331Z"
   },
   {
    "duration": 7,
    "start_time": "2023-01-13T12:20:53.350Z"
   },
   {
    "duration": 27,
    "start_time": "2023-01-13T12:20:53.358Z"
   },
   {
    "duration": 16,
    "start_time": "2023-01-13T12:20:53.387Z"
   },
   {
    "duration": 21,
    "start_time": "2023-01-13T12:20:53.405Z"
   },
   {
    "duration": 196,
    "start_time": "2023-01-13T12:20:53.428Z"
   },
   {
    "duration": 16,
    "start_time": "2023-01-13T12:43:34.038Z"
   },
   {
    "duration": 989,
    "start_time": "2023-01-13T12:50:32.070Z"
   },
   {
    "duration": 40,
    "start_time": "2023-01-13T12:50:33.060Z"
   },
   {
    "duration": 11,
    "start_time": "2023-01-13T12:50:33.101Z"
   },
   {
    "duration": 11,
    "start_time": "2023-01-13T12:50:33.114Z"
   },
   {
    "duration": 11,
    "start_time": "2023-01-13T12:50:33.126Z"
   },
   {
    "duration": 24,
    "start_time": "2023-01-13T12:50:33.138Z"
   },
   {
    "duration": 49,
    "start_time": "2023-01-13T12:50:33.164Z"
   },
   {
    "duration": 100,
    "start_time": "2023-01-13T12:50:33.215Z"
   },
   {
    "duration": 106,
    "start_time": "2023-01-13T12:50:33.316Z"
   },
   {
    "duration": 1760,
    "start_time": "2023-01-13T13:47:04.790Z"
   },
   {
    "duration": 39,
    "start_time": "2023-01-13T13:47:06.552Z"
   },
   {
    "duration": 11,
    "start_time": "2023-01-13T13:47:06.592Z"
   },
   {
    "duration": 24,
    "start_time": "2023-01-13T13:47:06.605Z"
   },
   {
    "duration": 6,
    "start_time": "2023-01-13T13:47:06.630Z"
   },
   {
    "duration": 22,
    "start_time": "2023-01-13T13:47:06.637Z"
   },
   {
    "duration": 6,
    "start_time": "2023-01-13T13:47:06.705Z"
   },
   {
    "duration": 95,
    "start_time": "2023-01-13T13:47:06.714Z"
   },
   {
    "duration": 103,
    "start_time": "2023-01-13T13:47:06.810Z"
   },
   {
    "duration": 50,
    "start_time": "2023-01-16T16:32:39.921Z"
   },
   {
    "duration": 64,
    "start_time": "2023-01-16T16:33:34.324Z"
   }
  ],
  "kernelspec": {
   "display_name": "Python 3 (ipykernel)",
   "language": "python",
   "name": "python3"
  },
  "language_info": {
   "codemirror_mode": {
    "name": "ipython",
    "version": 3
   },
   "file_extension": ".py",
   "mimetype": "text/x-python",
   "name": "python",
   "nbconvert_exporter": "python",
   "pygments_lexer": "ipython3",
   "version": "3.9.13"
  },
  "toc": {
   "base_numbering": 1,
   "nav_menu": {},
   "number_sections": true,
   "sideBar": true,
   "skip_h1_title": true,
   "title_cell": "Содержание",
   "title_sidebar": "Contents",
   "toc_cell": true,
   "toc_position": {},
   "toc_section_display": true,
   "toc_window_display": false
  }
 },
 "nbformat": 4,
 "nbformat_minor": 2
}
