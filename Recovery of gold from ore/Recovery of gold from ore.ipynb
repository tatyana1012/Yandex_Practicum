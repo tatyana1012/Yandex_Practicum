{
 "cells": [
  {
   "cell_type": "markdown",
   "metadata": {
    "toc": true
   },
   "source": [
    "<h1>Содержание<span class=\"tocSkip\"></span></h1>\n",
    "<div class=\"toc\"><ul class=\"toc-item\"><li><span><a href=\"#Подготовка-данных\" data-toc-modified-id=\"Подготовка-данных-1\"><span class=\"toc-item-num\">1&nbsp;&nbsp;</span>Подготовка данных</a></span></li><li><span><a href=\"#Анализ-данных\" data-toc-modified-id=\"Анализ-данных-2\"><span class=\"toc-item-num\">2&nbsp;&nbsp;</span>Анализ данных</a></span></li><li><span><a href=\"#Модель\" data-toc-modified-id=\"Модель-3\"><span class=\"toc-item-num\">3&nbsp;&nbsp;</span>Модель</a></span></li></ul></div>"
   ]
  },
  {
   "cell_type": "markdown",
   "metadata": {},
   "source": [
    "# Восстановление золота из руды"
   ]
  },
  {
   "cell_type": "markdown",
   "metadata": {},
   "source": [
    "Подготовьте прототип модели машинного обучения для «Цифры». Компания разрабатывает решения для эффективной работы промышленных предприятий.\n",
    "\n",
    "Модель должна предсказать коэффициент восстановления золота из золотосодержащей руды. Используйте данные с параметрами добычи и очистки. \n",
    "\n",
    "Модель поможет оптимизировать производство, чтобы не запускать предприятие с убыточными характеристиками.\n",
    "\n",
    "Вам нужно:\n",
    "\n",
    "1. Подготовить данные;\n",
    "2. Провести исследовательский анализ данных;\n",
    "3. Построить и обучить модель.\n"
   ]
  },
  {
   "cell_type": "markdown",
   "metadata": {},
   "source": [
    "## Подготовка данных"
   ]
  },
  {
   "cell_type": "code",
   "execution_count": 1,
   "metadata": {},
   "outputs": [],
   "source": [
    "import pandas as pd \n",
    "import numpy as np\n",
    "import warnings\n",
    "from sklearn.metrics import make_scorer\n",
    "from sklearn.linear_model import LinearRegression\n",
    "from sklearn.tree import DecisionTreeRegressor\n",
    "from sklearn.ensemble import RandomForestRegressor\n",
    "from sklearn.dummy import DummyRegressor\n",
    "from sklearn.metrics import mean_squared_error, make_scorer\n",
    "from sklearn.model_selection import train_test_split\n",
    "from sklearn.model_selection import GridSearchCV\n",
    "from sklearn.model_selection import cross_val_score\n",
    "import matplotlib.pyplot as plt"
   ]
  },
  {
   "cell_type": "code",
   "execution_count": 2,
   "metadata": {},
   "outputs": [],
   "source": [
    "warnings.filterwarnings('ignore')\n",
    "pd.options.mode.chained_assignment = None"
   ]
  },
  {
   "cell_type": "code",
   "execution_count": 3,
   "metadata": {},
   "outputs": [
    {
     "data": {
      "text/html": [
       "<div>\n",
       "<style scoped>\n",
       "    .dataframe tbody tr th:only-of-type {\n",
       "        vertical-align: middle;\n",
       "    }\n",
       "\n",
       "    .dataframe tbody tr th {\n",
       "        vertical-align: top;\n",
       "    }\n",
       "\n",
       "    .dataframe thead th {\n",
       "        text-align: right;\n",
       "    }\n",
       "</style>\n",
       "<table border=\"1\" class=\"dataframe\">\n",
       "  <thead>\n",
       "    <tr style=\"text-align: right;\">\n",
       "      <th></th>\n",
       "      <th>date</th>\n",
       "      <th>final.output.concentrate_ag</th>\n",
       "      <th>final.output.concentrate_pb</th>\n",
       "      <th>final.output.concentrate_sol</th>\n",
       "      <th>final.output.concentrate_au</th>\n",
       "      <th>final.output.recovery</th>\n",
       "      <th>final.output.tail_ag</th>\n",
       "      <th>final.output.tail_pb</th>\n",
       "      <th>final.output.tail_sol</th>\n",
       "      <th>final.output.tail_au</th>\n",
       "      <th>...</th>\n",
       "      <th>secondary_cleaner.state.floatbank4_a_air</th>\n",
       "      <th>secondary_cleaner.state.floatbank4_a_level</th>\n",
       "      <th>secondary_cleaner.state.floatbank4_b_air</th>\n",
       "      <th>secondary_cleaner.state.floatbank4_b_level</th>\n",
       "      <th>secondary_cleaner.state.floatbank5_a_air</th>\n",
       "      <th>secondary_cleaner.state.floatbank5_a_level</th>\n",
       "      <th>secondary_cleaner.state.floatbank5_b_air</th>\n",
       "      <th>secondary_cleaner.state.floatbank5_b_level</th>\n",
       "      <th>secondary_cleaner.state.floatbank6_a_air</th>\n",
       "      <th>secondary_cleaner.state.floatbank6_a_level</th>\n",
       "    </tr>\n",
       "  </thead>\n",
       "  <tbody>\n",
       "    <tr>\n",
       "      <th>0</th>\n",
       "      <td>2016-01-15 00:00:00</td>\n",
       "      <td>6.055403</td>\n",
       "      <td>9.889648</td>\n",
       "      <td>5.507324</td>\n",
       "      <td>42.192020</td>\n",
       "      <td>70.541216</td>\n",
       "      <td>10.411962</td>\n",
       "      <td>0.895447</td>\n",
       "      <td>16.904297</td>\n",
       "      <td>2.143149</td>\n",
       "      <td>...</td>\n",
       "      <td>14.016835</td>\n",
       "      <td>-502.488007</td>\n",
       "      <td>12.099931</td>\n",
       "      <td>-504.715942</td>\n",
       "      <td>9.925633</td>\n",
       "      <td>-498.310211</td>\n",
       "      <td>8.079666</td>\n",
       "      <td>-500.470978</td>\n",
       "      <td>14.151341</td>\n",
       "      <td>-605.841980</td>\n",
       "    </tr>\n",
       "    <tr>\n",
       "      <th>1</th>\n",
       "      <td>2016-01-15 01:00:00</td>\n",
       "      <td>6.029369</td>\n",
       "      <td>9.968944</td>\n",
       "      <td>5.257781</td>\n",
       "      <td>42.701629</td>\n",
       "      <td>69.266198</td>\n",
       "      <td>10.462676</td>\n",
       "      <td>0.927452</td>\n",
       "      <td>16.634514</td>\n",
       "      <td>2.224930</td>\n",
       "      <td>...</td>\n",
       "      <td>13.992281</td>\n",
       "      <td>-505.503262</td>\n",
       "      <td>11.950531</td>\n",
       "      <td>-501.331529</td>\n",
       "      <td>10.039245</td>\n",
       "      <td>-500.169983</td>\n",
       "      <td>7.984757</td>\n",
       "      <td>-500.582168</td>\n",
       "      <td>13.998353</td>\n",
       "      <td>-599.787184</td>\n",
       "    </tr>\n",
       "    <tr>\n",
       "      <th>2</th>\n",
       "      <td>2016-01-15 02:00:00</td>\n",
       "      <td>6.055926</td>\n",
       "      <td>10.213995</td>\n",
       "      <td>5.383759</td>\n",
       "      <td>42.657501</td>\n",
       "      <td>68.116445</td>\n",
       "      <td>10.507046</td>\n",
       "      <td>0.953716</td>\n",
       "      <td>16.208849</td>\n",
       "      <td>2.257889</td>\n",
       "      <td>...</td>\n",
       "      <td>14.015015</td>\n",
       "      <td>-502.520901</td>\n",
       "      <td>11.912783</td>\n",
       "      <td>-501.133383</td>\n",
       "      <td>10.070913</td>\n",
       "      <td>-500.129135</td>\n",
       "      <td>8.013877</td>\n",
       "      <td>-500.517572</td>\n",
       "      <td>14.028663</td>\n",
       "      <td>-601.427363</td>\n",
       "    </tr>\n",
       "    <tr>\n",
       "      <th>3</th>\n",
       "      <td>2016-01-15 03:00:00</td>\n",
       "      <td>6.047977</td>\n",
       "      <td>9.977019</td>\n",
       "      <td>4.858634</td>\n",
       "      <td>42.689819</td>\n",
       "      <td>68.347543</td>\n",
       "      <td>10.422762</td>\n",
       "      <td>0.883763</td>\n",
       "      <td>16.532835</td>\n",
       "      <td>2.146849</td>\n",
       "      <td>...</td>\n",
       "      <td>14.036510</td>\n",
       "      <td>-500.857308</td>\n",
       "      <td>11.999550</td>\n",
       "      <td>-501.193686</td>\n",
       "      <td>9.970366</td>\n",
       "      <td>-499.201640</td>\n",
       "      <td>7.977324</td>\n",
       "      <td>-500.255908</td>\n",
       "      <td>14.005551</td>\n",
       "      <td>-599.996129</td>\n",
       "    </tr>\n",
       "    <tr>\n",
       "      <th>4</th>\n",
       "      <td>2016-01-15 04:00:00</td>\n",
       "      <td>6.148599</td>\n",
       "      <td>10.142511</td>\n",
       "      <td>4.939416</td>\n",
       "      <td>42.774141</td>\n",
       "      <td>66.927016</td>\n",
       "      <td>10.360302</td>\n",
       "      <td>0.792826</td>\n",
       "      <td>16.525686</td>\n",
       "      <td>2.055292</td>\n",
       "      <td>...</td>\n",
       "      <td>14.027298</td>\n",
       "      <td>-499.838632</td>\n",
       "      <td>11.953070</td>\n",
       "      <td>-501.053894</td>\n",
       "      <td>9.925709</td>\n",
       "      <td>-501.686727</td>\n",
       "      <td>7.894242</td>\n",
       "      <td>-500.356035</td>\n",
       "      <td>13.996647</td>\n",
       "      <td>-601.496691</td>\n",
       "    </tr>\n",
       "  </tbody>\n",
       "</table>\n",
       "<p>5 rows × 87 columns</p>\n",
       "</div>"
      ],
      "text/plain": [
       "                  date  final.output.concentrate_ag  \\\n",
       "0  2016-01-15 00:00:00                     6.055403   \n",
       "1  2016-01-15 01:00:00                     6.029369   \n",
       "2  2016-01-15 02:00:00                     6.055926   \n",
       "3  2016-01-15 03:00:00                     6.047977   \n",
       "4  2016-01-15 04:00:00                     6.148599   \n",
       "\n",
       "   final.output.concentrate_pb  final.output.concentrate_sol  \\\n",
       "0                     9.889648                      5.507324   \n",
       "1                     9.968944                      5.257781   \n",
       "2                    10.213995                      5.383759   \n",
       "3                     9.977019                      4.858634   \n",
       "4                    10.142511                      4.939416   \n",
       "\n",
       "   final.output.concentrate_au  final.output.recovery  final.output.tail_ag  \\\n",
       "0                    42.192020              70.541216             10.411962   \n",
       "1                    42.701629              69.266198             10.462676   \n",
       "2                    42.657501              68.116445             10.507046   \n",
       "3                    42.689819              68.347543             10.422762   \n",
       "4                    42.774141              66.927016             10.360302   \n",
       "\n",
       "   final.output.tail_pb  final.output.tail_sol  final.output.tail_au  ...  \\\n",
       "0              0.895447              16.904297              2.143149  ...   \n",
       "1              0.927452              16.634514              2.224930  ...   \n",
       "2              0.953716              16.208849              2.257889  ...   \n",
       "3              0.883763              16.532835              2.146849  ...   \n",
       "4              0.792826              16.525686              2.055292  ...   \n",
       "\n",
       "   secondary_cleaner.state.floatbank4_a_air  \\\n",
       "0                                 14.016835   \n",
       "1                                 13.992281   \n",
       "2                                 14.015015   \n",
       "3                                 14.036510   \n",
       "4                                 14.027298   \n",
       "\n",
       "   secondary_cleaner.state.floatbank4_a_level  \\\n",
       "0                                 -502.488007   \n",
       "1                                 -505.503262   \n",
       "2                                 -502.520901   \n",
       "3                                 -500.857308   \n",
       "4                                 -499.838632   \n",
       "\n",
       "   secondary_cleaner.state.floatbank4_b_air  \\\n",
       "0                                 12.099931   \n",
       "1                                 11.950531   \n",
       "2                                 11.912783   \n",
       "3                                 11.999550   \n",
       "4                                 11.953070   \n",
       "\n",
       "   secondary_cleaner.state.floatbank4_b_level  \\\n",
       "0                                 -504.715942   \n",
       "1                                 -501.331529   \n",
       "2                                 -501.133383   \n",
       "3                                 -501.193686   \n",
       "4                                 -501.053894   \n",
       "\n",
       "   secondary_cleaner.state.floatbank5_a_air  \\\n",
       "0                                  9.925633   \n",
       "1                                 10.039245   \n",
       "2                                 10.070913   \n",
       "3                                  9.970366   \n",
       "4                                  9.925709   \n",
       "\n",
       "   secondary_cleaner.state.floatbank5_a_level  \\\n",
       "0                                 -498.310211   \n",
       "1                                 -500.169983   \n",
       "2                                 -500.129135   \n",
       "3                                 -499.201640   \n",
       "4                                 -501.686727   \n",
       "\n",
       "   secondary_cleaner.state.floatbank5_b_air  \\\n",
       "0                                  8.079666   \n",
       "1                                  7.984757   \n",
       "2                                  8.013877   \n",
       "3                                  7.977324   \n",
       "4                                  7.894242   \n",
       "\n",
       "   secondary_cleaner.state.floatbank5_b_level  \\\n",
       "0                                 -500.470978   \n",
       "1                                 -500.582168   \n",
       "2                                 -500.517572   \n",
       "3                                 -500.255908   \n",
       "4                                 -500.356035   \n",
       "\n",
       "   secondary_cleaner.state.floatbank6_a_air  \\\n",
       "0                                 14.151341   \n",
       "1                                 13.998353   \n",
       "2                                 14.028663   \n",
       "3                                 14.005551   \n",
       "4                                 13.996647   \n",
       "\n",
       "   secondary_cleaner.state.floatbank6_a_level  \n",
       "0                                 -605.841980  \n",
       "1                                 -599.787184  \n",
       "2                                 -601.427363  \n",
       "3                                 -599.996129  \n",
       "4                                 -601.496691  \n",
       "\n",
       "[5 rows x 87 columns]"
      ]
     },
     "execution_count": 3,
     "metadata": {},
     "output_type": "execute_result"
    }
   ],
   "source": [
    "data_train=pd.read_csv('/datasets/gold_recovery_train_new.csv') \n",
    "data_train.head()"
   ]
  },
  {
   "cell_type": "code",
   "execution_count": 4,
   "metadata": {
    "scrolled": false
   },
   "outputs": [
    {
     "name": "stdout",
     "output_type": "stream",
     "text": [
      "<class 'pandas.core.frame.DataFrame'>\n",
      "RangeIndex: 14149 entries, 0 to 14148\n",
      "Data columns (total 87 columns):\n",
      " #   Column                                              Non-Null Count  Dtype  \n",
      "---  ------                                              --------------  -----  \n",
      " 0   date                                                14149 non-null  object \n",
      " 1   final.output.concentrate_ag                         14148 non-null  float64\n",
      " 2   final.output.concentrate_pb                         14148 non-null  float64\n",
      " 3   final.output.concentrate_sol                        13938 non-null  float64\n",
      " 4   final.output.concentrate_au                         14149 non-null  float64\n",
      " 5   final.output.recovery                               14149 non-null  float64\n",
      " 6   final.output.tail_ag                                14149 non-null  float64\n",
      " 7   final.output.tail_pb                                14049 non-null  float64\n",
      " 8   final.output.tail_sol                               14144 non-null  float64\n",
      " 9   final.output.tail_au                                14149 non-null  float64\n",
      " 10  primary_cleaner.input.sulfate                       14129 non-null  float64\n",
      " 11  primary_cleaner.input.depressant                    14117 non-null  float64\n",
      " 12  primary_cleaner.input.feed_size                     14149 non-null  float64\n",
      " 13  primary_cleaner.input.xanthate                      14049 non-null  float64\n",
      " 14  primary_cleaner.output.concentrate_ag               14149 non-null  float64\n",
      " 15  primary_cleaner.output.concentrate_pb               14063 non-null  float64\n",
      " 16  primary_cleaner.output.concentrate_sol              13863 non-null  float64\n",
      " 17  primary_cleaner.output.concentrate_au               14149 non-null  float64\n",
      " 18  primary_cleaner.output.tail_ag                      14148 non-null  float64\n",
      " 19  primary_cleaner.output.tail_pb                      14134 non-null  float64\n",
      " 20  primary_cleaner.output.tail_sol                     14103 non-null  float64\n",
      " 21  primary_cleaner.output.tail_au                      14149 non-null  float64\n",
      " 22  primary_cleaner.state.floatbank8_a_air              14145 non-null  float64\n",
      " 23  primary_cleaner.state.floatbank8_a_level            14148 non-null  float64\n",
      " 24  primary_cleaner.state.floatbank8_b_air              14145 non-null  float64\n",
      " 25  primary_cleaner.state.floatbank8_b_level            14148 non-null  float64\n",
      " 26  primary_cleaner.state.floatbank8_c_air              14147 non-null  float64\n",
      " 27  primary_cleaner.state.floatbank8_c_level            14148 non-null  float64\n",
      " 28  primary_cleaner.state.floatbank8_d_air              14146 non-null  float64\n",
      " 29  primary_cleaner.state.floatbank8_d_level            14148 non-null  float64\n",
      " 30  rougher.calculation.sulfate_to_au_concentrate       14148 non-null  float64\n",
      " 31  rougher.calculation.floatbank10_sulfate_to_au_feed  14148 non-null  float64\n",
      " 32  rougher.calculation.floatbank11_sulfate_to_au_feed  14148 non-null  float64\n",
      " 33  rougher.calculation.au_pb_ratio                     14149 non-null  float64\n",
      " 34  rougher.input.feed_ag                               14149 non-null  float64\n",
      " 35  rougher.input.feed_pb                               14049 non-null  float64\n",
      " 36  rougher.input.feed_rate                             14141 non-null  float64\n",
      " 37  rougher.input.feed_size                             14005 non-null  float64\n",
      " 38  rougher.input.feed_sol                              14071 non-null  float64\n",
      " 39  rougher.input.feed_au                               14149 non-null  float64\n",
      " 40  rougher.input.floatbank10_sulfate                   14120 non-null  float64\n",
      " 41  rougher.input.floatbank10_xanthate                  14141 non-null  float64\n",
      " 42  rougher.input.floatbank11_sulfate                   14113 non-null  float64\n",
      " 43  rougher.input.floatbank11_xanthate                  13721 non-null  float64\n",
      " 44  rougher.output.concentrate_ag                       14149 non-null  float64\n",
      " 45  rougher.output.concentrate_pb                       14149 non-null  float64\n",
      " 46  rougher.output.concentrate_sol                      14127 non-null  float64\n",
      " 47  rougher.output.concentrate_au                       14149 non-null  float64\n",
      " 48  rougher.output.recovery                             14149 non-null  float64\n",
      " 49  rougher.output.tail_ag                              14148 non-null  float64\n",
      " 50  rougher.output.tail_pb                              14149 non-null  float64\n",
      " 51  rougher.output.tail_sol                             14149 non-null  float64\n",
      " 52  rougher.output.tail_au                              14149 non-null  float64\n",
      " 53  rougher.state.floatbank10_a_air                     14148 non-null  float64\n",
      " 54  rougher.state.floatbank10_a_level                   14148 non-null  float64\n",
      " 55  rougher.state.floatbank10_b_air                     14148 non-null  float64\n",
      " 56  rougher.state.floatbank10_b_level                   14148 non-null  float64\n",
      " 57  rougher.state.floatbank10_c_air                     14148 non-null  float64\n",
      " 58  rougher.state.floatbank10_c_level                   14148 non-null  float64\n",
      " 59  rougher.state.floatbank10_d_air                     14149 non-null  float64\n",
      " 60  rougher.state.floatbank10_d_level                   14149 non-null  float64\n",
      " 61  rougher.state.floatbank10_e_air                     13713 non-null  float64\n",
      " 62  rougher.state.floatbank10_e_level                   14149 non-null  float64\n",
      " 63  rougher.state.floatbank10_f_air                     14149 non-null  float64\n",
      " 64  rougher.state.floatbank10_f_level                   14149 non-null  float64\n",
      " 65  secondary_cleaner.output.tail_ag                    14147 non-null  float64\n",
      " 66  secondary_cleaner.output.tail_pb                    14139 non-null  float64\n",
      " 67  secondary_cleaner.output.tail_sol                   12544 non-null  float64\n",
      " 68  secondary_cleaner.output.tail_au                    14149 non-null  float64\n",
      " 69  secondary_cleaner.state.floatbank2_a_air            13932 non-null  float64\n",
      " 70  secondary_cleaner.state.floatbank2_a_level          14148 non-null  float64\n",
      " 71  secondary_cleaner.state.floatbank2_b_air            14128 non-null  float64\n",
      " 72  secondary_cleaner.state.floatbank2_b_level          14148 non-null  float64\n",
      " 73  secondary_cleaner.state.floatbank3_a_air            14145 non-null  float64\n",
      " 74  secondary_cleaner.state.floatbank3_a_level          14148 non-null  float64\n",
      " 75  secondary_cleaner.state.floatbank3_b_air            14148 non-null  float64\n",
      " 76  secondary_cleaner.state.floatbank3_b_level          14148 non-null  float64\n",
      " 77  secondary_cleaner.state.floatbank4_a_air            14143 non-null  float64\n",
      " 78  secondary_cleaner.state.floatbank4_a_level          14148 non-null  float64\n",
      " 79  secondary_cleaner.state.floatbank4_b_air            14148 non-null  float64\n",
      " 80  secondary_cleaner.state.floatbank4_b_level          14148 non-null  float64\n",
      " 81  secondary_cleaner.state.floatbank5_a_air            14148 non-null  float64\n",
      " 82  secondary_cleaner.state.floatbank5_a_level          14148 non-null  float64\n",
      " 83  secondary_cleaner.state.floatbank5_b_air            14148 non-null  float64\n",
      " 84  secondary_cleaner.state.floatbank5_b_level          14148 non-null  float64\n",
      " 85  secondary_cleaner.state.floatbank6_a_air            14147 non-null  float64\n",
      " 86  secondary_cleaner.state.floatbank6_a_level          14148 non-null  float64\n",
      "dtypes: float64(86), object(1)\n",
      "memory usage: 9.4+ MB\n"
     ]
    }
   ],
   "source": [
    "data_train.info()"
   ]
  },
  {
   "cell_type": "code",
   "execution_count": 5,
   "metadata": {},
   "outputs": [],
   "source": [
    "data_train['date']= pd.to_datetime(data_train['date'], format='%Y.%m.%d %H:%M:%S')"
   ]
  },
  {
   "cell_type": "code",
   "execution_count": 6,
   "metadata": {},
   "outputs": [
    {
     "data": {
      "text/plain": [
       "date                                            0\n",
       "final.output.concentrate_ag                     1\n",
       "final.output.concentrate_pb                     1\n",
       "final.output.concentrate_sol                  211\n",
       "final.output.concentrate_au                     0\n",
       "                                             ... \n",
       "secondary_cleaner.state.floatbank5_a_level      1\n",
       "secondary_cleaner.state.floatbank5_b_air        1\n",
       "secondary_cleaner.state.floatbank5_b_level      1\n",
       "secondary_cleaner.state.floatbank6_a_air        2\n",
       "secondary_cleaner.state.floatbank6_a_level      1\n",
       "Length: 87, dtype: int64"
      ]
     },
     "execution_count": 6,
     "metadata": {},
     "output_type": "execute_result"
    }
   ],
   "source": [
    "data_train.isna().sum()"
   ]
  },
  {
   "cell_type": "markdown",
   "metadata": {},
   "source": [
    "Заполняем пропуски близлежащими значениями, так как по условиям задачи говорится, что значения по времени параметры часто похожи"
   ]
  },
  {
   "cell_type": "code",
   "execution_count": 7,
   "metadata": {},
   "outputs": [
    {
     "data": {
      "text/plain": [
       "0"
      ]
     },
     "execution_count": 7,
     "metadata": {},
     "output_type": "execute_result"
    }
   ],
   "source": [
    "data_train = data_train.fillna(method='ffill') \n",
    "data_train.isna().sum().sum()"
   ]
  },
  {
   "cell_type": "code",
   "execution_count": 8,
   "metadata": {},
   "outputs": [
    {
     "name": "stdout",
     "output_type": "stream",
     "text": [
      "Количество дубликатов в обучающей выборке: 0\n"
     ]
    }
   ],
   "source": [
    "print('Количество дубликатов в обучающей выборке:', data_train.duplicated().sum())"
   ]
  },
  {
   "cell_type": "code",
   "execution_count": 9,
   "metadata": {},
   "outputs": [
    {
     "data": {
      "text/html": [
       "<div>\n",
       "<style scoped>\n",
       "    .dataframe tbody tr th:only-of-type {\n",
       "        vertical-align: middle;\n",
       "    }\n",
       "\n",
       "    .dataframe tbody tr th {\n",
       "        vertical-align: top;\n",
       "    }\n",
       "\n",
       "    .dataframe thead th {\n",
       "        text-align: right;\n",
       "    }\n",
       "</style>\n",
       "<table border=\"1\" class=\"dataframe\">\n",
       "  <thead>\n",
       "    <tr style=\"text-align: right;\">\n",
       "      <th></th>\n",
       "      <th>date</th>\n",
       "      <th>primary_cleaner.input.sulfate</th>\n",
       "      <th>primary_cleaner.input.depressant</th>\n",
       "      <th>primary_cleaner.input.feed_size</th>\n",
       "      <th>primary_cleaner.input.xanthate</th>\n",
       "      <th>primary_cleaner.state.floatbank8_a_air</th>\n",
       "      <th>primary_cleaner.state.floatbank8_a_level</th>\n",
       "      <th>primary_cleaner.state.floatbank8_b_air</th>\n",
       "      <th>primary_cleaner.state.floatbank8_b_level</th>\n",
       "      <th>primary_cleaner.state.floatbank8_c_air</th>\n",
       "      <th>...</th>\n",
       "      <th>secondary_cleaner.state.floatbank4_a_air</th>\n",
       "      <th>secondary_cleaner.state.floatbank4_a_level</th>\n",
       "      <th>secondary_cleaner.state.floatbank4_b_air</th>\n",
       "      <th>secondary_cleaner.state.floatbank4_b_level</th>\n",
       "      <th>secondary_cleaner.state.floatbank5_a_air</th>\n",
       "      <th>secondary_cleaner.state.floatbank5_a_level</th>\n",
       "      <th>secondary_cleaner.state.floatbank5_b_air</th>\n",
       "      <th>secondary_cleaner.state.floatbank5_b_level</th>\n",
       "      <th>secondary_cleaner.state.floatbank6_a_air</th>\n",
       "      <th>secondary_cleaner.state.floatbank6_a_level</th>\n",
       "    </tr>\n",
       "  </thead>\n",
       "  <tbody>\n",
       "    <tr>\n",
       "      <th>0</th>\n",
       "      <td>2016-09-01 00:59:59</td>\n",
       "      <td>210.800909</td>\n",
       "      <td>14.993118</td>\n",
       "      <td>8.080000</td>\n",
       "      <td>1.005021</td>\n",
       "      <td>1398.981301</td>\n",
       "      <td>-500.225577</td>\n",
       "      <td>1399.144926</td>\n",
       "      <td>-499.919735</td>\n",
       "      <td>1400.102998</td>\n",
       "      <td>...</td>\n",
       "      <td>12.023554</td>\n",
       "      <td>-497.795834</td>\n",
       "      <td>8.016656</td>\n",
       "      <td>-501.289139</td>\n",
       "      <td>7.946562</td>\n",
       "      <td>-432.317850</td>\n",
       "      <td>4.872511</td>\n",
       "      <td>-500.037437</td>\n",
       "      <td>26.705889</td>\n",
       "      <td>-499.709414</td>\n",
       "    </tr>\n",
       "    <tr>\n",
       "      <th>1</th>\n",
       "      <td>2016-09-01 01:59:59</td>\n",
       "      <td>215.392455</td>\n",
       "      <td>14.987471</td>\n",
       "      <td>8.080000</td>\n",
       "      <td>0.990469</td>\n",
       "      <td>1398.777912</td>\n",
       "      <td>-500.057435</td>\n",
       "      <td>1398.055362</td>\n",
       "      <td>-499.778182</td>\n",
       "      <td>1396.151033</td>\n",
       "      <td>...</td>\n",
       "      <td>12.058140</td>\n",
       "      <td>-498.695773</td>\n",
       "      <td>8.130979</td>\n",
       "      <td>-499.634209</td>\n",
       "      <td>7.958270</td>\n",
       "      <td>-525.839648</td>\n",
       "      <td>4.878850</td>\n",
       "      <td>-500.162375</td>\n",
       "      <td>25.019940</td>\n",
       "      <td>-499.819438</td>\n",
       "    </tr>\n",
       "    <tr>\n",
       "      <th>2</th>\n",
       "      <td>2016-09-01 02:59:59</td>\n",
       "      <td>215.259946</td>\n",
       "      <td>12.884934</td>\n",
       "      <td>7.786667</td>\n",
       "      <td>0.996043</td>\n",
       "      <td>1398.493666</td>\n",
       "      <td>-500.868360</td>\n",
       "      <td>1398.860436</td>\n",
       "      <td>-499.764529</td>\n",
       "      <td>1398.075709</td>\n",
       "      <td>...</td>\n",
       "      <td>11.962366</td>\n",
       "      <td>-498.767484</td>\n",
       "      <td>8.096893</td>\n",
       "      <td>-500.827423</td>\n",
       "      <td>8.071056</td>\n",
       "      <td>-500.801673</td>\n",
       "      <td>4.905125</td>\n",
       "      <td>-499.828510</td>\n",
       "      <td>24.994862</td>\n",
       "      <td>-500.622559</td>\n",
       "    </tr>\n",
       "    <tr>\n",
       "      <th>3</th>\n",
       "      <td>2016-09-01 03:59:59</td>\n",
       "      <td>215.336236</td>\n",
       "      <td>12.006805</td>\n",
       "      <td>7.640000</td>\n",
       "      <td>0.863514</td>\n",
       "      <td>1399.618111</td>\n",
       "      <td>-498.863574</td>\n",
       "      <td>1397.440120</td>\n",
       "      <td>-499.211024</td>\n",
       "      <td>1400.129303</td>\n",
       "      <td>...</td>\n",
       "      <td>12.033091</td>\n",
       "      <td>-498.350935</td>\n",
       "      <td>8.074946</td>\n",
       "      <td>-499.474407</td>\n",
       "      <td>7.897085</td>\n",
       "      <td>-500.868509</td>\n",
       "      <td>4.931400</td>\n",
       "      <td>-499.963623</td>\n",
       "      <td>24.948919</td>\n",
       "      <td>-498.709987</td>\n",
       "    </tr>\n",
       "    <tr>\n",
       "      <th>4</th>\n",
       "      <td>2016-09-01 04:59:59</td>\n",
       "      <td>199.099327</td>\n",
       "      <td>10.682530</td>\n",
       "      <td>7.530000</td>\n",
       "      <td>0.805575</td>\n",
       "      <td>1401.268123</td>\n",
       "      <td>-500.808305</td>\n",
       "      <td>1398.128818</td>\n",
       "      <td>-499.504543</td>\n",
       "      <td>1402.172226</td>\n",
       "      <td>...</td>\n",
       "      <td>12.025367</td>\n",
       "      <td>-500.786497</td>\n",
       "      <td>8.054678</td>\n",
       "      <td>-500.397500</td>\n",
       "      <td>8.107890</td>\n",
       "      <td>-509.526725</td>\n",
       "      <td>4.957674</td>\n",
       "      <td>-500.360026</td>\n",
       "      <td>25.003331</td>\n",
       "      <td>-500.856333</td>\n",
       "    </tr>\n",
       "  </tbody>\n",
       "</table>\n",
       "<p>5 rows × 53 columns</p>\n",
       "</div>"
      ],
      "text/plain": [
       "                  date  primary_cleaner.input.sulfate  \\\n",
       "0  2016-09-01 00:59:59                     210.800909   \n",
       "1  2016-09-01 01:59:59                     215.392455   \n",
       "2  2016-09-01 02:59:59                     215.259946   \n",
       "3  2016-09-01 03:59:59                     215.336236   \n",
       "4  2016-09-01 04:59:59                     199.099327   \n",
       "\n",
       "   primary_cleaner.input.depressant  primary_cleaner.input.feed_size  \\\n",
       "0                         14.993118                         8.080000   \n",
       "1                         14.987471                         8.080000   \n",
       "2                         12.884934                         7.786667   \n",
       "3                         12.006805                         7.640000   \n",
       "4                         10.682530                         7.530000   \n",
       "\n",
       "   primary_cleaner.input.xanthate  primary_cleaner.state.floatbank8_a_air  \\\n",
       "0                        1.005021                             1398.981301   \n",
       "1                        0.990469                             1398.777912   \n",
       "2                        0.996043                             1398.493666   \n",
       "3                        0.863514                             1399.618111   \n",
       "4                        0.805575                             1401.268123   \n",
       "\n",
       "   primary_cleaner.state.floatbank8_a_level  \\\n",
       "0                               -500.225577   \n",
       "1                               -500.057435   \n",
       "2                               -500.868360   \n",
       "3                               -498.863574   \n",
       "4                               -500.808305   \n",
       "\n",
       "   primary_cleaner.state.floatbank8_b_air  \\\n",
       "0                             1399.144926   \n",
       "1                             1398.055362   \n",
       "2                             1398.860436   \n",
       "3                             1397.440120   \n",
       "4                             1398.128818   \n",
       "\n",
       "   primary_cleaner.state.floatbank8_b_level  \\\n",
       "0                               -499.919735   \n",
       "1                               -499.778182   \n",
       "2                               -499.764529   \n",
       "3                               -499.211024   \n",
       "4                               -499.504543   \n",
       "\n",
       "   primary_cleaner.state.floatbank8_c_air  ...  \\\n",
       "0                             1400.102998  ...   \n",
       "1                             1396.151033  ...   \n",
       "2                             1398.075709  ...   \n",
       "3                             1400.129303  ...   \n",
       "4                             1402.172226  ...   \n",
       "\n",
       "   secondary_cleaner.state.floatbank4_a_air  \\\n",
       "0                                 12.023554   \n",
       "1                                 12.058140   \n",
       "2                                 11.962366   \n",
       "3                                 12.033091   \n",
       "4                                 12.025367   \n",
       "\n",
       "   secondary_cleaner.state.floatbank4_a_level  \\\n",
       "0                                 -497.795834   \n",
       "1                                 -498.695773   \n",
       "2                                 -498.767484   \n",
       "3                                 -498.350935   \n",
       "4                                 -500.786497   \n",
       "\n",
       "   secondary_cleaner.state.floatbank4_b_air  \\\n",
       "0                                  8.016656   \n",
       "1                                  8.130979   \n",
       "2                                  8.096893   \n",
       "3                                  8.074946   \n",
       "4                                  8.054678   \n",
       "\n",
       "   secondary_cleaner.state.floatbank4_b_level  \\\n",
       "0                                 -501.289139   \n",
       "1                                 -499.634209   \n",
       "2                                 -500.827423   \n",
       "3                                 -499.474407   \n",
       "4                                 -500.397500   \n",
       "\n",
       "   secondary_cleaner.state.floatbank5_a_air  \\\n",
       "0                                  7.946562   \n",
       "1                                  7.958270   \n",
       "2                                  8.071056   \n",
       "3                                  7.897085   \n",
       "4                                  8.107890   \n",
       "\n",
       "   secondary_cleaner.state.floatbank5_a_level  \\\n",
       "0                                 -432.317850   \n",
       "1                                 -525.839648   \n",
       "2                                 -500.801673   \n",
       "3                                 -500.868509   \n",
       "4                                 -509.526725   \n",
       "\n",
       "   secondary_cleaner.state.floatbank5_b_air  \\\n",
       "0                                  4.872511   \n",
       "1                                  4.878850   \n",
       "2                                  4.905125   \n",
       "3                                  4.931400   \n",
       "4                                  4.957674   \n",
       "\n",
       "   secondary_cleaner.state.floatbank5_b_level  \\\n",
       "0                                 -500.037437   \n",
       "1                                 -500.162375   \n",
       "2                                 -499.828510   \n",
       "3                                 -499.963623   \n",
       "4                                 -500.360026   \n",
       "\n",
       "   secondary_cleaner.state.floatbank6_a_air  \\\n",
       "0                                 26.705889   \n",
       "1                                 25.019940   \n",
       "2                                 24.994862   \n",
       "3                                 24.948919   \n",
       "4                                 25.003331   \n",
       "\n",
       "   secondary_cleaner.state.floatbank6_a_level  \n",
       "0                                 -499.709414  \n",
       "1                                 -499.819438  \n",
       "2                                 -500.622559  \n",
       "3                                 -498.709987  \n",
       "4                                 -500.856333  \n",
       "\n",
       "[5 rows x 53 columns]"
      ]
     },
     "execution_count": 9,
     "metadata": {},
     "output_type": "execute_result"
    }
   ],
   "source": [
    "data_test=pd.read_csv('/datasets/gold_recovery_test_new.csv')\n",
    "data_test.head()"
   ]
  },
  {
   "cell_type": "code",
   "execution_count": 10,
   "metadata": {
    "scrolled": true
   },
   "outputs": [
    {
     "name": "stdout",
     "output_type": "stream",
     "text": [
      "<class 'pandas.core.frame.DataFrame'>\n",
      "RangeIndex: 5290 entries, 0 to 5289\n",
      "Data columns (total 53 columns):\n",
      " #   Column                                      Non-Null Count  Dtype  \n",
      "---  ------                                      --------------  -----  \n",
      " 0   date                                        5290 non-null   object \n",
      " 1   primary_cleaner.input.sulfate               5286 non-null   float64\n",
      " 2   primary_cleaner.input.depressant            5285 non-null   float64\n",
      " 3   primary_cleaner.input.feed_size             5290 non-null   float64\n",
      " 4   primary_cleaner.input.xanthate              5286 non-null   float64\n",
      " 5   primary_cleaner.state.floatbank8_a_air      5290 non-null   float64\n",
      " 6   primary_cleaner.state.floatbank8_a_level    5290 non-null   float64\n",
      " 7   primary_cleaner.state.floatbank8_b_air      5290 non-null   float64\n",
      " 8   primary_cleaner.state.floatbank8_b_level    5290 non-null   float64\n",
      " 9   primary_cleaner.state.floatbank8_c_air      5290 non-null   float64\n",
      " 10  primary_cleaner.state.floatbank8_c_level    5290 non-null   float64\n",
      " 11  primary_cleaner.state.floatbank8_d_air      5290 non-null   float64\n",
      " 12  primary_cleaner.state.floatbank8_d_level    5290 non-null   float64\n",
      " 13  rougher.input.feed_ag                       5290 non-null   float64\n",
      " 14  rougher.input.feed_pb                       5290 non-null   float64\n",
      " 15  rougher.input.feed_rate                     5287 non-null   float64\n",
      " 16  rougher.input.feed_size                     5289 non-null   float64\n",
      " 17  rougher.input.feed_sol                      5269 non-null   float64\n",
      " 18  rougher.input.feed_au                       5290 non-null   float64\n",
      " 19  rougher.input.floatbank10_sulfate           5285 non-null   float64\n",
      " 20  rougher.input.floatbank10_xanthate          5290 non-null   float64\n",
      " 21  rougher.input.floatbank11_sulfate           5282 non-null   float64\n",
      " 22  rougher.input.floatbank11_xanthate          5265 non-null   float64\n",
      " 23  rougher.state.floatbank10_a_air             5290 non-null   float64\n",
      " 24  rougher.state.floatbank10_a_level           5290 non-null   float64\n",
      " 25  rougher.state.floatbank10_b_air             5290 non-null   float64\n",
      " 26  rougher.state.floatbank10_b_level           5290 non-null   float64\n",
      " 27  rougher.state.floatbank10_c_air             5290 non-null   float64\n",
      " 28  rougher.state.floatbank10_c_level           5290 non-null   float64\n",
      " 29  rougher.state.floatbank10_d_air             5290 non-null   float64\n",
      " 30  rougher.state.floatbank10_d_level           5290 non-null   float64\n",
      " 31  rougher.state.floatbank10_e_air             5290 non-null   float64\n",
      " 32  rougher.state.floatbank10_e_level           5290 non-null   float64\n",
      " 33  rougher.state.floatbank10_f_air             5290 non-null   float64\n",
      " 34  rougher.state.floatbank10_f_level           5290 non-null   float64\n",
      " 35  secondary_cleaner.state.floatbank2_a_air    5287 non-null   float64\n",
      " 36  secondary_cleaner.state.floatbank2_a_level  5290 non-null   float64\n",
      " 37  secondary_cleaner.state.floatbank2_b_air    5288 non-null   float64\n",
      " 38  secondary_cleaner.state.floatbank2_b_level  5290 non-null   float64\n",
      " 39  secondary_cleaner.state.floatbank3_a_air    5281 non-null   float64\n",
      " 40  secondary_cleaner.state.floatbank3_a_level  5290 non-null   float64\n",
      " 41  secondary_cleaner.state.floatbank3_b_air    5290 non-null   float64\n",
      " 42  secondary_cleaner.state.floatbank3_b_level  5290 non-null   float64\n",
      " 43  secondary_cleaner.state.floatbank4_a_air    5290 non-null   float64\n",
      " 44  secondary_cleaner.state.floatbank4_a_level  5290 non-null   float64\n",
      " 45  secondary_cleaner.state.floatbank4_b_air    5290 non-null   float64\n",
      " 46  secondary_cleaner.state.floatbank4_b_level  5290 non-null   float64\n",
      " 47  secondary_cleaner.state.floatbank5_a_air    5290 non-null   float64\n",
      " 48  secondary_cleaner.state.floatbank5_a_level  5290 non-null   float64\n",
      " 49  secondary_cleaner.state.floatbank5_b_air    5290 non-null   float64\n",
      " 50  secondary_cleaner.state.floatbank5_b_level  5290 non-null   float64\n",
      " 51  secondary_cleaner.state.floatbank6_a_air    5290 non-null   float64\n",
      " 52  secondary_cleaner.state.floatbank6_a_level  5290 non-null   float64\n",
      "dtypes: float64(52), object(1)\n",
      "memory usage: 2.1+ MB\n"
     ]
    }
   ],
   "source": [
    "data_test.info()"
   ]
  },
  {
   "cell_type": "code",
   "execution_count": 11,
   "metadata": {},
   "outputs": [],
   "source": [
    "data_test['date']= pd.to_datetime(data_test['date'], format='%Y.%m.%d %H:%M:%S')"
   ]
  },
  {
   "cell_type": "code",
   "execution_count": 12,
   "metadata": {},
   "outputs": [
    {
     "data": {
      "text/plain": [
       "date                                           0\n",
       "primary_cleaner.input.sulfate                  4\n",
       "primary_cleaner.input.depressant               5\n",
       "primary_cleaner.input.feed_size                0\n",
       "primary_cleaner.input.xanthate                 4\n",
       "primary_cleaner.state.floatbank8_a_air         0\n",
       "primary_cleaner.state.floatbank8_a_level       0\n",
       "primary_cleaner.state.floatbank8_b_air         0\n",
       "primary_cleaner.state.floatbank8_b_level       0\n",
       "primary_cleaner.state.floatbank8_c_air         0\n",
       "primary_cleaner.state.floatbank8_c_level       0\n",
       "primary_cleaner.state.floatbank8_d_air         0\n",
       "primary_cleaner.state.floatbank8_d_level       0\n",
       "rougher.input.feed_ag                          0\n",
       "rougher.input.feed_pb                          0\n",
       "rougher.input.feed_rate                        3\n",
       "rougher.input.feed_size                        1\n",
       "rougher.input.feed_sol                        21\n",
       "rougher.input.feed_au                          0\n",
       "rougher.input.floatbank10_sulfate              5\n",
       "rougher.input.floatbank10_xanthate             0\n",
       "rougher.input.floatbank11_sulfate              8\n",
       "rougher.input.floatbank11_xanthate            25\n",
       "rougher.state.floatbank10_a_air                0\n",
       "rougher.state.floatbank10_a_level              0\n",
       "rougher.state.floatbank10_b_air                0\n",
       "rougher.state.floatbank10_b_level              0\n",
       "rougher.state.floatbank10_c_air                0\n",
       "rougher.state.floatbank10_c_level              0\n",
       "rougher.state.floatbank10_d_air                0\n",
       "rougher.state.floatbank10_d_level              0\n",
       "rougher.state.floatbank10_e_air                0\n",
       "rougher.state.floatbank10_e_level              0\n",
       "rougher.state.floatbank10_f_air                0\n",
       "rougher.state.floatbank10_f_level              0\n",
       "secondary_cleaner.state.floatbank2_a_air       3\n",
       "secondary_cleaner.state.floatbank2_a_level     0\n",
       "secondary_cleaner.state.floatbank2_b_air       2\n",
       "secondary_cleaner.state.floatbank2_b_level     0\n",
       "secondary_cleaner.state.floatbank3_a_air       9\n",
       "secondary_cleaner.state.floatbank3_a_level     0\n",
       "secondary_cleaner.state.floatbank3_b_air       0\n",
       "secondary_cleaner.state.floatbank3_b_level     0\n",
       "secondary_cleaner.state.floatbank4_a_air       0\n",
       "secondary_cleaner.state.floatbank4_a_level     0\n",
       "secondary_cleaner.state.floatbank4_b_air       0\n",
       "secondary_cleaner.state.floatbank4_b_level     0\n",
       "secondary_cleaner.state.floatbank5_a_air       0\n",
       "secondary_cleaner.state.floatbank5_a_level     0\n",
       "secondary_cleaner.state.floatbank5_b_air       0\n",
       "secondary_cleaner.state.floatbank5_b_level     0\n",
       "secondary_cleaner.state.floatbank6_a_air       0\n",
       "secondary_cleaner.state.floatbank6_a_level     0\n",
       "dtype: int64"
      ]
     },
     "execution_count": 12,
     "metadata": {},
     "output_type": "execute_result"
    }
   ],
   "source": [
    "data_test.isna().sum()"
   ]
  },
  {
   "cell_type": "code",
   "execution_count": 13,
   "metadata": {},
   "outputs": [
    {
     "data": {
      "text/plain": [
       "0"
      ]
     },
     "execution_count": 13,
     "metadata": {},
     "output_type": "execute_result"
    }
   ],
   "source": [
    "data_test = data_test.fillna(method='ffill')\n",
    "data_test.isna().sum().sum()"
   ]
  },
  {
   "cell_type": "code",
   "execution_count": 14,
   "metadata": {},
   "outputs": [
    {
     "name": "stdout",
     "output_type": "stream",
     "text": [
      "Количество дубликатов в тестовой выборке: 0\n"
     ]
    }
   ],
   "source": [
    "print('Количество дубликатов в тестовой выборке:', data_test.duplicated().sum())"
   ]
  },
  {
   "cell_type": "code",
   "execution_count": 15,
   "metadata": {},
   "outputs": [
    {
     "data": {
      "text/html": [
       "<div>\n",
       "<style scoped>\n",
       "    .dataframe tbody tr th:only-of-type {\n",
       "        vertical-align: middle;\n",
       "    }\n",
       "\n",
       "    .dataframe tbody tr th {\n",
       "        vertical-align: top;\n",
       "    }\n",
       "\n",
       "    .dataframe thead th {\n",
       "        text-align: right;\n",
       "    }\n",
       "</style>\n",
       "<table border=\"1\" class=\"dataframe\">\n",
       "  <thead>\n",
       "    <tr style=\"text-align: right;\">\n",
       "      <th></th>\n",
       "      <th>date</th>\n",
       "      <th>final.output.concentrate_ag</th>\n",
       "      <th>final.output.concentrate_pb</th>\n",
       "      <th>final.output.concentrate_sol</th>\n",
       "      <th>final.output.concentrate_au</th>\n",
       "      <th>final.output.recovery</th>\n",
       "      <th>final.output.tail_ag</th>\n",
       "      <th>final.output.tail_pb</th>\n",
       "      <th>final.output.tail_sol</th>\n",
       "      <th>final.output.tail_au</th>\n",
       "      <th>...</th>\n",
       "      <th>secondary_cleaner.state.floatbank4_a_air</th>\n",
       "      <th>secondary_cleaner.state.floatbank4_a_level</th>\n",
       "      <th>secondary_cleaner.state.floatbank4_b_air</th>\n",
       "      <th>secondary_cleaner.state.floatbank4_b_level</th>\n",
       "      <th>secondary_cleaner.state.floatbank5_a_air</th>\n",
       "      <th>secondary_cleaner.state.floatbank5_a_level</th>\n",
       "      <th>secondary_cleaner.state.floatbank5_b_air</th>\n",
       "      <th>secondary_cleaner.state.floatbank5_b_level</th>\n",
       "      <th>secondary_cleaner.state.floatbank6_a_air</th>\n",
       "      <th>secondary_cleaner.state.floatbank6_a_level</th>\n",
       "    </tr>\n",
       "  </thead>\n",
       "  <tbody>\n",
       "    <tr>\n",
       "      <th>0</th>\n",
       "      <td>2016-01-15 00:00:00</td>\n",
       "      <td>6.055403</td>\n",
       "      <td>9.889648</td>\n",
       "      <td>5.507324</td>\n",
       "      <td>42.192020</td>\n",
       "      <td>70.541216</td>\n",
       "      <td>10.411962</td>\n",
       "      <td>0.895447</td>\n",
       "      <td>16.904297</td>\n",
       "      <td>2.143149</td>\n",
       "      <td>...</td>\n",
       "      <td>14.016835</td>\n",
       "      <td>-502.488007</td>\n",
       "      <td>12.099931</td>\n",
       "      <td>-504.715942</td>\n",
       "      <td>9.925633</td>\n",
       "      <td>-498.310211</td>\n",
       "      <td>8.079666</td>\n",
       "      <td>-500.470978</td>\n",
       "      <td>14.151341</td>\n",
       "      <td>-605.841980</td>\n",
       "    </tr>\n",
       "    <tr>\n",
       "      <th>1</th>\n",
       "      <td>2016-01-15 01:00:00</td>\n",
       "      <td>6.029369</td>\n",
       "      <td>9.968944</td>\n",
       "      <td>5.257781</td>\n",
       "      <td>42.701629</td>\n",
       "      <td>69.266198</td>\n",
       "      <td>10.462676</td>\n",
       "      <td>0.927452</td>\n",
       "      <td>16.634514</td>\n",
       "      <td>2.224930</td>\n",
       "      <td>...</td>\n",
       "      <td>13.992281</td>\n",
       "      <td>-505.503262</td>\n",
       "      <td>11.950531</td>\n",
       "      <td>-501.331529</td>\n",
       "      <td>10.039245</td>\n",
       "      <td>-500.169983</td>\n",
       "      <td>7.984757</td>\n",
       "      <td>-500.582168</td>\n",
       "      <td>13.998353</td>\n",
       "      <td>-599.787184</td>\n",
       "    </tr>\n",
       "    <tr>\n",
       "      <th>2</th>\n",
       "      <td>2016-01-15 02:00:00</td>\n",
       "      <td>6.055926</td>\n",
       "      <td>10.213995</td>\n",
       "      <td>5.383759</td>\n",
       "      <td>42.657501</td>\n",
       "      <td>68.116445</td>\n",
       "      <td>10.507046</td>\n",
       "      <td>0.953716</td>\n",
       "      <td>16.208849</td>\n",
       "      <td>2.257889</td>\n",
       "      <td>...</td>\n",
       "      <td>14.015015</td>\n",
       "      <td>-502.520901</td>\n",
       "      <td>11.912783</td>\n",
       "      <td>-501.133383</td>\n",
       "      <td>10.070913</td>\n",
       "      <td>-500.129135</td>\n",
       "      <td>8.013877</td>\n",
       "      <td>-500.517572</td>\n",
       "      <td>14.028663</td>\n",
       "      <td>-601.427363</td>\n",
       "    </tr>\n",
       "    <tr>\n",
       "      <th>3</th>\n",
       "      <td>2016-01-15 03:00:00</td>\n",
       "      <td>6.047977</td>\n",
       "      <td>9.977019</td>\n",
       "      <td>4.858634</td>\n",
       "      <td>42.689819</td>\n",
       "      <td>68.347543</td>\n",
       "      <td>10.422762</td>\n",
       "      <td>0.883763</td>\n",
       "      <td>16.532835</td>\n",
       "      <td>2.146849</td>\n",
       "      <td>...</td>\n",
       "      <td>14.036510</td>\n",
       "      <td>-500.857308</td>\n",
       "      <td>11.999550</td>\n",
       "      <td>-501.193686</td>\n",
       "      <td>9.970366</td>\n",
       "      <td>-499.201640</td>\n",
       "      <td>7.977324</td>\n",
       "      <td>-500.255908</td>\n",
       "      <td>14.005551</td>\n",
       "      <td>-599.996129</td>\n",
       "    </tr>\n",
       "    <tr>\n",
       "      <th>4</th>\n",
       "      <td>2016-01-15 04:00:00</td>\n",
       "      <td>6.148599</td>\n",
       "      <td>10.142511</td>\n",
       "      <td>4.939416</td>\n",
       "      <td>42.774141</td>\n",
       "      <td>66.927016</td>\n",
       "      <td>10.360302</td>\n",
       "      <td>0.792826</td>\n",
       "      <td>16.525686</td>\n",
       "      <td>2.055292</td>\n",
       "      <td>...</td>\n",
       "      <td>14.027298</td>\n",
       "      <td>-499.838632</td>\n",
       "      <td>11.953070</td>\n",
       "      <td>-501.053894</td>\n",
       "      <td>9.925709</td>\n",
       "      <td>-501.686727</td>\n",
       "      <td>7.894242</td>\n",
       "      <td>-500.356035</td>\n",
       "      <td>13.996647</td>\n",
       "      <td>-601.496691</td>\n",
       "    </tr>\n",
       "  </tbody>\n",
       "</table>\n",
       "<p>5 rows × 87 columns</p>\n",
       "</div>"
      ],
      "text/plain": [
       "                  date  final.output.concentrate_ag  \\\n",
       "0  2016-01-15 00:00:00                     6.055403   \n",
       "1  2016-01-15 01:00:00                     6.029369   \n",
       "2  2016-01-15 02:00:00                     6.055926   \n",
       "3  2016-01-15 03:00:00                     6.047977   \n",
       "4  2016-01-15 04:00:00                     6.148599   \n",
       "\n",
       "   final.output.concentrate_pb  final.output.concentrate_sol  \\\n",
       "0                     9.889648                      5.507324   \n",
       "1                     9.968944                      5.257781   \n",
       "2                    10.213995                      5.383759   \n",
       "3                     9.977019                      4.858634   \n",
       "4                    10.142511                      4.939416   \n",
       "\n",
       "   final.output.concentrate_au  final.output.recovery  final.output.tail_ag  \\\n",
       "0                    42.192020              70.541216             10.411962   \n",
       "1                    42.701629              69.266198             10.462676   \n",
       "2                    42.657501              68.116445             10.507046   \n",
       "3                    42.689819              68.347543             10.422762   \n",
       "4                    42.774141              66.927016             10.360302   \n",
       "\n",
       "   final.output.tail_pb  final.output.tail_sol  final.output.tail_au  ...  \\\n",
       "0              0.895447              16.904297              2.143149  ...   \n",
       "1              0.927452              16.634514              2.224930  ...   \n",
       "2              0.953716              16.208849              2.257889  ...   \n",
       "3              0.883763              16.532835              2.146849  ...   \n",
       "4              0.792826              16.525686              2.055292  ...   \n",
       "\n",
       "   secondary_cleaner.state.floatbank4_a_air  \\\n",
       "0                                 14.016835   \n",
       "1                                 13.992281   \n",
       "2                                 14.015015   \n",
       "3                                 14.036510   \n",
       "4                                 14.027298   \n",
       "\n",
       "   secondary_cleaner.state.floatbank4_a_level  \\\n",
       "0                                 -502.488007   \n",
       "1                                 -505.503262   \n",
       "2                                 -502.520901   \n",
       "3                                 -500.857308   \n",
       "4                                 -499.838632   \n",
       "\n",
       "   secondary_cleaner.state.floatbank4_b_air  \\\n",
       "0                                 12.099931   \n",
       "1                                 11.950531   \n",
       "2                                 11.912783   \n",
       "3                                 11.999550   \n",
       "4                                 11.953070   \n",
       "\n",
       "   secondary_cleaner.state.floatbank4_b_level  \\\n",
       "0                                 -504.715942   \n",
       "1                                 -501.331529   \n",
       "2                                 -501.133383   \n",
       "3                                 -501.193686   \n",
       "4                                 -501.053894   \n",
       "\n",
       "   secondary_cleaner.state.floatbank5_a_air  \\\n",
       "0                                  9.925633   \n",
       "1                                 10.039245   \n",
       "2                                 10.070913   \n",
       "3                                  9.970366   \n",
       "4                                  9.925709   \n",
       "\n",
       "   secondary_cleaner.state.floatbank5_a_level  \\\n",
       "0                                 -498.310211   \n",
       "1                                 -500.169983   \n",
       "2                                 -500.129135   \n",
       "3                                 -499.201640   \n",
       "4                                 -501.686727   \n",
       "\n",
       "   secondary_cleaner.state.floatbank5_b_air  \\\n",
       "0                                  8.079666   \n",
       "1                                  7.984757   \n",
       "2                                  8.013877   \n",
       "3                                  7.977324   \n",
       "4                                  7.894242   \n",
       "\n",
       "   secondary_cleaner.state.floatbank5_b_level  \\\n",
       "0                                 -500.470978   \n",
       "1                                 -500.582168   \n",
       "2                                 -500.517572   \n",
       "3                                 -500.255908   \n",
       "4                                 -500.356035   \n",
       "\n",
       "   secondary_cleaner.state.floatbank6_a_air  \\\n",
       "0                                 14.151341   \n",
       "1                                 13.998353   \n",
       "2                                 14.028663   \n",
       "3                                 14.005551   \n",
       "4                                 13.996647   \n",
       "\n",
       "   secondary_cleaner.state.floatbank6_a_level  \n",
       "0                                 -605.841980  \n",
       "1                                 -599.787184  \n",
       "2                                 -601.427363  \n",
       "3                                 -599.996129  \n",
       "4                                 -601.496691  \n",
       "\n",
       "[5 rows x 87 columns]"
      ]
     },
     "execution_count": 15,
     "metadata": {},
     "output_type": "execute_result"
    }
   ],
   "source": [
    "data= pd.read_csv('/datasets/gold_recovery_full_new.csv')\n",
    "data.head()"
   ]
  },
  {
   "cell_type": "code",
   "execution_count": 16,
   "metadata": {},
   "outputs": [
    {
     "name": "stdout",
     "output_type": "stream",
     "text": [
      "<class 'pandas.core.frame.DataFrame'>\n",
      "RangeIndex: 19439 entries, 0 to 19438\n",
      "Data columns (total 87 columns):\n",
      " #   Column                                              Non-Null Count  Dtype  \n",
      "---  ------                                              --------------  -----  \n",
      " 0   date                                                19439 non-null  object \n",
      " 1   final.output.concentrate_ag                         19438 non-null  float64\n",
      " 2   final.output.concentrate_pb                         19438 non-null  float64\n",
      " 3   final.output.concentrate_sol                        19228 non-null  float64\n",
      " 4   final.output.concentrate_au                         19439 non-null  float64\n",
      " 5   final.output.recovery                               19439 non-null  float64\n",
      " 6   final.output.tail_ag                                19438 non-null  float64\n",
      " 7   final.output.tail_pb                                19338 non-null  float64\n",
      " 8   final.output.tail_sol                               19433 non-null  float64\n",
      " 9   final.output.tail_au                                19439 non-null  float64\n",
      " 10  primary_cleaner.input.sulfate                       19415 non-null  float64\n",
      " 11  primary_cleaner.input.depressant                    19402 non-null  float64\n",
      " 12  primary_cleaner.input.feed_size                     19439 non-null  float64\n",
      " 13  primary_cleaner.input.xanthate                      19335 non-null  float64\n",
      " 14  primary_cleaner.output.concentrate_ag               19439 non-null  float64\n",
      " 15  primary_cleaner.output.concentrate_pb               19323 non-null  float64\n",
      " 16  primary_cleaner.output.concentrate_sol              19069 non-null  float64\n",
      " 17  primary_cleaner.output.concentrate_au               19439 non-null  float64\n",
      " 18  primary_cleaner.output.tail_ag                      19435 non-null  float64\n",
      " 19  primary_cleaner.output.tail_pb                      19418 non-null  float64\n",
      " 20  primary_cleaner.output.tail_sol                     19377 non-null  float64\n",
      " 21  primary_cleaner.output.tail_au                      19439 non-null  float64\n",
      " 22  primary_cleaner.state.floatbank8_a_air              19435 non-null  float64\n",
      " 23  primary_cleaner.state.floatbank8_a_level            19438 non-null  float64\n",
      " 24  primary_cleaner.state.floatbank8_b_air              19435 non-null  float64\n",
      " 25  primary_cleaner.state.floatbank8_b_level            19438 non-null  float64\n",
      " 26  primary_cleaner.state.floatbank8_c_air              19437 non-null  float64\n",
      " 27  primary_cleaner.state.floatbank8_c_level            19438 non-null  float64\n",
      " 28  primary_cleaner.state.floatbank8_d_air              19436 non-null  float64\n",
      " 29  primary_cleaner.state.floatbank8_d_level            19438 non-null  float64\n",
      " 30  rougher.calculation.sulfate_to_au_concentrate       19437 non-null  float64\n",
      " 31  rougher.calculation.floatbank10_sulfate_to_au_feed  19437 non-null  float64\n",
      " 32  rougher.calculation.floatbank11_sulfate_to_au_feed  19437 non-null  float64\n",
      " 33  rougher.calculation.au_pb_ratio                     19439 non-null  float64\n",
      " 34  rougher.input.feed_ag                               19439 non-null  float64\n",
      " 35  rougher.input.feed_pb                               19339 non-null  float64\n",
      " 36  rougher.input.feed_rate                             19428 non-null  float64\n",
      " 37  rougher.input.feed_size                             19294 non-null  float64\n",
      " 38  rougher.input.feed_sol                              19340 non-null  float64\n",
      " 39  rougher.input.feed_au                               19439 non-null  float64\n",
      " 40  rougher.input.floatbank10_sulfate                   19405 non-null  float64\n",
      " 41  rougher.input.floatbank10_xanthate                  19431 non-null  float64\n",
      " 42  rougher.input.floatbank11_sulfate                   19395 non-null  float64\n",
      " 43  rougher.input.floatbank11_xanthate                  18986 non-null  float64\n",
      " 44  rougher.output.concentrate_ag                       19439 non-null  float64\n",
      " 45  rougher.output.concentrate_pb                       19439 non-null  float64\n",
      " 46  rougher.output.concentrate_sol                      19416 non-null  float64\n",
      " 47  rougher.output.concentrate_au                       19439 non-null  float64\n",
      " 48  rougher.output.recovery                             19439 non-null  float64\n",
      " 49  rougher.output.tail_ag                              19438 non-null  float64\n",
      " 50  rougher.output.tail_pb                              19439 non-null  float64\n",
      " 51  rougher.output.tail_sol                             19439 non-null  float64\n",
      " 52  rougher.output.tail_au                              19439 non-null  float64\n",
      " 53  rougher.state.floatbank10_a_air                     19438 non-null  float64\n",
      " 54  rougher.state.floatbank10_a_level                   19438 non-null  float64\n",
      " 55  rougher.state.floatbank10_b_air                     19438 non-null  float64\n",
      " 56  rougher.state.floatbank10_b_level                   19438 non-null  float64\n",
      " 57  rougher.state.floatbank10_c_air                     19438 non-null  float64\n",
      " 58  rougher.state.floatbank10_c_level                   19438 non-null  float64\n",
      " 59  rougher.state.floatbank10_d_air                     19439 non-null  float64\n",
      " 60  rougher.state.floatbank10_d_level                   19439 non-null  float64\n",
      " 61  rougher.state.floatbank10_e_air                     19003 non-null  float64\n",
      " 62  rougher.state.floatbank10_e_level                   19439 non-null  float64\n",
      " 63  rougher.state.floatbank10_f_air                     19439 non-null  float64\n",
      " 64  rougher.state.floatbank10_f_level                   19439 non-null  float64\n",
      " 65  secondary_cleaner.output.tail_ag                    19437 non-null  float64\n",
      " 66  secondary_cleaner.output.tail_pb                    19427 non-null  float64\n",
      " 67  secondary_cleaner.output.tail_sol                   17691 non-null  float64\n",
      " 68  secondary_cleaner.output.tail_au                    19439 non-null  float64\n",
      " 69  secondary_cleaner.state.floatbank2_a_air            19219 non-null  float64\n",
      " 70  secondary_cleaner.state.floatbank2_a_level          19438 non-null  float64\n",
      " 71  secondary_cleaner.state.floatbank2_b_air            19416 non-null  float64\n",
      " 72  secondary_cleaner.state.floatbank2_b_level          19438 non-null  float64\n",
      " 73  secondary_cleaner.state.floatbank3_a_air            19426 non-null  float64\n",
      " 74  secondary_cleaner.state.floatbank3_a_level          19438 non-null  float64\n",
      " 75  secondary_cleaner.state.floatbank3_b_air            19438 non-null  float64\n",
      " 76  secondary_cleaner.state.floatbank3_b_level          19438 non-null  float64\n",
      " 77  secondary_cleaner.state.floatbank4_a_air            19433 non-null  float64\n",
      " 78  secondary_cleaner.state.floatbank4_a_level          19438 non-null  float64\n",
      " 79  secondary_cleaner.state.floatbank4_b_air            19438 non-null  float64\n",
      " 80  secondary_cleaner.state.floatbank4_b_level          19438 non-null  float64\n",
      " 81  secondary_cleaner.state.floatbank5_a_air            19438 non-null  float64\n",
      " 82  secondary_cleaner.state.floatbank5_a_level          19438 non-null  float64\n",
      " 83  secondary_cleaner.state.floatbank5_b_air            19438 non-null  float64\n",
      " 84  secondary_cleaner.state.floatbank5_b_level          19438 non-null  float64\n",
      " 85  secondary_cleaner.state.floatbank6_a_air            19437 non-null  float64\n",
      " 86  secondary_cleaner.state.floatbank6_a_level          19438 non-null  float64\n",
      "dtypes: float64(86), object(1)\n",
      "memory usage: 12.9+ MB\n"
     ]
    }
   ],
   "source": [
    "data.info()"
   ]
  },
  {
   "cell_type": "code",
   "execution_count": 17,
   "metadata": {},
   "outputs": [],
   "source": [
    "data['date']= pd.to_datetime(data['date'], format='%Y.%m.%d %H:%M:%S') "
   ]
  },
  {
   "cell_type": "code",
   "execution_count": 18,
   "metadata": {},
   "outputs": [
    {
     "data": {
      "text/plain": [
       "date                                            0\n",
       "final.output.concentrate_ag                     1\n",
       "final.output.concentrate_pb                     1\n",
       "final.output.concentrate_sol                  211\n",
       "final.output.concentrate_au                     0\n",
       "                                             ... \n",
       "secondary_cleaner.state.floatbank5_a_level      1\n",
       "secondary_cleaner.state.floatbank5_b_air        1\n",
       "secondary_cleaner.state.floatbank5_b_level      1\n",
       "secondary_cleaner.state.floatbank6_a_air        2\n",
       "secondary_cleaner.state.floatbank6_a_level      1\n",
       "Length: 87, dtype: int64"
      ]
     },
     "execution_count": 18,
     "metadata": {},
     "output_type": "execute_result"
    }
   ],
   "source": [
    "data.isna().sum() "
   ]
  },
  {
   "cell_type": "code",
   "execution_count": 19,
   "metadata": {},
   "outputs": [
    {
     "data": {
      "text/plain": [
       "0"
      ]
     },
     "execution_count": 19,
     "metadata": {},
     "output_type": "execute_result"
    }
   ],
   "source": [
    "data = data.fillna(method='ffill') \n",
    "data.isna().sum().sum()"
   ]
  },
  {
   "cell_type": "code",
   "execution_count": 20,
   "metadata": {},
   "outputs": [
    {
     "name": "stdout",
     "output_type": "stream",
     "text": [
      "Количество дубликатов в исходных данных: 0\n"
     ]
    }
   ],
   "source": [
    "print('Количество дубликатов в исходных данных:', data.duplicated().sum())"
   ]
  },
  {
   "cell_type": "markdown",
   "metadata": {},
   "source": [
    "<div class=\"alert alert-info\"> Все таблицы проверила на количество дубликатов, дубоикатов 0. Также выбрала выбрала стратегию заполнения пропусков близлежайшими значениями, поскольку по условиям задачи, говорится что значения по времени параметры часто похожи"
   ]
  },
  {
   "cell_type": "markdown",
   "metadata": {},
   "source": [
    "*1.1* Нам даны данные, которые изначально разделены на две выборки :обучающую и тестову. В исходных данных и обучающей выборке одинаковое количество признаков - 87. В тестовой выборке 53 признака. Тип объектов float, у столбца date тип object поменяла его на datetime. Также есть пропуски, которые необходимо обработать. Так как соседние параметры по времени часто похожи, то пропуски заполню схожими параметрами."
   ]
  },
  {
   "cell_type": "code",
   "execution_count": 21,
   "metadata": {},
   "outputs": [
    {
     "name": "stdout",
     "output_type": "stream",
     "text": [
      "MAE: 2.1779764378612226e-28\n"
     ]
    }
   ],
   "source": [
    "c=data_train['rougher.output.concentrate_au'] \n",
    "f=data_train['rougher.input.feed_au'] \n",
    "t=data_train['rougher.output.tail_au'] \n",
    "recovery=((c*(f-t))/(f*(c-t)))*100 \n",
    "print('MAE:',mean_squared_error(data_train['rougher.output.recovery'], recovery))"
   ]
  },
  {
   "cell_type": "markdown",
   "metadata": {},
   "source": [
    "*1.2* Средняя абсолютная ошибка очень мала и стремится к нулю, соответственно расчеты верны и расчеты почти совпадают с признаком."
   ]
  },
  {
   "cell_type": "code",
   "execution_count": 22,
   "metadata": {},
   "outputs": [
    {
     "name": "stdout",
     "output_type": "stream",
     "text": [
      "Количество отсутствующих признаков в тестовой выборке 34\n"
     ]
    },
    {
     "data": {
      "text/plain": [
       "{'final.output.concentrate_ag',\n",
       " 'final.output.concentrate_au',\n",
       " 'final.output.concentrate_pb',\n",
       " 'final.output.concentrate_sol',\n",
       " 'final.output.recovery',\n",
       " 'final.output.tail_ag',\n",
       " 'final.output.tail_au',\n",
       " 'final.output.tail_pb',\n",
       " 'final.output.tail_sol',\n",
       " 'primary_cleaner.output.concentrate_ag',\n",
       " 'primary_cleaner.output.concentrate_au',\n",
       " 'primary_cleaner.output.concentrate_pb',\n",
       " 'primary_cleaner.output.concentrate_sol',\n",
       " 'primary_cleaner.output.tail_ag',\n",
       " 'primary_cleaner.output.tail_au',\n",
       " 'primary_cleaner.output.tail_pb',\n",
       " 'primary_cleaner.output.tail_sol',\n",
       " 'rougher.calculation.au_pb_ratio',\n",
       " 'rougher.calculation.floatbank10_sulfate_to_au_feed',\n",
       " 'rougher.calculation.floatbank11_sulfate_to_au_feed',\n",
       " 'rougher.calculation.sulfate_to_au_concentrate',\n",
       " 'rougher.output.concentrate_ag',\n",
       " 'rougher.output.concentrate_au',\n",
       " 'rougher.output.concentrate_pb',\n",
       " 'rougher.output.concentrate_sol',\n",
       " 'rougher.output.recovery',\n",
       " 'rougher.output.tail_ag',\n",
       " 'rougher.output.tail_au',\n",
       " 'rougher.output.tail_pb',\n",
       " 'rougher.output.tail_sol',\n",
       " 'secondary_cleaner.output.tail_ag',\n",
       " 'secondary_cleaner.output.tail_au',\n",
       " 'secondary_cleaner.output.tail_pb',\n",
       " 'secondary_cleaner.output.tail_sol'}"
      ]
     },
     "execution_count": 22,
     "metadata": {},
     "output_type": "execute_result"
    }
   ],
   "source": [
    "deleted_features= set(data_train.columns) - set(data_test.columns)\n",
    "print('Количество отсутствующих признаков в тестовой выборке', len(deleted_features))\n",
    "deleted_features"
   ]
  },
  {
   "cell_type": "code",
   "execution_count": 23,
   "metadata": {},
   "outputs": [],
   "source": [
    "data_test= data_test.merge(data[['date', 'rougher.output.recovery', 'final.output.recovery']], on='date', how='left')"
   ]
  },
  {
   "cell_type": "markdown",
   "metadata": {},
   "source": [
    "*1.3* В тестовой выборке не хватает финальных характеристик, параметров продукта после первичной очистки, рачетных характеристик флотации, доля концентрации металлов после флотации  и доля концентрации металлов после второй очистки. Все они принадлежат типу float. Также отсутствуют целевые признаки:'final.output.recovery', 'rougher.output.recovery'. Их надо добавить в тестовую выбурку, они понадобятся для обучения модели. "
   ]
  },
  {
   "cell_type": "markdown",
   "metadata": {},
   "source": [
    "<div class=\"alert alert-info\">  V2. Промежуточный вывод: В процессе подготовки данных, были изучены три датасета :исходные данные, обучающая выборка и тестовая выборка. Тип данных в столбце'date' поменяла с object на datetime, в остаьных столбцах тип данных соответствует. Дубликаты обнаружены не были. Рассчитала mae, и увидела, что эффективность обогащения расчитана правильно. Заметила что в тестовой выборке отсутствуют целевые признаки, добавила их. Также обработала пропуски близлежащими значениями. "
   ]
  },
  {
   "cell_type": "markdown",
   "metadata": {},
   "source": [
    "## Анализ данных"
   ]
  },
  {
   "cell_type": "code",
   "execution_count": 24,
   "metadata": {
    "scrolled": false
   },
   "outputs": [
    {
     "data": {
      "image/png": "[encoded data removed]",
      "text/plain": [
       "<Figure size 432x288 with 1 Axes>"
      ]
     },
     "metadata": {
      "needs_background": "light"
     },
     "output_type": "display_data"
    },
    {
     "data": {
      "image/png": "[encoded data removed]",
      "text/plain": [
       "<Figure size 432x288 with 1 Axes>"
      ]
     },
     "metadata": {
      "needs_background": "light"
     },
     "output_type": "display_data"
    },
    {
     "data": {
      "image/png": "[encoded data removed]",
      "text/plain": [
       "<Figure size 432x288 with 1 Axes>"
      ]
     },
     "metadata": {
      "needs_background": "light"
     },
     "output_type": "display_data"
    }
   ],
   "source": [
    "for metal in ['au', 'ag', 'pb']: # посмотрим как менятся концентрация металлов с помощью гистограмм\n",
    "    fig, axes = plt.subplots()\n",
    "    axes.plot([1, 2, 3], [9, 8, 7])\n",
    "    plt.title(f'Распределение {metal}', fontsize=15)\n",
    "    data[f'rougher.input.feed_{metal}'].hist(bins=80, range=(3, 30),legend=True)\n",
    "    data[f'rougher.output.concentrate_{metal}'].hist(bins=80,legend=True)\n",
    "    data[f'primary_cleaner.output.concentrate_{metal}'].hist(bins=80,legend=True)\n",
    "    data[f'final.output.concentrate_{metal}'].hist(bins=80,legend=True)\n",
    "    plt.xlabel('Концентрация металла')\n",
    "    plt.ylabel('Наблюдения')   "
   ]
  },
  {
   "cell_type": "markdown",
   "metadata": {},
   "source": [
    "*2.1* Для того чтобы посмотреть как менялась концентрация золота, серебра и свинца на различных этапах очистки я построила гистограммы. По ним видно, что концентрация золота на финальном этапе резко увеличивается, на остальных же этапах концентрация практически одинакова. Конценнтрация серебра уменьшается после флотации и достигает минимума на послепервичной очистки. Концентрация же свинца высокая в сыром продукте и резко уменьшается после флотации."
   ]
  },
  {
   "cell_type": "code",
   "execution_count": 25,
   "metadata": {},
   "outputs": [
    {
     "data": {
      "image/png": "[encoded data removed]",
      "text/plain": [
       "<Figure size 432x288 with 1 Axes>"
      ]
     },
     "metadata": {
      "needs_background": "light"
     },
     "output_type": "display_data"
    }
   ],
   "source": [
    "fig, axes = plt.subplots() \n",
    "plt.title(f'Распределение размеров гранул сырья до флотации', fontsize=15)\n",
    "data_train['rougher.input.feed_size'].hist(bins=30, range=(5, 150),legend=True, density=True)\n",
    "data_test['rougher.input.feed_size'].hist(bins=30, range=(5, 150),legend=True, density=True)\n",
    "plt.xlabel('Размеры гранул')\n",
    "plt.ylabel('Количество наблюдений')\n",
    "plt.show()"
   ]
  },
  {
   "cell_type": "code",
   "execution_count": 26,
   "metadata": {},
   "outputs": [
    {
     "data": {
      "image/png": "[encoded data removed]",
      "text/plain": [
       "<Figure size 432x288 with 1 Axes>"
      ]
     },
     "metadata": {
      "needs_background": "light"
     },
     "output_type": "display_data"
    }
   ],
   "source": [
    "fig, axes = plt.subplots() \n",
    "plt.title(f'Распределение размеров гранул сырья до первичной обработки', fontsize=15)\n",
    "data_train['primary_cleaner.input.feed_size'].hist(bins=30, range=(5, 12),legend=True, density=True)\n",
    "data_test['primary_cleaner.input.feed_size'].hist(bins=30, range=(5, 12),legend=True, density=True)\n",
    "plt.xlabel('Размеры гранул')\n",
    "plt.ylabel('Количество наблюдений')\n",
    "plt.show()"
   ]
  },
  {
   "cell_type": "markdown",
   "metadata": {},
   "source": [
    "*2.2* Распределение гранул в обучающей и тестовой выборках похожи"
   ]
  },
  {
   "cell_type": "code",
   "execution_count": 27,
   "metadata": {},
   "outputs": [],
   "source": [
    "data['sum_rougher_input']=data['rougher.input.feed_ag']+data['rougher.input.feed_au']+data['rougher.input.feed_pb']+data['rougher.input.feed_sol']\n",
    "data['sum_rougher_output']=data['rougher.output.concentrate_ag']+data['rougher.output.concentrate_au']+data['rougher.output.concentrate_pb']+data['rougher.output.concentrate_sol']\n",
    "data['sum_final_output']=data['final.output.concentrate_ag']+data['final.output.concentrate_au']+data['final.output.concentrate_pb']+data['final.output.concentrate_sol']"
   ]
  },
  {
   "cell_type": "code",
   "execution_count": 28,
   "metadata": {},
   "outputs": [
    {
     "data": {
      "image/png": "[encoded data removed]",
      "text/plain": [
       "<Figure size 1080x648 with 1 Axes>"
      ]
     },
     "metadata": {
      "needs_background": "light"
     },
     "output_type": "display_data"
    }
   ],
   "source": [
    "plt.figure(figsize=[15, 9])\n",
    "plt.title(f'Суммарная концентрация веществ на разных стадиях', fontsize=15)\n",
    "data['sum_rougher_input'].hist(bins=100,legend=True)\n",
    "data['sum_rougher_output'].hist(bins=100,legend=True)\n",
    "data['sum_final_output'].hist(bins=100,legend=True)\n",
    "plt.xlabel('Концентрация веществ')\n",
    "plt.ylabel('Количество наблюдений')\n",
    "plt.show()"
   ]
  },
  {
   "cell_type": "code",
   "execution_count": 29,
   "metadata": {},
   "outputs": [],
   "source": [
    "data_train = data_train[(data_train['rougher.output.concentrate_au'] != 0) & (data_train['rougher.output.concentrate_ag'] != 0) & (data_train['rougher.output.concentrate_pb'] != 0) & (data_train['rougher.output.concentrate_sol'] != 0)]\n",
    "data_train = data_train[(data_train['final.output.concentrate_au'] != 0) & (data_train['final.output.concentrate_ag'] != 0) & (data_train['final.output.concentrate_pb'] != 0) & (data_train['final.output.concentrate_sol'] != 0)]\n",
    "data = data[(data['rougher.output.concentrate_au'] != 0) & (data['rougher.output.concentrate_ag'] != 0) & (data['rougher.output.concentrate_pb'] != 0) & (data['rougher.output.concentrate_sol'] != 0)]\n",
    "data = data[(data['final.output.concentrate_au'] != 0) & (data['final.output.concentrate_ag'] != 0) & (data['final.output.concentrate_pb'] != 0) & (data['final.output.concentrate_sol'] !=0)]"
   ]
  },
  {
   "cell_type": "code",
   "execution_count": 30,
   "metadata": {},
   "outputs": [
    {
     "data": {
      "image/png": "[encoded data removed]",
      "text/plain": [
       "<Figure size 1080x648 with 1 Axes>"
      ]
     },
     "metadata": {
      "needs_background": "light"
     },
     "output_type": "display_data"
    }
   ],
   "source": [
    "plt.figure(figsize=[15, 9])\n",
    "plt.title(f'Суммарная концентрация веществ на разных стадиях', fontsize=15)\n",
    "data['sum_rougher_input'].hist(bins=100,legend=True)\n",
    "data['sum_rougher_output'].hist(bins=100,legend=True)\n",
    "data['sum_final_output'].hist(bins=100,legend=True)\n",
    "plt.xlabel('Концентрация веществ')\n",
    "plt.ylabel('Количество наблюдений')\n",
    "plt.show()"
   ]
  },
  {
   "cell_type": "markdown",
   "metadata": {},
   "source": [
    "*1.3* Суммарная концентрация сырья уменьшается на финальном этапе"
   ]
  },
  {
   "cell_type": "markdown",
   "metadata": {},
   "source": [
    "При анализе данных были построены несколько графиков, я посмотрела как меняется концентрация золота, серебра и свинца на различных этапах. Анализ показал, что концентрация золота на финальном этапе увеличивается, так и должно быть, ведь мы именно этого и добиваемся. Также распределение гранул в обучающей и тестовой выборках похожи, а значит наша модель долна работать корректно. Также увидела, что в данных есть аномалии(суммарная концентрация веществ равна нулю), удалила эти значения, так как эти данные могут повлиять на корректность модели."
   ]
  },
  {
   "cell_type": "markdown",
   "metadata": {},
   "source": [
    "## Модель"
   ]
  },
  {
   "cell_type": "code",
   "execution_count": 31,
   "metadata": {},
   "outputs": [],
   "source": [
    "data_train = data_train.drop('date', axis=1)\n",
    "data_test = data_test.drop('date', axis=1)"
   ]
  },
  {
   "cell_type": "code",
   "execution_count": 32,
   "metadata": {},
   "outputs": [],
   "source": [
    "deleted_features_train = deleted_features - set(['rougher.output.recovery','final.output.recovery'])\n",
    "data_train = data_train.drop(columns=deleted_features_train, axis=1)"
   ]
  },
  {
   "cell_type": "code",
   "execution_count": 33,
   "metadata": {},
   "outputs": [],
   "source": [
    "def find_smape(target, predict):\n",
    "    return (1/len(target))*sum(abs(target - predict)/(abs(target + predict)/2)*100)"
   ]
  },
  {
   "cell_type": "code",
   "execution_count": 34,
   "metadata": {},
   "outputs": [],
   "source": [
    "def s_mape(rougher,final): \n",
    "    return ((0.25*rougher)+(0.75*final))"
   ]
  },
  {
   "cell_type": "code",
   "execution_count": 35,
   "metadata": {},
   "outputs": [],
   "source": [
    "smape_score = make_scorer(find_smape, greater_is_better=False)"
   ]
  },
  {
   "cell_type": "code",
   "execution_count": 36,
   "metadata": {},
   "outputs": [],
   "source": [
    "features_train = data_train.drop(['rougher.output.recovery','final.output.recovery'], axis=1)\n",
    "target_train = data_train['rougher.output.recovery']\n",
    "target_train_final= data_train['final.output.recovery']"
   ]
  },
  {
   "cell_type": "code",
   "execution_count": 38,
   "metadata": {},
   "outputs": [
    {
     "name": "stdout",
     "output_type": "stream",
     "text": [
      "sMape rougher: 8.30313794883881\n",
      "sMape final: 12.316180992648896\n",
      "Итоговая оценка качества: 11.312920231696374\n",
      "CPU times: user 1min 38s, sys: 118 ms, total: 1min 38s\n",
      "Wall time: 1min 38s\n"
     ]
    }
   ],
   "source": [
    "%%time\n",
    "for depth in range(1, 10): \n",
    "    for min_sample in range(1,10):\n",
    "        model_d_rou = DecisionTreeRegressor(max_depth=depth, min_samples_leaf=min_sample, random_state=12345)\n",
    "        model_d_scores = cross_val_score(model_d_rou,\n",
    "                              features_train,\n",
    "                              target_train,\n",
    "                              scoring=smape_score,\n",
    "                              cv=3)\n",
    "        model_d_score = model_d_scores.mean()\n",
    "        model_d_f = DecisionTreeRegressor(max_depth=depth, min_samples_leaf=min_sample, random_state=12345)\n",
    "        model_d_f_scores = cross_val_score(model_d_f,\n",
    "                              features_train,\n",
    "                              target_train_final,\n",
    "                              scoring=smape_score,\n",
    "                              cv=3)\n",
    "        model_d_f_score = model_d_f_scores.mean()\n",
    "print('sMape rougher:', model_d_score*(-1))\n",
    "print('sMape final:', model_d_f_score*(-1))\n",
    "print('Итоговая оценка качества:', s_mape(model_d_score, model_d_f_score)*(-1))\n"
   ]
  },
  {
   "cell_type": "code",
   "execution_count": 39,
   "metadata": {},
   "outputs": [
    {
     "name": "stdout",
     "output_type": "stream",
     "text": [
      "[CV] START .....................................................................\n"
     ]
    },
    {
     "name": "stderr",
     "output_type": "stream",
     "text": [
      "[Parallel(n_jobs=-1)]: Using backend SequentialBackend with 1 concurrent workers.\n"
     ]
    },
    {
     "name": "stdout",
     "output_type": "stream",
     "text": [
      "[CV] END ............................... score: (test=-9.923) total time=   1.5s\n",
      "[CV] START .....................................................................\n"
     ]
    },
    {
     "name": "stderr",
     "output_type": "stream",
     "text": [
      "[Parallel(n_jobs=-1)]: Done   1 out of   1 | elapsed:    1.5s remaining:    0.0s\n"
     ]
    },
    {
     "name": "stdout",
     "output_type": "stream",
     "text": [
      "[CV] END ............................... score: (test=-7.790) total time=   1.4s\n",
      "[CV] START .....................................................................\n"
     ]
    },
    {
     "name": "stderr",
     "output_type": "stream",
     "text": [
      "[Parallel(n_jobs=-1)]: Done   2 out of   2 | elapsed:    2.9s remaining:    0.0s\n"
     ]
    },
    {
     "name": "stdout",
     "output_type": "stream",
     "text": [
      "[CV] END ............................... score: (test=-9.782) total time=   1.4s\n",
      "[CV] START .....................................................................\n"
     ]
    },
    {
     "name": "stderr",
     "output_type": "stream",
     "text": [
      "[Parallel(n_jobs=-1)]: Done   3 out of   3 | elapsed:    4.3s remaining:    0.0s\n",
      "[Parallel(n_jobs=-1)]: Done   3 out of   3 | elapsed:    4.3s finished\n",
      "[Parallel(n_jobs=-1)]: Using backend SequentialBackend with 1 concurrent workers.\n"
     ]
    },
    {
     "name": "stdout",
     "output_type": "stream",
     "text": [
      "[CV] END ............................... score: (test=-9.378) total time=   1.4s\n",
      "[CV] START .....................................................................\n"
     ]
    },
    {
     "name": "stderr",
     "output_type": "stream",
     "text": [
      "[Parallel(n_jobs=-1)]: Done   1 out of   1 | elapsed:    1.4s remaining:    0.0s\n"
     ]
    },
    {
     "name": "stdout",
     "output_type": "stream",
     "text": [
      "[CV] END ............................... score: (test=-9.948) total time=   1.4s\n",
      "[CV] START .....................................................................\n"
     ]
    },
    {
     "name": "stderr",
     "output_type": "stream",
     "text": [
      "[Parallel(n_jobs=-1)]: Done   2 out of   2 | elapsed:    2.8s remaining:    0.0s\n"
     ]
    },
    {
     "name": "stdout",
     "output_type": "stream",
     "text": [
      "[CV] END .............................. score: (test=-11.503) total time=   1.4s\n",
      "[CV] START .....................................................................\n"
     ]
    },
    {
     "name": "stderr",
     "output_type": "stream",
     "text": [
      "[Parallel(n_jobs=-1)]: Done   3 out of   3 | elapsed:    4.3s remaining:    0.0s\n",
      "[Parallel(n_jobs=-1)]: Done   3 out of   3 | elapsed:    4.3s finished\n",
      "[Parallel(n_jobs=-1)]: Using backend SequentialBackend with 1 concurrent workers.\n"
     ]
    },
    {
     "name": "stdout",
     "output_type": "stream",
     "text": [
      "[CV] END ............................... score: (test=-8.974) total time=   5.4s\n",
      "[CV] START .....................................................................\n"
     ]
    },
    {
     "name": "stderr",
     "output_type": "stream",
     "text": [
      "[Parallel(n_jobs=-1)]: Done   1 out of   1 | elapsed:    5.4s remaining:    0.0s\n"
     ]
    },
    {
     "name": "stdout",
     "output_type": "stream",
     "text": [
      "[CV] END ............................... score: (test=-6.869) total time=   5.4s\n",
      "[CV] START .....................................................................\n"
     ]
    },
    {
     "name": "stderr",
     "output_type": "stream",
     "text": [
      "[Parallel(n_jobs=-1)]: Done   2 out of   2 | elapsed:   10.8s remaining:    0.0s\n"
     ]
    },
    {
     "name": "stdout",
     "output_type": "stream",
     "text": [
      "[CV] END ............................... score: (test=-8.523) total time=   5.3s\n",
      "[CV] START .....................................................................\n"
     ]
    },
    {
     "name": "stderr",
     "output_type": "stream",
     "text": [
      "[Parallel(n_jobs=-1)]: Done   3 out of   3 | elapsed:   16.2s remaining:    0.0s\n",
      "[Parallel(n_jobs=-1)]: Done   3 out of   3 | elapsed:   16.2s finished\n",
      "[Parallel(n_jobs=-1)]: Using backend SequentialBackend with 1 concurrent workers.\n"
     ]
    },
    {
     "name": "stdout",
     "output_type": "stream",
     "text": [
      "[CV] END ............................... score: (test=-9.170) total time=   5.4s\n",
      "[CV] START .....................................................................\n"
     ]
    },
    {
     "name": "stderr",
     "output_type": "stream",
     "text": [
      "[Parallel(n_jobs=-1)]: Done   1 out of   1 | elapsed:    5.4s remaining:    0.0s\n"
     ]
    },
    {
     "name": "stdout",
     "output_type": "stream",
     "text": [
      "[CV] END ............................... score: (test=-9.640) total time=   5.5s\n",
      "[CV] START .....................................................................\n"
     ]
    },
    {
     "name": "stderr",
     "output_type": "stream",
     "text": [
      "[Parallel(n_jobs=-1)]: Done   2 out of   2 | elapsed:   10.9s remaining:    0.0s\n"
     ]
    },
    {
     "name": "stdout",
     "output_type": "stream",
     "text": [
      "[CV] END .............................. score: (test=-13.874) total time=   5.4s\n",
      "[CV] START .....................................................................\n"
     ]
    },
    {
     "name": "stderr",
     "output_type": "stream",
     "text": [
      "[Parallel(n_jobs=-1)]: Done   3 out of   3 | elapsed:   16.3s remaining:    0.0s\n",
      "[Parallel(n_jobs=-1)]: Done   3 out of   3 | elapsed:   16.3s finished\n",
      "[Parallel(n_jobs=-1)]: Using backend SequentialBackend with 1 concurrent workers.\n"
     ]
    },
    {
     "name": "stdout",
     "output_type": "stream",
     "text": [
      "[CV] END ............................... score: (test=-8.968) total time=   8.9s\n",
      "[CV] START .....................................................................\n"
     ]
    },
    {
     "name": "stderr",
     "output_type": "stream",
     "text": [
      "[Parallel(n_jobs=-1)]: Done   1 out of   1 | elapsed:    8.9s remaining:    0.0s\n"
     ]
    },
    {
     "name": "stdout",
     "output_type": "stream",
     "text": [
      "[CV] END ............................... score: (test=-6.829) total time=   8.6s\n",
      "[CV] START .....................................................................\n"
     ]
    },
    {
     "name": "stderr",
     "output_type": "stream",
     "text": [
      "[Parallel(n_jobs=-1)]: Done   2 out of   2 | elapsed:   17.5s remaining:    0.0s\n"
     ]
    },
    {
     "name": "stdout",
     "output_type": "stream",
     "text": [
      "[CV] END ............................... score: (test=-8.413) total time=   8.8s\n",
      "[CV] START .....................................................................\n"
     ]
    },
    {
     "name": "stderr",
     "output_type": "stream",
     "text": [
      "[Parallel(n_jobs=-1)]: Done   3 out of   3 | elapsed:   26.3s remaining:    0.0s\n",
      "[Parallel(n_jobs=-1)]: Done   3 out of   3 | elapsed:   26.3s finished\n",
      "[Parallel(n_jobs=-1)]: Using backend SequentialBackend with 1 concurrent workers.\n"
     ]
    },
    {
     "name": "stdout",
     "output_type": "stream",
     "text": [
      "[CV] END ............................... score: (test=-9.101) total time=   8.9s\n",
      "[CV] START .....................................................................\n"
     ]
    },
    {
     "name": "stderr",
     "output_type": "stream",
     "text": [
      "[Parallel(n_jobs=-1)]: Done   1 out of   1 | elapsed:    8.9s remaining:    0.0s\n"
     ]
    },
    {
     "name": "stdout",
     "output_type": "stream",
     "text": [
      "[CV] END ............................... score: (test=-9.745) total time=   8.7s\n",
      "[CV] START .....................................................................\n"
     ]
    },
    {
     "name": "stderr",
     "output_type": "stream",
     "text": [
      "[Parallel(n_jobs=-1)]: Done   2 out of   2 | elapsed:   17.6s remaining:    0.0s\n"
     ]
    },
    {
     "name": "stdout",
     "output_type": "stream",
     "text": [
      "[CV] END .............................. score: (test=-12.626) total time=   8.4s\n",
      "[CV] START .....................................................................\n"
     ]
    },
    {
     "name": "stderr",
     "output_type": "stream",
     "text": [
      "[Parallel(n_jobs=-1)]: Done   3 out of   3 | elapsed:   26.0s remaining:    0.0s\n",
      "[Parallel(n_jobs=-1)]: Done   3 out of   3 | elapsed:   26.0s finished\n",
      "[Parallel(n_jobs=-1)]: Using backend SequentialBackend with 1 concurrent workers.\n"
     ]
    },
    {
     "name": "stdout",
     "output_type": "stream",
     "text": [
      "[CV] END ............................... score: (test=-8.428) total time=  11.0s\n",
      "[CV] START .....................................................................\n"
     ]
    },
    {
     "name": "stderr",
     "output_type": "stream",
     "text": [
      "[Parallel(n_jobs=-1)]: Done   1 out of   1 | elapsed:   11.0s remaining:    0.0s\n"
     ]
    },
    {
     "name": "stdout",
     "output_type": "stream",
     "text": [
      "[CV] END ............................... score: (test=-6.528) total time=  10.7s\n",
      "[CV] START .....................................................................\n"
     ]
    },
    {
     "name": "stderr",
     "output_type": "stream",
     "text": [
      "[Parallel(n_jobs=-1)]: Done   2 out of   2 | elapsed:   21.6s remaining:    0.0s\n"
     ]
    },
    {
     "name": "stdout",
     "output_type": "stream",
     "text": [
      "[CV] END ............................... score: (test=-8.980) total time=  10.8s\n",
      "[CV] START .....................................................................\n"
     ]
    },
    {
     "name": "stderr",
     "output_type": "stream",
     "text": [
      "[Parallel(n_jobs=-1)]: Done   3 out of   3 | elapsed:   32.5s remaining:    0.0s\n",
      "[Parallel(n_jobs=-1)]: Done   3 out of   3 | elapsed:   32.5s finished\n",
      "[Parallel(n_jobs=-1)]: Using backend SequentialBackend with 1 concurrent workers.\n"
     ]
    },
    {
     "name": "stdout",
     "output_type": "stream",
     "text": [
      "[CV] END ............................... score: (test=-9.731) total time=  11.1s\n",
      "[CV] START .....................................................................\n"
     ]
    },
    {
     "name": "stderr",
     "output_type": "stream",
     "text": [
      "[Parallel(n_jobs=-1)]: Done   1 out of   1 | elapsed:   11.1s remaining:    0.0s\n"
     ]
    },
    {
     "name": "stdout",
     "output_type": "stream",
     "text": [
      "[CV] END ............................... score: (test=-9.662) total time=  10.9s\n",
      "[CV] START .....................................................................\n"
     ]
    },
    {
     "name": "stderr",
     "output_type": "stream",
     "text": [
      "[Parallel(n_jobs=-1)]: Done   2 out of   2 | elapsed:   22.0s remaining:    0.0s\n"
     ]
    },
    {
     "name": "stdout",
     "output_type": "stream",
     "text": [
      "[CV] END .............................. score: (test=-12.338) total time=  11.2s\n",
      "[CV] START .....................................................................\n"
     ]
    },
    {
     "name": "stderr",
     "output_type": "stream",
     "text": [
      "[Parallel(n_jobs=-1)]: Done   3 out of   3 | elapsed:   33.2s remaining:    0.0s\n",
      "[Parallel(n_jobs=-1)]: Done   3 out of   3 | elapsed:   33.2s finished\n",
      "[Parallel(n_jobs=-1)]: Using backend SequentialBackend with 1 concurrent workers.\n"
     ]
    },
    {
     "name": "stdout",
     "output_type": "stream",
     "text": [
      "[CV] END ............................... score: (test=-8.209) total time=  13.3s\n",
      "[CV] START .....................................................................\n"
     ]
    },
    {
     "name": "stderr",
     "output_type": "stream",
     "text": [
      "[Parallel(n_jobs=-1)]: Done   1 out of   1 | elapsed:   13.3s remaining:    0.0s\n"
     ]
    },
    {
     "name": "stdout",
     "output_type": "stream",
     "text": [
      "[CV] END ............................... score: (test=-6.585) total time=  12.7s\n",
      "[CV] START .....................................................................\n"
     ]
    },
    {
     "name": "stderr",
     "output_type": "stream",
     "text": [
      "[Parallel(n_jobs=-1)]: Done   2 out of   2 | elapsed:   26.0s remaining:    0.0s\n"
     ]
    },
    {
     "name": "stdout",
     "output_type": "stream",
     "text": [
      "[CV] END ............................... score: (test=-9.460) total time=  13.1s\n",
      "[CV] START .....................................................................\n"
     ]
    },
    {
     "name": "stderr",
     "output_type": "stream",
     "text": [
      "[Parallel(n_jobs=-1)]: Done   3 out of   3 | elapsed:   39.1s remaining:    0.0s\n",
      "[Parallel(n_jobs=-1)]: Done   3 out of   3 | elapsed:   39.1s finished\n",
      "[Parallel(n_jobs=-1)]: Using backend SequentialBackend with 1 concurrent workers.\n"
     ]
    },
    {
     "name": "stdout",
     "output_type": "stream",
     "text": [
      "[CV] END ............................... score: (test=-9.814) total time=  13.5s\n",
      "[CV] START .....................................................................\n"
     ]
    },
    {
     "name": "stderr",
     "output_type": "stream",
     "text": [
      "[Parallel(n_jobs=-1)]: Done   1 out of   1 | elapsed:   13.5s remaining:    0.0s\n"
     ]
    },
    {
     "name": "stdout",
     "output_type": "stream",
     "text": [
      "[CV] END ............................... score: (test=-9.629) total time=  13.1s\n",
      "[CV] START .....................................................................\n"
     ]
    },
    {
     "name": "stderr",
     "output_type": "stream",
     "text": [
      "[Parallel(n_jobs=-1)]: Done   2 out of   2 | elapsed:   26.6s remaining:    0.0s\n"
     ]
    },
    {
     "name": "stdout",
     "output_type": "stream",
     "text": [
      "[CV] END .............................. score: (test=-12.401) total time=  13.4s\n",
      "[CV] START .....................................................................\n"
     ]
    },
    {
     "name": "stderr",
     "output_type": "stream",
     "text": [
      "[Parallel(n_jobs=-1)]: Done   3 out of   3 | elapsed:   40.0s remaining:    0.0s\n",
      "[Parallel(n_jobs=-1)]: Done   3 out of   3 | elapsed:   40.0s finished\n",
      "[Parallel(n_jobs=-1)]: Using backend SequentialBackend with 1 concurrent workers.\n"
     ]
    },
    {
     "name": "stdout",
     "output_type": "stream",
     "text": [
      "[CV] END ............................... score: (test=-9.972) total time=   1.7s\n",
      "[CV] START .....................................................................\n"
     ]
    },
    {
     "name": "stderr",
     "output_type": "stream",
     "text": [
      "[Parallel(n_jobs=-1)]: Done   1 out of   1 | elapsed:    1.7s remaining:    0.0s\n"
     ]
    },
    {
     "name": "stdout",
     "output_type": "stream",
     "text": [
      "[CV] END ............................... score: (test=-7.796) total time=   1.8s\n",
      "[CV] START .....................................................................\n"
     ]
    },
    {
     "name": "stderr",
     "output_type": "stream",
     "text": [
      "[Parallel(n_jobs=-1)]: Done   2 out of   2 | elapsed:    3.5s remaining:    0.0s\n"
     ]
    },
    {
     "name": "stdout",
     "output_type": "stream",
     "text": [
      "[CV] END ............................... score: (test=-9.752) total time=   1.7s\n",
      "[CV] START .....................................................................\n"
     ]
    },
    {
     "name": "stderr",
     "output_type": "stream",
     "text": [
      "[Parallel(n_jobs=-1)]: Done   3 out of   3 | elapsed:    5.2s remaining:    0.0s\n",
      "[Parallel(n_jobs=-1)]: Done   3 out of   3 | elapsed:    5.2s finished\n",
      "[Parallel(n_jobs=-1)]: Using backend SequentialBackend with 1 concurrent workers.\n"
     ]
    },
    {
     "name": "stdout",
     "output_type": "stream",
     "text": [
      "[CV] END ............................... score: (test=-9.368) total time=   1.7s\n",
      "[CV] START .....................................................................\n"
     ]
    },
    {
     "name": "stderr",
     "output_type": "stream",
     "text": [
      "[Parallel(n_jobs=-1)]: Done   1 out of   1 | elapsed:    1.7s remaining:    0.0s\n"
     ]
    },
    {
     "name": "stdout",
     "output_type": "stream",
     "text": [
      "[CV] END ............................... score: (test=-9.940) total time=   1.7s\n",
      "[CV] START .....................................................................\n"
     ]
    },
    {
     "name": "stderr",
     "output_type": "stream",
     "text": [
      "[Parallel(n_jobs=-1)]: Done   2 out of   2 | elapsed:    3.4s remaining:    0.0s\n"
     ]
    },
    {
     "name": "stdout",
     "output_type": "stream",
     "text": [
      "[CV] END .............................. score: (test=-11.503) total time=   1.7s\n",
      "[CV] START .....................................................................\n"
     ]
    },
    {
     "name": "stderr",
     "output_type": "stream",
     "text": [
      "[Parallel(n_jobs=-1)]: Done   3 out of   3 | elapsed:    5.1s remaining:    0.0s\n",
      "[Parallel(n_jobs=-1)]: Done   3 out of   3 | elapsed:    5.1s finished\n",
      "[Parallel(n_jobs=-1)]: Using backend SequentialBackend with 1 concurrent workers.\n"
     ]
    },
    {
     "name": "stdout",
     "output_type": "stream",
     "text": [
      "[CV] END ............................... score: (test=-8.955) total time=   6.2s\n",
      "[CV] START .....................................................................\n"
     ]
    },
    {
     "name": "stderr",
     "output_type": "stream",
     "text": [
      "[Parallel(n_jobs=-1)]: Done   1 out of   1 | elapsed:    6.2s remaining:    0.0s\n"
     ]
    },
    {
     "name": "stdout",
     "output_type": "stream",
     "text": [
      "[CV] END ............................... score: (test=-6.891) total time=   6.0s\n",
      "[CV] START .....................................................................\n"
     ]
    },
    {
     "name": "stderr",
     "output_type": "stream",
     "text": [
      "[Parallel(n_jobs=-1)]: Done   2 out of   2 | elapsed:   12.2s remaining:    0.0s\n"
     ]
    },
    {
     "name": "stdout",
     "output_type": "stream",
     "text": [
      "[CV] END ............................... score: (test=-8.473) total time=   6.0s\n",
      "[CV] START .....................................................................\n"
     ]
    },
    {
     "name": "stderr",
     "output_type": "stream",
     "text": [
      "[Parallel(n_jobs=-1)]: Done   3 out of   3 | elapsed:   18.2s remaining:    0.0s\n",
      "[Parallel(n_jobs=-1)]: Done   3 out of   3 | elapsed:   18.2s finished\n",
      "[Parallel(n_jobs=-1)]: Using backend SequentialBackend with 1 concurrent workers.\n"
     ]
    },
    {
     "name": "stdout",
     "output_type": "stream",
     "text": [
      "[CV] END ............................... score: (test=-9.149) total time=   6.0s\n",
      "[CV] START .....................................................................\n"
     ]
    },
    {
     "name": "stderr",
     "output_type": "stream",
     "text": [
      "[Parallel(n_jobs=-1)]: Done   1 out of   1 | elapsed:    6.0s remaining:    0.0s\n"
     ]
    },
    {
     "name": "stdout",
     "output_type": "stream",
     "text": [
      "[CV] END ............................... score: (test=-9.690) total time=   6.0s\n",
      "[CV] START .....................................................................\n"
     ]
    },
    {
     "name": "stderr",
     "output_type": "stream",
     "text": [
      "[Parallel(n_jobs=-1)]: Done   2 out of   2 | elapsed:   12.0s remaining:    0.0s\n"
     ]
    },
    {
     "name": "stdout",
     "output_type": "stream",
     "text": [
      "[CV] END .............................. score: (test=-13.804) total time=   6.3s\n",
      "[CV] START .....................................................................\n"
     ]
    },
    {
     "name": "stderr",
     "output_type": "stream",
     "text": [
      "[Parallel(n_jobs=-1)]: Done   3 out of   3 | elapsed:   18.3s remaining:    0.0s\n",
      "[Parallel(n_jobs=-1)]: Done   3 out of   3 | elapsed:   18.3s finished\n",
      "[Parallel(n_jobs=-1)]: Using backend SequentialBackend with 1 concurrent workers.\n"
     ]
    },
    {
     "name": "stdout",
     "output_type": "stream",
     "text": [
      "[CV] END ............................... score: (test=-8.883) total time=   9.8s\n",
      "[CV] START .....................................................................\n"
     ]
    },
    {
     "name": "stderr",
     "output_type": "stream",
     "text": [
      "[Parallel(n_jobs=-1)]: Done   1 out of   1 | elapsed:    9.8s remaining:    0.0s\n"
     ]
    },
    {
     "name": "stdout",
     "output_type": "stream",
     "text": [
      "[CV] END ............................... score: (test=-7.078) total time=   9.6s\n",
      "[CV] START .....................................................................\n"
     ]
    },
    {
     "name": "stderr",
     "output_type": "stream",
     "text": [
      "[Parallel(n_jobs=-1)]: Done   2 out of   2 | elapsed:   19.4s remaining:    0.0s\n"
     ]
    },
    {
     "name": "stdout",
     "output_type": "stream",
     "text": [
      "[CV] END ............................... score: (test=-8.402) total time=   9.8s\n",
      "[CV] START .....................................................................\n"
     ]
    },
    {
     "name": "stderr",
     "output_type": "stream",
     "text": [
      "[Parallel(n_jobs=-1)]: Done   3 out of   3 | elapsed:   29.2s remaining:    0.0s\n",
      "[Parallel(n_jobs=-1)]: Done   3 out of   3 | elapsed:   29.2s finished\n",
      "[Parallel(n_jobs=-1)]: Using backend SequentialBackend with 1 concurrent workers.\n"
     ]
    },
    {
     "name": "stdout",
     "output_type": "stream",
     "text": [
      "[CV] END ............................... score: (test=-9.052) total time=   9.8s\n",
      "[CV] START .....................................................................\n"
     ]
    },
    {
     "name": "stderr",
     "output_type": "stream",
     "text": [
      "[Parallel(n_jobs=-1)]: Done   1 out of   1 | elapsed:    9.8s remaining:    0.0s\n"
     ]
    },
    {
     "name": "stdout",
     "output_type": "stream",
     "text": [
      "[CV] END ............................... score: (test=-9.831) total time=   9.7s\n",
      "[CV] START .....................................................................\n"
     ]
    },
    {
     "name": "stderr",
     "output_type": "stream",
     "text": [
      "[Parallel(n_jobs=-1)]: Done   2 out of   2 | elapsed:   19.5s remaining:    0.0s\n"
     ]
    },
    {
     "name": "stdout",
     "output_type": "stream",
     "text": [
      "[CV] END .............................. score: (test=-12.583) total time=   9.9s\n",
      "[CV] START .....................................................................\n"
     ]
    },
    {
     "name": "stderr",
     "output_type": "stream",
     "text": [
      "[Parallel(n_jobs=-1)]: Done   3 out of   3 | elapsed:   29.4s remaining:    0.0s\n",
      "[Parallel(n_jobs=-1)]: Done   3 out of   3 | elapsed:   29.4s finished\n",
      "[Parallel(n_jobs=-1)]: Using backend SequentialBackend with 1 concurrent workers.\n"
     ]
    },
    {
     "name": "stdout",
     "output_type": "stream",
     "text": [
      "[CV] END ............................... score: (test=-8.390) total time=  13.1s\n",
      "[CV] START .....................................................................\n"
     ]
    },
    {
     "name": "stderr",
     "output_type": "stream",
     "text": [
      "[Parallel(n_jobs=-1)]: Done   1 out of   1 | elapsed:   13.1s remaining:    0.0s\n"
     ]
    },
    {
     "name": "stdout",
     "output_type": "stream",
     "text": [
      "[CV] END ............................... score: (test=-6.689) total time=  12.9s\n",
      "[CV] START .....................................................................\n"
     ]
    },
    {
     "name": "stderr",
     "output_type": "stream",
     "text": [
      "[Parallel(n_jobs=-1)]: Done   2 out of   2 | elapsed:   26.0s remaining:    0.0s\n"
     ]
    },
    {
     "name": "stdout",
     "output_type": "stream",
     "text": [
      "[CV] END ............................... score: (test=-9.010) total time=  12.8s\n",
      "[CV] START .....................................................................\n"
     ]
    },
    {
     "name": "stderr",
     "output_type": "stream",
     "text": [
      "[Parallel(n_jobs=-1)]: Done   3 out of   3 | elapsed:   38.8s remaining:    0.0s\n",
      "[Parallel(n_jobs=-1)]: Done   3 out of   3 | elapsed:   38.8s finished\n",
      "[Parallel(n_jobs=-1)]: Using backend SequentialBackend with 1 concurrent workers.\n"
     ]
    },
    {
     "name": "stdout",
     "output_type": "stream",
     "text": [
      "[CV] END ............................... score: (test=-9.644) total time=  13.3s\n",
      "[CV] START .....................................................................\n"
     ]
    },
    {
     "name": "stderr",
     "output_type": "stream",
     "text": [
      "[Parallel(n_jobs=-1)]: Done   1 out of   1 | elapsed:   13.3s remaining:    0.0s\n"
     ]
    },
    {
     "name": "stdout",
     "output_type": "stream",
     "text": [
      "[CV] END ............................... score: (test=-9.747) total time=  13.0s\n",
      "[CV] START .....................................................................\n"
     ]
    },
    {
     "name": "stderr",
     "output_type": "stream",
     "text": [
      "[Parallel(n_jobs=-1)]: Done   2 out of   2 | elapsed:   26.3s remaining:    0.0s\n"
     ]
    },
    {
     "name": "stdout",
     "output_type": "stream",
     "text": [
      "[CV] END .............................. score: (test=-12.278) total time=  13.2s\n",
      "[CV] START .....................................................................\n"
     ]
    },
    {
     "name": "stderr",
     "output_type": "stream",
     "text": [
      "[Parallel(n_jobs=-1)]: Done   3 out of   3 | elapsed:   39.5s remaining:    0.0s\n",
      "[Parallel(n_jobs=-1)]: Done   3 out of   3 | elapsed:   39.5s finished\n",
      "[Parallel(n_jobs=-1)]: Using backend SequentialBackend with 1 concurrent workers.\n"
     ]
    },
    {
     "name": "stdout",
     "output_type": "stream",
     "text": [
      "[CV] END ............................... score: (test=-8.158) total time=  15.9s\n",
      "[CV] START .....................................................................\n"
     ]
    },
    {
     "name": "stderr",
     "output_type": "stream",
     "text": [
      "[Parallel(n_jobs=-1)]: Done   1 out of   1 | elapsed:   15.9s remaining:    0.0s\n"
     ]
    },
    {
     "name": "stdout",
     "output_type": "stream",
     "text": [
      "[CV] END ............................... score: (test=-6.720) total time=  15.3s\n",
      "[CV] START .....................................................................\n"
     ]
    },
    {
     "name": "stderr",
     "output_type": "stream",
     "text": [
      "[Parallel(n_jobs=-1)]: Done   2 out of   2 | elapsed:   31.2s remaining:    0.0s\n"
     ]
    },
    {
     "name": "stdout",
     "output_type": "stream",
     "text": [
      "[CV] END ............................... score: (test=-9.399) total time=  15.5s\n",
      "[CV] START .....................................................................\n"
     ]
    },
    {
     "name": "stderr",
     "output_type": "stream",
     "text": [
      "[Parallel(n_jobs=-1)]: Done   3 out of   3 | elapsed:   46.7s remaining:    0.0s\n",
      "[Parallel(n_jobs=-1)]: Done   3 out of   3 | elapsed:   46.7s finished\n",
      "[Parallel(n_jobs=-1)]: Using backend SequentialBackend with 1 concurrent workers.\n"
     ]
    },
    {
     "name": "stdout",
     "output_type": "stream",
     "text": [
      "[CV] END ............................... score: (test=-9.820) total time=  16.2s\n",
      "[CV] START .....................................................................\n"
     ]
    },
    {
     "name": "stderr",
     "output_type": "stream",
     "text": [
      "[Parallel(n_jobs=-1)]: Done   1 out of   1 | elapsed:   16.2s remaining:    0.0s\n"
     ]
    },
    {
     "name": "stdout",
     "output_type": "stream",
     "text": [
      "[CV] END ............................... score: (test=-9.661) total time=  15.9s\n",
      "[CV] START .....................................................................\n"
     ]
    },
    {
     "name": "stderr",
     "output_type": "stream",
     "text": [
      "[Parallel(n_jobs=-1)]: Done   2 out of   2 | elapsed:   32.1s remaining:    0.0s\n"
     ]
    },
    {
     "name": "stdout",
     "output_type": "stream",
     "text": [
      "[CV] END .............................. score: (test=-12.383) total time=  16.7s\n",
      "[CV] START .....................................................................\n"
     ]
    },
    {
     "name": "stderr",
     "output_type": "stream",
     "text": [
      "[Parallel(n_jobs=-1)]: Done   3 out of   3 | elapsed:   48.8s remaining:    0.0s\n",
      "[Parallel(n_jobs=-1)]: Done   3 out of   3 | elapsed:   48.8s finished\n",
      "[Parallel(n_jobs=-1)]: Using backend SequentialBackend with 1 concurrent workers.\n"
     ]
    },
    {
     "name": "stdout",
     "output_type": "stream",
     "text": [
      "[CV] END ............................... score: (test=-9.942) total time=   2.1s\n",
      "[CV] START .....................................................................\n"
     ]
    },
    {
     "name": "stderr",
     "output_type": "stream",
     "text": [
      "[Parallel(n_jobs=-1)]: Done   1 out of   1 | elapsed:    2.1s remaining:    0.0s\n"
     ]
    },
    {
     "name": "stdout",
     "output_type": "stream",
     "text": [
      "[CV] END ............................... score: (test=-7.796) total time=   2.1s\n",
      "[CV] START .....................................................................\n"
     ]
    },
    {
     "name": "stderr",
     "output_type": "stream",
     "text": [
      "[Parallel(n_jobs=-1)]: Done   2 out of   2 | elapsed:    4.2s remaining:    0.0s\n"
     ]
    },
    {
     "name": "stdout",
     "output_type": "stream",
     "text": [
      "[CV] END ............................... score: (test=-9.707) total time=   2.0s\n",
      "[CV] START .....................................................................\n"
     ]
    },
    {
     "name": "stderr",
     "output_type": "stream",
     "text": [
      "[Parallel(n_jobs=-1)]: Done   3 out of   3 | elapsed:    6.2s remaining:    0.0s\n",
      "[Parallel(n_jobs=-1)]: Done   3 out of   3 | elapsed:    6.2s finished\n",
      "[Parallel(n_jobs=-1)]: Using backend SequentialBackend with 1 concurrent workers.\n"
     ]
    },
    {
     "name": "stdout",
     "output_type": "stream",
     "text": [
      "[CV] END ............................... score: (test=-9.368) total time=   2.0s\n",
      "[CV] START .....................................................................\n"
     ]
    },
    {
     "name": "stderr",
     "output_type": "stream",
     "text": [
      "[Parallel(n_jobs=-1)]: Done   1 out of   1 | elapsed:    2.0s remaining:    0.0s\n"
     ]
    },
    {
     "name": "stdout",
     "output_type": "stream",
     "text": [
      "[CV] END ............................... score: (test=-9.930) total time=   2.1s\n",
      "[CV] START .....................................................................\n"
     ]
    },
    {
     "name": "stderr",
     "output_type": "stream",
     "text": [
      "[Parallel(n_jobs=-1)]: Done   2 out of   2 | elapsed:    4.1s remaining:    0.0s\n"
     ]
    },
    {
     "name": "stdout",
     "output_type": "stream",
     "text": [
      "[CV] END .............................. score: (test=-11.495) total time=   2.1s\n",
      "[CV] START .....................................................................\n"
     ]
    },
    {
     "name": "stderr",
     "output_type": "stream",
     "text": [
      "[Parallel(n_jobs=-1)]: Done   3 out of   3 | elapsed:    6.2s remaining:    0.0s\n",
      "[Parallel(n_jobs=-1)]: Done   3 out of   3 | elapsed:    6.2s finished\n",
      "[Parallel(n_jobs=-1)]: Using backend SequentialBackend with 1 concurrent workers.\n"
     ]
    },
    {
     "name": "stdout",
     "output_type": "stream",
     "text": [
      "[CV] END ............................... score: (test=-8.959) total time=   7.3s\n",
      "[CV] START .....................................................................\n"
     ]
    },
    {
     "name": "stderr",
     "output_type": "stream",
     "text": [
      "[Parallel(n_jobs=-1)]: Done   1 out of   1 | elapsed:    7.3s remaining:    0.0s\n"
     ]
    },
    {
     "name": "stdout",
     "output_type": "stream",
     "text": [
      "[CV] END ............................... score: (test=-6.804) total time=   7.2s\n",
      "[CV] START .....................................................................\n"
     ]
    },
    {
     "name": "stderr",
     "output_type": "stream",
     "text": [
      "[Parallel(n_jobs=-1)]: Done   2 out of   2 | elapsed:   14.5s remaining:    0.0s\n"
     ]
    },
    {
     "name": "stdout",
     "output_type": "stream",
     "text": [
      "[CV] END ............................... score: (test=-8.510) total time=   7.3s\n",
      "[CV] START .....................................................................\n"
     ]
    },
    {
     "name": "stderr",
     "output_type": "stream",
     "text": [
      "[Parallel(n_jobs=-1)]: Done   3 out of   3 | elapsed:   21.8s remaining:    0.0s\n",
      "[Parallel(n_jobs=-1)]: Done   3 out of   3 | elapsed:   21.8s finished\n",
      "[Parallel(n_jobs=-1)]: Using backend SequentialBackend with 1 concurrent workers.\n"
     ]
    },
    {
     "name": "stdout",
     "output_type": "stream",
     "text": [
      "[CV] END ............................... score: (test=-9.131) total time=   7.3s\n",
      "[CV] START .....................................................................\n"
     ]
    },
    {
     "name": "stderr",
     "output_type": "stream",
     "text": [
      "[Parallel(n_jobs=-1)]: Done   1 out of   1 | elapsed:    7.3s remaining:    0.0s\n"
     ]
    },
    {
     "name": "stdout",
     "output_type": "stream",
     "text": [
      "[CV] END ............................... score: (test=-9.666) total time=   7.3s\n",
      "[CV] START .....................................................................\n"
     ]
    },
    {
     "name": "stderr",
     "output_type": "stream",
     "text": [
      "[Parallel(n_jobs=-1)]: Done   2 out of   2 | elapsed:   14.5s remaining:    0.0s\n"
     ]
    },
    {
     "name": "stdout",
     "output_type": "stream",
     "text": [
      "[CV] END .............................. score: (test=-13.850) total time=   7.3s\n",
      "[CV] START .....................................................................\n"
     ]
    },
    {
     "name": "stderr",
     "output_type": "stream",
     "text": [
      "[Parallel(n_jobs=-1)]: Done   3 out of   3 | elapsed:   21.9s remaining:    0.0s\n",
      "[Parallel(n_jobs=-1)]: Done   3 out of   3 | elapsed:   21.9s finished\n",
      "[Parallel(n_jobs=-1)]: Using backend SequentialBackend with 1 concurrent workers.\n"
     ]
    },
    {
     "name": "stdout",
     "output_type": "stream",
     "text": [
      "[CV] END ............................... score: (test=-8.886) total time=  12.0s\n",
      "[CV] START .....................................................................\n"
     ]
    },
    {
     "name": "stderr",
     "output_type": "stream",
     "text": [
      "[Parallel(n_jobs=-1)]: Done   1 out of   1 | elapsed:   12.0s remaining:    0.0s\n"
     ]
    },
    {
     "name": "stdout",
     "output_type": "stream",
     "text": [
      "[CV] END ............................... score: (test=-6.995) total time=  11.4s\n",
      "[CV] START .....................................................................\n"
     ]
    },
    {
     "name": "stderr",
     "output_type": "stream",
     "text": [
      "[Parallel(n_jobs=-1)]: Done   2 out of   2 | elapsed:   23.4s remaining:    0.0s\n"
     ]
    },
    {
     "name": "stdout",
     "output_type": "stream",
     "text": [
      "[CV] END ............................... score: (test=-8.473) total time=  11.7s\n",
      "[CV] START .....................................................................\n"
     ]
    },
    {
     "name": "stderr",
     "output_type": "stream",
     "text": [
      "[Parallel(n_jobs=-1)]: Done   3 out of   3 | elapsed:   35.1s remaining:    0.0s\n",
      "[Parallel(n_jobs=-1)]: Done   3 out of   3 | elapsed:   35.1s finished\n",
      "[Parallel(n_jobs=-1)]: Using backend SequentialBackend with 1 concurrent workers.\n"
     ]
    },
    {
     "name": "stdout",
     "output_type": "stream",
     "text": [
      "[CV] END ............................... score: (test=-9.051) total time=  11.6s\n",
      "[CV] START .....................................................................\n"
     ]
    },
    {
     "name": "stderr",
     "output_type": "stream",
     "text": [
      "[Parallel(n_jobs=-1)]: Done   1 out of   1 | elapsed:   11.6s remaining:    0.0s\n"
     ]
    },
    {
     "name": "stdout",
     "output_type": "stream",
     "text": [
      "[CV] END ............................... score: (test=-9.792) total time=  11.4s\n",
      "[CV] START .....................................................................\n"
     ]
    },
    {
     "name": "stderr",
     "output_type": "stream",
     "text": [
      "[Parallel(n_jobs=-1)]: Done   2 out of   2 | elapsed:   23.1s remaining:    0.0s\n"
     ]
    },
    {
     "name": "stdout",
     "output_type": "stream",
     "text": [
      "[CV] END .............................. score: (test=-12.484) total time=  11.7s\n",
      "[CV] START .....................................................................\n"
     ]
    },
    {
     "name": "stderr",
     "output_type": "stream",
     "text": [
      "[Parallel(n_jobs=-1)]: Done   3 out of   3 | elapsed:   34.8s remaining:    0.0s\n",
      "[Parallel(n_jobs=-1)]: Done   3 out of   3 | elapsed:   34.8s finished\n",
      "[Parallel(n_jobs=-1)]: Using backend SequentialBackend with 1 concurrent workers.\n"
     ]
    },
    {
     "name": "stdout",
     "output_type": "stream",
     "text": [
      "[CV] END ............................... score: (test=-8.349) total time=  15.7s\n",
      "[CV] START .....................................................................\n"
     ]
    },
    {
     "name": "stderr",
     "output_type": "stream",
     "text": [
      "[Parallel(n_jobs=-1)]: Done   1 out of   1 | elapsed:   15.7s remaining:    0.0s\n"
     ]
    },
    {
     "name": "stdout",
     "output_type": "stream",
     "text": [
      "[CV] END ............................... score: (test=-6.628) total time=  15.2s\n",
      "[CV] START .....................................................................\n"
     ]
    },
    {
     "name": "stderr",
     "output_type": "stream",
     "text": [
      "[Parallel(n_jobs=-1)]: Done   2 out of   2 | elapsed:   30.9s remaining:    0.0s\n"
     ]
    },
    {
     "name": "stdout",
     "output_type": "stream",
     "text": [
      "[CV] END ............................... score: (test=-9.210) total time=  15.2s\n",
      "[CV] START .....................................................................\n"
     ]
    },
    {
     "name": "stderr",
     "output_type": "stream",
     "text": [
      "[Parallel(n_jobs=-1)]: Done   3 out of   3 | elapsed:   46.0s remaining:    0.0s\n",
      "[Parallel(n_jobs=-1)]: Done   3 out of   3 | elapsed:   46.0s finished\n",
      "[Parallel(n_jobs=-1)]: Using backend SequentialBackend with 1 concurrent workers.\n"
     ]
    },
    {
     "name": "stdout",
     "output_type": "stream",
     "text": [
      "[CV] END ............................... score: (test=-9.654) total time=  15.7s\n",
      "[CV] START .....................................................................\n"
     ]
    },
    {
     "name": "stderr",
     "output_type": "stream",
     "text": [
      "[Parallel(n_jobs=-1)]: Done   1 out of   1 | elapsed:   15.7s remaining:    0.0s\n"
     ]
    },
    {
     "name": "stdout",
     "output_type": "stream",
     "text": [
      "[CV] END ............................... score: (test=-9.667) total time=  15.4s\n",
      "[CV] START .....................................................................\n"
     ]
    },
    {
     "name": "stderr",
     "output_type": "stream",
     "text": [
      "[Parallel(n_jobs=-1)]: Done   2 out of   2 | elapsed:   31.1s remaining:    0.0s\n"
     ]
    },
    {
     "name": "stdout",
     "output_type": "stream",
     "text": [
      "[CV] END .............................. score: (test=-12.183) total time=  15.7s\n",
      "[CV] START .....................................................................\n"
     ]
    },
    {
     "name": "stderr",
     "output_type": "stream",
     "text": [
      "[Parallel(n_jobs=-1)]: Done   3 out of   3 | elapsed:   46.8s remaining:    0.0s\n",
      "[Parallel(n_jobs=-1)]: Done   3 out of   3 | elapsed:   46.8s finished\n",
      "[Parallel(n_jobs=-1)]: Using backend SequentialBackend with 1 concurrent workers.\n"
     ]
    },
    {
     "name": "stdout",
     "output_type": "stream",
     "text": [
      "[CV] END ............................... score: (test=-8.083) total time=  18.8s\n",
      "[CV] START .....................................................................\n"
     ]
    },
    {
     "name": "stderr",
     "output_type": "stream",
     "text": [
      "[Parallel(n_jobs=-1)]: Done   1 out of   1 | elapsed:   18.8s remaining:    0.0s\n"
     ]
    },
    {
     "name": "stdout",
     "output_type": "stream",
     "text": [
      "[CV] END ............................... score: (test=-6.654) total time=  18.2s\n",
      "[CV] START .....................................................................\n"
     ]
    },
    {
     "name": "stderr",
     "output_type": "stream",
     "text": [
      "[Parallel(n_jobs=-1)]: Done   2 out of   2 | elapsed:   37.0s remaining:    0.0s\n"
     ]
    },
    {
     "name": "stdout",
     "output_type": "stream",
     "text": [
      "[CV] END ............................... score: (test=-9.582) total time=  18.4s\n",
      "[CV] START .....................................................................\n"
     ]
    },
    {
     "name": "stderr",
     "output_type": "stream",
     "text": [
      "[Parallel(n_jobs=-1)]: Done   3 out of   3 | elapsed:   55.4s remaining:    0.0s\n",
      "[Parallel(n_jobs=-1)]: Done   3 out of   3 | elapsed:   55.4s finished\n",
      "[Parallel(n_jobs=-1)]: Using backend SequentialBackend with 1 concurrent workers.\n"
     ]
    },
    {
     "name": "stdout",
     "output_type": "stream",
     "text": [
      "[CV] END ............................... score: (test=-9.890) total time=  19.1s\n",
      "[CV] START .....................................................................\n"
     ]
    },
    {
     "name": "stderr",
     "output_type": "stream",
     "text": [
      "[Parallel(n_jobs=-1)]: Done   1 out of   1 | elapsed:   19.1s remaining:    0.0s\n"
     ]
    },
    {
     "name": "stdout",
     "output_type": "stream",
     "text": [
      "[CV] END ............................... score: (test=-9.596) total time=  18.6s\n",
      "[CV] START .....................................................................\n"
     ]
    },
    {
     "name": "stderr",
     "output_type": "stream",
     "text": [
      "[Parallel(n_jobs=-1)]: Done   2 out of   2 | elapsed:   37.7s remaining:    0.0s\n"
     ]
    },
    {
     "name": "stdout",
     "output_type": "stream",
     "text": [
      "[CV] END .............................. score: (test=-12.307) total time=  19.2s\n",
      "[CV] START .....................................................................\n"
     ]
    },
    {
     "name": "stderr",
     "output_type": "stream",
     "text": [
      "[Parallel(n_jobs=-1)]: Done   3 out of   3 | elapsed:   57.0s remaining:    0.0s\n",
      "[Parallel(n_jobs=-1)]: Done   3 out of   3 | elapsed:   57.0s finished\n",
      "[Parallel(n_jobs=-1)]: Using backend SequentialBackend with 1 concurrent workers.\n"
     ]
    },
    {
     "name": "stdout",
     "output_type": "stream",
     "text": [
      "[CV] END ............................... score: (test=-9.949) total time=   2.4s\n",
      "[CV] START .....................................................................\n"
     ]
    },
    {
     "name": "stderr",
     "output_type": "stream",
     "text": [
      "[Parallel(n_jobs=-1)]: Done   1 out of   1 | elapsed:    2.4s remaining:    0.0s\n"
     ]
    },
    {
     "name": "stdout",
     "output_type": "stream",
     "text": [
      "[CV] END ............................... score: (test=-7.791) total time=   2.3s\n",
      "[CV] START .....................................................................\n"
     ]
    },
    {
     "name": "stderr",
     "output_type": "stream",
     "text": [
      "[Parallel(n_jobs=-1)]: Done   2 out of   2 | elapsed:    4.7s remaining:    0.0s\n"
     ]
    },
    {
     "name": "stdout",
     "output_type": "stream",
     "text": [
      "[CV] END ............................... score: (test=-9.703) total time=   2.3s\n",
      "[CV] START .....................................................................\n"
     ]
    },
    {
     "name": "stderr",
     "output_type": "stream",
     "text": [
      "[Parallel(n_jobs=-1)]: Done   3 out of   3 | elapsed:    7.0s remaining:    0.0s\n",
      "[Parallel(n_jobs=-1)]: Done   3 out of   3 | elapsed:    7.0s finished\n",
      "[Parallel(n_jobs=-1)]: Using backend SequentialBackend with 1 concurrent workers.\n"
     ]
    },
    {
     "name": "stdout",
     "output_type": "stream",
     "text": [
      "[CV] END ............................... score: (test=-9.372) total time=   2.3s\n",
      "[CV] START .....................................................................\n"
     ]
    },
    {
     "name": "stderr",
     "output_type": "stream",
     "text": [
      "[Parallel(n_jobs=-1)]: Done   1 out of   1 | elapsed:    2.3s remaining:    0.0s\n"
     ]
    },
    {
     "name": "stdout",
     "output_type": "stream",
     "text": [
      "[CV] END ............................... score: (test=-9.923) total time=   2.3s\n",
      "[CV] START .....................................................................\n"
     ]
    },
    {
     "name": "stderr",
     "output_type": "stream",
     "text": [
      "[Parallel(n_jobs=-1)]: Done   2 out of   2 | elapsed:    4.6s remaining:    0.0s\n"
     ]
    },
    {
     "name": "stdout",
     "output_type": "stream",
     "text": [
      "[CV] END .............................. score: (test=-11.494) total time=   2.3s\n",
      "[CV] START .....................................................................\n"
     ]
    },
    {
     "name": "stderr",
     "output_type": "stream",
     "text": [
      "[Parallel(n_jobs=-1)]: Done   3 out of   3 | elapsed:    6.9s remaining:    0.0s\n",
      "[Parallel(n_jobs=-1)]: Done   3 out of   3 | elapsed:    6.9s finished\n",
      "[Parallel(n_jobs=-1)]: Using backend SequentialBackend with 1 concurrent workers.\n"
     ]
    },
    {
     "name": "stdout",
     "output_type": "stream",
     "text": [
      "[CV] END ............................... score: (test=-8.957) total time=   8.1s\n",
      "[CV] START .....................................................................\n"
     ]
    },
    {
     "name": "stderr",
     "output_type": "stream",
     "text": [
      "[Parallel(n_jobs=-1)]: Done   1 out of   1 | elapsed:    8.1s remaining:    0.0s\n"
     ]
    },
    {
     "name": "stdout",
     "output_type": "stream",
     "text": [
      "[CV] END ............................... score: (test=-6.815) total time=   8.1s\n",
      "[CV] START .....................................................................\n"
     ]
    },
    {
     "name": "stderr",
     "output_type": "stream",
     "text": [
      "[Parallel(n_jobs=-1)]: Done   2 out of   2 | elapsed:   16.3s remaining:    0.0s\n"
     ]
    },
    {
     "name": "stdout",
     "output_type": "stream",
     "text": [
      "[CV] END ............................... score: (test=-8.472) total time=   8.2s\n",
      "[CV] START .....................................................................\n"
     ]
    },
    {
     "name": "stderr",
     "output_type": "stream",
     "text": [
      "[Parallel(n_jobs=-1)]: Done   3 out of   3 | elapsed:   24.5s remaining:    0.0s\n",
      "[Parallel(n_jobs=-1)]: Done   3 out of   3 | elapsed:   24.5s finished\n",
      "[Parallel(n_jobs=-1)]: Using backend SequentialBackend with 1 concurrent workers.\n"
     ]
    },
    {
     "name": "stdout",
     "output_type": "stream",
     "text": [
      "[CV] END ............................... score: (test=-9.119) total time=   8.1s\n",
      "[CV] START .....................................................................\n"
     ]
    },
    {
     "name": "stderr",
     "output_type": "stream",
     "text": [
      "[Parallel(n_jobs=-1)]: Done   1 out of   1 | elapsed:    8.1s remaining:    0.0s\n"
     ]
    },
    {
     "name": "stdout",
     "output_type": "stream",
     "text": [
      "[CV] END ............................... score: (test=-9.649) total time=   8.2s\n",
      "[CV] START .....................................................................\n"
     ]
    },
    {
     "name": "stderr",
     "output_type": "stream",
     "text": [
      "[Parallel(n_jobs=-1)]: Done   2 out of   2 | elapsed:   16.3s remaining:    0.0s\n"
     ]
    },
    {
     "name": "stdout",
     "output_type": "stream",
     "text": [
      "[CV] END .............................. score: (test=-13.836) total time=   8.3s\n",
      "[CV] START .....................................................................\n"
     ]
    },
    {
     "name": "stderr",
     "output_type": "stream",
     "text": [
      "[Parallel(n_jobs=-1)]: Done   3 out of   3 | elapsed:   24.6s remaining:    0.0s\n",
      "[Parallel(n_jobs=-1)]: Done   3 out of   3 | elapsed:   24.6s finished\n",
      "[Parallel(n_jobs=-1)]: Using backend SequentialBackend with 1 concurrent workers.\n"
     ]
    },
    {
     "name": "stdout",
     "output_type": "stream",
     "text": [
      "[CV] END ............................... score: (test=-8.868) total time=  13.3s\n",
      "[CV] START .....................................................................\n"
     ]
    },
    {
     "name": "stderr",
     "output_type": "stream",
     "text": [
      "[Parallel(n_jobs=-1)]: Done   1 out of   1 | elapsed:   13.3s remaining:    0.0s\n"
     ]
    },
    {
     "name": "stdout",
     "output_type": "stream",
     "text": [
      "[CV] END ............................... score: (test=-6.950) total time=  13.0s\n",
      "[CV] START .....................................................................\n"
     ]
    },
    {
     "name": "stderr",
     "output_type": "stream",
     "text": [
      "[Parallel(n_jobs=-1)]: Done   2 out of   2 | elapsed:   26.4s remaining:    0.0s\n"
     ]
    },
    {
     "name": "stdout",
     "output_type": "stream",
     "text": [
      "[CV] END ............................... score: (test=-8.423) total time=  13.4s\n",
      "[CV] START .....................................................................\n"
     ]
    },
    {
     "name": "stderr",
     "output_type": "stream",
     "text": [
      "[Parallel(n_jobs=-1)]: Done   3 out of   3 | elapsed:   39.7s remaining:    0.0s\n",
      "[Parallel(n_jobs=-1)]: Done   3 out of   3 | elapsed:   39.7s finished\n",
      "[Parallel(n_jobs=-1)]: Using backend SequentialBackend with 1 concurrent workers.\n"
     ]
    },
    {
     "name": "stdout",
     "output_type": "stream",
     "text": [
      "[CV] END ............................... score: (test=-9.099) total time=  13.7s\n",
      "[CV] START .....................................................................\n"
     ]
    },
    {
     "name": "stderr",
     "output_type": "stream",
     "text": [
      "[Parallel(n_jobs=-1)]: Done   1 out of   1 | elapsed:   13.7s remaining:    0.0s\n"
     ]
    },
    {
     "name": "stdout",
     "output_type": "stream",
     "text": [
      "[CV] END ............................... score: (test=-9.711) total time=  13.1s\n",
      "[CV] START .....................................................................\n"
     ]
    },
    {
     "name": "stderr",
     "output_type": "stream",
     "text": [
      "[Parallel(n_jobs=-1)]: Done   2 out of   2 | elapsed:   26.8s remaining:    0.0s\n"
     ]
    },
    {
     "name": "stdout",
     "output_type": "stream",
     "text": [
      "[CV] END .............................. score: (test=-12.327) total time=  13.4s\n",
      "[CV] START .....................................................................\n"
     ]
    },
    {
     "name": "stderr",
     "output_type": "stream",
     "text": [
      "[Parallel(n_jobs=-1)]: Done   3 out of   3 | elapsed:   40.2s remaining:    0.0s\n",
      "[Parallel(n_jobs=-1)]: Done   3 out of   3 | elapsed:   40.2s finished\n",
      "[Parallel(n_jobs=-1)]: Using backend SequentialBackend with 1 concurrent workers.\n"
     ]
    },
    {
     "name": "stdout",
     "output_type": "stream",
     "text": [
      "[CV] END ............................... score: (test=-8.347) total time=  17.9s\n",
      "[CV] START .....................................................................\n"
     ]
    },
    {
     "name": "stderr",
     "output_type": "stream",
     "text": [
      "[Parallel(n_jobs=-1)]: Done   1 out of   1 | elapsed:   17.9s remaining:    0.0s\n"
     ]
    },
    {
     "name": "stdout",
     "output_type": "stream",
     "text": [
      "[CV] END ............................... score: (test=-6.576) total time=  17.3s\n",
      "[CV] START .....................................................................\n"
     ]
    },
    {
     "name": "stderr",
     "output_type": "stream",
     "text": [
      "[Parallel(n_jobs=-1)]: Done   2 out of   2 | elapsed:   35.1s remaining:    0.0s\n"
     ]
    },
    {
     "name": "stdout",
     "output_type": "stream",
     "text": [
      "[CV] END ............................... score: (test=-9.183) total time=  17.7s\n",
      "[CV] START .....................................................................\n"
     ]
    },
    {
     "name": "stderr",
     "output_type": "stream",
     "text": [
      "[Parallel(n_jobs=-1)]: Done   3 out of   3 | elapsed:   52.8s remaining:    0.0s\n",
      "[Parallel(n_jobs=-1)]: Done   3 out of   3 | elapsed:   52.8s finished\n",
      "[Parallel(n_jobs=-1)]: Using backend SequentialBackend with 1 concurrent workers.\n"
     ]
    },
    {
     "name": "stdout",
     "output_type": "stream",
     "text": [
      "[CV] END ............................... score: (test=-9.770) total time=  17.9s\n",
      "[CV] START .....................................................................\n"
     ]
    },
    {
     "name": "stderr",
     "output_type": "stream",
     "text": [
      "[Parallel(n_jobs=-1)]: Done   1 out of   1 | elapsed:   17.9s remaining:    0.0s\n"
     ]
    },
    {
     "name": "stdout",
     "output_type": "stream",
     "text": [
      "[CV] END ............................... score: (test=-9.647) total time=  17.7s\n",
      "[CV] START .....................................................................\n"
     ]
    },
    {
     "name": "stderr",
     "output_type": "stream",
     "text": [
      "[Parallel(n_jobs=-1)]: Done   2 out of   2 | elapsed:   35.6s remaining:    0.0s\n"
     ]
    },
    {
     "name": "stdout",
     "output_type": "stream",
     "text": [
      "[CV] END .............................. score: (test=-12.100) total time=  18.1s\n",
      "[CV] START .....................................................................\n"
     ]
    },
    {
     "name": "stderr",
     "output_type": "stream",
     "text": [
      "[Parallel(n_jobs=-1)]: Done   3 out of   3 | elapsed:   53.7s remaining:    0.0s\n",
      "[Parallel(n_jobs=-1)]: Done   3 out of   3 | elapsed:   53.7s finished\n",
      "[Parallel(n_jobs=-1)]: Using backend SequentialBackend with 1 concurrent workers.\n"
     ]
    },
    {
     "name": "stdout",
     "output_type": "stream",
     "text": [
      "[CV] END ............................... score: (test=-8.089) total time=  21.5s\n",
      "[CV] START .....................................................................\n"
     ]
    },
    {
     "name": "stderr",
     "output_type": "stream",
     "text": [
      "[Parallel(n_jobs=-1)]: Done   1 out of   1 | elapsed:   21.5s remaining:    0.0s\n"
     ]
    },
    {
     "name": "stdout",
     "output_type": "stream",
     "text": [
      "[CV] END ............................... score: (test=-6.639) total time=  20.8s\n",
      "[CV] START .....................................................................\n"
     ]
    },
    {
     "name": "stderr",
     "output_type": "stream",
     "text": [
      "[Parallel(n_jobs=-1)]: Done   2 out of   2 | elapsed:   42.3s remaining:    0.0s\n"
     ]
    },
    {
     "name": "stdout",
     "output_type": "stream",
     "text": [
      "[CV] END ............................... score: (test=-9.550) total time=  21.1s\n",
      "[CV] START .....................................................................\n"
     ]
    },
    {
     "name": "stderr",
     "output_type": "stream",
     "text": [
      "[Parallel(n_jobs=-1)]: Done   3 out of   3 | elapsed:  1.1min remaining:    0.0s\n",
      "[Parallel(n_jobs=-1)]: Done   3 out of   3 | elapsed:  1.1min finished\n",
      "[Parallel(n_jobs=-1)]: Using backend SequentialBackend with 1 concurrent workers.\n"
     ]
    },
    {
     "name": "stdout",
     "output_type": "stream",
     "text": [
      "[CV] END ............................... score: (test=-9.920) total time=  21.9s\n",
      "[CV] START .....................................................................\n"
     ]
    },
    {
     "name": "stderr",
     "output_type": "stream",
     "text": [
      "[Parallel(n_jobs=-1)]: Done   1 out of   1 | elapsed:   21.9s remaining:    0.0s\n"
     ]
    },
    {
     "name": "stdout",
     "output_type": "stream",
     "text": [
      "[CV] END ............................... score: (test=-9.585) total time=  21.4s\n",
      "[CV] START .....................................................................\n"
     ]
    },
    {
     "name": "stderr",
     "output_type": "stream",
     "text": [
      "[Parallel(n_jobs=-1)]: Done   2 out of   2 | elapsed:   43.2s remaining:    0.0s\n"
     ]
    },
    {
     "name": "stdout",
     "output_type": "stream",
     "text": [
      "[CV] END .............................. score: (test=-12.258) total time=  21.8s\n",
      "[CV] START .....................................................................\n"
     ]
    },
    {
     "name": "stderr",
     "output_type": "stream",
     "text": [
      "[Parallel(n_jobs=-1)]: Done   3 out of   3 | elapsed:  1.1min remaining:    0.0s\n",
      "[Parallel(n_jobs=-1)]: Done   3 out of   3 | elapsed:  1.1min finished\n",
      "[Parallel(n_jobs=-1)]: Using backend SequentialBackend with 1 concurrent workers.\n"
     ]
    },
    {
     "name": "stdout",
     "output_type": "stream",
     "text": [
      "[CV] END ............................... score: (test=-9.932) total time=   2.6s\n",
      "[CV] START .....................................................................\n"
     ]
    },
    {
     "name": "stderr",
     "output_type": "stream",
     "text": [
      "[Parallel(n_jobs=-1)]: Done   1 out of   1 | elapsed:    2.6s remaining:    0.0s\n"
     ]
    },
    {
     "name": "stdout",
     "output_type": "stream",
     "text": [
      "[CV] END ............................... score: (test=-7.788) total time=   2.6s\n",
      "[CV] START .....................................................................\n"
     ]
    },
    {
     "name": "stderr",
     "output_type": "stream",
     "text": [
      "[Parallel(n_jobs=-1)]: Done   2 out of   2 | elapsed:    5.2s remaining:    0.0s\n"
     ]
    },
    {
     "name": "stdout",
     "output_type": "stream",
     "text": [
      "[CV] END ............................... score: (test=-9.694) total time=   2.7s\n",
      "[CV] START .....................................................................\n"
     ]
    },
    {
     "name": "stderr",
     "output_type": "stream",
     "text": [
      "[Parallel(n_jobs=-1)]: Done   3 out of   3 | elapsed:    7.8s remaining:    0.0s\n",
      "[Parallel(n_jobs=-1)]: Done   3 out of   3 | elapsed:    7.8s finished\n",
      "[Parallel(n_jobs=-1)]: Using backend SequentialBackend with 1 concurrent workers.\n"
     ]
    },
    {
     "name": "stdout",
     "output_type": "stream",
     "text": [
      "[CV] END ............................... score: (test=-9.372) total time=   2.6s\n",
      "[CV] START .....................................................................\n"
     ]
    },
    {
     "name": "stderr",
     "output_type": "stream",
     "text": [
      "[Parallel(n_jobs=-1)]: Done   1 out of   1 | elapsed:    2.6s remaining:    0.0s\n"
     ]
    },
    {
     "name": "stdout",
     "output_type": "stream",
     "text": [
      "[CV] END ............................... score: (test=-9.927) total time=   2.6s\n",
      "[CV] START .....................................................................\n"
     ]
    },
    {
     "name": "stderr",
     "output_type": "stream",
     "text": [
      "[Parallel(n_jobs=-1)]: Done   2 out of   2 | elapsed:    5.2s remaining:    0.0s\n"
     ]
    },
    {
     "name": "stdout",
     "output_type": "stream",
     "text": [
      "[CV] END .............................. score: (test=-11.491) total time=   2.7s\n",
      "[CV] START .....................................................................\n"
     ]
    },
    {
     "name": "stderr",
     "output_type": "stream",
     "text": [
      "[Parallel(n_jobs=-1)]: Done   3 out of   3 | elapsed:    7.9s remaining:    0.0s\n",
      "[Parallel(n_jobs=-1)]: Done   3 out of   3 | elapsed:    7.9s finished\n",
      "[Parallel(n_jobs=-1)]: Using backend SequentialBackend with 1 concurrent workers.\n"
     ]
    },
    {
     "name": "stdout",
     "output_type": "stream",
     "text": [
      "[CV] END ............................... score: (test=-8.963) total time=   9.2s\n",
      "[CV] START .....................................................................\n"
     ]
    },
    {
     "name": "stderr",
     "output_type": "stream",
     "text": [
      "[Parallel(n_jobs=-1)]: Done   1 out of   1 | elapsed:    9.2s remaining:    0.0s\n"
     ]
    },
    {
     "name": "stdout",
     "output_type": "stream",
     "text": [
      "[CV] END ............................... score: (test=-6.816) total time=   9.1s\n",
      "[CV] START .....................................................................\n"
     ]
    },
    {
     "name": "stderr",
     "output_type": "stream",
     "text": [
      "[Parallel(n_jobs=-1)]: Done   2 out of   2 | elapsed:   18.3s remaining:    0.0s\n"
     ]
    },
    {
     "name": "stdout",
     "output_type": "stream",
     "text": [
      "[CV] END ............................... score: (test=-8.544) total time=   9.1s\n",
      "[CV] START .....................................................................\n"
     ]
    },
    {
     "name": "stderr",
     "output_type": "stream",
     "text": [
      "[Parallel(n_jobs=-1)]: Done   3 out of   3 | elapsed:   27.4s remaining:    0.0s\n",
      "[Parallel(n_jobs=-1)]: Done   3 out of   3 | elapsed:   27.4s finished\n",
      "[Parallel(n_jobs=-1)]: Using backend SequentialBackend with 1 concurrent workers.\n"
     ]
    },
    {
     "name": "stdout",
     "output_type": "stream",
     "text": [
      "[CV] END ............................... score: (test=-9.104) total time=   9.1s\n",
      "[CV] START .....................................................................\n"
     ]
    },
    {
     "name": "stderr",
     "output_type": "stream",
     "text": [
      "[Parallel(n_jobs=-1)]: Done   1 out of   1 | elapsed:    9.1s remaining:    0.0s\n"
     ]
    },
    {
     "name": "stdout",
     "output_type": "stream",
     "text": [
      "[CV] END ............................... score: (test=-9.645) total time=   9.1s\n",
      "[CV] START .....................................................................\n"
     ]
    },
    {
     "name": "stderr",
     "output_type": "stream",
     "text": [
      "[Parallel(n_jobs=-1)]: Done   2 out of   2 | elapsed:   18.2s remaining:    0.0s\n"
     ]
    },
    {
     "name": "stdout",
     "output_type": "stream",
     "text": [
      "[CV] END .............................. score: (test=-13.862) total time=   9.2s\n",
      "[CV] START .....................................................................\n"
     ]
    },
    {
     "name": "stderr",
     "output_type": "stream",
     "text": [
      "[Parallel(n_jobs=-1)]: Done   3 out of   3 | elapsed:   27.4s remaining:    0.0s\n",
      "[Parallel(n_jobs=-1)]: Done   3 out of   3 | elapsed:   27.4s finished\n",
      "[Parallel(n_jobs=-1)]: Using backend SequentialBackend with 1 concurrent workers.\n"
     ]
    },
    {
     "name": "stdout",
     "output_type": "stream",
     "text": [
      "[CV] END ............................... score: (test=-8.875) total time=  15.1s\n",
      "[CV] START .....................................................................\n"
     ]
    },
    {
     "name": "stderr",
     "output_type": "stream",
     "text": [
      "[Parallel(n_jobs=-1)]: Done   1 out of   1 | elapsed:   15.1s remaining:    0.0s\n"
     ]
    },
    {
     "name": "stdout",
     "output_type": "stream",
     "text": [
      "[CV] END ............................... score: (test=-6.900) total time=  15.0s\n",
      "[CV] START .....................................................................\n"
     ]
    },
    {
     "name": "stderr",
     "output_type": "stream",
     "text": [
      "[Parallel(n_jobs=-1)]: Done   2 out of   2 | elapsed:   30.1s remaining:    0.0s\n"
     ]
    },
    {
     "name": "stdout",
     "output_type": "stream",
     "text": [
      "[CV] END ............................... score: (test=-8.579) total time=  14.9s\n",
      "[CV] START .....................................................................\n"
     ]
    },
    {
     "name": "stderr",
     "output_type": "stream",
     "text": [
      "[Parallel(n_jobs=-1)]: Done   3 out of   3 | elapsed:   45.0s remaining:    0.0s\n",
      "[Parallel(n_jobs=-1)]: Done   3 out of   3 | elapsed:   45.0s finished\n",
      "[Parallel(n_jobs=-1)]: Using backend SequentialBackend with 1 concurrent workers.\n"
     ]
    },
    {
     "name": "stdout",
     "output_type": "stream",
     "text": [
      "[CV] END ............................... score: (test=-9.073) total time=  15.0s\n",
      "[CV] START .....................................................................\n"
     ]
    },
    {
     "name": "stderr",
     "output_type": "stream",
     "text": [
      "[Parallel(n_jobs=-1)]: Done   1 out of   1 | elapsed:   15.0s remaining:    0.0s\n"
     ]
    },
    {
     "name": "stdout",
     "output_type": "stream",
     "text": [
      "[CV] END ............................... score: (test=-9.709) total time=  14.7s\n",
      "[CV] START .....................................................................\n"
     ]
    },
    {
     "name": "stderr",
     "output_type": "stream",
     "text": [
      "[Parallel(n_jobs=-1)]: Done   2 out of   2 | elapsed:   29.7s remaining:    0.0s\n"
     ]
    },
    {
     "name": "stdout",
     "output_type": "stream",
     "text": [
      "[CV] END .............................. score: (test=-12.260) total time=  15.0s\n",
      "[CV] START .....................................................................\n"
     ]
    },
    {
     "name": "stderr",
     "output_type": "stream",
     "text": [
      "[Parallel(n_jobs=-1)]: Done   3 out of   3 | elapsed:   44.8s remaining:    0.0s\n",
      "[Parallel(n_jobs=-1)]: Done   3 out of   3 | elapsed:   44.8s finished\n",
      "[Parallel(n_jobs=-1)]: Using backend SequentialBackend with 1 concurrent workers.\n"
     ]
    },
    {
     "name": "stdout",
     "output_type": "stream",
     "text": [
      "[CV] END ............................... score: (test=-8.380) total time=  20.1s\n",
      "[CV] START .....................................................................\n"
     ]
    },
    {
     "name": "stderr",
     "output_type": "stream",
     "text": [
      "[Parallel(n_jobs=-1)]: Done   1 out of   1 | elapsed:   20.1s remaining:    0.0s\n"
     ]
    },
    {
     "name": "stdout",
     "output_type": "stream",
     "text": [
      "[CV] END ............................... score: (test=-6.537) total time=  19.5s\n",
      "[CV] START .....................................................................\n"
     ]
    },
    {
     "name": "stderr",
     "output_type": "stream",
     "text": [
      "[Parallel(n_jobs=-1)]: Done   2 out of   2 | elapsed:   39.6s remaining:    0.0s\n"
     ]
    },
    {
     "name": "stdout",
     "output_type": "stream",
     "text": [
      "[CV] END ............................... score: (test=-9.325) total time=  19.8s\n",
      "[CV] START .....................................................................\n"
     ]
    },
    {
     "name": "stderr",
     "output_type": "stream",
     "text": [
      "[Parallel(n_jobs=-1)]: Done   3 out of   3 | elapsed:   59.4s remaining:    0.0s\n",
      "[Parallel(n_jobs=-1)]: Done   3 out of   3 | elapsed:   59.4s finished\n",
      "[Parallel(n_jobs=-1)]: Using backend SequentialBackend with 1 concurrent workers.\n"
     ]
    },
    {
     "name": "stdout",
     "output_type": "stream",
     "text": [
      "[CV] END ............................... score: (test=-9.706) total time=  20.1s\n",
      "[CV] START .....................................................................\n"
     ]
    },
    {
     "name": "stderr",
     "output_type": "stream",
     "text": [
      "[Parallel(n_jobs=-1)]: Done   1 out of   1 | elapsed:   20.1s remaining:    0.0s\n"
     ]
    },
    {
     "name": "stdout",
     "output_type": "stream",
     "text": [
      "[CV] END ............................... score: (test=-9.711) total time=  19.6s\n",
      "[CV] START .....................................................................\n"
     ]
    },
    {
     "name": "stderr",
     "output_type": "stream",
     "text": [
      "[Parallel(n_jobs=-1)]: Done   2 out of   2 | elapsed:   39.8s remaining:    0.0s\n"
     ]
    },
    {
     "name": "stdout",
     "output_type": "stream",
     "text": [
      "[CV] END .............................. score: (test=-12.078) total time=  20.0s\n",
      "[CV] START .....................................................................\n"
     ]
    },
    {
     "name": "stderr",
     "output_type": "stream",
     "text": [
      "[Parallel(n_jobs=-1)]: Done   3 out of   3 | elapsed:   59.8s remaining:    0.0s\n",
      "[Parallel(n_jobs=-1)]: Done   3 out of   3 | elapsed:   59.8s finished\n",
      "[Parallel(n_jobs=-1)]: Using backend SequentialBackend with 1 concurrent workers.\n"
     ]
    },
    {
     "name": "stdout",
     "output_type": "stream",
     "text": [
      "[CV] END ............................... score: (test=-8.122) total time=  24.1s\n",
      "[CV] START .....................................................................\n"
     ]
    },
    {
     "name": "stderr",
     "output_type": "stream",
     "text": [
      "[Parallel(n_jobs=-1)]: Done   1 out of   1 | elapsed:   24.1s remaining:    0.0s\n"
     ]
    },
    {
     "name": "stdout",
     "output_type": "stream",
     "text": [
      "[CV] END ............................... score: (test=-6.609) total time=  23.5s\n",
      "[CV] START .....................................................................\n"
     ]
    },
    {
     "name": "stderr",
     "output_type": "stream",
     "text": [
      "[Parallel(n_jobs=-1)]: Done   2 out of   2 | elapsed:   47.6s remaining:    0.0s\n"
     ]
    },
    {
     "name": "stdout",
     "output_type": "stream",
     "text": [
      "[CV] END ............................... score: (test=-9.626) total time=  24.1s\n",
      "[CV] START .....................................................................\n"
     ]
    },
    {
     "name": "stderr",
     "output_type": "stream",
     "text": [
      "[Parallel(n_jobs=-1)]: Done   3 out of   3 | elapsed:  1.2min remaining:    0.0s\n",
      "[Parallel(n_jobs=-1)]: Done   3 out of   3 | elapsed:  1.2min finished\n",
      "[Parallel(n_jobs=-1)]: Using backend SequentialBackend with 1 concurrent workers.\n"
     ]
    },
    {
     "name": "stdout",
     "output_type": "stream",
     "text": [
      "[CV] END ............................... score: (test=-9.884) total time=  24.6s\n",
      "[CV] START .....................................................................\n"
     ]
    },
    {
     "name": "stderr",
     "output_type": "stream",
     "text": [
      "[Parallel(n_jobs=-1)]: Done   1 out of   1 | elapsed:   24.6s remaining:    0.0s\n"
     ]
    },
    {
     "name": "stdout",
     "output_type": "stream",
     "text": [
      "[CV] END ............................... score: (test=-9.651) total time=  23.6s\n",
      "[CV] START .....................................................................\n"
     ]
    },
    {
     "name": "stderr",
     "output_type": "stream",
     "text": [
      "[Parallel(n_jobs=-1)]: Done   2 out of   2 | elapsed:   48.2s remaining:    0.0s\n"
     ]
    },
    {
     "name": "stdout",
     "output_type": "stream",
     "text": [
      "[CV] END .............................. score: (test=-12.256) total time=  24.3s\n",
      "sMape rougher: 8.119018344831309\n",
      "sMape final: 10.59701264086313\n",
      "Итоговая оценка качества: 9.977514066855175\n"
     ]
    },
    {
     "name": "stderr",
     "output_type": "stream",
     "text": [
      "[Parallel(n_jobs=-1)]: Done   3 out of   3 | elapsed:  1.2min remaining:    0.0s\n",
      "[Parallel(n_jobs=-1)]: Done   3 out of   3 | elapsed:  1.2min finished\n"
     ]
    }
   ],
   "source": [
    "for est in range(50, 100, 10):\n",
    "    for depth in range(1,15,3):\n",
    "        model_f_rou= RandomForestRegressor(random_state=12345, n_estimators=est, max_depth=depth)\n",
    "        model_f_scores = cross_val_score(model_f_rou,\n",
    "                              features_train,\n",
    "                              data_train['rougher.output.recovery'],\n",
    "                              scoring=smape_score,\n",
    "                              n_jobs=-1,\n",
    "                              verbose=10,           \n",
    "                              cv=3)\n",
    "        model_f_score = model_f_scores.mean()\n",
    "        model_f_f = RandomForestRegressor(random_state=12345, n_estimators=est, max_depth=depth)\n",
    "        model_f_f_scores = cross_val_score(model_f_f,\n",
    "                              features_train,\n",
    "                              data_train['final.output.recovery'],\n",
    "                              scoring=smape_score,\n",
    "                              n_jobs=-1,\n",
    "                              verbose=10,\n",
    "                              cv=3)\n",
    "        model_f_f_score = model_f_f_scores.mean()\n",
    "print('sMape rougher:', model_f_score*(-1))\n",
    "print('sMape final:', model_f_f_score*(-1))\n",
    "print('Итоговая оценка качества:', s_mape(model_f_score, model_f_f_score)*(-1))"
   ]
  },
  {
   "cell_type": "markdown",
   "metadata": {},
   "source": [
    "По итогу кросс-валидации лучшей моделью оказался решающий лес, его будем тестировать на тестовой выборке."
   ]
  },
  {
   "cell_type": "code",
   "execution_count": 40,
   "metadata": {},
   "outputs": [],
   "source": [
    "features_test = data_test.drop(['rougher.output.recovery','final.output.recovery'], axis=1) \n",
    "target_test = data_test['rougher.output.recovery']\n",
    "target_test_final = data_test['final.output.recovery']"
   ]
  },
  {
   "cell_type": "code",
   "execution_count": 44,
   "metadata": {},
   "outputs": [
    {
     "name": "stdout",
     "output_type": "stream",
     "text": [
      "sMape rougher: 8.331959322740486\n",
      "sMape final: 9.718325586824573\n",
      "Итоговая оценка качества: 9.371734020803551\n"
     ]
    }
   ],
   "source": [
    "model_test_rou = RandomForestRegressor(n_estimators=75, max_depth=5, random_state=12345) \n",
    "model_test_rou.fit(features_train, target_train)\n",
    "predicted_rou = model_test_rou.predict(features_test)\n",
    "model_test_f = RandomForestRegressor(n_estimators=75, max_depth=5, random_state=12345)\n",
    "model_test_f.fit(features_train, target_train_final)\n",
    "predicted_f = model_test_f.predict(features_test)\n",
    "smape_test_rou = find_smape(target_test, predicted_rou)\n",
    "smape_test_f = find_smape(target_test_final, predicted_f)\n",
    "final_smape_test = s_mape(smape_test_rou, smape_test_f)\n",
    "print('sMape rougher:', smape_test_rou)\n",
    "print('sMape final:', smape_test_f)\n",
    "print('Итоговая оценка качества:', final_smape_test)"
   ]
  },
  {
   "cell_type": "code",
   "execution_count": 45,
   "metadata": {},
   "outputs": [
    {
     "name": "stdout",
     "output_type": "stream",
     "text": [
      "sMape константной модели флотация: 8.525829420292219\n",
      "sMape константной модели финал: 9.742772243029064\n",
      "Итоговая оценка качества для константной модели: 9.438536537344852\n"
     ]
    }
   ],
   "source": [
    "dummy_reg_rou=DummyRegressor(strategy='median') \n",
    "dummy_reg_rou.fit(features_train, target_train)\n",
    "d_r_p = dummy_reg_rou.predict(features_test)\n",
    "smape_d_r = find_smape(target_test, d_r_p)\n",
    "dummy_reg_f=DummyRegressor(strategy='median')\n",
    "dummy_reg_f.fit(features_train, target_train_final)\n",
    "d_f_p = dummy_reg_f.predict(features_test)\n",
    "smape_d_f = find_smape(target_test_final, d_f_p)\n",
    "final_smape_d = s_mape(smape_d_r , smape_d_f)\n",
    "print ('sMape константной модели флотация:', smape_d_r)\n",
    "print ('sMape константной модели финал:', smape_d_f)\n",
    "print('Итоговая оценка качества для константной модели:', final_smape_d)"
   ]
  },
  {
   "cell_type": "markdown",
   "metadata": {},
   "source": [
    "Вывод: в процессе работы изучены данные, проведен исследовательский анализ данных. Также обучены несколько моделей. С помощью метрики sMape выбрана лучшая модель и протестирована на тестовой выборке. Лучшая водель получилаь случайный лес, она даёт самый менимальный результат sMape. Также проверна модель на адекватность, результат тестирования выше, чем на константной модели."
   ]
  }
 ],
 "metadata": {
  "ExecuteTimeLog": [
   {
    "duration": 1144,
    "start_time": "2022-12-12T10:43:43.466Z"
   },
   {
    "duration": 3,
    "start_time": "2022-12-12T10:44:24.467Z"
   },
   {
    "duration": 365,
    "start_time": "2022-12-12T10:45:22.304Z"
   },
   {
    "duration": 419,
    "start_time": "2022-12-12T10:46:13.973Z"
   },
   {
    "duration": 298,
    "start_time": "2022-12-12T10:46:26.576Z"
   },
   {
    "duration": 815,
    "start_time": "2022-12-12T10:47:53.184Z"
   },
   {
    "duration": 46,
    "start_time": "2022-12-12T10:48:56.177Z"
   },
   {
    "duration": 1835,
    "start_time": "2022-12-12T10:49:11.139Z"
   },
   {
    "duration": 1743,
    "start_time": "2022-12-15T16:22:34.802Z"
   },
   {
    "duration": 526,
    "start_time": "2022-12-15T16:22:36.548Z"
   },
   {
    "duration": 5,
    "start_time": "2022-12-15T16:22:37.076Z"
   },
   {
    "duration": 425,
    "start_time": "2022-12-15T16:22:37.083Z"
   },
   {
    "duration": 1878,
    "start_time": "2022-12-15T16:22:37.510Z"
   },
   {
    "duration": 5,
    "start_time": "2022-12-15T16:23:58.672Z"
   },
   {
    "duration": 5,
    "start_time": "2022-12-15T16:24:54.884Z"
   },
   {
    "duration": 5,
    "start_time": "2022-12-15T16:25:24.715Z"
   },
   {
    "duration": 1556,
    "start_time": "2022-12-17T16:22:34.383Z"
   },
   {
    "duration": 521,
    "start_time": "2022-12-17T16:22:35.941Z"
   },
   {
    "duration": 16,
    "start_time": "2022-12-17T16:22:36.464Z"
   },
   {
    "duration": 501,
    "start_time": "2022-12-17T16:22:36.482Z"
   },
   {
    "duration": 3,
    "start_time": "2022-12-17T16:22:36.985Z"
   },
   {
    "duration": 2160,
    "start_time": "2022-12-17T16:22:36.989Z"
   },
   {
    "duration": 4,
    "start_time": "2022-12-17T16:22:39.150Z"
   },
   {
    "duration": 115,
    "start_time": "2022-12-17T16:23:53.098Z"
   },
   {
    "duration": 13,
    "start_time": "2022-12-17T16:23:59.011Z"
   },
   {
    "duration": 22,
    "start_time": "2022-12-17T16:24:17.589Z"
   },
   {
    "duration": 7,
    "start_time": "2022-12-17T16:25:44.526Z"
   },
   {
    "duration": 8,
    "start_time": "2022-12-17T16:26:17.870Z"
   },
   {
    "duration": 11,
    "start_time": "2022-12-17T16:27:18.919Z"
   },
   {
    "duration": 3127,
    "start_time": "2022-12-17T16:28:45.361Z"
   },
   {
    "duration": 19,
    "start_time": "2022-12-17T16:29:53.589Z"
   },
   {
    "duration": 2178,
    "start_time": "2022-12-17T16:30:27.489Z"
   },
   {
    "duration": 13,
    "start_time": "2022-12-17T16:30:29.669Z"
   },
   {
    "duration": 314,
    "start_time": "2022-12-17T16:30:29.684Z"
   },
   {
    "duration": 21,
    "start_time": "2022-12-17T16:30:30.001Z"
   },
   {
    "duration": 11,
    "start_time": "2022-12-17T16:30:30.024Z"
   },
   {
    "duration": 182212,
    "start_time": "2022-12-17T16:30:30.037Z"
   },
   {
    "duration": 99,
    "start_time": "2022-12-17T16:33:32.251Z"
   },
   {
    "duration": 13,
    "start_time": "2022-12-17T16:33:32.351Z"
   },
   {
    "duration": 13,
    "start_time": "2022-12-17T16:33:32.366Z"
   },
   {
    "duration": 374,
    "start_time": "2022-12-17T16:33:32.382Z"
   },
   {
    "duration": 17,
    "start_time": "2022-12-17T16:33:32.757Z"
   },
   {
    "duration": 22,
    "start_time": "2022-12-17T16:33:32.776Z"
   },
   {
    "duration": 11,
    "start_time": "2022-12-17T17:24:47.882Z"
   },
   {
    "duration": 353,
    "start_time": "2022-12-17T17:25:07.044Z"
   },
   {
    "duration": 505,
    "start_time": "2022-12-17T17:30:15.029Z"
   },
   {
    "duration": 6,
    "start_time": "2022-12-17T17:33:30.413Z"
   },
   {
    "duration": 24,
    "start_time": "2022-12-17T17:33:48.135Z"
   },
   {
    "duration": 9,
    "start_time": "2022-12-17T17:35:15.615Z"
   },
   {
    "duration": 17,
    "start_time": "2022-12-17T17:50:56.407Z"
   },
   {
    "duration": 31,
    "start_time": "2022-12-17T17:51:10.689Z"
   },
   {
    "duration": 9,
    "start_time": "2022-12-17T17:51:39.619Z"
   },
   {
    "duration": 15,
    "start_time": "2022-12-17T17:51:51.863Z"
   },
   {
    "duration": 27,
    "start_time": "2022-12-17T17:51:59.683Z"
   },
   {
    "duration": 12,
    "start_time": "2022-12-17T17:52:09.507Z"
   },
   {
    "duration": 12,
    "start_time": "2022-12-17T17:53:15.386Z"
   },
   {
    "duration": 8,
    "start_time": "2022-12-17T17:54:08.219Z"
   },
   {
    "duration": 18,
    "start_time": "2022-12-17T17:54:28.760Z"
   },
   {
    "duration": 5,
    "start_time": "2022-12-17T18:20:36.072Z"
   },
   {
    "duration": 11,
    "start_time": "2022-12-17T18:30:05.353Z"
   },
   {
    "duration": 9,
    "start_time": "2022-12-17T18:30:20.867Z"
   },
   {
    "duration": 7,
    "start_time": "2022-12-17T18:30:51.900Z"
   },
   {
    "duration": 2037,
    "start_time": "2022-12-17T18:30:56.390Z"
   },
   {
    "duration": 4,
    "start_time": "2022-12-17T18:30:58.429Z"
   },
   {
    "duration": 290,
    "start_time": "2022-12-17T18:30:58.434Z"
   },
   {
    "duration": 16,
    "start_time": "2022-12-17T18:30:58.726Z"
   },
   {
    "duration": 6,
    "start_time": "2022-12-17T18:30:58.744Z"
   },
   {
    "duration": 12,
    "start_time": "2022-12-17T18:30:58.751Z"
   },
   {
    "duration": 38,
    "start_time": "2022-12-17T18:30:58.765Z"
   },
   {
    "duration": 87,
    "start_time": "2022-12-17T18:30:58.804Z"
   },
   {
    "duration": 11,
    "start_time": "2022-12-17T18:30:58.892Z"
   },
   {
    "duration": 5,
    "start_time": "2022-12-17T18:30:58.904Z"
   },
   {
    "duration": 10,
    "start_time": "2022-12-17T18:30:58.910Z"
   },
   {
    "duration": 8,
    "start_time": "2022-12-17T18:30:58.922Z"
   },
   {
    "duration": 366,
    "start_time": "2022-12-17T18:30:58.932Z"
   },
   {
    "duration": 18,
    "start_time": "2022-12-17T18:30:59.301Z"
   },
   {
    "duration": 7,
    "start_time": "2022-12-17T18:30:59.321Z"
   },
   {
    "duration": 11,
    "start_time": "2022-12-17T18:30:59.330Z"
   },
   {
    "duration": 16,
    "start_time": "2022-12-17T18:30:59.343Z"
   },
   {
    "duration": 38,
    "start_time": "2022-12-17T18:30:59.360Z"
   },
   {
    "duration": 45,
    "start_time": "2022-12-17T18:31:49.575Z"
   },
   {
    "duration": 15,
    "start_time": "2022-12-17T18:32:32.231Z"
   },
   {
    "duration": 8,
    "start_time": "2022-12-17T18:32:46.864Z"
   },
   {
    "duration": 7,
    "start_time": "2022-12-17T18:33:35.747Z"
   },
   {
    "duration": 6,
    "start_time": "2022-12-17T18:38:06.754Z"
   },
   {
    "duration": 2108,
    "start_time": "2022-12-17T19:02:32.199Z"
   },
   {
    "duration": 3,
    "start_time": "2022-12-17T19:02:34.309Z"
   },
   {
    "duration": 343,
    "start_time": "2022-12-17T19:02:34.314Z"
   },
   {
    "duration": 25,
    "start_time": "2022-12-17T19:02:34.658Z"
   },
   {
    "duration": 10,
    "start_time": "2022-12-17T19:02:34.698Z"
   },
   {
    "duration": 12,
    "start_time": "2022-12-17T19:02:34.710Z"
   },
   {
    "duration": 23,
    "start_time": "2022-12-17T19:02:34.724Z"
   },
   {
    "duration": 109,
    "start_time": "2022-12-17T19:02:34.749Z"
   },
   {
    "duration": 12,
    "start_time": "2022-12-17T19:02:34.859Z"
   },
   {
    "duration": 5,
    "start_time": "2022-12-17T19:02:34.872Z"
   },
   {
    "duration": 24,
    "start_time": "2022-12-17T19:02:34.878Z"
   },
   {
    "duration": 7,
    "start_time": "2022-12-17T19:02:34.903Z"
   },
   {
    "duration": 372,
    "start_time": "2022-12-17T19:02:34.912Z"
   },
   {
    "duration": 21,
    "start_time": "2022-12-17T19:02:35.286Z"
   },
   {
    "duration": 6,
    "start_time": "2022-12-17T19:02:35.309Z"
   },
   {
    "duration": 22,
    "start_time": "2022-12-17T19:02:35.317Z"
   },
   {
    "duration": 15,
    "start_time": "2022-12-17T19:02:35.340Z"
   },
   {
    "duration": 7,
    "start_time": "2022-12-17T19:02:35.357Z"
   },
   {
    "duration": 21,
    "start_time": "2022-12-17T19:11:55.078Z"
   },
   {
    "duration": 47,
    "start_time": "2022-12-17T19:12:07.823Z"
   },
   {
    "duration": 13,
    "start_time": "2022-12-17T19:12:36.460Z"
   },
   {
    "duration": 16,
    "start_time": "2022-12-17T19:13:34.947Z"
   },
   {
    "duration": 16,
    "start_time": "2022-12-17T19:15:49.567Z"
   },
   {
    "duration": 4,
    "start_time": "2022-12-17T19:17:03.743Z"
   },
   {
    "duration": 9,
    "start_time": "2022-12-17T19:17:40.199Z"
   },
   {
    "duration": 4,
    "start_time": "2022-12-17T19:18:35.438Z"
   },
   {
    "duration": 4,
    "start_time": "2022-12-17T19:18:51.383Z"
   },
   {
    "duration": 6,
    "start_time": "2022-12-17T19:19:23.803Z"
   },
   {
    "duration": 10,
    "start_time": "2022-12-17T19:44:44.142Z"
   },
   {
    "duration": 10,
    "start_time": "2022-12-17T19:45:08.716Z"
   },
   {
    "duration": 16,
    "start_time": "2022-12-17T19:45:49.074Z"
   },
   {
    "duration": 2119,
    "start_time": "2022-12-17T19:51:51.664Z"
   },
   {
    "duration": 3,
    "start_time": "2022-12-17T19:51:53.786Z"
   },
   {
    "duration": 302,
    "start_time": "2022-12-17T19:51:53.791Z"
   },
   {
    "duration": 16,
    "start_time": "2022-12-17T19:51:54.097Z"
   },
   {
    "duration": 6,
    "start_time": "2022-12-17T19:51:54.115Z"
   },
   {
    "duration": 13,
    "start_time": "2022-12-17T19:51:54.122Z"
   },
   {
    "duration": 13,
    "start_time": "2022-12-17T19:51:54.137Z"
   },
   {
    "duration": 113,
    "start_time": "2022-12-17T19:51:54.151Z"
   },
   {
    "duration": 12,
    "start_time": "2022-12-17T19:51:54.266Z"
   },
   {
    "duration": 19,
    "start_time": "2022-12-17T19:51:54.279Z"
   },
   {
    "duration": 6,
    "start_time": "2022-12-17T19:51:54.300Z"
   },
   {
    "duration": 8,
    "start_time": "2022-12-17T19:51:54.307Z"
   },
   {
    "duration": 431,
    "start_time": "2022-12-17T19:51:54.317Z"
   },
   {
    "duration": 18,
    "start_time": "2022-12-17T19:51:54.752Z"
   },
   {
    "duration": 9,
    "start_time": "2022-12-17T19:51:54.771Z"
   },
   {
    "duration": 9,
    "start_time": "2022-12-17T19:51:54.798Z"
   },
   {
    "duration": 14,
    "start_time": "2022-12-17T19:51:54.809Z"
   },
   {
    "duration": 7,
    "start_time": "2022-12-17T19:51:54.825Z"
   },
   {
    "duration": 21,
    "start_time": "2022-12-17T19:51:54.833Z"
   },
   {
    "duration": 14,
    "start_time": "2022-12-17T19:51:54.856Z"
   },
   {
    "duration": 28,
    "start_time": "2022-12-17T19:51:54.871Z"
   },
   {
    "duration": 10,
    "start_time": "2022-12-17T19:52:38.430Z"
   },
   {
    "duration": 16,
    "start_time": "2022-12-17T19:52:43.539Z"
   },
   {
    "duration": 9,
    "start_time": "2022-12-17T19:54:00.223Z"
   },
   {
    "duration": 12,
    "start_time": "2022-12-17T19:54:01.826Z"
   },
   {
    "duration": 13,
    "start_time": "2022-12-17T19:54:08.306Z"
   },
   {
    "duration": 13,
    "start_time": "2022-12-17T19:54:37.141Z"
   },
   {
    "duration": 13,
    "start_time": "2022-12-17T19:54:39.992Z"
   },
   {
    "duration": 2033,
    "start_time": "2022-12-17T19:54:50.934Z"
   },
   {
    "duration": 4,
    "start_time": "2022-12-17T19:54:52.969Z"
   },
   {
    "duration": 303,
    "start_time": "2022-12-17T19:54:52.975Z"
   },
   {
    "duration": 23,
    "start_time": "2022-12-17T19:54:53.279Z"
   },
   {
    "duration": 6,
    "start_time": "2022-12-17T19:54:53.304Z"
   },
   {
    "duration": 15,
    "start_time": "2022-12-17T19:54:53.312Z"
   },
   {
    "duration": 23,
    "start_time": "2022-12-17T19:54:53.329Z"
   },
   {
    "duration": 92,
    "start_time": "2022-12-17T19:54:53.354Z"
   },
   {
    "duration": 12,
    "start_time": "2022-12-17T19:54:53.448Z"
   },
   {
    "duration": 4,
    "start_time": "2022-12-17T19:54:53.461Z"
   },
   {
    "duration": 12,
    "start_time": "2022-12-17T19:54:53.467Z"
   },
   {
    "duration": 19,
    "start_time": "2022-12-17T19:54:53.480Z"
   },
   {
    "duration": 350,
    "start_time": "2022-12-17T19:54:53.500Z"
   },
   {
    "duration": 16,
    "start_time": "2022-12-17T19:54:53.852Z"
   },
   {
    "duration": 6,
    "start_time": "2022-12-17T19:54:53.869Z"
   },
   {
    "duration": 22,
    "start_time": "2022-12-17T19:54:53.876Z"
   },
   {
    "duration": 14,
    "start_time": "2022-12-17T19:54:53.899Z"
   },
   {
    "duration": 7,
    "start_time": "2022-12-17T19:54:53.915Z"
   },
   {
    "duration": 10,
    "start_time": "2022-12-17T19:54:53.923Z"
   },
   {
    "duration": 16,
    "start_time": "2022-12-17T19:54:53.935Z"
   },
   {
    "duration": 14,
    "start_time": "2022-12-17T19:54:53.953Z"
   },
   {
    "duration": 9,
    "start_time": "2022-12-17T19:56:23.473Z"
   },
   {
    "duration": 12,
    "start_time": "2022-12-17T19:56:25.096Z"
   },
   {
    "duration": 2112,
    "start_time": "2022-12-17T19:56:37.300Z"
   },
   {
    "duration": 3,
    "start_time": "2022-12-17T19:56:39.415Z"
   },
   {
    "duration": 305,
    "start_time": "2022-12-17T19:56:39.420Z"
   },
   {
    "duration": 19,
    "start_time": "2022-12-17T19:56:39.727Z"
   },
   {
    "duration": 6,
    "start_time": "2022-12-17T19:56:39.748Z"
   },
   {
    "duration": 13,
    "start_time": "2022-12-17T19:56:39.755Z"
   },
   {
    "duration": 35,
    "start_time": "2022-12-17T19:56:39.770Z"
   },
   {
    "duration": 86,
    "start_time": "2022-12-17T19:56:39.806Z"
   },
   {
    "duration": 16,
    "start_time": "2022-12-17T19:56:39.894Z"
   },
   {
    "duration": 5,
    "start_time": "2022-12-17T19:56:39.912Z"
   },
   {
    "duration": 13,
    "start_time": "2022-12-17T19:56:39.919Z"
   },
   {
    "duration": 8,
    "start_time": "2022-12-17T19:56:39.934Z"
   },
   {
    "duration": 380,
    "start_time": "2022-12-17T19:56:39.944Z"
   },
   {
    "duration": 23,
    "start_time": "2022-12-17T19:56:40.328Z"
   },
   {
    "duration": 13,
    "start_time": "2022-12-17T19:56:40.352Z"
   },
   {
    "duration": 22,
    "start_time": "2022-12-17T19:56:40.376Z"
   },
   {
    "duration": 15,
    "start_time": "2022-12-17T19:56:40.400Z"
   },
   {
    "duration": 7,
    "start_time": "2022-12-17T19:56:40.416Z"
   },
   {
    "duration": 8,
    "start_time": "2022-12-17T19:56:40.425Z"
   },
   {
    "duration": 13,
    "start_time": "2022-12-17T19:56:40.434Z"
   },
   {
    "duration": 15,
    "start_time": "2022-12-17T19:56:40.448Z"
   },
   {
    "duration": 6,
    "start_time": "2022-12-17T19:56:55.670Z"
   },
   {
    "duration": 2134,
    "start_time": "2022-12-17T19:57:01.239Z"
   },
   {
    "duration": 4,
    "start_time": "2022-12-17T19:57:03.375Z"
   },
   {
    "duration": 317,
    "start_time": "2022-12-17T19:57:03.381Z"
   },
   {
    "duration": 21,
    "start_time": "2022-12-17T19:57:03.700Z"
   },
   {
    "duration": 16,
    "start_time": "2022-12-17T19:57:03.724Z"
   },
   {
    "duration": 21,
    "start_time": "2022-12-17T19:57:03.742Z"
   },
   {
    "duration": 42,
    "start_time": "2022-12-17T19:57:03.766Z"
   },
   {
    "duration": 102,
    "start_time": "2022-12-17T19:57:03.810Z"
   },
   {
    "duration": 25,
    "start_time": "2022-12-17T19:57:03.915Z"
   },
   {
    "duration": 13,
    "start_time": "2022-12-17T19:57:03.945Z"
   },
   {
    "duration": 19,
    "start_time": "2022-12-17T19:57:03.960Z"
   },
   {
    "duration": 19,
    "start_time": "2022-12-17T19:57:03.981Z"
   },
   {
    "duration": 368,
    "start_time": "2022-12-17T19:57:04.001Z"
   },
   {
    "duration": 28,
    "start_time": "2022-12-17T19:57:04.371Z"
   },
   {
    "duration": 7,
    "start_time": "2022-12-17T19:57:04.400Z"
   },
   {
    "duration": 13,
    "start_time": "2022-12-17T19:57:04.408Z"
   },
   {
    "duration": 16,
    "start_time": "2022-12-17T19:57:04.422Z"
   },
   {
    "duration": 8,
    "start_time": "2022-12-17T19:57:04.439Z"
   },
   {
    "duration": 7,
    "start_time": "2022-12-17T19:57:04.449Z"
   },
   {
    "duration": 10,
    "start_time": "2022-12-17T19:57:04.498Z"
   },
   {
    "duration": 18,
    "start_time": "2022-12-17T19:57:04.510Z"
   },
   {
    "duration": 23,
    "start_time": "2022-12-17T19:58:30.925Z"
   },
   {
    "duration": 719,
    "start_time": "2022-12-17T20:11:49.339Z"
   },
   {
    "duration": 42,
    "start_time": "2022-12-17T20:32:39.312Z"
   },
   {
    "duration": 952,
    "start_time": "2022-12-17T20:32:52.770Z"
   },
   {
    "duration": 719,
    "start_time": "2022-12-17T20:37:59.721Z"
   },
   {
    "duration": 732,
    "start_time": "2022-12-17T20:38:32.684Z"
   },
   {
    "duration": 9,
    "start_time": "2022-12-17T20:41:44.427Z"
   },
   {
    "duration": 32,
    "start_time": "2022-12-17T20:42:50.062Z"
   },
   {
    "duration": 44,
    "start_time": "2022-12-17T20:44:36.067Z"
   },
   {
    "duration": 20,
    "start_time": "2022-12-17T20:44:43.630Z"
   },
   {
    "duration": 96,
    "start_time": "2022-12-17T20:46:11.333Z"
   },
   {
    "duration": 86,
    "start_time": "2022-12-17T20:46:27.277Z"
   },
   {
    "duration": 63,
    "start_time": "2022-12-17T20:46:47.793Z"
   },
   {
    "duration": 103,
    "start_time": "2022-12-17T20:46:59.000Z"
   },
   {
    "duration": 59,
    "start_time": "2022-12-17T20:47:12.594Z"
   },
   {
    "duration": 44,
    "start_time": "2022-12-17T20:47:18.220Z"
   },
   {
    "duration": 88,
    "start_time": "2022-12-17T20:47:38.686Z"
   },
   {
    "duration": 8,
    "start_time": "2022-12-17T20:53:47.756Z"
   },
   {
    "duration": 490,
    "start_time": "2022-12-17T21:00:02.664Z"
   },
   {
    "duration": 14,
    "start_time": "2022-12-17T21:00:53.215Z"
   },
   {
    "duration": 10,
    "start_time": "2022-12-17T21:01:09.788Z"
   },
   {
    "duration": 10,
    "start_time": "2022-12-17T21:03:11.170Z"
   },
   {
    "duration": 109,
    "start_time": "2022-12-17T21:06:19.691Z"
   },
   {
    "duration": 150,
    "start_time": "2022-12-17T21:07:06.684Z"
   },
   {
    "duration": 3191,
    "start_time": "2022-12-18T09:55:35.823Z"
   },
   {
    "duration": 1548,
    "start_time": "2022-12-18T09:55:39.017Z"
   },
   {
    "duration": 1331,
    "start_time": "2022-12-18T09:55:40.567Z"
   },
   {
    "duration": 16,
    "start_time": "2022-12-18T09:55:41.900Z"
   },
   {
    "duration": 6,
    "start_time": "2022-12-18T09:55:41.918Z"
   },
   {
    "duration": 10,
    "start_time": "2022-12-18T09:55:41.925Z"
   },
   {
    "duration": 17,
    "start_time": "2022-12-18T09:55:41.937Z"
   },
   {
    "duration": 171,
    "start_time": "2022-12-18T09:55:41.955Z"
   },
   {
    "duration": 13,
    "start_time": "2022-12-18T09:55:42.128Z"
   },
   {
    "duration": 4,
    "start_time": "2022-12-18T09:55:42.144Z"
   },
   {
    "duration": 25,
    "start_time": "2022-12-18T09:55:42.150Z"
   },
   {
    "duration": 7,
    "start_time": "2022-12-18T09:55:42.176Z"
   },
   {
    "duration": 535,
    "start_time": "2022-12-18T09:55:42.185Z"
   },
   {
    "duration": 19,
    "start_time": "2022-12-18T09:55:42.722Z"
   },
   {
    "duration": 8,
    "start_time": "2022-12-18T09:55:42.742Z"
   },
   {
    "duration": 12,
    "start_time": "2022-12-18T09:55:42.751Z"
   },
   {
    "duration": 42,
    "start_time": "2022-12-18T09:55:42.765Z"
   },
   {
    "duration": 9,
    "start_time": "2022-12-18T09:55:42.809Z"
   },
   {
    "duration": 10,
    "start_time": "2022-12-18T09:55:42.819Z"
   },
   {
    "duration": 14,
    "start_time": "2022-12-18T09:55:42.831Z"
   },
   {
    "duration": 765,
    "start_time": "2022-12-18T09:55:42.846Z"
   },
   {
    "duration": 1572,
    "start_time": "2022-12-18T10:01:00.658Z"
   },
   {
    "duration": 2413,
    "start_time": "2022-12-18T10:01:39.899Z"
   },
   {
    "duration": 6,
    "start_time": "2022-12-18T10:01:42.315Z"
   },
   {
    "duration": 312,
    "start_time": "2022-12-18T10:01:42.323Z"
   },
   {
    "duration": 25,
    "start_time": "2022-12-18T10:01:42.639Z"
   },
   {
    "duration": 11,
    "start_time": "2022-12-18T10:01:42.668Z"
   },
   {
    "duration": 30,
    "start_time": "2022-12-18T10:01:42.681Z"
   },
   {
    "duration": 18,
    "start_time": "2022-12-18T10:01:42.714Z"
   },
   {
    "duration": 112,
    "start_time": "2022-12-18T10:01:42.734Z"
   },
   {
    "duration": 13,
    "start_time": "2022-12-18T10:01:42.848Z"
   },
   {
    "duration": 6,
    "start_time": "2022-12-18T10:01:42.863Z"
   },
   {
    "duration": 14,
    "start_time": "2022-12-18T10:01:42.871Z"
   },
   {
    "duration": 8,
    "start_time": "2022-12-18T10:01:42.905Z"
   },
   {
    "duration": 362,
    "start_time": "2022-12-18T10:01:42.915Z"
   },
   {
    "duration": 32,
    "start_time": "2022-12-18T10:01:43.281Z"
   },
   {
    "duration": 10,
    "start_time": "2022-12-18T10:01:43.315Z"
   },
   {
    "duration": 20,
    "start_time": "2022-12-18T10:01:43.327Z"
   },
   {
    "duration": 23,
    "start_time": "2022-12-18T10:01:43.349Z"
   },
   {
    "duration": 31,
    "start_time": "2022-12-18T10:01:43.374Z"
   },
   {
    "duration": 6,
    "start_time": "2022-12-18T10:01:43.408Z"
   },
   {
    "duration": 11,
    "start_time": "2022-12-18T10:01:43.416Z"
   },
   {
    "duration": 1408,
    "start_time": "2022-12-18T10:01:43.429Z"
   },
   {
    "duration": 1201,
    "start_time": "2022-12-18T10:04:36.837Z"
   },
   {
    "duration": 1644,
    "start_time": "2022-12-18T10:07:15.242Z"
   },
   {
    "duration": 2147,
    "start_time": "2022-12-18T10:10:11.662Z"
   },
   {
    "duration": 2189,
    "start_time": "2022-12-18T10:11:07.010Z"
   },
   {
    "duration": 2008,
    "start_time": "2022-12-18T10:11:34.224Z"
   },
   {
    "duration": 2104,
    "start_time": "2022-12-18T10:11:44.422Z"
   },
   {
    "duration": 2106,
    "start_time": "2022-12-18T10:11:53.882Z"
   },
   {
    "duration": 2384,
    "start_time": "2022-12-18T10:12:06.767Z"
   },
   {
    "duration": 995,
    "start_time": "2022-12-18T10:12:55.447Z"
   },
   {
    "duration": 5331,
    "start_time": "2022-12-18T10:13:02.946Z"
   },
   {
    "duration": 2275,
    "start_time": "2022-12-18T10:13:10.677Z"
   },
   {
    "duration": 2349,
    "start_time": "2022-12-18T10:17:17.891Z"
   },
   {
    "duration": 2325,
    "start_time": "2022-12-18T10:17:34.079Z"
   },
   {
    "duration": 2321,
    "start_time": "2022-12-18T10:18:04.853Z"
   },
   {
    "duration": 2673,
    "start_time": "2022-12-18T10:19:56.899Z"
   },
   {
    "duration": 2256,
    "start_time": "2022-12-18T10:20:14.871Z"
   },
   {
    "duration": 2378,
    "start_time": "2022-12-18T10:20:28.031Z"
   },
   {
    "duration": 1934,
    "start_time": "2022-12-18T10:20:43.995Z"
   },
   {
    "duration": 1116,
    "start_time": "2022-12-18T10:22:02.876Z"
   },
   {
    "duration": 1262,
    "start_time": "2022-12-18T10:22:31.535Z"
   },
   {
    "duration": 1056,
    "start_time": "2022-12-18T10:22:40.038Z"
   },
   {
    "duration": 1621,
    "start_time": "2022-12-18T10:22:49.230Z"
   },
   {
    "duration": 2181,
    "start_time": "2022-12-18T10:22:57.527Z"
   },
   {
    "duration": 4,
    "start_time": "2022-12-18T10:22:59.710Z"
   },
   {
    "duration": 295,
    "start_time": "2022-12-18T10:22:59.716Z"
   },
   {
    "duration": 18,
    "start_time": "2022-12-18T10:23:00.013Z"
   },
   {
    "duration": 7,
    "start_time": "2022-12-18T10:23:00.033Z"
   },
   {
    "duration": 26,
    "start_time": "2022-12-18T10:23:00.042Z"
   },
   {
    "duration": 20,
    "start_time": "2022-12-18T10:23:00.070Z"
   },
   {
    "duration": 99,
    "start_time": "2022-12-18T10:23:00.091Z"
   },
   {
    "duration": 24,
    "start_time": "2022-12-18T10:23:00.191Z"
   },
   {
    "duration": 4,
    "start_time": "2022-12-18T10:23:00.217Z"
   },
   {
    "duration": 48,
    "start_time": "2022-12-18T10:23:00.223Z"
   },
   {
    "duration": 21,
    "start_time": "2022-12-18T10:23:00.272Z"
   },
   {
    "duration": 374,
    "start_time": "2022-12-18T10:23:00.295Z"
   },
   {
    "duration": 18,
    "start_time": "2022-12-18T10:23:00.671Z"
   },
   {
    "duration": 20,
    "start_time": "2022-12-18T10:23:00.690Z"
   },
   {
    "duration": 37,
    "start_time": "2022-12-18T10:23:00.711Z"
   },
   {
    "duration": 40,
    "start_time": "2022-12-18T10:23:00.750Z"
   },
   {
    "duration": 8,
    "start_time": "2022-12-18T10:23:00.792Z"
   },
   {
    "duration": 37,
    "start_time": "2022-12-18T10:23:00.801Z"
   },
   {
    "duration": 41,
    "start_time": "2022-12-18T10:23:00.839Z"
   },
   {
    "duration": 1585,
    "start_time": "2022-12-18T10:23:00.881Z"
   },
   {
    "duration": 1501,
    "start_time": "2022-12-18T10:24:02.846Z"
   },
   {
    "duration": 1594,
    "start_time": "2022-12-18T10:24:20.212Z"
   },
   {
    "duration": 1516,
    "start_time": "2022-12-18T10:24:36.956Z"
   },
   {
    "duration": 2198,
    "start_time": "2022-12-18T10:25:27.846Z"
   },
   {
    "duration": 5,
    "start_time": "2022-12-18T10:25:30.047Z"
   },
   {
    "duration": 352,
    "start_time": "2022-12-18T10:25:30.054Z"
   },
   {
    "duration": 202,
    "start_time": "2022-12-18T10:25:30.409Z"
   },
   {
    "duration": 6,
    "start_time": "2022-12-18T10:25:30.614Z"
   },
   {
    "duration": 39,
    "start_time": "2022-12-18T10:25:30.622Z"
   },
   {
    "duration": 52,
    "start_time": "2022-12-18T10:25:30.663Z"
   },
   {
    "duration": 109,
    "start_time": "2022-12-18T10:25:30.717Z"
   },
   {
    "duration": 15,
    "start_time": "2022-12-18T10:25:30.828Z"
   },
   {
    "duration": 19,
    "start_time": "2022-12-18T10:25:30.845Z"
   },
   {
    "duration": 27,
    "start_time": "2022-12-18T10:25:30.865Z"
   },
   {
    "duration": 24,
    "start_time": "2022-12-18T10:25:30.894Z"
   },
   {
    "duration": 370,
    "start_time": "2022-12-18T10:25:30.919Z"
   },
   {
    "duration": 27,
    "start_time": "2022-12-18T10:25:31.292Z"
   },
   {
    "duration": 7,
    "start_time": "2022-12-18T10:25:31.321Z"
   },
   {
    "duration": 37,
    "start_time": "2022-12-18T10:25:31.330Z"
   },
   {
    "duration": 25,
    "start_time": "2022-12-18T10:25:31.369Z"
   },
   {
    "duration": 8,
    "start_time": "2022-12-18T10:25:31.396Z"
   },
   {
    "duration": 15,
    "start_time": "2022-12-18T10:25:31.405Z"
   },
   {
    "duration": 29,
    "start_time": "2022-12-18T10:25:31.421Z"
   },
   {
    "duration": 1353,
    "start_time": "2022-12-18T10:25:31.451Z"
   },
   {
    "duration": 1422,
    "start_time": "2022-12-18T10:26:11.372Z"
   },
   {
    "duration": 1072,
    "start_time": "2022-12-18T10:26:50.850Z"
   },
   {
    "duration": 2196,
    "start_time": "2022-12-18T10:27:03.216Z"
   },
   {
    "duration": 4,
    "start_time": "2022-12-18T10:27:05.414Z"
   },
   {
    "duration": 294,
    "start_time": "2022-12-18T10:27:05.419Z"
   },
   {
    "duration": 177,
    "start_time": "2022-12-18T10:27:05.715Z"
   },
   {
    "duration": 12,
    "start_time": "2022-12-18T10:27:05.894Z"
   },
   {
    "duration": 11,
    "start_time": "2022-12-18T10:27:05.908Z"
   },
   {
    "duration": 16,
    "start_time": "2022-12-18T10:27:05.921Z"
   },
   {
    "duration": 106,
    "start_time": "2022-12-18T10:27:05.939Z"
   },
   {
    "duration": 14,
    "start_time": "2022-12-18T10:27:06.047Z"
   },
   {
    "duration": 6,
    "start_time": "2022-12-18T10:27:06.062Z"
   },
   {
    "duration": 9,
    "start_time": "2022-12-18T10:27:06.069Z"
   },
   {
    "duration": 29,
    "start_time": "2022-12-18T10:27:06.080Z"
   },
   {
    "duration": 357,
    "start_time": "2022-12-18T10:27:06.111Z"
   },
   {
    "duration": 20,
    "start_time": "2022-12-18T10:27:06.471Z"
   },
   {
    "duration": 15,
    "start_time": "2022-12-18T10:27:06.492Z"
   },
   {
    "duration": 11,
    "start_time": "2022-12-18T10:27:06.509Z"
   },
   {
    "duration": 14,
    "start_time": "2022-12-18T10:27:06.522Z"
   },
   {
    "duration": 8,
    "start_time": "2022-12-18T10:27:06.538Z"
   },
   {
    "duration": 6,
    "start_time": "2022-12-18T10:27:06.548Z"
   },
   {
    "duration": 51,
    "start_time": "2022-12-18T10:27:06.556Z"
   },
   {
    "duration": 1147,
    "start_time": "2022-12-18T10:27:06.609Z"
   },
   {
    "duration": 2146,
    "start_time": "2022-12-18T10:29:08.864Z"
   },
   {
    "duration": 4,
    "start_time": "2022-12-18T10:29:11.013Z"
   },
   {
    "duration": 295,
    "start_time": "2022-12-18T10:29:11.019Z"
   },
   {
    "duration": 18,
    "start_time": "2022-12-18T10:29:11.316Z"
   },
   {
    "duration": 7,
    "start_time": "2022-12-18T10:29:11.336Z"
   },
   {
    "duration": 13,
    "start_time": "2022-12-18T10:29:11.344Z"
   },
   {
    "duration": 14,
    "start_time": "2022-12-18T10:29:11.360Z"
   },
   {
    "duration": 104,
    "start_time": "2022-12-18T10:29:11.376Z"
   },
   {
    "duration": 29,
    "start_time": "2022-12-18T10:29:11.482Z"
   },
   {
    "duration": 5,
    "start_time": "2022-12-18T10:29:11.513Z"
   },
   {
    "duration": 8,
    "start_time": "2022-12-18T10:29:11.520Z"
   },
   {
    "duration": 9,
    "start_time": "2022-12-18T10:29:11.530Z"
   },
   {
    "duration": 339,
    "start_time": "2022-12-18T10:29:11.540Z"
   },
   {
    "duration": 25,
    "start_time": "2022-12-18T10:29:11.883Z"
   },
   {
    "duration": 8,
    "start_time": "2022-12-18T10:29:11.909Z"
   },
   {
    "duration": 10,
    "start_time": "2022-12-18T10:29:11.918Z"
   },
   {
    "duration": 15,
    "start_time": "2022-12-18T10:29:11.930Z"
   },
   {
    "duration": 6,
    "start_time": "2022-12-18T10:29:11.947Z"
   },
   {
    "duration": 8,
    "start_time": "2022-12-18T10:29:11.954Z"
   },
   {
    "duration": 42,
    "start_time": "2022-12-18T10:29:11.963Z"
   },
   {
    "duration": 1218,
    "start_time": "2022-12-18T10:29:12.006Z"
   },
   {
    "duration": 1110,
    "start_time": "2022-12-18T10:29:25.615Z"
   },
   {
    "duration": 1219,
    "start_time": "2022-12-18T10:29:40.300Z"
   },
   {
    "duration": 1168,
    "start_time": "2022-12-18T10:29:50.599Z"
   },
   {
    "duration": 1247,
    "start_time": "2022-12-18T10:30:00.928Z"
   },
   {
    "duration": 1488,
    "start_time": "2022-12-18T10:30:36.810Z"
   },
   {
    "duration": 1213,
    "start_time": "2022-12-18T10:30:49.132Z"
   },
   {
    "duration": 1613,
    "start_time": "2022-12-18T10:30:56.526Z"
   },
   {
    "duration": 1339,
    "start_time": "2022-12-18T10:31:17.175Z"
   },
   {
    "duration": 2223,
    "start_time": "2022-12-18T10:31:34.674Z"
   },
   {
    "duration": 2074,
    "start_time": "2022-12-18T10:32:08.560Z"
   },
   {
    "duration": 2016,
    "start_time": "2022-12-18T10:32:42.468Z"
   },
   {
    "duration": 2291,
    "start_time": "2022-12-18T10:33:29.806Z"
   },
   {
    "duration": 2144,
    "start_time": "2022-12-18T10:35:00.724Z"
   },
   {
    "duration": 2431,
    "start_time": "2022-12-18T10:35:26.741Z"
   },
   {
    "duration": 2179,
    "start_time": "2022-12-18T10:36:54.503Z"
   },
   {
    "duration": 2330,
    "start_time": "2022-12-18T10:37:42.558Z"
   },
   {
    "duration": 2189,
    "start_time": "2022-12-18T10:38:50.640Z"
   },
   {
    "duration": 77,
    "start_time": "2022-12-18T10:41:10.307Z"
   },
   {
    "duration": 2185,
    "start_time": "2022-12-18T10:41:18.769Z"
   },
   {
    "duration": 2232,
    "start_time": "2022-12-18T10:41:56.737Z"
   },
   {
    "duration": 2507,
    "start_time": "2022-12-18T10:42:54.868Z"
   },
   {
    "duration": 2278,
    "start_time": "2022-12-18T10:43:04.542Z"
   },
   {
    "duration": 187,
    "start_time": "2022-12-18T10:44:17.868Z"
   },
   {
    "duration": 2224,
    "start_time": "2022-12-18T10:44:35.549Z"
   },
   {
    "duration": 1660,
    "start_time": "2022-12-18T10:46:24.794Z"
   },
   {
    "duration": 2130,
    "start_time": "2022-12-18T10:46:58.730Z"
   },
   {
    "duration": 1756,
    "start_time": "2022-12-18T10:47:17.668Z"
   },
   {
    "duration": 145,
    "start_time": "2022-12-18T10:47:36.754Z"
   },
   {
    "duration": 76,
    "start_time": "2022-12-18T10:49:19.994Z"
   },
   {
    "duration": 2163,
    "start_time": "2022-12-18T10:49:32.119Z"
   },
   {
    "duration": 937,
    "start_time": "2022-12-18T11:15:04.319Z"
   },
   {
    "duration": 837,
    "start_time": "2022-12-18T11:20:08.478Z"
   },
   {
    "duration": 1731,
    "start_time": "2022-12-18T11:20:33.922Z"
   },
   {
    "duration": 2507,
    "start_time": "2022-12-18T11:20:44.133Z"
   },
   {
    "duration": 2271,
    "start_time": "2022-12-18T11:22:00.375Z"
   },
   {
    "duration": 1923,
    "start_time": "2022-12-18T11:25:03.299Z"
   },
   {
    "duration": 1108,
    "start_time": "2022-12-18T11:25:22.935Z"
   },
   {
    "duration": 380,
    "start_time": "2022-12-18T11:25:36.668Z"
   },
   {
    "duration": 251,
    "start_time": "2022-12-18T11:26:06.718Z"
   },
   {
    "duration": 281,
    "start_time": "2022-12-18T11:26:54.971Z"
   },
   {
    "duration": 277,
    "start_time": "2022-12-18T11:27:31.973Z"
   },
   {
    "duration": 234,
    "start_time": "2022-12-18T11:27:54.144Z"
   },
   {
    "duration": 257,
    "start_time": "2022-12-18T11:30:38.564Z"
   },
   {
    "duration": 364,
    "start_time": "2022-12-18T11:30:55.035Z"
   },
   {
    "duration": 261,
    "start_time": "2022-12-18T11:31:30.605Z"
   },
   {
    "duration": 287,
    "start_time": "2022-12-18T11:31:47.712Z"
   },
   {
    "duration": 13,
    "start_time": "2022-12-18T12:03:24.932Z"
   },
   {
    "duration": 11,
    "start_time": "2022-12-18T12:03:43.580Z"
   },
   {
    "duration": 9,
    "start_time": "2022-12-18T12:03:53.130Z"
   },
   {
    "duration": 9,
    "start_time": "2022-12-18T12:05:06.641Z"
   },
   {
    "duration": 10,
    "start_time": "2022-12-18T12:05:30.720Z"
   },
   {
    "duration": 10,
    "start_time": "2022-12-18T12:05:44.087Z"
   },
   {
    "duration": 7,
    "start_time": "2022-12-18T12:08:17.019Z"
   },
   {
    "duration": 20,
    "start_time": "2022-12-18T12:09:58.260Z"
   },
   {
    "duration": 6,
    "start_time": "2022-12-18T12:11:25.838Z"
   },
   {
    "duration": 3064,
    "start_time": "2022-12-18T16:39:28.330Z"
   },
   {
    "duration": 1487,
    "start_time": "2022-12-18T16:39:31.396Z"
   },
   {
    "duration": 1378,
    "start_time": "2022-12-18T16:39:32.884Z"
   },
   {
    "duration": 18,
    "start_time": "2022-12-18T16:39:34.264Z"
   },
   {
    "duration": 6,
    "start_time": "2022-12-18T16:39:34.284Z"
   },
   {
    "duration": 10,
    "start_time": "2022-12-18T16:39:34.292Z"
   },
   {
    "duration": 25,
    "start_time": "2022-12-18T16:39:34.304Z"
   },
   {
    "duration": 172,
    "start_time": "2022-12-18T16:39:34.331Z"
   },
   {
    "duration": 13,
    "start_time": "2022-12-18T16:39:34.504Z"
   },
   {
    "duration": 4,
    "start_time": "2022-12-18T16:39:34.518Z"
   },
   {
    "duration": 8,
    "start_time": "2022-12-18T16:39:34.523Z"
   },
   {
    "duration": 6,
    "start_time": "2022-12-18T16:39:34.533Z"
   },
   {
    "duration": 522,
    "start_time": "2022-12-18T16:39:34.540Z"
   },
   {
    "duration": 17,
    "start_time": "2022-12-18T16:39:35.064Z"
   },
   {
    "duration": 8,
    "start_time": "2022-12-18T16:39:35.082Z"
   },
   {
    "duration": 11,
    "start_time": "2022-12-18T16:39:35.091Z"
   },
   {
    "duration": 25,
    "start_time": "2022-12-18T16:39:35.104Z"
   },
   {
    "duration": 7,
    "start_time": "2022-12-18T16:39:35.131Z"
   },
   {
    "duration": 6,
    "start_time": "2022-12-18T16:39:35.140Z"
   },
   {
    "duration": 14,
    "start_time": "2022-12-18T16:39:35.147Z"
   },
   {
    "duration": 2112,
    "start_time": "2022-12-18T16:39:35.163Z"
   },
   {
    "duration": 246,
    "start_time": "2022-12-18T16:39:37.276Z"
   },
   {
    "duration": 1144,
    "start_time": "2022-12-18T16:39:37.523Z"
   },
   {
    "duration": 14,
    "start_time": "2022-12-18T16:44:21.166Z"
   },
   {
    "duration": 14,
    "start_time": "2022-12-18T16:44:28.966Z"
   },
   {
    "duration": 9,
    "start_time": "2022-12-18T16:45:07.861Z"
   },
   {
    "duration": 9,
    "start_time": "2022-12-18T16:50:13.008Z"
   },
   {
    "duration": 69,
    "start_time": "2022-12-18T16:59:16.868Z"
   },
   {
    "duration": 537,
    "start_time": "2022-12-18T16:59:40.317Z"
   },
   {
    "duration": 4,
    "start_time": "2022-12-18T17:08:23.191Z"
   },
   {
    "duration": 6,
    "start_time": "2022-12-18T17:08:33.471Z"
   },
   {
    "duration": 6,
    "start_time": "2022-12-18T17:09:34.855Z"
   },
   {
    "duration": 1138,
    "start_time": "2022-12-18T17:13:15.581Z"
   },
   {
    "duration": 8,
    "start_time": "2022-12-18T17:13:34.839Z"
   },
   {
    "duration": 20,
    "start_time": "2022-12-18T17:15:05.262Z"
   },
   {
    "duration": 1080,
    "start_time": "2022-12-18T17:15:14.717Z"
   },
   {
    "duration": 18,
    "start_time": "2022-12-18T17:16:28.856Z"
   },
   {
    "duration": 18,
    "start_time": "2022-12-18T17:17:38.266Z"
   },
   {
    "duration": 135,
    "start_time": "2022-12-18T17:18:00.447Z"
   },
   {
    "duration": 8,
    "start_time": "2022-12-18T17:18:32.389Z"
   },
   {
    "duration": 1121,
    "start_time": "2022-12-18T17:18:47.639Z"
   },
   {
    "duration": 9,
    "start_time": "2022-12-18T17:19:28.905Z"
   },
   {
    "duration": 141,
    "start_time": "2022-12-18T17:19:30.502Z"
   },
   {
    "duration": 250,
    "start_time": "2022-12-18T17:19:56.862Z"
   },
   {
    "duration": 551,
    "start_time": "2022-12-18T17:20:48.922Z"
   },
   {
    "duration": 523,
    "start_time": "2022-12-18T17:22:54.806Z"
   },
   {
    "duration": 678,
    "start_time": "2022-12-18T17:23:18.963Z"
   },
   {
    "duration": 628,
    "start_time": "2022-12-18T17:25:00.564Z"
   },
   {
    "duration": 724,
    "start_time": "2022-12-18T17:25:16.345Z"
   },
   {
    "duration": 626,
    "start_time": "2022-12-18T17:25:36.251Z"
   },
   {
    "duration": 590,
    "start_time": "2022-12-18T17:25:56.316Z"
   },
   {
    "duration": 324,
    "start_time": "2022-12-18T17:26:39.662Z"
   },
   {
    "duration": 768,
    "start_time": "2022-12-18T17:26:58.942Z"
   },
   {
    "duration": 3,
    "start_time": "2022-12-18T17:58:35.469Z"
   },
   {
    "duration": 1157,
    "start_time": "2022-12-18T18:30:51.000Z"
   },
   {
    "duration": 4,
    "start_time": "2022-12-18T18:39:05.975Z"
   },
   {
    "duration": 3,
    "start_time": "2022-12-18T18:42:38.436Z"
   },
   {
    "duration": 9,
    "start_time": "2022-12-18T18:43:39.559Z"
   },
   {
    "duration": 4,
    "start_time": "2022-12-18T18:46:50.284Z"
   },
   {
    "duration": 4,
    "start_time": "2022-12-18T18:46:54.975Z"
   },
   {
    "duration": 9,
    "start_time": "2022-12-18T18:46:55.630Z"
   },
   {
    "duration": 2,
    "start_time": "2022-12-18T18:48:34.368Z"
   },
   {
    "duration": 4,
    "start_time": "2022-12-18T18:49:26.488Z"
   },
   {
    "duration": 3,
    "start_time": "2022-12-18T18:49:27.205Z"
   },
   {
    "duration": 3,
    "start_time": "2022-12-18T18:49:27.959Z"
   },
   {
    "duration": 3,
    "start_time": "2022-12-18T19:11:39.415Z"
   },
   {
    "duration": 269,
    "start_time": "2022-12-18T19:11:39.420Z"
   },
   {
    "duration": 17,
    "start_time": "2022-12-18T19:11:39.691Z"
   },
   {
    "duration": 7,
    "start_time": "2022-12-18T19:11:39.721Z"
   },
   {
    "duration": 11,
    "start_time": "2022-12-18T19:11:39.730Z"
   },
   {
    "duration": 14,
    "start_time": "2022-12-18T19:11:39.743Z"
   },
   {
    "duration": 105,
    "start_time": "2022-12-18T19:11:39.759Z"
   },
   {
    "duration": 13,
    "start_time": "2022-12-18T19:11:39.866Z"
   },
   {
    "duration": 7,
    "start_time": "2022-12-18T19:11:39.881Z"
   },
   {
    "duration": 10,
    "start_time": "2022-12-18T19:11:39.890Z"
   },
   {
    "duration": 27,
    "start_time": "2022-12-18T19:11:39.901Z"
   },
   {
    "duration": 333,
    "start_time": "2022-12-18T19:11:39.930Z"
   },
   {
    "duration": 18,
    "start_time": "2022-12-18T19:11:40.265Z"
   },
   {
    "duration": 7,
    "start_time": "2022-12-18T19:11:40.284Z"
   },
   {
    "duration": 12,
    "start_time": "2022-12-18T19:11:40.292Z"
   },
   {
    "duration": 18,
    "start_time": "2022-12-18T19:11:40.322Z"
   },
   {
    "duration": 7,
    "start_time": "2022-12-18T19:11:40.342Z"
   },
   {
    "duration": 9,
    "start_time": "2022-12-18T19:11:40.350Z"
   },
   {
    "duration": 11,
    "start_time": "2022-12-18T19:11:40.361Z"
   },
   {
    "duration": 2228,
    "start_time": "2022-12-18T19:11:40.373Z"
   },
   {
    "duration": 250,
    "start_time": "2022-12-18T19:11:42.602Z"
   },
   {
    "duration": 9,
    "start_time": "2022-12-18T19:11:42.854Z"
   },
   {
    "duration": 9,
    "start_time": "2022-12-18T19:11:42.864Z"
   },
   {
    "duration": 864,
    "start_time": "2022-12-18T19:11:42.874Z"
   },
   {
    "duration": 4,
    "start_time": "2022-12-18T19:11:43.739Z"
   },
   {
    "duration": 7,
    "start_time": "2022-12-18T19:11:43.744Z"
   },
   {
    "duration": 5,
    "start_time": "2022-12-18T19:11:43.752Z"
   },
   {
    "duration": 11,
    "start_time": "2022-12-18T19:12:54.778Z"
   },
   {
    "duration": 43,
    "start_time": "2022-12-18T19:13:35.895Z"
   },
   {
    "duration": 318,
    "start_time": "2022-12-18T19:13:35.941Z"
   },
   {
    "duration": 17,
    "start_time": "2022-12-18T19:13:36.261Z"
   },
   {
    "duration": 7,
    "start_time": "2022-12-18T19:13:36.279Z"
   },
   {
    "duration": 35,
    "start_time": "2022-12-18T19:13:36.288Z"
   },
   {
    "duration": 19,
    "start_time": "2022-12-18T19:13:36.326Z"
   },
   {
    "duration": 94,
    "start_time": "2022-12-18T19:13:36.347Z"
   },
   {
    "duration": 22,
    "start_time": "2022-12-18T19:13:36.443Z"
   },
   {
    "duration": 7,
    "start_time": "2022-12-18T19:13:36.468Z"
   },
   {
    "duration": 27,
    "start_time": "2022-12-18T19:13:36.477Z"
   },
   {
    "duration": 27,
    "start_time": "2022-12-18T19:13:36.506Z"
   },
   {
    "duration": 367,
    "start_time": "2022-12-18T19:13:36.534Z"
   },
   {
    "duration": 28,
    "start_time": "2022-12-18T19:13:36.903Z"
   },
   {
    "duration": 8,
    "start_time": "2022-12-18T19:13:36.934Z"
   },
   {
    "duration": 27,
    "start_time": "2022-12-18T19:13:36.944Z"
   },
   {
    "duration": 45,
    "start_time": "2022-12-18T19:13:36.972Z"
   },
   {
    "duration": 8,
    "start_time": "2022-12-18T19:13:37.019Z"
   },
   {
    "duration": 16,
    "start_time": "2022-12-18T19:13:37.029Z"
   },
   {
    "duration": 15,
    "start_time": "2022-12-18T19:13:37.047Z"
   },
   {
    "duration": 2372,
    "start_time": "2022-12-18T19:13:37.064Z"
   },
   {
    "duration": 254,
    "start_time": "2022-12-18T19:13:39.438Z"
   },
   {
    "duration": 11,
    "start_time": "2022-12-18T19:13:39.694Z"
   },
   {
    "duration": 21,
    "start_time": "2022-12-18T19:13:39.707Z"
   },
   {
    "duration": 898,
    "start_time": "2022-12-18T19:13:39.730Z"
   },
   {
    "duration": 3,
    "start_time": "2022-12-18T19:13:40.630Z"
   },
   {
    "duration": 8,
    "start_time": "2022-12-18T19:13:40.634Z"
   },
   {
    "duration": 7,
    "start_time": "2022-12-18T19:13:40.643Z"
   },
   {
    "duration": 15,
    "start_time": "2022-12-18T19:13:40.652Z"
   },
   {
    "duration": 4,
    "start_time": "2022-12-18T19:15:33.498Z"
   },
   {
    "duration": 269,
    "start_time": "2022-12-18T19:15:33.504Z"
   },
   {
    "duration": 17,
    "start_time": "2022-12-18T19:15:33.774Z"
   },
   {
    "duration": 10,
    "start_time": "2022-12-18T19:15:33.794Z"
   },
   {
    "duration": 24,
    "start_time": "2022-12-18T19:15:33.806Z"
   },
   {
    "duration": 16,
    "start_time": "2022-12-18T19:15:33.832Z"
   },
   {
    "duration": 111,
    "start_time": "2022-12-18T19:15:33.849Z"
   },
   {
    "duration": 14,
    "start_time": "2022-12-18T19:15:33.962Z"
   },
   {
    "duration": 5,
    "start_time": "2022-12-18T19:15:33.977Z"
   },
   {
    "duration": 8,
    "start_time": "2022-12-18T19:15:33.985Z"
   },
   {
    "duration": 37,
    "start_time": "2022-12-18T19:15:33.994Z"
   },
   {
    "duration": 396,
    "start_time": "2022-12-18T19:15:34.033Z"
   },
   {
    "duration": 16,
    "start_time": "2022-12-18T19:15:34.431Z"
   },
   {
    "duration": 7,
    "start_time": "2022-12-18T19:15:34.449Z"
   },
   {
    "duration": 13,
    "start_time": "2022-12-18T19:15:34.457Z"
   },
   {
    "duration": 14,
    "start_time": "2022-12-18T19:15:34.471Z"
   },
   {
    "duration": 42,
    "start_time": "2022-12-18T19:15:34.488Z"
   },
   {
    "duration": 8,
    "start_time": "2022-12-18T19:15:34.532Z"
   },
   {
    "duration": 15,
    "start_time": "2022-12-18T19:15:34.542Z"
   },
   {
    "duration": 2251,
    "start_time": "2022-12-18T19:15:34.559Z"
   },
   {
    "duration": 261,
    "start_time": "2022-12-18T19:15:36.812Z"
   },
   {
    "duration": 10,
    "start_time": "2022-12-18T19:15:37.076Z"
   },
   {
    "duration": 11,
    "start_time": "2022-12-18T19:15:37.088Z"
   },
   {
    "duration": 655,
    "start_time": "2022-12-18T19:15:37.102Z"
   },
   {
    "duration": 4,
    "start_time": "2022-12-18T19:15:37.759Z"
   },
   {
    "duration": 9,
    "start_time": "2022-12-18T19:15:37.764Z"
   },
   {
    "duration": 12,
    "start_time": "2022-12-18T19:15:37.774Z"
   },
   {
    "duration": 7,
    "start_time": "2022-12-18T19:15:37.789Z"
   },
   {
    "duration": 96,
    "start_time": "2022-12-18T19:15:37.797Z"
   },
   {
    "duration": 11,
    "start_time": "2022-12-18T19:20:14.714Z"
   },
   {
    "duration": 5,
    "start_time": "2022-12-18T19:20:51.660Z"
   },
   {
    "duration": 274,
    "start_time": "2022-12-18T19:20:51.667Z"
   },
   {
    "duration": 16,
    "start_time": "2022-12-18T19:20:51.942Z"
   },
   {
    "duration": 6,
    "start_time": "2022-12-18T19:20:51.960Z"
   },
   {
    "duration": 13,
    "start_time": "2022-12-18T19:20:51.968Z"
   },
   {
    "duration": 17,
    "start_time": "2022-12-18T19:20:51.983Z"
   },
   {
    "duration": 92,
    "start_time": "2022-12-18T19:20:52.002Z"
   },
   {
    "duration": 12,
    "start_time": "2022-12-18T19:20:52.095Z"
   },
   {
    "duration": 5,
    "start_time": "2022-12-18T19:20:52.125Z"
   },
   {
    "duration": 17,
    "start_time": "2022-12-18T19:20:52.131Z"
   },
   {
    "duration": 6,
    "start_time": "2022-12-18T19:20:52.149Z"
   },
   {
    "duration": 316,
    "start_time": "2022-12-18T19:20:52.157Z"
   },
   {
    "duration": 17,
    "start_time": "2022-12-18T19:20:52.474Z"
   },
   {
    "duration": 7,
    "start_time": "2022-12-18T19:20:52.494Z"
   },
   {
    "duration": 24,
    "start_time": "2022-12-18T19:20:52.502Z"
   },
   {
    "duration": 14,
    "start_time": "2022-12-18T19:20:52.527Z"
   },
   {
    "duration": 7,
    "start_time": "2022-12-18T19:20:52.543Z"
   },
   {
    "duration": 8,
    "start_time": "2022-12-18T19:20:52.551Z"
   },
   {
    "duration": 11,
    "start_time": "2022-12-18T19:20:52.561Z"
   },
   {
    "duration": 2417,
    "start_time": "2022-12-18T19:20:52.574Z"
   },
   {
    "duration": 270,
    "start_time": "2022-12-18T19:20:54.993Z"
   },
   {
    "duration": 9,
    "start_time": "2022-12-18T19:20:55.265Z"
   },
   {
    "duration": 10,
    "start_time": "2022-12-18T19:20:55.276Z"
   },
   {
    "duration": 674,
    "start_time": "2022-12-18T19:20:55.288Z"
   },
   {
    "duration": 3,
    "start_time": "2022-12-18T19:20:55.964Z"
   },
   {
    "duration": 5,
    "start_time": "2022-12-18T19:20:55.968Z"
   },
   {
    "duration": 6,
    "start_time": "2022-12-18T19:20:55.975Z"
   },
   {
    "duration": 11,
    "start_time": "2022-12-18T19:20:55.983Z"
   },
   {
    "duration": 28,
    "start_time": "2022-12-18T19:20:55.995Z"
   },
   {
    "duration": 12,
    "start_time": "2022-12-18T19:21:30.252Z"
   },
   {
    "duration": 10,
    "start_time": "2022-12-18T19:21:40.459Z"
   },
   {
    "duration": 9,
    "start_time": "2022-12-18T19:22:17.897Z"
   },
   {
    "duration": 10,
    "start_time": "2022-12-18T19:23:42.657Z"
   },
   {
    "duration": 5,
    "start_time": "2022-12-18T19:24:28.060Z"
   },
   {
    "duration": 264,
    "start_time": "2022-12-18T19:24:28.068Z"
   },
   {
    "duration": 23,
    "start_time": "2022-12-18T19:24:28.334Z"
   },
   {
    "duration": 10,
    "start_time": "2022-12-18T19:24:28.360Z"
   },
   {
    "duration": 17,
    "start_time": "2022-12-18T19:24:28.372Z"
   },
   {
    "duration": 33,
    "start_time": "2022-12-18T19:24:28.391Z"
   },
   {
    "duration": 89,
    "start_time": "2022-12-18T19:24:28.426Z"
   },
   {
    "duration": 18,
    "start_time": "2022-12-18T19:24:28.516Z"
   },
   {
    "duration": 4,
    "start_time": "2022-12-18T19:24:28.536Z"
   },
   {
    "duration": 9,
    "start_time": "2022-12-18T19:24:28.543Z"
   },
   {
    "duration": 10,
    "start_time": "2022-12-18T19:24:28.554Z"
   },
   {
    "duration": 359,
    "start_time": "2022-12-18T19:24:28.566Z"
   },
   {
    "duration": 18,
    "start_time": "2022-12-18T19:24:28.926Z"
   },
   {
    "duration": 7,
    "start_time": "2022-12-18T19:24:28.946Z"
   },
   {
    "duration": 13,
    "start_time": "2022-12-18T19:24:28.955Z"
   },
   {
    "duration": 14,
    "start_time": "2022-12-18T19:24:28.969Z"
   },
   {
    "duration": 38,
    "start_time": "2022-12-18T19:24:28.985Z"
   },
   {
    "duration": 6,
    "start_time": "2022-12-18T19:24:29.025Z"
   },
   {
    "duration": 11,
    "start_time": "2022-12-18T19:24:29.032Z"
   },
   {
    "duration": 2283,
    "start_time": "2022-12-18T19:24:29.044Z"
   },
   {
    "duration": 238,
    "start_time": "2022-12-18T19:24:31.329Z"
   },
   {
    "duration": 9,
    "start_time": "2022-12-18T19:24:31.568Z"
   },
   {
    "duration": 15,
    "start_time": "2022-12-18T19:24:31.579Z"
   },
   {
    "duration": 907,
    "start_time": "2022-12-18T19:24:31.597Z"
   },
   {
    "duration": 4,
    "start_time": "2022-12-18T19:24:32.507Z"
   },
   {
    "duration": 14,
    "start_time": "2022-12-18T19:24:32.512Z"
   },
   {
    "duration": 7,
    "start_time": "2022-12-18T19:24:32.528Z"
   },
   {
    "duration": 8,
    "start_time": "2022-12-18T19:24:32.539Z"
   },
   {
    "duration": 292,
    "start_time": "2022-12-18T19:24:32.548Z"
   },
   {
    "duration": 6,
    "start_time": "2022-12-18T19:34:39.790Z"
   },
   {
    "duration": 314,
    "start_time": "2022-12-18T19:34:39.797Z"
   },
   {
    "duration": 20,
    "start_time": "2022-12-18T19:34:40.113Z"
   },
   {
    "duration": 6,
    "start_time": "2022-12-18T19:34:40.135Z"
   },
   {
    "duration": 11,
    "start_time": "2022-12-18T19:34:40.143Z"
   },
   {
    "duration": 15,
    "start_time": "2022-12-18T19:34:40.156Z"
   },
   {
    "duration": 103,
    "start_time": "2022-12-18T19:34:40.173Z"
   },
   {
    "duration": 13,
    "start_time": "2022-12-18T19:34:40.277Z"
   },
   {
    "duration": 6,
    "start_time": "2022-12-18T19:34:40.292Z"
   },
   {
    "duration": 28,
    "start_time": "2022-12-18T19:34:40.300Z"
   },
   {
    "duration": 9,
    "start_time": "2022-12-18T19:34:40.330Z"
   },
   {
    "duration": 338,
    "start_time": "2022-12-18T19:34:40.341Z"
   },
   {
    "duration": 18,
    "start_time": "2022-12-18T19:34:40.681Z"
   },
   {
    "duration": 20,
    "start_time": "2022-12-18T19:34:40.702Z"
   },
   {
    "duration": 12,
    "start_time": "2022-12-18T19:34:40.724Z"
   },
   {
    "duration": 14,
    "start_time": "2022-12-18T19:34:40.738Z"
   },
   {
    "duration": 8,
    "start_time": "2022-12-18T19:34:40.754Z"
   },
   {
    "duration": 22,
    "start_time": "2022-12-18T19:34:40.763Z"
   },
   {
    "duration": 10,
    "start_time": "2022-12-18T19:34:40.787Z"
   },
   {
    "duration": 2072,
    "start_time": "2022-12-18T19:34:40.799Z"
   },
   {
    "duration": 561,
    "start_time": "2022-12-18T19:34:42.874Z"
   },
   {
    "duration": 10,
    "start_time": "2022-12-18T19:34:43.438Z"
   },
   {
    "duration": 8,
    "start_time": "2022-12-18T19:34:43.450Z"
   },
   {
    "duration": 702,
    "start_time": "2022-12-18T19:34:43.459Z"
   },
   {
    "duration": 5,
    "start_time": "2022-12-18T19:34:44.163Z"
   },
   {
    "duration": 16,
    "start_time": "2022-12-18T19:34:44.169Z"
   },
   {
    "duration": 11,
    "start_time": "2022-12-18T19:34:44.187Z"
   },
   {
    "duration": 16,
    "start_time": "2022-12-18T19:34:44.200Z"
   },
   {
    "duration": 290,
    "start_time": "2022-12-18T19:34:44.219Z"
   },
   {
    "duration": 79,
    "start_time": "2022-12-18T19:42:36.035Z"
   },
   {
    "duration": 5,
    "start_time": "2022-12-18T19:42:42.123Z"
   },
   {
    "duration": 314,
    "start_time": "2022-12-18T19:42:42.140Z"
   },
   {
    "duration": 17,
    "start_time": "2022-12-18T19:42:42.456Z"
   },
   {
    "duration": 6,
    "start_time": "2022-12-18T19:42:42.475Z"
   },
   {
    "duration": 13,
    "start_time": "2022-12-18T19:42:42.483Z"
   },
   {
    "duration": 40,
    "start_time": "2022-12-18T19:42:42.499Z"
   },
   {
    "duration": 102,
    "start_time": "2022-12-18T19:42:42.540Z"
   },
   {
    "duration": 14,
    "start_time": "2022-12-18T19:42:42.644Z"
   },
   {
    "duration": 5,
    "start_time": "2022-12-18T19:42:42.660Z"
   },
   {
    "duration": 15,
    "start_time": "2022-12-18T19:42:42.667Z"
   },
   {
    "duration": 7,
    "start_time": "2022-12-18T19:42:42.684Z"
   },
   {
    "duration": 389,
    "start_time": "2022-12-18T19:42:42.693Z"
   },
   {
    "duration": 18,
    "start_time": "2022-12-18T19:42:43.084Z"
   },
   {
    "duration": 20,
    "start_time": "2022-12-18T19:42:43.103Z"
   },
   {
    "duration": 25,
    "start_time": "2022-12-18T19:42:43.126Z"
   },
   {
    "duration": 15,
    "start_time": "2022-12-18T19:42:43.153Z"
   },
   {
    "duration": 7,
    "start_time": "2022-12-18T19:42:43.169Z"
   },
   {
    "duration": 8,
    "start_time": "2022-12-18T19:42:43.178Z"
   },
   {
    "duration": 11,
    "start_time": "2022-12-18T19:42:43.187Z"
   },
   {
    "duration": 2421,
    "start_time": "2022-12-18T19:42:43.200Z"
   },
   {
    "duration": 330,
    "start_time": "2022-12-18T19:42:45.623Z"
   },
   {
    "duration": 10,
    "start_time": "2022-12-18T19:42:45.955Z"
   },
   {
    "duration": 9,
    "start_time": "2022-12-18T19:42:45.967Z"
   },
   {
    "duration": 712,
    "start_time": "2022-12-18T19:42:45.978Z"
   },
   {
    "duration": 3,
    "start_time": "2022-12-18T19:42:46.692Z"
   },
   {
    "duration": 7,
    "start_time": "2022-12-18T19:42:46.697Z"
   },
   {
    "duration": 5,
    "start_time": "2022-12-18T19:42:46.706Z"
   },
   {
    "duration": 29,
    "start_time": "2022-12-18T19:42:46.712Z"
   },
   {
    "duration": 105,
    "start_time": "2022-12-18T19:42:46.743Z"
   },
   {
    "duration": 253,
    "start_time": "2022-12-18T19:42:46.850Z"
   },
   {
    "duration": 3,
    "start_time": "2022-12-18T19:47:41.104Z"
   },
   {
    "duration": 5,
    "start_time": "2022-12-18T19:47:41.720Z"
   },
   {
    "duration": 3,
    "start_time": "2022-12-18T19:47:42.290Z"
   },
   {
    "duration": 7,
    "start_time": "2022-12-18T19:47:42.838Z"
   },
   {
    "duration": 93,
    "start_time": "2022-12-18T19:47:43.376Z"
   },
   {
    "duration": 89,
    "start_time": "2022-12-18T19:47:50.862Z"
   },
   {
    "duration": 4,
    "start_time": "2022-12-18T19:48:16.656Z"
   },
   {
    "duration": 3,
    "start_time": "2022-12-18T19:48:19.012Z"
   },
   {
    "duration": 5,
    "start_time": "2022-12-18T19:48:19.597Z"
   },
   {
    "duration": 6,
    "start_time": "2022-12-18T19:48:20.183Z"
   },
   {
    "duration": 497,
    "start_time": "2022-12-18T19:48:59.278Z"
   },
   {
    "duration": 72,
    "start_time": "2022-12-18T19:51:48.337Z"
   },
   {
    "duration": 459,
    "start_time": "2022-12-18T19:52:14.459Z"
   },
   {
    "duration": 4,
    "start_time": "2022-12-18T19:54:58.107Z"
   },
   {
    "duration": 317,
    "start_time": "2022-12-18T19:54:58.113Z"
   },
   {
    "duration": 18,
    "start_time": "2022-12-18T19:54:58.432Z"
   },
   {
    "duration": 7,
    "start_time": "2022-12-18T19:54:58.452Z"
   },
   {
    "duration": 12,
    "start_time": "2022-12-18T19:54:58.462Z"
   },
   {
    "duration": 17,
    "start_time": "2022-12-18T19:54:58.476Z"
   },
   {
    "duration": 110,
    "start_time": "2022-12-18T19:54:58.495Z"
   },
   {
    "duration": 32,
    "start_time": "2022-12-18T19:54:58.606Z"
   },
   {
    "duration": 7,
    "start_time": "2022-12-18T19:54:58.640Z"
   },
   {
    "duration": 10,
    "start_time": "2022-12-18T19:54:58.649Z"
   },
   {
    "duration": 7,
    "start_time": "2022-12-18T19:54:58.661Z"
   },
   {
    "duration": 404,
    "start_time": "2022-12-18T19:54:58.670Z"
   },
   {
    "duration": 19,
    "start_time": "2022-12-18T19:54:59.076Z"
   },
   {
    "duration": 24,
    "start_time": "2022-12-18T19:54:59.098Z"
   },
   {
    "duration": 28,
    "start_time": "2022-12-18T19:54:59.125Z"
   },
   {
    "duration": 15,
    "start_time": "2022-12-18T19:54:59.155Z"
   },
   {
    "duration": 9,
    "start_time": "2022-12-18T19:54:59.172Z"
   },
   {
    "duration": 11,
    "start_time": "2022-12-18T19:54:59.183Z"
   },
   {
    "duration": 36,
    "start_time": "2022-12-18T19:54:59.196Z"
   },
   {
    "duration": 2891,
    "start_time": "2022-12-18T19:54:59.235Z"
   },
   {
    "duration": 296,
    "start_time": "2022-12-18T19:55:02.128Z"
   },
   {
    "duration": 9,
    "start_time": "2022-12-18T19:55:02.429Z"
   },
   {
    "duration": 19,
    "start_time": "2022-12-18T19:55:02.440Z"
   },
   {
    "duration": 740,
    "start_time": "2022-12-18T19:55:02.461Z"
   },
   {
    "duration": 5,
    "start_time": "2022-12-18T19:55:03.202Z"
   },
   {
    "duration": 14,
    "start_time": "2022-12-18T19:55:03.209Z"
   },
   {
    "duration": 14,
    "start_time": "2022-12-18T19:55:03.225Z"
   },
   {
    "duration": 13,
    "start_time": "2022-12-18T19:55:03.241Z"
   },
   {
    "duration": 545,
    "start_time": "2022-12-18T19:55:03.256Z"
   },
   {
    "duration": 311,
    "start_time": "2022-12-18T19:55:03.804Z"
   },
   {
    "duration": 11,
    "start_time": "2022-12-18T19:55:13.338Z"
   },
   {
    "duration": 88,
    "start_time": "2022-12-18T19:55:27.987Z"
   },
   {
    "duration": 456,
    "start_time": "2022-12-18T19:59:13.641Z"
   },
   {
    "duration": 2897,
    "start_time": "2022-12-18T20:04:00.500Z"
   },
   {
    "duration": 188,
    "start_time": "2022-12-18T20:10:53.474Z"
   },
   {
    "duration": 158,
    "start_time": "2022-12-18T20:12:25.602Z"
   },
   {
    "duration": 4,
    "start_time": "2022-12-18T20:15:02.703Z"
   },
   {
    "duration": 299,
    "start_time": "2022-12-18T20:15:02.709Z"
   },
   {
    "duration": 20,
    "start_time": "2022-12-18T20:15:03.009Z"
   },
   {
    "duration": 7,
    "start_time": "2022-12-18T20:15:03.031Z"
   },
   {
    "duration": 12,
    "start_time": "2022-12-18T20:15:03.039Z"
   },
   {
    "duration": 13,
    "start_time": "2022-12-18T20:15:03.053Z"
   },
   {
    "duration": 108,
    "start_time": "2022-12-18T20:15:03.068Z"
   },
   {
    "duration": 15,
    "start_time": "2022-12-18T20:15:03.178Z"
   },
   {
    "duration": 5,
    "start_time": "2022-12-18T20:15:03.195Z"
   },
   {
    "duration": 25,
    "start_time": "2022-12-18T20:15:03.202Z"
   },
   {
    "duration": 7,
    "start_time": "2022-12-18T20:15:03.228Z"
   },
   {
    "duration": 363,
    "start_time": "2022-12-18T20:15:03.236Z"
   },
   {
    "duration": 26,
    "start_time": "2022-12-18T20:15:03.600Z"
   },
   {
    "duration": 8,
    "start_time": "2022-12-18T20:15:03.627Z"
   },
   {
    "duration": 15,
    "start_time": "2022-12-18T20:15:03.637Z"
   },
   {
    "duration": 15,
    "start_time": "2022-12-18T20:15:03.653Z"
   },
   {
    "duration": 7,
    "start_time": "2022-12-18T20:15:03.669Z"
   },
   {
    "duration": 11,
    "start_time": "2022-12-18T20:15:03.678Z"
   },
   {
    "duration": 39,
    "start_time": "2022-12-18T20:15:03.690Z"
   },
   {
    "duration": 2485,
    "start_time": "2022-12-18T20:15:03.731Z"
   },
   {
    "duration": 238,
    "start_time": "2022-12-18T20:15:06.222Z"
   },
   {
    "duration": 9,
    "start_time": "2022-12-18T20:15:06.462Z"
   },
   {
    "duration": 31,
    "start_time": "2022-12-18T20:15:06.473Z"
   },
   {
    "duration": 639,
    "start_time": "2022-12-18T20:15:06.505Z"
   },
   {
    "duration": 3,
    "start_time": "2022-12-18T20:15:07.146Z"
   },
   {
    "duration": 24,
    "start_time": "2022-12-18T20:15:07.150Z"
   },
   {
    "duration": 17,
    "start_time": "2022-12-18T20:15:07.176Z"
   },
   {
    "duration": 18,
    "start_time": "2022-12-18T20:15:07.197Z"
   },
   {
    "duration": 173,
    "start_time": "2022-12-18T20:15:07.217Z"
   },
   {
    "duration": 13,
    "start_time": "2022-12-18T20:15:07.391Z"
   },
   {
    "duration": 8,
    "start_time": "2022-12-18T20:16:53.096Z"
   },
   {
    "duration": 4,
    "start_time": "2022-12-18T20:16:56.568Z"
   },
   {
    "duration": 412,
    "start_time": "2022-12-18T20:16:56.573Z"
   },
   {
    "duration": 17,
    "start_time": "2022-12-18T20:16:56.987Z"
   },
   {
    "duration": 6,
    "start_time": "2022-12-18T20:16:57.006Z"
   },
   {
    "duration": 38,
    "start_time": "2022-12-18T20:16:57.014Z"
   },
   {
    "duration": 36,
    "start_time": "2022-12-18T20:16:57.054Z"
   },
   {
    "duration": 94,
    "start_time": "2022-12-18T20:16:57.091Z"
   },
   {
    "duration": 53,
    "start_time": "2022-12-18T20:16:57.186Z"
   },
   {
    "duration": 5,
    "start_time": "2022-12-18T20:16:57.243Z"
   },
   {
    "duration": 9,
    "start_time": "2022-12-18T20:16:57.249Z"
   },
   {
    "duration": 13,
    "start_time": "2022-12-18T20:16:57.260Z"
   },
   {
    "duration": 397,
    "start_time": "2022-12-18T20:16:57.275Z"
   },
   {
    "duration": 19,
    "start_time": "2022-12-18T20:16:57.674Z"
   },
   {
    "duration": 7,
    "start_time": "2022-12-18T20:16:57.694Z"
   },
   {
    "duration": 24,
    "start_time": "2022-12-18T20:16:57.702Z"
   },
   {
    "duration": 14,
    "start_time": "2022-12-18T20:16:57.728Z"
   },
   {
    "duration": 7,
    "start_time": "2022-12-18T20:16:57.744Z"
   },
   {
    "duration": 7,
    "start_time": "2022-12-18T20:16:57.752Z"
   },
   {
    "duration": 13,
    "start_time": "2022-12-18T20:16:57.761Z"
   },
   {
    "duration": 2373,
    "start_time": "2022-12-18T20:16:57.776Z"
   },
   {
    "duration": 245,
    "start_time": "2022-12-18T20:17:00.151Z"
   },
   {
    "duration": 9,
    "start_time": "2022-12-18T20:17:00.398Z"
   },
   {
    "duration": 39,
    "start_time": "2022-12-18T20:17:00.409Z"
   },
   {
    "duration": 659,
    "start_time": "2022-12-18T20:17:00.451Z"
   },
   {
    "duration": 18,
    "start_time": "2022-12-18T20:17:01.112Z"
   },
   {
    "duration": 53,
    "start_time": "2022-12-18T20:17:01.132Z"
   },
   {
    "duration": 19,
    "start_time": "2022-12-18T20:17:01.187Z"
   },
   {
    "duration": 27,
    "start_time": "2022-12-18T20:17:01.208Z"
   },
   {
    "duration": 55,
    "start_time": "2022-12-18T20:17:01.237Z"
   },
   {
    "duration": 2331,
    "start_time": "2022-12-18T20:17:01.294Z"
   },
   {
    "duration": 96,
    "start_time": "2022-12-18T20:17:03.627Z"
   },
   {
    "duration": 366,
    "start_time": "2022-12-18T20:19:37.073Z"
   },
   {
    "duration": 4692,
    "start_time": "2022-12-18T20:25:54.736Z"
   },
   {
    "duration": 4523,
    "start_time": "2022-12-18T20:29:15.606Z"
   },
   {
    "duration": 4746,
    "start_time": "2022-12-18T20:31:01.514Z"
   },
   {
    "duration": 6350,
    "start_time": "2022-12-18T20:37:59.079Z"
   },
   {
    "duration": 7199,
    "start_time": "2022-12-18T20:41:36.042Z"
   },
   {
    "duration": 9364,
    "start_time": "2022-12-18T20:42:08.161Z"
   },
   {
    "duration": 609,
    "start_time": "2022-12-18T20:49:18.461Z"
   },
   {
    "duration": 38191,
    "start_time": "2022-12-18T20:49:37.416Z"
   },
   {
    "duration": 50,
    "start_time": "2022-12-18T20:54:32.126Z"
   },
   {
    "duration": 35,
    "start_time": "2022-12-18T20:55:11.370Z"
   },
   {
    "duration": 4,
    "start_time": "2022-12-18T20:58:05.405Z"
   },
   {
    "duration": 366,
    "start_time": "2022-12-18T20:58:05.412Z"
   },
   {
    "duration": 17,
    "start_time": "2022-12-18T20:58:05.780Z"
   },
   {
    "duration": 9,
    "start_time": "2022-12-18T20:58:05.798Z"
   },
   {
    "duration": 35,
    "start_time": "2022-12-18T20:58:05.821Z"
   },
   {
    "duration": 52,
    "start_time": "2022-12-18T20:58:05.858Z"
   },
   {
    "duration": 148,
    "start_time": "2022-12-18T20:58:05.911Z"
   },
   {
    "duration": 12,
    "start_time": "2022-12-18T20:58:06.060Z"
   },
   {
    "duration": 28,
    "start_time": "2022-12-18T20:58:06.074Z"
   },
   {
    "duration": 15,
    "start_time": "2022-12-18T20:58:06.104Z"
   },
   {
    "duration": 40,
    "start_time": "2022-12-18T20:58:06.120Z"
   },
   {
    "duration": 388,
    "start_time": "2022-12-18T20:58:06.162Z"
   },
   {
    "duration": 18,
    "start_time": "2022-12-18T20:58:06.552Z"
   },
   {
    "duration": 29,
    "start_time": "2022-12-18T20:58:06.574Z"
   },
   {
    "duration": 45,
    "start_time": "2022-12-18T20:58:06.605Z"
   },
   {
    "duration": 36,
    "start_time": "2022-12-18T20:58:06.652Z"
   },
   {
    "duration": 24,
    "start_time": "2022-12-18T20:58:06.691Z"
   },
   {
    "duration": 35,
    "start_time": "2022-12-18T20:58:06.717Z"
   },
   {
    "duration": 42,
    "start_time": "2022-12-18T20:58:06.753Z"
   },
   {
    "duration": 2592,
    "start_time": "2022-12-18T20:58:06.797Z"
   },
   {
    "duration": 263,
    "start_time": "2022-12-18T20:58:09.391Z"
   },
   {
    "duration": 9,
    "start_time": "2022-12-18T20:58:09.655Z"
   },
   {
    "duration": 8,
    "start_time": "2022-12-18T20:58:09.665Z"
   },
   {
    "duration": 1097,
    "start_time": "2022-12-18T20:58:09.675Z"
   },
   {
    "duration": 8,
    "start_time": "2022-12-18T20:58:10.773Z"
   },
   {
    "duration": 5,
    "start_time": "2022-12-18T20:58:10.782Z"
   },
   {
    "duration": 6,
    "start_time": "2022-12-18T20:58:10.788Z"
   },
   {
    "duration": 5,
    "start_time": "2022-12-18T20:58:10.795Z"
   },
   {
    "duration": 25,
    "start_time": "2022-12-18T20:58:10.801Z"
   },
   {
    "duration": 12901,
    "start_time": "2022-12-18T20:58:10.828Z"
   },
   {
    "duration": 39095,
    "start_time": "2022-12-18T20:58:23.741Z"
   },
   {
    "duration": 19315,
    "start_time": "2022-12-18T21:03:28.355Z"
   },
   {
    "duration": 18209,
    "start_time": "2022-12-18T21:05:26.022Z"
   },
   {
    "duration": 18337,
    "start_time": "2022-12-18T21:06:18.736Z"
   },
   {
    "duration": 19245,
    "start_time": "2022-12-18T21:08:58.622Z"
   },
   {
    "duration": 20073,
    "start_time": "2022-12-18T21:09:50.133Z"
   },
   {
    "duration": 452,
    "start_time": "2022-12-19T19:52:30.436Z"
   },
   {
    "duration": 0,
    "start_time": "2022-12-19T19:52:30.891Z"
   },
   {
    "duration": 0,
    "start_time": "2022-12-19T19:52:30.892Z"
   },
   {
    "duration": 0,
    "start_time": "2022-12-19T19:52:30.893Z"
   },
   {
    "duration": 0,
    "start_time": "2022-12-19T19:52:30.895Z"
   },
   {
    "duration": 0,
    "start_time": "2022-12-19T19:52:30.896Z"
   },
   {
    "duration": 0,
    "start_time": "2022-12-19T19:52:30.897Z"
   },
   {
    "duration": 0,
    "start_time": "2022-12-19T19:52:30.898Z"
   },
   {
    "duration": 0,
    "start_time": "2022-12-19T19:52:30.899Z"
   },
   {
    "duration": 0,
    "start_time": "2022-12-19T19:52:30.915Z"
   },
   {
    "duration": 0,
    "start_time": "2022-12-19T19:52:30.917Z"
   },
   {
    "duration": 0,
    "start_time": "2022-12-19T19:52:30.918Z"
   },
   {
    "duration": 0,
    "start_time": "2022-12-19T19:52:30.919Z"
   },
   {
    "duration": 0,
    "start_time": "2022-12-19T19:52:30.920Z"
   },
   {
    "duration": 0,
    "start_time": "2022-12-19T19:52:30.920Z"
   },
   {
    "duration": 0,
    "start_time": "2022-12-19T19:52:30.921Z"
   },
   {
    "duration": 0,
    "start_time": "2022-12-19T19:52:30.922Z"
   },
   {
    "duration": 0,
    "start_time": "2022-12-19T19:52:30.923Z"
   },
   {
    "duration": 0,
    "start_time": "2022-12-19T19:52:30.924Z"
   },
   {
    "duration": 0,
    "start_time": "2022-12-19T19:52:30.925Z"
   },
   {
    "duration": 0,
    "start_time": "2022-12-19T19:52:30.926Z"
   },
   {
    "duration": 0,
    "start_time": "2022-12-19T19:52:30.927Z"
   },
   {
    "duration": 0,
    "start_time": "2022-12-19T19:52:30.927Z"
   },
   {
    "duration": 0,
    "start_time": "2022-12-19T19:52:30.928Z"
   },
   {
    "duration": 0,
    "start_time": "2022-12-19T19:52:30.929Z"
   },
   {
    "duration": 0,
    "start_time": "2022-12-19T19:52:30.930Z"
   },
   {
    "duration": 0,
    "start_time": "2022-12-19T19:52:30.931Z"
   },
   {
    "duration": 0,
    "start_time": "2022-12-19T19:52:30.931Z"
   },
   {
    "duration": 0,
    "start_time": "2022-12-19T19:52:30.932Z"
   },
   {
    "duration": 0,
    "start_time": "2022-12-19T19:52:30.933Z"
   },
   {
    "duration": 0,
    "start_time": "2022-12-19T19:52:30.934Z"
   },
   {
    "duration": 1030,
    "start_time": "2022-12-19T19:52:57.834Z"
   },
   {
    "duration": 979,
    "start_time": "2022-12-19T19:52:58.866Z"
   },
   {
    "duration": 17,
    "start_time": "2022-12-19T19:52:59.847Z"
   },
   {
    "duration": 5,
    "start_time": "2022-12-19T19:52:59.867Z"
   },
   {
    "duration": 9,
    "start_time": "2022-12-19T19:52:59.874Z"
   },
   {
    "duration": 13,
    "start_time": "2022-12-19T19:52:59.884Z"
   },
   {
    "duration": 448,
    "start_time": "2022-12-19T19:52:59.899Z"
   },
   {
    "duration": 13,
    "start_time": "2022-12-19T19:53:00.349Z"
   },
   {
    "duration": 28,
    "start_time": "2022-12-19T19:53:00.363Z"
   },
   {
    "duration": 37,
    "start_time": "2022-12-19T19:53:00.394Z"
   },
   {
    "duration": 39,
    "start_time": "2022-12-19T19:53:00.433Z"
   },
   {
    "duration": 1867,
    "start_time": "2022-12-19T19:53:00.474Z"
   },
   {
    "duration": 18,
    "start_time": "2022-12-19T19:53:02.343Z"
   },
   {
    "duration": 18,
    "start_time": "2022-12-19T19:53:02.362Z"
   },
   {
    "duration": 38,
    "start_time": "2022-12-19T19:53:02.381Z"
   },
   {
    "duration": 22,
    "start_time": "2022-12-19T19:53:02.420Z"
   },
   {
    "duration": 8,
    "start_time": "2022-12-19T19:53:02.444Z"
   },
   {
    "duration": 17,
    "start_time": "2022-12-19T19:53:02.453Z"
   },
   {
    "duration": 32,
    "start_time": "2022-12-19T19:53:02.472Z"
   },
   {
    "duration": 1954,
    "start_time": "2022-12-19T19:53:02.506Z"
   },
   {
    "duration": 327,
    "start_time": "2022-12-19T19:53:04.461Z"
   },
   {
    "duration": 9,
    "start_time": "2022-12-19T19:53:04.789Z"
   },
   {
    "duration": 21,
    "start_time": "2022-12-19T19:53:04.799Z"
   },
   {
    "duration": 549,
    "start_time": "2022-12-19T19:53:04.821Z"
   },
   {
    "duration": 11,
    "start_time": "2022-12-19T19:53:05.372Z"
   },
   {
    "duration": 4,
    "start_time": "2022-12-19T19:53:05.384Z"
   },
   {
    "duration": 4,
    "start_time": "2022-12-19T19:53:05.389Z"
   },
   {
    "duration": 19,
    "start_time": "2022-12-19T19:53:05.396Z"
   },
   {
    "duration": 8,
    "start_time": "2022-12-19T19:53:05.417Z"
   },
   {
    "duration": 4494,
    "start_time": "2022-12-19T19:53:05.426Z"
   },
   {
    "duration": 18642,
    "start_time": "2022-12-19T19:53:09.922Z"
   },
   {
    "duration": 5,
    "start_time": "2022-12-19T19:55:39.807Z"
   },
   {
    "duration": 6,
    "start_time": "2022-12-19T19:55:39.814Z"
   },
   {
    "duration": 319,
    "start_time": "2022-12-19T19:55:39.822Z"
   },
   {
    "duration": 15,
    "start_time": "2022-12-19T19:55:40.143Z"
   },
   {
    "duration": 6,
    "start_time": "2022-12-19T19:55:40.159Z"
   },
   {
    "duration": 12,
    "start_time": "2022-12-19T19:55:40.167Z"
   },
   {
    "duration": 13,
    "start_time": "2022-12-19T19:55:40.180Z"
   },
   {
    "duration": 99,
    "start_time": "2022-12-19T19:55:40.194Z"
   },
   {
    "duration": 28,
    "start_time": "2022-12-19T19:55:40.295Z"
   },
   {
    "duration": 5,
    "start_time": "2022-12-19T19:55:40.327Z"
   },
   {
    "duration": 10,
    "start_time": "2022-12-19T19:55:40.334Z"
   },
   {
    "duration": 7,
    "start_time": "2022-12-19T19:55:40.346Z"
   },
   {
    "duration": 376,
    "start_time": "2022-12-19T19:55:40.355Z"
   },
   {
    "duration": 17,
    "start_time": "2022-12-19T19:55:40.732Z"
   },
   {
    "duration": 6,
    "start_time": "2022-12-19T19:55:40.750Z"
   },
   {
    "duration": 13,
    "start_time": "2022-12-19T19:55:40.757Z"
   },
   {
    "duration": 16,
    "start_time": "2022-12-19T19:55:40.771Z"
   },
   {
    "duration": 30,
    "start_time": "2022-12-19T19:55:40.788Z"
   },
   {
    "duration": 5,
    "start_time": "2022-12-19T19:55:40.820Z"
   },
   {
    "duration": 12,
    "start_time": "2022-12-19T19:55:40.827Z"
   },
   {
    "duration": 1897,
    "start_time": "2022-12-19T19:55:40.841Z"
   },
   {
    "duration": 219,
    "start_time": "2022-12-19T19:55:42.739Z"
   },
   {
    "duration": 8,
    "start_time": "2022-12-19T19:55:42.960Z"
   },
   {
    "duration": 13,
    "start_time": "2022-12-19T19:55:42.969Z"
   },
   {
    "duration": 681,
    "start_time": "2022-12-19T19:55:42.984Z"
   },
   {
    "duration": 12,
    "start_time": "2022-12-19T19:55:43.666Z"
   },
   {
    "duration": 6,
    "start_time": "2022-12-19T19:55:43.679Z"
   },
   {
    "duration": 8,
    "start_time": "2022-12-19T19:55:43.688Z"
   },
   {
    "duration": 12,
    "start_time": "2022-12-19T19:55:43.697Z"
   },
   {
    "duration": 14,
    "start_time": "2022-12-19T19:55:43.711Z"
   },
   {
    "duration": 4191,
    "start_time": "2022-12-19T19:55:43.727Z"
   },
   {
    "duration": 18703,
    "start_time": "2022-12-19T19:55:47.920Z"
   },
   {
    "duration": 48,
    "start_time": "2022-12-19T20:07:28.861Z"
   },
   {
    "duration": 25,
    "start_time": "2022-12-19T20:07:52.643Z"
   },
   {
    "duration": 24,
    "start_time": "2022-12-19T20:08:03.789Z"
   },
   {
    "duration": 4453,
    "start_time": "2022-12-19T20:15:00.215Z"
   },
   {
    "duration": 26,
    "start_time": "2022-12-19T20:16:50.430Z"
   },
   {
    "duration": 4328,
    "start_time": "2022-12-19T20:17:06.891Z"
   },
   {
    "duration": 6,
    "start_time": "2022-12-19T20:25:13.557Z"
   },
   {
    "duration": 4298,
    "start_time": "2022-12-19T20:25:25.721Z"
   },
   {
    "duration": 2171,
    "start_time": "2022-12-19T20:26:11.465Z"
   },
   {
    "duration": 2183,
    "start_time": "2022-12-19T20:28:09.640Z"
   },
   {
    "duration": 2146,
    "start_time": "2022-12-19T20:28:35.104Z"
   },
   {
    "duration": 336748,
    "start_time": "2022-12-19T21:26:07.519Z"
   },
   {
    "duration": 4,
    "start_time": "2022-12-19T21:37:13.310Z"
   },
   {
    "duration": 7,
    "start_time": "2022-12-19T21:37:13.316Z"
   },
   {
    "duration": 279,
    "start_time": "2022-12-19T21:37:13.325Z"
   },
   {
    "duration": 20,
    "start_time": "2022-12-19T21:37:13.606Z"
   },
   {
    "duration": 6,
    "start_time": "2022-12-19T21:37:13.629Z"
   },
   {
    "duration": 16,
    "start_time": "2022-12-19T21:37:13.637Z"
   },
   {
    "duration": 11,
    "start_time": "2022-12-19T21:37:13.655Z"
   },
   {
    "duration": 95,
    "start_time": "2022-12-19T21:37:13.667Z"
   },
   {
    "duration": 22,
    "start_time": "2022-12-19T21:37:13.764Z"
   },
   {
    "duration": 4,
    "start_time": "2022-12-19T21:37:13.788Z"
   },
   {
    "duration": 9,
    "start_time": "2022-12-19T21:37:13.794Z"
   },
   {
    "duration": 13,
    "start_time": "2022-12-19T21:37:13.804Z"
   },
   {
    "duration": 363,
    "start_time": "2022-12-19T21:37:13.820Z"
   },
   {
    "duration": 17,
    "start_time": "2022-12-19T21:37:14.185Z"
   },
   {
    "duration": 16,
    "start_time": "2022-12-19T21:37:14.203Z"
   },
   {
    "duration": 11,
    "start_time": "2022-12-19T21:37:14.220Z"
   },
   {
    "duration": 14,
    "start_time": "2022-12-19T21:37:14.232Z"
   },
   {
    "duration": 6,
    "start_time": "2022-12-19T21:37:14.248Z"
   },
   {
    "duration": 6,
    "start_time": "2022-12-19T21:37:14.255Z"
   },
   {
    "duration": 9,
    "start_time": "2022-12-19T21:37:14.263Z"
   },
   {
    "duration": 2017,
    "start_time": "2022-12-19T21:37:14.273Z"
   },
   {
    "duration": 271,
    "start_time": "2022-12-19T21:37:16.292Z"
   },
   {
    "duration": 9,
    "start_time": "2022-12-19T21:37:16.564Z"
   },
   {
    "duration": 7,
    "start_time": "2022-12-19T21:37:16.574Z"
   },
   {
    "duration": 560,
    "start_time": "2022-12-19T21:37:16.583Z"
   },
   {
    "duration": 7,
    "start_time": "2022-12-19T21:37:17.145Z"
   },
   {
    "duration": 5,
    "start_time": "2022-12-19T21:37:17.153Z"
   },
   {
    "duration": 5,
    "start_time": "2022-12-19T21:37:17.159Z"
   },
   {
    "duration": 4,
    "start_time": "2022-12-19T21:37:17.166Z"
   },
   {
    "duration": 8,
    "start_time": "2022-12-19T21:37:17.172Z"
   },
   {
    "duration": 4649,
    "start_time": "2022-12-19T21:37:17.182Z"
   },
   {
    "duration": 339815,
    "start_time": "2022-12-19T21:37:21.915Z"
   },
   {
    "duration": 11,
    "start_time": "2022-12-19T21:43:01.732Z"
   },
   {
    "duration": 713245,
    "start_time": "2022-12-19T21:44:40.478Z"
   },
   {
    "duration": 13446,
    "start_time": "2022-12-19T21:58:57.406Z"
   },
   {
    "duration": 13582,
    "start_time": "2022-12-19T21:59:34.974Z"
   },
   {
    "duration": 13569,
    "start_time": "2022-12-19T22:02:18.024Z"
   },
   {
    "duration": 10,
    "start_time": "2022-12-19T22:06:53.277Z"
   },
   {
    "duration": 5,
    "start_time": "2022-12-19T22:07:21.282Z"
   },
   {
    "duration": 9,
    "start_time": "2022-12-19T22:15:35.102Z"
   },
   {
    "duration": 2679,
    "start_time": "2022-12-19T22:16:02.497Z"
   },
   {
    "duration": 48,
    "start_time": "2022-12-19T22:29:32.653Z"
   },
   {
    "duration": 8,
    "start_time": "2022-12-19T22:32:52.472Z"
   },
   {
    "duration": 7,
    "start_time": "2022-12-19T22:35:16.018Z"
   },
   {
    "duration": 1523,
    "start_time": "2022-12-19T22:35:42.101Z"
   },
   {
    "duration": 3,
    "start_time": "2022-12-19T22:35:43.626Z"
   },
   {
    "duration": 1013,
    "start_time": "2022-12-19T22:35:43.634Z"
   },
   {
    "duration": 19,
    "start_time": "2022-12-19T22:35:44.650Z"
   },
   {
    "duration": 10,
    "start_time": "2022-12-19T22:35:44.671Z"
   },
   {
    "duration": 18,
    "start_time": "2022-12-19T22:35:44.683Z"
   },
   {
    "duration": 34,
    "start_time": "2022-12-19T22:35:44.702Z"
   },
   {
    "duration": 441,
    "start_time": "2022-12-19T22:35:44.738Z"
   },
   {
    "duration": 12,
    "start_time": "2022-12-19T22:35:45.181Z"
   },
   {
    "duration": 9,
    "start_time": "2022-12-19T22:35:45.196Z"
   },
   {
    "duration": 20,
    "start_time": "2022-12-19T22:35:45.207Z"
   },
   {
    "duration": 9,
    "start_time": "2022-12-19T22:35:45.229Z"
   },
   {
    "duration": 1907,
    "start_time": "2022-12-19T22:35:45.239Z"
   },
   {
    "duration": 21,
    "start_time": "2022-12-19T22:35:47.148Z"
   },
   {
    "duration": 10,
    "start_time": "2022-12-19T22:35:47.171Z"
   },
   {
    "duration": 21,
    "start_time": "2022-12-19T22:35:47.182Z"
   },
   {
    "duration": 37,
    "start_time": "2022-12-19T22:35:47.205Z"
   },
   {
    "duration": 9,
    "start_time": "2022-12-19T22:35:47.244Z"
   },
   {
    "duration": 22,
    "start_time": "2022-12-19T22:35:47.255Z"
   },
   {
    "duration": 29,
    "start_time": "2022-12-19T22:35:47.279Z"
   },
   {
    "duration": 2288,
    "start_time": "2022-12-19T22:35:47.310Z"
   },
   {
    "duration": 410,
    "start_time": "2022-12-19T22:35:49.600Z"
   },
   {
    "duration": 9,
    "start_time": "2022-12-19T22:35:50.012Z"
   },
   {
    "duration": 20,
    "start_time": "2022-12-19T22:35:50.023Z"
   },
   {
    "duration": 660,
    "start_time": "2022-12-19T22:35:50.045Z"
   },
   {
    "duration": 14,
    "start_time": "2022-12-19T22:35:50.707Z"
   },
   {
    "duration": 13,
    "start_time": "2022-12-19T22:35:50.723Z"
   },
   {
    "duration": 14,
    "start_time": "2022-12-19T22:35:50.739Z"
   },
   {
    "duration": 27,
    "start_time": "2022-12-19T22:35:50.755Z"
   },
   {
    "duration": 18,
    "start_time": "2022-12-19T22:35:50.784Z"
   },
   {
    "duration": 4138,
    "start_time": "2022-12-19T22:35:50.804Z"
   },
   {
    "duration": 377644,
    "start_time": "2022-12-19T22:35:54.947Z"
   },
   {
    "duration": 15152,
    "start_time": "2022-12-19T22:42:12.594Z"
   },
   {
    "duration": 5,
    "start_time": "2022-12-19T22:42:27.748Z"
   },
   {
    "duration": 19,
    "start_time": "2022-12-19T22:42:27.755Z"
   },
   {
    "duration": 2982,
    "start_time": "2022-12-19T22:42:27.776Z"
   },
   {
    "duration": 3,
    "start_time": "2022-12-19T22:43:53.558Z"
   },
   {
    "duration": 25,
    "start_time": "2022-12-19T22:43:53.563Z"
   },
   {
    "duration": 302,
    "start_time": "2022-12-19T22:43:53.590Z"
   },
   {
    "duration": 16,
    "start_time": "2022-12-19T22:43:53.894Z"
   },
   {
    "duration": 6,
    "start_time": "2022-12-19T22:43:53.911Z"
   },
   {
    "duration": 24,
    "start_time": "2022-12-19T22:43:53.918Z"
   },
   {
    "duration": 15,
    "start_time": "2022-12-19T22:43:53.944Z"
   },
   {
    "duration": 103,
    "start_time": "2022-12-19T22:43:53.961Z"
   },
   {
    "duration": 15,
    "start_time": "2022-12-19T22:43:54.066Z"
   },
   {
    "duration": 10,
    "start_time": "2022-12-19T22:43:54.083Z"
   },
   {
    "duration": 28,
    "start_time": "2022-12-19T22:43:54.094Z"
   },
   {
    "duration": 8,
    "start_time": "2022-12-19T22:43:54.124Z"
   },
   {
    "duration": 362,
    "start_time": "2022-12-19T22:43:54.135Z"
   },
   {
    "duration": 17,
    "start_time": "2022-12-19T22:43:54.499Z"
   },
   {
    "duration": 22,
    "start_time": "2022-12-19T22:43:54.518Z"
   },
   {
    "duration": 19,
    "start_time": "2022-12-19T22:43:54.542Z"
   },
   {
    "duration": 20,
    "start_time": "2022-12-19T22:43:54.562Z"
   },
   {
    "duration": 6,
    "start_time": "2022-12-19T22:43:54.584Z"
   },
   {
    "duration": 32,
    "start_time": "2022-12-19T22:43:54.592Z"
   },
   {
    "duration": 22,
    "start_time": "2022-12-19T22:43:54.626Z"
   },
   {
    "duration": 2152,
    "start_time": "2022-12-19T22:43:54.650Z"
   },
   {
    "duration": 382,
    "start_time": "2022-12-19T22:43:56.804Z"
   },
   {
    "duration": 9,
    "start_time": "2022-12-19T22:43:57.188Z"
   },
   {
    "duration": 10,
    "start_time": "2022-12-19T22:43:57.200Z"
   },
   {
    "duration": 644,
    "start_time": "2022-12-19T22:43:57.211Z"
   },
   {
    "duration": 11,
    "start_time": "2022-12-19T22:43:57.857Z"
   },
   {
    "duration": 16,
    "start_time": "2022-12-19T22:43:57.870Z"
   },
   {
    "duration": 14,
    "start_time": "2022-12-19T22:43:57.887Z"
   },
   {
    "duration": 11,
    "start_time": "2022-12-19T22:43:57.903Z"
   },
   {
    "duration": 10,
    "start_time": "2022-12-19T22:43:57.915Z"
   },
   {
    "duration": 16,
    "start_time": "2022-12-19T22:43:57.927Z"
   },
   {
    "duration": 3292,
    "start_time": "2022-12-19T22:43:57.945Z"
   },
   {
    "duration": 232417,
    "start_time": "2022-12-19T22:44:01.240Z"
   },
   {
    "duration": 9195,
    "start_time": "2022-12-19T22:47:53.659Z"
   },
   {
    "duration": 5,
    "start_time": "2022-12-19T22:48:02.856Z"
   },
   {
    "duration": 1825,
    "start_time": "2022-12-19T22:48:02.862Z"
   },
   {
    "duration": 3511,
    "start_time": "2022-12-19T22:54:28.494Z"
   },
   {
    "duration": 4572,
    "start_time": "2022-12-19T22:55:26.220Z"
   },
   {
    "duration": 4565,
    "start_time": "2022-12-19T22:57:23.824Z"
   },
   {
    "duration": 3,
    "start_time": "2022-12-21T04:59:53.199Z"
   },
   {
    "duration": 230,
    "start_time": "2022-12-21T05:00:05.172Z"
   },
   {
    "duration": 11,
    "start_time": "2022-12-21T05:00:09.719Z"
   },
   {
    "duration": 1574,
    "start_time": "2022-12-21T09:48:12.135Z"
   },
   {
    "duration": 3,
    "start_time": "2022-12-21T09:48:13.712Z"
   },
   {
    "duration": 1575,
    "start_time": "2022-12-21T09:48:13.716Z"
   },
   {
    "duration": 16,
    "start_time": "2022-12-21T09:48:15.293Z"
   },
   {
    "duration": 26,
    "start_time": "2022-12-21T09:48:15.311Z"
   },
   {
    "duration": 26,
    "start_time": "2022-12-21T09:48:15.339Z"
   },
   {
    "duration": 26,
    "start_time": "2022-12-21T09:48:15.367Z"
   },
   {
    "duration": 123,
    "start_time": "2022-12-21T09:48:15.395Z"
   },
   {
    "duration": 0,
    "start_time": "2022-12-21T09:48:15.522Z"
   },
   {
    "duration": 0,
    "start_time": "2022-12-21T09:48:15.523Z"
   },
   {
    "duration": 0,
    "start_time": "2022-12-21T09:48:15.524Z"
   },
   {
    "duration": 0,
    "start_time": "2022-12-21T09:48:15.525Z"
   },
   {
    "duration": 0,
    "start_time": "2022-12-21T09:48:15.526Z"
   },
   {
    "duration": 0,
    "start_time": "2022-12-21T09:48:15.528Z"
   },
   {
    "duration": 0,
    "start_time": "2022-12-21T09:48:15.530Z"
   },
   {
    "duration": 0,
    "start_time": "2022-12-21T09:48:15.531Z"
   },
   {
    "duration": 0,
    "start_time": "2022-12-21T09:48:15.532Z"
   },
   {
    "duration": 0,
    "start_time": "2022-12-21T09:48:15.533Z"
   },
   {
    "duration": 0,
    "start_time": "2022-12-21T09:48:15.534Z"
   },
   {
    "duration": 0,
    "start_time": "2022-12-21T09:48:15.536Z"
   },
   {
    "duration": 0,
    "start_time": "2022-12-21T09:48:15.537Z"
   },
   {
    "duration": 0,
    "start_time": "2022-12-21T09:48:15.538Z"
   },
   {
    "duration": 0,
    "start_time": "2022-12-21T09:48:15.539Z"
   },
   {
    "duration": 0,
    "start_time": "2022-12-21T09:48:15.540Z"
   },
   {
    "duration": 0,
    "start_time": "2022-12-21T09:48:15.541Z"
   },
   {
    "duration": 0,
    "start_time": "2022-12-21T09:48:15.542Z"
   },
   {
    "duration": 0,
    "start_time": "2022-12-21T09:48:15.543Z"
   },
   {
    "duration": 0,
    "start_time": "2022-12-21T09:48:15.544Z"
   },
   {
    "duration": 0,
    "start_time": "2022-12-21T09:48:15.545Z"
   },
   {
    "duration": 0,
    "start_time": "2022-12-21T09:48:15.546Z"
   },
   {
    "duration": 0,
    "start_time": "2022-12-21T09:48:15.547Z"
   },
   {
    "duration": 0,
    "start_time": "2022-12-21T09:48:15.548Z"
   },
   {
    "duration": 0,
    "start_time": "2022-12-21T09:48:15.549Z"
   },
   {
    "duration": 0,
    "start_time": "2022-12-21T09:48:15.550Z"
   },
   {
    "duration": 0,
    "start_time": "2022-12-21T09:48:15.551Z"
   },
   {
    "duration": 0,
    "start_time": "2022-12-21T09:48:15.552Z"
   },
   {
    "duration": 0,
    "start_time": "2022-12-21T09:48:15.553Z"
   },
   {
    "duration": 0,
    "start_time": "2022-12-21T09:48:15.554Z"
   },
   {
    "duration": 10,
    "start_time": "2022-12-21T09:51:38.930Z"
   },
   {
    "duration": 17,
    "start_time": "2022-12-21T09:52:21.426Z"
   },
   {
    "duration": 138,
    "start_time": "2022-12-21T09:52:37.004Z"
   },
   {
    "duration": 10,
    "start_time": "2022-12-21T09:52:49.686Z"
   },
   {
    "duration": 12,
    "start_time": "2022-12-21T09:53:03.263Z"
   },
   {
    "duration": 12,
    "start_time": "2022-12-21T09:53:35.495Z"
   },
   {
    "duration": 12,
    "start_time": "2022-12-21T09:54:00.494Z"
   },
   {
    "duration": 14,
    "start_time": "2022-12-21T09:54:30.429Z"
   },
   {
    "duration": 9,
    "start_time": "2022-12-21T09:54:32.331Z"
   },
   {
    "duration": 14,
    "start_time": "2022-12-21T09:54:33.976Z"
   },
   {
    "duration": 9,
    "start_time": "2022-12-21T09:54:35.669Z"
   },
   {
    "duration": 8,
    "start_time": "2022-12-21T09:55:34.402Z"
   },
   {
    "duration": 5,
    "start_time": "2022-12-21T09:57:11.386Z"
   },
   {
    "duration": 18,
    "start_time": "2022-12-21T09:57:11.393Z"
   },
   {
    "duration": 346,
    "start_time": "2022-12-21T09:57:11.413Z"
   },
   {
    "duration": 16,
    "start_time": "2022-12-21T09:57:11.761Z"
   },
   {
    "duration": 7,
    "start_time": "2022-12-21T09:57:11.778Z"
   },
   {
    "duration": 28,
    "start_time": "2022-12-21T09:57:11.786Z"
   },
   {
    "duration": 28,
    "start_time": "2022-12-21T09:57:11.815Z"
   },
   {
    "duration": 118,
    "start_time": "2022-12-21T09:57:11.844Z"
   },
   {
    "duration": 199,
    "start_time": "2022-12-21T09:57:11.964Z"
   },
   {
    "duration": 17,
    "start_time": "2022-12-21T09:57:12.165Z"
   },
   {
    "duration": 7,
    "start_time": "2022-12-21T09:57:12.184Z"
   },
   {
    "duration": 11,
    "start_time": "2022-12-21T09:57:12.192Z"
   },
   {
    "duration": 18,
    "start_time": "2022-12-21T09:57:12.205Z"
   },
   {
    "duration": 16,
    "start_time": "2022-12-21T09:57:12.226Z"
   },
   {
    "duration": 0,
    "start_time": "2022-12-21T09:57:12.244Z"
   },
   {
    "duration": 0,
    "start_time": "2022-12-21T09:57:12.245Z"
   },
   {
    "duration": 0,
    "start_time": "2022-12-21T09:57:12.246Z"
   },
   {
    "duration": 0,
    "start_time": "2022-12-21T09:57:12.247Z"
   },
   {
    "duration": 0,
    "start_time": "2022-12-21T09:57:12.248Z"
   },
   {
    "duration": 0,
    "start_time": "2022-12-21T09:57:12.249Z"
   },
   {
    "duration": 1,
    "start_time": "2022-12-21T09:57:12.250Z"
   },
   {
    "duration": 0,
    "start_time": "2022-12-21T09:57:12.252Z"
   },
   {
    "duration": 0,
    "start_time": "2022-12-21T09:57:12.253Z"
   },
   {
    "duration": 0,
    "start_time": "2022-12-21T09:57:12.254Z"
   },
   {
    "duration": 0,
    "start_time": "2022-12-21T09:57:12.255Z"
   },
   {
    "duration": 0,
    "start_time": "2022-12-21T09:57:12.256Z"
   },
   {
    "duration": 0,
    "start_time": "2022-12-21T09:57:12.257Z"
   },
   {
    "duration": 0,
    "start_time": "2022-12-21T09:57:12.258Z"
   },
   {
    "duration": 0,
    "start_time": "2022-12-21T09:57:12.259Z"
   },
   {
    "duration": 0,
    "start_time": "2022-12-21T09:57:12.260Z"
   },
   {
    "duration": 0,
    "start_time": "2022-12-21T09:57:12.261Z"
   },
   {
    "duration": 0,
    "start_time": "2022-12-21T09:57:12.262Z"
   },
   {
    "duration": 0,
    "start_time": "2022-12-21T09:57:12.263Z"
   },
   {
    "duration": 0,
    "start_time": "2022-12-21T09:57:12.264Z"
   },
   {
    "duration": 0,
    "start_time": "2022-12-21T09:57:12.265Z"
   },
   {
    "duration": 0,
    "start_time": "2022-12-21T09:57:12.266Z"
   },
   {
    "duration": 0,
    "start_time": "2022-12-21T09:57:12.267Z"
   },
   {
    "duration": 0,
    "start_time": "2022-12-21T09:57:12.268Z"
   },
   {
    "duration": 4,
    "start_time": "2022-12-21T09:57:42.753Z"
   },
   {
    "duration": 8,
    "start_time": "2022-12-21T09:57:42.759Z"
   },
   {
    "duration": 295,
    "start_time": "2022-12-21T09:57:42.768Z"
   },
   {
    "duration": 18,
    "start_time": "2022-12-21T09:57:43.064Z"
   },
   {
    "duration": 6,
    "start_time": "2022-12-21T09:57:43.084Z"
   },
   {
    "duration": 44,
    "start_time": "2022-12-21T09:57:43.092Z"
   },
   {
    "duration": 43,
    "start_time": "2022-12-21T09:57:43.137Z"
   },
   {
    "duration": 118,
    "start_time": "2022-12-21T09:57:43.181Z"
   },
   {
    "duration": 89,
    "start_time": "2022-12-21T09:57:43.300Z"
   },
   {
    "duration": 12,
    "start_time": "2022-12-21T09:57:43.391Z"
   },
   {
    "duration": 20,
    "start_time": "2022-12-21T09:57:43.405Z"
   },
   {
    "duration": 9,
    "start_time": "2022-12-21T09:57:43.429Z"
   },
   {
    "duration": 6,
    "start_time": "2022-12-21T09:57:43.440Z"
   },
   {
    "duration": 27,
    "start_time": "2022-12-21T09:57:43.448Z"
   },
   {
    "duration": 580,
    "start_time": "2022-12-21T09:57:43.476Z"
   },
   {
    "duration": 21,
    "start_time": "2022-12-21T09:57:44.057Z"
   },
   {
    "duration": 9,
    "start_time": "2022-12-21T09:57:44.080Z"
   },
   {
    "duration": 12,
    "start_time": "2022-12-21T09:57:44.090Z"
   },
   {
    "duration": 24,
    "start_time": "2022-12-21T09:57:44.104Z"
   },
   {
    "duration": 101,
    "start_time": "2022-12-21T09:57:44.129Z"
   },
   {
    "duration": 8,
    "start_time": "2022-12-21T09:57:44.232Z"
   },
   {
    "duration": 6,
    "start_time": "2022-12-21T09:57:44.242Z"
   },
   {
    "duration": 13,
    "start_time": "2022-12-21T09:57:44.249Z"
   },
   {
    "duration": 2167,
    "start_time": "2022-12-21T09:57:44.264Z"
   },
   {
    "duration": 239,
    "start_time": "2022-12-21T09:57:46.433Z"
   },
   {
    "duration": 8,
    "start_time": "2022-12-21T09:57:46.674Z"
   },
   {
    "duration": 655,
    "start_time": "2022-12-21T09:57:46.684Z"
   },
   {
    "duration": 9,
    "start_time": "2022-12-21T09:57:47.342Z"
   },
   {
    "duration": 8,
    "start_time": "2022-12-21T09:57:47.353Z"
   },
   {
    "duration": 8,
    "start_time": "2022-12-21T09:57:47.362Z"
   },
   {
    "duration": 8,
    "start_time": "2022-12-21T09:57:47.371Z"
   },
   {
    "duration": 5,
    "start_time": "2022-12-21T09:57:47.380Z"
   },
   {
    "duration": 8,
    "start_time": "2022-12-21T09:57:47.387Z"
   },
   {
    "duration": 5230,
    "start_time": "2022-12-21T09:57:47.396Z"
   },
   {
    "duration": 209423,
    "start_time": "2022-12-21T09:57:52.634Z"
   },
   {
    "duration": 8494,
    "start_time": "2022-12-21T10:01:22.059Z"
   },
   {
    "duration": 6,
    "start_time": "2022-12-21T10:01:30.555Z"
   },
   {
    "duration": 4060,
    "start_time": "2022-12-21T10:01:30.563Z"
   },
   {
    "duration": 2158,
    "start_time": "2022-12-21T10:13:11.485Z"
   },
   {
    "duration": 218,
    "start_time": "2022-12-21T10:16:23.088Z"
   },
   {
    "duration": 243,
    "start_time": "2022-12-21T10:17:14.399Z"
   },
   {
    "duration": 261,
    "start_time": "2022-12-21T10:18:09.474Z"
   },
   {
    "duration": 256,
    "start_time": "2022-12-21T10:18:43.374Z"
   },
   {
    "duration": 474,
    "start_time": "2022-12-21T10:19:00.573Z"
   },
   {
    "duration": 587,
    "start_time": "2022-12-21T10:20:46.085Z"
   },
   {
    "duration": 599,
    "start_time": "2022-12-21T10:21:22.947Z"
   },
   {
    "duration": 716,
    "start_time": "2022-12-21T10:23:37.410Z"
   },
   {
    "duration": 5,
    "start_time": "2022-12-21T10:32:36.705Z"
   },
   {
    "duration": 1125,
    "start_time": "2022-12-21T10:33:02.682Z"
   },
   {
    "duration": 1192,
    "start_time": "2022-12-21T10:39:45.047Z"
   },
   {
    "duration": 6,
    "start_time": "2022-12-21T10:39:59.324Z"
   },
   {
    "duration": 8,
    "start_time": "2022-12-21T10:39:59.332Z"
   },
   {
    "duration": 274,
    "start_time": "2022-12-21T10:39:59.342Z"
   },
   {
    "duration": 18,
    "start_time": "2022-12-21T10:39:59.618Z"
   },
   {
    "duration": 6,
    "start_time": "2022-12-21T10:39:59.638Z"
   },
   {
    "duration": 11,
    "start_time": "2022-12-21T10:39:59.645Z"
   },
   {
    "duration": 13,
    "start_time": "2022-12-21T10:39:59.657Z"
   },
   {
    "duration": 133,
    "start_time": "2022-12-21T10:39:59.671Z"
   },
   {
    "duration": 98,
    "start_time": "2022-12-21T10:39:59.806Z"
   },
   {
    "duration": 22,
    "start_time": "2022-12-21T10:39:59.906Z"
   },
   {
    "duration": 5,
    "start_time": "2022-12-21T10:39:59.929Z"
   },
   {
    "duration": 13,
    "start_time": "2022-12-21T10:39:59.935Z"
   },
   {
    "duration": 6,
    "start_time": "2022-12-21T10:39:59.949Z"
   },
   {
    "duration": 23,
    "start_time": "2022-12-21T10:39:59.957Z"
   },
   {
    "duration": 358,
    "start_time": "2022-12-21T10:39:59.981Z"
   },
   {
    "duration": 20,
    "start_time": "2022-12-21T10:40:00.342Z"
   },
   {
    "duration": 22,
    "start_time": "2022-12-21T10:40:00.364Z"
   },
   {
    "duration": 33,
    "start_time": "2022-12-21T10:40:00.389Z"
   },
   {
    "duration": 66,
    "start_time": "2022-12-21T10:40:00.424Z"
   },
   {
    "duration": 135,
    "start_time": "2022-12-21T10:40:00.492Z"
   },
   {
    "duration": 7,
    "start_time": "2022-12-21T10:40:00.629Z"
   },
   {
    "duration": 11,
    "start_time": "2022-12-21T10:40:00.638Z"
   },
   {
    "duration": 17,
    "start_time": "2022-12-21T10:40:00.650Z"
   },
   {
    "duration": 2098,
    "start_time": "2022-12-21T10:40:00.671Z"
   },
   {
    "duration": 283,
    "start_time": "2022-12-21T10:40:02.771Z"
   },
   {
    "duration": 425,
    "start_time": "2022-12-21T10:40:03.056Z"
   },
   {
    "duration": 8,
    "start_time": "2022-12-21T10:40:03.482Z"
   },
   {
    "duration": 639,
    "start_time": "2022-12-21T10:40:03.492Z"
   },
   {
    "duration": 16,
    "start_time": "2022-12-21T10:40:04.133Z"
   },
   {
    "duration": 0,
    "start_time": "2022-12-21T10:40:04.151Z"
   },
   {
    "duration": 0,
    "start_time": "2022-12-21T10:40:04.152Z"
   },
   {
    "duration": 0,
    "start_time": "2022-12-21T10:40:04.153Z"
   },
   {
    "duration": 0,
    "start_time": "2022-12-21T10:40:04.154Z"
   },
   {
    "duration": 0,
    "start_time": "2022-12-21T10:40:04.154Z"
   },
   {
    "duration": 0,
    "start_time": "2022-12-21T10:40:04.155Z"
   },
   {
    "duration": 0,
    "start_time": "2022-12-21T10:40:04.156Z"
   },
   {
    "duration": 0,
    "start_time": "2022-12-21T10:40:04.157Z"
   },
   {
    "duration": 0,
    "start_time": "2022-12-21T10:40:04.158Z"
   },
   {
    "duration": 0,
    "start_time": "2022-12-21T10:40:04.159Z"
   },
   {
    "duration": 0,
    "start_time": "2022-12-21T10:40:04.160Z"
   },
   {
    "duration": 23,
    "start_time": "2022-12-21T10:40:36.955Z"
   },
   {
    "duration": 41,
    "start_time": "2022-12-21T10:40:51.129Z"
   },
   {
    "duration": 736,
    "start_time": "2022-12-21T10:41:24.158Z"
   },
   {
    "duration": 102,
    "start_time": "2022-12-21T11:01:30.352Z"
   },
   {
    "duration": 4,
    "start_time": "2022-12-21T11:01:42.689Z"
   },
   {
    "duration": 3,
    "start_time": "2022-12-21T11:02:05.698Z"
   },
   {
    "duration": 3,
    "start_time": "2022-12-21T11:02:07.388Z"
   },
   {
    "duration": 2,
    "start_time": "2022-12-21T11:02:09.766Z"
   },
   {
    "duration": 7,
    "start_time": "2022-12-21T11:02:11.299Z"
   },
   {
    "duration": 201,
    "start_time": "2022-12-21T11:02:13.977Z"
   },
   {
    "duration": 196,
    "start_time": "2022-12-21T11:04:02.971Z"
   },
   {
    "duration": 4,
    "start_time": "2022-12-21T11:04:07.548Z"
   },
   {
    "duration": 44,
    "start_time": "2022-12-21T11:04:07.554Z"
   },
   {
    "duration": 330,
    "start_time": "2022-12-21T11:04:07.600Z"
   },
   {
    "duration": 17,
    "start_time": "2022-12-21T11:04:07.932Z"
   },
   {
    "duration": 26,
    "start_time": "2022-12-21T11:04:07.952Z"
   },
   {
    "duration": 55,
    "start_time": "2022-12-21T11:04:07.980Z"
   },
   {
    "duration": 33,
    "start_time": "2022-12-21T11:04:08.038Z"
   },
   {
    "duration": 160,
    "start_time": "2022-12-21T11:04:08.072Z"
   },
   {
    "duration": 96,
    "start_time": "2022-12-21T11:04:08.233Z"
   },
   {
    "duration": 12,
    "start_time": "2022-12-21T11:04:08.334Z"
   },
   {
    "duration": 17,
    "start_time": "2022-12-21T11:04:08.348Z"
   },
   {
    "duration": 33,
    "start_time": "2022-12-21T11:04:08.366Z"
   },
   {
    "duration": 39,
    "start_time": "2022-12-21T11:04:08.401Z"
   },
   {
    "duration": 44,
    "start_time": "2022-12-21T11:04:08.444Z"
   },
   {
    "duration": 353,
    "start_time": "2022-12-21T11:04:08.490Z"
   },
   {
    "duration": 15,
    "start_time": "2022-12-21T11:04:08.845Z"
   },
   {
    "duration": 15,
    "start_time": "2022-12-21T11:04:08.862Z"
   },
   {
    "duration": 25,
    "start_time": "2022-12-21T11:04:08.879Z"
   },
   {
    "duration": 47,
    "start_time": "2022-12-21T11:04:08.906Z"
   },
   {
    "duration": 114,
    "start_time": "2022-12-21T11:04:08.955Z"
   },
   {
    "duration": 7,
    "start_time": "2022-12-21T11:04:09.070Z"
   },
   {
    "duration": 24,
    "start_time": "2022-12-21T11:04:09.078Z"
   },
   {
    "duration": 49,
    "start_time": "2022-12-21T11:04:09.104Z"
   },
   {
    "duration": 2256,
    "start_time": "2022-12-21T11:04:09.154Z"
   },
   {
    "duration": 253,
    "start_time": "2022-12-21T11:04:11.412Z"
   },
   {
    "duration": 267,
    "start_time": "2022-12-21T11:04:11.667Z"
   },
   {
    "duration": 7,
    "start_time": "2022-12-21T11:04:11.936Z"
   },
   {
    "duration": 807,
    "start_time": "2022-12-21T11:04:11.945Z"
   },
   {
    "duration": 29,
    "start_time": "2022-12-21T11:04:12.754Z"
   },
   {
    "duration": 652,
    "start_time": "2022-12-21T11:04:12.785Z"
   },
   {
    "duration": 9,
    "start_time": "2022-12-21T11:04:13.438Z"
   },
   {
    "duration": 23,
    "start_time": "2022-12-21T11:04:13.449Z"
   },
   {
    "duration": 16,
    "start_time": "2022-12-21T11:04:13.473Z"
   },
   {
    "duration": 47,
    "start_time": "2022-12-21T11:04:13.491Z"
   },
   {
    "duration": 18,
    "start_time": "2022-12-21T11:04:13.540Z"
   },
   {
    "duration": 29,
    "start_time": "2022-12-21T11:04:13.560Z"
   },
   {
    "duration": 5529,
    "start_time": "2022-12-21T11:04:13.590Z"
   },
   {
    "duration": 199772,
    "start_time": "2022-12-21T11:04:19.121Z"
   },
   {
    "duration": 8045,
    "start_time": "2022-12-21T11:07:38.894Z"
   },
   {
    "duration": 14,
    "start_time": "2022-12-21T11:07:46.945Z"
   },
   {
    "duration": 3938,
    "start_time": "2022-12-21T11:07:46.964Z"
   },
   {
    "duration": 5,
    "start_time": "2022-12-21T11:29:17.518Z"
   },
   {
    "duration": 4650,
    "start_time": "2022-12-21T11:35:17.610Z"
   },
   {
    "duration": 4129,
    "start_time": "2022-12-21T11:36:02.598Z"
   },
   {
    "duration": 2852,
    "start_time": "2022-12-21T11:38:23.275Z"
   },
   {
    "duration": 224480,
    "start_time": "2022-12-21T11:40:31.272Z"
   },
   {
    "duration": 4,
    "start_time": "2022-12-21T11:46:56.960Z"
   },
   {
    "duration": 5,
    "start_time": "2022-12-21T11:55:39.598Z"
   },
   {
    "duration": 9,
    "start_time": "2022-12-21T11:55:39.605Z"
   },
   {
    "duration": 305,
    "start_time": "2022-12-21T11:55:39.616Z"
   },
   {
    "duration": 19,
    "start_time": "2022-12-21T11:55:39.923Z"
   },
   {
    "duration": 6,
    "start_time": "2022-12-21T11:55:39.944Z"
   },
   {
    "duration": 11,
    "start_time": "2022-12-21T11:55:39.952Z"
   },
   {
    "duration": 12,
    "start_time": "2022-12-21T11:55:39.965Z"
   },
   {
    "duration": 162,
    "start_time": "2022-12-21T11:55:39.980Z"
   },
   {
    "duration": 112,
    "start_time": "2022-12-21T11:55:40.146Z"
   },
   {
    "duration": 17,
    "start_time": "2022-12-21T11:55:40.262Z"
   },
   {
    "duration": 12,
    "start_time": "2022-12-21T11:55:40.281Z"
   },
   {
    "duration": 29,
    "start_time": "2022-12-21T11:55:40.295Z"
   },
   {
    "duration": 45,
    "start_time": "2022-12-21T11:55:40.327Z"
   },
   {
    "duration": 34,
    "start_time": "2022-12-21T11:55:40.374Z"
   },
   {
    "duration": 431,
    "start_time": "2022-12-21T11:55:40.410Z"
   },
   {
    "duration": 17,
    "start_time": "2022-12-21T11:55:40.843Z"
   },
   {
    "duration": 18,
    "start_time": "2022-12-21T11:55:40.862Z"
   },
   {
    "duration": 28,
    "start_time": "2022-12-21T11:55:40.882Z"
   },
   {
    "duration": 34,
    "start_time": "2022-12-21T11:55:40.914Z"
   },
   {
    "duration": 99,
    "start_time": "2022-12-21T11:55:40.952Z"
   },
   {
    "duration": 8,
    "start_time": "2022-12-21T11:55:41.053Z"
   },
   {
    "duration": 8,
    "start_time": "2022-12-21T11:55:41.064Z"
   },
   {
    "duration": 15,
    "start_time": "2022-12-21T11:55:41.074Z"
   },
   {
    "duration": 2544,
    "start_time": "2022-12-21T11:55:41.090Z"
   },
   {
    "duration": 258,
    "start_time": "2022-12-21T11:55:43.636Z"
   },
   {
    "duration": 299,
    "start_time": "2022-12-21T11:55:43.895Z"
   },
   {
    "duration": 22,
    "start_time": "2022-12-21T11:55:44.196Z"
   },
   {
    "duration": 732,
    "start_time": "2022-12-21T11:55:44.226Z"
   },
   {
    "duration": 31,
    "start_time": "2022-12-21T11:55:44.961Z"
   },
   {
    "duration": 865,
    "start_time": "2022-12-21T11:55:44.994Z"
   },
   {
    "duration": 10,
    "start_time": "2022-12-21T11:55:45.862Z"
   },
   {
    "duration": 10,
    "start_time": "2022-12-21T11:55:45.874Z"
   },
   {
    "duration": 11,
    "start_time": "2022-12-21T11:55:45.886Z"
   },
   {
    "duration": 27,
    "start_time": "2022-12-21T11:55:45.899Z"
   },
   {
    "duration": 7,
    "start_time": "2022-12-21T11:55:45.933Z"
   },
   {
    "duration": 10,
    "start_time": "2022-12-21T11:55:45.943Z"
   },
   {
    "duration": 5093,
    "start_time": "2022-12-21T11:55:45.954Z"
   },
   {
    "duration": 102816,
    "start_time": "2022-12-21T11:55:51.049Z"
   },
   {
    "duration": 5,
    "start_time": "2022-12-21T11:57:33.867Z"
   },
   {
    "duration": 0,
    "start_time": "2022-12-21T11:57:33.873Z"
   },
   {
    "duration": 0,
    "start_time": "2022-12-21T11:57:33.875Z"
   },
   {
    "duration": 8748151,
    "start_time": "2022-12-21T11:58:40.367Z"
   },
   {
    "duration": 5,
    "start_time": "2022-12-21T14:30:55.195Z"
   },
   {
    "duration": 3702,
    "start_time": "2022-12-21T14:31:08.383Z"
   },
   {
    "duration": 3760,
    "start_time": "2022-12-21T14:31:45.991Z"
   },
   {
    "duration": 6,
    "start_time": "2022-12-21T14:32:47.376Z"
   },
   {
    "duration": 56,
    "start_time": "2022-12-22T12:49:07.678Z"
   },
   {
    "duration": 6,
    "start_time": "2022-12-22T12:51:10.930Z"
   },
   {
    "duration": 226,
    "start_time": "2022-12-22T12:51:22.710Z"
   },
   {
    "duration": 1117,
    "start_time": "2022-12-22T13:59:17.928Z"
   },
   {
    "duration": 0,
    "start_time": "2022-12-22T13:59:19.048Z"
   },
   {
    "duration": 0,
    "start_time": "2022-12-22T13:59:19.049Z"
   },
   {
    "duration": 0,
    "start_time": "2022-12-22T13:59:19.051Z"
   },
   {
    "duration": 0,
    "start_time": "2022-12-22T13:59:19.052Z"
   },
   {
    "duration": 0,
    "start_time": "2022-12-22T13:59:19.053Z"
   },
   {
    "duration": 0,
    "start_time": "2022-12-22T13:59:19.054Z"
   },
   {
    "duration": 0,
    "start_time": "2022-12-22T13:59:19.055Z"
   },
   {
    "duration": 0,
    "start_time": "2022-12-22T13:59:19.057Z"
   },
   {
    "duration": 0,
    "start_time": "2022-12-22T13:59:19.058Z"
   },
   {
    "duration": 0,
    "start_time": "2022-12-22T13:59:19.060Z"
   },
   {
    "duration": 0,
    "start_time": "2022-12-22T13:59:19.081Z"
   },
   {
    "duration": 0,
    "start_time": "2022-12-22T13:59:19.082Z"
   },
   {
    "duration": 0,
    "start_time": "2022-12-22T13:59:19.083Z"
   },
   {
    "duration": 0,
    "start_time": "2022-12-22T13:59:19.085Z"
   },
   {
    "duration": 0,
    "start_time": "2022-12-22T13:59:19.086Z"
   },
   {
    "duration": 0,
    "start_time": "2022-12-22T13:59:19.087Z"
   },
   {
    "duration": 0,
    "start_time": "2022-12-22T13:59:19.088Z"
   },
   {
    "duration": 0,
    "start_time": "2022-12-22T13:59:19.090Z"
   },
   {
    "duration": 0,
    "start_time": "2022-12-22T13:59:19.091Z"
   },
   {
    "duration": 0,
    "start_time": "2022-12-22T13:59:19.092Z"
   },
   {
    "duration": 0,
    "start_time": "2022-12-22T13:59:19.094Z"
   },
   {
    "duration": 0,
    "start_time": "2022-12-22T13:59:19.095Z"
   },
   {
    "duration": 0,
    "start_time": "2022-12-22T13:59:19.097Z"
   },
   {
    "duration": 0,
    "start_time": "2022-12-22T13:59:19.099Z"
   },
   {
    "duration": 0,
    "start_time": "2022-12-22T13:59:19.100Z"
   },
   {
    "duration": 0,
    "start_time": "2022-12-22T13:59:19.101Z"
   },
   {
    "duration": 0,
    "start_time": "2022-12-22T13:59:19.102Z"
   },
   {
    "duration": 0,
    "start_time": "2022-12-22T13:59:19.103Z"
   },
   {
    "duration": 0,
    "start_time": "2022-12-22T13:59:19.105Z"
   },
   {
    "duration": 0,
    "start_time": "2022-12-22T13:59:19.106Z"
   },
   {
    "duration": 0,
    "start_time": "2022-12-22T13:59:19.107Z"
   },
   {
    "duration": 0,
    "start_time": "2022-12-22T13:59:19.108Z"
   },
   {
    "duration": 0,
    "start_time": "2022-12-22T13:59:19.109Z"
   },
   {
    "duration": 0,
    "start_time": "2022-12-22T13:59:19.110Z"
   },
   {
    "duration": 0,
    "start_time": "2022-12-22T13:59:19.111Z"
   },
   {
    "duration": 0,
    "start_time": "2022-12-22T13:59:19.112Z"
   },
   {
    "duration": 0,
    "start_time": "2022-12-22T13:59:19.113Z"
   },
   {
    "duration": 0,
    "start_time": "2022-12-22T13:59:19.114Z"
   },
   {
    "duration": 0,
    "start_time": "2022-12-22T13:59:19.116Z"
   },
   {
    "duration": 0,
    "start_time": "2022-12-22T13:59:19.178Z"
   },
   {
    "duration": 0,
    "start_time": "2022-12-22T13:59:19.180Z"
   },
   {
    "duration": 1479,
    "start_time": "2022-12-22T14:00:01.893Z"
   },
   {
    "duration": 3,
    "start_time": "2022-12-22T14:00:03.374Z"
   },
   {
    "duration": 1296,
    "start_time": "2022-12-22T14:00:03.378Z"
   },
   {
    "duration": 16,
    "start_time": "2022-12-22T14:00:04.677Z"
   },
   {
    "duration": 6,
    "start_time": "2022-12-22T14:00:04.695Z"
   },
   {
    "duration": 11,
    "start_time": "2022-12-22T14:00:04.702Z"
   },
   {
    "duration": 18,
    "start_time": "2022-12-22T14:00:04.715Z"
   },
   {
    "duration": 129,
    "start_time": "2022-12-22T14:00:04.734Z"
   },
   {
    "duration": 152,
    "start_time": "2022-12-22T14:00:04.865Z"
   },
   {
    "duration": 17,
    "start_time": "2022-12-22T14:00:05.020Z"
   },
   {
    "duration": 22,
    "start_time": "2022-12-22T14:00:05.039Z"
   },
   {
    "duration": 17,
    "start_time": "2022-12-22T14:00:05.063Z"
   },
   {
    "duration": 12,
    "start_time": "2022-12-22T14:00:05.081Z"
   },
   {
    "duration": 24,
    "start_time": "2022-12-22T14:00:05.095Z"
   },
   {
    "duration": 515,
    "start_time": "2022-12-22T14:00:05.121Z"
   },
   {
    "duration": 17,
    "start_time": "2022-12-22T14:00:05.637Z"
   },
   {
    "duration": 7,
    "start_time": "2022-12-22T14:00:05.656Z"
   },
   {
    "duration": 31,
    "start_time": "2022-12-22T14:00:05.665Z"
   },
   {
    "duration": 18,
    "start_time": "2022-12-22T14:00:05.698Z"
   },
   {
    "duration": 100,
    "start_time": "2022-12-22T14:00:05.717Z"
   },
   {
    "duration": 7,
    "start_time": "2022-12-22T14:00:05.819Z"
   },
   {
    "duration": 11,
    "start_time": "2022-12-22T14:00:05.827Z"
   },
   {
    "duration": 14,
    "start_time": "2022-12-22T14:00:05.839Z"
   },
   {
    "duration": 2052,
    "start_time": "2022-12-22T14:00:05.855Z"
   },
   {
    "duration": 352,
    "start_time": "2022-12-22T14:00:07.909Z"
   },
   {
    "duration": 252,
    "start_time": "2022-12-22T14:00:08.264Z"
   },
   {
    "duration": 7,
    "start_time": "2022-12-22T14:00:08.518Z"
   },
   {
    "duration": 607,
    "start_time": "2022-12-22T14:00:08.527Z"
   },
   {
    "duration": 51,
    "start_time": "2022-12-22T14:00:09.136Z"
   },
   {
    "duration": 675,
    "start_time": "2022-12-22T14:00:09.188Z"
   },
   {
    "duration": 14,
    "start_time": "2022-12-22T14:00:09.865Z"
   },
   {
    "duration": 6,
    "start_time": "2022-12-22T14:00:09.880Z"
   },
   {
    "duration": 8,
    "start_time": "2022-12-22T14:00:09.888Z"
   },
   {
    "duration": 7,
    "start_time": "2022-12-22T14:00:09.897Z"
   },
   {
    "duration": 8,
    "start_time": "2022-12-22T14:00:09.905Z"
   },
   {
    "duration": 9,
    "start_time": "2022-12-22T14:00:09.914Z"
   },
   {
    "duration": 1958,
    "start_time": "2022-12-22T14:00:09.925Z"
   },
   {
    "duration": 100207,
    "start_time": "2022-12-22T14:00:11.886Z"
   },
   {
    "duration": 68,
    "start_time": "2022-12-22T14:01:52.094Z"
   },
   {
    "duration": 0,
    "start_time": "2022-12-22T14:01:52.163Z"
   },
   {
    "duration": 0,
    "start_time": "2022-12-22T14:01:52.165Z"
   },
   {
    "duration": 0,
    "start_time": "2022-12-22T14:01:52.166Z"
   },
   {
    "duration": 1348,
    "start_time": "2022-12-22T14:02:31.780Z"
   },
   {
    "duration": 2,
    "start_time": "2022-12-22T14:02:33.130Z"
   },
   {
    "duration": 285,
    "start_time": "2022-12-22T14:02:33.134Z"
   },
   {
    "duration": 15,
    "start_time": "2022-12-22T14:02:33.421Z"
   },
   {
    "duration": 6,
    "start_time": "2022-12-22T14:02:33.437Z"
   },
   {
    "duration": 11,
    "start_time": "2022-12-22T14:02:33.444Z"
   },
   {
    "duration": 28,
    "start_time": "2022-12-22T14:02:33.457Z"
   },
   {
    "duration": 130,
    "start_time": "2022-12-22T14:02:33.486Z"
   },
   {
    "duration": 85,
    "start_time": "2022-12-22T14:02:33.617Z"
   },
   {
    "duration": 12,
    "start_time": "2022-12-22T14:02:33.705Z"
   },
   {
    "duration": 4,
    "start_time": "2022-12-22T14:02:33.719Z"
   },
   {
    "duration": 14,
    "start_time": "2022-12-22T14:02:33.724Z"
   },
   {
    "duration": 8,
    "start_time": "2022-12-22T14:02:33.739Z"
   },
   {
    "duration": 43,
    "start_time": "2022-12-22T14:02:33.749Z"
   },
   {
    "duration": 394,
    "start_time": "2022-12-22T14:02:33.794Z"
   },
   {
    "duration": 16,
    "start_time": "2022-12-22T14:02:34.190Z"
   },
   {
    "duration": 7,
    "start_time": "2022-12-22T14:02:34.207Z"
   },
   {
    "duration": 14,
    "start_time": "2022-12-22T14:02:34.215Z"
   },
   {
    "duration": 20,
    "start_time": "2022-12-22T14:02:34.231Z"
   },
   {
    "duration": 106,
    "start_time": "2022-12-22T14:02:34.253Z"
   },
   {
    "duration": 19,
    "start_time": "2022-12-22T14:02:34.361Z"
   },
   {
    "duration": 15,
    "start_time": "2022-12-22T14:02:34.382Z"
   },
   {
    "duration": 14,
    "start_time": "2022-12-22T14:02:34.399Z"
   },
   {
    "duration": 1932,
    "start_time": "2022-12-22T14:02:34.414Z"
   },
   {
    "duration": 359,
    "start_time": "2022-12-22T14:02:36.348Z"
   },
   {
    "duration": 254,
    "start_time": "2022-12-22T14:02:36.713Z"
   },
   {
    "duration": 9,
    "start_time": "2022-12-22T14:02:36.969Z"
   },
   {
    "duration": 601,
    "start_time": "2022-12-22T14:02:36.981Z"
   },
   {
    "duration": 43,
    "start_time": "2022-12-22T14:02:37.584Z"
   },
   {
    "duration": 673,
    "start_time": "2022-12-22T14:02:37.629Z"
   },
   {
    "duration": 9,
    "start_time": "2022-12-22T14:02:38.304Z"
   },
   {
    "duration": 8,
    "start_time": "2022-12-22T14:02:38.315Z"
   },
   {
    "duration": 6,
    "start_time": "2022-12-22T14:02:38.325Z"
   },
   {
    "duration": 6,
    "start_time": "2022-12-22T14:02:38.332Z"
   },
   {
    "duration": 10,
    "start_time": "2022-12-22T14:02:38.339Z"
   },
   {
    "duration": 8,
    "start_time": "2022-12-22T14:02:38.350Z"
   },
   {
    "duration": 1920,
    "start_time": "2022-12-22T14:02:38.360Z"
   },
   {
    "duration": 101760,
    "start_time": "2022-12-22T14:02:40.282Z"
   },
   {
    "duration": 1277,
    "start_time": "2022-12-22T20:32:24.511Z"
   },
   {
    "duration": 3,
    "start_time": "2022-12-22T20:32:25.790Z"
   },
   {
    "duration": 295,
    "start_time": "2022-12-22T20:32:25.794Z"
   },
   {
    "duration": 16,
    "start_time": "2022-12-22T20:32:26.090Z"
   },
   {
    "duration": 6,
    "start_time": "2022-12-22T20:32:26.107Z"
   },
   {
    "duration": 12,
    "start_time": "2022-12-22T20:32:26.114Z"
   },
   {
    "duration": 14,
    "start_time": "2022-12-22T20:32:26.127Z"
   },
   {
    "duration": 134,
    "start_time": "2022-12-22T20:32:26.142Z"
   },
   {
    "duration": 87,
    "start_time": "2022-12-22T20:32:26.277Z"
   },
   {
    "duration": 11,
    "start_time": "2022-12-22T20:32:26.366Z"
   },
   {
    "duration": 4,
    "start_time": "2022-12-22T20:32:26.379Z"
   },
   {
    "duration": 10,
    "start_time": "2022-12-22T20:32:26.384Z"
   },
   {
    "duration": 10,
    "start_time": "2022-12-22T20:32:26.395Z"
   },
   {
    "duration": 20,
    "start_time": "2022-12-22T20:32:26.407Z"
   },
   {
    "duration": 353,
    "start_time": "2022-12-22T20:32:26.428Z"
   },
   {
    "duration": 18,
    "start_time": "2022-12-22T20:32:26.782Z"
   },
   {
    "duration": 6,
    "start_time": "2022-12-22T20:32:26.801Z"
   },
   {
    "duration": 13,
    "start_time": "2022-12-22T20:32:26.809Z"
   },
   {
    "duration": 18,
    "start_time": "2022-12-22T20:32:26.824Z"
   },
   {
    "duration": 115,
    "start_time": "2022-12-22T20:32:26.843Z"
   },
   {
    "duration": 8,
    "start_time": "2022-12-22T20:32:26.960Z"
   },
   {
    "duration": 12,
    "start_time": "2022-12-22T20:32:26.969Z"
   },
   {
    "duration": 13,
    "start_time": "2022-12-22T20:32:26.982Z"
   },
   {
    "duration": 1864,
    "start_time": "2022-12-22T20:32:26.997Z"
   },
   {
    "duration": 336,
    "start_time": "2022-12-22T20:32:28.862Z"
   },
   {
    "duration": 239,
    "start_time": "2022-12-22T20:32:29.199Z"
   },
   {
    "duration": 7,
    "start_time": "2022-12-22T20:32:29.439Z"
   },
   {
    "duration": 565,
    "start_time": "2022-12-22T20:32:29.449Z"
   },
   {
    "duration": 49,
    "start_time": "2022-12-22T20:32:30.015Z"
   },
   {
    "duration": 699,
    "start_time": "2022-12-22T20:32:30.066Z"
   },
   {
    "duration": 13,
    "start_time": "2022-12-22T20:32:30.767Z"
   },
   {
    "duration": 16,
    "start_time": "2022-12-22T20:32:30.782Z"
   },
   {
    "duration": 31,
    "start_time": "2022-12-22T20:32:30.800Z"
   },
   {
    "duration": 19,
    "start_time": "2022-12-22T20:32:30.832Z"
   },
   {
    "duration": 18,
    "start_time": "2022-12-22T20:32:30.852Z"
   },
   {
    "duration": 23,
    "start_time": "2022-12-22T20:32:30.871Z"
   },
   {
    "duration": 1889,
    "start_time": "2022-12-22T20:32:30.896Z"
   },
   {
    "duration": 98401,
    "start_time": "2022-12-22T20:32:32.788Z"
   },
   {
    "duration": 1649777,
    "start_time": "2022-12-22T20:34:11.190Z"
   },
   {
    "duration": 10,
    "start_time": "2022-12-22T21:01:40.968Z"
   },
   {
    "duration": 3882,
    "start_time": "2022-12-22T21:01:40.979Z"
   },
   {
    "duration": 105,
    "start_time": "2022-12-22T21:01:44.863Z"
   },
   {
    "duration": 10,
    "start_time": "2022-12-22T21:05:57.126Z"
   },
   {
    "duration": 29208,
    "start_time": "2022-12-22T21:09:50.127Z"
   },
   {
    "duration": 10,
    "start_time": "2022-12-22T21:10:27.265Z"
   }
  ],
  "kernelspec": {
   "display_name": "Python 3 (ipykernel)",
   "language": "python",
   "name": "python3"
  },
  "language_info": {
   "codemirror_mode": {
    "name": "ipython",
    "version": 3
   },
   "file_extension": ".py",
   "mimetype": "text/x-python",
   "name": "python",
   "nbconvert_exporter": "python",
   "pygments_lexer": "ipython3",
   "version": "3.9.13"
  },
  "toc": {
   "base_numbering": 1,
   "nav_menu": {},
   "number_sections": true,
   "sideBar": true,
   "skip_h1_title": true,
   "title_cell": "Содержание",
   "title_sidebar": "Contents",
   "toc_cell": true,
   "toc_position": {
    "height": "calc(100% - 180px)",
    "left": "10px",
    "top": "150px",
    "width": "165px"
   },
   "toc_section_display": true,
   "toc_window_display": true
  }
 },
 "nbformat": 4,
 "nbformat_minor": 2
}
