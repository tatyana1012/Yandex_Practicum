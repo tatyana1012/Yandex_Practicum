{
 "cells": [
  {
   "cell_type": "markdown",
   "metadata": {},
   "source": [
    "#  Прогнозирование заказов такси"
   ]
  },
  {
   "cell_type": "markdown",
   "metadata": {},
   "source": [
    "Компания собрала исторические данные о заказах такси в аэропортах. Чтобы привлекать больше водителей в период пиковой нагрузки, нужно спрогнозировать количество заказов такси на следующий час. Постройте модель для такого предсказания.\n",
    "\n",
    "Значение метрики *RMSE* на тестовой выборке должно быть не больше 48.\n"
   ]
  },
  {
   "cell_type": "markdown",
   "metadata": {},
   "source": [
    "## Подготовка"
   ]
  },
  {
   "cell_type": "code",
   "execution_count": 1,
   "metadata": {},
   "outputs": [],
   "source": [
    "import pandas as pd\n",
    "import numpy as np\n",
    "import matplotlib.pyplot as plt\n",
    "import warnings\n",
    "\n",
    "from statsmodels.tsa.seasonal import seasonal_decompose\n",
    "from sklearn.model_selection import train_test_split\n",
    "from sklearn.tree import DecisionTreeRegressor\n",
    "from sklearn.linear_model import LinearRegression\n",
    "from lightgbm import LGBMRegressor\n",
    "from sklearn.model_selection import cross_val_score\n",
    "from sklearn.metrics import mean_squared_error\n",
    "from sklearn.model_selection import GridSearchCV\n",
    "from sklearn.model_selection import TimeSeriesSplit"
   ]
  },
  {
   "cell_type": "code",
   "execution_count": 2,
   "metadata": {},
   "outputs": [],
   "source": [
    "warnings.filterwarnings('ignore')\n",
    "pd.options.mode.chained_assignment = None"
   ]
  },
  {
   "cell_type": "code",
   "execution_count": 3,
   "metadata": {},
   "outputs": [],
   "source": [
    "try: \n",
    "    taxi = pd.read_csv('/datasets/taxi.csv', index_col=[0], parse_dates=[0])\n",
    "except:\n",
    "    taxi = pd.read_csv('https://code.s3.yandex.net/datasets/taxi.csv', index_col=[0], parse_dates=[0])"
   ]
  },
  {
   "cell_type": "code",
   "execution_count": 4,
   "metadata": {},
   "outputs": [
    {
     "data": {
      "text/html": [
       "<div>\n",
       "<style scoped>\n",
       "    .dataframe tbody tr th:only-of-type {\n",
       "        vertical-align: middle;\n",
       "    }\n",
       "\n",
       "    .dataframe tbody tr th {\n",
       "        vertical-align: top;\n",
       "    }\n",
       "\n",
       "    .dataframe thead th {\n",
       "        text-align: right;\n",
       "    }\n",
       "</style>\n",
       "<table border=\"1\" class=\"dataframe\">\n",
       "  <thead>\n",
       "    <tr style=\"text-align: right;\">\n",
       "      <th></th>\n",
       "      <th>num_orders</th>\n",
       "    </tr>\n",
       "    <tr>\n",
       "      <th>datetime</th>\n",
       "      <th></th>\n",
       "    </tr>\n",
       "  </thead>\n",
       "  <tbody>\n",
       "    <tr>\n",
       "      <th>2018-03-01 00:00:00</th>\n",
       "      <td>9</td>\n",
       "    </tr>\n",
       "    <tr>\n",
       "      <th>2018-03-01 00:10:00</th>\n",
       "      <td>14</td>\n",
       "    </tr>\n",
       "    <tr>\n",
       "      <th>2018-03-01 00:20:00</th>\n",
       "      <td>28</td>\n",
       "    </tr>\n",
       "    <tr>\n",
       "      <th>2018-03-01 00:30:00</th>\n",
       "      <td>20</td>\n",
       "    </tr>\n",
       "    <tr>\n",
       "      <th>2018-03-01 00:40:00</th>\n",
       "      <td>32</td>\n",
       "    </tr>\n",
       "  </tbody>\n",
       "</table>\n",
       "</div>"
      ],
      "text/plain": [
       "                     num_orders\n",
       "datetime                       \n",
       "2018-03-01 00:00:00           9\n",
       "2018-03-01 00:10:00          14\n",
       "2018-03-01 00:20:00          28\n",
       "2018-03-01 00:30:00          20\n",
       "2018-03-01 00:40:00          32"
      ]
     },
     "execution_count": 4,
     "metadata": {},
     "output_type": "execute_result"
    }
   ],
   "source": [
    "taxi.head()"
   ]
  },
  {
   "cell_type": "code",
   "execution_count": 5,
   "metadata": {},
   "outputs": [
    {
     "data": {
      "text/html": [
       "<div>\n",
       "<style scoped>\n",
       "    .dataframe tbody tr th:only-of-type {\n",
       "        vertical-align: middle;\n",
       "    }\n",
       "\n",
       "    .dataframe tbody tr th {\n",
       "        vertical-align: top;\n",
       "    }\n",
       "\n",
       "    .dataframe thead th {\n",
       "        text-align: right;\n",
       "    }\n",
       "</style>\n",
       "<table border=\"1\" class=\"dataframe\">\n",
       "  <thead>\n",
       "    <tr style=\"text-align: right;\">\n",
       "      <th></th>\n",
       "      <th>num_orders</th>\n",
       "    </tr>\n",
       "  </thead>\n",
       "  <tbody>\n",
       "    <tr>\n",
       "      <th>count</th>\n",
       "      <td>26496.000000</td>\n",
       "    </tr>\n",
       "    <tr>\n",
       "      <th>mean</th>\n",
       "      <td>14.070463</td>\n",
       "    </tr>\n",
       "    <tr>\n",
       "      <th>std</th>\n",
       "      <td>9.211330</td>\n",
       "    </tr>\n",
       "    <tr>\n",
       "      <th>min</th>\n",
       "      <td>0.000000</td>\n",
       "    </tr>\n",
       "    <tr>\n",
       "      <th>25%</th>\n",
       "      <td>8.000000</td>\n",
       "    </tr>\n",
       "    <tr>\n",
       "      <th>50%</th>\n",
       "      <td>13.000000</td>\n",
       "    </tr>\n",
       "    <tr>\n",
       "      <th>75%</th>\n",
       "      <td>19.000000</td>\n",
       "    </tr>\n",
       "    <tr>\n",
       "      <th>max</th>\n",
       "      <td>119.000000</td>\n",
       "    </tr>\n",
       "  </tbody>\n",
       "</table>\n",
       "</div>"
      ],
      "text/plain": [
       "         num_orders\n",
       "count  26496.000000\n",
       "mean      14.070463\n",
       "std        9.211330\n",
       "min        0.000000\n",
       "25%        8.000000\n",
       "50%       13.000000\n",
       "75%       19.000000\n",
       "max      119.000000"
      ]
     },
     "execution_count": 5,
     "metadata": {},
     "output_type": "execute_result"
    }
   ],
   "source": [
    "taxi.describe()"
   ]
  },
  {
   "cell_type": "code",
   "execution_count": 6,
   "metadata": {},
   "outputs": [
    {
     "name": "stdout",
     "output_type": "stream",
     "text": [
      "<class 'pandas.core.frame.DataFrame'>\n",
      "DatetimeIndex: 26496 entries, 2018-03-01 00:00:00 to 2018-08-31 23:50:00\n",
      "Data columns (total 1 columns):\n",
      " #   Column      Non-Null Count  Dtype\n",
      "---  ------      --------------  -----\n",
      " 0   num_orders  26496 non-null  int64\n",
      "dtypes: int64(1)\n",
      "memory usage: 414.0 KB\n"
     ]
    }
   ],
   "source": [
    "taxi.info()"
   ]
  },
  {
   "cell_type": "code",
   "execution_count": 7,
   "metadata": {},
   "outputs": [
    {
     "name": "stdout",
     "output_type": "stream",
     "text": [
      "True\n"
     ]
    }
   ],
   "source": [
    "taxi.sort_index(inplace=True)\n",
    "print(taxi.index.is_monotonic)"
   ]
  },
  {
   "cell_type": "code",
   "execution_count": 8,
   "metadata": {},
   "outputs": [],
   "source": [
    "taxi = taxi.resample('1H').sum()"
   ]
  },
  {
   "cell_type": "code",
   "execution_count": 9,
   "metadata": {},
   "outputs": [
    {
     "data": {
      "image/png": "[encoded data removed]",
      "text/plain": [
       "<Figure size 1296x360 with 1 Axes>"
      ]
     },
     "metadata": {
      "needs_background": "light"
     },
     "output_type": "display_data"
    }
   ],
   "source": [
    "taxi.plot(figsize=(18,5))\n",
    "plt.title('Заказ такси по часу');\n",
    "plt.xlabel('Интервал времени');\n",
    "plt.ylabel('Количество наблюдений')\n",
    "plt.show()"
   ]
  },
  {
   "cell_type": "markdown",
   "metadata": {},
   "source": [
    "Прежде всего я загрузила данные, посмотрела информацию по данным, изменила тип данных Datetime с object на datetime64 и установила индекс таблицы равным столбцу Datetime. Также убедилась, что дата и время становлены в хронологическом порядке. Нам дан период с 1го марта 2018 г до 31 августа 2018 г. В изначальных данных был дал интервал 10 минут, поменяли интервал на 1 час"
   ]
  },
  {
   "cell_type": "markdown",
   "metadata": {},
   "source": [
    "## Анализ"
   ]
  },
  {
   "cell_type": "code",
   "execution_count": 10,
   "metadata": {},
   "outputs": [
    {
     "data": {
      "image/png": "[encoded data removed]",
      "text/plain": [
       "<Figure size 1296x360 with 1 Axes>"
      ]
     },
     "metadata": {
      "needs_background": "light"
     },
     "output_type": "display_data"
    }
   ],
   "source": [
    "taxi['rolling_mean'] = taxi.rolling(50).mean() \n",
    "taxi.plot(figsize=(18,5))\n",
    "plt.title('Заказ такси со скользящим средним')\n",
    "plt.show()"
   ]
  },
  {
   "cell_type": "code",
   "execution_count": 11,
   "metadata": {},
   "outputs": [
    {
     "data": {
      "image/png": "[encoded data removed]",
      "text/plain": [
       "<Figure size 1296x720 with 3 Axes>"
      ]
     },
     "metadata": {
      "needs_background": "light"
     },
     "output_type": "display_data"
    }
   ],
   "source": [
    "decomposed = seasonal_decompose(taxi.drop('rolling_mean', axis=1)) \n",
    "plt.figure(figsize=(18,10))\n",
    "plt.subplot(311)\n",
    "decomposed.trend.plot(ax=plt.gca())\n",
    "plt.title('Trend')\n",
    "plt.subplot(312)\n",
    "decomposed.seasonal.plot(ax=plt.gca()) \n",
    "plt.title('Seasonality')\n",
    "plt.subplot(313)\n",
    "decomposed.resid.plot(ax=plt.gca()) \n",
    "plt.title('Residuals')\n",
    "plt.tight_layout()"
   ]
  },
  {
   "cell_type": "code",
   "execution_count": 12,
   "metadata": {},
   "outputs": [
    {
     "data": {
      "image/png": "[encoded data removed]",
      "text/plain": [
       "<Figure size 1296x360 with 1 Axes>"
      ]
     },
     "metadata": {
      "needs_background": "light"
     },
     "output_type": "display_data"
    }
   ],
   "source": [
    "plt.figure(figsize=(18,5))\n",
    "decomposed.seasonal['2018-03-01': '2018-03-03'].plot(ax=plt.gca())\n",
    "plt.title('График сезонной составляющей за первые 3 дней марта 2018 года')\n",
    "plt.show()"
   ]
  },
  {
   "cell_type": "markdown",
   "metadata": {},
   "source": [
    "В результате анализа данных заметен тренд на увеличение заказов каждый меяц, начиная с марта, пик заказов приходится на август. Учитывая это, можно предположить, что количество заказов будет продолжать увеличиваться. Так же на примере первых 3 дней марта заметна повторяющаяся динамика. Пик заказов приходится на вечернее и ночное время, минимальное количество заказов в 6 утра."
   ]
  },
  {
   "cell_type": "markdown",
   "metadata": {},
   "source": [
    "## Обучение"
   ]
  },
  {
   "cell_type": "code",
   "execution_count": 13,
   "metadata": {},
   "outputs": [],
   "source": [
    "def make_features(taxi, max_lag, rolling_mean_size): \n",
    "    taxi['day'] = taxi.index.day\n",
    "    taxi['dayofweek'] = taxi.index.dayofweek\n",
    "    \n",
    "    for lag in range(1, max_lag + 1):\n",
    "        taxi['lag_{}'.format(lag)] = taxi['num_orders'].shift(lag)\n",
    "\n",
    "    taxi['rolling_mean'] = taxi['num_orders'].shift().rolling(rolling_mean_size).mean()\n",
    "\n",
    "make_features(taxi, 48, 7)"
   ]
  },
  {
   "cell_type": "code",
   "execution_count": 14,
   "metadata": {},
   "outputs": [
    {
     "data": {
      "text/html": [
       "<div>\n",
       "<style scoped>\n",
       "    .dataframe tbody tr th:only-of-type {\n",
       "        vertical-align: middle;\n",
       "    }\n",
       "\n",
       "    .dataframe tbody tr th {\n",
       "        vertical-align: top;\n",
       "    }\n",
       "\n",
       "    .dataframe thead th {\n",
       "        text-align: right;\n",
       "    }\n",
       "</style>\n",
       "<table border=\"1\" class=\"dataframe\">\n",
       "  <thead>\n",
       "    <tr style=\"text-align: right;\">\n",
       "      <th></th>\n",
       "      <th>num_orders</th>\n",
       "      <th>rolling_mean</th>\n",
       "      <th>day</th>\n",
       "      <th>dayofweek</th>\n",
       "      <th>lag_1</th>\n",
       "      <th>lag_2</th>\n",
       "      <th>lag_3</th>\n",
       "      <th>lag_4</th>\n",
       "      <th>lag_5</th>\n",
       "      <th>lag_6</th>\n",
       "      <th>...</th>\n",
       "      <th>lag_39</th>\n",
       "      <th>lag_40</th>\n",
       "      <th>lag_41</th>\n",
       "      <th>lag_42</th>\n",
       "      <th>lag_43</th>\n",
       "      <th>lag_44</th>\n",
       "      <th>lag_45</th>\n",
       "      <th>lag_46</th>\n",
       "      <th>lag_47</th>\n",
       "      <th>lag_48</th>\n",
       "    </tr>\n",
       "    <tr>\n",
       "      <th>datetime</th>\n",
       "      <th></th>\n",
       "      <th></th>\n",
       "      <th></th>\n",
       "      <th></th>\n",
       "      <th></th>\n",
       "      <th></th>\n",
       "      <th></th>\n",
       "      <th></th>\n",
       "      <th></th>\n",
       "      <th></th>\n",
       "      <th></th>\n",
       "      <th></th>\n",
       "      <th></th>\n",
       "      <th></th>\n",
       "      <th></th>\n",
       "      <th></th>\n",
       "      <th></th>\n",
       "      <th></th>\n",
       "      <th></th>\n",
       "      <th></th>\n",
       "      <th></th>\n",
       "    </tr>\n",
       "  </thead>\n",
       "  <tbody>\n",
       "    <tr>\n",
       "      <th>2018-03-01 00:00:00</th>\n",
       "      <td>124</td>\n",
       "      <td>NaN</td>\n",
       "      <td>1</td>\n",
       "      <td>3</td>\n",
       "      <td>NaN</td>\n",
       "      <td>NaN</td>\n",
       "      <td>NaN</td>\n",
       "      <td>NaN</td>\n",
       "      <td>NaN</td>\n",
       "      <td>NaN</td>\n",
       "      <td>...</td>\n",
       "      <td>NaN</td>\n",
       "      <td>NaN</td>\n",
       "      <td>NaN</td>\n",
       "      <td>NaN</td>\n",
       "      <td>NaN</td>\n",
       "      <td>NaN</td>\n",
       "      <td>NaN</td>\n",
       "      <td>NaN</td>\n",
       "      <td>NaN</td>\n",
       "      <td>NaN</td>\n",
       "    </tr>\n",
       "    <tr>\n",
       "      <th>2018-03-01 01:00:00</th>\n",
       "      <td>85</td>\n",
       "      <td>NaN</td>\n",
       "      <td>1</td>\n",
       "      <td>3</td>\n",
       "      <td>124.0</td>\n",
       "      <td>NaN</td>\n",
       "      <td>NaN</td>\n",
       "      <td>NaN</td>\n",
       "      <td>NaN</td>\n",
       "      <td>NaN</td>\n",
       "      <td>...</td>\n",
       "      <td>NaN</td>\n",
       "      <td>NaN</td>\n",
       "      <td>NaN</td>\n",
       "      <td>NaN</td>\n",
       "      <td>NaN</td>\n",
       "      <td>NaN</td>\n",
       "      <td>NaN</td>\n",
       "      <td>NaN</td>\n",
       "      <td>NaN</td>\n",
       "      <td>NaN</td>\n",
       "    </tr>\n",
       "    <tr>\n",
       "      <th>2018-03-01 02:00:00</th>\n",
       "      <td>71</td>\n",
       "      <td>NaN</td>\n",
       "      <td>1</td>\n",
       "      <td>3</td>\n",
       "      <td>85.0</td>\n",
       "      <td>124.0</td>\n",
       "      <td>NaN</td>\n",
       "      <td>NaN</td>\n",
       "      <td>NaN</td>\n",
       "      <td>NaN</td>\n",
       "      <td>...</td>\n",
       "      <td>NaN</td>\n",
       "      <td>NaN</td>\n",
       "      <td>NaN</td>\n",
       "      <td>NaN</td>\n",
       "      <td>NaN</td>\n",
       "      <td>NaN</td>\n",
       "      <td>NaN</td>\n",
       "      <td>NaN</td>\n",
       "      <td>NaN</td>\n",
       "      <td>NaN</td>\n",
       "    </tr>\n",
       "    <tr>\n",
       "      <th>2018-03-01 03:00:00</th>\n",
       "      <td>66</td>\n",
       "      <td>NaN</td>\n",
       "      <td>1</td>\n",
       "      <td>3</td>\n",
       "      <td>71.0</td>\n",
       "      <td>85.0</td>\n",
       "      <td>124.0</td>\n",
       "      <td>NaN</td>\n",
       "      <td>NaN</td>\n",
       "      <td>NaN</td>\n",
       "      <td>...</td>\n",
       "      <td>NaN</td>\n",
       "      <td>NaN</td>\n",
       "      <td>NaN</td>\n",
       "      <td>NaN</td>\n",
       "      <td>NaN</td>\n",
       "      <td>NaN</td>\n",
       "      <td>NaN</td>\n",
       "      <td>NaN</td>\n",
       "      <td>NaN</td>\n",
       "      <td>NaN</td>\n",
       "    </tr>\n",
       "    <tr>\n",
       "      <th>2018-03-01 04:00:00</th>\n",
       "      <td>43</td>\n",
       "      <td>NaN</td>\n",
       "      <td>1</td>\n",
       "      <td>3</td>\n",
       "      <td>66.0</td>\n",
       "      <td>71.0</td>\n",
       "      <td>85.0</td>\n",
       "      <td>124.0</td>\n",
       "      <td>NaN</td>\n",
       "      <td>NaN</td>\n",
       "      <td>...</td>\n",
       "      <td>NaN</td>\n",
       "      <td>NaN</td>\n",
       "      <td>NaN</td>\n",
       "      <td>NaN</td>\n",
       "      <td>NaN</td>\n",
       "      <td>NaN</td>\n",
       "      <td>NaN</td>\n",
       "      <td>NaN</td>\n",
       "      <td>NaN</td>\n",
       "      <td>NaN</td>\n",
       "    </tr>\n",
       "  </tbody>\n",
       "</table>\n",
       "<p>5 rows × 52 columns</p>\n",
       "</div>"
      ],
      "text/plain": [
       "                     num_orders  rolling_mean  day  dayofweek  lag_1  lag_2  \\\n",
       "datetime                                                                      \n",
       "2018-03-01 00:00:00         124           NaN    1          3    NaN    NaN   \n",
       "2018-03-01 01:00:00          85           NaN    1          3  124.0    NaN   \n",
       "2018-03-01 02:00:00          71           NaN    1          3   85.0  124.0   \n",
       "2018-03-01 03:00:00          66           NaN    1          3   71.0   85.0   \n",
       "2018-03-01 04:00:00          43           NaN    1          3   66.0   71.0   \n",
       "\n",
       "                     lag_3  lag_4  lag_5  lag_6  ...  lag_39  lag_40  lag_41  \\\n",
       "datetime                                         ...                           \n",
       "2018-03-01 00:00:00    NaN    NaN    NaN    NaN  ...     NaN     NaN     NaN   \n",
       "2018-03-01 01:00:00    NaN    NaN    NaN    NaN  ...     NaN     NaN     NaN   \n",
       "2018-03-01 02:00:00    NaN    NaN    NaN    NaN  ...     NaN     NaN     NaN   \n",
       "2018-03-01 03:00:00  124.0    NaN    NaN    NaN  ...     NaN     NaN     NaN   \n",
       "2018-03-01 04:00:00   85.0  124.0    NaN    NaN  ...     NaN     NaN     NaN   \n",
       "\n",
       "                     lag_42  lag_43  lag_44  lag_45  lag_46  lag_47  lag_48  \n",
       "datetime                                                                     \n",
       "2018-03-01 00:00:00     NaN     NaN     NaN     NaN     NaN     NaN     NaN  \n",
       "2018-03-01 01:00:00     NaN     NaN     NaN     NaN     NaN     NaN     NaN  \n",
       "2018-03-01 02:00:00     NaN     NaN     NaN     NaN     NaN     NaN     NaN  \n",
       "2018-03-01 03:00:00     NaN     NaN     NaN     NaN     NaN     NaN     NaN  \n",
       "2018-03-01 04:00:00     NaN     NaN     NaN     NaN     NaN     NaN     NaN  \n",
       "\n",
       "[5 rows x 52 columns]"
      ]
     },
     "execution_count": 14,
     "metadata": {},
     "output_type": "execute_result"
    }
   ],
   "source": [
    "taxi.head()"
   ]
  },
  {
   "cell_type": "code",
   "execution_count": 15,
   "metadata": {},
   "outputs": [
    {
     "data": {
      "text/plain": [
       "(4416, 52)"
      ]
     },
     "execution_count": 15,
     "metadata": {},
     "output_type": "execute_result"
    }
   ],
   "source": [
    "taxi.shape"
   ]
  },
  {
   "cell_type": "code",
   "execution_count": 16,
   "metadata": {},
   "outputs": [
    {
     "name": "stdout",
     "output_type": "stream",
     "text": [
      "(3532, 52)\n",
      "(442, 52)\n",
      "(442, 52)\n"
     ]
    }
   ],
   "source": [
    "train, valid=train_test_split(taxi, test_size=0.2, shuffle=False) \n",
    "valid, test=train_test_split(valid, test_size=0.5, shuffle=False) \n",
    "print(train.shape)\n",
    "print(valid.shape)\n",
    "print(test.shape)"
   ]
  },
  {
   "cell_type": "code",
   "execution_count": 17,
   "metadata": {},
   "outputs": [],
   "source": [
    "train = train.dropna() "
   ]
  },
  {
   "cell_type": "code",
   "execution_count": 18,
   "metadata": {},
   "outputs": [],
   "source": [
    "valid = valid.dropna() "
   ]
  },
  {
   "cell_type": "code",
   "execution_count": 19,
   "metadata": {},
   "outputs": [],
   "source": [
    "features_train  = train.drop('num_orders', axis=1) \n",
    "target_train = train[['num_orders']]\n",
    "features_valid  = valid.drop('num_orders', axis=1)\n",
    "target_valid = valid[['num_orders']]\n",
    "features_test = test.drop('num_orders', axis=1)\n",
    "target_test = test[['num_orders']]"
   ]
  },
  {
   "cell_type": "code",
   "execution_count": 20,
   "metadata": {},
   "outputs": [
    {
     "name": "stdout",
     "output_type": "stream",
     "text": [
      "RMSE для линейной регрессии: 31.65\n"
     ]
    }
   ],
   "source": [
    "model_lin = LinearRegression() \n",
    "model_lin= model_lin.fit(features_train, target_train)\n",
    "predictions = model_lin.predict(features_valid)\n",
    "model_lin_score=(mean_squared_error(target_valid, predictions))**0.5\n",
    "print('RMSE для линейной регрессии:', model_lin_score.round(2))"
   ]
  },
  {
   "cell_type": "code",
   "execution_count": 21,
   "metadata": {},
   "outputs": [
    {
     "name": "stdout",
     "output_type": "stream",
     "text": [
      "Лучшие гиперпараметры для дерева:  {'max_depth': 5, 'max_features': 8}\n",
      "RMSE для дерева: 43.27\n"
     ]
    }
   ],
   "source": [
    "model_tree=DecisionTreeRegressor() \n",
    "parameters={'max_depth': np.arange(1,40),\n",
    "           'max_features': [x for x in range(1,11)]\n",
    "           }\n",
    "tscv = TimeSeriesSplit(n_splits=10)\n",
    "model_tree_g= GridSearchCV(estimator=model_tree,\n",
    "                           cv=tscv,\n",
    "                           param_grid=parameters,\n",
    "                           scoring='neg_mean_squared_error',\n",
    "                        )\n",
    "model_tree_g.fit(features_train, target_train)\n",
    "predictions_valid=model_tree_g.predict(features_valid)\n",
    "model_tree_g_score=(mean_squared_error(target_valid, predictions_valid))**0.5\n",
    "print('Лучшие гиперпараметры для дерева: ', model_tree_g.best_params_)\n",
    "print('RMSE для дерева:', model_tree_g_score.round(2))"
   ]
  },
  {
   "cell_type": "code",
   "execution_count": 22,
   "metadata": {},
   "outputs": [
    {
     "name": "stdout",
     "output_type": "stream",
     "text": [
      "Fitting 10 folds for each of 6 candidates, totalling 60 fits\n",
      "[CV 1/10; 1/6] START max_depth=5, n_estimators=50...............................\n",
      "[CV 1/10; 1/6] END .............max_depth=5, n_estimators=50; total time=   0.5s\n",
      "[CV 2/10; 1/6] START max_depth=5, n_estimators=50...............................\n",
      "[CV 2/10; 1/6] END .............max_depth=5, n_estimators=50; total time=   0.4s\n",
      "[CV 3/10; 1/6] START max_depth=5, n_estimators=50...............................\n",
      "[CV 3/10; 1/6] END .............max_depth=5, n_estimators=50; total time=   0.3s\n",
      "[CV 4/10; 1/6] START max_depth=5, n_estimators=50...............................\n",
      "[CV 4/10; 1/6] END .............max_depth=5, n_estimators=50; total time=   0.5s\n",
      "[CV 5/10; 1/6] START max_depth=5, n_estimators=50...............................\n",
      "[CV 5/10; 1/6] END .............max_depth=5, n_estimators=50; total time=   0.5s\n",
      "[CV 6/10; 1/6] START max_depth=5, n_estimators=50...............................\n",
      "[CV 6/10; 1/6] END .............max_depth=5, n_estimators=50; total time=   0.5s\n",
      "[CV 7/10; 1/6] START max_depth=5, n_estimators=50...............................\n",
      "[CV 7/10; 1/6] END .............max_depth=5, n_estimators=50; total time=   0.6s\n",
      "[CV 8/10; 1/6] START max_depth=5, n_estimators=50...............................\n",
      "[CV 8/10; 1/6] END .............max_depth=5, n_estimators=50; total time=   0.5s\n",
      "[CV 9/10; 1/6] START max_depth=5, n_estimators=50...............................\n",
      "[CV 9/10; 1/6] END .............max_depth=5, n_estimators=50; total time=   0.6s\n",
      "[CV 10/10; 1/6] START max_depth=5, n_estimators=50..............................\n",
      "[CV 10/10; 1/6] END ............max_depth=5, n_estimators=50; total time=   0.7s\n",
      "[CV 1/10; 2/6] START max_depth=5, n_estimators=100..............................\n",
      "[CV 1/10; 2/6] END ............max_depth=5, n_estimators=100; total time=   0.4s\n",
      "[CV 2/10; 2/6] START max_depth=5, n_estimators=100..............................\n",
      "[CV 2/10; 2/6] END ............max_depth=5, n_estimators=100; total time=   0.4s\n",
      "[CV 3/10; 2/6] START max_depth=5, n_estimators=100..............................\n",
      "[CV 3/10; 2/6] END ............max_depth=5, n_estimators=100; total time=   0.6s\n",
      "[CV 4/10; 2/6] START max_depth=5, n_estimators=100..............................\n",
      "[CV 4/10; 2/6] END ............max_depth=5, n_estimators=100; total time=   0.7s\n",
      "[CV 5/10; 2/6] START max_depth=5, n_estimators=100..............................\n",
      "[CV 5/10; 2/6] END ............max_depth=5, n_estimators=100; total time=   0.6s\n",
      "[CV 6/10; 2/6] START max_depth=5, n_estimators=100..............................\n",
      "[CV 6/10; 2/6] END ............max_depth=5, n_estimators=100; total time=   0.9s\n",
      "[CV 7/10; 2/6] START max_depth=5, n_estimators=100..............................\n",
      "[CV 7/10; 2/6] END ............max_depth=5, n_estimators=100; total time=   0.7s\n",
      "[CV 8/10; 2/6] START max_depth=5, n_estimators=100..............................\n",
      "[CV 8/10; 2/6] END ............max_depth=5, n_estimators=100; total time=   0.8s\n",
      "[CV 9/10; 2/6] START max_depth=5, n_estimators=100..............................\n",
      "[CV 9/10; 2/6] END ............max_depth=5, n_estimators=100; total time=   0.8s\n",
      "[CV 10/10; 2/6] START max_depth=5, n_estimators=100.............................\n",
      "[CV 10/10; 2/6] END ...........max_depth=5, n_estimators=100; total time=   0.8s\n",
      "[CV 1/10; 3/6] START max_depth=7, n_estimators=50...............................\n",
      "[CV 1/10; 3/6] END .............max_depth=7, n_estimators=50; total time=   0.3s\n",
      "[CV 2/10; 3/6] START max_depth=7, n_estimators=50...............................\n",
      "[CV 2/10; 3/6] END .............max_depth=7, n_estimators=50; total time=   0.5s\n",
      "[CV 3/10; 3/6] START max_depth=7, n_estimators=50...............................\n",
      "[CV 3/10; 3/6] END .............max_depth=7, n_estimators=50; total time=   0.4s\n",
      "[CV 4/10; 3/6] START max_depth=7, n_estimators=50...............................\n",
      "[CV 4/10; 3/6] END .............max_depth=7, n_estimators=50; total time=   0.5s\n",
      "[CV 5/10; 3/6] START max_depth=7, n_estimators=50...............................\n",
      "[CV 5/10; 3/6] END .............max_depth=7, n_estimators=50; total time=   0.6s\n",
      "[CV 6/10; 3/6] START max_depth=7, n_estimators=50...............................\n",
      "[CV 6/10; 3/6] END .............max_depth=7, n_estimators=50; total time=   0.7s\n",
      "[CV 7/10; 3/6] START max_depth=7, n_estimators=50...............................\n",
      "[CV 7/10; 3/6] END .............max_depth=7, n_estimators=50; total time=   0.9s\n",
      "[CV 8/10; 3/6] START max_depth=7, n_estimators=50...............................\n",
      "[CV 8/10; 3/6] END .............max_depth=7, n_estimators=50; total time=   0.7s\n",
      "[CV 9/10; 3/6] START max_depth=7, n_estimators=50...............................\n",
      "[CV 9/10; 3/6] END .............max_depth=7, n_estimators=50; total time=   0.7s\n",
      "[CV 10/10; 3/6] START max_depth=7, n_estimators=50..............................\n",
      "[CV 10/10; 3/6] END ............max_depth=7, n_estimators=50; total time=   0.8s\n",
      "[CV 1/10; 4/6] START max_depth=7, n_estimators=100..............................\n",
      "[CV 1/10; 4/6] END ............max_depth=7, n_estimators=100; total time=   0.4s\n",
      "[CV 2/10; 4/6] START max_depth=7, n_estimators=100..............................\n",
      "[CV 2/10; 4/6] END ............max_depth=7, n_estimators=100; total time=   0.7s\n",
      "[CV 3/10; 4/6] START max_depth=7, n_estimators=100..............................\n",
      "[CV 3/10; 4/6] END ............max_depth=7, n_estimators=100; total time=   0.8s\n",
      "[CV 4/10; 4/6] START max_depth=7, n_estimators=100..............................\n",
      "[CV 4/10; 4/6] END ............max_depth=7, n_estimators=100; total time=   1.1s\n",
      "[CV 5/10; 4/6] START max_depth=7, n_estimators=100..............................\n",
      "[CV 5/10; 4/6] END ............max_depth=7, n_estimators=100; total time=   1.0s\n",
      "[CV 6/10; 4/6] START max_depth=7, n_estimators=100..............................\n",
      "[CV 6/10; 4/6] END ............max_depth=7, n_estimators=100; total time=   1.2s\n",
      "[CV 7/10; 4/6] START max_depth=7, n_estimators=100..............................\n",
      "[CV 7/10; 4/6] END ............max_depth=7, n_estimators=100; total time=   1.1s\n",
      "[CV 8/10; 4/6] START max_depth=7, n_estimators=100..............................\n",
      "[CV 8/10; 4/6] END ............max_depth=7, n_estimators=100; total time=   1.3s\n",
      "[CV 9/10; 4/6] START max_depth=7, n_estimators=100..............................\n",
      "[CV 9/10; 4/6] END ............max_depth=7, n_estimators=100; total time=   1.2s\n",
      "[CV 10/10; 4/6] START max_depth=7, n_estimators=100.............................\n",
      "[CV 10/10; 4/6] END ...........max_depth=7, n_estimators=100; total time=   1.2s\n",
      "[CV 1/10; 5/6] START max_depth=10, n_estimators=50..............................\n",
      "[CV 1/10; 5/6] END ............max_depth=10, n_estimators=50; total time=   0.2s\n",
      "[CV 2/10; 5/6] START max_depth=10, n_estimators=50..............................\n",
      "[CV 2/10; 5/6] END ............max_depth=10, n_estimators=50; total time=   0.5s\n",
      "[CV 3/10; 5/6] START max_depth=10, n_estimators=50..............................\n",
      "[CV 3/10; 5/6] END ............max_depth=10, n_estimators=50; total time=   0.6s\n",
      "[CV 4/10; 5/6] START max_depth=10, n_estimators=50..............................\n",
      "[CV 4/10; 5/6] END ............max_depth=10, n_estimators=50; total time=   0.6s\n",
      "[CV 5/10; 5/6] START max_depth=10, n_estimators=50..............................\n",
      "[CV 5/10; 5/6] END ............max_depth=10, n_estimators=50; total time=   0.7s\n",
      "[CV 6/10; 5/6] START max_depth=10, n_estimators=50..............................\n",
      "[CV 6/10; 5/6] END ............max_depth=10, n_estimators=50; total time=   0.7s\n",
      "[CV 7/10; 5/6] START max_depth=10, n_estimators=50..............................\n",
      "[CV 7/10; 5/6] END ............max_depth=10, n_estimators=50; total time=   0.9s\n",
      "[CV 8/10; 5/6] START max_depth=10, n_estimators=50..............................\n",
      "[CV 8/10; 5/6] END ............max_depth=10, n_estimators=50; total time=   1.1s\n",
      "[CV 9/10; 5/6] START max_depth=10, n_estimators=50..............................\n",
      "[CV 9/10; 5/6] END ............max_depth=10, n_estimators=50; total time=   0.9s\n",
      "[CV 10/10; 5/6] START max_depth=10, n_estimators=50.............................\n",
      "[CV 10/10; 5/6] END ...........max_depth=10, n_estimators=50; total time=   1.0s\n",
      "[CV 1/10; 6/6] START max_depth=10, n_estimators=100.............................\n",
      "[CV 1/10; 6/6] END ...........max_depth=10, n_estimators=100; total time=   0.5s\n",
      "[CV 2/10; 6/6] START max_depth=10, n_estimators=100.............................\n",
      "[CV 2/10; 6/6] END ...........max_depth=10, n_estimators=100; total time=   0.7s\n",
      "[CV 3/10; 6/6] START max_depth=10, n_estimators=100.............................\n",
      "[CV 3/10; 6/6] END ...........max_depth=10, n_estimators=100; total time=   0.9s\n",
      "[CV 4/10; 6/6] START max_depth=10, n_estimators=100.............................\n",
      "[CV 4/10; 6/6] END ...........max_depth=10, n_estimators=100; total time=   0.9s\n",
      "[CV 5/10; 6/6] START max_depth=10, n_estimators=100.............................\n",
      "[CV 5/10; 6/6] END ...........max_depth=10, n_estimators=100; total time=   1.4s\n",
      "[CV 6/10; 6/6] START max_depth=10, n_estimators=100.............................\n",
      "[CV 6/10; 6/6] END ...........max_depth=10, n_estimators=100; total time=   2.3s\n",
      "[CV 7/10; 6/6] START max_depth=10, n_estimators=100.............................\n",
      "[CV 7/10; 6/6] END ...........max_depth=10, n_estimators=100; total time=  14.0s\n",
      "[CV 8/10; 6/6] START max_depth=10, n_estimators=100.............................\n",
      "[CV 8/10; 6/6] END ...........max_depth=10, n_estimators=100; total time=   1.3s\n",
      "[CV 9/10; 6/6] START max_depth=10, n_estimators=100.............................\n",
      "[CV 9/10; 6/6] END ...........max_depth=10, n_estimators=100; total time=   1.5s\n",
      "[CV 10/10; 6/6] START max_depth=10, n_estimators=100............................\n",
      "[CV 10/10; 6/6] END ..........max_depth=10, n_estimators=100; total time=   1.6s\n",
      "Лучшие гиперпараметры для LightGBM:  {'max_depth': 7, 'n_estimators': 100}\n",
      "RMSE для LightGBM: 31.67\n"
     ]
    }
   ],
   "source": [
    "model_LGBM=LGBMRegressor() \n",
    "parameters={'n_estimators' : [50, 100],\n",
    "            'max_depth' : [5, 7, 10]\n",
    "            }\n",
    "tscv = TimeSeriesSplit(n_splits=10)\n",
    "model_LGBM= GridSearchCV(model_LGBM,\n",
    "                        cv=tscv,\n",
    "                        param_grid=parameters,\n",
    "                        scoring='neg_mean_squared_error',\n",
    "                        n_jobs=-1,\n",
    "                        verbose=10\n",
    "                        )\n",
    "model_LGBM.fit(features_train, target_train)\n",
    "predictions_valid=model_LGBM.predict(features_valid)\n",
    "model_LGBM_score=(mean_squared_error(target_valid, predictions_valid))**0.5\n",
    "print('Лучшие гиперпараметры для LightGBM: ', model_LGBM.best_params_)\n",
    "print('RMSE для LightGBM:', model_LGBM_score.round(2))"
   ]
  },
  {
   "cell_type": "markdown",
   "metadata": {},
   "source": [
    "Я обучила три модели линейную регрессию, дерево решений и LightGBM. Лучшая RMSE у LightGBM 32.52. Посмотрим, что покажет тестирование"
   ]
  },
  {
   "cell_type": "markdown",
   "metadata": {},
   "source": [
    "## Тестирование"
   ]
  },
  {
   "cell_type": "code",
   "execution_count": 23,
   "metadata": {},
   "outputs": [
    {
     "name": "stdout",
     "output_type": "stream",
     "text": [
      "RMSE для тестовой модели линейной регрессии: 42.17\n"
     ]
    }
   ],
   "source": [
    "model_test_lin = LinearRegression()\n",
    "model_test_lin.fit(features_train, target_train)\n",
    "predicted_test_lin= model_test_lin.predict(features_test)\n",
    "model_test_score=(mean_squared_error(target_test, predicted_test_lin))**0.5\n",
    "print('RMSE для тестовой модели линейной регрессии:', model_test_score.round(2))"
   ]
  },
  {
   "cell_type": "code",
   "execution_count": 24,
   "metadata": {},
   "outputs": [
    {
     "data": {
      "text/html": [
       "<div>\n",
       "<style scoped>\n",
       "    .dataframe tbody tr th:only-of-type {\n",
       "        vertical-align: middle;\n",
       "    }\n",
       "\n",
       "    .dataframe tbody tr th {\n",
       "        vertical-align: top;\n",
       "    }\n",
       "\n",
       "    .dataframe thead th {\n",
       "        text-align: right;\n",
       "    }\n",
       "</style>\n",
       "<table border=\"1\" class=\"dataframe\">\n",
       "  <thead>\n",
       "    <tr style=\"text-align: right;\">\n",
       "      <th></th>\n",
       "      <th>Model</th>\n",
       "      <th>Valid RMSE</th>\n",
       "      <th>Test RMSE</th>\n",
       "    </tr>\n",
       "  </thead>\n",
       "  <tbody>\n",
       "    <tr>\n",
       "      <th>0</th>\n",
       "      <td>LinearRegression</td>\n",
       "      <td>31.65</td>\n",
       "      <td>42.17</td>\n",
       "    </tr>\n",
       "    <tr>\n",
       "      <th>1</th>\n",
       "      <td>DecisionTreeRegressor</td>\n",
       "      <td>38.47</td>\n",
       "      <td>0.00</td>\n",
       "    </tr>\n",
       "    <tr>\n",
       "      <th>2</th>\n",
       "      <td>LGBMRegressor</td>\n",
       "      <td>31.67</td>\n",
       "      <td>0.00</td>\n",
       "    </tr>\n",
       "  </tbody>\n",
       "</table>\n",
       "</div>"
      ],
      "text/plain": [
       "                   Model  Valid RMSE  Test RMSE\n",
       "0       LinearRegression       31.65      42.17\n",
       "1  DecisionTreeRegressor       38.47       0.00\n",
       "2          LGBMRegressor       31.67       0.00"
      ]
     },
     "metadata": {},
     "output_type": "display_data"
    }
   ],
   "source": [
    "result = {\n",
    "    'Model' : ['LinearRegression', 'DecisionTreeRegressor', 'LGBMRegressor'],\n",
    "    'Valid RMSE' :pd.Series([31.65, 38.47, 31.67]),\n",
    "    'Test RMSE' :pd.Series([ 42.17, 0, 0]),\n",
    "    }\n",
    "display(pd.DataFrame(result))"
   ]
  },
  {
   "cell_type": "markdown",
   "metadata": {},
   "source": [
    "**ВЫВОД** В процессе работы я изучила данные, ресмплировала временной ряд по часуб проверила временной ряд на тренды и сезонность.\n",
    "Обучила модели линейной регрессии, дерева решений и LGBMRegressor. Проверили модели с лучшими гиперпараметрами на тестовой выборке. Проверка показала, что лишь одна модель уложилась в значение RMSE 48, а именно получилось 46,11. У остальных воделей показатели выше. Данную модель и буду рекомендоватьиспользовать для прогнозирования количество заказов такси на следующий час."
   ]
  }
 ],
 "metadata": {
  "ExecuteTimeLog": [
   {
    "duration": 1029,
    "start_time": "2023-02-03T10:14:18.415Z"
   },
   {
    "duration": 125,
    "start_time": "2023-02-03T10:14:20.485Z"
   },
   {
    "duration": 97,
    "start_time": "2023-02-03T10:14:47.798Z"
   },
   {
    "duration": 48,
    "start_time": "2023-02-03T10:14:51.549Z"
   },
   {
    "duration": 18,
    "start_time": "2023-02-03T10:14:51.980Z"
   },
   {
    "duration": 11,
    "start_time": "2023-02-03T10:15:58.564Z"
   },
   {
    "duration": 61,
    "start_time": "2023-02-03T10:16:34.837Z"
   },
   {
    "duration": 6,
    "start_time": "2023-02-03T10:16:35.986Z"
   },
   {
    "duration": 11,
    "start_time": "2023-02-03T10:16:41.466Z"
   },
   {
    "duration": 54,
    "start_time": "2023-02-03T10:16:49.955Z"
   },
   {
    "duration": 9,
    "start_time": "2023-02-03T10:16:50.483Z"
   },
   {
    "duration": 4,
    "start_time": "2023-02-03T10:17:20.930Z"
   },
   {
    "duration": 8,
    "start_time": "2023-02-03T10:17:22.258Z"
   },
   {
    "duration": 13,
    "start_time": "2023-02-03T10:17:23.498Z"
   },
   {
    "duration": 10,
    "start_time": "2023-02-03T10:17:33.882Z"
   },
   {
    "duration": 6,
    "start_time": "2023-02-03T10:18:15.449Z"
   },
   {
    "duration": 601,
    "start_time": "2023-02-03T10:18:59.232Z"
   },
   {
    "duration": 48,
    "start_time": "2023-02-03T10:24:57.475Z"
   },
   {
    "duration": 7,
    "start_time": "2023-02-03T10:24:57.970Z"
   },
   {
    "duration": 13,
    "start_time": "2023-02-03T10:25:00.210Z"
   },
   {
    "duration": 4,
    "start_time": "2023-02-03T10:26:43.725Z"
   },
   {
    "duration": 5,
    "start_time": "2023-02-03T10:27:28.752Z"
   },
   {
    "duration": 165,
    "start_time": "2023-02-03T10:27:29.784Z"
   },
   {
    "duration": 669,
    "start_time": "2023-02-03T10:27:48.559Z"
   },
   {
    "duration": 3,
    "start_time": "2023-02-03T10:30:54.261Z"
   },
   {
    "duration": 59,
    "start_time": "2023-02-03T10:30:55.052Z"
   },
   {
    "duration": 7,
    "start_time": "2023-02-03T10:30:55.668Z"
   },
   {
    "duration": 13,
    "start_time": "2023-02-03T10:30:56.172Z"
   },
   {
    "duration": 4,
    "start_time": "2023-02-03T10:30:56.925Z"
   },
   {
    "duration": 4,
    "start_time": "2023-02-03T10:30:57.501Z"
   },
   {
    "duration": 631,
    "start_time": "2023-02-03T10:34:31.153Z"
   },
   {
    "duration": 10,
    "start_time": "2023-02-03T10:34:47.281Z"
   },
   {
    "duration": 118,
    "start_time": "2023-02-03T10:35:31.321Z"
   },
   {
    "duration": 755,
    "start_time": "2023-02-03T10:35:44.089Z"
   },
   {
    "duration": 856,
    "start_time": "2023-02-03T10:36:12.389Z"
   },
   {
    "duration": 744,
    "start_time": "2023-02-03T10:36:48.183Z"
   },
   {
    "duration": 5,
    "start_time": "2023-02-03T10:37:04.702Z"
   },
   {
    "duration": 886,
    "start_time": "2023-02-03T10:37:07.049Z"
   },
   {
    "duration": 129,
    "start_time": "2023-02-03T10:54:29.544Z"
   },
   {
    "duration": 144,
    "start_time": "2023-02-03T10:54:43.609Z"
   },
   {
    "duration": 689,
    "start_time": "2023-02-03T10:54:52.456Z"
   },
   {
    "duration": 813,
    "start_time": "2023-02-03T10:55:10.313Z"
   },
   {
    "duration": 704,
    "start_time": "2023-02-03T10:56:01.512Z"
   },
   {
    "duration": 805,
    "start_time": "2023-02-03T10:56:09.920Z"
   },
   {
    "duration": 770,
    "start_time": "2023-02-03T10:56:18.575Z"
   },
   {
    "duration": 779,
    "start_time": "2023-02-03T10:56:37.295Z"
   },
   {
    "duration": 840,
    "start_time": "2023-02-03T10:56:54.824Z"
   },
   {
    "duration": 684,
    "start_time": "2023-02-03T10:58:38.149Z"
   },
   {
    "duration": 12,
    "start_time": "2023-02-03T11:00:26.468Z"
   },
   {
    "duration": 745,
    "start_time": "2023-02-03T11:00:48.803Z"
   },
   {
    "duration": 180,
    "start_time": "2023-02-03T11:10:04.655Z"
   },
   {
    "duration": 254,
    "start_time": "2023-02-03T11:10:30.278Z"
   },
   {
    "duration": 212,
    "start_time": "2023-02-03T11:15:55.958Z"
   },
   {
    "duration": 317,
    "start_time": "2023-02-03T11:16:08.487Z"
   },
   {
    "duration": 309,
    "start_time": "2023-02-03T11:16:53.581Z"
   },
   {
    "duration": 324,
    "start_time": "2023-02-03T11:17:55.084Z"
   },
   {
    "duration": 305,
    "start_time": "2023-02-03T11:18:13.491Z"
   },
   {
    "duration": 954,
    "start_time": "2023-02-03T11:22:30.813Z"
   },
   {
    "duration": 224,
    "start_time": "2023-02-03T11:22:50.238Z"
   },
   {
    "duration": 272,
    "start_time": "2023-02-03T11:25:48.858Z"
   },
   {
    "duration": 4,
    "start_time": "2023-02-03T11:26:00.336Z"
   },
   {
    "duration": 55,
    "start_time": "2023-02-03T11:26:09.083Z"
   },
   {
    "duration": 7,
    "start_time": "2023-02-03T11:26:09.717Z"
   },
   {
    "duration": 4,
    "start_time": "2023-02-03T11:26:10.382Z"
   },
   {
    "duration": 4,
    "start_time": "2023-02-03T11:26:11.464Z"
   },
   {
    "duration": 14,
    "start_time": "2023-02-03T11:26:23.808Z"
   },
   {
    "duration": 4,
    "start_time": "2023-02-03T11:26:24.736Z"
   },
   {
    "duration": 17,
    "start_time": "2023-02-03T11:26:25.304Z"
   },
   {
    "duration": 882,
    "start_time": "2023-02-03T11:26:26.057Z"
   },
   {
    "duration": 830,
    "start_time": "2023-02-03T11:26:29.544Z"
   },
   {
    "duration": 10,
    "start_time": "2023-02-03T11:27:57.831Z"
   },
   {
    "duration": 43,
    "start_time": "2023-02-03T11:28:22.083Z"
   },
   {
    "duration": 45,
    "start_time": "2023-02-03T11:28:22.709Z"
   },
   {
    "duration": 9,
    "start_time": "2023-02-03T11:28:23.693Z"
   },
   {
    "duration": 13,
    "start_time": "2023-02-03T11:28:24.165Z"
   },
   {
    "duration": 4,
    "start_time": "2023-02-03T11:28:24.653Z"
   },
   {
    "duration": 12,
    "start_time": "2023-02-03T11:28:25.445Z"
   },
   {
    "duration": 837,
    "start_time": "2023-02-03T11:28:26.125Z"
   },
   {
    "duration": 850,
    "start_time": "2023-02-03T11:28:32.297Z"
   },
   {
    "duration": 39,
    "start_time": "2023-02-03T11:28:36.061Z"
   },
   {
    "duration": 23,
    "start_time": "2023-02-03T11:34:05.402Z"
   },
   {
    "duration": 12,
    "start_time": "2023-02-03T11:34:50.535Z"
   },
   {
    "duration": 12,
    "start_time": "2023-02-03T11:34:58.598Z"
   },
   {
    "duration": 18,
    "start_time": "2023-02-03T13:53:58.993Z"
   },
   {
    "duration": 12,
    "start_time": "2023-02-03T13:56:53.030Z"
   },
   {
    "duration": 4,
    "start_time": "2023-02-03T13:57:48.911Z"
   },
   {
    "duration": 56,
    "start_time": "2023-02-03T13:57:48.918Z"
   },
   {
    "duration": 9,
    "start_time": "2023-02-03T13:57:48.976Z"
   },
   {
    "duration": 18,
    "start_time": "2023-02-03T13:57:48.987Z"
   },
   {
    "duration": 8,
    "start_time": "2023-02-03T13:57:49.007Z"
   },
   {
    "duration": 20,
    "start_time": "2023-02-03T13:57:49.017Z"
   },
   {
    "duration": 802,
    "start_time": "2023-02-03T13:57:49.040Z"
   },
   {
    "duration": 760,
    "start_time": "2023-02-03T13:57:49.845Z"
   },
   {
    "duration": 13,
    "start_time": "2023-02-03T13:57:50.606Z"
   },
   {
    "duration": 914,
    "start_time": "2023-02-03T14:07:55.055Z"
   },
   {
    "duration": 11,
    "start_time": "2023-02-03T14:08:37.748Z"
   },
   {
    "duration": 1002,
    "start_time": "2023-02-03T14:09:35.019Z"
   },
   {
    "duration": 10,
    "start_time": "2023-02-03T14:11:43.450Z"
   },
   {
    "duration": 4,
    "start_time": "2023-02-03T14:13:40.410Z"
   },
   {
    "duration": 11,
    "start_time": "2023-02-03T14:14:02.329Z"
   },
   {
    "duration": 16,
    "start_time": "2023-02-03T14:18:25.073Z"
   },
   {
    "duration": 4,
    "start_time": "2023-02-03T14:19:03.654Z"
   },
   {
    "duration": 43,
    "start_time": "2023-02-03T14:19:04.481Z"
   },
   {
    "duration": 7,
    "start_time": "2023-02-03T14:19:05.433Z"
   },
   {
    "duration": 10,
    "start_time": "2023-02-03T14:19:06.181Z"
   },
   {
    "duration": 4,
    "start_time": "2023-02-03T14:19:06.830Z"
   },
   {
    "duration": 16,
    "start_time": "2023-02-03T14:19:07.566Z"
   },
   {
    "duration": 640,
    "start_time": "2023-02-03T14:19:08.281Z"
   },
   {
    "duration": 800,
    "start_time": "2023-02-03T14:19:11.693Z"
   },
   {
    "duration": 4,
    "start_time": "2023-02-03T14:19:13.997Z"
   },
   {
    "duration": 12,
    "start_time": "2023-02-03T14:19:15.053Z"
   },
   {
    "duration": 13,
    "start_time": "2023-02-03T14:19:27.047Z"
   },
   {
    "duration": 14,
    "start_time": "2023-02-03T14:38:06.149Z"
   },
   {
    "duration": 823,
    "start_time": "2023-02-03T14:38:13.692Z"
   },
   {
    "duration": 12,
    "start_time": "2023-02-03T14:38:14.518Z"
   },
   {
    "duration": 6,
    "start_time": "2023-02-03T15:07:18.563Z"
   },
   {
    "duration": 391,
    "start_time": "2023-02-03T15:07:22.533Z"
   },
   {
    "duration": 291,
    "start_time": "2023-02-03T15:07:31.445Z"
   },
   {
    "duration": 9,
    "start_time": "2023-02-03T15:07:35.949Z"
   },
   {
    "duration": 741,
    "start_time": "2023-02-03T15:08:06.669Z"
   },
   {
    "duration": 23,
    "start_time": "2023-02-03T15:12:06.856Z"
   },
   {
    "duration": 1498,
    "start_time": "2023-02-03T15:12:41.932Z"
   },
   {
    "duration": 55,
    "start_time": "2023-02-03T15:12:43.432Z"
   },
   {
    "duration": 11,
    "start_time": "2023-02-03T15:12:43.489Z"
   },
   {
    "duration": 13,
    "start_time": "2023-02-03T15:12:43.502Z"
   },
   {
    "duration": 9,
    "start_time": "2023-02-03T15:12:43.517Z"
   },
   {
    "duration": 4,
    "start_time": "2023-02-03T15:12:43.528Z"
   },
   {
    "duration": 44,
    "start_time": "2023-02-03T15:12:43.534Z"
   },
   {
    "duration": 399,
    "start_time": "2023-02-03T15:12:43.583Z"
   },
   {
    "duration": 308,
    "start_time": "2023-02-03T15:12:43.984Z"
   },
   {
    "duration": 888,
    "start_time": "2023-02-03T15:12:44.295Z"
   },
   {
    "duration": 226,
    "start_time": "2023-02-03T15:15:20.021Z"
   },
   {
    "duration": 239,
    "start_time": "2023-02-03T15:15:58.947Z"
   },
   {
    "duration": 260,
    "start_time": "2023-02-03T15:16:36.854Z"
   },
   {
    "duration": 195,
    "start_time": "2023-02-03T15:16:41.611Z"
   },
   {
    "duration": 195,
    "start_time": "2023-02-03T15:17:01.242Z"
   },
   {
    "duration": 220,
    "start_time": "2023-02-03T15:17:16.403Z"
   },
   {
    "duration": 265,
    "start_time": "2023-02-03T15:17:56.787Z"
   },
   {
    "duration": 250,
    "start_time": "2023-02-03T15:18:28.172Z"
   },
   {
    "duration": 216,
    "start_time": "2023-02-03T15:18:42.153Z"
   },
   {
    "duration": 303,
    "start_time": "2023-02-03T15:20:53.980Z"
   },
   {
    "duration": 411,
    "start_time": "2023-02-03T15:21:05.039Z"
   },
   {
    "duration": 170,
    "start_time": "2023-02-03T15:25:31.441Z"
   },
   {
    "duration": 262,
    "start_time": "2023-02-03T15:25:53.147Z"
   },
   {
    "duration": 142,
    "start_time": "2023-02-03T15:32:14.220Z"
   },
   {
    "duration": 13,
    "start_time": "2023-02-03T15:32:28.220Z"
   },
   {
    "duration": 14,
    "start_time": "2023-02-03T15:32:38.067Z"
   },
   {
    "duration": 7,
    "start_time": "2023-02-03T15:45:30.001Z"
   },
   {
    "duration": 8,
    "start_time": "2023-02-03T15:45:58.356Z"
   },
   {
    "duration": 8,
    "start_time": "2023-02-03T15:54:23.396Z"
   },
   {
    "duration": 12,
    "start_time": "2023-02-03T15:57:44.793Z"
   },
   {
    "duration": 9,
    "start_time": "2023-02-03T16:02:57.973Z"
   },
   {
    "duration": 8,
    "start_time": "2023-02-03T16:05:13.049Z"
   },
   {
    "duration": 4,
    "start_time": "2023-02-03T16:10:40.356Z"
   },
   {
    "duration": 14,
    "start_time": "2023-02-03T16:10:45.051Z"
   },
   {
    "duration": 8,
    "start_time": "2023-02-03T16:11:02.991Z"
   },
   {
    "duration": 5,
    "start_time": "2023-02-03T16:11:44.883Z"
   },
   {
    "duration": 6,
    "start_time": "2023-02-03T16:13:07.198Z"
   },
   {
    "duration": 7,
    "start_time": "2023-02-03T16:13:41.608Z"
   },
   {
    "duration": 10,
    "start_time": "2023-02-03T16:13:48.772Z"
   },
   {
    "duration": 18,
    "start_time": "2023-02-03T16:19:23.426Z"
   },
   {
    "duration": 5,
    "start_time": "2023-02-03T16:25:31.312Z"
   },
   {
    "duration": 5,
    "start_time": "2023-02-03T16:25:32.648Z"
   },
   {
    "duration": 8,
    "start_time": "2023-02-03T16:25:33.328Z"
   },
   {
    "duration": 16,
    "start_time": "2023-02-03T16:25:37.224Z"
   },
   {
    "duration": 16,
    "start_time": "2023-02-03T16:26:01.337Z"
   },
   {
    "duration": 11,
    "start_time": "2023-02-03T16:26:11.329Z"
   },
   {
    "duration": 12,
    "start_time": "2023-02-03T16:26:43.750Z"
   },
   {
    "duration": 0,
    "start_time": "2023-02-03T16:26:43.765Z"
   },
   {
    "duration": 0,
    "start_time": "2023-02-03T16:26:43.767Z"
   },
   {
    "duration": 0,
    "start_time": "2023-02-03T16:26:43.774Z"
   },
   {
    "duration": 0,
    "start_time": "2023-02-03T16:26:43.776Z"
   },
   {
    "duration": 0,
    "start_time": "2023-02-03T16:26:43.780Z"
   },
   {
    "duration": 0,
    "start_time": "2023-02-03T16:26:43.781Z"
   },
   {
    "duration": 0,
    "start_time": "2023-02-03T16:26:43.784Z"
   },
   {
    "duration": 0,
    "start_time": "2023-02-03T16:26:43.785Z"
   },
   {
    "duration": 0,
    "start_time": "2023-02-03T16:26:43.786Z"
   },
   {
    "duration": 0,
    "start_time": "2023-02-03T16:26:43.787Z"
   },
   {
    "duration": 0,
    "start_time": "2023-02-03T16:26:43.789Z"
   },
   {
    "duration": 0,
    "start_time": "2023-02-03T16:26:43.790Z"
   },
   {
    "duration": 0,
    "start_time": "2023-02-03T16:26:43.792Z"
   },
   {
    "duration": 13,
    "start_time": "2023-02-03T16:26:43.796Z"
   },
   {
    "duration": 10,
    "start_time": "2023-02-03T16:26:43.810Z"
   },
   {
    "duration": 8,
    "start_time": "2023-02-03T16:26:43.822Z"
   },
   {
    "duration": 74,
    "start_time": "2023-02-03T16:26:43.832Z"
   },
   {
    "duration": 20,
    "start_time": "2023-02-03T16:26:43.907Z"
   },
   {
    "duration": 11,
    "start_time": "2023-02-03T16:29:38.112Z"
   },
   {
    "duration": 14,
    "start_time": "2023-02-03T16:30:05.059Z"
   },
   {
    "duration": 0,
    "start_time": "2023-02-03T16:30:05.075Z"
   },
   {
    "duration": 0,
    "start_time": "2023-02-03T16:30:05.077Z"
   },
   {
    "duration": 0,
    "start_time": "2023-02-03T16:30:05.078Z"
   },
   {
    "duration": 0,
    "start_time": "2023-02-03T16:30:05.080Z"
   },
   {
    "duration": 0,
    "start_time": "2023-02-03T16:30:05.081Z"
   },
   {
    "duration": 0,
    "start_time": "2023-02-03T16:30:05.087Z"
   },
   {
    "duration": 0,
    "start_time": "2023-02-03T16:30:05.091Z"
   },
   {
    "duration": 0,
    "start_time": "2023-02-03T16:30:05.092Z"
   },
   {
    "duration": 0,
    "start_time": "2023-02-03T16:30:05.094Z"
   },
   {
    "duration": 217,
    "start_time": "2023-02-03T16:30:05.102Z"
   },
   {
    "duration": 7,
    "start_time": "2023-02-03T16:30:05.321Z"
   },
   {
    "duration": 26,
    "start_time": "2023-02-03T16:30:05.330Z"
   },
   {
    "duration": 44,
    "start_time": "2023-02-03T16:30:05.358Z"
   },
   {
    "duration": 24,
    "start_time": "2023-02-03T16:30:05.404Z"
   },
   {
    "duration": 32,
    "start_time": "2023-02-03T16:30:05.430Z"
   },
   {
    "duration": 44,
    "start_time": "2023-02-03T16:30:05.464Z"
   },
   {
    "duration": 33,
    "start_time": "2023-02-03T16:30:05.509Z"
   },
   {
    "duration": 59,
    "start_time": "2023-02-03T16:30:05.545Z"
   },
   {
    "duration": 24,
    "start_time": "2023-02-03T16:30:05.606Z"
   },
   {
    "duration": 14,
    "start_time": "2023-02-03T16:30:24.987Z"
   },
   {
    "duration": 3,
    "start_time": "2023-02-03T16:30:30.913Z"
   },
   {
    "duration": 9,
    "start_time": "2023-02-03T16:30:34.939Z"
   },
   {
    "duration": 78,
    "start_time": "2023-02-03T16:30:34.951Z"
   },
   {
    "duration": 8,
    "start_time": "2023-02-03T16:30:35.031Z"
   },
   {
    "duration": 25,
    "start_time": "2023-02-03T16:30:35.042Z"
   },
   {
    "duration": 56,
    "start_time": "2023-02-03T16:30:35.072Z"
   },
   {
    "duration": 7,
    "start_time": "2023-02-03T16:30:35.130Z"
   },
   {
    "duration": 17,
    "start_time": "2023-02-03T16:30:35.140Z"
   },
   {
    "duration": 302,
    "start_time": "2023-02-03T16:30:35.160Z"
   },
   {
    "duration": 422,
    "start_time": "2023-02-03T16:30:35.472Z"
   },
   {
    "duration": 718,
    "start_time": "2023-02-03T16:30:35.896Z"
   },
   {
    "duration": 191,
    "start_time": "2023-02-03T16:30:36.615Z"
   },
   {
    "duration": 13,
    "start_time": "2023-02-03T16:30:36.809Z"
   },
   {
    "duration": 17,
    "start_time": "2023-02-03T16:30:36.824Z"
   },
   {
    "duration": 8,
    "start_time": "2023-02-03T16:30:36.843Z"
   },
   {
    "duration": 66,
    "start_time": "2023-02-03T16:30:36.853Z"
   },
   {
    "duration": 12,
    "start_time": "2023-02-03T16:30:36.921Z"
   },
   {
    "duration": 12,
    "start_time": "2023-02-03T16:30:36.934Z"
   },
   {
    "duration": 15,
    "start_time": "2023-02-03T16:30:36.948Z"
   },
   {
    "duration": 36,
    "start_time": "2023-02-03T16:30:36.965Z"
   },
   {
    "duration": 16421,
    "start_time": "2023-02-03T16:30:37.004Z"
   },
   {
    "duration": 1329,
    "start_time": "2023-02-03T16:37:57.563Z"
   },
   {
    "duration": 2,
    "start_time": "2023-02-03T16:37:58.894Z"
   },
   {
    "duration": 52,
    "start_time": "2023-02-03T16:37:58.897Z"
   },
   {
    "duration": 9,
    "start_time": "2023-02-03T16:37:58.951Z"
   },
   {
    "duration": 20,
    "start_time": "2023-02-03T16:37:58.962Z"
   },
   {
    "duration": 12,
    "start_time": "2023-02-03T16:37:58.984Z"
   },
   {
    "duration": 4,
    "start_time": "2023-02-03T16:37:58.997Z"
   },
   {
    "duration": 10,
    "start_time": "2023-02-03T16:37:59.003Z"
   },
   {
    "duration": 290,
    "start_time": "2023-02-03T16:37:59.014Z"
   },
   {
    "duration": 277,
    "start_time": "2023-02-03T16:37:59.306Z"
   },
   {
    "duration": 738,
    "start_time": "2023-02-03T16:37:59.585Z"
   },
   {
    "duration": 167,
    "start_time": "2023-02-03T16:38:00.324Z"
   },
   {
    "duration": 10,
    "start_time": "2023-02-03T16:38:00.493Z"
   },
   {
    "duration": 34,
    "start_time": "2023-02-03T16:38:00.504Z"
   },
   {
    "duration": 27,
    "start_time": "2023-02-03T16:38:00.539Z"
   },
   {
    "duration": 23,
    "start_time": "2023-02-03T16:38:00.583Z"
   },
   {
    "duration": 18,
    "start_time": "2023-02-03T16:38:00.608Z"
   },
   {
    "duration": 19,
    "start_time": "2023-02-03T16:38:00.628Z"
   },
   {
    "duration": 20,
    "start_time": "2023-02-03T16:38:00.648Z"
   },
   {
    "duration": 22,
    "start_time": "2023-02-03T16:38:00.671Z"
   },
   {
    "duration": 14133,
    "start_time": "2023-02-03T16:38:00.695Z"
   },
   {
    "duration": 134057,
    "start_time": "2023-02-03T16:38:14.830Z"
   },
   {
    "duration": 14,
    "start_time": "2023-02-03T16:43:32.304Z"
   },
   {
    "duration": 21,
    "start_time": "2023-02-03T16:46:16.631Z"
   },
   {
    "duration": 23,
    "start_time": "2023-02-03T16:46:18.630Z"
   },
   {
    "duration": 4,
    "start_time": "2023-02-03T16:46:51.252Z"
   },
   {
    "duration": 4,
    "start_time": "2023-02-03T16:46:55.859Z"
   },
   {
    "duration": 6,
    "start_time": "2023-02-03T16:46:55.864Z"
   },
   {
    "duration": 50,
    "start_time": "2023-02-03T16:46:55.871Z"
   },
   {
    "duration": 7,
    "start_time": "2023-02-03T16:46:55.924Z"
   },
   {
    "duration": 13,
    "start_time": "2023-02-03T16:46:55.933Z"
   },
   {
    "duration": 8,
    "start_time": "2023-02-03T16:46:55.948Z"
   },
   {
    "duration": 10,
    "start_time": "2023-02-03T16:46:55.958Z"
   },
   {
    "duration": 7,
    "start_time": "2023-02-03T16:46:55.969Z"
   },
   {
    "duration": 273,
    "start_time": "2023-02-03T16:46:55.977Z"
   },
   {
    "duration": 295,
    "start_time": "2023-02-03T16:46:56.254Z"
   },
   {
    "duration": 825,
    "start_time": "2023-02-03T16:46:56.551Z"
   },
   {
    "duration": 163,
    "start_time": "2023-02-03T16:46:57.377Z"
   },
   {
    "duration": 30,
    "start_time": "2023-02-03T16:46:57.542Z"
   },
   {
    "duration": 22,
    "start_time": "2023-02-03T16:46:57.573Z"
   },
   {
    "duration": 4,
    "start_time": "2023-02-03T16:46:57.596Z"
   },
   {
    "duration": 12,
    "start_time": "2023-02-03T16:46:57.601Z"
   },
   {
    "duration": 7,
    "start_time": "2023-02-03T16:46:57.615Z"
   },
   {
    "duration": 6,
    "start_time": "2023-02-03T16:46:57.624Z"
   },
   {
    "duration": 42,
    "start_time": "2023-02-03T16:46:57.631Z"
   },
   {
    "duration": 198,
    "start_time": "2023-02-03T16:46:57.674Z"
   },
   {
    "duration": 32241,
    "start_time": "2023-02-03T16:46:57.876Z"
   },
   {
    "duration": 46150,
    "start_time": "2023-02-03T16:47:30.118Z"
   },
   {
    "duration": 198,
    "start_time": "2023-02-03T16:48:16.269Z"
   },
   {
    "duration": 984,
    "start_time": "2023-02-03T16:52:22.391Z"
   },
   {
    "duration": 16,
    "start_time": "2023-02-03T16:52:51.723Z"
   },
   {
    "duration": 8,
    "start_time": "2023-02-03T16:53:06.570Z"
   },
   {
    "duration": 15,
    "start_time": "2023-02-03T16:54:26.978Z"
   },
   {
    "duration": 89,
    "start_time": "2023-02-03T16:57:02.278Z"
   },
   {
    "duration": 117,
    "start_time": "2023-02-03T16:58:07.948Z"
   },
   {
    "duration": 22,
    "start_time": "2023-02-03T16:58:23.579Z"
   },
   {
    "duration": 1338,
    "start_time": "2023-02-03T16:59:25.433Z"
   },
   {
    "duration": 10,
    "start_time": "2023-02-03T16:59:45.884Z"
   },
   {
    "duration": 1323,
    "start_time": "2023-02-03T17:15:12.075Z"
   },
   {
    "duration": 2,
    "start_time": "2023-02-03T17:15:13.400Z"
   },
   {
    "duration": 62,
    "start_time": "2023-02-03T17:15:13.404Z"
   },
   {
    "duration": 12,
    "start_time": "2023-02-03T17:15:13.469Z"
   },
   {
    "duration": 26,
    "start_time": "2023-02-03T17:15:13.483Z"
   },
   {
    "duration": 19,
    "start_time": "2023-02-03T17:15:13.511Z"
   },
   {
    "duration": 36,
    "start_time": "2023-02-03T17:15:13.532Z"
   },
   {
    "duration": 42,
    "start_time": "2023-02-03T17:15:13.570Z"
   },
   {
    "duration": 323,
    "start_time": "2023-02-03T17:15:13.613Z"
   },
   {
    "duration": 264,
    "start_time": "2023-02-03T17:15:13.939Z"
   },
   {
    "duration": 777,
    "start_time": "2023-02-03T17:15:14.205Z"
   },
   {
    "duration": 212,
    "start_time": "2023-02-03T17:15:14.985Z"
   },
   {
    "duration": 21,
    "start_time": "2023-02-03T17:15:15.199Z"
   },
   {
    "duration": 21,
    "start_time": "2023-02-03T17:15:15.221Z"
   },
   {
    "duration": 4,
    "start_time": "2023-02-03T17:15:15.267Z"
   },
   {
    "duration": 12,
    "start_time": "2023-02-03T17:15:15.272Z"
   },
   {
    "duration": 11,
    "start_time": "2023-02-03T17:15:15.286Z"
   },
   {
    "duration": 13,
    "start_time": "2023-02-03T17:15:15.298Z"
   },
   {
    "duration": 13,
    "start_time": "2023-02-03T17:15:15.312Z"
   },
   {
    "duration": 147,
    "start_time": "2023-02-03T17:15:15.327Z"
   },
   {
    "duration": 32114,
    "start_time": "2023-02-03T17:15:15.476Z"
   },
   {
    "duration": 402177,
    "start_time": "2023-02-03T17:15:47.592Z"
   },
   {
    "duration": 16,
    "start_time": "2023-02-03T17:22:29.770Z"
   },
   {
    "duration": 116,
    "start_time": "2023-02-03T17:22:29.872Z"
   },
   {
    "duration": 1090,
    "start_time": "2023-02-03T17:22:29.989Z"
   },
   {
    "duration": 9,
    "start_time": "2023-02-03T17:22:31.081Z"
   },
   {
    "duration": 10,
    "start_time": "2023-02-03T17:23:10.797Z"
   },
   {
    "duration": 1623,
    "start_time": "2023-02-05T10:32:51.535Z"
   },
   {
    "duration": 3,
    "start_time": "2023-02-05T10:32:54.910Z"
   },
   {
    "duration": 147,
    "start_time": "2023-02-05T10:32:55.838Z"
   },
   {
    "duration": 10,
    "start_time": "2023-02-05T10:32:57.567Z"
   },
   {
    "duration": 14,
    "start_time": "2023-02-05T10:32:58.086Z"
   },
   {
    "duration": 11,
    "start_time": "2023-02-05T10:32:59.142Z"
   },
   {
    "duration": 4,
    "start_time": "2023-02-05T10:33:00.046Z"
   },
   {
    "duration": 9,
    "start_time": "2023-02-05T10:33:00.854Z"
   },
   {
    "duration": 311,
    "start_time": "2023-02-05T10:33:02.278Z"
   },
   {
    "duration": 306,
    "start_time": "2023-02-05T10:33:05.742Z"
   },
   {
    "duration": 800,
    "start_time": "2023-02-05T10:33:06.798Z"
   },
   {
    "duration": 893,
    "start_time": "2023-02-05T10:33:15.023Z"
   },
   {
    "duration": 185,
    "start_time": "2023-02-05T10:33:33.110Z"
   },
   {
    "duration": 21,
    "start_time": "2023-02-05T10:34:42.069Z"
   },
   {
    "duration": 12,
    "start_time": "2023-02-05T10:42:57.206Z"
   },
   {
    "duration": 27,
    "start_time": "2023-02-05T10:42:58.638Z"
   },
   {
    "duration": 17,
    "start_time": "2023-02-05T11:03:42.041Z"
   },
   {
    "duration": 25,
    "start_time": "2023-02-05T11:03:44.377Z"
   },
   {
    "duration": 14,
    "start_time": "2023-02-05T11:03:54.146Z"
   },
   {
    "duration": 32,
    "start_time": "2023-02-05T11:03:58.625Z"
   },
   {
    "duration": 13,
    "start_time": "2023-02-05T11:08:58.494Z"
   },
   {
    "duration": 27,
    "start_time": "2023-02-05T11:09:00.389Z"
   },
   {
    "duration": 5,
    "start_time": "2023-02-05T11:09:06.560Z"
   },
   {
    "duration": 9,
    "start_time": "2023-02-05T11:09:08.299Z"
   },
   {
    "duration": 9,
    "start_time": "2023-02-05T11:09:09.086Z"
   },
   {
    "duration": 6,
    "start_time": "2023-02-05T11:09:12.755Z"
   },
   {
    "duration": 121,
    "start_time": "2023-02-05T11:10:21.427Z"
   },
   {
    "duration": 8,
    "start_time": "2023-02-05T11:10:28.018Z"
   },
   {
    "duration": 7,
    "start_time": "2023-02-05T11:10:28.570Z"
   },
   {
    "duration": 7,
    "start_time": "2023-02-05T11:10:29.066Z"
   },
   {
    "duration": 9,
    "start_time": "2023-02-05T11:10:30.115Z"
   },
   {
    "duration": 171,
    "start_time": "2023-02-05T11:10:31.169Z"
   },
   {
    "duration": 16,
    "start_time": "2023-02-05T11:14:09.024Z"
   },
   {
    "duration": 4,
    "start_time": "2023-02-05T11:14:15.995Z"
   },
   {
    "duration": 6,
    "start_time": "2023-02-05T11:14:16.000Z"
   },
   {
    "duration": 46,
    "start_time": "2023-02-05T11:14:16.008Z"
   },
   {
    "duration": 9,
    "start_time": "2023-02-05T11:14:16.056Z"
   },
   {
    "duration": 17,
    "start_time": "2023-02-05T11:14:16.066Z"
   },
   {
    "duration": 11,
    "start_time": "2023-02-05T11:14:16.084Z"
   },
   {
    "duration": 3,
    "start_time": "2023-02-05T11:14:16.097Z"
   },
   {
    "duration": 9,
    "start_time": "2023-02-05T11:14:16.102Z"
   },
   {
    "duration": 317,
    "start_time": "2023-02-05T11:14:16.113Z"
   },
   {
    "duration": 403,
    "start_time": "2023-02-05T11:14:16.439Z"
   },
   {
    "duration": 851,
    "start_time": "2023-02-05T11:14:16.845Z"
   },
   {
    "duration": 185,
    "start_time": "2023-02-05T11:14:17.698Z"
   },
   {
    "duration": 32,
    "start_time": "2023-02-05T11:14:17.885Z"
   },
   {
    "duration": 41,
    "start_time": "2023-02-05T11:14:17.919Z"
   },
   {
    "duration": 4,
    "start_time": "2023-02-05T11:14:17.962Z"
   },
   {
    "duration": 14,
    "start_time": "2023-02-05T11:14:17.968Z"
   },
   {
    "duration": 39,
    "start_time": "2023-02-05T11:14:17.984Z"
   },
   {
    "duration": 8,
    "start_time": "2023-02-05T11:14:18.025Z"
   },
   {
    "duration": 16,
    "start_time": "2023-02-05T11:14:18.035Z"
   },
   {
    "duration": 190,
    "start_time": "2023-02-05T11:14:18.053Z"
   },
   {
    "duration": 99,
    "start_time": "2023-02-05T11:14:18.244Z"
   },
   {
    "duration": 0,
    "start_time": "2023-02-05T11:14:18.345Z"
   },
   {
    "duration": 1,
    "start_time": "2023-02-05T11:14:18.346Z"
   },
   {
    "duration": 0,
    "start_time": "2023-02-05T11:14:18.348Z"
   },
   {
    "duration": 0,
    "start_time": "2023-02-05T11:14:18.350Z"
   },
   {
    "duration": 0,
    "start_time": "2023-02-05T11:14:18.351Z"
   },
   {
    "duration": 55744,
    "start_time": "2023-02-05T11:14:50.127Z"
   },
   {
    "duration": 23,
    "start_time": "2023-02-05T11:17:09.612Z"
   },
   {
    "duration": 16,
    "start_time": "2023-02-05T11:24:19.317Z"
   },
   {
    "duration": 75,
    "start_time": "2023-02-05T11:29:17.178Z"
   },
   {
    "duration": 37715,
    "start_time": "2023-02-05T11:29:29.432Z"
   },
   {
    "duration": 1378,
    "start_time": "2023-02-05T11:30:28.367Z"
   },
   {
    "duration": 5,
    "start_time": "2023-02-05T11:32:17.865Z"
   },
   {
    "duration": 10,
    "start_time": "2023-02-05T11:32:17.871Z"
   },
   {
    "duration": 48,
    "start_time": "2023-02-05T11:32:17.883Z"
   },
   {
    "duration": 7,
    "start_time": "2023-02-05T11:32:17.933Z"
   },
   {
    "duration": 15,
    "start_time": "2023-02-05T11:32:17.942Z"
   },
   {
    "duration": 11,
    "start_time": "2023-02-05T11:32:17.958Z"
   },
   {
    "duration": 4,
    "start_time": "2023-02-05T11:32:17.970Z"
   },
   {
    "duration": 10,
    "start_time": "2023-02-05T11:32:17.975Z"
   },
   {
    "duration": 342,
    "start_time": "2023-02-05T11:32:17.987Z"
   },
   {
    "duration": 397,
    "start_time": "2023-02-05T11:32:18.339Z"
   },
   {
    "duration": 952,
    "start_time": "2023-02-05T11:32:18.740Z"
   },
   {
    "duration": 198,
    "start_time": "2023-02-05T11:32:19.694Z"
   },
   {
    "duration": 23,
    "start_time": "2023-02-05T11:32:19.894Z"
   },
   {
    "duration": 42,
    "start_time": "2023-02-05T11:32:19.919Z"
   },
   {
    "duration": 7,
    "start_time": "2023-02-05T11:32:19.963Z"
   },
   {
    "duration": 10,
    "start_time": "2023-02-05T11:32:19.972Z"
   },
   {
    "duration": 7,
    "start_time": "2023-02-05T11:32:19.983Z"
   },
   {
    "duration": 31,
    "start_time": "2023-02-05T11:32:19.991Z"
   },
   {
    "duration": 19,
    "start_time": "2023-02-05T11:32:20.024Z"
   },
   {
    "duration": 195,
    "start_time": "2023-02-05T11:32:20.045Z"
   },
   {
    "duration": 53627,
    "start_time": "2023-02-05T11:32:20.243Z"
   },
   {
    "duration": 45370,
    "start_time": "2023-02-05T11:33:13.872Z"
   },
   {
    "duration": 196,
    "start_time": "2023-02-05T11:33:59.244Z"
   },
   {
    "duration": 99,
    "start_time": "2023-02-05T11:33:59.442Z"
   },
   {
    "duration": 1402,
    "start_time": "2023-02-05T11:33:59.542Z"
   },
   {
    "duration": 11,
    "start_time": "2023-02-05T11:34:00.946Z"
   },
   {
    "duration": 1525,
    "start_time": "2023-02-05T11:34:47.530Z"
   },
   {
    "duration": 732,
    "start_time": "2023-02-05T11:36:45.016Z"
   },
   {
    "duration": 4,
    "start_time": "2023-02-05T11:41:15.322Z"
   },
   {
    "duration": 37,
    "start_time": "2023-02-05T11:41:15.328Z"
   },
   {
    "duration": 47,
    "start_time": "2023-02-05T11:41:15.366Z"
   },
   {
    "duration": 7,
    "start_time": "2023-02-05T11:41:15.415Z"
   },
   {
    "duration": 35,
    "start_time": "2023-02-05T11:41:15.424Z"
   },
   {
    "duration": 13,
    "start_time": "2023-02-05T11:41:15.461Z"
   },
   {
    "duration": 4,
    "start_time": "2023-02-05T11:41:15.476Z"
   },
   {
    "duration": 11,
    "start_time": "2023-02-05T11:41:15.482Z"
   },
   {
    "duration": 284,
    "start_time": "2023-02-05T11:41:15.496Z"
   },
   {
    "duration": 400,
    "start_time": "2023-02-05T11:41:15.782Z"
   },
   {
    "duration": 914,
    "start_time": "2023-02-05T11:41:16.185Z"
   },
   {
    "duration": 200,
    "start_time": "2023-02-05T11:41:17.102Z"
   },
   {
    "duration": 36,
    "start_time": "2023-02-05T11:41:17.305Z"
   },
   {
    "duration": 33,
    "start_time": "2023-02-05T11:41:17.343Z"
   },
   {
    "duration": 4,
    "start_time": "2023-02-05T11:41:17.377Z"
   },
   {
    "duration": 10,
    "start_time": "2023-02-05T11:41:17.383Z"
   },
   {
    "duration": 9,
    "start_time": "2023-02-05T11:41:17.395Z"
   },
   {
    "duration": 34,
    "start_time": "2023-02-05T11:41:17.406Z"
   },
   {
    "duration": 11,
    "start_time": "2023-02-05T11:41:17.442Z"
   },
   {
    "duration": 186,
    "start_time": "2023-02-05T11:41:17.455Z"
   },
   {
    "duration": 54786,
    "start_time": "2023-02-05T11:41:17.642Z"
   },
   {
    "duration": 64422,
    "start_time": "2023-02-05T11:42:12.430Z"
   },
   {
    "duration": 788,
    "start_time": "2023-02-05T11:43:16.853Z"
   },
   {
    "duration": 10,
    "start_time": "2023-02-05T11:43:17.644Z"
   },
   {
    "duration": 39231,
    "start_time": "2023-02-05T12:03:58.622Z"
   },
   {
    "duration": 684,
    "start_time": "2023-02-05T12:04:59.260Z"
   },
   {
    "duration": 4,
    "start_time": "2023-02-05T12:05:26.328Z"
   },
   {
    "duration": 12,
    "start_time": "2023-02-05T12:05:26.334Z"
   },
   {
    "duration": 45,
    "start_time": "2023-02-05T12:05:26.347Z"
   },
   {
    "duration": 8,
    "start_time": "2023-02-05T12:05:26.394Z"
   },
   {
    "duration": 17,
    "start_time": "2023-02-05T12:05:26.404Z"
   },
   {
    "duration": 24,
    "start_time": "2023-02-05T12:05:26.423Z"
   },
   {
    "duration": 4,
    "start_time": "2023-02-05T12:05:26.449Z"
   },
   {
    "duration": 19,
    "start_time": "2023-02-05T12:05:26.454Z"
   },
   {
    "duration": 374,
    "start_time": "2023-02-05T12:05:26.475Z"
   },
   {
    "duration": 306,
    "start_time": "2023-02-05T12:05:26.852Z"
   },
   {
    "duration": 826,
    "start_time": "2023-02-05T12:05:27.159Z"
   },
   {
    "duration": 224,
    "start_time": "2023-02-05T12:05:27.986Z"
   },
   {
    "duration": 59,
    "start_time": "2023-02-05T12:05:28.212Z"
   },
   {
    "duration": 30,
    "start_time": "2023-02-05T12:05:28.276Z"
   },
   {
    "duration": 5,
    "start_time": "2023-02-05T12:05:28.308Z"
   },
   {
    "duration": 30,
    "start_time": "2023-02-05T12:05:28.315Z"
   },
   {
    "duration": 6,
    "start_time": "2023-02-05T12:05:28.347Z"
   },
   {
    "duration": 15,
    "start_time": "2023-02-05T12:05:28.355Z"
   },
   {
    "duration": 11,
    "start_time": "2023-02-05T12:05:28.372Z"
   },
   {
    "duration": 261,
    "start_time": "2023-02-05T12:05:28.385Z"
   },
   {
    "duration": 57438,
    "start_time": "2023-02-05T12:05:28.648Z"
   },
   {
    "duration": 50258,
    "start_time": "2023-02-05T12:06:26.087Z"
   },
   {
    "duration": 903,
    "start_time": "2023-02-05T12:07:16.347Z"
   },
   {
    "duration": 10,
    "start_time": "2023-02-05T12:07:17.251Z"
   },
   {
    "duration": 144,
    "start_time": "2023-02-05T12:13:24.196Z"
   },
   {
    "duration": 1468,
    "start_time": "2023-02-05T12:25:33.520Z"
   },
   {
    "duration": 3,
    "start_time": "2023-02-05T12:25:34.990Z"
   },
   {
    "duration": 51,
    "start_time": "2023-02-05T12:25:34.995Z"
   },
   {
    "duration": 12,
    "start_time": "2023-02-05T12:25:35.049Z"
   },
   {
    "duration": 22,
    "start_time": "2023-02-05T12:25:35.063Z"
   },
   {
    "duration": 13,
    "start_time": "2023-02-05T12:25:35.087Z"
   },
   {
    "duration": 4,
    "start_time": "2023-02-05T12:25:35.102Z"
   },
   {
    "duration": 38,
    "start_time": "2023-02-05T12:25:35.107Z"
   },
   {
    "duration": 326,
    "start_time": "2023-02-05T12:25:35.147Z"
   },
   {
    "duration": 301,
    "start_time": "2023-02-05T12:25:35.476Z"
   },
   {
    "duration": 924,
    "start_time": "2023-02-05T12:25:35.779Z"
   },
   {
    "duration": 196,
    "start_time": "2023-02-05T12:25:36.705Z"
   },
   {
    "duration": 49,
    "start_time": "2023-02-05T12:25:36.903Z"
   },
   {
    "duration": 26,
    "start_time": "2023-02-05T12:25:36.954Z"
   },
   {
    "duration": 4,
    "start_time": "2023-02-05T12:25:36.982Z"
   },
   {
    "duration": 12,
    "start_time": "2023-02-05T12:25:36.988Z"
   },
   {
    "duration": 7,
    "start_time": "2023-02-05T12:25:37.001Z"
   },
   {
    "duration": 31,
    "start_time": "2023-02-05T12:25:37.010Z"
   },
   {
    "duration": 12,
    "start_time": "2023-02-05T12:25:37.043Z"
   },
   {
    "duration": 186,
    "start_time": "2023-02-05T12:25:37.057Z"
   },
   {
    "duration": 56447,
    "start_time": "2023-02-05T12:25:37.245Z"
   },
   {
    "duration": 62649,
    "start_time": "2023-02-05T12:26:33.694Z"
   },
   {
    "duration": 101,
    "start_time": "2023-02-05T12:27:36.344Z"
   },
   {
    "duration": 200,
    "start_time": "2023-02-05T12:27:36.448Z"
   }
  ],
  "kernelspec": {
   "display_name": "Python 3 (ipykernel)",
   "language": "python",
   "name": "python3"
  },
  "language_info": {
   "codemirror_mode": {
    "name": "ipython",
    "version": 3
   },
   "file_extension": ".py",
   "mimetype": "text/x-python",
   "name": "python",
   "nbconvert_exporter": "python",
   "pygments_lexer": "ipython3",
   "version": "3.9.13"
  },
  "toc": {
   "base_numbering": 1,
   "nav_menu": {},
   "number_sections": true,
   "sideBar": true,
   "skip_h1_title": true,
   "title_cell": "Содержание",
   "title_sidebar": "Contents",
   "toc_cell": true,
   "toc_position": {},
   "toc_section_display": true,
   "toc_window_display": true
  }
 },
 "nbformat": 4,
 "nbformat_minor": 2
}
