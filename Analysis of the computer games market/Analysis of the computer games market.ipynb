{
 "cells": [
  {
   "cell_type": "markdown",
   "metadata": {},
   "source": [
    "# Определение успешности компьютерных игр в интернет-магазине"
   ]
  },
  {
   "cell_type": "markdown",
   "metadata": {},
   "source": [
    "## Изучение общей информации о данных"
   ]
  },
  {
   "cell_type": "code",
   "execution_count": 3,
   "metadata": {
    "scrolled": true
   },
   "outputs": [],
   "source": [
    "import pandas as pd\n",
    "import matplotlib.pyplot as plt\n",
    "import seaborn as sns\n",
    "import numpy as np\n",
    "from scipy import stats as st"
   ]
  },
  {
   "cell_type": "code",
   "execution_count": 4,
   "metadata": {},
   "outputs": [
    {
     "data": {
      "text/html": [
       "<div>\n",
       "<style scoped>\n",
       "    .dataframe tbody tr th:only-of-type {\n",
       "        vertical-align: middle;\n",
       "    }\n",
       "\n",
       "    .dataframe tbody tr th {\n",
       "        vertical-align: top;\n",
       "    }\n",
       "\n",
       "    .dataframe thead th {\n",
       "        text-align: right;\n",
       "    }\n",
       "</style>\n",
       "<table border=\"1\" class=\"dataframe\">\n",
       "  <thead>\n",
       "    <tr style=\"text-align: right;\">\n",
       "      <th></th>\n",
       "      <th>Name</th>\n",
       "      <th>Platform</th>\n",
       "      <th>Year_of_Release</th>\n",
       "      <th>Genre</th>\n",
       "      <th>NA_sales</th>\n",
       "      <th>EU_sales</th>\n",
       "      <th>JP_sales</th>\n",
       "      <th>Other_sales</th>\n",
       "      <th>Critic_Score</th>\n",
       "      <th>User_Score</th>\n",
       "      <th>Rating</th>\n",
       "    </tr>\n",
       "  </thead>\n",
       "  <tbody>\n",
       "    <tr>\n",
       "      <th>0</th>\n",
       "      <td>Wii Sports</td>\n",
       "      <td>Wii</td>\n",
       "      <td>2006.0</td>\n",
       "      <td>Sports</td>\n",
       "      <td>41.36</td>\n",
       "      <td>28.96</td>\n",
       "      <td>3.77</td>\n",
       "      <td>8.45</td>\n",
       "      <td>76.0</td>\n",
       "      <td>8</td>\n",
       "      <td>E</td>\n",
       "    </tr>\n",
       "    <tr>\n",
       "      <th>1</th>\n",
       "      <td>Super Mario Bros.</td>\n",
       "      <td>NES</td>\n",
       "      <td>1985.0</td>\n",
       "      <td>Platform</td>\n",
       "      <td>29.08</td>\n",
       "      <td>3.58</td>\n",
       "      <td>6.81</td>\n",
       "      <td>0.77</td>\n",
       "      <td>NaN</td>\n",
       "      <td>NaN</td>\n",
       "      <td>NaN</td>\n",
       "    </tr>\n",
       "    <tr>\n",
       "      <th>2</th>\n",
       "      <td>Mario Kart Wii</td>\n",
       "      <td>Wii</td>\n",
       "      <td>2008.0</td>\n",
       "      <td>Racing</td>\n",
       "      <td>15.68</td>\n",
       "      <td>12.76</td>\n",
       "      <td>3.79</td>\n",
       "      <td>3.29</td>\n",
       "      <td>82.0</td>\n",
       "      <td>8.3</td>\n",
       "      <td>E</td>\n",
       "    </tr>\n",
       "    <tr>\n",
       "      <th>3</th>\n",
       "      <td>Wii Sports Resort</td>\n",
       "      <td>Wii</td>\n",
       "      <td>2009.0</td>\n",
       "      <td>Sports</td>\n",
       "      <td>15.61</td>\n",
       "      <td>10.93</td>\n",
       "      <td>3.28</td>\n",
       "      <td>2.95</td>\n",
       "      <td>80.0</td>\n",
       "      <td>8</td>\n",
       "      <td>E</td>\n",
       "    </tr>\n",
       "    <tr>\n",
       "      <th>4</th>\n",
       "      <td>Pokemon Red/Pokemon Blue</td>\n",
       "      <td>GB</td>\n",
       "      <td>1996.0</td>\n",
       "      <td>Role-Playing</td>\n",
       "      <td>11.27</td>\n",
       "      <td>8.89</td>\n",
       "      <td>10.22</td>\n",
       "      <td>1.00</td>\n",
       "      <td>NaN</td>\n",
       "      <td>NaN</td>\n",
       "      <td>NaN</td>\n",
       "    </tr>\n",
       "  </tbody>\n",
       "</table>\n",
       "</div>"
      ],
      "text/plain": [
       "                       Name Platform  Year_of_Release         Genre  NA_sales  \\\n",
       "0                Wii Sports      Wii           2006.0        Sports     41.36   \n",
       "1         Super Mario Bros.      NES           1985.0      Platform     29.08   \n",
       "2            Mario Kart Wii      Wii           2008.0        Racing     15.68   \n",
       "3         Wii Sports Resort      Wii           2009.0        Sports     15.61   \n",
       "4  Pokemon Red/Pokemon Blue       GB           1996.0  Role-Playing     11.27   \n",
       "\n",
       "   EU_sales  JP_sales  Other_sales  Critic_Score User_Score Rating  \n",
       "0     28.96      3.77         8.45          76.0          8      E  \n",
       "1      3.58      6.81         0.77           NaN        NaN    NaN  \n",
       "2     12.76      3.79         3.29          82.0        8.3      E  \n",
       "3     10.93      3.28         2.95          80.0          8      E  \n",
       "4      8.89     10.22         1.00           NaN        NaN    NaN  "
      ]
     },
     "metadata": {},
     "output_type": "display_data"
    }
   ],
   "source": [
    "data=pd.read_csv('/datasets/games.csv')\n",
    "display(data.head())"
   ]
  },
  {
   "cell_type": "code",
   "execution_count": 5,
   "metadata": {},
   "outputs": [
    {
     "name": "stdout",
     "output_type": "stream",
     "text": [
      "<class 'pandas.core.frame.DataFrame'>\n",
      "RangeIndex: 16715 entries, 0 to 16714\n",
      "Data columns (total 11 columns):\n",
      " #   Column           Non-Null Count  Dtype  \n",
      "---  ------           --------------  -----  \n",
      " 0   Name             16713 non-null  object \n",
      " 1   Platform         16715 non-null  object \n",
      " 2   Year_of_Release  16446 non-null  float64\n",
      " 3   Genre            16713 non-null  object \n",
      " 4   NA_sales         16715 non-null  float64\n",
      " 5   EU_sales         16715 non-null  float64\n",
      " 6   JP_sales         16715 non-null  float64\n",
      " 7   Other_sales      16715 non-null  float64\n",
      " 8   Critic_Score     8137 non-null   float64\n",
      " 9   User_Score       10014 non-null  object \n",
      " 10  Rating           9949 non-null   object \n",
      "dtypes: float64(6), object(5)\n",
      "memory usage: 1.4+ MB\n"
     ]
    }
   ],
   "source": [
    "data.info()"
   ]
  },
  {
   "cell_type": "markdown",
   "metadata": {},
   "source": [
    "## Подготовка данных"
   ]
  },
  {
   "cell_type": "markdown",
   "metadata": {},
   "source": [
    "### Приводим названия столбцов к нижнему регистру"
   ]
  },
  {
   "cell_type": "code",
   "execution_count": 6,
   "metadata": {},
   "outputs": [
    {
     "data": {
      "text/plain": [
       "Index(['Name', 'Platform', 'Year_of_Release', 'Genre', 'NA_sales', 'EU_sales',\n",
       "       'JP_sales', 'Other_sales', 'Critic_Score', 'User_Score', 'Rating'],\n",
       "      dtype='object')"
      ]
     },
     "execution_count": 6,
     "metadata": {},
     "output_type": "execute_result"
    }
   ],
   "source": [
    "data.columns"
   ]
  },
  {
   "cell_type": "code",
   "execution_count": 7,
   "metadata": {},
   "outputs": [],
   "source": [
    "data.columns=data.columns.str.lower()"
   ]
  },
  {
   "cell_type": "code",
   "execution_count": 8,
   "metadata": {},
   "outputs": [
    {
     "data": {
      "text/plain": [
       "Index(['name', 'platform', 'year_of_release', 'genre', 'na_sales', 'eu_sales',\n",
       "       'jp_sales', 'other_sales', 'critic_score', 'user_score', 'rating'],\n",
       "      dtype='object')"
      ]
     },
     "execution_count": 8,
     "metadata": {},
     "output_type": "execute_result"
    }
   ],
   "source": [
    "data.columns"
   ]
  },
  {
   "cell_type": "code",
   "execution_count": 9,
   "metadata": {},
   "outputs": [],
   "source": [
    "data['name']=data['name'].str.lower()"
   ]
  },
  {
   "cell_type": "code",
   "execution_count": 10,
   "metadata": {},
   "outputs": [],
   "source": [
    "data['platform']=data['platform'].str.lower()"
   ]
  },
  {
   "cell_type": "code",
   "execution_count": 11,
   "metadata": {},
   "outputs": [],
   "source": [
    "data['genre']=data['genre'].str.lower()"
   ]
  },
  {
   "cell_type": "code",
   "execution_count": 12,
   "metadata": {},
   "outputs": [
    {
     "data": {
      "text/html": [
       "<div>\n",
       "<style scoped>\n",
       "    .dataframe tbody tr th:only-of-type {\n",
       "        vertical-align: middle;\n",
       "    }\n",
       "\n",
       "    .dataframe tbody tr th {\n",
       "        vertical-align: top;\n",
       "    }\n",
       "\n",
       "    .dataframe thead th {\n",
       "        text-align: right;\n",
       "    }\n",
       "</style>\n",
       "<table border=\"1\" class=\"dataframe\">\n",
       "  <thead>\n",
       "    <tr style=\"text-align: right;\">\n",
       "      <th></th>\n",
       "      <th>name</th>\n",
       "      <th>platform</th>\n",
       "      <th>year_of_release</th>\n",
       "      <th>genre</th>\n",
       "      <th>na_sales</th>\n",
       "      <th>eu_sales</th>\n",
       "      <th>jp_sales</th>\n",
       "      <th>other_sales</th>\n",
       "      <th>critic_score</th>\n",
       "      <th>user_score</th>\n",
       "      <th>rating</th>\n",
       "    </tr>\n",
       "  </thead>\n",
       "  <tbody>\n",
       "    <tr>\n",
       "      <th>0</th>\n",
       "      <td>wii sports</td>\n",
       "      <td>wii</td>\n",
       "      <td>2006.0</td>\n",
       "      <td>sports</td>\n",
       "      <td>41.36</td>\n",
       "      <td>28.96</td>\n",
       "      <td>3.77</td>\n",
       "      <td>8.45</td>\n",
       "      <td>76.0</td>\n",
       "      <td>8</td>\n",
       "      <td>E</td>\n",
       "    </tr>\n",
       "    <tr>\n",
       "      <th>1</th>\n",
       "      <td>super mario bros.</td>\n",
       "      <td>nes</td>\n",
       "      <td>1985.0</td>\n",
       "      <td>platform</td>\n",
       "      <td>29.08</td>\n",
       "      <td>3.58</td>\n",
       "      <td>6.81</td>\n",
       "      <td>0.77</td>\n",
       "      <td>NaN</td>\n",
       "      <td>NaN</td>\n",
       "      <td>NaN</td>\n",
       "    </tr>\n",
       "    <tr>\n",
       "      <th>2</th>\n",
       "      <td>mario kart wii</td>\n",
       "      <td>wii</td>\n",
       "      <td>2008.0</td>\n",
       "      <td>racing</td>\n",
       "      <td>15.68</td>\n",
       "      <td>12.76</td>\n",
       "      <td>3.79</td>\n",
       "      <td>3.29</td>\n",
       "      <td>82.0</td>\n",
       "      <td>8.3</td>\n",
       "      <td>E</td>\n",
       "    </tr>\n",
       "    <tr>\n",
       "      <th>3</th>\n",
       "      <td>wii sports resort</td>\n",
       "      <td>wii</td>\n",
       "      <td>2009.0</td>\n",
       "      <td>sports</td>\n",
       "      <td>15.61</td>\n",
       "      <td>10.93</td>\n",
       "      <td>3.28</td>\n",
       "      <td>2.95</td>\n",
       "      <td>80.0</td>\n",
       "      <td>8</td>\n",
       "      <td>E</td>\n",
       "    </tr>\n",
       "    <tr>\n",
       "      <th>4</th>\n",
       "      <td>pokemon red/pokemon blue</td>\n",
       "      <td>gb</td>\n",
       "      <td>1996.0</td>\n",
       "      <td>role-playing</td>\n",
       "      <td>11.27</td>\n",
       "      <td>8.89</td>\n",
       "      <td>10.22</td>\n",
       "      <td>1.00</td>\n",
       "      <td>NaN</td>\n",
       "      <td>NaN</td>\n",
       "      <td>NaN</td>\n",
       "    </tr>\n",
       "  </tbody>\n",
       "</table>\n",
       "</div>"
      ],
      "text/plain": [
       "                       name platform  year_of_release         genre  na_sales  \\\n",
       "0                wii sports      wii           2006.0        sports     41.36   \n",
       "1         super mario bros.      nes           1985.0      platform     29.08   \n",
       "2            mario kart wii      wii           2008.0        racing     15.68   \n",
       "3         wii sports resort      wii           2009.0        sports     15.61   \n",
       "4  pokemon red/pokemon blue       gb           1996.0  role-playing     11.27   \n",
       "\n",
       "   eu_sales  jp_sales  other_sales  critic_score user_score rating  \n",
       "0     28.96      3.77         8.45          76.0          8      E  \n",
       "1      3.58      6.81         0.77           NaN        NaN    NaN  \n",
       "2     12.76      3.79         3.29          82.0        8.3      E  \n",
       "3     10.93      3.28         2.95          80.0          8      E  \n",
       "4      8.89     10.22         1.00           NaN        NaN    NaN  "
      ]
     },
     "metadata": {},
     "output_type": "display_data"
    }
   ],
   "source": [
    "display(data.head())"
   ]
  },
  {
   "cell_type": "markdown",
   "metadata": {},
   "source": [
    "### Преобразуем тип данных к нужному типу"
   ]
  },
  {
   "cell_type": "code",
   "execution_count": 13,
   "metadata": {},
   "outputs": [],
   "source": [
    "data['user_score']=pd.to_numeric(data['user_score'], errors='coerce')"
   ]
  },
  {
   "cell_type": "code",
   "execution_count": 14,
   "metadata": {},
   "outputs": [
    {
     "name": "stdout",
     "output_type": "stream",
     "text": [
      "<class 'pandas.core.frame.DataFrame'>\n",
      "RangeIndex: 16715 entries, 0 to 16714\n",
      "Data columns (total 11 columns):\n",
      " #   Column           Non-Null Count  Dtype  \n",
      "---  ------           --------------  -----  \n",
      " 0   name             16713 non-null  object \n",
      " 1   platform         16715 non-null  object \n",
      " 2   year_of_release  16446 non-null  float64\n",
      " 3   genre            16713 non-null  object \n",
      " 4   na_sales         16715 non-null  float64\n",
      " 5   eu_sales         16715 non-null  float64\n",
      " 6   jp_sales         16715 non-null  float64\n",
      " 7   other_sales      16715 non-null  float64\n",
      " 8   critic_score     8137 non-null   float64\n",
      " 9   user_score       7590 non-null   float64\n",
      " 10  rating           9949 non-null   object \n",
      "dtypes: float64(7), object(4)\n",
      "memory usage: 1.4+ MB\n"
     ]
    }
   ],
   "source": [
    "data.info()"
   ]
  },
  {
   "cell_type": "markdown",
   "metadata": {},
   "source": [
    "Обработала столбец \"user_score\", для этого заменила абривиатуру tbd на nan, и изменила тип данных на float. если бы оставила эту абривиатуру, то изменить тип данных не получилось бы, а тип \"object\" не корректен для этих данных."
   ]
  },
  {
   "cell_type": "markdown",
   "metadata": {},
   "source": [
    "### Поработаем с пропусками"
   ]
  },
  {
   "cell_type": "code",
   "execution_count": 15,
   "metadata": {},
   "outputs": [
    {
     "data": {
      "text/plain": [
       "name                  2\n",
       "platform              0\n",
       "year_of_release     269\n",
       "genre                 2\n",
       "na_sales              0\n",
       "eu_sales              0\n",
       "jp_sales              0\n",
       "other_sales           0\n",
       "critic_score       8578\n",
       "user_score         9125\n",
       "rating             6766\n",
       "dtype: int64"
      ]
     },
     "execution_count": 15,
     "metadata": {},
     "output_type": "execute_result"
    }
   ],
   "source": [
    "data.isna().sum()"
   ]
  },
  {
   "cell_type": "code",
   "execution_count": 16,
   "metadata": {},
   "outputs": [
    {
     "data": {
      "text/html": [
       "<div>\n",
       "<style scoped>\n",
       "    .dataframe tbody tr th:only-of-type {\n",
       "        vertical-align: middle;\n",
       "    }\n",
       "\n",
       "    .dataframe tbody tr th {\n",
       "        vertical-align: top;\n",
       "    }\n",
       "\n",
       "    .dataframe thead th {\n",
       "        text-align: right;\n",
       "    }\n",
       "</style>\n",
       "<table border=\"1\" class=\"dataframe\">\n",
       "  <thead>\n",
       "    <tr style=\"text-align: right;\">\n",
       "      <th></th>\n",
       "      <th>name</th>\n",
       "      <th>platform</th>\n",
       "      <th>year_of_release</th>\n",
       "      <th>genre</th>\n",
       "      <th>na_sales</th>\n",
       "      <th>eu_sales</th>\n",
       "      <th>jp_sales</th>\n",
       "      <th>other_sales</th>\n",
       "      <th>critic_score</th>\n",
       "      <th>user_score</th>\n",
       "      <th>rating</th>\n",
       "    </tr>\n",
       "  </thead>\n",
       "  <tbody>\n",
       "    <tr>\n",
       "      <th>659</th>\n",
       "      <td>NaN</td>\n",
       "      <td>gen</td>\n",
       "      <td>1993.0</td>\n",
       "      <td>NaN</td>\n",
       "      <td>1.78</td>\n",
       "      <td>0.53</td>\n",
       "      <td>0.00</td>\n",
       "      <td>0.08</td>\n",
       "      <td>NaN</td>\n",
       "      <td>NaN</td>\n",
       "      <td>NaN</td>\n",
       "    </tr>\n",
       "    <tr>\n",
       "      <th>14244</th>\n",
       "      <td>NaN</td>\n",
       "      <td>gen</td>\n",
       "      <td>1993.0</td>\n",
       "      <td>NaN</td>\n",
       "      <td>0.00</td>\n",
       "      <td>0.00</td>\n",
       "      <td>0.03</td>\n",
       "      <td>0.00</td>\n",
       "      <td>NaN</td>\n",
       "      <td>NaN</td>\n",
       "      <td>NaN</td>\n",
       "    </tr>\n",
       "  </tbody>\n",
       "</table>\n",
       "</div>"
      ],
      "text/plain": [
       "      name platform  year_of_release genre  na_sales  eu_sales  jp_sales  \\\n",
       "659    NaN      gen           1993.0   NaN      1.78      0.53      0.00   \n",
       "14244  NaN      gen           1993.0   NaN      0.00      0.00      0.03   \n",
       "\n",
       "       other_sales  critic_score  user_score rating  \n",
       "659           0.08           NaN         NaN    NaN  \n",
       "14244         0.00           NaN         NaN    NaN  "
      ]
     },
     "execution_count": 16,
     "metadata": {},
     "output_type": "execute_result"
    }
   ],
   "source": [
    "data[data['name'].isnull()]"
   ]
  },
  {
   "cell_type": "code",
   "execution_count": 17,
   "metadata": {},
   "outputs": [],
   "source": [
    "data=data.dropna(subset=['name'])"
   ]
  },
  {
   "cell_type": "code",
   "execution_count": 18,
   "metadata": {},
   "outputs": [],
   "source": [
    "data=data.dropna(subset=['year_of_release'])\n",
    "data['year_of_release']=data['year_of_release'].astype('int')"
   ]
  },
  {
   "cell_type": "code",
   "execution_count": 19,
   "metadata": {},
   "outputs": [],
   "source": [
    "critic_median=data.groupby('name')['critic_score'].median()\n",
    "for i in data['name'].unique():\n",
    "    data.loc[(data['critic_score'].isna())&(data['name']==i), 'critic_score']=critic_median[i]"
   ]
  },
  {
   "cell_type": "code",
   "execution_count": 20,
   "metadata": {},
   "outputs": [],
   "source": [
    "user_median=data.groupby('name')['user_score'].median() \n",
    "for j in data['name'].unique():\n",
    "    data.loc[(data['user_score'].isna())&(data['name']==j), 'user_score']=user_median[j]"
   ]
  },
  {
   "cell_type": "code",
   "execution_count": 21,
   "metadata": {},
   "outputs": [
    {
     "data": {
      "text/plain": [
       "array(['E', nan, 'M', 'T', 'E10+', 'K-A', 'AO', 'EC', 'RP'], dtype=object)"
      ]
     },
     "execution_count": 21,
     "metadata": {},
     "output_type": "execute_result"
    }
   ],
   "source": [
    "data['rating'].unique()"
   ]
  },
  {
   "cell_type": "code",
   "execution_count": 22,
   "metadata": {
    "scrolled": false
   },
   "outputs": [
    {
     "data": {
      "text/html": [
       "<div>\n",
       "<style scoped>\n",
       "    .dataframe tbody tr th:only-of-type {\n",
       "        vertical-align: middle;\n",
       "    }\n",
       "\n",
       "    .dataframe tbody tr th {\n",
       "        vertical-align: top;\n",
       "    }\n",
       "\n",
       "    .dataframe thead th {\n",
       "        text-align: right;\n",
       "    }\n",
       "</style>\n",
       "<table border=\"1\" class=\"dataframe\">\n",
       "  <thead>\n",
       "    <tr style=\"text-align: right;\">\n",
       "      <th></th>\n",
       "      <th>name</th>\n",
       "      <th>platform</th>\n",
       "      <th>year_of_release</th>\n",
       "      <th>genre</th>\n",
       "      <th>na_sales</th>\n",
       "      <th>eu_sales</th>\n",
       "      <th>jp_sales</th>\n",
       "      <th>other_sales</th>\n",
       "      <th>critic_score</th>\n",
       "      <th>user_score</th>\n",
       "      <th>rating</th>\n",
       "    </tr>\n",
       "  </thead>\n",
       "  <tbody>\n",
       "    <tr>\n",
       "      <th>1</th>\n",
       "      <td>super mario bros.</td>\n",
       "      <td>nes</td>\n",
       "      <td>1985</td>\n",
       "      <td>platform</td>\n",
       "      <td>29.08</td>\n",
       "      <td>3.58</td>\n",
       "      <td>6.81</td>\n",
       "      <td>0.77</td>\n",
       "      <td>NaN</td>\n",
       "      <td>NaN</td>\n",
       "      <td>NaN</td>\n",
       "    </tr>\n",
       "    <tr>\n",
       "      <th>4</th>\n",
       "      <td>pokemon red/pokemon blue</td>\n",
       "      <td>gb</td>\n",
       "      <td>1996</td>\n",
       "      <td>role-playing</td>\n",
       "      <td>11.27</td>\n",
       "      <td>8.89</td>\n",
       "      <td>10.22</td>\n",
       "      <td>1.00</td>\n",
       "      <td>NaN</td>\n",
       "      <td>NaN</td>\n",
       "      <td>NaN</td>\n",
       "    </tr>\n",
       "    <tr>\n",
       "      <th>5</th>\n",
       "      <td>tetris</td>\n",
       "      <td>gb</td>\n",
       "      <td>1989</td>\n",
       "      <td>puzzle</td>\n",
       "      <td>23.20</td>\n",
       "      <td>2.26</td>\n",
       "      <td>4.22</td>\n",
       "      <td>0.58</td>\n",
       "      <td>NaN</td>\n",
       "      <td>NaN</td>\n",
       "      <td>NaN</td>\n",
       "    </tr>\n",
       "    <tr>\n",
       "      <th>9</th>\n",
       "      <td>duck hunt</td>\n",
       "      <td>nes</td>\n",
       "      <td>1984</td>\n",
       "      <td>shooter</td>\n",
       "      <td>26.93</td>\n",
       "      <td>0.63</td>\n",
       "      <td>0.28</td>\n",
       "      <td>0.47</td>\n",
       "      <td>NaN</td>\n",
       "      <td>NaN</td>\n",
       "      <td>NaN</td>\n",
       "    </tr>\n",
       "    <tr>\n",
       "      <th>10</th>\n",
       "      <td>nintendogs</td>\n",
       "      <td>ds</td>\n",
       "      <td>2005</td>\n",
       "      <td>simulation</td>\n",
       "      <td>9.05</td>\n",
       "      <td>10.95</td>\n",
       "      <td>1.93</td>\n",
       "      <td>2.74</td>\n",
       "      <td>NaN</td>\n",
       "      <td>NaN</td>\n",
       "      <td>NaN</td>\n",
       "    </tr>\n",
       "    <tr>\n",
       "      <th>...</th>\n",
       "      <td>...</td>\n",
       "      <td>...</td>\n",
       "      <td>...</td>\n",
       "      <td>...</td>\n",
       "      <td>...</td>\n",
       "      <td>...</td>\n",
       "      <td>...</td>\n",
       "      <td>...</td>\n",
       "      <td>...</td>\n",
       "      <td>...</td>\n",
       "      <td>...</td>\n",
       "    </tr>\n",
       "    <tr>\n",
       "      <th>16710</th>\n",
       "      <td>samurai warriors: sanada maru</td>\n",
       "      <td>ps3</td>\n",
       "      <td>2016</td>\n",
       "      <td>action</td>\n",
       "      <td>0.00</td>\n",
       "      <td>0.00</td>\n",
       "      <td>0.01</td>\n",
       "      <td>0.00</td>\n",
       "      <td>NaN</td>\n",
       "      <td>NaN</td>\n",
       "      <td>NaN</td>\n",
       "    </tr>\n",
       "    <tr>\n",
       "      <th>16711</th>\n",
       "      <td>lma manager 2007</td>\n",
       "      <td>x360</td>\n",
       "      <td>2006</td>\n",
       "      <td>sports</td>\n",
       "      <td>0.00</td>\n",
       "      <td>0.01</td>\n",
       "      <td>0.00</td>\n",
       "      <td>0.00</td>\n",
       "      <td>NaN</td>\n",
       "      <td>NaN</td>\n",
       "      <td>NaN</td>\n",
       "    </tr>\n",
       "    <tr>\n",
       "      <th>16712</th>\n",
       "      <td>haitaka no psychedelica</td>\n",
       "      <td>psv</td>\n",
       "      <td>2016</td>\n",
       "      <td>adventure</td>\n",
       "      <td>0.00</td>\n",
       "      <td>0.00</td>\n",
       "      <td>0.01</td>\n",
       "      <td>0.00</td>\n",
       "      <td>NaN</td>\n",
       "      <td>NaN</td>\n",
       "      <td>NaN</td>\n",
       "    </tr>\n",
       "    <tr>\n",
       "      <th>16713</th>\n",
       "      <td>spirits &amp; spells</td>\n",
       "      <td>gba</td>\n",
       "      <td>2003</td>\n",
       "      <td>platform</td>\n",
       "      <td>0.01</td>\n",
       "      <td>0.00</td>\n",
       "      <td>0.00</td>\n",
       "      <td>0.00</td>\n",
       "      <td>NaN</td>\n",
       "      <td>NaN</td>\n",
       "      <td>NaN</td>\n",
       "    </tr>\n",
       "    <tr>\n",
       "      <th>16714</th>\n",
       "      <td>winning post 8 2016</td>\n",
       "      <td>psv</td>\n",
       "      <td>2016</td>\n",
       "      <td>simulation</td>\n",
       "      <td>0.00</td>\n",
       "      <td>0.00</td>\n",
       "      <td>0.01</td>\n",
       "      <td>0.00</td>\n",
       "      <td>NaN</td>\n",
       "      <td>NaN</td>\n",
       "      <td>NaN</td>\n",
       "    </tr>\n",
       "  </tbody>\n",
       "</table>\n",
       "<p>6676 rows × 11 columns</p>\n",
       "</div>"
      ],
      "text/plain": [
       "                                name platform  year_of_release         genre  \\\n",
       "1                  super mario bros.      nes             1985      platform   \n",
       "4           pokemon red/pokemon blue       gb             1996  role-playing   \n",
       "5                             tetris       gb             1989        puzzle   \n",
       "9                          duck hunt      nes             1984       shooter   \n",
       "10                        nintendogs       ds             2005    simulation   \n",
       "...                              ...      ...              ...           ...   \n",
       "16710  samurai warriors: sanada maru      ps3             2016        action   \n",
       "16711               lma manager 2007     x360             2006        sports   \n",
       "16712        haitaka no psychedelica      psv             2016     adventure   \n",
       "16713               spirits & spells      gba             2003      platform   \n",
       "16714            winning post 8 2016      psv             2016    simulation   \n",
       "\n",
       "       na_sales  eu_sales  jp_sales  other_sales  critic_score  user_score  \\\n",
       "1         29.08      3.58      6.81         0.77           NaN         NaN   \n",
       "4         11.27      8.89     10.22         1.00           NaN         NaN   \n",
       "5         23.20      2.26      4.22         0.58           NaN         NaN   \n",
       "9         26.93      0.63      0.28         0.47           NaN         NaN   \n",
       "10         9.05     10.95      1.93         2.74           NaN         NaN   \n",
       "...         ...       ...       ...          ...           ...         ...   \n",
       "16710      0.00      0.00      0.01         0.00           NaN         NaN   \n",
       "16711      0.00      0.01      0.00         0.00           NaN         NaN   \n",
       "16712      0.00      0.00      0.01         0.00           NaN         NaN   \n",
       "16713      0.01      0.00      0.00         0.00           NaN         NaN   \n",
       "16714      0.00      0.00      0.01         0.00           NaN         NaN   \n",
       "\n",
       "      rating  \n",
       "1        NaN  \n",
       "4        NaN  \n",
       "5        NaN  \n",
       "9        NaN  \n",
       "10       NaN  \n",
       "...      ...  \n",
       "16710    NaN  \n",
       "16711    NaN  \n",
       "16712    NaN  \n",
       "16713    NaN  \n",
       "16714    NaN  \n",
       "\n",
       "[6676 rows x 11 columns]"
      ]
     },
     "execution_count": 22,
     "metadata": {},
     "output_type": "execute_result"
    }
   ],
   "source": [
    "data[data['rating'].isnull()]"
   ]
  },
  {
   "cell_type": "code",
   "execution_count": 23,
   "metadata": {},
   "outputs": [
    {
     "data": {
      "text/plain": [
       "E       3921\n",
       "T       2905\n",
       "M       1536\n",
       "E10+    1393\n",
       "EC         8\n",
       "K-A        3\n",
       "AO         1\n",
       "RP         1\n",
       "Name: rating, dtype: int64"
      ]
     },
     "execution_count": 23,
     "metadata": {},
     "output_type": "execute_result"
    }
   ],
   "source": [
    "data['rating'].value_counts()"
   ]
  },
  {
   "cell_type": "code",
   "execution_count": 24,
   "metadata": {},
   "outputs": [],
   "source": [
    "data['rating']=data['rating'].fillna('RP')"
   ]
  },
  {
   "cell_type": "code",
   "execution_count": 25,
   "metadata": {},
   "outputs": [],
   "source": [
    "data['rating']=data['rating'].replace('K-A', \"E\")"
   ]
  },
  {
   "cell_type": "code",
   "execution_count": 26,
   "metadata": {},
   "outputs": [],
   "source": [
    "data['rating']=data['rating'].replace('EC', 'E')"
   ]
  },
  {
   "cell_type": "code",
   "execution_count": 27,
   "metadata": {},
   "outputs": [],
   "source": [
    "data['rating']=data['rating'].replace('AO', 'M')"
   ]
  },
  {
   "cell_type": "code",
   "execution_count": 28,
   "metadata": {},
   "outputs": [
    {
     "data": {
      "text/plain": [
       "array(['E', 'RP', 'M', 'T', 'E10+'], dtype=object)"
      ]
     },
     "execution_count": 28,
     "metadata": {},
     "output_type": "execute_result"
    }
   ],
   "source": [
    "data['rating'].unique()"
   ]
  },
  {
   "cell_type": "code",
   "execution_count": 29,
   "metadata": {},
   "outputs": [
    {
     "data": {
      "text/plain": [
       "name                  0\n",
       "platform              0\n",
       "year_of_release       0\n",
       "genre                 0\n",
       "na_sales              0\n",
       "eu_sales              0\n",
       "jp_sales              0\n",
       "other_sales           0\n",
       "critic_score       7522\n",
       "user_score         7920\n",
       "rating                0\n",
       "dtype: int64"
      ]
     },
     "execution_count": 29,
     "metadata": {},
     "output_type": "execute_result"
    }
   ],
   "source": [
    "data.isna().sum()"
   ]
  },
  {
   "cell_type": "markdown",
   "metadata": {},
   "source": [
    "Пропуски в столбцах name и year_of_release я решила удалить, так как заменить их нечем и их незначительно мало и на исследование эти данные не повлияют. Часть пропусков в оценке пользователей и оценке критиков я заменила на медианное значение, сгруппировав по названию игры(скорей всего рейтинг по определённой игре мало чем будет отличаться от популярной оценки как пользователей так и критиков). Те пропуски, которые остались решила не трогать, скорей всего эти игры оставили без оценки, отсюда и пропуски. В столбце Rating сократила количество категорий, где это возможно, и NAN заменила на RT-рейтинг не определён."
   ]
  },
  {
   "cell_type": "markdown",
   "metadata": {},
   "source": [
    "### Суммарные продажи по всем регионам"
   ]
  },
  {
   "cell_type": "code",
   "execution_count": 30,
   "metadata": {},
   "outputs": [],
   "source": [
    "data['sum_sales']=data[['na_sales', 'eu_sales', 'jp_sales', 'other_sales']].sum(axis=1)"
   ]
  },
  {
   "cell_type": "code",
   "execution_count": 31,
   "metadata": {
    "scrolled": true
   },
   "outputs": [
    {
     "data": {
      "text/html": [
       "<div>\n",
       "<style scoped>\n",
       "    .dataframe tbody tr th:only-of-type {\n",
       "        vertical-align: middle;\n",
       "    }\n",
       "\n",
       "    .dataframe tbody tr th {\n",
       "        vertical-align: top;\n",
       "    }\n",
       "\n",
       "    .dataframe thead th {\n",
       "        text-align: right;\n",
       "    }\n",
       "</style>\n",
       "<table border=\"1\" class=\"dataframe\">\n",
       "  <thead>\n",
       "    <tr style=\"text-align: right;\">\n",
       "      <th></th>\n",
       "      <th>name</th>\n",
       "      <th>platform</th>\n",
       "      <th>year_of_release</th>\n",
       "      <th>genre</th>\n",
       "      <th>na_sales</th>\n",
       "      <th>eu_sales</th>\n",
       "      <th>jp_sales</th>\n",
       "      <th>other_sales</th>\n",
       "      <th>critic_score</th>\n",
       "      <th>user_score</th>\n",
       "      <th>rating</th>\n",
       "      <th>sum_sales</th>\n",
       "    </tr>\n",
       "  </thead>\n",
       "  <tbody>\n",
       "    <tr>\n",
       "      <th>0</th>\n",
       "      <td>wii sports</td>\n",
       "      <td>wii</td>\n",
       "      <td>2006</td>\n",
       "      <td>sports</td>\n",
       "      <td>41.36</td>\n",
       "      <td>28.96</td>\n",
       "      <td>3.77</td>\n",
       "      <td>8.45</td>\n",
       "      <td>76.0</td>\n",
       "      <td>8.0</td>\n",
       "      <td>E</td>\n",
       "      <td>82.54</td>\n",
       "    </tr>\n",
       "    <tr>\n",
       "      <th>1</th>\n",
       "      <td>super mario bros.</td>\n",
       "      <td>nes</td>\n",
       "      <td>1985</td>\n",
       "      <td>platform</td>\n",
       "      <td>29.08</td>\n",
       "      <td>3.58</td>\n",
       "      <td>6.81</td>\n",
       "      <td>0.77</td>\n",
       "      <td>NaN</td>\n",
       "      <td>NaN</td>\n",
       "      <td>RP</td>\n",
       "      <td>40.24</td>\n",
       "    </tr>\n",
       "    <tr>\n",
       "      <th>2</th>\n",
       "      <td>mario kart wii</td>\n",
       "      <td>wii</td>\n",
       "      <td>2008</td>\n",
       "      <td>racing</td>\n",
       "      <td>15.68</td>\n",
       "      <td>12.76</td>\n",
       "      <td>3.79</td>\n",
       "      <td>3.29</td>\n",
       "      <td>82.0</td>\n",
       "      <td>8.3</td>\n",
       "      <td>E</td>\n",
       "      <td>35.52</td>\n",
       "    </tr>\n",
       "    <tr>\n",
       "      <th>3</th>\n",
       "      <td>wii sports resort</td>\n",
       "      <td>wii</td>\n",
       "      <td>2009</td>\n",
       "      <td>sports</td>\n",
       "      <td>15.61</td>\n",
       "      <td>10.93</td>\n",
       "      <td>3.28</td>\n",
       "      <td>2.95</td>\n",
       "      <td>80.0</td>\n",
       "      <td>8.0</td>\n",
       "      <td>E</td>\n",
       "      <td>32.77</td>\n",
       "    </tr>\n",
       "    <tr>\n",
       "      <th>4</th>\n",
       "      <td>pokemon red/pokemon blue</td>\n",
       "      <td>gb</td>\n",
       "      <td>1996</td>\n",
       "      <td>role-playing</td>\n",
       "      <td>11.27</td>\n",
       "      <td>8.89</td>\n",
       "      <td>10.22</td>\n",
       "      <td>1.00</td>\n",
       "      <td>NaN</td>\n",
       "      <td>NaN</td>\n",
       "      <td>RP</td>\n",
       "      <td>31.38</td>\n",
       "    </tr>\n",
       "  </tbody>\n",
       "</table>\n",
       "</div>"
      ],
      "text/plain": [
       "                       name platform  year_of_release         genre  na_sales  \\\n",
       "0                wii sports      wii             2006        sports     41.36   \n",
       "1         super mario bros.      nes             1985      platform     29.08   \n",
       "2            mario kart wii      wii             2008        racing     15.68   \n",
       "3         wii sports resort      wii             2009        sports     15.61   \n",
       "4  pokemon red/pokemon blue       gb             1996  role-playing     11.27   \n",
       "\n",
       "   eu_sales  jp_sales  other_sales  critic_score  user_score rating  sum_sales  \n",
       "0     28.96      3.77         8.45          76.0         8.0      E      82.54  \n",
       "1      3.58      6.81         0.77           NaN         NaN     RP      40.24  \n",
       "2     12.76      3.79         3.29          82.0         8.3      E      35.52  \n",
       "3     10.93      3.28         2.95          80.0         8.0      E      32.77  \n",
       "4      8.89     10.22         1.00           NaN         NaN     RP      31.38  "
      ]
     },
     "execution_count": 31,
     "metadata": {},
     "output_type": "execute_result"
    }
   ],
   "source": [
    "data.head()"
   ]
  },
  {
   "cell_type": "code",
   "execution_count": 32,
   "metadata": {},
   "outputs": [
    {
     "name": "stdout",
     "output_type": "stream",
     "text": [
      "<class 'pandas.core.frame.DataFrame'>\n",
      "Int64Index: 16444 entries, 0 to 16714\n",
      "Data columns (total 12 columns):\n",
      " #   Column           Non-Null Count  Dtype  \n",
      "---  ------           --------------  -----  \n",
      " 0   name             16444 non-null  object \n",
      " 1   platform         16444 non-null  object \n",
      " 2   year_of_release  16444 non-null  int64  \n",
      " 3   genre            16444 non-null  object \n",
      " 4   na_sales         16444 non-null  float64\n",
      " 5   eu_sales         16444 non-null  float64\n",
      " 6   jp_sales         16444 non-null  float64\n",
      " 7   other_sales      16444 non-null  float64\n",
      " 8   critic_score     8922 non-null   float64\n",
      " 9   user_score       8524 non-null   float64\n",
      " 10  rating           16444 non-null  object \n",
      " 11  sum_sales        16444 non-null  float64\n",
      "dtypes: float64(7), int64(1), object(4)\n",
      "memory usage: 1.6+ MB\n"
     ]
    }
   ],
   "source": [
    "# check\n",
    "data.info()"
   ]
  },
  {
   "cell_type": "markdown",
   "metadata": {},
   "source": [
    "## Исследовательский анализ"
   ]
  },
  {
   "cell_type": "markdown",
   "metadata": {},
   "source": [
    "### Сколко игр выпустилось в разные годы"
   ]
  },
  {
   "cell_type": "code",
   "execution_count": 33,
   "metadata": {},
   "outputs": [
    {
     "data": {
      "image/png": "[encoded data removed]",
      "text/plain": [
       "<Figure size 432x288 with 1 Axes>"
      ]
     },
     "metadata": {
      "needs_background": "light"
     },
     "output_type": "display_data"
    }
   ],
   "source": [
    "(\n",
    "    data.pivot_table(index='year_of_release', values='name', aggfunc='count')\n",
    "    .plot(grid=True, title='Количество игр по годам', xlabel='год выпуска', ylabel='количество игр')\n",
    ")\n",
    "plt.show()"
   ]
  },
  {
   "cell_type": "markdown",
   "metadata": {},
   "source": [
    "Начиная с 90х годов и вплоть до 2008 года наблюдается стабильный рост выпускаемых игр, а начиная с 2008 года выпуск игр стал снижаться. Данные за 1980-1990 не важны, так как в это десятилетие игры выпускались стабильно мало."
   ]
  },
  {
   "cell_type": "markdown",
   "metadata": {},
   "source": [
    "### Продажи по платформам"
   ]
  },
  {
   "cell_type": "code",
   "execution_count": 34,
   "metadata": {},
   "outputs": [
    {
     "data": {
      "text/html": [
       "<div>\n",
       "<style scoped>\n",
       "    .dataframe tbody tr th:only-of-type {\n",
       "        vertical-align: middle;\n",
       "    }\n",
       "\n",
       "    .dataframe tbody tr th {\n",
       "        vertical-align: top;\n",
       "    }\n",
       "\n",
       "    .dataframe thead th {\n",
       "        text-align: right;\n",
       "    }\n",
       "</style>\n",
       "<table border=\"1\" class=\"dataframe\">\n",
       "  <thead>\n",
       "    <tr style=\"text-align: right;\">\n",
       "      <th></th>\n",
       "      <th>sum_sales</th>\n",
       "    </tr>\n",
       "    <tr>\n",
       "      <th>platform</th>\n",
       "      <th></th>\n",
       "    </tr>\n",
       "  </thead>\n",
       "  <tbody>\n",
       "    <tr>\n",
       "      <th>ps2</th>\n",
       "      <td>1233.56</td>\n",
       "    </tr>\n",
       "    <tr>\n",
       "      <th>x360</th>\n",
       "      <td>961.24</td>\n",
       "    </tr>\n",
       "    <tr>\n",
       "      <th>ps3</th>\n",
       "      <td>931.34</td>\n",
       "    </tr>\n",
       "    <tr>\n",
       "      <th>wii</th>\n",
       "      <td>891.18</td>\n",
       "    </tr>\n",
       "    <tr>\n",
       "      <th>ds</th>\n",
       "      <td>802.78</td>\n",
       "    </tr>\n",
       "    <tr>\n",
       "      <th>ps</th>\n",
       "      <td>727.58</td>\n",
       "    </tr>\n",
       "    <tr>\n",
       "      <th>ps4</th>\n",
       "      <td>314.14</td>\n",
       "    </tr>\n",
       "    <tr>\n",
       "      <th>gba</th>\n",
       "      <td>312.88</td>\n",
       "    </tr>\n",
       "    <tr>\n",
       "      <th>psp</th>\n",
       "      <td>289.53</td>\n",
       "    </tr>\n",
       "    <tr>\n",
       "      <th>3ds</th>\n",
       "      <td>257.81</td>\n",
       "    </tr>\n",
       "    <tr>\n",
       "      <th>pc</th>\n",
       "      <td>255.76</td>\n",
       "    </tr>\n",
       "    <tr>\n",
       "      <th>gb</th>\n",
       "      <td>254.43</td>\n",
       "    </tr>\n",
       "    <tr>\n",
       "      <th>xb</th>\n",
       "      <td>251.57</td>\n",
       "    </tr>\n",
       "    <tr>\n",
       "      <th>nes</th>\n",
       "      <td>251.05</td>\n",
       "    </tr>\n",
       "    <tr>\n",
       "      <th>n64</th>\n",
       "      <td>218.01</td>\n",
       "    </tr>\n",
       "    <tr>\n",
       "      <th>snes</th>\n",
       "      <td>200.04</td>\n",
       "    </tr>\n",
       "    <tr>\n",
       "      <th>gc</th>\n",
       "      <td>196.73</td>\n",
       "    </tr>\n",
       "    <tr>\n",
       "      <th>xone</th>\n",
       "      <td>159.32</td>\n",
       "    </tr>\n",
       "    <tr>\n",
       "      <th>2600</th>\n",
       "      <td>86.48</td>\n",
       "    </tr>\n",
       "    <tr>\n",
       "      <th>wiiu</th>\n",
       "      <td>82.19</td>\n",
       "    </tr>\n",
       "    <tr>\n",
       "      <th>psv</th>\n",
       "      <td>53.81</td>\n",
       "    </tr>\n",
       "    <tr>\n",
       "      <th>sat</th>\n",
       "      <td>33.59</td>\n",
       "    </tr>\n",
       "    <tr>\n",
       "      <th>gen</th>\n",
       "      <td>28.35</td>\n",
       "    </tr>\n",
       "    <tr>\n",
       "      <th>dc</th>\n",
       "      <td>15.95</td>\n",
       "    </tr>\n",
       "    <tr>\n",
       "      <th>scd</th>\n",
       "      <td>1.86</td>\n",
       "    </tr>\n",
       "    <tr>\n",
       "      <th>ng</th>\n",
       "      <td>1.44</td>\n",
       "    </tr>\n",
       "    <tr>\n",
       "      <th>ws</th>\n",
       "      <td>1.42</td>\n",
       "    </tr>\n",
       "    <tr>\n",
       "      <th>tg16</th>\n",
       "      <td>0.16</td>\n",
       "    </tr>\n",
       "    <tr>\n",
       "      <th>3do</th>\n",
       "      <td>0.10</td>\n",
       "    </tr>\n",
       "    <tr>\n",
       "      <th>gg</th>\n",
       "      <td>0.04</td>\n",
       "    </tr>\n",
       "    <tr>\n",
       "      <th>pcfx</th>\n",
       "      <td>0.03</td>\n",
       "    </tr>\n",
       "  </tbody>\n",
       "</table>\n",
       "</div>"
      ],
      "text/plain": [
       "          sum_sales\n",
       "platform           \n",
       "ps2         1233.56\n",
       "x360         961.24\n",
       "ps3          931.34\n",
       "wii          891.18\n",
       "ds           802.78\n",
       "ps           727.58\n",
       "ps4          314.14\n",
       "gba          312.88\n",
       "psp          289.53\n",
       "3ds          257.81\n",
       "pc           255.76\n",
       "gb           254.43\n",
       "xb           251.57\n",
       "nes          251.05\n",
       "n64          218.01\n",
       "snes         200.04\n",
       "gc           196.73\n",
       "xone         159.32\n",
       "2600          86.48\n",
       "wiiu          82.19\n",
       "psv           53.81\n",
       "sat           33.59\n",
       "gen           28.35\n",
       "dc            15.95\n",
       "scd            1.86\n",
       "ng             1.44\n",
       "ws             1.42\n",
       "tg16           0.16\n",
       "3do            0.10\n",
       "gg             0.04\n",
       "pcfx           0.03"
      ]
     },
     "execution_count": 34,
     "metadata": {},
     "output_type": "execute_result"
    }
   ],
   "source": [
    "platform_pivot=data.pivot_table(index='platform', values='sum_sales', aggfunc='sum').sort_values(by='sum_sales', ascending=False)\n",
    "platform_pivot"
   ]
  },
  {
   "cell_type": "markdown",
   "metadata": {},
   "source": [
    "Судя по сводной таблице платформы с наибольшими продажами PS2 X360 PS3 Wii DS PS. По этим платформам и построим распределение по годам"
   ]
  },
  {
   "cell_type": "code",
   "execution_count": 35,
   "metadata": {},
   "outputs": [
    {
     "data": {
      "image/png": "[encoded data removed]",
      "text/plain": [
       "<Figure size 1080x360 with 1 Axes>"
      ]
     },
     "metadata": {
      "needs_background": "light"
     },
     "output_type": "display_data"
    }
   ],
   "source": [
    "(\n",
    "   data.query('platform in [\"ps2\", \"x360\", \"ps3\", \"wii\", \"ds\", \"ps\"]').\n",
    "   pivot_table(index='year_of_release', columns='platform', values='sum_sales', aggfunc='sum').\n",
    "   plot(grid=True, figsize=(15,5), title='Жизненный цикл продаж по платформам', xlabel='год выпуска', ylabel='сумма продажи')\n",
    ")\n",
    "plt.show()"
   ]
  },
  {
   "cell_type": "markdown",
   "metadata": {},
   "source": [
    "Судя по графику срок действия платформы 10 лет"
   ]
  },
  {
   "cell_type": "markdown",
   "metadata": {},
   "source": [
    "### Исследование по актуальному периоду"
   ]
  },
  {
   "cell_type": "code",
   "execution_count": 36,
   "metadata": {},
   "outputs": [
    {
     "data": {
      "image/png": "[encoded data removed]",
      "text/plain": [
       "<Figure size 1080x1080 with 1 Axes>"
      ]
     },
     "metadata": {
      "needs_background": "light"
     },
     "output_type": "display_data"
    }
   ],
   "source": [
    "data_new=data.query('year_of_release>=2014')\n",
    "(\n",
    "    data_new.pivot_table(index='year_of_release', columns='platform', values='sum_sales', aggfunc='sum').\n",
    "    plot(grid=True, figsize=(15,15), title='Динамика продаж за 2014-2016')\n",
    ")\n",
    "plt.show()"
   ]
  },
  {
   "cell_type": "code",
   "execution_count": 37,
   "metadata": {},
   "outputs": [
    {
     "data": {
      "image/png": "[encoded data removed]",
      "text/plain": [
       "<Figure size 1080x360 with 1 Axes>"
      ]
     },
     "metadata": {
      "needs_background": "light"
     },
     "output_type": "display_data"
    }
   ],
   "source": [
    "(\n",
    "    data_new.query('platform ==[\"ps4\",\"xone\",\"3ds\",\"ps3\",\"wiiu\",\"pc\"]').\n",
    "    pivot_table(index='year_of_release', columns='platform', values='sum_sales', aggfunc='sum').\n",
    "    plot(figsize=(15,5), grid=True, title='Платформы для анализа за 2014-2016')\n",
    ")\n",
    "plt.show()"
   ]
  },
  {
   "cell_type": "code",
   "execution_count": 38,
   "metadata": {},
   "outputs": [
    {
     "data": {
      "image/png": "[encoded data removed]",
      "text/plain": [
       "<Figure size 1080x360 with 1 Axes>"
      ]
     },
     "metadata": {
      "needs_background": "light"
     },
     "output_type": "display_data"
    }
   ],
   "source": [
    "   ( (\n",
    "    data_new.query('platform ==[\"ps4\",\"xone\",\"3ds\",\"ps3\",\"wiiu\",\"pc\"]').\n",
    "    pivot_table(index='year_of_release', columns='platform', values='sum_sales', aggfunc='sum')\n",
    "    ).\n",
    "    T.\n",
    "    plot(kind = 'barh', figsize=(15,5), title=('Платформы для анализа за 2014-2016'))\n",
    ")\n",
    "plt.show()"
   ]
  },
  {
   "cell_type": "code",
   "execution_count": 40,
   "metadata": {},
   "outputs": [
    {
     "data": {
      "image/png": "[encoded data removed]",
      "text/plain": [
       "<Figure size 1080x720 with 1 Axes>"
      ]
     },
     "metadata": {
      "needs_background": "light"
     },
     "output_type": "display_data"
    }
   ],
   "source": [
    "data_new.boxplot(by='platform', column='sum_sales', figsize=(15,10))\n",
    "plt.xlim(0,11)\n",
    "plt.ylim(0,2)\n",
    "plt.show()"
   ]
  },
  {
   "cell_type": "markdown",
   "metadata": {},
   "source": [
    "Судя по 'ящику с усами' есть большое количество выбросов, их оставлю, так как скорее всего были периоды, когда продажи 'взлетели', думаю для сферы игр это нормально"
   ]
  },
  {
   "cell_type": "code",
   "execution_count": 41,
   "metadata": {},
   "outputs": [
    {
     "data": {
      "image/png": "[encoded data removed]",
      "text/plain": [
       "<Figure size 1080x720 with 1 Axes>"
      ]
     },
     "metadata": {
      "needs_background": "light"
     },
     "output_type": "display_data"
    }
   ],
   "source": [
    "data_new.boxplot(by='platform', column='sum_sales', figsize=(15,10))\n",
    "plt.show()"
   ]
  },
  {
   "cell_type": "markdown",
   "metadata": {},
   "source": [
    "За весь период максимальные продажи были у платформы ps4, на втором месте 3ds"
   ]
  },
  {
   "cell_type": "markdown",
   "metadata": {},
   "source": [
    "### Зависимость продаж от отзывов по платформе PS4 "
   ]
  },
  {
   "cell_type": "code",
   "execution_count": 42,
   "metadata": {},
   "outputs": [
    {
     "data": {
      "image/png": "[encoded data removed]",
      "text/plain": [
       "<Figure size 1080x360 with 1 Axes>"
      ]
     },
     "metadata": {
      "needs_background": "light"
     },
     "output_type": "display_data"
    },
    {
     "name": "stdout",
     "output_type": "stream",
     "text": [
      "Корреляция продаж от оценки критиков 0.23798643302741437\n"
     ]
    }
   ],
   "source": [
    "(\n",
    "  data.query('platform==\"ps4\"').\n",
    "  pivot_table(index='critic_score', values='sum_sales', aggfunc='sum').\n",
    "  plot(grid=True, figsize=(15,5), style='o')\n",
    ")\n",
    "plt.show()\n",
    "print('Корреляция продаж от оценки критиков', data['sum_sales'].corr(data['critic_score']))"
   ]
  },
  {
   "cell_type": "code",
   "execution_count": 43,
   "metadata": {},
   "outputs": [
    {
     "data": {
      "image/png": "[encoded data removed]",
      "text/plain": [
       "<Figure size 1080x360 with 1 Axes>"
      ]
     },
     "metadata": {
      "needs_background": "light"
     },
     "output_type": "display_data"
    },
    {
     "name": "stdout",
     "output_type": "stream",
     "text": [
      "Корреляция продаж от оценки пользователей 0.09197286661764606\n"
     ]
    }
   ],
   "source": [
    "(\n",
    "  data.query('platform==\"ps4\"').\n",
    "  pivot_table(index='user_score', values='sum_sales', aggfunc='sum').\n",
    "  plot(grid=True, figsize=(15,5), style='o')\n",
    ")\n",
    "plt.show()\n",
    "print('Корреляция продаж от оценки пользователей', data['sum_sales'].corr(data['user_score']))"
   ]
  },
  {
   "cell_type": "markdown",
   "metadata": {},
   "source": [
    "Оценки как критиков так и пользователей не влияют на продажи"
   ]
  },
  {
   "cell_type": "markdown",
   "metadata": {},
   "source": [
    "Также сравним вывод с другой популярной платформой XOne"
   ]
  },
  {
   "cell_type": "code",
   "execution_count": 44,
   "metadata": {},
   "outputs": [
    {
     "data": {
      "image/png": "[encoded data removed]",
      "text/plain": [
       "<Figure size 1080x360 with 1 Axes>"
      ]
     },
     "metadata": {
      "needs_background": "light"
     },
     "output_type": "display_data"
    },
    {
     "name": "stdout",
     "output_type": "stream",
     "text": [
      "Корреляция продаж от оценки критиков 0.23798643302741437\n"
     ]
    }
   ],
   "source": [
    "(\n",
    "  data.query('platform==\"xone\"').\n",
    "  pivot_table(index='critic_score', values='sum_sales', aggfunc='sum').\n",
    "  plot(grid=True, figsize=(15,5), style='o')\n",
    ")\n",
    "plt.show()\n",
    "print('Корреляция продаж от оценки критиков', data['sum_sales'].corr(data['critic_score']))"
   ]
  },
  {
   "cell_type": "code",
   "execution_count": 45,
   "metadata": {},
   "outputs": [
    {
     "data": {
      "image/png": "[encoded data removed]",
      "text/plain": [
       "<Figure size 1080x360 with 1 Axes>"
      ]
     },
     "metadata": {
      "needs_background": "light"
     },
     "output_type": "display_data"
    },
    {
     "name": "stdout",
     "output_type": "stream",
     "text": [
      "Корреляция продаж от оценки пользователей 0.09197286661764606\n"
     ]
    }
   ],
   "source": [
    "(\n",
    "  data.query('platform==\"xone\"').\n",
    "  pivot_table(index='user_score', values='sum_sales', aggfunc='sum').\n",
    "  plot(grid=True, figsize=(15,5), style='o')\n",
    ")\n",
    "plt.show()\n",
    "print('Корреляция продаж от оценки пользователей', data['sum_sales'].corr(data['user_score']))"
   ]
  },
  {
   "cell_type": "markdown",
   "metadata": {},
   "source": [
    "### Распределение игр по жанрам"
   ]
  },
  {
   "cell_type": "code",
   "execution_count": 46,
   "metadata": {},
   "outputs": [
    {
     "data": {
      "text/html": [
       "<div>\n",
       "<style scoped>\n",
       "    .dataframe tbody tr th:only-of-type {\n",
       "        vertical-align: middle;\n",
       "    }\n",
       "\n",
       "    .dataframe tbody tr th {\n",
       "        vertical-align: top;\n",
       "    }\n",
       "\n",
       "    .dataframe thead th {\n",
       "        text-align: right;\n",
       "    }\n",
       "</style>\n",
       "<table border=\"1\" class=\"dataframe\">\n",
       "  <thead>\n",
       "    <tr style=\"text-align: right;\">\n",
       "      <th></th>\n",
       "      <th>sum_sales</th>\n",
       "    </tr>\n",
       "    <tr>\n",
       "      <th>genre</th>\n",
       "      <th></th>\n",
       "    </tr>\n",
       "  </thead>\n",
       "  <tbody>\n",
       "    <tr>\n",
       "      <th>action</th>\n",
       "      <td>1716.52</td>\n",
       "    </tr>\n",
       "    <tr>\n",
       "      <th>sports</th>\n",
       "      <td>1309.67</td>\n",
       "    </tr>\n",
       "    <tr>\n",
       "      <th>shooter</th>\n",
       "      <td>1041.36</td>\n",
       "    </tr>\n",
       "    <tr>\n",
       "      <th>role-playing</th>\n",
       "      <td>931.08</td>\n",
       "    </tr>\n",
       "    <tr>\n",
       "      <th>platform</th>\n",
       "      <td>825.55</td>\n",
       "    </tr>\n",
       "    <tr>\n",
       "      <th>misc</th>\n",
       "      <td>790.29</td>\n",
       "    </tr>\n",
       "    <tr>\n",
       "      <th>racing</th>\n",
       "      <td>723.49</td>\n",
       "    </tr>\n",
       "    <tr>\n",
       "      <th>fighting</th>\n",
       "      <td>442.66</td>\n",
       "    </tr>\n",
       "    <tr>\n",
       "      <th>simulation</th>\n",
       "      <td>387.96</td>\n",
       "    </tr>\n",
       "    <tr>\n",
       "      <th>puzzle</th>\n",
       "      <td>239.89</td>\n",
       "    </tr>\n",
       "    <tr>\n",
       "      <th>adventure</th>\n",
       "      <td>233.33</td>\n",
       "    </tr>\n",
       "    <tr>\n",
       "      <th>strategy</th>\n",
       "      <td>172.57</td>\n",
       "    </tr>\n",
       "  </tbody>\n",
       "</table>\n",
       "</div>"
      ],
      "text/plain": [
       "              sum_sales\n",
       "genre                  \n",
       "action          1716.52\n",
       "sports          1309.67\n",
       "shooter         1041.36\n",
       "role-playing     931.08\n",
       "platform         825.55\n",
       "misc             790.29\n",
       "racing           723.49\n",
       "fighting         442.66\n",
       "simulation       387.96\n",
       "puzzle           239.89\n",
       "adventure        233.33\n",
       "strategy         172.57"
      ]
     },
     "execution_count": 46,
     "metadata": {},
     "output_type": "execute_result"
    }
   ],
   "source": [
    "genre_pivot=data.pivot_table(index= 'genre', values='sum_sales', aggfunc='sum').sort_values(by='sum_sales', ascending=False)\n",
    "genre_pivot"
   ]
  },
  {
   "cell_type": "markdown",
   "metadata": {},
   "source": [
    "Самыми прибыльнымия являются игры жанра Action, на последнем месте Strategy"
   ]
  },
  {
   "cell_type": "code",
   "execution_count": 47,
   "metadata": {},
   "outputs": [
    {
     "data": {
      "text/plain": [
       "count      16444\n",
       "unique        12\n",
       "top       action\n",
       "freq        3307\n",
       "Name: genre, dtype: object"
      ]
     },
     "execution_count": 47,
     "metadata": {},
     "output_type": "execute_result"
    },
    {
     "data": {
      "image/png": "[encoded data removed]",
      "text/plain": [
       "<Figure size 1080x360 with 1 Axes>"
      ]
     },
     "metadata": {
      "needs_background": "light"
     },
     "output_type": "display_data"
    },
    {
     "data": {
      "image/png": "[encoded data removed]",
      "text/plain": [
       "<Figure size 1080x360 with 1 Axes>"
      ]
     },
     "metadata": {
      "needs_background": "light"
     },
     "output_type": "display_data"
    }
   ],
   "source": [
    "data_new.boxplot(by='genre', column='sum_sales', figsize=(15,5))\n",
    "plt.ylim(0,40)\n",
    "data_new.boxplot(by='genre', column='sum_sales', figsize=(15,5))\n",
    "plt.ylim(0, 0.9)\n",
    "data['genre'].describe()"
   ]
  },
  {
   "cell_type": "markdown",
   "metadata": {},
   "source": [
    "ВЫВОД:Начиная с 90х годов и вплоть до 2008 года наблюдается стабильный рост выпускаемых игр, а начиная с 2008 года выпуск игр стал снижаться. За все время наиболее высокие продажи наблюдались по платформам ps4\",\"xone\",\"3ds\",\"ps3\",\"wiiu\",\"pc. Для более точных прогнозов взяла ограниченный период с 2014 г. по 2016 г., за последние 2 года самые большие продажи принесли платформы ps4 и xone. Наблюдается также вспышки продаж практически по всем платформам(об этом говорит большое количество выбросов). Также проанализировала влияние оценок пользователей и критиков на продажи, в результате корреляция слабо положительная, это говорит о том что оценки практически не влияют на продажи. Что касается жанров, то за все время наибольшей популярностью пользовался жанр Action, а вот за последние 2 года-стабильные средние продажи у жанров shooter, platform и sports."
   ]
  },
  {
   "cell_type": "markdown",
   "metadata": {},
   "source": [
    "## Портрет пользователя каждого региона"
   ]
  },
  {
   "cell_type": "markdown",
   "metadata": {},
   "source": [
    "### Самые популярные платформы"
   ]
  },
  {
   "cell_type": "code",
   "execution_count": 48,
   "metadata": {},
   "outputs": [
    {
     "data": {
      "image/png": "[encoded data removed]",
      "text/plain": [
       "<Figure size 432x288 with 1 Axes>"
      ]
     },
     "metadata": {
      "needs_background": "light"
     },
     "output_type": "display_data"
    }
   ],
   "source": [
    "top_eu=data_new.groupby('platform')['eu_sales'].sum().sort_values(ascending=False).head()\n",
    "top_eu.plot(grid=True, kind='bar', title='Популярные платформы в Европе')\n",
    "plt.show()"
   ]
  },
  {
   "cell_type": "code",
   "execution_count": 49,
   "metadata": {},
   "outputs": [
    {
     "data": {
      "image/png": "[encoded data removed]",
      "text/plain": [
       "<Figure size 432x288 with 1 Axes>"
      ]
     },
     "metadata": {
      "needs_background": "light"
     },
     "output_type": "display_data"
    }
   ],
   "source": [
    "top_na=data_new.groupby('platform')['na_sales'].sum().sort_values(ascending=False).head()\n",
    "top_na.plot(grid=True, kind='bar', title='Популярные платформы в Северной Америке')\n",
    "plt.show()"
   ]
  },
  {
   "cell_type": "code",
   "execution_count": 50,
   "metadata": {},
   "outputs": [
    {
     "data": {
      "image/png": "[encoded data removed]",
      "text/plain": [
       "<Figure size 432x288 with 1 Axes>"
      ]
     },
     "metadata": {
      "needs_background": "light"
     },
     "output_type": "display_data"
    }
   ],
   "source": [
    "top_jp=data_new.groupby('platform')['jp_sales'].sum().sort_values(ascending=False).head()\n",
    "top_jp.plot(grid=True, kind='bar', title='Популярные платформы в Японии')\n",
    "plt.show()"
   ]
  },
  {
   "cell_type": "markdown",
   "metadata": {},
   "source": [
    "Самые большие продажи в Северной Америке, на 2ом месте Европа, меньше всего интересуются играми в Японии"
   ]
  },
  {
   "cell_type": "code",
   "execution_count": 51,
   "metadata": {},
   "outputs": [
    {
     "data": {
      "image/png": "[encoded data removed]",
      "text/plain": [
       "<Figure size 1080x360 with 3 Axes>"
      ]
     },
     "metadata": {},
     "output_type": "display_data"
    }
   ],
   "source": [
    "plt.subplot(1,3,1)\n",
    "top_eu.plot(kind='pie', title='Популярность платформ в Европе', figsize= (15,5), autopct='%.1f')\n",
    "plt.subplot(1,3,2)\n",
    "top_na.plot(kind='pie', title='Популярность платформ в Северной Америке', autopct='%.1f')\n",
    "plt.subplot(1,3,3)\n",
    "top_jp.plot(kind='pie', title='Популярность платформ в Японии', autopct='%.1f')\n",
    "plt.show()"
   ]
  },
  {
   "cell_type": "markdown",
   "metadata": {},
   "source": [
    "### Самые популярные жанры"
   ]
  },
  {
   "cell_type": "code",
   "execution_count": 52,
   "metadata": {},
   "outputs": [
    {
     "data": {
      "image/png": "[encoded data removed]",
      "text/plain": [
       "<Figure size 432x288 with 1 Axes>"
      ]
     },
     "metadata": {
      "needs_background": "light"
     },
     "output_type": "display_data"
    }
   ],
   "source": [
    "top_eu_genre=data_new.groupby('genre')['eu_sales'].sum().sort_values(ascending=False).head()\n",
    "top_eu_genre.plot(grid=True, kind='bar', title='Популярные жанры в Европе')\n",
    "plt.show()"
   ]
  },
  {
   "cell_type": "code",
   "execution_count": 53,
   "metadata": {},
   "outputs": [
    {
     "data": {
      "image/png": "[encoded data removed]",
      "text/plain": [
       "<Figure size 432x288 with 1 Axes>"
      ]
     },
     "metadata": {
      "needs_background": "light"
     },
     "output_type": "display_data"
    }
   ],
   "source": [
    "top_na_genre=data_new.groupby('genre')['na_sales'].sum().sort_values(ascending=False).head()\n",
    "top_na_genre.plot(grid=True, kind='bar', title='Популярные жанры в Северной Америке')\n",
    "plt.show()"
   ]
  },
  {
   "cell_type": "code",
   "execution_count": 54,
   "metadata": {},
   "outputs": [
    {
     "data": {
      "image/png": "[encoded data removed]",
      "text/plain": [
       "<Figure size 432x288 with 1 Axes>"
      ]
     },
     "metadata": {
      "needs_background": "light"
     },
     "output_type": "display_data"
    }
   ],
   "source": [
    "top_jp_genre=data_new.groupby('genre')['jp_sales'].sum().sort_values(ascending=False).head()\n",
    "top_jp_genre.plot(grid=True, kind='bar', title='Популярные жанры в Японии')\n",
    "plt.show()"
   ]
  },
  {
   "cell_type": "markdown",
   "metadata": {},
   "source": [
    "Самым популярным жанром в Америке и Европе является Action, а вот в Японии-'Role-Playing' (Action только на втором месте, и почти в 2 раза продаж меньше)"
   ]
  },
  {
   "cell_type": "code",
   "execution_count": 55,
   "metadata": {},
   "outputs": [
    {
     "data": {
      "image/png": "[encoded data removed]",
      "text/plain": [
       "<Figure size 1080x360 with 3 Axes>"
      ]
     },
     "metadata": {},
     "output_type": "display_data"
    }
   ],
   "source": [
    "plt.subplot(1,3,1)\n",
    "top_eu_genre.plot(kind='pie', title='Популярные жанры в Европе',figsize= (15,5), autopct='%.1f')\n",
    "plt.subplot(1,3,2)\n",
    "top_na_genre.plot(kind='pie', title='Популярные жанры в Северной Америке', autopct='%.1f')\n",
    "plt.subplot(1,3,3)\n",
    "top_jp_genre.plot(kind='pie', title='Популярные жанры в Японии', autopct='%.1f')\n",
    "plt.show()"
   ]
  },
  {
   "cell_type": "markdown",
   "metadata": {},
   "source": [
    "### Влияет ли рейтинг на продажи в отдельном регионе"
   ]
  },
  {
   "cell_type": "code",
   "execution_count": 57,
   "metadata": {},
   "outputs": [
    {
     "data": {
      "image/png": "[encoded data removed]",
      "text/plain": [
       "<Figure size 432x288 with 1 Axes>"
      ]
     },
     "metadata": {
      "needs_background": "light"
     },
     "output_type": "display_data"
    }
   ],
   "source": [
    "eu_rating=data_new.groupby('rating')['eu_sales'].sum()\n",
    "eu_rating.plot(grid=True, kind='bar', title='Рейтинг Европы')\n",
    "plt.show()"
   ]
  },
  {
   "cell_type": "code",
   "execution_count": 58,
   "metadata": {},
   "outputs": [
    {
     "data": {
      "image/png": "[encoded data removed]",
      "text/plain": [
       "<Figure size 432x288 with 1 Axes>"
      ]
     },
     "metadata": {
      "needs_background": "light"
     },
     "output_type": "display_data"
    }
   ],
   "source": [
    "na_rating=data_new.groupby('rating')['na_sales'].sum()\n",
    "na_rating.plot(grid=True, kind='bar', title='Рейтинг Северной Америки')\n",
    "plt.show()"
   ]
  },
  {
   "cell_type": "code",
   "execution_count": 59,
   "metadata": {},
   "outputs": [
    {
     "data": {
      "image/png": "[encoded data removed]",
      "text/plain": [
       "<Figure size 432x288 with 1 Axes>"
      ]
     },
     "metadata": {
      "needs_background": "light"
     },
     "output_type": "display_data"
    }
   ],
   "source": [
    "jp_rating=data_new.groupby('rating')['jp_sales'].sum()\n",
    "jp_rating.plot(grid=True, kind='bar', title='Рейтинг Японии')\n",
    "plt.show()"
   ]
  },
  {
   "cell_type": "markdown",
   "metadata": {},
   "source": [
    "\n",
    "1. Портрет пользователя Европы:самые популярные платформы-PS4, XOne, PC, 3DS, PS3, причем более 50% приходится на PS4; европейцы больше всего предпочитают жанр Action, shooter и sports; рейтинг M.\n",
    "\n",
    "2. Портрет пользователя Северной Америки: самые популярные платформы-PS4, XOne,3DS, WiiU, X360; американцы  больше всего предпочитают жанр shotter, action и sports; рейтинг M.\n",
    "\n",
    "3. Портрет пользователя Япони: самые популярные платформы- 3DS, PS4, PSV, PS3, WiiU; японцы больше всего предпочитают жанр Role-Playing  и только на втором месте Action; рейтинг RT"
   ]
  },
  {
   "cell_type": "markdown",
   "metadata": {},
   "source": [
    "## Проверка гипотез"
   ]
  },
  {
   "cell_type": "markdown",
   "metadata": {},
   "source": [
    "H0: Средние пользовательские рейтинги платформ Xbox One и PC равны\n",
    "\n",
    "H1: Средние пользовательские рейтинги платформ Xbox One и PC не равны"
   ]
  },
  {
   "cell_type": "code",
   "execution_count": 60,
   "metadata": {
    "scrolled": true
   },
   "outputs": [
    {
     "name": "stdout",
     "output_type": "stream",
     "text": [
      "0.03148460939794486\n",
      "Отвергаем нулевую гипотезу\n"
     ]
    }
   ],
   "source": [
    "xbox=data_new.loc[(data_new.platform == 'xone')&(data_new.user_score>0)]['user_score']\n",
    "pc=data_new.loc[(data_new.platform == \"pc\")&(data_new.user_score>0)]['user_score']\n",
    "results=st.ttest_ind(\n",
    "    pc,\n",
    "    xbox)\n",
    "alpha=0.05\n",
    "print(results.pvalue)\n",
    "if results.pvalue<alpha:\n",
    "    print('Отвергаем нулевую гипотезу')\n",
    "else:\n",
    "    print('Не получилось отвергнуть нулевую гипотезу')\n"
   ]
  },
  {
   "cell_type": "code",
   "execution_count": 61,
   "metadata": {},
   "outputs": [
    {
     "name": "stdout",
     "output_type": "stream",
     "text": [
      "5.851091975884789e-24\n",
      "Отвергаем нулевую гипотезу\n"
     ]
    }
   ],
   "source": [
    "action=data_new.loc[(data_new.genre == 'action')&(data_new.user_score>0)]['user_score']\n",
    "sports=data_new.loc[(data_new.genre == 'sports')&(data_new.user_score>0)]['user_score']\n",
    "results=st.ttest_ind(action,sports)\n",
    "alpha=0.05\n",
    "print(results.pvalue)\n",
    "if results.pvalue<alpha:\n",
    "    print('Отвергаем нулевую гипотезу')\n",
    "else:\n",
    "    print('Не получилось отвергнуть нулевую гипотезу')\n"
   ]
  },
  {
   "cell_type": "code",
   "execution_count": 62,
   "metadata": {},
   "outputs": [
    {
     "name": "stdout",
     "output_type": "stream",
     "text": [
      "p-значение: 0.1912450522572209\n",
      "Не получилось отвергнуть нулевую гипотезу\n"
     ]
    }
   ],
   "source": [
    "sample_1 = [3071, 3636, 3454, 3151, 2185, 3259, 1727, 2263, 2015,\n",
    "2582, 4815, 633, 3186, 887, 2028, 3589, 2564, 1422, 1785,\n",
    "3180, 1770, 2716, 2546, 1848, 4644, 3134, 475, 2686,\n",
    "1838, 3352]\n",
    "sample_2 = [1211, 1228, 2157, 3699, 600, 1898, 1688, 1420, 5048, 3007,\n",
    "509, 3777, 5583, 3949, 121, 1674, 4300, 1338, 3066,\n",
    "3562, 1010, 2311, 462, 863, 2021, 528, 1849, 255,\n",
    "1740, 2596]\n",
    "alpha = .05 \n",
    "results = st.ttest_ind(\n",
    "sample_1,\n",
    "sample_2)\n",
    "print('p-значение:', results.pvalue)\n",
    "if (results.pvalue < alpha):\n",
    "    print(\"Отвергаем нулевую гипотезу\")\n",
    "else:\n",
    "\n",
    "    print(\"Не получилось отвергнуть нулевую гипотезу\")"
   ]
  },
  {
   "cell_type": "markdown",
   "metadata": {},
   "source": [
    "## ВЫВОД"
   ]
  },
  {
   "cell_type": "markdown",
   "metadata": {},
   "source": [
    "ВЫВОД: Регион продаж является одним из важнейших критериев. Больше всего игр продаётся в Северной Америке, в Японии не так популярны игры. \n",
    "    За последние 2 года самыми популярными платформами стали \"ps4\",\"xone\",\"3ds\",\"ps3\",\"wiiu\",\"pc\". На общем фоне выделились ps4 и хоne для Европы и Северной Америки. В Японии же ps4 (23%)только на втором месте, 44% от общего количества продаж занимает платформа 3ds.\n",
    "    Также удалось проанализировать популярность жанров в каждом регионе запериод 2014-2016 гг. Для Европы лилидирует жанрдирует жанр Action, чуть меньше продаж в жанре Shooter, и на 3ем месте Sports. Для Северной Америки лидирует Shooter, Action принёс чуть меньше продаж и на 3ем месте также Sports. В Японии картина другая: здесь лидирует жанр Role-playing, Action на втором месте, а вот на третьем жанр Fighting.\n",
    "    В Европе и Северной Амереке лидируют игры для взрослых(рейтинг М), а вот в Японии лидируют продажи с неопределённым рейтингом."
   ]
  }
 ],
 "metadata": {
  "ExecuteTimeLog": [
   {
    "duration": 932,
    "start_time": "2022-10-17T11:19:34.277Z"
   },
   {
    "duration": 53,
    "start_time": "2022-10-17T11:20:10.846Z"
   },
   {
    "duration": 54,
    "start_time": "2022-10-17T11:21:34.665Z"
   },
   {
    "duration": 13,
    "start_time": "2022-10-17T11:22:34.282Z"
   },
   {
    "duration": 6,
    "start_time": "2022-10-17T11:35:39.792Z"
   },
   {
    "duration": 75,
    "start_time": "2022-10-17T11:42:56.842Z"
   },
   {
    "duration": 73,
    "start_time": "2022-10-17T11:46:28.107Z"
   },
   {
    "duration": 78,
    "start_time": "2022-10-17T11:46:37.458Z"
   },
   {
    "duration": 73,
    "start_time": "2022-10-17T11:47:21.522Z"
   },
   {
    "duration": 90,
    "start_time": "2022-10-17T11:49:26.452Z"
   },
   {
    "duration": 5,
    "start_time": "2022-10-17T11:49:38.707Z"
   },
   {
    "duration": 4,
    "start_time": "2022-10-17T11:49:49.785Z"
   },
   {
    "duration": 12,
    "start_time": "2022-10-17T11:59:31.790Z"
   },
   {
    "duration": 7,
    "start_time": "2022-10-17T12:00:41.326Z"
   },
   {
    "duration": 5,
    "start_time": "2022-10-17T12:02:29.705Z"
   },
   {
    "duration": 5,
    "start_time": "2022-10-17T12:02:46.680Z"
   },
   {
    "duration": 13,
    "start_time": "2022-10-17T12:03:40.594Z"
   },
   {
    "duration": 11,
    "start_time": "2022-10-17T12:05:46.777Z"
   },
   {
    "duration": 14,
    "start_time": "2022-10-17T12:13:32.455Z"
   },
   {
    "duration": 1800,
    "start_time": "2022-10-17T12:15:13.660Z"
   },
   {
    "duration": 5,
    "start_time": "2022-10-17T12:15:37.557Z"
   },
   {
    "duration": 9,
    "start_time": "2022-10-17T12:16:02.906Z"
   },
   {
    "duration": 5,
    "start_time": "2022-10-17T12:16:14.310Z"
   },
   {
    "duration": 5,
    "start_time": "2022-10-17T12:16:30.285Z"
   },
   {
    "duration": 5,
    "start_time": "2022-10-17T12:16:46.064Z"
   },
   {
    "duration": 8,
    "start_time": "2022-10-17T12:25:42.249Z"
   },
   {
    "duration": 8,
    "start_time": "2022-10-17T12:26:12.659Z"
   },
   {
    "duration": 13,
    "start_time": "2022-10-17T12:26:24.446Z"
   },
   {
    "duration": 5,
    "start_time": "2022-10-17T12:27:10.328Z"
   },
   {
    "duration": 5,
    "start_time": "2022-10-17T12:27:41.392Z"
   },
   {
    "duration": 8,
    "start_time": "2022-10-17T12:35:56.955Z"
   },
   {
    "duration": 3,
    "start_time": "2022-10-17T12:36:40.601Z"
   },
   {
    "duration": 4,
    "start_time": "2022-10-17T12:36:44.060Z"
   },
   {
    "duration": 13,
    "start_time": "2022-10-17T12:41:07.310Z"
   },
   {
    "duration": 9,
    "start_time": "2022-10-17T12:49:58.723Z"
   },
   {
    "duration": 9,
    "start_time": "2022-10-17T13:02:50.528Z"
   },
   {
    "duration": 25,
    "start_time": "2022-10-17T13:02:58.704Z"
   },
   {
    "duration": 8,
    "start_time": "2022-10-17T13:03:12.105Z"
   },
   {
    "duration": 16848,
    "start_time": "2022-10-17T13:12:34.343Z"
   },
   {
    "duration": 8,
    "start_time": "2022-10-17T13:12:58.325Z"
   },
   {
    "duration": 14,
    "start_time": "2022-10-17T13:14:26.636Z"
   },
   {
    "duration": 4,
    "start_time": "2022-10-17T13:14:29.459Z"
   },
   {
    "duration": 10,
    "start_time": "2022-10-17T13:14:42.630Z"
   },
   {
    "duration": 1633,
    "start_time": "2022-10-17T13:15:38.126Z"
   },
   {
    "duration": 54,
    "start_time": "2022-10-17T13:15:58.198Z"
   },
   {
    "duration": 11,
    "start_time": "2022-10-17T13:15:58.254Z"
   },
   {
    "duration": 4,
    "start_time": "2022-10-17T13:15:58.267Z"
   },
   {
    "duration": 6,
    "start_time": "2022-10-17T13:15:58.272Z"
   },
   {
    "duration": 10,
    "start_time": "2022-10-17T13:15:58.280Z"
   },
   {
    "duration": 9,
    "start_time": "2022-10-17T13:15:58.291Z"
   },
   {
    "duration": 17,
    "start_time": "2022-10-17T13:15:58.301Z"
   },
   {
    "duration": 17,
    "start_time": "2022-10-17T13:15:58.319Z"
   },
   {
    "duration": 8,
    "start_time": "2022-10-17T13:15:58.338Z"
   },
   {
    "duration": 6,
    "start_time": "2022-10-17T13:15:58.348Z"
   },
   {
    "duration": 5,
    "start_time": "2022-10-17T13:15:58.355Z"
   },
   {
    "duration": 13,
    "start_time": "2022-10-17T13:15:58.361Z"
   },
   {
    "duration": 47,
    "start_time": "2022-10-19T10:26:31.188Z"
   },
   {
    "duration": 924,
    "start_time": "2022-10-19T10:26:40.861Z"
   },
   {
    "duration": 14,
    "start_time": "2022-10-19T10:26:41.787Z"
   },
   {
    "duration": 6,
    "start_time": "2022-10-19T10:26:41.802Z"
   },
   {
    "duration": 7,
    "start_time": "2022-10-19T10:26:41.809Z"
   },
   {
    "duration": 12,
    "start_time": "2022-10-19T10:26:41.818Z"
   },
   {
    "duration": 17,
    "start_time": "2022-10-19T10:26:41.832Z"
   },
   {
    "duration": 10,
    "start_time": "2022-10-19T10:26:41.851Z"
   },
   {
    "duration": 16,
    "start_time": "2022-10-19T10:26:41.863Z"
   },
   {
    "duration": 10,
    "start_time": "2022-10-19T10:26:41.881Z"
   },
   {
    "duration": 13,
    "start_time": "2022-10-19T10:26:41.892Z"
   },
   {
    "duration": 7,
    "start_time": "2022-10-19T10:26:41.907Z"
   },
   {
    "duration": 127,
    "start_time": "2022-10-19T10:26:41.915Z"
   },
   {
    "duration": 4090,
    "start_time": "2022-10-19T10:27:15.978Z"
   },
   {
    "duration": 8,
    "start_time": "2022-10-19T10:27:44.380Z"
   },
   {
    "duration": 13,
    "start_time": "2022-10-19T10:30:46.926Z"
   },
   {
    "duration": 6,
    "start_time": "2022-10-19T10:31:02.784Z"
   },
   {
    "duration": 11,
    "start_time": "2022-10-19T10:31:22.168Z"
   },
   {
    "duration": 8,
    "start_time": "2022-10-19T10:32:48.791Z"
   },
   {
    "duration": 58,
    "start_time": "2022-10-19T10:40:06.285Z"
   },
   {
    "duration": 12,
    "start_time": "2022-10-19T10:40:06.345Z"
   },
   {
    "duration": 4,
    "start_time": "2022-10-19T10:40:06.359Z"
   },
   {
    "duration": 8,
    "start_time": "2022-10-19T10:40:06.364Z"
   },
   {
    "duration": 8,
    "start_time": "2022-10-19T10:40:06.373Z"
   },
   {
    "duration": 16,
    "start_time": "2022-10-19T10:40:06.382Z"
   },
   {
    "duration": 23,
    "start_time": "2022-10-19T10:40:06.399Z"
   },
   {
    "duration": 14,
    "start_time": "2022-10-19T10:40:06.424Z"
   },
   {
    "duration": 7,
    "start_time": "2022-10-19T10:40:06.440Z"
   },
   {
    "duration": 8,
    "start_time": "2022-10-19T10:40:06.449Z"
   },
   {
    "duration": 9,
    "start_time": "2022-10-19T10:40:06.459Z"
   },
   {
    "duration": 16214,
    "start_time": "2022-10-19T10:40:06.470Z"
   },
   {
    "duration": 8,
    "start_time": "2022-10-19T10:40:38.604Z"
   },
   {
    "duration": 16217,
    "start_time": "2022-10-19T10:41:10.609Z"
   },
   {
    "duration": 15980,
    "start_time": "2022-10-19T10:43:26.601Z"
   },
   {
    "duration": 1269,
    "start_time": "2022-10-19T11:04:05.906Z"
   },
   {
    "duration": 5,
    "start_time": "2022-10-19T11:04:24.564Z"
   },
   {
    "duration": 1363,
    "start_time": "2022-10-19T11:15:11.253Z"
   },
   {
    "duration": 6,
    "start_time": "2022-10-19T11:15:33.042Z"
   },
   {
    "duration": 17,
    "start_time": "2022-10-19T11:15:43.201Z"
   },
   {
    "duration": 58,
    "start_time": "2022-10-19T11:16:44.709Z"
   },
   {
    "duration": 14,
    "start_time": "2022-10-19T11:16:44.769Z"
   },
   {
    "duration": 7,
    "start_time": "2022-10-19T11:16:44.785Z"
   },
   {
    "duration": 9,
    "start_time": "2022-10-19T11:16:44.793Z"
   },
   {
    "duration": 8,
    "start_time": "2022-10-19T11:16:44.805Z"
   },
   {
    "duration": 65,
    "start_time": "2022-10-19T11:16:44.815Z"
   },
   {
    "duration": 0,
    "start_time": "2022-10-19T11:16:44.882Z"
   },
   {
    "duration": 0,
    "start_time": "2022-10-19T11:16:44.883Z"
   },
   {
    "duration": 0,
    "start_time": "2022-10-19T11:16:44.884Z"
   },
   {
    "duration": 0,
    "start_time": "2022-10-19T11:16:44.885Z"
   },
   {
    "duration": 0,
    "start_time": "2022-10-19T11:16:44.886Z"
   },
   {
    "duration": 0,
    "start_time": "2022-10-19T11:16:44.887Z"
   },
   {
    "duration": 0,
    "start_time": "2022-10-19T11:16:44.889Z"
   },
   {
    "duration": 0,
    "start_time": "2022-10-19T11:16:44.890Z"
   },
   {
    "duration": 0,
    "start_time": "2022-10-19T11:16:44.891Z"
   },
   {
    "duration": 0,
    "start_time": "2022-10-19T11:16:44.892Z"
   },
   {
    "duration": 53,
    "start_time": "2022-10-19T11:17:08.090Z"
   },
   {
    "duration": 11,
    "start_time": "2022-10-19T11:17:08.145Z"
   },
   {
    "duration": 29,
    "start_time": "2022-10-19T11:17:08.157Z"
   },
   {
    "duration": 18,
    "start_time": "2022-10-19T11:17:08.188Z"
   },
   {
    "duration": 17,
    "start_time": "2022-10-19T11:17:08.209Z"
   },
   {
    "duration": 24,
    "start_time": "2022-10-19T11:17:08.228Z"
   },
   {
    "duration": 0,
    "start_time": "2022-10-19T11:17:08.254Z"
   },
   {
    "duration": 0,
    "start_time": "2022-10-19T11:17:08.254Z"
   },
   {
    "duration": 0,
    "start_time": "2022-10-19T11:17:08.255Z"
   },
   {
    "duration": 0,
    "start_time": "2022-10-19T11:17:08.257Z"
   },
   {
    "duration": 0,
    "start_time": "2022-10-19T11:17:08.257Z"
   },
   {
    "duration": 0,
    "start_time": "2022-10-19T11:17:08.258Z"
   },
   {
    "duration": 0,
    "start_time": "2022-10-19T11:17:08.260Z"
   },
   {
    "duration": 0,
    "start_time": "2022-10-19T11:17:08.260Z"
   },
   {
    "duration": 0,
    "start_time": "2022-10-19T11:17:08.261Z"
   },
   {
    "duration": 0,
    "start_time": "2022-10-19T11:17:08.262Z"
   },
   {
    "duration": 63,
    "start_time": "2022-10-19T11:18:34.268Z"
   },
   {
    "duration": 13,
    "start_time": "2022-10-19T11:18:34.333Z"
   },
   {
    "duration": 6,
    "start_time": "2022-10-19T11:18:34.347Z"
   },
   {
    "duration": 8,
    "start_time": "2022-10-19T11:18:34.355Z"
   },
   {
    "duration": 7,
    "start_time": "2022-10-19T11:18:34.365Z"
   },
   {
    "duration": 11,
    "start_time": "2022-10-19T11:18:34.374Z"
   },
   {
    "duration": 22,
    "start_time": "2022-10-19T11:18:34.387Z"
   },
   {
    "duration": 13,
    "start_time": "2022-10-19T11:18:34.422Z"
   },
   {
    "duration": 8,
    "start_time": "2022-10-19T11:18:34.437Z"
   },
   {
    "duration": 17,
    "start_time": "2022-10-19T11:18:34.447Z"
   },
   {
    "duration": 0,
    "start_time": "2022-10-19T11:18:34.466Z"
   },
   {
    "duration": 0,
    "start_time": "2022-10-19T11:18:34.467Z"
   },
   {
    "duration": 0,
    "start_time": "2022-10-19T11:18:34.469Z"
   },
   {
    "duration": 0,
    "start_time": "2022-10-19T11:18:34.471Z"
   },
   {
    "duration": 0,
    "start_time": "2022-10-19T11:18:34.473Z"
   },
   {
    "duration": 56,
    "start_time": "2022-10-19T11:20:00.272Z"
   },
   {
    "duration": 13,
    "start_time": "2022-10-19T11:20:00.330Z"
   },
   {
    "duration": 26,
    "start_time": "2022-10-19T11:20:00.344Z"
   },
   {
    "duration": 19,
    "start_time": "2022-10-19T11:20:00.372Z"
   },
   {
    "duration": 16,
    "start_time": "2022-10-19T11:20:00.393Z"
   },
   {
    "duration": 20,
    "start_time": "2022-10-19T11:20:00.410Z"
   },
   {
    "duration": 33,
    "start_time": "2022-10-19T11:20:00.431Z"
   },
   {
    "duration": 18,
    "start_time": "2022-10-19T11:20:00.466Z"
   },
   {
    "duration": 17,
    "start_time": "2022-10-19T11:20:00.485Z"
   },
   {
    "duration": 49,
    "start_time": "2022-10-19T11:20:00.505Z"
   },
   {
    "duration": 55,
    "start_time": "2022-10-19T11:21:22.878Z"
   },
   {
    "duration": 12,
    "start_time": "2022-10-19T11:21:22.935Z"
   },
   {
    "duration": 22,
    "start_time": "2022-10-19T11:21:22.949Z"
   },
   {
    "duration": 13,
    "start_time": "2022-10-19T11:21:22.974Z"
   },
   {
    "duration": 16,
    "start_time": "2022-10-19T11:21:22.989Z"
   },
   {
    "duration": 12,
    "start_time": "2022-10-19T11:21:23.006Z"
   },
   {
    "duration": 17,
    "start_time": "2022-10-19T11:21:23.019Z"
   },
   {
    "duration": 11,
    "start_time": "2022-10-19T11:21:23.038Z"
   },
   {
    "duration": 14,
    "start_time": "2022-10-19T11:21:23.051Z"
   },
   {
    "duration": 11,
    "start_time": "2022-10-19T11:21:23.067Z"
   },
   {
    "duration": 7,
    "start_time": "2022-10-19T11:21:56.328Z"
   },
   {
    "duration": 16,
    "start_time": "2022-10-19T11:21:56.336Z"
   },
   {
    "duration": 16454,
    "start_time": "2022-10-19T11:21:56.354Z"
   },
   {
    "duration": 16580,
    "start_time": "2022-10-19T11:22:12.810Z"
   },
   {
    "duration": 7,
    "start_time": "2022-10-19T11:22:29.392Z"
   },
   {
    "duration": 8,
    "start_time": "2022-10-19T11:48:51.290Z"
   },
   {
    "duration": 9,
    "start_time": "2022-10-19T11:49:01.767Z"
   },
   {
    "duration": 6,
    "start_time": "2022-10-19T11:49:16.263Z"
   },
   {
    "duration": 138,
    "start_time": "2022-10-19T11:53:27.662Z"
   },
   {
    "duration": 137,
    "start_time": "2022-10-19T11:57:49.996Z"
   },
   {
    "duration": 55,
    "start_time": "2022-10-19T12:07:13.292Z"
   },
   {
    "duration": 12,
    "start_time": "2022-10-19T12:07:13.348Z"
   },
   {
    "duration": 7,
    "start_time": "2022-10-19T12:07:13.361Z"
   },
   {
    "duration": 7,
    "start_time": "2022-10-19T12:07:13.370Z"
   },
   {
    "duration": 11,
    "start_time": "2022-10-19T12:07:13.379Z"
   },
   {
    "duration": 10,
    "start_time": "2022-10-19T12:07:13.392Z"
   },
   {
    "duration": 19,
    "start_time": "2022-10-19T12:07:13.404Z"
   },
   {
    "duration": 9,
    "start_time": "2022-10-19T12:07:13.424Z"
   },
   {
    "duration": 7,
    "start_time": "2022-10-19T12:07:13.434Z"
   },
   {
    "duration": 7,
    "start_time": "2022-10-19T12:07:13.444Z"
   },
   {
    "duration": 16247,
    "start_time": "2022-10-19T12:07:13.452Z"
   },
   {
    "duration": 16271,
    "start_time": "2022-10-19T12:07:29.701Z"
   },
   {
    "duration": 8,
    "start_time": "2022-10-19T12:07:45.973Z"
   },
   {
    "duration": 9,
    "start_time": "2022-10-19T12:07:45.983Z"
   },
   {
    "duration": 30,
    "start_time": "2022-10-19T12:07:45.994Z"
   },
   {
    "duration": 212,
    "start_time": "2022-10-19T12:07:46.027Z"
   },
   {
    "duration": 145,
    "start_time": "2022-10-19T12:07:46.240Z"
   },
   {
    "duration": 68,
    "start_time": "2022-10-19T12:08:09.312Z"
   },
   {
    "duration": 59,
    "start_time": "2022-10-19T12:08:17.669Z"
   },
   {
    "duration": 12,
    "start_time": "2022-10-19T12:08:17.730Z"
   },
   {
    "duration": 4,
    "start_time": "2022-10-19T12:08:17.744Z"
   },
   {
    "duration": 5,
    "start_time": "2022-10-19T12:08:17.751Z"
   },
   {
    "duration": 12,
    "start_time": "2022-10-19T12:08:17.758Z"
   },
   {
    "duration": 11,
    "start_time": "2022-10-19T12:08:17.772Z"
   },
   {
    "duration": 25,
    "start_time": "2022-10-19T12:08:17.785Z"
   },
   {
    "duration": 8,
    "start_time": "2022-10-19T12:08:17.822Z"
   },
   {
    "duration": 7,
    "start_time": "2022-10-19T12:08:17.832Z"
   },
   {
    "duration": 6,
    "start_time": "2022-10-19T12:08:17.841Z"
   },
   {
    "duration": 17000,
    "start_time": "2022-10-19T12:08:17.849Z"
   },
   {
    "duration": 18409,
    "start_time": "2022-10-19T12:08:34.850Z"
   },
   {
    "duration": 8,
    "start_time": "2022-10-19T12:08:53.261Z"
   },
   {
    "duration": 10,
    "start_time": "2022-10-19T12:08:53.270Z"
   },
   {
    "duration": 19,
    "start_time": "2022-10-19T12:08:53.281Z"
   },
   {
    "duration": 154,
    "start_time": "2022-10-19T12:08:53.301Z"
   },
   {
    "duration": 444,
    "start_time": "2022-10-19T12:08:53.457Z"
   },
   {
    "duration": 574,
    "start_time": "2022-10-19T12:13:14.700Z"
   },
   {
    "duration": 123,
    "start_time": "2022-10-19T12:14:15.841Z"
   },
   {
    "duration": 91,
    "start_time": "2022-10-19T12:17:31.034Z"
   },
   {
    "duration": 63,
    "start_time": "2022-10-19T12:17:37.358Z"
   },
   {
    "duration": 103,
    "start_time": "2022-10-19T12:17:54.187Z"
   },
   {
    "duration": 142,
    "start_time": "2022-10-19T12:18:10.998Z"
   },
   {
    "duration": 187,
    "start_time": "2022-10-19T13:20:27.679Z"
   },
   {
    "duration": 9,
    "start_time": "2022-10-19T13:21:08.023Z"
   },
   {
    "duration": 5,
    "start_time": "2022-10-19T13:21:14.962Z"
   },
   {
    "duration": 80,
    "start_time": "2022-10-19T13:22:13.491Z"
   },
   {
    "duration": 180,
    "start_time": "2022-10-19T13:22:21.654Z"
   },
   {
    "duration": 140,
    "start_time": "2022-10-19T13:27:42.744Z"
   },
   {
    "duration": 340,
    "start_time": "2022-10-19T13:28:17.520Z"
   },
   {
    "duration": 153,
    "start_time": "2022-10-19T13:28:47.373Z"
   },
   {
    "duration": 142,
    "start_time": "2022-10-19T13:29:03.373Z"
   },
   {
    "duration": 150,
    "start_time": "2022-10-19T13:30:50.135Z"
   },
   {
    "duration": 75,
    "start_time": "2022-10-19T13:32:07.676Z"
   },
   {
    "duration": 144,
    "start_time": "2022-10-19T13:32:13.999Z"
   },
   {
    "duration": 10,
    "start_time": "2022-10-19T13:49:03.801Z"
   },
   {
    "duration": 18,
    "start_time": "2022-10-19T13:49:22.227Z"
   },
   {
    "duration": 16,
    "start_time": "2022-10-19T13:50:20.551Z"
   },
   {
    "duration": 163,
    "start_time": "2022-10-19T13:51:20.206Z"
   },
   {
    "duration": 16,
    "start_time": "2022-10-19T13:51:34.400Z"
   },
   {
    "duration": 108,
    "start_time": "2022-10-19T13:56:58.685Z"
   },
   {
    "duration": 124,
    "start_time": "2022-10-19T13:57:09.467Z"
   },
   {
    "duration": 97,
    "start_time": "2022-10-19T14:03:15.001Z"
   },
   {
    "duration": 11,
    "start_time": "2022-10-19T14:03:21.352Z"
   },
   {
    "duration": 125,
    "start_time": "2022-10-19T14:17:54.159Z"
   },
   {
    "duration": 1170,
    "start_time": "2022-10-19T14:18:03.521Z"
   },
   {
    "duration": 1267,
    "start_time": "2022-10-19T14:18:39.458Z"
   },
   {
    "duration": 7,
    "start_time": "2022-10-19T14:29:39.881Z"
   },
   {
    "duration": 3,
    "start_time": "2022-10-19T14:30:26.352Z"
   },
   {
    "duration": 7,
    "start_time": "2022-10-19T14:30:32.884Z"
   },
   {
    "duration": 26,
    "start_time": "2022-10-19T17:14:08.315Z"
   },
   {
    "duration": 17,
    "start_time": "2022-10-19T17:15:04.219Z"
   },
   {
    "duration": 1317,
    "start_time": "2022-10-19T17:15:38.916Z"
   },
   {
    "duration": 129,
    "start_time": "2022-10-19T17:16:49.142Z"
   },
   {
    "duration": 182,
    "start_time": "2022-10-19T17:18:17.279Z"
   },
   {
    "duration": 191,
    "start_time": "2022-10-19T17:18:49.336Z"
   },
   {
    "duration": 130,
    "start_time": "2022-10-19T17:49:24.560Z"
   },
   {
    "duration": 220,
    "start_time": "2022-10-19T17:49:57.650Z"
   },
   {
    "duration": 84,
    "start_time": "2022-10-19T17:50:19.489Z"
   },
   {
    "duration": 19,
    "start_time": "2022-10-19T17:50:27.295Z"
   },
   {
    "duration": 298,
    "start_time": "2022-10-19T17:51:45.252Z"
   },
   {
    "duration": 265,
    "start_time": "2022-10-19T17:52:58.966Z"
   },
   {
    "duration": 167,
    "start_time": "2022-10-19T18:06:03.104Z"
   },
   {
    "duration": 95,
    "start_time": "2022-10-19T18:08:07.928Z"
   },
   {
    "duration": 122,
    "start_time": "2022-10-19T18:09:45.163Z"
   },
   {
    "duration": 109,
    "start_time": "2022-10-19T18:10:03.484Z"
   },
   {
    "duration": 123,
    "start_time": "2022-10-19T18:11:34.340Z"
   },
   {
    "duration": 129,
    "start_time": "2022-10-19T18:11:51.672Z"
   },
   {
    "duration": 148,
    "start_time": "2022-10-19T18:12:13.340Z"
   },
   {
    "duration": 219,
    "start_time": "2022-10-19T18:24:34.160Z"
   },
   {
    "duration": 151,
    "start_time": "2022-10-19T18:24:48.286Z"
   },
   {
    "duration": 161,
    "start_time": "2022-10-19T18:26:35.889Z"
   },
   {
    "duration": 148,
    "start_time": "2022-10-19T18:28:00.095Z"
   },
   {
    "duration": 148,
    "start_time": "2022-10-19T18:29:57.457Z"
   },
   {
    "duration": 154,
    "start_time": "2022-10-19T19:12:12.923Z"
   },
   {
    "duration": 136,
    "start_time": "2022-10-19T19:13:02.969Z"
   },
   {
    "duration": 50,
    "start_time": "2022-10-19T19:13:15.298Z"
   },
   {
    "duration": 12,
    "start_time": "2022-10-19T19:13:15.350Z"
   },
   {
    "duration": 12,
    "start_time": "2022-10-19T19:13:15.363Z"
   },
   {
    "duration": 21,
    "start_time": "2022-10-19T19:13:15.377Z"
   },
   {
    "duration": 7,
    "start_time": "2022-10-19T19:13:15.401Z"
   },
   {
    "duration": 13,
    "start_time": "2022-10-19T19:13:15.409Z"
   },
   {
    "duration": 12,
    "start_time": "2022-10-19T19:13:15.424Z"
   },
   {
    "duration": 11,
    "start_time": "2022-10-19T19:13:15.437Z"
   },
   {
    "duration": 6,
    "start_time": "2022-10-19T19:13:15.449Z"
   },
   {
    "duration": 9,
    "start_time": "2022-10-19T19:13:15.457Z"
   },
   {
    "duration": 16133,
    "start_time": "2022-10-19T19:13:15.468Z"
   },
   {
    "duration": 15812,
    "start_time": "2022-10-19T19:13:31.603Z"
   },
   {
    "duration": 12,
    "start_time": "2022-10-19T19:13:47.416Z"
   },
   {
    "duration": 6,
    "start_time": "2022-10-19T19:13:47.431Z"
   },
   {
    "duration": 24,
    "start_time": "2022-10-19T19:13:47.438Z"
   },
   {
    "duration": 160,
    "start_time": "2022-10-19T19:13:47.464Z"
   },
   {
    "duration": 20,
    "start_time": "2022-10-19T19:13:47.626Z"
   },
   {
    "duration": 239,
    "start_time": "2022-10-19T19:13:47.648Z"
   },
   {
    "duration": 290,
    "start_time": "2022-10-19T19:13:47.889Z"
   },
   {
    "duration": 170,
    "start_time": "2022-10-19T19:13:48.181Z"
   },
   {
    "duration": 190,
    "start_time": "2022-10-19T19:13:48.353Z"
   },
   {
    "duration": 248,
    "start_time": "2022-10-19T19:13:48.545Z"
   },
   {
    "duration": 159,
    "start_time": "2022-10-19T19:13:48.794Z"
   },
   {
    "duration": 149,
    "start_time": "2022-10-19T19:13:48.954Z"
   },
   {
    "duration": 156,
    "start_time": "2022-10-19T19:15:53.102Z"
   },
   {
    "duration": 155,
    "start_time": "2022-10-19T19:16:08.538Z"
   },
   {
    "duration": 153,
    "start_time": "2022-10-19T19:16:23.056Z"
   },
   {
    "duration": 162,
    "start_time": "2022-10-19T19:16:35.499Z"
   },
   {
    "duration": 8,
    "start_time": "2022-10-19T19:20:12.216Z"
   },
   {
    "duration": 120,
    "start_time": "2022-10-19T19:20:26.658Z"
   },
   {
    "duration": 144,
    "start_time": "2022-10-19T19:21:08.972Z"
   },
   {
    "duration": 73,
    "start_time": "2022-10-19T19:22:02.720Z"
   },
   {
    "duration": 24,
    "start_time": "2022-10-19T19:22:11.175Z"
   },
   {
    "duration": 131,
    "start_time": "2022-10-19T19:23:05.213Z"
   },
   {
    "duration": 11,
    "start_time": "2022-10-19T19:25:53.737Z"
   },
   {
    "duration": 13,
    "start_time": "2022-10-19T19:26:08.230Z"
   },
   {
    "duration": 20,
    "start_time": "2022-10-19T19:29:55.959Z"
   },
   {
    "duration": 15,
    "start_time": "2022-10-19T19:34:09.917Z"
   },
   {
    "duration": 3938,
    "start_time": "2022-10-19T19:35:39.385Z"
   },
   {
    "duration": 304,
    "start_time": "2022-10-19T19:36:14.616Z"
   },
   {
    "duration": 27,
    "start_time": "2022-10-19T19:36:50.084Z"
   },
   {
    "duration": 1379,
    "start_time": "2022-10-19T19:37:08.640Z"
   },
   {
    "duration": 16,
    "start_time": "2022-10-19T19:37:32.902Z"
   },
   {
    "duration": 13,
    "start_time": "2022-10-19T19:51:07.835Z"
   },
   {
    "duration": 6,
    "start_time": "2022-10-19T19:51:17.327Z"
   },
   {
    "duration": 8,
    "start_time": "2022-10-19T19:51:26.790Z"
   },
   {
    "duration": 137,
    "start_time": "2022-10-19T19:53:12.152Z"
   },
   {
    "duration": 125,
    "start_time": "2022-10-19T19:55:24.414Z"
   },
   {
    "duration": 114,
    "start_time": "2022-10-19T19:56:51.593Z"
   },
   {
    "duration": 137,
    "start_time": "2022-10-19T19:57:43.979Z"
   },
   {
    "duration": 116,
    "start_time": "2022-10-19T19:58:13.949Z"
   },
   {
    "duration": 201,
    "start_time": "2022-10-19T19:58:59.863Z"
   },
   {
    "duration": 125,
    "start_time": "2022-10-19T20:00:10.345Z"
   },
   {
    "duration": 128,
    "start_time": "2022-10-19T20:00:41.557Z"
   },
   {
    "duration": 139,
    "start_time": "2022-10-19T20:01:52.454Z"
   },
   {
    "duration": 120,
    "start_time": "2022-10-19T20:02:09.773Z"
   },
   {
    "duration": 122,
    "start_time": "2022-10-19T20:02:50.164Z"
   },
   {
    "duration": 108,
    "start_time": "2022-10-19T20:10:49.085Z"
   },
   {
    "duration": 126,
    "start_time": "2022-10-19T20:11:44.001Z"
   },
   {
    "duration": 133,
    "start_time": "2022-10-19T20:12:10.613Z"
   },
   {
    "duration": 114,
    "start_time": "2022-10-19T20:12:46.610Z"
   },
   {
    "duration": 125,
    "start_time": "2022-10-19T20:15:34.513Z"
   },
   {
    "duration": 116,
    "start_time": "2022-10-19T20:15:44.535Z"
   },
   {
    "duration": 158,
    "start_time": "2022-10-19T20:24:31.795Z"
   },
   {
    "duration": 136,
    "start_time": "2022-10-19T20:25:31.612Z"
   },
   {
    "duration": 135,
    "start_time": "2022-10-19T20:26:12.528Z"
   },
   {
    "duration": 490,
    "start_time": "2022-10-19T20:51:47.748Z"
   },
   {
    "duration": 8,
    "start_time": "2022-10-19T20:52:02.404Z"
   },
   {
    "duration": 8,
    "start_time": "2022-10-19T20:54:48.447Z"
   },
   {
    "duration": 59,
    "start_time": "2022-10-19T20:56:33.482Z"
   },
   {
    "duration": 872,
    "start_time": "2022-10-20T12:12:22.764Z"
   },
   {
    "duration": 15,
    "start_time": "2022-10-20T12:12:23.638Z"
   },
   {
    "duration": 15,
    "start_time": "2022-10-20T12:12:23.654Z"
   },
   {
    "duration": 20,
    "start_time": "2022-10-20T12:12:23.671Z"
   },
   {
    "duration": 20,
    "start_time": "2022-10-20T12:12:23.694Z"
   },
   {
    "duration": 16,
    "start_time": "2022-10-20T12:12:23.716Z"
   },
   {
    "duration": 25,
    "start_time": "2022-10-20T12:12:23.733Z"
   },
   {
    "duration": 14,
    "start_time": "2022-10-20T12:12:23.759Z"
   },
   {
    "duration": 10,
    "start_time": "2022-10-20T12:12:23.775Z"
   },
   {
    "duration": 8,
    "start_time": "2022-10-20T12:12:23.786Z"
   },
   {
    "duration": 15290,
    "start_time": "2022-10-20T12:12:23.795Z"
   },
   {
    "duration": 15036,
    "start_time": "2022-10-20T12:12:39.086Z"
   },
   {
    "duration": 9,
    "start_time": "2022-10-20T12:12:54.123Z"
   },
   {
    "duration": 16,
    "start_time": "2022-10-20T12:12:54.135Z"
   },
   {
    "duration": 23,
    "start_time": "2022-10-20T12:12:54.154Z"
   },
   {
    "duration": 182,
    "start_time": "2022-10-20T12:12:54.178Z"
   },
   {
    "duration": 23,
    "start_time": "2022-10-20T12:12:54.362Z"
   },
   {
    "duration": 275,
    "start_time": "2022-10-20T12:12:54.386Z"
   },
   {
    "duration": 329,
    "start_time": "2022-10-20T12:12:54.663Z"
   },
   {
    "duration": 152,
    "start_time": "2022-10-20T12:12:54.994Z"
   },
   {
    "duration": 235,
    "start_time": "2022-10-20T12:12:55.147Z"
   },
   {
    "duration": 178,
    "start_time": "2022-10-20T12:12:55.384Z"
   },
   {
    "duration": 177,
    "start_time": "2022-10-20T12:12:55.563Z"
   },
   {
    "duration": 172,
    "start_time": "2022-10-20T12:12:55.742Z"
   },
   {
    "duration": 14,
    "start_time": "2022-10-20T12:12:55.916Z"
   },
   {
    "duration": 137,
    "start_time": "2022-10-20T12:12:55.932Z"
   },
   {
    "duration": 126,
    "start_time": "2022-10-20T12:12:56.071Z"
   },
   {
    "duration": 148,
    "start_time": "2022-10-20T12:12:56.199Z"
   },
   {
    "duration": 121,
    "start_time": "2022-10-20T12:12:56.348Z"
   },
   {
    "duration": 138,
    "start_time": "2022-10-20T12:12:56.472Z"
   },
   {
    "duration": 145,
    "start_time": "2022-10-20T12:12:56.613Z"
   },
   {
    "duration": 149,
    "start_time": "2022-10-20T12:12:56.760Z"
   },
   {
    "duration": 204,
    "start_time": "2022-10-20T12:12:56.910Z"
   },
   {
    "duration": 147,
    "start_time": "2022-10-20T12:12:57.115Z"
   },
   {
    "duration": 491,
    "start_time": "2022-10-20T12:12:57.264Z"
   },
   {
    "duration": 9,
    "start_time": "2022-10-20T12:28:39.024Z"
   },
   {
    "duration": 9,
    "start_time": "2022-10-20T12:28:47.592Z"
   },
   {
    "duration": 9,
    "start_time": "2022-10-20T12:29:28.595Z"
   },
   {
    "duration": 9,
    "start_time": "2022-10-20T12:29:31.814Z"
   },
   {
    "duration": 113,
    "start_time": "2022-10-20T12:33:11.466Z"
   },
   {
    "duration": 1023,
    "start_time": "2022-10-20T12:47:08.806Z"
   },
   {
    "duration": 9,
    "start_time": "2022-10-20T12:47:23.054Z"
   },
   {
    "duration": 16,
    "start_time": "2022-10-20T12:47:37.509Z"
   },
   {
    "duration": 45,
    "start_time": "2022-10-20T12:48:39.722Z"
   },
   {
    "duration": 13,
    "start_time": "2022-10-20T12:48:39.769Z"
   },
   {
    "duration": 3,
    "start_time": "2022-10-20T12:48:39.784Z"
   },
   {
    "duration": 5,
    "start_time": "2022-10-20T12:48:39.789Z"
   },
   {
    "duration": 25,
    "start_time": "2022-10-20T12:48:39.796Z"
   },
   {
    "duration": 8,
    "start_time": "2022-10-20T12:48:39.823Z"
   },
   {
    "duration": 16,
    "start_time": "2022-10-20T12:48:39.833Z"
   },
   {
    "duration": 8,
    "start_time": "2022-10-20T12:48:39.850Z"
   },
   {
    "duration": 7,
    "start_time": "2022-10-20T12:48:39.859Z"
   },
   {
    "duration": 24,
    "start_time": "2022-10-20T12:48:39.867Z"
   },
   {
    "duration": 16302,
    "start_time": "2022-10-20T12:48:39.893Z"
   },
   {
    "duration": 16866,
    "start_time": "2022-10-20T12:48:56.197Z"
   },
   {
    "duration": 8,
    "start_time": "2022-10-20T12:49:13.064Z"
   },
   {
    "duration": 5,
    "start_time": "2022-10-20T12:49:13.075Z"
   },
   {
    "duration": 43,
    "start_time": "2022-10-20T12:49:13.081Z"
   },
   {
    "duration": 150,
    "start_time": "2022-10-20T12:49:13.126Z"
   },
   {
    "duration": 15,
    "start_time": "2022-10-20T12:49:13.277Z"
   },
   {
    "duration": 228,
    "start_time": "2022-10-20T12:49:13.294Z"
   },
   {
    "duration": 291,
    "start_time": "2022-10-20T12:49:13.528Z"
   },
   {
    "duration": 209,
    "start_time": "2022-10-20T12:49:13.821Z"
   },
   {
    "duration": 166,
    "start_time": "2022-10-20T12:49:14.033Z"
   },
   {
    "duration": 172,
    "start_time": "2022-10-20T12:49:14.215Z"
   },
   {
    "duration": 244,
    "start_time": "2022-10-20T12:49:14.389Z"
   },
   {
    "duration": 184,
    "start_time": "2022-10-20T12:49:14.637Z"
   },
   {
    "duration": 15,
    "start_time": "2022-10-20T12:49:14.823Z"
   },
   {
    "duration": 120,
    "start_time": "2022-10-20T12:49:14.840Z"
   },
   {
    "duration": 129,
    "start_time": "2022-10-20T12:49:14.961Z"
   },
   {
    "duration": 132,
    "start_time": "2022-10-20T12:49:15.092Z"
   },
   {
    "duration": 116,
    "start_time": "2022-10-20T12:49:15.228Z"
   },
   {
    "duration": 117,
    "start_time": "2022-10-20T12:49:15.346Z"
   },
   {
    "duration": 125,
    "start_time": "2022-10-20T12:49:15.464Z"
   },
   {
    "duration": 228,
    "start_time": "2022-10-20T12:49:15.591Z"
   },
   {
    "duration": 129,
    "start_time": "2022-10-20T12:49:15.820Z"
   },
   {
    "duration": 144,
    "start_time": "2022-10-20T12:49:15.951Z"
   },
   {
    "duration": 26,
    "start_time": "2022-10-20T12:49:16.096Z"
   },
   {
    "duration": 9,
    "start_time": "2022-10-20T12:51:46.298Z"
   },
   {
    "duration": 12,
    "start_time": "2022-10-20T12:52:27.196Z"
   },
   {
    "duration": 11,
    "start_time": "2022-10-20T12:53:09.357Z"
   },
   {
    "duration": 12,
    "start_time": "2022-10-20T12:53:42.097Z"
   },
   {
    "duration": 17,
    "start_time": "2022-10-20T12:54:52.857Z"
   },
   {
    "duration": 12,
    "start_time": "2022-10-20T12:55:41.925Z"
   },
   {
    "duration": 45,
    "start_time": "2022-10-20T12:55:44.969Z"
   },
   {
    "duration": 16,
    "start_time": "2022-10-20T12:55:45.016Z"
   },
   {
    "duration": 10,
    "start_time": "2022-10-20T12:55:45.034Z"
   },
   {
    "duration": 6,
    "start_time": "2022-10-20T12:55:45.046Z"
   },
   {
    "duration": 8,
    "start_time": "2022-10-20T12:55:45.054Z"
   },
   {
    "duration": 13,
    "start_time": "2022-10-20T12:55:45.063Z"
   },
   {
    "duration": 45,
    "start_time": "2022-10-20T12:55:45.078Z"
   },
   {
    "duration": 9,
    "start_time": "2022-10-20T12:55:45.124Z"
   },
   {
    "duration": 7,
    "start_time": "2022-10-20T12:55:45.135Z"
   },
   {
    "duration": 7,
    "start_time": "2022-10-20T12:55:45.144Z"
   },
   {
    "duration": 16740,
    "start_time": "2022-10-20T12:55:45.153Z"
   },
   {
    "duration": 16457,
    "start_time": "2022-10-20T12:56:01.894Z"
   },
   {
    "duration": 9,
    "start_time": "2022-10-20T12:56:18.353Z"
   },
   {
    "duration": 6,
    "start_time": "2022-10-20T12:56:18.363Z"
   },
   {
    "duration": 21,
    "start_time": "2022-10-20T12:56:18.370Z"
   },
   {
    "duration": 166,
    "start_time": "2022-10-20T12:56:18.393Z"
   },
   {
    "duration": 15,
    "start_time": "2022-10-20T12:56:18.561Z"
   },
   {
    "duration": 245,
    "start_time": "2022-10-20T12:56:18.578Z"
   },
   {
    "duration": 281,
    "start_time": "2022-10-20T12:56:18.825Z"
   },
   {
    "duration": 161,
    "start_time": "2022-10-20T12:56:19.115Z"
   },
   {
    "duration": 187,
    "start_time": "2022-10-20T12:56:19.277Z"
   },
   {
    "duration": 166,
    "start_time": "2022-10-20T12:56:19.466Z"
   },
   {
    "duration": 186,
    "start_time": "2022-10-20T12:56:19.633Z"
   },
   {
    "duration": 172,
    "start_time": "2022-10-20T12:56:19.821Z"
   },
   {
    "duration": 27,
    "start_time": "2022-10-20T12:56:19.994Z"
   },
   {
    "duration": 206,
    "start_time": "2022-10-20T12:56:20.023Z"
   },
   {
    "duration": 129,
    "start_time": "2022-10-20T12:56:20.231Z"
   },
   {
    "duration": 126,
    "start_time": "2022-10-20T12:56:20.363Z"
   },
   {
    "duration": 134,
    "start_time": "2022-10-20T12:56:20.491Z"
   },
   {
    "duration": 131,
    "start_time": "2022-10-20T12:56:20.627Z"
   },
   {
    "duration": 136,
    "start_time": "2022-10-20T12:56:20.760Z"
   },
   {
    "duration": 137,
    "start_time": "2022-10-20T12:56:20.898Z"
   },
   {
    "duration": 145,
    "start_time": "2022-10-20T12:56:21.036Z"
   },
   {
    "duration": 153,
    "start_time": "2022-10-20T12:56:21.182Z"
   },
   {
    "duration": 10,
    "start_time": "2022-10-20T12:56:21.336Z"
   },
   {
    "duration": 17,
    "start_time": "2022-10-20T12:58:01.307Z"
   },
   {
    "duration": 11,
    "start_time": "2022-10-20T12:58:06.866Z"
   },
   {
    "duration": 11,
    "start_time": "2022-10-20T12:59:08.947Z"
   },
   {
    "duration": 11,
    "start_time": "2022-10-20T12:59:28.975Z"
   },
   {
    "duration": 13,
    "start_time": "2022-10-20T13:00:24.837Z"
   },
   {
    "duration": 10,
    "start_time": "2022-10-20T13:02:29.535Z"
   },
   {
    "duration": 52,
    "start_time": "2022-10-20T13:05:29.192Z"
   },
   {
    "duration": 15,
    "start_time": "2022-10-20T13:05:29.246Z"
   },
   {
    "duration": 6,
    "start_time": "2022-10-20T13:05:29.263Z"
   },
   {
    "duration": 8,
    "start_time": "2022-10-20T13:05:29.271Z"
   },
   {
    "duration": 6,
    "start_time": "2022-10-20T13:05:29.282Z"
   },
   {
    "duration": 28,
    "start_time": "2022-10-20T13:05:29.290Z"
   },
   {
    "duration": 18,
    "start_time": "2022-10-20T13:05:29.319Z"
   },
   {
    "duration": 8,
    "start_time": "2022-10-20T13:05:29.339Z"
   },
   {
    "duration": 14,
    "start_time": "2022-10-20T13:05:29.348Z"
   },
   {
    "duration": 9,
    "start_time": "2022-10-20T13:05:29.363Z"
   },
   {
    "duration": 15886,
    "start_time": "2022-10-20T13:05:29.374Z"
   },
   {
    "duration": 15894,
    "start_time": "2022-10-20T13:05:45.262Z"
   },
   {
    "duration": 10,
    "start_time": "2022-10-20T13:06:01.158Z"
   },
   {
    "duration": 13,
    "start_time": "2022-10-20T13:06:01.171Z"
   },
   {
    "duration": 34,
    "start_time": "2022-10-20T13:06:01.186Z"
   },
   {
    "duration": 179,
    "start_time": "2022-10-20T13:06:01.222Z"
   },
   {
    "duration": 18,
    "start_time": "2022-10-20T13:06:01.403Z"
   },
   {
    "duration": 250,
    "start_time": "2022-10-20T13:06:01.423Z"
   },
   {
    "duration": 375,
    "start_time": "2022-10-20T13:06:01.675Z"
   },
   {
    "duration": 162,
    "start_time": "2022-10-20T13:06:02.051Z"
   },
   {
    "duration": 198,
    "start_time": "2022-10-20T13:06:02.214Z"
   },
   {
    "duration": 191,
    "start_time": "2022-10-20T13:06:02.414Z"
   },
   {
    "duration": 170,
    "start_time": "2022-10-20T13:06:02.609Z"
   },
   {
    "duration": 190,
    "start_time": "2022-10-20T13:06:02.781Z"
   },
   {
    "duration": 15,
    "start_time": "2022-10-20T13:06:02.973Z"
   },
   {
    "duration": 133,
    "start_time": "2022-10-20T13:06:02.990Z"
   },
   {
    "duration": 120,
    "start_time": "2022-10-20T13:06:03.125Z"
   },
   {
    "duration": 141,
    "start_time": "2022-10-20T13:06:03.247Z"
   },
   {
    "duration": 121,
    "start_time": "2022-10-20T13:06:03.390Z"
   },
   {
    "duration": 135,
    "start_time": "2022-10-20T13:06:03.513Z"
   },
   {
    "duration": 201,
    "start_time": "2022-10-20T13:06:03.649Z"
   },
   {
    "duration": 135,
    "start_time": "2022-10-20T13:06:03.852Z"
   },
   {
    "duration": 134,
    "start_time": "2022-10-20T13:06:03.989Z"
   },
   {
    "duration": 137,
    "start_time": "2022-10-20T13:06:04.125Z"
   },
   {
    "duration": 12,
    "start_time": "2022-10-20T13:06:04.264Z"
   },
   {
    "duration": 11,
    "start_time": "2022-10-20T13:10:11.576Z"
   },
   {
    "duration": 8,
    "start_time": "2022-10-20T13:14:28.107Z"
   },
   {
    "duration": 11,
    "start_time": "2022-10-20T13:25:16.567Z"
   },
   {
    "duration": 8,
    "start_time": "2022-10-20T13:32:49.549Z"
   },
   {
    "duration": 9,
    "start_time": "2022-10-20T13:37:20.778Z"
   },
   {
    "duration": 10,
    "start_time": "2022-10-20T13:37:41.962Z"
   },
   {
    "duration": 9,
    "start_time": "2022-10-20T13:46:53.375Z"
   },
   {
    "duration": 9,
    "start_time": "2022-10-20T13:48:01.915Z"
   },
   {
    "duration": 9,
    "start_time": "2022-10-20T13:48:19.455Z"
   },
   {
    "duration": 9,
    "start_time": "2022-10-20T13:48:53.495Z"
   },
   {
    "duration": 8,
    "start_time": "2022-10-20T13:49:07.863Z"
   },
   {
    "duration": 10,
    "start_time": "2022-10-20T13:52:06.648Z"
   },
   {
    "duration": 48,
    "start_time": "2022-10-20T15:38:14.335Z"
   },
   {
    "duration": 1097,
    "start_time": "2022-10-20T15:38:34.445Z"
   },
   {
    "duration": 13,
    "start_time": "2022-10-20T15:38:35.544Z"
   },
   {
    "duration": 5,
    "start_time": "2022-10-20T15:38:35.558Z"
   },
   {
    "duration": 4,
    "start_time": "2022-10-20T15:38:35.565Z"
   },
   {
    "duration": 7,
    "start_time": "2022-10-20T15:38:35.570Z"
   },
   {
    "duration": 13,
    "start_time": "2022-10-20T15:38:35.579Z"
   },
   {
    "duration": 15,
    "start_time": "2022-10-20T15:38:35.594Z"
   },
   {
    "duration": 23,
    "start_time": "2022-10-20T15:38:35.611Z"
   },
   {
    "duration": 7,
    "start_time": "2022-10-20T15:38:35.636Z"
   },
   {
    "duration": 6,
    "start_time": "2022-10-20T15:38:35.646Z"
   },
   {
    "duration": 18485,
    "start_time": "2022-10-20T15:38:35.654Z"
   },
   {
    "duration": 17387,
    "start_time": "2022-10-20T15:38:54.141Z"
   },
   {
    "duration": 9,
    "start_time": "2022-10-20T15:39:11.529Z"
   },
   {
    "duration": 13,
    "start_time": "2022-10-20T15:39:11.540Z"
   },
   {
    "duration": 17,
    "start_time": "2022-10-20T15:39:11.554Z"
   },
   {
    "duration": 13,
    "start_time": "2022-10-20T15:39:11.573Z"
   },
   {
    "duration": 182,
    "start_time": "2022-10-20T15:39:11.587Z"
   },
   {
    "duration": 18,
    "start_time": "2022-10-20T15:39:11.771Z"
   },
   {
    "duration": 236,
    "start_time": "2022-10-20T15:39:11.792Z"
   },
   {
    "duration": 327,
    "start_time": "2022-10-20T15:39:12.030Z"
   },
   {
    "duration": 160,
    "start_time": "2022-10-20T15:39:12.358Z"
   },
   {
    "duration": 181,
    "start_time": "2022-10-20T15:39:12.520Z"
   },
   {
    "duration": 178,
    "start_time": "2022-10-20T15:39:12.702Z"
   },
   {
    "duration": 187,
    "start_time": "2022-10-20T15:39:12.882Z"
   },
   {
    "duration": 177,
    "start_time": "2022-10-20T15:39:13.071Z"
   },
   {
    "duration": 15,
    "start_time": "2022-10-20T15:39:13.250Z"
   },
   {
    "duration": 133,
    "start_time": "2022-10-20T15:39:13.266Z"
   },
   {
    "duration": 203,
    "start_time": "2022-10-20T15:39:13.402Z"
   },
   {
    "duration": 132,
    "start_time": "2022-10-20T15:39:13.607Z"
   },
   {
    "duration": 138,
    "start_time": "2022-10-20T15:39:13.741Z"
   },
   {
    "duration": 130,
    "start_time": "2022-10-20T15:39:13.881Z"
   },
   {
    "duration": 134,
    "start_time": "2022-10-20T15:39:14.013Z"
   },
   {
    "duration": 159,
    "start_time": "2022-10-20T15:39:14.149Z"
   },
   {
    "duration": 144,
    "start_time": "2022-10-20T15:39:14.310Z"
   },
   {
    "duration": 147,
    "start_time": "2022-10-20T15:39:14.456Z"
   },
   {
    "duration": 9,
    "start_time": "2022-10-20T15:39:14.604Z"
   },
   {
    "duration": 24,
    "start_time": "2022-10-20T15:39:14.614Z"
   },
   {
    "duration": 1316,
    "start_time": "2022-10-21T16:43:44.719Z"
   },
   {
    "duration": 45,
    "start_time": "2022-10-21T16:43:56.364Z"
   },
   {
    "duration": 47,
    "start_time": "2022-10-21T16:44:06.449Z"
   },
   {
    "duration": 49,
    "start_time": "2022-10-21T16:46:05.303Z"
   },
   {
    "duration": 3,
    "start_time": "2022-10-21T16:46:11.070Z"
   },
   {
    "duration": 3,
    "start_time": "2022-10-21T16:46:17.287Z"
   },
   {
    "duration": 60,
    "start_time": "2022-10-21T16:46:17.292Z"
   },
   {
    "duration": 13,
    "start_time": "2022-10-21T16:46:17.353Z"
   },
   {
    "duration": 25,
    "start_time": "2022-10-21T16:46:17.368Z"
   },
   {
    "duration": 12,
    "start_time": "2022-10-21T16:46:17.394Z"
   },
   {
    "duration": 18,
    "start_time": "2022-10-21T16:46:17.407Z"
   },
   {
    "duration": 17,
    "start_time": "2022-10-21T16:46:17.426Z"
   },
   {
    "duration": 28,
    "start_time": "2022-10-21T16:46:17.445Z"
   },
   {
    "duration": 14,
    "start_time": "2022-10-21T16:46:17.474Z"
   },
   {
    "duration": 17,
    "start_time": "2022-10-21T16:46:17.490Z"
   },
   {
    "duration": 12,
    "start_time": "2022-10-21T16:46:17.508Z"
   },
   {
    "duration": 16502,
    "start_time": "2022-10-21T16:46:17.522Z"
   },
   {
    "duration": 16497,
    "start_time": "2022-10-21T16:46:34.027Z"
   },
   {
    "duration": 7,
    "start_time": "2022-10-21T16:46:50.525Z"
   },
   {
    "duration": 6,
    "start_time": "2022-10-21T16:46:50.534Z"
   },
   {
    "duration": 14,
    "start_time": "2022-10-21T16:46:50.541Z"
   },
   {
    "duration": 14,
    "start_time": "2022-10-21T16:46:50.557Z"
   },
   {
    "duration": 166,
    "start_time": "2022-10-21T16:46:50.572Z"
   },
   {
    "duration": 16,
    "start_time": "2022-10-21T16:46:50.740Z"
   },
   {
    "duration": 213,
    "start_time": "2022-10-21T16:46:50.757Z"
   },
   {
    "duration": 309,
    "start_time": "2022-10-21T16:46:50.972Z"
   },
   {
    "duration": 143,
    "start_time": "2022-10-21T16:46:51.282Z"
   },
   {
    "duration": 155,
    "start_time": "2022-10-21T16:46:51.427Z"
   },
   {
    "duration": 164,
    "start_time": "2022-10-21T16:46:51.583Z"
   },
   {
    "duration": 163,
    "start_time": "2022-10-21T16:46:51.749Z"
   },
   {
    "duration": 154,
    "start_time": "2022-10-21T16:46:51.913Z"
   },
   {
    "duration": 13,
    "start_time": "2022-10-21T16:46:52.069Z"
   },
   {
    "duration": 121,
    "start_time": "2022-10-21T16:46:52.083Z"
   },
   {
    "duration": 185,
    "start_time": "2022-10-21T16:46:52.206Z"
   },
   {
    "duration": 121,
    "start_time": "2022-10-21T16:46:52.393Z"
   },
   {
    "duration": 116,
    "start_time": "2022-10-21T16:46:52.516Z"
   },
   {
    "duration": 109,
    "start_time": "2022-10-21T16:46:52.633Z"
   },
   {
    "duration": 124,
    "start_time": "2022-10-21T16:46:52.743Z"
   },
   {
    "duration": 128,
    "start_time": "2022-10-21T16:46:52.868Z"
   },
   {
    "duration": 138,
    "start_time": "2022-10-21T16:46:52.998Z"
   },
   {
    "duration": 134,
    "start_time": "2022-10-21T16:46:53.138Z"
   },
   {
    "duration": 8,
    "start_time": "2022-10-21T16:46:53.275Z"
   },
   {
    "duration": 12,
    "start_time": "2022-10-21T16:46:53.284Z"
   },
   {
    "duration": 52,
    "start_time": "2022-10-21T16:47:44.788Z"
   },
   {
    "duration": 12,
    "start_time": "2022-10-21T16:52:09.004Z"
   },
   {
    "duration": 10,
    "start_time": "2022-10-21T16:53:18.935Z"
   },
   {
    "duration": 13,
    "start_time": "2022-10-21T16:54:44.857Z"
   },
   {
    "duration": 7,
    "start_time": "2022-10-21T16:54:53.937Z"
   },
   {
    "duration": 13,
    "start_time": "2022-10-21T16:54:55.962Z"
   },
   {
    "duration": 7,
    "start_time": "2022-10-21T17:00:34.057Z"
   },
   {
    "duration": 118,
    "start_time": "2022-10-21T17:01:16.756Z"
   },
   {
    "duration": 28,
    "start_time": "2022-10-21T17:01:46.978Z"
   },
   {
    "duration": 5,
    "start_time": "2022-10-21T17:03:37.053Z"
   },
   {
    "duration": 11,
    "start_time": "2022-10-21T17:12:42.783Z"
   },
   {
    "duration": 6,
    "start_time": "2022-10-21T17:13:23.517Z"
   },
   {
    "duration": 6,
    "start_time": "2022-10-21T17:13:42.751Z"
   },
   {
    "duration": 8,
    "start_time": "2022-10-21T17:17:55.775Z"
   },
   {
    "duration": 11,
    "start_time": "2022-10-21T17:18:14.071Z"
   },
   {
    "duration": 9,
    "start_time": "2022-10-21T17:18:23.436Z"
   },
   {
    "duration": 9,
    "start_time": "2022-10-21T17:18:57.866Z"
   },
   {
    "duration": 3,
    "start_time": "2022-10-21T17:19:25.270Z"
   },
   {
    "duration": 72,
    "start_time": "2022-10-21T17:19:25.275Z"
   },
   {
    "duration": 14,
    "start_time": "2022-10-21T17:19:25.348Z"
   },
   {
    "duration": 23,
    "start_time": "2022-10-21T17:19:25.363Z"
   },
   {
    "duration": 26,
    "start_time": "2022-10-21T17:19:25.388Z"
   },
   {
    "duration": 14,
    "start_time": "2022-10-21T17:19:25.416Z"
   },
   {
    "duration": 23,
    "start_time": "2022-10-21T17:19:25.431Z"
   },
   {
    "duration": 38,
    "start_time": "2022-10-21T17:19:25.456Z"
   },
   {
    "duration": 29,
    "start_time": "2022-10-21T17:19:25.495Z"
   },
   {
    "duration": 23,
    "start_time": "2022-10-21T17:19:25.526Z"
   },
   {
    "duration": 13,
    "start_time": "2022-10-21T17:19:25.551Z"
   },
   {
    "duration": 31,
    "start_time": "2022-10-21T17:19:25.565Z"
   },
   {
    "duration": 20,
    "start_time": "2022-10-21T17:19:25.598Z"
   },
   {
    "duration": 25,
    "start_time": "2022-10-21T17:19:25.621Z"
   },
   {
    "duration": 21,
    "start_time": "2022-10-21T17:19:25.648Z"
   },
   {
    "duration": 34,
    "start_time": "2022-10-21T17:19:25.670Z"
   },
   {
    "duration": 16964,
    "start_time": "2022-10-21T17:19:25.706Z"
   },
   {
    "duration": 16778,
    "start_time": "2022-10-21T17:19:42.672Z"
   },
   {
    "duration": 8,
    "start_time": "2022-10-21T17:19:59.452Z"
   },
   {
    "duration": 20,
    "start_time": "2022-10-21T17:19:59.461Z"
   },
   {
    "duration": 24,
    "start_time": "2022-10-21T17:19:59.482Z"
   },
   {
    "duration": 26,
    "start_time": "2022-10-21T17:19:59.507Z"
   },
   {
    "duration": 148,
    "start_time": "2022-10-21T17:19:59.534Z"
   },
   {
    "duration": 14,
    "start_time": "2022-10-21T17:19:59.683Z"
   },
   {
    "duration": 36,
    "start_time": "2022-10-21T17:19:59.699Z"
   },
   {
    "duration": 0,
    "start_time": "2022-10-21T17:19:59.736Z"
   },
   {
    "duration": 0,
    "start_time": "2022-10-21T17:19:59.737Z"
   },
   {
    "duration": 0,
    "start_time": "2022-10-21T17:19:59.739Z"
   },
   {
    "duration": 0,
    "start_time": "2022-10-21T17:19:59.740Z"
   },
   {
    "duration": 0,
    "start_time": "2022-10-21T17:19:59.741Z"
   },
   {
    "duration": 0,
    "start_time": "2022-10-21T17:19:59.742Z"
   },
   {
    "duration": 0,
    "start_time": "2022-10-21T17:19:59.743Z"
   },
   {
    "duration": 0,
    "start_time": "2022-10-21T17:19:59.744Z"
   },
   {
    "duration": 1,
    "start_time": "2022-10-21T17:19:59.745Z"
   },
   {
    "duration": 0,
    "start_time": "2022-10-21T17:19:59.746Z"
   },
   {
    "duration": 0,
    "start_time": "2022-10-21T17:19:59.843Z"
   },
   {
    "duration": 0,
    "start_time": "2022-10-21T17:19:59.844Z"
   },
   {
    "duration": 0,
    "start_time": "2022-10-21T17:19:59.845Z"
   },
   {
    "duration": 0,
    "start_time": "2022-10-21T17:19:59.847Z"
   },
   {
    "duration": 0,
    "start_time": "2022-10-21T17:19:59.848Z"
   },
   {
    "duration": 0,
    "start_time": "2022-10-21T17:19:59.849Z"
   },
   {
    "duration": 0,
    "start_time": "2022-10-21T17:19:59.850Z"
   },
   {
    "duration": 0,
    "start_time": "2022-10-21T17:19:59.851Z"
   },
   {
    "duration": 9,
    "start_time": "2022-10-21T17:20:24.952Z"
   },
   {
    "duration": 16,
    "start_time": "2022-10-21T17:21:12.790Z"
   },
   {
    "duration": 8,
    "start_time": "2022-10-21T17:22:03.564Z"
   },
   {
    "duration": 8,
    "start_time": "2022-10-21T17:22:12.243Z"
   },
   {
    "duration": 6,
    "start_time": "2022-10-21T17:24:28.199Z"
   },
   {
    "duration": 10,
    "start_time": "2022-10-21T17:24:50.839Z"
   },
   {
    "duration": 7,
    "start_time": "2022-10-21T17:25:29.066Z"
   },
   {
    "duration": 8,
    "start_time": "2022-10-21T17:26:09.277Z"
   },
   {
    "duration": 2,
    "start_time": "2022-10-21T17:26:21.184Z"
   },
   {
    "duration": 55,
    "start_time": "2022-10-21T17:26:21.188Z"
   },
   {
    "duration": 14,
    "start_time": "2022-10-21T17:26:21.245Z"
   },
   {
    "duration": 4,
    "start_time": "2022-10-21T17:26:21.260Z"
   },
   {
    "duration": 5,
    "start_time": "2022-10-21T17:26:21.266Z"
   },
   {
    "duration": 7,
    "start_time": "2022-10-21T17:26:21.272Z"
   },
   {
    "duration": 41,
    "start_time": "2022-10-21T17:26:21.281Z"
   },
   {
    "duration": 7,
    "start_time": "2022-10-21T17:26:21.324Z"
   },
   {
    "duration": 11,
    "start_time": "2022-10-21T17:26:21.332Z"
   },
   {
    "duration": 16,
    "start_time": "2022-10-21T17:26:21.344Z"
   },
   {
    "duration": 12,
    "start_time": "2022-10-21T17:26:21.362Z"
   },
   {
    "duration": 14,
    "start_time": "2022-10-21T17:26:21.375Z"
   },
   {
    "duration": 8,
    "start_time": "2022-10-21T17:26:21.391Z"
   },
   {
    "duration": 32,
    "start_time": "2022-10-21T17:26:21.401Z"
   },
   {
    "duration": 8,
    "start_time": "2022-10-21T17:26:21.435Z"
   },
   {
    "duration": 8,
    "start_time": "2022-10-21T17:26:21.444Z"
   },
   {
    "duration": 17163,
    "start_time": "2022-10-21T17:26:21.453Z"
   },
   {
    "duration": 17046,
    "start_time": "2022-10-21T17:26:38.618Z"
   },
   {
    "duration": 12,
    "start_time": "2022-10-21T17:26:55.666Z"
   },
   {
    "duration": 9,
    "start_time": "2022-10-21T17:26:55.679Z"
   },
   {
    "duration": 17,
    "start_time": "2022-10-21T17:26:55.689Z"
   },
   {
    "duration": 16,
    "start_time": "2022-10-21T17:26:55.722Z"
   },
   {
    "duration": 152,
    "start_time": "2022-10-21T17:26:55.740Z"
   },
   {
    "duration": 16,
    "start_time": "2022-10-21T17:26:55.894Z"
   },
   {
    "duration": 32,
    "start_time": "2022-10-21T17:26:55.911Z"
   },
   {
    "duration": 0,
    "start_time": "2022-10-21T17:26:55.945Z"
   },
   {
    "duration": 0,
    "start_time": "2022-10-21T17:26:55.946Z"
   },
   {
    "duration": 0,
    "start_time": "2022-10-21T17:26:55.947Z"
   },
   {
    "duration": 0,
    "start_time": "2022-10-21T17:26:55.948Z"
   },
   {
    "duration": 0,
    "start_time": "2022-10-21T17:26:55.950Z"
   },
   {
    "duration": 0,
    "start_time": "2022-10-21T17:26:55.950Z"
   },
   {
    "duration": 0,
    "start_time": "2022-10-21T17:26:55.951Z"
   },
   {
    "duration": 0,
    "start_time": "2022-10-21T17:26:55.952Z"
   },
   {
    "duration": 0,
    "start_time": "2022-10-21T17:26:55.953Z"
   },
   {
    "duration": 0,
    "start_time": "2022-10-21T17:26:55.954Z"
   },
   {
    "duration": 0,
    "start_time": "2022-10-21T17:26:55.955Z"
   },
   {
    "duration": 0,
    "start_time": "2022-10-21T17:26:55.956Z"
   },
   {
    "duration": 0,
    "start_time": "2022-10-21T17:26:55.957Z"
   },
   {
    "duration": 0,
    "start_time": "2022-10-21T17:26:55.958Z"
   },
   {
    "duration": 0,
    "start_time": "2022-10-21T17:26:55.959Z"
   },
   {
    "duration": 0,
    "start_time": "2022-10-21T17:26:55.960Z"
   },
   {
    "duration": 0,
    "start_time": "2022-10-21T17:26:55.961Z"
   },
   {
    "duration": 0,
    "start_time": "2022-10-21T17:26:55.962Z"
   },
   {
    "duration": 9,
    "start_time": "2022-10-21T17:27:01.920Z"
   },
   {
    "duration": 3,
    "start_time": "2022-10-21T17:27:10.179Z"
   },
   {
    "duration": 62,
    "start_time": "2022-10-21T17:27:10.183Z"
   },
   {
    "duration": 12,
    "start_time": "2022-10-21T17:27:10.246Z"
   },
   {
    "duration": 7,
    "start_time": "2022-10-21T17:27:10.260Z"
   },
   {
    "duration": 14,
    "start_time": "2022-10-21T17:27:10.269Z"
   },
   {
    "duration": 7,
    "start_time": "2022-10-21T17:27:10.284Z"
   },
   {
    "duration": 32,
    "start_time": "2022-10-21T17:27:10.293Z"
   },
   {
    "duration": 16,
    "start_time": "2022-10-21T17:27:10.327Z"
   },
   {
    "duration": 12,
    "start_time": "2022-10-21T17:27:10.345Z"
   },
   {
    "duration": 24,
    "start_time": "2022-10-21T17:27:10.358Z"
   },
   {
    "duration": 13,
    "start_time": "2022-10-21T17:27:10.384Z"
   },
   {
    "duration": 25,
    "start_time": "2022-10-21T17:27:10.398Z"
   },
   {
    "duration": 15,
    "start_time": "2022-10-21T17:27:10.425Z"
   },
   {
    "duration": 24,
    "start_time": "2022-10-21T17:27:10.441Z"
   },
   {
    "duration": 7,
    "start_time": "2022-10-21T17:27:10.466Z"
   },
   {
    "duration": 27,
    "start_time": "2022-10-21T17:27:10.474Z"
   },
   {
    "duration": 16851,
    "start_time": "2022-10-21T17:27:10.503Z"
   },
   {
    "duration": 16864,
    "start_time": "2022-10-21T17:27:27.355Z"
   },
   {
    "duration": 9,
    "start_time": "2022-10-21T17:27:44.222Z"
   },
   {
    "duration": 10,
    "start_time": "2022-10-21T17:27:44.232Z"
   },
   {
    "duration": 19,
    "start_time": "2022-10-21T17:27:44.243Z"
   },
   {
    "duration": 13,
    "start_time": "2022-10-21T17:27:44.265Z"
   },
   {
    "duration": 153,
    "start_time": "2022-10-21T17:27:44.280Z"
   },
   {
    "duration": 15,
    "start_time": "2022-10-21T17:27:44.434Z"
   },
   {
    "duration": 23,
    "start_time": "2022-10-21T17:27:44.450Z"
   },
   {
    "duration": 0,
    "start_time": "2022-10-21T17:27:44.475Z"
   },
   {
    "duration": 0,
    "start_time": "2022-10-21T17:27:44.476Z"
   },
   {
    "duration": 0,
    "start_time": "2022-10-21T17:27:44.477Z"
   },
   {
    "duration": 0,
    "start_time": "2022-10-21T17:27:44.478Z"
   },
   {
    "duration": 0,
    "start_time": "2022-10-21T17:27:44.480Z"
   },
   {
    "duration": 0,
    "start_time": "2022-10-21T17:27:44.481Z"
   },
   {
    "duration": 0,
    "start_time": "2022-10-21T17:27:44.482Z"
   },
   {
    "duration": 0,
    "start_time": "2022-10-21T17:27:44.483Z"
   },
   {
    "duration": 0,
    "start_time": "2022-10-21T17:27:44.484Z"
   },
   {
    "duration": 0,
    "start_time": "2022-10-21T17:27:44.485Z"
   },
   {
    "duration": 0,
    "start_time": "2022-10-21T17:27:44.486Z"
   },
   {
    "duration": 0,
    "start_time": "2022-10-21T17:27:44.487Z"
   },
   {
    "duration": 0,
    "start_time": "2022-10-21T17:27:44.522Z"
   },
   {
    "duration": 0,
    "start_time": "2022-10-21T17:27:44.523Z"
   },
   {
    "duration": 0,
    "start_time": "2022-10-21T17:27:44.524Z"
   },
   {
    "duration": 0,
    "start_time": "2022-10-21T17:27:44.525Z"
   },
   {
    "duration": 0,
    "start_time": "2022-10-21T17:27:44.526Z"
   },
   {
    "duration": 0,
    "start_time": "2022-10-21T17:27:44.527Z"
   },
   {
    "duration": 8,
    "start_time": "2022-10-21T17:31:09.631Z"
   },
   {
    "duration": 6,
    "start_time": "2022-10-21T17:38:20.602Z"
   },
   {
    "duration": 8,
    "start_time": "2022-10-21T18:43:52.354Z"
   },
   {
    "duration": 13,
    "start_time": "2022-10-21T18:44:00.746Z"
   },
   {
    "duration": 9,
    "start_time": "2022-10-21T18:44:20.033Z"
   },
   {
    "duration": 3,
    "start_time": "2022-10-21T18:44:26.884Z"
   },
   {
    "duration": 55,
    "start_time": "2022-10-21T18:44:26.889Z"
   },
   {
    "duration": 12,
    "start_time": "2022-10-21T18:44:26.946Z"
   },
   {
    "duration": 5,
    "start_time": "2022-10-21T18:44:26.960Z"
   },
   {
    "duration": 6,
    "start_time": "2022-10-21T18:44:26.966Z"
   },
   {
    "duration": 9,
    "start_time": "2022-10-21T18:44:26.973Z"
   },
   {
    "duration": 15,
    "start_time": "2022-10-21T18:44:26.984Z"
   },
   {
    "duration": 8,
    "start_time": "2022-10-21T18:44:27.022Z"
   },
   {
    "duration": 12,
    "start_time": "2022-10-21T18:44:27.031Z"
   },
   {
    "duration": 13,
    "start_time": "2022-10-21T18:44:27.045Z"
   },
   {
    "duration": 18,
    "start_time": "2022-10-21T18:44:27.060Z"
   },
   {
    "duration": 34,
    "start_time": "2022-10-21T18:44:27.080Z"
   },
   {
    "duration": 8,
    "start_time": "2022-10-21T18:44:27.116Z"
   },
   {
    "duration": 14,
    "start_time": "2022-10-21T18:44:27.125Z"
   },
   {
    "duration": 6,
    "start_time": "2022-10-21T18:44:27.141Z"
   },
   {
    "duration": 6,
    "start_time": "2022-10-21T18:44:27.149Z"
   },
   {
    "duration": 16901,
    "start_time": "2022-10-21T18:44:27.157Z"
   },
   {
    "duration": 16736,
    "start_time": "2022-10-21T18:44:44.060Z"
   },
   {
    "duration": 5,
    "start_time": "2022-10-21T18:45:00.798Z"
   },
   {
    "duration": 18,
    "start_time": "2022-10-21T18:45:00.804Z"
   },
   {
    "duration": 18,
    "start_time": "2022-10-21T18:45:00.824Z"
   },
   {
    "duration": 24,
    "start_time": "2022-10-21T18:45:00.843Z"
   },
   {
    "duration": 28,
    "start_time": "2022-10-21T18:45:00.869Z"
   },
   {
    "duration": 27,
    "start_time": "2022-10-21T18:45:00.898Z"
   },
   {
    "duration": 144,
    "start_time": "2022-10-21T18:45:00.927Z"
   },
   {
    "duration": 16,
    "start_time": "2022-10-21T18:45:01.072Z"
   },
   {
    "duration": 39,
    "start_time": "2022-10-21T18:45:01.089Z"
   },
   {
    "duration": 0,
    "start_time": "2022-10-21T18:45:01.131Z"
   },
   {
    "duration": 0,
    "start_time": "2022-10-21T18:45:01.132Z"
   },
   {
    "duration": 0,
    "start_time": "2022-10-21T18:45:01.133Z"
   },
   {
    "duration": 0,
    "start_time": "2022-10-21T18:45:01.134Z"
   },
   {
    "duration": 0,
    "start_time": "2022-10-21T18:45:01.135Z"
   },
   {
    "duration": 0,
    "start_time": "2022-10-21T18:45:01.136Z"
   },
   {
    "duration": 0,
    "start_time": "2022-10-21T18:45:01.136Z"
   },
   {
    "duration": 0,
    "start_time": "2022-10-21T18:45:01.137Z"
   },
   {
    "duration": 0,
    "start_time": "2022-10-21T18:45:01.138Z"
   },
   {
    "duration": 0,
    "start_time": "2022-10-21T18:45:01.139Z"
   },
   {
    "duration": 0,
    "start_time": "2022-10-21T18:45:01.140Z"
   },
   {
    "duration": 0,
    "start_time": "2022-10-21T18:45:01.141Z"
   },
   {
    "duration": 0,
    "start_time": "2022-10-21T18:45:01.142Z"
   },
   {
    "duration": 0,
    "start_time": "2022-10-21T18:45:01.144Z"
   },
   {
    "duration": 0,
    "start_time": "2022-10-21T18:45:01.145Z"
   },
   {
    "duration": 0,
    "start_time": "2022-10-21T18:45:01.146Z"
   },
   {
    "duration": 0,
    "start_time": "2022-10-21T18:45:01.147Z"
   },
   {
    "duration": 0,
    "start_time": "2022-10-21T18:45:01.148Z"
   },
   {
    "duration": 9,
    "start_time": "2022-10-21T18:45:45.351Z"
   },
   {
    "duration": 10,
    "start_time": "2022-10-21T18:45:58.974Z"
   },
   {
    "duration": 22,
    "start_time": "2022-10-21T18:46:06.369Z"
   },
   {
    "duration": 21,
    "start_time": "2022-10-21T18:46:55.114Z"
   },
   {
    "duration": 5,
    "start_time": "2022-10-21T18:51:48.410Z"
   },
   {
    "duration": 5,
    "start_time": "2022-10-21T18:52:10.425Z"
   },
   {
    "duration": 5,
    "start_time": "2022-10-21T18:52:23.492Z"
   },
   {
    "duration": 5,
    "start_time": "2022-10-21T18:52:24.891Z"
   },
   {
    "duration": 3,
    "start_time": "2022-10-21T18:53:41.472Z"
   },
   {
    "duration": 58,
    "start_time": "2022-10-21T18:53:41.477Z"
   },
   {
    "duration": 13,
    "start_time": "2022-10-21T18:53:41.536Z"
   },
   {
    "duration": 4,
    "start_time": "2022-10-21T18:53:41.550Z"
   },
   {
    "duration": 11,
    "start_time": "2022-10-21T18:53:41.556Z"
   },
   {
    "duration": 19,
    "start_time": "2022-10-21T18:53:41.569Z"
   },
   {
    "duration": 15,
    "start_time": "2022-10-21T18:53:41.590Z"
   },
   {
    "duration": 19,
    "start_time": "2022-10-21T18:53:41.607Z"
   },
   {
    "duration": 9,
    "start_time": "2022-10-21T18:53:41.628Z"
   },
   {
    "duration": 16,
    "start_time": "2022-10-21T18:53:41.639Z"
   },
   {
    "duration": 13,
    "start_time": "2022-10-21T18:53:41.656Z"
   },
   {
    "duration": 24,
    "start_time": "2022-10-21T18:53:41.670Z"
   },
   {
    "duration": 27,
    "start_time": "2022-10-21T18:53:41.696Z"
   },
   {
    "duration": 19,
    "start_time": "2022-10-21T18:53:41.725Z"
   },
   {
    "duration": 8,
    "start_time": "2022-10-21T18:53:41.746Z"
   },
   {
    "duration": 9,
    "start_time": "2022-10-21T18:53:41.756Z"
   },
   {
    "duration": 17216,
    "start_time": "2022-10-21T18:53:41.766Z"
   },
   {
    "duration": 17135,
    "start_time": "2022-10-21T18:53:58.985Z"
   },
   {
    "duration": 5,
    "start_time": "2022-10-21T18:54:16.122Z"
   },
   {
    "duration": 25,
    "start_time": "2022-10-21T18:54:16.129Z"
   },
   {
    "duration": 4,
    "start_time": "2022-10-21T18:54:16.156Z"
   },
   {
    "duration": 6,
    "start_time": "2022-10-21T18:54:16.162Z"
   },
   {
    "duration": 9,
    "start_time": "2022-10-21T18:54:16.170Z"
   },
   {
    "duration": 5,
    "start_time": "2022-10-21T18:54:16.181Z"
   },
   {
    "duration": 42,
    "start_time": "2022-10-21T18:54:16.188Z"
   },
   {
    "duration": 21,
    "start_time": "2022-10-21T18:54:16.231Z"
   },
   {
    "duration": 154,
    "start_time": "2022-10-21T18:54:16.253Z"
   },
   {
    "duration": 22,
    "start_time": "2022-10-21T18:54:16.409Z"
   },
   {
    "duration": 22,
    "start_time": "2022-10-21T18:54:16.433Z"
   },
   {
    "duration": 0,
    "start_time": "2022-10-21T18:54:16.456Z"
   },
   {
    "duration": 0,
    "start_time": "2022-10-21T18:54:16.458Z"
   },
   {
    "duration": 0,
    "start_time": "2022-10-21T18:54:16.459Z"
   },
   {
    "duration": 0,
    "start_time": "2022-10-21T18:54:16.461Z"
   },
   {
    "duration": 0,
    "start_time": "2022-10-21T18:54:16.462Z"
   },
   {
    "duration": 0,
    "start_time": "2022-10-21T18:54:16.463Z"
   },
   {
    "duration": 0,
    "start_time": "2022-10-21T18:54:16.464Z"
   },
   {
    "duration": 0,
    "start_time": "2022-10-21T18:54:16.465Z"
   },
   {
    "duration": 0,
    "start_time": "2022-10-21T18:54:16.466Z"
   },
   {
    "duration": 0,
    "start_time": "2022-10-21T18:54:16.467Z"
   },
   {
    "duration": 0,
    "start_time": "2022-10-21T18:54:16.468Z"
   },
   {
    "duration": 0,
    "start_time": "2022-10-21T18:54:16.469Z"
   },
   {
    "duration": 0,
    "start_time": "2022-10-21T18:54:16.470Z"
   },
   {
    "duration": 0,
    "start_time": "2022-10-21T18:54:16.471Z"
   },
   {
    "duration": 0,
    "start_time": "2022-10-21T18:54:16.472Z"
   },
   {
    "duration": 0,
    "start_time": "2022-10-21T18:54:16.473Z"
   },
   {
    "duration": 0,
    "start_time": "2022-10-21T18:54:16.474Z"
   },
   {
    "duration": 0,
    "start_time": "2022-10-21T18:54:16.475Z"
   },
   {
    "duration": 5,
    "start_time": "2022-10-21T18:55:32.234Z"
   },
   {
    "duration": 5,
    "start_time": "2022-10-21T18:55:32.981Z"
   },
   {
    "duration": 6,
    "start_time": "2022-10-21T18:59:22.541Z"
   },
   {
    "duration": 5,
    "start_time": "2022-10-21T18:59:29.765Z"
   },
   {
    "duration": 8,
    "start_time": "2022-10-21T19:03:05.642Z"
   },
   {
    "duration": 4,
    "start_time": "2022-10-21T19:03:07.129Z"
   },
   {
    "duration": 3,
    "start_time": "2022-10-21T19:03:21.436Z"
   },
   {
    "duration": 56,
    "start_time": "2022-10-21T19:03:21.441Z"
   },
   {
    "duration": 14,
    "start_time": "2022-10-21T19:03:21.500Z"
   },
   {
    "duration": 5,
    "start_time": "2022-10-21T19:03:21.521Z"
   },
   {
    "duration": 5,
    "start_time": "2022-10-21T19:03:21.528Z"
   },
   {
    "duration": 11,
    "start_time": "2022-10-21T19:03:21.534Z"
   },
   {
    "duration": 11,
    "start_time": "2022-10-21T19:03:21.546Z"
   },
   {
    "duration": 8,
    "start_time": "2022-10-21T19:03:21.559Z"
   },
   {
    "duration": 9,
    "start_time": "2022-10-21T19:03:21.569Z"
   },
   {
    "duration": 45,
    "start_time": "2022-10-21T19:03:21.579Z"
   },
   {
    "duration": 11,
    "start_time": "2022-10-21T19:03:21.628Z"
   },
   {
    "duration": 19,
    "start_time": "2022-10-21T19:03:21.641Z"
   },
   {
    "duration": 8,
    "start_time": "2022-10-21T19:03:21.662Z"
   },
   {
    "duration": 14,
    "start_time": "2022-10-21T19:03:21.672Z"
   },
   {
    "duration": 35,
    "start_time": "2022-10-21T19:03:21.687Z"
   },
   {
    "duration": 7,
    "start_time": "2022-10-21T19:03:21.724Z"
   },
   {
    "duration": 17169,
    "start_time": "2022-10-21T19:03:21.732Z"
   },
   {
    "duration": 17539,
    "start_time": "2022-10-21T19:03:38.904Z"
   },
   {
    "duration": 4,
    "start_time": "2022-10-21T19:03:56.446Z"
   },
   {
    "duration": 32,
    "start_time": "2022-10-21T19:03:56.452Z"
   },
   {
    "duration": 6,
    "start_time": "2022-10-21T19:03:56.486Z"
   },
   {
    "duration": 10,
    "start_time": "2022-10-21T19:03:56.494Z"
   },
   {
    "duration": 25,
    "start_time": "2022-10-21T19:03:56.506Z"
   },
   {
    "duration": 6,
    "start_time": "2022-10-21T19:03:56.532Z"
   },
   {
    "duration": 20,
    "start_time": "2022-10-21T19:03:56.539Z"
   },
   {
    "duration": 21,
    "start_time": "2022-10-21T19:03:56.561Z"
   },
   {
    "duration": 190,
    "start_time": "2022-10-21T19:03:56.584Z"
   },
   {
    "duration": 25,
    "start_time": "2022-10-21T19:03:56.776Z"
   },
   {
    "duration": 46,
    "start_time": "2022-10-21T19:03:56.805Z"
   },
   {
    "duration": 0,
    "start_time": "2022-10-21T19:03:56.854Z"
   },
   {
    "duration": 0,
    "start_time": "2022-10-21T19:03:56.856Z"
   },
   {
    "duration": 0,
    "start_time": "2022-10-21T19:03:56.857Z"
   },
   {
    "duration": 0,
    "start_time": "2022-10-21T19:03:56.859Z"
   },
   {
    "duration": 0,
    "start_time": "2022-10-21T19:03:56.860Z"
   },
   {
    "duration": 0,
    "start_time": "2022-10-21T19:03:56.862Z"
   },
   {
    "duration": 0,
    "start_time": "2022-10-21T19:03:56.864Z"
   },
   {
    "duration": 0,
    "start_time": "2022-10-21T19:03:56.865Z"
   },
   {
    "duration": 0,
    "start_time": "2022-10-21T19:03:56.866Z"
   },
   {
    "duration": 0,
    "start_time": "2022-10-21T19:03:56.867Z"
   },
   {
    "duration": 0,
    "start_time": "2022-10-21T19:03:56.868Z"
   },
   {
    "duration": 0,
    "start_time": "2022-10-21T19:03:56.869Z"
   },
   {
    "duration": 0,
    "start_time": "2022-10-21T19:03:56.870Z"
   },
   {
    "duration": 0,
    "start_time": "2022-10-21T19:03:56.871Z"
   },
   {
    "duration": 0,
    "start_time": "2022-10-21T19:03:56.873Z"
   },
   {
    "duration": 0,
    "start_time": "2022-10-21T19:03:56.873Z"
   },
   {
    "duration": 0,
    "start_time": "2022-10-21T19:03:56.875Z"
   },
   {
    "duration": 0,
    "start_time": "2022-10-21T19:03:56.876Z"
   },
   {
    "duration": 8,
    "start_time": "2022-10-21T19:04:36.974Z"
   },
   {
    "duration": 5,
    "start_time": "2022-10-21T19:04:41.899Z"
   },
   {
    "duration": 21,
    "start_time": "2022-10-21T19:05:11.156Z"
   },
   {
    "duration": 3,
    "start_time": "2022-10-21T19:05:19.140Z"
   },
   {
    "duration": 51,
    "start_time": "2022-10-21T19:05:19.145Z"
   },
   {
    "duration": 27,
    "start_time": "2022-10-21T19:05:19.197Z"
   },
   {
    "duration": 6,
    "start_time": "2022-10-21T19:05:19.226Z"
   },
   {
    "duration": 9,
    "start_time": "2022-10-21T19:05:19.234Z"
   },
   {
    "duration": 7,
    "start_time": "2022-10-21T19:05:19.245Z"
   },
   {
    "duration": 15,
    "start_time": "2022-10-21T19:05:19.254Z"
   },
   {
    "duration": 13,
    "start_time": "2022-10-21T19:05:19.271Z"
   },
   {
    "duration": 7,
    "start_time": "2022-10-21T19:05:19.285Z"
   },
   {
    "duration": 15,
    "start_time": "2022-10-21T19:05:19.294Z"
   },
   {
    "duration": 7,
    "start_time": "2022-10-21T19:05:19.322Z"
   },
   {
    "duration": 16,
    "start_time": "2022-10-21T19:05:19.330Z"
   },
   {
    "duration": 8,
    "start_time": "2022-10-21T19:05:19.349Z"
   },
   {
    "duration": 12,
    "start_time": "2022-10-21T19:05:19.358Z"
   },
   {
    "duration": 6,
    "start_time": "2022-10-21T19:05:19.372Z"
   },
   {
    "duration": 7,
    "start_time": "2022-10-21T19:05:19.380Z"
   },
   {
    "duration": 17160,
    "start_time": "2022-10-21T19:05:19.389Z"
   },
   {
    "duration": 17352,
    "start_time": "2022-10-21T19:05:36.551Z"
   },
   {
    "duration": 4,
    "start_time": "2022-10-21T19:05:53.905Z"
   },
   {
    "duration": 35,
    "start_time": "2022-10-21T19:05:53.911Z"
   },
   {
    "duration": 5,
    "start_time": "2022-10-21T19:05:53.948Z"
   },
   {
    "duration": 34,
    "start_time": "2022-10-21T19:05:53.955Z"
   },
   {
    "duration": 19,
    "start_time": "2022-10-21T19:05:53.991Z"
   },
   {
    "duration": 11,
    "start_time": "2022-10-21T19:05:54.012Z"
   },
   {
    "duration": 19,
    "start_time": "2022-10-21T19:05:54.024Z"
   },
   {
    "duration": 16,
    "start_time": "2022-10-21T19:05:54.044Z"
   },
   {
    "duration": 167,
    "start_time": "2022-10-21T19:05:54.062Z"
   },
   {
    "duration": 16,
    "start_time": "2022-10-21T19:05:54.231Z"
   },
   {
    "duration": 25,
    "start_time": "2022-10-21T19:05:54.249Z"
   },
   {
    "duration": 0,
    "start_time": "2022-10-21T19:05:54.275Z"
   },
   {
    "duration": 0,
    "start_time": "2022-10-21T19:05:54.277Z"
   },
   {
    "duration": 0,
    "start_time": "2022-10-21T19:05:54.278Z"
   },
   {
    "duration": 0,
    "start_time": "2022-10-21T19:05:54.279Z"
   },
   {
    "duration": 0,
    "start_time": "2022-10-21T19:05:54.280Z"
   },
   {
    "duration": 0,
    "start_time": "2022-10-21T19:05:54.282Z"
   },
   {
    "duration": 0,
    "start_time": "2022-10-21T19:05:54.283Z"
   },
   {
    "duration": 0,
    "start_time": "2022-10-21T19:05:54.322Z"
   },
   {
    "duration": 0,
    "start_time": "2022-10-21T19:05:54.324Z"
   },
   {
    "duration": 0,
    "start_time": "2022-10-21T19:05:54.325Z"
   },
   {
    "duration": 0,
    "start_time": "2022-10-21T19:05:54.326Z"
   },
   {
    "duration": 0,
    "start_time": "2022-10-21T19:05:54.328Z"
   },
   {
    "duration": 0,
    "start_time": "2022-10-21T19:05:54.329Z"
   },
   {
    "duration": 0,
    "start_time": "2022-10-21T19:05:54.331Z"
   },
   {
    "duration": 0,
    "start_time": "2022-10-21T19:05:54.332Z"
   },
   {
    "duration": 0,
    "start_time": "2022-10-21T19:05:54.334Z"
   },
   {
    "duration": 0,
    "start_time": "2022-10-21T19:05:54.335Z"
   },
   {
    "duration": 0,
    "start_time": "2022-10-21T19:05:54.337Z"
   },
   {
    "duration": 5,
    "start_time": "2022-10-21T19:06:32.626Z"
   },
   {
    "duration": 9,
    "start_time": "2022-10-21T19:06:34.490Z"
   },
   {
    "duration": 5,
    "start_time": "2022-10-21T19:06:59.890Z"
   },
   {
    "duration": 23,
    "start_time": "2022-10-21T19:11:45.009Z"
   },
   {
    "duration": 4,
    "start_time": "2022-10-21T19:23:12.909Z"
   },
   {
    "duration": 4,
    "start_time": "2022-10-21T19:26:35.778Z"
   },
   {
    "duration": 9,
    "start_time": "2022-10-21T19:26:36.145Z"
   },
   {
    "duration": 4,
    "start_time": "2022-10-21T19:27:45.520Z"
   },
   {
    "duration": 2,
    "start_time": "2022-10-21T19:29:35.640Z"
   },
   {
    "duration": 63,
    "start_time": "2022-10-21T19:29:35.645Z"
   },
   {
    "duration": 20,
    "start_time": "2022-10-21T19:29:35.710Z"
   },
   {
    "duration": 13,
    "start_time": "2022-10-21T19:29:35.732Z"
   },
   {
    "duration": 27,
    "start_time": "2022-10-21T19:29:35.746Z"
   },
   {
    "duration": 26,
    "start_time": "2022-10-21T19:29:35.774Z"
   },
   {
    "duration": 34,
    "start_time": "2022-10-21T19:29:35.802Z"
   },
   {
    "duration": 27,
    "start_time": "2022-10-21T19:29:35.837Z"
   },
   {
    "duration": 36,
    "start_time": "2022-10-21T19:29:35.867Z"
   },
   {
    "duration": 27,
    "start_time": "2022-10-21T19:29:35.905Z"
   },
   {
    "duration": 38,
    "start_time": "2022-10-21T19:29:35.933Z"
   },
   {
    "duration": 22,
    "start_time": "2022-10-21T19:29:35.973Z"
   },
   {
    "duration": 14,
    "start_time": "2022-10-21T19:29:35.996Z"
   },
   {
    "duration": 18,
    "start_time": "2022-10-21T19:29:36.012Z"
   },
   {
    "duration": 7,
    "start_time": "2022-10-21T19:29:36.031Z"
   },
   {
    "duration": 12,
    "start_time": "2022-10-21T19:29:36.040Z"
   },
   {
    "duration": 17068,
    "start_time": "2022-10-21T19:29:36.054Z"
   },
   {
    "duration": 16873,
    "start_time": "2022-10-21T19:29:53.124Z"
   },
   {
    "duration": 4,
    "start_time": "2022-10-21T19:30:09.999Z"
   },
   {
    "duration": 27,
    "start_time": "2022-10-21T19:30:10.005Z"
   },
   {
    "duration": 4,
    "start_time": "2022-10-21T19:30:10.033Z"
   },
   {
    "duration": 12,
    "start_time": "2022-10-21T19:30:10.039Z"
   },
   {
    "duration": 5,
    "start_time": "2022-10-21T19:30:10.052Z"
   },
   {
    "duration": 4,
    "start_time": "2022-10-21T19:30:10.061Z"
   },
   {
    "duration": 6,
    "start_time": "2022-10-21T19:30:10.066Z"
   },
   {
    "duration": 5,
    "start_time": "2022-10-21T19:30:10.073Z"
   },
   {
    "duration": 9,
    "start_time": "2022-10-21T19:30:10.080Z"
   },
   {
    "duration": 5,
    "start_time": "2022-10-21T19:30:10.090Z"
   },
   {
    "duration": 33,
    "start_time": "2022-10-21T19:30:10.096Z"
   },
   {
    "duration": 17,
    "start_time": "2022-10-21T19:30:10.130Z"
   },
   {
    "duration": 148,
    "start_time": "2022-10-21T19:30:10.148Z"
   },
   {
    "duration": 26,
    "start_time": "2022-10-21T19:30:10.297Z"
   },
   {
    "duration": 23,
    "start_time": "2022-10-21T19:30:10.324Z"
   },
   {
    "duration": 0,
    "start_time": "2022-10-21T19:30:10.349Z"
   },
   {
    "duration": 0,
    "start_time": "2022-10-21T19:30:10.351Z"
   },
   {
    "duration": 0,
    "start_time": "2022-10-21T19:30:10.352Z"
   },
   {
    "duration": 0,
    "start_time": "2022-10-21T19:30:10.354Z"
   },
   {
    "duration": 0,
    "start_time": "2022-10-21T19:30:10.355Z"
   },
   {
    "duration": 0,
    "start_time": "2022-10-21T19:30:10.356Z"
   },
   {
    "duration": 0,
    "start_time": "2022-10-21T19:30:10.358Z"
   },
   {
    "duration": 0,
    "start_time": "2022-10-21T19:30:10.359Z"
   },
   {
    "duration": 0,
    "start_time": "2022-10-21T19:30:10.360Z"
   },
   {
    "duration": 0,
    "start_time": "2022-10-21T19:30:10.361Z"
   },
   {
    "duration": 0,
    "start_time": "2022-10-21T19:30:10.363Z"
   },
   {
    "duration": 0,
    "start_time": "2022-10-21T19:30:10.365Z"
   },
   {
    "duration": 0,
    "start_time": "2022-10-21T19:30:10.366Z"
   },
   {
    "duration": 0,
    "start_time": "2022-10-21T19:30:10.367Z"
   },
   {
    "duration": 0,
    "start_time": "2022-10-21T19:30:10.369Z"
   },
   {
    "duration": 0,
    "start_time": "2022-10-21T19:30:10.370Z"
   },
   {
    "duration": 0,
    "start_time": "2022-10-21T19:30:10.372Z"
   },
   {
    "duration": 0,
    "start_time": "2022-10-21T19:30:10.373Z"
   },
   {
    "duration": 45,
    "start_time": "2022-10-21T19:37:08.706Z"
   },
   {
    "duration": 3,
    "start_time": "2022-10-21T19:37:49.208Z"
   },
   {
    "duration": 53,
    "start_time": "2022-10-21T19:37:49.213Z"
   },
   {
    "duration": 12,
    "start_time": "2022-10-21T19:37:49.268Z"
   },
   {
    "duration": 12,
    "start_time": "2022-10-21T19:37:49.281Z"
   },
   {
    "duration": 4,
    "start_time": "2022-10-21T19:37:49.295Z"
   },
   {
    "duration": 22,
    "start_time": "2022-10-21T19:37:49.300Z"
   },
   {
    "duration": 12,
    "start_time": "2022-10-21T19:37:49.324Z"
   },
   {
    "duration": 7,
    "start_time": "2022-10-21T19:37:49.337Z"
   },
   {
    "duration": 12,
    "start_time": "2022-10-21T19:37:49.345Z"
   },
   {
    "duration": 13,
    "start_time": "2022-10-21T19:37:49.359Z"
   },
   {
    "duration": 12,
    "start_time": "2022-10-21T19:37:49.373Z"
   },
   {
    "duration": 13,
    "start_time": "2022-10-21T19:37:49.386Z"
   },
   {
    "duration": 25,
    "start_time": "2022-10-21T19:37:49.400Z"
   },
   {
    "duration": 14,
    "start_time": "2022-10-21T19:37:49.428Z"
   },
   {
    "duration": 7,
    "start_time": "2022-10-21T19:37:49.443Z"
   },
   {
    "duration": 8,
    "start_time": "2022-10-21T19:37:49.451Z"
   },
   {
    "duration": 16721,
    "start_time": "2022-10-21T19:37:49.461Z"
   },
   {
    "duration": 16956,
    "start_time": "2022-10-21T19:38:06.183Z"
   },
   {
    "duration": 4,
    "start_time": "2022-10-21T19:38:23.141Z"
   },
   {
    "duration": 24,
    "start_time": "2022-10-21T19:38:23.146Z"
   },
   {
    "duration": 4,
    "start_time": "2022-10-21T19:38:23.172Z"
   },
   {
    "duration": 10,
    "start_time": "2022-10-21T19:38:23.177Z"
   },
   {
    "duration": 41,
    "start_time": "2022-10-21T19:38:23.188Z"
   },
   {
    "duration": 7,
    "start_time": "2022-10-21T19:38:23.230Z"
   },
   {
    "duration": 5,
    "start_time": "2022-10-21T19:38:23.239Z"
   },
   {
    "duration": 8,
    "start_time": "2022-10-21T19:38:23.245Z"
   },
   {
    "duration": 9,
    "start_time": "2022-10-21T19:38:23.255Z"
   },
   {
    "duration": 4,
    "start_time": "2022-10-21T19:38:23.266Z"
   },
   {
    "duration": 57,
    "start_time": "2022-10-21T19:38:23.272Z"
   },
   {
    "duration": 20,
    "start_time": "2022-10-21T19:38:23.330Z"
   },
   {
    "duration": 184,
    "start_time": "2022-10-21T19:38:23.352Z"
   },
   {
    "duration": 15,
    "start_time": "2022-10-21T19:38:23.537Z"
   },
   {
    "duration": 21,
    "start_time": "2022-10-21T19:38:23.554Z"
   },
   {
    "duration": 0,
    "start_time": "2022-10-21T19:38:23.577Z"
   },
   {
    "duration": 0,
    "start_time": "2022-10-21T19:38:23.578Z"
   },
   {
    "duration": 0,
    "start_time": "2022-10-21T19:38:23.579Z"
   },
   {
    "duration": 0,
    "start_time": "2022-10-21T19:38:23.580Z"
   },
   {
    "duration": 0,
    "start_time": "2022-10-21T19:38:23.581Z"
   },
   {
    "duration": 0,
    "start_time": "2022-10-21T19:38:23.582Z"
   },
   {
    "duration": 0,
    "start_time": "2022-10-21T19:38:23.583Z"
   },
   {
    "duration": 0,
    "start_time": "2022-10-21T19:38:23.584Z"
   },
   {
    "duration": 0,
    "start_time": "2022-10-21T19:38:23.585Z"
   },
   {
    "duration": 0,
    "start_time": "2022-10-21T19:38:23.586Z"
   },
   {
    "duration": 0,
    "start_time": "2022-10-21T19:38:23.587Z"
   },
   {
    "duration": 0,
    "start_time": "2022-10-21T19:38:23.621Z"
   },
   {
    "duration": 0,
    "start_time": "2022-10-21T19:38:23.622Z"
   },
   {
    "duration": 0,
    "start_time": "2022-10-21T19:38:23.623Z"
   },
   {
    "duration": 0,
    "start_time": "2022-10-21T19:38:23.624Z"
   },
   {
    "duration": 0,
    "start_time": "2022-10-21T19:38:23.625Z"
   },
   {
    "duration": 0,
    "start_time": "2022-10-21T19:38:23.626Z"
   },
   {
    "duration": 0,
    "start_time": "2022-10-21T19:38:23.627Z"
   },
   {
    "duration": 37,
    "start_time": "2022-10-21T19:43:36.339Z"
   },
   {
    "duration": 47,
    "start_time": "2022-10-21T19:44:07.148Z"
   },
   {
    "duration": 39,
    "start_time": "2022-10-21T19:44:26.880Z"
   },
   {
    "duration": 46,
    "start_time": "2022-10-21T19:46:01.585Z"
   },
   {
    "duration": 139,
    "start_time": "2022-10-21T19:46:11.857Z"
   },
   {
    "duration": 160,
    "start_time": "2022-10-21T19:49:01.306Z"
   },
   {
    "duration": 194,
    "start_time": "2022-10-21T19:53:45.353Z"
   },
   {
    "duration": 18,
    "start_time": "2022-10-21T19:56:58.875Z"
   },
   {
    "duration": 288,
    "start_time": "2022-10-21T19:57:52.705Z"
   },
   {
    "duration": 234,
    "start_time": "2022-10-21T20:01:55.227Z"
   },
   {
    "duration": 39,
    "start_time": "2022-10-21T20:04:39.571Z"
   },
   {
    "duration": 54,
    "start_time": "2022-10-21T20:04:49.090Z"
   },
   {
    "duration": 240,
    "start_time": "2022-10-21T20:05:07.040Z"
   },
   {
    "duration": 250,
    "start_time": "2022-10-21T20:06:33.909Z"
   },
   {
    "duration": 263,
    "start_time": "2022-10-21T20:06:54.928Z"
   },
   {
    "duration": 246,
    "start_time": "2022-10-21T20:16:10.487Z"
   },
   {
    "duration": 272,
    "start_time": "2022-10-21T20:17:31.660Z"
   },
   {
    "duration": 224,
    "start_time": "2022-10-21T20:18:47.146Z"
   },
   {
    "duration": 225,
    "start_time": "2022-10-21T20:19:27.642Z"
   },
   {
    "duration": 266,
    "start_time": "2022-10-21T20:21:03.019Z"
   },
   {
    "duration": 12,
    "start_time": "2022-10-21T20:22:30.664Z"
   },
   {
    "duration": 276,
    "start_time": "2022-10-21T20:23:15.530Z"
   },
   {
    "duration": 394,
    "start_time": "2022-10-21T20:25:25.352Z"
   },
   {
    "duration": 177,
    "start_time": "2022-10-21T20:27:14.346Z"
   },
   {
    "duration": 227,
    "start_time": "2022-10-21T20:30:25.173Z"
   },
   {
    "duration": 728,
    "start_time": "2022-10-21T20:41:17.035Z"
   },
   {
    "duration": 376,
    "start_time": "2022-10-21T20:42:08.876Z"
   },
   {
    "duration": 483,
    "start_time": "2022-10-21T20:43:11.505Z"
   },
   {
    "duration": 488,
    "start_time": "2022-10-21T20:43:22.673Z"
   },
   {
    "duration": 3,
    "start_time": "2022-10-21T20:45:42.497Z"
   },
   {
    "duration": 61,
    "start_time": "2022-10-21T20:45:42.502Z"
   },
   {
    "duration": 14,
    "start_time": "2022-10-21T20:45:42.565Z"
   },
   {
    "duration": 7,
    "start_time": "2022-10-21T20:45:42.581Z"
   },
   {
    "duration": 34,
    "start_time": "2022-10-21T20:45:42.590Z"
   },
   {
    "duration": 6,
    "start_time": "2022-10-21T20:45:42.626Z"
   },
   {
    "duration": 11,
    "start_time": "2022-10-21T20:45:42.633Z"
   },
   {
    "duration": 7,
    "start_time": "2022-10-21T20:45:42.645Z"
   },
   {
    "duration": 8,
    "start_time": "2022-10-21T20:45:42.655Z"
   },
   {
    "duration": 16,
    "start_time": "2022-10-21T20:45:42.664Z"
   },
   {
    "duration": 9,
    "start_time": "2022-10-21T20:45:42.681Z"
   },
   {
    "duration": 34,
    "start_time": "2022-10-21T20:45:42.691Z"
   },
   {
    "duration": 9,
    "start_time": "2022-10-21T20:45:42.727Z"
   },
   {
    "duration": 17,
    "start_time": "2022-10-21T20:45:42.737Z"
   },
   {
    "duration": 7,
    "start_time": "2022-10-21T20:45:42.755Z"
   },
   {
    "duration": 7,
    "start_time": "2022-10-21T20:45:42.764Z"
   },
   {
    "duration": 17752,
    "start_time": "2022-10-21T20:45:42.772Z"
   },
   {
    "duration": 17994,
    "start_time": "2022-10-21T20:46:00.525Z"
   },
   {
    "duration": 5,
    "start_time": "2022-10-21T20:46:18.520Z"
   },
   {
    "duration": 21,
    "start_time": "2022-10-21T20:46:18.527Z"
   },
   {
    "duration": 3,
    "start_time": "2022-10-21T20:46:18.550Z"
   },
   {
    "duration": 6,
    "start_time": "2022-10-21T20:46:18.554Z"
   },
   {
    "duration": 5,
    "start_time": "2022-10-21T20:46:18.562Z"
   },
   {
    "duration": 5,
    "start_time": "2022-10-21T20:46:18.570Z"
   },
   {
    "duration": 5,
    "start_time": "2022-10-21T20:46:18.576Z"
   },
   {
    "duration": 9,
    "start_time": "2022-10-21T20:46:18.583Z"
   },
   {
    "duration": 31,
    "start_time": "2022-10-21T20:46:18.593Z"
   },
   {
    "duration": 5,
    "start_time": "2022-10-21T20:46:18.625Z"
   },
   {
    "duration": 13,
    "start_time": "2022-10-21T20:46:18.631Z"
   },
   {
    "duration": 15,
    "start_time": "2022-10-21T20:46:18.645Z"
   },
   {
    "duration": 167,
    "start_time": "2022-10-21T20:46:18.662Z"
   },
   {
    "duration": 19,
    "start_time": "2022-10-21T20:46:18.831Z"
   },
   {
    "duration": 276,
    "start_time": "2022-10-21T20:46:18.851Z"
   },
   {
    "duration": 293,
    "start_time": "2022-10-21T20:46:19.129Z"
   },
   {
    "duration": 337,
    "start_time": "2022-10-21T20:46:19.424Z"
   },
   {
    "duration": 0,
    "start_time": "2022-10-21T20:46:19.762Z"
   },
   {
    "duration": 0,
    "start_time": "2022-10-21T20:46:19.764Z"
   },
   {
    "duration": 0,
    "start_time": "2022-10-21T20:46:19.765Z"
   },
   {
    "duration": 0,
    "start_time": "2022-10-21T20:46:19.766Z"
   },
   {
    "duration": 0,
    "start_time": "2022-10-21T20:46:19.766Z"
   },
   {
    "duration": 0,
    "start_time": "2022-10-21T20:46:19.767Z"
   },
   {
    "duration": 0,
    "start_time": "2022-10-21T20:46:19.768Z"
   },
   {
    "duration": 0,
    "start_time": "2022-10-21T20:46:19.769Z"
   },
   {
    "duration": 0,
    "start_time": "2022-10-21T20:46:19.770Z"
   },
   {
    "duration": 0,
    "start_time": "2022-10-21T20:46:19.771Z"
   },
   {
    "duration": 0,
    "start_time": "2022-10-21T20:46:19.772Z"
   },
   {
    "duration": 0,
    "start_time": "2022-10-21T20:46:19.774Z"
   },
   {
    "duration": 0,
    "start_time": "2022-10-21T20:46:19.775Z"
   },
   {
    "duration": 0,
    "start_time": "2022-10-21T20:46:19.776Z"
   },
   {
    "duration": 0,
    "start_time": "2022-10-21T20:46:19.777Z"
   },
   {
    "duration": 0,
    "start_time": "2022-10-21T20:46:19.778Z"
   },
   {
    "duration": 0,
    "start_time": "2022-10-21T20:46:19.779Z"
   },
   {
    "duration": 374,
    "start_time": "2022-10-21T20:52:18.670Z"
   },
   {
    "duration": 185,
    "start_time": "2022-10-21T20:57:33.408Z"
   },
   {
    "duration": 199,
    "start_time": "2022-10-21T20:57:47.223Z"
   },
   {
    "duration": 188,
    "start_time": "2022-10-21T20:58:13.468Z"
   },
   {
    "duration": 190,
    "start_time": "2022-10-21T20:58:45.332Z"
   },
   {
    "duration": 304,
    "start_time": "2022-10-21T20:59:55.254Z"
   },
   {
    "duration": 48,
    "start_time": "2022-10-21T21:02:14.931Z"
   },
   {
    "duration": 119,
    "start_time": "2022-10-21T21:02:23.509Z"
   },
   {
    "duration": 124,
    "start_time": "2022-10-21T21:02:39.476Z"
   },
   {
    "duration": 237,
    "start_time": "2022-10-21T21:03:17.417Z"
   },
   {
    "duration": 204,
    "start_time": "2022-10-21T21:03:30.779Z"
   },
   {
    "duration": 287,
    "start_time": "2022-10-21T21:03:38.721Z"
   },
   {
    "duration": 216,
    "start_time": "2022-10-21T21:03:49.257Z"
   },
   {
    "duration": 344,
    "start_time": "2022-10-21T21:04:11.514Z"
   },
   {
    "duration": 144,
    "start_time": "2022-10-21T21:11:05.846Z"
   },
   {
    "duration": 210,
    "start_time": "2022-10-21T21:14:35.286Z"
   },
   {
    "duration": 243,
    "start_time": "2022-10-21T21:15:06.905Z"
   },
   {
    "duration": 263,
    "start_time": "2022-10-21T21:15:22.814Z"
   },
   {
    "duration": 265,
    "start_time": "2022-10-21T21:15:35.060Z"
   },
   {
    "duration": 358,
    "start_time": "2022-10-21T21:15:47.657Z"
   },
   {
    "duration": 245,
    "start_time": "2022-10-21T21:16:26.151Z"
   },
   {
    "duration": 14,
    "start_time": "2022-10-21T21:26:31.947Z"
   },
   {
    "duration": 228,
    "start_time": "2022-10-21T21:32:20.411Z"
   },
   {
    "duration": 102,
    "start_time": "2022-10-21T21:32:42.147Z"
   },
   {
    "duration": 242,
    "start_time": "2022-10-21T21:32:50.633Z"
   },
   {
    "duration": 248,
    "start_time": "2022-10-21T21:33:24.141Z"
   },
   {
    "duration": 326,
    "start_time": "2022-10-21T21:38:36.092Z"
   },
   {
    "duration": 51,
    "start_time": "2022-10-21T21:42:33.639Z"
   },
   {
    "duration": 866,
    "start_time": "2022-10-21T21:42:43.176Z"
   },
   {
    "duration": 237,
    "start_time": "2022-10-21T21:46:25.863Z"
   },
   {
    "duration": 3,
    "start_time": "2022-10-21T21:46:31.310Z"
   },
   {
    "duration": 52,
    "start_time": "2022-10-21T21:46:31.314Z"
   },
   {
    "duration": 13,
    "start_time": "2022-10-21T21:46:31.367Z"
   },
   {
    "duration": 4,
    "start_time": "2022-10-21T21:46:31.382Z"
   },
   {
    "duration": 12,
    "start_time": "2022-10-21T21:46:31.388Z"
   },
   {
    "duration": 23,
    "start_time": "2022-10-21T21:46:31.401Z"
   },
   {
    "duration": 11,
    "start_time": "2022-10-21T21:46:31.425Z"
   },
   {
    "duration": 7,
    "start_time": "2022-10-21T21:46:31.437Z"
   },
   {
    "duration": 12,
    "start_time": "2022-10-21T21:46:31.446Z"
   },
   {
    "duration": 12,
    "start_time": "2022-10-21T21:46:31.460Z"
   },
   {
    "duration": 22,
    "start_time": "2022-10-21T21:46:31.473Z"
   },
   {
    "duration": 27,
    "start_time": "2022-10-21T21:46:31.496Z"
   },
   {
    "duration": 8,
    "start_time": "2022-10-21T21:46:31.524Z"
   },
   {
    "duration": 14,
    "start_time": "2022-10-21T21:46:31.533Z"
   },
   {
    "duration": 6,
    "start_time": "2022-10-21T21:46:31.548Z"
   },
   {
    "duration": 11,
    "start_time": "2022-10-21T21:46:31.556Z"
   },
   {
    "duration": 16520,
    "start_time": "2022-10-21T21:46:31.568Z"
   },
   {
    "duration": 16716,
    "start_time": "2022-10-21T21:46:48.090Z"
   },
   {
    "duration": 4,
    "start_time": "2022-10-21T21:47:04.809Z"
   },
   {
    "duration": 24,
    "start_time": "2022-10-21T21:47:04.822Z"
   },
   {
    "duration": 3,
    "start_time": "2022-10-21T21:47:04.848Z"
   },
   {
    "duration": 7,
    "start_time": "2022-10-21T21:47:04.853Z"
   },
   {
    "duration": 5,
    "start_time": "2022-10-21T21:47:04.861Z"
   },
   {
    "duration": 4,
    "start_time": "2022-10-21T21:47:04.869Z"
   },
   {
    "duration": 7,
    "start_time": "2022-10-21T21:47:04.874Z"
   },
   {
    "duration": 8,
    "start_time": "2022-10-21T21:47:04.883Z"
   },
   {
    "duration": 37,
    "start_time": "2022-10-21T21:47:04.892Z"
   },
   {
    "duration": 7,
    "start_time": "2022-10-21T21:47:04.931Z"
   },
   {
    "duration": 17,
    "start_time": "2022-10-21T21:47:04.940Z"
   },
   {
    "duration": 22,
    "start_time": "2022-10-21T21:47:04.959Z"
   },
   {
    "duration": 189,
    "start_time": "2022-10-21T21:47:04.983Z"
   },
   {
    "duration": 17,
    "start_time": "2022-10-21T21:47:05.173Z"
   },
   {
    "duration": 224,
    "start_time": "2022-10-21T21:47:05.191Z"
   },
   {
    "duration": 323,
    "start_time": "2022-10-21T21:47:05.417Z"
   },
   {
    "duration": 220,
    "start_time": "2022-10-21T21:47:05.742Z"
   },
   {
    "duration": 264,
    "start_time": "2022-10-21T21:47:05.964Z"
   },
   {
    "duration": 24,
    "start_time": "2022-10-21T21:47:06.231Z"
   },
   {
    "duration": 1,
    "start_time": "2022-10-21T21:47:06.256Z"
   },
   {
    "duration": 0,
    "start_time": "2022-10-21T21:47:06.258Z"
   },
   {
    "duration": 0,
    "start_time": "2022-10-21T21:47:06.259Z"
   },
   {
    "duration": 0,
    "start_time": "2022-10-21T21:47:06.260Z"
   },
   {
    "duration": 0,
    "start_time": "2022-10-21T21:47:06.261Z"
   },
   {
    "duration": 0,
    "start_time": "2022-10-21T21:47:06.262Z"
   },
   {
    "duration": 0,
    "start_time": "2022-10-21T21:47:06.263Z"
   },
   {
    "duration": 0,
    "start_time": "2022-10-21T21:47:06.263Z"
   },
   {
    "duration": 0,
    "start_time": "2022-10-21T21:47:06.264Z"
   },
   {
    "duration": 0,
    "start_time": "2022-10-21T21:47:06.265Z"
   },
   {
    "duration": 0,
    "start_time": "2022-10-21T21:47:06.266Z"
   },
   {
    "duration": 0,
    "start_time": "2022-10-21T21:47:06.267Z"
   },
   {
    "duration": 0,
    "start_time": "2022-10-21T21:47:06.268Z"
   },
   {
    "duration": 0,
    "start_time": "2022-10-21T21:47:06.269Z"
   },
   {
    "duration": 0,
    "start_time": "2022-10-21T21:47:06.270Z"
   },
   {
    "duration": 0,
    "start_time": "2022-10-21T21:47:06.271Z"
   },
   {
    "duration": 2,
    "start_time": "2022-10-21T21:47:46.461Z"
   },
   {
    "duration": 51,
    "start_time": "2022-10-21T21:47:46.465Z"
   },
   {
    "duration": 14,
    "start_time": "2022-10-21T21:47:46.518Z"
   },
   {
    "duration": 8,
    "start_time": "2022-10-21T21:47:46.533Z"
   },
   {
    "duration": 9,
    "start_time": "2022-10-21T21:47:46.543Z"
   },
   {
    "duration": 7,
    "start_time": "2022-10-21T21:47:46.553Z"
   },
   {
    "duration": 10,
    "start_time": "2022-10-21T21:47:46.562Z"
   },
   {
    "duration": 10,
    "start_time": "2022-10-21T21:47:46.573Z"
   },
   {
    "duration": 7,
    "start_time": "2022-10-21T21:47:46.585Z"
   },
   {
    "duration": 34,
    "start_time": "2022-10-21T21:47:46.594Z"
   },
   {
    "duration": 11,
    "start_time": "2022-10-21T21:47:46.631Z"
   },
   {
    "duration": 16,
    "start_time": "2022-10-21T21:47:46.644Z"
   },
   {
    "duration": 8,
    "start_time": "2022-10-21T21:47:46.661Z"
   },
   {
    "duration": 14,
    "start_time": "2022-10-21T21:47:46.670Z"
   },
   {
    "duration": 6,
    "start_time": "2022-10-21T21:47:46.685Z"
   },
   {
    "duration": 32,
    "start_time": "2022-10-21T21:47:46.693Z"
   },
   {
    "duration": 16757,
    "start_time": "2022-10-21T21:47:46.727Z"
   },
   {
    "duration": 16720,
    "start_time": "2022-10-21T21:48:03.485Z"
   },
   {
    "duration": 4,
    "start_time": "2022-10-21T21:48:20.207Z"
   },
   {
    "duration": 20,
    "start_time": "2022-10-21T21:48:20.222Z"
   },
   {
    "duration": 5,
    "start_time": "2022-10-21T21:48:20.243Z"
   },
   {
    "duration": 7,
    "start_time": "2022-10-21T21:48:20.249Z"
   },
   {
    "duration": 6,
    "start_time": "2022-10-21T21:48:20.258Z"
   },
   {
    "duration": 6,
    "start_time": "2022-10-21T21:48:20.266Z"
   },
   {
    "duration": 6,
    "start_time": "2022-10-21T21:48:20.274Z"
   },
   {
    "duration": 7,
    "start_time": "2022-10-21T21:48:20.281Z"
   },
   {
    "duration": 9,
    "start_time": "2022-10-21T21:48:20.289Z"
   },
   {
    "duration": 25,
    "start_time": "2022-10-21T21:48:20.300Z"
   },
   {
    "duration": 13,
    "start_time": "2022-10-21T21:48:20.328Z"
   },
   {
    "duration": 17,
    "start_time": "2022-10-21T21:48:20.342Z"
   },
   {
    "duration": 164,
    "start_time": "2022-10-21T21:48:20.360Z"
   },
   {
    "duration": 16,
    "start_time": "2022-10-21T21:48:20.526Z"
   },
   {
    "duration": 333,
    "start_time": "2022-10-21T21:48:20.544Z"
   },
   {
    "duration": 297,
    "start_time": "2022-10-21T21:48:20.879Z"
   },
   {
    "duration": 212,
    "start_time": "2022-10-21T21:48:21.178Z"
   },
   {
    "duration": 258,
    "start_time": "2022-10-21T21:48:21.392Z"
   },
   {
    "duration": 170,
    "start_time": "2022-10-21T21:48:21.652Z"
   },
   {
    "duration": 167,
    "start_time": "2022-10-21T21:48:21.824Z"
   },
   {
    "duration": 30,
    "start_time": "2022-10-21T21:48:21.993Z"
   },
   {
    "duration": 0,
    "start_time": "2022-10-21T21:48:22.025Z"
   },
   {
    "duration": 0,
    "start_time": "2022-10-21T21:48:22.026Z"
   },
   {
    "duration": 0,
    "start_time": "2022-10-21T21:48:22.027Z"
   },
   {
    "duration": 0,
    "start_time": "2022-10-21T21:48:22.028Z"
   },
   {
    "duration": 0,
    "start_time": "2022-10-21T21:48:22.029Z"
   },
   {
    "duration": 0,
    "start_time": "2022-10-21T21:48:22.030Z"
   },
   {
    "duration": 0,
    "start_time": "2022-10-21T21:48:22.031Z"
   },
   {
    "duration": 0,
    "start_time": "2022-10-21T21:48:22.032Z"
   },
   {
    "duration": 0,
    "start_time": "2022-10-21T21:48:22.033Z"
   },
   {
    "duration": 0,
    "start_time": "2022-10-21T21:48:22.034Z"
   },
   {
    "duration": 0,
    "start_time": "2022-10-21T21:48:22.035Z"
   },
   {
    "duration": 0,
    "start_time": "2022-10-21T21:48:22.036Z"
   },
   {
    "duration": 0,
    "start_time": "2022-10-21T21:48:22.037Z"
   },
   {
    "duration": 0,
    "start_time": "2022-10-21T21:48:22.038Z"
   },
   {
    "duration": 3,
    "start_time": "2022-10-21T21:48:46.228Z"
   },
   {
    "duration": 52,
    "start_time": "2022-10-21T21:48:46.233Z"
   },
   {
    "duration": 13,
    "start_time": "2022-10-21T21:48:46.287Z"
   },
   {
    "duration": 21,
    "start_time": "2022-10-21T21:48:46.302Z"
   },
   {
    "duration": 16,
    "start_time": "2022-10-21T21:48:46.325Z"
   },
   {
    "duration": 22,
    "start_time": "2022-10-21T21:48:46.343Z"
   },
   {
    "duration": 40,
    "start_time": "2022-10-21T21:48:46.366Z"
   },
   {
    "duration": 18,
    "start_time": "2022-10-21T21:48:46.408Z"
   },
   {
    "duration": 34,
    "start_time": "2022-10-21T21:48:46.427Z"
   },
   {
    "duration": 28,
    "start_time": "2022-10-21T21:48:46.463Z"
   },
   {
    "duration": 23,
    "start_time": "2022-10-21T21:48:46.492Z"
   },
   {
    "duration": 32,
    "start_time": "2022-10-21T21:48:46.516Z"
   },
   {
    "duration": 14,
    "start_time": "2022-10-21T21:48:46.552Z"
   },
   {
    "duration": 27,
    "start_time": "2022-10-21T21:48:46.567Z"
   },
   {
    "duration": 23,
    "start_time": "2022-10-21T21:48:46.595Z"
   },
   {
    "duration": 29,
    "start_time": "2022-10-21T21:48:46.619Z"
   },
   {
    "duration": 16660,
    "start_time": "2022-10-21T21:48:46.649Z"
   },
   {
    "duration": 16864,
    "start_time": "2022-10-21T21:49:03.311Z"
   },
   {
    "duration": 5,
    "start_time": "2022-10-21T21:49:20.177Z"
   },
   {
    "duration": 25,
    "start_time": "2022-10-21T21:49:20.183Z"
   },
   {
    "duration": 12,
    "start_time": "2022-10-21T21:49:20.210Z"
   },
   {
    "duration": 10,
    "start_time": "2022-10-21T21:49:20.223Z"
   },
   {
    "duration": 7,
    "start_time": "2022-10-21T21:49:20.234Z"
   },
   {
    "duration": 5,
    "start_time": "2022-10-21T21:49:20.243Z"
   },
   {
    "duration": 5,
    "start_time": "2022-10-21T21:49:20.249Z"
   },
   {
    "duration": 10,
    "start_time": "2022-10-21T21:49:20.256Z"
   },
   {
    "duration": 14,
    "start_time": "2022-10-21T21:49:20.268Z"
   },
   {
    "duration": 5,
    "start_time": "2022-10-21T21:49:20.284Z"
   },
   {
    "duration": 16,
    "start_time": "2022-10-21T21:49:20.290Z"
   },
   {
    "duration": 26,
    "start_time": "2022-10-21T21:49:20.307Z"
   },
   {
    "duration": 154,
    "start_time": "2022-10-21T21:49:20.335Z"
   },
   {
    "duration": 15,
    "start_time": "2022-10-21T21:49:20.491Z"
   },
   {
    "duration": 218,
    "start_time": "2022-10-21T21:49:20.507Z"
   },
   {
    "duration": 292,
    "start_time": "2022-10-21T21:49:20.726Z"
   },
   {
    "duration": 206,
    "start_time": "2022-10-21T21:49:21.019Z"
   },
   {
    "duration": 360,
    "start_time": "2022-10-21T21:49:21.227Z"
   },
   {
    "duration": 159,
    "start_time": "2022-10-21T21:49:21.591Z"
   },
   {
    "duration": 175,
    "start_time": "2022-10-21T21:49:21.751Z"
   },
   {
    "duration": 179,
    "start_time": "2022-10-21T21:49:21.928Z"
   },
   {
    "duration": 160,
    "start_time": "2022-10-21T21:49:22.108Z"
   },
   {
    "duration": 13,
    "start_time": "2022-10-21T21:49:22.269Z"
   },
   {
    "duration": 233,
    "start_time": "2022-10-21T21:49:22.284Z"
   },
   {
    "duration": 113,
    "start_time": "2022-10-21T21:49:22.519Z"
   },
   {
    "duration": 114,
    "start_time": "2022-10-21T21:49:22.634Z"
   },
   {
    "duration": 116,
    "start_time": "2022-10-21T21:49:22.749Z"
   },
   {
    "duration": 116,
    "start_time": "2022-10-21T21:49:22.867Z"
   },
   {
    "duration": 120,
    "start_time": "2022-10-21T21:49:22.985Z"
   },
   {
    "duration": 124,
    "start_time": "2022-10-21T21:49:23.107Z"
   },
   {
    "duration": 102,
    "start_time": "2022-10-21T21:49:23.233Z"
   },
   {
    "duration": 120,
    "start_time": "2022-10-21T21:49:23.337Z"
   },
   {
    "duration": 120,
    "start_time": "2022-10-21T21:49:23.458Z"
   },
   {
    "duration": 8,
    "start_time": "2022-10-21T21:49:23.579Z"
   },
   {
    "duration": 12,
    "start_time": "2022-10-21T21:49:23.589Z"
   },
   {
    "duration": 49,
    "start_time": "2022-10-21T21:50:19.860Z"
   },
   {
    "duration": 377,
    "start_time": "2022-10-21T21:50:31.236Z"
   },
   {
    "duration": 261,
    "start_time": "2022-10-21T21:51:56.306Z"
   },
   {
    "duration": 249,
    "start_time": "2022-10-21T21:52:29.040Z"
   },
   {
    "duration": 260,
    "start_time": "2022-10-21T21:53:00.354Z"
   },
   {
    "duration": 277,
    "start_time": "2022-10-21T21:53:17.974Z"
   },
   {
    "duration": 360,
    "start_time": "2022-10-21T21:53:44.746Z"
   },
   {
    "duration": 241,
    "start_time": "2022-10-21T21:53:51.983Z"
   },
   {
    "duration": 253,
    "start_time": "2022-10-21T21:54:07.551Z"
   },
   {
    "duration": 509,
    "start_time": "2022-10-21T21:54:56.977Z"
   },
   {
    "duration": 492,
    "start_time": "2022-10-21T21:57:58.184Z"
   },
   {
    "duration": 619,
    "start_time": "2022-10-21T21:58:43.676Z"
   },
   {
    "duration": 526,
    "start_time": "2022-10-21T21:59:50.844Z"
   },
   {
    "duration": 507,
    "start_time": "2022-10-21T22:01:34.921Z"
   },
   {
    "duration": 666,
    "start_time": "2022-10-21T22:08:20.427Z"
   },
   {
    "duration": 590,
    "start_time": "2022-10-21T22:08:38.509Z"
   },
   {
    "duration": 144,
    "start_time": "2022-10-21T22:14:27.583Z"
   },
   {
    "duration": 127,
    "start_time": "2022-10-21T22:14:45.443Z"
   },
   {
    "duration": 123,
    "start_time": "2022-10-21T22:15:02.034Z"
   },
   {
    "duration": 3,
    "start_time": "2022-10-21T22:15:23.515Z"
   },
   {
    "duration": 56,
    "start_time": "2022-10-21T22:15:23.520Z"
   },
   {
    "duration": 13,
    "start_time": "2022-10-21T22:15:23.577Z"
   },
   {
    "duration": 8,
    "start_time": "2022-10-21T22:15:23.592Z"
   },
   {
    "duration": 20,
    "start_time": "2022-10-21T22:15:23.602Z"
   },
   {
    "duration": 4,
    "start_time": "2022-10-21T22:15:23.624Z"
   },
   {
    "duration": 26,
    "start_time": "2022-10-21T22:15:23.631Z"
   },
   {
    "duration": 8,
    "start_time": "2022-10-21T22:15:23.659Z"
   },
   {
    "duration": 10,
    "start_time": "2022-10-21T22:15:23.669Z"
   },
   {
    "duration": 12,
    "start_time": "2022-10-21T22:15:23.681Z"
   },
   {
    "duration": 12,
    "start_time": "2022-10-21T22:15:23.694Z"
   },
   {
    "duration": 27,
    "start_time": "2022-10-21T22:15:23.707Z"
   },
   {
    "duration": 12,
    "start_time": "2022-10-21T22:15:23.736Z"
   },
   {
    "duration": 13,
    "start_time": "2022-10-21T22:15:23.752Z"
   },
   {
    "duration": 7,
    "start_time": "2022-10-21T22:15:23.767Z"
   },
   {
    "duration": 7,
    "start_time": "2022-10-21T22:15:23.776Z"
   },
   {
    "duration": 18987,
    "start_time": "2022-10-21T22:15:23.784Z"
   },
   {
    "duration": 18986,
    "start_time": "2022-10-21T22:15:42.773Z"
   },
   {
    "duration": 5,
    "start_time": "2022-10-21T22:16:01.761Z"
   },
   {
    "duration": 26,
    "start_time": "2022-10-21T22:16:01.768Z"
   },
   {
    "duration": 5,
    "start_time": "2022-10-21T22:16:01.797Z"
   },
   {
    "duration": 19,
    "start_time": "2022-10-21T22:16:01.804Z"
   },
   {
    "duration": 26,
    "start_time": "2022-10-21T22:16:01.825Z"
   },
   {
    "duration": 18,
    "start_time": "2022-10-21T22:16:01.854Z"
   },
   {
    "duration": 18,
    "start_time": "2022-10-21T22:16:01.873Z"
   },
   {
    "duration": 20,
    "start_time": "2022-10-21T22:16:01.893Z"
   },
   {
    "duration": 31,
    "start_time": "2022-10-21T22:16:01.915Z"
   },
   {
    "duration": 42,
    "start_time": "2022-10-21T22:16:01.948Z"
   },
   {
    "duration": 34,
    "start_time": "2022-10-21T22:16:01.992Z"
   },
   {
    "duration": 28,
    "start_time": "2022-10-21T22:16:02.029Z"
   },
   {
    "duration": 178,
    "start_time": "2022-10-21T22:16:02.059Z"
   },
   {
    "duration": 24,
    "start_time": "2022-10-21T22:16:02.240Z"
   },
   {
    "duration": 264,
    "start_time": "2022-10-21T22:16:02.266Z"
   },
   {
    "duration": 318,
    "start_time": "2022-10-21T22:16:02.532Z"
   },
   {
    "duration": 211,
    "start_time": "2022-10-21T22:16:02.852Z"
   },
   {
    "duration": 424,
    "start_time": "2022-10-21T22:16:03.065Z"
   },
   {
    "duration": 189,
    "start_time": "2022-10-21T22:16:03.491Z"
   },
   {
    "duration": 189,
    "start_time": "2022-10-21T22:16:03.682Z"
   },
   {
    "duration": 200,
    "start_time": "2022-10-21T22:16:03.873Z"
   },
   {
    "duration": 167,
    "start_time": "2022-10-21T22:16:04.074Z"
   },
   {
    "duration": 15,
    "start_time": "2022-10-21T22:16:04.245Z"
   },
   {
    "duration": 554,
    "start_time": "2022-10-21T22:16:04.261Z"
   },
   {
    "duration": 139,
    "start_time": "2022-10-21T22:16:04.817Z"
   },
   {
    "duration": 133,
    "start_time": "2022-10-21T22:16:04.957Z"
   },
   {
    "duration": 117,
    "start_time": "2022-10-21T22:16:05.092Z"
   },
   {
    "duration": 146,
    "start_time": "2022-10-21T22:16:05.210Z"
   },
   {
    "duration": 124,
    "start_time": "2022-10-21T22:16:05.357Z"
   },
   {
    "duration": 133,
    "start_time": "2022-10-21T22:16:05.483Z"
   },
   {
    "duration": 131,
    "start_time": "2022-10-21T22:16:05.617Z"
   },
   {
    "duration": 135,
    "start_time": "2022-10-21T22:16:05.750Z"
   },
   {
    "duration": 301,
    "start_time": "2022-10-21T22:16:05.886Z"
   },
   {
    "duration": 8,
    "start_time": "2022-10-21T22:16:06.189Z"
   },
   {
    "duration": 23,
    "start_time": "2022-10-21T22:16:06.199Z"
   },
   {
    "duration": 147,
    "start_time": "2022-10-21T22:17:02.809Z"
   },
   {
    "duration": 121,
    "start_time": "2022-10-21T22:17:14.894Z"
   },
   {
    "duration": 109,
    "start_time": "2022-10-21T22:17:26.784Z"
   },
   {
    "duration": 94,
    "start_time": "2022-10-21T22:26:58.287Z"
   },
   {
    "duration": 13,
    "start_time": "2022-10-21T22:33:51.997Z"
   },
   {
    "duration": 343,
    "start_time": "2022-10-21T22:34:21.157Z"
   },
   {
    "duration": 398,
    "start_time": "2022-10-21T22:35:12.106Z"
   },
   {
    "duration": 41,
    "start_time": "2022-10-22T10:43:13.268Z"
   },
   {
    "duration": 6,
    "start_time": "2022-10-22T10:43:58.777Z"
   },
   {
    "duration": 1259,
    "start_time": "2022-10-22T10:45:28.907Z"
   },
   {
    "duration": 84,
    "start_time": "2022-10-22T10:45:30.167Z"
   },
   {
    "duration": 13,
    "start_time": "2022-10-22T10:45:30.253Z"
   },
   {
    "duration": 17,
    "start_time": "2022-10-22T10:45:30.267Z"
   },
   {
    "duration": 5,
    "start_time": "2022-10-22T10:45:30.286Z"
   },
   {
    "duration": 16,
    "start_time": "2022-10-22T10:45:30.292Z"
   },
   {
    "duration": 25,
    "start_time": "2022-10-22T10:45:30.310Z"
   },
   {
    "duration": 21,
    "start_time": "2022-10-22T10:45:30.336Z"
   },
   {
    "duration": 14,
    "start_time": "2022-10-22T10:45:30.359Z"
   },
   {
    "duration": 28,
    "start_time": "2022-10-22T10:45:30.375Z"
   },
   {
    "duration": 30,
    "start_time": "2022-10-22T10:45:30.404Z"
   },
   {
    "duration": 40,
    "start_time": "2022-10-22T10:45:30.436Z"
   },
   {
    "duration": 18,
    "start_time": "2022-10-22T10:45:30.478Z"
   },
   {
    "duration": 27,
    "start_time": "2022-10-22T10:45:30.498Z"
   },
   {
    "duration": 15,
    "start_time": "2022-10-22T10:45:30.527Z"
   },
   {
    "duration": 20,
    "start_time": "2022-10-22T10:45:30.544Z"
   },
   {
    "duration": 16192,
    "start_time": "2022-10-22T10:45:30.566Z"
   },
   {
    "duration": 15871,
    "start_time": "2022-10-22T10:45:46.759Z"
   },
   {
    "duration": 5,
    "start_time": "2022-10-22T10:46:02.631Z"
   },
   {
    "duration": 31,
    "start_time": "2022-10-22T10:46:02.637Z"
   },
   {
    "duration": 4,
    "start_time": "2022-10-22T10:46:02.669Z"
   },
   {
    "duration": 10,
    "start_time": "2022-10-22T10:46:02.675Z"
   },
   {
    "duration": 6,
    "start_time": "2022-10-22T10:46:02.686Z"
   },
   {
    "duration": 10,
    "start_time": "2022-10-22T10:46:02.694Z"
   },
   {
    "duration": 15,
    "start_time": "2022-10-22T10:46:02.705Z"
   },
   {
    "duration": 10,
    "start_time": "2022-10-22T10:46:02.722Z"
   },
   {
    "duration": 12,
    "start_time": "2022-10-22T10:46:02.734Z"
   },
   {
    "duration": 4,
    "start_time": "2022-10-22T10:46:02.749Z"
   },
   {
    "duration": 14,
    "start_time": "2022-10-22T10:46:02.754Z"
   },
   {
    "duration": 38,
    "start_time": "2022-10-22T10:46:02.770Z"
   },
   {
    "duration": 161,
    "start_time": "2022-10-22T10:46:02.810Z"
   },
   {
    "duration": 17,
    "start_time": "2022-10-22T10:46:02.972Z"
   },
   {
    "duration": 239,
    "start_time": "2022-10-22T10:46:03.000Z"
   },
   {
    "duration": 280,
    "start_time": "2022-10-22T10:46:03.240Z"
   },
   {
    "duration": 207,
    "start_time": "2022-10-22T10:46:03.521Z"
   },
   {
    "duration": 238,
    "start_time": "2022-10-22T10:46:03.730Z"
   },
   {
    "duration": 161,
    "start_time": "2022-10-22T10:46:03.970Z"
   },
   {
    "duration": 246,
    "start_time": "2022-10-22T10:46:04.133Z"
   },
   {
    "duration": 198,
    "start_time": "2022-10-22T10:46:04.380Z"
   },
   {
    "duration": 185,
    "start_time": "2022-10-22T10:46:04.581Z"
   },
   {
    "duration": 13,
    "start_time": "2022-10-22T10:46:04.767Z"
   },
   {
    "duration": 536,
    "start_time": "2022-10-22T10:46:04.781Z"
   },
   {
    "duration": 134,
    "start_time": "2022-10-22T10:46:05.321Z"
   },
   {
    "duration": 121,
    "start_time": "2022-10-22T10:46:05.457Z"
   },
   {
    "duration": 105,
    "start_time": "2022-10-22T10:46:05.579Z"
   },
   {
    "duration": 76,
    "start_time": "2022-10-22T10:46:05.685Z"
   },
   {
    "duration": 0,
    "start_time": "2022-10-22T10:46:05.763Z"
   },
   {
    "duration": 0,
    "start_time": "2022-10-22T10:46:05.764Z"
   },
   {
    "duration": 0,
    "start_time": "2022-10-22T10:46:05.765Z"
   },
   {
    "duration": 0,
    "start_time": "2022-10-22T10:46:05.766Z"
   },
   {
    "duration": 0,
    "start_time": "2022-10-22T10:46:05.767Z"
   },
   {
    "duration": 0,
    "start_time": "2022-10-22T10:46:05.768Z"
   },
   {
    "duration": 0,
    "start_time": "2022-10-22T10:46:05.769Z"
   },
   {
    "duration": 0,
    "start_time": "2022-10-22T10:46:05.770Z"
   },
   {
    "duration": 100,
    "start_time": "2022-10-22T11:01:24.628Z"
   },
   {
    "duration": 198,
    "start_time": "2022-10-22T11:02:23.261Z"
   },
   {
    "duration": 120,
    "start_time": "2022-10-22T11:04:07.890Z"
   },
   {
    "duration": 110,
    "start_time": "2022-10-22T11:04:16.421Z"
   },
   {
    "duration": 112,
    "start_time": "2022-10-22T11:04:21.457Z"
   },
   {
    "duration": 95,
    "start_time": "2022-10-22T11:09:56.372Z"
   },
   {
    "duration": 99,
    "start_time": "2022-10-22T11:10:26.573Z"
   },
   {
    "duration": 108,
    "start_time": "2022-10-22T11:10:40.936Z"
   },
   {
    "duration": 107,
    "start_time": "2022-10-22T11:11:01.147Z"
   },
   {
    "duration": 482,
    "start_time": "2022-10-22T11:14:11.190Z"
   },
   {
    "duration": 487,
    "start_time": "2022-10-22T11:16:45.536Z"
   },
   {
    "duration": 9,
    "start_time": "2022-10-22T11:18:39.522Z"
   },
   {
    "duration": 7,
    "start_time": "2022-10-22T11:28:46.396Z"
   },
   {
    "duration": 7,
    "start_time": "2022-10-22T11:28:55.021Z"
   },
   {
    "duration": 2,
    "start_time": "2022-10-22T11:28:58.095Z"
   },
   {
    "duration": 54,
    "start_time": "2022-10-22T11:28:58.099Z"
   },
   {
    "duration": 12,
    "start_time": "2022-10-22T11:28:58.155Z"
   },
   {
    "duration": 3,
    "start_time": "2022-10-22T11:28:58.169Z"
   },
   {
    "duration": 10,
    "start_time": "2022-10-22T11:28:58.173Z"
   },
   {
    "duration": 18,
    "start_time": "2022-10-22T11:28:58.184Z"
   },
   {
    "duration": 13,
    "start_time": "2022-10-22T11:28:58.204Z"
   },
   {
    "duration": 12,
    "start_time": "2022-10-22T11:28:58.218Z"
   },
   {
    "duration": 16,
    "start_time": "2022-10-22T11:28:58.231Z"
   },
   {
    "duration": 22,
    "start_time": "2022-10-22T11:28:58.250Z"
   },
   {
    "duration": 22,
    "start_time": "2022-10-22T11:28:58.274Z"
   },
   {
    "duration": 15,
    "start_time": "2022-10-22T11:28:58.298Z"
   },
   {
    "duration": 10,
    "start_time": "2022-10-22T11:28:58.314Z"
   },
   {
    "duration": 14,
    "start_time": "2022-10-22T11:28:58.325Z"
   },
   {
    "duration": 6,
    "start_time": "2022-10-22T11:28:58.340Z"
   },
   {
    "duration": 14,
    "start_time": "2022-10-22T11:28:58.347Z"
   },
   {
    "duration": 16115,
    "start_time": "2022-10-22T11:28:58.363Z"
   },
   {
    "duration": 16259,
    "start_time": "2022-10-22T11:29:14.481Z"
   },
   {
    "duration": 6,
    "start_time": "2022-10-22T11:29:30.741Z"
   },
   {
    "duration": 42,
    "start_time": "2022-10-22T11:29:30.749Z"
   },
   {
    "duration": 38,
    "start_time": "2022-10-22T11:29:30.793Z"
   },
   {
    "duration": 75,
    "start_time": "2022-10-22T11:29:30.833Z"
   },
   {
    "duration": 32,
    "start_time": "2022-10-22T11:29:30.910Z"
   },
   {
    "duration": 39,
    "start_time": "2022-10-22T11:29:30.944Z"
   },
   {
    "duration": 44,
    "start_time": "2022-10-22T11:29:30.985Z"
   },
   {
    "duration": 30,
    "start_time": "2022-10-22T11:29:31.030Z"
   },
   {
    "duration": 40,
    "start_time": "2022-10-22T11:29:31.061Z"
   },
   {
    "duration": 49,
    "start_time": "2022-10-22T11:29:31.104Z"
   },
   {
    "duration": 42,
    "start_time": "2022-10-22T11:29:31.155Z"
   },
   {
    "duration": 46,
    "start_time": "2022-10-22T11:29:31.198Z"
   },
   {
    "duration": 176,
    "start_time": "2022-10-22T11:29:31.246Z"
   },
   {
    "duration": 20,
    "start_time": "2022-10-22T11:29:31.423Z"
   },
   {
    "duration": 227,
    "start_time": "2022-10-22T11:29:31.444Z"
   },
   {
    "duration": 278,
    "start_time": "2022-10-22T11:29:31.672Z"
   },
   {
    "duration": 270,
    "start_time": "2022-10-22T11:29:31.951Z"
   },
   {
    "duration": 240,
    "start_time": "2022-10-22T11:29:32.223Z"
   },
   {
    "duration": 150,
    "start_time": "2022-10-22T11:29:32.465Z"
   },
   {
    "duration": 163,
    "start_time": "2022-10-22T11:29:32.616Z"
   },
   {
    "duration": 170,
    "start_time": "2022-10-22T11:29:32.780Z"
   },
   {
    "duration": 161,
    "start_time": "2022-10-22T11:29:32.951Z"
   },
   {
    "duration": 13,
    "start_time": "2022-10-22T11:29:33.114Z"
   },
   {
    "duration": 518,
    "start_time": "2022-10-22T11:29:33.129Z"
   },
   {
    "duration": 123,
    "start_time": "2022-10-22T11:29:33.649Z"
   },
   {
    "duration": 211,
    "start_time": "2022-10-22T11:29:33.774Z"
   },
   {
    "duration": 108,
    "start_time": "2022-10-22T11:29:33.987Z"
   },
   {
    "duration": 135,
    "start_time": "2022-10-22T11:29:34.099Z"
   },
   {
    "duration": 131,
    "start_time": "2022-10-22T11:29:34.235Z"
   },
   {
    "duration": 155,
    "start_time": "2022-10-22T11:29:34.367Z"
   },
   {
    "duration": 132,
    "start_time": "2022-10-22T11:29:34.524Z"
   },
   {
    "duration": 114,
    "start_time": "2022-10-22T11:29:34.658Z"
   },
   {
    "duration": 102,
    "start_time": "2022-10-22T11:29:34.773Z"
   },
   {
    "duration": 115,
    "start_time": "2022-10-22T11:29:34.877Z"
   },
   {
    "duration": 14,
    "start_time": "2022-10-22T11:29:34.993Z"
   },
   {
    "duration": 12,
    "start_time": "2022-10-22T11:29:35.008Z"
   },
   {
    "duration": 9,
    "start_time": "2022-10-22T11:30:04.798Z"
   },
   {
    "duration": 10,
    "start_time": "2022-10-22T11:30:08.625Z"
   },
   {
    "duration": 8,
    "start_time": "2022-10-22T11:32:01.629Z"
   },
   {
    "duration": 10,
    "start_time": "2022-10-22T11:33:42.931Z"
   },
   {
    "duration": 13,
    "start_time": "2022-10-22T11:41:37.051Z"
   },
   {
    "duration": 9,
    "start_time": "2022-10-22T11:41:45.322Z"
   },
   {
    "duration": 13,
    "start_time": "2022-10-22T11:42:15.941Z"
   },
   {
    "duration": 32,
    "start_time": "2022-10-22T11:44:49.059Z"
   },
   {
    "duration": 8,
    "start_time": "2022-10-22T11:48:15.688Z"
   },
   {
    "duration": 10,
    "start_time": "2022-10-22T11:48:34.995Z"
   },
   {
    "duration": 8,
    "start_time": "2022-10-22T11:49:39.661Z"
   },
   {
    "duration": 7,
    "start_time": "2022-10-22T11:51:48.528Z"
   },
   {
    "duration": 9,
    "start_time": "2022-10-22T11:52:19.321Z"
   },
   {
    "duration": 1408,
    "start_time": "2022-10-23T03:32:47.675Z"
   },
   {
    "duration": 143,
    "start_time": "2022-10-23T03:32:49.086Z"
   },
   {
    "duration": 18,
    "start_time": "2022-10-23T03:32:49.230Z"
   },
   {
    "duration": 5,
    "start_time": "2022-10-23T03:32:49.251Z"
   },
   {
    "duration": 6,
    "start_time": "2022-10-23T03:32:49.258Z"
   },
   {
    "duration": 6,
    "start_time": "2022-10-23T03:32:49.266Z"
   },
   {
    "duration": 11,
    "start_time": "2022-10-23T03:32:49.274Z"
   },
   {
    "duration": 9,
    "start_time": "2022-10-23T03:32:49.287Z"
   },
   {
    "duration": 40,
    "start_time": "2022-10-23T03:32:49.298Z"
   },
   {
    "duration": 19,
    "start_time": "2022-10-23T03:32:49.341Z"
   },
   {
    "duration": 11,
    "start_time": "2022-10-23T03:32:49.363Z"
   },
   {
    "duration": 21,
    "start_time": "2022-10-23T03:32:49.376Z"
   },
   {
    "duration": 24,
    "start_time": "2022-10-23T03:32:49.399Z"
   },
   {
    "duration": 16,
    "start_time": "2022-10-23T03:32:49.426Z"
   },
   {
    "duration": 15,
    "start_time": "2022-10-23T03:32:49.445Z"
   },
   {
    "duration": 9,
    "start_time": "2022-10-23T03:32:49.462Z"
   },
   {
    "duration": 26504,
    "start_time": "2022-10-23T03:32:49.473Z"
   },
   {
    "duration": 20026,
    "start_time": "2022-10-23T03:33:15.979Z"
   },
   {
    "duration": 18,
    "start_time": "2022-10-23T03:33:36.006Z"
   },
   {
    "duration": 40,
    "start_time": "2022-10-23T03:33:36.028Z"
   },
   {
    "duration": 7,
    "start_time": "2022-10-23T03:33:36.069Z"
   },
   {
    "duration": 20,
    "start_time": "2022-10-23T03:33:36.078Z"
   },
   {
    "duration": 12,
    "start_time": "2022-10-23T03:33:36.100Z"
   },
   {
    "duration": 30,
    "start_time": "2022-10-23T03:33:36.114Z"
   },
   {
    "duration": 19,
    "start_time": "2022-10-23T03:33:36.146Z"
   },
   {
    "duration": 9,
    "start_time": "2022-10-23T03:33:36.167Z"
   },
   {
    "duration": 8,
    "start_time": "2022-10-23T03:33:36.179Z"
   },
   {
    "duration": 8,
    "start_time": "2022-10-23T03:33:36.192Z"
   },
   {
    "duration": 7,
    "start_time": "2022-10-23T03:33:36.202Z"
   },
   {
    "duration": 26,
    "start_time": "2022-10-23T03:33:36.210Z"
   },
   {
    "duration": 21,
    "start_time": "2022-10-23T03:33:36.237Z"
   },
   {
    "duration": 254,
    "start_time": "2022-10-23T03:33:36.260Z"
   },
   {
    "duration": 28,
    "start_time": "2022-10-23T03:33:36.515Z"
   },
   {
    "duration": 254,
    "start_time": "2022-10-23T03:33:36.545Z"
   },
   {
    "duration": 347,
    "start_time": "2022-10-23T03:33:36.800Z"
   },
   {
    "duration": 218,
    "start_time": "2022-10-23T03:33:37.150Z"
   },
   {
    "duration": 300,
    "start_time": "2022-10-23T03:33:37.369Z"
   },
   {
    "duration": 182,
    "start_time": "2022-10-23T03:33:37.671Z"
   },
   {
    "duration": 200,
    "start_time": "2022-10-23T03:33:37.855Z"
   },
   {
    "duration": 261,
    "start_time": "2022-10-23T03:33:38.057Z"
   },
   {
    "duration": 179,
    "start_time": "2022-10-23T03:33:38.326Z"
   },
   {
    "duration": 33,
    "start_time": "2022-10-23T03:33:38.507Z"
   },
   {
    "duration": 674,
    "start_time": "2022-10-23T03:33:38.542Z"
   },
   {
    "duration": 184,
    "start_time": "2022-10-23T03:33:39.222Z"
   },
   {
    "duration": 141,
    "start_time": "2022-10-23T03:33:39.407Z"
   },
   {
    "duration": 148,
    "start_time": "2022-10-23T03:33:39.550Z"
   },
   {
    "duration": 149,
    "start_time": "2022-10-23T03:33:39.700Z"
   },
   {
    "duration": 149,
    "start_time": "2022-10-23T03:33:39.851Z"
   },
   {
    "duration": 158,
    "start_time": "2022-10-23T03:33:40.002Z"
   },
   {
    "duration": 216,
    "start_time": "2022-10-23T03:33:40.162Z"
   },
   {
    "duration": 122,
    "start_time": "2022-10-23T03:33:40.380Z"
   },
   {
    "duration": 128,
    "start_time": "2022-10-23T03:33:40.504Z"
   },
   {
    "duration": 133,
    "start_time": "2022-10-23T03:33:40.635Z"
   },
   {
    "duration": 10,
    "start_time": "2022-10-23T03:33:40.770Z"
   },
   {
    "duration": 15,
    "start_time": "2022-10-23T03:33:40.782Z"
   },
   {
    "duration": 10,
    "start_time": "2022-10-23T03:34:28.161Z"
   },
   {
    "duration": 236,
    "start_time": "2022-10-23T03:37:23.583Z"
   },
   {
    "duration": 222,
    "start_time": "2022-10-23T03:37:41.249Z"
   },
   {
    "duration": 71,
    "start_time": "2022-10-23T03:37:58.209Z"
   },
   {
    "duration": 14,
    "start_time": "2022-10-23T03:38:06.545Z"
   },
   {
    "duration": 26,
    "start_time": "2022-10-23T03:38:19.817Z"
   },
   {
    "duration": 24,
    "start_time": "2022-10-23T03:38:28.520Z"
   },
   {
    "duration": 59,
    "start_time": "2022-10-23T03:38:44.018Z"
   },
   {
    "duration": 243,
    "start_time": "2022-10-23T03:39:00.395Z"
   },
   {
    "duration": 227,
    "start_time": "2022-10-23T03:39:06.699Z"
   },
   {
    "duration": 186,
    "start_time": "2022-10-23T03:41:24.817Z"
   },
   {
    "duration": 191,
    "start_time": "2022-10-23T03:41:55.266Z"
   },
   {
    "duration": 20,
    "start_time": "2022-10-23T03:46:26.795Z"
   },
   {
    "duration": 46,
    "start_time": "2022-10-23T03:48:03.333Z"
   },
   {
    "duration": 4,
    "start_time": "2022-10-23T03:48:03.582Z"
   },
   {
    "duration": 10,
    "start_time": "2022-10-23T03:48:03.798Z"
   },
   {
    "duration": 7,
    "start_time": "2022-10-23T03:48:03.926Z"
   },
   {
    "duration": 5,
    "start_time": "2022-10-23T03:48:04.158Z"
   },
   {
    "duration": 7,
    "start_time": "2022-10-23T03:48:04.518Z"
   },
   {
    "duration": 7,
    "start_time": "2022-10-23T03:48:04.728Z"
   },
   {
    "duration": 788,
    "start_time": "2022-10-23T03:48:04.959Z"
   },
   {
    "duration": 247,
    "start_time": "2022-10-23T03:50:22.115Z"
   },
   {
    "duration": 338,
    "start_time": "2022-10-23T03:50:54.389Z"
   },
   {
    "duration": 188,
    "start_time": "2022-10-23T03:52:45.642Z"
   },
   {
    "duration": 6,
    "start_time": "2022-10-23T03:56:01.564Z"
   },
   {
    "duration": 1073,
    "start_time": "2022-10-23T04:00:59.246Z"
   },
   {
    "duration": 55,
    "start_time": "2022-10-23T04:01:00.321Z"
   },
   {
    "duration": 15,
    "start_time": "2022-10-23T04:01:00.378Z"
   },
   {
    "duration": 13,
    "start_time": "2022-10-23T04:01:00.395Z"
   },
   {
    "duration": 43,
    "start_time": "2022-10-23T04:01:00.411Z"
   },
   {
    "duration": 41,
    "start_time": "2022-10-23T04:01:00.456Z"
   },
   {
    "duration": 44,
    "start_time": "2022-10-23T04:01:00.499Z"
   },
   {
    "duration": 34,
    "start_time": "2022-10-23T04:01:00.545Z"
   },
   {
    "duration": 44,
    "start_time": "2022-10-23T04:01:00.581Z"
   },
   {
    "duration": 20,
    "start_time": "2022-10-23T04:01:00.627Z"
   },
   {
    "duration": 47,
    "start_time": "2022-10-23T04:01:00.649Z"
   },
   {
    "duration": 23,
    "start_time": "2022-10-23T04:01:00.697Z"
   },
   {
    "duration": 28,
    "start_time": "2022-10-23T04:01:00.721Z"
   },
   {
    "duration": 32,
    "start_time": "2022-10-23T04:01:00.753Z"
   },
   {
    "duration": 30,
    "start_time": "2022-10-23T04:01:00.787Z"
   },
   {
    "duration": 33,
    "start_time": "2022-10-23T04:01:00.818Z"
   },
   {
    "duration": 17624,
    "start_time": "2022-10-23T04:01:00.852Z"
   },
   {
    "duration": 16673,
    "start_time": "2022-10-23T04:01:18.477Z"
   },
   {
    "duration": 5,
    "start_time": "2022-10-23T04:01:35.151Z"
   },
   {
    "duration": 24,
    "start_time": "2022-10-23T04:01:35.158Z"
   },
   {
    "duration": 6,
    "start_time": "2022-10-23T04:01:35.183Z"
   },
   {
    "duration": 7,
    "start_time": "2022-10-23T04:01:35.191Z"
   },
   {
    "duration": 24,
    "start_time": "2022-10-23T04:01:35.199Z"
   },
   {
    "duration": 4,
    "start_time": "2022-10-23T04:01:35.224Z"
   },
   {
    "duration": 12,
    "start_time": "2022-10-23T04:01:35.230Z"
   },
   {
    "duration": 16,
    "start_time": "2022-10-23T04:01:35.244Z"
   },
   {
    "duration": 10,
    "start_time": "2022-10-23T04:01:35.262Z"
   },
   {
    "duration": 11,
    "start_time": "2022-10-23T04:01:35.274Z"
   },
   {
    "duration": 8,
    "start_time": "2022-10-23T04:01:35.287Z"
   },
   {
    "duration": 23,
    "start_time": "2022-10-23T04:01:35.296Z"
   },
   {
    "duration": 17,
    "start_time": "2022-10-23T04:01:35.320Z"
   },
   {
    "duration": 172,
    "start_time": "2022-10-23T04:01:35.339Z"
   },
   {
    "duration": 29,
    "start_time": "2022-10-23T04:01:35.513Z"
   },
   {
    "duration": 257,
    "start_time": "2022-10-23T04:01:35.544Z"
   },
   {
    "duration": 302,
    "start_time": "2022-10-23T04:01:35.803Z"
   },
   {
    "duration": 206,
    "start_time": "2022-10-23T04:01:36.107Z"
   },
   {
    "duration": 178,
    "start_time": "2022-10-23T04:01:36.315Z"
   },
   {
    "duration": 266,
    "start_time": "2022-10-23T04:01:36.495Z"
   },
   {
    "duration": 163,
    "start_time": "2022-10-23T04:01:36.763Z"
   },
   {
    "duration": 251,
    "start_time": "2022-10-23T04:01:36.927Z"
   },
   {
    "duration": 168,
    "start_time": "2022-10-23T04:01:37.182Z"
   },
   {
    "duration": 172,
    "start_time": "2022-10-23T04:01:37.352Z"
   },
   {
    "duration": 17,
    "start_time": "2022-10-23T04:01:37.525Z"
   },
   {
    "duration": 566,
    "start_time": "2022-10-23T04:01:37.544Z"
   },
   {
    "duration": 135,
    "start_time": "2022-10-23T04:01:38.112Z"
   },
   {
    "duration": 124,
    "start_time": "2022-10-23T04:01:38.249Z"
   },
   {
    "duration": 115,
    "start_time": "2022-10-23T04:01:38.375Z"
   },
   {
    "duration": 136,
    "start_time": "2022-10-23T04:01:38.491Z"
   },
   {
    "duration": 169,
    "start_time": "2022-10-23T04:01:38.629Z"
   },
   {
    "duration": 432,
    "start_time": "2022-10-23T04:01:38.800Z"
   },
   {
    "duration": 229,
    "start_time": "2022-10-23T04:01:39.234Z"
   },
   {
    "duration": 461,
    "start_time": "2022-10-23T04:01:39.464Z"
   },
   {
    "duration": 203,
    "start_time": "2022-10-23T04:01:39.927Z"
   },
   {
    "duration": 204,
    "start_time": "2022-10-23T04:01:40.132Z"
   },
   {
    "duration": 213,
    "start_time": "2022-10-23T04:01:40.337Z"
   },
   {
    "duration": 8,
    "start_time": "2022-10-23T04:01:40.552Z"
   },
   {
    "duration": 61,
    "start_time": "2022-10-23T04:01:40.561Z"
   },
   {
    "duration": 16,
    "start_time": "2022-10-23T04:01:40.624Z"
   },
   {
    "duration": 147,
    "start_time": "2022-10-23T04:04:22.675Z"
   },
   {
    "duration": 1359,
    "start_time": "2022-10-23T07:09:42.265Z"
   },
   {
    "duration": 219,
    "start_time": "2022-10-23T07:09:43.626Z"
   },
   {
    "duration": 14,
    "start_time": "2022-10-23T07:09:43.847Z"
   },
   {
    "duration": 5,
    "start_time": "2022-10-23T07:09:43.863Z"
   },
   {
    "duration": 9,
    "start_time": "2022-10-23T07:09:43.869Z"
   },
   {
    "duration": 13,
    "start_time": "2022-10-23T07:09:43.880Z"
   },
   {
    "duration": 9,
    "start_time": "2022-10-23T07:09:43.895Z"
   },
   {
    "duration": 9,
    "start_time": "2022-10-23T07:09:43.906Z"
   },
   {
    "duration": 9,
    "start_time": "2022-10-23T07:09:43.916Z"
   },
   {
    "duration": 14,
    "start_time": "2022-10-23T07:09:43.928Z"
   },
   {
    "duration": 8,
    "start_time": "2022-10-23T07:09:43.943Z"
   },
   {
    "duration": 14,
    "start_time": "2022-10-23T07:09:43.953Z"
   },
   {
    "duration": 9,
    "start_time": "2022-10-23T07:09:43.969Z"
   },
   {
    "duration": 15,
    "start_time": "2022-10-23T07:09:43.980Z"
   },
   {
    "duration": 8,
    "start_time": "2022-10-23T07:09:43.997Z"
   },
   {
    "duration": 8,
    "start_time": "2022-10-23T07:09:44.006Z"
   },
   {
    "duration": 18327,
    "start_time": "2022-10-23T07:09:44.016Z"
   },
   {
    "duration": 17159,
    "start_time": "2022-10-23T07:10:02.345Z"
   },
   {
    "duration": 5,
    "start_time": "2022-10-23T07:10:19.506Z"
   },
   {
    "duration": 33,
    "start_time": "2022-10-23T07:10:19.512Z"
   },
   {
    "duration": 6,
    "start_time": "2022-10-23T07:10:19.546Z"
   },
   {
    "duration": 21,
    "start_time": "2022-10-23T07:10:19.554Z"
   },
   {
    "duration": 21,
    "start_time": "2022-10-23T07:10:19.577Z"
   },
   {
    "duration": 28,
    "start_time": "2022-10-23T07:10:19.600Z"
   },
   {
    "duration": 18,
    "start_time": "2022-10-23T07:10:19.629Z"
   },
   {
    "duration": 16,
    "start_time": "2022-10-23T07:10:19.648Z"
   },
   {
    "duration": 21,
    "start_time": "2022-10-23T07:10:19.665Z"
   },
   {
    "duration": 11,
    "start_time": "2022-10-23T07:10:19.689Z"
   },
   {
    "duration": 33,
    "start_time": "2022-10-23T07:10:19.702Z"
   },
   {
    "duration": 28,
    "start_time": "2022-10-23T07:10:19.737Z"
   },
   {
    "duration": 179,
    "start_time": "2022-10-23T07:10:19.766Z"
   },
   {
    "duration": 16,
    "start_time": "2022-10-23T07:10:19.947Z"
   },
   {
    "duration": 278,
    "start_time": "2022-10-23T07:10:19.965Z"
   },
   {
    "duration": 352,
    "start_time": "2022-10-23T07:10:20.246Z"
   },
   {
    "duration": 262,
    "start_time": "2022-10-23T07:10:20.600Z"
   },
   {
    "duration": 235,
    "start_time": "2022-10-23T07:10:20.863Z"
   },
   {
    "duration": 314,
    "start_time": "2022-10-23T07:10:21.100Z"
   },
   {
    "duration": 180,
    "start_time": "2022-10-23T07:10:21.415Z"
   },
   {
    "duration": 306,
    "start_time": "2022-10-23T07:10:21.597Z"
   },
   {
    "duration": 222,
    "start_time": "2022-10-23T07:10:21.905Z"
   },
   {
    "duration": 179,
    "start_time": "2022-10-23T07:10:22.129Z"
   },
   {
    "duration": 26,
    "start_time": "2022-10-23T07:10:22.310Z"
   },
   {
    "duration": 600,
    "start_time": "2022-10-23T07:10:22.337Z"
   },
   {
    "duration": 140,
    "start_time": "2022-10-23T07:10:22.939Z"
   },
   {
    "duration": 144,
    "start_time": "2022-10-23T07:10:23.081Z"
   },
   {
    "duration": 125,
    "start_time": "2022-10-23T07:10:23.227Z"
   },
   {
    "duration": 143,
    "start_time": "2022-10-23T07:10:23.353Z"
   },
   {
    "duration": 142,
    "start_time": "2022-10-23T07:10:23.499Z"
   },
   {
    "duration": 212,
    "start_time": "2022-10-23T07:10:23.643Z"
   },
   {
    "duration": 122,
    "start_time": "2022-10-23T07:10:23.857Z"
   },
   {
    "duration": 167,
    "start_time": "2022-10-23T07:10:23.981Z"
   },
   {
    "duration": 124,
    "start_time": "2022-10-23T07:10:24.149Z"
   },
   {
    "duration": 122,
    "start_time": "2022-10-23T07:10:24.274Z"
   },
   {
    "duration": 131,
    "start_time": "2022-10-23T07:10:24.398Z"
   },
   {
    "duration": 8,
    "start_time": "2022-10-23T07:10:24.531Z"
   },
   {
    "duration": 10,
    "start_time": "2022-10-23T07:10:24.541Z"
   },
   {
    "duration": 8,
    "start_time": "2022-10-23T07:10:24.553Z"
   },
   {
    "duration": 312,
    "start_time": "2022-10-23T07:13:53.973Z"
   },
   {
    "duration": 317,
    "start_time": "2022-10-23T07:14:18.469Z"
   },
   {
    "duration": 248,
    "start_time": "2022-10-23T07:15:39.245Z"
   },
   {
    "duration": 241,
    "start_time": "2022-10-23T07:15:50.940Z"
   },
   {
    "duration": 196,
    "start_time": "2022-10-23T07:17:04.985Z"
   },
   {
    "duration": 132,
    "start_time": "2022-10-23T07:18:24.039Z"
   },
   {
    "duration": 305,
    "start_time": "2022-10-23T07:18:55.401Z"
   },
   {
    "duration": 75,
    "start_time": "2022-10-23T07:19:18.302Z"
   },
   {
    "duration": 195,
    "start_time": "2022-10-23T07:19:28.909Z"
   },
   {
    "duration": 194,
    "start_time": "2022-10-23T07:19:45.846Z"
   },
   {
    "duration": 215,
    "start_time": "2022-10-23T07:20:22.059Z"
   },
   {
    "duration": 247,
    "start_time": "2022-10-23T08:09:21.293Z"
   },
   {
    "duration": 286,
    "start_time": "2022-10-23T08:09:52.476Z"
   },
   {
    "duration": 260,
    "start_time": "2022-10-23T08:10:26.245Z"
   },
   {
    "duration": 282,
    "start_time": "2022-10-23T08:11:49.541Z"
   },
   {
    "duration": 415,
    "start_time": "2022-10-23T08:12:21.806Z"
   },
   {
    "duration": 549,
    "start_time": "2022-10-23T08:22:18.521Z"
   },
   {
    "duration": 182,
    "start_time": "2022-10-23T08:49:09.925Z"
   },
   {
    "duration": 17,
    "start_time": "2022-10-23T08:53:31.234Z"
   },
   {
    "duration": 163,
    "start_time": "2022-10-23T08:53:55.639Z"
   },
   {
    "duration": 102,
    "start_time": "2022-10-23T09:16:30.797Z"
   },
   {
    "duration": 177,
    "start_time": "2022-10-23T09:34:30.628Z"
   },
   {
    "duration": 92,
    "start_time": "2022-10-23T09:35:27.247Z"
   },
   {
    "duration": 15,
    "start_time": "2022-10-23T09:45:38.615Z"
   },
   {
    "duration": 3,
    "start_time": "2022-10-23T10:00:33.888Z"
   },
   {
    "duration": 68,
    "start_time": "2022-10-23T10:00:33.893Z"
   },
   {
    "duration": 15,
    "start_time": "2022-10-23T10:00:33.963Z"
   },
   {
    "duration": 4,
    "start_time": "2022-10-23T10:00:33.979Z"
   },
   {
    "duration": 5,
    "start_time": "2022-10-23T10:00:33.984Z"
   },
   {
    "duration": 37,
    "start_time": "2022-10-23T10:00:33.990Z"
   },
   {
    "duration": 10,
    "start_time": "2022-10-23T10:00:34.028Z"
   },
   {
    "duration": 9,
    "start_time": "2022-10-23T10:00:34.039Z"
   },
   {
    "duration": 7,
    "start_time": "2022-10-23T10:00:34.051Z"
   },
   {
    "duration": 15,
    "start_time": "2022-10-23T10:00:34.060Z"
   },
   {
    "duration": 7,
    "start_time": "2022-10-23T10:00:34.077Z"
   },
   {
    "duration": 139,
    "start_time": "2022-10-23T10:00:34.085Z"
   },
   {
    "duration": 9,
    "start_time": "2022-10-23T10:00:34.225Z"
   },
   {
    "duration": 19,
    "start_time": "2022-10-23T10:00:34.235Z"
   },
   {
    "duration": 7,
    "start_time": "2022-10-23T10:00:34.256Z"
   },
   {
    "duration": 8,
    "start_time": "2022-10-23T10:00:34.265Z"
   },
   {
    "duration": 17252,
    "start_time": "2022-10-23T10:00:34.274Z"
   },
   {
    "duration": 17985,
    "start_time": "2022-10-23T10:00:51.528Z"
   },
   {
    "duration": 8,
    "start_time": "2022-10-23T10:01:09.515Z"
   },
   {
    "duration": 19,
    "start_time": "2022-10-23T10:01:09.525Z"
   },
   {
    "duration": 7,
    "start_time": "2022-10-23T10:01:09.547Z"
   },
   {
    "duration": 5,
    "start_time": "2022-10-23T10:01:09.556Z"
   },
   {
    "duration": 5,
    "start_time": "2022-10-23T10:01:09.562Z"
   },
   {
    "duration": 4,
    "start_time": "2022-10-23T10:01:09.572Z"
   },
   {
    "duration": 5,
    "start_time": "2022-10-23T10:01:09.578Z"
   },
   {
    "duration": 44,
    "start_time": "2022-10-23T10:01:09.584Z"
   },
   {
    "duration": 10,
    "start_time": "2022-10-23T10:01:09.629Z"
   },
   {
    "duration": 6,
    "start_time": "2022-10-23T10:01:09.641Z"
   },
   {
    "duration": 15,
    "start_time": "2022-10-23T10:01:09.648Z"
   },
   {
    "duration": 15,
    "start_time": "2022-10-23T10:01:09.665Z"
   },
   {
    "duration": 202,
    "start_time": "2022-10-23T10:01:09.681Z"
   },
   {
    "duration": 17,
    "start_time": "2022-10-23T10:01:09.886Z"
   },
   {
    "duration": 263,
    "start_time": "2022-10-23T10:01:09.905Z"
   },
   {
    "duration": 377,
    "start_time": "2022-10-23T10:01:10.170Z"
   },
   {
    "duration": 266,
    "start_time": "2022-10-23T10:01:10.549Z"
   },
   {
    "duration": 220,
    "start_time": "2022-10-23T10:01:10.817Z"
   },
   {
    "duration": 206,
    "start_time": "2022-10-23T10:01:11.039Z"
   },
   {
    "duration": 284,
    "start_time": "2022-10-23T10:01:11.247Z"
   },
   {
    "duration": 313,
    "start_time": "2022-10-23T10:01:11.533Z"
   },
   {
    "duration": 224,
    "start_time": "2022-10-23T10:01:11.848Z"
   },
   {
    "duration": 271,
    "start_time": "2022-10-23T10:01:12.074Z"
   },
   {
    "duration": 187,
    "start_time": "2022-10-23T10:01:12.347Z"
   },
   {
    "duration": 166,
    "start_time": "2022-10-23T10:01:12.536Z"
   },
   {
    "duration": 28,
    "start_time": "2022-10-23T10:01:12.704Z"
   },
   {
    "duration": 555,
    "start_time": "2022-10-23T10:01:12.734Z"
   },
   {
    "duration": 133,
    "start_time": "2022-10-23T10:01:13.291Z"
   },
   {
    "duration": 121,
    "start_time": "2022-10-23T10:01:13.426Z"
   },
   {
    "duration": 119,
    "start_time": "2022-10-23T10:01:13.548Z"
   },
   {
    "duration": 16,
    "start_time": "2022-10-23T10:01:13.669Z"
   },
   {
    "duration": 0,
    "start_time": "2022-10-23T10:01:13.687Z"
   },
   {
    "duration": 0,
    "start_time": "2022-10-23T10:01:13.688Z"
   },
   {
    "duration": 0,
    "start_time": "2022-10-23T10:01:13.690Z"
   },
   {
    "duration": 0,
    "start_time": "2022-10-23T10:01:13.691Z"
   },
   {
    "duration": 0,
    "start_time": "2022-10-23T10:01:13.693Z"
   },
   {
    "duration": 0,
    "start_time": "2022-10-23T10:01:13.694Z"
   },
   {
    "duration": 0,
    "start_time": "2022-10-23T10:01:13.695Z"
   },
   {
    "duration": 0,
    "start_time": "2022-10-23T10:01:13.696Z"
   },
   {
    "duration": 0,
    "start_time": "2022-10-23T10:01:13.724Z"
   },
   {
    "duration": 0,
    "start_time": "2022-10-23T10:01:13.726Z"
   },
   {
    "duration": 15,
    "start_time": "2022-10-23T10:01:33.638Z"
   },
   {
    "duration": 20,
    "start_time": "2022-10-23T10:01:59.077Z"
   },
   {
    "duration": 17,
    "start_time": "2022-10-23T10:02:16.573Z"
   },
   {
    "duration": 105,
    "start_time": "2022-10-23T10:02:28.873Z"
   },
   {
    "duration": 205,
    "start_time": "2022-10-23T10:02:40.243Z"
   },
   {
    "duration": 95,
    "start_time": "2022-10-23T10:02:55.292Z"
   },
   {
    "duration": 84,
    "start_time": "2022-10-23T10:04:40.177Z"
   },
   {
    "duration": 109,
    "start_time": "2022-10-23T10:07:30.230Z"
   },
   {
    "duration": 80,
    "start_time": "2022-10-23T10:07:50.700Z"
   },
   {
    "duration": 92,
    "start_time": "2022-10-23T10:08:24.583Z"
   },
   {
    "duration": 100,
    "start_time": "2022-10-23T10:08:38.544Z"
   },
   {
    "duration": 135,
    "start_time": "2022-10-23T10:09:33.623Z"
   },
   {
    "duration": 3,
    "start_time": "2022-10-23T10:09:49.979Z"
   },
   {
    "duration": 114,
    "start_time": "2022-10-23T10:09:57.695Z"
   },
   {
    "duration": 82,
    "start_time": "2022-10-23T10:10:15.170Z"
   },
   {
    "duration": 93,
    "start_time": "2022-10-23T10:13:07.120Z"
   },
   {
    "duration": 90,
    "start_time": "2022-10-23T10:13:55.207Z"
   },
   {
    "duration": 154,
    "start_time": "2022-10-23T10:19:50.222Z"
   },
   {
    "duration": 104,
    "start_time": "2022-10-23T10:21:05.792Z"
   },
   {
    "duration": 99,
    "start_time": "2022-10-23T10:21:32.485Z"
   },
   {
    "duration": 102,
    "start_time": "2022-10-23T10:24:22.381Z"
   },
   {
    "duration": 220,
    "start_time": "2022-10-23T10:26:51.289Z"
   },
   {
    "duration": 277,
    "start_time": "2022-10-23T10:27:09.520Z"
   },
   {
    "duration": 250,
    "start_time": "2022-10-23T10:28:01.878Z"
   },
   {
    "duration": 191,
    "start_time": "2022-10-23T10:28:22.384Z"
   },
   {
    "duration": 206,
    "start_time": "2022-10-23T10:30:13.385Z"
   },
   {
    "duration": 265,
    "start_time": "2022-10-23T10:30:22.164Z"
   },
   {
    "duration": 302,
    "start_time": "2022-10-23T10:31:22.665Z"
   },
   {
    "duration": 274,
    "start_time": "2022-10-23T10:35:37.517Z"
   },
   {
    "duration": 274,
    "start_time": "2022-10-23T10:36:13.914Z"
   },
   {
    "duration": 386,
    "start_time": "2022-10-23T10:36:42.521Z"
   },
   {
    "duration": 270,
    "start_time": "2022-10-23T10:45:55.517Z"
   },
   {
    "duration": 258,
    "start_time": "2022-10-23T10:46:12.141Z"
   },
   {
    "duration": 277,
    "start_time": "2022-10-23T10:49:55.055Z"
   },
   {
    "duration": 4,
    "start_time": "2022-10-23T10:50:11.660Z"
   },
   {
    "duration": 71,
    "start_time": "2022-10-23T10:50:11.666Z"
   },
   {
    "duration": 16,
    "start_time": "2022-10-23T10:50:11.739Z"
   },
   {
    "duration": 4,
    "start_time": "2022-10-23T10:50:11.757Z"
   },
   {
    "duration": 5,
    "start_time": "2022-10-23T10:50:11.763Z"
   },
   {
    "duration": 7,
    "start_time": "2022-10-23T10:50:11.770Z"
   },
   {
    "duration": 53,
    "start_time": "2022-10-23T10:50:11.778Z"
   },
   {
    "duration": 9,
    "start_time": "2022-10-23T10:50:11.834Z"
   },
   {
    "duration": 12,
    "start_time": "2022-10-23T10:50:11.846Z"
   },
   {
    "duration": 19,
    "start_time": "2022-10-23T10:50:11.860Z"
   },
   {
    "duration": 43,
    "start_time": "2022-10-23T10:50:11.881Z"
   },
   {
    "duration": 19,
    "start_time": "2022-10-23T10:50:11.927Z"
   },
   {
    "duration": 13,
    "start_time": "2022-10-23T10:50:11.948Z"
   },
   {
    "duration": 20,
    "start_time": "2022-10-23T10:50:11.963Z"
   },
   {
    "duration": 40,
    "start_time": "2022-10-23T10:50:11.985Z"
   },
   {
    "duration": 10,
    "start_time": "2022-10-23T10:50:12.027Z"
   },
   {
    "duration": 18457,
    "start_time": "2022-10-23T10:50:12.039Z"
   },
   {
    "duration": 18823,
    "start_time": "2022-10-23T10:50:30.498Z"
   },
   {
    "duration": 5,
    "start_time": "2022-10-23T10:50:49.323Z"
   },
   {
    "duration": 19,
    "start_time": "2022-10-23T10:50:49.330Z"
   },
   {
    "duration": 6,
    "start_time": "2022-10-23T10:50:49.352Z"
   },
   {
    "duration": 6,
    "start_time": "2022-10-23T10:50:49.360Z"
   },
   {
    "duration": 11,
    "start_time": "2022-10-23T10:50:49.368Z"
   },
   {
    "duration": 6,
    "start_time": "2022-10-23T10:50:49.383Z"
   },
   {
    "duration": 8,
    "start_time": "2022-10-23T10:50:49.423Z"
   },
   {
    "duration": 6,
    "start_time": "2022-10-23T10:50:49.433Z"
   },
   {
    "duration": 10,
    "start_time": "2022-10-23T10:50:49.441Z"
   },
   {
    "duration": 5,
    "start_time": "2022-10-23T10:50:49.453Z"
   },
   {
    "duration": 13,
    "start_time": "2022-10-23T10:50:49.460Z"
   },
   {
    "duration": 16,
    "start_time": "2022-10-23T10:50:49.475Z"
   },
   {
    "duration": 169,
    "start_time": "2022-10-23T10:50:49.524Z"
   },
   {
    "duration": 16,
    "start_time": "2022-10-23T10:50:49.695Z"
   },
   {
    "duration": 236,
    "start_time": "2022-10-23T10:50:49.724Z"
   },
   {
    "duration": 338,
    "start_time": "2022-10-23T10:50:49.961Z"
   },
   {
    "duration": 280,
    "start_time": "2022-10-23T10:50:50.301Z"
   },
   {
    "duration": 226,
    "start_time": "2022-10-23T10:50:50.583Z"
   },
   {
    "duration": 338,
    "start_time": "2022-10-23T10:50:50.811Z"
   },
   {
    "duration": 289,
    "start_time": "2022-10-23T10:50:51.151Z"
   },
   {
    "duration": 283,
    "start_time": "2022-10-23T10:50:51.441Z"
   },
   {
    "duration": 214,
    "start_time": "2022-10-23T10:50:51.725Z"
   },
   {
    "duration": 273,
    "start_time": "2022-10-23T10:50:51.942Z"
   },
   {
    "duration": 185,
    "start_time": "2022-10-23T10:50:52.217Z"
   },
   {
    "duration": 177,
    "start_time": "2022-10-23T10:50:52.403Z"
   },
   {
    "duration": 14,
    "start_time": "2022-10-23T10:50:52.582Z"
   },
   {
    "duration": 594,
    "start_time": "2022-10-23T10:50:52.598Z"
   },
   {
    "duration": 289,
    "start_time": "2022-10-23T10:50:53.194Z"
   },
   {
    "duration": 140,
    "start_time": "2022-10-23T10:50:53.485Z"
   },
   {
    "duration": 168,
    "start_time": "2022-10-23T10:50:53.627Z"
   },
   {
    "duration": 315,
    "start_time": "2022-10-23T10:50:53.797Z"
   },
   {
    "duration": 140,
    "start_time": "2022-10-23T10:50:54.113Z"
   },
   {
    "duration": 151,
    "start_time": "2022-10-23T10:50:54.255Z"
   },
   {
    "duration": 133,
    "start_time": "2022-10-23T10:50:54.408Z"
   },
   {
    "duration": 185,
    "start_time": "2022-10-23T10:50:54.543Z"
   },
   {
    "duration": 132,
    "start_time": "2022-10-23T10:50:54.729Z"
   },
   {
    "duration": 123,
    "start_time": "2022-10-23T10:50:54.863Z"
   },
   {
    "duration": 119,
    "start_time": "2022-10-23T10:50:54.988Z"
   },
   {
    "duration": 18,
    "start_time": "2022-10-23T10:50:55.108Z"
   },
   {
    "duration": 8,
    "start_time": "2022-10-23T10:50:55.128Z"
   },
   {
    "duration": 8,
    "start_time": "2022-10-23T10:50:55.138Z"
   },
   {
    "duration": 386,
    "start_time": "2022-10-23T10:52:16.109Z"
   },
   {
    "duration": 537,
    "start_time": "2022-10-23T10:52:29.269Z"
   },
   {
    "duration": 284,
    "start_time": "2022-10-23T10:52:40.758Z"
   },
   {
    "duration": 296,
    "start_time": "2022-10-23T10:53:53.206Z"
   },
   {
    "duration": 297,
    "start_time": "2022-10-23T10:54:17.965Z"
   },
   {
    "duration": 300,
    "start_time": "2022-10-23T10:54:48.552Z"
   },
   {
    "duration": 272,
    "start_time": "2022-10-23T10:55:06.756Z"
   },
   {
    "duration": 370,
    "start_time": "2022-10-23T10:55:22.538Z"
   },
   {
    "duration": 10,
    "start_time": "2022-10-23T10:58:42.408Z"
   },
   {
    "duration": 408,
    "start_time": "2022-10-23T10:58:53.111Z"
   },
   {
    "duration": 267,
    "start_time": "2022-10-23T10:59:07.743Z"
   },
   {
    "duration": 9,
    "start_time": "2022-10-23T11:08:35.660Z"
   },
   {
    "duration": 294,
    "start_time": "2022-10-23T11:08:44.340Z"
   },
   {
    "duration": 305,
    "start_time": "2022-10-23T11:09:12.662Z"
   },
   {
    "duration": 390,
    "start_time": "2022-10-23T11:09:34.190Z"
   },
   {
    "duration": 277,
    "start_time": "2022-10-23T11:10:29.588Z"
   },
   {
    "duration": 144,
    "start_time": "2022-10-23T11:11:09.076Z"
   },
   {
    "duration": 123,
    "start_time": "2022-10-23T11:11:32.612Z"
   },
   {
    "duration": 110,
    "start_time": "2022-10-23T11:28:10.606Z"
   },
   {
    "duration": 278,
    "start_time": "2022-10-23T11:28:26.823Z"
   },
   {
    "duration": 427,
    "start_time": "2022-10-23T11:42:26.489Z"
   },
   {
    "duration": 1443,
    "start_time": "2022-10-24T09:02:00.068Z"
   },
   {
    "duration": 219,
    "start_time": "2022-10-24T09:02:01.514Z"
   },
   {
    "duration": 16,
    "start_time": "2022-10-24T09:02:01.735Z"
   },
   {
    "duration": 12,
    "start_time": "2022-10-24T09:02:01.753Z"
   },
   {
    "duration": 16,
    "start_time": "2022-10-24T09:02:01.767Z"
   },
   {
    "duration": 34,
    "start_time": "2022-10-24T09:02:01.784Z"
   },
   {
    "duration": 34,
    "start_time": "2022-10-24T09:02:01.820Z"
   },
   {
    "duration": 24,
    "start_time": "2022-10-24T09:02:01.855Z"
   },
   {
    "duration": 12,
    "start_time": "2022-10-24T09:02:01.881Z"
   },
   {
    "duration": 37,
    "start_time": "2022-10-24T09:02:01.894Z"
   },
   {
    "duration": 26,
    "start_time": "2022-10-24T09:02:01.932Z"
   },
   {
    "duration": 32,
    "start_time": "2022-10-24T09:02:01.960Z"
   },
   {
    "duration": 14,
    "start_time": "2022-10-24T09:02:01.994Z"
   },
   {
    "duration": 15,
    "start_time": "2022-10-24T09:02:02.012Z"
   },
   {
    "duration": 8,
    "start_time": "2022-10-24T09:02:02.029Z"
   },
   {
    "duration": 12,
    "start_time": "2022-10-24T09:02:02.039Z"
   },
   {
    "duration": 18901,
    "start_time": "2022-10-24T09:02:02.053Z"
   },
   {
    "duration": 19179,
    "start_time": "2022-10-24T09:02:20.956Z"
   },
   {
    "duration": 6,
    "start_time": "2022-10-24T09:02:40.137Z"
   },
   {
    "duration": 34,
    "start_time": "2022-10-24T09:02:40.144Z"
   },
   {
    "duration": 7,
    "start_time": "2022-10-24T09:02:40.180Z"
   },
   {
    "duration": 23,
    "start_time": "2022-10-24T09:02:40.197Z"
   },
   {
    "duration": 8,
    "start_time": "2022-10-24T09:02:40.221Z"
   },
   {
    "duration": 13,
    "start_time": "2022-10-24T09:02:40.231Z"
   },
   {
    "duration": 14,
    "start_time": "2022-10-24T09:02:40.245Z"
   },
   {
    "duration": 12,
    "start_time": "2022-10-24T09:02:40.261Z"
   },
   {
    "duration": 13,
    "start_time": "2022-10-24T09:02:40.275Z"
   },
   {
    "duration": 16,
    "start_time": "2022-10-24T09:02:40.290Z"
   },
   {
    "duration": 26,
    "start_time": "2022-10-24T09:02:40.308Z"
   },
   {
    "duration": 16,
    "start_time": "2022-10-24T09:02:40.336Z"
   },
   {
    "duration": 195,
    "start_time": "2022-10-24T09:02:40.354Z"
   },
   {
    "duration": 18,
    "start_time": "2022-10-24T09:02:40.551Z"
   },
   {
    "duration": 287,
    "start_time": "2022-10-24T09:02:40.572Z"
   },
   {
    "duration": 351,
    "start_time": "2022-10-24T09:02:40.861Z"
   },
   {
    "duration": 310,
    "start_time": "2022-10-24T09:02:41.216Z"
   },
   {
    "duration": 247,
    "start_time": "2022-10-24T09:02:41.528Z"
   },
   {
    "duration": 237,
    "start_time": "2022-10-24T09:02:41.776Z"
   },
   {
    "duration": 306,
    "start_time": "2022-10-24T09:02:42.015Z"
   },
   {
    "duration": 386,
    "start_time": "2022-10-24T09:02:42.323Z"
   },
   {
    "duration": 175,
    "start_time": "2022-10-24T09:02:42.710Z"
   },
   {
    "duration": 181,
    "start_time": "2022-10-24T09:02:42.895Z"
   },
   {
    "duration": 198,
    "start_time": "2022-10-24T09:02:43.078Z"
   },
   {
    "duration": 193,
    "start_time": "2022-10-24T09:02:43.278Z"
   },
   {
    "duration": 34,
    "start_time": "2022-10-24T09:02:43.473Z"
   },
   {
    "duration": 608,
    "start_time": "2022-10-24T09:02:43.509Z"
   },
   {
    "duration": 143,
    "start_time": "2022-10-24T09:02:44.119Z"
   },
   {
    "duration": 148,
    "start_time": "2022-10-24T09:02:44.264Z"
   },
   {
    "duration": 216,
    "start_time": "2022-10-24T09:02:44.414Z"
   },
   {
    "duration": 317,
    "start_time": "2022-10-24T09:02:44.632Z"
   },
   {
    "duration": 157,
    "start_time": "2022-10-24T09:02:44.951Z"
   },
   {
    "duration": 157,
    "start_time": "2022-10-24T09:02:45.110Z"
   },
   {
    "duration": 153,
    "start_time": "2022-10-24T09:02:45.269Z"
   },
   {
    "duration": 319,
    "start_time": "2022-10-24T09:02:45.424Z"
   },
   {
    "duration": 186,
    "start_time": "2022-10-24T09:02:45.744Z"
   },
   {
    "duration": 133,
    "start_time": "2022-10-24T09:02:45.932Z"
   },
   {
    "duration": 145,
    "start_time": "2022-10-24T09:02:46.067Z"
   },
   {
    "duration": 219,
    "start_time": "2022-10-24T09:02:46.214Z"
   },
   {
    "duration": 8,
    "start_time": "2022-10-24T09:02:46.435Z"
   },
   {
    "duration": 9,
    "start_time": "2022-10-24T09:02:46.445Z"
   },
   {
    "duration": 8,
    "start_time": "2022-10-24T09:02:46.456Z"
   },
   {
    "duration": 79,
    "start_time": "2022-10-24T09:02:46.466Z"
   },
   {
    "duration": 3,
    "start_time": "2022-10-24T09:02:46.547Z"
   },
   {
    "duration": 21,
    "start_time": "2022-10-24T09:02:46.551Z"
   },
   {
    "duration": 12,
    "start_time": "2022-10-24T09:02:46.575Z"
   },
   {
    "duration": 18,
    "start_time": "2022-10-24T09:02:46.589Z"
   },
   {
    "duration": 19,
    "start_time": "2022-10-24T09:02:46.609Z"
   },
   {
    "duration": 8,
    "start_time": "2022-10-24T09:02:46.629Z"
   },
   {
    "duration": 733,
    "start_time": "2022-10-24T09:02:46.639Z"
   },
   {
    "duration": 631,
    "start_time": "2022-10-24T09:02:47.374Z"
   },
   {
    "duration": 673,
    "start_time": "2022-10-24T09:02:48.008Z"
   },
   {
    "duration": 52,
    "start_time": "2022-10-24T11:10:50.638Z"
   },
   {
    "duration": 6,
    "start_time": "2022-10-24T11:11:16.745Z"
   },
   {
    "duration": 1310,
    "start_time": "2022-10-24T11:11:28.627Z"
   },
   {
    "duration": 218,
    "start_time": "2022-10-24T11:11:29.939Z"
   },
   {
    "duration": 14,
    "start_time": "2022-10-24T11:11:30.158Z"
   },
   {
    "duration": 4,
    "start_time": "2022-10-24T11:11:30.173Z"
   },
   {
    "duration": 18,
    "start_time": "2022-10-24T11:11:30.179Z"
   },
   {
    "duration": 7,
    "start_time": "2022-10-24T11:11:30.198Z"
   },
   {
    "duration": 26,
    "start_time": "2022-10-24T11:11:30.207Z"
   },
   {
    "duration": 18,
    "start_time": "2022-10-24T11:11:30.235Z"
   },
   {
    "duration": 16,
    "start_time": "2022-10-24T11:11:30.255Z"
   },
   {
    "duration": 25,
    "start_time": "2022-10-24T11:11:30.272Z"
   },
   {
    "duration": 20,
    "start_time": "2022-10-24T11:11:30.298Z"
   },
   {
    "duration": 35,
    "start_time": "2022-10-24T11:11:30.319Z"
   },
   {
    "duration": 15,
    "start_time": "2022-10-24T11:11:30.356Z"
   },
   {
    "duration": 30,
    "start_time": "2022-10-24T11:11:30.373Z"
   },
   {
    "duration": 7,
    "start_time": "2022-10-24T11:11:30.404Z"
   },
   {
    "duration": 18,
    "start_time": "2022-10-24T11:11:30.413Z"
   },
   {
    "duration": 17303,
    "start_time": "2022-10-24T11:11:30.432Z"
   },
   {
    "duration": 17036,
    "start_time": "2022-10-24T11:11:47.738Z"
   },
   {
    "duration": 4,
    "start_time": "2022-10-24T11:12:04.776Z"
   },
   {
    "duration": 28,
    "start_time": "2022-10-24T11:12:04.782Z"
   },
   {
    "duration": 15,
    "start_time": "2022-10-24T11:12:04.816Z"
   },
   {
    "duration": 17,
    "start_time": "2022-10-24T11:12:04.832Z"
   },
   {
    "duration": 6,
    "start_time": "2022-10-24T11:12:04.850Z"
   },
   {
    "duration": 12,
    "start_time": "2022-10-24T11:12:04.857Z"
   },
   {
    "duration": 6,
    "start_time": "2022-10-24T11:12:04.870Z"
   },
   {
    "duration": 9,
    "start_time": "2022-10-24T11:12:04.877Z"
   },
   {
    "duration": 8,
    "start_time": "2022-10-24T11:12:04.888Z"
   },
   {
    "duration": 5,
    "start_time": "2022-10-24T11:12:04.897Z"
   },
   {
    "duration": 13,
    "start_time": "2022-10-24T11:12:04.904Z"
   },
   {
    "duration": 30,
    "start_time": "2022-10-24T11:12:04.921Z"
   },
   {
    "duration": 190,
    "start_time": "2022-10-24T11:12:04.953Z"
   },
   {
    "duration": 15,
    "start_time": "2022-10-24T11:12:05.144Z"
   },
   {
    "duration": 257,
    "start_time": "2022-10-24T11:12:05.161Z"
   },
   {
    "duration": 323,
    "start_time": "2022-10-24T11:12:05.420Z"
   },
   {
    "duration": 252,
    "start_time": "2022-10-24T11:12:05.744Z"
   },
   {
    "duration": 234,
    "start_time": "2022-10-24T11:12:05.998Z"
   },
   {
    "duration": 238,
    "start_time": "2022-10-24T11:12:06.234Z"
   },
   {
    "duration": 282,
    "start_time": "2022-10-24T11:12:06.473Z"
   },
   {
    "duration": 317,
    "start_time": "2022-10-24T11:12:06.756Z"
   },
   {
    "duration": 171,
    "start_time": "2022-10-24T11:12:07.075Z"
   },
   {
    "duration": 179,
    "start_time": "2022-10-24T11:12:07.250Z"
   },
   {
    "duration": 158,
    "start_time": "2022-10-24T11:12:07.430Z"
   },
   {
    "duration": 167,
    "start_time": "2022-10-24T11:12:07.589Z"
   },
   {
    "duration": 16,
    "start_time": "2022-10-24T11:12:07.757Z"
   },
   {
    "duration": 570,
    "start_time": "2022-10-24T11:12:07.775Z"
   },
   {
    "duration": 131,
    "start_time": "2022-10-24T11:12:08.347Z"
   },
   {
    "duration": 120,
    "start_time": "2022-10-24T11:12:08.480Z"
   },
   {
    "duration": 185,
    "start_time": "2022-10-24T11:12:08.602Z"
   },
   {
    "duration": 272,
    "start_time": "2022-10-24T11:12:08.789Z"
   },
   {
    "duration": 125,
    "start_time": "2022-10-24T11:12:09.062Z"
   },
   {
    "duration": 144,
    "start_time": "2022-10-24T11:12:09.189Z"
   },
   {
    "duration": 140,
    "start_time": "2022-10-24T11:12:09.336Z"
   },
   {
    "duration": 270,
    "start_time": "2022-10-24T11:12:09.478Z"
   },
   {
    "duration": 162,
    "start_time": "2022-10-24T11:12:09.749Z"
   },
   {
    "duration": 126,
    "start_time": "2022-10-24T11:12:09.913Z"
   },
   {
    "duration": 125,
    "start_time": "2022-10-24T11:12:10.040Z"
   },
   {
    "duration": 184,
    "start_time": "2022-10-24T11:12:10.166Z"
   },
   {
    "duration": 7,
    "start_time": "2022-10-24T11:12:10.352Z"
   },
   {
    "duration": 13,
    "start_time": "2022-10-24T11:12:10.361Z"
   },
   {
    "duration": 15,
    "start_time": "2022-10-24T11:12:10.375Z"
   },
   {
    "duration": 52,
    "start_time": "2022-10-24T11:12:10.391Z"
   },
   {
    "duration": 2,
    "start_time": "2022-10-24T11:12:10.445Z"
   },
   {
    "duration": 15,
    "start_time": "2022-10-24T11:12:10.449Z"
   },
   {
    "duration": 5,
    "start_time": "2022-10-24T11:12:10.466Z"
   },
   {
    "duration": 14,
    "start_time": "2022-10-24T11:12:10.472Z"
   },
   {
    "duration": 8,
    "start_time": "2022-10-24T11:12:10.487Z"
   },
   {
    "duration": 7,
    "start_time": "2022-10-24T11:12:10.496Z"
   },
   {
    "duration": 668,
    "start_time": "2022-10-24T11:12:10.505Z"
   },
   {
    "duration": 606,
    "start_time": "2022-10-24T11:12:11.175Z"
   },
   {
    "duration": 582,
    "start_time": "2022-10-24T11:12:11.783Z"
   }
  ],
  "kernelspec": {
   "display_name": "Python 3 (ipykernel)",
   "language": "python",
   "name": "python3"
  },
  "language_info": {
   "codemirror_mode": {
    "name": "ipython",
    "version": 3
   },
   "file_extension": ".py",
   "mimetype": "text/x-python",
   "name": "python",
   "nbconvert_exporter": "python",
   "pygments_lexer": "ipython3",
   "version": "3.9.13"
  },
  "toc": {
   "base_numbering": 1,
   "nav_menu": {},
   "number_sections": true,
   "sideBar": true,
   "skip_h1_title": true,
   "title_cell": "Table of Contents",
   "title_sidebar": "Contents",
   "toc_cell": false,
   "toc_position": {
    "height": "calc(100% - 180px)",
    "left": "10px",
    "top": "150px",
    "width": "165px"
   },
   "toc_section_display": true,
   "toc_window_display": true
  }
 },
 "nbformat": 4,
 "nbformat_minor": 2
}
