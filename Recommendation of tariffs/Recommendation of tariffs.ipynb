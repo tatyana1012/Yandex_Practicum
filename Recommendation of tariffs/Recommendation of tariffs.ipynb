{
 "cells": [
  {
   "cell_type": "markdown",
   "metadata": {},
   "source": [
    "# Рекомендация тарифов"
   ]
  },
  {
   "cell_type": "markdown",
   "metadata": {},
   "source": [
    "## Откройте и изучите файл"
   ]
  },
  {
   "cell_type": "code",
   "execution_count": 78,
   "metadata": {},
   "outputs": [],
   "source": [
    "import pandas as pd\n",
    "from sklearn.tree import DecisionTreeClassifier\n",
    "from sklearn.ensemble import RandomForestClassifier\n",
    "from sklearn.metrics import accuracy_score\n",
    "from sklearn.model_selection import train_test_split\n",
    "from sklearn.dummy import DummyClassifier\n",
    "from sklearn.tree import plot_tree\n",
    "import matplotlib.pyplot as plt"
   ]
  },
  {
   "cell_type": "code",
   "execution_count": 79,
   "metadata": {},
   "outputs": [
    {
     "data": {
      "text/html": [
       "<div>\n",
       "<style scoped>\n",
       "    .dataframe tbody tr th:only-of-type {\n",
       "        vertical-align: middle;\n",
       "    }\n",
       "\n",
       "    .dataframe tbody tr th {\n",
       "        vertical-align: top;\n",
       "    }\n",
       "\n",
       "    .dataframe thead th {\n",
       "        text-align: right;\n",
       "    }\n",
       "</style>\n",
       "<table border=\"1\" class=\"dataframe\">\n",
       "  <thead>\n",
       "    <tr style=\"text-align: right;\">\n",
       "      <th></th>\n",
       "      <th>calls</th>\n",
       "      <th>minutes</th>\n",
       "      <th>messages</th>\n",
       "      <th>mb_used</th>\n",
       "      <th>is_ultra</th>\n",
       "    </tr>\n",
       "  </thead>\n",
       "  <tbody>\n",
       "    <tr>\n",
       "      <th>0</th>\n",
       "      <td>40.0</td>\n",
       "      <td>311.90</td>\n",
       "      <td>83.0</td>\n",
       "      <td>19915.42</td>\n",
       "      <td>0</td>\n",
       "    </tr>\n",
       "    <tr>\n",
       "      <th>1</th>\n",
       "      <td>85.0</td>\n",
       "      <td>516.75</td>\n",
       "      <td>56.0</td>\n",
       "      <td>22696.96</td>\n",
       "      <td>0</td>\n",
       "    </tr>\n",
       "    <tr>\n",
       "      <th>2</th>\n",
       "      <td>77.0</td>\n",
       "      <td>467.66</td>\n",
       "      <td>86.0</td>\n",
       "      <td>21060.45</td>\n",
       "      <td>0</td>\n",
       "    </tr>\n",
       "    <tr>\n",
       "      <th>3</th>\n",
       "      <td>106.0</td>\n",
       "      <td>745.53</td>\n",
       "      <td>81.0</td>\n",
       "      <td>8437.39</td>\n",
       "      <td>1</td>\n",
       "    </tr>\n",
       "    <tr>\n",
       "      <th>4</th>\n",
       "      <td>66.0</td>\n",
       "      <td>418.74</td>\n",
       "      <td>1.0</td>\n",
       "      <td>14502.75</td>\n",
       "      <td>0</td>\n",
       "    </tr>\n",
       "  </tbody>\n",
       "</table>\n",
       "</div>"
      ],
      "text/plain": [
       "   calls  minutes  messages   mb_used  is_ultra\n",
       "0   40.0   311.90      83.0  19915.42         0\n",
       "1   85.0   516.75      56.0  22696.96         0\n",
       "2   77.0   467.66      86.0  21060.45         0\n",
       "3  106.0   745.53      81.0   8437.39         1\n",
       "4   66.0   418.74       1.0  14502.75         0"
      ]
     },
     "execution_count": 79,
     "metadata": {},
     "output_type": "execute_result"
    }
   ],
   "source": [
    "calls=pd.read_csv('/datasets/users_behavior.csv') \n",
    "calls.head(5)"
   ]
  },
  {
   "cell_type": "code",
   "execution_count": 80,
   "metadata": {},
   "outputs": [
    {
     "name": "stdout",
     "output_type": "stream",
     "text": [
      "<class 'pandas.core.frame.DataFrame'>\n",
      "RangeIndex: 3214 entries, 0 to 3213\n",
      "Data columns (total 5 columns):\n",
      " #   Column    Non-Null Count  Dtype  \n",
      "---  ------    --------------  -----  \n",
      " 0   calls     3214 non-null   float64\n",
      " 1   minutes   3214 non-null   float64\n",
      " 2   messages  3214 non-null   float64\n",
      " 3   mb_used   3214 non-null   float64\n",
      " 4   is_ultra  3214 non-null   int64  \n",
      "dtypes: float64(4), int64(1)\n",
      "memory usage: 125.7 KB\n"
     ]
    }
   ],
   "source": [
    "calls.info() "
   ]
  },
  {
   "cell_type": "code",
   "execution_count": 81,
   "metadata": {},
   "outputs": [
    {
     "data": {
      "text/plain": [
       "0    2229\n",
       "1     985\n",
       "Name: is_ultra, dtype: int64"
      ]
     },
     "execution_count": 81,
     "metadata": {},
     "output_type": "execute_result"
    }
   ],
   "source": [
    "calls['is_ultra'].value_counts()"
   ]
  },
  {
   "cell_type": "markdown",
   "metadata": {},
   "source": [
    "## Разбейте данные на выборки"
   ]
  },
  {
   "cell_type": "code",
   "execution_count": 82,
   "metadata": {},
   "outputs": [
    {
     "name": "stdout",
     "output_type": "stream",
     "text": [
      "(1928, 5)\n",
      "(643, 5)\n",
      "(643, 5)\n"
     ]
    }
   ],
   "source": [
    "calls_train, calls_valid=train_test_split(calls, test_size=0.4, random_state=12345, stratify=calls['is_ultra']) \n",
    "calls_valid, calls_test=train_test_split(calls_valid, test_size=0.5, random_state=12345, stratify=calls_valid['is_ultra']) \n",
    "print(calls_train.shape)\n",
    "print(calls_valid.shape)\n",
    "print(calls_valid.shape)"
   ]
  },
  {
   "cell_type": "markdown",
   "metadata": {},
   "source": [
    "По условиям задачи, необходимо разделить данные на три выбоки:обучающую, валидационную и тестовую. Разбила 60%/20%/20% соответственно."
   ]
  },
  {
   "cell_type": "markdown",
   "metadata": {},
   "source": [
    "## Исследуйте модели"
   ]
  },
  {
   "cell_type": "markdown",
   "metadata": {},
   "source": [
    "### Исследуем первую модель, где целевым признаком является название тарифа, а для предсказаний берём все остальные признаки имеющиеся в данных"
   ]
  },
  {
   "cell_type": "code",
   "execution_count": 83,
   "metadata": {},
   "outputs": [
    {
     "name": "stdout",
     "output_type": "stream",
     "text": [
      "(1928, 4)\n",
      "(1928,)\n",
      "(643, 4)\n",
      "(643,)\n",
      "(643, 4)\n",
      "(643,)\n",
      "0.7013996889580093\n"
     ]
    }
   ],
   "source": [
    "features_train = calls_train.drop(['is_ultra'], axis=1) \n",
    "target_train = calls_train['is_ultra']\n",
    "features_valid = calls_valid.drop(['is_ultra'], axis=1)\n",
    "target_valid = calls_valid['is_ultra']\n",
    "features_test=calls_test.drop(['is_ultra'], axis=1)\n",
    "target_test=calls_test['is_ultra']\n",
    "print(features_train.shape)\n",
    "print(target_train.shape)\n",
    "print(features_valid.shape)\n",
    "print(target_valid.shape)\n",
    "print(features_test.shape)\n",
    "print(target_test.shape)\n",
    "model=DecisionTreeClassifier(random_state=12345)\n",
    "model.fit(features_train, target_train)\n",
    "predictions_valid=model.predict(features_valid)\n",
    "print(accuracy_score(target_valid, predictions_valid))"
   ]
  },
  {
   "cell_type": "markdown",
   "metadata": {},
   "source": [
    "### Исследуем модель, где целевой признак, также название тарифа, а для предсказаний берём количество звонков и количество sms сообщений."
   ]
  },
  {
   "cell_type": "code",
   "execution_count": 84,
   "metadata": {},
   "outputs": [
    {
     "name": "stdout",
     "output_type": "stream",
     "text": [
      "(1928, 2)\n",
      "(1928,)\n",
      "(643, 2)\n",
      "(643,)\n",
      "(643, 2)\n",
      "(643,)\n",
      "0.6811819595645412\n"
     ]
    }
   ],
   "source": [
    "features_train1 = calls_train.drop(['is_ultra', 'minutes', 'mb_used'], axis=1)\n",
    "target_train1 = calls_train['is_ultra']\n",
    "features_valid1 = calls_valid.drop(['is_ultra', 'minutes', 'mb_used'], axis=1)\n",
    "target_valid1 = calls_valid['is_ultra']\n",
    "features_test1=calls_test.drop(['is_ultra', 'minutes', 'mb_used'], axis=1)\n",
    "target_test1=calls_test['is_ultra']\n",
    "print(features_train1.shape) \n",
    "print(target_train1.shape)\n",
    "print(features_valid1.shape)\n",
    "print(target_valid1.shape)\n",
    "print(features_test1.shape)\n",
    "print(target_test1.shape)\n",
    "model=DecisionTreeClassifier(random_state=12345)\n",
    "model.fit(features_train1, target_train1)\n",
    "predictions_valid1=model.predict(features_valid1)\n",
    "print(accuracy_score(target_valid1, predictions_valid1))"
   ]
  },
  {
   "cell_type": "markdown",
   "metadata": {},
   "source": []
  },
  {
   "cell_type": "markdown",
   "metadata": {},
   "source": [
    "Возьмем для проверки гиперпараметров 1ую модель, где в качестве признаков мы взяли все параметры датасета. Результат предсказаний в ней выше"
   ]
  },
  {
   "cell_type": "code",
   "execution_count": 85,
   "metadata": {},
   "outputs": [
    {
     "data": {
      "text/plain": [
       "0.80248833592535"
      ]
     },
     "metadata": {},
     "output_type": "display_data"
    },
    {
     "data": {
      "text/plain": [
       "DecisionTreeClassifier(max_depth=8, random_state=12345)"
      ]
     },
     "metadata": {},
     "output_type": "display_data"
    }
   ],
   "source": [
    "best_model=None\n",
    "best_result=0\n",
    "for depth in range(1,11):\n",
    "    model=DecisionTreeClassifier(random_state=12345, max_depth=depth)\n",
    "    model.fit(features_train, target_train)\n",
    "    predictions_valid=model.predict(features_valid)\n",
    "    result=accuracy_score(target_valid, predictions_valid)\n",
    "    if result>best_result:\n",
    "        best_model=model\n",
    "        best_result=result\n",
    "display(best_result, best_model)        "
   ]
  },
  {
   "cell_type": "code",
   "execution_count": 86,
   "metadata": {},
   "outputs": [
    {
     "data": {
      "image/png": "[encoded data removed]",
      "text/plain": [
       "<Figure size 2520x720 with 1 Axes>"
      ]
     },
     "metadata": {
      "needs_background": "light"
     },
     "output_type": "display_data"
    }
   ],
   "source": [
    "fig = plt.figure(figsize=(35,10))\n",
    "_ = plot_tree(best_model, \n",
    "               feature_names=features_valid.columns.values, \n",
    "               class_names=['Smart','Ultra'],\n",
    "               filled=True,\n",
    "               fontsize = 15, max_depth=3)"
   ]
  },
  {
   "cell_type": "code",
   "execution_count": 87,
   "metadata": {},
   "outputs": [],
   "source": [
    "predictions_train = model.predict(features_train)\n",
    "result_train = accuracy_score(target_train, predictions_train)"
   ]
  },
  {
   "cell_type": "markdown",
   "metadata": {},
   "source": [
    "Проверим гиперпараметр решающего дерева, лучший результат получается при значении 3."
   ]
  },
  {
   "cell_type": "code",
   "execution_count": 88,
   "metadata": {},
   "outputs": [
    {
     "name": "stdout",
     "output_type": "stream",
     "text": [
      "Accuracy наилучшей модели на валидационной выборке: 0.807153965785381\n",
      "CPU times: user 1.71 s, sys: 11 ms, total: 1.72 s\n",
      "Wall time: 1.73 s\n"
     ]
    }
   ],
   "source": [
    "%%time\n",
    "best_model_df = None\n",
    "best_result = 0\n",
    "for est in range(1, 11):\n",
    "    for depth in range(1,11):\n",
    "        model = RandomForestClassifier(random_state=12345, n_estimators=est, max_depth=depth)\n",
    "        model.fit(features_train, target_train)\n",
    "        result = model.score(features_valid, target_valid)\n",
    "        if result > best_result:\n",
    "            best_model_df=model \n",
    "            best_result = result\n",
    "print(\"Accuracy наилучшей модели на валидационной выборке:\", best_result)"
   ]
  },
  {
   "cell_type": "markdown",
   "metadata": {},
   "source": [
    "## Проверьте модель на тестовой выборке"
   ]
  },
  {
   "cell_type": "code",
   "execution_count": 89,
   "metadata": {},
   "outputs": [
    {
     "name": "stdout",
     "output_type": "stream",
     "text": [
      "Тестовая выборка: 0.8102643856920684\n"
     ]
    }
   ],
   "source": [
    "predictions_test=best_model_df.predict(features_test)\n",
    "print(\"Тестовая выборка:\", accuracy_score(target_test, predictions_test))"
   ]
  },
  {
   "cell_type": "code",
   "execution_count": 91,
   "metadata": {},
   "outputs": [
    {
     "data": {
      "text/plain": [
       "0.6936236391912908"
      ]
     },
     "execution_count": 91,
     "metadata": {},
     "output_type": "execute_result"
    }
   ],
   "source": [
    "dummy_clf=DummyClassifier(strategy='most_frequent', random_state=1)\n",
    "dummy_clf.fit(features_train, target_train)\n",
    "dummy_clf.predict(features_test)\n",
    "dummy_clf.score(features_test, target_test)"
   ]
  },
  {
   "cell_type": "markdown",
   "metadata": {},
   "source": [
    "ВЫВОД: В ходе работы я проанализировала и изучила данные, увидела что большинство клиентов пользуются тарифом Смарт, гораздо меньше пользуются тарифом Ультра. Исходя из имеющихся данных составила пару моделей для прогноза и пришла к выводу что лучше использовать модель где признаками являются все данные: количество звонков, продолжительность звонков, количество сообщений и трафик интернета. Все эти параметры могут повлиять на выбор тарифа пользователем. Проверила модель на тестовой выборке и получила точность прогноза 0.78."
   ]
  }
 ],
 "metadata": {
  "ExecuteTimeLog": [
   {
    "duration": 85,
    "start_time": "2022-11-04T18:35:35.726Z"
   },
   {
    "duration": 496,
    "start_time": "2022-11-04T18:35:55.861Z"
   },
   {
    "duration": 118,
    "start_time": "2022-11-04T18:36:21.947Z"
   },
   {
    "duration": 52,
    "start_time": "2022-11-04T18:36:56.706Z"
   },
   {
    "duration": 521,
    "start_time": "2022-11-05T13:17:11.353Z"
   },
   {
    "duration": 39,
    "start_time": "2022-11-05T13:17:38.264Z"
   },
   {
    "duration": 693,
    "start_time": "2022-11-05T13:19:39.682Z"
   },
   {
    "duration": 37,
    "start_time": "2022-11-05T13:19:47.491Z"
   },
   {
    "duration": 37,
    "start_time": "2022-11-05T13:20:10.491Z"
   },
   {
    "duration": 11,
    "start_time": "2022-11-05T13:20:20.518Z"
   },
   {
    "duration": 96,
    "start_time": "2022-11-05T13:48:47.838Z"
   },
   {
    "duration": 7,
    "start_time": "2022-11-05T13:48:55.147Z"
   },
   {
    "duration": 6,
    "start_time": "2022-11-05T13:51:01.382Z"
   },
   {
    "duration": 18,
    "start_time": "2022-11-05T13:54:53.999Z"
   },
   {
    "duration": 6,
    "start_time": "2022-11-05T13:55:49.886Z"
   },
   {
    "duration": 5,
    "start_time": "2022-11-05T13:58:57.758Z"
   },
   {
    "duration": 2,
    "start_time": "2022-11-05T13:59:04.150Z"
   },
   {
    "duration": 51,
    "start_time": "2022-11-05T13:59:04.154Z"
   },
   {
    "duration": 10,
    "start_time": "2022-11-05T13:59:04.207Z"
   },
   {
    "duration": 13,
    "start_time": "2022-11-05T13:59:04.219Z"
   },
   {
    "duration": 6,
    "start_time": "2022-11-05T13:59:04.234Z"
   },
   {
    "duration": 10,
    "start_time": "2022-11-05T14:00:15.538Z"
   },
   {
    "duration": 23,
    "start_time": "2022-11-05T14:01:27.073Z"
   },
   {
    "duration": 38,
    "start_time": "2022-11-05T14:01:33.803Z"
   },
   {
    "duration": 11,
    "start_time": "2022-11-05T14:01:37.008Z"
   },
   {
    "duration": 6,
    "start_time": "2022-11-05T14:01:58.124Z"
   },
   {
    "duration": 8,
    "start_time": "2022-11-05T14:02:08.951Z"
   },
   {
    "duration": 17,
    "start_time": "2022-11-05T14:02:13.308Z"
   },
   {
    "duration": 3,
    "start_time": "2022-11-05T14:04:24.474Z"
   },
   {
    "duration": 38,
    "start_time": "2022-11-05T14:04:26.815Z"
   },
   {
    "duration": 11,
    "start_time": "2022-11-05T14:04:27.895Z"
   },
   {
    "duration": 6,
    "start_time": "2022-11-05T14:04:29.698Z"
   },
   {
    "duration": 7,
    "start_time": "2022-11-05T14:04:30.386Z"
   },
   {
    "duration": 33,
    "start_time": "2022-11-05T14:04:32.495Z"
   },
   {
    "duration": 6,
    "start_time": "2022-11-05T14:25:01.057Z"
   },
   {
    "duration": 8,
    "start_time": "2022-11-05T14:25:47.118Z"
   },
   {
    "duration": 8,
    "start_time": "2022-11-05T14:25:50.199Z"
   },
   {
    "duration": 8,
    "start_time": "2022-11-05T14:26:24.382Z"
   },
   {
    "duration": 6,
    "start_time": "2022-11-05T14:27:13.321Z"
   },
   {
    "duration": 39,
    "start_time": "2022-11-05T15:21:04.184Z"
   },
   {
    "duration": 11,
    "start_time": "2022-11-05T15:21:14.369Z"
   },
   {
    "duration": 6,
    "start_time": "2022-11-05T15:21:43.414Z"
   },
   {
    "duration": 4,
    "start_time": "2022-11-05T15:22:39.141Z"
   },
   {
    "duration": 59,
    "start_time": "2022-11-05T15:22:39.147Z"
   },
   {
    "duration": 13,
    "start_time": "2022-11-05T15:22:39.208Z"
   },
   {
    "duration": 13,
    "start_time": "2022-11-05T15:22:39.223Z"
   },
   {
    "duration": 17,
    "start_time": "2022-11-05T15:22:39.239Z"
   },
   {
    "duration": 40,
    "start_time": "2022-11-05T15:22:39.258Z"
   },
   {
    "duration": 7,
    "start_time": "2022-11-05T15:22:39.299Z"
   },
   {
    "duration": 9,
    "start_time": "2022-11-05T15:25:32.886Z"
   },
   {
    "duration": 19,
    "start_time": "2022-11-05T15:47:03.498Z"
   },
   {
    "duration": 27,
    "start_time": "2022-11-05T15:49:28.336Z"
   },
   {
    "duration": 20,
    "start_time": "2022-11-05T15:50:36.076Z"
   },
   {
    "duration": 26,
    "start_time": "2022-11-05T15:51:30.640Z"
   },
   {
    "duration": 29,
    "start_time": "2022-11-05T15:51:43.621Z"
   },
   {
    "duration": 21,
    "start_time": "2022-11-05T15:52:20.906Z"
   },
   {
    "duration": 3,
    "start_time": "2022-11-05T15:52:39.580Z"
   },
   {
    "duration": 50,
    "start_time": "2022-11-05T15:52:39.585Z"
   },
   {
    "duration": 12,
    "start_time": "2022-11-05T15:52:39.637Z"
   },
   {
    "duration": 10,
    "start_time": "2022-11-05T15:52:39.651Z"
   },
   {
    "duration": 24,
    "start_time": "2022-11-05T15:52:39.663Z"
   },
   {
    "duration": 63,
    "start_time": "2022-11-05T15:52:39.689Z"
   },
   {
    "duration": 7,
    "start_time": "2022-11-05T15:52:39.754Z"
   },
   {
    "duration": 30,
    "start_time": "2022-11-05T15:53:49.010Z"
   },
   {
    "duration": 21,
    "start_time": "2022-11-05T15:55:04.209Z"
   },
   {
    "duration": 22,
    "start_time": "2022-11-05T15:55:53.126Z"
   },
   {
    "duration": 19,
    "start_time": "2022-11-05T15:56:51.038Z"
   },
   {
    "duration": 17,
    "start_time": "2022-11-05T15:59:24.564Z"
   },
   {
    "duration": 23,
    "start_time": "2022-11-05T16:01:00.902Z"
   },
   {
    "duration": 16,
    "start_time": "2022-11-05T16:02:11.913Z"
   },
   {
    "duration": 3,
    "start_time": "2022-11-05T16:02:23.400Z"
   },
   {
    "duration": 45,
    "start_time": "2022-11-05T16:02:23.405Z"
   },
   {
    "duration": 10,
    "start_time": "2022-11-05T16:02:23.452Z"
   },
   {
    "duration": 5,
    "start_time": "2022-11-05T16:02:23.464Z"
   },
   {
    "duration": 21,
    "start_time": "2022-11-05T16:02:23.471Z"
   },
   {
    "duration": 29,
    "start_time": "2022-11-05T16:02:23.494Z"
   },
   {
    "duration": 41,
    "start_time": "2022-11-05T16:02:23.524Z"
   },
   {
    "duration": 5,
    "start_time": "2022-11-05T16:02:23.567Z"
   },
   {
    "duration": 10,
    "start_time": "2022-11-05T16:11:36.859Z"
   },
   {
    "duration": 12,
    "start_time": "2022-11-05T16:12:13.526Z"
   },
   {
    "duration": 37,
    "start_time": "2022-11-05T16:12:13.540Z"
   },
   {
    "duration": 11,
    "start_time": "2022-11-05T16:12:13.578Z"
   },
   {
    "duration": 12,
    "start_time": "2022-11-05T16:12:13.592Z"
   },
   {
    "duration": 27,
    "start_time": "2022-11-05T16:12:13.606Z"
   },
   {
    "duration": 16,
    "start_time": "2022-11-05T16:12:13.634Z"
   },
   {
    "duration": 36,
    "start_time": "2022-11-05T16:12:13.652Z"
   },
   {
    "duration": 297,
    "start_time": "2022-11-05T16:12:13.690Z"
   },
   {
    "duration": 10,
    "start_time": "2022-11-05T16:12:13.989Z"
   },
   {
    "duration": 4,
    "start_time": "2022-11-05T16:15:02.480Z"
   },
   {
    "duration": 72,
    "start_time": "2022-11-05T16:15:02.486Z"
   },
   {
    "duration": 10,
    "start_time": "2022-11-05T16:15:02.559Z"
   },
   {
    "duration": 25,
    "start_time": "2022-11-05T16:15:02.572Z"
   },
   {
    "duration": 51,
    "start_time": "2022-11-05T16:15:02.599Z"
   },
   {
    "duration": 32,
    "start_time": "2022-11-05T16:15:02.652Z"
   },
   {
    "duration": 48,
    "start_time": "2022-11-05T16:15:02.685Z"
   },
   {
    "duration": 266,
    "start_time": "2022-11-05T16:15:02.735Z"
   },
   {
    "duration": 9,
    "start_time": "2022-11-05T16:15:03.003Z"
   },
   {
    "duration": 1856,
    "start_time": "2022-11-05T17:33:21.211Z"
   },
   {
    "duration": 85,
    "start_time": "2022-11-05T17:33:23.069Z"
   },
   {
    "duration": 12,
    "start_time": "2022-11-05T17:33:23.156Z"
   },
   {
    "duration": 7,
    "start_time": "2022-11-05T17:33:23.170Z"
   },
   {
    "duration": 23,
    "start_time": "2022-11-05T17:33:23.179Z"
   },
   {
    "duration": 28,
    "start_time": "2022-11-05T17:33:23.204Z"
   },
   {
    "duration": 41,
    "start_time": "2022-11-05T17:33:23.233Z"
   },
   {
    "duration": 316,
    "start_time": "2022-11-05T17:33:23.275Z"
   },
   {
    "duration": 10,
    "start_time": "2022-11-05T17:33:23.593Z"
   },
   {
    "duration": 11,
    "start_time": "2022-11-05T18:21:48.992Z"
   },
   {
    "duration": 6,
    "start_time": "2022-11-05T18:21:58.222Z"
   },
   {
    "duration": 6,
    "start_time": "2022-11-05T18:22:27.399Z"
   },
   {
    "duration": 16,
    "start_time": "2022-11-05T18:36:47.163Z"
   },
   {
    "duration": 3,
    "start_time": "2022-11-05T18:36:58.205Z"
   },
   {
    "duration": 68,
    "start_time": "2022-11-05T18:36:58.211Z"
   },
   {
    "duration": 12,
    "start_time": "2022-11-05T18:36:58.281Z"
   },
   {
    "duration": 40,
    "start_time": "2022-11-05T18:36:58.295Z"
   },
   {
    "duration": 31,
    "start_time": "2022-11-05T18:36:58.338Z"
   },
   {
    "duration": 0,
    "start_time": "2022-11-05T18:36:58.370Z"
   },
   {
    "duration": 0,
    "start_time": "2022-11-05T18:36:58.372Z"
   },
   {
    "duration": 0,
    "start_time": "2022-11-05T18:36:58.373Z"
   },
   {
    "duration": 0,
    "start_time": "2022-11-05T18:36:58.374Z"
   },
   {
    "duration": 0,
    "start_time": "2022-11-05T18:36:58.375Z"
   },
   {
    "duration": 3,
    "start_time": "2022-11-05T18:50:54.150Z"
   },
   {
    "duration": 39,
    "start_time": "2022-11-05T18:50:54.155Z"
   },
   {
    "duration": 10,
    "start_time": "2022-11-05T18:50:54.196Z"
   },
   {
    "duration": 10,
    "start_time": "2022-11-05T18:50:54.207Z"
   },
   {
    "duration": 22,
    "start_time": "2022-11-05T18:50:54.220Z"
   },
   {
    "duration": 0,
    "start_time": "2022-11-05T18:50:54.243Z"
   },
   {
    "duration": 0,
    "start_time": "2022-11-05T18:50:54.244Z"
   },
   {
    "duration": 0,
    "start_time": "2022-11-05T18:50:54.245Z"
   },
   {
    "duration": 0,
    "start_time": "2022-11-05T18:50:54.246Z"
   },
   {
    "duration": 0,
    "start_time": "2022-11-05T18:50:54.247Z"
   },
   {
    "duration": 15,
    "start_time": "2022-11-05T18:53:49.881Z"
   },
   {
    "duration": 36,
    "start_time": "2022-11-05T18:56:04.154Z"
   },
   {
    "duration": 9,
    "start_time": "2022-11-05T18:56:30.864Z"
   },
   {
    "duration": 13,
    "start_time": "2022-11-05T18:56:41.778Z"
   },
   {
    "duration": 25,
    "start_time": "2022-11-05T18:57:15.620Z"
   },
   {
    "duration": 9,
    "start_time": "2022-11-05T18:57:55.888Z"
   },
   {
    "duration": 15,
    "start_time": "2022-11-05T19:17:05.646Z"
   },
   {
    "duration": 15,
    "start_time": "2022-11-05T19:21:55.754Z"
   },
   {
    "duration": 14,
    "start_time": "2022-11-05T19:22:19.979Z"
   },
   {
    "duration": 4,
    "start_time": "2022-11-05T19:22:24.891Z"
   },
   {
    "duration": 40,
    "start_time": "2022-11-05T19:22:24.897Z"
   },
   {
    "duration": 11,
    "start_time": "2022-11-05T19:22:24.939Z"
   },
   {
    "duration": 5,
    "start_time": "2022-11-05T19:22:24.952Z"
   },
   {
    "duration": 17,
    "start_time": "2022-11-05T19:22:24.958Z"
   },
   {
    "duration": 0,
    "start_time": "2022-11-05T19:22:24.977Z"
   },
   {
    "duration": 0,
    "start_time": "2022-11-05T19:22:24.978Z"
   },
   {
    "duration": 0,
    "start_time": "2022-11-05T19:22:24.979Z"
   },
   {
    "duration": 0,
    "start_time": "2022-11-05T19:22:24.980Z"
   },
   {
    "duration": 0,
    "start_time": "2022-11-05T19:22:24.981Z"
   },
   {
    "duration": 13,
    "start_time": "2022-11-05T19:24:02.056Z"
   },
   {
    "duration": 36,
    "start_time": "2022-11-05T19:25:32.965Z"
   },
   {
    "duration": 6,
    "start_time": "2022-11-05T19:32:27.021Z"
   },
   {
    "duration": 1127,
    "start_time": "2022-11-06T09:30:18.995Z"
   },
   {
    "duration": 94,
    "start_time": "2022-11-06T09:30:20.124Z"
   },
   {
    "duration": 13,
    "start_time": "2022-11-06T09:30:20.220Z"
   },
   {
    "duration": 12,
    "start_time": "2022-11-06T09:30:20.237Z"
   },
   {
    "duration": 9,
    "start_time": "2022-11-06T09:30:20.251Z"
   },
   {
    "duration": 32,
    "start_time": "2022-11-06T09:30:20.262Z"
   },
   {
    "duration": 17,
    "start_time": "2022-11-06T09:30:20.295Z"
   },
   {
    "duration": 64,
    "start_time": "2022-11-06T09:30:20.314Z"
   },
   {
    "duration": 252,
    "start_time": "2022-11-06T09:30:20.380Z"
   },
   {
    "duration": 8,
    "start_time": "2022-11-06T09:30:20.633Z"
   },
   {
    "duration": 7,
    "start_time": "2022-11-06T09:31:29.197Z"
   },
   {
    "duration": 3,
    "start_time": "2022-11-06T09:31:35.584Z"
   },
   {
    "duration": 44,
    "start_time": "2022-11-06T09:31:35.589Z"
   },
   {
    "duration": 9,
    "start_time": "2022-11-06T09:31:35.636Z"
   },
   {
    "duration": 11,
    "start_time": "2022-11-06T09:31:35.647Z"
   },
   {
    "duration": 11,
    "start_time": "2022-11-06T09:31:35.659Z"
   },
   {
    "duration": 18,
    "start_time": "2022-11-06T09:31:35.671Z"
   },
   {
    "duration": 13,
    "start_time": "2022-11-06T09:31:35.691Z"
   },
   {
    "duration": 29,
    "start_time": "2022-11-06T09:31:35.705Z"
   },
   {
    "duration": 251,
    "start_time": "2022-11-06T09:31:35.736Z"
   },
   {
    "duration": 7,
    "start_time": "2022-11-06T09:31:35.989Z"
   },
   {
    "duration": 3,
    "start_time": "2022-11-06T09:32:32.354Z"
   },
   {
    "duration": 47,
    "start_time": "2022-11-06T09:32:32.359Z"
   },
   {
    "duration": 9,
    "start_time": "2022-11-06T09:32:32.407Z"
   },
   {
    "duration": 8,
    "start_time": "2022-11-06T09:32:32.418Z"
   },
   {
    "duration": 11,
    "start_time": "2022-11-06T09:32:32.427Z"
   },
   {
    "duration": 19,
    "start_time": "2022-11-06T09:32:32.439Z"
   },
   {
    "duration": 13,
    "start_time": "2022-11-06T09:32:32.460Z"
   },
   {
    "duration": 34,
    "start_time": "2022-11-06T09:32:32.477Z"
   },
   {
    "duration": 241,
    "start_time": "2022-11-06T09:32:32.513Z"
   },
   {
    "duration": 8,
    "start_time": "2022-11-06T09:32:32.756Z"
   },
   {
    "duration": 8,
    "start_time": "2022-11-06T09:34:10.438Z"
   },
   {
    "duration": 3,
    "start_time": "2022-11-06T09:48:35.400Z"
   },
   {
    "duration": 44,
    "start_time": "2022-11-06T09:48:35.405Z"
   },
   {
    "duration": 9,
    "start_time": "2022-11-06T09:48:35.450Z"
   },
   {
    "duration": 6,
    "start_time": "2022-11-06T09:48:35.461Z"
   },
   {
    "duration": 10,
    "start_time": "2022-11-06T09:48:35.468Z"
   },
   {
    "duration": 18,
    "start_time": "2022-11-06T09:48:35.479Z"
   },
   {
    "duration": 13,
    "start_time": "2022-11-06T09:48:35.498Z"
   },
   {
    "duration": 29,
    "start_time": "2022-11-06T09:48:35.512Z"
   },
   {
    "duration": 253,
    "start_time": "2022-11-06T09:48:35.543Z"
   },
   {
    "duration": 8,
    "start_time": "2022-11-06T09:48:35.798Z"
   },
   {
    "duration": 1019,
    "start_time": "2022-11-06T13:22:58.819Z"
   },
   {
    "duration": 99,
    "start_time": "2022-11-06T13:22:59.840Z"
   },
   {
    "duration": 10,
    "start_time": "2022-11-06T13:22:59.940Z"
   },
   {
    "duration": 4,
    "start_time": "2022-11-06T13:22:59.952Z"
   },
   {
    "duration": 7,
    "start_time": "2022-11-06T13:22:59.958Z"
   },
   {
    "duration": 17,
    "start_time": "2022-11-06T13:22:59.966Z"
   },
   {
    "duration": 12,
    "start_time": "2022-11-06T13:22:59.984Z"
   },
   {
    "duration": 32,
    "start_time": "2022-11-06T13:22:59.997Z"
   },
   {
    "duration": 225,
    "start_time": "2022-11-06T13:23:00.030Z"
   },
   {
    "duration": 7,
    "start_time": "2022-11-06T13:23:00.257Z"
   },
   {
    "duration": 25,
    "start_time": "2022-11-06T13:49:07.790Z"
   },
   {
    "duration": 29,
    "start_time": "2022-11-06T13:50:05.007Z"
   },
   {
    "duration": 108,
    "start_time": "2022-11-06T13:50:34.680Z"
   },
   {
    "duration": 28,
    "start_time": "2022-11-06T13:50:47.668Z"
   },
   {
    "duration": 67,
    "start_time": "2022-11-06T13:51:48.183Z"
   },
   {
    "duration": 8,
    "start_time": "2022-11-06T14:04:20.816Z"
   },
   {
    "duration": 11,
    "start_time": "2022-11-06T14:05:40.542Z"
   },
   {
    "duration": 8,
    "start_time": "2022-11-06T14:05:52.133Z"
   },
   {
    "duration": 8,
    "start_time": "2022-11-06T14:06:23.743Z"
   },
   {
    "duration": 10,
    "start_time": "2022-11-06T14:06:40.985Z"
   },
   {
    "duration": 360,
    "start_time": "2022-11-06T14:12:04.756Z"
   },
   {
    "duration": 36,
    "start_time": "2022-11-06T14:12:05.118Z"
   },
   {
    "duration": 10,
    "start_time": "2022-11-06T14:12:05.156Z"
   },
   {
    "duration": 7,
    "start_time": "2022-11-06T14:12:05.168Z"
   },
   {
    "duration": 8,
    "start_time": "2022-11-06T14:12:05.176Z"
   },
   {
    "duration": 20,
    "start_time": "2022-11-06T14:12:05.185Z"
   },
   {
    "duration": 11,
    "start_time": "2022-11-06T14:12:05.206Z"
   },
   {
    "duration": 56,
    "start_time": "2022-11-06T14:12:05.219Z"
   },
   {
    "duration": 30,
    "start_time": "2022-11-06T14:12:05.276Z"
   },
   {
    "duration": 0,
    "start_time": "2022-11-06T14:12:05.308Z"
   },
   {
    "duration": 0,
    "start_time": "2022-11-06T14:12:05.309Z"
   },
   {
    "duration": 10,
    "start_time": "2022-11-06T14:12:30.460Z"
   },
   {
    "duration": 4,
    "start_time": "2022-11-06T14:14:01.938Z"
   },
   {
    "duration": 39,
    "start_time": "2022-11-06T14:14:01.944Z"
   },
   {
    "duration": 10,
    "start_time": "2022-11-06T14:14:01.984Z"
   },
   {
    "duration": 7,
    "start_time": "2022-11-06T14:14:01.995Z"
   },
   {
    "duration": 9,
    "start_time": "2022-11-06T14:14:02.004Z"
   },
   {
    "duration": 18,
    "start_time": "2022-11-06T14:14:02.014Z"
   },
   {
    "duration": 12,
    "start_time": "2022-11-06T14:14:02.034Z"
   },
   {
    "duration": 82,
    "start_time": "2022-11-06T14:14:02.047Z"
   },
   {
    "duration": 9,
    "start_time": "2022-11-06T14:14:02.130Z"
   },
   {
    "duration": 0,
    "start_time": "2022-11-06T14:14:02.140Z"
   },
   {
    "duration": 0,
    "start_time": "2022-11-06T14:14:02.141Z"
   },
   {
    "duration": 10,
    "start_time": "2022-11-06T14:14:34.220Z"
   },
   {
    "duration": 9,
    "start_time": "2022-11-06T14:17:02.013Z"
   },
   {
    "duration": 1236,
    "start_time": "2022-11-06T14:18:39.449Z"
   },
   {
    "duration": 1384,
    "start_time": "2022-11-06T14:20:15.895Z"
   },
   {
    "duration": 1182,
    "start_time": "2022-11-06T14:55:49.310Z"
   },
   {
    "duration": 1251,
    "start_time": "2022-11-06T14:57:10.166Z"
   },
   {
    "duration": 1350,
    "start_time": "2022-11-06T14:58:33.509Z"
   },
   {
    "duration": 848,
    "start_time": "2022-11-06T14:58:52.710Z"
   },
   {
    "duration": 1164,
    "start_time": "2022-11-06T14:59:18.571Z"
   },
   {
    "duration": 71,
    "start_time": "2022-11-06T15:01:59.843Z"
   },
   {
    "duration": 8,
    "start_time": "2022-11-06T15:02:27.338Z"
   },
   {
    "duration": 1058,
    "start_time": "2022-11-06T15:02:38.308Z"
   },
   {
    "duration": 1173,
    "start_time": "2022-11-06T15:03:36.531Z"
   },
   {
    "duration": 1076,
    "start_time": "2022-11-06T15:03:53.567Z"
   },
   {
    "duration": 1040,
    "start_time": "2022-11-06T15:05:25.709Z"
   },
   {
    "duration": 866,
    "start_time": "2022-11-06T15:05:39.837Z"
   },
   {
    "duration": 990,
    "start_time": "2022-11-06T15:05:57.690Z"
   },
   {
    "duration": 1017,
    "start_time": "2022-11-06T15:06:08.267Z"
   },
   {
    "duration": 1029,
    "start_time": "2022-11-06T15:06:16.698Z"
   },
   {
    "duration": 3,
    "start_time": "2022-11-06T15:07:21.771Z"
   },
   {
    "duration": 37,
    "start_time": "2022-11-06T15:07:21.775Z"
   },
   {
    "duration": 10,
    "start_time": "2022-11-06T15:07:21.814Z"
   },
   {
    "duration": 20,
    "start_time": "2022-11-06T15:07:21.825Z"
   },
   {
    "duration": 37,
    "start_time": "2022-11-06T15:07:21.847Z"
   },
   {
    "duration": 45,
    "start_time": "2022-11-06T15:07:21.885Z"
   },
   {
    "duration": 13,
    "start_time": "2022-11-06T15:07:21.931Z"
   },
   {
    "duration": 99,
    "start_time": "2022-11-06T15:07:21.946Z"
   },
   {
    "duration": 1076,
    "start_time": "2022-11-06T15:07:22.046Z"
   },
   {
    "duration": 224,
    "start_time": "2022-11-06T15:07:23.124Z"
   },
   {
    "duration": 8,
    "start_time": "2022-11-06T15:07:23.350Z"
   },
   {
    "duration": 74,
    "start_time": "2022-11-06T15:22:18.769Z"
   },
   {
    "duration": 264,
    "start_time": "2022-11-06T15:23:04.853Z"
   },
   {
    "duration": 262,
    "start_time": "2022-11-06T15:23:56.471Z"
   },
   {
    "duration": 269,
    "start_time": "2022-11-06T15:24:57.406Z"
   },
   {
    "duration": 7,
    "start_time": "2022-11-06T15:33:17.166Z"
   },
   {
    "duration": 3,
    "start_time": "2022-11-06T15:33:53.704Z"
   },
   {
    "duration": 38,
    "start_time": "2022-11-06T15:33:53.709Z"
   },
   {
    "duration": 9,
    "start_time": "2022-11-06T15:33:53.749Z"
   },
   {
    "duration": 5,
    "start_time": "2022-11-06T15:33:53.760Z"
   },
   {
    "duration": 9,
    "start_time": "2022-11-06T15:33:53.767Z"
   },
   {
    "duration": 25,
    "start_time": "2022-11-06T15:33:53.778Z"
   },
   {
    "duration": 13,
    "start_time": "2022-11-06T15:33:53.805Z"
   },
   {
    "duration": 59,
    "start_time": "2022-11-06T15:33:53.819Z"
   },
   {
    "duration": 1086,
    "start_time": "2022-11-06T15:33:53.880Z"
   },
   {
    "duration": 271,
    "start_time": "2022-11-06T15:33:54.968Z"
   },
   {
    "duration": 5,
    "start_time": "2022-11-06T15:33:55.240Z"
   },
   {
    "duration": 3,
    "start_time": "2022-11-06T15:35:16.641Z"
   },
   {
    "duration": 41,
    "start_time": "2022-11-06T15:35:16.646Z"
   },
   {
    "duration": 9,
    "start_time": "2022-11-06T15:35:16.688Z"
   },
   {
    "duration": 4,
    "start_time": "2022-11-06T15:35:16.699Z"
   },
   {
    "duration": 7,
    "start_time": "2022-11-06T15:35:16.705Z"
   },
   {
    "duration": 18,
    "start_time": "2022-11-06T15:35:16.713Z"
   },
   {
    "duration": 14,
    "start_time": "2022-11-06T15:35:16.732Z"
   },
   {
    "duration": 83,
    "start_time": "2022-11-06T15:35:16.747Z"
   },
   {
    "duration": 1159,
    "start_time": "2022-11-06T15:35:16.831Z"
   },
   {
    "duration": 369,
    "start_time": "2022-11-06T15:35:17.992Z"
   },
   {
    "duration": 5,
    "start_time": "2022-11-06T15:35:18.362Z"
   },
   {
    "duration": 2,
    "start_time": "2022-11-06T15:55:02.794Z"
   },
   {
    "duration": 2,
    "start_time": "2022-11-06T15:55:06.328Z"
   },
   {
    "duration": 11,
    "start_time": "2022-11-06T15:57:18.567Z"
   },
   {
    "duration": 11,
    "start_time": "2022-11-06T15:58:07.281Z"
   },
   {
    "duration": 2247,
    "start_time": "2022-11-07T07:24:42.706Z"
   },
   {
    "duration": 40,
    "start_time": "2022-11-07T07:24:44.955Z"
   },
   {
    "duration": 11,
    "start_time": "2022-11-07T07:24:44.997Z"
   },
   {
    "duration": 38,
    "start_time": "2022-11-07T07:24:45.010Z"
   },
   {
    "duration": 23,
    "start_time": "2022-11-07T07:24:45.049Z"
   },
   {
    "duration": 30,
    "start_time": "2022-11-07T07:24:45.074Z"
   },
   {
    "duration": 34,
    "start_time": "2022-11-07T07:24:45.106Z"
   },
   {
    "duration": 96,
    "start_time": "2022-11-07T07:24:45.142Z"
   },
   {
    "duration": 1366,
    "start_time": "2022-11-07T07:24:45.239Z"
   },
   {
    "duration": 289,
    "start_time": "2022-11-07T07:24:46.607Z"
   },
   {
    "duration": 5,
    "start_time": "2022-11-07T07:24:46.898Z"
   },
   {
    "duration": 111,
    "start_time": "2022-11-07T07:24:46.904Z"
   },
   {
    "duration": 3,
    "start_time": "2022-11-07T07:24:53.787Z"
   },
   {
    "duration": 1442,
    "start_time": "2022-11-07T09:34:17.127Z"
   },
   {
    "duration": 89,
    "start_time": "2022-11-07T09:34:18.572Z"
   },
   {
    "duration": 11,
    "start_time": "2022-11-07T09:34:18.662Z"
   },
   {
    "duration": 8,
    "start_time": "2022-11-07T09:34:18.675Z"
   },
   {
    "duration": 16,
    "start_time": "2022-11-07T09:34:18.684Z"
   },
   {
    "duration": 17,
    "start_time": "2022-11-07T09:34:18.702Z"
   },
   {
    "duration": 13,
    "start_time": "2022-11-07T09:34:18.720Z"
   },
   {
    "duration": 62,
    "start_time": "2022-11-07T09:34:18.735Z"
   },
   {
    "duration": 1095,
    "start_time": "2022-11-07T09:34:18.798Z"
   },
   {
    "duration": 43,
    "start_time": "2022-11-07T09:34:19.895Z"
   },
   {
    "duration": 0,
    "start_time": "2022-11-07T09:34:19.939Z"
   },
   {
    "duration": 0,
    "start_time": "2022-11-07T09:34:19.940Z"
   },
   {
    "duration": 3,
    "start_time": "2022-11-07T09:34:36.584Z"
   },
   {
    "duration": 40,
    "start_time": "2022-11-07T09:34:36.588Z"
   },
   {
    "duration": 10,
    "start_time": "2022-11-07T09:34:36.630Z"
   },
   {
    "duration": 22,
    "start_time": "2022-11-07T09:34:36.641Z"
   },
   {
    "duration": 8,
    "start_time": "2022-11-07T09:34:36.665Z"
   },
   {
    "duration": 19,
    "start_time": "2022-11-07T09:34:36.675Z"
   },
   {
    "duration": 39,
    "start_time": "2022-11-07T09:34:36.696Z"
   },
   {
    "duration": 63,
    "start_time": "2022-11-07T09:34:36.737Z"
   },
   {
    "duration": 1155,
    "start_time": "2022-11-07T09:34:36.802Z"
   },
   {
    "duration": 1588,
    "start_time": "2022-11-07T09:34:37.960Z"
   },
   {
    "duration": 6,
    "start_time": "2022-11-07T09:34:39.550Z"
   },
   {
    "duration": 110,
    "start_time": "2022-11-07T09:34:39.557Z"
   },
   {
    "duration": 3,
    "start_time": "2022-11-07T09:47:46.259Z"
   },
   {
    "duration": 40,
    "start_time": "2022-11-07T09:47:46.263Z"
   },
   {
    "duration": 10,
    "start_time": "2022-11-07T09:47:46.305Z"
   },
   {
    "duration": 13,
    "start_time": "2022-11-07T09:47:46.316Z"
   },
   {
    "duration": 10,
    "start_time": "2022-11-07T09:47:46.332Z"
   },
   {
    "duration": 20,
    "start_time": "2022-11-07T09:47:46.343Z"
   },
   {
    "duration": 14,
    "start_time": "2022-11-07T09:47:46.364Z"
   },
   {
    "duration": 85,
    "start_time": "2022-11-07T09:47:46.380Z"
   },
   {
    "duration": 1209,
    "start_time": "2022-11-07T09:47:46.467Z"
   },
   {
    "duration": 1519,
    "start_time": "2022-11-07T09:47:47.677Z"
   },
   {
    "duration": 6,
    "start_time": "2022-11-07T09:47:49.197Z"
   },
   {
    "duration": 19,
    "start_time": "2022-11-07T09:47:49.205Z"
   },
   {
    "duration": 3,
    "start_time": "2022-11-07T09:48:47.269Z"
   },
   {
    "duration": 54,
    "start_time": "2022-11-07T09:48:47.275Z"
   },
   {
    "duration": 14,
    "start_time": "2022-11-07T09:48:47.331Z"
   },
   {
    "duration": 21,
    "start_time": "2022-11-07T09:48:47.347Z"
   },
   {
    "duration": 14,
    "start_time": "2022-11-07T09:48:47.369Z"
   },
   {
    "duration": 37,
    "start_time": "2022-11-07T09:48:47.385Z"
   },
   {
    "duration": 15,
    "start_time": "2022-11-07T09:48:47.424Z"
   },
   {
    "duration": 84,
    "start_time": "2022-11-07T09:48:47.441Z"
   },
   {
    "duration": 12,
    "start_time": "2022-11-07T09:48:47.527Z"
   },
   {
    "duration": 0,
    "start_time": "2022-11-07T09:48:47.540Z"
   },
   {
    "duration": 0,
    "start_time": "2022-11-07T09:48:47.541Z"
   },
   {
    "duration": 0,
    "start_time": "2022-11-07T09:48:47.542Z"
   },
   {
    "duration": 12,
    "start_time": "2022-11-07T09:51:05.139Z"
   },
   {
    "duration": 12,
    "start_time": "2022-11-07T09:53:34.692Z"
   },
   {
    "duration": 10,
    "start_time": "2022-11-07T09:56:23.878Z"
   },
   {
    "duration": 5827,
    "start_time": "2022-11-07T09:58:52.581Z"
   },
   {
    "duration": 11,
    "start_time": "2022-11-07T09:59:18.971Z"
   },
   {
    "duration": 5308,
    "start_time": "2022-11-07T09:59:47.828Z"
   },
   {
    "duration": 1147,
    "start_time": "2022-11-07T10:00:45.434Z"
   },
   {
    "duration": 885,
    "start_time": "2022-11-07T10:01:13.147Z"
   },
   {
    "duration": 842,
    "start_time": "2022-11-07T10:01:28.367Z"
   },
   {
    "duration": 3,
    "start_time": "2022-11-07T10:12:14.727Z"
   },
   {
    "duration": 38,
    "start_time": "2022-11-07T10:12:14.732Z"
   },
   {
    "duration": 10,
    "start_time": "2022-11-07T10:12:14.771Z"
   },
   {
    "duration": 9,
    "start_time": "2022-11-07T10:12:14.782Z"
   },
   {
    "duration": 12,
    "start_time": "2022-11-07T10:12:14.792Z"
   },
   {
    "duration": 21,
    "start_time": "2022-11-07T10:12:14.805Z"
   },
   {
    "duration": 14,
    "start_time": "2022-11-07T10:12:14.827Z"
   },
   {
    "duration": 61,
    "start_time": "2022-11-07T10:12:14.843Z"
   },
   {
    "duration": 865,
    "start_time": "2022-11-07T10:12:14.922Z"
   },
   {
    "duration": 7,
    "start_time": "2022-11-07T10:12:15.790Z"
   },
   {
    "duration": 1633,
    "start_time": "2022-11-07T10:12:15.798Z"
   },
   {
    "duration": 6,
    "start_time": "2022-11-07T10:12:17.433Z"
   },
   {
    "duration": 14,
    "start_time": "2022-11-07T10:12:17.441Z"
   },
   {
    "duration": 3,
    "start_time": "2022-11-07T10:14:23.616Z"
   },
   {
    "duration": 36,
    "start_time": "2022-11-07T10:14:23.623Z"
   },
   {
    "duration": 10,
    "start_time": "2022-11-07T10:14:23.661Z"
   },
   {
    "duration": 14,
    "start_time": "2022-11-07T10:14:23.672Z"
   },
   {
    "duration": 14,
    "start_time": "2022-11-07T10:14:23.687Z"
   },
   {
    "duration": 21,
    "start_time": "2022-11-07T10:14:23.702Z"
   },
   {
    "duration": 14,
    "start_time": "2022-11-07T10:14:23.725Z"
   },
   {
    "duration": 63,
    "start_time": "2022-11-07T10:14:23.741Z"
   },
   {
    "duration": 934,
    "start_time": "2022-11-07T10:14:23.805Z"
   },
   {
    "duration": 5,
    "start_time": "2022-11-07T10:14:24.740Z"
   },
   {
    "duration": 1735,
    "start_time": "2022-11-07T10:14:24.747Z"
   },
   {
    "duration": 7,
    "start_time": "2022-11-07T10:14:26.484Z"
   },
   {
    "duration": 14,
    "start_time": "2022-11-07T10:14:26.492Z"
   },
   {
    "duration": 6,
    "start_time": "2022-11-07T10:17:45.354Z"
   }
  ],
  "kernelspec": {
   "display_name": "Python 3 (ipykernel)",
   "language": "python",
   "name": "python3"
  },
  "language_info": {
   "codemirror_mode": {
    "name": "ipython",
    "version": 3
   },
   "file_extension": ".py",
   "mimetype": "text/x-python",
   "name": "python",
   "nbconvert_exporter": "python",
   "pygments_lexer": "ipython3",
   "version": "3.9.13"
  },
  "toc": {
   "base_numbering": 1,
   "nav_menu": {},
   "number_sections": true,
   "sideBar": true,
   "skip_h1_title": true,
   "title_cell": "Table of Contents",
   "title_sidebar": "Contents",
   "toc_cell": false,
   "toc_position": {},
   "toc_section_display": true,
   "toc_window_display": false
  }
 },
 "nbformat": 4,
 "nbformat_minor": 2
}
