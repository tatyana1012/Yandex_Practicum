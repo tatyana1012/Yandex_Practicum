{
 "cells": [
  {
   "cell_type": "markdown",
   "metadata": {},
   "source": [
    "# Выбор локации для скважины"
   ]
  },
  {
   "cell_type": "markdown",
   "metadata": {},
   "source": [
    "Допустим, вы работаете в добывающей компании «ГлавРосГосНефть». Нужно решить, где бурить новую скважину.\n",
    "\n",
    "Мы имеем пробы нефти в трёх регионах: в каждом 10 000 месторождений, где измерили качество нефти и объём её запасов. Необходимо построить модель машинного обучения, которая поможет определить регион, где добыча принесёт наибольшую прибыль. Также проанализировать возможную прибыль и риски техникой *Bootstrap.*\n",
    "\n",
    "Шаги для выбора локации:\n",
    "\n",
    "- В избранном регионе ищут месторождения, для каждого определяют значения признаков;\n",
    "- Строят модель и оценивают объём запасов;\n",
    "- Выбирают месторождения с самым высокими оценками значений. Количество месторождений зависит от бюджета компании и стоимости разработки одной скважины;\n",
    "- Прибыль равна суммарной прибыли отобранных месторождений."
   ]
  },
  {
   "cell_type": "markdown",
   "metadata": {},
   "source": [
    "## Загрузка и подготовка данных"
   ]
  },
  {
   "cell_type": "code",
   "execution_count": 83,
   "metadata": {},
   "outputs": [
    {
     "name": "stdout",
     "output_type": "stream",
     "text": [
      "Requirement already satisfied: phik in /opt/conda/lib/python3.9/site-packages (0.12.3)\n",
      "Requirement already satisfied: numpy>=1.18.0 in /opt/conda/lib/python3.9/site-packages (from phik) (1.21.1)\n",
      "Requirement already satisfied: scipy>=1.5.2 in /opt/conda/lib/python3.9/site-packages (from phik) (1.9.1)\n",
      "Requirement already satisfied: joblib>=0.14.1 in /opt/conda/lib/python3.9/site-packages (from phik) (1.1.0)\n",
      "Requirement already satisfied: matplotlib>=2.2.3 in /opt/conda/lib/python3.9/site-packages (from phik) (3.3.4)\n",
      "Requirement already satisfied: pandas>=0.25.1 in /opt/conda/lib/python3.9/site-packages (from phik) (1.2.4)\n",
      "Requirement already satisfied: pillow>=6.2.0 in /opt/conda/lib/python3.9/site-packages (from matplotlib>=2.2.3->phik) (8.4.0)\n",
      "Requirement already satisfied: python-dateutil>=2.1 in /opt/conda/lib/python3.9/site-packages (from matplotlib>=2.2.3->phik) (2.8.1)\n",
      "Requirement already satisfied: cycler>=0.10 in /opt/conda/lib/python3.9/site-packages (from matplotlib>=2.2.3->phik) (0.11.0)\n",
      "Requirement already satisfied: kiwisolver>=1.0.1 in /opt/conda/lib/python3.9/site-packages (from matplotlib>=2.2.3->phik) (1.4.4)\n",
      "Requirement already satisfied: pyparsing!=2.0.4,!=2.1.2,!=2.1.6,>=2.0.3 in /opt/conda/lib/python3.9/site-packages (from matplotlib>=2.2.3->phik) (2.4.7)\n",
      "Requirement already satisfied: pytz>=2017.3 in /opt/conda/lib/python3.9/site-packages (from pandas>=0.25.1->phik) (2021.1)\n",
      "Requirement already satisfied: six>=1.5 in /opt/conda/lib/python3.9/site-packages (from python-dateutil>=2.1->matplotlib>=2.2.3->phik) (1.16.0)\n",
      "Note: you may need to restart the kernel to use updated packages.\n"
     ]
    }
   ],
   "source": [
    "pip install phik"
   ]
  },
  {
   "cell_type": "code",
   "execution_count": 84,
   "metadata": {},
   "outputs": [],
   "source": [
    "import pandas as pd\n",
    "import numpy as np\n",
    "from sklearn.linear_model import LinearRegression\n",
    "from sklearn.metrics import mean_squared_error\n",
    "from sklearn.model_selection import train_test_split\n",
    "import phik"
   ]
  },
  {
   "cell_type": "code",
   "execution_count": 85,
   "metadata": {},
   "outputs": [],
   "source": [
    "BUDGET = 10_000_000_000\n",
    "REVENUE = 450_000\n",
    "POINTS = 500\n",
    "BEST_POINTS = 200"
   ]
  },
  {
   "cell_type": "code",
   "execution_count": 86,
   "metadata": {},
   "outputs": [
    {
     "data": {
      "text/html": [
       "<div>\n",
       "<style scoped>\n",
       "    .dataframe tbody tr th:only-of-type {\n",
       "        vertical-align: middle;\n",
       "    }\n",
       "\n",
       "    .dataframe tbody tr th {\n",
       "        vertical-align: top;\n",
       "    }\n",
       "\n",
       "    .dataframe thead th {\n",
       "        text-align: right;\n",
       "    }\n",
       "</style>\n",
       "<table border=\"1\" class=\"dataframe\">\n",
       "  <thead>\n",
       "    <tr style=\"text-align: right;\">\n",
       "      <th></th>\n",
       "      <th>id</th>\n",
       "      <th>f0</th>\n",
       "      <th>f1</th>\n",
       "      <th>f2</th>\n",
       "      <th>product</th>\n",
       "    </tr>\n",
       "  </thead>\n",
       "  <tbody>\n",
       "    <tr>\n",
       "      <th>0</th>\n",
       "      <td>txEyH</td>\n",
       "      <td>0.705745</td>\n",
       "      <td>-0.497823</td>\n",
       "      <td>1.221170</td>\n",
       "      <td>105.280062</td>\n",
       "    </tr>\n",
       "    <tr>\n",
       "      <th>1</th>\n",
       "      <td>2acmU</td>\n",
       "      <td>1.334711</td>\n",
       "      <td>-0.340164</td>\n",
       "      <td>4.365080</td>\n",
       "      <td>73.037750</td>\n",
       "    </tr>\n",
       "    <tr>\n",
       "      <th>2</th>\n",
       "      <td>409Wp</td>\n",
       "      <td>1.022732</td>\n",
       "      <td>0.151990</td>\n",
       "      <td>1.419926</td>\n",
       "      <td>85.265647</td>\n",
       "    </tr>\n",
       "    <tr>\n",
       "      <th>3</th>\n",
       "      <td>iJLyR</td>\n",
       "      <td>-0.032172</td>\n",
       "      <td>0.139033</td>\n",
       "      <td>2.978566</td>\n",
       "      <td>168.620776</td>\n",
       "    </tr>\n",
       "    <tr>\n",
       "      <th>4</th>\n",
       "      <td>Xdl7t</td>\n",
       "      <td>1.988431</td>\n",
       "      <td>0.155413</td>\n",
       "      <td>4.751769</td>\n",
       "      <td>154.036647</td>\n",
       "    </tr>\n",
       "  </tbody>\n",
       "</table>\n",
       "</div>"
      ],
      "text/plain": [
       "      id        f0        f1        f2     product\n",
       "0  txEyH  0.705745 -0.497823  1.221170  105.280062\n",
       "1  2acmU  1.334711 -0.340164  4.365080   73.037750\n",
       "2  409Wp  1.022732  0.151990  1.419926   85.265647\n",
       "3  iJLyR -0.032172  0.139033  2.978566  168.620776\n",
       "4  Xdl7t  1.988431  0.155413  4.751769  154.036647"
      ]
     },
     "execution_count": 86,
     "metadata": {},
     "output_type": "execute_result"
    }
   ],
   "source": [
    "data0 = pd.read_csv('/datasets/geo_data_0.csv') \n",
    "data0.head()"
   ]
  },
  {
   "cell_type": "code",
   "execution_count": 87,
   "metadata": {},
   "outputs": [
    {
     "data": {
      "text/html": [
       "<div>\n",
       "<style scoped>\n",
       "    .dataframe tbody tr th:only-of-type {\n",
       "        vertical-align: middle;\n",
       "    }\n",
       "\n",
       "    .dataframe tbody tr th {\n",
       "        vertical-align: top;\n",
       "    }\n",
       "\n",
       "    .dataframe thead th {\n",
       "        text-align: right;\n",
       "    }\n",
       "</style>\n",
       "<table border=\"1\" class=\"dataframe\">\n",
       "  <thead>\n",
       "    <tr style=\"text-align: right;\">\n",
       "      <th></th>\n",
       "      <th>id</th>\n",
       "      <th>f0</th>\n",
       "      <th>f1</th>\n",
       "      <th>f2</th>\n",
       "      <th>product</th>\n",
       "    </tr>\n",
       "  </thead>\n",
       "  <tbody>\n",
       "    <tr>\n",
       "      <th>0</th>\n",
       "      <td>kBEdx</td>\n",
       "      <td>-15.001348</td>\n",
       "      <td>-8.276000</td>\n",
       "      <td>-0.005876</td>\n",
       "      <td>3.179103</td>\n",
       "    </tr>\n",
       "    <tr>\n",
       "      <th>1</th>\n",
       "      <td>62mP7</td>\n",
       "      <td>14.272088</td>\n",
       "      <td>-3.475083</td>\n",
       "      <td>0.999183</td>\n",
       "      <td>26.953261</td>\n",
       "    </tr>\n",
       "    <tr>\n",
       "      <th>2</th>\n",
       "      <td>vyE1P</td>\n",
       "      <td>6.263187</td>\n",
       "      <td>-5.948386</td>\n",
       "      <td>5.001160</td>\n",
       "      <td>134.766305</td>\n",
       "    </tr>\n",
       "    <tr>\n",
       "      <th>3</th>\n",
       "      <td>KcrkZ</td>\n",
       "      <td>-13.081196</td>\n",
       "      <td>-11.506057</td>\n",
       "      <td>4.999415</td>\n",
       "      <td>137.945408</td>\n",
       "    </tr>\n",
       "    <tr>\n",
       "      <th>4</th>\n",
       "      <td>AHL4O</td>\n",
       "      <td>12.702195</td>\n",
       "      <td>-8.147433</td>\n",
       "      <td>5.004363</td>\n",
       "      <td>134.766305</td>\n",
       "    </tr>\n",
       "  </tbody>\n",
       "</table>\n",
       "</div>"
      ],
      "text/plain": [
       "      id         f0         f1        f2     product\n",
       "0  kBEdx -15.001348  -8.276000 -0.005876    3.179103\n",
       "1  62mP7  14.272088  -3.475083  0.999183   26.953261\n",
       "2  vyE1P   6.263187  -5.948386  5.001160  134.766305\n",
       "3  KcrkZ -13.081196 -11.506057  4.999415  137.945408\n",
       "4  AHL4O  12.702195  -8.147433  5.004363  134.766305"
      ]
     },
     "execution_count": 87,
     "metadata": {},
     "output_type": "execute_result"
    }
   ],
   "source": [
    "data1 = pd.read_csv('/datasets/geo_data_1.csv')\n",
    "data1.head()"
   ]
  },
  {
   "cell_type": "code",
   "execution_count": 88,
   "metadata": {},
   "outputs": [
    {
     "data": {
      "text/html": [
       "<div>\n",
       "<style scoped>\n",
       "    .dataframe tbody tr th:only-of-type {\n",
       "        vertical-align: middle;\n",
       "    }\n",
       "\n",
       "    .dataframe tbody tr th {\n",
       "        vertical-align: top;\n",
       "    }\n",
       "\n",
       "    .dataframe thead th {\n",
       "        text-align: right;\n",
       "    }\n",
       "</style>\n",
       "<table border=\"1\" class=\"dataframe\">\n",
       "  <thead>\n",
       "    <tr style=\"text-align: right;\">\n",
       "      <th></th>\n",
       "      <th>id</th>\n",
       "      <th>f0</th>\n",
       "      <th>f1</th>\n",
       "      <th>f2</th>\n",
       "      <th>product</th>\n",
       "    </tr>\n",
       "  </thead>\n",
       "  <tbody>\n",
       "    <tr>\n",
       "      <th>0</th>\n",
       "      <td>fwXo0</td>\n",
       "      <td>-1.146987</td>\n",
       "      <td>0.963328</td>\n",
       "      <td>-0.828965</td>\n",
       "      <td>27.758673</td>\n",
       "    </tr>\n",
       "    <tr>\n",
       "      <th>1</th>\n",
       "      <td>WJtFt</td>\n",
       "      <td>0.262778</td>\n",
       "      <td>0.269839</td>\n",
       "      <td>-2.530187</td>\n",
       "      <td>56.069697</td>\n",
       "    </tr>\n",
       "    <tr>\n",
       "      <th>2</th>\n",
       "      <td>ovLUW</td>\n",
       "      <td>0.194587</td>\n",
       "      <td>0.289035</td>\n",
       "      <td>-5.586433</td>\n",
       "      <td>62.871910</td>\n",
       "    </tr>\n",
       "    <tr>\n",
       "      <th>3</th>\n",
       "      <td>q6cA6</td>\n",
       "      <td>2.236060</td>\n",
       "      <td>-0.553760</td>\n",
       "      <td>0.930038</td>\n",
       "      <td>114.572842</td>\n",
       "    </tr>\n",
       "    <tr>\n",
       "      <th>4</th>\n",
       "      <td>WPMUX</td>\n",
       "      <td>-0.515993</td>\n",
       "      <td>1.716266</td>\n",
       "      <td>5.899011</td>\n",
       "      <td>149.600746</td>\n",
       "    </tr>\n",
       "  </tbody>\n",
       "</table>\n",
       "</div>"
      ],
      "text/plain": [
       "      id        f0        f1        f2     product\n",
       "0  fwXo0 -1.146987  0.963328 -0.828965   27.758673\n",
       "1  WJtFt  0.262778  0.269839 -2.530187   56.069697\n",
       "2  ovLUW  0.194587  0.289035 -5.586433   62.871910\n",
       "3  q6cA6  2.236060 -0.553760  0.930038  114.572842\n",
       "4  WPMUX -0.515993  1.716266  5.899011  149.600746"
      ]
     },
     "execution_count": 88,
     "metadata": {},
     "output_type": "execute_result"
    }
   ],
   "source": [
    "data2 = pd.read_csv('/datasets/geo_data_2.csv')\n",
    "data2.head()"
   ]
  },
  {
   "cell_type": "code",
   "execution_count": 89,
   "metadata": {},
   "outputs": [
    {
     "name": "stdout",
     "output_type": "stream",
     "text": [
      "<class 'pandas.core.frame.DataFrame'>\n",
      "RangeIndex: 100000 entries, 0 to 99999\n",
      "Data columns (total 5 columns):\n",
      " #   Column   Non-Null Count   Dtype  \n",
      "---  ------   --------------   -----  \n",
      " 0   id       100000 non-null  object \n",
      " 1   f0       100000 non-null  float64\n",
      " 2   f1       100000 non-null  float64\n",
      " 3   f2       100000 non-null  float64\n",
      " 4   product  100000 non-null  float64\n",
      "dtypes: float64(4), object(1)\n",
      "memory usage: 3.8+ MB\n",
      "<class 'pandas.core.frame.DataFrame'>\n",
      "RangeIndex: 100000 entries, 0 to 99999\n",
      "Data columns (total 5 columns):\n",
      " #   Column   Non-Null Count   Dtype  \n",
      "---  ------   --------------   -----  \n",
      " 0   id       100000 non-null  object \n",
      " 1   f0       100000 non-null  float64\n",
      " 2   f1       100000 non-null  float64\n",
      " 3   f2       100000 non-null  float64\n",
      " 4   product  100000 non-null  float64\n",
      "dtypes: float64(4), object(1)\n",
      "memory usage: 3.8+ MB\n",
      "<class 'pandas.core.frame.DataFrame'>\n",
      "RangeIndex: 100000 entries, 0 to 99999\n",
      "Data columns (total 5 columns):\n",
      " #   Column   Non-Null Count   Dtype  \n",
      "---  ------   --------------   -----  \n",
      " 0   id       100000 non-null  object \n",
      " 1   f0       100000 non-null  float64\n",
      " 2   f1       100000 non-null  float64\n",
      " 3   f2       100000 non-null  float64\n",
      " 4   product  100000 non-null  float64\n",
      "dtypes: float64(4), object(1)\n",
      "memory usage: 3.8+ MB\n"
     ]
    },
    {
     "data": {
      "text/plain": [
       "(None, None, None)"
      ]
     },
     "execution_count": 89,
     "metadata": {},
     "output_type": "execute_result"
    }
   ],
   "source": [
    "data0.info(), data1.info(), data2.info() "
   ]
  },
  {
   "cell_type": "code",
   "execution_count": 90,
   "metadata": {},
   "outputs": [
    {
     "data": {
      "text/plain": [
       "(id         0\n",
       " f0         0\n",
       " f1         0\n",
       " f2         0\n",
       " product    0\n",
       " dtype: int64,\n",
       " id         0\n",
       " f0         0\n",
       " f1         0\n",
       " f2         0\n",
       " product    0\n",
       " dtype: int64,\n",
       " id         0\n",
       " f0         0\n",
       " f1         0\n",
       " f2         0\n",
       " product    0\n",
       " dtype: int64)"
      ]
     },
     "execution_count": 90,
     "metadata": {},
     "output_type": "execute_result"
    }
   ],
   "source": [
    "data0.isna().sum(), data1.isna().sum(), data2.isna().sum() "
   ]
  },
  {
   "cell_type": "code",
   "execution_count": 91,
   "metadata": {},
   "outputs": [
    {
     "data": {
      "text/html": [
       "<div>\n",
       "<style scoped>\n",
       "    .dataframe tbody tr th:only-of-type {\n",
       "        vertical-align: middle;\n",
       "    }\n",
       "\n",
       "    .dataframe tbody tr th {\n",
       "        vertical-align: top;\n",
       "    }\n",
       "\n",
       "    .dataframe thead th {\n",
       "        text-align: right;\n",
       "    }\n",
       "</style>\n",
       "<table border=\"1\" class=\"dataframe\">\n",
       "  <thead>\n",
       "    <tr style=\"text-align: right;\">\n",
       "      <th></th>\n",
       "      <th>f0</th>\n",
       "      <th>f1</th>\n",
       "      <th>f2</th>\n",
       "      <th>product</th>\n",
       "    </tr>\n",
       "  </thead>\n",
       "  <tbody>\n",
       "    <tr>\n",
       "      <th>count</th>\n",
       "      <td>100000.000000</td>\n",
       "      <td>100000.000000</td>\n",
       "      <td>100000.000000</td>\n",
       "      <td>100000.000000</td>\n",
       "    </tr>\n",
       "    <tr>\n",
       "      <th>mean</th>\n",
       "      <td>0.500419</td>\n",
       "      <td>0.250143</td>\n",
       "      <td>2.502647</td>\n",
       "      <td>92.500000</td>\n",
       "    </tr>\n",
       "    <tr>\n",
       "      <th>std</th>\n",
       "      <td>0.871832</td>\n",
       "      <td>0.504433</td>\n",
       "      <td>3.248248</td>\n",
       "      <td>44.288691</td>\n",
       "    </tr>\n",
       "    <tr>\n",
       "      <th>min</th>\n",
       "      <td>-1.408605</td>\n",
       "      <td>-0.848218</td>\n",
       "      <td>-12.088328</td>\n",
       "      <td>0.000000</td>\n",
       "    </tr>\n",
       "    <tr>\n",
       "      <th>25%</th>\n",
       "      <td>-0.072580</td>\n",
       "      <td>-0.200881</td>\n",
       "      <td>0.287748</td>\n",
       "      <td>56.497507</td>\n",
       "    </tr>\n",
       "    <tr>\n",
       "      <th>50%</th>\n",
       "      <td>0.502360</td>\n",
       "      <td>0.250252</td>\n",
       "      <td>2.515969</td>\n",
       "      <td>91.849972</td>\n",
       "    </tr>\n",
       "    <tr>\n",
       "      <th>75%</th>\n",
       "      <td>1.073581</td>\n",
       "      <td>0.700646</td>\n",
       "      <td>4.715088</td>\n",
       "      <td>128.564089</td>\n",
       "    </tr>\n",
       "    <tr>\n",
       "      <th>max</th>\n",
       "      <td>2.362331</td>\n",
       "      <td>1.343769</td>\n",
       "      <td>16.003790</td>\n",
       "      <td>185.364347</td>\n",
       "    </tr>\n",
       "  </tbody>\n",
       "</table>\n",
       "</div>"
      ],
      "text/plain": [
       "                  f0             f1             f2        product\n",
       "count  100000.000000  100000.000000  100000.000000  100000.000000\n",
       "mean        0.500419       0.250143       2.502647      92.500000\n",
       "std         0.871832       0.504433       3.248248      44.288691\n",
       "min        -1.408605      -0.848218     -12.088328       0.000000\n",
       "25%        -0.072580      -0.200881       0.287748      56.497507\n",
       "50%         0.502360       0.250252       2.515969      91.849972\n",
       "75%         1.073581       0.700646       4.715088     128.564089\n",
       "max         2.362331       1.343769      16.003790     185.364347"
      ]
     },
     "execution_count": 91,
     "metadata": {},
     "output_type": "execute_result"
    }
   ],
   "source": [
    "data0.describe()"
   ]
  },
  {
   "cell_type": "code",
   "execution_count": 92,
   "metadata": {},
   "outputs": [
    {
     "data": {
      "text/html": [
       "<div>\n",
       "<style scoped>\n",
       "    .dataframe tbody tr th:only-of-type {\n",
       "        vertical-align: middle;\n",
       "    }\n",
       "\n",
       "    .dataframe tbody tr th {\n",
       "        vertical-align: top;\n",
       "    }\n",
       "\n",
       "    .dataframe thead th {\n",
       "        text-align: right;\n",
       "    }\n",
       "</style>\n",
       "<table border=\"1\" class=\"dataframe\">\n",
       "  <thead>\n",
       "    <tr style=\"text-align: right;\">\n",
       "      <th></th>\n",
       "      <th>f0</th>\n",
       "      <th>f1</th>\n",
       "      <th>f2</th>\n",
       "      <th>product</th>\n",
       "    </tr>\n",
       "  </thead>\n",
       "  <tbody>\n",
       "    <tr>\n",
       "      <th>count</th>\n",
       "      <td>100000.000000</td>\n",
       "      <td>100000.000000</td>\n",
       "      <td>100000.000000</td>\n",
       "      <td>100000.000000</td>\n",
       "    </tr>\n",
       "    <tr>\n",
       "      <th>mean</th>\n",
       "      <td>1.141296</td>\n",
       "      <td>-4.796579</td>\n",
       "      <td>2.494541</td>\n",
       "      <td>68.825000</td>\n",
       "    </tr>\n",
       "    <tr>\n",
       "      <th>std</th>\n",
       "      <td>8.965932</td>\n",
       "      <td>5.119872</td>\n",
       "      <td>1.703572</td>\n",
       "      <td>45.944423</td>\n",
       "    </tr>\n",
       "    <tr>\n",
       "      <th>min</th>\n",
       "      <td>-31.609576</td>\n",
       "      <td>-26.358598</td>\n",
       "      <td>-0.018144</td>\n",
       "      <td>0.000000</td>\n",
       "    </tr>\n",
       "    <tr>\n",
       "      <th>25%</th>\n",
       "      <td>-6.298551</td>\n",
       "      <td>-8.267985</td>\n",
       "      <td>1.000021</td>\n",
       "      <td>26.953261</td>\n",
       "    </tr>\n",
       "    <tr>\n",
       "      <th>50%</th>\n",
       "      <td>1.153055</td>\n",
       "      <td>-4.813172</td>\n",
       "      <td>2.011479</td>\n",
       "      <td>57.085625</td>\n",
       "    </tr>\n",
       "    <tr>\n",
       "      <th>75%</th>\n",
       "      <td>8.621015</td>\n",
       "      <td>-1.332816</td>\n",
       "      <td>3.999904</td>\n",
       "      <td>107.813044</td>\n",
       "    </tr>\n",
       "    <tr>\n",
       "      <th>max</th>\n",
       "      <td>29.421755</td>\n",
       "      <td>18.734063</td>\n",
       "      <td>5.019721</td>\n",
       "      <td>137.945408</td>\n",
       "    </tr>\n",
       "  </tbody>\n",
       "</table>\n",
       "</div>"
      ],
      "text/plain": [
       "                  f0             f1             f2        product\n",
       "count  100000.000000  100000.000000  100000.000000  100000.000000\n",
       "mean        1.141296      -4.796579       2.494541      68.825000\n",
       "std         8.965932       5.119872       1.703572      45.944423\n",
       "min       -31.609576     -26.358598      -0.018144       0.000000\n",
       "25%        -6.298551      -8.267985       1.000021      26.953261\n",
       "50%         1.153055      -4.813172       2.011479      57.085625\n",
       "75%         8.621015      -1.332816       3.999904     107.813044\n",
       "max        29.421755      18.734063       5.019721     137.945408"
      ]
     },
     "execution_count": 92,
     "metadata": {},
     "output_type": "execute_result"
    }
   ],
   "source": [
    "data1.describe()"
   ]
  },
  {
   "cell_type": "code",
   "execution_count": 93,
   "metadata": {},
   "outputs": [
    {
     "data": {
      "text/html": [
       "<div>\n",
       "<style scoped>\n",
       "    .dataframe tbody tr th:only-of-type {\n",
       "        vertical-align: middle;\n",
       "    }\n",
       "\n",
       "    .dataframe tbody tr th {\n",
       "        vertical-align: top;\n",
       "    }\n",
       "\n",
       "    .dataframe thead th {\n",
       "        text-align: right;\n",
       "    }\n",
       "</style>\n",
       "<table border=\"1\" class=\"dataframe\">\n",
       "  <thead>\n",
       "    <tr style=\"text-align: right;\">\n",
       "      <th></th>\n",
       "      <th>f0</th>\n",
       "      <th>f1</th>\n",
       "      <th>f2</th>\n",
       "      <th>product</th>\n",
       "    </tr>\n",
       "  </thead>\n",
       "  <tbody>\n",
       "    <tr>\n",
       "      <th>count</th>\n",
       "      <td>100000.000000</td>\n",
       "      <td>100000.000000</td>\n",
       "      <td>100000.000000</td>\n",
       "      <td>100000.000000</td>\n",
       "    </tr>\n",
       "    <tr>\n",
       "      <th>mean</th>\n",
       "      <td>0.002023</td>\n",
       "      <td>-0.002081</td>\n",
       "      <td>2.495128</td>\n",
       "      <td>95.000000</td>\n",
       "    </tr>\n",
       "    <tr>\n",
       "      <th>std</th>\n",
       "      <td>1.732045</td>\n",
       "      <td>1.730417</td>\n",
       "      <td>3.473445</td>\n",
       "      <td>44.749921</td>\n",
       "    </tr>\n",
       "    <tr>\n",
       "      <th>min</th>\n",
       "      <td>-8.760004</td>\n",
       "      <td>-7.084020</td>\n",
       "      <td>-11.970335</td>\n",
       "      <td>0.000000</td>\n",
       "    </tr>\n",
       "    <tr>\n",
       "      <th>25%</th>\n",
       "      <td>-1.162288</td>\n",
       "      <td>-1.174820</td>\n",
       "      <td>0.130359</td>\n",
       "      <td>59.450441</td>\n",
       "    </tr>\n",
       "    <tr>\n",
       "      <th>50%</th>\n",
       "      <td>0.009424</td>\n",
       "      <td>-0.009482</td>\n",
       "      <td>2.484236</td>\n",
       "      <td>94.925613</td>\n",
       "    </tr>\n",
       "    <tr>\n",
       "      <th>75%</th>\n",
       "      <td>1.158535</td>\n",
       "      <td>1.163678</td>\n",
       "      <td>4.858794</td>\n",
       "      <td>130.595027</td>\n",
       "    </tr>\n",
       "    <tr>\n",
       "      <th>max</th>\n",
       "      <td>7.238262</td>\n",
       "      <td>7.844801</td>\n",
       "      <td>16.739402</td>\n",
       "      <td>190.029838</td>\n",
       "    </tr>\n",
       "  </tbody>\n",
       "</table>\n",
       "</div>"
      ],
      "text/plain": [
       "                  f0             f1             f2        product\n",
       "count  100000.000000  100000.000000  100000.000000  100000.000000\n",
       "mean        0.002023      -0.002081       2.495128      95.000000\n",
       "std         1.732045       1.730417       3.473445      44.749921\n",
       "min        -8.760004      -7.084020     -11.970335       0.000000\n",
       "25%        -1.162288      -1.174820       0.130359      59.450441\n",
       "50%         0.009424      -0.009482       2.484236      94.925613\n",
       "75%         1.158535       1.163678       4.858794     130.595027\n",
       "max         7.238262       7.844801      16.739402     190.029838"
      ]
     },
     "execution_count": 93,
     "metadata": {},
     "output_type": "execute_result"
    }
   ],
   "source": [
    "data2.describe()"
   ]
  },
  {
   "cell_type": "code",
   "execution_count": 94,
   "metadata": {},
   "outputs": [],
   "source": [
    "data0=data0.drop('id',axis=1) \n",
    "data1=data1.drop('id', axis=1)\n",
    "data2=data2.drop('id', axis=1)"
   ]
  },
  {
   "cell_type": "markdown",
   "metadata": {},
   "source": [
    "Для изучения нам представлены 3 датасеты с данными по трём регионам, пропусков в данных нет, в каждом регионе 100 000 наблюдений, столбец с уникальным индификатором скважин решила удалить, так как он неинформативен, и будет только мешать при предсказании модели. Признаками выделем по каждому региону - F0, F1, F2. Целевой признак - 'product' ( объём запасов в скважине). Категориальных признаков нет, только численные с типом float."
   ]
  },
  {
   "cell_type": "markdown",
   "metadata": {},
   "source": [
    "## Обучение и проверка модели"
   ]
  },
  {
   "cell_type": "code",
   "execution_count": null,
   "metadata": {},
   "outputs": [],
   "source": [
    "def data0_model (f1, f2, f3, product):\n",
    "    data0_train, data0_valid=train_test_split(data0, test_size=0.25, random_state=12345)\n",
    "    features0_train = data0_train.drop(['product'], axis=1) \n",
    "    target0_train = data0_train['product']\n",
    "    features0_valid = data0_valid.drop(['product'], axis=1)\n",
    "    target0_valid = data0_valid['product']\n",
    "    model0 =LinearRegression() \n",
    "    model0.fit(features0_train, target0_train) \n",
    "    predictions0_valid = model0.predict(features0_valid)\n",
    "    "
   ]
  },
  {
   "cell_type": "code",
   "execution_count": 95,
   "metadata": {},
   "outputs": [],
   "source": [
    "data0_train, data0_valid=train_test_split(data0, test_size=0.25, random_state=12345) \n",
    "data1_train, data1_valid=train_test_split(data1, test_size=0.25, random_state=12345)\n",
    "data2_train, data2_valid=train_test_split(data2, test_size=0.25, random_state=12345)"
   ]
  },
  {
   "cell_type": "code",
   "execution_count": 96,
   "metadata": {},
   "outputs": [],
   "source": [
    "features0_train = data0_train.drop(['product'], axis=1) \n",
    "target0_train = data0_train['product']\n",
    "features0_valid = data0_valid.drop(['product'], axis=1)\n",
    "target0_valid = data0_valid['product']\n",
    "features1_train = data1_train.drop(['product'], axis=1)\n",
    "target1_train = data1_train['product']\n",
    "features1_valid = data1_valid.drop(['product'], axis=1)\n",
    "target1_valid = data1_valid['product']\n",
    "features2_train = data2_train.drop(['product'], axis=1)\n",
    "target2_train = data2_train['product']\n",
    "features2_valid = data2_valid.drop(['product'], axis=1)\n",
    "target2_valid = data2_valid['product']"
   ]
  },
  {
   "cell_type": "code",
   "execution_count": 97,
   "metadata": {},
   "outputs": [],
   "source": [
    "model0 =LinearRegression() \n",
    "model0.fit(features0_train, target0_train) \n",
    "predictions0_valid = model0.predict(features0_valid)\n",
    "model1 =LinearRegression() \n",
    "model1.fit(features1_train, target1_train) \n",
    "predictions1_valid = model1.predict(features1_valid)\n",
    "model2 =LinearRegression() \n",
    "model2.fit(features2_train, target2_train) \n",
    "predictions2_valid = model2.predict(features2_valid)"
   ]
  },
  {
   "cell_type": "code",
   "execution_count": 98,
   "metadata": {},
   "outputs": [
    {
     "name": "stdout",
     "output_type": "stream",
     "text": [
      "RMSE0: 37.5794217150813\n",
      "Средний запас сырья для региона 0: 92.64046775305692\n",
      "RMSE1: 0.893099286775617\n",
      "Средний запас сырья для региона 1: 68.85895465854666\n",
      "RMSE2: 40.02970873393434\n",
      "Средний запас сырья для региона 2: 95.03858906371522\n"
     ]
    }
   ],
   "source": [
    "print('RMSE0:', mean_squared_error(target0_valid, predictions0_valid)**0.5) \n",
    "print('Средний запас сырья для региона 0:', target0_train.mean())\n",
    "print('RMSE1:', mean_squared_error(target1_valid, predictions1_valid)**0.5)\n",
    "print('Средний запас сырья для региона 1:', target1_train.mean())\n",
    "print('RMSE2:', mean_squared_error(target2_valid, predictions2_valid)**0.5)\n",
    "print('Средний запас сырья для региона 2:', target2_train.mean())"
   ]
  },
  {
   "cell_type": "markdown",
   "metadata": {},
   "source": [
    "Поскольку значение RMSE для второго региона является самым низким, я бы выбрала  в качестве лучшей модели для прогнозирования, хотя и средний запас сырья в нём самый низкий. Для третьего региона региона среднеквадратическая ошибка самая высокая."
   ]
  },
  {
   "cell_type": "markdown",
   "metadata": {},
   "source": [
    "## Подготовка к расчёту прибыли"
   ]
  },
  {
   "cell_type": "code",
   "execution_count": 99,
   "metadata": {
    "scrolled": true
   },
   "outputs": [
    {
     "name": "stdout",
     "output_type": "stream",
     "text": [
      "Точка безубыточности: 111 тыс. баррелей\n"
     ]
    }
   ],
   "source": [
    "BARREL = (BUDGET/REVENUE)/BEST_POINTS \n",
    "print(f'Точка безубыточности: {int(BARREL)} тыс. баррелей')"
   ]
  },
  {
   "cell_type": "code",
   "execution_count": 100,
   "metadata": {},
   "outputs": [
    {
     "name": "stdout",
     "output_type": "stream",
     "text": [
      " Средний запас сырья в первом регионе: 92 тыс.баррелей\n",
      " Средний запас сырья во втором регионе: 68 тыс.баррелей\n",
      " Средний запас сырья в третьем регионе: 95 тыс.баррелей\n"
     ]
    }
   ],
   "source": [
    "mean0 = data0['product'].mean()\n",
    "mean1 = data1['product'].mean()\n",
    "mean2 = data2['product'].mean()\n",
    "print(f' Средний запас сырья в первом регионе: {int(mean0)} тыс.баррелей')\n",
    "print(f' Средний запас сырья во втором регионе: {int(mean1)} тыс.баррелей')\n",
    "print(f' Средний запас сырья в третьем регионе: {int(mean2)} тыс.баррелей')"
   ]
  },
  {
   "cell_type": "markdown",
   "metadata": {},
   "source": [
    "Рассчитаем достаточный объём сырья для безубыточной разработки новой скважины. Общий бюджет для разработки скважин 10 млрд. рублей, а доход с тысячи баррелей нефти составляет 450 000 рублей. Бюджет выделяется на разработку 200 скважин. Получается, что объём сырья должен быть не менее 111 тыс. баррелей. Средний реальный запас в каждом регионе меньше, чем рассчитанный показатель безубыточности: в первом регионе на 19 тыс. баррелей, во втором-на 43 тыс., в третьем -на 16 тыс. баррелей"
   ]
  },
  {
   "cell_type": "markdown",
   "metadata": {},
   "source": [
    "## Расчёт прибыли и рисков "
   ]
  },
  {
   "cell_type": "code",
   "execution_count": 125,
   "metadata": {},
   "outputs": [
    {
     "name": "stdout",
     "output_type": "stream",
     "text": [
      "Средняя прибыль: 396 млн рублей\n",
      "2,5%-квантиль: -112 млн рублей\n",
      "97.5%-квантиль: 909 млн рублей\n",
      "Процент риска 6.9 %\n"
     ]
    }
   ],
   "source": [
    "pred0_valid = pd.Series(predictions0_valid, index = target0_valid.index) \n",
    "def income (target0_valid, pred0_valid, count):\n",
    "    probs_sorted = pred0_valid.sort_values(ascending=False)\n",
    "    selected = target0_valid[probs_sorted.index][:count]\n",
    "    return (revenue* selected.sum() - budget)\n",
    "state = np.random.RandomState(12345)\n",
    "values = []\n",
    "for i in range(1000):\n",
    "    target_subsample = target0_valid.sample(POINTS, replace = True, random_state=state)\n",
    "    probs_subsample = pred0_valid[target_subsample.index]\n",
    "    target_subsample = target_subsample.reset_index(drop = True)\n",
    "    probs_subsample = probs_subsample.reset_index(drop = True)\n",
    "    values.append(income(target_subsample, probs_subsample, BEST_POINTS))\n",
    "\n",
    "values = pd.Series(values)\n",
    "lower = values.quantile(0.025)\n",
    "upper = values.quantile(0.975)\n",
    "mean = values.mean()\n",
    "risk = (sum(values < 0)/values.count())*100\n",
    "print(f'Средняя прибыль первого региона: {mean.astype(int)//1000_000} млн рублей' )\n",
    "print(f'2,5%-квантиль: {lower.astype(int)//1000_000} млн рублей')\n",
    "print(f'97.5%-квантиль: {upper.astype(int)//1000_000} млн рублей')\n",
    "print(f'Процент риска {risk} %')"
   ]
  },
  {
   "cell_type": "code",
   "execution_count": 123,
   "metadata": {},
   "outputs": [
    {
     "name": "stdout",
     "output_type": "stream",
     "text": [
      "Средняя прибыль: 456 млн рублей\n",
      "2,5%-квантиль: 33 млн рублей\n",
      "97.5%-квантиль: 852 млн рублей\n",
      "Процент риска 1.5 %\n"
     ]
    }
   ],
   "source": [
    "pred1_valid = pd.Series(predictions1_valid, index = target1_valid.index) \n",
    "def income (target1_valid, pred1_valid, count):\n",
    "    probs_sorted = pred1_valid.sort_values(ascending=False)\n",
    "    selected = target1_valid[probs_sorted.index][:count]\n",
    "    return (revenue* selected.sum() - budget)\n",
    "state = np.random.RandomState(12345)\n",
    "values = []\n",
    "for i in range(1000):\n",
    "    target_subsample = target1_valid.sample(POINTS, replace = True, random_state=state)\n",
    "    probs_subsample = pred1_valid[target_subsample.index]\n",
    "    target_subsample = target_subsample.reset_index(drop = True)\n",
    "    probs_subsample = probs_subsample.reset_index(drop = True)\n",
    "    values.append(income(target_subsample, probs_subsample, BEST_POINTS))\n",
    "\n",
    "values = pd.Series(values)\n",
    "lower = values.quantile(0.025)\n",
    "upper = values.quantile(0.975)\n",
    "mean = values.mean()\n",
    "risk = (sum(values < 0)/values.count())*100\n",
    "print(f'Средняя прибыль второго региона: {mean.astype(int)//1000_000} млн рублей' )\n",
    "print(f'2,5%-квантиль: {lower.astype(int)//1000_000} млн рублей')\n",
    "print(f'97.5%-квантиль: {upper.astype(int)//1000_000} млн рублей')\n",
    "print(f'Процент риска {risk} %')"
   ]
  },
  {
   "cell_type": "code",
   "execution_count": 121,
   "metadata": {},
   "outputs": [
    {
     "name": "stdout",
     "output_type": "stream",
     "text": [
      "Средняя прибыль: 404 млн рублей\n",
      "2,5%-квантиль: -164 млн рублей\n",
      "97.5%-квантиль: 950 млн рублей\n",
      "Процент риска 7.6 %\n"
     ]
    }
   ],
   "source": [
    "pred2_valid = pd.Series(predictions2_valid, index = target2_valid.index) \n",
    "def income (target2_valid, pred2_valid, count):\n",
    "    probs_sorted = pred2_valid.sort_values(ascending=False)\n",
    "    selected = target2_valid[probs_sorted.index][:count]\n",
    "    return (REVENUE* selected.sum() - BUDGET)\n",
    "state = np.random.RandomState(12345)\n",
    "values = []\n",
    "for i in range(1000):\n",
    "    target_subsample = target2_valid.sample(POINTS, replace = True, random_state=state)\n",
    "    probs_subsample = pred2_valid[target_subsample.index]\n",
    "    target_subsample = target_subsample.reset_index(drop = True)\n",
    "    probs_subsample = probs_subsample.reset_index(drop = True)\n",
    "    values.append(income(target_subsample, probs_subsample, BEST_POINTS))\n",
    "\n",
    "values = pd.Series(values)\n",
    "lower = values.quantile(0.025)\n",
    "upper = values.quantile(0.975)\n",
    "mean = values.mean()\n",
    "risk = (sum(values < 0)/values.count())*100\n",
    "print(f'Средняя прибыль третьего региона: {mean.astype(int)//1000_000} млн рублей' )\n",
    "print(f'2,5%-квантиль: {lower.astype(int)//1000_000} млн рублей')\n",
    "print(f'97.5%-квантиль: {upper.astype(int)//1000_000} млн рублей')\n",
    "print(f'Процент риска {risk} %')"
   ]
  },
  {
   "cell_type": "markdown",
   "metadata": {},
   "source": [
    "<div class=\"alert alert-info\"> ВЫВОД: У нас даны данные по трём регионам, в каждом регионе данные по 100 000 скважинам (с объёмом запасов нефти в каждой скважине). Для того чтобы новая скважина была прибыльной запас нефти в ней должен быть более 111 тыс баррелей. По данным вы видим, что такие скважины есть в каждом регионе, однако в среднем по каждому региону запас сырья меньше чем точка безубыточности. Ддя выбора лучшего региона мы случайным образом выбрали 500 скважин из них выбрали 200 лучших для разработки. Я предполагаю, что самым подходящим регионом для разработки будет второй регион, так как результаты исследования показали, что во втором регионе самый большой средний показатель прибыли (456 млн рублей) при минимальном риске (1,5%)."
   ]
  }
 ],
 "metadata": {
  "ExecuteTimeLog": [
   {
    "duration": 435,
    "start_time": "2022-12-03T13:54:40.331Z"
   },
   {
    "duration": 10,
    "start_time": "2022-12-03T13:54:41.111Z"
   },
   {
    "duration": 1132,
    "start_time": "2022-12-03T13:55:32.800Z"
   },
   {
    "duration": 53,
    "start_time": "2022-12-03T13:55:34.151Z"
   },
   {
    "duration": 219,
    "start_time": "2022-12-03T13:55:43.205Z"
   },
   {
    "duration": 143,
    "start_time": "2022-12-03T13:57:53.690Z"
   },
   {
    "duration": 221,
    "start_time": "2022-12-03T13:58:01.991Z"
   },
   {
    "duration": 217,
    "start_time": "2022-12-03T13:58:12.028Z"
   },
   {
    "duration": 148,
    "start_time": "2022-12-03T14:04:18.610Z"
   },
   {
    "duration": 138,
    "start_time": "2022-12-03T14:04:35.463Z"
   },
   {
    "duration": 36,
    "start_time": "2022-12-03T14:05:21.208Z"
   },
   {
    "duration": 9,
    "start_time": "2022-12-03T14:06:06.674Z"
   },
   {
    "duration": 9,
    "start_time": "2022-12-03T14:06:19.803Z"
   },
   {
    "duration": 10,
    "start_time": "2022-12-03T14:06:26.541Z"
   },
   {
    "duration": 31,
    "start_time": "2022-12-03T14:09:55.295Z"
   },
   {
    "duration": 103,
    "start_time": "2022-12-03T14:31:49.171Z"
   },
   {
    "duration": 20,
    "start_time": "2022-12-03T14:33:09.474Z"
   },
   {
    "duration": 19,
    "start_time": "2022-12-03T14:33:28.651Z"
   },
   {
    "duration": 6,
    "start_time": "2022-12-03T14:33:44.473Z"
   },
   {
    "duration": 12,
    "start_time": "2022-12-03T14:33:55.557Z"
   },
   {
    "duration": 12,
    "start_time": "2022-12-03T14:34:59.871Z"
   },
   {
    "duration": 8,
    "start_time": "2022-12-03T14:35:21.553Z"
   },
   {
    "duration": 13,
    "start_time": "2022-12-03T14:35:42.878Z"
   },
   {
    "duration": 666,
    "start_time": "2022-12-03T14:36:15.768Z"
   },
   {
    "duration": 12,
    "start_time": "2022-12-03T14:38:40.154Z"
   },
   {
    "duration": 10,
    "start_time": "2022-12-03T14:40:48.527Z"
   },
   {
    "duration": 10,
    "start_time": "2022-12-03T14:40:54.163Z"
   },
   {
    "duration": 19,
    "start_time": "2022-12-03T14:42:11.655Z"
   },
   {
    "duration": 15,
    "start_time": "2022-12-03T14:42:33.773Z"
   },
   {
    "duration": 10,
    "start_time": "2022-12-03T14:42:47.829Z"
   },
   {
    "duration": 41,
    "start_time": "2022-12-03T14:43:22.275Z"
   },
   {
    "duration": 14,
    "start_time": "2022-12-03T14:43:32.623Z"
   },
   {
    "duration": 14,
    "start_time": "2022-12-03T14:43:46.435Z"
   },
   {
    "duration": 703,
    "start_time": "2022-12-03T14:55:41.387Z"
   },
   {
    "duration": 6,
    "start_time": "2022-12-03T14:55:57.700Z"
   },
   {
    "duration": 138,
    "start_time": "2022-12-03T14:55:57.708Z"
   },
   {
    "duration": 127,
    "start_time": "2022-12-03T14:55:57.848Z"
   },
   {
    "duration": 123,
    "start_time": "2022-12-03T14:55:57.977Z"
   },
   {
    "duration": 33,
    "start_time": "2022-12-03T14:55:58.102Z"
   },
   {
    "duration": 20,
    "start_time": "2022-12-03T14:55:58.136Z"
   },
   {
    "duration": 92,
    "start_time": "2022-12-03T14:55:58.157Z"
   },
   {
    "duration": 8,
    "start_time": "2022-12-03T14:57:50.176Z"
   },
   {
    "duration": 5,
    "start_time": "2022-12-03T14:58:10.647Z"
   },
   {
    "duration": 13,
    "start_time": "2022-12-03T14:58:24.137Z"
   },
   {
    "duration": 13,
    "start_time": "2022-12-03T14:59:57.414Z"
   },
   {
    "duration": 14,
    "start_time": "2022-12-03T15:01:00.555Z"
   },
   {
    "duration": 19,
    "start_time": "2022-12-03T15:01:21.395Z"
   },
   {
    "duration": 16,
    "start_time": "2022-12-03T15:01:51.466Z"
   },
   {
    "duration": 13,
    "start_time": "2022-12-03T15:02:41.799Z"
   },
   {
    "duration": 13,
    "start_time": "2022-12-03T15:03:35.444Z"
   },
   {
    "duration": 17,
    "start_time": "2022-12-03T15:05:02.838Z"
   },
   {
    "duration": 13,
    "start_time": "2022-12-03T15:07:40.121Z"
   },
   {
    "duration": 8,
    "start_time": "2022-12-03T15:08:35.522Z"
   },
   {
    "duration": 9,
    "start_time": "2022-12-03T15:09:03.341Z"
   },
   {
    "duration": 14,
    "start_time": "2022-12-03T15:09:22.704Z"
   },
   {
    "duration": 17,
    "start_time": "2022-12-03T15:09:56.311Z"
   },
   {
    "duration": 15,
    "start_time": "2022-12-03T15:10:28.094Z"
   },
   {
    "duration": 7,
    "start_time": "2022-12-03T15:12:12.908Z"
   },
   {
    "duration": 7,
    "start_time": "2022-12-03T15:12:49.448Z"
   },
   {
    "duration": 7,
    "start_time": "2022-12-03T15:13:03.163Z"
   },
   {
    "duration": 11,
    "start_time": "2022-12-03T15:13:15.894Z"
   },
   {
    "duration": 11,
    "start_time": "2022-12-03T15:13:22.127Z"
   },
   {
    "duration": 12,
    "start_time": "2022-12-03T15:13:31.150Z"
   },
   {
    "duration": 13,
    "start_time": "2022-12-03T15:13:45.156Z"
   },
   {
    "duration": 11,
    "start_time": "2022-12-03T15:13:58.163Z"
   },
   {
    "duration": 16,
    "start_time": "2022-12-03T15:14:15.510Z"
   },
   {
    "duration": 14,
    "start_time": "2022-12-03T15:14:25.378Z"
   },
   {
    "duration": 9,
    "start_time": "2022-12-03T15:14:30.810Z"
   },
   {
    "duration": 5,
    "start_time": "2022-12-03T15:14:47.481Z"
   },
   {
    "duration": 204,
    "start_time": "2022-12-03T15:14:47.488Z"
   },
   {
    "duration": 150,
    "start_time": "2022-12-03T15:14:47.694Z"
   },
   {
    "duration": 147,
    "start_time": "2022-12-03T15:14:47.846Z"
   },
   {
    "duration": 46,
    "start_time": "2022-12-03T15:14:48.006Z"
   },
   {
    "duration": 19,
    "start_time": "2022-12-03T15:14:48.053Z"
   },
   {
    "duration": 60,
    "start_time": "2022-12-03T15:14:48.073Z"
   },
   {
    "duration": 26,
    "start_time": "2022-12-03T15:14:48.134Z"
   },
   {
    "duration": 44,
    "start_time": "2022-12-03T15:14:48.162Z"
   },
   {
    "duration": 339,
    "start_time": "2022-12-03T15:14:48.208Z"
   },
   {
    "duration": 8,
    "start_time": "2022-12-03T15:17:26.678Z"
   },
   {
    "duration": 9,
    "start_time": "2022-12-03T15:17:42.259Z"
   },
   {
    "duration": 9,
    "start_time": "2022-12-03T15:18:01.160Z"
   },
   {
    "duration": 7,
    "start_time": "2022-12-03T15:18:04.334Z"
   },
   {
    "duration": 8,
    "start_time": "2022-12-03T15:18:05.149Z"
   },
   {
    "duration": 6,
    "start_time": "2022-12-03T15:18:15.602Z"
   },
   {
    "duration": 13,
    "start_time": "2022-12-03T15:18:59.800Z"
   },
   {
    "duration": 4,
    "start_time": "2022-12-03T15:19:53.812Z"
   },
   {
    "duration": 153,
    "start_time": "2022-12-03T15:19:53.822Z"
   },
   {
    "duration": 134,
    "start_time": "2022-12-03T15:19:53.977Z"
   },
   {
    "duration": 136,
    "start_time": "2022-12-03T15:19:54.113Z"
   },
   {
    "duration": 48,
    "start_time": "2022-12-03T15:19:54.251Z"
   },
   {
    "duration": 22,
    "start_time": "2022-12-03T15:19:54.301Z"
   },
   {
    "duration": 11,
    "start_time": "2022-12-03T15:19:54.325Z"
   },
   {
    "duration": 13,
    "start_time": "2022-12-03T15:19:54.339Z"
   },
   {
    "duration": 12,
    "start_time": "2022-12-03T15:19:54.354Z"
   },
   {
    "duration": 36,
    "start_time": "2022-12-03T15:19:54.368Z"
   },
   {
    "duration": 25,
    "start_time": "2022-12-03T15:26:52.325Z"
   },
   {
    "duration": 25,
    "start_time": "2022-12-03T15:28:39.531Z"
   },
   {
    "duration": 21,
    "start_time": "2022-12-03T15:29:07.252Z"
   },
   {
    "duration": 1529,
    "start_time": "2022-12-04T10:55:33.473Z"
   },
   {
    "duration": 223,
    "start_time": "2022-12-04T10:55:35.004Z"
   },
   {
    "duration": 203,
    "start_time": "2022-12-04T10:55:35.229Z"
   },
   {
    "duration": 202,
    "start_time": "2022-12-04T10:55:35.434Z"
   },
   {
    "duration": 37,
    "start_time": "2022-12-04T10:55:35.637Z"
   },
   {
    "duration": 20,
    "start_time": "2022-12-04T10:55:35.675Z"
   },
   {
    "duration": 11,
    "start_time": "2022-12-04T10:55:35.697Z"
   },
   {
    "duration": 43,
    "start_time": "2022-12-04T10:55:35.709Z"
   },
   {
    "duration": 4,
    "start_time": "2022-12-04T11:03:37.923Z"
   },
   {
    "duration": 157,
    "start_time": "2022-12-04T11:03:37.928Z"
   },
   {
    "duration": 124,
    "start_time": "2022-12-04T11:03:38.087Z"
   },
   {
    "duration": 129,
    "start_time": "2022-12-04T11:03:38.212Z"
   },
   {
    "duration": 37,
    "start_time": "2022-12-04T11:03:38.342Z"
   },
   {
    "duration": 20,
    "start_time": "2022-12-04T11:03:38.381Z"
   },
   {
    "duration": 10,
    "start_time": "2022-12-04T11:03:38.402Z"
   },
   {
    "duration": 13,
    "start_time": "2022-12-04T11:03:38.414Z"
   },
   {
    "duration": 140,
    "start_time": "2022-12-04T11:03:38.428Z"
   },
   {
    "duration": 0,
    "start_time": "2022-12-04T11:03:38.570Z"
   },
   {
    "duration": 4,
    "start_time": "2022-12-04T11:20:43.328Z"
   },
   {
    "duration": 144,
    "start_time": "2022-12-04T11:20:43.334Z"
   },
   {
    "duration": 128,
    "start_time": "2022-12-04T11:20:43.480Z"
   },
   {
    "duration": 150,
    "start_time": "2022-12-04T11:20:43.610Z"
   },
   {
    "duration": 37,
    "start_time": "2022-12-04T11:20:43.762Z"
   },
   {
    "duration": 20,
    "start_time": "2022-12-04T11:20:43.800Z"
   },
   {
    "duration": 11,
    "start_time": "2022-12-04T11:20:43.822Z"
   },
   {
    "duration": 25,
    "start_time": "2022-12-04T11:20:43.854Z"
   },
   {
    "duration": 15,
    "start_time": "2022-12-04T11:20:43.881Z"
   },
   {
    "duration": 261,
    "start_time": "2022-12-04T11:20:43.897Z"
   },
   {
    "duration": 4,
    "start_time": "2022-12-04T11:28:20.797Z"
   },
   {
    "duration": 148,
    "start_time": "2022-12-04T11:28:20.803Z"
   },
   {
    "duration": 146,
    "start_time": "2022-12-04T11:28:20.954Z"
   },
   {
    "duration": 128,
    "start_time": "2022-12-04T11:28:21.102Z"
   },
   {
    "duration": 52,
    "start_time": "2022-12-04T11:28:21.232Z"
   },
   {
    "duration": 22,
    "start_time": "2022-12-04T11:28:21.286Z"
   },
   {
    "duration": 10,
    "start_time": "2022-12-04T11:28:21.310Z"
   },
   {
    "duration": 51,
    "start_time": "2022-12-04T11:28:21.321Z"
   },
   {
    "duration": 14,
    "start_time": "2022-12-04T11:28:21.374Z"
   },
   {
    "duration": 172,
    "start_time": "2022-12-04T11:28:21.390Z"
   },
   {
    "duration": 94,
    "start_time": "2022-12-04T11:28:21.564Z"
   },
   {
    "duration": 9,
    "start_time": "2022-12-04T11:30:14.777Z"
   },
   {
    "duration": 5,
    "start_time": "2022-12-04T11:30:56.415Z"
   },
   {
    "duration": 172,
    "start_time": "2022-12-04T11:30:56.423Z"
   },
   {
    "duration": 135,
    "start_time": "2022-12-04T11:30:56.597Z"
   },
   {
    "duration": 123,
    "start_time": "2022-12-04T11:30:56.734Z"
   },
   {
    "duration": 36,
    "start_time": "2022-12-04T11:30:56.858Z"
   },
   {
    "duration": 21,
    "start_time": "2022-12-04T11:30:56.896Z"
   },
   {
    "duration": 9,
    "start_time": "2022-12-04T11:30:56.918Z"
   },
   {
    "duration": 43,
    "start_time": "2022-12-04T11:30:56.956Z"
   },
   {
    "duration": 16,
    "start_time": "2022-12-04T11:30:57.001Z"
   },
   {
    "duration": 134,
    "start_time": "2022-12-04T11:30:57.021Z"
   },
   {
    "duration": 109,
    "start_time": "2022-12-04T11:30:57.157Z"
   },
   {
    "duration": 4,
    "start_time": "2022-12-04T11:33:39.482Z"
   },
   {
    "duration": 136,
    "start_time": "2022-12-04T11:33:39.488Z"
   },
   {
    "duration": 120,
    "start_time": "2022-12-04T11:33:39.625Z"
   },
   {
    "duration": 124,
    "start_time": "2022-12-04T11:33:39.746Z"
   },
   {
    "duration": 34,
    "start_time": "2022-12-04T11:33:39.872Z"
   },
   {
    "duration": 19,
    "start_time": "2022-12-04T11:33:39.908Z"
   },
   {
    "duration": 32,
    "start_time": "2022-12-04T11:33:39.929Z"
   },
   {
    "duration": 23,
    "start_time": "2022-12-04T11:33:39.962Z"
   },
   {
    "duration": 10,
    "start_time": "2022-12-04T11:33:39.987Z"
   },
   {
    "duration": 166,
    "start_time": "2022-12-04T11:33:39.998Z"
   },
   {
    "duration": 102,
    "start_time": "2022-12-04T11:33:40.256Z"
   },
   {
    "duration": 4,
    "start_time": "2022-12-04T11:50:59.639Z"
   },
   {
    "duration": 136,
    "start_time": "2022-12-04T11:50:59.645Z"
   },
   {
    "duration": 128,
    "start_time": "2022-12-04T11:50:59.782Z"
   },
   {
    "duration": 127,
    "start_time": "2022-12-04T11:50:59.911Z"
   },
   {
    "duration": 40,
    "start_time": "2022-12-04T11:51:00.041Z"
   },
   {
    "duration": 21,
    "start_time": "2022-12-04T11:51:00.083Z"
   },
   {
    "duration": 8,
    "start_time": "2022-12-04T11:51:00.105Z"
   },
   {
    "duration": 44,
    "start_time": "2022-12-04T11:51:00.115Z"
   },
   {
    "duration": 12,
    "start_time": "2022-12-04T11:51:00.161Z"
   },
   {
    "duration": 91,
    "start_time": "2022-12-04T11:51:00.175Z"
   },
   {
    "duration": 186,
    "start_time": "2022-12-04T11:51:00.268Z"
   },
   {
    "duration": 46,
    "start_time": "2022-12-04T12:58:39.720Z"
   },
   {
    "duration": 4,
    "start_time": "2022-12-04T12:58:54.578Z"
   },
   {
    "duration": 9,
    "start_time": "2022-12-05T15:29:07.880Z"
   },
   {
    "duration": 1610,
    "start_time": "2022-12-05T15:29:18.656Z"
   },
   {
    "duration": 601,
    "start_time": "2022-12-05T15:29:20.268Z"
   },
   {
    "duration": 537,
    "start_time": "2022-12-05T15:29:20.870Z"
   },
   {
    "duration": 547,
    "start_time": "2022-12-05T15:29:21.409Z"
   },
   {
    "duration": 39,
    "start_time": "2022-12-05T15:29:21.958Z"
   },
   {
    "duration": 22,
    "start_time": "2022-12-05T15:29:21.999Z"
   },
   {
    "duration": 32,
    "start_time": "2022-12-05T15:29:22.022Z"
   },
   {
    "duration": 28,
    "start_time": "2022-12-05T15:29:22.056Z"
   },
   {
    "duration": 14,
    "start_time": "2022-12-05T15:29:22.086Z"
   },
   {
    "duration": 257,
    "start_time": "2022-12-05T15:29:22.102Z"
   },
   {
    "duration": 98,
    "start_time": "2022-12-05T15:29:22.363Z"
   },
   {
    "duration": 94,
    "start_time": "2022-12-05T15:29:22.464Z"
   },
   {
    "duration": 3,
    "start_time": "2022-12-05T15:30:33.058Z"
   },
   {
    "duration": 4,
    "start_time": "2022-12-05T15:59:32.748Z"
   },
   {
    "duration": 3,
    "start_time": "2022-12-05T15:59:38.903Z"
   },
   {
    "duration": 5,
    "start_time": "2022-12-05T16:02:36.988Z"
   },
   {
    "duration": 5,
    "start_time": "2022-12-05T16:03:33.874Z"
   },
   {
    "duration": 5,
    "start_time": "2022-12-05T16:04:02.689Z"
   },
   {
    "duration": 5,
    "start_time": "2022-12-05T16:04:04.770Z"
   },
   {
    "duration": 3,
    "start_time": "2022-12-05T16:11:26.456Z"
   },
   {
    "duration": 5,
    "start_time": "2022-12-05T16:11:29.282Z"
   },
   {
    "duration": 5,
    "start_time": "2022-12-05T16:11:29.368Z"
   },
   {
    "duration": 5,
    "start_time": "2022-12-05T16:11:29.945Z"
   },
   {
    "duration": 3,
    "start_time": "2022-12-05T17:37:31.926Z"
   },
   {
    "duration": 7,
    "start_time": "2022-12-05T17:39:45.378Z"
   },
   {
    "duration": 180,
    "start_time": "2022-12-05T17:41:06.199Z"
   },
   {
    "duration": 55,
    "start_time": "2022-12-06T16:07:06.673Z"
   },
   {
    "duration": 1986,
    "start_time": "2022-12-06T16:07:13.451Z"
   },
   {
    "duration": 328,
    "start_time": "2022-12-06T16:07:15.439Z"
   },
   {
    "duration": 284,
    "start_time": "2022-12-06T16:07:15.768Z"
   },
   {
    "duration": 309,
    "start_time": "2022-12-06T16:07:16.054Z"
   },
   {
    "duration": 48,
    "start_time": "2022-12-06T16:07:16.365Z"
   },
   {
    "duration": 24,
    "start_time": "2022-12-06T16:07:16.415Z"
   },
   {
    "duration": 38,
    "start_time": "2022-12-06T16:07:16.440Z"
   },
   {
    "duration": 36,
    "start_time": "2022-12-06T16:07:16.480Z"
   },
   {
    "duration": 13,
    "start_time": "2022-12-06T16:07:16.519Z"
   },
   {
    "duration": 248,
    "start_time": "2022-12-06T16:07:16.535Z"
   },
   {
    "duration": 42,
    "start_time": "2022-12-06T16:07:16.854Z"
   },
   {
    "duration": 58,
    "start_time": "2022-12-06T16:07:16.899Z"
   },
   {
    "duration": 35,
    "start_time": "2022-12-06T16:07:16.962Z"
   },
   {
    "duration": 10,
    "start_time": "2022-12-06T16:07:16.999Z"
   },
   {
    "duration": 7,
    "start_time": "2022-12-06T16:07:17.011Z"
   },
   {
    "duration": 11,
    "start_time": "2022-12-06T16:07:17.019Z"
   },
   {
    "duration": 103,
    "start_time": "2022-12-06T16:07:17.032Z"
   },
   {
    "duration": 5,
    "start_time": "2022-12-06T16:08:25.808Z"
   },
   {
    "duration": 9,
    "start_time": "2022-12-06T16:10:25.613Z"
   },
   {
    "duration": 3,
    "start_time": "2022-12-06T16:10:36.237Z"
   },
   {
    "duration": 18,
    "start_time": "2022-12-06T16:10:53.854Z"
   },
   {
    "duration": 16,
    "start_time": "2022-12-06T16:11:10.741Z"
   },
   {
    "duration": 38,
    "start_time": "2022-12-06T16:13:48.836Z"
   },
   {
    "duration": 1518,
    "start_time": "2022-12-06T16:14:40.074Z"
   },
   {
    "duration": 4,
    "start_time": "2022-12-06T16:20:02.704Z"
   },
   {
    "duration": 185,
    "start_time": "2022-12-06T16:20:02.710Z"
   },
   {
    "duration": 154,
    "start_time": "2022-12-06T16:20:02.897Z"
   },
   {
    "duration": 149,
    "start_time": "2022-12-06T16:20:03.053Z"
   },
   {
    "duration": 52,
    "start_time": "2022-12-06T16:20:03.204Z"
   },
   {
    "duration": 30,
    "start_time": "2022-12-06T16:20:03.258Z"
   },
   {
    "duration": 13,
    "start_time": "2022-12-06T16:20:03.290Z"
   },
   {
    "duration": 34,
    "start_time": "2022-12-06T16:20:03.305Z"
   },
   {
    "duration": 33,
    "start_time": "2022-12-06T16:20:03.340Z"
   },
   {
    "duration": 195,
    "start_time": "2022-12-06T16:20:03.376Z"
   },
   {
    "duration": 90,
    "start_time": "2022-12-06T16:20:03.579Z"
   },
   {
    "duration": 116,
    "start_time": "2022-12-06T16:20:03.672Z"
   },
   {
    "duration": 11,
    "start_time": "2022-12-06T16:20:03.791Z"
   },
   {
    "duration": 19,
    "start_time": "2022-12-06T16:20:03.803Z"
   },
   {
    "duration": 8,
    "start_time": "2022-12-06T16:20:03.825Z"
   },
   {
    "duration": 7,
    "start_time": "2022-12-06T16:20:03.835Z"
   },
   {
    "duration": 1645,
    "start_time": "2022-12-06T16:20:03.844Z"
   },
   {
    "duration": 5,
    "start_time": "2022-12-06T16:20:44.894Z"
   },
   {
    "duration": 221,
    "start_time": "2022-12-06T16:20:44.902Z"
   },
   {
    "duration": 143,
    "start_time": "2022-12-06T16:20:45.125Z"
   },
   {
    "duration": 135,
    "start_time": "2022-12-06T16:20:45.270Z"
   },
   {
    "duration": 75,
    "start_time": "2022-12-06T16:20:45.407Z"
   },
   {
    "duration": 29,
    "start_time": "2022-12-06T16:20:45.485Z"
   },
   {
    "duration": 20,
    "start_time": "2022-12-06T16:20:45.516Z"
   },
   {
    "duration": 45,
    "start_time": "2022-12-06T16:20:45.539Z"
   },
   {
    "duration": 15,
    "start_time": "2022-12-06T16:20:45.589Z"
   },
   {
    "duration": 155,
    "start_time": "2022-12-06T16:20:45.608Z"
   },
   {
    "duration": 90,
    "start_time": "2022-12-06T16:20:45.768Z"
   },
   {
    "duration": 113,
    "start_time": "2022-12-06T16:20:45.863Z"
   },
   {
    "duration": 19,
    "start_time": "2022-12-06T16:20:45.979Z"
   },
   {
    "duration": 32,
    "start_time": "2022-12-06T16:20:46.000Z"
   },
   {
    "duration": 27,
    "start_time": "2022-12-06T16:20:46.034Z"
   },
   {
    "duration": 37,
    "start_time": "2022-12-06T16:20:46.062Z"
   },
   {
    "duration": 1495,
    "start_time": "2022-12-06T16:20:46.101Z"
   },
   {
    "duration": 1440,
    "start_time": "2022-12-06T16:32:15.965Z"
   },
   {
    "duration": 1501,
    "start_time": "2022-12-06T16:34:46.312Z"
   },
   {
    "duration": 1539,
    "start_time": "2022-12-06T16:39:22.220Z"
   },
   {
    "duration": 1405,
    "start_time": "2022-12-06T16:42:02.105Z"
   },
   {
    "duration": 4,
    "start_time": "2022-12-06T16:42:56.662Z"
   },
   {
    "duration": 4,
    "start_time": "2022-12-06T16:43:16.039Z"
   },
   {
    "duration": 3,
    "start_time": "2022-12-06T16:43:30.128Z"
   },
   {
    "duration": 4,
    "start_time": "2022-12-06T16:43:37.303Z"
   },
   {
    "duration": 3,
    "start_time": "2022-12-06T16:43:45.671Z"
   },
   {
    "duration": 3,
    "start_time": "2022-12-06T17:07:52.500Z"
   },
   {
    "duration": 1430,
    "start_time": "2022-12-06T17:08:50.617Z"
   },
   {
    "duration": 1389,
    "start_time": "2022-12-06T17:15:21.695Z"
   },
   {
    "duration": 1495,
    "start_time": "2022-12-06T17:16:13.666Z"
   },
   {
    "duration": 3,
    "start_time": "2022-12-06T17:17:06.873Z"
   },
   {
    "duration": 1383,
    "start_time": "2022-12-06T17:18:01.400Z"
   },
   {
    "duration": 1374,
    "start_time": "2022-12-06T17:22:52.601Z"
   },
   {
    "duration": 1374,
    "start_time": "2022-12-06T17:24:23.027Z"
   },
   {
    "duration": 44,
    "start_time": "2022-12-06T17:25:09.321Z"
   },
   {
    "duration": 1369,
    "start_time": "2022-12-06T17:25:16.249Z"
   },
   {
    "duration": 1424,
    "start_time": "2022-12-06T17:26:04.305Z"
   },
   {
    "duration": 1437,
    "start_time": "2022-12-06T17:26:46.576Z"
   },
   {
    "duration": 3,
    "start_time": "2022-12-06T17:39:50.766Z"
   },
   {
    "duration": 3,
    "start_time": "2022-12-06T17:39:53.821Z"
   },
   {
    "duration": 159,
    "start_time": "2022-12-06T17:39:53.826Z"
   },
   {
    "duration": 132,
    "start_time": "2022-12-06T17:39:53.987Z"
   },
   {
    "duration": 140,
    "start_time": "2022-12-06T17:39:54.120Z"
   },
   {
    "duration": 39,
    "start_time": "2022-12-06T17:39:54.261Z"
   },
   {
    "duration": 20,
    "start_time": "2022-12-06T17:39:54.302Z"
   },
   {
    "duration": 9,
    "start_time": "2022-12-06T17:39:54.323Z"
   },
   {
    "duration": 30,
    "start_time": "2022-12-06T17:39:54.358Z"
   },
   {
    "duration": 12,
    "start_time": "2022-12-06T17:39:54.391Z"
   },
   {
    "duration": 72,
    "start_time": "2022-12-06T17:39:54.404Z"
   },
   {
    "duration": 107,
    "start_time": "2022-12-06T17:39:54.554Z"
   },
   {
    "duration": 5,
    "start_time": "2022-12-06T17:39:54.672Z"
   },
   {
    "duration": 8,
    "start_time": "2022-12-06T17:39:54.679Z"
   },
   {
    "duration": 18,
    "start_time": "2022-12-06T17:39:54.689Z"
   },
   {
    "duration": 12,
    "start_time": "2022-12-06T17:39:54.709Z"
   },
   {
    "duration": 1405,
    "start_time": "2022-12-06T17:39:54.724Z"
   },
   {
    "duration": 1438,
    "start_time": "2022-12-06T17:39:56.131Z"
   },
   {
    "duration": 1383,
    "start_time": "2022-12-06T17:39:57.571Z"
   },
   {
    "duration": 3261,
    "start_time": "2022-12-07T12:01:03.756Z"
   },
   {
    "duration": 1231,
    "start_time": "2022-12-07T12:01:39.627Z"
   },
   {
    "duration": 116,
    "start_time": "2022-12-07T12:03:01.294Z"
   },
   {
    "duration": 2482,
    "start_time": "2022-12-07T12:03:07.208Z"
   },
   {
    "duration": 3,
    "start_time": "2022-12-07T12:03:09.694Z"
   },
   {
    "duration": 323,
    "start_time": "2022-12-07T12:03:09.700Z"
   },
   {
    "duration": 234,
    "start_time": "2022-12-07T12:03:10.025Z"
   },
   {
    "duration": 227,
    "start_time": "2022-12-07T12:03:10.261Z"
   },
   {
    "duration": 51,
    "start_time": "2022-12-07T12:03:10.490Z"
   },
   {
    "duration": 37,
    "start_time": "2022-12-07T12:03:10.544Z"
   },
   {
    "duration": 206721,
    "start_time": "2022-12-07T12:03:10.584Z"
   },
   {
    "duration": 10,
    "start_time": "2022-12-07T12:06:37.307Z"
   },
   {
    "duration": 38,
    "start_time": "2022-12-07T12:06:37.319Z"
   },
   {
    "duration": 28,
    "start_time": "2022-12-07T12:06:37.359Z"
   },
   {
    "duration": 285,
    "start_time": "2022-12-07T12:06:37.393Z"
   },
   {
    "duration": 18,
    "start_time": "2022-12-07T12:06:37.681Z"
   },
   {
    "duration": 96,
    "start_time": "2022-12-07T12:06:37.704Z"
   },
   {
    "duration": 8,
    "start_time": "2022-12-07T12:06:37.802Z"
   },
   {
    "duration": 10,
    "start_time": "2022-12-07T12:06:37.812Z"
   },
   {
    "duration": 7,
    "start_time": "2022-12-07T12:06:37.824Z"
   },
   {
    "duration": 1664,
    "start_time": "2022-12-07T12:06:37.833Z"
   },
   {
    "duration": 1671,
    "start_time": "2022-12-07T12:06:39.499Z"
   },
   {
    "duration": 1631,
    "start_time": "2022-12-07T12:06:41.181Z"
   },
   {
    "duration": 17,
    "start_time": "2022-12-07T12:10:18.994Z"
   },
   {
    "duration": 38,
    "start_time": "2022-12-07T12:10:40.305Z"
   },
   {
    "duration": 2106,
    "start_time": "2022-12-07T12:11:22.967Z"
   },
   {
    "duration": 3,
    "start_time": "2022-12-07T12:11:25.076Z"
   },
   {
    "duration": 154,
    "start_time": "2022-12-07T12:11:25.081Z"
   },
   {
    "duration": 147,
    "start_time": "2022-12-07T12:11:25.238Z"
   },
   {
    "duration": 134,
    "start_time": "2022-12-07T12:11:25.388Z"
   },
   {
    "duration": 39,
    "start_time": "2022-12-07T12:11:25.524Z"
   },
   {
    "duration": 31,
    "start_time": "2022-12-07T12:11:25.565Z"
   },
   {
    "duration": 190901,
    "start_time": "2022-12-07T12:11:25.598Z"
   },
   {
    "duration": 230992,
    "start_time": "2022-12-07T12:14:36.500Z"
   },
   {
    "duration": 213826,
    "start_time": "2022-12-07T12:18:27.494Z"
   },
   {
    "duration": 36,
    "start_time": "2022-12-07T12:22:01.322Z"
   },
   {
    "duration": 59,
    "start_time": "2022-12-07T12:22:01.360Z"
   },
   {
    "duration": 37,
    "start_time": "2022-12-07T12:22:01.420Z"
   },
   {
    "duration": 17,
    "start_time": "2022-12-07T12:22:01.460Z"
   },
   {
    "duration": 45,
    "start_time": "2022-12-07T12:22:01.479Z"
   },
   {
    "duration": 13,
    "start_time": "2022-12-07T12:22:01.526Z"
   },
   {
    "duration": 252,
    "start_time": "2022-12-07T12:22:01.541Z"
   },
   {
    "duration": 100,
    "start_time": "2022-12-07T12:22:01.796Z"
   },
   {
    "duration": 115,
    "start_time": "2022-12-07T12:22:01.899Z"
   },
   {
    "duration": 33,
    "start_time": "2022-12-07T12:22:02.016Z"
   },
   {
    "duration": 13,
    "start_time": "2022-12-07T12:22:02.051Z"
   },
   {
    "duration": 28,
    "start_time": "2022-12-07T12:22:02.066Z"
   },
   {
    "duration": 1456,
    "start_time": "2022-12-07T12:22:02.096Z"
   },
   {
    "duration": 1440,
    "start_time": "2022-12-07T12:22:03.554Z"
   },
   {
    "duration": 1467,
    "start_time": "2022-12-07T12:22:04.997Z"
   },
   {
    "duration": 4,
    "start_time": "2022-12-07T13:07:41.797Z"
   },
   {
    "duration": 3,
    "start_time": "2022-12-07T13:10:50.753Z"
   },
   {
    "duration": 4,
    "start_time": "2022-12-07T13:12:05.958Z"
   },
   {
    "duration": 5,
    "start_time": "2022-12-07T13:12:16.346Z"
   },
   {
    "duration": 3,
    "start_time": "2022-12-07T13:12:26.104Z"
   },
   {
    "duration": 56,
    "start_time": "2022-12-07T13:15:10.845Z"
   },
   {
    "duration": 6,
    "start_time": "2022-12-07T13:16:01.586Z"
   },
   {
    "duration": 7,
    "start_time": "2022-12-07T13:17:13.897Z"
   },
   {
    "duration": 2295,
    "start_time": "2022-12-07T13:23:26.053Z"
   },
   {
    "duration": 4,
    "start_time": "2022-12-07T13:23:28.350Z"
   },
   {
    "duration": 19,
    "start_time": "2022-12-07T13:23:28.356Z"
   },
   {
    "duration": 189,
    "start_time": "2022-12-07T13:23:28.377Z"
   },
   {
    "duration": 172,
    "start_time": "2022-12-07T13:23:28.568Z"
   },
   {
    "duration": 140,
    "start_time": "2022-12-07T13:23:28.742Z"
   },
   {
    "duration": 38,
    "start_time": "2022-12-07T13:23:28.884Z"
   },
   {
    "duration": 22,
    "start_time": "2022-12-07T13:23:28.924Z"
   },
   {
    "duration": 197108,
    "start_time": "2022-12-07T13:23:28.948Z"
   },
   {
    "duration": 231164,
    "start_time": "2022-12-07T13:26:46.058Z"
   },
   {
    "duration": 208064,
    "start_time": "2022-12-07T13:30:37.224Z"
   },
   {
    "duration": 36,
    "start_time": "2022-12-07T13:34:05.290Z"
   },
   {
    "duration": 50,
    "start_time": "2022-12-07T13:34:05.328Z"
   },
   {
    "duration": 39,
    "start_time": "2022-12-07T13:34:05.380Z"
   },
   {
    "duration": 8,
    "start_time": "2022-12-07T13:34:05.421Z"
   },
   {
    "duration": 51,
    "start_time": "2022-12-07T13:34:05.431Z"
   },
   {
    "duration": 14,
    "start_time": "2022-12-07T13:34:05.484Z"
   },
   {
    "duration": 379,
    "start_time": "2022-12-07T13:34:05.499Z"
   },
   {
    "duration": 98,
    "start_time": "2022-12-07T13:34:05.881Z"
   },
   {
    "duration": 12,
    "start_time": "2022-12-07T13:34:05.981Z"
   },
   {
    "duration": 11,
    "start_time": "2022-12-07T13:34:05.995Z"
   },
   {
    "duration": 1393,
    "start_time": "2022-12-07T13:34:06.008Z"
   },
   {
    "duration": 1539,
    "start_time": "2022-12-07T13:34:07.403Z"
   },
   {
    "duration": 1467,
    "start_time": "2022-12-07T13:34:08.944Z"
   },
   {
    "duration": 2200,
    "start_time": "2022-12-07T13:39:10.981Z"
   },
   {
    "duration": 4,
    "start_time": "2022-12-07T13:39:13.183Z"
   },
   {
    "duration": 11,
    "start_time": "2022-12-07T13:39:13.189Z"
   },
   {
    "duration": 165,
    "start_time": "2022-12-07T13:39:13.202Z"
   },
   {
    "duration": 131,
    "start_time": "2022-12-07T13:39:13.370Z"
   },
   {
    "duration": 134,
    "start_time": "2022-12-07T13:39:13.502Z"
   },
   {
    "duration": 41,
    "start_time": "2022-12-07T13:39:13.637Z"
   },
   {
    "duration": 21,
    "start_time": "2022-12-07T13:39:13.680Z"
   },
   {
    "duration": 39,
    "start_time": "2022-12-07T13:39:13.703Z"
   },
   {
    "duration": 60,
    "start_time": "2022-12-07T13:39:13.743Z"
   },
   {
    "duration": 36,
    "start_time": "2022-12-07T13:39:13.805Z"
   },
   {
    "duration": 9,
    "start_time": "2022-12-07T13:39:13.843Z"
   },
   {
    "duration": 50,
    "start_time": "2022-12-07T13:39:13.853Z"
   },
   {
    "duration": 20,
    "start_time": "2022-12-07T13:39:13.905Z"
   },
   {
    "duration": 254,
    "start_time": "2022-12-07T13:39:13.927Z"
   },
   {
    "duration": 99,
    "start_time": "2022-12-07T13:39:14.184Z"
   },
   {
    "duration": 4,
    "start_time": "2022-12-07T13:39:14.285Z"
   },
   {
    "duration": 97,
    "start_time": "2022-12-07T13:39:14.291Z"
   },
   {
    "duration": 1392,
    "start_time": "2022-12-07T13:39:14.390Z"
   },
   {
    "duration": 1452,
    "start_time": "2022-12-07T13:39:15.784Z"
   },
   {
    "duration": 1440,
    "start_time": "2022-12-07T13:39:17.237Z"
   },
   {
    "duration": 9,
    "start_time": "2022-12-07T14:37:06.899Z"
   },
   {
    "duration": 1380,
    "start_time": "2022-12-07T14:48:42.635Z"
   },
   {
    "duration": 16,
    "start_time": "2022-12-07T14:49:02.691Z"
   },
   {
    "duration": 14,
    "start_time": "2022-12-07T14:52:17.449Z"
   },
   {
    "duration": 24,
    "start_time": "2022-12-07T14:54:08.133Z"
   },
   {
    "duration": 1395,
    "start_time": "2022-12-07T14:59:52.516Z"
   },
   {
    "duration": 1586,
    "start_time": "2022-12-07T15:00:51.764Z"
   },
   {
    "duration": 1259,
    "start_time": "2022-12-07T15:05:13.247Z"
   },
   {
    "duration": 1257,
    "start_time": "2022-12-07T15:06:20.802Z"
   },
   {
    "duration": 1237,
    "start_time": "2022-12-07T15:07:19.639Z"
   },
   {
    "duration": 1254,
    "start_time": "2022-12-07T15:10:58.474Z"
   },
   {
    "duration": 51,
    "start_time": "2022-12-07T15:13:48.289Z"
   },
   {
    "duration": 1315,
    "start_time": "2022-12-07T15:14:07.732Z"
   },
   {
    "duration": 1324,
    "start_time": "2022-12-07T15:15:17.486Z"
   },
   {
    "duration": 1225,
    "start_time": "2022-12-07T15:15:39.370Z"
   },
   {
    "duration": 1212,
    "start_time": "2022-12-07T15:17:42.237Z"
   },
   {
    "duration": 1231,
    "start_time": "2022-12-07T15:18:41.748Z"
   },
   {
    "duration": 1234,
    "start_time": "2022-12-07T15:19:58.775Z"
   },
   {
    "duration": 1205,
    "start_time": "2022-12-07T15:22:28.706Z"
   },
   {
    "duration": 1238,
    "start_time": "2022-12-07T15:22:35.088Z"
   },
   {
    "duration": 5894,
    "start_time": "2022-12-07T15:28:05.817Z"
   },
   {
    "duration": 1270,
    "start_time": "2022-12-07T15:28:50.819Z"
   }
  ],
  "kernelspec": {
   "display_name": "Python 3 (ipykernel)",
   "language": "python",
   "name": "python3"
  },
  "language_info": {
   "codemirror_mode": {
    "name": "ipython",
    "version": 3
   },
   "file_extension": ".py",
   "mimetype": "text/x-python",
   "name": "python",
   "nbconvert_exporter": "python",
   "pygments_lexer": "ipython3",
   "version": "3.9.13"
  },
  "toc": {
   "base_numbering": 1,
   "nav_menu": {},
   "number_sections": true,
   "sideBar": true,
   "skip_h1_title": true,
   "title_cell": "Table of Contents",
   "title_sidebar": "Contents",
   "toc_cell": false,
   "toc_position": {
    "height": "calc(100% - 180px)",
    "left": "10px",
    "top": "150px",
    "width": "165px"
   },
   "toc_section_display": true,
   "toc_window_display": true
  }
 },
 "nbformat": 4,
 "nbformat_minor": 2
}
